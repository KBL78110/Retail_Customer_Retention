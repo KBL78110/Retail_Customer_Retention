{
 "cells": [
  {
   "cell_type": "code",
   "execution_count": null,
   "metadata": {},
   "outputs": [],
   "source": [
    "import pip\n",
    "pip.main(['install', 'pandas'])\n",
    "pip.main(['install', 'matplotlib'])\n",
    "pip.main(['install', 'seaborn'])\n",
    "pip.main(['install', 'scikit-learn'])"
   ]
  },
  {
   "cell_type": "markdown",
   "metadata": {},
   "source": [
    "CHARGEMENT DES BIBLIOTHEQUES"
   ]
  },
  {
   "cell_type": "code",
   "execution_count": 2,
   "metadata": {
    "ExecuteTime": {
     "end_time": "2024-05-04T14:15:13.036620Z",
     "start_time": "2024-05-04T14:15:08.238899Z"
    },
    "pycharm": {
     "is_executing": true
    },
    "tags": []
   },
   "outputs": [],
   "source": [
    "import pandas as pd\n",
    "import matplotlib.pyplot as plt\n",
    "import numpy as np\n",
    "import seaborn as sns\n",
    "\n",
    "from sklearn.linear_model import LogisticRegression\n",
    "from sklearn.model_selection import train_test_split\n",
    "from sklearn.datasets import make_classification\n",
    "from sklearn.metrics import roc_curve, auc\n",
    "from sklearn.metrics import accuracy_score, classification_report, confusion_matrix\n",
    "from sklearn.preprocessing import StandardScaler\n",
    "from sklearn.preprocessing import OneHotEncoder\n",
    "from sklearn.preprocessing import LabelEncoder\n"
   ]
  },
  {
   "cell_type": "markdown",
   "metadata": {},
   "source": [
    "CHARGEMENT DU JEU DE DONNEES"
   ]
  },
  {
   "cell_type": "code",
   "execution_count": 3,
   "metadata": {
    "ExecuteTime": {
     "end_time": "2024-05-04T14:15:25.183308Z",
     "start_time": "2024-05-04T14:15:20.603415Z"
    }
   },
   "outputs": [
    {
     "name": "stdout",
     "output_type": "stream",
     "text": [
      "(845876, 10)\n",
      "['IDCLIENT', 'CIVILITE', 'DATENAISSANCE', 'MAGASIN', 'DATEDEBUTADHESION', 'DATEREADHESION', 'DATEFINADHESION', 'VIP', 'CODEINSEE', 'PAYS']\n"
     ]
    }
   ],
   "source": [
    "dataset_path = \"C:\\\\Users\\\\belga\\\\OneDrive\\\\Bureau\\\\EMBA Big Data\\\\Module Datascience\\\\Projet Data Science S2 2024\\\\CLIENT.csv\"\n",
    "data1 = pd.read_csv(dataset_path, sep='|', low_memory=False)\n",
    "print(data1.shape)\n",
    "print(list(data1.columns))"
   ]
  },
  {
   "cell_type": "markdown",
   "metadata": {},
   "source": [
    "La ligne de code ci-dessous nous permet de connaître le détail des colonnes ainsi que le type de données constituant notre base (numérique ou caractères)."
   ]
  },
  {
   "cell_type": "code",
   "execution_count": 4,
   "metadata": {
    "ExecuteTime": {
     "end_time": "2024-05-04T14:15:31.772493Z",
     "start_time": "2024-05-04T14:15:31.756066Z"
    }
   },
   "outputs": [
    {
     "data": {
      "text/html": [
       "<div>\n",
       "<style scoped>\n",
       "    .dataframe tbody tr th:only-of-type {\n",
       "        vertical-align: middle;\n",
       "    }\n",
       "\n",
       "    .dataframe tbody tr th {\n",
       "        vertical-align: top;\n",
       "    }\n",
       "\n",
       "    .dataframe thead th {\n",
       "        text-align: right;\n",
       "    }\n",
       "</style>\n",
       "<table border=\"1\" class=\"dataframe\">\n",
       "  <thead>\n",
       "    <tr style=\"text-align: right;\">\n",
       "      <th></th>\n",
       "      <th>IDCLIENT</th>\n",
       "      <th>CIVILITE</th>\n",
       "      <th>DATENAISSANCE</th>\n",
       "      <th>MAGASIN</th>\n",
       "      <th>DATEDEBUTADHESION</th>\n",
       "      <th>DATEREADHESION</th>\n",
       "      <th>DATEFINADHESION</th>\n",
       "      <th>VIP</th>\n",
       "      <th>CODEINSEE</th>\n",
       "      <th>PAYS</th>\n",
       "    </tr>\n",
       "  </thead>\n",
       "  <tbody>\n",
       "    <tr>\n",
       "      <th>0</th>\n",
       "      <td>155891.0</td>\n",
       "      <td>MADAME</td>\n",
       "      <td>NaN</td>\n",
       "      <td>VLG</td>\n",
       "      <td>13/05/2005 0:00:00</td>\n",
       "      <td>4/04/2017 0:00:00</td>\n",
       "      <td>30/04/2018 0:00:00</td>\n",
       "      <td>0</td>\n",
       "      <td>74224</td>\n",
       "      <td>FR</td>\n",
       "    </tr>\n",
       "    <tr>\n",
       "      <th>1</th>\n",
       "      <td>156023.0</td>\n",
       "      <td>MONSIEUR</td>\n",
       "      <td>7/08/1966 0:00:00</td>\n",
       "      <td>VLG</td>\n",
       "      <td>14/05/2005 0:00:00</td>\n",
       "      <td>21/06/2014 0:00:00</td>\n",
       "      <td>30/06/2016 0:00:00</td>\n",
       "      <td>0</td>\n",
       "      <td>74189</td>\n",
       "      <td>FR</td>\n",
       "    </tr>\n",
       "    <tr>\n",
       "      <th>2</th>\n",
       "      <td>124203.0</td>\n",
       "      <td>MADAME</td>\n",
       "      <td>NaN</td>\n",
       "      <td>BEA</td>\n",
       "      <td>16/03/2005 0:00:00</td>\n",
       "      <td>12/10/2017 0:00:00</td>\n",
       "      <td>31/10/2018 0:00:00</td>\n",
       "      <td>0</td>\n",
       "      <td>63070</td>\n",
       "      <td>FR</td>\n",
       "    </tr>\n",
       "    <tr>\n",
       "      <th>3</th>\n",
       "      <td>156190.0</td>\n",
       "      <td>MADAME</td>\n",
       "      <td>24/07/1976 0:00:00</td>\n",
       "      <td>SUR</td>\n",
       "      <td>28/08/2006 0:00:00</td>\n",
       "      <td>24/05/2015 0:00:00</td>\n",
       "      <td>31/05/2016 0:00:00</td>\n",
       "      <td>0</td>\n",
       "      <td>92026</td>\n",
       "      <td>FR</td>\n",
       "    </tr>\n",
       "    <tr>\n",
       "      <th>4</th>\n",
       "      <td>144444.0</td>\n",
       "      <td>MONSIEUR</td>\n",
       "      <td>NaN</td>\n",
       "      <td>LAB</td>\n",
       "      <td>29/04/2006 0:00:00</td>\n",
       "      <td>18/12/2016 0:00:00</td>\n",
       "      <td>31/12/2017 0:00:00</td>\n",
       "      <td>0</td>\n",
       "      <td>31555</td>\n",
       "      <td>FR</td>\n",
       "    </tr>\n",
       "    <tr>\n",
       "      <th>...</th>\n",
       "      <td>...</td>\n",
       "      <td>...</td>\n",
       "      <td>...</td>\n",
       "      <td>...</td>\n",
       "      <td>...</td>\n",
       "      <td>...</td>\n",
       "      <td>...</td>\n",
       "      <td>...</td>\n",
       "      <td>...</td>\n",
       "      <td>...</td>\n",
       "    </tr>\n",
       "    <tr>\n",
       "      <th>845871</th>\n",
       "      <td>1970111.0</td>\n",
       "      <td>MONSIEUR</td>\n",
       "      <td>NaN</td>\n",
       "      <td>IAB</td>\n",
       "      <td>14/04/2011 0:00:00</td>\n",
       "      <td>6/01/2018 0:00:00</td>\n",
       "      <td>31/01/2019 0:00:00</td>\n",
       "      <td>0</td>\n",
       "      <td>38053</td>\n",
       "      <td>FR</td>\n",
       "    </tr>\n",
       "    <tr>\n",
       "      <th>845872</th>\n",
       "      <td>2297275.0</td>\n",
       "      <td>MONSIEUR</td>\n",
       "      <td>6/02/1988 0:00:00</td>\n",
       "      <td>SEM</td>\n",
       "      <td>7/03/2013 0:00:00</td>\n",
       "      <td>6/01/2018 0:00:00</td>\n",
       "      <td>31/01/2019 0:00:00</td>\n",
       "      <td>0</td>\n",
       "      <td>57067</td>\n",
       "      <td>FR</td>\n",
       "    </tr>\n",
       "    <tr>\n",
       "      <th>845873</th>\n",
       "      <td>2305548.0</td>\n",
       "      <td>MONSIEUR</td>\n",
       "      <td>NaN</td>\n",
       "      <td>PRI</td>\n",
       "      <td>22/03/2013 0:00:00</td>\n",
       "      <td>6/01/2018 0:00:00</td>\n",
       "      <td>31/01/2019 0:00:00</td>\n",
       "      <td>0</td>\n",
       "      <td>38318</td>\n",
       "      <td>FR</td>\n",
       "    </tr>\n",
       "    <tr>\n",
       "      <th>845874</th>\n",
       "      <td>84175.0</td>\n",
       "      <td>MADAME</td>\n",
       "      <td>7/04/1950 0:00:00</td>\n",
       "      <td>GAI</td>\n",
       "      <td>29/10/2002 0:00:00</td>\n",
       "      <td>7/01/2018 0:00:00</td>\n",
       "      <td>31/01/2019 0:00:00</td>\n",
       "      <td>0</td>\n",
       "      <td>74082</td>\n",
       "      <td>FR</td>\n",
       "    </tr>\n",
       "    <tr>\n",
       "      <th>845875</th>\n",
       "      <td>1280004.0</td>\n",
       "      <td>MONSIEUR</td>\n",
       "      <td>NaN</td>\n",
       "      <td>SGL</td>\n",
       "      <td>23/06/2007 0:00:00</td>\n",
       "      <td>7/01/2018 0:00:00</td>\n",
       "      <td>31/01/2019 0:00:00</td>\n",
       "      <td>0</td>\n",
       "      <td>42218</td>\n",
       "      <td>FR</td>\n",
       "    </tr>\n",
       "  </tbody>\n",
       "</table>\n",
       "<p>845876 rows × 10 columns</p>\n",
       "</div>"
      ],
      "text/plain": [
       "         IDCLIENT  CIVILITE       DATENAISSANCE MAGASIN   DATEDEBUTADHESION  \\\n",
       "0        155891.0    MADAME                 NaN     VLG  13/05/2005 0:00:00   \n",
       "1        156023.0  MONSIEUR   7/08/1966 0:00:00     VLG  14/05/2005 0:00:00   \n",
       "2        124203.0    MADAME                 NaN     BEA  16/03/2005 0:00:00   \n",
       "3        156190.0    MADAME  24/07/1976 0:00:00     SUR  28/08/2006 0:00:00   \n",
       "4        144444.0  MONSIEUR                 NaN     LAB  29/04/2006 0:00:00   \n",
       "...           ...       ...                 ...     ...                 ...   \n",
       "845871  1970111.0  MONSIEUR                 NaN     IAB  14/04/2011 0:00:00   \n",
       "845872  2297275.0  MONSIEUR   6/02/1988 0:00:00     SEM   7/03/2013 0:00:00   \n",
       "845873  2305548.0  MONSIEUR                 NaN     PRI  22/03/2013 0:00:00   \n",
       "845874    84175.0    MADAME   7/04/1950 0:00:00     GAI  29/10/2002 0:00:00   \n",
       "845875  1280004.0  MONSIEUR                 NaN     SGL  23/06/2007 0:00:00   \n",
       "\n",
       "            DATEREADHESION     DATEFINADHESION  VIP CODEINSEE PAYS  \n",
       "0        4/04/2017 0:00:00  30/04/2018 0:00:00    0     74224   FR  \n",
       "1       21/06/2014 0:00:00  30/06/2016 0:00:00    0     74189   FR  \n",
       "2       12/10/2017 0:00:00  31/10/2018 0:00:00    0     63070   FR  \n",
       "3       24/05/2015 0:00:00  31/05/2016 0:00:00    0     92026   FR  \n",
       "4       18/12/2016 0:00:00  31/12/2017 0:00:00    0     31555   FR  \n",
       "...                    ...                 ...  ...       ...  ...  \n",
       "845871   6/01/2018 0:00:00  31/01/2019 0:00:00    0     38053   FR  \n",
       "845872   6/01/2018 0:00:00  31/01/2019 0:00:00    0     57067   FR  \n",
       "845873   6/01/2018 0:00:00  31/01/2019 0:00:00    0     38318   FR  \n",
       "845874   7/01/2018 0:00:00  31/01/2019 0:00:00    0     74082   FR  \n",
       "845875   7/01/2018 0:00:00  31/01/2019 0:00:00    0     42218   FR  \n",
       "\n",
       "[845876 rows x 10 columns]"
      ]
     },
     "execution_count": 4,
     "metadata": {},
     "output_type": "execute_result"
    }
   ],
   "source": [
    "data1"
   ]
  },
  {
   "cell_type": "code",
   "execution_count": 5,
   "metadata": {
    "ExecuteTime": {
     "end_time": "2024-05-04T14:15:45.987414Z",
     "start_time": "2024-05-04T14:15:44.634638Z"
    }
   },
   "outputs": [
    {
     "name": "stdout",
     "output_type": "stream",
     "text": [
      "<class 'pandas.core.frame.DataFrame'>\n",
      "RangeIndex: 845876 entries, 0 to 845875\n",
      "Data columns (total 10 columns):\n",
      " #   Column             Non-Null Count   Dtype  \n",
      "---  ------             --------------   -----  \n",
      " 0   IDCLIENT           845876 non-null  float64\n",
      " 1   CIVILITE           845876 non-null  object \n",
      " 2   DATENAISSANCE      507902 non-null  object \n",
      " 3   MAGASIN            845876 non-null  object \n",
      " 4   DATEDEBUTADHESION  845876 non-null  object \n",
      " 5   DATEREADHESION     507816 non-null  object \n",
      " 6   DATEFINADHESION    845876 non-null  object \n",
      " 7   VIP                845876 non-null  int64  \n",
      " 8   CODEINSEE          818455 non-null  object \n",
      " 9   PAYS               845873 non-null  object \n",
      "dtypes: float64(1), int64(1), object(8)\n",
      "memory usage: 64.5+ MB\n"
     ]
    }
   ],
   "source": [
    "data1.info()"
   ]
  },
  {
   "cell_type": "markdown",
   "metadata": {},
   "source": [
    "Nous allons procéder à la suppression des clients VIP, qui ont un comportement atypique qui viendra biaiser nos résultats."
   ]
  },
  {
   "cell_type": "code",
   "execution_count": 6,
   "metadata": {
    "ExecuteTime": {
     "end_time": "2024-05-04T14:15:49.491774Z",
     "start_time": "2024-05-04T14:15:49.244831Z"
    }
   },
   "outputs": [
    {
     "name": "stdout",
     "output_type": "stream",
     "text": [
      "(735425, 10)\n"
     ]
    }
   ],
   "source": [
    "# Supprimer les lignes où la valeur de la colonne 'VIP' est égale à 1\n",
    "data1 = data1[data1['VIP'] != 1]\n",
    "\n",
    "# Vérifier la nouvelle forme du DataFrame\n",
    "print(data1.shape)"
   ]
  },
  {
   "cell_type": "code",
   "execution_count": 7,
   "metadata": {
    "ExecuteTime": {
     "end_time": "2024-05-04T14:15:52.753268Z",
     "start_time": "2024-05-04T14:15:52.525624Z"
    }
   },
   "outputs": [],
   "source": [
    "data1 = data1.drop(\"VIP\",axis=1)"
   ]
  },
  {
   "cell_type": "markdown",
   "metadata": {},
   "source": [
    "Vérification du traitement."
   ]
  },
  {
   "cell_type": "code",
   "execution_count": 8,
   "metadata": {
    "ExecuteTime": {
     "end_time": "2024-05-04T14:15:57.658941Z",
     "start_time": "2024-05-04T14:15:57.624432Z"
    }
   },
   "outputs": [
    {
     "data": {
      "text/html": [
       "<div>\n",
       "<style scoped>\n",
       "    .dataframe tbody tr th:only-of-type {\n",
       "        vertical-align: middle;\n",
       "    }\n",
       "\n",
       "    .dataframe tbody tr th {\n",
       "        vertical-align: top;\n",
       "    }\n",
       "\n",
       "    .dataframe thead th {\n",
       "        text-align: right;\n",
       "    }\n",
       "</style>\n",
       "<table border=\"1\" class=\"dataframe\">\n",
       "  <thead>\n",
       "    <tr style=\"text-align: right;\">\n",
       "      <th></th>\n",
       "      <th>IDCLIENT</th>\n",
       "      <th>CIVILITE</th>\n",
       "      <th>DATENAISSANCE</th>\n",
       "      <th>MAGASIN</th>\n",
       "      <th>DATEDEBUTADHESION</th>\n",
       "      <th>DATEREADHESION</th>\n",
       "      <th>DATEFINADHESION</th>\n",
       "      <th>CODEINSEE</th>\n",
       "      <th>PAYS</th>\n",
       "    </tr>\n",
       "  </thead>\n",
       "  <tbody>\n",
       "    <tr>\n",
       "      <th>0</th>\n",
       "      <td>155891.0</td>\n",
       "      <td>MADAME</td>\n",
       "      <td>NaN</td>\n",
       "      <td>VLG</td>\n",
       "      <td>13/05/2005 0:00:00</td>\n",
       "      <td>4/04/2017 0:00:00</td>\n",
       "      <td>30/04/2018 0:00:00</td>\n",
       "      <td>74224</td>\n",
       "      <td>FR</td>\n",
       "    </tr>\n",
       "    <tr>\n",
       "      <th>1</th>\n",
       "      <td>156023.0</td>\n",
       "      <td>MONSIEUR</td>\n",
       "      <td>7/08/1966 0:00:00</td>\n",
       "      <td>VLG</td>\n",
       "      <td>14/05/2005 0:00:00</td>\n",
       "      <td>21/06/2014 0:00:00</td>\n",
       "      <td>30/06/2016 0:00:00</td>\n",
       "      <td>74189</td>\n",
       "      <td>FR</td>\n",
       "    </tr>\n",
       "    <tr>\n",
       "      <th>2</th>\n",
       "      <td>124203.0</td>\n",
       "      <td>MADAME</td>\n",
       "      <td>NaN</td>\n",
       "      <td>BEA</td>\n",
       "      <td>16/03/2005 0:00:00</td>\n",
       "      <td>12/10/2017 0:00:00</td>\n",
       "      <td>31/10/2018 0:00:00</td>\n",
       "      <td>63070</td>\n",
       "      <td>FR</td>\n",
       "    </tr>\n",
       "    <tr>\n",
       "      <th>3</th>\n",
       "      <td>156190.0</td>\n",
       "      <td>MADAME</td>\n",
       "      <td>24/07/1976 0:00:00</td>\n",
       "      <td>SUR</td>\n",
       "      <td>28/08/2006 0:00:00</td>\n",
       "      <td>24/05/2015 0:00:00</td>\n",
       "      <td>31/05/2016 0:00:00</td>\n",
       "      <td>92026</td>\n",
       "      <td>FR</td>\n",
       "    </tr>\n",
       "    <tr>\n",
       "      <th>4</th>\n",
       "      <td>144444.0</td>\n",
       "      <td>MONSIEUR</td>\n",
       "      <td>NaN</td>\n",
       "      <td>LAB</td>\n",
       "      <td>29/04/2006 0:00:00</td>\n",
       "      <td>18/12/2016 0:00:00</td>\n",
       "      <td>31/12/2017 0:00:00</td>\n",
       "      <td>31555</td>\n",
       "      <td>FR</td>\n",
       "    </tr>\n",
       "    <tr>\n",
       "      <th>...</th>\n",
       "      <td>...</td>\n",
       "      <td>...</td>\n",
       "      <td>...</td>\n",
       "      <td>...</td>\n",
       "      <td>...</td>\n",
       "      <td>...</td>\n",
       "      <td>...</td>\n",
       "      <td>...</td>\n",
       "      <td>...</td>\n",
       "    </tr>\n",
       "    <tr>\n",
       "      <th>845871</th>\n",
       "      <td>1970111.0</td>\n",
       "      <td>MONSIEUR</td>\n",
       "      <td>NaN</td>\n",
       "      <td>IAB</td>\n",
       "      <td>14/04/2011 0:00:00</td>\n",
       "      <td>6/01/2018 0:00:00</td>\n",
       "      <td>31/01/2019 0:00:00</td>\n",
       "      <td>38053</td>\n",
       "      <td>FR</td>\n",
       "    </tr>\n",
       "    <tr>\n",
       "      <th>845872</th>\n",
       "      <td>2297275.0</td>\n",
       "      <td>MONSIEUR</td>\n",
       "      <td>6/02/1988 0:00:00</td>\n",
       "      <td>SEM</td>\n",
       "      <td>7/03/2013 0:00:00</td>\n",
       "      <td>6/01/2018 0:00:00</td>\n",
       "      <td>31/01/2019 0:00:00</td>\n",
       "      <td>57067</td>\n",
       "      <td>FR</td>\n",
       "    </tr>\n",
       "    <tr>\n",
       "      <th>845873</th>\n",
       "      <td>2305548.0</td>\n",
       "      <td>MONSIEUR</td>\n",
       "      <td>NaN</td>\n",
       "      <td>PRI</td>\n",
       "      <td>22/03/2013 0:00:00</td>\n",
       "      <td>6/01/2018 0:00:00</td>\n",
       "      <td>31/01/2019 0:00:00</td>\n",
       "      <td>38318</td>\n",
       "      <td>FR</td>\n",
       "    </tr>\n",
       "    <tr>\n",
       "      <th>845874</th>\n",
       "      <td>84175.0</td>\n",
       "      <td>MADAME</td>\n",
       "      <td>7/04/1950 0:00:00</td>\n",
       "      <td>GAI</td>\n",
       "      <td>29/10/2002 0:00:00</td>\n",
       "      <td>7/01/2018 0:00:00</td>\n",
       "      <td>31/01/2019 0:00:00</td>\n",
       "      <td>74082</td>\n",
       "      <td>FR</td>\n",
       "    </tr>\n",
       "    <tr>\n",
       "      <th>845875</th>\n",
       "      <td>1280004.0</td>\n",
       "      <td>MONSIEUR</td>\n",
       "      <td>NaN</td>\n",
       "      <td>SGL</td>\n",
       "      <td>23/06/2007 0:00:00</td>\n",
       "      <td>7/01/2018 0:00:00</td>\n",
       "      <td>31/01/2019 0:00:00</td>\n",
       "      <td>42218</td>\n",
       "      <td>FR</td>\n",
       "    </tr>\n",
       "  </tbody>\n",
       "</table>\n",
       "<p>735425 rows × 9 columns</p>\n",
       "</div>"
      ],
      "text/plain": [
       "         IDCLIENT  CIVILITE       DATENAISSANCE MAGASIN   DATEDEBUTADHESION  \\\n",
       "0        155891.0    MADAME                 NaN     VLG  13/05/2005 0:00:00   \n",
       "1        156023.0  MONSIEUR   7/08/1966 0:00:00     VLG  14/05/2005 0:00:00   \n",
       "2        124203.0    MADAME                 NaN     BEA  16/03/2005 0:00:00   \n",
       "3        156190.0    MADAME  24/07/1976 0:00:00     SUR  28/08/2006 0:00:00   \n",
       "4        144444.0  MONSIEUR                 NaN     LAB  29/04/2006 0:00:00   \n",
       "...           ...       ...                 ...     ...                 ...   \n",
       "845871  1970111.0  MONSIEUR                 NaN     IAB  14/04/2011 0:00:00   \n",
       "845872  2297275.0  MONSIEUR   6/02/1988 0:00:00     SEM   7/03/2013 0:00:00   \n",
       "845873  2305548.0  MONSIEUR                 NaN     PRI  22/03/2013 0:00:00   \n",
       "845874    84175.0    MADAME   7/04/1950 0:00:00     GAI  29/10/2002 0:00:00   \n",
       "845875  1280004.0  MONSIEUR                 NaN     SGL  23/06/2007 0:00:00   \n",
       "\n",
       "            DATEREADHESION     DATEFINADHESION CODEINSEE PAYS  \n",
       "0        4/04/2017 0:00:00  30/04/2018 0:00:00     74224   FR  \n",
       "1       21/06/2014 0:00:00  30/06/2016 0:00:00     74189   FR  \n",
       "2       12/10/2017 0:00:00  31/10/2018 0:00:00     63070   FR  \n",
       "3       24/05/2015 0:00:00  31/05/2016 0:00:00     92026   FR  \n",
       "4       18/12/2016 0:00:00  31/12/2017 0:00:00     31555   FR  \n",
       "...                    ...                 ...       ...  ...  \n",
       "845871   6/01/2018 0:00:00  31/01/2019 0:00:00     38053   FR  \n",
       "845872   6/01/2018 0:00:00  31/01/2019 0:00:00     57067   FR  \n",
       "845873   6/01/2018 0:00:00  31/01/2019 0:00:00     38318   FR  \n",
       "845874   7/01/2018 0:00:00  31/01/2019 0:00:00     74082   FR  \n",
       "845875   7/01/2018 0:00:00  31/01/2019 0:00:00     42218   FR  \n",
       "\n",
       "[735425 rows x 9 columns]"
      ]
     },
     "execution_count": 8,
     "metadata": {},
     "output_type": "execute_result"
    }
   ],
   "source": [
    "data1"
   ]
  },
  {
   "cell_type": "markdown",
   "metadata": {},
   "source": [
    "La ligne de code ci-dessous nous permet de formater le format de la date."
   ]
  },
  {
   "cell_type": "code",
   "execution_count": 9,
   "metadata": {
    "ExecuteTime": {
     "end_time": "2024-05-04T14:16:38.932833Z",
     "start_time": "2024-05-04T14:16:05.986073Z"
    }
   },
   "outputs": [],
   "source": [
    "# Adapter le format de date pour les colonnes spécifiées\n",
    "date_columns = ['DATENAISSANCE', 'DATEDEBUTADHESION', 'DATEREADHESION', 'DATEFINADHESION']\n",
    "for col in date_columns:\n",
    "    data1[col] = pd.to_datetime(data1[col], format='%d/%m/%Y %H:%M:%S',errors = 'coerce').dt.strftime('%d/%m/%Y')"
   ]
  },
  {
   "cell_type": "markdown",
   "metadata": {},
   "source": [
    "Vérification du traitement."
   ]
  },
  {
   "cell_type": "code",
   "execution_count": 10,
   "metadata": {},
   "outputs": [
    {
     "data": {
      "text/html": [
       "<div>\n",
       "<style scoped>\n",
       "    .dataframe tbody tr th:only-of-type {\n",
       "        vertical-align: middle;\n",
       "    }\n",
       "\n",
       "    .dataframe tbody tr th {\n",
       "        vertical-align: top;\n",
       "    }\n",
       "\n",
       "    .dataframe thead th {\n",
       "        text-align: right;\n",
       "    }\n",
       "</style>\n",
       "<table border=\"1\" class=\"dataframe\">\n",
       "  <thead>\n",
       "    <tr style=\"text-align: right;\">\n",
       "      <th></th>\n",
       "      <th>IDCLIENT</th>\n",
       "      <th>CIVILITE</th>\n",
       "      <th>DATENAISSANCE</th>\n",
       "      <th>MAGASIN</th>\n",
       "      <th>DATEDEBUTADHESION</th>\n",
       "      <th>DATEREADHESION</th>\n",
       "      <th>DATEFINADHESION</th>\n",
       "      <th>CODEINSEE</th>\n",
       "      <th>PAYS</th>\n",
       "    </tr>\n",
       "  </thead>\n",
       "  <tbody>\n",
       "    <tr>\n",
       "      <th>0</th>\n",
       "      <td>155891.0</td>\n",
       "      <td>MADAME</td>\n",
       "      <td>NaN</td>\n",
       "      <td>VLG</td>\n",
       "      <td>13/05/2005</td>\n",
       "      <td>04/04/2017</td>\n",
       "      <td>30/04/2018</td>\n",
       "      <td>74224</td>\n",
       "      <td>FR</td>\n",
       "    </tr>\n",
       "    <tr>\n",
       "      <th>1</th>\n",
       "      <td>156023.0</td>\n",
       "      <td>MONSIEUR</td>\n",
       "      <td>07/08/1966</td>\n",
       "      <td>VLG</td>\n",
       "      <td>14/05/2005</td>\n",
       "      <td>21/06/2014</td>\n",
       "      <td>30/06/2016</td>\n",
       "      <td>74189</td>\n",
       "      <td>FR</td>\n",
       "    </tr>\n",
       "    <tr>\n",
       "      <th>2</th>\n",
       "      <td>124203.0</td>\n",
       "      <td>MADAME</td>\n",
       "      <td>NaN</td>\n",
       "      <td>BEA</td>\n",
       "      <td>16/03/2005</td>\n",
       "      <td>12/10/2017</td>\n",
       "      <td>31/10/2018</td>\n",
       "      <td>63070</td>\n",
       "      <td>FR</td>\n",
       "    </tr>\n",
       "    <tr>\n",
       "      <th>3</th>\n",
       "      <td>156190.0</td>\n",
       "      <td>MADAME</td>\n",
       "      <td>24/07/1976</td>\n",
       "      <td>SUR</td>\n",
       "      <td>28/08/2006</td>\n",
       "      <td>24/05/2015</td>\n",
       "      <td>31/05/2016</td>\n",
       "      <td>92026</td>\n",
       "      <td>FR</td>\n",
       "    </tr>\n",
       "    <tr>\n",
       "      <th>4</th>\n",
       "      <td>144444.0</td>\n",
       "      <td>MONSIEUR</td>\n",
       "      <td>NaN</td>\n",
       "      <td>LAB</td>\n",
       "      <td>29/04/2006</td>\n",
       "      <td>18/12/2016</td>\n",
       "      <td>31/12/2017</td>\n",
       "      <td>31555</td>\n",
       "      <td>FR</td>\n",
       "    </tr>\n",
       "    <tr>\n",
       "      <th>...</th>\n",
       "      <td>...</td>\n",
       "      <td>...</td>\n",
       "      <td>...</td>\n",
       "      <td>...</td>\n",
       "      <td>...</td>\n",
       "      <td>...</td>\n",
       "      <td>...</td>\n",
       "      <td>...</td>\n",
       "      <td>...</td>\n",
       "    </tr>\n",
       "    <tr>\n",
       "      <th>845871</th>\n",
       "      <td>1970111.0</td>\n",
       "      <td>MONSIEUR</td>\n",
       "      <td>NaN</td>\n",
       "      <td>IAB</td>\n",
       "      <td>14/04/2011</td>\n",
       "      <td>06/01/2018</td>\n",
       "      <td>31/01/2019</td>\n",
       "      <td>38053</td>\n",
       "      <td>FR</td>\n",
       "    </tr>\n",
       "    <tr>\n",
       "      <th>845872</th>\n",
       "      <td>2297275.0</td>\n",
       "      <td>MONSIEUR</td>\n",
       "      <td>06/02/1988</td>\n",
       "      <td>SEM</td>\n",
       "      <td>07/03/2013</td>\n",
       "      <td>06/01/2018</td>\n",
       "      <td>31/01/2019</td>\n",
       "      <td>57067</td>\n",
       "      <td>FR</td>\n",
       "    </tr>\n",
       "    <tr>\n",
       "      <th>845873</th>\n",
       "      <td>2305548.0</td>\n",
       "      <td>MONSIEUR</td>\n",
       "      <td>NaN</td>\n",
       "      <td>PRI</td>\n",
       "      <td>22/03/2013</td>\n",
       "      <td>06/01/2018</td>\n",
       "      <td>31/01/2019</td>\n",
       "      <td>38318</td>\n",
       "      <td>FR</td>\n",
       "    </tr>\n",
       "    <tr>\n",
       "      <th>845874</th>\n",
       "      <td>84175.0</td>\n",
       "      <td>MADAME</td>\n",
       "      <td>07/04/1950</td>\n",
       "      <td>GAI</td>\n",
       "      <td>29/10/2002</td>\n",
       "      <td>07/01/2018</td>\n",
       "      <td>31/01/2019</td>\n",
       "      <td>74082</td>\n",
       "      <td>FR</td>\n",
       "    </tr>\n",
       "    <tr>\n",
       "      <th>845875</th>\n",
       "      <td>1280004.0</td>\n",
       "      <td>MONSIEUR</td>\n",
       "      <td>NaN</td>\n",
       "      <td>SGL</td>\n",
       "      <td>23/06/2007</td>\n",
       "      <td>07/01/2018</td>\n",
       "      <td>31/01/2019</td>\n",
       "      <td>42218</td>\n",
       "      <td>FR</td>\n",
       "    </tr>\n",
       "  </tbody>\n",
       "</table>\n",
       "<p>735425 rows × 9 columns</p>\n",
       "</div>"
      ],
      "text/plain": [
       "         IDCLIENT  CIVILITE DATENAISSANCE MAGASIN DATEDEBUTADHESION  \\\n",
       "0        155891.0    MADAME           NaN     VLG        13/05/2005   \n",
       "1        156023.0  MONSIEUR    07/08/1966     VLG        14/05/2005   \n",
       "2        124203.0    MADAME           NaN     BEA        16/03/2005   \n",
       "3        156190.0    MADAME    24/07/1976     SUR        28/08/2006   \n",
       "4        144444.0  MONSIEUR           NaN     LAB        29/04/2006   \n",
       "...           ...       ...           ...     ...               ...   \n",
       "845871  1970111.0  MONSIEUR           NaN     IAB        14/04/2011   \n",
       "845872  2297275.0  MONSIEUR    06/02/1988     SEM        07/03/2013   \n",
       "845873  2305548.0  MONSIEUR           NaN     PRI        22/03/2013   \n",
       "845874    84175.0    MADAME    07/04/1950     GAI        29/10/2002   \n",
       "845875  1280004.0  MONSIEUR           NaN     SGL        23/06/2007   \n",
       "\n",
       "       DATEREADHESION DATEFINADHESION CODEINSEE PAYS  \n",
       "0          04/04/2017      30/04/2018     74224   FR  \n",
       "1          21/06/2014      30/06/2016     74189   FR  \n",
       "2          12/10/2017      31/10/2018     63070   FR  \n",
       "3          24/05/2015      31/05/2016     92026   FR  \n",
       "4          18/12/2016      31/12/2017     31555   FR  \n",
       "...               ...             ...       ...  ...  \n",
       "845871     06/01/2018      31/01/2019     38053   FR  \n",
       "845872     06/01/2018      31/01/2019     57067   FR  \n",
       "845873     06/01/2018      31/01/2019     38318   FR  \n",
       "845874     07/01/2018      31/01/2019     74082   FR  \n",
       "845875     07/01/2018      31/01/2019     42218   FR  \n",
       "\n",
       "[735425 rows x 9 columns]"
      ]
     },
     "execution_count": 10,
     "metadata": {},
     "output_type": "execute_result"
    }
   ],
   "source": [
    "data1"
   ]
  },
  {
   "cell_type": "markdown",
   "metadata": {},
   "source": [
    "Cette ligne de code nous permet d'identifier le nombre d'occurence de chaque civilité, pour identifier les éventuels regroupements à effectuer. "
   ]
  },
  {
   "cell_type": "code",
   "execution_count": 11,
   "metadata": {
    "ExecuteTime": {
     "end_time": "2024-05-04T14:19:23.817369Z",
     "start_time": "2024-05-04T14:19:23.647049Z"
    }
   },
   "outputs": [
    {
     "data": {
      "text/plain": [
       "CIVILITE\n",
       "MADAME      393703\n",
       "MONSIEUR    337360\n",
       "Mr            1431\n",
       "Mme           1284\n",
       "madame         976\n",
       "monsieur       671\n",
       "Name: count, dtype: int64"
      ]
     },
     "execution_count": 11,
     "metadata": {},
     "output_type": "execute_result"
    }
   ],
   "source": [
    "#modalités variables:\n",
    "data1['CIVILITE'].value_counts(dropna = False)"
   ]
  },
  {
   "cell_type": "markdown",
   "metadata": {},
   "source": [
    "Il convient de procéder aux regroupements ci-dessous."
   ]
  },
  {
   "cell_type": "code",
   "execution_count": 12,
   "metadata": {
    "ExecuteTime": {
     "end_time": "2024-05-04T14:19:30.800307Z",
     "start_time": "2024-05-04T14:19:29.990787Z"
    }
   },
   "outputs": [],
   "source": [
    "#regroupement des modalités:\n",
    "data1['CIVILITE']=np.where(data1['CIVILITE'] =='MADAME', 'Madame', data1['CIVILITE']) \n",
    "data1['CIVILITE']=np.where(data1['CIVILITE'] =='Mme', 'Madame', data1['CIVILITE'])\n",
    "data1['CIVILITE']=np.where(data1['CIVILITE'] =='madame', 'Madame', data1['CIVILITE']) \n",
    "data1['CIVILITE']=np.where(data1['CIVILITE'] =='MONSIEUR', 'Monsieur', data1['CIVILITE'])\n",
    "data1['CIVILITE']=np.where(data1['CIVILITE'] =='Mr', 'Monsieur', data1['CIVILITE'])\n",
    "data1['CIVILITE']=np.where(data1['CIVILITE'] =='monsieur', 'Monsieur', data1['CIVILITE'])"
   ]
  },
  {
   "cell_type": "markdown",
   "metadata": {},
   "source": [
    "Vérification du traitement."
   ]
  },
  {
   "cell_type": "code",
   "execution_count": 13,
   "metadata": {
    "ExecuteTime": {
     "end_time": "2024-05-04T14:19:33.826777Z",
     "start_time": "2024-05-04T14:19:33.787899Z"
    }
   },
   "outputs": [
    {
     "data": {
      "text/plain": [
       "CIVILITE\n",
       "Madame      395963\n",
       "Monsieur    339462\n",
       "Name: count, dtype: int64"
      ]
     },
     "execution_count": 13,
     "metadata": {},
     "output_type": "execute_result"
    }
   ],
   "source": [
    "data1['CIVILITE'].value_counts(dropna = False)"
   ]
  },
  {
   "cell_type": "markdown",
   "metadata": {},
   "source": [
    "Cette ligne de code nous permet d'identifier le nombre d'occurence de chaque magasin, pour identifier les éventuels regroupements à effectuer."
   ]
  },
  {
   "cell_type": "code",
   "execution_count": 14,
   "metadata": {
    "ExecuteTime": {
     "end_time": "2024-05-04T14:19:38.024802Z",
     "start_time": "2024-05-04T14:19:37.853440Z"
    }
   },
   "outputs": [
    {
     "data": {
      "text/plain": [
       "MAGASIN\n",
       "PRI    23963\n",
       "SEY    23572\n",
       "VIB    22223\n",
       "SUR    20923\n",
       "MOU    20887\n",
       "       ...  \n",
       "VIV     3187\n",
       "SAL     2836\n",
       "STR     2667\n",
       "EST     1145\n",
       "BAR     1039\n",
       "Name: count, Length: 67, dtype: int64"
      ]
     },
     "execution_count": 14,
     "metadata": {},
     "output_type": "execute_result"
    }
   ],
   "source": [
    "data1['MAGASIN'].value_counts(dropna = False)"
   ]
  },
  {
   "cell_type": "markdown",
   "metadata": {},
   "source": [
    "Les données à traiter concernant la France, la série de code ci-dessous nous permet de ne conserver que ce pays."
   ]
  },
  {
   "cell_type": "code",
   "execution_count": 15,
   "metadata": {
    "ExecuteTime": {
     "end_time": "2024-05-04T14:30:00.639639Z",
     "start_time": "2024-05-04T14:29:54.601378Z"
    }
   },
   "outputs": [],
   "source": [
    "# Filtrer les lignes pour ne garder que celles avec \"France\" dans la colonne \"Pays\"\n",
    "data1 = data1[data1['PAYS'] == 'FR']\n",
    "\n",
    "# Réindexer le DataFrame après avoir filtré les lignes\n",
    "data1.reset_index(drop=True, inplace=True)"
   ]
  },
  {
   "cell_type": "code",
   "execution_count": 16,
   "metadata": {
    "ExecuteTime": {
     "end_time": "2024-05-04T14:30:31.472987Z",
     "start_time": "2024-05-04T14:30:31.299877Z"
    }
   },
   "outputs": [
    {
     "data": {
      "text/plain": [
       "PAYS\n",
       "FR    720090\n",
       "Name: count, dtype: int64"
      ]
     },
     "execution_count": 16,
     "metadata": {},
     "output_type": "execute_result"
    }
   ],
   "source": [
    "data1['PAYS'].value_counts(dropna = False)"
   ]
  },
  {
   "cell_type": "markdown",
   "metadata": {},
   "source": [
    "La serie de codes ci-dessous nous permet de traiter la date de naissance des clients afin d'en déterminer l'âge puis des tranches d'âges."
   ]
  },
  {
   "cell_type": "code",
   "execution_count": null,
   "metadata": {
    "ExecuteTime": {
     "end_time": "2024-05-04T14:42:22.832110Z",
     "start_time": "2024-05-04T14:42:22.485695Z"
    }
   },
   "outputs": [],
   "source": [
    "#Convertir la colonne de date de naissance en objet datetime :\n",
    "\n",
    "data1['DATENAISSANCE'] = pd.to_datetime(data1['DATENAISSANCE'],errors = 'coerce')\n",
    "\n",
    "#En créer une nouvelle colonne pour l'âge en calculant la différence entre la date actuelle et la date de naissance :\n",
    "\n",
    "from datetime import datetime\n",
    "today = datetime.today()\n",
    "data1['AGE'] = today.year - data1['DATENAISSANCE'].dt.year\n",
    "#Discrétiser l'âge en créant des catégories d'âge. Par exemple, diviser en groupes d'âge :\n",
    "bins = [18, 30, 45, 60, 100]\n",
    "data1['age_group'] = pd.cut(data1['AGE'], bins, labels=['AGE DE 18-30', 'AGE DE 31-45', 'AGE DE 46-60', 'AGE DE 61-100'])"
   ]
  },
  {
   "cell_type": "markdown",
   "metadata": {},
   "source": [
    "Vérification du traitement."
   ]
  },
  {
   "cell_type": "code",
   "execution_count": 18,
   "metadata": {
    "ExecuteTime": {
     "end_time": "2024-05-04T14:42:28.738782Z",
     "start_time": "2024-05-04T14:42:28.702680Z"
    }
   },
   "outputs": [
    {
     "data": {
      "text/plain": [
       "age_group\n",
       "NaN              548518\n",
       "AGE DE 61-100     67546\n",
       "AGE DE 46-60      57057\n",
       "AGE DE 31-45      42700\n",
       "AGE DE 18-30       4269\n",
       "Name: count, dtype: int64"
      ]
     },
     "execution_count": 18,
     "metadata": {},
     "output_type": "execute_result"
    }
   ],
   "source": [
    "data1['age_group'].value_counts(dropna = False)"
   ]
  },
  {
   "cell_type": "markdown",
   "metadata": {},
   "source": [
    "Après ce traitement, il convient de renommer la variable concernée."
   ]
  },
  {
   "cell_type": "code",
   "execution_count": 19,
   "metadata": {
    "ExecuteTime": {
     "end_time": "2024-05-04T14:48:28.186934Z",
     "start_time": "2024-05-04T14:48:26.085620Z"
    }
   },
   "outputs": [],
   "source": [
    "# Renommer la colonne 'DATENAISSANCE' en 'AGE'\n",
    "data1 = data1.rename(columns={'DATENAISSANCE': 'AGE'})"
   ]
  },
  {
   "cell_type": "markdown",
   "metadata": {},
   "source": [
    "Vérification du traitement."
   ]
  },
  {
   "cell_type": "code",
   "execution_count": 20,
   "metadata": {},
   "outputs": [
    {
     "data": {
      "text/html": [
       "<div>\n",
       "<style scoped>\n",
       "    .dataframe tbody tr th:only-of-type {\n",
       "        vertical-align: middle;\n",
       "    }\n",
       "\n",
       "    .dataframe tbody tr th {\n",
       "        vertical-align: top;\n",
       "    }\n",
       "\n",
       "    .dataframe thead th {\n",
       "        text-align: right;\n",
       "    }\n",
       "</style>\n",
       "<table border=\"1\" class=\"dataframe\">\n",
       "  <thead>\n",
       "    <tr style=\"text-align: right;\">\n",
       "      <th></th>\n",
       "      <th>IDCLIENT</th>\n",
       "      <th>CIVILITE</th>\n",
       "      <th>AGE</th>\n",
       "      <th>MAGASIN</th>\n",
       "      <th>DATEDEBUTADHESION</th>\n",
       "      <th>DATEREADHESION</th>\n",
       "      <th>DATEFINADHESION</th>\n",
       "      <th>CODEINSEE</th>\n",
       "      <th>PAYS</th>\n",
       "      <th>AGE</th>\n",
       "      <th>age_group</th>\n",
       "    </tr>\n",
       "  </thead>\n",
       "  <tbody>\n",
       "    <tr>\n",
       "      <th>0</th>\n",
       "      <td>155891.0</td>\n",
       "      <td>Madame</td>\n",
       "      <td>NaT</td>\n",
       "      <td>VLG</td>\n",
       "      <td>13/05/2005</td>\n",
       "      <td>04/04/2017</td>\n",
       "      <td>30/04/2018</td>\n",
       "      <td>74224</td>\n",
       "      <td>FR</td>\n",
       "      <td>NaN</td>\n",
       "      <td>NaN</td>\n",
       "    </tr>\n",
       "    <tr>\n",
       "      <th>1</th>\n",
       "      <td>156023.0</td>\n",
       "      <td>Monsieur</td>\n",
       "      <td>1966-07-08</td>\n",
       "      <td>VLG</td>\n",
       "      <td>14/05/2005</td>\n",
       "      <td>21/06/2014</td>\n",
       "      <td>30/06/2016</td>\n",
       "      <td>74189</td>\n",
       "      <td>FR</td>\n",
       "      <td>58.0</td>\n",
       "      <td>AGE DE 46-60</td>\n",
       "    </tr>\n",
       "    <tr>\n",
       "      <th>2</th>\n",
       "      <td>124203.0</td>\n",
       "      <td>Madame</td>\n",
       "      <td>NaT</td>\n",
       "      <td>BEA</td>\n",
       "      <td>16/03/2005</td>\n",
       "      <td>12/10/2017</td>\n",
       "      <td>31/10/2018</td>\n",
       "      <td>63070</td>\n",
       "      <td>FR</td>\n",
       "      <td>NaN</td>\n",
       "      <td>NaN</td>\n",
       "    </tr>\n",
       "    <tr>\n",
       "      <th>3</th>\n",
       "      <td>156190.0</td>\n",
       "      <td>Madame</td>\n",
       "      <td>NaT</td>\n",
       "      <td>SUR</td>\n",
       "      <td>28/08/2006</td>\n",
       "      <td>24/05/2015</td>\n",
       "      <td>31/05/2016</td>\n",
       "      <td>92026</td>\n",
       "      <td>FR</td>\n",
       "      <td>NaN</td>\n",
       "      <td>NaN</td>\n",
       "    </tr>\n",
       "    <tr>\n",
       "      <th>4</th>\n",
       "      <td>144444.0</td>\n",
       "      <td>Monsieur</td>\n",
       "      <td>NaT</td>\n",
       "      <td>LAB</td>\n",
       "      <td>29/04/2006</td>\n",
       "      <td>18/12/2016</td>\n",
       "      <td>31/12/2017</td>\n",
       "      <td>31555</td>\n",
       "      <td>FR</td>\n",
       "      <td>NaN</td>\n",
       "      <td>NaN</td>\n",
       "    </tr>\n",
       "    <tr>\n",
       "      <th>...</th>\n",
       "      <td>...</td>\n",
       "      <td>...</td>\n",
       "      <td>...</td>\n",
       "      <td>...</td>\n",
       "      <td>...</td>\n",
       "      <td>...</td>\n",
       "      <td>...</td>\n",
       "      <td>...</td>\n",
       "      <td>...</td>\n",
       "      <td>...</td>\n",
       "      <td>...</td>\n",
       "    </tr>\n",
       "    <tr>\n",
       "      <th>720085</th>\n",
       "      <td>1970111.0</td>\n",
       "      <td>Monsieur</td>\n",
       "      <td>NaT</td>\n",
       "      <td>IAB</td>\n",
       "      <td>14/04/2011</td>\n",
       "      <td>06/01/2018</td>\n",
       "      <td>31/01/2019</td>\n",
       "      <td>38053</td>\n",
       "      <td>FR</td>\n",
       "      <td>NaN</td>\n",
       "      <td>NaN</td>\n",
       "    </tr>\n",
       "    <tr>\n",
       "      <th>720086</th>\n",
       "      <td>2297275.0</td>\n",
       "      <td>Monsieur</td>\n",
       "      <td>1988-06-02</td>\n",
       "      <td>SEM</td>\n",
       "      <td>07/03/2013</td>\n",
       "      <td>06/01/2018</td>\n",
       "      <td>31/01/2019</td>\n",
       "      <td>57067</td>\n",
       "      <td>FR</td>\n",
       "      <td>36.0</td>\n",
       "      <td>AGE DE 31-45</td>\n",
       "    </tr>\n",
       "    <tr>\n",
       "      <th>720087</th>\n",
       "      <td>2305548.0</td>\n",
       "      <td>Monsieur</td>\n",
       "      <td>NaT</td>\n",
       "      <td>PRI</td>\n",
       "      <td>22/03/2013</td>\n",
       "      <td>06/01/2018</td>\n",
       "      <td>31/01/2019</td>\n",
       "      <td>38318</td>\n",
       "      <td>FR</td>\n",
       "      <td>NaN</td>\n",
       "      <td>NaN</td>\n",
       "    </tr>\n",
       "    <tr>\n",
       "      <th>720088</th>\n",
       "      <td>84175.0</td>\n",
       "      <td>Madame</td>\n",
       "      <td>1950-07-04</td>\n",
       "      <td>GAI</td>\n",
       "      <td>29/10/2002</td>\n",
       "      <td>07/01/2018</td>\n",
       "      <td>31/01/2019</td>\n",
       "      <td>74082</td>\n",
       "      <td>FR</td>\n",
       "      <td>74.0</td>\n",
       "      <td>AGE DE 61-100</td>\n",
       "    </tr>\n",
       "    <tr>\n",
       "      <th>720089</th>\n",
       "      <td>1280004.0</td>\n",
       "      <td>Monsieur</td>\n",
       "      <td>NaT</td>\n",
       "      <td>SGL</td>\n",
       "      <td>23/06/2007</td>\n",
       "      <td>07/01/2018</td>\n",
       "      <td>31/01/2019</td>\n",
       "      <td>42218</td>\n",
       "      <td>FR</td>\n",
       "      <td>NaN</td>\n",
       "      <td>NaN</td>\n",
       "    </tr>\n",
       "  </tbody>\n",
       "</table>\n",
       "<p>720090 rows × 11 columns</p>\n",
       "</div>"
      ],
      "text/plain": [
       "         IDCLIENT  CIVILITE        AGE MAGASIN DATEDEBUTADHESION  \\\n",
       "0        155891.0    Madame        NaT     VLG        13/05/2005   \n",
       "1        156023.0  Monsieur 1966-07-08     VLG        14/05/2005   \n",
       "2        124203.0    Madame        NaT     BEA        16/03/2005   \n",
       "3        156190.0    Madame        NaT     SUR        28/08/2006   \n",
       "4        144444.0  Monsieur        NaT     LAB        29/04/2006   \n",
       "...           ...       ...        ...     ...               ...   \n",
       "720085  1970111.0  Monsieur        NaT     IAB        14/04/2011   \n",
       "720086  2297275.0  Monsieur 1988-06-02     SEM        07/03/2013   \n",
       "720087  2305548.0  Monsieur        NaT     PRI        22/03/2013   \n",
       "720088    84175.0    Madame 1950-07-04     GAI        29/10/2002   \n",
       "720089  1280004.0  Monsieur        NaT     SGL        23/06/2007   \n",
       "\n",
       "       DATEREADHESION DATEFINADHESION CODEINSEE PAYS   AGE      age_group  \n",
       "0          04/04/2017      30/04/2018     74224   FR   NaN            NaN  \n",
       "1          21/06/2014      30/06/2016     74189   FR  58.0   AGE DE 46-60  \n",
       "2          12/10/2017      31/10/2018     63070   FR   NaN            NaN  \n",
       "3          24/05/2015      31/05/2016     92026   FR   NaN            NaN  \n",
       "4          18/12/2016      31/12/2017     31555   FR   NaN            NaN  \n",
       "...               ...             ...       ...  ...   ...            ...  \n",
       "720085     06/01/2018      31/01/2019     38053   FR   NaN            NaN  \n",
       "720086     06/01/2018      31/01/2019     57067   FR  36.0   AGE DE 31-45  \n",
       "720087     06/01/2018      31/01/2019     38318   FR   NaN            NaN  \n",
       "720088     07/01/2018      31/01/2019     74082   FR  74.0  AGE DE 61-100  \n",
       "720089     07/01/2018      31/01/2019     42218   FR   NaN            NaN  \n",
       "\n",
       "[720090 rows x 11 columns]"
      ]
     },
     "execution_count": 20,
     "metadata": {},
     "output_type": "execute_result"
    }
   ],
   "source": [
    "data1"
   ]
  },
  {
   "cell_type": "markdown",
   "metadata": {},
   "source": [
    "Afin d'exploiter de façon optimale les informations, nous allons convetir les l'ID TICKET, l'âge et les tranches d'âges en caractère. Nous n'avons pas nécessité à conserver ces valeurs en numérique."
   ]
  },
  {
   "cell_type": "code",
   "execution_count": 21,
   "metadata": {},
   "outputs": [],
   "source": [
    "data1['IDCLIENT'] = data1['IDCLIENT'].astype(str)\n",
    "data1['AGE'] = data1['AGE'].astype(str)\n",
    "data1['age_group'] = data1['age_group'].astype(str)"
   ]
  },
  {
   "cell_type": "markdown",
   "metadata": {},
   "source": [
    "Vérification du traitement."
   ]
  },
  {
   "cell_type": "code",
   "execution_count": 22,
   "metadata": {},
   "outputs": [
    {
     "name": "stdout",
     "output_type": "stream",
     "text": [
      "<class 'pandas.core.frame.DataFrame'>\n",
      "RangeIndex: 720090 entries, 0 to 720089\n",
      "Data columns (total 11 columns):\n",
      " #   Column             Non-Null Count   Dtype \n",
      "---  ------             --------------   ----- \n",
      " 0   IDCLIENT           720090 non-null  object\n",
      " 1   CIVILITE           720090 non-null  object\n",
      " 2   AGE                720090 non-null  object\n",
      " 3   MAGASIN            720090 non-null  object\n",
      " 4   DATEDEBUTADHESION  720090 non-null  object\n",
      " 5   DATEREADHESION     410990 non-null  object\n",
      " 6   DATEFINADHESION    720090 non-null  object\n",
      " 7   CODEINSEE          709392 non-null  object\n",
      " 8   PAYS               720090 non-null  object\n",
      " 9   AGE                720090 non-null  object\n",
      " 10  age_group          720090 non-null  object\n",
      "dtypes: object(11)\n",
      "memory usage: 60.4+ MB\n"
     ]
    }
   ],
   "source": [
    "data1.info()"
   ]
  },
  {
   "cell_type": "markdown",
   "metadata": {},
   "source": [
    "La ligne de code ci-dessous nous permet d'identifier les valeurs en doublons qui conviendra de traiter."
   ]
  },
  {
   "cell_type": "code",
   "execution_count": 23,
   "metadata": {
    "ExecuteTime": {
     "end_time": "2024-05-04T14:42:43.271092Z",
     "start_time": "2024-05-04T14:42:39.267392Z"
    }
   },
   "outputs": [
    {
     "name": "stdout",
     "output_type": "stream",
     "text": [
      "0\n"
     ]
    }
   ],
   "source": [
    "print(data1.duplicated().sum())\n",
    "data1 = data1.drop_duplicates()"
   ]
  },
  {
   "cell_type": "markdown",
   "metadata": {},
   "source": [
    "Nous procédons également à la vérification de présence ou non de valeurs manquantes."
   ]
  },
  {
   "cell_type": "code",
   "execution_count": 24,
   "metadata": {
    "ExecuteTime": {
     "end_time": "2024-05-04T14:42:45.877230Z",
     "start_time": "2024-05-04T14:42:45.459993Z"
    }
   },
   "outputs": [
    {
     "data": {
      "text/html": [
       "<div>\n",
       "<style scoped>\n",
       "    .dataframe tbody tr th:only-of-type {\n",
       "        vertical-align: middle;\n",
       "    }\n",
       "\n",
       "    .dataframe tbody tr th {\n",
       "        vertical-align: top;\n",
       "    }\n",
       "\n",
       "    .dataframe thead th {\n",
       "        text-align: right;\n",
       "    }\n",
       "</style>\n",
       "<table border=\"1\" class=\"dataframe\">\n",
       "  <thead>\n",
       "    <tr style=\"text-align: right;\">\n",
       "      <th></th>\n",
       "      <th>%_missing_values</th>\n",
       "    </tr>\n",
       "  </thead>\n",
       "  <tbody>\n",
       "    <tr>\n",
       "      <th>IDCLIENT</th>\n",
       "      <td>0.000000</td>\n",
       "    </tr>\n",
       "    <tr>\n",
       "      <th>CIVILITE</th>\n",
       "      <td>0.000000</td>\n",
       "    </tr>\n",
       "    <tr>\n",
       "      <th>AGE</th>\n",
       "      <td>0.000000</td>\n",
       "    </tr>\n",
       "    <tr>\n",
       "      <th>MAGASIN</th>\n",
       "      <td>0.000000</td>\n",
       "    </tr>\n",
       "    <tr>\n",
       "      <th>DATEDEBUTADHESION</th>\n",
       "      <td>0.000000</td>\n",
       "    </tr>\n",
       "    <tr>\n",
       "      <th>DATEREADHESION</th>\n",
       "      <td>42.925190</td>\n",
       "    </tr>\n",
       "    <tr>\n",
       "      <th>DATEFINADHESION</th>\n",
       "      <td>0.000000</td>\n",
       "    </tr>\n",
       "    <tr>\n",
       "      <th>CODEINSEE</th>\n",
       "      <td>1.485648</td>\n",
       "    </tr>\n",
       "    <tr>\n",
       "      <th>PAYS</th>\n",
       "      <td>0.000000</td>\n",
       "    </tr>\n",
       "    <tr>\n",
       "      <th>AGE</th>\n",
       "      <td>0.000000</td>\n",
       "    </tr>\n",
       "    <tr>\n",
       "      <th>age_group</th>\n",
       "      <td>0.000000</td>\n",
       "    </tr>\n",
       "  </tbody>\n",
       "</table>\n",
       "</div>"
      ],
      "text/plain": [
       "                   %_missing_values\n",
       "IDCLIENT                   0.000000\n",
       "CIVILITE                   0.000000\n",
       "AGE                        0.000000\n",
       "MAGASIN                    0.000000\n",
       "DATEDEBUTADHESION          0.000000\n",
       "DATEREADHESION            42.925190\n",
       "DATEFINADHESION            0.000000\n",
       "CODEINSEE                  1.485648\n",
       "PAYS                       0.000000\n",
       "AGE                        0.000000\n",
       "age_group                  0.000000"
      ]
     },
     "execution_count": 24,
     "metadata": {},
     "output_type": "execute_result"
    }
   ],
   "source": [
    "pd.DataFrame(index=data1.columns, columns=['%_missing_values'], data= (data1.isna().sum().values / len(data1)*100))"
   ]
  },
  {
   "cell_type": "markdown",
   "metadata": {},
   "source": [
    "La série de codes ci-dessous nous permet de traiter les valeurs manquantes détéctées, sur les variables concernées."
   ]
  },
  {
   "cell_type": "code",
   "execution_count": 25,
   "metadata": {},
   "outputs": [
    {
     "data": {
      "text/plain": [
       "0         False\n",
       "1         False\n",
       "2         False\n",
       "3         False\n",
       "4         False\n",
       "          ...  \n",
       "720085    False\n",
       "720086    False\n",
       "720087    False\n",
       "720088    False\n",
       "720089    False\n",
       "Name: CODEINSEE, Length: 720090, dtype: bool"
      ]
     },
     "execution_count": 25,
     "metadata": {},
     "output_type": "execute_result"
    }
   ],
   "source": [
    "data1['CODEINSEE'].isnull()"
   ]
  },
  {
   "cell_type": "code",
   "execution_count": 26,
   "metadata": {},
   "outputs": [],
   "source": [
    "data1.dropna(subset=['CODEINSEE'], inplace=True)"
   ]
  },
  {
   "cell_type": "code",
   "execution_count": 27,
   "metadata": {},
   "outputs": [
    {
     "data": {
      "text/plain": [
       "0         False\n",
       "1         False\n",
       "2         False\n",
       "3         False\n",
       "4         False\n",
       "          ...  \n",
       "720085    False\n",
       "720086    False\n",
       "720087    False\n",
       "720088    False\n",
       "720089    False\n",
       "Name: DATEREADHESION, Length: 709392, dtype: bool"
      ]
     },
     "execution_count": 27,
     "metadata": {},
     "output_type": "execute_result"
    }
   ],
   "source": [
    "data1['DATEREADHESION'].isnull()"
   ]
  },
  {
   "cell_type": "code",
   "execution_count": 28,
   "metadata": {},
   "outputs": [],
   "source": [
    "data1.dropna(subset=['DATEREADHESION'], inplace=True)"
   ]
  },
  {
   "cell_type": "markdown",
   "metadata": {},
   "source": [
    "Vérification du taitement."
   ]
  },
  {
   "cell_type": "code",
   "execution_count": 29,
   "metadata": {},
   "outputs": [
    {
     "data": {
      "text/html": [
       "<div>\n",
       "<style scoped>\n",
       "    .dataframe tbody tr th:only-of-type {\n",
       "        vertical-align: middle;\n",
       "    }\n",
       "\n",
       "    .dataframe tbody tr th {\n",
       "        vertical-align: top;\n",
       "    }\n",
       "\n",
       "    .dataframe thead th {\n",
       "        text-align: right;\n",
       "    }\n",
       "</style>\n",
       "<table border=\"1\" class=\"dataframe\">\n",
       "  <thead>\n",
       "    <tr style=\"text-align: right;\">\n",
       "      <th></th>\n",
       "      <th>%_missing_values</th>\n",
       "    </tr>\n",
       "  </thead>\n",
       "  <tbody>\n",
       "    <tr>\n",
       "      <th>IDCLIENT</th>\n",
       "      <td>0.0</td>\n",
       "    </tr>\n",
       "    <tr>\n",
       "      <th>CIVILITE</th>\n",
       "      <td>0.0</td>\n",
       "    </tr>\n",
       "    <tr>\n",
       "      <th>AGE</th>\n",
       "      <td>0.0</td>\n",
       "    </tr>\n",
       "    <tr>\n",
       "      <th>MAGASIN</th>\n",
       "      <td>0.0</td>\n",
       "    </tr>\n",
       "    <tr>\n",
       "      <th>DATEDEBUTADHESION</th>\n",
       "      <td>0.0</td>\n",
       "    </tr>\n",
       "    <tr>\n",
       "      <th>DATEREADHESION</th>\n",
       "      <td>0.0</td>\n",
       "    </tr>\n",
       "    <tr>\n",
       "      <th>DATEFINADHESION</th>\n",
       "      <td>0.0</td>\n",
       "    </tr>\n",
       "    <tr>\n",
       "      <th>CODEINSEE</th>\n",
       "      <td>0.0</td>\n",
       "    </tr>\n",
       "    <tr>\n",
       "      <th>PAYS</th>\n",
       "      <td>0.0</td>\n",
       "    </tr>\n",
       "    <tr>\n",
       "      <th>AGE</th>\n",
       "      <td>0.0</td>\n",
       "    </tr>\n",
       "    <tr>\n",
       "      <th>age_group</th>\n",
       "      <td>0.0</td>\n",
       "    </tr>\n",
       "  </tbody>\n",
       "</table>\n",
       "</div>"
      ],
      "text/plain": [
       "                   %_missing_values\n",
       "IDCLIENT                        0.0\n",
       "CIVILITE                        0.0\n",
       "AGE                             0.0\n",
       "MAGASIN                         0.0\n",
       "DATEDEBUTADHESION               0.0\n",
       "DATEREADHESION                  0.0\n",
       "DATEFINADHESION                 0.0\n",
       "CODEINSEE                       0.0\n",
       "PAYS                            0.0\n",
       "AGE                             0.0\n",
       "age_group                       0.0"
      ]
     },
     "execution_count": 29,
     "metadata": {},
     "output_type": "execute_result"
    }
   ],
   "source": [
    "pd.DataFrame(index=data1.columns, columns=['%_missing_values'], data= (data1.isna().sum().values / len(data1)*100))"
   ]
  },
  {
   "cell_type": "markdown",
   "metadata": {},
   "source": [
    "Le traitement des valeurs aberrantes ne concernant que les variables numériques, nous n'allons pas procéder à ce traitement car aucune de nos variables n'est concernées sur ce dataframe."
   ]
  },
  {
   "cell_type": "markdown",
   "metadata": {},
   "source": [
    "Suppression des colonnes dont les informations nous serons pas nécessairement utiles dans le cadre de notre projet."
   ]
  },
  {
   "cell_type": "code",
   "execution_count": 30,
   "metadata": {},
   "outputs": [],
   "source": [
    "data1.drop(columns=['PAYS'], inplace=True)"
   ]
  },
  {
   "cell_type": "code",
   "execution_count": 31,
   "metadata": {},
   "outputs": [],
   "source": [
    "data1.drop(columns=['AGE'], inplace=True)"
   ]
  },
  {
   "cell_type": "code",
   "execution_count": 32,
   "metadata": {},
   "outputs": [
    {
     "data": {
      "text/html": [
       "<div>\n",
       "<style scoped>\n",
       "    .dataframe tbody tr th:only-of-type {\n",
       "        vertical-align: middle;\n",
       "    }\n",
       "\n",
       "    .dataframe tbody tr th {\n",
       "        vertical-align: top;\n",
       "    }\n",
       "\n",
       "    .dataframe thead th {\n",
       "        text-align: right;\n",
       "    }\n",
       "</style>\n",
       "<table border=\"1\" class=\"dataframe\">\n",
       "  <thead>\n",
       "    <tr style=\"text-align: right;\">\n",
       "      <th></th>\n",
       "      <th>IDCLIENT</th>\n",
       "      <th>CIVILITE</th>\n",
       "      <th>MAGASIN</th>\n",
       "      <th>DATEDEBUTADHESION</th>\n",
       "      <th>DATEREADHESION</th>\n",
       "      <th>DATEFINADHESION</th>\n",
       "      <th>CODEINSEE</th>\n",
       "      <th>age_group</th>\n",
       "    </tr>\n",
       "  </thead>\n",
       "  <tbody>\n",
       "    <tr>\n",
       "      <th>0</th>\n",
       "      <td>155891.0</td>\n",
       "      <td>Madame</td>\n",
       "      <td>VLG</td>\n",
       "      <td>13/05/2005</td>\n",
       "      <td>04/04/2017</td>\n",
       "      <td>30/04/2018</td>\n",
       "      <td>74224</td>\n",
       "      <td>nan</td>\n",
       "    </tr>\n",
       "    <tr>\n",
       "      <th>1</th>\n",
       "      <td>156023.0</td>\n",
       "      <td>Monsieur</td>\n",
       "      <td>VLG</td>\n",
       "      <td>14/05/2005</td>\n",
       "      <td>21/06/2014</td>\n",
       "      <td>30/06/2016</td>\n",
       "      <td>74189</td>\n",
       "      <td>AGE DE 46-60</td>\n",
       "    </tr>\n",
       "    <tr>\n",
       "      <th>2</th>\n",
       "      <td>124203.0</td>\n",
       "      <td>Madame</td>\n",
       "      <td>BEA</td>\n",
       "      <td>16/03/2005</td>\n",
       "      <td>12/10/2017</td>\n",
       "      <td>31/10/2018</td>\n",
       "      <td>63070</td>\n",
       "      <td>nan</td>\n",
       "    </tr>\n",
       "    <tr>\n",
       "      <th>3</th>\n",
       "      <td>156190.0</td>\n",
       "      <td>Madame</td>\n",
       "      <td>SUR</td>\n",
       "      <td>28/08/2006</td>\n",
       "      <td>24/05/2015</td>\n",
       "      <td>31/05/2016</td>\n",
       "      <td>92026</td>\n",
       "      <td>nan</td>\n",
       "    </tr>\n",
       "    <tr>\n",
       "      <th>4</th>\n",
       "      <td>144444.0</td>\n",
       "      <td>Monsieur</td>\n",
       "      <td>LAB</td>\n",
       "      <td>29/04/2006</td>\n",
       "      <td>18/12/2016</td>\n",
       "      <td>31/12/2017</td>\n",
       "      <td>31555</td>\n",
       "      <td>nan</td>\n",
       "    </tr>\n",
       "    <tr>\n",
       "      <th>...</th>\n",
       "      <td>...</td>\n",
       "      <td>...</td>\n",
       "      <td>...</td>\n",
       "      <td>...</td>\n",
       "      <td>...</td>\n",
       "      <td>...</td>\n",
       "      <td>...</td>\n",
       "      <td>...</td>\n",
       "    </tr>\n",
       "    <tr>\n",
       "      <th>720085</th>\n",
       "      <td>1970111.0</td>\n",
       "      <td>Monsieur</td>\n",
       "      <td>IAB</td>\n",
       "      <td>14/04/2011</td>\n",
       "      <td>06/01/2018</td>\n",
       "      <td>31/01/2019</td>\n",
       "      <td>38053</td>\n",
       "      <td>nan</td>\n",
       "    </tr>\n",
       "    <tr>\n",
       "      <th>720086</th>\n",
       "      <td>2297275.0</td>\n",
       "      <td>Monsieur</td>\n",
       "      <td>SEM</td>\n",
       "      <td>07/03/2013</td>\n",
       "      <td>06/01/2018</td>\n",
       "      <td>31/01/2019</td>\n",
       "      <td>57067</td>\n",
       "      <td>AGE DE 31-45</td>\n",
       "    </tr>\n",
       "    <tr>\n",
       "      <th>720087</th>\n",
       "      <td>2305548.0</td>\n",
       "      <td>Monsieur</td>\n",
       "      <td>PRI</td>\n",
       "      <td>22/03/2013</td>\n",
       "      <td>06/01/2018</td>\n",
       "      <td>31/01/2019</td>\n",
       "      <td>38318</td>\n",
       "      <td>nan</td>\n",
       "    </tr>\n",
       "    <tr>\n",
       "      <th>720088</th>\n",
       "      <td>84175.0</td>\n",
       "      <td>Madame</td>\n",
       "      <td>GAI</td>\n",
       "      <td>29/10/2002</td>\n",
       "      <td>07/01/2018</td>\n",
       "      <td>31/01/2019</td>\n",
       "      <td>74082</td>\n",
       "      <td>AGE DE 61-100</td>\n",
       "    </tr>\n",
       "    <tr>\n",
       "      <th>720089</th>\n",
       "      <td>1280004.0</td>\n",
       "      <td>Monsieur</td>\n",
       "      <td>SGL</td>\n",
       "      <td>23/06/2007</td>\n",
       "      <td>07/01/2018</td>\n",
       "      <td>31/01/2019</td>\n",
       "      <td>42218</td>\n",
       "      <td>nan</td>\n",
       "    </tr>\n",
       "  </tbody>\n",
       "</table>\n",
       "<p>407389 rows × 8 columns</p>\n",
       "</div>"
      ],
      "text/plain": [
       "         IDCLIENT  CIVILITE MAGASIN DATEDEBUTADHESION DATEREADHESION  \\\n",
       "0        155891.0    Madame     VLG        13/05/2005     04/04/2017   \n",
       "1        156023.0  Monsieur     VLG        14/05/2005     21/06/2014   \n",
       "2        124203.0    Madame     BEA        16/03/2005     12/10/2017   \n",
       "3        156190.0    Madame     SUR        28/08/2006     24/05/2015   \n",
       "4        144444.0  Monsieur     LAB        29/04/2006     18/12/2016   \n",
       "...           ...       ...     ...               ...            ...   \n",
       "720085  1970111.0  Monsieur     IAB        14/04/2011     06/01/2018   \n",
       "720086  2297275.0  Monsieur     SEM        07/03/2013     06/01/2018   \n",
       "720087  2305548.0  Monsieur     PRI        22/03/2013     06/01/2018   \n",
       "720088    84175.0    Madame     GAI        29/10/2002     07/01/2018   \n",
       "720089  1280004.0  Monsieur     SGL        23/06/2007     07/01/2018   \n",
       "\n",
       "       DATEFINADHESION CODEINSEE      age_group  \n",
       "0           30/04/2018     74224            nan  \n",
       "1           30/06/2016     74189   AGE DE 46-60  \n",
       "2           31/10/2018     63070            nan  \n",
       "3           31/05/2016     92026            nan  \n",
       "4           31/12/2017     31555            nan  \n",
       "...                ...       ...            ...  \n",
       "720085      31/01/2019     38053            nan  \n",
       "720086      31/01/2019     57067   AGE DE 31-45  \n",
       "720087      31/01/2019     38318            nan  \n",
       "720088      31/01/2019     74082  AGE DE 61-100  \n",
       "720089      31/01/2019     42218            nan  \n",
       "\n",
       "[407389 rows x 8 columns]"
      ]
     },
     "execution_count": 32,
     "metadata": {},
     "output_type": "execute_result"
    }
   ],
   "source": [
    "data1"
   ]
  },
  {
   "cell_type": "code",
   "execution_count": 33,
   "metadata": {},
   "outputs": [],
   "source": [
    "import datetime\n",
    "from datetime import timedelta"
   ]
  },
  {
   "cell_type": "code",
   "execution_count": 34,
   "metadata": {},
   "outputs": [
    {
     "name": "stderr",
     "output_type": "stream",
     "text": [
      "C:\\Users\\belga\\AppData\\Local\\Temp\\ipykernel_24944\\1125558055.py:1: UserWarning: Parsing dates in %d/%m/%Y format when dayfirst=False (the default) was specified. Pass `dayfirst=True` or specify a format to silence this warning.\n",
      "  data1['DATEDEBUTADHESION'] = pd.to_datetime(data1['DATEDEBUTADHESION'])\n"
     ]
    }
   ],
   "source": [
    "data1['DATEDEBUTADHESION'] = pd.to_datetime(data1['DATEDEBUTADHESION'])"
   ]
  },
  {
   "cell_type": "code",
   "execution_count": 35,
   "metadata": {},
   "outputs": [],
   "source": [
    "data1['DATEDEBUTADHESION'] = data1['DATEDEBUTADHESION'].dt.year.astype(int)"
   ]
  },
  {
   "cell_type": "code",
   "execution_count": 36,
   "metadata": {},
   "outputs": [
    {
     "name": "stderr",
     "output_type": "stream",
     "text": [
      "C:\\Users\\belga\\AppData\\Local\\Temp\\ipykernel_24944\\124944321.py:1: UserWarning: Parsing dates in %d/%m/%Y format when dayfirst=False (the default) was specified. Pass `dayfirst=True` or specify a format to silence this warning.\n",
      "  data1['DATEFINADHESION'] = pd.to_datetime(data1['DATEFINADHESION'])\n"
     ]
    }
   ],
   "source": [
    "data1['DATEFINADHESION'] = pd.to_datetime(data1['DATEFINADHESION'])"
   ]
  },
  {
   "cell_type": "code",
   "execution_count": 37,
   "metadata": {},
   "outputs": [],
   "source": [
    "data1['DATEFINADHESION'] = data1['DATEFINADHESION'].dt.year.astype(int)"
   ]
  },
  {
   "cell_type": "code",
   "execution_count": 38,
   "metadata": {},
   "outputs": [
    {
     "name": "stdout",
     "output_type": "stream",
     "text": [
      "0    2005\n",
      "1    2005\n",
      "2    2005\n",
      "3    2006\n",
      "4    2006\n",
      "Name: DATEDEBUTADHESION, dtype: int32\n"
     ]
    }
   ],
   "source": [
    "if 'DATEDEBUTADHESION' in data1.columns:\n",
    "    Date_début = data1['DATEDEBUTADHESION']\n",
    "    print(Date_début.head())\n",
    "else:\n",
    "    print(\"La colonne 'DATEDEBUTADHESION' n'existe pas dans le DataFrame.\")"
   ]
  },
  {
   "cell_type": "code",
   "execution_count": 39,
   "metadata": {},
   "outputs": [
    {
     "name": "stdout",
     "output_type": "stream",
     "text": [
      "0    2018\n",
      "1    2016\n",
      "2    2018\n",
      "3    2016\n",
      "4    2017\n",
      "Name: DATEFINADHESION, dtype: int32\n"
     ]
    }
   ],
   "source": [
    "if 'DATEFINADHESION' in data1.columns:\n",
    "    Date_fin = data1['DATEFINADHESION']\n",
    "    print(Date_fin.head())\n",
    "else:\n",
    "    print(\"La colonne 'DATEFINADHESION' n'existe pas dans le DataFrame.\")"
   ]
  },
  {
   "cell_type": "code",
   "execution_count": 45,
   "metadata": {},
   "outputs": [],
   "source": [
    "ANCIENNETE = Date_fin - Date_début"
   ]
  },
  {
   "cell_type": "code",
   "execution_count": 46,
   "metadata": {},
   "outputs": [
    {
     "name": "stdout",
     "output_type": "stream",
     "text": [
      "0         13\n",
      "1         11\n",
      "2         13\n",
      "3         10\n",
      "4         11\n",
      "          ..\n",
      "720085     8\n",
      "720086     6\n",
      "720087     6\n",
      "720088    17\n",
      "720089    12\n",
      "Length: 407389, dtype: int32\n"
     ]
    }
   ],
   "source": [
    "print(ANCIENNETE)"
   ]
  }
 ],
 "metadata": {
  "kernelspec": {
   "display_name": "Python 3 (ipykernel)",
   "language": "python",
   "name": "python3"
  },
  "language_info": {
   "codemirror_mode": {
    "name": "ipython",
    "version": 3
   },
   "file_extension": ".py",
   "mimetype": "text/x-python",
   "name": "python",
   "nbconvert_exporter": "python",
   "pygments_lexer": "ipython3",
   "version": "3.11.5"
  }
 },
 "nbformat": 4,
 "nbformat_minor": 4
}
