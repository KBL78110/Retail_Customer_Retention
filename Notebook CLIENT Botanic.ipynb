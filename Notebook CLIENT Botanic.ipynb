{
 "cells": [
  {
   "cell_type": "code",
   "execution_count": null,
   "metadata": {},
   "outputs": [],
   "source": [
    "import pip\n",
    "pip.main(['install', 'pandas'])\n",
    "pip.main(['install', 'matplotlib'])\n",
    "pip.main(['install', 'seaborn'])\n",
    "pip.main(['install', 'scikit-learn'])"
   ]
  },
  {
   "cell_type": "markdown",
   "metadata": {},
   "source": [
    "CHARGEMENT DES BIBLIOTHEQUES"
   ]
  },
  {
   "cell_type": "code",
   "execution_count": 2,
   "metadata": {
    "ExecuteTime": {
     "end_time": "2024-06-19T20:34:25.529568Z",
     "start_time": "2024-06-19T20:34:25.527024Z"
    },
    "pycharm": {
     "is_executing": true
    },
    "tags": []
   },
   "outputs": [],
   "source": [
    "import pandas as pd\n",
    "import matplotlib.pyplot as plt\n",
    "import numpy as np\n",
    "import seaborn as sns\n",
    "\n",
    "from sklearn.linear_model import LogisticRegression\n",
    "from sklearn.model_selection import train_test_split\n",
    "from sklearn.datasets import make_classification\n",
    "from sklearn.metrics import roc_curve, auc\n",
    "from sklearn.metrics import accuracy_score, classification_report, confusion_matrix\n",
    "from sklearn.preprocessing import StandardScaler\n",
    "from sklearn.preprocessing import OneHotEncoder\n",
    "from sklearn.preprocessing import LabelEncoder\n"
   ]
  },
  {
   "cell_type": "markdown",
   "metadata": {},
   "source": [
    "CHARGEMENT DU JEU DE DONNEES"
   ]
  },
  {
   "cell_type": "code",
   "execution_count": 5,
   "metadata": {
    "ExecuteTime": {
     "end_time": "2024-06-19T20:34:28.380713Z",
     "start_time": "2024-06-19T20:34:27.859952Z"
    }
   },
   "outputs": [
    {
     "name": "stdout",
     "output_type": "stream",
     "text": [
      "(845876, 10)\n",
      "['IDCLIENT', 'CIVILITE', 'DATENAISSANCE', 'MAGASIN', 'DATEDEBUTADHESION', 'DATEREADHESION', 'DATEFINADHESION', 'VIP', 'CODEINSEE', 'PAYS']\n"
     ]
    }
   ],
   "source": [
    "dataset_path = \"C:\\\\Users\\\\belga\\\\OneDrive\\\\Bureau\\\\EMBA Big Data\\\\Module Datascience\\\\Projet Data Science S2 2024\\\\CLIENT.csv\"\n",
    "CLIENT = pd.read_csv(dataset_path, sep='|', low_memory=False)\n",
    "print(CLIENT.shape)\n",
    "print(list(CLIENT.columns))"
   ]
  },
  {
   "cell_type": "markdown",
   "metadata": {},
   "source": [
    "La ligne de code ci-dessous nous permet de connaître le détail des colonnes ainsi que le type de données constituant notre base (numérique ou caractères)."
   ]
  },
  {
   "cell_type": "code",
   "execution_count": 6,
   "metadata": {
    "ExecuteTime": {
     "end_time": "2024-06-19T20:34:30.349706Z",
     "start_time": "2024-06-19T20:34:30.342817Z"
    }
   },
   "outputs": [
    {
     "data": {
      "text/html": [
       "<div>\n",
       "<style scoped>\n",
       "    .dataframe tbody tr th:only-of-type {\n",
       "        vertical-align: middle;\n",
       "    }\n",
       "\n",
       "    .dataframe tbody tr th {\n",
       "        vertical-align: top;\n",
       "    }\n",
       "\n",
       "    .dataframe thead th {\n",
       "        text-align: right;\n",
       "    }\n",
       "</style>\n",
       "<table border=\"1\" class=\"dataframe\">\n",
       "  <thead>\n",
       "    <tr style=\"text-align: right;\">\n",
       "      <th></th>\n",
       "      <th>IDCLIENT</th>\n",
       "      <th>CIVILITE</th>\n",
       "      <th>DATENAISSANCE</th>\n",
       "      <th>MAGASIN</th>\n",
       "      <th>DATEDEBUTADHESION</th>\n",
       "      <th>DATEREADHESION</th>\n",
       "      <th>DATEFINADHESION</th>\n",
       "      <th>VIP</th>\n",
       "      <th>CODEINSEE</th>\n",
       "      <th>PAYS</th>\n",
       "    </tr>\n",
       "  </thead>\n",
       "  <tbody>\n",
       "    <tr>\n",
       "      <th>0</th>\n",
       "      <td>155891.0</td>\n",
       "      <td>MADAME</td>\n",
       "      <td>NaN</td>\n",
       "      <td>VLG</td>\n",
       "      <td>13/05/2005 0:00:00</td>\n",
       "      <td>4/04/2017 0:00:00</td>\n",
       "      <td>30/04/2018 0:00:00</td>\n",
       "      <td>0</td>\n",
       "      <td>74224</td>\n",
       "      <td>FR</td>\n",
       "    </tr>\n",
       "    <tr>\n",
       "      <th>1</th>\n",
       "      <td>156023.0</td>\n",
       "      <td>MONSIEUR</td>\n",
       "      <td>7/08/1966 0:00:00</td>\n",
       "      <td>VLG</td>\n",
       "      <td>14/05/2005 0:00:00</td>\n",
       "      <td>21/06/2014 0:00:00</td>\n",
       "      <td>30/06/2016 0:00:00</td>\n",
       "      <td>0</td>\n",
       "      <td>74189</td>\n",
       "      <td>FR</td>\n",
       "    </tr>\n",
       "    <tr>\n",
       "      <th>2</th>\n",
       "      <td>124203.0</td>\n",
       "      <td>MADAME</td>\n",
       "      <td>NaN</td>\n",
       "      <td>BEA</td>\n",
       "      <td>16/03/2005 0:00:00</td>\n",
       "      <td>12/10/2017 0:00:00</td>\n",
       "      <td>31/10/2018 0:00:00</td>\n",
       "      <td>0</td>\n",
       "      <td>63070</td>\n",
       "      <td>FR</td>\n",
       "    </tr>\n",
       "    <tr>\n",
       "      <th>3</th>\n",
       "      <td>156190.0</td>\n",
       "      <td>MADAME</td>\n",
       "      <td>24/07/1976 0:00:00</td>\n",
       "      <td>SUR</td>\n",
       "      <td>28/08/2006 0:00:00</td>\n",
       "      <td>24/05/2015 0:00:00</td>\n",
       "      <td>31/05/2016 0:00:00</td>\n",
       "      <td>0</td>\n",
       "      <td>92026</td>\n",
       "      <td>FR</td>\n",
       "    </tr>\n",
       "    <tr>\n",
       "      <th>4</th>\n",
       "      <td>144444.0</td>\n",
       "      <td>MONSIEUR</td>\n",
       "      <td>NaN</td>\n",
       "      <td>LAB</td>\n",
       "      <td>29/04/2006 0:00:00</td>\n",
       "      <td>18/12/2016 0:00:00</td>\n",
       "      <td>31/12/2017 0:00:00</td>\n",
       "      <td>0</td>\n",
       "      <td>31555</td>\n",
       "      <td>FR</td>\n",
       "    </tr>\n",
       "    <tr>\n",
       "      <th>...</th>\n",
       "      <td>...</td>\n",
       "      <td>...</td>\n",
       "      <td>...</td>\n",
       "      <td>...</td>\n",
       "      <td>...</td>\n",
       "      <td>...</td>\n",
       "      <td>...</td>\n",
       "      <td>...</td>\n",
       "      <td>...</td>\n",
       "      <td>...</td>\n",
       "    </tr>\n",
       "    <tr>\n",
       "      <th>845871</th>\n",
       "      <td>1970111.0</td>\n",
       "      <td>MONSIEUR</td>\n",
       "      <td>NaN</td>\n",
       "      <td>IAB</td>\n",
       "      <td>14/04/2011 0:00:00</td>\n",
       "      <td>6/01/2018 0:00:00</td>\n",
       "      <td>31/01/2019 0:00:00</td>\n",
       "      <td>0</td>\n",
       "      <td>38053</td>\n",
       "      <td>FR</td>\n",
       "    </tr>\n",
       "    <tr>\n",
       "      <th>845872</th>\n",
       "      <td>2297275.0</td>\n",
       "      <td>MONSIEUR</td>\n",
       "      <td>6/02/1988 0:00:00</td>\n",
       "      <td>SEM</td>\n",
       "      <td>7/03/2013 0:00:00</td>\n",
       "      <td>6/01/2018 0:00:00</td>\n",
       "      <td>31/01/2019 0:00:00</td>\n",
       "      <td>0</td>\n",
       "      <td>57067</td>\n",
       "      <td>FR</td>\n",
       "    </tr>\n",
       "    <tr>\n",
       "      <th>845873</th>\n",
       "      <td>2305548.0</td>\n",
       "      <td>MONSIEUR</td>\n",
       "      <td>NaN</td>\n",
       "      <td>PRI</td>\n",
       "      <td>22/03/2013 0:00:00</td>\n",
       "      <td>6/01/2018 0:00:00</td>\n",
       "      <td>31/01/2019 0:00:00</td>\n",
       "      <td>0</td>\n",
       "      <td>38318</td>\n",
       "      <td>FR</td>\n",
       "    </tr>\n",
       "    <tr>\n",
       "      <th>845874</th>\n",
       "      <td>84175.0</td>\n",
       "      <td>MADAME</td>\n",
       "      <td>7/04/1950 0:00:00</td>\n",
       "      <td>GAI</td>\n",
       "      <td>29/10/2002 0:00:00</td>\n",
       "      <td>7/01/2018 0:00:00</td>\n",
       "      <td>31/01/2019 0:00:00</td>\n",
       "      <td>0</td>\n",
       "      <td>74082</td>\n",
       "      <td>FR</td>\n",
       "    </tr>\n",
       "    <tr>\n",
       "      <th>845875</th>\n",
       "      <td>1280004.0</td>\n",
       "      <td>MONSIEUR</td>\n",
       "      <td>NaN</td>\n",
       "      <td>SGL</td>\n",
       "      <td>23/06/2007 0:00:00</td>\n",
       "      <td>7/01/2018 0:00:00</td>\n",
       "      <td>31/01/2019 0:00:00</td>\n",
       "      <td>0</td>\n",
       "      <td>42218</td>\n",
       "      <td>FR</td>\n",
       "    </tr>\n",
       "  </tbody>\n",
       "</table>\n",
       "<p>845876 rows × 10 columns</p>\n",
       "</div>"
      ],
      "text/plain": [
       "         IDCLIENT  CIVILITE       DATENAISSANCE MAGASIN   DATEDEBUTADHESION  \\\n",
       "0        155891.0    MADAME                 NaN     VLG  13/05/2005 0:00:00   \n",
       "1        156023.0  MONSIEUR   7/08/1966 0:00:00     VLG  14/05/2005 0:00:00   \n",
       "2        124203.0    MADAME                 NaN     BEA  16/03/2005 0:00:00   \n",
       "3        156190.0    MADAME  24/07/1976 0:00:00     SUR  28/08/2006 0:00:00   \n",
       "4        144444.0  MONSIEUR                 NaN     LAB  29/04/2006 0:00:00   \n",
       "...           ...       ...                 ...     ...                 ...   \n",
       "845871  1970111.0  MONSIEUR                 NaN     IAB  14/04/2011 0:00:00   \n",
       "845872  2297275.0  MONSIEUR   6/02/1988 0:00:00     SEM   7/03/2013 0:00:00   \n",
       "845873  2305548.0  MONSIEUR                 NaN     PRI  22/03/2013 0:00:00   \n",
       "845874    84175.0    MADAME   7/04/1950 0:00:00     GAI  29/10/2002 0:00:00   \n",
       "845875  1280004.0  MONSIEUR                 NaN     SGL  23/06/2007 0:00:00   \n",
       "\n",
       "            DATEREADHESION     DATEFINADHESION  VIP CODEINSEE PAYS  \n",
       "0        4/04/2017 0:00:00  30/04/2018 0:00:00    0     74224   FR  \n",
       "1       21/06/2014 0:00:00  30/06/2016 0:00:00    0     74189   FR  \n",
       "2       12/10/2017 0:00:00  31/10/2018 0:00:00    0     63070   FR  \n",
       "3       24/05/2015 0:00:00  31/05/2016 0:00:00    0     92026   FR  \n",
       "4       18/12/2016 0:00:00  31/12/2017 0:00:00    0     31555   FR  \n",
       "...                    ...                 ...  ...       ...  ...  \n",
       "845871   6/01/2018 0:00:00  31/01/2019 0:00:00    0     38053   FR  \n",
       "845872   6/01/2018 0:00:00  31/01/2019 0:00:00    0     57067   FR  \n",
       "845873   6/01/2018 0:00:00  31/01/2019 0:00:00    0     38318   FR  \n",
       "845874   7/01/2018 0:00:00  31/01/2019 0:00:00    0     74082   FR  \n",
       "845875   7/01/2018 0:00:00  31/01/2019 0:00:00    0     42218   FR  \n",
       "\n",
       "[845876 rows x 10 columns]"
      ]
     },
     "execution_count": 6,
     "metadata": {},
     "output_type": "execute_result"
    }
   ],
   "source": [
    "CLIENT"
   ]
  },
  {
   "cell_type": "code",
   "execution_count": 7,
   "metadata": {
    "ExecuteTime": {
     "end_time": "2024-06-19T20:34:32.494192Z",
     "start_time": "2024-06-19T20:34:32.387348Z"
    }
   },
   "outputs": [
    {
     "name": "stdout",
     "output_type": "stream",
     "text": [
      "<class 'pandas.core.frame.DataFrame'>\n",
      "RangeIndex: 845876 entries, 0 to 845875\n",
      "Data columns (total 10 columns):\n",
      " #   Column             Non-Null Count   Dtype  \n",
      "---  ------             --------------   -----  \n",
      " 0   IDCLIENT           845876 non-null  float64\n",
      " 1   CIVILITE           845876 non-null  object \n",
      " 2   DATENAISSANCE      507902 non-null  object \n",
      " 3   MAGASIN            845876 non-null  object \n",
      " 4   DATEDEBUTADHESION  845876 non-null  object \n",
      " 5   DATEREADHESION     507816 non-null  object \n",
      " 6   DATEFINADHESION    845876 non-null  object \n",
      " 7   VIP                845876 non-null  int64  \n",
      " 8   CODEINSEE          818455 non-null  object \n",
      " 9   PAYS               845873 non-null  object \n",
      "dtypes: float64(1), int64(1), object(8)\n",
      "memory usage: 64.5+ MB\n"
     ]
    }
   ],
   "source": [
    "CLIENT.info()"
   ]
  },
  {
   "cell_type": "markdown",
   "metadata": {},
   "source": [
    "Nous allons procéder à la suppression des clients VIP, qui ont un comportement atypique qui viendra biaiser nos résultats."
   ]
  },
  {
   "cell_type": "code",
   "execution_count": 8,
   "metadata": {
    "ExecuteTime": {
     "end_time": "2024-06-19T20:34:34.218136Z",
     "start_time": "2024-06-19T20:34:34.212391Z"
    }
   },
   "outputs": [
    {
     "data": {
      "text/html": [
       "<div>\n",
       "<style scoped>\n",
       "    .dataframe tbody tr th:only-of-type {\n",
       "        vertical-align: middle;\n",
       "    }\n",
       "\n",
       "    .dataframe tbody tr th {\n",
       "        vertical-align: top;\n",
       "    }\n",
       "\n",
       "    .dataframe thead th {\n",
       "        text-align: right;\n",
       "    }\n",
       "</style>\n",
       "<table border=\"1\" class=\"dataframe\">\n",
       "  <thead>\n",
       "    <tr style=\"text-align: right;\">\n",
       "      <th></th>\n",
       "      <th>IDCLIENT</th>\n",
       "      <th>CIVILITE</th>\n",
       "      <th>DATENAISSANCE</th>\n",
       "      <th>MAGASIN</th>\n",
       "      <th>DATEDEBUTADHESION</th>\n",
       "      <th>DATEREADHESION</th>\n",
       "      <th>DATEFINADHESION</th>\n",
       "      <th>VIP</th>\n",
       "      <th>CODEINSEE</th>\n",
       "      <th>PAYS</th>\n",
       "    </tr>\n",
       "  </thead>\n",
       "  <tbody>\n",
       "    <tr>\n",
       "      <th>0</th>\n",
       "      <td>155891.0</td>\n",
       "      <td>MADAME</td>\n",
       "      <td>NaN</td>\n",
       "      <td>VLG</td>\n",
       "      <td>13/05/2005 0:00:00</td>\n",
       "      <td>4/04/2017 0:00:00</td>\n",
       "      <td>30/04/2018 0:00:00</td>\n",
       "      <td>0</td>\n",
       "      <td>74224</td>\n",
       "      <td>FR</td>\n",
       "    </tr>\n",
       "    <tr>\n",
       "      <th>1</th>\n",
       "      <td>156023.0</td>\n",
       "      <td>MONSIEUR</td>\n",
       "      <td>7/08/1966 0:00:00</td>\n",
       "      <td>VLG</td>\n",
       "      <td>14/05/2005 0:00:00</td>\n",
       "      <td>21/06/2014 0:00:00</td>\n",
       "      <td>30/06/2016 0:00:00</td>\n",
       "      <td>0</td>\n",
       "      <td>74189</td>\n",
       "      <td>FR</td>\n",
       "    </tr>\n",
       "    <tr>\n",
       "      <th>2</th>\n",
       "      <td>124203.0</td>\n",
       "      <td>MADAME</td>\n",
       "      <td>NaN</td>\n",
       "      <td>BEA</td>\n",
       "      <td>16/03/2005 0:00:00</td>\n",
       "      <td>12/10/2017 0:00:00</td>\n",
       "      <td>31/10/2018 0:00:00</td>\n",
       "      <td>0</td>\n",
       "      <td>63070</td>\n",
       "      <td>FR</td>\n",
       "    </tr>\n",
       "    <tr>\n",
       "      <th>3</th>\n",
       "      <td>156190.0</td>\n",
       "      <td>MADAME</td>\n",
       "      <td>24/07/1976 0:00:00</td>\n",
       "      <td>SUR</td>\n",
       "      <td>28/08/2006 0:00:00</td>\n",
       "      <td>24/05/2015 0:00:00</td>\n",
       "      <td>31/05/2016 0:00:00</td>\n",
       "      <td>0</td>\n",
       "      <td>92026</td>\n",
       "      <td>FR</td>\n",
       "    </tr>\n",
       "    <tr>\n",
       "      <th>4</th>\n",
       "      <td>144444.0</td>\n",
       "      <td>MONSIEUR</td>\n",
       "      <td>NaN</td>\n",
       "      <td>LAB</td>\n",
       "      <td>29/04/2006 0:00:00</td>\n",
       "      <td>18/12/2016 0:00:00</td>\n",
       "      <td>31/12/2017 0:00:00</td>\n",
       "      <td>0</td>\n",
       "      <td>31555</td>\n",
       "      <td>FR</td>\n",
       "    </tr>\n",
       "  </tbody>\n",
       "</table>\n",
       "</div>"
      ],
      "text/plain": [
       "   IDCLIENT  CIVILITE       DATENAISSANCE MAGASIN   DATEDEBUTADHESION  \\\n",
       "0  155891.0    MADAME                 NaN     VLG  13/05/2005 0:00:00   \n",
       "1  156023.0  MONSIEUR   7/08/1966 0:00:00     VLG  14/05/2005 0:00:00   \n",
       "2  124203.0    MADAME                 NaN     BEA  16/03/2005 0:00:00   \n",
       "3  156190.0    MADAME  24/07/1976 0:00:00     SUR  28/08/2006 0:00:00   \n",
       "4  144444.0  MONSIEUR                 NaN     LAB  29/04/2006 0:00:00   \n",
       "\n",
       "       DATEREADHESION     DATEFINADHESION  VIP CODEINSEE PAYS  \n",
       "0   4/04/2017 0:00:00  30/04/2018 0:00:00    0     74224   FR  \n",
       "1  21/06/2014 0:00:00  30/06/2016 0:00:00    0     74189   FR  \n",
       "2  12/10/2017 0:00:00  31/10/2018 0:00:00    0     63070   FR  \n",
       "3  24/05/2015 0:00:00  31/05/2016 0:00:00    0     92026   FR  \n",
       "4  18/12/2016 0:00:00  31/12/2017 0:00:00    0     31555   FR  "
      ]
     },
     "execution_count": 8,
     "metadata": {},
     "output_type": "execute_result"
    }
   ],
   "source": [
    "CLIENT.head()"
   ]
  },
  {
   "cell_type": "markdown",
   "metadata": {},
   "source": [
    "Traitement des clients VIP, que nous ne souhaitons pas comptabiliser, car leur comportement atypique viendrait fausser nos résultats."
   ]
  },
  {
   "cell_type": "code",
   "execution_count": 9,
   "metadata": {
    "ExecuteTime": {
     "end_time": "2024-06-19T20:34:35.028430Z",
     "start_time": "2024-06-19T20:34:34.996165Z"
    }
   },
   "outputs": [
    {
     "name": "stdout",
     "output_type": "stream",
     "text": [
      "(735425, 10)\n"
     ]
    }
   ],
   "source": [
    "# Supprimer les lignes où la valeur de la colonne 'VIP' est égale à 1\n",
    "CLIENT = CLIENT[CLIENT['VIP'] != 1]\n",
    "\n",
    "# Vérifier la nouvelle forme du DataFrame\n",
    "print(CLIENT.shape)"
   ]
  },
  {
   "cell_type": "markdown",
   "metadata": {},
   "source": [
    "Suppression de la colonne VIP."
   ]
  },
  {
   "cell_type": "code",
   "execution_count": 10,
   "metadata": {
    "ExecuteTime": {
     "end_time": "2024-06-19T20:34:35.715558Z",
     "start_time": "2024-06-19T20:34:35.673987Z"
    }
   },
   "outputs": [],
   "source": [
    "CLIENT = CLIENT.drop(\"VIP\",axis=1)"
   ]
  },
  {
   "cell_type": "markdown",
   "metadata": {},
   "source": [
    "Vérification du traitement."
   ]
  },
  {
   "cell_type": "code",
   "execution_count": 11,
   "metadata": {
    "ExecuteTime": {
     "end_time": "2024-06-19T20:34:38.267783Z",
     "start_time": "2024-06-19T20:34:38.261145Z"
    }
   },
   "outputs": [
    {
     "data": {
      "text/html": [
       "<div>\n",
       "<style scoped>\n",
       "    .dataframe tbody tr th:only-of-type {\n",
       "        vertical-align: middle;\n",
       "    }\n",
       "\n",
       "    .dataframe tbody tr th {\n",
       "        vertical-align: top;\n",
       "    }\n",
       "\n",
       "    .dataframe thead th {\n",
       "        text-align: right;\n",
       "    }\n",
       "</style>\n",
       "<table border=\"1\" class=\"dataframe\">\n",
       "  <thead>\n",
       "    <tr style=\"text-align: right;\">\n",
       "      <th></th>\n",
       "      <th>IDCLIENT</th>\n",
       "      <th>CIVILITE</th>\n",
       "      <th>DATENAISSANCE</th>\n",
       "      <th>MAGASIN</th>\n",
       "      <th>DATEDEBUTADHESION</th>\n",
       "      <th>DATEREADHESION</th>\n",
       "      <th>DATEFINADHESION</th>\n",
       "      <th>CODEINSEE</th>\n",
       "      <th>PAYS</th>\n",
       "    </tr>\n",
       "  </thead>\n",
       "  <tbody>\n",
       "    <tr>\n",
       "      <th>0</th>\n",
       "      <td>155891.0</td>\n",
       "      <td>MADAME</td>\n",
       "      <td>NaN</td>\n",
       "      <td>VLG</td>\n",
       "      <td>13/05/2005 0:00:00</td>\n",
       "      <td>4/04/2017 0:00:00</td>\n",
       "      <td>30/04/2018 0:00:00</td>\n",
       "      <td>74224</td>\n",
       "      <td>FR</td>\n",
       "    </tr>\n",
       "    <tr>\n",
       "      <th>1</th>\n",
       "      <td>156023.0</td>\n",
       "      <td>MONSIEUR</td>\n",
       "      <td>7/08/1966 0:00:00</td>\n",
       "      <td>VLG</td>\n",
       "      <td>14/05/2005 0:00:00</td>\n",
       "      <td>21/06/2014 0:00:00</td>\n",
       "      <td>30/06/2016 0:00:00</td>\n",
       "      <td>74189</td>\n",
       "      <td>FR</td>\n",
       "    </tr>\n",
       "    <tr>\n",
       "      <th>2</th>\n",
       "      <td>124203.0</td>\n",
       "      <td>MADAME</td>\n",
       "      <td>NaN</td>\n",
       "      <td>BEA</td>\n",
       "      <td>16/03/2005 0:00:00</td>\n",
       "      <td>12/10/2017 0:00:00</td>\n",
       "      <td>31/10/2018 0:00:00</td>\n",
       "      <td>63070</td>\n",
       "      <td>FR</td>\n",
       "    </tr>\n",
       "    <tr>\n",
       "      <th>3</th>\n",
       "      <td>156190.0</td>\n",
       "      <td>MADAME</td>\n",
       "      <td>24/07/1976 0:00:00</td>\n",
       "      <td>SUR</td>\n",
       "      <td>28/08/2006 0:00:00</td>\n",
       "      <td>24/05/2015 0:00:00</td>\n",
       "      <td>31/05/2016 0:00:00</td>\n",
       "      <td>92026</td>\n",
       "      <td>FR</td>\n",
       "    </tr>\n",
       "    <tr>\n",
       "      <th>4</th>\n",
       "      <td>144444.0</td>\n",
       "      <td>MONSIEUR</td>\n",
       "      <td>NaN</td>\n",
       "      <td>LAB</td>\n",
       "      <td>29/04/2006 0:00:00</td>\n",
       "      <td>18/12/2016 0:00:00</td>\n",
       "      <td>31/12/2017 0:00:00</td>\n",
       "      <td>31555</td>\n",
       "      <td>FR</td>\n",
       "    </tr>\n",
       "    <tr>\n",
       "      <th>...</th>\n",
       "      <td>...</td>\n",
       "      <td>...</td>\n",
       "      <td>...</td>\n",
       "      <td>...</td>\n",
       "      <td>...</td>\n",
       "      <td>...</td>\n",
       "      <td>...</td>\n",
       "      <td>...</td>\n",
       "      <td>...</td>\n",
       "    </tr>\n",
       "    <tr>\n",
       "      <th>845871</th>\n",
       "      <td>1970111.0</td>\n",
       "      <td>MONSIEUR</td>\n",
       "      <td>NaN</td>\n",
       "      <td>IAB</td>\n",
       "      <td>14/04/2011 0:00:00</td>\n",
       "      <td>6/01/2018 0:00:00</td>\n",
       "      <td>31/01/2019 0:00:00</td>\n",
       "      <td>38053</td>\n",
       "      <td>FR</td>\n",
       "    </tr>\n",
       "    <tr>\n",
       "      <th>845872</th>\n",
       "      <td>2297275.0</td>\n",
       "      <td>MONSIEUR</td>\n",
       "      <td>6/02/1988 0:00:00</td>\n",
       "      <td>SEM</td>\n",
       "      <td>7/03/2013 0:00:00</td>\n",
       "      <td>6/01/2018 0:00:00</td>\n",
       "      <td>31/01/2019 0:00:00</td>\n",
       "      <td>57067</td>\n",
       "      <td>FR</td>\n",
       "    </tr>\n",
       "    <tr>\n",
       "      <th>845873</th>\n",
       "      <td>2305548.0</td>\n",
       "      <td>MONSIEUR</td>\n",
       "      <td>NaN</td>\n",
       "      <td>PRI</td>\n",
       "      <td>22/03/2013 0:00:00</td>\n",
       "      <td>6/01/2018 0:00:00</td>\n",
       "      <td>31/01/2019 0:00:00</td>\n",
       "      <td>38318</td>\n",
       "      <td>FR</td>\n",
       "    </tr>\n",
       "    <tr>\n",
       "      <th>845874</th>\n",
       "      <td>84175.0</td>\n",
       "      <td>MADAME</td>\n",
       "      <td>7/04/1950 0:00:00</td>\n",
       "      <td>GAI</td>\n",
       "      <td>29/10/2002 0:00:00</td>\n",
       "      <td>7/01/2018 0:00:00</td>\n",
       "      <td>31/01/2019 0:00:00</td>\n",
       "      <td>74082</td>\n",
       "      <td>FR</td>\n",
       "    </tr>\n",
       "    <tr>\n",
       "      <th>845875</th>\n",
       "      <td>1280004.0</td>\n",
       "      <td>MONSIEUR</td>\n",
       "      <td>NaN</td>\n",
       "      <td>SGL</td>\n",
       "      <td>23/06/2007 0:00:00</td>\n",
       "      <td>7/01/2018 0:00:00</td>\n",
       "      <td>31/01/2019 0:00:00</td>\n",
       "      <td>42218</td>\n",
       "      <td>FR</td>\n",
       "    </tr>\n",
       "  </tbody>\n",
       "</table>\n",
       "<p>735425 rows × 9 columns</p>\n",
       "</div>"
      ],
      "text/plain": [
       "         IDCLIENT  CIVILITE       DATENAISSANCE MAGASIN   DATEDEBUTADHESION  \\\n",
       "0        155891.0    MADAME                 NaN     VLG  13/05/2005 0:00:00   \n",
       "1        156023.0  MONSIEUR   7/08/1966 0:00:00     VLG  14/05/2005 0:00:00   \n",
       "2        124203.0    MADAME                 NaN     BEA  16/03/2005 0:00:00   \n",
       "3        156190.0    MADAME  24/07/1976 0:00:00     SUR  28/08/2006 0:00:00   \n",
       "4        144444.0  MONSIEUR                 NaN     LAB  29/04/2006 0:00:00   \n",
       "...           ...       ...                 ...     ...                 ...   \n",
       "845871  1970111.0  MONSIEUR                 NaN     IAB  14/04/2011 0:00:00   \n",
       "845872  2297275.0  MONSIEUR   6/02/1988 0:00:00     SEM   7/03/2013 0:00:00   \n",
       "845873  2305548.0  MONSIEUR                 NaN     PRI  22/03/2013 0:00:00   \n",
       "845874    84175.0    MADAME   7/04/1950 0:00:00     GAI  29/10/2002 0:00:00   \n",
       "845875  1280004.0  MONSIEUR                 NaN     SGL  23/06/2007 0:00:00   \n",
       "\n",
       "            DATEREADHESION     DATEFINADHESION CODEINSEE PAYS  \n",
       "0        4/04/2017 0:00:00  30/04/2018 0:00:00     74224   FR  \n",
       "1       21/06/2014 0:00:00  30/06/2016 0:00:00     74189   FR  \n",
       "2       12/10/2017 0:00:00  31/10/2018 0:00:00     63070   FR  \n",
       "3       24/05/2015 0:00:00  31/05/2016 0:00:00     92026   FR  \n",
       "4       18/12/2016 0:00:00  31/12/2017 0:00:00     31555   FR  \n",
       "...                    ...                 ...       ...  ...  \n",
       "845871   6/01/2018 0:00:00  31/01/2019 0:00:00     38053   FR  \n",
       "845872   6/01/2018 0:00:00  31/01/2019 0:00:00     57067   FR  \n",
       "845873   6/01/2018 0:00:00  31/01/2019 0:00:00     38318   FR  \n",
       "845874   7/01/2018 0:00:00  31/01/2019 0:00:00     74082   FR  \n",
       "845875   7/01/2018 0:00:00  31/01/2019 0:00:00     42218   FR  \n",
       "\n",
       "[735425 rows x 9 columns]"
      ]
     },
     "execution_count": 11,
     "metadata": {},
     "output_type": "execute_result"
    }
   ],
   "source": [
    "CLIENT"
   ]
  },
  {
   "cell_type": "markdown",
   "metadata": {},
   "source": [
    "La ligne de code ci-dessous nous permet de formater le format de la date."
   ]
  },
  {
   "cell_type": "code",
   "execution_count": 12,
   "metadata": {
    "ExecuteTime": {
     "end_time": "2024-06-19T20:34:45.651803Z",
     "start_time": "2024-06-19T20:34:40.072221Z"
    }
   },
   "outputs": [],
   "source": [
    "# Adapter le format de date pour les colonnes spécifiées\n",
    "date_columns = ['DATENAISSANCE', 'DATEDEBUTADHESION', 'DATEREADHESION', 'DATEFINADHESION']\n",
    "for col in date_columns:\n",
    "    CLIENT[col] = pd.to_datetime(CLIENT[col], format='%d/%m/%Y %H:%M:%S',errors = 'coerce').dt.strftime('%d/%m/%Y')"
   ]
  },
  {
   "cell_type": "markdown",
   "metadata": {},
   "source": [
    "Vérification du traitement."
   ]
  },
  {
   "cell_type": "code",
   "execution_count": 13,
   "metadata": {
    "ExecuteTime": {
     "end_time": "2024-06-19T20:34:45.656826Z",
     "start_time": "2024-06-19T20:34:45.652734Z"
    }
   },
   "outputs": [
    {
     "data": {
      "text/html": [
       "<div>\n",
       "<style scoped>\n",
       "    .dataframe tbody tr th:only-of-type {\n",
       "        vertical-align: middle;\n",
       "    }\n",
       "\n",
       "    .dataframe tbody tr th {\n",
       "        vertical-align: top;\n",
       "    }\n",
       "\n",
       "    .dataframe thead th {\n",
       "        text-align: right;\n",
       "    }\n",
       "</style>\n",
       "<table border=\"1\" class=\"dataframe\">\n",
       "  <thead>\n",
       "    <tr style=\"text-align: right;\">\n",
       "      <th></th>\n",
       "      <th>IDCLIENT</th>\n",
       "      <th>CIVILITE</th>\n",
       "      <th>DATENAISSANCE</th>\n",
       "      <th>MAGASIN</th>\n",
       "      <th>DATEDEBUTADHESION</th>\n",
       "      <th>DATEREADHESION</th>\n",
       "      <th>DATEFINADHESION</th>\n",
       "      <th>CODEINSEE</th>\n",
       "      <th>PAYS</th>\n",
       "    </tr>\n",
       "  </thead>\n",
       "  <tbody>\n",
       "    <tr>\n",
       "      <th>0</th>\n",
       "      <td>155891.0</td>\n",
       "      <td>MADAME</td>\n",
       "      <td>NaN</td>\n",
       "      <td>VLG</td>\n",
       "      <td>13/05/2005</td>\n",
       "      <td>04/04/2017</td>\n",
       "      <td>30/04/2018</td>\n",
       "      <td>74224</td>\n",
       "      <td>FR</td>\n",
       "    </tr>\n",
       "    <tr>\n",
       "      <th>1</th>\n",
       "      <td>156023.0</td>\n",
       "      <td>MONSIEUR</td>\n",
       "      <td>07/08/1966</td>\n",
       "      <td>VLG</td>\n",
       "      <td>14/05/2005</td>\n",
       "      <td>21/06/2014</td>\n",
       "      <td>30/06/2016</td>\n",
       "      <td>74189</td>\n",
       "      <td>FR</td>\n",
       "    </tr>\n",
       "    <tr>\n",
       "      <th>2</th>\n",
       "      <td>124203.0</td>\n",
       "      <td>MADAME</td>\n",
       "      <td>NaN</td>\n",
       "      <td>BEA</td>\n",
       "      <td>16/03/2005</td>\n",
       "      <td>12/10/2017</td>\n",
       "      <td>31/10/2018</td>\n",
       "      <td>63070</td>\n",
       "      <td>FR</td>\n",
       "    </tr>\n",
       "    <tr>\n",
       "      <th>3</th>\n",
       "      <td>156190.0</td>\n",
       "      <td>MADAME</td>\n",
       "      <td>24/07/1976</td>\n",
       "      <td>SUR</td>\n",
       "      <td>28/08/2006</td>\n",
       "      <td>24/05/2015</td>\n",
       "      <td>31/05/2016</td>\n",
       "      <td>92026</td>\n",
       "      <td>FR</td>\n",
       "    </tr>\n",
       "    <tr>\n",
       "      <th>4</th>\n",
       "      <td>144444.0</td>\n",
       "      <td>MONSIEUR</td>\n",
       "      <td>NaN</td>\n",
       "      <td>LAB</td>\n",
       "      <td>29/04/2006</td>\n",
       "      <td>18/12/2016</td>\n",
       "      <td>31/12/2017</td>\n",
       "      <td>31555</td>\n",
       "      <td>FR</td>\n",
       "    </tr>\n",
       "    <tr>\n",
       "      <th>...</th>\n",
       "      <td>...</td>\n",
       "      <td>...</td>\n",
       "      <td>...</td>\n",
       "      <td>...</td>\n",
       "      <td>...</td>\n",
       "      <td>...</td>\n",
       "      <td>...</td>\n",
       "      <td>...</td>\n",
       "      <td>...</td>\n",
       "    </tr>\n",
       "    <tr>\n",
       "      <th>845871</th>\n",
       "      <td>1970111.0</td>\n",
       "      <td>MONSIEUR</td>\n",
       "      <td>NaN</td>\n",
       "      <td>IAB</td>\n",
       "      <td>14/04/2011</td>\n",
       "      <td>06/01/2018</td>\n",
       "      <td>31/01/2019</td>\n",
       "      <td>38053</td>\n",
       "      <td>FR</td>\n",
       "    </tr>\n",
       "    <tr>\n",
       "      <th>845872</th>\n",
       "      <td>2297275.0</td>\n",
       "      <td>MONSIEUR</td>\n",
       "      <td>06/02/1988</td>\n",
       "      <td>SEM</td>\n",
       "      <td>07/03/2013</td>\n",
       "      <td>06/01/2018</td>\n",
       "      <td>31/01/2019</td>\n",
       "      <td>57067</td>\n",
       "      <td>FR</td>\n",
       "    </tr>\n",
       "    <tr>\n",
       "      <th>845873</th>\n",
       "      <td>2305548.0</td>\n",
       "      <td>MONSIEUR</td>\n",
       "      <td>NaN</td>\n",
       "      <td>PRI</td>\n",
       "      <td>22/03/2013</td>\n",
       "      <td>06/01/2018</td>\n",
       "      <td>31/01/2019</td>\n",
       "      <td>38318</td>\n",
       "      <td>FR</td>\n",
       "    </tr>\n",
       "    <tr>\n",
       "      <th>845874</th>\n",
       "      <td>84175.0</td>\n",
       "      <td>MADAME</td>\n",
       "      <td>07/04/1950</td>\n",
       "      <td>GAI</td>\n",
       "      <td>29/10/2002</td>\n",
       "      <td>07/01/2018</td>\n",
       "      <td>31/01/2019</td>\n",
       "      <td>74082</td>\n",
       "      <td>FR</td>\n",
       "    </tr>\n",
       "    <tr>\n",
       "      <th>845875</th>\n",
       "      <td>1280004.0</td>\n",
       "      <td>MONSIEUR</td>\n",
       "      <td>NaN</td>\n",
       "      <td>SGL</td>\n",
       "      <td>23/06/2007</td>\n",
       "      <td>07/01/2018</td>\n",
       "      <td>31/01/2019</td>\n",
       "      <td>42218</td>\n",
       "      <td>FR</td>\n",
       "    </tr>\n",
       "  </tbody>\n",
       "</table>\n",
       "<p>735425 rows × 9 columns</p>\n",
       "</div>"
      ],
      "text/plain": [
       "         IDCLIENT  CIVILITE DATENAISSANCE MAGASIN DATEDEBUTADHESION  \\\n",
       "0        155891.0    MADAME           NaN     VLG        13/05/2005   \n",
       "1        156023.0  MONSIEUR    07/08/1966     VLG        14/05/2005   \n",
       "2        124203.0    MADAME           NaN     BEA        16/03/2005   \n",
       "3        156190.0    MADAME    24/07/1976     SUR        28/08/2006   \n",
       "4        144444.0  MONSIEUR           NaN     LAB        29/04/2006   \n",
       "...           ...       ...           ...     ...               ...   \n",
       "845871  1970111.0  MONSIEUR           NaN     IAB        14/04/2011   \n",
       "845872  2297275.0  MONSIEUR    06/02/1988     SEM        07/03/2013   \n",
       "845873  2305548.0  MONSIEUR           NaN     PRI        22/03/2013   \n",
       "845874    84175.0    MADAME    07/04/1950     GAI        29/10/2002   \n",
       "845875  1280004.0  MONSIEUR           NaN     SGL        23/06/2007   \n",
       "\n",
       "       DATEREADHESION DATEFINADHESION CODEINSEE PAYS  \n",
       "0          04/04/2017      30/04/2018     74224   FR  \n",
       "1          21/06/2014      30/06/2016     74189   FR  \n",
       "2          12/10/2017      31/10/2018     63070   FR  \n",
       "3          24/05/2015      31/05/2016     92026   FR  \n",
       "4          18/12/2016      31/12/2017     31555   FR  \n",
       "...               ...             ...       ...  ...  \n",
       "845871     06/01/2018      31/01/2019     38053   FR  \n",
       "845872     06/01/2018      31/01/2019     57067   FR  \n",
       "845873     06/01/2018      31/01/2019     38318   FR  \n",
       "845874     07/01/2018      31/01/2019     74082   FR  \n",
       "845875     07/01/2018      31/01/2019     42218   FR  \n",
       "\n",
       "[735425 rows x 9 columns]"
      ]
     },
     "execution_count": 13,
     "metadata": {},
     "output_type": "execute_result"
    }
   ],
   "source": [
    "CLIENT"
   ]
  },
  {
   "cell_type": "markdown",
   "metadata": {},
   "source": [
    "Cette ligne de code nous permet d'identifier le nombre d'occurence de chaque civilité, pour identifier les éventuels regroupements à effectuer. "
   ]
  },
  {
   "cell_type": "code",
   "execution_count": 14,
   "metadata": {
    "ExecuteTime": {
     "end_time": "2024-06-19T20:34:45.663315Z",
     "start_time": "2024-06-19T20:34:45.657311Z"
    }
   },
   "outputs": [
    {
     "data": {
      "text/plain": [
       "CIVILITE\n",
       "MADAME      393703\n",
       "MONSIEUR    337360\n",
       "Mr            1431\n",
       "Mme           1284\n",
       "madame         976\n",
       "monsieur       671\n",
       "Name: count, dtype: int64"
      ]
     },
     "execution_count": 14,
     "metadata": {},
     "output_type": "execute_result"
    }
   ],
   "source": [
    "#modalités variables:\n",
    "CLIENT['CIVILITE'].value_counts(dropna = False)"
   ]
  },
  {
   "cell_type": "markdown",
   "metadata": {},
   "source": [
    "Il convient de procéder aux regroupements ci-dessous."
   ]
  },
  {
   "cell_type": "code",
   "execution_count": 15,
   "metadata": {
    "ExecuteTime": {
     "end_time": "2024-06-19T20:34:45.818969Z",
     "start_time": "2024-06-19T20:34:45.664197Z"
    }
   },
   "outputs": [],
   "source": [
    "#regroupement des modalités:\n",
    "CLIENT['CIVILITE']=np.where(CLIENT['CIVILITE'] =='MADAME', 'Madame', CLIENT['CIVILITE']) \n",
    "CLIENT['CIVILITE']=np.where(CLIENT['CIVILITE'] =='Mme', 'Madame', CLIENT['CIVILITE'])\n",
    "CLIENT['CIVILITE']=np.where(CLIENT['CIVILITE'] =='madame', 'Madame', CLIENT['CIVILITE']) \n",
    "CLIENT['CIVILITE']=np.where(CLIENT['CIVILITE'] =='MONSIEUR', 'Monsieur', CLIENT['CIVILITE'])\n",
    "CLIENT['CIVILITE']=np.where(CLIENT['CIVILITE'] =='Mr', 'Monsieur', CLIENT['CIVILITE'])\n",
    "CLIENT['CIVILITE']=np.where(CLIENT['CIVILITE'] =='monsieur', 'Monsieur', CLIENT['CIVILITE'])"
   ]
  },
  {
   "cell_type": "markdown",
   "metadata": {},
   "source": [
    "Vérification du traitement."
   ]
  },
  {
   "cell_type": "code",
   "execution_count": 16,
   "metadata": {
    "ExecuteTime": {
     "end_time": "2024-06-19T20:34:47.192263Z",
     "start_time": "2024-06-19T20:34:47.181133Z"
    }
   },
   "outputs": [
    {
     "data": {
      "text/plain": [
       "CIVILITE\n",
       "Madame      395963\n",
       "Monsieur    339462\n",
       "Name: count, dtype: int64"
      ]
     },
     "execution_count": 16,
     "metadata": {},
     "output_type": "execute_result"
    }
   ],
   "source": [
    "CLIENT['CIVILITE'].value_counts(dropna = False)"
   ]
  },
  {
   "cell_type": "markdown",
   "metadata": {},
   "source": [
    "Traitement de la civilité en variable \"sexe\" pour plus de pertinence."
   ]
  },
  {
   "cell_type": "code",
   "execution_count": 17,
   "metadata": {
    "ExecuteTime": {
     "end_time": "2024-06-19T20:34:48.562430Z",
     "start_time": "2024-06-19T20:34:48.532444Z"
    }
   },
   "outputs": [
    {
     "name": "stdout",
     "output_type": "stream",
     "text": [
      "         IDCLIENT  CIVILITE DATENAISSANCE MAGASIN DATEDEBUTADHESION  \\\n",
      "0        155891.0    Madame           NaN     VLG        13/05/2005   \n",
      "1        156023.0  Monsieur    07/08/1966     VLG        14/05/2005   \n",
      "2        124203.0    Madame           NaN     BEA        16/03/2005   \n",
      "3        156190.0    Madame    24/07/1976     SUR        28/08/2006   \n",
      "4        144444.0  Monsieur           NaN     LAB        29/04/2006   \n",
      "...           ...       ...           ...     ...               ...   \n",
      "845871  1970111.0  Monsieur           NaN     IAB        14/04/2011   \n",
      "845872  2297275.0  Monsieur    06/02/1988     SEM        07/03/2013   \n",
      "845873  2305548.0  Monsieur           NaN     PRI        22/03/2013   \n",
      "845874    84175.0    Madame    07/04/1950     GAI        29/10/2002   \n",
      "845875  1280004.0  Monsieur           NaN     SGL        23/06/2007   \n",
      "\n",
      "       DATEREADHESION DATEFINADHESION CODEINSEE PAYS   SEXE  \n",
      "0          04/04/2017      30/04/2018     74224   FR  FEMME  \n",
      "1          21/06/2014      30/06/2016     74189   FR  HOMME  \n",
      "2          12/10/2017      31/10/2018     63070   FR  FEMME  \n",
      "3          24/05/2015      31/05/2016     92026   FR  FEMME  \n",
      "4          18/12/2016      31/12/2017     31555   FR  HOMME  \n",
      "...               ...             ...       ...  ...    ...  \n",
      "845871     06/01/2018      31/01/2019     38053   FR  HOMME  \n",
      "845872     06/01/2018      31/01/2019     57067   FR  HOMME  \n",
      "845873     06/01/2018      31/01/2019     38318   FR  HOMME  \n",
      "845874     07/01/2018      31/01/2019     74082   FR  FEMME  \n",
      "845875     07/01/2018      31/01/2019     42218   FR  HOMME  \n",
      "\n",
      "[735425 rows x 10 columns]\n"
     ]
    }
   ],
   "source": [
    "# Mapping de la colonne CIVILITE pour créer la nouvelle colonne SEXE\n",
    "CLIENT['SEXE'] = CLIENT['CIVILITE'].map({'Monsieur': 'HOMME', 'Madame': 'FEMME'})\n",
    "\n",
    "print(CLIENT)\n"
   ]
  },
  {
   "cell_type": "code",
   "execution_count": 18,
   "metadata": {
    "ExecuteTime": {
     "end_time": "2024-06-19T20:34:50.439946Z",
     "start_time": "2024-06-19T20:34:50.383521Z"
    }
   },
   "outputs": [
    {
     "name": "stdout",
     "output_type": "stream",
     "text": [
      "    SEXE  NbClients\n",
      "0  FEMME     395963\n",
      "1  HOMME     339462\n"
     ]
    }
   ],
   "source": [
    "#Grouper les Clients par Sexe\n",
    "clients_par_sexe = CLIENT.groupby('SEXE')['IDCLIENT'].nunique().reset_index(name='NbClients')\n",
    "\n",
    "print(clients_par_sexe)"
   ]
  },
  {
   "cell_type": "markdown",
   "metadata": {},
   "source": [
    "Suppression de la colonne \"civilité\" qui n'a plus lieu d'être."
   ]
  },
  {
   "cell_type": "code",
   "execution_count": 19,
   "metadata": {
    "ExecuteTime": {
     "end_time": "2024-06-19T20:34:51.507793Z",
     "start_time": "2024-06-19T20:34:51.463240Z"
    }
   },
   "outputs": [],
   "source": [
    "# Supprimer l'ancienne colonne CIVILITE\n",
    "CLIENT.drop(columns=['CIVILITE'], inplace=True)"
   ]
  },
  {
   "cell_type": "markdown",
   "metadata": {},
   "source": [
    "Affichage de notre dataframe."
   ]
  },
  {
   "cell_type": "code",
   "execution_count": 20,
   "metadata": {
    "ExecuteTime": {
     "end_time": "2024-06-19T20:34:53.454731Z",
     "start_time": "2024-06-19T20:34:53.449042Z"
    }
   },
   "outputs": [
    {
     "data": {
      "text/html": [
       "<div>\n",
       "<style scoped>\n",
       "    .dataframe tbody tr th:only-of-type {\n",
       "        vertical-align: middle;\n",
       "    }\n",
       "\n",
       "    .dataframe tbody tr th {\n",
       "        vertical-align: top;\n",
       "    }\n",
       "\n",
       "    .dataframe thead th {\n",
       "        text-align: right;\n",
       "    }\n",
       "</style>\n",
       "<table border=\"1\" class=\"dataframe\">\n",
       "  <thead>\n",
       "    <tr style=\"text-align: right;\">\n",
       "      <th></th>\n",
       "      <th>IDCLIENT</th>\n",
       "      <th>DATENAISSANCE</th>\n",
       "      <th>MAGASIN</th>\n",
       "      <th>DATEDEBUTADHESION</th>\n",
       "      <th>DATEREADHESION</th>\n",
       "      <th>DATEFINADHESION</th>\n",
       "      <th>CODEINSEE</th>\n",
       "      <th>PAYS</th>\n",
       "      <th>SEXE</th>\n",
       "    </tr>\n",
       "  </thead>\n",
       "  <tbody>\n",
       "    <tr>\n",
       "      <th>0</th>\n",
       "      <td>155891.0</td>\n",
       "      <td>NaN</td>\n",
       "      <td>VLG</td>\n",
       "      <td>13/05/2005</td>\n",
       "      <td>04/04/2017</td>\n",
       "      <td>30/04/2018</td>\n",
       "      <td>74224</td>\n",
       "      <td>FR</td>\n",
       "      <td>FEMME</td>\n",
       "    </tr>\n",
       "    <tr>\n",
       "      <th>1</th>\n",
       "      <td>156023.0</td>\n",
       "      <td>07/08/1966</td>\n",
       "      <td>VLG</td>\n",
       "      <td>14/05/2005</td>\n",
       "      <td>21/06/2014</td>\n",
       "      <td>30/06/2016</td>\n",
       "      <td>74189</td>\n",
       "      <td>FR</td>\n",
       "      <td>HOMME</td>\n",
       "    </tr>\n",
       "    <tr>\n",
       "      <th>2</th>\n",
       "      <td>124203.0</td>\n",
       "      <td>NaN</td>\n",
       "      <td>BEA</td>\n",
       "      <td>16/03/2005</td>\n",
       "      <td>12/10/2017</td>\n",
       "      <td>31/10/2018</td>\n",
       "      <td>63070</td>\n",
       "      <td>FR</td>\n",
       "      <td>FEMME</td>\n",
       "    </tr>\n",
       "    <tr>\n",
       "      <th>3</th>\n",
       "      <td>156190.0</td>\n",
       "      <td>24/07/1976</td>\n",
       "      <td>SUR</td>\n",
       "      <td>28/08/2006</td>\n",
       "      <td>24/05/2015</td>\n",
       "      <td>31/05/2016</td>\n",
       "      <td>92026</td>\n",
       "      <td>FR</td>\n",
       "      <td>FEMME</td>\n",
       "    </tr>\n",
       "    <tr>\n",
       "      <th>4</th>\n",
       "      <td>144444.0</td>\n",
       "      <td>NaN</td>\n",
       "      <td>LAB</td>\n",
       "      <td>29/04/2006</td>\n",
       "      <td>18/12/2016</td>\n",
       "      <td>31/12/2017</td>\n",
       "      <td>31555</td>\n",
       "      <td>FR</td>\n",
       "      <td>HOMME</td>\n",
       "    </tr>\n",
       "    <tr>\n",
       "      <th>...</th>\n",
       "      <td>...</td>\n",
       "      <td>...</td>\n",
       "      <td>...</td>\n",
       "      <td>...</td>\n",
       "      <td>...</td>\n",
       "      <td>...</td>\n",
       "      <td>...</td>\n",
       "      <td>...</td>\n",
       "      <td>...</td>\n",
       "    </tr>\n",
       "    <tr>\n",
       "      <th>845871</th>\n",
       "      <td>1970111.0</td>\n",
       "      <td>NaN</td>\n",
       "      <td>IAB</td>\n",
       "      <td>14/04/2011</td>\n",
       "      <td>06/01/2018</td>\n",
       "      <td>31/01/2019</td>\n",
       "      <td>38053</td>\n",
       "      <td>FR</td>\n",
       "      <td>HOMME</td>\n",
       "    </tr>\n",
       "    <tr>\n",
       "      <th>845872</th>\n",
       "      <td>2297275.0</td>\n",
       "      <td>06/02/1988</td>\n",
       "      <td>SEM</td>\n",
       "      <td>07/03/2013</td>\n",
       "      <td>06/01/2018</td>\n",
       "      <td>31/01/2019</td>\n",
       "      <td>57067</td>\n",
       "      <td>FR</td>\n",
       "      <td>HOMME</td>\n",
       "    </tr>\n",
       "    <tr>\n",
       "      <th>845873</th>\n",
       "      <td>2305548.0</td>\n",
       "      <td>NaN</td>\n",
       "      <td>PRI</td>\n",
       "      <td>22/03/2013</td>\n",
       "      <td>06/01/2018</td>\n",
       "      <td>31/01/2019</td>\n",
       "      <td>38318</td>\n",
       "      <td>FR</td>\n",
       "      <td>HOMME</td>\n",
       "    </tr>\n",
       "    <tr>\n",
       "      <th>845874</th>\n",
       "      <td>84175.0</td>\n",
       "      <td>07/04/1950</td>\n",
       "      <td>GAI</td>\n",
       "      <td>29/10/2002</td>\n",
       "      <td>07/01/2018</td>\n",
       "      <td>31/01/2019</td>\n",
       "      <td>74082</td>\n",
       "      <td>FR</td>\n",
       "      <td>FEMME</td>\n",
       "    </tr>\n",
       "    <tr>\n",
       "      <th>845875</th>\n",
       "      <td>1280004.0</td>\n",
       "      <td>NaN</td>\n",
       "      <td>SGL</td>\n",
       "      <td>23/06/2007</td>\n",
       "      <td>07/01/2018</td>\n",
       "      <td>31/01/2019</td>\n",
       "      <td>42218</td>\n",
       "      <td>FR</td>\n",
       "      <td>HOMME</td>\n",
       "    </tr>\n",
       "  </tbody>\n",
       "</table>\n",
       "<p>735425 rows × 9 columns</p>\n",
       "</div>"
      ],
      "text/plain": [
       "         IDCLIENT DATENAISSANCE MAGASIN DATEDEBUTADHESION DATEREADHESION  \\\n",
       "0        155891.0           NaN     VLG        13/05/2005     04/04/2017   \n",
       "1        156023.0    07/08/1966     VLG        14/05/2005     21/06/2014   \n",
       "2        124203.0           NaN     BEA        16/03/2005     12/10/2017   \n",
       "3        156190.0    24/07/1976     SUR        28/08/2006     24/05/2015   \n",
       "4        144444.0           NaN     LAB        29/04/2006     18/12/2016   \n",
       "...           ...           ...     ...               ...            ...   \n",
       "845871  1970111.0           NaN     IAB        14/04/2011     06/01/2018   \n",
       "845872  2297275.0    06/02/1988     SEM        07/03/2013     06/01/2018   \n",
       "845873  2305548.0           NaN     PRI        22/03/2013     06/01/2018   \n",
       "845874    84175.0    07/04/1950     GAI        29/10/2002     07/01/2018   \n",
       "845875  1280004.0           NaN     SGL        23/06/2007     07/01/2018   \n",
       "\n",
       "       DATEFINADHESION CODEINSEE PAYS   SEXE  \n",
       "0           30/04/2018     74224   FR  FEMME  \n",
       "1           30/06/2016     74189   FR  HOMME  \n",
       "2           31/10/2018     63070   FR  FEMME  \n",
       "3           31/05/2016     92026   FR  FEMME  \n",
       "4           31/12/2017     31555   FR  HOMME  \n",
       "...                ...       ...  ...    ...  \n",
       "845871      31/01/2019     38053   FR  HOMME  \n",
       "845872      31/01/2019     57067   FR  HOMME  \n",
       "845873      31/01/2019     38318   FR  HOMME  \n",
       "845874      31/01/2019     74082   FR  FEMME  \n",
       "845875      31/01/2019     42218   FR  HOMME  \n",
       "\n",
       "[735425 rows x 9 columns]"
      ]
     },
     "execution_count": 20,
     "metadata": {},
     "output_type": "execute_result"
    }
   ],
   "source": [
    "CLIENT"
   ]
  },
  {
   "cell_type": "markdown",
   "metadata": {},
   "source": [
    "Cette ligne de code nous permet d'identifier le nombre d'occurence de chaque magasin, pour identifier les éventuels regroupements à effectuer."
   ]
  },
  {
   "cell_type": "code",
   "execution_count": 21,
   "metadata": {
    "ExecuteTime": {
     "end_time": "2024-06-19T20:35:00.334858Z",
     "start_time": "2024-06-19T20:35:00.323852Z"
    }
   },
   "outputs": [
    {
     "data": {
      "text/plain": [
       "MAGASIN\n",
       "PRI    23963\n",
       "SEY    23572\n",
       "VIB    22223\n",
       "SUR    20923\n",
       "MOU    20887\n",
       "       ...  \n",
       "VIV     3187\n",
       "SAL     2836\n",
       "STR     2667\n",
       "EST     1145\n",
       "BAR     1039\n",
       "Name: count, Length: 67, dtype: int64"
      ]
     },
     "execution_count": 21,
     "metadata": {},
     "output_type": "execute_result"
    }
   ],
   "source": [
    "CLIENT['MAGASIN'].value_counts(dropna = False)"
   ]
  },
  {
   "cell_type": "markdown",
   "metadata": {},
   "source": [
    "Les données à traiter concernant la France, la série de code ci-dessous nous permet de ne conserver que ce pays."
   ]
  },
  {
   "cell_type": "code",
   "execution_count": 22,
   "metadata": {
    "ExecuteTime": {
     "end_time": "2024-06-19T20:35:01.994805Z",
     "start_time": "2024-06-19T20:35:01.935919Z"
    }
   },
   "outputs": [],
   "source": [
    "# Filtrer les lignes pour ne garder que celles avec \"France\" dans la colonne \"Pays\"\n",
    "CLIENT = CLIENT[CLIENT['PAYS'] == 'FR']\n",
    "\n",
    "# Réindexer le DataFrame après avoir filtré les lignes\n",
    "CLIENT.reset_index(drop=True, inplace=True)"
   ]
  },
  {
   "cell_type": "code",
   "execution_count": 23,
   "metadata": {
    "ExecuteTime": {
     "end_time": "2024-06-19T20:35:05.627585Z",
     "start_time": "2024-06-19T20:35:05.619129Z"
    }
   },
   "outputs": [
    {
     "data": {
      "text/plain": [
       "PAYS\n",
       "FR    720090\n",
       "Name: count, dtype: int64"
      ]
     },
     "execution_count": 23,
     "metadata": {},
     "output_type": "execute_result"
    }
   ],
   "source": [
    "CLIENT['PAYS'].value_counts(dropna = False)"
   ]
  },
  {
   "cell_type": "markdown",
   "metadata": {},
   "source": [
    "La serie de codes ci-dessous nous permet de traiter la date de naissance des clients afin d'en déterminer l'âge puis des tranches d'âges."
   ]
  },
  {
   "cell_type": "code",
   "execution_count": null,
   "metadata": {
    "ExecuteTime": {
     "end_time": "2024-06-19T20:35:07.692850Z",
     "start_time": "2024-06-19T20:35:07.378066Z"
    }
   },
   "outputs": [],
   "source": [
    "#Convertir la colonne de date de naissance en objet datetime :\n",
    "\n",
    "CLIENT['DATENAISSANCE'] = pd.to_datetime(CLIENT['DATENAISSANCE'],errors = 'coerce')\n",
    "\n",
    "#En créer une nouvelle colonne pour l'âge en calculant la différence entre la date actuelle et la date de naissance :\n",
    "\n",
    "from datetime import datetime\n",
    "today = datetime.today()\n",
    "CLIENT['AGE'] = today.year - CLIENT['DATENAISSANCE'].dt.year\n",
    "#Discrétiser l'âge en créant des catégories d'âge. Par exemple, diviser en groupes d'âge :\n",
    "bins = [18, 30, 45, 60, 100]\n",
    "CLIENT['AGE_GROUP'] = pd.cut(CLIENT['AGE'], bins, labels=['AGE DE 18-30', 'AGE DE 31-45', 'AGE DE 46-60', 'AGE DE 61-100'])"
   ]
  },
  {
   "cell_type": "markdown",
   "metadata": {},
   "source": [
    "Vérification du traitement."
   ]
  },
  {
   "cell_type": "code",
   "execution_count": 25,
   "metadata": {
    "ExecuteTime": {
     "end_time": "2024-06-19T20:35:08.650252Z",
     "start_time": "2024-06-19T20:35:08.642536Z"
    }
   },
   "outputs": [
    {
     "data": {
      "text/plain": [
       "AGE_GROUP\n",
       "NaN              548518\n",
       "AGE DE 61-100     67546\n",
       "AGE DE 46-60      57057\n",
       "AGE DE 31-45      42700\n",
       "AGE DE 18-30       4269\n",
       "Name: count, dtype: int64"
      ]
     },
     "execution_count": 25,
     "metadata": {},
     "output_type": "execute_result"
    }
   ],
   "source": [
    "CLIENT['AGE_GROUP'].value_counts(dropna = False)"
   ]
  },
  {
   "cell_type": "markdown",
   "metadata": {},
   "source": [
    "Après ce traitement, il convient de renommer la variable concernée."
   ]
  },
  {
   "cell_type": "code",
   "execution_count": 26,
   "metadata": {
    "ExecuteTime": {
     "end_time": "2024-06-19T20:35:10.069326Z",
     "start_time": "2024-06-19T20:35:09.985992Z"
    }
   },
   "outputs": [],
   "source": [
    "# Renommer la colonne 'DATENAISSANCE' en 'AGE'\n",
    "CLIENT = CLIENT.rename(columns={'DATENAISSANCE': 'AGE'})"
   ]
  },
  {
   "cell_type": "markdown",
   "metadata": {},
   "source": [
    "Vérification du traitement."
   ]
  },
  {
   "cell_type": "code",
   "execution_count": 27,
   "metadata": {
    "ExecuteTime": {
     "end_time": "2024-06-19T20:35:11.463826Z",
     "start_time": "2024-06-19T20:35:11.453245Z"
    }
   },
   "outputs": [
    {
     "data": {
      "text/html": [
       "<div>\n",
       "<style scoped>\n",
       "    .dataframe tbody tr th:only-of-type {\n",
       "        vertical-align: middle;\n",
       "    }\n",
       "\n",
       "    .dataframe tbody tr th {\n",
       "        vertical-align: top;\n",
       "    }\n",
       "\n",
       "    .dataframe thead th {\n",
       "        text-align: right;\n",
       "    }\n",
       "</style>\n",
       "<table border=\"1\" class=\"dataframe\">\n",
       "  <thead>\n",
       "    <tr style=\"text-align: right;\">\n",
       "      <th></th>\n",
       "      <th>IDCLIENT</th>\n",
       "      <th>AGE</th>\n",
       "      <th>MAGASIN</th>\n",
       "      <th>DATEDEBUTADHESION</th>\n",
       "      <th>DATEREADHESION</th>\n",
       "      <th>DATEFINADHESION</th>\n",
       "      <th>CODEINSEE</th>\n",
       "      <th>PAYS</th>\n",
       "      <th>SEXE</th>\n",
       "      <th>AGE</th>\n",
       "      <th>AGE_GROUP</th>\n",
       "    </tr>\n",
       "  </thead>\n",
       "  <tbody>\n",
       "    <tr>\n",
       "      <th>0</th>\n",
       "      <td>155891.0</td>\n",
       "      <td>NaT</td>\n",
       "      <td>VLG</td>\n",
       "      <td>13/05/2005</td>\n",
       "      <td>04/04/2017</td>\n",
       "      <td>30/04/2018</td>\n",
       "      <td>74224</td>\n",
       "      <td>FR</td>\n",
       "      <td>FEMME</td>\n",
       "      <td>NaN</td>\n",
       "      <td>NaN</td>\n",
       "    </tr>\n",
       "    <tr>\n",
       "      <th>1</th>\n",
       "      <td>156023.0</td>\n",
       "      <td>1966-07-08</td>\n",
       "      <td>VLG</td>\n",
       "      <td>14/05/2005</td>\n",
       "      <td>21/06/2014</td>\n",
       "      <td>30/06/2016</td>\n",
       "      <td>74189</td>\n",
       "      <td>FR</td>\n",
       "      <td>HOMME</td>\n",
       "      <td>58.0</td>\n",
       "      <td>AGE DE 46-60</td>\n",
       "    </tr>\n",
       "    <tr>\n",
       "      <th>2</th>\n",
       "      <td>124203.0</td>\n",
       "      <td>NaT</td>\n",
       "      <td>BEA</td>\n",
       "      <td>16/03/2005</td>\n",
       "      <td>12/10/2017</td>\n",
       "      <td>31/10/2018</td>\n",
       "      <td>63070</td>\n",
       "      <td>FR</td>\n",
       "      <td>FEMME</td>\n",
       "      <td>NaN</td>\n",
       "      <td>NaN</td>\n",
       "    </tr>\n",
       "    <tr>\n",
       "      <th>3</th>\n",
       "      <td>156190.0</td>\n",
       "      <td>NaT</td>\n",
       "      <td>SUR</td>\n",
       "      <td>28/08/2006</td>\n",
       "      <td>24/05/2015</td>\n",
       "      <td>31/05/2016</td>\n",
       "      <td>92026</td>\n",
       "      <td>FR</td>\n",
       "      <td>FEMME</td>\n",
       "      <td>NaN</td>\n",
       "      <td>NaN</td>\n",
       "    </tr>\n",
       "    <tr>\n",
       "      <th>4</th>\n",
       "      <td>144444.0</td>\n",
       "      <td>NaT</td>\n",
       "      <td>LAB</td>\n",
       "      <td>29/04/2006</td>\n",
       "      <td>18/12/2016</td>\n",
       "      <td>31/12/2017</td>\n",
       "      <td>31555</td>\n",
       "      <td>FR</td>\n",
       "      <td>HOMME</td>\n",
       "      <td>NaN</td>\n",
       "      <td>NaN</td>\n",
       "    </tr>\n",
       "    <tr>\n",
       "      <th>...</th>\n",
       "      <td>...</td>\n",
       "      <td>...</td>\n",
       "      <td>...</td>\n",
       "      <td>...</td>\n",
       "      <td>...</td>\n",
       "      <td>...</td>\n",
       "      <td>...</td>\n",
       "      <td>...</td>\n",
       "      <td>...</td>\n",
       "      <td>...</td>\n",
       "      <td>...</td>\n",
       "    </tr>\n",
       "    <tr>\n",
       "      <th>720085</th>\n",
       "      <td>1970111.0</td>\n",
       "      <td>NaT</td>\n",
       "      <td>IAB</td>\n",
       "      <td>14/04/2011</td>\n",
       "      <td>06/01/2018</td>\n",
       "      <td>31/01/2019</td>\n",
       "      <td>38053</td>\n",
       "      <td>FR</td>\n",
       "      <td>HOMME</td>\n",
       "      <td>NaN</td>\n",
       "      <td>NaN</td>\n",
       "    </tr>\n",
       "    <tr>\n",
       "      <th>720086</th>\n",
       "      <td>2297275.0</td>\n",
       "      <td>1988-06-02</td>\n",
       "      <td>SEM</td>\n",
       "      <td>07/03/2013</td>\n",
       "      <td>06/01/2018</td>\n",
       "      <td>31/01/2019</td>\n",
       "      <td>57067</td>\n",
       "      <td>FR</td>\n",
       "      <td>HOMME</td>\n",
       "      <td>36.0</td>\n",
       "      <td>AGE DE 31-45</td>\n",
       "    </tr>\n",
       "    <tr>\n",
       "      <th>720087</th>\n",
       "      <td>2305548.0</td>\n",
       "      <td>NaT</td>\n",
       "      <td>PRI</td>\n",
       "      <td>22/03/2013</td>\n",
       "      <td>06/01/2018</td>\n",
       "      <td>31/01/2019</td>\n",
       "      <td>38318</td>\n",
       "      <td>FR</td>\n",
       "      <td>HOMME</td>\n",
       "      <td>NaN</td>\n",
       "      <td>NaN</td>\n",
       "    </tr>\n",
       "    <tr>\n",
       "      <th>720088</th>\n",
       "      <td>84175.0</td>\n",
       "      <td>1950-07-04</td>\n",
       "      <td>GAI</td>\n",
       "      <td>29/10/2002</td>\n",
       "      <td>07/01/2018</td>\n",
       "      <td>31/01/2019</td>\n",
       "      <td>74082</td>\n",
       "      <td>FR</td>\n",
       "      <td>FEMME</td>\n",
       "      <td>74.0</td>\n",
       "      <td>AGE DE 61-100</td>\n",
       "    </tr>\n",
       "    <tr>\n",
       "      <th>720089</th>\n",
       "      <td>1280004.0</td>\n",
       "      <td>NaT</td>\n",
       "      <td>SGL</td>\n",
       "      <td>23/06/2007</td>\n",
       "      <td>07/01/2018</td>\n",
       "      <td>31/01/2019</td>\n",
       "      <td>42218</td>\n",
       "      <td>FR</td>\n",
       "      <td>HOMME</td>\n",
       "      <td>NaN</td>\n",
       "      <td>NaN</td>\n",
       "    </tr>\n",
       "  </tbody>\n",
       "</table>\n",
       "<p>720090 rows × 11 columns</p>\n",
       "</div>"
      ],
      "text/plain": [
       "         IDCLIENT        AGE MAGASIN DATEDEBUTADHESION DATEREADHESION  \\\n",
       "0        155891.0        NaT     VLG        13/05/2005     04/04/2017   \n",
       "1        156023.0 1966-07-08     VLG        14/05/2005     21/06/2014   \n",
       "2        124203.0        NaT     BEA        16/03/2005     12/10/2017   \n",
       "3        156190.0        NaT     SUR        28/08/2006     24/05/2015   \n",
       "4        144444.0        NaT     LAB        29/04/2006     18/12/2016   \n",
       "...           ...        ...     ...               ...            ...   \n",
       "720085  1970111.0        NaT     IAB        14/04/2011     06/01/2018   \n",
       "720086  2297275.0 1988-06-02     SEM        07/03/2013     06/01/2018   \n",
       "720087  2305548.0        NaT     PRI        22/03/2013     06/01/2018   \n",
       "720088    84175.0 1950-07-04     GAI        29/10/2002     07/01/2018   \n",
       "720089  1280004.0        NaT     SGL        23/06/2007     07/01/2018   \n",
       "\n",
       "       DATEFINADHESION CODEINSEE PAYS   SEXE   AGE      AGE_GROUP  \n",
       "0           30/04/2018     74224   FR  FEMME   NaN            NaN  \n",
       "1           30/06/2016     74189   FR  HOMME  58.0   AGE DE 46-60  \n",
       "2           31/10/2018     63070   FR  FEMME   NaN            NaN  \n",
       "3           31/05/2016     92026   FR  FEMME   NaN            NaN  \n",
       "4           31/12/2017     31555   FR  HOMME   NaN            NaN  \n",
       "...                ...       ...  ...    ...   ...            ...  \n",
       "720085      31/01/2019     38053   FR  HOMME   NaN            NaN  \n",
       "720086      31/01/2019     57067   FR  HOMME  36.0   AGE DE 31-45  \n",
       "720087      31/01/2019     38318   FR  HOMME   NaN            NaN  \n",
       "720088      31/01/2019     74082   FR  FEMME  74.0  AGE DE 61-100  \n",
       "720089      31/01/2019     42218   FR  HOMME   NaN            NaN  \n",
       "\n",
       "[720090 rows x 11 columns]"
      ]
     },
     "execution_count": 27,
     "metadata": {},
     "output_type": "execute_result"
    }
   ],
   "source": [
    "CLIENT"
   ]
  },
  {
   "cell_type": "markdown",
   "metadata": {},
   "source": [
    "Afin d'exploiter de façon optimale les informations, nous allons convetir les l'ID TICKET, l'âge et les tranches d'âges en caractère. Nous n'avons pas nécessité à conserver ces valeurs en numérique."
   ]
  },
  {
   "cell_type": "code",
   "execution_count": 28,
   "metadata": {
    "ExecuteTime": {
     "end_time": "2024-06-19T20:35:13.187482Z",
     "start_time": "2024-06-19T20:35:12.819268Z"
    }
   },
   "outputs": [],
   "source": [
    "CLIENT['IDCLIENT'] = CLIENT['IDCLIENT'].astype(str)\n",
    "CLIENT['AGE'] = CLIENT['AGE'].astype(str)\n",
    "CLIENT['AGE_GROUP'] = CLIENT['AGE_GROUP'].astype(str)"
   ]
  },
  {
   "cell_type": "markdown",
   "metadata": {},
   "source": [
    "Vérification du traitement."
   ]
  },
  {
   "cell_type": "code",
   "execution_count": 29,
   "metadata": {
    "ExecuteTime": {
     "end_time": "2024-06-19T20:35:14.558037Z",
     "start_time": "2024-06-19T20:35:14.428630Z"
    }
   },
   "outputs": [
    {
     "name": "stdout",
     "output_type": "stream",
     "text": [
      "<class 'pandas.core.frame.DataFrame'>\n",
      "RangeIndex: 720090 entries, 0 to 720089\n",
      "Data columns (total 11 columns):\n",
      " #   Column             Non-Null Count   Dtype \n",
      "---  ------             --------------   ----- \n",
      " 0   IDCLIENT           720090 non-null  object\n",
      " 1   AGE                720090 non-null  object\n",
      " 2   MAGASIN            720090 non-null  object\n",
      " 3   DATEDEBUTADHESION  720090 non-null  object\n",
      " 4   DATEREADHESION     410990 non-null  object\n",
      " 5   DATEFINADHESION    720090 non-null  object\n",
      " 6   CODEINSEE          709392 non-null  object\n",
      " 7   PAYS               720090 non-null  object\n",
      " 8   SEXE               720090 non-null  object\n",
      " 9   AGE                720090 non-null  object\n",
      " 10  AGE_GROUP          720090 non-null  object\n",
      "dtypes: object(11)\n",
      "memory usage: 60.4+ MB\n"
     ]
    }
   ],
   "source": [
    "CLIENT.info()"
   ]
  },
  {
   "cell_type": "markdown",
   "metadata": {},
   "source": [
    "La ligne de code ci-dessous nous permet d'identifier les valeurs en doublons qui conviendra de traiter."
   ]
  },
  {
   "cell_type": "code",
   "execution_count": 30,
   "metadata": {
    "ExecuteTime": {
     "end_time": "2024-06-19T20:35:16.459631Z",
     "start_time": "2024-06-19T20:35:15.891678Z"
    }
   },
   "outputs": [
    {
     "name": "stdout",
     "output_type": "stream",
     "text": [
      "0\n"
     ]
    }
   ],
   "source": [
    "print(CLIENT.duplicated().sum())\n",
    "CLIENT = CLIENT.drop_duplicates()"
   ]
  },
  {
   "cell_type": "markdown",
   "metadata": {},
   "source": [
    "Nous procédons également à la vérification de présence ou non de valeurs manquantes."
   ]
  },
  {
   "cell_type": "code",
   "execution_count": 31,
   "metadata": {
    "ExecuteTime": {
     "end_time": "2024-06-19T20:35:17.762763Z",
     "start_time": "2024-06-19T20:35:17.636571Z"
    }
   },
   "outputs": [
    {
     "data": {
      "text/html": [
       "<div>\n",
       "<style scoped>\n",
       "    .dataframe tbody tr th:only-of-type {\n",
       "        vertical-align: middle;\n",
       "    }\n",
       "\n",
       "    .dataframe tbody tr th {\n",
       "        vertical-align: top;\n",
       "    }\n",
       "\n",
       "    .dataframe thead th {\n",
       "        text-align: right;\n",
       "    }\n",
       "</style>\n",
       "<table border=\"1\" class=\"dataframe\">\n",
       "  <thead>\n",
       "    <tr style=\"text-align: right;\">\n",
       "      <th></th>\n",
       "      <th>%_missing_values</th>\n",
       "    </tr>\n",
       "  </thead>\n",
       "  <tbody>\n",
       "    <tr>\n",
       "      <th>IDCLIENT</th>\n",
       "      <td>0.000000</td>\n",
       "    </tr>\n",
       "    <tr>\n",
       "      <th>AGE</th>\n",
       "      <td>0.000000</td>\n",
       "    </tr>\n",
       "    <tr>\n",
       "      <th>MAGASIN</th>\n",
       "      <td>0.000000</td>\n",
       "    </tr>\n",
       "    <tr>\n",
       "      <th>DATEDEBUTADHESION</th>\n",
       "      <td>0.000000</td>\n",
       "    </tr>\n",
       "    <tr>\n",
       "      <th>DATEREADHESION</th>\n",
       "      <td>42.925190</td>\n",
       "    </tr>\n",
       "    <tr>\n",
       "      <th>DATEFINADHESION</th>\n",
       "      <td>0.000000</td>\n",
       "    </tr>\n",
       "    <tr>\n",
       "      <th>CODEINSEE</th>\n",
       "      <td>1.485648</td>\n",
       "    </tr>\n",
       "    <tr>\n",
       "      <th>PAYS</th>\n",
       "      <td>0.000000</td>\n",
       "    </tr>\n",
       "    <tr>\n",
       "      <th>SEXE</th>\n",
       "      <td>0.000000</td>\n",
       "    </tr>\n",
       "    <tr>\n",
       "      <th>AGE</th>\n",
       "      <td>0.000000</td>\n",
       "    </tr>\n",
       "    <tr>\n",
       "      <th>AGE_GROUP</th>\n",
       "      <td>0.000000</td>\n",
       "    </tr>\n",
       "  </tbody>\n",
       "</table>\n",
       "</div>"
      ],
      "text/plain": [
       "                   %_missing_values\n",
       "IDCLIENT                   0.000000\n",
       "AGE                        0.000000\n",
       "MAGASIN                    0.000000\n",
       "DATEDEBUTADHESION          0.000000\n",
       "DATEREADHESION            42.925190\n",
       "DATEFINADHESION            0.000000\n",
       "CODEINSEE                  1.485648\n",
       "PAYS                       0.000000\n",
       "SEXE                       0.000000\n",
       "AGE                        0.000000\n",
       "AGE_GROUP                  0.000000"
      ]
     },
     "execution_count": 31,
     "metadata": {},
     "output_type": "execute_result"
    }
   ],
   "source": [
    "pd.DataFrame(index=CLIENT.columns, columns=['%_missing_values'], data= (CLIENT.isna().sum().values / len(CLIENT)*100))"
   ]
  },
  {
   "cell_type": "markdown",
   "metadata": {},
   "source": [
    "La série de codes ci-dessous nous permet de traiter les valeurs manquantes détéctées, sur les variables concernées."
   ]
  },
  {
   "cell_type": "code",
   "execution_count": 32,
   "metadata": {
    "ExecuteTime": {
     "end_time": "2024-06-19T20:35:19.343961Z",
     "start_time": "2024-06-19T20:35:19.324703Z"
    }
   },
   "outputs": [
    {
     "data": {
      "text/plain": [
       "0         False\n",
       "1         False\n",
       "2         False\n",
       "3         False\n",
       "4         False\n",
       "          ...  \n",
       "720085    False\n",
       "720086    False\n",
       "720087    False\n",
       "720088    False\n",
       "720089    False\n",
       "Name: CODEINSEE, Length: 720090, dtype: bool"
      ]
     },
     "execution_count": 32,
     "metadata": {},
     "output_type": "execute_result"
    }
   ],
   "source": [
    "CLIENT['CODEINSEE'].isnull()"
   ]
  },
  {
   "cell_type": "code",
   "execution_count": 33,
   "metadata": {
    "ExecuteTime": {
     "end_time": "2024-06-19T20:35:20.221190Z",
     "start_time": "2024-06-19T20:35:20.161778Z"
    }
   },
   "outputs": [],
   "source": [
    "CLIENT.dropna(subset=['CODEINSEE'], inplace=True)"
   ]
  },
  {
   "cell_type": "code",
   "execution_count": 34,
   "metadata": {
    "ExecuteTime": {
     "end_time": "2024-06-19T20:35:20.796321Z",
     "start_time": "2024-06-19T20:35:20.780231Z"
    }
   },
   "outputs": [
    {
     "data": {
      "text/plain": [
       "0         False\n",
       "1         False\n",
       "2         False\n",
       "3         False\n",
       "4         False\n",
       "          ...  \n",
       "720085    False\n",
       "720086    False\n",
       "720087    False\n",
       "720088    False\n",
       "720089    False\n",
       "Name: DATEREADHESION, Length: 709392, dtype: bool"
      ]
     },
     "execution_count": 34,
     "metadata": {},
     "output_type": "execute_result"
    }
   ],
   "source": [
    "CLIENT['DATEREADHESION'].isnull()"
   ]
  },
  {
   "cell_type": "code",
   "execution_count": 35,
   "metadata": {
    "ExecuteTime": {
     "end_time": "2024-06-19T20:35:21.658961Z",
     "start_time": "2024-06-19T20:35:21.596298Z"
    }
   },
   "outputs": [],
   "source": [
    "CLIENT.dropna(subset=['DATEREADHESION'], inplace=True)"
   ]
  },
  {
   "cell_type": "code",
   "execution_count": 36,
   "metadata": {
    "ExecuteTime": {
     "end_time": "2024-06-19T20:35:22.224204Z",
     "start_time": "2024-06-19T20:35:22.205606Z"
    }
   },
   "outputs": [
    {
     "data": {
      "text/plain": [
       "0         False\n",
       "1         False\n",
       "2         False\n",
       "3         False\n",
       "4         False\n",
       "          ...  \n",
       "720085    False\n",
       "720086    False\n",
       "720087    False\n",
       "720088    False\n",
       "720089    False\n",
       "Name: AGE_GROUP, Length: 407389, dtype: bool"
      ]
     },
     "execution_count": 36,
     "metadata": {},
     "output_type": "execute_result"
    }
   ],
   "source": [
    "CLIENT['AGE_GROUP'].isnull()"
   ]
  },
  {
   "cell_type": "code",
   "execution_count": 37,
   "metadata": {
    "ExecuteTime": {
     "end_time": "2024-06-19T20:35:23.026885Z",
     "start_time": "2024-06-19T20:35:23.004996Z"
    }
   },
   "outputs": [
    {
     "data": {
      "text/plain": [
       "AGE_GROUP\n",
       "nan              326057\n",
       "AGE DE 61-100     39498\n",
       "AGE DE 46-60      27990\n",
       "AGE DE 31-45      13240\n",
       "AGE DE 18-30        604\n",
       "Name: count, dtype: int64"
      ]
     },
     "execution_count": 37,
     "metadata": {},
     "output_type": "execute_result"
    }
   ],
   "source": [
    "CLIENT['AGE_GROUP'].value_counts()"
   ]
  },
  {
   "cell_type": "code",
   "execution_count": 38,
   "metadata": {
    "ExecuteTime": {
     "end_time": "2024-06-19T20:35:24.128147Z",
     "start_time": "2024-06-19T20:35:24.095260Z"
    }
   },
   "outputs": [],
   "source": [
    "CLIENT['AGE_GROUP'] = CLIENT['AGE_GROUP'].replace(np.nan, \"Inconnue\")\n"
   ]
  },
  {
   "cell_type": "markdown",
   "metadata": {},
   "source": [
    "Remplacement des valeurs manquantes par une modalité 'inconnue\"."
   ]
  },
  {
   "cell_type": "code",
   "execution_count": 39,
   "metadata": {
    "ExecuteTime": {
     "end_time": "2024-06-19T20:35:24.817686Z",
     "start_time": "2024-06-19T20:35:24.777566Z"
    }
   },
   "outputs": [
    {
     "name": "stdout",
     "output_type": "stream",
     "text": [
      "         IDCLIENT         AGE MAGASIN DATEDEBUTADHESION DATEREADHESION  \\\n",
      "0        155891.0         NaT     VLG        13/05/2005     04/04/2017   \n",
      "1        156023.0  1966-07-08     VLG        14/05/2005     21/06/2014   \n",
      "2        124203.0         NaT     BEA        16/03/2005     12/10/2017   \n",
      "3        156190.0         NaT     SUR        28/08/2006     24/05/2015   \n",
      "4        144444.0         NaT     LAB        29/04/2006     18/12/2016   \n",
      "...           ...         ...     ...               ...            ...   \n",
      "720085  1970111.0         NaT     IAB        14/04/2011     06/01/2018   \n",
      "720086  2297275.0  1988-06-02     SEM        07/03/2013     06/01/2018   \n",
      "720087  2305548.0         NaT     PRI        22/03/2013     06/01/2018   \n",
      "720088    84175.0  1950-07-04     GAI        29/10/2002     07/01/2018   \n",
      "720089  1280004.0         NaT     SGL        23/06/2007     07/01/2018   \n",
      "\n",
      "       DATEFINADHESION CODEINSEE PAYS   SEXE   AGE      AGE_GROUP  \n",
      "0           30/04/2018     74224   FR  FEMME   nan       Inconnue  \n",
      "1           30/06/2016     74189   FR  HOMME  58.0   AGE DE 46-60  \n",
      "2           31/10/2018     63070   FR  FEMME   nan       Inconnue  \n",
      "3           31/05/2016     92026   FR  FEMME   nan       Inconnue  \n",
      "4           31/12/2017     31555   FR  HOMME   nan       Inconnue  \n",
      "...                ...       ...  ...    ...   ...            ...  \n",
      "720085      31/01/2019     38053   FR  HOMME   nan       Inconnue  \n",
      "720086      31/01/2019     57067   FR  HOMME  36.0   AGE DE 31-45  \n",
      "720087      31/01/2019     38318   FR  HOMME   nan       Inconnue  \n",
      "720088      31/01/2019     74082   FR  FEMME  74.0  AGE DE 61-100  \n",
      "720089      31/01/2019     42218   FR  HOMME   nan       Inconnue  \n",
      "\n",
      "[407389 rows x 11 columns]\n"
     ]
    }
   ],
   "source": [
    "# Utilisation de `map` pour remplacer 'nan' par 'Inconnue'\n",
    "CLIENT['AGE_GROUP'] = CLIENT['AGE_GROUP'].map(lambda x: 'Inconnue' if x == 'nan' else x)\n",
    "\n",
    "# Affichage du résultat\n",
    "print(CLIENT)"
   ]
  },
  {
   "cell_type": "code",
   "execution_count": 40,
   "metadata": {
    "ExecuteTime": {
     "end_time": "2024-06-19T20:35:25.650252Z",
     "start_time": "2024-06-19T20:35:25.635776Z"
    }
   },
   "outputs": [
    {
     "data": {
      "text/plain": [
       "AGE_GROUP\n",
       "Inconnue         326057\n",
       "AGE DE 61-100     39498\n",
       "AGE DE 46-60      27990\n",
       "AGE DE 31-45      13240\n",
       "AGE DE 18-30        604\n",
       "Name: count, dtype: int64"
      ]
     },
     "execution_count": 40,
     "metadata": {},
     "output_type": "execute_result"
    }
   ],
   "source": [
    "CLIENT['AGE_GROUP'].value_counts()"
   ]
  },
  {
   "cell_type": "code",
   "execution_count": 41,
   "metadata": {
    "ExecuteTime": {
     "end_time": "2024-06-19T20:35:26.730288Z",
     "start_time": "2024-06-19T20:35:26.634438Z"
    }
   },
   "outputs": [],
   "source": [
    "CLIENT.dropna(subset=['AGE_GROUP'], inplace=True)"
   ]
  },
  {
   "cell_type": "markdown",
   "metadata": {},
   "source": [
    "Vérification du taitement."
   ]
  },
  {
   "cell_type": "code",
   "execution_count": 42,
   "metadata": {
    "ExecuteTime": {
     "end_time": "2024-06-19T20:35:27.885061Z",
     "start_time": "2024-06-19T20:35:27.880204Z"
    }
   },
   "outputs": [
    {
     "data": {
      "text/html": [
       "<div>\n",
       "<style scoped>\n",
       "    .dataframe tbody tr th:only-of-type {\n",
       "        vertical-align: middle;\n",
       "    }\n",
       "\n",
       "    .dataframe tbody tr th {\n",
       "        vertical-align: top;\n",
       "    }\n",
       "\n",
       "    .dataframe thead th {\n",
       "        text-align: right;\n",
       "    }\n",
       "</style>\n",
       "<table border=\"1\" class=\"dataframe\">\n",
       "  <thead>\n",
       "    <tr style=\"text-align: right;\">\n",
       "      <th></th>\n",
       "      <th>IDCLIENT</th>\n",
       "      <th>AGE</th>\n",
       "      <th>MAGASIN</th>\n",
       "      <th>DATEDEBUTADHESION</th>\n",
       "      <th>DATEREADHESION</th>\n",
       "      <th>DATEFINADHESION</th>\n",
       "      <th>CODEINSEE</th>\n",
       "      <th>PAYS</th>\n",
       "      <th>SEXE</th>\n",
       "      <th>AGE</th>\n",
       "      <th>AGE_GROUP</th>\n",
       "    </tr>\n",
       "  </thead>\n",
       "  <tbody>\n",
       "    <tr>\n",
       "      <th>0</th>\n",
       "      <td>155891.0</td>\n",
       "      <td>NaT</td>\n",
       "      <td>VLG</td>\n",
       "      <td>13/05/2005</td>\n",
       "      <td>04/04/2017</td>\n",
       "      <td>30/04/2018</td>\n",
       "      <td>74224</td>\n",
       "      <td>FR</td>\n",
       "      <td>FEMME</td>\n",
       "      <td>nan</td>\n",
       "      <td>Inconnue</td>\n",
       "    </tr>\n",
       "    <tr>\n",
       "      <th>1</th>\n",
       "      <td>156023.0</td>\n",
       "      <td>1966-07-08</td>\n",
       "      <td>VLG</td>\n",
       "      <td>14/05/2005</td>\n",
       "      <td>21/06/2014</td>\n",
       "      <td>30/06/2016</td>\n",
       "      <td>74189</td>\n",
       "      <td>FR</td>\n",
       "      <td>HOMME</td>\n",
       "      <td>58.0</td>\n",
       "      <td>AGE DE 46-60</td>\n",
       "    </tr>\n",
       "    <tr>\n",
       "      <th>2</th>\n",
       "      <td>124203.0</td>\n",
       "      <td>NaT</td>\n",
       "      <td>BEA</td>\n",
       "      <td>16/03/2005</td>\n",
       "      <td>12/10/2017</td>\n",
       "      <td>31/10/2018</td>\n",
       "      <td>63070</td>\n",
       "      <td>FR</td>\n",
       "      <td>FEMME</td>\n",
       "      <td>nan</td>\n",
       "      <td>Inconnue</td>\n",
       "    </tr>\n",
       "    <tr>\n",
       "      <th>3</th>\n",
       "      <td>156190.0</td>\n",
       "      <td>NaT</td>\n",
       "      <td>SUR</td>\n",
       "      <td>28/08/2006</td>\n",
       "      <td>24/05/2015</td>\n",
       "      <td>31/05/2016</td>\n",
       "      <td>92026</td>\n",
       "      <td>FR</td>\n",
       "      <td>FEMME</td>\n",
       "      <td>nan</td>\n",
       "      <td>Inconnue</td>\n",
       "    </tr>\n",
       "    <tr>\n",
       "      <th>4</th>\n",
       "      <td>144444.0</td>\n",
       "      <td>NaT</td>\n",
       "      <td>LAB</td>\n",
       "      <td>29/04/2006</td>\n",
       "      <td>18/12/2016</td>\n",
       "      <td>31/12/2017</td>\n",
       "      <td>31555</td>\n",
       "      <td>FR</td>\n",
       "      <td>HOMME</td>\n",
       "      <td>nan</td>\n",
       "      <td>Inconnue</td>\n",
       "    </tr>\n",
       "    <tr>\n",
       "      <th>...</th>\n",
       "      <td>...</td>\n",
       "      <td>...</td>\n",
       "      <td>...</td>\n",
       "      <td>...</td>\n",
       "      <td>...</td>\n",
       "      <td>...</td>\n",
       "      <td>...</td>\n",
       "      <td>...</td>\n",
       "      <td>...</td>\n",
       "      <td>...</td>\n",
       "      <td>...</td>\n",
       "    </tr>\n",
       "    <tr>\n",
       "      <th>720085</th>\n",
       "      <td>1970111.0</td>\n",
       "      <td>NaT</td>\n",
       "      <td>IAB</td>\n",
       "      <td>14/04/2011</td>\n",
       "      <td>06/01/2018</td>\n",
       "      <td>31/01/2019</td>\n",
       "      <td>38053</td>\n",
       "      <td>FR</td>\n",
       "      <td>HOMME</td>\n",
       "      <td>nan</td>\n",
       "      <td>Inconnue</td>\n",
       "    </tr>\n",
       "    <tr>\n",
       "      <th>720086</th>\n",
       "      <td>2297275.0</td>\n",
       "      <td>1988-06-02</td>\n",
       "      <td>SEM</td>\n",
       "      <td>07/03/2013</td>\n",
       "      <td>06/01/2018</td>\n",
       "      <td>31/01/2019</td>\n",
       "      <td>57067</td>\n",
       "      <td>FR</td>\n",
       "      <td>HOMME</td>\n",
       "      <td>36.0</td>\n",
       "      <td>AGE DE 31-45</td>\n",
       "    </tr>\n",
       "    <tr>\n",
       "      <th>720087</th>\n",
       "      <td>2305548.0</td>\n",
       "      <td>NaT</td>\n",
       "      <td>PRI</td>\n",
       "      <td>22/03/2013</td>\n",
       "      <td>06/01/2018</td>\n",
       "      <td>31/01/2019</td>\n",
       "      <td>38318</td>\n",
       "      <td>FR</td>\n",
       "      <td>HOMME</td>\n",
       "      <td>nan</td>\n",
       "      <td>Inconnue</td>\n",
       "    </tr>\n",
       "    <tr>\n",
       "      <th>720088</th>\n",
       "      <td>84175.0</td>\n",
       "      <td>1950-07-04</td>\n",
       "      <td>GAI</td>\n",
       "      <td>29/10/2002</td>\n",
       "      <td>07/01/2018</td>\n",
       "      <td>31/01/2019</td>\n",
       "      <td>74082</td>\n",
       "      <td>FR</td>\n",
       "      <td>FEMME</td>\n",
       "      <td>74.0</td>\n",
       "      <td>AGE DE 61-100</td>\n",
       "    </tr>\n",
       "    <tr>\n",
       "      <th>720089</th>\n",
       "      <td>1280004.0</td>\n",
       "      <td>NaT</td>\n",
       "      <td>SGL</td>\n",
       "      <td>23/06/2007</td>\n",
       "      <td>07/01/2018</td>\n",
       "      <td>31/01/2019</td>\n",
       "      <td>42218</td>\n",
       "      <td>FR</td>\n",
       "      <td>HOMME</td>\n",
       "      <td>nan</td>\n",
       "      <td>Inconnue</td>\n",
       "    </tr>\n",
       "  </tbody>\n",
       "</table>\n",
       "<p>407389 rows × 11 columns</p>\n",
       "</div>"
      ],
      "text/plain": [
       "         IDCLIENT         AGE MAGASIN DATEDEBUTADHESION DATEREADHESION  \\\n",
       "0        155891.0         NaT     VLG        13/05/2005     04/04/2017   \n",
       "1        156023.0  1966-07-08     VLG        14/05/2005     21/06/2014   \n",
       "2        124203.0         NaT     BEA        16/03/2005     12/10/2017   \n",
       "3        156190.0         NaT     SUR        28/08/2006     24/05/2015   \n",
       "4        144444.0         NaT     LAB        29/04/2006     18/12/2016   \n",
       "...           ...         ...     ...               ...            ...   \n",
       "720085  1970111.0         NaT     IAB        14/04/2011     06/01/2018   \n",
       "720086  2297275.0  1988-06-02     SEM        07/03/2013     06/01/2018   \n",
       "720087  2305548.0         NaT     PRI        22/03/2013     06/01/2018   \n",
       "720088    84175.0  1950-07-04     GAI        29/10/2002     07/01/2018   \n",
       "720089  1280004.0         NaT     SGL        23/06/2007     07/01/2018   \n",
       "\n",
       "       DATEFINADHESION CODEINSEE PAYS   SEXE   AGE      AGE_GROUP  \n",
       "0           30/04/2018     74224   FR  FEMME   nan       Inconnue  \n",
       "1           30/06/2016     74189   FR  HOMME  58.0   AGE DE 46-60  \n",
       "2           31/10/2018     63070   FR  FEMME   nan       Inconnue  \n",
       "3           31/05/2016     92026   FR  FEMME   nan       Inconnue  \n",
       "4           31/12/2017     31555   FR  HOMME   nan       Inconnue  \n",
       "...                ...       ...  ...    ...   ...            ...  \n",
       "720085      31/01/2019     38053   FR  HOMME   nan       Inconnue  \n",
       "720086      31/01/2019     57067   FR  HOMME  36.0   AGE DE 31-45  \n",
       "720087      31/01/2019     38318   FR  HOMME   nan       Inconnue  \n",
       "720088      31/01/2019     74082   FR  FEMME  74.0  AGE DE 61-100  \n",
       "720089      31/01/2019     42218   FR  HOMME   nan       Inconnue  \n",
       "\n",
       "[407389 rows x 11 columns]"
      ]
     },
     "execution_count": 42,
     "metadata": {},
     "output_type": "execute_result"
    }
   ],
   "source": [
    "CLIENT"
   ]
  },
  {
   "cell_type": "markdown",
   "metadata": {},
   "source": [
    "La ligne de code ci-dessous nous permet d'identifier la présence ou non de valeur(s) manquante(s)"
   ]
  },
  {
   "cell_type": "code",
   "execution_count": 43,
   "metadata": {
    "ExecuteTime": {
     "end_time": "2024-06-19T20:35:28.688684Z",
     "start_time": "2024-06-19T20:35:28.615917Z"
    }
   },
   "outputs": [
    {
     "data": {
      "text/html": [
       "<div>\n",
       "<style scoped>\n",
       "    .dataframe tbody tr th:only-of-type {\n",
       "        vertical-align: middle;\n",
       "    }\n",
       "\n",
       "    .dataframe tbody tr th {\n",
       "        vertical-align: top;\n",
       "    }\n",
       "\n",
       "    .dataframe thead th {\n",
       "        text-align: right;\n",
       "    }\n",
       "</style>\n",
       "<table border=\"1\" class=\"dataframe\">\n",
       "  <thead>\n",
       "    <tr style=\"text-align: right;\">\n",
       "      <th></th>\n",
       "      <th>%_missing_values</th>\n",
       "    </tr>\n",
       "  </thead>\n",
       "  <tbody>\n",
       "    <tr>\n",
       "      <th>IDCLIENT</th>\n",
       "      <td>0.0</td>\n",
       "    </tr>\n",
       "    <tr>\n",
       "      <th>AGE</th>\n",
       "      <td>0.0</td>\n",
       "    </tr>\n",
       "    <tr>\n",
       "      <th>MAGASIN</th>\n",
       "      <td>0.0</td>\n",
       "    </tr>\n",
       "    <tr>\n",
       "      <th>DATEDEBUTADHESION</th>\n",
       "      <td>0.0</td>\n",
       "    </tr>\n",
       "    <tr>\n",
       "      <th>DATEREADHESION</th>\n",
       "      <td>0.0</td>\n",
       "    </tr>\n",
       "    <tr>\n",
       "      <th>DATEFINADHESION</th>\n",
       "      <td>0.0</td>\n",
       "    </tr>\n",
       "    <tr>\n",
       "      <th>CODEINSEE</th>\n",
       "      <td>0.0</td>\n",
       "    </tr>\n",
       "    <tr>\n",
       "      <th>PAYS</th>\n",
       "      <td>0.0</td>\n",
       "    </tr>\n",
       "    <tr>\n",
       "      <th>SEXE</th>\n",
       "      <td>0.0</td>\n",
       "    </tr>\n",
       "    <tr>\n",
       "      <th>AGE</th>\n",
       "      <td>0.0</td>\n",
       "    </tr>\n",
       "    <tr>\n",
       "      <th>AGE_GROUP</th>\n",
       "      <td>0.0</td>\n",
       "    </tr>\n",
       "  </tbody>\n",
       "</table>\n",
       "</div>"
      ],
      "text/plain": [
       "                   %_missing_values\n",
       "IDCLIENT                        0.0\n",
       "AGE                             0.0\n",
       "MAGASIN                         0.0\n",
       "DATEDEBUTADHESION               0.0\n",
       "DATEREADHESION                  0.0\n",
       "DATEFINADHESION                 0.0\n",
       "CODEINSEE                       0.0\n",
       "PAYS                            0.0\n",
       "SEXE                            0.0\n",
       "AGE                             0.0\n",
       "AGE_GROUP                       0.0"
      ]
     },
     "execution_count": 43,
     "metadata": {},
     "output_type": "execute_result"
    }
   ],
   "source": [
    "pd.DataFrame(index=CLIENT.columns, columns=['%_missing_values'], data= (CLIENT.isna().sum().values / len(CLIENT)*100))"
   ]
  },
  {
   "cell_type": "markdown",
   "metadata": {},
   "source": [
    "Le traitement des valeurs aberrantes ne concernant que les variables numériques, nous n'allons pas procéder à ce traitement car aucune de nos variables n'est concernées sur ce dataframe."
   ]
  },
  {
   "cell_type": "markdown",
   "metadata": {},
   "source": [
    "Suppression des colonnes dont les informations nous serons pas nécessairement utiles dans le cadre de notre projet."
   ]
  },
  {
   "cell_type": "code",
   "execution_count": 44,
   "metadata": {
    "ExecuteTime": {
     "end_time": "2024-06-19T20:35:30.461644Z",
     "start_time": "2024-06-19T20:35:30.433694Z"
    }
   },
   "outputs": [],
   "source": [
    "CLIENT.drop(columns=['PAYS'], inplace=True)"
   ]
  },
  {
   "cell_type": "code",
   "execution_count": 45,
   "metadata": {
    "ExecuteTime": {
     "end_time": "2024-06-19T20:35:31.104048Z",
     "start_time": "2024-06-19T20:35:31.083056Z"
    }
   },
   "outputs": [],
   "source": [
    "CLIENT.drop(columns=['AGE'], inplace=True)"
   ]
  },
  {
   "cell_type": "markdown",
   "metadata": {},
   "source": [
    "Affichage de notre dataframe."
   ]
  },
  {
   "cell_type": "code",
   "execution_count": 46,
   "metadata": {
    "ExecuteTime": {
     "end_time": "2024-06-19T20:35:31.713511Z",
     "start_time": "2024-06-19T20:35:31.707546Z"
    }
   },
   "outputs": [
    {
     "data": {
      "text/html": [
       "<div>\n",
       "<style scoped>\n",
       "    .dataframe tbody tr th:only-of-type {\n",
       "        vertical-align: middle;\n",
       "    }\n",
       "\n",
       "    .dataframe tbody tr th {\n",
       "        vertical-align: top;\n",
       "    }\n",
       "\n",
       "    .dataframe thead th {\n",
       "        text-align: right;\n",
       "    }\n",
       "</style>\n",
       "<table border=\"1\" class=\"dataframe\">\n",
       "  <thead>\n",
       "    <tr style=\"text-align: right;\">\n",
       "      <th></th>\n",
       "      <th>IDCLIENT</th>\n",
       "      <th>MAGASIN</th>\n",
       "      <th>DATEDEBUTADHESION</th>\n",
       "      <th>DATEREADHESION</th>\n",
       "      <th>DATEFINADHESION</th>\n",
       "      <th>CODEINSEE</th>\n",
       "      <th>SEXE</th>\n",
       "      <th>AGE_GROUP</th>\n",
       "    </tr>\n",
       "  </thead>\n",
       "  <tbody>\n",
       "    <tr>\n",
       "      <th>0</th>\n",
       "      <td>155891.0</td>\n",
       "      <td>VLG</td>\n",
       "      <td>13/05/2005</td>\n",
       "      <td>04/04/2017</td>\n",
       "      <td>30/04/2018</td>\n",
       "      <td>74224</td>\n",
       "      <td>FEMME</td>\n",
       "      <td>Inconnue</td>\n",
       "    </tr>\n",
       "    <tr>\n",
       "      <th>1</th>\n",
       "      <td>156023.0</td>\n",
       "      <td>VLG</td>\n",
       "      <td>14/05/2005</td>\n",
       "      <td>21/06/2014</td>\n",
       "      <td>30/06/2016</td>\n",
       "      <td>74189</td>\n",
       "      <td>HOMME</td>\n",
       "      <td>AGE DE 46-60</td>\n",
       "    </tr>\n",
       "    <tr>\n",
       "      <th>2</th>\n",
       "      <td>124203.0</td>\n",
       "      <td>BEA</td>\n",
       "      <td>16/03/2005</td>\n",
       "      <td>12/10/2017</td>\n",
       "      <td>31/10/2018</td>\n",
       "      <td>63070</td>\n",
       "      <td>FEMME</td>\n",
       "      <td>Inconnue</td>\n",
       "    </tr>\n",
       "    <tr>\n",
       "      <th>3</th>\n",
       "      <td>156190.0</td>\n",
       "      <td>SUR</td>\n",
       "      <td>28/08/2006</td>\n",
       "      <td>24/05/2015</td>\n",
       "      <td>31/05/2016</td>\n",
       "      <td>92026</td>\n",
       "      <td>FEMME</td>\n",
       "      <td>Inconnue</td>\n",
       "    </tr>\n",
       "    <tr>\n",
       "      <th>4</th>\n",
       "      <td>144444.0</td>\n",
       "      <td>LAB</td>\n",
       "      <td>29/04/2006</td>\n",
       "      <td>18/12/2016</td>\n",
       "      <td>31/12/2017</td>\n",
       "      <td>31555</td>\n",
       "      <td>HOMME</td>\n",
       "      <td>Inconnue</td>\n",
       "    </tr>\n",
       "    <tr>\n",
       "      <th>...</th>\n",
       "      <td>...</td>\n",
       "      <td>...</td>\n",
       "      <td>...</td>\n",
       "      <td>...</td>\n",
       "      <td>...</td>\n",
       "      <td>...</td>\n",
       "      <td>...</td>\n",
       "      <td>...</td>\n",
       "    </tr>\n",
       "    <tr>\n",
       "      <th>720085</th>\n",
       "      <td>1970111.0</td>\n",
       "      <td>IAB</td>\n",
       "      <td>14/04/2011</td>\n",
       "      <td>06/01/2018</td>\n",
       "      <td>31/01/2019</td>\n",
       "      <td>38053</td>\n",
       "      <td>HOMME</td>\n",
       "      <td>Inconnue</td>\n",
       "    </tr>\n",
       "    <tr>\n",
       "      <th>720086</th>\n",
       "      <td>2297275.0</td>\n",
       "      <td>SEM</td>\n",
       "      <td>07/03/2013</td>\n",
       "      <td>06/01/2018</td>\n",
       "      <td>31/01/2019</td>\n",
       "      <td>57067</td>\n",
       "      <td>HOMME</td>\n",
       "      <td>AGE DE 31-45</td>\n",
       "    </tr>\n",
       "    <tr>\n",
       "      <th>720087</th>\n",
       "      <td>2305548.0</td>\n",
       "      <td>PRI</td>\n",
       "      <td>22/03/2013</td>\n",
       "      <td>06/01/2018</td>\n",
       "      <td>31/01/2019</td>\n",
       "      <td>38318</td>\n",
       "      <td>HOMME</td>\n",
       "      <td>Inconnue</td>\n",
       "    </tr>\n",
       "    <tr>\n",
       "      <th>720088</th>\n",
       "      <td>84175.0</td>\n",
       "      <td>GAI</td>\n",
       "      <td>29/10/2002</td>\n",
       "      <td>07/01/2018</td>\n",
       "      <td>31/01/2019</td>\n",
       "      <td>74082</td>\n",
       "      <td>FEMME</td>\n",
       "      <td>AGE DE 61-100</td>\n",
       "    </tr>\n",
       "    <tr>\n",
       "      <th>720089</th>\n",
       "      <td>1280004.0</td>\n",
       "      <td>SGL</td>\n",
       "      <td>23/06/2007</td>\n",
       "      <td>07/01/2018</td>\n",
       "      <td>31/01/2019</td>\n",
       "      <td>42218</td>\n",
       "      <td>HOMME</td>\n",
       "      <td>Inconnue</td>\n",
       "    </tr>\n",
       "  </tbody>\n",
       "</table>\n",
       "<p>407389 rows × 8 columns</p>\n",
       "</div>"
      ],
      "text/plain": [
       "         IDCLIENT MAGASIN DATEDEBUTADHESION DATEREADHESION DATEFINADHESION  \\\n",
       "0        155891.0     VLG        13/05/2005     04/04/2017      30/04/2018   \n",
       "1        156023.0     VLG        14/05/2005     21/06/2014      30/06/2016   \n",
       "2        124203.0     BEA        16/03/2005     12/10/2017      31/10/2018   \n",
       "3        156190.0     SUR        28/08/2006     24/05/2015      31/05/2016   \n",
       "4        144444.0     LAB        29/04/2006     18/12/2016      31/12/2017   \n",
       "...           ...     ...               ...            ...             ...   \n",
       "720085  1970111.0     IAB        14/04/2011     06/01/2018      31/01/2019   \n",
       "720086  2297275.0     SEM        07/03/2013     06/01/2018      31/01/2019   \n",
       "720087  2305548.0     PRI        22/03/2013     06/01/2018      31/01/2019   \n",
       "720088    84175.0     GAI        29/10/2002     07/01/2018      31/01/2019   \n",
       "720089  1280004.0     SGL        23/06/2007     07/01/2018      31/01/2019   \n",
       "\n",
       "       CODEINSEE   SEXE      AGE_GROUP  \n",
       "0          74224  FEMME       Inconnue  \n",
       "1          74189  HOMME   AGE DE 46-60  \n",
       "2          63070  FEMME       Inconnue  \n",
       "3          92026  FEMME       Inconnue  \n",
       "4          31555  HOMME       Inconnue  \n",
       "...          ...    ...            ...  \n",
       "720085     38053  HOMME       Inconnue  \n",
       "720086     57067  HOMME   AGE DE 31-45  \n",
       "720087     38318  HOMME       Inconnue  \n",
       "720088     74082  FEMME  AGE DE 61-100  \n",
       "720089     42218  HOMME       Inconnue  \n",
       "\n",
       "[407389 rows x 8 columns]"
      ]
     },
     "execution_count": 46,
     "metadata": {},
     "output_type": "execute_result"
    }
   ],
   "source": [
    "CLIENT"
   ]
  },
  {
   "cell_type": "markdown",
   "metadata": {},
   "source": [
    "La série de codes ci-dessous nous permet de modifier le format des dates de début et de fin d'adhésion afin de calculer l'ancienneté des clients."
   ]
  },
  {
   "cell_type": "code",
   "execution_count": 47,
   "metadata": {
    "ExecuteTime": {
     "end_time": "2024-06-19T20:35:33.391554Z",
     "start_time": "2024-06-19T20:35:33.389160Z"
    }
   },
   "outputs": [],
   "source": [
    "import datetime\n",
    "from datetime import timedelta"
   ]
  },
  {
   "cell_type": "code",
   "execution_count": 48,
   "metadata": {
    "ExecuteTime": {
     "end_time": "2024-06-19T20:37:05.529776Z",
     "start_time": "2024-06-19T20:37:05.484560Z"
    }
   },
   "outputs": [],
   "source": [
    "# Correction de l'Avertissement en spécifiant dayfirst=True\n",
    "CLIENT['DATEDEBUTADHESION'] = pd.to_datetime(CLIENT['DATEDEBUTADHESION'], dayfirst=True)"
   ]
  },
  {
   "cell_type": "code",
   "execution_count": 49,
   "metadata": {
    "ExecuteTime": {
     "end_time": "2024-06-19T20:37:06.162085Z",
     "start_time": "2024-06-19T20:37:06.151782Z"
    }
   },
   "outputs": [],
   "source": [
    "CLIENT['DATEDEBUTADHESION'] = CLIENT['DATEDEBUTADHESION'].dt.year.astype(int)"
   ]
  },
  {
   "cell_type": "code",
   "execution_count": 50,
   "metadata": {
    "ExecuteTime": {
     "end_time": "2024-06-19T20:37:07.212842Z",
     "start_time": "2024-06-19T20:37:07.183633Z"
    }
   },
   "outputs": [],
   "source": [
    "CLIENT['DATEFINADHESION'] = pd.to_datetime(CLIENT['DATEFINADHESION'],dayfirst=True)"
   ]
  },
  {
   "cell_type": "code",
   "execution_count": 51,
   "metadata": {
    "ExecuteTime": {
     "end_time": "2024-06-19T20:37:07.925671Z",
     "start_time": "2024-06-19T20:37:07.908106Z"
    }
   },
   "outputs": [],
   "source": [
    "CLIENT['DATEFINADHESION'] = CLIENT['DATEFINADHESION'].dt.year.astype(int)"
   ]
  },
  {
   "cell_type": "code",
   "execution_count": 52,
   "metadata": {
    "ExecuteTime": {
     "end_time": "2024-06-19T20:37:08.744527Z",
     "start_time": "2024-06-19T20:37:08.742187Z"
    }
   },
   "outputs": [
    {
     "name": "stdout",
     "output_type": "stream",
     "text": [
      "0    2005\n",
      "1    2005\n",
      "2    2005\n",
      "3    2006\n",
      "4    2006\n",
      "Name: DATEDEBUTADHESION, dtype: int32\n"
     ]
    }
   ],
   "source": [
    "if 'DATEDEBUTADHESION' in CLIENT.columns:\n",
    "    Date_début = CLIENT['DATEDEBUTADHESION']\n",
    "    print(Date_début.head())\n",
    "else:\n",
    "    print(\"La colonne 'DATEDEBUTADHESION' n'existe pas dans le DataFrame.\")"
   ]
  },
  {
   "cell_type": "code",
   "execution_count": 53,
   "metadata": {
    "ExecuteTime": {
     "end_time": "2024-06-19T20:37:09.882680Z",
     "start_time": "2024-06-19T20:37:09.879406Z"
    }
   },
   "outputs": [
    {
     "name": "stdout",
     "output_type": "stream",
     "text": [
      "0    2018\n",
      "1    2016\n",
      "2    2018\n",
      "3    2016\n",
      "4    2017\n",
      "Name: DATEFINADHESION, dtype: int32\n"
     ]
    }
   ],
   "source": [
    "if 'DATEFINADHESION' in CLIENT.columns:\n",
    "    Date_fin = CLIENT['DATEFINADHESION']\n",
    "    print(Date_fin.head())\n",
    "else:\n",
    "    print(\"La colonne 'DATEFINADHESION' n'existe pas dans le DataFrame.\")"
   ]
  },
  {
   "cell_type": "code",
   "execution_count": 54,
   "metadata": {
    "ExecuteTime": {
     "end_time": "2024-06-19T20:37:11.083748Z",
     "start_time": "2024-06-19T20:37:11.081108Z"
    }
   },
   "outputs": [],
   "source": [
    "ANCIENNETE = Date_fin - Date_début"
   ]
  },
  {
   "cell_type": "code",
   "execution_count": 55,
   "metadata": {
    "ExecuteTime": {
     "end_time": "2024-06-19T20:37:12.436305Z",
     "start_time": "2024-06-19T20:37:12.433856Z"
    }
   },
   "outputs": [
    {
     "name": "stdout",
     "output_type": "stream",
     "text": [
      "0         13\n",
      "1         11\n",
      "2         13\n",
      "3         10\n",
      "4         11\n",
      "          ..\n",
      "720085     8\n",
      "720086     6\n",
      "720087     6\n",
      "720088    17\n",
      "720089    12\n",
      "Length: 407389, dtype: int32\n"
     ]
    }
   ],
   "source": [
    "print(ANCIENNETE)"
   ]
  },
  {
   "cell_type": "markdown",
   "metadata": {},
   "source": [
    "Nous allons maintenant intégrer cette variables d'ancienneté à notre jeu de données."
   ]
  },
  {
   "cell_type": "code",
   "execution_count": 56,
   "metadata": {
    "ExecuteTime": {
     "end_time": "2024-06-19T20:37:14.441128Z",
     "start_time": "2024-06-19T20:37:14.437856Z"
    }
   },
   "outputs": [],
   "source": [
    "CLIENT.insert(loc=6, column='ANCIENNETE', value=ANCIENNETE)"
   ]
  },
  {
   "cell_type": "markdown",
   "metadata": {},
   "source": [
    "Affichage de notre dataframe."
   ]
  },
  {
   "cell_type": "code",
   "execution_count": 57,
   "metadata": {
    "ExecuteTime": {
     "end_time": "2024-06-19T20:37:15.339487Z",
     "start_time": "2024-06-19T20:37:15.333915Z"
    }
   },
   "outputs": [
    {
     "data": {
      "text/html": [
       "<div>\n",
       "<style scoped>\n",
       "    .dataframe tbody tr th:only-of-type {\n",
       "        vertical-align: middle;\n",
       "    }\n",
       "\n",
       "    .dataframe tbody tr th {\n",
       "        vertical-align: top;\n",
       "    }\n",
       "\n",
       "    .dataframe thead th {\n",
       "        text-align: right;\n",
       "    }\n",
       "</style>\n",
       "<table border=\"1\" class=\"dataframe\">\n",
       "  <thead>\n",
       "    <tr style=\"text-align: right;\">\n",
       "      <th></th>\n",
       "      <th>IDCLIENT</th>\n",
       "      <th>MAGASIN</th>\n",
       "      <th>DATEDEBUTADHESION</th>\n",
       "      <th>DATEREADHESION</th>\n",
       "      <th>DATEFINADHESION</th>\n",
       "      <th>CODEINSEE</th>\n",
       "      <th>ANCIENNETE</th>\n",
       "      <th>SEXE</th>\n",
       "      <th>AGE_GROUP</th>\n",
       "    </tr>\n",
       "  </thead>\n",
       "  <tbody>\n",
       "    <tr>\n",
       "      <th>0</th>\n",
       "      <td>155891.0</td>\n",
       "      <td>VLG</td>\n",
       "      <td>2005</td>\n",
       "      <td>04/04/2017</td>\n",
       "      <td>2018</td>\n",
       "      <td>74224</td>\n",
       "      <td>13</td>\n",
       "      <td>FEMME</td>\n",
       "      <td>Inconnue</td>\n",
       "    </tr>\n",
       "    <tr>\n",
       "      <th>1</th>\n",
       "      <td>156023.0</td>\n",
       "      <td>VLG</td>\n",
       "      <td>2005</td>\n",
       "      <td>21/06/2014</td>\n",
       "      <td>2016</td>\n",
       "      <td>74189</td>\n",
       "      <td>11</td>\n",
       "      <td>HOMME</td>\n",
       "      <td>AGE DE 46-60</td>\n",
       "    </tr>\n",
       "    <tr>\n",
       "      <th>2</th>\n",
       "      <td>124203.0</td>\n",
       "      <td>BEA</td>\n",
       "      <td>2005</td>\n",
       "      <td>12/10/2017</td>\n",
       "      <td>2018</td>\n",
       "      <td>63070</td>\n",
       "      <td>13</td>\n",
       "      <td>FEMME</td>\n",
       "      <td>Inconnue</td>\n",
       "    </tr>\n",
       "    <tr>\n",
       "      <th>3</th>\n",
       "      <td>156190.0</td>\n",
       "      <td>SUR</td>\n",
       "      <td>2006</td>\n",
       "      <td>24/05/2015</td>\n",
       "      <td>2016</td>\n",
       "      <td>92026</td>\n",
       "      <td>10</td>\n",
       "      <td>FEMME</td>\n",
       "      <td>Inconnue</td>\n",
       "    </tr>\n",
       "    <tr>\n",
       "      <th>4</th>\n",
       "      <td>144444.0</td>\n",
       "      <td>LAB</td>\n",
       "      <td>2006</td>\n",
       "      <td>18/12/2016</td>\n",
       "      <td>2017</td>\n",
       "      <td>31555</td>\n",
       "      <td>11</td>\n",
       "      <td>HOMME</td>\n",
       "      <td>Inconnue</td>\n",
       "    </tr>\n",
       "    <tr>\n",
       "      <th>...</th>\n",
       "      <td>...</td>\n",
       "      <td>...</td>\n",
       "      <td>...</td>\n",
       "      <td>...</td>\n",
       "      <td>...</td>\n",
       "      <td>...</td>\n",
       "      <td>...</td>\n",
       "      <td>...</td>\n",
       "      <td>...</td>\n",
       "    </tr>\n",
       "    <tr>\n",
       "      <th>720085</th>\n",
       "      <td>1970111.0</td>\n",
       "      <td>IAB</td>\n",
       "      <td>2011</td>\n",
       "      <td>06/01/2018</td>\n",
       "      <td>2019</td>\n",
       "      <td>38053</td>\n",
       "      <td>8</td>\n",
       "      <td>HOMME</td>\n",
       "      <td>Inconnue</td>\n",
       "    </tr>\n",
       "    <tr>\n",
       "      <th>720086</th>\n",
       "      <td>2297275.0</td>\n",
       "      <td>SEM</td>\n",
       "      <td>2013</td>\n",
       "      <td>06/01/2018</td>\n",
       "      <td>2019</td>\n",
       "      <td>57067</td>\n",
       "      <td>6</td>\n",
       "      <td>HOMME</td>\n",
       "      <td>AGE DE 31-45</td>\n",
       "    </tr>\n",
       "    <tr>\n",
       "      <th>720087</th>\n",
       "      <td>2305548.0</td>\n",
       "      <td>PRI</td>\n",
       "      <td>2013</td>\n",
       "      <td>06/01/2018</td>\n",
       "      <td>2019</td>\n",
       "      <td>38318</td>\n",
       "      <td>6</td>\n",
       "      <td>HOMME</td>\n",
       "      <td>Inconnue</td>\n",
       "    </tr>\n",
       "    <tr>\n",
       "      <th>720088</th>\n",
       "      <td>84175.0</td>\n",
       "      <td>GAI</td>\n",
       "      <td>2002</td>\n",
       "      <td>07/01/2018</td>\n",
       "      <td>2019</td>\n",
       "      <td>74082</td>\n",
       "      <td>17</td>\n",
       "      <td>FEMME</td>\n",
       "      <td>AGE DE 61-100</td>\n",
       "    </tr>\n",
       "    <tr>\n",
       "      <th>720089</th>\n",
       "      <td>1280004.0</td>\n",
       "      <td>SGL</td>\n",
       "      <td>2007</td>\n",
       "      <td>07/01/2018</td>\n",
       "      <td>2019</td>\n",
       "      <td>42218</td>\n",
       "      <td>12</td>\n",
       "      <td>HOMME</td>\n",
       "      <td>Inconnue</td>\n",
       "    </tr>\n",
       "  </tbody>\n",
       "</table>\n",
       "<p>407389 rows × 9 columns</p>\n",
       "</div>"
      ],
      "text/plain": [
       "         IDCLIENT MAGASIN  DATEDEBUTADHESION DATEREADHESION  DATEFINADHESION  \\\n",
       "0        155891.0     VLG               2005     04/04/2017             2018   \n",
       "1        156023.0     VLG               2005     21/06/2014             2016   \n",
       "2        124203.0     BEA               2005     12/10/2017             2018   \n",
       "3        156190.0     SUR               2006     24/05/2015             2016   \n",
       "4        144444.0     LAB               2006     18/12/2016             2017   \n",
       "...           ...     ...                ...            ...              ...   \n",
       "720085  1970111.0     IAB               2011     06/01/2018             2019   \n",
       "720086  2297275.0     SEM               2013     06/01/2018             2019   \n",
       "720087  2305548.0     PRI               2013     06/01/2018             2019   \n",
       "720088    84175.0     GAI               2002     07/01/2018             2019   \n",
       "720089  1280004.0     SGL               2007     07/01/2018             2019   \n",
       "\n",
       "       CODEINSEE  ANCIENNETE   SEXE      AGE_GROUP  \n",
       "0          74224          13  FEMME       Inconnue  \n",
       "1          74189          11  HOMME   AGE DE 46-60  \n",
       "2          63070          13  FEMME       Inconnue  \n",
       "3          92026          10  FEMME       Inconnue  \n",
       "4          31555          11  HOMME       Inconnue  \n",
       "...          ...         ...    ...            ...  \n",
       "720085     38053           8  HOMME       Inconnue  \n",
       "720086     57067           6  HOMME   AGE DE 31-45  \n",
       "720087     38318           6  HOMME       Inconnue  \n",
       "720088     74082          17  FEMME  AGE DE 61-100  \n",
       "720089     42218          12  HOMME       Inconnue  \n",
       "\n",
       "[407389 rows x 9 columns]"
      ]
     },
     "execution_count": 57,
     "metadata": {},
     "output_type": "execute_result"
    }
   ],
   "source": [
    "CLIENT"
   ]
  },
  {
   "cell_type": "markdown",
   "metadata": {},
   "source": [
    "Ci-dessous, nous procédons à la suppression des dates de début et de fin d'adhésion car nous n'en avons plus besoin."
   ]
  },
  {
   "cell_type": "code",
   "execution_count": 58,
   "metadata": {
    "ExecuteTime": {
     "end_time": "2024-06-19T20:37:18.797268Z",
     "start_time": "2024-06-19T20:37:18.780610Z"
    }
   },
   "outputs": [],
   "source": [
    "CLIENT.drop(columns=['DATEDEBUTADHESION'], inplace=True)"
   ]
  },
  {
   "cell_type": "code",
   "execution_count": 59,
   "metadata": {
    "ExecuteTime": {
     "end_time": "2024-06-19T20:37:19.532150Z",
     "start_time": "2024-06-19T20:37:19.516915Z"
    }
   },
   "outputs": [],
   "source": [
    "CLIENT.drop(columns=['DATEFINADHESION'], inplace=True)"
   ]
  },
  {
   "cell_type": "markdown",
   "metadata": {},
   "source": [
    "Vérification des traitements."
   ]
  },
  {
   "cell_type": "code",
   "execution_count": 60,
   "metadata": {
    "ExecuteTime": {
     "end_time": "2024-06-19T20:37:25.007121Z",
     "start_time": "2024-06-19T20:37:25.001654Z"
    }
   },
   "outputs": [
    {
     "data": {
      "text/html": [
       "<div>\n",
       "<style scoped>\n",
       "    .dataframe tbody tr th:only-of-type {\n",
       "        vertical-align: middle;\n",
       "    }\n",
       "\n",
       "    .dataframe tbody tr th {\n",
       "        vertical-align: top;\n",
       "    }\n",
       "\n",
       "    .dataframe thead th {\n",
       "        text-align: right;\n",
       "    }\n",
       "</style>\n",
       "<table border=\"1\" class=\"dataframe\">\n",
       "  <thead>\n",
       "    <tr style=\"text-align: right;\">\n",
       "      <th></th>\n",
       "      <th>IDCLIENT</th>\n",
       "      <th>MAGASIN</th>\n",
       "      <th>DATEREADHESION</th>\n",
       "      <th>CODEINSEE</th>\n",
       "      <th>ANCIENNETE</th>\n",
       "      <th>SEXE</th>\n",
       "      <th>AGE_GROUP</th>\n",
       "    </tr>\n",
       "  </thead>\n",
       "  <tbody>\n",
       "    <tr>\n",
       "      <th>0</th>\n",
       "      <td>155891.0</td>\n",
       "      <td>VLG</td>\n",
       "      <td>04/04/2017</td>\n",
       "      <td>74224</td>\n",
       "      <td>13</td>\n",
       "      <td>FEMME</td>\n",
       "      <td>Inconnue</td>\n",
       "    </tr>\n",
       "    <tr>\n",
       "      <th>1</th>\n",
       "      <td>156023.0</td>\n",
       "      <td>VLG</td>\n",
       "      <td>21/06/2014</td>\n",
       "      <td>74189</td>\n",
       "      <td>11</td>\n",
       "      <td>HOMME</td>\n",
       "      <td>AGE DE 46-60</td>\n",
       "    </tr>\n",
       "    <tr>\n",
       "      <th>2</th>\n",
       "      <td>124203.0</td>\n",
       "      <td>BEA</td>\n",
       "      <td>12/10/2017</td>\n",
       "      <td>63070</td>\n",
       "      <td>13</td>\n",
       "      <td>FEMME</td>\n",
       "      <td>Inconnue</td>\n",
       "    </tr>\n",
       "    <tr>\n",
       "      <th>3</th>\n",
       "      <td>156190.0</td>\n",
       "      <td>SUR</td>\n",
       "      <td>24/05/2015</td>\n",
       "      <td>92026</td>\n",
       "      <td>10</td>\n",
       "      <td>FEMME</td>\n",
       "      <td>Inconnue</td>\n",
       "    </tr>\n",
       "    <tr>\n",
       "      <th>4</th>\n",
       "      <td>144444.0</td>\n",
       "      <td>LAB</td>\n",
       "      <td>18/12/2016</td>\n",
       "      <td>31555</td>\n",
       "      <td>11</td>\n",
       "      <td>HOMME</td>\n",
       "      <td>Inconnue</td>\n",
       "    </tr>\n",
       "    <tr>\n",
       "      <th>...</th>\n",
       "      <td>...</td>\n",
       "      <td>...</td>\n",
       "      <td>...</td>\n",
       "      <td>...</td>\n",
       "      <td>...</td>\n",
       "      <td>...</td>\n",
       "      <td>...</td>\n",
       "    </tr>\n",
       "    <tr>\n",
       "      <th>720085</th>\n",
       "      <td>1970111.0</td>\n",
       "      <td>IAB</td>\n",
       "      <td>06/01/2018</td>\n",
       "      <td>38053</td>\n",
       "      <td>8</td>\n",
       "      <td>HOMME</td>\n",
       "      <td>Inconnue</td>\n",
       "    </tr>\n",
       "    <tr>\n",
       "      <th>720086</th>\n",
       "      <td>2297275.0</td>\n",
       "      <td>SEM</td>\n",
       "      <td>06/01/2018</td>\n",
       "      <td>57067</td>\n",
       "      <td>6</td>\n",
       "      <td>HOMME</td>\n",
       "      <td>AGE DE 31-45</td>\n",
       "    </tr>\n",
       "    <tr>\n",
       "      <th>720087</th>\n",
       "      <td>2305548.0</td>\n",
       "      <td>PRI</td>\n",
       "      <td>06/01/2018</td>\n",
       "      <td>38318</td>\n",
       "      <td>6</td>\n",
       "      <td>HOMME</td>\n",
       "      <td>Inconnue</td>\n",
       "    </tr>\n",
       "    <tr>\n",
       "      <th>720088</th>\n",
       "      <td>84175.0</td>\n",
       "      <td>GAI</td>\n",
       "      <td>07/01/2018</td>\n",
       "      <td>74082</td>\n",
       "      <td>17</td>\n",
       "      <td>FEMME</td>\n",
       "      <td>AGE DE 61-100</td>\n",
       "    </tr>\n",
       "    <tr>\n",
       "      <th>720089</th>\n",
       "      <td>1280004.0</td>\n",
       "      <td>SGL</td>\n",
       "      <td>07/01/2018</td>\n",
       "      <td>42218</td>\n",
       "      <td>12</td>\n",
       "      <td>HOMME</td>\n",
       "      <td>Inconnue</td>\n",
       "    </tr>\n",
       "  </tbody>\n",
       "</table>\n",
       "<p>407389 rows × 7 columns</p>\n",
       "</div>"
      ],
      "text/plain": [
       "         IDCLIENT MAGASIN DATEREADHESION CODEINSEE  ANCIENNETE   SEXE  \\\n",
       "0        155891.0     VLG     04/04/2017     74224          13  FEMME   \n",
       "1        156023.0     VLG     21/06/2014     74189          11  HOMME   \n",
       "2        124203.0     BEA     12/10/2017     63070          13  FEMME   \n",
       "3        156190.0     SUR     24/05/2015     92026          10  FEMME   \n",
       "4        144444.0     LAB     18/12/2016     31555          11  HOMME   \n",
       "...           ...     ...            ...       ...         ...    ...   \n",
       "720085  1970111.0     IAB     06/01/2018     38053           8  HOMME   \n",
       "720086  2297275.0     SEM     06/01/2018     57067           6  HOMME   \n",
       "720087  2305548.0     PRI     06/01/2018     38318           6  HOMME   \n",
       "720088    84175.0     GAI     07/01/2018     74082          17  FEMME   \n",
       "720089  1280004.0     SGL     07/01/2018     42218          12  HOMME   \n",
       "\n",
       "            AGE_GROUP  \n",
       "0            Inconnue  \n",
       "1        AGE DE 46-60  \n",
       "2            Inconnue  \n",
       "3            Inconnue  \n",
       "4            Inconnue  \n",
       "...               ...  \n",
       "720085       Inconnue  \n",
       "720086   AGE DE 31-45  \n",
       "720087       Inconnue  \n",
       "720088  AGE DE 61-100  \n",
       "720089       Inconnue  \n",
       "\n",
       "[407389 rows x 7 columns]"
      ]
     },
     "execution_count": 60,
     "metadata": {},
     "output_type": "execute_result"
    }
   ],
   "source": [
    "CLIENT"
   ]
  },
  {
   "cell_type": "code",
   "execution_count": 61,
   "metadata": {
    "ExecuteTime": {
     "end_time": "2024-06-19T20:37:25.780421Z",
     "start_time": "2024-06-19T20:37:25.738539Z"
    }
   },
   "outputs": [
    {
     "name": "stdout",
     "output_type": "stream",
     "text": [
      "<class 'pandas.core.frame.DataFrame'>\n",
      "Index: 407389 entries, 0 to 720089\n",
      "Data columns (total 7 columns):\n",
      " #   Column          Non-Null Count   Dtype \n",
      "---  ------          --------------   ----- \n",
      " 0   IDCLIENT        407389 non-null  object\n",
      " 1   MAGASIN         407389 non-null  object\n",
      " 2   DATEREADHESION  407389 non-null  object\n",
      " 3   CODEINSEE       407389 non-null  object\n",
      " 4   ANCIENNETE      407389 non-null  int32 \n",
      " 5   SEXE            407389 non-null  object\n",
      " 6   AGE_GROUP       407389 non-null  object\n",
      "dtypes: int32(1), object(6)\n",
      "memory usage: 23.3+ MB\n"
     ]
    }
   ],
   "source": [
    "CLIENT.info()"
   ]
  },
  {
   "cell_type": "markdown",
   "metadata": {},
   "source": [
    "Le code ci-dessous va également nous permettre de modifier le format de la date de ré-adhésion."
   ]
  },
  {
   "cell_type": "code",
   "execution_count": 62,
   "metadata": {
    "ExecuteTime": {
     "end_time": "2024-06-19T20:37:31.141182Z",
     "start_time": "2024-06-19T20:37:30.778043Z"
    }
   },
   "outputs": [],
   "source": [
    "CLIENT[\"DATEREADHESION\"] = pd.to_datetime(CLIENT['DATEREADHESION'].str.strip(), format='%d/%m/%Y')"
   ]
  },
  {
   "cell_type": "code",
   "execution_count": 63,
   "metadata": {
    "ExecuteTime": {
     "end_time": "2024-06-19T20:37:31.870964Z",
     "start_time": "2024-06-19T20:37:31.846249Z"
    }
   },
   "outputs": [
    {
     "name": "stdout",
     "output_type": "stream",
     "text": [
      "Avant le filtrage:\n",
      "         IDCLIENT MAGASIN DATEREADHESION CODEINSEE  ANCIENNETE   SEXE  \\\n",
      "0        155891.0     VLG     2017-04-04     74224          13  FEMME   \n",
      "1        156023.0     VLG     2014-06-21     74189          11  HOMME   \n",
      "2        124203.0     BEA     2017-10-12     63070          13  FEMME   \n",
      "3        156190.0     SUR     2015-05-24     92026          10  FEMME   \n",
      "4        144444.0     LAB     2016-12-18     31555          11  HOMME   \n",
      "...           ...     ...            ...       ...         ...    ...   \n",
      "720085  1970111.0     IAB     2018-01-06     38053           8  HOMME   \n",
      "720086  2297275.0     SEM     2018-01-06     57067           6  HOMME   \n",
      "720087  2305548.0     PRI     2018-01-06     38318           6  HOMME   \n",
      "720088    84175.0     GAI     2018-01-07     74082          17  FEMME   \n",
      "720089  1280004.0     SGL     2018-01-07     42218          12  HOMME   \n",
      "\n",
      "            AGE_GROUP  \n",
      "0            Inconnue  \n",
      "1        AGE DE 46-60  \n",
      "2            Inconnue  \n",
      "3            Inconnue  \n",
      "4            Inconnue  \n",
      "...               ...  \n",
      "720085       Inconnue  \n",
      "720086   AGE DE 31-45  \n",
      "720087       Inconnue  \n",
      "720088  AGE DE 61-100  \n",
      "720089       Inconnue  \n",
      "\n",
      "[407389 rows x 7 columns]\n",
      "\n",
      "Après le filtrage:\n",
      "         IDCLIENT MAGASIN DATEREADHESION CODEINSEE  ANCIENNETE   SEXE  \\\n",
      "0        155891.0     VLG     2017-04-04     74224          13  FEMME   \n",
      "1        156023.0     VLG     2014-06-21     74189          11  HOMME   \n",
      "2        124203.0     BEA     2017-10-12     63070          13  FEMME   \n",
      "3        156190.0     SUR     2015-05-24     92026          10  FEMME   \n",
      "4        144444.0     LAB     2016-12-18     31555          11  HOMME   \n",
      "...           ...     ...            ...       ...         ...    ...   \n",
      "719975   336771.0     BEA     2017-12-30     63302          12  FEMME   \n",
      "719976  1709516.0     VIB     2017-12-30     69034           9  HOMME   \n",
      "719977  1866695.0     MAN     2017-12-30     04230           8  FEMME   \n",
      "719978  2098666.0     CLI     2017-12-30     08105           6  HOMME   \n",
      "720049   402282.0     VIB     2017-12-31     69386          12  HOMME   \n",
      "\n",
      "           AGE_GROUP  \n",
      "0           Inconnue  \n",
      "1       AGE DE 46-60  \n",
      "2           Inconnue  \n",
      "3           Inconnue  \n",
      "4           Inconnue  \n",
      "...              ...  \n",
      "719975      Inconnue  \n",
      "719976      Inconnue  \n",
      "719977      Inconnue  \n",
      "719978      Inconnue  \n",
      "720049      Inconnue  \n",
      "\n",
      "[404898 rows x 7 columns]\n"
     ]
    }
   ],
   "source": [
    "# Convertir la colonne 'DATEREADHESION' au format datetime\n",
    "CLIENT['DATEREADHESION'] = pd.to_datetime(CLIENT['DATEREADHESION'], dayfirst=True)\n",
    "\n",
    "# Afficher le DataFrame initial\n",
    "print(\"Avant le filtrage:\")\n",
    "print(CLIENT)\n",
    "\n",
    "# Définir la date limite pour le filtrage\n",
    "date_max = pd.to_datetime('01/01/2018', dayfirst=True)\n",
    "\n",
    "# Filtrer le DataFrame selon la condition\n",
    "CLIENT = CLIENT[CLIENT['DATEREADHESION'] < date_max]\n",
    "\n",
    "# Afficher le DataFrame après filtrage\n",
    "print(\"\\nAprès le filtrage:\")\n",
    "print(CLIENT)"
   ]
  },
  {
   "cell_type": "markdown",
   "metadata": {},
   "source": [
    "Affichage de notre dataframe."
   ]
  },
  {
   "cell_type": "code",
   "execution_count": 64,
   "metadata": {
    "ExecuteTime": {
     "end_time": "2024-06-19T20:37:42.760220Z",
     "start_time": "2024-06-19T20:37:42.754981Z"
    }
   },
   "outputs": [
    {
     "data": {
      "text/html": [
       "<div>\n",
       "<style scoped>\n",
       "    .dataframe tbody tr th:only-of-type {\n",
       "        vertical-align: middle;\n",
       "    }\n",
       "\n",
       "    .dataframe tbody tr th {\n",
       "        vertical-align: top;\n",
       "    }\n",
       "\n",
       "    .dataframe thead th {\n",
       "        text-align: right;\n",
       "    }\n",
       "</style>\n",
       "<table border=\"1\" class=\"dataframe\">\n",
       "  <thead>\n",
       "    <tr style=\"text-align: right;\">\n",
       "      <th></th>\n",
       "      <th>IDCLIENT</th>\n",
       "      <th>MAGASIN</th>\n",
       "      <th>DATEREADHESION</th>\n",
       "      <th>CODEINSEE</th>\n",
       "      <th>ANCIENNETE</th>\n",
       "      <th>SEXE</th>\n",
       "      <th>AGE_GROUP</th>\n",
       "    </tr>\n",
       "  </thead>\n",
       "  <tbody>\n",
       "    <tr>\n",
       "      <th>0</th>\n",
       "      <td>155891.0</td>\n",
       "      <td>VLG</td>\n",
       "      <td>2017-04-04</td>\n",
       "      <td>74224</td>\n",
       "      <td>13</td>\n",
       "      <td>FEMME</td>\n",
       "      <td>Inconnue</td>\n",
       "    </tr>\n",
       "    <tr>\n",
       "      <th>1</th>\n",
       "      <td>156023.0</td>\n",
       "      <td>VLG</td>\n",
       "      <td>2014-06-21</td>\n",
       "      <td>74189</td>\n",
       "      <td>11</td>\n",
       "      <td>HOMME</td>\n",
       "      <td>AGE DE 46-60</td>\n",
       "    </tr>\n",
       "    <tr>\n",
       "      <th>2</th>\n",
       "      <td>124203.0</td>\n",
       "      <td>BEA</td>\n",
       "      <td>2017-10-12</td>\n",
       "      <td>63070</td>\n",
       "      <td>13</td>\n",
       "      <td>FEMME</td>\n",
       "      <td>Inconnue</td>\n",
       "    </tr>\n",
       "    <tr>\n",
       "      <th>3</th>\n",
       "      <td>156190.0</td>\n",
       "      <td>SUR</td>\n",
       "      <td>2015-05-24</td>\n",
       "      <td>92026</td>\n",
       "      <td>10</td>\n",
       "      <td>FEMME</td>\n",
       "      <td>Inconnue</td>\n",
       "    </tr>\n",
       "    <tr>\n",
       "      <th>4</th>\n",
       "      <td>144444.0</td>\n",
       "      <td>LAB</td>\n",
       "      <td>2016-12-18</td>\n",
       "      <td>31555</td>\n",
       "      <td>11</td>\n",
       "      <td>HOMME</td>\n",
       "      <td>Inconnue</td>\n",
       "    </tr>\n",
       "    <tr>\n",
       "      <th>...</th>\n",
       "      <td>...</td>\n",
       "      <td>...</td>\n",
       "      <td>...</td>\n",
       "      <td>...</td>\n",
       "      <td>...</td>\n",
       "      <td>...</td>\n",
       "      <td>...</td>\n",
       "    </tr>\n",
       "    <tr>\n",
       "      <th>719975</th>\n",
       "      <td>336771.0</td>\n",
       "      <td>BEA</td>\n",
       "      <td>2017-12-30</td>\n",
       "      <td>63302</td>\n",
       "      <td>12</td>\n",
       "      <td>FEMME</td>\n",
       "      <td>Inconnue</td>\n",
       "    </tr>\n",
       "    <tr>\n",
       "      <th>719976</th>\n",
       "      <td>1709516.0</td>\n",
       "      <td>VIB</td>\n",
       "      <td>2017-12-30</td>\n",
       "      <td>69034</td>\n",
       "      <td>9</td>\n",
       "      <td>HOMME</td>\n",
       "      <td>Inconnue</td>\n",
       "    </tr>\n",
       "    <tr>\n",
       "      <th>719977</th>\n",
       "      <td>1866695.0</td>\n",
       "      <td>MAN</td>\n",
       "      <td>2017-12-30</td>\n",
       "      <td>04230</td>\n",
       "      <td>8</td>\n",
       "      <td>FEMME</td>\n",
       "      <td>Inconnue</td>\n",
       "    </tr>\n",
       "    <tr>\n",
       "      <th>719978</th>\n",
       "      <td>2098666.0</td>\n",
       "      <td>CLI</td>\n",
       "      <td>2017-12-30</td>\n",
       "      <td>08105</td>\n",
       "      <td>6</td>\n",
       "      <td>HOMME</td>\n",
       "      <td>Inconnue</td>\n",
       "    </tr>\n",
       "    <tr>\n",
       "      <th>720049</th>\n",
       "      <td>402282.0</td>\n",
       "      <td>VIB</td>\n",
       "      <td>2017-12-31</td>\n",
       "      <td>69386</td>\n",
       "      <td>12</td>\n",
       "      <td>HOMME</td>\n",
       "      <td>Inconnue</td>\n",
       "    </tr>\n",
       "  </tbody>\n",
       "</table>\n",
       "<p>404898 rows × 7 columns</p>\n",
       "</div>"
      ],
      "text/plain": [
       "         IDCLIENT MAGASIN DATEREADHESION CODEINSEE  ANCIENNETE   SEXE  \\\n",
       "0        155891.0     VLG     2017-04-04     74224          13  FEMME   \n",
       "1        156023.0     VLG     2014-06-21     74189          11  HOMME   \n",
       "2        124203.0     BEA     2017-10-12     63070          13  FEMME   \n",
       "3        156190.0     SUR     2015-05-24     92026          10  FEMME   \n",
       "4        144444.0     LAB     2016-12-18     31555          11  HOMME   \n",
       "...           ...     ...            ...       ...         ...    ...   \n",
       "719975   336771.0     BEA     2017-12-30     63302          12  FEMME   \n",
       "719976  1709516.0     VIB     2017-12-30     69034           9  HOMME   \n",
       "719977  1866695.0     MAN     2017-12-30     04230           8  FEMME   \n",
       "719978  2098666.0     CLI     2017-12-30     08105           6  HOMME   \n",
       "720049   402282.0     VIB     2017-12-31     69386          12  HOMME   \n",
       "\n",
       "           AGE_GROUP  \n",
       "0           Inconnue  \n",
       "1       AGE DE 46-60  \n",
       "2           Inconnue  \n",
       "3           Inconnue  \n",
       "4           Inconnue  \n",
       "...              ...  \n",
       "719975      Inconnue  \n",
       "719976      Inconnue  \n",
       "719977      Inconnue  \n",
       "719978      Inconnue  \n",
       "720049      Inconnue  \n",
       "\n",
       "[404898 rows x 7 columns]"
      ]
     },
     "execution_count": 64,
     "metadata": {},
     "output_type": "execute_result"
    }
   ],
   "source": [
    "CLIENT"
   ]
  },
  {
   "cell_type": "markdown",
   "metadata": {},
   "source": [
    "Enregistrement de notre dataframe pour faciliter sa réutilisation, dans un autre notebook\", sans avoir à tout éxécuter."
   ]
  },
  {
   "cell_type": "code",
   "execution_count": 65,
   "metadata": {},
   "outputs": [],
   "source": [
    "CLIENTS = \"C:\\\\Users\\\\belga\\\\OneDrive\\\\Bureau\\\\EMBA Big Data\\\\Module Datascience\\\\Projet Data Science S2 2024\\\\CLIENTS_NET.pkl\"\n",
    "CLIENT.to_pickle(CLIENTS)"
   ]
  }
 ],
 "metadata": {
  "kernelspec": {
   "display_name": "Python 3 (ipykernel)",
   "language": "python",
   "name": "python3"
  },
  "language_info": {
   "codemirror_mode": {
    "name": "ipython",
    "version": 3
   },
   "file_extension": ".py",
   "mimetype": "text/x-python",
   "name": "python",
   "nbconvert_exporter": "python",
   "pygments_lexer": "ipython3",
   "version": "3.11.5"
  }
 },
 "nbformat": 4,
 "nbformat_minor": 4
}
