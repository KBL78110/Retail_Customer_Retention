{
 "cells": [
  {
   "cell_type": "code",
   "execution_count": null,
   "metadata": {},
   "outputs": [],
   "source": [
    "import pip\n",
    "pip.main(['install', 'pandas'])\n",
    "pip.main(['install', 'matplotlib'])\n",
    "pip.main(['install', 'seaborn'])\n",
    "pip.main(['install', 'scikit-learn'])"
   ]
  },
  {
   "cell_type": "markdown",
   "metadata": {},
   "source": [
    "# CHARGEMENT DES BIBLIOTHEQUES"
   ]
  },
  {
   "cell_type": "code",
   "execution_count": 2,
   "metadata": {
    "ExecuteTime": {
     "end_time": "2024-05-15T18:58:58.418332Z",
     "start_time": "2024-05-15T18:58:58.308998Z"
    }
   },
   "outputs": [],
   "source": [
    "import pandas as pd\n",
    "import matplotlib.pyplot as plt\n",
    "import numpy as np\n",
    "import seaborn as sns\n",
    "\n",
    "from sklearn.linear_model import LogisticRegression\n",
    "from sklearn.model_selection import train_test_split\n",
    "from sklearn.datasets import make_classification\n",
    "from sklearn.metrics import roc_curve, auc\n",
    "from sklearn.metrics import accuracy_score, classification_report, confusion_matrix\n",
    "from sklearn.preprocessing import StandardScaler\n",
    "from sklearn.preprocessing import OneHotEncoder\n",
    "from sklearn.preprocessing import LabelEncoder"
   ]
  },
  {
   "cell_type": "markdown",
   "metadata": {},
   "source": [
    "Chargement du jeu de données REF_ARTICLE."
   ]
  },
  {
   "cell_type": "code",
   "execution_count": 3,
   "metadata": {},
   "outputs": [
    {
     "name": "stdout",
     "output_type": "stream",
     "text": [
      "(665946, 4)\n",
      "['CODEARTICLE', 'CODEUNIVERS', 'CODEFAMILLE', 'CODESOUSFAMILLE']\n"
     ]
    }
   ],
   "source": [
    "dataset_path = \"C:\\\\Users\\\\belga\\\\OneDrive\\\\Bureau\\\\EMBA Big Data\\\\Module Datascience\\\\Projet Data Science S2 2024\\\\REF_ARTICLE.csv\"\n",
    "data4 = pd.read_csv(dataset_path, sep='|', low_memory=False)\n",
    "print(data4.shape)\n",
    "print(list(data4.columns))"
   ]
  },
  {
   "cell_type": "markdown",
   "metadata": {},
   "source": [
    "La ligne de code ci-dessous nous permet de connaître le détail des colonnes ainsi que le type de données constituant notre base (numérique ou caractères)."
   ]
  },
  {
   "cell_type": "code",
   "execution_count": 4,
   "metadata": {
    "ExecuteTime": {
     "end_time": "2024-05-15T18:59:02.537656Z",
     "start_time": "2024-05-15T18:59:02.407439Z"
    }
   },
   "outputs": [
    {
     "name": "stdout",
     "output_type": "stream",
     "text": [
      "<class 'pandas.core.frame.DataFrame'>\n",
      "RangeIndex: 665946 entries, 0 to 665945\n",
      "Data columns (total 4 columns):\n",
      " #   Column           Non-Null Count   Dtype \n",
      "---  ------           --------------   ----- \n",
      " 0   CODEARTICLE      665946 non-null  object\n",
      " 1   CODEUNIVERS      665946 non-null  object\n",
      " 2   CODEFAMILLE      665946 non-null  object\n",
      " 3   CODESOUSFAMILLE  665946 non-null  object\n",
      "dtypes: object(4)\n",
      "memory usage: 20.3+ MB\n"
     ]
    }
   ],
   "source": [
    "data4.info()"
   ]
  },
  {
   "cell_type": "markdown",
   "metadata": {},
   "source": [
    "Aperçu de notre jeu de données. "
   ]
  },
  {
   "cell_type": "code",
   "execution_count": 5,
   "metadata": {
    "ExecuteTime": {
     "end_time": "2024-05-15T18:59:04.158407Z",
     "start_time": "2024-05-15T18:59:04.129823Z"
    }
   },
   "outputs": [
    {
     "data": {
      "text/html": [
       "<div>\n",
       "<style scoped>\n",
       "    .dataframe tbody tr th:only-of-type {\n",
       "        vertical-align: middle;\n",
       "    }\n",
       "\n",
       "    .dataframe tbody tr th {\n",
       "        vertical-align: top;\n",
       "    }\n",
       "\n",
       "    .dataframe thead th {\n",
       "        text-align: right;\n",
       "    }\n",
       "</style>\n",
       "<table border=\"1\" class=\"dataframe\">\n",
       "  <thead>\n",
       "    <tr style=\"text-align: right;\">\n",
       "      <th></th>\n",
       "      <th>CODEARTICLE</th>\n",
       "      <th>CODEUNIVERS</th>\n",
       "      <th>CODEFAMILLE</th>\n",
       "      <th>CODESOUSFAMILLE</th>\n",
       "    </tr>\n",
       "  </thead>\n",
       "  <tbody>\n",
       "    <tr>\n",
       "      <th>0</th>\n",
       "      <td>COUPON</td>\n",
       "      <td>COUPON</td>\n",
       "      <td>COUPON</td>\n",
       "      <td>COUPON</td>\n",
       "    </tr>\n",
       "    <tr>\n",
       "      <th>1</th>\n",
       "      <td>1001</td>\n",
       "      <td>U2</td>\n",
       "      <td>130</td>\n",
       "      <td>130040</td>\n",
       "    </tr>\n",
       "    <tr>\n",
       "      <th>2</th>\n",
       "      <td>100125</td>\n",
       "      <td>U1</td>\n",
       "      <td>010</td>\n",
       "      <td>010020</td>\n",
       "    </tr>\n",
       "    <tr>\n",
       "      <th>3</th>\n",
       "      <td>100150</td>\n",
       "      <td>U1</td>\n",
       "      <td>010</td>\n",
       "      <td>010020</td>\n",
       "    </tr>\n",
       "    <tr>\n",
       "      <th>4</th>\n",
       "      <td>10018</td>\n",
       "      <td>U1</td>\n",
       "      <td>100</td>\n",
       "      <td>100900</td>\n",
       "    </tr>\n",
       "    <tr>\n",
       "      <th>...</th>\n",
       "      <td>...</td>\n",
       "      <td>...</td>\n",
       "      <td>...</td>\n",
       "      <td>...</td>\n",
       "    </tr>\n",
       "    <tr>\n",
       "      <th>665941</th>\n",
       "      <td>407717</td>\n",
       "      <td>U3</td>\n",
       "      <td>120</td>\n",
       "      <td>120070</td>\n",
       "    </tr>\n",
       "    <tr>\n",
       "      <th>665942</th>\n",
       "      <td>407719</td>\n",
       "      <td>U3</td>\n",
       "      <td>120</td>\n",
       "      <td>120070</td>\n",
       "    </tr>\n",
       "    <tr>\n",
       "      <th>665943</th>\n",
       "      <td>407720</td>\n",
       "      <td>U3</td>\n",
       "      <td>120</td>\n",
       "      <td>120070</td>\n",
       "    </tr>\n",
       "    <tr>\n",
       "      <th>665944</th>\n",
       "      <td>407721</td>\n",
       "      <td>U3</td>\n",
       "      <td>120</td>\n",
       "      <td>120070</td>\n",
       "    </tr>\n",
       "    <tr>\n",
       "      <th>665945</th>\n",
       "      <td>407723</td>\n",
       "      <td>U3</td>\n",
       "      <td>120</td>\n",
       "      <td>120070</td>\n",
       "    </tr>\n",
       "  </tbody>\n",
       "</table>\n",
       "<p>665946 rows × 4 columns</p>\n",
       "</div>"
      ],
      "text/plain": [
       "       CODEARTICLE CODEUNIVERS CODEFAMILLE CODESOUSFAMILLE\n",
       "0           COUPON      COUPON      COUPON          COUPON\n",
       "1             1001          U2         130          130040\n",
       "2           100125          U1         010          010020\n",
       "3           100150          U1         010          010020\n",
       "4            10018          U1         100          100900\n",
       "...            ...         ...         ...             ...\n",
       "665941      407717          U3         120          120070\n",
       "665942      407719          U3         120          120070\n",
       "665943      407720          U3         120          120070\n",
       "665944      407721          U3         120          120070\n",
       "665945      407723          U3         120          120070\n",
       "\n",
       "[665946 rows x 4 columns]"
      ]
     },
     "execution_count": 5,
     "metadata": {},
     "output_type": "execute_result"
    }
   ],
   "source": [
    "data4"
   ]
  },
  {
   "cell_type": "markdown",
   "metadata": {},
   "source": [
    "La ligne de code ci-dessous nous permet de supprimer l'index 0 car cette ligne ne renvoi que la mention \"COUPON\", quelque soit l'information recherchée."
   ]
  },
  {
   "cell_type": "code",
   "execution_count": 6,
   "metadata": {
    "ExecuteTime": {
     "end_time": "2024-05-15T18:59:05.423220Z",
     "start_time": "2024-05-15T18:59:05.375601Z"
    }
   },
   "outputs": [],
   "source": [
    "data4.drop(0, inplace=True)"
   ]
  },
  {
   "cell_type": "markdown",
   "metadata": {},
   "source": [
    "Vérification du traitement."
   ]
  },
  {
   "cell_type": "code",
   "execution_count": 7,
   "metadata": {
    "ExecuteTime": {
     "end_time": "2024-05-15T18:59:05.666422Z",
     "start_time": "2024-05-15T18:59:05.648207Z"
    }
   },
   "outputs": [
    {
     "data": {
      "text/html": [
       "<div>\n",
       "<style scoped>\n",
       "    .dataframe tbody tr th:only-of-type {\n",
       "        vertical-align: middle;\n",
       "    }\n",
       "\n",
       "    .dataframe tbody tr th {\n",
       "        vertical-align: top;\n",
       "    }\n",
       "\n",
       "    .dataframe thead th {\n",
       "        text-align: right;\n",
       "    }\n",
       "</style>\n",
       "<table border=\"1\" class=\"dataframe\">\n",
       "  <thead>\n",
       "    <tr style=\"text-align: right;\">\n",
       "      <th></th>\n",
       "      <th>CODEARTICLE</th>\n",
       "      <th>CODEUNIVERS</th>\n",
       "      <th>CODEFAMILLE</th>\n",
       "      <th>CODESOUSFAMILLE</th>\n",
       "    </tr>\n",
       "  </thead>\n",
       "  <tbody>\n",
       "    <tr>\n",
       "      <th>1</th>\n",
       "      <td>1001</td>\n",
       "      <td>U2</td>\n",
       "      <td>130</td>\n",
       "      <td>130040</td>\n",
       "    </tr>\n",
       "    <tr>\n",
       "      <th>2</th>\n",
       "      <td>100125</td>\n",
       "      <td>U1</td>\n",
       "      <td>010</td>\n",
       "      <td>010020</td>\n",
       "    </tr>\n",
       "    <tr>\n",
       "      <th>3</th>\n",
       "      <td>100150</td>\n",
       "      <td>U1</td>\n",
       "      <td>010</td>\n",
       "      <td>010020</td>\n",
       "    </tr>\n",
       "    <tr>\n",
       "      <th>4</th>\n",
       "      <td>10018</td>\n",
       "      <td>U1</td>\n",
       "      <td>100</td>\n",
       "      <td>100900</td>\n",
       "    </tr>\n",
       "    <tr>\n",
       "      <th>5</th>\n",
       "      <td>10019</td>\n",
       "      <td>U1</td>\n",
       "      <td>100</td>\n",
       "      <td>100900</td>\n",
       "    </tr>\n",
       "    <tr>\n",
       "      <th>...</th>\n",
       "      <td>...</td>\n",
       "      <td>...</td>\n",
       "      <td>...</td>\n",
       "      <td>...</td>\n",
       "    </tr>\n",
       "    <tr>\n",
       "      <th>665941</th>\n",
       "      <td>407717</td>\n",
       "      <td>U3</td>\n",
       "      <td>120</td>\n",
       "      <td>120070</td>\n",
       "    </tr>\n",
       "    <tr>\n",
       "      <th>665942</th>\n",
       "      <td>407719</td>\n",
       "      <td>U3</td>\n",
       "      <td>120</td>\n",
       "      <td>120070</td>\n",
       "    </tr>\n",
       "    <tr>\n",
       "      <th>665943</th>\n",
       "      <td>407720</td>\n",
       "      <td>U3</td>\n",
       "      <td>120</td>\n",
       "      <td>120070</td>\n",
       "    </tr>\n",
       "    <tr>\n",
       "      <th>665944</th>\n",
       "      <td>407721</td>\n",
       "      <td>U3</td>\n",
       "      <td>120</td>\n",
       "      <td>120070</td>\n",
       "    </tr>\n",
       "    <tr>\n",
       "      <th>665945</th>\n",
       "      <td>407723</td>\n",
       "      <td>U3</td>\n",
       "      <td>120</td>\n",
       "      <td>120070</td>\n",
       "    </tr>\n",
       "  </tbody>\n",
       "</table>\n",
       "<p>665945 rows × 4 columns</p>\n",
       "</div>"
      ],
      "text/plain": [
       "       CODEARTICLE CODEUNIVERS CODEFAMILLE CODESOUSFAMILLE\n",
       "1             1001          U2         130          130040\n",
       "2           100125          U1         010          010020\n",
       "3           100150          U1         010          010020\n",
       "4            10018          U1         100          100900\n",
       "5            10019          U1         100          100900\n",
       "...            ...         ...         ...             ...\n",
       "665941      407717          U3         120          120070\n",
       "665942      407719          U3         120          120070\n",
       "665943      407720          U3         120          120070\n",
       "665944      407721          U3         120          120070\n",
       "665945      407723          U3         120          120070\n",
       "\n",
       "[665945 rows x 4 columns]"
      ]
     },
     "execution_count": 7,
     "metadata": {},
     "output_type": "execute_result"
    }
   ],
   "source": [
    "data4"
   ]
  },
  {
   "cell_type": "markdown",
   "metadata": {},
   "source": [
    "Cette ligne de code nous permet d'identifier le nombre d'occurence de chaque code article, pour identifier les éventuels regroupements à effectuer. Nous allons également effectuer cette opération sur les autres colonnes de notre jeu de données."
   ]
  },
  {
   "cell_type": "code",
   "execution_count": 8,
   "metadata": {
    "ExecuteTime": {
     "end_time": "2024-05-15T18:59:07.207730Z",
     "start_time": "2024-05-15T18:59:06.886577Z"
    }
   },
   "outputs": [
    {
     "data": {
      "text/plain": [
       "CODEARTICLE\n",
       "1001      1\n",
       "278616    1\n",
       "277497    1\n",
       "277502    1\n",
       "299706    1\n",
       "         ..\n",
       "145641    1\n",
       "145642    1\n",
       "145643    1\n",
       "145644    1\n",
       "407723    1\n",
       "Name: count, Length: 665945, dtype: int64"
      ]
     },
     "execution_count": 8,
     "metadata": {},
     "output_type": "execute_result"
    }
   ],
   "source": [
    "#modalités variables:\n",
    "data4['CODEARTICLE'].value_counts(dropna = False)"
   ]
  },
  {
   "cell_type": "code",
   "execution_count": 9,
   "metadata": {
    "ExecuteTime": {
     "end_time": "2024-05-15T18:59:07.316586Z",
     "start_time": "2024-05-15T18:59:07.282246Z"
    }
   },
   "outputs": [
    {
     "data": {
      "text/plain": [
       "CODEUNIVERS\n",
       "U1    274652\n",
       "U2    236139\n",
       "U3     72725\n",
       "U4     66413\n",
       "U0     16016\n",
       "Name: count, dtype: int64"
      ]
     },
     "execution_count": 9,
     "metadata": {},
     "output_type": "execute_result"
    }
   ],
   "source": [
    "data4['CODEUNIVERS'].value_counts(dropna = False)"
   ]
  },
  {
   "cell_type": "code",
   "execution_count": 10,
   "metadata": {
    "ExecuteTime": {
     "end_time": "2024-05-15T18:59:08.207127Z",
     "start_time": "2024-05-15T18:59:08.177676Z"
    }
   },
   "outputs": [
    {
     "data": {
      "text/plain": [
       "CODEFAMILLE\n",
       "090    157747\n",
       "010     65324\n",
       "130     63055\n",
       "120     60886\n",
       "180     46685\n",
       "080     36253\n",
       "100     33971\n",
       "140     33907\n",
       "020     31685\n",
       "220     30893\n",
       "050     22395\n",
       "030     22165\n",
       "070     14484\n",
       "110     11839\n",
       "160      8561\n",
       "190      6449\n",
       "040      5176\n",
       "400      3884\n",
       "170      3570\n",
       "900      2196\n",
       "200      1613\n",
       "230      1092\n",
       "060       979\n",
       "210       853\n",
       "990       283\n",
       "Name: count, dtype: int64"
      ]
     },
     "execution_count": 10,
     "metadata": {},
     "output_type": "execute_result"
    }
   ],
   "source": [
    "data4['CODEFAMILLE'].value_counts(dropna = False)"
   ]
  },
  {
   "cell_type": "markdown",
   "metadata": {},
   "source": [
    "Cette ligne de code nous permet d'identifier le nombre d'occurence de chaque code famille, pour identifier les éventuels regroupements à effectuer. "
   ]
  },
  {
   "cell_type": "code",
   "execution_count": 11,
   "metadata": {
    "ExecuteTime": {
     "end_time": "2024-05-15T18:59:09.657638Z",
     "start_time": "2024-05-15T18:59:09.620663Z"
    }
   },
   "outputs": [
    {
     "name": "stdout",
     "output_type": "stream",
     "text": [
      "CODEFAMILLE\n",
      "90    2\n",
      "dtype: int64\n"
     ]
    }
   ],
   "source": [
    "# Importer la librairie pandas\n",
    "import pandas as pd\n",
    "\n",
    "# Créer un DataFrame de test\n",
    "data = {'CODEFAMILLE': ['90', '090']}\n",
    "df = pd.DataFrame(data)\n",
    "\n",
    "# Additionner les valeurs '90' et '090' pour les regrouper en une seule modalité '90'\n",
    "df['CODEFAMILLE'] = df['CODEFAMILLE'].replace({'090': '90'})\n",
    "\n",
    "# Agréger les données en fonction de la colonne 'CODEFAMILLE' pour voir la somme des occurrences de chaque modalité\n",
    "aggregated_data = df.groupby('CODEFAMILLE').size()\n",
    "\n",
    "# Afficher le résultat\n",
    "print(aggregated_data)"
   ]
  },
  {
   "cell_type": "markdown",
   "metadata": {},
   "source": [
    "Vérification du traitement."
   ]
  },
  {
   "cell_type": "code",
   "execution_count": 12,
   "metadata": {
    "ExecuteTime": {
     "end_time": "2024-05-15T18:59:13.248633Z",
     "start_time": "2024-05-15T18:59:13.220863Z"
    }
   },
   "outputs": [
    {
     "data": {
      "text/plain": [
       "CODEFAMILLE\n",
       "090    157747\n",
       "010     65324\n",
       "130     63055\n",
       "120     60886\n",
       "180     46685\n",
       "080     36253\n",
       "100     33971\n",
       "140     33907\n",
       "020     31685\n",
       "220     30893\n",
       "050     22395\n",
       "030     22165\n",
       "070     14484\n",
       "110     11839\n",
       "160      8561\n",
       "190      6449\n",
       "040      5176\n",
       "400      3884\n",
       "170      3570\n",
       "900      2196\n",
       "200      1613\n",
       "230      1092\n",
       "060       979\n",
       "210       853\n",
       "990       283\n",
       "Name: count, dtype: int64"
      ]
     },
     "execution_count": 12,
     "metadata": {},
     "output_type": "execute_result"
    }
   ],
   "source": [
    "data4['CODEFAMILLE'].value_counts(dropna = False)"
   ]
  },
  {
   "cell_type": "code",
   "execution_count": 13,
   "metadata": {
    "ExecuteTime": {
     "end_time": "2024-05-15T18:59:15.268055Z",
     "start_time": "2024-05-15T18:59:15.222185Z"
    }
   },
   "outputs": [
    {
     "data": {
      "text/plain": [
       "CODESOUSFAMILLE\n",
       "180090    44779\n",
       "140010    23698\n",
       "120060    23371\n",
       "090800    23326\n",
       "090070    21254\n",
       "          ...  \n",
       "100110        1\n",
       "110110        1\n",
       "900990        1\n",
       "200060        1\n",
       "180999        1\n",
       "Name: count, Length: 343, dtype: int64"
      ]
     },
     "execution_count": 13,
     "metadata": {},
     "output_type": "execute_result"
    }
   ],
   "source": [
    "data4['CODESOUSFAMILLE'].value_counts(dropna = False)"
   ]
  },
  {
   "cell_type": "markdown",
   "metadata": {},
   "source": [
    "La ligne de code ci-dessous nous permet d'identifier la présence ou non de valeur(s) en doublons."
   ]
  },
  {
   "cell_type": "code",
   "execution_count": 14,
   "metadata": {
    "ExecuteTime": {
     "end_time": "2024-05-15T18:59:19.000161Z",
     "start_time": "2024-05-15T18:59:18.253586Z"
    }
   },
   "outputs": [
    {
     "name": "stdout",
     "output_type": "stream",
     "text": [
      "0\n"
     ]
    }
   ],
   "source": [
    "print(data4.duplicated().sum())\n",
    "data1 = data4.drop_duplicates()"
   ]
  },
  {
   "cell_type": "markdown",
   "metadata": {},
   "source": [
    "La ligne de code ci-dessous nous permet d'identifier la présence ou non de valeur(s) manquante(s)"
   ]
  },
  {
   "cell_type": "code",
   "execution_count": 15,
   "metadata": {
    "ExecuteTime": {
     "end_time": "2024-05-15T18:59:21.419299Z",
     "start_time": "2024-05-15T18:59:21.315148Z"
    }
   },
   "outputs": [
    {
     "data": {
      "text/html": [
       "<div>\n",
       "<style scoped>\n",
       "    .dataframe tbody tr th:only-of-type {\n",
       "        vertical-align: middle;\n",
       "    }\n",
       "\n",
       "    .dataframe tbody tr th {\n",
       "        vertical-align: top;\n",
       "    }\n",
       "\n",
       "    .dataframe thead th {\n",
       "        text-align: right;\n",
       "    }\n",
       "</style>\n",
       "<table border=\"1\" class=\"dataframe\">\n",
       "  <thead>\n",
       "    <tr style=\"text-align: right;\">\n",
       "      <th></th>\n",
       "      <th>%_missing_values</th>\n",
       "    </tr>\n",
       "  </thead>\n",
       "  <tbody>\n",
       "    <tr>\n",
       "      <th>CODEARTICLE</th>\n",
       "      <td>0.0</td>\n",
       "    </tr>\n",
       "    <tr>\n",
       "      <th>CODEUNIVERS</th>\n",
       "      <td>0.0</td>\n",
       "    </tr>\n",
       "    <tr>\n",
       "      <th>CODEFAMILLE</th>\n",
       "      <td>0.0</td>\n",
       "    </tr>\n",
       "    <tr>\n",
       "      <th>CODESOUSFAMILLE</th>\n",
       "      <td>0.0</td>\n",
       "    </tr>\n",
       "  </tbody>\n",
       "</table>\n",
       "</div>"
      ],
      "text/plain": [
       "                 %_missing_values\n",
       "CODEARTICLE                   0.0\n",
       "CODEUNIVERS                   0.0\n",
       "CODEFAMILLE                   0.0\n",
       "CODESOUSFAMILLE               0.0"
      ]
     },
     "execution_count": 15,
     "metadata": {},
     "output_type": "execute_result"
    }
   ],
   "source": [
    "pd.DataFrame(index=data4.columns, columns=['%_missing_values'], data= (data4.isna().sum().values / len(data4)*100))"
   ]
  },
  {
   "cell_type": "markdown",
   "metadata": {},
   "source": [
    "Le traitement des valeurs aberrantes ne concernant que les variables numériques, nous n'allons pas procéder à ce traitement car aucune de nos variables n'est concernées sur ce dataframe."
   ]
  },
  {
   "cell_type": "code",
   "execution_count": 17,
   "metadata": {},
   "outputs": [],
   "source": [
    "data4.drop(columns=['CODESOUSFAMILLE'], inplace=True)"
   ]
  },
  {
   "cell_type": "markdown",
   "metadata": {},
   "source": [
    "Vérification du traitement"
   ]
  },
  {
   "cell_type": "code",
   "execution_count": 18,
   "metadata": {},
   "outputs": [
    {
     "data": {
      "text/html": [
       "<div>\n",
       "<style scoped>\n",
       "    .dataframe tbody tr th:only-of-type {\n",
       "        vertical-align: middle;\n",
       "    }\n",
       "\n",
       "    .dataframe tbody tr th {\n",
       "        vertical-align: top;\n",
       "    }\n",
       "\n",
       "    .dataframe thead th {\n",
       "        text-align: right;\n",
       "    }\n",
       "</style>\n",
       "<table border=\"1\" class=\"dataframe\">\n",
       "  <thead>\n",
       "    <tr style=\"text-align: right;\">\n",
       "      <th></th>\n",
       "      <th>CODEARTICLE</th>\n",
       "      <th>CODEUNIVERS</th>\n",
       "      <th>CODEFAMILLE</th>\n",
       "    </tr>\n",
       "  </thead>\n",
       "  <tbody>\n",
       "    <tr>\n",
       "      <th>1</th>\n",
       "      <td>1001</td>\n",
       "      <td>U2</td>\n",
       "      <td>130</td>\n",
       "    </tr>\n",
       "    <tr>\n",
       "      <th>2</th>\n",
       "      <td>100125</td>\n",
       "      <td>U1</td>\n",
       "      <td>010</td>\n",
       "    </tr>\n",
       "    <tr>\n",
       "      <th>3</th>\n",
       "      <td>100150</td>\n",
       "      <td>U1</td>\n",
       "      <td>010</td>\n",
       "    </tr>\n",
       "    <tr>\n",
       "      <th>4</th>\n",
       "      <td>10018</td>\n",
       "      <td>U1</td>\n",
       "      <td>100</td>\n",
       "    </tr>\n",
       "    <tr>\n",
       "      <th>5</th>\n",
       "      <td>10019</td>\n",
       "      <td>U1</td>\n",
       "      <td>100</td>\n",
       "    </tr>\n",
       "    <tr>\n",
       "      <th>...</th>\n",
       "      <td>...</td>\n",
       "      <td>...</td>\n",
       "      <td>...</td>\n",
       "    </tr>\n",
       "    <tr>\n",
       "      <th>665941</th>\n",
       "      <td>407717</td>\n",
       "      <td>U3</td>\n",
       "      <td>120</td>\n",
       "    </tr>\n",
       "    <tr>\n",
       "      <th>665942</th>\n",
       "      <td>407719</td>\n",
       "      <td>U3</td>\n",
       "      <td>120</td>\n",
       "    </tr>\n",
       "    <tr>\n",
       "      <th>665943</th>\n",
       "      <td>407720</td>\n",
       "      <td>U3</td>\n",
       "      <td>120</td>\n",
       "    </tr>\n",
       "    <tr>\n",
       "      <th>665944</th>\n",
       "      <td>407721</td>\n",
       "      <td>U3</td>\n",
       "      <td>120</td>\n",
       "    </tr>\n",
       "    <tr>\n",
       "      <th>665945</th>\n",
       "      <td>407723</td>\n",
       "      <td>U3</td>\n",
       "      <td>120</td>\n",
       "    </tr>\n",
       "  </tbody>\n",
       "</table>\n",
       "<p>665945 rows × 3 columns</p>\n",
       "</div>"
      ],
      "text/plain": [
       "       CODEARTICLE CODEUNIVERS CODEFAMILLE\n",
       "1             1001          U2         130\n",
       "2           100125          U1         010\n",
       "3           100150          U1         010\n",
       "4            10018          U1         100\n",
       "5            10019          U1         100\n",
       "...            ...         ...         ...\n",
       "665941      407717          U3         120\n",
       "665942      407719          U3         120\n",
       "665943      407720          U3         120\n",
       "665944      407721          U3         120\n",
       "665945      407723          U3         120\n",
       "\n",
       "[665945 rows x 3 columns]"
      ]
     },
     "execution_count": 18,
     "metadata": {},
     "output_type": "execute_result"
    }
   ],
   "source": [
    "data4"
   ]
  },
  {
   "cell_type": "markdown",
   "metadata": {},
   "source": [
    "La ligne de code ci-dessous nous permet d'identifier la liste des noms de colonnes de notre jeu de données. Cette liste nous sera utile pour cibler les colonnes dans nos futurs traitements."
   ]
  },
  {
   "cell_type": "code",
   "execution_count": 19,
   "metadata": {
    "ExecuteTime": {
     "end_time": "2024-05-15T18:59:22.515921Z",
     "start_time": "2024-05-15T18:59:22.467019Z"
    }
   },
   "outputs": [
    {
     "name": "stdout",
     "output_type": "stream",
     "text": [
      "['CODEARTICLE', 'CODEUNIVERS', 'CODEFAMILLE']\n"
     ]
    }
   ],
   "source": [
    "# Importer la librairie pandas\n",
    "import pandas as pd\n",
    "\n",
    "# Définition des variables catégorielles\n",
    "var_cat = data4.select_dtypes(include=['object']).columns.tolist()\n",
    "print(var_cat)"
   ]
  },
  {
   "cell_type": "markdown",
   "metadata": {},
   "source": [
    "Le traitement suivant est utilisé pour encoder les étiquettes catégorielles en valeurs numériques. Cette conversion est nécessaire pour entraîner un modèle d'apprentissage automatique."
   ]
  },
  {
   "cell_type": "code",
   "execution_count": null,
   "metadata": {
    "ExecuteTime": {
     "end_time": "2024-05-15T19:01:09.027377Z",
     "start_time": "2024-05-15T19:01:08.392141Z"
    }
   },
   "outputs": [],
   "source": [
    "#from sklearn.preprocessing import LabelEncoder\n",
    "\n",
    "#label_encoder = LabelEncoder()\n",
    "\n",
    "#for col in var_cat:\n",
    "    #data4[col] = label_encoder.fit_transform(data4[col])\n",
    "#print(data4.head())"
   ]
  }
 ],
 "metadata": {
  "kernelspec": {
   "display_name": "Python 3",
   "language": "python",
   "name": "python3"
  },
  "language_info": {
   "codemirror_mode": {
    "name": "ipython",
    "version": 3
   },
   "file_extension": ".py",
   "mimetype": "text/x-python",
   "name": "python",
   "nbconvert_exporter": "python",
   "pygments_lexer": "ipython3",
   "version": "3.11.5"
  }
 },
 "nbformat": 4,
 "nbformat_minor": 2
}
