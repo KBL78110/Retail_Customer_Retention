{
 "cells": [
  {
   "cell_type": "code",
   "execution_count": null,
   "id": "3e9761ee",
   "metadata": {},
   "outputs": [],
   "source": [
    "import pip\n",
    "pip.main(['install', 'pandas'])\n",
    "pip.main(['install', 'matplotlib'])\n",
    "pip.main(['install', 'seaborn'])\n",
    "pip.main(['install', 'scikit-learn'])\n",
    "!pip.main(['install', 'nbmerge'])\n",
    "pip.main(['install', 'nbformat'])\n",
    "!pip install nbformat ipynb-py-convert"
   ]
  },
  {
   "cell_type": "markdown",
   "id": "905e3d47",
   "metadata": {},
   "source": [
    "# CHARGEMENT DES BIBLIOTHEQUES"
   ]
  },
  {
   "cell_type": "code",
   "execution_count": 2,
   "id": "4b815cfd",
   "metadata": {
    "ExecuteTime": {
     "end_time": "2024-06-01T13:27:54.924681Z",
     "start_time": "2024-06-01T13:27:54.920926Z"
    }
   },
   "outputs": [],
   "source": [
    "import pandas as pd\n",
    "import matplotlib.pyplot as plt\n",
    "import numpy as np\n",
    "import seaborn as sns\n",
    "import missingno as msno\n",
    "from sklearn.experimental import enable_iterative_imputer\n",
    "from sklearn.impute import MissingIndicator, KNNImputer,SimpleImputer\n",
    "from sklearn.impute import IterativeImputer\n",
    "from sklearn.linear_model import LogisticRegression\n",
    "from sklearn.model_selection import train_test_split\n",
    "from sklearn.datasets import make_classification\n",
    "from sklearn.metrics import roc_curve, auc\n",
    "from sklearn.metrics import accuracy_score, classification_report, confusion_matrix\n",
    "from sklearn.preprocessing import StandardScaler\n",
    "from sklearn.preprocessing import OneHotEncoder\n",
    "from sklearn.preprocessing import LabelEncoder"
   ]
  },
  {
   "cell_type": "markdown",
   "id": "eea06e23",
   "metadata": {},
   "source": [
    " Chargement du jeu de données \"LIGNES_TICKET_V4\""
   ]
  },
  {
   "cell_type": "code",
   "execution_count": 3,
   "id": "6f2897f5",
   "metadata": {
    "ExecuteTime": {
     "end_time": "2024-06-01T13:28:09.825485Z",
     "start_time": "2024-06-01T13:27:56.663015Z"
    }
   },
   "outputs": [
    {
     "name": "stdout",
     "output_type": "stream",
     "text": [
      "(34105705, 7)\n",
      "['IDTICKET', 'NUMLIGNETICKET', 'IDARTICLE', 'QUANTITE', 'MONTANTREMISE', 'TOTAL', 'MARGESORTIE']\n"
     ]
    }
   ],
   "source": [
    "dataset_path = \"C:\\\\Users\\\\belga\\\\OneDrive\\\\Bureau\\\\EMBA Big Data\\\\Module Datascience\\\\Projet Data Science S2 2024\\\\LIGNES_TICKET_V4.csv\"\n",
    "data3 = pd.read_csv(dataset_path, sep='|', low_memory=False)\n",
    "print(data3.shape)\n",
    "print(list(data3.columns))\n"
   ]
  },
  {
   "cell_type": "markdown",
   "id": "7d649588",
   "metadata": {},
   "source": [
    "La ligne de code ci-dessous nous permet de voir le détail des colonnes de notre jeu de données ainsi que le type de données (chaîne de caractères, numérique)"
   ]
  },
  {
   "cell_type": "code",
   "execution_count": 4,
   "id": "1a52db12",
   "metadata": {
    "ExecuteTime": {
     "end_time": "2024-06-01T13:28:14.179992Z",
     "start_time": "2024-06-01T13:28:14.161203Z"
    }
   },
   "outputs": [
    {
     "name": "stdout",
     "output_type": "stream",
     "text": [
      "<class 'pandas.core.frame.DataFrame'>\n",
      "RangeIndex: 34105705 entries, 0 to 34105704\n",
      "Data columns (total 7 columns):\n",
      " #   Column          Dtype \n",
      "---  ------          ----- \n",
      " 0   IDTICKET        int64 \n",
      " 1   NUMLIGNETICKET  int64 \n",
      " 2   IDARTICLE       object\n",
      " 3   QUANTITE        object\n",
      " 4   MONTANTREMISE   object\n",
      " 5   TOTAL           object\n",
      " 6   MARGESORTIE     object\n",
      "dtypes: int64(2), object(5)\n",
      "memory usage: 1.8+ GB\n",
      "None\n"
     ]
    }
   ],
   "source": [
    "print(data3.info())"
   ]
  },
  {
   "cell_type": "markdown",
   "id": "b95ab93d",
   "metadata": {},
   "source": [
    "Aperçu du jeu de données."
   ]
  },
  {
   "cell_type": "code",
   "execution_count": 5,
   "id": "49467b1e",
   "metadata": {
    "ExecuteTime": {
     "end_time": "2024-06-01T13:28:17.889530Z",
     "start_time": "2024-06-01T13:28:17.881838Z"
    }
   },
   "outputs": [
    {
     "data": {
      "text/html": [
       "<div>\n",
       "<style scoped>\n",
       "    .dataframe tbody tr th:only-of-type {\n",
       "        vertical-align: middle;\n",
       "    }\n",
       "\n",
       "    .dataframe tbody tr th {\n",
       "        vertical-align: top;\n",
       "    }\n",
       "\n",
       "    .dataframe thead th {\n",
       "        text-align: right;\n",
       "    }\n",
       "</style>\n",
       "<table border=\"1\" class=\"dataframe\">\n",
       "  <thead>\n",
       "    <tr style=\"text-align: right;\">\n",
       "      <th></th>\n",
       "      <th>IDTICKET</th>\n",
       "      <th>NUMLIGNETICKET</th>\n",
       "      <th>IDARTICLE</th>\n",
       "      <th>QUANTITE</th>\n",
       "      <th>MONTANTREMISE</th>\n",
       "      <th>TOTAL</th>\n",
       "      <th>MARGESORTIE</th>\n",
       "    </tr>\n",
       "  </thead>\n",
       "  <tbody>\n",
       "    <tr>\n",
       "      <th>0</th>\n",
       "      <td>190400316260</td>\n",
       "      <td>2</td>\n",
       "      <td>246208</td>\n",
       "      <td>1,000</td>\n",
       "      <td>,000</td>\n",
       "      <td>4,96</td>\n",
       "      <td>2,37</td>\n",
       "    </tr>\n",
       "    <tr>\n",
       "      <th>1</th>\n",
       "      <td>190400316262</td>\n",
       "      <td>2</td>\n",
       "      <td>33725</td>\n",
       "      <td>1,000</td>\n",
       "      <td>,000</td>\n",
       "      <td>8,25</td>\n",
       "      <td>3,63</td>\n",
       "    </tr>\n",
       "    <tr>\n",
       "      <th>2</th>\n",
       "      <td>190400316262</td>\n",
       "      <td>3</td>\n",
       "      <td>634497</td>\n",
       "      <td>1,000</td>\n",
       "      <td>,000</td>\n",
       "      <td>5,79</td>\n",
       "      <td>3,63</td>\n",
       "    </tr>\n",
       "    <tr>\n",
       "      <th>3</th>\n",
       "      <td>190400316262</td>\n",
       "      <td>1</td>\n",
       "      <td>257613</td>\n",
       "      <td>1,000</td>\n",
       "      <td>,000</td>\n",
       "      <td>18,29</td>\n",
       "      <td>6,21</td>\n",
       "    </tr>\n",
       "    <tr>\n",
       "      <th>4</th>\n",
       "      <td>190400316263</td>\n",
       "      <td>1</td>\n",
       "      <td>257627</td>\n",
       "      <td>1,000</td>\n",
       "      <td>,000</td>\n",
       "      <td>49,92</td>\n",
       "      <td>10,42</td>\n",
       "    </tr>\n",
       "    <tr>\n",
       "      <th>5</th>\n",
       "      <td>190400316265</td>\n",
       "      <td>1</td>\n",
       "      <td>320054</td>\n",
       "      <td>1,000</td>\n",
       "      <td>,000</td>\n",
       "      <td>6,42</td>\n",
       "      <td>,67</td>\n",
       "    </tr>\n",
       "    <tr>\n",
       "      <th>6</th>\n",
       "      <td>190400316265</td>\n",
       "      <td>3</td>\n",
       "      <td>835984</td>\n",
       "      <td>1,000</td>\n",
       "      <td>,000</td>\n",
       "      <td>37,42</td>\n",
       "      <td>13,78</td>\n",
       "    </tr>\n",
       "    <tr>\n",
       "      <th>7</th>\n",
       "      <td>190400316265</td>\n",
       "      <td>2</td>\n",
       "      <td>290491</td>\n",
       "      <td>1,000</td>\n",
       "      <td>,000</td>\n",
       "      <td>5,42</td>\n",
       "      <td>4,22</td>\n",
       "    </tr>\n",
       "    <tr>\n",
       "      <th>8</th>\n",
       "      <td>190400316270</td>\n",
       "      <td>6</td>\n",
       "      <td>932088</td>\n",
       "      <td>1,000</td>\n",
       "      <td>,000</td>\n",
       "      <td>6,25</td>\n",
       "      <td>6,25</td>\n",
       "    </tr>\n",
       "    <tr>\n",
       "      <th>9</th>\n",
       "      <td>190400316270</td>\n",
       "      <td>4</td>\n",
       "      <td>165207</td>\n",
       "      <td>3,000</td>\n",
       "      <td>2,250</td>\n",
       "      <td>20,22</td>\n",
       "      <td>10,29</td>\n",
       "    </tr>\n",
       "  </tbody>\n",
       "</table>\n",
       "</div>"
      ],
      "text/plain": [
       "       IDTICKET  NUMLIGNETICKET IDARTICLE QUANTITE MONTANTREMISE  TOTAL  \\\n",
       "0  190400316260               2    246208    1,000          ,000   4,96   \n",
       "1  190400316262               2     33725    1,000          ,000   8,25   \n",
       "2  190400316262               3    634497    1,000          ,000   5,79   \n",
       "3  190400316262               1    257613    1,000          ,000  18,29   \n",
       "4  190400316263               1    257627    1,000          ,000  49,92   \n",
       "5  190400316265               1    320054    1,000          ,000   6,42   \n",
       "6  190400316265               3    835984    1,000          ,000  37,42   \n",
       "7  190400316265               2    290491    1,000          ,000   5,42   \n",
       "8  190400316270               6    932088    1,000          ,000   6,25   \n",
       "9  190400316270               4    165207    3,000         2,250  20,22   \n",
       "\n",
       "  MARGESORTIE  \n",
       "0        2,37  \n",
       "1        3,63  \n",
       "2        3,63  \n",
       "3        6,21  \n",
       "4       10,42  \n",
       "5         ,67  \n",
       "6       13,78  \n",
       "7        4,22  \n",
       "8        6,25  \n",
       "9       10,29  "
      ]
     },
     "execution_count": 5,
     "metadata": {},
     "output_type": "execute_result"
    }
   ],
   "source": [
    "data3.head(10)"
   ]
  },
  {
   "cell_type": "code",
   "execution_count": 6,
   "id": "432bef13829a5be7",
   "metadata": {
    "ExecuteTime": {
     "end_time": "2024-06-01T13:28:18.949072Z",
     "start_time": "2024-06-01T13:28:18.943178Z"
    }
   },
   "outputs": [
    {
     "data": {
      "text/html": [
       "<div>\n",
       "<style scoped>\n",
       "    .dataframe tbody tr th:only-of-type {\n",
       "        vertical-align: middle;\n",
       "    }\n",
       "\n",
       "    .dataframe tbody tr th {\n",
       "        vertical-align: top;\n",
       "    }\n",
       "\n",
       "    .dataframe thead th {\n",
       "        text-align: right;\n",
       "    }\n",
       "</style>\n",
       "<table border=\"1\" class=\"dataframe\">\n",
       "  <thead>\n",
       "    <tr style=\"text-align: right;\">\n",
       "      <th></th>\n",
       "      <th>IDTICKET</th>\n",
       "      <th>NUMLIGNETICKET</th>\n",
       "      <th>IDARTICLE</th>\n",
       "      <th>QUANTITE</th>\n",
       "      <th>MONTANTREMISE</th>\n",
       "      <th>TOTAL</th>\n",
       "      <th>MARGESORTIE</th>\n",
       "    </tr>\n",
       "  </thead>\n",
       "  <tbody>\n",
       "    <tr>\n",
       "      <th>34105695</th>\n",
       "      <td>340200383182</td>\n",
       "      <td>4</td>\n",
       "      <td>36771</td>\n",
       "      <td>1</td>\n",
       "      <td>0</td>\n",
       "      <td>7,46</td>\n",
       "      <td>5,81</td>\n",
       "    </tr>\n",
       "    <tr>\n",
       "      <th>34105696</th>\n",
       "      <td>340200383182</td>\n",
       "      <td>5</td>\n",
       "      <td>179749</td>\n",
       "      <td>2</td>\n",
       "      <td>0</td>\n",
       "      <td>14,92</td>\n",
       "      <td>8,78</td>\n",
       "    </tr>\n",
       "    <tr>\n",
       "      <th>34105697</th>\n",
       "      <td>340200383182</td>\n",
       "      <td>6</td>\n",
       "      <td>699430</td>\n",
       "      <td>3</td>\n",
       "      <td>0</td>\n",
       "      <td>19,87</td>\n",
       "      <td>13,75</td>\n",
       "    </tr>\n",
       "    <tr>\n",
       "      <th>34105698</th>\n",
       "      <td>340200383182</td>\n",
       "      <td>7</td>\n",
       "      <td>784813</td>\n",
       "      <td>1</td>\n",
       "      <td>0</td>\n",
       "      <td>8,29</td>\n",
       "      <td>5,32</td>\n",
       "    </tr>\n",
       "    <tr>\n",
       "      <th>34105699</th>\n",
       "      <td>340200383203</td>\n",
       "      <td>1</td>\n",
       "      <td>257645</td>\n",
       "      <td>1</td>\n",
       "      <td>0</td>\n",
       "      <td>4,69</td>\n",
       "      <td>1,84</td>\n",
       "    </tr>\n",
       "    <tr>\n",
       "      <th>34105700</th>\n",
       "      <td>340200383203</td>\n",
       "      <td>2</td>\n",
       "      <td>257643</td>\n",
       "      <td>1</td>\n",
       "      <td>0</td>\n",
       "      <td>4,69</td>\n",
       "      <td>1,83</td>\n",
       "    </tr>\n",
       "    <tr>\n",
       "      <th>34105701</th>\n",
       "      <td>340200383203</td>\n",
       "      <td>3</td>\n",
       "      <td>50170</td>\n",
       "      <td>1</td>\n",
       "      <td>0</td>\n",
       "      <td>3,18</td>\n",
       "      <td>1</td>\n",
       "    </tr>\n",
       "    <tr>\n",
       "      <th>34105702</th>\n",
       "      <td>340200383203</td>\n",
       "      <td>4</td>\n",
       "      <td>349345</td>\n",
       "      <td>1</td>\n",
       "      <td>0</td>\n",
       "      <td>3,46</td>\n",
       "      <td>1,13</td>\n",
       "    </tr>\n",
       "    <tr>\n",
       "      <th>34105703</th>\n",
       "      <td>340200383203</td>\n",
       "      <td>5</td>\n",
       "      <td>250580</td>\n",
       "      <td>2</td>\n",
       "      <td>0</td>\n",
       "      <td>6,8</td>\n",
       "      <td>2,18</td>\n",
       "    </tr>\n",
       "    <tr>\n",
       "      <th>34105704</th>\n",
       "      <td>340200383217</td>\n",
       "      <td>1</td>\n",
       "      <td>816313</td>\n",
       "      <td>20</td>\n",
       "      <td>1,818</td>\n",
       "      <td>1,82</td>\n",
       "      <td>1,42</td>\n",
       "    </tr>\n",
       "  </tbody>\n",
       "</table>\n",
       "</div>"
      ],
      "text/plain": [
       "              IDTICKET  NUMLIGNETICKET IDARTICLE QUANTITE MONTANTREMISE  \\\n",
       "34105695  340200383182               4     36771        1             0   \n",
       "34105696  340200383182               5    179749        2             0   \n",
       "34105697  340200383182               6    699430        3             0   \n",
       "34105698  340200383182               7    784813        1             0   \n",
       "34105699  340200383203               1    257645        1             0   \n",
       "34105700  340200383203               2    257643        1             0   \n",
       "34105701  340200383203               3     50170        1             0   \n",
       "34105702  340200383203               4    349345        1             0   \n",
       "34105703  340200383203               5    250580        2             0   \n",
       "34105704  340200383217               1    816313       20         1,818   \n",
       "\n",
       "          TOTAL MARGESORTIE  \n",
       "34105695   7,46        5,81  \n",
       "34105696  14,92        8,78  \n",
       "34105697  19,87       13,75  \n",
       "34105698   8,29        5,32  \n",
       "34105699   4,69        1,84  \n",
       "34105700   4,69        1,83  \n",
       "34105701   3,18           1  \n",
       "34105702   3,46        1,13  \n",
       "34105703    6,8        2,18  \n",
       "34105704   1,82        1,42  "
      ]
     },
     "execution_count": 6,
     "metadata": {},
     "output_type": "execute_result"
    }
   ],
   "source": [
    "data3.tail(10)"
   ]
  },
  {
   "cell_type": "markdown",
   "id": "879f15ff",
   "metadata": {},
   "source": [
    " Afin d'exploiter de façon optimale les informations, nous allons convetir les l'ID TICKET et le NUM LIGNE TICKET en caractère. A l'inverse, nous devons convertir les quantités, les montants, les totaux et les marges en valeur numérique."
   ]
  },
  {
   "cell_type": "code",
   "execution_count": 7,
   "id": "e16e2882",
   "metadata": {
    "ExecuteTime": {
     "end_time": "2024-06-01T13:28:26.794049Z",
     "start_time": "2024-06-01T13:28:20.537723Z"
    }
   },
   "outputs": [],
   "source": [
    "data3['IDTICKET'] = data3['IDTICKET'].astype(str)\n",
    "data3['NUMLIGNETICKET'] = data3['NUMLIGNETICKET'].astype(str)"
   ]
  },
  {
   "cell_type": "code",
   "execution_count": 8,
   "id": "ab1241a4",
   "metadata": {
    "ExecuteTime": {
     "end_time": "2024-06-01T13:28:38.829097Z",
     "start_time": "2024-06-01T13:28:35.370938Z"
    }
   },
   "outputs": [],
   "source": [
    "data3[\"QUANTITE\"]=data3['QUANTITE'].str.replace(',', '.').astype(float)"
   ]
  },
  {
   "cell_type": "code",
   "execution_count": 9,
   "id": "7ae4a9e4",
   "metadata": {
    "ExecuteTime": {
     "end_time": "2024-06-01T13:28:43.446004Z",
     "start_time": "2024-06-01T13:28:39.646902Z"
    }
   },
   "outputs": [],
   "source": [
    "data3[\"TOTAL\"]=data3['TOTAL'].str.replace(',', '.').astype(float)"
   ]
  },
  {
   "cell_type": "code",
   "execution_count": 10,
   "id": "2107a3b0",
   "metadata": {
    "ExecuteTime": {
     "end_time": "2024-06-01T13:28:47.796320Z",
     "start_time": "2024-06-01T13:28:44.198124Z"
    }
   },
   "outputs": [],
   "source": [
    "data3[\"MONTANTREMISE\"]=data3['MONTANTREMISE'].str.replace(',', '.').astype(float)"
   ]
  },
  {
   "cell_type": "code",
   "execution_count": 11,
   "id": "a4af99cf",
   "metadata": {
    "ExecuteTime": {
     "end_time": "2024-06-01T13:28:52.398672Z",
     "start_time": "2024-06-01T13:28:48.579887Z"
    }
   },
   "outputs": [],
   "source": [
    "data3[\"MARGESORTIE\"]=data3['MARGESORTIE'].str.replace(',', '.').astype(float)"
   ]
  },
  {
   "cell_type": "markdown",
   "id": "2f9d934c",
   "metadata": {},
   "source": [
    "Vérification du traitement."
   ]
  },
  {
   "cell_type": "code",
   "execution_count": 12,
   "id": "6a613fee6515f8f4",
   "metadata": {
    "ExecuteTime": {
     "end_time": "2024-06-01T13:28:53.931419Z",
     "start_time": "2024-06-01T13:28:53.925622Z"
    }
   },
   "outputs": [
    {
     "name": "stdout",
     "output_type": "stream",
     "text": [
      "<class 'pandas.core.frame.DataFrame'>\n",
      "RangeIndex: 34105705 entries, 0 to 34105704\n",
      "Data columns (total 7 columns):\n",
      " #   Column          Dtype  \n",
      "---  ------          -----  \n",
      " 0   IDTICKET        object \n",
      " 1   NUMLIGNETICKET  object \n",
      " 2   IDARTICLE       object \n",
      " 3   QUANTITE        float64\n",
      " 4   MONTANTREMISE   float64\n",
      " 5   TOTAL           float64\n",
      " 6   MARGESORTIE     float64\n",
      "dtypes: float64(4), object(3)\n",
      "memory usage: 1.8+ GB\n",
      "None\n"
     ]
    }
   ],
   "source": [
    "print(data3.info())"
   ]
  },
  {
   "cell_type": "code",
   "execution_count": 13,
   "id": "c1eb281276188b9b",
   "metadata": {
    "ExecuteTime": {
     "end_time": "2024-06-01T13:28:54.985002Z",
     "start_time": "2024-06-01T13:28:54.921313Z"
    }
   },
   "outputs": [
    {
     "data": {
      "text/plain": [
       "-155.0"
      ]
     },
     "execution_count": 13,
     "metadata": {},
     "output_type": "execute_result"
    }
   ],
   "source": [
    "data3['QUANTITE'].min()"
   ]
  },
  {
   "cell_type": "code",
   "execution_count": 14,
   "id": "efaf7db0",
   "metadata": {
    "ExecuteTime": {
     "end_time": "2024-06-01T13:28:55.684066Z",
     "start_time": "2024-06-01T13:28:55.675874Z"
    }
   },
   "outputs": [
    {
     "data": {
      "text/html": [
       "<div>\n",
       "<style scoped>\n",
       "    .dataframe tbody tr th:only-of-type {\n",
       "        vertical-align: middle;\n",
       "    }\n",
       "\n",
       "    .dataframe tbody tr th {\n",
       "        vertical-align: top;\n",
       "    }\n",
       "\n",
       "    .dataframe thead th {\n",
       "        text-align: right;\n",
       "    }\n",
       "</style>\n",
       "<table border=\"1\" class=\"dataframe\">\n",
       "  <thead>\n",
       "    <tr style=\"text-align: right;\">\n",
       "      <th></th>\n",
       "      <th>IDTICKET</th>\n",
       "      <th>NUMLIGNETICKET</th>\n",
       "      <th>IDARTICLE</th>\n",
       "      <th>QUANTITE</th>\n",
       "      <th>MONTANTREMISE</th>\n",
       "      <th>TOTAL</th>\n",
       "      <th>MARGESORTIE</th>\n",
       "    </tr>\n",
       "  </thead>\n",
       "  <tbody>\n",
       "    <tr>\n",
       "      <th>0</th>\n",
       "      <td>190400316260</td>\n",
       "      <td>2</td>\n",
       "      <td>246208</td>\n",
       "      <td>1.0</td>\n",
       "      <td>0.000</td>\n",
       "      <td>4.96</td>\n",
       "      <td>2.37</td>\n",
       "    </tr>\n",
       "    <tr>\n",
       "      <th>1</th>\n",
       "      <td>190400316262</td>\n",
       "      <td>2</td>\n",
       "      <td>33725</td>\n",
       "      <td>1.0</td>\n",
       "      <td>0.000</td>\n",
       "      <td>8.25</td>\n",
       "      <td>3.63</td>\n",
       "    </tr>\n",
       "    <tr>\n",
       "      <th>2</th>\n",
       "      <td>190400316262</td>\n",
       "      <td>3</td>\n",
       "      <td>634497</td>\n",
       "      <td>1.0</td>\n",
       "      <td>0.000</td>\n",
       "      <td>5.79</td>\n",
       "      <td>3.63</td>\n",
       "    </tr>\n",
       "    <tr>\n",
       "      <th>3</th>\n",
       "      <td>190400316262</td>\n",
       "      <td>1</td>\n",
       "      <td>257613</td>\n",
       "      <td>1.0</td>\n",
       "      <td>0.000</td>\n",
       "      <td>18.29</td>\n",
       "      <td>6.21</td>\n",
       "    </tr>\n",
       "    <tr>\n",
       "      <th>4</th>\n",
       "      <td>190400316263</td>\n",
       "      <td>1</td>\n",
       "      <td>257627</td>\n",
       "      <td>1.0</td>\n",
       "      <td>0.000</td>\n",
       "      <td>49.92</td>\n",
       "      <td>10.42</td>\n",
       "    </tr>\n",
       "    <tr>\n",
       "      <th>...</th>\n",
       "      <td>...</td>\n",
       "      <td>...</td>\n",
       "      <td>...</td>\n",
       "      <td>...</td>\n",
       "      <td>...</td>\n",
       "      <td>...</td>\n",
       "      <td>...</td>\n",
       "    </tr>\n",
       "    <tr>\n",
       "      <th>34105700</th>\n",
       "      <td>340200383203</td>\n",
       "      <td>2</td>\n",
       "      <td>257643</td>\n",
       "      <td>1.0</td>\n",
       "      <td>0.000</td>\n",
       "      <td>4.69</td>\n",
       "      <td>1.83</td>\n",
       "    </tr>\n",
       "    <tr>\n",
       "      <th>34105701</th>\n",
       "      <td>340200383203</td>\n",
       "      <td>3</td>\n",
       "      <td>50170</td>\n",
       "      <td>1.0</td>\n",
       "      <td>0.000</td>\n",
       "      <td>3.18</td>\n",
       "      <td>1.00</td>\n",
       "    </tr>\n",
       "    <tr>\n",
       "      <th>34105702</th>\n",
       "      <td>340200383203</td>\n",
       "      <td>4</td>\n",
       "      <td>349345</td>\n",
       "      <td>1.0</td>\n",
       "      <td>0.000</td>\n",
       "      <td>3.46</td>\n",
       "      <td>1.13</td>\n",
       "    </tr>\n",
       "    <tr>\n",
       "      <th>34105703</th>\n",
       "      <td>340200383203</td>\n",
       "      <td>5</td>\n",
       "      <td>250580</td>\n",
       "      <td>2.0</td>\n",
       "      <td>0.000</td>\n",
       "      <td>6.80</td>\n",
       "      <td>2.18</td>\n",
       "    </tr>\n",
       "    <tr>\n",
       "      <th>34105704</th>\n",
       "      <td>340200383217</td>\n",
       "      <td>1</td>\n",
       "      <td>816313</td>\n",
       "      <td>20.0</td>\n",
       "      <td>1.818</td>\n",
       "      <td>1.82</td>\n",
       "      <td>1.42</td>\n",
       "    </tr>\n",
       "  </tbody>\n",
       "</table>\n",
       "<p>34105705 rows × 7 columns</p>\n",
       "</div>"
      ],
      "text/plain": [
       "              IDTICKET NUMLIGNETICKET IDARTICLE  QUANTITE  MONTANTREMISE  \\\n",
       "0         190400316260              2    246208       1.0          0.000   \n",
       "1         190400316262              2     33725       1.0          0.000   \n",
       "2         190400316262              3    634497       1.0          0.000   \n",
       "3         190400316262              1    257613       1.0          0.000   \n",
       "4         190400316263              1    257627       1.0          0.000   \n",
       "...                ...            ...       ...       ...            ...   \n",
       "34105700  340200383203              2    257643       1.0          0.000   \n",
       "34105701  340200383203              3     50170       1.0          0.000   \n",
       "34105702  340200383203              4    349345       1.0          0.000   \n",
       "34105703  340200383203              5    250580       2.0          0.000   \n",
       "34105704  340200383217              1    816313      20.0          1.818   \n",
       "\n",
       "          TOTAL  MARGESORTIE  \n",
       "0          4.96         2.37  \n",
       "1          8.25         3.63  \n",
       "2          5.79         3.63  \n",
       "3         18.29         6.21  \n",
       "4         49.92        10.42  \n",
       "...         ...          ...  \n",
       "34105700   4.69         1.83  \n",
       "34105701   3.18         1.00  \n",
       "34105702   3.46         1.13  \n",
       "34105703   6.80         2.18  \n",
       "34105704   1.82         1.42  \n",
       "\n",
       "[34105705 rows x 7 columns]"
      ]
     },
     "execution_count": 14,
     "metadata": {},
     "output_type": "execute_result"
    }
   ],
   "source": [
    "data3"
   ]
  },
  {
   "cell_type": "code",
   "execution_count": 15,
   "id": "3022c9c1f380401b",
   "metadata": {
    "ExecuteTime": {
     "end_time": "2024-06-01T13:28:56.632101Z",
     "start_time": "2024-06-01T13:28:56.555249Z"
    }
   },
   "outputs": [
    {
     "name": "stdout",
     "output_type": "stream",
     "text": [
      "              IDTICKET NUMLIGNETICKET IDARTICLE  QUANTITE  MONTANTREMISE  \\\n",
      "0         190400316260              2    246208       1.0          0.000   \n",
      "1         190400316262              2     33725       1.0          0.000   \n",
      "2         190400316262              3    634497       1.0          0.000   \n",
      "3         190400316262              1    257613       1.0          0.000   \n",
      "4         190400316263              1    257627       1.0          0.000   \n",
      "...                ...            ...       ...       ...            ...   \n",
      "34105700  340200383203              2    257643       1.0          0.000   \n",
      "34105701  340200383203              3     50170       1.0          0.000   \n",
      "34105702  340200383203              4    349345       1.0          0.000   \n",
      "34105703  340200383203              5    250580       2.0          0.000   \n",
      "34105704  340200383217              1    816313      20.0          1.818   \n",
      "\n",
      "          TOTAL  MARGESORTIE  TOP_RETOUR  \n",
      "0          4.96         2.37           0  \n",
      "1          8.25         3.63           0  \n",
      "2          5.79         3.63           0  \n",
      "3         18.29         6.21           0  \n",
      "4         49.92        10.42           0  \n",
      "...         ...          ...         ...  \n",
      "34105700   4.69         1.83           0  \n",
      "34105701   3.18         1.00           0  \n",
      "34105702   3.46         1.13           0  \n",
      "34105703   6.80         2.18           0  \n",
      "34105704   1.82         1.42           0  \n",
      "\n",
      "[34105705 rows x 8 columns]\n"
     ]
    }
   ],
   "source": [
    "# Création de la variable 'TOP_RETOUR' basée sur la colonne 'QUANTITE'\n",
    "data3['TOP_RETOUR'] = np.where(data3['QUANTITE'] < 0, 1, 0)\n",
    "\n",
    "# Afficher le DataFrame avec la nouvelle variable 'TOP_RETOUR'\n",
    "print(data3)"
   ]
  },
  {
   "cell_type": "code",
   "execution_count": 16,
   "id": "b38d69d1fc2e2dfb",
   "metadata": {
    "ExecuteTime": {
     "end_time": "2024-06-01T13:28:57.857211Z",
     "start_time": "2024-06-01T13:28:57.771782Z"
    }
   },
   "outputs": [
    {
     "data": {
      "text/plain": [
       "TOP_RETOUR\n",
       "0    34003892\n",
       "1      101813\n",
       "Name: count, dtype: int64"
      ]
     },
     "execution_count": 16,
     "metadata": {},
     "output_type": "execute_result"
    }
   ],
   "source": [
    "data3['TOP_RETOUR'].value_counts()"
   ]
  },
  {
   "cell_type": "code",
   "execution_count": 17,
   "id": "4bf7161a419c259d",
   "metadata": {
    "ExecuteTime": {
     "end_time": "2024-06-01T13:29:09.903057Z",
     "start_time": "2024-06-01T13:28:58.931730Z"
    }
   },
   "outputs": [],
   "source": [
    "# Calcul de la nouvelle variable 'SOLDE_QTE' en regroupant par 'IDTICKET'\n",
    "data_grouped = data3.groupby('IDTICKET').agg({\n",
    "    'TOP_RETOUR': 'max',\n",
    "    'QUANTITE': 'sum'\n",
    "})\n"
   ]
  },
  {
   "cell_type": "code",
   "execution_count": 18,
   "id": "65e0073130561437",
   "metadata": {
    "ExecuteTime": {
     "end_time": "2024-06-01T13:29:12.255713Z",
     "start_time": "2024-06-01T13:29:12.251053Z"
    }
   },
   "outputs": [
    {
     "data": {
      "text/html": [
       "<div>\n",
       "<style scoped>\n",
       "    .dataframe tbody tr th:only-of-type {\n",
       "        vertical-align: middle;\n",
       "    }\n",
       "\n",
       "    .dataframe tbody tr th {\n",
       "        vertical-align: top;\n",
       "    }\n",
       "\n",
       "    .dataframe thead th {\n",
       "        text-align: right;\n",
       "    }\n",
       "</style>\n",
       "<table border=\"1\" class=\"dataframe\">\n",
       "  <thead>\n",
       "    <tr style=\"text-align: right;\">\n",
       "      <th></th>\n",
       "      <th>TOP_RETOUR</th>\n",
       "      <th>QUANTITE</th>\n",
       "    </tr>\n",
       "    <tr>\n",
       "      <th>IDTICKET</th>\n",
       "      <th></th>\n",
       "      <th></th>\n",
       "    </tr>\n",
       "  </thead>\n",
       "  <tbody>\n",
       "    <tr>\n",
       "      <th>1000100553129</th>\n",
       "      <td>0</td>\n",
       "      <td>7.365</td>\n",
       "    </tr>\n",
       "    <tr>\n",
       "      <th>1000100553131</th>\n",
       "      <td>0</td>\n",
       "      <td>5.976</td>\n",
       "    </tr>\n",
       "    <tr>\n",
       "      <th>1000100553133</th>\n",
       "      <td>0</td>\n",
       "      <td>9.309</td>\n",
       "    </tr>\n",
       "    <tr>\n",
       "      <th>1000100553134</th>\n",
       "      <td>1</td>\n",
       "      <td>1.000</td>\n",
       "    </tr>\n",
       "    <tr>\n",
       "      <th>1000100553139</th>\n",
       "      <td>0</td>\n",
       "      <td>2.000</td>\n",
       "    </tr>\n",
       "    <tr>\n",
       "      <th>...</th>\n",
       "      <td>...</td>\n",
       "      <td>...</td>\n",
       "    </tr>\n",
       "    <tr>\n",
       "      <th>990600196600</th>\n",
       "      <td>0</td>\n",
       "      <td>16.737</td>\n",
       "    </tr>\n",
       "    <tr>\n",
       "      <th>990600196602</th>\n",
       "      <td>0</td>\n",
       "      <td>36.090</td>\n",
       "    </tr>\n",
       "    <tr>\n",
       "      <th>990600196607</th>\n",
       "      <td>0</td>\n",
       "      <td>12.000</td>\n",
       "    </tr>\n",
       "    <tr>\n",
       "      <th>990600196608</th>\n",
       "      <td>0</td>\n",
       "      <td>1.000</td>\n",
       "    </tr>\n",
       "    <tr>\n",
       "      <th>990600196609</th>\n",
       "      <td>0</td>\n",
       "      <td>7.000</td>\n",
       "    </tr>\n",
       "  </tbody>\n",
       "</table>\n",
       "<p>6713822 rows × 2 columns</p>\n",
       "</div>"
      ],
      "text/plain": [
       "               TOP_RETOUR  QUANTITE\n",
       "IDTICKET                           \n",
       "1000100553129           0     7.365\n",
       "1000100553131           0     5.976\n",
       "1000100553133           0     9.309\n",
       "1000100553134           1     1.000\n",
       "1000100553139           0     2.000\n",
       "...                   ...       ...\n",
       "990600196600            0    16.737\n",
       "990600196602            0    36.090\n",
       "990600196607            0    12.000\n",
       "990600196608            0     1.000\n",
       "990600196609            0     7.000\n",
       "\n",
       "[6713822 rows x 2 columns]"
      ]
     },
     "execution_count": 18,
     "metadata": {},
     "output_type": "execute_result"
    }
   ],
   "source": [
    "data_grouped"
   ]
  },
  {
   "cell_type": "code",
   "execution_count": 19,
   "id": "62d93cb3240c4ea7",
   "metadata": {
    "ExecuteTime": {
     "end_time": "2024-06-01T13:29:14.512001Z",
     "start_time": "2024-06-01T13:29:13.917769Z"
    }
   },
   "outputs": [
    {
     "data": {
      "text/plain": [
       "(34105705, 3)"
      ]
     },
     "execution_count": 19,
     "metadata": {},
     "output_type": "execute_result"
    }
   ],
   "source": [
    "columns=['MONTANTREMISE', 'TOTAL', 'MARGESORTIE']\n",
    "data4=data3[columns]\n",
    "data4[columns].shape"
   ]
  },
  {
   "cell_type": "code",
   "execution_count": 21,
   "id": "4d65a4cc2a9e2bde",
   "metadata": {
    "ExecuteTime": {
     "end_time": "2024-06-01T13:29:18.145134Z",
     "start_time": "2024-06-01T13:29:15.249356Z"
    }
   },
   "outputs": [
    {
     "data": {
      "text/html": [
       "<div>\n",
       "<style scoped>\n",
       "    .dataframe tbody tr th:only-of-type {\n",
       "        vertical-align: middle;\n",
       "    }\n",
       "\n",
       "    .dataframe tbody tr th {\n",
       "        vertical-align: top;\n",
       "    }\n",
       "\n",
       "    .dataframe thead th {\n",
       "        text-align: right;\n",
       "    }\n",
       "</style>\n",
       "<table border=\"1\" class=\"dataframe\">\n",
       "  <thead>\n",
       "    <tr style=\"text-align: right;\">\n",
       "      <th></th>\n",
       "      <th>MONTANTREMISE</th>\n",
       "      <th>TOTAL</th>\n",
       "      <th>MARGESORTIE</th>\n",
       "    </tr>\n",
       "  </thead>\n",
       "  <tbody>\n",
       "    <tr>\n",
       "      <th>count</th>\n",
       "      <td>3.410570e+07</td>\n",
       "      <td>3.410570e+07</td>\n",
       "      <td>3.410570e+07</td>\n",
       "    </tr>\n",
       "    <tr>\n",
       "      <th>mean</th>\n",
       "      <td>9.912670e-01</td>\n",
       "      <td>9.937605e+00</td>\n",
       "      <td>4.224984e+00</td>\n",
       "    </tr>\n",
       "    <tr>\n",
       "      <th>std</th>\n",
       "      <td>6.086740e+00</td>\n",
       "      <td>2.426155e+01</td>\n",
       "      <td>1.166608e+01</td>\n",
       "    </tr>\n",
       "    <tr>\n",
       "      <th>min</th>\n",
       "      <td>-4.269420e+02</td>\n",
       "      <td>-1.500000e+04</td>\n",
       "      <td>-1.500000e+04</td>\n",
       "    </tr>\n",
       "    <tr>\n",
       "      <th>25%</th>\n",
       "      <td>0.000000e+00</td>\n",
       "      <td>2.820000e+00</td>\n",
       "      <td>9.900000e-01</td>\n",
       "    </tr>\n",
       "    <tr>\n",
       "      <th>50%</th>\n",
       "      <td>0.000000e+00</td>\n",
       "      <td>5.210000e+00</td>\n",
       "      <td>2.260000e+00</td>\n",
       "    </tr>\n",
       "    <tr>\n",
       "      <th>75%</th>\n",
       "      <td>4.730000e-01</td>\n",
       "      <td>1.050000e+01</td>\n",
       "      <td>5.210000e+00</td>\n",
       "    </tr>\n",
       "    <tr>\n",
       "      <th>max</th>\n",
       "      <td>1.316667e+04</td>\n",
       "      <td>1.500000e+04</td>\n",
       "      <td>1.500000e+04</td>\n",
       "    </tr>\n",
       "  </tbody>\n",
       "</table>\n",
       "</div>"
      ],
      "text/plain": [
       "       MONTANTREMISE         TOTAL   MARGESORTIE\n",
       "count   3.410570e+07  3.410570e+07  3.410570e+07\n",
       "mean    9.912670e-01  9.937605e+00  4.224984e+00\n",
       "std     6.086740e+00  2.426155e+01  1.166608e+01\n",
       "min    -4.269420e+02 -1.500000e+04 -1.500000e+04\n",
       "25%     0.000000e+00  2.820000e+00  9.900000e-01\n",
       "50%     0.000000e+00  5.210000e+00  2.260000e+00\n",
       "75%     4.730000e-01  1.050000e+01  5.210000e+00\n",
       "max     1.316667e+04  1.500000e+04  1.500000e+04"
      ]
     },
     "execution_count": 21,
     "metadata": {},
     "output_type": "execute_result"
    }
   ],
   "source": [
    "data4.describe()"
   ]
  },
  {
   "cell_type": "code",
   "execution_count": 22,
   "id": "4bb8975c8faea6ca",
   "metadata": {
    "ExecuteTime": {
     "end_time": "2024-06-01T13:29:20.790647Z",
     "start_time": "2024-06-01T13:29:20.513280Z"
    }
   },
   "outputs": [
    {
     "data": {
      "text/plain": [
       "MONTANTREMISE    13166.667\n",
       "TOTAL            15000.000\n",
       "MARGESORTIE      15000.000\n",
       "dtype: float64"
      ]
     },
     "execution_count": 22,
     "metadata": {},
     "output_type": "execute_result"
    }
   ],
   "source": [
    "data4[columns].max()"
   ]
  },
  {
   "cell_type": "markdown",
   "id": "f032e5ab08adcd79",
   "metadata": {},
   "source": [
    "Il convient à présent de vérifier la présence de valeur aberrantes."
   ]
  },
  {
   "cell_type": "code",
   "execution_count": 23,
   "id": "5be956ba836ee434",
   "metadata": {
    "ExecuteTime": {
     "end_time": "2024-06-01T12:12:05.470714Z",
     "start_time": "2024-06-01T12:12:05.467774Z"
    }
   },
   "outputs": [],
   "source": [
    "def boxplot(data3):\n",
    "    plt.figure(figsize=(16, 6))\n",
    "    sns.boxplot(data=data4)\n",
    "    plt.grid()\n"
   ]
  },
  {
   "cell_type": "code",
   "execution_count": 24,
   "id": "a46e2221995e943",
   "metadata": {
    "ExecuteTime": {
     "end_time": "2024-06-01T09:39:33.944935Z",
     "start_time": "2024-06-01T09:36:15.795329Z"
    }
   },
   "outputs": [
    {
     "data": {
      "image/png": "[encoded data removed]",
      "text/plain": [
       "<Figure size 1600x600 with 1 Axes>"
      ]
     },
     "metadata": {},
     "output_type": "display_data"
    }
   ],
   "source": [
    "boxplot(data4)"
   ]
  },
  {
   "cell_type": "code",
   "execution_count": 25,
   "id": "d4a5b6934906b2c8",
   "metadata": {
    "ExecuteTime": {
     "end_time": "2024-06-01T12:16:35.975296Z",
     "start_time": "2024-06-01T12:16:16.832936Z"
    }
   },
   "outputs": [
    {
     "data": {
      "image/png": "[encoded data removed]",
      "text/plain": [
       "<Figure size 1200x600 with 1 Axes>"
      ]
     },
     "metadata": {},
     "output_type": "display_data"
    }
   ],
   "source": [
    "# Visualiser les outliers en utilisant un boxplot avec Seaborn\n",
    "plt.figure(figsize=(12, 6))\n",
    "sns.boxplot(data=data4, x='TOTAL')\n",
    "plt.xlabel('TOTAL DES ARTICLES ACHETÉS')\n",
    "plt.title(\"BOXPLOT DES TOTAUX DES ARTICLES ACHETÉS\")\n",
    "plt.show()"
   ]
  },
  {
   "cell_type": "code",
   "execution_count": 26,
   "id": "2d52e14d0ec3f28",
   "metadata": {
    "ExecuteTime": {
     "end_time": "2024-06-01T12:16:16.831679Z",
     "start_time": "2024-06-01T12:15:57.195373Z"
    }
   },
   "outputs": [
    {
     "data": {
      "image/png": "[encoded data removed]",
      "text/plain": [
       "<Figure size 1200x600 with 1 Axes>"
      ]
     },
     "metadata": {},
     "output_type": "display_data"
    }
   ],
   "source": [
    "# Visualiser les outliers en utilisant un boxplot avec Seaborn\n",
    "plt.figure(figsize=(12, 6))\n",
    "sns.boxplot(data=data4, x='MONTANTREMISE')\n",
    "plt.xlabel('MONTANT REMISE PAR CLIENT')\n",
    "plt.title(\"BOXPLOT DES MONTANTS REMISE PAR CLIENT\")\n",
    "plt.show()"
   ]
  },
  {
   "cell_type": "code",
   "execution_count": 27,
   "id": "4cd1965352b90b55",
   "metadata": {
    "ExecuteTime": {
     "end_time": "2024-06-01T12:17:08.121659Z",
     "start_time": "2024-06-01T12:16:48.880717Z"
    }
   },
   "outputs": [
    {
     "data": {
      "image/png": "[encoded data removed]",
      "text/plain": [
       "<Figure size 1200x600 with 1 Axes>"
      ]
     },
     "metadata": {},
     "output_type": "display_data"
    }
   ],
   "source": [
    "# Visualiser les outliers en utilisant un boxplot avec Seaborn\n",
    "plt.figure(figsize=(12, 6))\n",
    "sns.boxplot(data=data4, x='MARGESORTIE')\n",
    "plt.xlabel('MARGE RÉALISÉE PAR CLIENT')\n",
    "plt.title(\"BOXPLOT DES MARGES RÉALISÉES PAR CLIENT\")\n",
    "plt.show()"
   ]
  },
  {
   "cell_type": "code",
   "execution_count": 28,
   "id": "88188d8ff1315ba7",
   "metadata": {
    "ExecuteTime": {
     "end_time": "2024-06-01T13:29:31.510495Z",
     "start_time": "2024-06-01T13:29:28.738732Z"
    }
   },
   "outputs": [
    {
     "name": "stdout",
     "output_type": "stream",
     "text": [
      "Outliers détectés dans la colonne 'MONTANTREMISE':\n",
      "          MONTANTREMISE   TOTAL  MARGESORTIE\n",
      "9                 2.250   20.22        10.29\n",
      "10                1.483   13.39         7.09\n",
      "13                1.208   10.87         5.74\n",
      "44               32.500  132.50        38.38\n",
      "45               10.836   18.16         3.96\n",
      "...                 ...     ...          ...\n",
      "34105666         12.500   57.92        28.42\n",
      "34105672          2.458    0.83        -0.68\n",
      "34105682          6.545    6.55         5.11\n",
      "34105684          4.545   18.14         7.19\n",
      "34105704          1.818    1.82         1.42\n",
      "\n",
      "[5073982 rows x 3 columns]\n",
      "Outliers détectés dans la colonne 'TOTAL':\n",
      "          MONTANTREMISE  TOTAL  MARGESORTIE\n",
      "4                   0.0  49.92        10.42\n",
      "6                   0.0  37.42        13.78\n",
      "26                  0.0  24.58        12.39\n",
      "34                  0.0  35.45        14.50\n",
      "38                  0.0  23.54        13.68\n",
      "...                 ...    ...          ...\n",
      "34105669            0.0  54.08        21.19\n",
      "34105670            0.0  59.98        25.90\n",
      "34105681            0.0  22.37        14.12\n",
      "34105683            0.0  35.00        14.86\n",
      "34105688            0.0  40.56        12.04\n",
      "\n",
      "[3139642 rows x 3 columns]\n",
      "Outliers détectés dans la colonne 'MARGESORTIE':\n",
      "          MONTANTREMISE  TOTAL  MARGESORTIE\n",
      "6                   0.0  37.42        13.78\n",
      "26                  0.0  24.58        12.39\n",
      "34                  0.0  35.45        14.50\n",
      "38                  0.0  23.54        13.68\n",
      "42                  0.0  66.62        27.09\n",
      "...                 ...    ...          ...\n",
      "34105670            0.0  59.98        25.90\n",
      "34105681            0.0  22.37        14.12\n",
      "34105683            0.0  35.00        14.86\n",
      "34105688            0.0  40.56        12.04\n",
      "34105697            0.0  19.87        13.75\n",
      "\n",
      "[2636217 rows x 3 columns]\n"
     ]
    }
   ],
   "source": [
    "from pandas.api.types import is_numeric_dtype\n",
    "columns=['MONTANTREMISE', 'TOTAL', 'MARGESORTIE']\n",
    "data4=data3[columns]\n",
    "# Fonction pour détecter les outliers en utilisant l'IQR\n",
    "def detect_outliers_iqr(data4, columns):\n",
    "    Q1 = data4[columns].quantile(0.25)\n",
    "    Q3 = data4[columns].quantile(0.75)\n",
    "    IQR = Q3 - Q1\n",
    "    lower_bound = Q1 - 1.5 * IQR\n",
    "    upper_bound = Q3 + 1.5 * IQR\n",
    "    outliers = data4[(data4[columns] < lower_bound) | (data4[columns] > upper_bound)]\n",
    "    return outliers\n",
    "\n",
    "# Boucler à travers les colonnes numériques pour détecter les outliers\n",
    "for col in data4.columns:\n",
    "    if is_numeric_dtype(data3[col]):\n",
    "        outliers = detect_outliers_iqr(data4, col)\n",
    "        if len(outliers) > 0:\n",
    "            print(f\"Outliers détectés dans la colonne '{col}':\")\n",
    "            print(outliers)"
   ]
  },
  {
   "cell_type": "code",
   "execution_count": 29,
   "id": "92ca750702a399b6",
   "metadata": {
    "ExecuteTime": {
     "end_time": "2024-06-01T13:29:36.794793Z",
     "start_time": "2024-06-01T13:29:34.098860Z"
    }
   },
   "outputs": [],
   "source": [
    "from pandas.api.types import is_numeric_dtype\n",
    "columns=['MONTANTREMISE', 'TOTAL', 'MARGESORTIE']\n",
    "data4=data3[columns]\n",
    "# Fonction pour imputer les outliers \n",
    "def impute_outliers(data4, columns):\n",
    "    Q1 = np.percentile(data4[columns],25)\n",
    "    Q3 = np.percentile(data4[columns],75)\n",
    "    IQR = Q3 - Q1\n",
    "    lower_bound = Q1 - 1.5 * IQR\n",
    "    upper_bound = Q3 + 1.5 * IQR\n",
    "    data4.loc[data4[columns] < lower_bound, columns] = lower_bound \n",
    "    data4.loc[data4[columns] > upper_bound,columns]=upper_bound\n",
    "for columns in columns:\n",
    "    impute_outliers(data4,columns)"
   ]
  },
  {
   "cell_type": "code",
   "execution_count": 30,
   "id": "9b6fcc1a1dbfc8d6",
   "metadata": {
    "ExecuteTime": {
     "end_time": "2024-06-01T12:15:56.666998Z",
     "start_time": "2024-06-01T12:15:37.022115Z"
    }
   },
   "outputs": [
    {
     "data": {
      "image/png": "[encoded data removed]",
      "text/plain": [
       "<Figure size 1200x600 with 1 Axes>"
      ]
     },
     "metadata": {},
     "output_type": "display_data"
    }
   ],
   "source": [
    "# Visualiser les outliers en utilisant un boxplot avec Seaborn\n",
    "plt.figure(figsize=(12, 6))\n",
    "sns.boxplot(data=data4, x='TOTAL')\n",
    "plt.xlabel('TOTAL DES ARTICLES ACHETÉS')\n",
    "plt.title(\"BOXPLOT DES TOTAUX DES ARTICLES ACHETÉS\")\n",
    "plt.show()"
   ]
  },
  {
   "cell_type": "code",
   "execution_count": 31,
   "id": "6646fbbc410929b7",
   "metadata": {
    "ExecuteTime": {
     "end_time": "2024-05-30T07:46:30.461297Z",
     "start_time": "2024-05-30T07:46:09.426563Z"
    }
   },
   "outputs": [
    {
     "data": {
      "image/png": "[encoded data removed]",
      "text/plain": [
       "<Figure size 1200x600 with 1 Axes>"
      ]
     },
     "metadata": {},
     "output_type": "display_data"
    }
   ],
   "source": [
    "# Visualiser les outliers en utilisant un boxplot avec Seaborn\n",
    "plt.figure(figsize=(12, 6))\n",
    "sns.boxplot(data=data4, x='MONTANTREMISE')\n",
    "plt.xlabel('MONTANT REMISE PAR CLIENT')\n",
    "plt.title(\"BOXPLOT DES MONTANTS REMISE PAR CLIENT\")\n",
    "plt.show()"
   ]
  },
  {
   "cell_type": "code",
   "execution_count": 32,
   "id": "df09e9a7b1d6b226",
   "metadata": {
    "ExecuteTime": {
     "end_time": "2024-05-29T12:40:42.689701Z",
     "start_time": "2024-05-29T12:40:24.437459Z"
    }
   },
   "outputs": [
    {
     "data": {
      "image/png": "[encoded data removed]",
      "text/plain": [
       "<Figure size 1200x600 with 1 Axes>"
      ]
     },
     "metadata": {},
     "output_type": "display_data"
    }
   ],
   "source": [
    "# Visualiser les outliers en utilisant un boxplot avec Seaborn\n",
    "plt.figure(figsize=(12, 6))\n",
    "sns.boxplot(data=data4, x='MARGESORTIE')\n",
    "plt.xlabel('MARGE RÉALISÉE PAR CLIENT')\n",
    "plt.title(\"BOXPLOT DES MARGES RÉALISÉES PAR CLIENT\")\n",
    "plt.show()"
   ]
  },
  {
   "cell_type": "code",
   "execution_count": 33,
   "id": "94c590c76e3632c7",
   "metadata": {
    "ExecuteTime": {
     "end_time": "2024-06-01T13:29:42.597790Z",
     "start_time": "2024-06-01T13:29:41.662367Z"
    }
   },
   "outputs": [
    {
     "name": "stdout",
     "output_type": "stream",
     "text": [
      "          MONTANTREMISE  TOTAL  MARGESORTIE\n",
      "0                0.0000   4.96         2.37\n",
      "1                0.0000   8.25         3.63\n",
      "2                0.0000   5.79         3.63\n",
      "3                0.0000  18.29         6.21\n",
      "4                0.0000  22.02        10.42\n",
      "...                 ...    ...          ...\n",
      "34105700         0.0000   4.69         1.83\n",
      "34105701         0.0000   3.18         1.00\n",
      "34105702         0.0000   3.46         1.13\n",
      "34105703         0.0000   6.80         2.18\n",
      "34105704         1.1825   1.82         1.42\n",
      "\n",
      "[34105705 rows x 3 columns]\n"
     ]
    }
   ],
   "source": [
    "# Appel à la fonction detect_outliers_iqr() pour obtenir les bornes lower_bound et upper_bound\n",
    "outliers = detect_outliers_iqr(data4, columns)\n",
    "lower_bound = outliers[columns].min()\n",
    "upper_bound = outliers[columns].max()\n",
    "\n",
    "# Remplacement des outliers par les bornes\n",
    "data4.loc[:, columns] = data4[columns].clip(lower=lower_bound, upper=upper_bound)\n",
    "\n",
    "# Afficher le DataFrame avec les outliers corrigés\n",
    "print(data4)"
   ]
  },
  {
   "cell_type": "code",
   "execution_count": 34,
   "id": "d01efe930d43722f",
   "metadata": {
    "ExecuteTime": {
     "end_time": "2024-06-01T13:29:51.230431Z",
     "start_time": "2024-06-01T13:29:48.470624Z"
    }
   },
   "outputs": [
    {
     "data": {
      "text/html": [
       "<div>\n",
       "<style scoped>\n",
       "    .dataframe tbody tr th:only-of-type {\n",
       "        vertical-align: middle;\n",
       "    }\n",
       "\n",
       "    .dataframe tbody tr th {\n",
       "        vertical-align: top;\n",
       "    }\n",
       "\n",
       "    .dataframe thead th {\n",
       "        text-align: right;\n",
       "    }\n",
       "</style>\n",
       "<table border=\"1\" class=\"dataframe\">\n",
       "  <thead>\n",
       "    <tr style=\"text-align: right;\">\n",
       "      <th></th>\n",
       "      <th>MONTANTREMISE</th>\n",
       "      <th>TOTAL</th>\n",
       "      <th>MARGESORTIE</th>\n",
       "    </tr>\n",
       "  </thead>\n",
       "  <tbody>\n",
       "    <tr>\n",
       "      <th>count</th>\n",
       "      <td>3.410570e+07</td>\n",
       "      <td>3.410570e+07</td>\n",
       "      <td>3.410570e+07</td>\n",
       "    </tr>\n",
       "    <tr>\n",
       "      <th>mean</th>\n",
       "      <td>2.790697e-01</td>\n",
       "      <td>7.553460e+00</td>\n",
       "      <td>3.461244e+00</td>\n",
       "    </tr>\n",
       "    <tr>\n",
       "      <th>std</th>\n",
       "      <td>4.499037e-01</td>\n",
       "      <td>6.522058e+00</td>\n",
       "      <td>3.454784e+00</td>\n",
       "    </tr>\n",
       "    <tr>\n",
       "      <th>min</th>\n",
       "      <td>-7.095000e-01</td>\n",
       "      <td>-8.700000e+00</td>\n",
       "      <td>-5.340000e+00</td>\n",
       "    </tr>\n",
       "    <tr>\n",
       "      <th>25%</th>\n",
       "      <td>0.000000e+00</td>\n",
       "      <td>2.820000e+00</td>\n",
       "      <td>9.900000e-01</td>\n",
       "    </tr>\n",
       "    <tr>\n",
       "      <th>50%</th>\n",
       "      <td>0.000000e+00</td>\n",
       "      <td>5.210000e+00</td>\n",
       "      <td>2.260000e+00</td>\n",
       "    </tr>\n",
       "    <tr>\n",
       "      <th>75%</th>\n",
       "      <td>4.730000e-01</td>\n",
       "      <td>1.050000e+01</td>\n",
       "      <td>5.210000e+00</td>\n",
       "    </tr>\n",
       "    <tr>\n",
       "      <th>max</th>\n",
       "      <td>1.182500e+00</td>\n",
       "      <td>2.202000e+01</td>\n",
       "      <td>1.154000e+01</td>\n",
       "    </tr>\n",
       "  </tbody>\n",
       "</table>\n",
       "</div>"
      ],
      "text/plain": [
       "       MONTANTREMISE         TOTAL   MARGESORTIE\n",
       "count   3.410570e+07  3.410570e+07  3.410570e+07\n",
       "mean    2.790697e-01  7.553460e+00  3.461244e+00\n",
       "std     4.499037e-01  6.522058e+00  3.454784e+00\n",
       "min    -7.095000e-01 -8.700000e+00 -5.340000e+00\n",
       "25%     0.000000e+00  2.820000e+00  9.900000e-01\n",
       "50%     0.000000e+00  5.210000e+00  2.260000e+00\n",
       "75%     4.730000e-01  1.050000e+01  5.210000e+00\n",
       "max     1.182500e+00  2.202000e+01  1.154000e+01"
      ]
     },
     "execution_count": 34,
     "metadata": {},
     "output_type": "execute_result"
    }
   ],
   "source": [
    "data4.describe()"
   ]
  },
  {
   "cell_type": "markdown",
   "id": "a32be6d0",
   "metadata": {},
   "source": [
    "La ligne de code ci-dessous nous permet d'identifier les valeurs en doublons qui conviendra de traiter."
   ]
  },
  {
   "cell_type": "markdown",
   "id": "55f5ea5ce46c688c",
   "metadata": {},
   "source": []
  },
  {
   "cell_type": "code",
   "execution_count": 35,
   "id": "92b77e2f",
   "metadata": {
    "ExecuteTime": {
     "end_time": "2024-06-01T13:30:25.235782Z",
     "start_time": "2024-06-01T13:29:57.271507Z"
    }
   },
   "outputs": [
    {
     "name": "stdout",
     "output_type": "stream",
     "text": [
      "130\n"
     ]
    }
   ],
   "source": [
    "print(data3.duplicated().sum())\n",
    "data = data3.drop_duplicates()"
   ]
  },
  {
   "cell_type": "markdown",
   "id": "d0ae98d7",
   "metadata": {},
   "source": [
    "Nous allons désormais procéder au traitement de ces doublons."
   ]
  },
  {
   "cell_type": "code",
   "execution_count": 36,
   "id": "fd663935",
   "metadata": {
    "ExecuteTime": {
     "end_time": "2024-06-01T13:30:44.077655Z",
     "start_time": "2024-06-01T13:30:28.108276Z"
    }
   },
   "outputs": [],
   "source": [
    "data3.drop_duplicates(keep='first', inplace=True)"
   ]
  },
  {
   "cell_type": "markdown",
   "id": "65d9a122",
   "metadata": {},
   "source": [
    "Code de vérification."
   ]
  },
  {
   "cell_type": "code",
   "execution_count": 37,
   "id": "4810e6cb",
   "metadata": {
    "ExecuteTime": {
     "end_time": "2024-06-01T13:31:16.821473Z",
     "start_time": "2024-06-01T13:31:03.751394Z"
    }
   },
   "outputs": [
    {
     "name": "stdout",
     "output_type": "stream",
     "text": [
      "0\n"
     ]
    }
   ],
   "source": [
    "print(data3.duplicated().sum())"
   ]
  },
  {
   "cell_type": "markdown",
   "id": "f2552092",
   "metadata": {},
   "source": [
    "Nous procédons également à la vérification de présence ou non de valeurs manquantes (aucune valeur détectée)."
   ]
  },
  {
   "cell_type": "code",
   "execution_count": 38,
   "id": "8559c75ff454c123",
   "metadata": {
    "ExecuteTime": {
     "end_time": "2024-06-01T13:31:21.133951Z",
     "start_time": "2024-06-01T13:31:18.756134Z"
    }
   },
   "outputs": [
    {
     "data": {
      "text/plain": [
       "IDTICKET          0\n",
       "NUMLIGNETICKET    0\n",
       "IDARTICLE         0\n",
       "QUANTITE          0\n",
       "MONTANTREMISE     0\n",
       "TOTAL             0\n",
       "MARGESORTIE       0\n",
       "TOP_RETOUR        0\n",
       "dtype: int64"
      ]
     },
     "execution_count": 38,
     "metadata": {},
     "output_type": "execute_result"
    }
   ],
   "source": [
    "data3.isnull().sum()"
   ]
  },
  {
   "cell_type": "markdown",
   "id": "4e7d517e",
   "metadata": {},
   "source": [
    "Chargement du jeu de données ENTETES TICKET V4."
   ]
  },
  {
   "cell_type": "code",
   "execution_count": 39,
   "id": "4498ad84",
   "metadata": {
    "ExecuteTime": {
     "end_time": "2024-06-01T13:31:27.007781Z",
     "start_time": "2024-06-01T13:31:23.036404Z"
    }
   },
   "outputs": [
    {
     "name": "stdout",
     "output_type": "stream",
     "text": [
      "(6714173, 5)\n",
      "['IDTICKET', 'TIC_DATE', 'MAG_CODE', 'IDCLIENT', 'TIC_TOTALTTC']\n"
     ]
    }
   ],
   "source": [
    "dataset_path = \"C:\\\\Users\\\\belga\\\\OneDrive\\\\Bureau\\\\EMBA Big Data\\\\Module Datascience\\\\Projet Data Science S2 2024\\\\ENTETES_TICKET_V4.csv\"\n",
    "data2 = pd.read_csv(dataset_path, sep='|', low_memory=False)\n",
    "print(data2.shape)\n",
    "print(list(data2.columns))\n",
    "\n"
   ]
  },
  {
   "cell_type": "markdown",
   "id": "79513048",
   "metadata": {},
   "source": [
    "La ligne de code ci-dessous nous permet de connaître le détail des colonnes ainsi que le type de données constituant notre base (numérique ou caractères)."
   ]
  },
  {
   "cell_type": "code",
   "execution_count": 40,
   "id": "11f05dee",
   "metadata": {
    "ExecuteTime": {
     "end_time": "2024-06-01T13:31:49.933053Z",
     "start_time": "2024-06-01T13:31:49.928004Z"
    }
   },
   "outputs": [
    {
     "name": "stdout",
     "output_type": "stream",
     "text": [
      "<class 'pandas.core.frame.DataFrame'>\n",
      "RangeIndex: 6714173 entries, 0 to 6714172\n",
      "Data columns (total 5 columns):\n",
      " #   Column        Dtype  \n",
      "---  ------        -----  \n",
      " 0   IDTICKET      int64  \n",
      " 1   TIC_DATE      object \n",
      " 2   MAG_CODE      object \n",
      " 3   IDCLIENT      float64\n",
      " 4   TIC_TOTALTTC  object \n",
      "dtypes: float64(1), int64(1), object(3)\n",
      "memory usage: 256.1+ MB\n"
     ]
    }
   ],
   "source": [
    "data2.info()"
   ]
  },
  {
   "cell_type": "markdown",
   "id": "b94846dd",
   "metadata": {},
   "source": [
    "Aperçu de notre jeu de données. "
   ]
  },
  {
   "cell_type": "code",
   "execution_count": 41,
   "id": "0892088b",
   "metadata": {
    "ExecuteTime": {
     "end_time": "2024-06-01T13:31:52.256084Z",
     "start_time": "2024-06-01T13:31:52.250304Z"
    }
   },
   "outputs": [
    {
     "data": {
      "text/html": [
       "<div>\n",
       "<style scoped>\n",
       "    .dataframe tbody tr th:only-of-type {\n",
       "        vertical-align: middle;\n",
       "    }\n",
       "\n",
       "    .dataframe tbody tr th {\n",
       "        vertical-align: top;\n",
       "    }\n",
       "\n",
       "    .dataframe thead th {\n",
       "        text-align: right;\n",
       "    }\n",
       "</style>\n",
       "<table border=\"1\" class=\"dataframe\">\n",
       "  <thead>\n",
       "    <tr style=\"text-align: right;\">\n",
       "      <th></th>\n",
       "      <th>IDTICKET</th>\n",
       "      <th>TIC_DATE</th>\n",
       "      <th>MAG_CODE</th>\n",
       "      <th>IDCLIENT</th>\n",
       "      <th>TIC_TOTALTTC</th>\n",
       "    </tr>\n",
       "  </thead>\n",
       "  <tbody>\n",
       "    <tr>\n",
       "      <th>0</th>\n",
       "      <td>50100150510</td>\n",
       "      <td>2016-01-02 11:01:33</td>\n",
       "      <td>ALB</td>\n",
       "      <td>2995104.0</td>\n",
       "      <td>12,9</td>\n",
       "    </tr>\n",
       "    <tr>\n",
       "      <th>1</th>\n",
       "      <td>50100150511</td>\n",
       "      <td>2016-01-02 11:02:10</td>\n",
       "      <td>ALB</td>\n",
       "      <td>1411117.0</td>\n",
       "      <td>131,06</td>\n",
       "    </tr>\n",
       "    <tr>\n",
       "      <th>2</th>\n",
       "      <td>50100150515</td>\n",
       "      <td>2016-01-02 12:03:27</td>\n",
       "      <td>ALB</td>\n",
       "      <td>222592.0</td>\n",
       "      <td>34,69</td>\n",
       "    </tr>\n",
       "    <tr>\n",
       "      <th>3</th>\n",
       "      <td>50100150517</td>\n",
       "      <td>2016-01-02 14:23:21</td>\n",
       "      <td>ALB</td>\n",
       "      <td>2979958.0</td>\n",
       "      <td>97,58</td>\n",
       "    </tr>\n",
       "    <tr>\n",
       "      <th>4</th>\n",
       "      <td>50100150518</td>\n",
       "      <td>2016-01-02 14:26:53</td>\n",
       "      <td>ALB</td>\n",
       "      <td>2858676.0</td>\n",
       "      <td>4,7</td>\n",
       "    </tr>\n",
       "    <tr>\n",
       "      <th>...</th>\n",
       "      <td>...</td>\n",
       "      <td>...</td>\n",
       "      <td>...</td>\n",
       "      <td>...</td>\n",
       "      <td>...</td>\n",
       "    </tr>\n",
       "    <tr>\n",
       "      <th>6714168</th>\n",
       "      <td>1340300014404</td>\n",
       "      <td>2016-12-27 16:31:52</td>\n",
       "      <td>RMA</td>\n",
       "      <td>2292927.0</td>\n",
       "      <td>59,45</td>\n",
       "    </tr>\n",
       "    <tr>\n",
       "      <th>6714169</th>\n",
       "      <td>1340300014407</td>\n",
       "      <td>2016-12-27 16:35:21</td>\n",
       "      <td>RMA</td>\n",
       "      <td>3189844.0</td>\n",
       "      <td>26,9</td>\n",
       "    </tr>\n",
       "    <tr>\n",
       "      <th>6714170</th>\n",
       "      <td>1340300014409</td>\n",
       "      <td>2016-12-27 16:38:59</td>\n",
       "      <td>RMA</td>\n",
       "      <td>3125998.0</td>\n",
       "      <td>22,15</td>\n",
       "    </tr>\n",
       "    <tr>\n",
       "      <th>6714171</th>\n",
       "      <td>1340300014438</td>\n",
       "      <td>2016-12-27 17:17:30</td>\n",
       "      <td>RMA</td>\n",
       "      <td>3252348.0</td>\n",
       "      <td>118,01</td>\n",
       "    </tr>\n",
       "    <tr>\n",
       "      <th>6714172</th>\n",
       "      <td>1340300014440</td>\n",
       "      <td>2016-12-27 17:24:15</td>\n",
       "      <td>RMA</td>\n",
       "      <td>3243933.0</td>\n",
       "      <td>44,8</td>\n",
       "    </tr>\n",
       "  </tbody>\n",
       "</table>\n",
       "<p>6714173 rows × 5 columns</p>\n",
       "</div>"
      ],
      "text/plain": [
       "              IDTICKET             TIC_DATE MAG_CODE   IDCLIENT TIC_TOTALTTC\n",
       "0          50100150510  2016-01-02 11:01:33      ALB  2995104.0         12,9\n",
       "1          50100150511  2016-01-02 11:02:10      ALB  1411117.0       131,06\n",
       "2          50100150515  2016-01-02 12:03:27      ALB   222592.0        34,69\n",
       "3          50100150517  2016-01-02 14:23:21      ALB  2979958.0        97,58\n",
       "4          50100150518  2016-01-02 14:26:53      ALB  2858676.0          4,7\n",
       "...                ...                  ...      ...        ...          ...\n",
       "6714168  1340300014404  2016-12-27 16:31:52      RMA  2292927.0        59,45\n",
       "6714169  1340300014407  2016-12-27 16:35:21      RMA  3189844.0         26,9\n",
       "6714170  1340300014409  2016-12-27 16:38:59      RMA  3125998.0        22,15\n",
       "6714171  1340300014438  2016-12-27 17:17:30      RMA  3252348.0       118,01\n",
       "6714172  1340300014440  2016-12-27 17:24:15      RMA  3243933.0         44,8\n",
       "\n",
       "[6714173 rows x 5 columns]"
      ]
     },
     "execution_count": 41,
     "metadata": {},
     "output_type": "execute_result"
    }
   ],
   "source": [
    "data2"
   ]
  },
  {
   "cell_type": "markdown",
   "id": "d2c72a65",
   "metadata": {},
   "source": [
    "Afin d'exploiter de façon optimale les informations, nous allons convetir les l'ID TICKET et le NUM LIGNE TICKET en caractère. A l'inverse, nous devons convertir le total TTC en valeur numérique."
   ]
  },
  {
   "cell_type": "code",
   "execution_count": 42,
   "id": "5d7a79f6",
   "metadata": {
    "ExecuteTime": {
     "end_time": "2024-06-01T13:31:56.645296Z",
     "start_time": "2024-06-01T13:31:54.555947Z"
    }
   },
   "outputs": [],
   "source": [
    "data2['IDTICKET'] = data2['IDTICKET'].astype(str)\n",
    "data2['IDCLIENT'] = data2['IDCLIENT'].astype(str)"
   ]
  },
  {
   "cell_type": "code",
   "execution_count": 43,
   "id": "8e554f01",
   "metadata": {
    "ExecuteTime": {
     "end_time": "2024-06-01T13:31:58.085686Z",
     "start_time": "2024-06-01T13:31:57.501621Z"
    }
   },
   "outputs": [],
   "source": [
    "data2['TIC_TOTALTTC'] = data2['TIC_TOTALTTC'].str.replace(',', '.')"
   ]
  },
  {
   "cell_type": "code",
   "execution_count": 44,
   "id": "62ab6e1c",
   "metadata": {
    "ExecuteTime": {
     "end_time": "2024-06-01T13:31:59.583864Z",
     "start_time": "2024-06-01T13:31:59.217988Z"
    }
   },
   "outputs": [],
   "source": [
    "data2['TIC_TOTALTTC'] = data2['TIC_TOTALTTC'].str.strip('\\\"')"
   ]
  },
  {
   "cell_type": "code",
   "execution_count": 45,
   "id": "6b710a98",
   "metadata": {
    "ExecuteTime": {
     "end_time": "2024-06-01T13:32:01.164196Z",
     "start_time": "2024-06-01T13:32:00.240005Z"
    }
   },
   "outputs": [],
   "source": [
    "data2['TIC_TOTALTTC'] = pd.to_numeric(data2['TIC_TOTALTTC'], errors='coerce')"
   ]
  },
  {
   "cell_type": "markdown",
   "id": "df7b8fab",
   "metadata": {},
   "source": [
    "Vérification du traitement."
   ]
  },
  {
   "cell_type": "code",
   "execution_count": 46,
   "id": "04839e6d",
   "metadata": {
    "ExecuteTime": {
     "end_time": "2024-06-01T13:32:03.096913Z",
     "start_time": "2024-06-01T13:32:03.091886Z"
    }
   },
   "outputs": [
    {
     "name": "stdout",
     "output_type": "stream",
     "text": [
      "<class 'pandas.core.frame.DataFrame'>\n",
      "RangeIndex: 6714173 entries, 0 to 6714172\n",
      "Data columns (total 5 columns):\n",
      " #   Column        Dtype  \n",
      "---  ------        -----  \n",
      " 0   IDTICKET      object \n",
      " 1   TIC_DATE      object \n",
      " 2   MAG_CODE      object \n",
      " 3   IDCLIENT      object \n",
      " 4   TIC_TOTALTTC  float64\n",
      "dtypes: float64(1), object(4)\n",
      "memory usage: 256.1+ MB\n"
     ]
    }
   ],
   "source": [
    "data2.info()"
   ]
  },
  {
   "cell_type": "code",
   "execution_count": 47,
   "id": "446ed3fd",
   "metadata": {
    "ExecuteTime": {
     "end_time": "2024-06-01T13:32:03.882233Z",
     "start_time": "2024-06-01T13:32:03.877088Z"
    }
   },
   "outputs": [
    {
     "data": {
      "text/html": [
       "<div>\n",
       "<style scoped>\n",
       "    .dataframe tbody tr th:only-of-type {\n",
       "        vertical-align: middle;\n",
       "    }\n",
       "\n",
       "    .dataframe tbody tr th {\n",
       "        vertical-align: top;\n",
       "    }\n",
       "\n",
       "    .dataframe thead th {\n",
       "        text-align: right;\n",
       "    }\n",
       "</style>\n",
       "<table border=\"1\" class=\"dataframe\">\n",
       "  <thead>\n",
       "    <tr style=\"text-align: right;\">\n",
       "      <th></th>\n",
       "      <th>IDTICKET</th>\n",
       "      <th>TIC_DATE</th>\n",
       "      <th>MAG_CODE</th>\n",
       "      <th>IDCLIENT</th>\n",
       "      <th>TIC_TOTALTTC</th>\n",
       "    </tr>\n",
       "  </thead>\n",
       "  <tbody>\n",
       "    <tr>\n",
       "      <th>0</th>\n",
       "      <td>50100150510</td>\n",
       "      <td>2016-01-02 11:01:33</td>\n",
       "      <td>ALB</td>\n",
       "      <td>2995104.0</td>\n",
       "      <td>12.90</td>\n",
       "    </tr>\n",
       "    <tr>\n",
       "      <th>1</th>\n",
       "      <td>50100150511</td>\n",
       "      <td>2016-01-02 11:02:10</td>\n",
       "      <td>ALB</td>\n",
       "      <td>1411117.0</td>\n",
       "      <td>131.06</td>\n",
       "    </tr>\n",
       "    <tr>\n",
       "      <th>2</th>\n",
       "      <td>50100150515</td>\n",
       "      <td>2016-01-02 12:03:27</td>\n",
       "      <td>ALB</td>\n",
       "      <td>222592.0</td>\n",
       "      <td>34.69</td>\n",
       "    </tr>\n",
       "    <tr>\n",
       "      <th>3</th>\n",
       "      <td>50100150517</td>\n",
       "      <td>2016-01-02 14:23:21</td>\n",
       "      <td>ALB</td>\n",
       "      <td>2979958.0</td>\n",
       "      <td>97.58</td>\n",
       "    </tr>\n",
       "    <tr>\n",
       "      <th>4</th>\n",
       "      <td>50100150518</td>\n",
       "      <td>2016-01-02 14:26:53</td>\n",
       "      <td>ALB</td>\n",
       "      <td>2858676.0</td>\n",
       "      <td>4.70</td>\n",
       "    </tr>\n",
       "    <tr>\n",
       "      <th>...</th>\n",
       "      <td>...</td>\n",
       "      <td>...</td>\n",
       "      <td>...</td>\n",
       "      <td>...</td>\n",
       "      <td>...</td>\n",
       "    </tr>\n",
       "    <tr>\n",
       "      <th>6714168</th>\n",
       "      <td>1340300014404</td>\n",
       "      <td>2016-12-27 16:31:52</td>\n",
       "      <td>RMA</td>\n",
       "      <td>2292927.0</td>\n",
       "      <td>59.45</td>\n",
       "    </tr>\n",
       "    <tr>\n",
       "      <th>6714169</th>\n",
       "      <td>1340300014407</td>\n",
       "      <td>2016-12-27 16:35:21</td>\n",
       "      <td>RMA</td>\n",
       "      <td>3189844.0</td>\n",
       "      <td>26.90</td>\n",
       "    </tr>\n",
       "    <tr>\n",
       "      <th>6714170</th>\n",
       "      <td>1340300014409</td>\n",
       "      <td>2016-12-27 16:38:59</td>\n",
       "      <td>RMA</td>\n",
       "      <td>3125998.0</td>\n",
       "      <td>22.15</td>\n",
       "    </tr>\n",
       "    <tr>\n",
       "      <th>6714171</th>\n",
       "      <td>1340300014438</td>\n",
       "      <td>2016-12-27 17:17:30</td>\n",
       "      <td>RMA</td>\n",
       "      <td>3252348.0</td>\n",
       "      <td>118.01</td>\n",
       "    </tr>\n",
       "    <tr>\n",
       "      <th>6714172</th>\n",
       "      <td>1340300014440</td>\n",
       "      <td>2016-12-27 17:24:15</td>\n",
       "      <td>RMA</td>\n",
       "      <td>3243933.0</td>\n",
       "      <td>44.80</td>\n",
       "    </tr>\n",
       "  </tbody>\n",
       "</table>\n",
       "<p>6714173 rows × 5 columns</p>\n",
       "</div>"
      ],
      "text/plain": [
       "              IDTICKET             TIC_DATE MAG_CODE   IDCLIENT  TIC_TOTALTTC\n",
       "0          50100150510  2016-01-02 11:01:33      ALB  2995104.0         12.90\n",
       "1          50100150511  2016-01-02 11:02:10      ALB  1411117.0        131.06\n",
       "2          50100150515  2016-01-02 12:03:27      ALB   222592.0         34.69\n",
       "3          50100150517  2016-01-02 14:23:21      ALB  2979958.0         97.58\n",
       "4          50100150518  2016-01-02 14:26:53      ALB  2858676.0          4.70\n",
       "...                ...                  ...      ...        ...           ...\n",
       "6714168  1340300014404  2016-12-27 16:31:52      RMA  2292927.0         59.45\n",
       "6714169  1340300014407  2016-12-27 16:35:21      RMA  3189844.0         26.90\n",
       "6714170  1340300014409  2016-12-27 16:38:59      RMA  3125998.0         22.15\n",
       "6714171  1340300014438  2016-12-27 17:17:30      RMA  3252348.0        118.01\n",
       "6714172  1340300014440  2016-12-27 17:24:15      RMA  3243933.0         44.80\n",
       "\n",
       "[6714173 rows x 5 columns]"
      ]
     },
     "execution_count": 47,
     "metadata": {},
     "output_type": "execute_result"
    }
   ],
   "source": [
    "data2"
   ]
  },
  {
   "cell_type": "markdown",
   "id": "79c6210e",
   "metadata": {},
   "source": [
    "La ligne de code ci-dessous nous permet de formater le format de la date."
   ]
  },
  {
   "cell_type": "code",
   "execution_count": 48,
   "id": "45452193",
   "metadata": {
    "ExecuteTime": {
     "end_time": "2024-06-01T13:32:18.750119Z",
     "start_time": "2024-06-01T13:32:05.856221Z"
    }
   },
   "outputs": [],
   "source": [
    "from datetime import datetime\n",
    "data2['TIC_DATE'] = pd.to_datetime(data2['TIC_DATE'], format=\"%Y-%m-%d %H:%M:%S\",errors = 'coerce')\n",
    "data2['TIC_DATE'] = data2['TIC_DATE'].dt.strftime(\"%d/%m/%Y\")"
   ]
  },
  {
   "cell_type": "markdown",
   "id": "06977e1e",
   "metadata": {},
   "source": [
    "Vérification du traitement."
   ]
  },
  {
   "cell_type": "code",
   "execution_count": 49,
   "id": "366f31f3",
   "metadata": {
    "ExecuteTime": {
     "end_time": "2024-06-01T13:32:25.483301Z",
     "start_time": "2024-06-01T13:32:25.478052Z"
    }
   },
   "outputs": [
    {
     "data": {
      "text/html": [
       "<div>\n",
       "<style scoped>\n",
       "    .dataframe tbody tr th:only-of-type {\n",
       "        vertical-align: middle;\n",
       "    }\n",
       "\n",
       "    .dataframe tbody tr th {\n",
       "        vertical-align: top;\n",
       "    }\n",
       "\n",
       "    .dataframe thead th {\n",
       "        text-align: right;\n",
       "    }\n",
       "</style>\n",
       "<table border=\"1\" class=\"dataframe\">\n",
       "  <thead>\n",
       "    <tr style=\"text-align: right;\">\n",
       "      <th></th>\n",
       "      <th>IDTICKET</th>\n",
       "      <th>TIC_DATE</th>\n",
       "      <th>MAG_CODE</th>\n",
       "      <th>IDCLIENT</th>\n",
       "      <th>TIC_TOTALTTC</th>\n",
       "    </tr>\n",
       "  </thead>\n",
       "  <tbody>\n",
       "    <tr>\n",
       "      <th>0</th>\n",
       "      <td>50100150510</td>\n",
       "      <td>02/01/2016</td>\n",
       "      <td>ALB</td>\n",
       "      <td>2995104.0</td>\n",
       "      <td>12.90</td>\n",
       "    </tr>\n",
       "    <tr>\n",
       "      <th>1</th>\n",
       "      <td>50100150511</td>\n",
       "      <td>02/01/2016</td>\n",
       "      <td>ALB</td>\n",
       "      <td>1411117.0</td>\n",
       "      <td>131.06</td>\n",
       "    </tr>\n",
       "    <tr>\n",
       "      <th>2</th>\n",
       "      <td>50100150515</td>\n",
       "      <td>02/01/2016</td>\n",
       "      <td>ALB</td>\n",
       "      <td>222592.0</td>\n",
       "      <td>34.69</td>\n",
       "    </tr>\n",
       "    <tr>\n",
       "      <th>3</th>\n",
       "      <td>50100150517</td>\n",
       "      <td>02/01/2016</td>\n",
       "      <td>ALB</td>\n",
       "      <td>2979958.0</td>\n",
       "      <td>97.58</td>\n",
       "    </tr>\n",
       "    <tr>\n",
       "      <th>4</th>\n",
       "      <td>50100150518</td>\n",
       "      <td>02/01/2016</td>\n",
       "      <td>ALB</td>\n",
       "      <td>2858676.0</td>\n",
       "      <td>4.70</td>\n",
       "    </tr>\n",
       "    <tr>\n",
       "      <th>...</th>\n",
       "      <td>...</td>\n",
       "      <td>...</td>\n",
       "      <td>...</td>\n",
       "      <td>...</td>\n",
       "      <td>...</td>\n",
       "    </tr>\n",
       "    <tr>\n",
       "      <th>6714168</th>\n",
       "      <td>1340300014404</td>\n",
       "      <td>27/12/2016</td>\n",
       "      <td>RMA</td>\n",
       "      <td>2292927.0</td>\n",
       "      <td>59.45</td>\n",
       "    </tr>\n",
       "    <tr>\n",
       "      <th>6714169</th>\n",
       "      <td>1340300014407</td>\n",
       "      <td>27/12/2016</td>\n",
       "      <td>RMA</td>\n",
       "      <td>3189844.0</td>\n",
       "      <td>26.90</td>\n",
       "    </tr>\n",
       "    <tr>\n",
       "      <th>6714170</th>\n",
       "      <td>1340300014409</td>\n",
       "      <td>27/12/2016</td>\n",
       "      <td>RMA</td>\n",
       "      <td>3125998.0</td>\n",
       "      <td>22.15</td>\n",
       "    </tr>\n",
       "    <tr>\n",
       "      <th>6714171</th>\n",
       "      <td>1340300014438</td>\n",
       "      <td>27/12/2016</td>\n",
       "      <td>RMA</td>\n",
       "      <td>3252348.0</td>\n",
       "      <td>118.01</td>\n",
       "    </tr>\n",
       "    <tr>\n",
       "      <th>6714172</th>\n",
       "      <td>1340300014440</td>\n",
       "      <td>27/12/2016</td>\n",
       "      <td>RMA</td>\n",
       "      <td>3243933.0</td>\n",
       "      <td>44.80</td>\n",
       "    </tr>\n",
       "  </tbody>\n",
       "</table>\n",
       "<p>6714173 rows × 5 columns</p>\n",
       "</div>"
      ],
      "text/plain": [
       "              IDTICKET    TIC_DATE MAG_CODE   IDCLIENT  TIC_TOTALTTC\n",
       "0          50100150510  02/01/2016      ALB  2995104.0         12.90\n",
       "1          50100150511  02/01/2016      ALB  1411117.0        131.06\n",
       "2          50100150515  02/01/2016      ALB   222592.0         34.69\n",
       "3          50100150517  02/01/2016      ALB  2979958.0         97.58\n",
       "4          50100150518  02/01/2016      ALB  2858676.0          4.70\n",
       "...                ...         ...      ...        ...           ...\n",
       "6714168  1340300014404  27/12/2016      RMA  2292927.0         59.45\n",
       "6714169  1340300014407  27/12/2016      RMA  3189844.0         26.90\n",
       "6714170  1340300014409  27/12/2016      RMA  3125998.0         22.15\n",
       "6714171  1340300014438  27/12/2016      RMA  3252348.0        118.01\n",
       "6714172  1340300014440  27/12/2016      RMA  3243933.0         44.80\n",
       "\n",
       "[6714173 rows x 5 columns]"
      ]
     },
     "execution_count": 49,
     "metadata": {},
     "output_type": "execute_result"
    }
   ],
   "source": [
    "data2"
   ]
  },
  {
   "cell_type": "markdown",
   "id": "6ed98f20",
   "metadata": {},
   "source": [
    "Cette ligne de code nous permet d'identifier le nombre d'occurence de chaque code magasin, pour identifier les éventuels regroupements à effectuer. "
   ]
  },
  {
   "cell_type": "code",
   "execution_count": 50,
   "id": "ff4544be",
   "metadata": {
    "ExecuteTime": {
     "end_time": "2024-06-01T13:32:31.665145Z",
     "start_time": "2024-06-01T13:32:31.609749Z"
    }
   },
   "outputs": [
    {
     "data": {
      "text/plain": [
       "MAG_CODE\n",
       "SSM    246506\n",
       "MOB    221283\n",
       "HEI    219713\n",
       "BEA    205468\n",
       "GEX    196669\n",
       "        ...  \n",
       "CLI     31063\n",
       "STR     26694\n",
       "SCH     25502\n",
       "BAR     18254\n",
       "SAL     18245\n",
       "Name: count, Length: 66, dtype: int64"
      ]
     },
     "execution_count": 50,
     "metadata": {},
     "output_type": "execute_result"
    }
   ],
   "source": [
    "#modalités variables:\n",
    "data2['MAG_CODE'].value_counts(dropna = False)"
   ]
  },
  {
   "cell_type": "markdown",
   "id": "481d522f",
   "metadata": {},
   "source": [
    "La ligne de code ci-dessous nous permet d'identifier la présence ou non de valeur(s) en doublons."
   ]
  },
  {
   "cell_type": "code",
   "execution_count": 51,
   "id": "5a7ccf1b",
   "metadata": {
    "ExecuteTime": {
     "end_time": "2024-06-01T13:32:39.184316Z",
     "start_time": "2024-06-01T13:32:33.519416Z"
    }
   },
   "outputs": [
    {
     "name": "stdout",
     "output_type": "stream",
     "text": [
      "0\n"
     ]
    }
   ],
   "source": [
    "print(data2.duplicated().sum())\n",
    "data2 = data2.drop_duplicates()"
   ]
  },
  {
   "cell_type": "markdown",
   "id": "02abdc47",
   "metadata": {},
   "source": [
    "La ligne de code ci-dessous nous permet d'identifier la présence ou non de valeur(s) manquante(s)"
   ]
  },
  {
   "cell_type": "code",
   "execution_count": 52,
   "id": "fbd5948c",
   "metadata": {
    "ExecuteTime": {
     "end_time": "2024-06-01T13:32:40.335480Z",
     "start_time": "2024-06-01T13:32:39.925638Z"
    }
   },
   "outputs": [
    {
     "data": {
      "text/html": [
       "<div>\n",
       "<style scoped>\n",
       "    .dataframe tbody tr th:only-of-type {\n",
       "        vertical-align: middle;\n",
       "    }\n",
       "\n",
       "    .dataframe tbody tr th {\n",
       "        vertical-align: top;\n",
       "    }\n",
       "\n",
       "    .dataframe thead th {\n",
       "        text-align: right;\n",
       "    }\n",
       "</style>\n",
       "<table border=\"1\" class=\"dataframe\">\n",
       "  <thead>\n",
       "    <tr style=\"text-align: right;\">\n",
       "      <th></th>\n",
       "      <th>%_missing_values</th>\n",
       "    </tr>\n",
       "  </thead>\n",
       "  <tbody>\n",
       "    <tr>\n",
       "      <th>IDTICKET</th>\n",
       "      <td>0.0</td>\n",
       "    </tr>\n",
       "    <tr>\n",
       "      <th>TIC_DATE</th>\n",
       "      <td>0.0</td>\n",
       "    </tr>\n",
       "    <tr>\n",
       "      <th>MAG_CODE</th>\n",
       "      <td>0.0</td>\n",
       "    </tr>\n",
       "    <tr>\n",
       "      <th>IDCLIENT</th>\n",
       "      <td>0.0</td>\n",
       "    </tr>\n",
       "    <tr>\n",
       "      <th>TIC_TOTALTTC</th>\n",
       "      <td>0.0</td>\n",
       "    </tr>\n",
       "  </tbody>\n",
       "</table>\n",
       "</div>"
      ],
      "text/plain": [
       "              %_missing_values\n",
       "IDTICKET                   0.0\n",
       "TIC_DATE                   0.0\n",
       "MAG_CODE                   0.0\n",
       "IDCLIENT                   0.0\n",
       "TIC_TOTALTTC               0.0"
      ]
     },
     "execution_count": 52,
     "metadata": {},
     "output_type": "execute_result"
    }
   ],
   "source": [
    "pd.DataFrame(index=data2.columns, columns=['%_missing_values'], data= (data2.isna().sum().values / len(data2)*100))"
   ]
  },
  {
   "cell_type": "markdown",
   "id": "5edd09c5",
   "metadata": {},
   "source": [
    "CALCUL DU NOMBRES DE MAGASINS (Mag Code) FREQUENTE PAR UN CLIENT (ID Client)."
   ]
  },
  {
   "cell_type": "code",
   "execution_count": 53,
   "id": "82ec4400",
   "metadata": {
    "ExecuteTime": {
     "end_time": "2024-06-01T13:32:42.449282Z",
     "start_time": "2024-06-01T13:32:42.200320Z"
    }
   },
   "outputs": [],
   "source": [
    "data2['IDCLIENT'] = data2['IDCLIENT'].astype(float)"
   ]
  },
  {
   "cell_type": "code",
   "execution_count": 54,
   "id": "647517d0",
   "metadata": {
    "ExecuteTime": {
     "end_time": "2024-06-01T13:32:43.093302Z",
     "start_time": "2024-06-01T13:32:43.079530Z"
    }
   },
   "outputs": [],
   "source": [
    "data2['IDCLIENT'] = data2['IDCLIENT'].astype(int)"
   ]
  },
  {
   "cell_type": "code",
   "execution_count": 55,
   "id": "e79ee648",
   "metadata": {
    "ExecuteTime": {
     "end_time": "2024-06-01T13:32:43.879025Z",
     "start_time": "2024-06-01T13:32:43.875748Z"
    }
   },
   "outputs": [
    {
     "name": "stdout",
     "output_type": "stream",
     "text": [
      "<class 'pandas.core.frame.DataFrame'>\n",
      "RangeIndex: 6714173 entries, 0 to 6714172\n",
      "Data columns (total 5 columns):\n",
      " #   Column        Dtype  \n",
      "---  ------        -----  \n",
      " 0   IDTICKET      object \n",
      " 1   TIC_DATE      object \n",
      " 2   MAG_CODE      object \n",
      " 3   IDCLIENT      int32  \n",
      " 4   TIC_TOTALTTC  float64\n",
      "dtypes: float64(1), int32(1), object(3)\n",
      "memory usage: 230.5+ MB\n"
     ]
    }
   ],
   "source": [
    "data2.info()"
   ]
  },
  {
   "cell_type": "code",
   "execution_count": 56,
   "id": "1a411cb8e406fcf6",
   "metadata": {
    "ExecuteTime": {
     "end_time": "2024-06-01T13:32:45.408291Z",
     "start_time": "2024-06-01T13:32:44.802127Z"
    }
   },
   "outputs": [
    {
     "name": "stdout",
     "output_type": "stream",
     "text": [
      "      IDTICKET    TIC_DATE MAG_CODE  IDCLIENT  TIC_TOTALTTC  FREQUENCE_MAG\n",
      "0  50100150510  02/01/2016      ALB   2995104         12.90             35\n",
      "1  50100150511  02/01/2016      ALB   1411117        131.06              4\n",
      "2  50100150515  02/01/2016      ALB    222592         34.69             21\n",
      "3  50100150517  02/01/2016      ALB   2979958         97.58             28\n",
      "4  50100150518  02/01/2016      ALB   2858676          4.70             11\n"
     ]
    }
   ],
   "source": [
    "\n",
    "# Calcul de la fréquence et du total des achats par magasin et par client\n",
    "data2['FREQUENCE_MAG'] = data2.groupby(['MAG_CODE', 'IDCLIENT'])['IDTICKET'].transform('count')\n",
    "\n",
    "# Afficher le résultat\n",
    "print(data2.head())"
   ]
  },
  {
   "cell_type": "code",
   "execution_count": 57,
   "id": "1b85c6b8ca682ec1",
   "metadata": {
    "ExecuteTime": {
     "end_time": "2024-06-01T13:32:47.194877Z",
     "start_time": "2024-06-01T13:32:47.190145Z"
    }
   },
   "outputs": [
    {
     "data": {
      "text/html": [
       "<div>\n",
       "<style scoped>\n",
       "    .dataframe tbody tr th:only-of-type {\n",
       "        vertical-align: middle;\n",
       "    }\n",
       "\n",
       "    .dataframe tbody tr th {\n",
       "        vertical-align: top;\n",
       "    }\n",
       "\n",
       "    .dataframe thead th {\n",
       "        text-align: right;\n",
       "    }\n",
       "</style>\n",
       "<table border=\"1\" class=\"dataframe\">\n",
       "  <thead>\n",
       "    <tr style=\"text-align: right;\">\n",
       "      <th></th>\n",
       "      <th>IDTICKET</th>\n",
       "      <th>TIC_DATE</th>\n",
       "      <th>MAG_CODE</th>\n",
       "      <th>IDCLIENT</th>\n",
       "      <th>TIC_TOTALTTC</th>\n",
       "      <th>FREQUENCE_MAG</th>\n",
       "    </tr>\n",
       "  </thead>\n",
       "  <tbody>\n",
       "    <tr>\n",
       "      <th>0</th>\n",
       "      <td>50100150510</td>\n",
       "      <td>02/01/2016</td>\n",
       "      <td>ALB</td>\n",
       "      <td>2995104</td>\n",
       "      <td>12.90</td>\n",
       "      <td>35</td>\n",
       "    </tr>\n",
       "    <tr>\n",
       "      <th>1</th>\n",
       "      <td>50100150511</td>\n",
       "      <td>02/01/2016</td>\n",
       "      <td>ALB</td>\n",
       "      <td>1411117</td>\n",
       "      <td>131.06</td>\n",
       "      <td>4</td>\n",
       "    </tr>\n",
       "    <tr>\n",
       "      <th>2</th>\n",
       "      <td>50100150515</td>\n",
       "      <td>02/01/2016</td>\n",
       "      <td>ALB</td>\n",
       "      <td>222592</td>\n",
       "      <td>34.69</td>\n",
       "      <td>21</td>\n",
       "    </tr>\n",
       "    <tr>\n",
       "      <th>3</th>\n",
       "      <td>50100150517</td>\n",
       "      <td>02/01/2016</td>\n",
       "      <td>ALB</td>\n",
       "      <td>2979958</td>\n",
       "      <td>97.58</td>\n",
       "      <td>28</td>\n",
       "    </tr>\n",
       "    <tr>\n",
       "      <th>4</th>\n",
       "      <td>50100150518</td>\n",
       "      <td>02/01/2016</td>\n",
       "      <td>ALB</td>\n",
       "      <td>2858676</td>\n",
       "      <td>4.70</td>\n",
       "      <td>11</td>\n",
       "    </tr>\n",
       "    <tr>\n",
       "      <th>...</th>\n",
       "      <td>...</td>\n",
       "      <td>...</td>\n",
       "      <td>...</td>\n",
       "      <td>...</td>\n",
       "      <td>...</td>\n",
       "      <td>...</td>\n",
       "    </tr>\n",
       "    <tr>\n",
       "      <th>6714168</th>\n",
       "      <td>1340300014404</td>\n",
       "      <td>27/12/2016</td>\n",
       "      <td>RMA</td>\n",
       "      <td>2292927</td>\n",
       "      <td>59.45</td>\n",
       "      <td>5</td>\n",
       "    </tr>\n",
       "    <tr>\n",
       "      <th>6714169</th>\n",
       "      <td>1340300014407</td>\n",
       "      <td>27/12/2016</td>\n",
       "      <td>RMA</td>\n",
       "      <td>3189844</td>\n",
       "      <td>26.90</td>\n",
       "      <td>78</td>\n",
       "    </tr>\n",
       "    <tr>\n",
       "      <th>6714170</th>\n",
       "      <td>1340300014409</td>\n",
       "      <td>27/12/2016</td>\n",
       "      <td>RMA</td>\n",
       "      <td>3125998</td>\n",
       "      <td>22.15</td>\n",
       "      <td>31</td>\n",
       "    </tr>\n",
       "    <tr>\n",
       "      <th>6714171</th>\n",
       "      <td>1340300014438</td>\n",
       "      <td>27/12/2016</td>\n",
       "      <td>RMA</td>\n",
       "      <td>3252348</td>\n",
       "      <td>118.01</td>\n",
       "      <td>12</td>\n",
       "    </tr>\n",
       "    <tr>\n",
       "      <th>6714172</th>\n",
       "      <td>1340300014440</td>\n",
       "      <td>27/12/2016</td>\n",
       "      <td>RMA</td>\n",
       "      <td>3243933</td>\n",
       "      <td>44.80</td>\n",
       "      <td>4</td>\n",
       "    </tr>\n",
       "  </tbody>\n",
       "</table>\n",
       "<p>6714173 rows × 6 columns</p>\n",
       "</div>"
      ],
      "text/plain": [
       "              IDTICKET    TIC_DATE MAG_CODE  IDCLIENT  TIC_TOTALTTC  \\\n",
       "0          50100150510  02/01/2016      ALB   2995104         12.90   \n",
       "1          50100150511  02/01/2016      ALB   1411117        131.06   \n",
       "2          50100150515  02/01/2016      ALB    222592         34.69   \n",
       "3          50100150517  02/01/2016      ALB   2979958         97.58   \n",
       "4          50100150518  02/01/2016      ALB   2858676          4.70   \n",
       "...                ...         ...      ...       ...           ...   \n",
       "6714168  1340300014404  27/12/2016      RMA   2292927         59.45   \n",
       "6714169  1340300014407  27/12/2016      RMA   3189844         26.90   \n",
       "6714170  1340300014409  27/12/2016      RMA   3125998         22.15   \n",
       "6714171  1340300014438  27/12/2016      RMA   3252348        118.01   \n",
       "6714172  1340300014440  27/12/2016      RMA   3243933         44.80   \n",
       "\n",
       "         FREQUENCE_MAG  \n",
       "0                   35  \n",
       "1                    4  \n",
       "2                   21  \n",
       "3                   28  \n",
       "4                   11  \n",
       "...                ...  \n",
       "6714168              5  \n",
       "6714169             78  \n",
       "6714170             31  \n",
       "6714171             12  \n",
       "6714172              4  \n",
       "\n",
       "[6714173 rows x 6 columns]"
      ]
     },
     "execution_count": 57,
     "metadata": {},
     "output_type": "execute_result"
    }
   ],
   "source": [
    "data2"
   ]
  },
  {
   "cell_type": "code",
   "execution_count": 58,
   "id": "b8ced9b6af206f94",
   "metadata": {
    "ExecuteTime": {
     "end_time": "2024-06-01T13:32:48.488379Z",
     "start_time": "2024-06-01T13:32:48.456346Z"
    }
   },
   "outputs": [
    {
     "data": {
      "text/plain": [
       "FREQUENCE_MAG\n",
       "2      276456\n",
       "3      273510\n",
       "4      268312\n",
       "5      258610\n",
       "1      254447\n",
       "        ...  \n",
       "195       195\n",
       "190       190\n",
       "181       181\n",
       "180       180\n",
       "164       164\n",
       "Name: count, Length: 253, dtype: int64"
      ]
     },
     "execution_count": 58,
     "metadata": {},
     "output_type": "execute_result"
    }
   ],
   "source": [
    "data2['FREQUENCE_MAG'].value_counts()"
   ]
  },
  {
   "cell_type": "code",
   "execution_count": 59,
   "id": "3685d787d63937f3",
   "metadata": {
    "ExecuteTime": {
     "end_time": "2024-06-01T13:33:17.587113Z",
     "start_time": "2024-06-01T13:32:49.647069Z"
    }
   },
   "outputs": [],
   "source": [
    "data_merged=data3.merge(data2, how='right',left_on='IDTICKET', right_on='IDTICKET')"
   ]
  },
  {
   "cell_type": "code",
   "execution_count": 60,
   "id": "cdcc6036f2f37ef2",
   "metadata": {
    "ExecuteTime": {
     "end_time": "2024-06-01T13:33:19.903443Z",
     "start_time": "2024-06-01T13:33:19.893310Z"
    }
   },
   "outputs": [
    {
     "data": {
      "text/html": [
       "<div>\n",
       "<style scoped>\n",
       "    .dataframe tbody tr th:only-of-type {\n",
       "        vertical-align: middle;\n",
       "    }\n",
       "\n",
       "    .dataframe tbody tr th {\n",
       "        vertical-align: top;\n",
       "    }\n",
       "\n",
       "    .dataframe thead th {\n",
       "        text-align: right;\n",
       "    }\n",
       "</style>\n",
       "<table border=\"1\" class=\"dataframe\">\n",
       "  <thead>\n",
       "    <tr style=\"text-align: right;\">\n",
       "      <th></th>\n",
       "      <th>IDTICKET</th>\n",
       "      <th>NUMLIGNETICKET</th>\n",
       "      <th>IDARTICLE</th>\n",
       "      <th>QUANTITE</th>\n",
       "      <th>MONTANTREMISE</th>\n",
       "      <th>TOTAL</th>\n",
       "      <th>MARGESORTIE</th>\n",
       "      <th>TOP_RETOUR</th>\n",
       "      <th>TIC_DATE</th>\n",
       "      <th>MAG_CODE</th>\n",
       "      <th>IDCLIENT</th>\n",
       "      <th>TIC_TOTALTTC</th>\n",
       "      <th>FREQUENCE_MAG</th>\n",
       "    </tr>\n",
       "  </thead>\n",
       "  <tbody>\n",
       "    <tr>\n",
       "      <th>0</th>\n",
       "      <td>50100150510</td>\n",
       "      <td>1</td>\n",
       "      <td>224168</td>\n",
       "      <td>1.0</td>\n",
       "      <td>0.000</td>\n",
       "      <td>10.75</td>\n",
       "      <td>6.46</td>\n",
       "      <td>0.0</td>\n",
       "      <td>02/01/2016</td>\n",
       "      <td>ALB</td>\n",
       "      <td>2995104</td>\n",
       "      <td>12.90</td>\n",
       "      <td>35</td>\n",
       "    </tr>\n",
       "    <tr>\n",
       "      <th>1</th>\n",
       "      <td>50100150511</td>\n",
       "      <td>6</td>\n",
       "      <td>932088</td>\n",
       "      <td>1.0</td>\n",
       "      <td>0.000</td>\n",
       "      <td>6.25</td>\n",
       "      <td>6.25</td>\n",
       "      <td>0.0</td>\n",
       "      <td>02/01/2016</td>\n",
       "      <td>ALB</td>\n",
       "      <td>1411117</td>\n",
       "      <td>131.06</td>\n",
       "      <td>4</td>\n",
       "    </tr>\n",
       "    <tr>\n",
       "      <th>2</th>\n",
       "      <td>50100150511</td>\n",
       "      <td>2</td>\n",
       "      <td>397817</td>\n",
       "      <td>1.0</td>\n",
       "      <td>0.625</td>\n",
       "      <td>5.62</td>\n",
       "      <td>2.54</td>\n",
       "      <td>0.0</td>\n",
       "      <td>02/01/2016</td>\n",
       "      <td>ALB</td>\n",
       "      <td>1411117</td>\n",
       "      <td>131.06</td>\n",
       "      <td>4</td>\n",
       "    </tr>\n",
       "    <tr>\n",
       "      <th>3</th>\n",
       "      <td>50100150511</td>\n",
       "      <td>5</td>\n",
       "      <td>758445</td>\n",
       "      <td>1.0</td>\n",
       "      <td>3.158</td>\n",
       "      <td>28.42</td>\n",
       "      <td>14.28</td>\n",
       "      <td>0.0</td>\n",
       "      <td>02/01/2016</td>\n",
       "      <td>ALB</td>\n",
       "      <td>1411117</td>\n",
       "      <td>131.06</td>\n",
       "      <td>4</td>\n",
       "    </tr>\n",
       "    <tr>\n",
       "      <th>4</th>\n",
       "      <td>50100150511</td>\n",
       "      <td>3</td>\n",
       "      <td>428877</td>\n",
       "      <td>1.0</td>\n",
       "      <td>0.333</td>\n",
       "      <td>2.96</td>\n",
       "      <td>0.94</td>\n",
       "      <td>0.0</td>\n",
       "      <td>02/01/2016</td>\n",
       "      <td>ALB</td>\n",
       "      <td>1411117</td>\n",
       "      <td>131.06</td>\n",
       "      <td>4</td>\n",
       "    </tr>\n",
       "    <tr>\n",
       "      <th>...</th>\n",
       "      <td>...</td>\n",
       "      <td>...</td>\n",
       "      <td>...</td>\n",
       "      <td>...</td>\n",
       "      <td>...</td>\n",
       "      <td>...</td>\n",
       "      <td>...</td>\n",
       "      <td>...</td>\n",
       "      <td>...</td>\n",
       "      <td>...</td>\n",
       "      <td>...</td>\n",
       "      <td>...</td>\n",
       "      <td>...</td>\n",
       "    </tr>\n",
       "    <tr>\n",
       "      <th>34105921</th>\n",
       "      <td>1340300014438</td>\n",
       "      <td>4</td>\n",
       "      <td>279749</td>\n",
       "      <td>1.0</td>\n",
       "      <td>0.750</td>\n",
       "      <td>6.71</td>\n",
       "      <td>3.08</td>\n",
       "      <td>0.0</td>\n",
       "      <td>27/12/2016</td>\n",
       "      <td>RMA</td>\n",
       "      <td>3252348</td>\n",
       "      <td>118.01</td>\n",
       "      <td>12</td>\n",
       "    </tr>\n",
       "    <tr>\n",
       "      <th>34105922</th>\n",
       "      <td>1340300014438</td>\n",
       "      <td>10</td>\n",
       "      <td>287843</td>\n",
       "      <td>4.0</td>\n",
       "      <td>10.950</td>\n",
       "      <td>25.55</td>\n",
       "      <td>10.63</td>\n",
       "      <td>0.0</td>\n",
       "      <td>27/12/2016</td>\n",
       "      <td>RMA</td>\n",
       "      <td>3252348</td>\n",
       "      <td>118.01</td>\n",
       "      <td>12</td>\n",
       "    </tr>\n",
       "    <tr>\n",
       "      <th>34105923</th>\n",
       "      <td>1340300014440</td>\n",
       "      <td>2</td>\n",
       "      <td>363834</td>\n",
       "      <td>1.0</td>\n",
       "      <td>0.000</td>\n",
       "      <td>19.95</td>\n",
       "      <td>10.40</td>\n",
       "      <td>0.0</td>\n",
       "      <td>27/12/2016</td>\n",
       "      <td>RMA</td>\n",
       "      <td>3243933</td>\n",
       "      <td>44.80</td>\n",
       "      <td>4</td>\n",
       "    </tr>\n",
       "    <tr>\n",
       "      <th>34105924</th>\n",
       "      <td>1340300014440</td>\n",
       "      <td>3</td>\n",
       "      <td>632190</td>\n",
       "      <td>1.0</td>\n",
       "      <td>0.000</td>\n",
       "      <td>19.95</td>\n",
       "      <td>10.49</td>\n",
       "      <td>0.0</td>\n",
       "      <td>27/12/2016</td>\n",
       "      <td>RMA</td>\n",
       "      <td>3243933</td>\n",
       "      <td>44.80</td>\n",
       "      <td>4</td>\n",
       "    </tr>\n",
       "    <tr>\n",
       "      <th>34105925</th>\n",
       "      <td>1340300014440</td>\n",
       "      <td>1</td>\n",
       "      <td>254879</td>\n",
       "      <td>1.0</td>\n",
       "      <td>0.000</td>\n",
       "      <td>0.75</td>\n",
       "      <td>0.10</td>\n",
       "      <td>0.0</td>\n",
       "      <td>27/12/2016</td>\n",
       "      <td>RMA</td>\n",
       "      <td>3243933</td>\n",
       "      <td>44.80</td>\n",
       "      <td>4</td>\n",
       "    </tr>\n",
       "  </tbody>\n",
       "</table>\n",
       "<p>34105926 rows × 13 columns</p>\n",
       "</div>"
      ],
      "text/plain": [
       "               IDTICKET NUMLIGNETICKET IDARTICLE  QUANTITE  MONTANTREMISE  \\\n",
       "0           50100150510              1    224168       1.0          0.000   \n",
       "1           50100150511              6    932088       1.0          0.000   \n",
       "2           50100150511              2    397817       1.0          0.625   \n",
       "3           50100150511              5    758445       1.0          3.158   \n",
       "4           50100150511              3    428877       1.0          0.333   \n",
       "...                 ...            ...       ...       ...            ...   \n",
       "34105921  1340300014438              4    279749       1.0          0.750   \n",
       "34105922  1340300014438             10    287843       4.0         10.950   \n",
       "34105923  1340300014440              2    363834       1.0          0.000   \n",
       "34105924  1340300014440              3    632190       1.0          0.000   \n",
       "34105925  1340300014440              1    254879       1.0          0.000   \n",
       "\n",
       "          TOTAL  MARGESORTIE  TOP_RETOUR    TIC_DATE MAG_CODE  IDCLIENT  \\\n",
       "0         10.75         6.46         0.0  02/01/2016      ALB   2995104   \n",
       "1          6.25         6.25         0.0  02/01/2016      ALB   1411117   \n",
       "2          5.62         2.54         0.0  02/01/2016      ALB   1411117   \n",
       "3         28.42        14.28         0.0  02/01/2016      ALB   1411117   \n",
       "4          2.96         0.94         0.0  02/01/2016      ALB   1411117   \n",
       "...         ...          ...         ...         ...      ...       ...   \n",
       "34105921   6.71         3.08         0.0  27/12/2016      RMA   3252348   \n",
       "34105922  25.55        10.63         0.0  27/12/2016      RMA   3252348   \n",
       "34105923  19.95        10.40         0.0  27/12/2016      RMA   3243933   \n",
       "34105924  19.95        10.49         0.0  27/12/2016      RMA   3243933   \n",
       "34105925   0.75         0.10         0.0  27/12/2016      RMA   3243933   \n",
       "\n",
       "          TIC_TOTALTTC  FREQUENCE_MAG  \n",
       "0                12.90             35  \n",
       "1               131.06              4  \n",
       "2               131.06              4  \n",
       "3               131.06              4  \n",
       "4               131.06              4  \n",
       "...                ...            ...  \n",
       "34105921        118.01             12  \n",
       "34105922        118.01             12  \n",
       "34105923         44.80              4  \n",
       "34105924         44.80              4  \n",
       "34105925         44.80              4  \n",
       "\n",
       "[34105926 rows x 13 columns]"
      ]
     },
     "execution_count": 60,
     "metadata": {},
     "output_type": "execute_result"
    }
   ],
   "source": [
    "data_merged"
   ]
  },
  {
   "cell_type": "code",
   "execution_count": 61,
   "id": "33342525debba1bc",
   "metadata": {
    "ExecuteTime": {
     "end_time": "2024-06-01T13:33:26.320694Z",
     "start_time": "2024-06-01T13:33:26.314074Z"
    }
   },
   "outputs": [
    {
     "name": "stdout",
     "output_type": "stream",
     "text": [
      "<class 'pandas.core.frame.DataFrame'>\n",
      "RangeIndex: 34105926 entries, 0 to 34105925\n",
      "Data columns (total 13 columns):\n",
      " #   Column          Dtype  \n",
      "---  ------          -----  \n",
      " 0   IDTICKET        object \n",
      " 1   NUMLIGNETICKET  object \n",
      " 2   IDARTICLE       object \n",
      " 3   QUANTITE        float64\n",
      " 4   MONTANTREMISE   float64\n",
      " 5   TOTAL           float64\n",
      " 6   MARGESORTIE     float64\n",
      " 7   TOP_RETOUR      float64\n",
      " 8   TIC_DATE        object \n",
      " 9   MAG_CODE        object \n",
      " 10  IDCLIENT        int32  \n",
      " 11  TIC_TOTALTTC    float64\n",
      " 12  FREQUENCE_MAG   int64  \n",
      "dtypes: float64(6), int32(1), int64(1), object(5)\n",
      "memory usage: 3.2+ GB\n"
     ]
    }
   ],
   "source": [
    "data_merged.info()"
   ]
  },
  {
   "cell_type": "code",
   "execution_count": 62,
   "id": "aeec65230a7a0cd6",
   "metadata": {
    "ExecuteTime": {
     "end_time": "2024-06-01T13:33:49.618039Z",
     "start_time": "2024-06-01T13:33:27.401791Z"
    }
   },
   "outputs": [],
   "source": [
    "# Calcul de la variété du panier par client\n",
    "VARIETE_PANIER = data_merged.groupby('IDCLIENT')['IDARTICLE'].nunique().reset_index()\n",
    "VARIETE_PANIER.columns = ['IDCLIENT', 'VARIETE_PANIER']\n",
    "\n",
    "# Fusionner la variable de variété du panier avec le DataFrame original\n",
    "data_merged = data_merged.merge(VARIETE_PANIER, on='IDCLIENT', how='right')"
   ]
  },
  {
   "cell_type": "code",
   "execution_count": 63,
   "id": "90cad6f02a249717",
   "metadata": {
    "ExecuteTime": {
     "end_time": "2024-06-01T13:33:53.220960Z",
     "start_time": "2024-06-01T13:33:53.206768Z"
    }
   },
   "outputs": [
    {
     "data": {
      "text/html": [
       "<div>\n",
       "<style scoped>\n",
       "    .dataframe tbody tr th:only-of-type {\n",
       "        vertical-align: middle;\n",
       "    }\n",
       "\n",
       "    .dataframe tbody tr th {\n",
       "        vertical-align: top;\n",
       "    }\n",
       "\n",
       "    .dataframe thead th {\n",
       "        text-align: right;\n",
       "    }\n",
       "</style>\n",
       "<table border=\"1\" class=\"dataframe\">\n",
       "  <thead>\n",
       "    <tr style=\"text-align: right;\">\n",
       "      <th></th>\n",
       "      <th>IDTICKET</th>\n",
       "      <th>NUMLIGNETICKET</th>\n",
       "      <th>IDARTICLE</th>\n",
       "      <th>QUANTITE</th>\n",
       "      <th>MONTANTREMISE</th>\n",
       "      <th>TOTAL</th>\n",
       "      <th>MARGESORTIE</th>\n",
       "      <th>TOP_RETOUR</th>\n",
       "      <th>TIC_DATE</th>\n",
       "      <th>MAG_CODE</th>\n",
       "      <th>IDCLIENT</th>\n",
       "      <th>TIC_TOTALTTC</th>\n",
       "      <th>FREQUENCE_MAG</th>\n",
       "      <th>VARIETE_PANIER</th>\n",
       "    </tr>\n",
       "  </thead>\n",
       "  <tbody>\n",
       "    <tr>\n",
       "      <th>0</th>\n",
       "      <td>200200135291</td>\n",
       "      <td>3</td>\n",
       "      <td>33258</td>\n",
       "      <td>1.0</td>\n",
       "      <td>0.000</td>\n",
       "      <td>0.91</td>\n",
       "      <td>0.54</td>\n",
       "      <td>0.0</td>\n",
       "      <td>05/02/2016</td>\n",
       "      <td>IAB</td>\n",
       "      <td>2108</td>\n",
       "      <td>7.57</td>\n",
       "      <td>2</td>\n",
       "      <td>7</td>\n",
       "    </tr>\n",
       "    <tr>\n",
       "      <th>1</th>\n",
       "      <td>200200135291</td>\n",
       "      <td>2</td>\n",
       "      <td>33247</td>\n",
       "      <td>1.0</td>\n",
       "      <td>0.000</td>\n",
       "      <td>1.24</td>\n",
       "      <td>0.72</td>\n",
       "      <td>0.0</td>\n",
       "      <td>05/02/2016</td>\n",
       "      <td>IAB</td>\n",
       "      <td>2108</td>\n",
       "      <td>7.57</td>\n",
       "      <td>2</td>\n",
       "      <td>7</td>\n",
       "    </tr>\n",
       "    <tr>\n",
       "      <th>2</th>\n",
       "      <td>200200135291</td>\n",
       "      <td>1</td>\n",
       "      <td>227040</td>\n",
       "      <td>1.0</td>\n",
       "      <td>1.782</td>\n",
       "      <td>4.54</td>\n",
       "      <td>1.56</td>\n",
       "      <td>0.0</td>\n",
       "      <td>05/02/2016</td>\n",
       "      <td>IAB</td>\n",
       "      <td>2108</td>\n",
       "      <td>7.57</td>\n",
       "      <td>2</td>\n",
       "      <td>7</td>\n",
       "    </tr>\n",
       "    <tr>\n",
       "      <th>3</th>\n",
       "      <td>200500180521</td>\n",
       "      <td>1</td>\n",
       "      <td>312922</td>\n",
       "      <td>1.0</td>\n",
       "      <td>0.545</td>\n",
       "      <td>4.86</td>\n",
       "      <td>2.71</td>\n",
       "      <td>0.0</td>\n",
       "      <td>08/05/2016</td>\n",
       "      <td>IAB</td>\n",
       "      <td>2108</td>\n",
       "      <td>20.58</td>\n",
       "      <td>2</td>\n",
       "      <td>7</td>\n",
       "    </tr>\n",
       "    <tr>\n",
       "      <th>4</th>\n",
       "      <td>200500180521</td>\n",
       "      <td>4</td>\n",
       "      <td>932088</td>\n",
       "      <td>1.0</td>\n",
       "      <td>0.000</td>\n",
       "      <td>6.25</td>\n",
       "      <td>6.25</td>\n",
       "      <td>0.0</td>\n",
       "      <td>08/05/2016</td>\n",
       "      <td>IAB</td>\n",
       "      <td>2108</td>\n",
       "      <td>20.58</td>\n",
       "      <td>2</td>\n",
       "      <td>7</td>\n",
       "    </tr>\n",
       "    <tr>\n",
       "      <th>...</th>\n",
       "      <td>...</td>\n",
       "      <td>...</td>\n",
       "      <td>...</td>\n",
       "      <td>...</td>\n",
       "      <td>...</td>\n",
       "      <td>...</td>\n",
       "      <td>...</td>\n",
       "      <td>...</td>\n",
       "      <td>...</td>\n",
       "      <td>...</td>\n",
       "      <td>...</td>\n",
       "      <td>...</td>\n",
       "      <td>...</td>\n",
       "      <td>...</td>\n",
       "    </tr>\n",
       "    <tr>\n",
       "      <th>34105921</th>\n",
       "      <td>770100547217</td>\n",
       "      <td>6</td>\n",
       "      <td>217360</td>\n",
       "      <td>1.0</td>\n",
       "      <td>0.227</td>\n",
       "      <td>2.09</td>\n",
       "      <td>0.32</td>\n",
       "      <td>0.0</td>\n",
       "      <td>31/12/2017</td>\n",
       "      <td>PEG</td>\n",
       "      <td>3517102</td>\n",
       "      <td>55.67</td>\n",
       "      <td>1</td>\n",
       "      <td>10</td>\n",
       "    </tr>\n",
       "    <tr>\n",
       "      <th>34105922</th>\n",
       "      <td>770100547217</td>\n",
       "      <td>7</td>\n",
       "      <td>33257</td>\n",
       "      <td>1.0</td>\n",
       "      <td>0.075</td>\n",
       "      <td>0.67</td>\n",
       "      <td>0.39</td>\n",
       "      <td>0.0</td>\n",
       "      <td>31/12/2017</td>\n",
       "      <td>PEG</td>\n",
       "      <td>3517102</td>\n",
       "      <td>55.67</td>\n",
       "      <td>1</td>\n",
       "      <td>10</td>\n",
       "    </tr>\n",
       "    <tr>\n",
       "      <th>34105923</th>\n",
       "      <td>770100547217</td>\n",
       "      <td>8</td>\n",
       "      <td>33247</td>\n",
       "      <td>1.0</td>\n",
       "      <td>0.133</td>\n",
       "      <td>1.16</td>\n",
       "      <td>0.64</td>\n",
       "      <td>0.0</td>\n",
       "      <td>31/12/2017</td>\n",
       "      <td>PEG</td>\n",
       "      <td>3517102</td>\n",
       "      <td>55.67</td>\n",
       "      <td>1</td>\n",
       "      <td>10</td>\n",
       "    </tr>\n",
       "    <tr>\n",
       "      <th>34105924</th>\n",
       "      <td>770100547217</td>\n",
       "      <td>9</td>\n",
       "      <td>58830</td>\n",
       "      <td>1.0</td>\n",
       "      <td>0.275</td>\n",
       "      <td>2.47</td>\n",
       "      <td>0.85</td>\n",
       "      <td>0.0</td>\n",
       "      <td>31/12/2017</td>\n",
       "      <td>PEG</td>\n",
       "      <td>3517102</td>\n",
       "      <td>55.67</td>\n",
       "      <td>1</td>\n",
       "      <td>10</td>\n",
       "    </tr>\n",
       "    <tr>\n",
       "      <th>34105925</th>\n",
       "      <td>770100547217</td>\n",
       "      <td>10</td>\n",
       "      <td>932088</td>\n",
       "      <td>1.0</td>\n",
       "      <td>0.000</td>\n",
       "      <td>6.25</td>\n",
       "      <td>6.25</td>\n",
       "      <td>0.0</td>\n",
       "      <td>31/12/2017</td>\n",
       "      <td>PEG</td>\n",
       "      <td>3517102</td>\n",
       "      <td>55.67</td>\n",
       "      <td>1</td>\n",
       "      <td>10</td>\n",
       "    </tr>\n",
       "  </tbody>\n",
       "</table>\n",
       "<p>34105926 rows × 14 columns</p>\n",
       "</div>"
      ],
      "text/plain": [
       "              IDTICKET NUMLIGNETICKET IDARTICLE  QUANTITE  MONTANTREMISE  \\\n",
       "0         200200135291              3     33258       1.0          0.000   \n",
       "1         200200135291              2     33247       1.0          0.000   \n",
       "2         200200135291              1    227040       1.0          1.782   \n",
       "3         200500180521              1    312922       1.0          0.545   \n",
       "4         200500180521              4    932088       1.0          0.000   \n",
       "...                ...            ...       ...       ...            ...   \n",
       "34105921  770100547217              6    217360       1.0          0.227   \n",
       "34105922  770100547217              7     33257       1.0          0.075   \n",
       "34105923  770100547217              8     33247       1.0          0.133   \n",
       "34105924  770100547217              9     58830       1.0          0.275   \n",
       "34105925  770100547217             10    932088       1.0          0.000   \n",
       "\n",
       "          TOTAL  MARGESORTIE  TOP_RETOUR    TIC_DATE MAG_CODE  IDCLIENT  \\\n",
       "0          0.91         0.54         0.0  05/02/2016      IAB      2108   \n",
       "1          1.24         0.72         0.0  05/02/2016      IAB      2108   \n",
       "2          4.54         1.56         0.0  05/02/2016      IAB      2108   \n",
       "3          4.86         2.71         0.0  08/05/2016      IAB      2108   \n",
       "4          6.25         6.25         0.0  08/05/2016      IAB      2108   \n",
       "...         ...          ...         ...         ...      ...       ...   \n",
       "34105921   2.09         0.32         0.0  31/12/2017      PEG   3517102   \n",
       "34105922   0.67         0.39         0.0  31/12/2017      PEG   3517102   \n",
       "34105923   1.16         0.64         0.0  31/12/2017      PEG   3517102   \n",
       "34105924   2.47         0.85         0.0  31/12/2017      PEG   3517102   \n",
       "34105925   6.25         6.25         0.0  31/12/2017      PEG   3517102   \n",
       "\n",
       "          TIC_TOTALTTC  FREQUENCE_MAG  VARIETE_PANIER  \n",
       "0                 7.57              2               7  \n",
       "1                 7.57              2               7  \n",
       "2                 7.57              2               7  \n",
       "3                20.58              2               7  \n",
       "4                20.58              2               7  \n",
       "...                ...            ...             ...  \n",
       "34105921         55.67              1              10  \n",
       "34105922         55.67              1              10  \n",
       "34105923         55.67              1              10  \n",
       "34105924         55.67              1              10  \n",
       "34105925         55.67              1              10  \n",
       "\n",
       "[34105926 rows x 14 columns]"
      ]
     },
     "execution_count": 63,
     "metadata": {},
     "output_type": "execute_result"
    }
   ],
   "source": [
    "data_merged"
   ]
  },
  {
   "cell_type": "code",
   "execution_count": 64,
   "id": "e8ec95482d4a48d8",
   "metadata": {
    "ExecuteTime": {
     "end_time": "2024-06-01T13:33:55.153169Z",
     "start_time": "2024-06-01T13:33:55.060068Z"
    }
   },
   "outputs": [
    {
     "data": {
      "text/plain": [
       "VARIETE_PANIER\n",
       "27     291932\n",
       "22     291685\n",
       "20     291132\n",
       "24     290634\n",
       "23     290262\n",
       "        ...  \n",
       "588       823\n",
       "612       761\n",
       "601       688\n",
       "471       673\n",
       "537       661\n",
       "Name: count, Length: 732, dtype: int64"
      ]
     },
     "execution_count": 64,
     "metadata": {},
     "output_type": "execute_result"
    }
   ],
   "source": [
    "data_merged['VARIETE_PANIER'].value_counts()"
   ]
  },
  {
   "cell_type": "code",
   "execution_count": 65,
   "id": "73e26a7f5ca7ed46",
   "metadata": {
    "ExecuteTime": {
     "end_time": "2024-06-01T13:33:56.054397Z",
     "start_time": "2024-06-01T13:33:56.048282Z"
    }
   },
   "outputs": [],
   "source": [
    "VARIETE_PANIER = VARIETE_PANIER.astype(int)"
   ]
  },
  {
   "cell_type": "code",
   "execution_count": 66,
   "id": "429eb5ad711656a9",
   "metadata": {
    "ExecuteTime": {
     "end_time": "2024-06-01T13:34:02.206074Z",
     "start_time": "2024-06-01T13:33:57.084177Z"
    }
   },
   "outputs": [],
   "source": [
    "# Calculer le montant total de remises par client\n",
    "TOTAL_REMISE_CLIENT = data_merged.groupby('IDCLIENT')['MONTANTREMISE'].sum()\n",
    "\n",
    "# Calculer le montant total dépensé par chaque client\n",
    "TOTAL_DEPENSES = data_merged.groupby('IDCLIENT')['TOTAL'].sum()\n",
    "\n",
    "# Calculer le taux de remise pour chaque client\n",
    "TAUX_REMISE = TOTAL_REMISE_CLIENT / TOTAL_DEPENSES\n",
    "# Nommer la série de taux de remise\n",
    "TAUX_REMISE.name = 'TAUX_REMISE'\n",
    "\n",
    "# Fusionner la variable de taux de remise avec le DataFrame original\n",
    "data_merged = data_merged.merge(TAUX_REMISE, on='IDCLIENT', how='left')"
   ]
  },
  {
   "cell_type": "code",
   "execution_count": null,
   "id": "6791e118",
   "metadata": {},
   "outputs": [],
   "source": []
  },
  {
   "cell_type": "code",
   "execution_count": 81,
   "id": "97b9e069",
   "metadata": {},
   "outputs": [
    {
     "name": "stderr",
     "output_type": "stream",
     "text": [
      "C:\\Users\\belga\\AppData\\Local\\Temp\\ipykernel_71744\\2006738509.py:1: FutureWarning: The provided callable <built-in function sum> is currently using SeriesGroupBy.sum. In a future version of pandas, the provided callable will be used directly. To keep current behavior pass the string \"sum\" instead.\n",
      "  test = data_merged.groupby('IDCLIENT').agg(\n"
     ]
    }
   ],
   "source": [
    "test = data_merged.groupby('IDCLIENT').agg(\n",
    "    {'MONTANTREMISE' :sum,\n",
    "     'TOTAL':sum}).reset_index()\n"
   ]
  },
  {
   "cell_type": "code",
   "execution_count": 86,
   "id": "1e0ce1ed",
   "metadata": {},
   "outputs": [
    {
     "data": {
      "text/html": [
       "<div>\n",
       "<style scoped>\n",
       "    .dataframe tbody tr th:only-of-type {\n",
       "        vertical-align: middle;\n",
       "    }\n",
       "\n",
       "    .dataframe tbody tr th {\n",
       "        vertical-align: top;\n",
       "    }\n",
       "\n",
       "    .dataframe thead th {\n",
       "        text-align: right;\n",
       "    }\n",
       "</style>\n",
       "<table border=\"1\" class=\"dataframe\">\n",
       "  <thead>\n",
       "    <tr style=\"text-align: right;\">\n",
       "      <th></th>\n",
       "      <th>IDCLIENT</th>\n",
       "      <th>MONTANTREMISE</th>\n",
       "      <th>TOTAL</th>\n",
       "      <th>TAUX_REMISE</th>\n",
       "    </tr>\n",
       "  </thead>\n",
       "  <tbody>\n",
       "    <tr>\n",
       "      <th>0</th>\n",
       "      <td>2108</td>\n",
       "      <td>3.109</td>\n",
       "      <td>24.83</td>\n",
       "      <td>0.125211</td>\n",
       "    </tr>\n",
       "    <tr>\n",
       "      <th>1</th>\n",
       "      <td>2119</td>\n",
       "      <td>756.250</td>\n",
       "      <td>6383.37</td>\n",
       "      <td>0.118472</td>\n",
       "    </tr>\n",
       "    <tr>\n",
       "      <th>2</th>\n",
       "      <td>2127</td>\n",
       "      <td>22.653</td>\n",
       "      <td>397.72</td>\n",
       "      <td>0.056957</td>\n",
       "    </tr>\n",
       "    <tr>\n",
       "      <th>3</th>\n",
       "      <td>2130</td>\n",
       "      <td>100.180</td>\n",
       "      <td>946.36</td>\n",
       "      <td>0.105858</td>\n",
       "    </tr>\n",
       "    <tr>\n",
       "      <th>4</th>\n",
       "      <td>2131</td>\n",
       "      <td>95.713</td>\n",
       "      <td>2150.88</td>\n",
       "      <td>0.044499</td>\n",
       "    </tr>\n",
       "  </tbody>\n",
       "</table>\n",
       "</div>"
      ],
      "text/plain": [
       "   IDCLIENT  MONTANTREMISE    TOTAL  TAUX_REMISE\n",
       "0      2108          3.109    24.83     0.125211\n",
       "1      2119        756.250  6383.37     0.118472\n",
       "2      2127         22.653   397.72     0.056957\n",
       "3      2130        100.180   946.36     0.105858\n",
       "4      2131         95.713  2150.88     0.044499"
      ]
     },
     "execution_count": 86,
     "metadata": {},
     "output_type": "execute_result"
    }
   ],
   "source": [
    "test.head()"
   ]
  },
  {
   "cell_type": "code",
   "execution_count": 85,
   "id": "06a1ab80",
   "metadata": {},
   "outputs": [],
   "source": [
    "test[\"TAUX_REMISE\"] = test[\"MONTANTREMISE\"] / test[\"TOTAL\"]\n"
   ]
  },
  {
   "cell_type": "code",
   "execution_count": 79,
   "id": "14d6e0eb",
   "metadata": {},
   "outputs": [
    {
     "data": {
      "text/html": [
       "<div>\n",
       "<style scoped>\n",
       "    .dataframe tbody tr th:only-of-type {\n",
       "        vertical-align: middle;\n",
       "    }\n",
       "\n",
       "    .dataframe tbody tr th {\n",
       "        vertical-align: top;\n",
       "    }\n",
       "\n",
       "    .dataframe thead th {\n",
       "        text-align: right;\n",
       "    }\n",
       "</style>\n",
       "<table border=\"1\" class=\"dataframe\">\n",
       "  <thead>\n",
       "    <tr style=\"text-align: right;\">\n",
       "      <th></th>\n",
       "      <th>MONTANTREMISE</th>\n",
       "      <th>TOTAL</th>\n",
       "    </tr>\n",
       "    <tr>\n",
       "      <th>IDCLIENT</th>\n",
       "      <th></th>\n",
       "      <th></th>\n",
       "    </tr>\n",
       "  </thead>\n",
       "  <tbody>\n",
       "    <tr>\n",
       "      <th>2108</th>\n",
       "      <td>3.109</td>\n",
       "      <td>24.83</td>\n",
       "    </tr>\n",
       "    <tr>\n",
       "      <th>2119</th>\n",
       "      <td>756.250</td>\n",
       "      <td>6383.37</td>\n",
       "    </tr>\n",
       "    <tr>\n",
       "      <th>2127</th>\n",
       "      <td>22.653</td>\n",
       "      <td>397.72</td>\n",
       "    </tr>\n",
       "    <tr>\n",
       "      <th>2130</th>\n",
       "      <td>100.180</td>\n",
       "      <td>946.36</td>\n",
       "    </tr>\n",
       "    <tr>\n",
       "      <th>2131</th>\n",
       "      <td>95.713</td>\n",
       "      <td>2150.88</td>\n",
       "    </tr>\n",
       "  </tbody>\n",
       "</table>\n",
       "</div>"
      ],
      "text/plain": [
       "          MONTANTREMISE    TOTAL\n",
       "IDCLIENT                        \n",
       "2108              3.109    24.83\n",
       "2119            756.250  6383.37\n",
       "2127             22.653   397.72\n",
       "2130            100.180   946.36\n",
       "2131             95.713  2150.88"
      ]
     },
     "execution_count": 79,
     "metadata": {},
     "output_type": "execute_result"
    }
   ],
   "source": [
    "test.head()"
   ]
  },
  {
   "cell_type": "code",
   "execution_count": 73,
   "id": "9b321866",
   "metadata": {},
   "outputs": [
    {
     "data": {
      "text/plain": [
       "IDCLIENT\n",
       "2108    0.125211\n",
       "2119    0.118472\n",
       "2127    0.056957\n",
       "2130    0.105858\n",
       "2131    0.044499\n",
       "Name: TAUX_REMISE, dtype: float64"
      ]
     },
     "execution_count": 73,
     "metadata": {},
     "output_type": "execute_result"
    }
   ],
   "source": [
    "TAUX_REMISE.head()"
   ]
  },
  {
   "cell_type": "code",
   "execution_count": 67,
   "id": "cc4c446be5a6720f",
   "metadata": {
    "ExecuteTime": {
     "end_time": "2024-06-01T13:34:05.550427Z",
     "start_time": "2024-06-01T13:34:05.246014Z"
    }
   },
   "outputs": [
    {
     "data": {
      "text/plain": [
       "TAUX_REMISE\n",
       "0.000000    323683\n",
       "0.013617      5570\n",
       "0.255264      4729\n",
       "0.023054      4229\n",
       "0.013317      4209\n",
       "             ...  \n",
       "0.250304         1\n",
       "0.176282         1\n",
       "0.333811         1\n",
       "0.530626         1\n",
       "0.250030         1\n",
       "Name: count, Length: 706980, dtype: int64"
      ]
     },
     "execution_count": 67,
     "metadata": {},
     "output_type": "execute_result"
    }
   ],
   "source": [
    "data_merged['TAUX_REMISE'].value_counts()"
   ]
  },
  {
   "cell_type": "code",
   "execution_count": 74,
   "id": "7b5ef50d",
   "metadata": {},
   "outputs": [
    {
     "data": {
      "text/html": [
       "<div>\n",
       "<style scoped>\n",
       "    .dataframe tbody tr th:only-of-type {\n",
       "        vertical-align: middle;\n",
       "    }\n",
       "\n",
       "    .dataframe tbody tr th {\n",
       "        vertical-align: top;\n",
       "    }\n",
       "\n",
       "    .dataframe thead th {\n",
       "        text-align: right;\n",
       "    }\n",
       "</style>\n",
       "<table border=\"1\" class=\"dataframe\">\n",
       "  <thead>\n",
       "    <tr style=\"text-align: right;\">\n",
       "      <th></th>\n",
       "      <th>IDTICKET</th>\n",
       "      <th>NUMLIGNETICKET</th>\n",
       "      <th>IDARTICLE</th>\n",
       "      <th>QUANTITE</th>\n",
       "      <th>MONTANTREMISE</th>\n",
       "      <th>TOTAL</th>\n",
       "      <th>MARGESORTIE</th>\n",
       "      <th>TOP_RETOUR</th>\n",
       "      <th>TIC_DATE</th>\n",
       "      <th>MAG_CODE</th>\n",
       "      <th>IDCLIENT</th>\n",
       "      <th>TIC_TOTALTTC</th>\n",
       "      <th>FREQUENCE_MAG</th>\n",
       "      <th>VARIETE_PANIER</th>\n",
       "      <th>TAUX_REMISE</th>\n",
       "      <th>ANCIENNETE_PRE_CDE</th>\n",
       "      <th>ANCIENNETE_DRE_CDE</th>\n",
       "    </tr>\n",
       "  </thead>\n",
       "  <tbody>\n",
       "    <tr>\n",
       "      <th>0</th>\n",
       "      <td>200200135291</td>\n",
       "      <td>3</td>\n",
       "      <td>33258</td>\n",
       "      <td>1.0</td>\n",
       "      <td>0.000</td>\n",
       "      <td>0.91</td>\n",
       "      <td>0.54</td>\n",
       "      <td>0.0</td>\n",
       "      <td>2016-05-02</td>\n",
       "      <td>IAB</td>\n",
       "      <td>2108</td>\n",
       "      <td>7.57</td>\n",
       "      <td>2</td>\n",
       "      <td>7</td>\n",
       "      <td>0.125211</td>\n",
       "      <td>0.0</td>\n",
       "      <td>95.0</td>\n",
       "    </tr>\n",
       "    <tr>\n",
       "      <th>1</th>\n",
       "      <td>200200135291</td>\n",
       "      <td>2</td>\n",
       "      <td>33247</td>\n",
       "      <td>1.0</td>\n",
       "      <td>0.000</td>\n",
       "      <td>1.24</td>\n",
       "      <td>0.72</td>\n",
       "      <td>0.0</td>\n",
       "      <td>2016-05-02</td>\n",
       "      <td>IAB</td>\n",
       "      <td>2108</td>\n",
       "      <td>7.57</td>\n",
       "      <td>2</td>\n",
       "      <td>7</td>\n",
       "      <td>0.125211</td>\n",
       "      <td>0.0</td>\n",
       "      <td>95.0</td>\n",
       "    </tr>\n",
       "    <tr>\n",
       "      <th>2</th>\n",
       "      <td>200200135291</td>\n",
       "      <td>1</td>\n",
       "      <td>227040</td>\n",
       "      <td>1.0</td>\n",
       "      <td>1.782</td>\n",
       "      <td>4.54</td>\n",
       "      <td>1.56</td>\n",
       "      <td>0.0</td>\n",
       "      <td>2016-05-02</td>\n",
       "      <td>IAB</td>\n",
       "      <td>2108</td>\n",
       "      <td>7.57</td>\n",
       "      <td>2</td>\n",
       "      <td>7</td>\n",
       "      <td>0.125211</td>\n",
       "      <td>0.0</td>\n",
       "      <td>95.0</td>\n",
       "    </tr>\n",
       "    <tr>\n",
       "      <th>3</th>\n",
       "      <td>200500180521</td>\n",
       "      <td>1</td>\n",
       "      <td>312922</td>\n",
       "      <td>1.0</td>\n",
       "      <td>0.545</td>\n",
       "      <td>4.86</td>\n",
       "      <td>2.71</td>\n",
       "      <td>0.0</td>\n",
       "      <td>2016-08-05</td>\n",
       "      <td>IAB</td>\n",
       "      <td>2108</td>\n",
       "      <td>20.58</td>\n",
       "      <td>2</td>\n",
       "      <td>7</td>\n",
       "      <td>0.125211</td>\n",
       "      <td>95.0</td>\n",
       "      <td>0.0</td>\n",
       "    </tr>\n",
       "    <tr>\n",
       "      <th>4</th>\n",
       "      <td>200500180521</td>\n",
       "      <td>4</td>\n",
       "      <td>932088</td>\n",
       "      <td>1.0</td>\n",
       "      <td>0.000</td>\n",
       "      <td>6.25</td>\n",
       "      <td>6.25</td>\n",
       "      <td>0.0</td>\n",
       "      <td>2016-08-05</td>\n",
       "      <td>IAB</td>\n",
       "      <td>2108</td>\n",
       "      <td>20.58</td>\n",
       "      <td>2</td>\n",
       "      <td>7</td>\n",
       "      <td>0.125211</td>\n",
       "      <td>95.0</td>\n",
       "      <td>0.0</td>\n",
       "    </tr>\n",
       "  </tbody>\n",
       "</table>\n",
       "</div>"
      ],
      "text/plain": [
       "       IDTICKET NUMLIGNETICKET IDARTICLE  QUANTITE  MONTANTREMISE  TOTAL  \\\n",
       "0  200200135291              3     33258       1.0          0.000   0.91   \n",
       "1  200200135291              2     33247       1.0          0.000   1.24   \n",
       "2  200200135291              1    227040       1.0          1.782   4.54   \n",
       "3  200500180521              1    312922       1.0          0.545   4.86   \n",
       "4  200500180521              4    932088       1.0          0.000   6.25   \n",
       "\n",
       "   MARGESORTIE  TOP_RETOUR   TIC_DATE MAG_CODE  IDCLIENT  TIC_TOTALTTC  \\\n",
       "0         0.54         0.0 2016-05-02      IAB      2108          7.57   \n",
       "1         0.72         0.0 2016-05-02      IAB      2108          7.57   \n",
       "2         1.56         0.0 2016-05-02      IAB      2108          7.57   \n",
       "3         2.71         0.0 2016-08-05      IAB      2108         20.58   \n",
       "4         6.25         0.0 2016-08-05      IAB      2108         20.58   \n",
       "\n",
       "   FREQUENCE_MAG  VARIETE_PANIER  TAUX_REMISE  ANCIENNETE_PRE_CDE  \\\n",
       "0              2               7     0.125211                 0.0   \n",
       "1              2               7     0.125211                 0.0   \n",
       "2              2               7     0.125211                 0.0   \n",
       "3              2               7     0.125211                95.0   \n",
       "4              2               7     0.125211                95.0   \n",
       "\n",
       "   ANCIENNETE_DRE_CDE  \n",
       "0                95.0  \n",
       "1                95.0  \n",
       "2                95.0  \n",
       "3                 0.0  \n",
       "4                 0.0  "
      ]
     },
     "execution_count": 74,
     "metadata": {},
     "output_type": "execute_result"
    }
   ],
   "source": [
    "data_merged.head()"
   ]
  },
  {
   "cell_type": "code",
   "execution_count": 75,
   "id": "ec70d601",
   "metadata": {},
   "outputs": [
    {
     "name": "stdout",
     "output_type": "stream",
     "text": [
      "<class 'pandas.core.frame.DataFrame'>\n",
      "RangeIndex: 34105926 entries, 0 to 34105925\n",
      "Data columns (total 17 columns):\n",
      " #   Column              Dtype         \n",
      "---  ------              -----         \n",
      " 0   IDTICKET            object        \n",
      " 1   NUMLIGNETICKET      object        \n",
      " 2   IDARTICLE           object        \n",
      " 3   QUANTITE            float64       \n",
      " 4   MONTANTREMISE       float64       \n",
      " 5   TOTAL               float64       \n",
      " 6   MARGESORTIE         float64       \n",
      " 7   TOP_RETOUR          float64       \n",
      " 8   TIC_DATE            datetime64[ns]\n",
      " 9   MAG_CODE            object        \n",
      " 10  IDCLIENT            int32         \n",
      " 11  TIC_TOTALTTC        float64       \n",
      " 12  FREQUENCE_MAG       int64         \n",
      " 13  VARIETE_PANIER      int64         \n",
      " 14  TAUX_REMISE         float64       \n",
      " 15  ANCIENNETE_PRE_CDE  float64       \n",
      " 16  ANCIENNETE_DRE_CDE  float64       \n",
      "dtypes: datetime64[ns](1), float64(9), int32(1), int64(2), object(4)\n",
      "memory usage: 4.2+ GB\n"
     ]
    }
   ],
   "source": [
    "data_merged.info()"
   ]
  },
  {
   "cell_type": "code",
   "execution_count": 68,
   "id": "e45836a92829c7b7",
   "metadata": {
    "ExecuteTime": {
     "end_time": "2024-06-01T13:34:07.560108Z",
     "start_time": "2024-06-01T13:34:06.545088Z"
    }
   },
   "outputs": [
    {
     "name": "stdout",
     "output_type": "stream",
     "text": [
      "Empty DataFrame\n",
      "Columns: [IDTICKET, NUMLIGNETICKET, IDARTICLE, QUANTITE, MONTANTREMISE, TOTAL, MARGESORTIE, TOP_RETOUR, TIC_DATE, MAG_CODE, IDCLIENT, TIC_TOTALTTC, FREQUENCE_MAG, VARIETE_PANIER, TAUX_REMISE]\n",
      "Index: []\n"
     ]
    }
   ],
   "source": [
    "missing_dates = data_merged[data_merged['TIC_DATE'].isnull()]\n",
    "print(missing_dates)"
   ]
  },
  {
   "cell_type": "code",
   "execution_count": 69,
   "id": "6b8cb3a2f94a079e",
   "metadata": {
    "ExecuteTime": {
     "end_time": "2024-06-01T13:34:14.367160Z",
     "start_time": "2024-06-01T13:34:12.290627Z"
    }
   },
   "outputs": [
    {
     "name": "stdout",
     "output_type": "stream",
     "text": [
      "['05/02/2016' '08/05/2016' '23/03/2016' '20/04/2016' '26/07/2016'\n",
      " '29/04/2016' '21/05/2016' '11/03/2016' '06/05/2016' '07/03/2016'\n",
      " '31/08/2016' '16/02/2016' '05/01/2016' '16/06/2017' '15/09/2016'\n",
      " '30/03/2017' '03/11/2016' '27/03/2017' '29/03/2017' '27/01/2017'\n",
      " '07/02/2016' '28/02/2016' '08/12/2016' '02/04/2017' '09/05/2017'\n",
      " '14/09/2017' '28/05/2016' '29/07/2016' '20/06/2017' '29/09/2016'\n",
      " '31/03/2017' '04/10/2016' '12/10/2016' '13/04/2017' '14/11/2017'\n",
      " '17/03/2016' '23/08/2016' '14/05/2016' '24/03/2016' '04/04/2016'\n",
      " '06/08/2016' '19/03/2016' '18/06/2016' '27/08/2016' '29/08/2016'\n",
      " '30/04/2016' '01/05/2016' '02/05/2017' '06/10/2016' '05/07/2017'\n",
      " '21/12/2017' '21/04/2017' '31/10/2016' '30/04/2017' '19/11/2016'\n",
      " '16/09/2017' '13/10/2017' '20/12/2016' '22/03/2016' '21/04/2016'\n",
      " '20/05/2016' '02/02/2016' '17/06/2016' '19/02/2016' '24/02/2016'\n",
      " '02/03/2016' '28/07/2016' '12/03/2016' '13/04/2016' '10/05/2016'\n",
      " '09/06/2016' '16/01/2016' '28/01/2016' '26/08/2016' '07/04/2016'\n",
      " '13/05/2016' '15/05/2016' '30/03/2016' '03/04/2016' '17/04/2016'\n",
      " '11/10/2016' '29/11/2016' '09/12/2016' '29/12/2016' '16/11/2016'\n",
      " '09/02/2017' '11/12/2016' '09/04/2017' '19/12/2016' '26/04/2017'\n",
      " '07/05/2017' '24/02/2017' '27/10/2016' '21/01/2017' '12/03/2017'\n",
      " '03/05/2017' '05/10/2017' '30/11/2016' '01/12/2017' '26/12/2017'\n",
      " '10/03/2016' '18/04/2016' '08/04/2016' '06/01/2016' '30/06/2016'\n",
      " '12/04/2016' '27/04/2016' '09/03/2017' '23/06/2017' '27/06/2017'\n",
      " '14/12/2016' '10/03/2017' '09/06/2017' '09/08/2017' '03/10/2017'\n",
      " '22/05/2017' '02/03/2017' '09/07/2016' '24/01/2016' '21/08/2016'\n",
      " '30/01/2016' '23/04/2016' '08/07/2017' '29/08/2017' '20/05/2017'\n",
      " '01/04/2017' '29/01/2017' '08/01/2017' '09/12/2017' '28/06/2016'\n",
      " '14/08/2016' '10/11/2016' '28/07/2017' '25/03/2017' '14/04/2017'\n",
      " '21/06/2016' '11/04/2016' '03/11/2017' '20/11/2016' '14/02/2017'\n",
      " '05/03/2017' '15/06/2016' '08/08/2016' '06/08/2017' '14/12/2017'\n",
      " '23/12/2016' '15/12/2016' '31/12/2017' '15/04/2017' '22/08/2016'\n",
      " '13/02/2016' '03/03/2016' '10/06/2016' '04/02/2016' '24/06/2016'\n",
      " '25/02/2016' '21/06/2017' '28/06/2017' '08/10/2016' '09/10/2017'\n",
      " '10/10/2017' '11/10/2017' '31/07/2017' '04/11/2017' '02/12/2016'\n",
      " '31/08/2017' '05/12/2017' '20/09/2016' '18/09/2017' '06/09/2016'\n",
      " '23/11/2017' '24/11/2016' '25/11/2016' '24/03/2017' '15/05/2017'\n",
      " '24/05/2017' '19/10/2016' '05/01/2017' '19/01/2017' '12/12/2017'\n",
      " '18/12/2017' '03/04/2017' '22/07/2016' '02/01/2016' '11/08/2016'\n",
      " '26/02/2016' '22/01/2016' '30/08/2016' '29/03/2016' '09/03/2016'\n",
      " '04/07/2016' '25/07/2016' '08/06/2016' '28/03/2017' '28/09/2016'\n",
      " '05/04/2017' '31/10/2017' '06/11/2017' '27/07/2017' '28/12/2016'\n",
      " '04/01/2017' '09/01/2017' '11/01/2017' '20/10/2017' '31/01/2017'\n",
      " '07/12/2016' '17/10/2017' '18/10/2016' '27/09/2016' '05/05/2017'\n",
      " '06/06/2017' '06/12/2016' '26/09/2017' '02/01/2017' '06/02/2017'\n",
      " '14/05/2017' '29/07/2017' '10/09/2017' '10/12/2016' '19/04/2016'\n",
      " '17/01/2016' '07/05/2016' '29/10/2017' '11/09/2017' '24/09/2017'\n",
      " '26/11/2017' '06/03/2017' '06/05/2017' '17/05/2017' '17/09/2017'\n",
      " '02/11/2017' '08/11/2016' '21/05/2017' '01/09/2017' '27/05/2017'\n",
      " '16/03/2017' '04/02/2017' '13/12/2016' '08/05/2017' '27/03/2016'\n",
      " '09/08/2016' '10/02/2016' '06/03/2016' '07/01/2016' '27/05/2016'\n",
      " '01/02/2016' '17/02/2016' '03/07/2016' '11/06/2016' '12/05/2016'\n",
      " '11/02/2016' '06/10/2017' '16/10/2016' '13/11/2016' '08/09/2016'\n",
      " '09/10/2016' '06/11/2016' '22/09/2016' '18/07/2017' '03/09/2016'\n",
      " '05/06/2017' '10/06/2017' '25/05/2017' '12/11/2017' '05/11/2017'\n",
      " '08/12/2017' '23/03/2017' '25/05/2016' '29/02/2016' '18/03/2016'\n",
      " '16/04/2016' '15/07/2016' '20/07/2016' '27/01/2016' '18/01/2016'\n",
      " '22/02/2016' '14/03/2016' '13/07/2016' '01/08/2016' '15/04/2016'\n",
      " '22/06/2016' '25/10/2016' '16/09/2016' '10/10/2016' '10/08/2016'\n",
      " '25/04/2016' '12/01/2016' '26/01/2016' '08/07/2016' '04/03/2016'\n",
      " '20/02/2016' '01/03/2016' '05/04/2016' '05/05/2016' '23/05/2016'\n",
      " '07/06/2017' '30/09/2016' '12/11/2016' '12/08/2017' '13/05/2017'\n",
      " '17/08/2017' '26/07/2017' '29/11/2017' '22/09/2017' '25/10/2017'\n",
      " '29/06/2017' '07/02/2017' '17/02/2017' '19/10/2017' '18/11/2016'\n",
      " '08/03/2017' '15/03/2017' '10/09/2016' '04/11/2016' '21/09/2016'\n",
      " '20/04/2017' '29/09/2017' '25/01/2017' '25/01/2016' '21/03/2016'\n",
      " '02/06/2016' '22/05/2016' '09/07/2017' '06/02/2016' '26/04/2016'\n",
      " '08/11/2017' '15/03/2016' '20/01/2016' '12/06/2016' '06/07/2016'\n",
      " '18/07/2016' '05/08/2016' '13/02/2017' '07/10/2017' '30/05/2017'\n",
      " '29/04/2017' '07/06/2016' '24/04/2016' '24/08/2016' '26/05/2016'\n",
      " '25/06/2016' '13/06/2016' '20/06/2016' '08/06/2017' '23/10/2017'\n",
      " '27/04/2017' '19/05/2017' '24/12/2016' '22/10/2016' '08/04/2017'\n",
      " '26/05/2017' '17/03/2017' '17/10/2016' '24/04/2017' '21/01/2016'\n",
      " '04/12/2016' '23/02/2016' '13/07/2017' '30/08/2017' '16/01/2017'\n",
      " '22/02/2017' '17/12/2017' '31/05/2017' '07/09/2016' '24/05/2016'\n",
      " '31/05/2016' '11/01/2016' '03/02/2016' '30/10/2017' '20/10/2016'\n",
      " '28/09/2017' '24/11/2017' '03/10/2016' '22/03/2017' '11/05/2016'\n",
      " '29/06/2016' '19/05/2016' '05/11/2016' '14/07/2017' '05/02/2017'\n",
      " '24/07/2016' '28/01/2017' '23/12/2017' '31/12/2016' '19/11/2017'\n",
      " '06/04/2016' '30/07/2016' '04/05/2016' '21/12/2016' '02/06/2017'\n",
      " '01/02/2017' '11/12/2017' '24/10/2016' '21/02/2016' '15/12/2017'\n",
      " '09/09/2017' '22/12/2017' '23/09/2017' '22/10/2017' '14/07/2016'\n",
      " '26/03/2016' '17/05/2016' '30/05/2016' '20/03/2017' '28/10/2016'\n",
      " '30/07/2017' '17/11/2016' '04/09/2017' '13/09/2017' '24/01/2017'\n",
      " '21/09/2017' '06/12/2017' '24/10/2017' '09/11/2017' '17/04/2017'\n",
      " '16/05/2017' '10/04/2017' '18/08/2017' '08/02/2017' '10/01/2016'\n",
      " '16/07/2016' '14/02/2016' '13/09/2016' '10/12/2017' '27/11/2016'\n",
      " '12/02/2017' '26/10/2016' '01/04/2016' '12/08/2016' '27/09/2017'\n",
      " '19/07/2016' '08/03/2016' '22/11/2016' '21/11/2017' '07/08/2017'\n",
      " '20/01/2017' '15/11/2016' '08/09/2017' '02/05/2016' '28/04/2017'\n",
      " '11/05/2017' '03/12/2017' '01/05/2017' '12/06/2017' '07/11/2017'\n",
      " '04/06/2016' '14/10/2017' '02/12/2017' '10/11/2017' '16/03/2016'\n",
      " '09/01/2016' '11/06/2017' '28/05/2017' '14/06/2017' '24/06/2017'\n",
      " '22/11/2017' '23/02/2017' '15/02/2016' '29/05/2016' '03/08/2017'\n",
      " '01/12/2016' '19/09/2016' '19/03/2017' '04/03/2017' '07/04/2017'\n",
      " '16/12/2017' '11/07/2016' '23/01/2016' '01/09/2016' '18/08/2016'\n",
      " '18/05/2016' '22/07/2017' '23/05/2017' '30/12/2017' '01/07/2016'\n",
      " '04/08/2016' '01/06/2017' '22/04/2017' '18/03/2017' '26/11/2016'\n",
      " '07/07/2017' '07/07/2016' '02/08/2016' '25/07/2017' '30/10/2016'\n",
      " '08/08/2017' '02/10/2016' '08/01/2016' '23/06/2016' '31/03/2016'\n",
      " '25/08/2016' '16/05/2016' '03/01/2016' '12/02/2016' '23/07/2016'\n",
      " '16/08/2016' '20/08/2016' '09/04/2016' '24/07/2017' '18/01/2017'\n",
      " '26/01/2017' '11/03/2017' '27/12/2016' '24/08/2017' '13/10/2016'\n",
      " '15/11/2017' '29/12/2017' '13/06/2017' '04/05/2017' '05/09/2016'\n",
      " '08/10/2017' '11/09/2016' '01/07/2017' '11/08/2017' '19/04/2017'\n",
      " '03/01/2017' '10/01/2017' '17/06/2017' '11/11/2016' '19/02/2017'\n",
      " '21/10/2017' '15/09/2017' '25/02/2017' '25/04/2017' '10/04/2016'\n",
      " '28/03/2016' '18/06/2017' '02/07/2017' '03/03/2017' '13/03/2016'\n",
      " '10/05/2017' '29/05/2017' '27/07/2016' '26/10/2017' '09/11/2016'\n",
      " '27/10/2017' '02/04/2016' '05/03/2016' '18/04/2017' '22/04/2016'\n",
      " '02/07/2016' '11/07/2017' '02/11/2016' '02/09/2017' '11/04/2017'\n",
      " '16/10/2017' '13/11/2017' '14/01/2016' '26/09/2016' '06/04/2017'\n",
      " '03/02/2017' '09/05/2016' '27/06/2016' '03/06/2017' '07/12/2017'\n",
      " '05/07/2016' '06/09/2017' '28/02/2017' '27/02/2017' '20/11/2017'\n",
      " '19/08/2016' '03/06/2016' '09/09/2016' '17/11/2017' '19/01/2016'\n",
      " '27/02/2016' '01/10/2016' '12/07/2016' '25/03/2016' '13/12/2017'\n",
      " '17/12/2016' '17/09/2016' '31/01/2016' '24/12/2017' '23/10/2016'\n",
      " '12/01/2017' '05/09/2017' '20/09/2017' '30/06/2017' '21/10/2016'\n",
      " '20/07/2017' '16/08/2017' '04/04/2017' '07/11/2016' '06/07/2017'\n",
      " '14/03/2017' '21/08/2017' '23/11/2016' '14/01/2017' '04/10/2017'\n",
      " '23/09/2016' '25/11/2017' '18/11/2017' '19/06/2017' '11/02/2017'\n",
      " '21/03/2017' '04/12/2017' '16/11/2017' '26/08/2017' '04/08/2017'\n",
      " '07/01/2017' '15/01/2017' '15/10/2016' '23/08/2017' '03/05/2016'\n",
      " '28/11/2016' '25/08/2017' '05/06/2016' '01/10/2017' '04/01/2016'\n",
      " '02/09/2016' '06/01/2017' '26/06/2017' '15/10/2017' '25/06/2017'\n",
      " '29/01/2016' '13/01/2016' '20/03/2016' '28/10/2017' '23/07/2017'\n",
      " '22/08/2017' '18/12/2016' '13/08/2016' '28/11/2017' '26/06/2016'\n",
      " '17/07/2016' '13/08/2017' '16/07/2017' '07/08/2016' '12/12/2016'\n",
      " '02/10/2017' '02/08/2017' '12/04/2017' '13/03/2017' '29/10/2016'\n",
      " '10/07/2016' '10/07/2017' '22/06/2017' '02/02/2017' '26/02/2017'\n",
      " '15/02/2017' '16/02/2017' '05/08/2017' '17/08/2016' '12/05/2017'\n",
      " '28/12/2017' '19/08/2017' '11/11/2017' '15/07/2017' '18/02/2017'\n",
      " '15/08/2016' '16/12/2016' '07/09/2017' '25/09/2016' '12/07/2017'\n",
      " '26/12/2016' '15/08/2017' '19/09/2017' '17/07/2017' '30/12/2016'\n",
      " '14/06/2016' '16/06/2016' '17/01/2017' '08/02/2016' '28/08/2017'\n",
      " '30/11/2017' '03/07/2017' '07/10/2016' '01/08/2017' '04/07/2017'\n",
      " '05/10/2016' '14/08/2017' '19/06/2016' '18/09/2016' '19/07/2017'\n",
      " '18/02/2016' '14/04/2016' '09/02/2016' '13/01/2017' '12/10/2017'\n",
      " '27/11/2017' '20/12/2017' '21/07/2016' '30/09/2017' '12/09/2016'\n",
      " '03/08/2016' '30/01/2017' '21/11/2016' '22/12/2016' '10/02/2017'\n",
      " '15/06/2017' '21/02/2017' '05/12/2016' '03/12/2016' '14/11/2016'\n",
      " '18/10/2017' '24/09/2016' '01/11/2016' '23/04/2017' '04/09/2016'\n",
      " '27/08/2017' '22/01/2017' '18/05/2017' '04/06/2017' '10/08/2017'\n",
      " '28/04/2016' '27/12/2017' '07/03/2017' '06/06/2016' '01/06/2016'\n",
      " '26/03/2017' '16/04/2017' '14/09/2016' '15/01/2016' '28/08/2016'\n",
      " '19/12/2017' '01/11/2017' '21/07/2017' '14/10/2016' '12/09/2017'\n",
      " '23/01/2017' '25/09/2017' '01/03/2017' '20/02/2017' '03/09/2017'\n",
      " '20/08/2017' '31/07/2016']\n"
     ]
    }
   ],
   "source": [
    "unique_dates = data_merged['TIC_DATE'].unique()\n",
    "print(unique_dates)"
   ]
  },
  {
   "cell_type": "code",
   "execution_count": null,
   "id": "923e16a1",
   "metadata": {},
   "outputs": [],
   "source": []
  },
  {
   "cell_type": "code",
   "execution_count": 70,
   "id": "dc20f692ba67a9b4",
   "metadata": {
    "ExecuteTime": {
     "start_time": "2024-06-01T13:37:23.153024Z"
    },
    "jupyter": {
     "is_executing": true
    }
   },
   "outputs": [
    {
     "name": "stdout",
     "output_type": "stream",
     "text": [
      "          IDCLIENT   TIC_DATE  ANCIENNETE_PRE_CDE  ANCIENNETE_DRE_CDE\n",
      "0             2108 2016-05-02                 0.0                95.0\n",
      "1             2108 2016-05-02                 0.0                95.0\n",
      "2             2108 2016-05-02                 0.0                95.0\n",
      "3             2108 2016-08-05                95.0                 0.0\n",
      "4             2108 2016-08-05                95.0                 0.0\n",
      "...            ...        ...                 ...                 ...\n",
      "34105921   3517102        NaT                 NaN                 NaN\n",
      "34105922   3517102        NaT                 NaN                 NaN\n",
      "34105923   3517102        NaT                 NaN                 NaN\n",
      "34105924   3517102        NaT                 NaN                 NaN\n",
      "34105925   3517102        NaT                 NaN                 NaN\n",
      "\n",
      "[34105926 rows x 4 columns]\n"
     ]
    }
   ],
   "source": [
    "# Convertir la colonne 'TIC_DATE' en format de date\n",
    "data_merged['TIC_DATE'] = pd.to_datetime(data_merged['TIC_DATE'],errors='coerce')\n",
    "\n",
    "# Calculer l'ancienneté par rapport à la première commande pour chaque client\n",
    "data_merged['ANCIENNETE_PRE_CDE'] = data_merged.groupby('IDCLIENT')['TIC_DATE'].transform(lambda x: (x - x.min()).dt.days)\n",
    "\n",
    "# Calculer l'ancienneté par rapport à la dernière commande pour chaque client\n",
    "data_merged['ANCIENNETE_DRE_CDE'] = data_merged.groupby('IDCLIENT')['TIC_DATE'].transform(lambda x: (x.max() - x).dt.days)\n",
    "\n",
    "# Afficher l'ancienneté par rapport à la première et à la dernière commande pour chaque client\n",
    "print(data_merged[['IDCLIENT', 'TIC_DATE', 'ANCIENNETE_PRE_CDE', 'ANCIENNETE_DRE_CDE']])"
   ]
  },
  {
   "cell_type": "code",
   "execution_count": 71,
   "id": "61c57ccebc151a85",
   "metadata": {
    "ExecuteTime": {
     "end_time": "2024-06-01T13:37:09.377022Z",
     "start_time": "2024-06-01T13:37:09.368657Z"
    }
   },
   "outputs": [
    {
     "data": {
      "text/html": [
       "<div>\n",
       "<style scoped>\n",
       "    .dataframe tbody tr th:only-of-type {\n",
       "        vertical-align: middle;\n",
       "    }\n",
       "\n",
       "    .dataframe tbody tr th {\n",
       "        vertical-align: top;\n",
       "    }\n",
       "\n",
       "    .dataframe thead th {\n",
       "        text-align: right;\n",
       "    }\n",
       "</style>\n",
       "<table border=\"1\" class=\"dataframe\">\n",
       "  <thead>\n",
       "    <tr style=\"text-align: right;\">\n",
       "      <th></th>\n",
       "      <th>IDTICKET</th>\n",
       "      <th>NUMLIGNETICKET</th>\n",
       "      <th>IDARTICLE</th>\n",
       "      <th>QUANTITE</th>\n",
       "      <th>MONTANTREMISE</th>\n",
       "      <th>TOTAL</th>\n",
       "      <th>MARGESORTIE</th>\n",
       "      <th>TOP_RETOUR</th>\n",
       "      <th>TIC_DATE</th>\n",
       "      <th>MAG_CODE</th>\n",
       "      <th>IDCLIENT</th>\n",
       "      <th>TIC_TOTALTTC</th>\n",
       "      <th>FREQUENCE_MAG</th>\n",
       "      <th>VARIETE_PANIER</th>\n",
       "      <th>TAUX_REMISE</th>\n",
       "      <th>ANCIENNETE_PRE_CDE</th>\n",
       "      <th>ANCIENNETE_DRE_CDE</th>\n",
       "    </tr>\n",
       "  </thead>\n",
       "  <tbody>\n",
       "    <tr>\n",
       "      <th>0</th>\n",
       "      <td>200200135291</td>\n",
       "      <td>3</td>\n",
       "      <td>33258</td>\n",
       "      <td>1.0</td>\n",
       "      <td>0.000</td>\n",
       "      <td>0.91</td>\n",
       "      <td>0.54</td>\n",
       "      <td>0.0</td>\n",
       "      <td>2016-05-02</td>\n",
       "      <td>IAB</td>\n",
       "      <td>2108</td>\n",
       "      <td>7.57</td>\n",
       "      <td>2</td>\n",
       "      <td>7</td>\n",
       "      <td>0.125211</td>\n",
       "      <td>0.0</td>\n",
       "      <td>95.0</td>\n",
       "    </tr>\n",
       "    <tr>\n",
       "      <th>1</th>\n",
       "      <td>200200135291</td>\n",
       "      <td>2</td>\n",
       "      <td>33247</td>\n",
       "      <td>1.0</td>\n",
       "      <td>0.000</td>\n",
       "      <td>1.24</td>\n",
       "      <td>0.72</td>\n",
       "      <td>0.0</td>\n",
       "      <td>2016-05-02</td>\n",
       "      <td>IAB</td>\n",
       "      <td>2108</td>\n",
       "      <td>7.57</td>\n",
       "      <td>2</td>\n",
       "      <td>7</td>\n",
       "      <td>0.125211</td>\n",
       "      <td>0.0</td>\n",
       "      <td>95.0</td>\n",
       "    </tr>\n",
       "    <tr>\n",
       "      <th>2</th>\n",
       "      <td>200200135291</td>\n",
       "      <td>1</td>\n",
       "      <td>227040</td>\n",
       "      <td>1.0</td>\n",
       "      <td>1.782</td>\n",
       "      <td>4.54</td>\n",
       "      <td>1.56</td>\n",
       "      <td>0.0</td>\n",
       "      <td>2016-05-02</td>\n",
       "      <td>IAB</td>\n",
       "      <td>2108</td>\n",
       "      <td>7.57</td>\n",
       "      <td>2</td>\n",
       "      <td>7</td>\n",
       "      <td>0.125211</td>\n",
       "      <td>0.0</td>\n",
       "      <td>95.0</td>\n",
       "    </tr>\n",
       "    <tr>\n",
       "      <th>3</th>\n",
       "      <td>200500180521</td>\n",
       "      <td>1</td>\n",
       "      <td>312922</td>\n",
       "      <td>1.0</td>\n",
       "      <td>0.545</td>\n",
       "      <td>4.86</td>\n",
       "      <td>2.71</td>\n",
       "      <td>0.0</td>\n",
       "      <td>2016-08-05</td>\n",
       "      <td>IAB</td>\n",
       "      <td>2108</td>\n",
       "      <td>20.58</td>\n",
       "      <td>2</td>\n",
       "      <td>7</td>\n",
       "      <td>0.125211</td>\n",
       "      <td>95.0</td>\n",
       "      <td>0.0</td>\n",
       "    </tr>\n",
       "    <tr>\n",
       "      <th>4</th>\n",
       "      <td>200500180521</td>\n",
       "      <td>4</td>\n",
       "      <td>932088</td>\n",
       "      <td>1.0</td>\n",
       "      <td>0.000</td>\n",
       "      <td>6.25</td>\n",
       "      <td>6.25</td>\n",
       "      <td>0.0</td>\n",
       "      <td>2016-08-05</td>\n",
       "      <td>IAB</td>\n",
       "      <td>2108</td>\n",
       "      <td>20.58</td>\n",
       "      <td>2</td>\n",
       "      <td>7</td>\n",
       "      <td>0.125211</td>\n",
       "      <td>95.0</td>\n",
       "      <td>0.0</td>\n",
       "    </tr>\n",
       "    <tr>\n",
       "      <th>...</th>\n",
       "      <td>...</td>\n",
       "      <td>...</td>\n",
       "      <td>...</td>\n",
       "      <td>...</td>\n",
       "      <td>...</td>\n",
       "      <td>...</td>\n",
       "      <td>...</td>\n",
       "      <td>...</td>\n",
       "      <td>...</td>\n",
       "      <td>...</td>\n",
       "      <td>...</td>\n",
       "      <td>...</td>\n",
       "      <td>...</td>\n",
       "      <td>...</td>\n",
       "      <td>...</td>\n",
       "      <td>...</td>\n",
       "      <td>...</td>\n",
       "    </tr>\n",
       "    <tr>\n",
       "      <th>34105921</th>\n",
       "      <td>770100547217</td>\n",
       "      <td>6</td>\n",
       "      <td>217360</td>\n",
       "      <td>1.0</td>\n",
       "      <td>0.227</td>\n",
       "      <td>2.09</td>\n",
       "      <td>0.32</td>\n",
       "      <td>0.0</td>\n",
       "      <td>NaT</td>\n",
       "      <td>PEG</td>\n",
       "      <td>3517102</td>\n",
       "      <td>55.67</td>\n",
       "      <td>1</td>\n",
       "      <td>10</td>\n",
       "      <td>0.096505</td>\n",
       "      <td>NaN</td>\n",
       "      <td>NaN</td>\n",
       "    </tr>\n",
       "    <tr>\n",
       "      <th>34105922</th>\n",
       "      <td>770100547217</td>\n",
       "      <td>7</td>\n",
       "      <td>33257</td>\n",
       "      <td>1.0</td>\n",
       "      <td>0.075</td>\n",
       "      <td>0.67</td>\n",
       "      <td>0.39</td>\n",
       "      <td>0.0</td>\n",
       "      <td>NaT</td>\n",
       "      <td>PEG</td>\n",
       "      <td>3517102</td>\n",
       "      <td>55.67</td>\n",
       "      <td>1</td>\n",
       "      <td>10</td>\n",
       "      <td>0.096505</td>\n",
       "      <td>NaN</td>\n",
       "      <td>NaN</td>\n",
       "    </tr>\n",
       "    <tr>\n",
       "      <th>34105923</th>\n",
       "      <td>770100547217</td>\n",
       "      <td>8</td>\n",
       "      <td>33247</td>\n",
       "      <td>1.0</td>\n",
       "      <td>0.133</td>\n",
       "      <td>1.16</td>\n",
       "      <td>0.64</td>\n",
       "      <td>0.0</td>\n",
       "      <td>NaT</td>\n",
       "      <td>PEG</td>\n",
       "      <td>3517102</td>\n",
       "      <td>55.67</td>\n",
       "      <td>1</td>\n",
       "      <td>10</td>\n",
       "      <td>0.096505</td>\n",
       "      <td>NaN</td>\n",
       "      <td>NaN</td>\n",
       "    </tr>\n",
       "    <tr>\n",
       "      <th>34105924</th>\n",
       "      <td>770100547217</td>\n",
       "      <td>9</td>\n",
       "      <td>58830</td>\n",
       "      <td>1.0</td>\n",
       "      <td>0.275</td>\n",
       "      <td>2.47</td>\n",
       "      <td>0.85</td>\n",
       "      <td>0.0</td>\n",
       "      <td>NaT</td>\n",
       "      <td>PEG</td>\n",
       "      <td>3517102</td>\n",
       "      <td>55.67</td>\n",
       "      <td>1</td>\n",
       "      <td>10</td>\n",
       "      <td>0.096505</td>\n",
       "      <td>NaN</td>\n",
       "      <td>NaN</td>\n",
       "    </tr>\n",
       "    <tr>\n",
       "      <th>34105925</th>\n",
       "      <td>770100547217</td>\n",
       "      <td>10</td>\n",
       "      <td>932088</td>\n",
       "      <td>1.0</td>\n",
       "      <td>0.000</td>\n",
       "      <td>6.25</td>\n",
       "      <td>6.25</td>\n",
       "      <td>0.0</td>\n",
       "      <td>NaT</td>\n",
       "      <td>PEG</td>\n",
       "      <td>3517102</td>\n",
       "      <td>55.67</td>\n",
       "      <td>1</td>\n",
       "      <td>10</td>\n",
       "      <td>0.096505</td>\n",
       "      <td>NaN</td>\n",
       "      <td>NaN</td>\n",
       "    </tr>\n",
       "  </tbody>\n",
       "</table>\n",
       "<p>34105926 rows × 17 columns</p>\n",
       "</div>"
      ],
      "text/plain": [
       "              IDTICKET NUMLIGNETICKET IDARTICLE  QUANTITE  MONTANTREMISE  \\\n",
       "0         200200135291              3     33258       1.0          0.000   \n",
       "1         200200135291              2     33247       1.0          0.000   \n",
       "2         200200135291              1    227040       1.0          1.782   \n",
       "3         200500180521              1    312922       1.0          0.545   \n",
       "4         200500180521              4    932088       1.0          0.000   \n",
       "...                ...            ...       ...       ...            ...   \n",
       "34105921  770100547217              6    217360       1.0          0.227   \n",
       "34105922  770100547217              7     33257       1.0          0.075   \n",
       "34105923  770100547217              8     33247       1.0          0.133   \n",
       "34105924  770100547217              9     58830       1.0          0.275   \n",
       "34105925  770100547217             10    932088       1.0          0.000   \n",
       "\n",
       "          TOTAL  MARGESORTIE  TOP_RETOUR   TIC_DATE MAG_CODE  IDCLIENT  \\\n",
       "0          0.91         0.54         0.0 2016-05-02      IAB      2108   \n",
       "1          1.24         0.72         0.0 2016-05-02      IAB      2108   \n",
       "2          4.54         1.56         0.0 2016-05-02      IAB      2108   \n",
       "3          4.86         2.71         0.0 2016-08-05      IAB      2108   \n",
       "4          6.25         6.25         0.0 2016-08-05      IAB      2108   \n",
       "...         ...          ...         ...        ...      ...       ...   \n",
       "34105921   2.09         0.32         0.0        NaT      PEG   3517102   \n",
       "34105922   0.67         0.39         0.0        NaT      PEG   3517102   \n",
       "34105923   1.16         0.64         0.0        NaT      PEG   3517102   \n",
       "34105924   2.47         0.85         0.0        NaT      PEG   3517102   \n",
       "34105925   6.25         6.25         0.0        NaT      PEG   3517102   \n",
       "\n",
       "          TIC_TOTALTTC  FREQUENCE_MAG  VARIETE_PANIER  TAUX_REMISE  \\\n",
       "0                 7.57              2               7     0.125211   \n",
       "1                 7.57              2               7     0.125211   \n",
       "2                 7.57              2               7     0.125211   \n",
       "3                20.58              2               7     0.125211   \n",
       "4                20.58              2               7     0.125211   \n",
       "...                ...            ...             ...          ...   \n",
       "34105921         55.67              1              10     0.096505   \n",
       "34105922         55.67              1              10     0.096505   \n",
       "34105923         55.67              1              10     0.096505   \n",
       "34105924         55.67              1              10     0.096505   \n",
       "34105925         55.67              1              10     0.096505   \n",
       "\n",
       "          ANCIENNETE_PRE_CDE  ANCIENNETE_DRE_CDE  \n",
       "0                        0.0                95.0  \n",
       "1                        0.0                95.0  \n",
       "2                        0.0                95.0  \n",
       "3                       95.0                 0.0  \n",
       "4                       95.0                 0.0  \n",
       "...                      ...                 ...  \n",
       "34105921                 NaN                 NaN  \n",
       "34105922                 NaN                 NaN  \n",
       "34105923                 NaN                 NaN  \n",
       "34105924                 NaN                 NaN  \n",
       "34105925                 NaN                 NaN  \n",
       "\n",
       "[34105926 rows x 17 columns]"
      ]
     },
     "execution_count": 71,
     "metadata": {},
     "output_type": "execute_result"
    }
   ],
   "source": [
    "data_merged"
   ]
  },
  {
   "cell_type": "code",
   "execution_count": 72,
   "id": "9717dbcdd972fb1b",
   "metadata": {},
   "outputs": [],
   "source": [
    "TICKETS = \"C:\\\\Users\\\\belga\\\\OneDrive\\\\Bureau\\\\EMBA Big Data\\\\Module Datascience\\\\Projet Data Science S2 2024\\\\TICKETS_NET.pkl\"\n",
    "data_merged.to_pickle(TICKETS)\n"
   ]
  }
 ],
 "metadata": {
  "kernelspec": {
   "display_name": "Python 3 (ipykernel)",
   "language": "python",
   "name": "python3"
  },
  "language_info": {
   "codemirror_mode": {
    "name": "ipython",
    "version": 3
   },
   "file_extension": ".py",
   "mimetype": "text/x-python",
   "name": "python",
   "nbconvert_exporter": "python",
   "pygments_lexer": "ipython3",
   "version": "3.11.5"
  }
 },
 "nbformat": 4,
 "nbformat_minor": 5
}
