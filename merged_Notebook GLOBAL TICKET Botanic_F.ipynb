{
 "cells": [
  {
   "cell_type": "code",
   "execution_count": null,
   "id": "a2df2b29",
   "metadata": {},
   "outputs": [],
   "source": [
    "import pip\n",
    "pip.main(['install', 'pandas'])\n",
    "pip.main(['install', 'matplotlib'])\n",
    "pip.main(['install', 'seaborn'])\n",
    "pip.main(['install', 'scikit-learn'])"
   ]
  },
  {
   "cell_type": "markdown",
   "id": "905e3d47",
   "metadata": {},
   "source": [
    "# CHARGEMENT DES BIBLIOTHEQUES"
   ]
  },
  {
   "cell_type": "code",
   "execution_count": 123,
   "id": "4b815cfd",
   "metadata": {
    "ExecuteTime": {
     "end_time": "2024-05-27T08:23:23.113980Z",
     "start_time": "2024-05-27T08:23:23.111261Z"
    }
   },
   "outputs": [],
   "source": [
    "import pandas as pd\n",
    "import matplotlib.pyplot as plt\n",
    "import numpy as np\n",
    "import seaborn as sns\n",
    "\n",
    "from sklearn.linear_model import LogisticRegression\n",
    "from sklearn.model_selection import train_test_split\n",
    "from sklearn.datasets import make_classification\n",
    "from sklearn.metrics import roc_curve, auc\n",
    "from sklearn.metrics import accuracy_score, classification_report, confusion_matrix\n",
    "from sklearn.preprocessing import StandardScaler\n",
    "from sklearn.preprocessing import OneHotEncoder\n",
    "from sklearn.preprocessing import LabelEncoder"
   ]
  },
  {
   "cell_type": "markdown",
   "id": "eea06e23",
   "metadata": {},
   "source": [
    "Chargement du jeu de données \"LIGNES_TICKET_V4\""
   ]
  },
  {
   "cell_type": "code",
   "execution_count": 124,
   "id": "6f2897f5",
   "metadata": {
    "ExecuteTime": {
     "end_time": "2024-05-27T08:23:45.686527Z",
     "start_time": "2024-05-27T08:23:24.765923Z"
    }
   },
   "outputs": [
    {
     "name": "stdout",
     "output_type": "stream",
     "text": [
      "(34105705, 7)\n",
      "['IDTICKET', 'NUMLIGNETICKET', 'IDARTICLE', 'QUANTITE', 'MONTANTREMISE', 'TOTAL', 'MARGESORTIE']\n"
     ]
    }
   ],
   "source": [
    "dataset_path = \"C:\\\\Users\\\\belga\\\\OneDrive\\\\Bureau\\\\EMBA Big Data\\\\Module Datascience\\\\Projet Data Science S2 2024\\\\LIGNES_TICKET_V4.csv\"\n",
    "data3 = pd.read_csv(dataset_path, sep='|', low_memory=False)\n",
    "print(data3.shape)\n",
    "print(list(data3.columns))"
   ]
  },
  {
   "cell_type": "markdown",
   "id": "7d649588",
   "metadata": {},
   "source": [
    "La ligne de code ci-dessous nous permet de voir le détail des colonnes de notre jeu de données ainsi que le type de données (chaîne de caractères, numérique)"
   ]
  },
  {
   "cell_type": "code",
   "execution_count": 125,
   "id": "1a52db12",
   "metadata": {
    "ExecuteTime": {
     "end_time": "2024-05-27T08:23:49.350429Z",
     "start_time": "2024-05-27T08:23:49.341555Z"
    }
   },
   "outputs": [
    {
     "name": "stdout",
     "output_type": "stream",
     "text": [
      "<class 'pandas.core.frame.DataFrame'>\n",
      "RangeIndex: 34105705 entries, 0 to 34105704\n",
      "Data columns (total 7 columns):\n",
      " #   Column          Dtype \n",
      "---  ------          ----- \n",
      " 0   IDTICKET        int64 \n",
      " 1   NUMLIGNETICKET  int64 \n",
      " 2   IDARTICLE       object\n",
      " 3   QUANTITE        object\n",
      " 4   MONTANTREMISE   object\n",
      " 5   TOTAL           object\n",
      " 6   MARGESORTIE     object\n",
      "dtypes: int64(2), object(5)\n",
      "memory usage: 1.8+ GB\n"
     ]
    }
   ],
   "source": [
    "data3.info()"
   ]
  },
  {
   "cell_type": "markdown",
   "id": "b95ab93d",
   "metadata": {},
   "source": [
    "Aperçu du jeu de données."
   ]
  },
  {
   "cell_type": "code",
   "execution_count": 126,
   "id": "49467b1e",
   "metadata": {
    "ExecuteTime": {
     "end_time": "2024-05-27T08:23:50.845957Z",
     "start_time": "2024-05-27T08:23:50.837706Z"
    }
   },
   "outputs": [
    {
     "data": {
      "text/html": [
       "<div>\n",
       "<style scoped>\n",
       "    .dataframe tbody tr th:only-of-type {\n",
       "        vertical-align: middle;\n",
       "    }\n",
       "\n",
       "    .dataframe tbody tr th {\n",
       "        vertical-align: top;\n",
       "    }\n",
       "\n",
       "    .dataframe thead th {\n",
       "        text-align: right;\n",
       "    }\n",
       "</style>\n",
       "<table border=\"1\" class=\"dataframe\">\n",
       "  <thead>\n",
       "    <tr style=\"text-align: right;\">\n",
       "      <th></th>\n",
       "      <th>IDTICKET</th>\n",
       "      <th>NUMLIGNETICKET</th>\n",
       "      <th>IDARTICLE</th>\n",
       "      <th>QUANTITE</th>\n",
       "      <th>MONTANTREMISE</th>\n",
       "      <th>TOTAL</th>\n",
       "      <th>MARGESORTIE</th>\n",
       "    </tr>\n",
       "  </thead>\n",
       "  <tbody>\n",
       "    <tr>\n",
       "      <th>0</th>\n",
       "      <td>190400316260</td>\n",
       "      <td>2</td>\n",
       "      <td>246208</td>\n",
       "      <td>1,000</td>\n",
       "      <td>,000</td>\n",
       "      <td>4,96</td>\n",
       "      <td>2,37</td>\n",
       "    </tr>\n",
       "    <tr>\n",
       "      <th>1</th>\n",
       "      <td>190400316262</td>\n",
       "      <td>2</td>\n",
       "      <td>33725</td>\n",
       "      <td>1,000</td>\n",
       "      <td>,000</td>\n",
       "      <td>8,25</td>\n",
       "      <td>3,63</td>\n",
       "    </tr>\n",
       "    <tr>\n",
       "      <th>2</th>\n",
       "      <td>190400316262</td>\n",
       "      <td>3</td>\n",
       "      <td>634497</td>\n",
       "      <td>1,000</td>\n",
       "      <td>,000</td>\n",
       "      <td>5,79</td>\n",
       "      <td>3,63</td>\n",
       "    </tr>\n",
       "    <tr>\n",
       "      <th>3</th>\n",
       "      <td>190400316262</td>\n",
       "      <td>1</td>\n",
       "      <td>257613</td>\n",
       "      <td>1,000</td>\n",
       "      <td>,000</td>\n",
       "      <td>18,29</td>\n",
       "      <td>6,21</td>\n",
       "    </tr>\n",
       "    <tr>\n",
       "      <th>4</th>\n",
       "      <td>190400316263</td>\n",
       "      <td>1</td>\n",
       "      <td>257627</td>\n",
       "      <td>1,000</td>\n",
       "      <td>,000</td>\n",
       "      <td>49,92</td>\n",
       "      <td>10,42</td>\n",
       "    </tr>\n",
       "    <tr>\n",
       "      <th>...</th>\n",
       "      <td>...</td>\n",
       "      <td>...</td>\n",
       "      <td>...</td>\n",
       "      <td>...</td>\n",
       "      <td>...</td>\n",
       "      <td>...</td>\n",
       "      <td>...</td>\n",
       "    </tr>\n",
       "    <tr>\n",
       "      <th>34105700</th>\n",
       "      <td>340200383203</td>\n",
       "      <td>2</td>\n",
       "      <td>257643</td>\n",
       "      <td>1</td>\n",
       "      <td>0</td>\n",
       "      <td>4,69</td>\n",
       "      <td>1,83</td>\n",
       "    </tr>\n",
       "    <tr>\n",
       "      <th>34105701</th>\n",
       "      <td>340200383203</td>\n",
       "      <td>3</td>\n",
       "      <td>50170</td>\n",
       "      <td>1</td>\n",
       "      <td>0</td>\n",
       "      <td>3,18</td>\n",
       "      <td>1</td>\n",
       "    </tr>\n",
       "    <tr>\n",
       "      <th>34105702</th>\n",
       "      <td>340200383203</td>\n",
       "      <td>4</td>\n",
       "      <td>349345</td>\n",
       "      <td>1</td>\n",
       "      <td>0</td>\n",
       "      <td>3,46</td>\n",
       "      <td>1,13</td>\n",
       "    </tr>\n",
       "    <tr>\n",
       "      <th>34105703</th>\n",
       "      <td>340200383203</td>\n",
       "      <td>5</td>\n",
       "      <td>250580</td>\n",
       "      <td>2</td>\n",
       "      <td>0</td>\n",
       "      <td>6,8</td>\n",
       "      <td>2,18</td>\n",
       "    </tr>\n",
       "    <tr>\n",
       "      <th>34105704</th>\n",
       "      <td>340200383217</td>\n",
       "      <td>1</td>\n",
       "      <td>816313</td>\n",
       "      <td>20</td>\n",
       "      <td>1,818</td>\n",
       "      <td>1,82</td>\n",
       "      <td>1,42</td>\n",
       "    </tr>\n",
       "  </tbody>\n",
       "</table>\n",
       "<p>34105705 rows × 7 columns</p>\n",
       "</div>"
      ],
      "text/plain": [
       "              IDTICKET  NUMLIGNETICKET IDARTICLE QUANTITE MONTANTREMISE  \\\n",
       "0         190400316260               2    246208    1,000          ,000   \n",
       "1         190400316262               2     33725    1,000          ,000   \n",
       "2         190400316262               3    634497    1,000          ,000   \n",
       "3         190400316262               1    257613    1,000          ,000   \n",
       "4         190400316263               1    257627    1,000          ,000   \n",
       "...                ...             ...       ...      ...           ...   \n",
       "34105700  340200383203               2    257643        1             0   \n",
       "34105701  340200383203               3     50170        1             0   \n",
       "34105702  340200383203               4    349345        1             0   \n",
       "34105703  340200383203               5    250580        2             0   \n",
       "34105704  340200383217               1    816313       20         1,818   \n",
       "\n",
       "          TOTAL MARGESORTIE  \n",
       "0          4,96        2,37  \n",
       "1          8,25        3,63  \n",
       "2          5,79        3,63  \n",
       "3         18,29        6,21  \n",
       "4         49,92       10,42  \n",
       "...         ...         ...  \n",
       "34105700   4,69        1,83  \n",
       "34105701   3,18           1  \n",
       "34105702   3,46        1,13  \n",
       "34105703    6,8        2,18  \n",
       "34105704   1,82        1,42  \n",
       "\n",
       "[34105705 rows x 7 columns]"
      ]
     },
     "execution_count": 126,
     "metadata": {},
     "output_type": "execute_result"
    }
   ],
   "source": [
    "data3"
   ]
  },
  {
   "cell_type": "markdown",
   "id": "879f15ff",
   "metadata": {},
   "source": [
    "Afin d'exploiter de façon optimale les informations, nous allons convetir les l'ID TICKET et le NUM LIGNE TICKET en caractère. A l'inverse, nous devons convertir les quantités, les montants, les totaux et les marges en valeur numérique."
   ]
  },
  {
   "cell_type": "code",
   "execution_count": 127,
   "id": "e16e2882",
   "metadata": {
    "ExecuteTime": {
     "end_time": "2024-05-27T08:24:01.344431Z",
     "start_time": "2024-05-27T08:23:52.809074Z"
    }
   },
   "outputs": [],
   "source": [
    "data3['IDTICKET'] = data3['IDTICKET'].astype(str)\n",
    "data3['NUMLIGNETICKET'] = data3['NUMLIGNETICKET'].astype(str)"
   ]
  },
  {
   "cell_type": "code",
   "execution_count": 128,
   "id": "ab1241a4",
   "metadata": {
    "ExecuteTime": {
     "end_time": "2024-05-27T08:24:06.237223Z",
     "start_time": "2024-05-27T08:24:02.035317Z"
    }
   },
   "outputs": [],
   "source": [
    "data3[\"QUANTITE\"]=data3['QUANTITE'].str.replace(',', '.').astype(float)"
   ]
  },
  {
   "cell_type": "code",
   "execution_count": 129,
   "id": "7ae4a9e4",
   "metadata": {
    "ExecuteTime": {
     "end_time": "2024-05-27T08:24:11.070020Z",
     "start_time": "2024-05-27T08:24:06.238493Z"
    }
   },
   "outputs": [],
   "source": [
    "data3[\"TOTAL\"]=data3['TOTAL'].str.replace(',', '.').astype(float)"
   ]
  },
  {
   "cell_type": "code",
   "execution_count": 130,
   "id": "2107a3b0",
   "metadata": {
    "ExecuteTime": {
     "end_time": "2024-05-27T08:24:15.788546Z",
     "start_time": "2024-05-27T08:24:11.718061Z"
    }
   },
   "outputs": [],
   "source": [
    "data3[\"MONTANTREMISE\"]=data3['MONTANTREMISE'].str.replace(',', '.').astype(float)"
   ]
  },
  {
   "cell_type": "code",
   "execution_count": 131,
   "id": "a4af99cf",
   "metadata": {
    "ExecuteTime": {
     "end_time": "2024-05-27T08:24:21.664905Z",
     "start_time": "2024-05-27T08:24:16.376693Z"
    }
   },
   "outputs": [],
   "source": [
    "data3[\"MARGESORTIE\"]=data3['MARGESORTIE'].str.replace(',', '.').astype(float)"
   ]
  },
  {
   "cell_type": "markdown",
   "id": "2f9d934c",
   "metadata": {},
   "source": [
    "Vérification du traitement."
   ]
  },
  {
   "cell_type": "code",
   "execution_count": 132,
   "id": "efaf7db0",
   "metadata": {
    "ExecuteTime": {
     "end_time": "2024-05-27T08:24:21.678148Z",
     "start_time": "2024-05-27T08:24:21.666699Z"
    }
   },
   "outputs": [
    {
     "data": {
      "text/html": [
       "<div>\n",
       "<style scoped>\n",
       "    .dataframe tbody tr th:only-of-type {\n",
       "        vertical-align: middle;\n",
       "    }\n",
       "\n",
       "    .dataframe tbody tr th {\n",
       "        vertical-align: top;\n",
       "    }\n",
       "\n",
       "    .dataframe thead th {\n",
       "        text-align: right;\n",
       "    }\n",
       "</style>\n",
       "<table border=\"1\" class=\"dataframe\">\n",
       "  <thead>\n",
       "    <tr style=\"text-align: right;\">\n",
       "      <th></th>\n",
       "      <th>IDTICKET</th>\n",
       "      <th>NUMLIGNETICKET</th>\n",
       "      <th>IDARTICLE</th>\n",
       "      <th>QUANTITE</th>\n",
       "      <th>MONTANTREMISE</th>\n",
       "      <th>TOTAL</th>\n",
       "      <th>MARGESORTIE</th>\n",
       "    </tr>\n",
       "  </thead>\n",
       "  <tbody>\n",
       "    <tr>\n",
       "      <th>0</th>\n",
       "      <td>190400316260</td>\n",
       "      <td>2</td>\n",
       "      <td>246208</td>\n",
       "      <td>1.0</td>\n",
       "      <td>0.000</td>\n",
       "      <td>4.96</td>\n",
       "      <td>2.37</td>\n",
       "    </tr>\n",
       "    <tr>\n",
       "      <th>1</th>\n",
       "      <td>190400316262</td>\n",
       "      <td>2</td>\n",
       "      <td>33725</td>\n",
       "      <td>1.0</td>\n",
       "      <td>0.000</td>\n",
       "      <td>8.25</td>\n",
       "      <td>3.63</td>\n",
       "    </tr>\n",
       "    <tr>\n",
       "      <th>2</th>\n",
       "      <td>190400316262</td>\n",
       "      <td>3</td>\n",
       "      <td>634497</td>\n",
       "      <td>1.0</td>\n",
       "      <td>0.000</td>\n",
       "      <td>5.79</td>\n",
       "      <td>3.63</td>\n",
       "    </tr>\n",
       "    <tr>\n",
       "      <th>3</th>\n",
       "      <td>190400316262</td>\n",
       "      <td>1</td>\n",
       "      <td>257613</td>\n",
       "      <td>1.0</td>\n",
       "      <td>0.000</td>\n",
       "      <td>18.29</td>\n",
       "      <td>6.21</td>\n",
       "    </tr>\n",
       "    <tr>\n",
       "      <th>4</th>\n",
       "      <td>190400316263</td>\n",
       "      <td>1</td>\n",
       "      <td>257627</td>\n",
       "      <td>1.0</td>\n",
       "      <td>0.000</td>\n",
       "      <td>49.92</td>\n",
       "      <td>10.42</td>\n",
       "    </tr>\n",
       "    <tr>\n",
       "      <th>...</th>\n",
       "      <td>...</td>\n",
       "      <td>...</td>\n",
       "      <td>...</td>\n",
       "      <td>...</td>\n",
       "      <td>...</td>\n",
       "      <td>...</td>\n",
       "      <td>...</td>\n",
       "    </tr>\n",
       "    <tr>\n",
       "      <th>34105700</th>\n",
       "      <td>340200383203</td>\n",
       "      <td>2</td>\n",
       "      <td>257643</td>\n",
       "      <td>1.0</td>\n",
       "      <td>0.000</td>\n",
       "      <td>4.69</td>\n",
       "      <td>1.83</td>\n",
       "    </tr>\n",
       "    <tr>\n",
       "      <th>34105701</th>\n",
       "      <td>340200383203</td>\n",
       "      <td>3</td>\n",
       "      <td>50170</td>\n",
       "      <td>1.0</td>\n",
       "      <td>0.000</td>\n",
       "      <td>3.18</td>\n",
       "      <td>1.00</td>\n",
       "    </tr>\n",
       "    <tr>\n",
       "      <th>34105702</th>\n",
       "      <td>340200383203</td>\n",
       "      <td>4</td>\n",
       "      <td>349345</td>\n",
       "      <td>1.0</td>\n",
       "      <td>0.000</td>\n",
       "      <td>3.46</td>\n",
       "      <td>1.13</td>\n",
       "    </tr>\n",
       "    <tr>\n",
       "      <th>34105703</th>\n",
       "      <td>340200383203</td>\n",
       "      <td>5</td>\n",
       "      <td>250580</td>\n",
       "      <td>2.0</td>\n",
       "      <td>0.000</td>\n",
       "      <td>6.80</td>\n",
       "      <td>2.18</td>\n",
       "    </tr>\n",
       "    <tr>\n",
       "      <th>34105704</th>\n",
       "      <td>340200383217</td>\n",
       "      <td>1</td>\n",
       "      <td>816313</td>\n",
       "      <td>20.0</td>\n",
       "      <td>1.818</td>\n",
       "      <td>1.82</td>\n",
       "      <td>1.42</td>\n",
       "    </tr>\n",
       "  </tbody>\n",
       "</table>\n",
       "<p>34105705 rows × 7 columns</p>\n",
       "</div>"
      ],
      "text/plain": [
       "              IDTICKET NUMLIGNETICKET IDARTICLE  QUANTITE  MONTANTREMISE  \\\n",
       "0         190400316260              2    246208       1.0          0.000   \n",
       "1         190400316262              2     33725       1.0          0.000   \n",
       "2         190400316262              3    634497       1.0          0.000   \n",
       "3         190400316262              1    257613       1.0          0.000   \n",
       "4         190400316263              1    257627       1.0          0.000   \n",
       "...                ...            ...       ...       ...            ...   \n",
       "34105700  340200383203              2    257643       1.0          0.000   \n",
       "34105701  340200383203              3     50170       1.0          0.000   \n",
       "34105702  340200383203              4    349345       1.0          0.000   \n",
       "34105703  340200383203              5    250580       2.0          0.000   \n",
       "34105704  340200383217              1    816313      20.0          1.818   \n",
       "\n",
       "          TOTAL  MARGESORTIE  \n",
       "0          4.96         2.37  \n",
       "1          8.25         3.63  \n",
       "2          5.79         3.63  \n",
       "3         18.29         6.21  \n",
       "4         49.92        10.42  \n",
       "...         ...          ...  \n",
       "34105700   4.69         1.83  \n",
       "34105701   3.18         1.00  \n",
       "34105702   3.46         1.13  \n",
       "34105703   6.80         2.18  \n",
       "34105704   1.82         1.42  \n",
       "\n",
       "[34105705 rows x 7 columns]"
      ]
     },
     "execution_count": 132,
     "metadata": {},
     "output_type": "execute_result"
    }
   ],
   "source": [
    "data3"
   ]
  },
  {
   "cell_type": "markdown",
   "id": "2f9dbcb0",
   "metadata": {},
   "source": [
    "#data3['TOTAL'].replace({'': '0.0'}, inplace=True)"
   ]
  },
  {
   "cell_type": "markdown",
   "id": "c68a0f7c",
   "metadata": {},
   "source": [
    "Vérification du traitement."
   ]
  },
  {
   "cell_type": "code",
   "execution_count": 133,
   "id": "60927fd1",
   "metadata": {
    "ExecuteTime": {
     "end_time": "2024-05-27T08:24:27.356837Z",
     "start_time": "2024-05-27T08:24:27.351428Z"
    }
   },
   "outputs": [
    {
     "name": "stdout",
     "output_type": "stream",
     "text": [
      "<class 'pandas.core.frame.DataFrame'>\n",
      "RangeIndex: 34105705 entries, 0 to 34105704\n",
      "Data columns (total 7 columns):\n",
      " #   Column          Dtype  \n",
      "---  ------          -----  \n",
      " 0   IDTICKET        object \n",
      " 1   NUMLIGNETICKET  object \n",
      " 2   IDARTICLE       object \n",
      " 3   QUANTITE        float64\n",
      " 4   MONTANTREMISE   float64\n",
      " 5   TOTAL           float64\n",
      " 6   MARGESORTIE     float64\n",
      "dtypes: float64(4), object(3)\n",
      "memory usage: 1.8+ GB\n"
     ]
    }
   ],
   "source": [
    "data3.info()"
   ]
  },
  {
   "cell_type": "markdown",
   "id": "a32be6d0",
   "metadata": {},
   "source": [
    "La ligne de code ci-dessous nous permet d'identifier les valeurs en doublons qui conviendra de traiter."
   ]
  },
  {
   "cell_type": "code",
   "execution_count": 134,
   "id": "92b77e2f",
   "metadata": {
    "ExecuteTime": {
     "end_time": "2024-05-27T08:25:15.520421Z",
     "start_time": "2024-05-27T08:24:28.942109Z"
    }
   },
   "outputs": [
    {
     "name": "stdout",
     "output_type": "stream",
     "text": [
      "130\n"
     ]
    }
   ],
   "source": [
    "print(data3.duplicated().sum())\n",
    "data = data3.drop_duplicates()"
   ]
  },
  {
   "cell_type": "markdown",
   "id": "d0ae98d7",
   "metadata": {},
   "source": [
    "Nous allons désormais procéder au traitement de ces doublons."
   ]
  },
  {
   "cell_type": "code",
   "execution_count": 135,
   "id": "fd663935",
   "metadata": {
    "ExecuteTime": {
     "end_time": "2024-05-27T08:25:39.764871Z",
     "start_time": "2024-05-27T08:25:16.997793Z"
    }
   },
   "outputs": [],
   "source": [
    "data3.drop_duplicates(keep='first', inplace=True)"
   ]
  },
  {
   "cell_type": "markdown",
   "id": "65d9a122",
   "metadata": {},
   "source": [
    "Code de vérification."
   ]
  },
  {
   "cell_type": "code",
   "execution_count": 136,
   "id": "4810e6cb",
   "metadata": {
    "ExecuteTime": {
     "end_time": "2024-05-27T08:26:29.543869Z",
     "start_time": "2024-05-27T08:26:08.675840Z"
    }
   },
   "outputs": [
    {
     "name": "stdout",
     "output_type": "stream",
     "text": [
      "0\n"
     ]
    }
   ],
   "source": [
    "print(data3.duplicated().sum())"
   ]
  },
  {
   "cell_type": "markdown",
   "id": "f2552092",
   "metadata": {},
   "source": [
    "Nous procédons également à la vérification de présence ou non de valeurs manquantes (aucune valeur détectée)."
   ]
  },
  {
   "cell_type": "code",
   "execution_count": 138,
   "id": "5d623f90",
   "metadata": {
    "ExecuteTime": {
     "end_time": "2024-05-27T08:26:55.867997Z",
     "start_time": "2024-05-27T08:26:50.310123Z"
    }
   },
   "outputs": [
    {
     "data": {
      "text/html": [
       "<div>\n",
       "<style scoped>\n",
       "    .dataframe tbody tr th:only-of-type {\n",
       "        vertical-align: middle;\n",
       "    }\n",
       "\n",
       "    .dataframe tbody tr th {\n",
       "        vertical-align: top;\n",
       "    }\n",
       "\n",
       "    .dataframe thead th {\n",
       "        text-align: right;\n",
       "    }\n",
       "</style>\n",
       "<table border=\"1\" class=\"dataframe\">\n",
       "  <thead>\n",
       "    <tr style=\"text-align: right;\">\n",
       "      <th></th>\n",
       "      <th>%_missing_values</th>\n",
       "    </tr>\n",
       "  </thead>\n",
       "  <tbody>\n",
       "    <tr>\n",
       "      <th>IDTICKET</th>\n",
       "      <td>0.0</td>\n",
       "    </tr>\n",
       "    <tr>\n",
       "      <th>NUMLIGNETICKET</th>\n",
       "      <td>0.0</td>\n",
       "    </tr>\n",
       "    <tr>\n",
       "      <th>IDARTICLE</th>\n",
       "      <td>0.0</td>\n",
       "    </tr>\n",
       "    <tr>\n",
       "      <th>QUANTITE</th>\n",
       "      <td>0.0</td>\n",
       "    </tr>\n",
       "    <tr>\n",
       "      <th>MONTANTREMISE</th>\n",
       "      <td>0.0</td>\n",
       "    </tr>\n",
       "    <tr>\n",
       "      <th>TOTAL</th>\n",
       "      <td>0.0</td>\n",
       "    </tr>\n",
       "    <tr>\n",
       "      <th>MARGESORTIE</th>\n",
       "      <td>0.0</td>\n",
       "    </tr>\n",
       "  </tbody>\n",
       "</table>\n",
       "</div>"
      ],
      "text/plain": [
       "                %_missing_values\n",
       "IDTICKET                     0.0\n",
       "NUMLIGNETICKET               0.0\n",
       "IDARTICLE                    0.0\n",
       "QUANTITE                     0.0\n",
       "MONTANTREMISE                0.0\n",
       "TOTAL                        0.0\n",
       "MARGESORTIE                  0.0"
      ]
     },
     "execution_count": 138,
     "metadata": {},
     "output_type": "execute_result"
    }
   ],
   "source": [
    "pd.DataFrame(index=data.columns, columns=['%_missing_values'], data= (data.isna().sum().values / len(data)*100))"
   ]
  },
  {
   "cell_type": "markdown",
   "id": "8fb9ac75",
   "metadata": {},
   "source": [
    "Il convient à présent de vérifier la présence de valeur aberrantes."
   ]
  },
  {
   "cell_type": "code",
   "execution_count": 139,
   "id": "493a02bd",
   "metadata": {
    "ExecuteTime": {
     "end_time": "2024-05-27T08:31:15.182917Z",
     "start_time": "2024-05-27T08:27:07.288554Z"
    }
   },
   "outputs": [
    {
     "data": {
      "text/plain": [
       "<Axes: >"
      ]
     },
     "execution_count": 139,
     "metadata": {},
     "output_type": "execute_result"
    },
    {
     "data": {
      "image/png": "[encoded data removed]",
      "text/plain": [
       "<Figure size 640x480 with 1 Axes>"
      ]
     },
     "metadata": {},
     "output_type": "display_data"
    }
   ],
   "source": [
    "# Visualisation des boxplots des variables numériques\n",
    "sns.boxplot(data3)"
   ]
  },
  {
   "cell_type": "markdown",
   "id": "7382dfce",
   "metadata": {},
   "source": [
    "La série de code ci-dessous permet de traiter les valeurs aberrantes en présence, sur chacune des catégories concernées."
   ]
  },
  {
   "cell_type": "code",
   "execution_count": 42,
   "id": "50d456c5",
   "metadata": {
    "ExecuteTime": {
     "end_time": "2024-05-27T08:00:04.849206Z",
     "start_time": "2024-05-27T08:00:03.420474Z"
    }
   },
   "outputs": [
    {
     "name": "stdout",
     "output_type": "stream",
     "text": [
      "Old Shape:  (34105575, 7)\n"
     ]
    }
   ],
   "source": [
    "''' Detection '''\n",
    "# IQR\n",
    "Q1 = np.percentile(data3['QUANTITE'], 25,\n",
    "                   interpolation = 'midpoint')\n",
    " \n",
    "Q3 = np.percentile(data3['QUANTITE'], 75,\n",
    "                   interpolation = 'midpoint')\n",
    "IQR = Q3 - Q1\n",
    " \n",
    "print(\"Old Shape: \", data3.shape)"
   ]
  },
  {
   "cell_type": "code",
   "execution_count": 43,
   "id": "5c526ba4",
   "metadata": {
    "ExecuteTime": {
     "end_time": "2024-05-27T08:00:05.195070Z",
     "start_time": "2024-05-27T08:00:04.959320Z"
    }
   },
   "outputs": [],
   "source": [
    "# Upper bound\n",
    "upper = np.where(data3['QUANTITE'] >= (Q3+1.5*IQR))\n",
    "# Lower bound\n",
    "lower = np.where(data3['QUANTITE'] <= (Q1-1.5*IQR))"
   ]
  },
  {
   "cell_type": "code",
   "execution_count": 44,
   "id": "385936c4",
   "metadata": {
    "ExecuteTime": {
     "end_time": "2024-05-27T08:00:07.718424Z",
     "start_time": "2024-05-27T08:00:05.994066Z"
    }
   },
   "outputs": [
    {
     "name": "stdout",
     "output_type": "stream",
     "text": [
      "Old Shape:  (34105575, 7)\n"
     ]
    }
   ],
   "source": [
    "# IQR\n",
    "Q1 = np.percentile(data3['TOTAL'], 25,\n",
    "                   interpolation = 'midpoint')\n",
    " \n",
    "Q3 = np.percentile(data3['TOTAL'], 75,\n",
    "                   interpolation = 'midpoint')\n",
    "IQR = Q3 - Q1\n",
    " \n",
    "print(\"Old Shape: \", data3.shape)"
   ]
  },
  {
   "cell_type": "code",
   "execution_count": 45,
   "id": "bf1f4d7b",
   "metadata": {
    "ExecuteTime": {
     "end_time": "2024-05-27T08:00:08.476348Z",
     "start_time": "2024-05-27T08:00:08.401891Z"
    }
   },
   "outputs": [],
   "source": [
    "# Upper bound\n",
    "upper = np.where(data3['TOTAL'] >= (Q3+1.5*IQR))\n",
    "# Lower bound\n",
    "lower = np.where(data3['TOTAL'] <= (Q1-1.5*IQR))"
   ]
  },
  {
   "cell_type": "code",
   "execution_count": 46,
   "id": "20b20eb3",
   "metadata": {
    "ExecuteTime": {
     "end_time": "2024-05-27T08:00:10.467431Z",
     "start_time": "2024-05-27T08:00:09.436907Z"
    }
   },
   "outputs": [
    {
     "name": "stdout",
     "output_type": "stream",
     "text": [
      "Old Shape:  (34105575, 7)\n"
     ]
    }
   ],
   "source": [
    "# IQR\n",
    "Q1 = np.percentile(data3['MONTANTREMISE'], 25,\n",
    "                   interpolation = 'midpoint')\n",
    " \n",
    "Q3 = np.percentile(data3['MONTANTREMISE'], 75,\n",
    "                   interpolation = 'midpoint')\n",
    "IQR = Q3 - Q1\n",
    " \n",
    "print(\"Old Shape: \", data3.shape)"
   ]
  },
  {
   "cell_type": "code",
   "execution_count": 47,
   "id": "1852d6d0",
   "metadata": {
    "ExecuteTime": {
     "end_time": "2024-05-27T08:00:10.535739Z",
     "start_time": "2024-05-27T08:00:10.483057Z"
    }
   },
   "outputs": [],
   "source": [
    "# Upper bound\n",
    "upper = np.where(data3['MONTANTREMISE'] >= (Q3+1.5*IQR))\n",
    "# Lower bound\n",
    "lower = np.where(data3['MONTANTREMISE'] <= (Q1-1.5*IQR))"
   ]
  },
  {
   "cell_type": "code",
   "execution_count": 48,
   "id": "71972dee",
   "metadata": {
    "ExecuteTime": {
     "end_time": "2024-05-27T08:00:13.830777Z",
     "start_time": "2024-05-27T08:00:12.028869Z"
    }
   },
   "outputs": [
    {
     "name": "stdout",
     "output_type": "stream",
     "text": [
      "Old Shape:  (34105575, 7)\n"
     ]
    }
   ],
   "source": [
    "# IQR\n",
    "Q1 = np.percentile(data3['MARGESORTIE'], 25,\n",
    "                   interpolation = 'midpoint')\n",
    " \n",
    "Q3 = np.percentile(data3['MARGESORTIE'], 75,\n",
    "                   interpolation = 'midpoint')\n",
    "IQR = Q3 - Q1\n",
    " \n",
    "print(\"Old Shape: \", data3.shape)"
   ]
  },
  {
   "cell_type": "code",
   "execution_count": 49,
   "id": "ed77aa36",
   "metadata": {
    "ExecuteTime": {
     "end_time": "2024-05-27T08:00:14.662550Z",
     "start_time": "2024-05-27T08:00:14.597053Z"
    }
   },
   "outputs": [],
   "source": [
    "# Upper bound\n",
    "upper = np.where(data3['MARGESORTIE'] >= (Q3+1.5*IQR))\n",
    "# Lower bound\n",
    "lower = np.where(data3['MARGESORTIE'] <= (Q1-1.5*IQR))"
   ]
  },
  {
   "cell_type": "code",
   "execution_count": 50,
   "id": "342a6543",
   "metadata": {
    "ExecuteTime": {
     "end_time": "2024-05-27T08:00:15.656103Z",
     "start_time": "2024-05-27T08:00:15.653316Z"
    }
   },
   "outputs": [
    {
     "name": "stdout",
     "output_type": "stream",
     "text": [
      "New Shape:  (34105575, 7)\n"
     ]
    }
   ],
   "source": [
    "print(\"New Shape: \", data3.shape)"
   ]
  },
  {
   "cell_type": "markdown",
   "id": "0c31bbe8",
   "metadata": {},
   "source": [
    "# CHARGEMENT DES BIBLIOTHEQUES"
   ]
  },
  {
   "cell_type": "code",
   "execution_count": 51,
   "id": "a82b5fda",
   "metadata": {
    "ExecuteTime": {
     "end_time": "2024-05-27T08:00:17.507157Z",
     "start_time": "2024-05-27T08:00:17.499935Z"
    }
   },
   "outputs": [],
   "source": [
    "import pandas as pd\n",
    "import matplotlib.pyplot as plt\n",
    "import numpy as np\n",
    "import seaborn as sns\n",
    "\n",
    "from sklearn.linear_model import LogisticRegression\n",
    "from sklearn.model_selection import train_test_split\n",
    "from sklearn.datasets import make_classification\n",
    "from sklearn.metrics import roc_curve, auc\n",
    "from sklearn.metrics import accuracy_score, classification_report, confusion_matrix\n",
    "from sklearn.preprocessing import StandardScaler\n",
    "from sklearn.preprocessing import OneHotEncoder\n",
    "from sklearn.preprocessing import LabelEncoder"
   ]
  },
  {
   "cell_type": "markdown",
   "id": "4e7d517e",
   "metadata": {},
   "source": [
    "Chargement du jeu de données ENTETES TICKET V4."
   ]
  },
  {
   "cell_type": "code",
   "execution_count": 52,
   "id": "4498ad84",
   "metadata": {
    "ExecuteTime": {
     "end_time": "2024-05-27T08:00:24.592794Z",
     "start_time": "2024-05-27T08:00:19.851230Z"
    }
   },
   "outputs": [
    {
     "name": "stdout",
     "output_type": "stream",
     "text": [
      "(6714173, 5)\n",
      "['IDTICKET', 'TIC_DATE', 'MAG_CODE', 'IDCLIENT', 'TIC_TOTALTTC']\n"
     ]
    }
   ],
   "source": [
    "dataset_path = \"C:\\\\Users\\\\belga\\\\OneDrive\\\\Bureau\\\\EMBA Big Data\\\\Module Datascience\\\\Projet Data Science S2 2024\\\\ENTETES_TICKET_V4.csv\"\n",
    "data2 = pd.read_csv(dataset_path, sep='|', low_memory=False)\n",
    "print(data2.shape)\n",
    "print(list(data2.columns))\n"
   ]
  },
  {
   "cell_type": "markdown",
   "id": "79513048",
   "metadata": {},
   "source": [
    "La ligne de code ci-dessous nous permet de connaître le détail des colonnes ainsi que le type de données constituant notre base (numérique ou caractères)."
   ]
  },
  {
   "cell_type": "code",
   "execution_count": 53,
   "id": "11f05dee",
   "metadata": {
    "ExecuteTime": {
     "end_time": "2024-05-27T08:00:26.191059Z",
     "start_time": "2024-05-27T08:00:26.178616Z"
    }
   },
   "outputs": [
    {
     "name": "stdout",
     "output_type": "stream",
     "text": [
      "<class 'pandas.core.frame.DataFrame'>\n",
      "RangeIndex: 6714173 entries, 0 to 6714172\n",
      "Data columns (total 5 columns):\n",
      " #   Column        Dtype  \n",
      "---  ------        -----  \n",
      " 0   IDTICKET      int64  \n",
      " 1   TIC_DATE      object \n",
      " 2   MAG_CODE      object \n",
      " 3   IDCLIENT      float64\n",
      " 4   TIC_TOTALTTC  object \n",
      "dtypes: float64(1), int64(1), object(3)\n",
      "memory usage: 256.1+ MB\n"
     ]
    }
   ],
   "source": [
    "data2.info()"
   ]
  },
  {
   "cell_type": "markdown",
   "id": "b94846dd",
   "metadata": {},
   "source": [
    "Aperçu de notre jeu de données. "
   ]
  },
  {
   "cell_type": "code",
   "execution_count": 54,
   "id": "0892088b",
   "metadata": {
    "ExecuteTime": {
     "end_time": "2024-05-27T08:00:27.785297Z",
     "start_time": "2024-05-27T08:00:27.777170Z"
    }
   },
   "outputs": [
    {
     "data": {
      "text/html": [
       "<div>\n",
       "<style scoped>\n",
       "    .dataframe tbody tr th:only-of-type {\n",
       "        vertical-align: middle;\n",
       "    }\n",
       "\n",
       "    .dataframe tbody tr th {\n",
       "        vertical-align: top;\n",
       "    }\n",
       "\n",
       "    .dataframe thead th {\n",
       "        text-align: right;\n",
       "    }\n",
       "</style>\n",
       "<table border=\"1\" class=\"dataframe\">\n",
       "  <thead>\n",
       "    <tr style=\"text-align: right;\">\n",
       "      <th></th>\n",
       "      <th>IDTICKET</th>\n",
       "      <th>TIC_DATE</th>\n",
       "      <th>MAG_CODE</th>\n",
       "      <th>IDCLIENT</th>\n",
       "      <th>TIC_TOTALTTC</th>\n",
       "    </tr>\n",
       "  </thead>\n",
       "  <tbody>\n",
       "    <tr>\n",
       "      <th>0</th>\n",
       "      <td>50100150510</td>\n",
       "      <td>2016-01-02 11:01:33</td>\n",
       "      <td>ALB</td>\n",
       "      <td>2995104.0</td>\n",
       "      <td>12,9</td>\n",
       "    </tr>\n",
       "    <tr>\n",
       "      <th>1</th>\n",
       "      <td>50100150511</td>\n",
       "      <td>2016-01-02 11:02:10</td>\n",
       "      <td>ALB</td>\n",
       "      <td>1411117.0</td>\n",
       "      <td>131,06</td>\n",
       "    </tr>\n",
       "    <tr>\n",
       "      <th>2</th>\n",
       "      <td>50100150515</td>\n",
       "      <td>2016-01-02 12:03:27</td>\n",
       "      <td>ALB</td>\n",
       "      <td>222592.0</td>\n",
       "      <td>34,69</td>\n",
       "    </tr>\n",
       "    <tr>\n",
       "      <th>3</th>\n",
       "      <td>50100150517</td>\n",
       "      <td>2016-01-02 14:23:21</td>\n",
       "      <td>ALB</td>\n",
       "      <td>2979958.0</td>\n",
       "      <td>97,58</td>\n",
       "    </tr>\n",
       "    <tr>\n",
       "      <th>4</th>\n",
       "      <td>50100150518</td>\n",
       "      <td>2016-01-02 14:26:53</td>\n",
       "      <td>ALB</td>\n",
       "      <td>2858676.0</td>\n",
       "      <td>4,7</td>\n",
       "    </tr>\n",
       "    <tr>\n",
       "      <th>...</th>\n",
       "      <td>...</td>\n",
       "      <td>...</td>\n",
       "      <td>...</td>\n",
       "      <td>...</td>\n",
       "      <td>...</td>\n",
       "    </tr>\n",
       "    <tr>\n",
       "      <th>6714168</th>\n",
       "      <td>1340300014404</td>\n",
       "      <td>2016-12-27 16:31:52</td>\n",
       "      <td>RMA</td>\n",
       "      <td>2292927.0</td>\n",
       "      <td>59,45</td>\n",
       "    </tr>\n",
       "    <tr>\n",
       "      <th>6714169</th>\n",
       "      <td>1340300014407</td>\n",
       "      <td>2016-12-27 16:35:21</td>\n",
       "      <td>RMA</td>\n",
       "      <td>3189844.0</td>\n",
       "      <td>26,9</td>\n",
       "    </tr>\n",
       "    <tr>\n",
       "      <th>6714170</th>\n",
       "      <td>1340300014409</td>\n",
       "      <td>2016-12-27 16:38:59</td>\n",
       "      <td>RMA</td>\n",
       "      <td>3125998.0</td>\n",
       "      <td>22,15</td>\n",
       "    </tr>\n",
       "    <tr>\n",
       "      <th>6714171</th>\n",
       "      <td>1340300014438</td>\n",
       "      <td>2016-12-27 17:17:30</td>\n",
       "      <td>RMA</td>\n",
       "      <td>3252348.0</td>\n",
       "      <td>118,01</td>\n",
       "    </tr>\n",
       "    <tr>\n",
       "      <th>6714172</th>\n",
       "      <td>1340300014440</td>\n",
       "      <td>2016-12-27 17:24:15</td>\n",
       "      <td>RMA</td>\n",
       "      <td>3243933.0</td>\n",
       "      <td>44,8</td>\n",
       "    </tr>\n",
       "  </tbody>\n",
       "</table>\n",
       "<p>6714173 rows × 5 columns</p>\n",
       "</div>"
      ],
      "text/plain": [
       "              IDTICKET             TIC_DATE MAG_CODE   IDCLIENT TIC_TOTALTTC\n",
       "0          50100150510  2016-01-02 11:01:33      ALB  2995104.0         12,9\n",
       "1          50100150511  2016-01-02 11:02:10      ALB  1411117.0       131,06\n",
       "2          50100150515  2016-01-02 12:03:27      ALB   222592.0        34,69\n",
       "3          50100150517  2016-01-02 14:23:21      ALB  2979958.0        97,58\n",
       "4          50100150518  2016-01-02 14:26:53      ALB  2858676.0          4,7\n",
       "...                ...                  ...      ...        ...          ...\n",
       "6714168  1340300014404  2016-12-27 16:31:52      RMA  2292927.0        59,45\n",
       "6714169  1340300014407  2016-12-27 16:35:21      RMA  3189844.0         26,9\n",
       "6714170  1340300014409  2016-12-27 16:38:59      RMA  3125998.0        22,15\n",
       "6714171  1340300014438  2016-12-27 17:17:30      RMA  3252348.0       118,01\n",
       "6714172  1340300014440  2016-12-27 17:24:15      RMA  3243933.0         44,8\n",
       "\n",
       "[6714173 rows x 5 columns]"
      ]
     },
     "execution_count": 54,
     "metadata": {},
     "output_type": "execute_result"
    }
   ],
   "source": [
    "data2"
   ]
  },
  {
   "cell_type": "markdown",
   "id": "d2c72a65",
   "metadata": {},
   "source": [
    "Afin d'exploiter de façon optimale les informations, nous allons convetir les l'ID TICKET et le NUM LIGNE TICKET en caractère. A l'inverse, nous devons convertir le total TTC en valeur numérique."
   ]
  },
  {
   "cell_type": "code",
   "execution_count": 55,
   "id": "5d7a79f6",
   "metadata": {
    "ExecuteTime": {
     "end_time": "2024-05-27T08:00:32.478122Z",
     "start_time": "2024-05-27T08:00:29.434765Z"
    }
   },
   "outputs": [],
   "source": [
    "data2['IDTICKET'] = data2['IDTICKET'].astype(str)\n",
    "data2['IDCLIENT'] = data2['IDCLIENT'].astype(str)"
   ]
  },
  {
   "cell_type": "code",
   "execution_count": 56,
   "id": "8e554f01",
   "metadata": {
    "ExecuteTime": {
     "end_time": "2024-05-27T08:00:34.303177Z",
     "start_time": "2024-05-27T08:00:33.251577Z"
    }
   },
   "outputs": [],
   "source": [
    "data2['TIC_TOTALTTC'] = data2['TIC_TOTALTTC'].str.replace(',', '.')"
   ]
  },
  {
   "cell_type": "code",
   "execution_count": 57,
   "id": "62ab6e1c",
   "metadata": {
    "ExecuteTime": {
     "end_time": "2024-05-27T08:00:35.417864Z",
     "start_time": "2024-05-27T08:00:34.959837Z"
    }
   },
   "outputs": [],
   "source": [
    "data2['TIC_TOTALTTC'] = data2['TIC_TOTALTTC'].str.strip('\\\"')"
   ]
  },
  {
   "cell_type": "code",
   "execution_count": 58,
   "id": "6b710a98",
   "metadata": {
    "ExecuteTime": {
     "end_time": "2024-05-27T08:00:38.269899Z",
     "start_time": "2024-05-27T08:00:36.521981Z"
    }
   },
   "outputs": [],
   "source": [
    "data2['TIC_TOTALTTC'] = pd.to_numeric(data2['TIC_TOTALTTC'], errors='coerce')"
   ]
  },
  {
   "cell_type": "markdown",
   "id": "df7b8fab",
   "metadata": {},
   "source": [
    "Vérification du traitement."
   ]
  },
  {
   "cell_type": "code",
   "execution_count": 59,
   "id": "04839e6d",
   "metadata": {
    "ExecuteTime": {
     "end_time": "2024-05-27T08:00:41.007491Z",
     "start_time": "2024-05-27T08:00:40.983613Z"
    }
   },
   "outputs": [
    {
     "name": "stdout",
     "output_type": "stream",
     "text": [
      "<class 'pandas.core.frame.DataFrame'>\n",
      "RangeIndex: 6714173 entries, 0 to 6714172\n",
      "Data columns (total 5 columns):\n",
      " #   Column        Dtype  \n",
      "---  ------        -----  \n",
      " 0   IDTICKET      object \n",
      " 1   TIC_DATE      object \n",
      " 2   MAG_CODE      object \n",
      " 3   IDCLIENT      object \n",
      " 4   TIC_TOTALTTC  float64\n",
      "dtypes: float64(1), object(4)\n",
      "memory usage: 256.1+ MB\n"
     ]
    }
   ],
   "source": [
    "data2.info()"
   ]
  },
  {
   "cell_type": "code",
   "execution_count": 60,
   "id": "446ed3fd",
   "metadata": {
    "ExecuteTime": {
     "end_time": "2024-05-27T08:00:41.914498Z",
     "start_time": "2024-05-27T08:00:41.906701Z"
    }
   },
   "outputs": [
    {
     "data": {
      "text/html": [
       "<div>\n",
       "<style scoped>\n",
       "    .dataframe tbody tr th:only-of-type {\n",
       "        vertical-align: middle;\n",
       "    }\n",
       "\n",
       "    .dataframe tbody tr th {\n",
       "        vertical-align: top;\n",
       "    }\n",
       "\n",
       "    .dataframe thead th {\n",
       "        text-align: right;\n",
       "    }\n",
       "</style>\n",
       "<table border=\"1\" class=\"dataframe\">\n",
       "  <thead>\n",
       "    <tr style=\"text-align: right;\">\n",
       "      <th></th>\n",
       "      <th>IDTICKET</th>\n",
       "      <th>TIC_DATE</th>\n",
       "      <th>MAG_CODE</th>\n",
       "      <th>IDCLIENT</th>\n",
       "      <th>TIC_TOTALTTC</th>\n",
       "    </tr>\n",
       "  </thead>\n",
       "  <tbody>\n",
       "    <tr>\n",
       "      <th>0</th>\n",
       "      <td>50100150510</td>\n",
       "      <td>2016-01-02 11:01:33</td>\n",
       "      <td>ALB</td>\n",
       "      <td>2995104.0</td>\n",
       "      <td>12.90</td>\n",
       "    </tr>\n",
       "    <tr>\n",
       "      <th>1</th>\n",
       "      <td>50100150511</td>\n",
       "      <td>2016-01-02 11:02:10</td>\n",
       "      <td>ALB</td>\n",
       "      <td>1411117.0</td>\n",
       "      <td>131.06</td>\n",
       "    </tr>\n",
       "    <tr>\n",
       "      <th>2</th>\n",
       "      <td>50100150515</td>\n",
       "      <td>2016-01-02 12:03:27</td>\n",
       "      <td>ALB</td>\n",
       "      <td>222592.0</td>\n",
       "      <td>34.69</td>\n",
       "    </tr>\n",
       "    <tr>\n",
       "      <th>3</th>\n",
       "      <td>50100150517</td>\n",
       "      <td>2016-01-02 14:23:21</td>\n",
       "      <td>ALB</td>\n",
       "      <td>2979958.0</td>\n",
       "      <td>97.58</td>\n",
       "    </tr>\n",
       "    <tr>\n",
       "      <th>4</th>\n",
       "      <td>50100150518</td>\n",
       "      <td>2016-01-02 14:26:53</td>\n",
       "      <td>ALB</td>\n",
       "      <td>2858676.0</td>\n",
       "      <td>4.70</td>\n",
       "    </tr>\n",
       "    <tr>\n",
       "      <th>...</th>\n",
       "      <td>...</td>\n",
       "      <td>...</td>\n",
       "      <td>...</td>\n",
       "      <td>...</td>\n",
       "      <td>...</td>\n",
       "    </tr>\n",
       "    <tr>\n",
       "      <th>6714168</th>\n",
       "      <td>1340300014404</td>\n",
       "      <td>2016-12-27 16:31:52</td>\n",
       "      <td>RMA</td>\n",
       "      <td>2292927.0</td>\n",
       "      <td>59.45</td>\n",
       "    </tr>\n",
       "    <tr>\n",
       "      <th>6714169</th>\n",
       "      <td>1340300014407</td>\n",
       "      <td>2016-12-27 16:35:21</td>\n",
       "      <td>RMA</td>\n",
       "      <td>3189844.0</td>\n",
       "      <td>26.90</td>\n",
       "    </tr>\n",
       "    <tr>\n",
       "      <th>6714170</th>\n",
       "      <td>1340300014409</td>\n",
       "      <td>2016-12-27 16:38:59</td>\n",
       "      <td>RMA</td>\n",
       "      <td>3125998.0</td>\n",
       "      <td>22.15</td>\n",
       "    </tr>\n",
       "    <tr>\n",
       "      <th>6714171</th>\n",
       "      <td>1340300014438</td>\n",
       "      <td>2016-12-27 17:17:30</td>\n",
       "      <td>RMA</td>\n",
       "      <td>3252348.0</td>\n",
       "      <td>118.01</td>\n",
       "    </tr>\n",
       "    <tr>\n",
       "      <th>6714172</th>\n",
       "      <td>1340300014440</td>\n",
       "      <td>2016-12-27 17:24:15</td>\n",
       "      <td>RMA</td>\n",
       "      <td>3243933.0</td>\n",
       "      <td>44.80</td>\n",
       "    </tr>\n",
       "  </tbody>\n",
       "</table>\n",
       "<p>6714173 rows × 5 columns</p>\n",
       "</div>"
      ],
      "text/plain": [
       "              IDTICKET             TIC_DATE MAG_CODE   IDCLIENT  TIC_TOTALTTC\n",
       "0          50100150510  2016-01-02 11:01:33      ALB  2995104.0         12.90\n",
       "1          50100150511  2016-01-02 11:02:10      ALB  1411117.0        131.06\n",
       "2          50100150515  2016-01-02 12:03:27      ALB   222592.0         34.69\n",
       "3          50100150517  2016-01-02 14:23:21      ALB  2979958.0         97.58\n",
       "4          50100150518  2016-01-02 14:26:53      ALB  2858676.0          4.70\n",
       "...                ...                  ...      ...        ...           ...\n",
       "6714168  1340300014404  2016-12-27 16:31:52      RMA  2292927.0         59.45\n",
       "6714169  1340300014407  2016-12-27 16:35:21      RMA  3189844.0         26.90\n",
       "6714170  1340300014409  2016-12-27 16:38:59      RMA  3125998.0         22.15\n",
       "6714171  1340300014438  2016-12-27 17:17:30      RMA  3252348.0        118.01\n",
       "6714172  1340300014440  2016-12-27 17:24:15      RMA  3243933.0         44.80\n",
       "\n",
       "[6714173 rows x 5 columns]"
      ]
     },
     "execution_count": 60,
     "metadata": {},
     "output_type": "execute_result"
    }
   ],
   "source": [
    "data2"
   ]
  },
  {
   "cell_type": "markdown",
   "id": "79c6210e",
   "metadata": {},
   "source": [
    "La ligne de code ci-dessous nous permet de formater le format de la date."
   ]
  },
  {
   "cell_type": "code",
   "execution_count": 61,
   "id": "9f89852123cb09b0",
   "metadata": {
    "ExecuteTime": {
     "end_time": "2024-05-27T08:00:43.594277Z",
     "start_time": "2024-05-27T08:00:43.590443Z"
    }
   },
   "outputs": [
    {
     "name": "stdout",
     "output_type": "stream",
     "text": [
      "TIC_DATE\n"
     ]
    }
   ],
   "source": [
    "# Convertir un timedelta64[ns] en timedelta\n",
    "timedelta_ns = np.timedelta64(10, 'ns') \n",
    "TIC_DATE = timedelta_ns.astype('timedelta64[D]') \n",
    "\n",
    "# Afficher le résultat\n",
    "print('TIC_DATE')"
   ]
  },
  {
   "cell_type": "code",
   "execution_count": 62,
   "id": "45452193",
   "metadata": {
    "ExecuteTime": {
     "end_time": "2024-05-27T08:00:59.986532Z",
     "start_time": "2024-05-27T08:00:44.360803Z"
    }
   },
   "outputs": [],
   "source": [
    "from datetime import datetime\n",
    "data2['TIC_DATE'] = pd.to_datetime(data2['TIC_DATE'], format=\"%Y-%m-%d %H:%M:%S\")\n",
    "data2['TIC_DATE'] = data2['TIC_DATE'].dt.strftime(\"%d/%m/%Y\")"
   ]
  },
  {
   "cell_type": "markdown",
   "id": "06977e1e",
   "metadata": {},
   "source": [
    "Vérification du traitement."
   ]
  },
  {
   "cell_type": "code",
   "execution_count": 63,
   "id": "366f31f3",
   "metadata": {
    "ExecuteTime": {
     "end_time": "2024-05-27T08:01:02.838344Z",
     "start_time": "2024-05-27T08:01:02.824760Z"
    }
   },
   "outputs": [
    {
     "data": {
      "text/html": [
       "<div>\n",
       "<style scoped>\n",
       "    .dataframe tbody tr th:only-of-type {\n",
       "        vertical-align: middle;\n",
       "    }\n",
       "\n",
       "    .dataframe tbody tr th {\n",
       "        vertical-align: top;\n",
       "    }\n",
       "\n",
       "    .dataframe thead th {\n",
       "        text-align: right;\n",
       "    }\n",
       "</style>\n",
       "<table border=\"1\" class=\"dataframe\">\n",
       "  <thead>\n",
       "    <tr style=\"text-align: right;\">\n",
       "      <th></th>\n",
       "      <th>IDTICKET</th>\n",
       "      <th>TIC_DATE</th>\n",
       "      <th>MAG_CODE</th>\n",
       "      <th>IDCLIENT</th>\n",
       "      <th>TIC_TOTALTTC</th>\n",
       "    </tr>\n",
       "  </thead>\n",
       "  <tbody>\n",
       "    <tr>\n",
       "      <th>0</th>\n",
       "      <td>50100150510</td>\n",
       "      <td>02/01/2016</td>\n",
       "      <td>ALB</td>\n",
       "      <td>2995104.0</td>\n",
       "      <td>12.90</td>\n",
       "    </tr>\n",
       "    <tr>\n",
       "      <th>1</th>\n",
       "      <td>50100150511</td>\n",
       "      <td>02/01/2016</td>\n",
       "      <td>ALB</td>\n",
       "      <td>1411117.0</td>\n",
       "      <td>131.06</td>\n",
       "    </tr>\n",
       "    <tr>\n",
       "      <th>2</th>\n",
       "      <td>50100150515</td>\n",
       "      <td>02/01/2016</td>\n",
       "      <td>ALB</td>\n",
       "      <td>222592.0</td>\n",
       "      <td>34.69</td>\n",
       "    </tr>\n",
       "    <tr>\n",
       "      <th>3</th>\n",
       "      <td>50100150517</td>\n",
       "      <td>02/01/2016</td>\n",
       "      <td>ALB</td>\n",
       "      <td>2979958.0</td>\n",
       "      <td>97.58</td>\n",
       "    </tr>\n",
       "    <tr>\n",
       "      <th>4</th>\n",
       "      <td>50100150518</td>\n",
       "      <td>02/01/2016</td>\n",
       "      <td>ALB</td>\n",
       "      <td>2858676.0</td>\n",
       "      <td>4.70</td>\n",
       "    </tr>\n",
       "    <tr>\n",
       "      <th>...</th>\n",
       "      <td>...</td>\n",
       "      <td>...</td>\n",
       "      <td>...</td>\n",
       "      <td>...</td>\n",
       "      <td>...</td>\n",
       "    </tr>\n",
       "    <tr>\n",
       "      <th>6714168</th>\n",
       "      <td>1340300014404</td>\n",
       "      <td>27/12/2016</td>\n",
       "      <td>RMA</td>\n",
       "      <td>2292927.0</td>\n",
       "      <td>59.45</td>\n",
       "    </tr>\n",
       "    <tr>\n",
       "      <th>6714169</th>\n",
       "      <td>1340300014407</td>\n",
       "      <td>27/12/2016</td>\n",
       "      <td>RMA</td>\n",
       "      <td>3189844.0</td>\n",
       "      <td>26.90</td>\n",
       "    </tr>\n",
       "    <tr>\n",
       "      <th>6714170</th>\n",
       "      <td>1340300014409</td>\n",
       "      <td>27/12/2016</td>\n",
       "      <td>RMA</td>\n",
       "      <td>3125998.0</td>\n",
       "      <td>22.15</td>\n",
       "    </tr>\n",
       "    <tr>\n",
       "      <th>6714171</th>\n",
       "      <td>1340300014438</td>\n",
       "      <td>27/12/2016</td>\n",
       "      <td>RMA</td>\n",
       "      <td>3252348.0</td>\n",
       "      <td>118.01</td>\n",
       "    </tr>\n",
       "    <tr>\n",
       "      <th>6714172</th>\n",
       "      <td>1340300014440</td>\n",
       "      <td>27/12/2016</td>\n",
       "      <td>RMA</td>\n",
       "      <td>3243933.0</td>\n",
       "      <td>44.80</td>\n",
       "    </tr>\n",
       "  </tbody>\n",
       "</table>\n",
       "<p>6714173 rows × 5 columns</p>\n",
       "</div>"
      ],
      "text/plain": [
       "              IDTICKET    TIC_DATE MAG_CODE   IDCLIENT  TIC_TOTALTTC\n",
       "0          50100150510  02/01/2016      ALB  2995104.0         12.90\n",
       "1          50100150511  02/01/2016      ALB  1411117.0        131.06\n",
       "2          50100150515  02/01/2016      ALB   222592.0         34.69\n",
       "3          50100150517  02/01/2016      ALB  2979958.0         97.58\n",
       "4          50100150518  02/01/2016      ALB  2858676.0          4.70\n",
       "...                ...         ...      ...        ...           ...\n",
       "6714168  1340300014404  27/12/2016      RMA  2292927.0         59.45\n",
       "6714169  1340300014407  27/12/2016      RMA  3189844.0         26.90\n",
       "6714170  1340300014409  27/12/2016      RMA  3125998.0         22.15\n",
       "6714171  1340300014438  27/12/2016      RMA  3252348.0        118.01\n",
       "6714172  1340300014440  27/12/2016      RMA  3243933.0         44.80\n",
       "\n",
       "[6714173 rows x 5 columns]"
      ]
     },
     "execution_count": 63,
     "metadata": {},
     "output_type": "execute_result"
    }
   ],
   "source": [
    "data2"
   ]
  },
  {
   "cell_type": "markdown",
   "id": "6ed98f20",
   "metadata": {},
   "source": [
    "Cette ligne de code nous permet d'identifier le nombre d'occurence de chaque code magasin, pour identifier les éventuels regroupements à effectuer. "
   ]
  },
  {
   "cell_type": "code",
   "execution_count": 64,
   "id": "ff4544be",
   "metadata": {
    "ExecuteTime": {
     "end_time": "2024-05-27T08:01:06.026675Z",
     "start_time": "2024-05-27T08:01:05.879914Z"
    }
   },
   "outputs": [
    {
     "data": {
      "text/plain": [
       "MAG_CODE\n",
       "SSM    246506\n",
       "MOB    221283\n",
       "HEI    219713\n",
       "BEA    205468\n",
       "GEX    196669\n",
       "        ...  \n",
       "CLI     31063\n",
       "STR     26694\n",
       "SCH     25502\n",
       "BAR     18254\n",
       "SAL     18245\n",
       "Name: count, Length: 66, dtype: int64"
      ]
     },
     "execution_count": 64,
     "metadata": {},
     "output_type": "execute_result"
    }
   ],
   "source": [
    "#modalités variables:\n",
    "data2['MAG_CODE'].value_counts(dropna = False)"
   ]
  },
  {
   "cell_type": "markdown",
   "id": "481d522f",
   "metadata": {},
   "source": [
    "La ligne de code ci-dessous nous permet d'identifier la présence ou non de valeur(s) en doublons."
   ]
  },
  {
   "cell_type": "code",
   "execution_count": 65,
   "id": "5a7ccf1b",
   "metadata": {
    "ExecuteTime": {
     "end_time": "2024-05-27T08:01:27.736452Z",
     "start_time": "2024-05-27T08:01:07.544036Z"
    }
   },
   "outputs": [
    {
     "name": "stdout",
     "output_type": "stream",
     "text": [
      "0\n"
     ]
    }
   ],
   "source": [
    "print(data2.duplicated().sum())\n",
    "data = data2.drop_duplicates()"
   ]
  },
  {
   "cell_type": "markdown",
   "id": "02abdc47",
   "metadata": {},
   "source": [
    "La ligne de code ci-dessous nous permet d'identifier la présence ou non de valeur(s) manquante(s)"
   ]
  },
  {
   "cell_type": "code",
   "execution_count": 112,
   "id": "fbd5948c",
   "metadata": {
    "ExecuteTime": {
     "end_time": "2024-05-27T08:20:59.823474Z",
     "start_time": "2024-05-27T08:20:56.380765Z"
    }
   },
   "outputs": [
    {
     "data": {
      "text/html": [
       "<div>\n",
       "<style scoped>\n",
       "    .dataframe tbody tr th:only-of-type {\n",
       "        vertical-align: middle;\n",
       "    }\n",
       "\n",
       "    .dataframe tbody tr th {\n",
       "        vertical-align: top;\n",
       "    }\n",
       "\n",
       "    .dataframe thead th {\n",
       "        text-align: right;\n",
       "    }\n",
       "</style>\n",
       "<table border=\"1\" class=\"dataframe\">\n",
       "  <thead>\n",
       "    <tr style=\"text-align: right;\">\n",
       "      <th></th>\n",
       "      <th>%_missing_values</th>\n",
       "    </tr>\n",
       "  </thead>\n",
       "  <tbody>\n",
       "    <tr>\n",
       "      <th>IDTICKET</th>\n",
       "      <td>0.0</td>\n",
       "    </tr>\n",
       "    <tr>\n",
       "      <th>TIC_DATE</th>\n",
       "      <td>0.0</td>\n",
       "    </tr>\n",
       "    <tr>\n",
       "      <th>MAG_CODE</th>\n",
       "      <td>0.0</td>\n",
       "    </tr>\n",
       "    <tr>\n",
       "      <th>IDCLIENT</th>\n",
       "      <td>0.0</td>\n",
       "    </tr>\n",
       "    <tr>\n",
       "      <th>TIC_TOTALTTC</th>\n",
       "      <td>0.0</td>\n",
       "    </tr>\n",
       "  </tbody>\n",
       "</table>\n",
       "</div>"
      ],
      "text/plain": [
       "              %_missing_values\n",
       "IDTICKET                   0.0\n",
       "TIC_DATE                   0.0\n",
       "MAG_CODE                   0.0\n",
       "IDCLIENT                   0.0\n",
       "TIC_TOTALTTC               0.0"
      ]
     },
     "execution_count": 112,
     "metadata": {},
     "output_type": "execute_result"
    }
   ],
   "source": [
    "pd.DataFrame(index=data.columns, columns=['%_missing_values'], data= (data.isna().sum().values / len(data)*100))"
   ]
  },
  {
   "cell_type": "markdown",
   "id": "d0bb6051",
   "metadata": {},
   "source": [
    "Il convient à présent de vérifier la présence de valeur aberrantes."
   ]
  },
  {
   "cell_type": "code",
   "execution_count": 113,
   "id": "f42924ad",
   "metadata": {
    "ExecuteTime": {
     "end_time": "2024-05-27T08:21:48.056287Z",
     "start_time": "2024-05-27T08:21:05.690731Z"
    }
   },
   "outputs": [
    {
     "data": {
      "text/plain": [
       "<Axes: >"
      ]
     },
     "execution_count": 113,
     "metadata": {},
     "output_type": "execute_result"
    },
    {
     "data": {
      "image/png": "[encoded data removed]",
      "text/plain": [
       "<Figure size 640x480 with 1 Axes>"
      ]
     },
     "metadata": {},
     "output_type": "display_data"
    }
   ],
   "source": [
    "#1ère méthode boxplot\n",
    "import seaborn as sns\n",
    "import matplotlib.pyplot as plt\n",
    "\n",
    "# Visualisation des boxplots des variables numériques\n",
    "sns.boxplot(data2)"
   ]
  },
  {
   "cell_type": "markdown",
   "id": "cc64491b",
   "metadata": {},
   "source": [
    "La série de code ci-dessous permet de traiter les valeurs aberrantes en présence."
   ]
  },
  {
   "cell_type": "code",
   "execution_count": 68,
   "id": "bfc03624",
   "metadata": {
    "ExecuteTime": {
     "end_time": "2024-05-27T08:03:11.858278Z",
     "start_time": "2024-05-27T08:03:11.529402Z"
    }
   },
   "outputs": [
    {
     "name": "stdout",
     "output_type": "stream",
     "text": [
      "Old Shape:  (6714173, 5)\n"
     ]
    }
   ],
   "source": [
    "''' Detection '''\n",
    "# IQR\n",
    "Q1 = np.percentile(data2['TIC_TOTALTTC'], 25,\n",
    "                   interpolation = 'midpoint')\n",
    " \n",
    "Q3 = np.percentile(data2['TIC_TOTALTTC'], 75,\n",
    "                   interpolation = 'midpoint')\n",
    "IQR = Q3 - Q1\n",
    " \n",
    "print(\"Old Shape: \", data2.shape)"
   ]
  },
  {
   "cell_type": "code",
   "execution_count": 69,
   "id": "e018beb3",
   "metadata": {
    "ExecuteTime": {
     "end_time": "2024-05-27T08:03:13.512612Z",
     "start_time": "2024-05-27T08:03:13.441456Z"
    }
   },
   "outputs": [],
   "source": [
    "# Upper bound\n",
    "upper = np.where(data2['TIC_TOTALTTC'] >= (Q3+1.5*IQR))\n",
    "# Lower bound\n",
    "lower = np.where(data2['TIC_TOTALTTC'] <= (Q1-1.5*IQR))"
   ]
  },
  {
   "cell_type": "code",
   "execution_count": 70,
   "id": "a6d52c9b",
   "metadata": {
    "ExecuteTime": {
     "end_time": "2024-05-27T08:03:17.354489Z",
     "start_time": "2024-05-27T08:03:14.660733Z"
    }
   },
   "outputs": [],
   "source": [
    "''' Removing the Outliers '''\n",
    "data2.drop(upper[0], inplace = True)\n",
    "data2.drop(lower[0], inplace = True)"
   ]
  },
  {
   "cell_type": "code",
   "execution_count": 71,
   "id": "8b2d4c48",
   "metadata": {
    "ExecuteTime": {
     "end_time": "2024-05-27T08:03:18.938799Z",
     "start_time": "2024-05-27T08:03:18.934650Z"
    }
   },
   "outputs": [
    {
     "name": "stdout",
     "output_type": "stream",
     "text": [
      "New Shape:  (6278461, 5)\n"
     ]
    }
   ],
   "source": [
    "print(\"New Shape: \", data2.shape)"
   ]
  },
  {
   "cell_type": "markdown",
   "id": "5edd09c5",
   "metadata": {},
   "source": [
    "CALCUL DU NOMBRES DE MAGASINS (Mag Code) FREQUENTE PAR UN CLIENT (ID Client)."
   ]
  },
  {
   "cell_type": "code",
   "execution_count": 114,
   "id": "82ec4400",
   "metadata": {
    "ExecuteTime": {
     "end_time": "2024-05-27T08:22:12.162716Z",
     "start_time": "2024-05-27T08:22:12.133239Z"
    }
   },
   "outputs": [],
   "source": [
    "data2['IDCLIENT'] = data2['IDCLIENT'].astype(float)"
   ]
  },
  {
   "cell_type": "code",
   "execution_count": 115,
   "id": "647517d0",
   "metadata": {
    "ExecuteTime": {
     "end_time": "2024-05-27T08:22:12.904709Z",
     "start_time": "2024-05-27T08:22:12.880413Z"
    }
   },
   "outputs": [],
   "source": [
    "data2['IDCLIENT'] = data2['IDCLIENT'].astype(int)"
   ]
  },
  {
   "cell_type": "code",
   "execution_count": 116,
   "id": "e79ee648",
   "metadata": {
    "ExecuteTime": {
     "end_time": "2024-05-27T08:22:13.792134Z",
     "start_time": "2024-05-27T08:22:13.786084Z"
    }
   },
   "outputs": [
    {
     "name": "stdout",
     "output_type": "stream",
     "text": [
      "<class 'pandas.core.frame.DataFrame'>\n",
      "Index: 6278461 entries, 654916 to 6134376\n",
      "Data columns (total 7 columns):\n",
      " #   Column          Dtype          \n",
      "---  ------          -----          \n",
      " 0   IDTICKET        object         \n",
      " 1   TIC_DATE        datetime64[ns] \n",
      " 2   MAG_CODE        object         \n",
      " 3   IDCLIENT        int64          \n",
      " 4   TIC_TOTALTTC    float64        \n",
      " 5   FREQUENCE_MAG   float64        \n",
      " 6   ANCIENNETE_CDE  timedelta64[ns]\n",
      "dtypes: datetime64[ns](1), float64(2), int64(1), object(2), timedelta64[ns](1)\n",
      "memory usage: 383.2+ MB\n"
     ]
    }
   ],
   "source": [
    "data2.info()"
   ]
  },
  {
   "cell_type": "markdown",
   "id": "4721d057a243eea0",
   "metadata": {},
   "source": [
    "FREQUENCE_MAG = data2.groupby('IDCLIENT')['MAG_CODE'].nunique()"
   ]
  },
  {
   "cell_type": "code",
   "execution_count": 149,
   "id": "f9531d62ef4c3b30",
   "metadata": {
    "ExecuteTime": {
     "end_time": "2024-05-27T08:52:37.612245Z",
     "start_time": "2024-05-27T08:52:37.220471Z"
    }
   },
   "outputs": [],
   "source": [
    "FREQUENCE_MAG = data2.groupby(['IDCLIENT', 'MAG_CODE']).size().reset_index(name='FREQUENCE_MAG')"
   ]
  },
  {
   "cell_type": "code",
   "execution_count": 150,
   "id": "8d9050ab",
   "metadata": {
    "ExecuteTime": {
     "end_time": "2024-05-27T08:52:39.278161Z",
     "start_time": "2024-05-27T08:52:39.260150Z"
    }
   },
   "outputs": [
    {
     "data": {
      "text/plain": [
       "FREQUENCE_MAG\n",
       "1.0     551738\n",
       "2.0     107580\n",
       "3.0      14591\n",
       "4.0       2358\n",
       "5.0        412\n",
       "6.0         75\n",
       "7.0         32\n",
       "8.0          8\n",
       "9.0          3\n",
       "11.0         2\n",
       "28.0         1\n",
       "15.0         1\n",
       "10.0         1\n",
       "20.0         1\n",
       "Name: count, dtype: int64"
      ]
     },
     "execution_count": 150,
     "metadata": {},
     "output_type": "execute_result"
    }
   ],
   "source": [
    "data2['FREQUENCE_MAG'].value_counts()"
   ]
  },
  {
   "cell_type": "markdown",
   "id": "013f4144",
   "metadata": {},
   "source": [
    "CALCUL D'ANCIENNETE ENTRE LES 2 DERNIERES COMMANDES (TIC DATE) D'UN CLIENT (ID Client)."
   ]
  },
  {
   "cell_type": "code",
   "execution_count": 151,
   "id": "67d8183f",
   "metadata": {
    "ExecuteTime": {
     "end_time": "2024-05-27T08:52:46.992401Z",
     "start_time": "2024-05-27T08:52:46.906279Z"
    }
   },
   "outputs": [],
   "source": [
    "data2['TIC_DATE'] = pd.to_datetime(data2['TIC_DATE'], format='%d/%m/%Y', errors='coerce')"
   ]
  },
  {
   "cell_type": "code",
   "execution_count": 152,
   "id": "78ac92fc22ab85fc",
   "metadata": {
    "ExecuteTime": {
     "end_time": "2024-05-27T08:52:47.997694Z",
     "start_time": "2024-05-27T08:52:47.991592Z"
    }
   },
   "outputs": [
    {
     "data": {
      "text/html": [
       "<div>\n",
       "<style scoped>\n",
       "    .dataframe tbody tr th:only-of-type {\n",
       "        vertical-align: middle;\n",
       "    }\n",
       "\n",
       "    .dataframe tbody tr th {\n",
       "        vertical-align: top;\n",
       "    }\n",
       "\n",
       "    .dataframe thead th {\n",
       "        text-align: right;\n",
       "    }\n",
       "</style>\n",
       "<table border=\"1\" class=\"dataframe\">\n",
       "  <thead>\n",
       "    <tr style=\"text-align: right;\">\n",
       "      <th></th>\n",
       "      <th>IDTICKET</th>\n",
       "      <th>TIC_DATE</th>\n",
       "      <th>MAG_CODE</th>\n",
       "      <th>IDCLIENT</th>\n",
       "      <th>TIC_TOTALTTC</th>\n",
       "      <th>FREQUENCE_MAG</th>\n",
       "      <th>ANCIENNETE_CDE</th>\n",
       "    </tr>\n",
       "  </thead>\n",
       "  <tbody>\n",
       "    <tr>\n",
       "      <th>654916</th>\n",
       "      <td>200200135291</td>\n",
       "      <td>2016-02-05</td>\n",
       "      <td>IAB</td>\n",
       "      <td>2108</td>\n",
       "      <td>7.57</td>\n",
       "      <td>NaN</td>\n",
       "      <td>NaT</td>\n",
       "    </tr>\n",
       "    <tr>\n",
       "      <th>664752</th>\n",
       "      <td>200500180521</td>\n",
       "      <td>2016-05-08</td>\n",
       "      <td>IAB</td>\n",
       "      <td>2108</td>\n",
       "      <td>20.58</td>\n",
       "      <td>NaN</td>\n",
       "      <td>93 days</td>\n",
       "    </tr>\n",
       "    <tr>\n",
       "      <th>1742974</th>\n",
       "      <td>500100247510</td>\n",
       "      <td>2016-01-05</td>\n",
       "      <td>SAL</td>\n",
       "      <td>2119</td>\n",
       "      <td>74.13</td>\n",
       "      <td>1.0</td>\n",
       "      <td>NaT</td>\n",
       "    </tr>\n",
       "    <tr>\n",
       "      <th>880018</th>\n",
       "      <td>250300375483</td>\n",
       "      <td>2016-02-16</td>\n",
       "      <td>MOU</td>\n",
       "      <td>2119</td>\n",
       "      <td>113.65</td>\n",
       "      <td>NaN</td>\n",
       "      <td>42 days</td>\n",
       "    </tr>\n",
       "    <tr>\n",
       "      <th>4030286</th>\n",
       "      <td>250400455483</td>\n",
       "      <td>2017-03-27</td>\n",
       "      <td>MOU</td>\n",
       "      <td>2119</td>\n",
       "      <td>148.44</td>\n",
       "      <td>NaN</td>\n",
       "      <td>405 days</td>\n",
       "    </tr>\n",
       "    <tr>\n",
       "      <th>...</th>\n",
       "      <td>...</td>\n",
       "      <td>...</td>\n",
       "      <td>...</td>\n",
       "      <td>...</td>\n",
       "      <td>...</td>\n",
       "      <td>...</td>\n",
       "      <td>...</td>\n",
       "    </tr>\n",
       "    <tr>\n",
       "      <th>3965696</th>\n",
       "      <td>250200315639</td>\n",
       "      <td>2017-12-31</td>\n",
       "      <td>MOU</td>\n",
       "      <td>3517097</td>\n",
       "      <td>89.81</td>\n",
       "      <td>NaN</td>\n",
       "      <td>NaT</td>\n",
       "    </tr>\n",
       "    <tr>\n",
       "      <th>3473998</th>\n",
       "      <td>190200823968</td>\n",
       "      <td>2017-12-31</td>\n",
       "      <td>HEI</td>\n",
       "      <td>3517098</td>\n",
       "      <td>93.65</td>\n",
       "      <td>1.0</td>\n",
       "      <td>NaT</td>\n",
       "    </tr>\n",
       "    <tr>\n",
       "      <th>5476649</th>\n",
       "      <td>470300153549</td>\n",
       "      <td>2017-12-31</td>\n",
       "      <td>FRV</td>\n",
       "      <td>3517099</td>\n",
       "      <td>132.42</td>\n",
       "      <td>NaN</td>\n",
       "      <td>NaT</td>\n",
       "    </tr>\n",
       "    <tr>\n",
       "      <th>6667761</th>\n",
       "      <td>1310300103310</td>\n",
       "      <td>2017-12-31</td>\n",
       "      <td>CAG</td>\n",
       "      <td>3517101</td>\n",
       "      <td>110.74</td>\n",
       "      <td>NaN</td>\n",
       "      <td>NaT</td>\n",
       "    </tr>\n",
       "    <tr>\n",
       "      <th>6134376</th>\n",
       "      <td>770100547217</td>\n",
       "      <td>2017-12-31</td>\n",
       "      <td>PEG</td>\n",
       "      <td>3517102</td>\n",
       "      <td>55.67</td>\n",
       "      <td>NaN</td>\n",
       "      <td>NaT</td>\n",
       "    </tr>\n",
       "  </tbody>\n",
       "</table>\n",
       "<p>6278461 rows × 7 columns</p>\n",
       "</div>"
      ],
      "text/plain": [
       "              IDTICKET   TIC_DATE MAG_CODE  IDCLIENT  TIC_TOTALTTC  \\\n",
       "654916    200200135291 2016-02-05      IAB      2108          7.57   \n",
       "664752    200500180521 2016-05-08      IAB      2108         20.58   \n",
       "1742974   500100247510 2016-01-05      SAL      2119         74.13   \n",
       "880018    250300375483 2016-02-16      MOU      2119        113.65   \n",
       "4030286   250400455483 2017-03-27      MOU      2119        148.44   \n",
       "...                ...        ...      ...       ...           ...   \n",
       "3965696   250200315639 2017-12-31      MOU   3517097         89.81   \n",
       "3473998   190200823968 2017-12-31      HEI   3517098         93.65   \n",
       "5476649   470300153549 2017-12-31      FRV   3517099        132.42   \n",
       "6667761  1310300103310 2017-12-31      CAG   3517101        110.74   \n",
       "6134376   770100547217 2017-12-31      PEG   3517102         55.67   \n",
       "\n",
       "         FREQUENCE_MAG ANCIENNETE_CDE  \n",
       "654916             NaN            NaT  \n",
       "664752             NaN        93 days  \n",
       "1742974            1.0            NaT  \n",
       "880018             NaN        42 days  \n",
       "4030286            NaN       405 days  \n",
       "...                ...            ...  \n",
       "3965696            NaN            NaT  \n",
       "3473998            1.0            NaT  \n",
       "5476649            NaN            NaT  \n",
       "6667761            NaN            NaT  \n",
       "6134376            NaN            NaT  \n",
       "\n",
       "[6278461 rows x 7 columns]"
      ]
     },
     "execution_count": 152,
     "metadata": {},
     "output_type": "execute_result"
    }
   ],
   "source": [
    "data2"
   ]
  },
  {
   "cell_type": "code",
   "execution_count": 80,
   "id": "94f29ebe",
   "metadata": {
    "ExecuteTime": {
     "end_time": "2024-05-27T08:03:30.020039Z",
     "start_time": "2024-05-27T08:03:27.940166Z"
    }
   },
   "outputs": [],
   "source": [
    "data2.sort_values(by=['IDCLIENT', 'TIC_DATE'], inplace=True)"
   ]
  },
  {
   "cell_type": "code",
   "execution_count": 81,
   "id": "9e16d1a0",
   "metadata": {
    "ExecuteTime": {
     "end_time": "2024-05-27T08:03:30.159029Z",
     "start_time": "2024-05-27T08:03:30.021354Z"
    }
   },
   "outputs": [],
   "source": [
    "ANCIENNETE_CDE = data2.groupby('IDCLIENT')['TIC_DATE'].diff()"
   ]
  },
  {
   "cell_type": "code",
   "execution_count": 82,
   "id": "ad73f71c",
   "metadata": {
    "ExecuteTime": {
     "end_time": "2024-05-27T08:03:30.984358Z",
     "start_time": "2024-05-27T08:03:30.977897Z"
    }
   },
   "outputs": [],
   "source": [
    "data2.insert(loc=6, column='ANCIENNETE_CDE', value=ANCIENNETE_CDE)"
   ]
  },
  {
   "cell_type": "code",
   "execution_count": 83,
   "id": "5473798a",
   "metadata": {
    "ExecuteTime": {
     "end_time": "2024-05-27T08:03:32.248226Z",
     "start_time": "2024-05-27T08:03:32.218159Z"
    }
   },
   "outputs": [
    {
     "data": {
      "text/plain": [
       "ANCIENNETE_CDE\n",
       "0 days      315372\n",
       "7 days      234386\n",
       "1 days      200314\n",
       "2 days      175479\n",
       "3 days      167880\n",
       "             ...  \n",
       "704 days         1\n",
       "708 days         1\n",
       "729 days         1\n",
       "724 days         1\n",
       "716 days         1\n",
       "Name: count, Length: 721, dtype: int64"
      ]
     },
     "execution_count": 83,
     "metadata": {},
     "output_type": "execute_result"
    }
   ],
   "source": [
    "data2['ANCIENNETE_CDE'].value_counts()"
   ]
  },
  {
   "cell_type": "code",
   "execution_count": 84,
   "id": "3685d787d63937f3",
   "metadata": {
    "ExecuteTime": {
     "end_time": "2024-05-27T08:04:07.973336Z",
     "start_time": "2024-05-27T08:03:32.979685Z"
    }
   },
   "outputs": [],
   "source": [
    "data_merged=data3.merge(data2, how='left',left_on='IDTICKET', right_on='IDTICKET')"
   ]
  },
  {
   "cell_type": "code",
   "execution_count": 85,
   "id": "cdcc6036f2f37ef2",
   "metadata": {
    "ExecuteTime": {
     "end_time": "2024-05-27T08:04:07.988147Z",
     "start_time": "2024-05-27T08:04:07.974918Z"
    }
   },
   "outputs": [
    {
     "data": {
      "text/html": [
       "<div>\n",
       "<style scoped>\n",
       "    .dataframe tbody tr th:only-of-type {\n",
       "        vertical-align: middle;\n",
       "    }\n",
       "\n",
       "    .dataframe tbody tr th {\n",
       "        vertical-align: top;\n",
       "    }\n",
       "\n",
       "    .dataframe thead th {\n",
       "        text-align: right;\n",
       "    }\n",
       "</style>\n",
       "<table border=\"1\" class=\"dataframe\">\n",
       "  <thead>\n",
       "    <tr style=\"text-align: right;\">\n",
       "      <th></th>\n",
       "      <th>IDTICKET</th>\n",
       "      <th>NUMLIGNETICKET</th>\n",
       "      <th>IDARTICLE</th>\n",
       "      <th>QUANTITE</th>\n",
       "      <th>MONTANTREMISE</th>\n",
       "      <th>TOTAL</th>\n",
       "      <th>MARGESORTIE</th>\n",
       "      <th>TIC_DATE</th>\n",
       "      <th>MAG_CODE</th>\n",
       "      <th>IDCLIENT</th>\n",
       "      <th>TIC_TOTALTTC</th>\n",
       "      <th>FREQUENCE_MAG</th>\n",
       "      <th>ANCIENNETE_CDE</th>\n",
       "    </tr>\n",
       "  </thead>\n",
       "  <tbody>\n",
       "    <tr>\n",
       "      <th>0</th>\n",
       "      <td>190400316260</td>\n",
       "      <td>2</td>\n",
       "      <td>246208</td>\n",
       "      <td>1.0</td>\n",
       "      <td>0.000</td>\n",
       "      <td>4.96</td>\n",
       "      <td>2.37</td>\n",
       "      <td>2016-05-06</td>\n",
       "      <td>HEI</td>\n",
       "      <td>2153376.0</td>\n",
       "      <td>47.35</td>\n",
       "      <td>NaN</td>\n",
       "      <td>7 days</td>\n",
       "    </tr>\n",
       "    <tr>\n",
       "      <th>1</th>\n",
       "      <td>190400316262</td>\n",
       "      <td>2</td>\n",
       "      <td>33725</td>\n",
       "      <td>1.0</td>\n",
       "      <td>0.000</td>\n",
       "      <td>8.25</td>\n",
       "      <td>3.63</td>\n",
       "      <td>2016-05-06</td>\n",
       "      <td>HEI</td>\n",
       "      <td>2278256.0</td>\n",
       "      <td>38.80</td>\n",
       "      <td>NaN</td>\n",
       "      <td>47 days</td>\n",
       "    </tr>\n",
       "    <tr>\n",
       "      <th>2</th>\n",
       "      <td>190400316262</td>\n",
       "      <td>3</td>\n",
       "      <td>634497</td>\n",
       "      <td>1.0</td>\n",
       "      <td>0.000</td>\n",
       "      <td>5.79</td>\n",
       "      <td>3.63</td>\n",
       "      <td>2016-05-06</td>\n",
       "      <td>HEI</td>\n",
       "      <td>2278256.0</td>\n",
       "      <td>38.80</td>\n",
       "      <td>NaN</td>\n",
       "      <td>47 days</td>\n",
       "    </tr>\n",
       "    <tr>\n",
       "      <th>3</th>\n",
       "      <td>190400316262</td>\n",
       "      <td>1</td>\n",
       "      <td>257613</td>\n",
       "      <td>1.0</td>\n",
       "      <td>0.000</td>\n",
       "      <td>18.29</td>\n",
       "      <td>6.21</td>\n",
       "      <td>2016-05-06</td>\n",
       "      <td>HEI</td>\n",
       "      <td>2278256.0</td>\n",
       "      <td>38.80</td>\n",
       "      <td>NaN</td>\n",
       "      <td>47 days</td>\n",
       "    </tr>\n",
       "    <tr>\n",
       "      <th>4</th>\n",
       "      <td>190400316263</td>\n",
       "      <td>1</td>\n",
       "      <td>257627</td>\n",
       "      <td>1.0</td>\n",
       "      <td>0.000</td>\n",
       "      <td>49.92</td>\n",
       "      <td>10.42</td>\n",
       "      <td>2016-05-06</td>\n",
       "      <td>HEI</td>\n",
       "      <td>2149384.0</td>\n",
       "      <td>59.90</td>\n",
       "      <td>NaN</td>\n",
       "      <td>40 days</td>\n",
       "    </tr>\n",
       "    <tr>\n",
       "      <th>...</th>\n",
       "      <td>...</td>\n",
       "      <td>...</td>\n",
       "      <td>...</td>\n",
       "      <td>...</td>\n",
       "      <td>...</td>\n",
       "      <td>...</td>\n",
       "      <td>...</td>\n",
       "      <td>...</td>\n",
       "      <td>...</td>\n",
       "      <td>...</td>\n",
       "      <td>...</td>\n",
       "      <td>...</td>\n",
       "      <td>...</td>\n",
       "    </tr>\n",
       "    <tr>\n",
       "      <th>34105570</th>\n",
       "      <td>340200383203</td>\n",
       "      <td>2</td>\n",
       "      <td>257643</td>\n",
       "      <td>1.0</td>\n",
       "      <td>0.000</td>\n",
       "      <td>4.69</td>\n",
       "      <td>1.83</td>\n",
       "      <td>2017-12-29</td>\n",
       "      <td>SEM</td>\n",
       "      <td>3507394.0</td>\n",
       "      <td>24.08</td>\n",
       "      <td>NaN</td>\n",
       "      <td>8 days</td>\n",
       "    </tr>\n",
       "    <tr>\n",
       "      <th>34105571</th>\n",
       "      <td>340200383203</td>\n",
       "      <td>3</td>\n",
       "      <td>50170</td>\n",
       "      <td>1.0</td>\n",
       "      <td>0.000</td>\n",
       "      <td>3.18</td>\n",
       "      <td>1.00</td>\n",
       "      <td>2017-12-29</td>\n",
       "      <td>SEM</td>\n",
       "      <td>3507394.0</td>\n",
       "      <td>24.08</td>\n",
       "      <td>NaN</td>\n",
       "      <td>8 days</td>\n",
       "    </tr>\n",
       "    <tr>\n",
       "      <th>34105572</th>\n",
       "      <td>340200383203</td>\n",
       "      <td>4</td>\n",
       "      <td>349345</td>\n",
       "      <td>1.0</td>\n",
       "      <td>0.000</td>\n",
       "      <td>3.46</td>\n",
       "      <td>1.13</td>\n",
       "      <td>2017-12-29</td>\n",
       "      <td>SEM</td>\n",
       "      <td>3507394.0</td>\n",
       "      <td>24.08</td>\n",
       "      <td>NaN</td>\n",
       "      <td>8 days</td>\n",
       "    </tr>\n",
       "    <tr>\n",
       "      <th>34105573</th>\n",
       "      <td>340200383203</td>\n",
       "      <td>5</td>\n",
       "      <td>250580</td>\n",
       "      <td>2.0</td>\n",
       "      <td>0.000</td>\n",
       "      <td>6.80</td>\n",
       "      <td>2.18</td>\n",
       "      <td>2017-12-29</td>\n",
       "      <td>SEM</td>\n",
       "      <td>3507394.0</td>\n",
       "      <td>24.08</td>\n",
       "      <td>NaN</td>\n",
       "      <td>8 days</td>\n",
       "    </tr>\n",
       "    <tr>\n",
       "      <th>34105574</th>\n",
       "      <td>340200383217</td>\n",
       "      <td>1</td>\n",
       "      <td>816313</td>\n",
       "      <td>20.0</td>\n",
       "      <td>1.818</td>\n",
       "      <td>1.82</td>\n",
       "      <td>1.42</td>\n",
       "      <td>2017-12-29</td>\n",
       "      <td>SEM</td>\n",
       "      <td>2304183.0</td>\n",
       "      <td>2.00</td>\n",
       "      <td>NaN</td>\n",
       "      <td>5 days</td>\n",
       "    </tr>\n",
       "  </tbody>\n",
       "</table>\n",
       "<p>34105575 rows × 13 columns</p>\n",
       "</div>"
      ],
      "text/plain": [
       "              IDTICKET NUMLIGNETICKET IDARTICLE  QUANTITE  MONTANTREMISE  \\\n",
       "0         190400316260              2    246208       1.0          0.000   \n",
       "1         190400316262              2     33725       1.0          0.000   \n",
       "2         190400316262              3    634497       1.0          0.000   \n",
       "3         190400316262              1    257613       1.0          0.000   \n",
       "4         190400316263              1    257627       1.0          0.000   \n",
       "...                ...            ...       ...       ...            ...   \n",
       "34105570  340200383203              2    257643       1.0          0.000   \n",
       "34105571  340200383203              3     50170       1.0          0.000   \n",
       "34105572  340200383203              4    349345       1.0          0.000   \n",
       "34105573  340200383203              5    250580       2.0          0.000   \n",
       "34105574  340200383217              1    816313      20.0          1.818   \n",
       "\n",
       "          TOTAL  MARGESORTIE   TIC_DATE MAG_CODE   IDCLIENT  TIC_TOTALTTC  \\\n",
       "0          4.96         2.37 2016-05-06      HEI  2153376.0         47.35   \n",
       "1          8.25         3.63 2016-05-06      HEI  2278256.0         38.80   \n",
       "2          5.79         3.63 2016-05-06      HEI  2278256.0         38.80   \n",
       "3         18.29         6.21 2016-05-06      HEI  2278256.0         38.80   \n",
       "4         49.92        10.42 2016-05-06      HEI  2149384.0         59.90   \n",
       "...         ...          ...        ...      ...        ...           ...   \n",
       "34105570   4.69         1.83 2017-12-29      SEM  3507394.0         24.08   \n",
       "34105571   3.18         1.00 2017-12-29      SEM  3507394.0         24.08   \n",
       "34105572   3.46         1.13 2017-12-29      SEM  3507394.0         24.08   \n",
       "34105573   6.80         2.18 2017-12-29      SEM  3507394.0         24.08   \n",
       "34105574   1.82         1.42 2017-12-29      SEM  2304183.0          2.00   \n",
       "\n",
       "          FREQUENCE_MAG ANCIENNETE_CDE  \n",
       "0                   NaN         7 days  \n",
       "1                   NaN        47 days  \n",
       "2                   NaN        47 days  \n",
       "3                   NaN        47 days  \n",
       "4                   NaN        40 days  \n",
       "...                 ...            ...  \n",
       "34105570            NaN         8 days  \n",
       "34105571            NaN         8 days  \n",
       "34105572            NaN         8 days  \n",
       "34105573            NaN         8 days  \n",
       "34105574            NaN         5 days  \n",
       "\n",
       "[34105575 rows x 13 columns]"
      ]
     },
     "execution_count": 85,
     "metadata": {},
     "output_type": "execute_result"
    }
   ],
   "source": [
    "data_merged"
   ]
  },
  {
   "cell_type": "code",
   "execution_count": 86,
   "id": "33342525debba1bc",
   "metadata": {
    "ExecuteTime": {
     "end_time": "2024-05-27T08:05:19.606734Z",
     "start_time": "2024-05-27T08:05:19.602162Z"
    }
   },
   "outputs": [
    {
     "name": "stdout",
     "output_type": "stream",
     "text": [
      "<class 'pandas.core.frame.DataFrame'>\n",
      "RangeIndex: 34105575 entries, 0 to 34105574\n",
      "Data columns (total 13 columns):\n",
      " #   Column          Dtype          \n",
      "---  ------          -----          \n",
      " 0   IDTICKET        object         \n",
      " 1   NUMLIGNETICKET  object         \n",
      " 2   IDARTICLE       object         \n",
      " 3   QUANTITE        float64        \n",
      " 4   MONTANTREMISE   float64        \n",
      " 5   TOTAL           float64        \n",
      " 6   MARGESORTIE     float64        \n",
      " 7   TIC_DATE        datetime64[ns] \n",
      " 8   MAG_CODE        object         \n",
      " 9   IDCLIENT        float64        \n",
      " 10  TIC_TOTALTTC    float64        \n",
      " 11  FREQUENCE_MAG   float64        \n",
      " 12  ANCIENNETE_CDE  timedelta64[ns]\n",
      "dtypes: datetime64[ns](1), float64(7), object(4), timedelta64[ns](1)\n",
      "memory usage: 3.3+ GB\n"
     ]
    }
   ],
   "source": [
    "data_merged.info()"
   ]
  },
  {
   "cell_type": "code",
   "execution_count": 87,
   "id": "aeec65230a7a0cd6",
   "metadata": {
    "ExecuteTime": {
     "end_time": "2024-05-27T08:05:39.122411Z",
     "start_time": "2024-05-27T08:05:21.232742Z"
    }
   },
   "outputs": [],
   "source": [
    "# Calcul de la variété du panier par client\n",
    "VARIETE_PANIER = data_merged.groupby('IDCLIENT')['IDARTICLE'].nunique().reset_index()\n",
    "VARIETE_PANIER.columns = ['IDCLIENT', 'VARIETE_PANIER']\n",
    "\n",
    "# Fusionner la variable de variété du panier avec le DataFrame original\n",
    "data_merged = data_merged.merge(VARIETE_PANIER, on='IDCLIENT', how='left')"
   ]
  },
  {
   "cell_type": "code",
   "execution_count": 106,
   "id": "90cad6f02a249717",
   "metadata": {
    "ExecuteTime": {
     "end_time": "2024-05-24T12:33:34.083696Z",
     "start_time": "2024-05-24T12:33:34.072437Z"
    }
   },
   "outputs": [
    {
     "data": {
      "text/html": [
       "<div>\n",
       "<style scoped>\n",
       "    .dataframe tbody tr th:only-of-type {\n",
       "        vertical-align: middle;\n",
       "    }\n",
       "\n",
       "    .dataframe tbody tr th {\n",
       "        vertical-align: top;\n",
       "    }\n",
       "\n",
       "    .dataframe thead th {\n",
       "        text-align: right;\n",
       "    }\n",
       "</style>\n",
       "<table border=\"1\" class=\"dataframe\">\n",
       "  <thead>\n",
       "    <tr style=\"text-align: right;\">\n",
       "      <th></th>\n",
       "      <th>IDTICKET</th>\n",
       "      <th>NUMLIGNETICKET</th>\n",
       "      <th>IDARTICLE</th>\n",
       "      <th>QUANTITE</th>\n",
       "      <th>MONTANTREMISE</th>\n",
       "      <th>TOTAL</th>\n",
       "      <th>MARGESORTIE</th>\n",
       "      <th>TIC_DATE</th>\n",
       "      <th>MAG_CODE</th>\n",
       "      <th>IDCLIENT</th>\n",
       "      <th>TIC_TOTALTTC</th>\n",
       "      <th>FREQUENCE_MAG</th>\n",
       "      <th>ANCIENNETE_CDE</th>\n",
       "      <th>VARIETE_PANIER</th>\n",
       "    </tr>\n",
       "  </thead>\n",
       "  <tbody>\n",
       "    <tr>\n",
       "      <th>0</th>\n",
       "      <td>190400316260</td>\n",
       "      <td>2</td>\n",
       "      <td>246208</td>\n",
       "      <td>1.0</td>\n",
       "      <td>0.000</td>\n",
       "      <td>4.96</td>\n",
       "      <td>2.37</td>\n",
       "      <td>2016-05-06</td>\n",
       "      <td>HEI</td>\n",
       "      <td>2153376.0</td>\n",
       "      <td>47.35</td>\n",
       "      <td>NaN</td>\n",
       "      <td>7 days</td>\n",
       "      <td>45.0</td>\n",
       "    </tr>\n",
       "    <tr>\n",
       "      <th>1</th>\n",
       "      <td>190400316262</td>\n",
       "      <td>2</td>\n",
       "      <td>33725</td>\n",
       "      <td>1.0</td>\n",
       "      <td>0.000</td>\n",
       "      <td>8.25</td>\n",
       "      <td>3.63</td>\n",
       "      <td>2016-05-06</td>\n",
       "      <td>HEI</td>\n",
       "      <td>2278256.0</td>\n",
       "      <td>38.80</td>\n",
       "      <td>NaN</td>\n",
       "      <td>47 days</td>\n",
       "      <td>32.0</td>\n",
       "    </tr>\n",
       "    <tr>\n",
       "      <th>2</th>\n",
       "      <td>190400316262</td>\n",
       "      <td>3</td>\n",
       "      <td>634497</td>\n",
       "      <td>1.0</td>\n",
       "      <td>0.000</td>\n",
       "      <td>5.79</td>\n",
       "      <td>3.63</td>\n",
       "      <td>2016-05-06</td>\n",
       "      <td>HEI</td>\n",
       "      <td>2278256.0</td>\n",
       "      <td>38.80</td>\n",
       "      <td>NaN</td>\n",
       "      <td>47 days</td>\n",
       "      <td>32.0</td>\n",
       "    </tr>\n",
       "    <tr>\n",
       "      <th>3</th>\n",
       "      <td>190400316262</td>\n",
       "      <td>1</td>\n",
       "      <td>257613</td>\n",
       "      <td>1.0</td>\n",
       "      <td>0.000</td>\n",
       "      <td>18.29</td>\n",
       "      <td>6.21</td>\n",
       "      <td>2016-05-06</td>\n",
       "      <td>HEI</td>\n",
       "      <td>2278256.0</td>\n",
       "      <td>38.80</td>\n",
       "      <td>NaN</td>\n",
       "      <td>47 days</td>\n",
       "      <td>32.0</td>\n",
       "    </tr>\n",
       "    <tr>\n",
       "      <th>4</th>\n",
       "      <td>190400316263</td>\n",
       "      <td>1</td>\n",
       "      <td>257627</td>\n",
       "      <td>1.0</td>\n",
       "      <td>0.000</td>\n",
       "      <td>49.92</td>\n",
       "      <td>10.42</td>\n",
       "      <td>2016-05-06</td>\n",
       "      <td>HEI</td>\n",
       "      <td>2149384.0</td>\n",
       "      <td>59.90</td>\n",
       "      <td>NaN</td>\n",
       "      <td>40 days</td>\n",
       "      <td>10.0</td>\n",
       "    </tr>\n",
       "    <tr>\n",
       "      <th>...</th>\n",
       "      <td>...</td>\n",
       "      <td>...</td>\n",
       "      <td>...</td>\n",
       "      <td>...</td>\n",
       "      <td>...</td>\n",
       "      <td>...</td>\n",
       "      <td>...</td>\n",
       "      <td>...</td>\n",
       "      <td>...</td>\n",
       "      <td>...</td>\n",
       "      <td>...</td>\n",
       "      <td>...</td>\n",
       "      <td>...</td>\n",
       "      <td>...</td>\n",
       "    </tr>\n",
       "    <tr>\n",
       "      <th>34105570</th>\n",
       "      <td>340200383203</td>\n",
       "      <td>2</td>\n",
       "      <td>257643</td>\n",
       "      <td>1.0</td>\n",
       "      <td>0.000</td>\n",
       "      <td>4.69</td>\n",
       "      <td>1.83</td>\n",
       "      <td>2017-12-29</td>\n",
       "      <td>SEM</td>\n",
       "      <td>3507394.0</td>\n",
       "      <td>24.08</td>\n",
       "      <td>NaN</td>\n",
       "      <td>8 days</td>\n",
       "      <td>19.0</td>\n",
       "    </tr>\n",
       "    <tr>\n",
       "      <th>34105571</th>\n",
       "      <td>340200383203</td>\n",
       "      <td>3</td>\n",
       "      <td>50170</td>\n",
       "      <td>1.0</td>\n",
       "      <td>0.000</td>\n",
       "      <td>3.18</td>\n",
       "      <td>1.00</td>\n",
       "      <td>2017-12-29</td>\n",
       "      <td>SEM</td>\n",
       "      <td>3507394.0</td>\n",
       "      <td>24.08</td>\n",
       "      <td>NaN</td>\n",
       "      <td>8 days</td>\n",
       "      <td>19.0</td>\n",
       "    </tr>\n",
       "    <tr>\n",
       "      <th>34105572</th>\n",
       "      <td>340200383203</td>\n",
       "      <td>4</td>\n",
       "      <td>349345</td>\n",
       "      <td>1.0</td>\n",
       "      <td>0.000</td>\n",
       "      <td>3.46</td>\n",
       "      <td>1.13</td>\n",
       "      <td>2017-12-29</td>\n",
       "      <td>SEM</td>\n",
       "      <td>3507394.0</td>\n",
       "      <td>24.08</td>\n",
       "      <td>NaN</td>\n",
       "      <td>8 days</td>\n",
       "      <td>19.0</td>\n",
       "    </tr>\n",
       "    <tr>\n",
       "      <th>34105573</th>\n",
       "      <td>340200383203</td>\n",
       "      <td>5</td>\n",
       "      <td>250580</td>\n",
       "      <td>2.0</td>\n",
       "      <td>0.000</td>\n",
       "      <td>6.80</td>\n",
       "      <td>2.18</td>\n",
       "      <td>2017-12-29</td>\n",
       "      <td>SEM</td>\n",
       "      <td>3507394.0</td>\n",
       "      <td>24.08</td>\n",
       "      <td>NaN</td>\n",
       "      <td>8 days</td>\n",
       "      <td>19.0</td>\n",
       "    </tr>\n",
       "    <tr>\n",
       "      <th>34105574</th>\n",
       "      <td>340200383217</td>\n",
       "      <td>1</td>\n",
       "      <td>816313</td>\n",
       "      <td>20.0</td>\n",
       "      <td>1.818</td>\n",
       "      <td>1.82</td>\n",
       "      <td>1.42</td>\n",
       "      <td>2017-12-29</td>\n",
       "      <td>SEM</td>\n",
       "      <td>2304183.0</td>\n",
       "      <td>2.00</td>\n",
       "      <td>NaN</td>\n",
       "      <td>5 days</td>\n",
       "      <td>4.0</td>\n",
       "    </tr>\n",
       "  </tbody>\n",
       "</table>\n",
       "<p>34105575 rows × 14 columns</p>\n",
       "</div>"
      ],
      "text/plain": [
       "              IDTICKET NUMLIGNETICKET IDARTICLE  QUANTITE  MONTANTREMISE  \\\n",
       "0         190400316260              2    246208       1.0          0.000   \n",
       "1         190400316262              2     33725       1.0          0.000   \n",
       "2         190400316262              3    634497       1.0          0.000   \n",
       "3         190400316262              1    257613       1.0          0.000   \n",
       "4         190400316263              1    257627       1.0          0.000   \n",
       "...                ...            ...       ...       ...            ...   \n",
       "34105570  340200383203              2    257643       1.0          0.000   \n",
       "34105571  340200383203              3     50170       1.0          0.000   \n",
       "34105572  340200383203              4    349345       1.0          0.000   \n",
       "34105573  340200383203              5    250580       2.0          0.000   \n",
       "34105574  340200383217              1    816313      20.0          1.818   \n",
       "\n",
       "          TOTAL  MARGESORTIE   TIC_DATE MAG_CODE   IDCLIENT  TIC_TOTALTTC  \\\n",
       "0          4.96         2.37 2016-05-06      HEI  2153376.0         47.35   \n",
       "1          8.25         3.63 2016-05-06      HEI  2278256.0         38.80   \n",
       "2          5.79         3.63 2016-05-06      HEI  2278256.0         38.80   \n",
       "3         18.29         6.21 2016-05-06      HEI  2278256.0         38.80   \n",
       "4         49.92        10.42 2016-05-06      HEI  2149384.0         59.90   \n",
       "...         ...          ...        ...      ...        ...           ...   \n",
       "34105570   4.69         1.83 2017-12-29      SEM  3507394.0         24.08   \n",
       "34105571   3.18         1.00 2017-12-29      SEM  3507394.0         24.08   \n",
       "34105572   3.46         1.13 2017-12-29      SEM  3507394.0         24.08   \n",
       "34105573   6.80         2.18 2017-12-29      SEM  3507394.0         24.08   \n",
       "34105574   1.82         1.42 2017-12-29      SEM  2304183.0          2.00   \n",
       "\n",
       "          FREQUENCE_MAG ANCIENNETE_CDE  VARIETE_PANIER  \n",
       "0                   NaN         7 days            45.0  \n",
       "1                   NaN        47 days            32.0  \n",
       "2                   NaN        47 days            32.0  \n",
       "3                   NaN        47 days            32.0  \n",
       "4                   NaN        40 days            10.0  \n",
       "...                 ...            ...             ...  \n",
       "34105570            NaN         8 days            19.0  \n",
       "34105571            NaN         8 days            19.0  \n",
       "34105572            NaN         8 days            19.0  \n",
       "34105573            NaN         8 days            19.0  \n",
       "34105574            NaN         5 days             4.0  \n",
       "\n",
       "[34105575 rows x 14 columns]"
      ]
     },
     "execution_count": 106,
     "metadata": {},
     "output_type": "execute_result"
    }
   ],
   "source": [
    "data_merged"
   ]
  },
  {
   "cell_type": "code",
   "execution_count": 88,
   "id": "e8ec95482d4a48d8",
   "metadata": {
    "ExecuteTime": {
     "end_time": "2024-05-27T08:07:32.099486Z",
     "start_time": "2024-05-27T08:07:31.871364Z"
    }
   },
   "outputs": [
    {
     "data": {
      "text/plain": [
       "VARIETE_PANIER\n",
       "20.0     275343\n",
       "19.0     274041\n",
       "18.0     273201\n",
       "22.0     272488\n",
       "27.0     272407\n",
       "          ...  \n",
       "651.0       967\n",
       "570.0       957\n",
       "511.0       935\n",
       "527.0       920\n",
       "504.0       877\n",
       "Name: count, Length: 654, dtype: int64"
      ]
     },
     "execution_count": 88,
     "metadata": {},
     "output_type": "execute_result"
    }
   ],
   "source": [
    "data_merged['VARIETE_PANIER'].value_counts()"
   ]
  },
  {
   "cell_type": "code",
   "execution_count": 89,
   "id": "73e26a7f5ca7ed46",
   "metadata": {
    "ExecuteTime": {
     "end_time": "2024-05-27T08:07:33.234061Z",
     "start_time": "2024-05-27T08:07:33.198746Z"
    }
   },
   "outputs": [],
   "source": [
    "VARIETE_PANIER = VARIETE_PANIER.astype(int)"
   ]
  },
  {
   "cell_type": "code",
   "execution_count": 153,
   "id": "429eb5ad711656a9",
   "metadata": {
    "ExecuteTime": {
     "end_time": "2024-05-27T08:53:49.886047Z",
     "start_time": "2024-05-27T08:53:20.207912Z"
    }
   },
   "outputs": [],
   "source": [
    "# Calculer le montant total de remises par client\n",
    "TOTAL_REMISE_CLIENT = data_merged.groupby('IDCLIENT')['MONTANTREMISE'].sum()\n",
    "\n",
    "# Calculer le montant total dépensé par chaque client\n",
    "TOTAL_DEPENSES = data_merged.groupby('IDCLIENT')['TOTAL'].sum()\n",
    "\n",
    "# Calculer le taux de remise pour chaque client\n",
    "TAUX_REMISE = TOTAL_REMISE_CLIENT / TOTAL_DEPENSES\n",
    "# Nommer la série de taux de remise\n",
    "TAUX_REMISE.name = 'TAUX_REMISE'\n",
    "\n",
    "# Fusionner la variable de taux de remise avec le DataFrame original\n",
    "data_merged = data_merged.merge(TAUX_REMISE, on='IDCLIENT', how='left')"
   ]
  },
  {
   "cell_type": "code",
   "execution_count": 91,
   "id": "e5f71f6e4bf40ace",
   "metadata": {
    "ExecuteTime": {
     "end_time": "2024-05-27T08:07:55.332763Z",
     "start_time": "2024-05-27T08:07:55.302350Z"
    }
   },
   "outputs": [
    {
     "data": {
      "text/html": [
       "<div>\n",
       "<style scoped>\n",
       "    .dataframe tbody tr th:only-of-type {\n",
       "        vertical-align: middle;\n",
       "    }\n",
       "\n",
       "    .dataframe tbody tr th {\n",
       "        vertical-align: top;\n",
       "    }\n",
       "\n",
       "    .dataframe thead th {\n",
       "        text-align: right;\n",
       "    }\n",
       "</style>\n",
       "<table border=\"1\" class=\"dataframe\">\n",
       "  <thead>\n",
       "    <tr style=\"text-align: right;\">\n",
       "      <th></th>\n",
       "      <th>IDTICKET</th>\n",
       "      <th>NUMLIGNETICKET</th>\n",
       "      <th>IDARTICLE</th>\n",
       "      <th>QUANTITE</th>\n",
       "      <th>MONTANTREMISE</th>\n",
       "      <th>TOTAL</th>\n",
       "      <th>MARGESORTIE</th>\n",
       "      <th>TIC_DATE</th>\n",
       "      <th>MAG_CODE</th>\n",
       "      <th>IDCLIENT</th>\n",
       "      <th>TIC_TOTALTTC</th>\n",
       "      <th>FREQUENCE_MAG</th>\n",
       "      <th>ANCIENNETE_CDE</th>\n",
       "      <th>VARIETE_PANIER</th>\n",
       "      <th>TAUX_REMISE</th>\n",
       "    </tr>\n",
       "  </thead>\n",
       "  <tbody>\n",
       "    <tr>\n",
       "      <th>0</th>\n",
       "      <td>190400316260</td>\n",
       "      <td>2</td>\n",
       "      <td>246208</td>\n",
       "      <td>1.0</td>\n",
       "      <td>0.000</td>\n",
       "      <td>4.96</td>\n",
       "      <td>2.37</td>\n",
       "      <td>2016-05-06</td>\n",
       "      <td>HEI</td>\n",
       "      <td>2153376.0</td>\n",
       "      <td>47.35</td>\n",
       "      <td>NaN</td>\n",
       "      <td>7 days</td>\n",
       "      <td>45.0</td>\n",
       "      <td>0.069064</td>\n",
       "    </tr>\n",
       "    <tr>\n",
       "      <th>1</th>\n",
       "      <td>190400316262</td>\n",
       "      <td>2</td>\n",
       "      <td>33725</td>\n",
       "      <td>1.0</td>\n",
       "      <td>0.000</td>\n",
       "      <td>8.25</td>\n",
       "      <td>3.63</td>\n",
       "      <td>2016-05-06</td>\n",
       "      <td>HEI</td>\n",
       "      <td>2278256.0</td>\n",
       "      <td>38.80</td>\n",
       "      <td>NaN</td>\n",
       "      <td>47 days</td>\n",
       "      <td>32.0</td>\n",
       "      <td>0.076076</td>\n",
       "    </tr>\n",
       "    <tr>\n",
       "      <th>2</th>\n",
       "      <td>190400316262</td>\n",
       "      <td>3</td>\n",
       "      <td>634497</td>\n",
       "      <td>1.0</td>\n",
       "      <td>0.000</td>\n",
       "      <td>5.79</td>\n",
       "      <td>3.63</td>\n",
       "      <td>2016-05-06</td>\n",
       "      <td>HEI</td>\n",
       "      <td>2278256.0</td>\n",
       "      <td>38.80</td>\n",
       "      <td>NaN</td>\n",
       "      <td>47 days</td>\n",
       "      <td>32.0</td>\n",
       "      <td>0.076076</td>\n",
       "    </tr>\n",
       "    <tr>\n",
       "      <th>3</th>\n",
       "      <td>190400316262</td>\n",
       "      <td>1</td>\n",
       "      <td>257613</td>\n",
       "      <td>1.0</td>\n",
       "      <td>0.000</td>\n",
       "      <td>18.29</td>\n",
       "      <td>6.21</td>\n",
       "      <td>2016-05-06</td>\n",
       "      <td>HEI</td>\n",
       "      <td>2278256.0</td>\n",
       "      <td>38.80</td>\n",
       "      <td>NaN</td>\n",
       "      <td>47 days</td>\n",
       "      <td>32.0</td>\n",
       "      <td>0.076076</td>\n",
       "    </tr>\n",
       "    <tr>\n",
       "      <th>4</th>\n",
       "      <td>190400316263</td>\n",
       "      <td>1</td>\n",
       "      <td>257627</td>\n",
       "      <td>1.0</td>\n",
       "      <td>0.000</td>\n",
       "      <td>49.92</td>\n",
       "      <td>10.42</td>\n",
       "      <td>2016-05-06</td>\n",
       "      <td>HEI</td>\n",
       "      <td>2149384.0</td>\n",
       "      <td>59.90</td>\n",
       "      <td>NaN</td>\n",
       "      <td>40 days</td>\n",
       "      <td>10.0</td>\n",
       "      <td>0.110637</td>\n",
       "    </tr>\n",
       "    <tr>\n",
       "      <th>...</th>\n",
       "      <td>...</td>\n",
       "      <td>...</td>\n",
       "      <td>...</td>\n",
       "      <td>...</td>\n",
       "      <td>...</td>\n",
       "      <td>...</td>\n",
       "      <td>...</td>\n",
       "      <td>...</td>\n",
       "      <td>...</td>\n",
       "      <td>...</td>\n",
       "      <td>...</td>\n",
       "      <td>...</td>\n",
       "      <td>...</td>\n",
       "      <td>...</td>\n",
       "      <td>...</td>\n",
       "    </tr>\n",
       "    <tr>\n",
       "      <th>34105570</th>\n",
       "      <td>340200383203</td>\n",
       "      <td>2</td>\n",
       "      <td>257643</td>\n",
       "      <td>1.0</td>\n",
       "      <td>0.000</td>\n",
       "      <td>4.69</td>\n",
       "      <td>1.83</td>\n",
       "      <td>2017-12-29</td>\n",
       "      <td>SEM</td>\n",
       "      <td>3507394.0</td>\n",
       "      <td>24.08</td>\n",
       "      <td>NaN</td>\n",
       "      <td>8 days</td>\n",
       "      <td>19.0</td>\n",
       "      <td>0.043278</td>\n",
       "    </tr>\n",
       "    <tr>\n",
       "      <th>34105571</th>\n",
       "      <td>340200383203</td>\n",
       "      <td>3</td>\n",
       "      <td>50170</td>\n",
       "      <td>1.0</td>\n",
       "      <td>0.000</td>\n",
       "      <td>3.18</td>\n",
       "      <td>1.00</td>\n",
       "      <td>2017-12-29</td>\n",
       "      <td>SEM</td>\n",
       "      <td>3507394.0</td>\n",
       "      <td>24.08</td>\n",
       "      <td>NaN</td>\n",
       "      <td>8 days</td>\n",
       "      <td>19.0</td>\n",
       "      <td>0.043278</td>\n",
       "    </tr>\n",
       "    <tr>\n",
       "      <th>34105572</th>\n",
       "      <td>340200383203</td>\n",
       "      <td>4</td>\n",
       "      <td>349345</td>\n",
       "      <td>1.0</td>\n",
       "      <td>0.000</td>\n",
       "      <td>3.46</td>\n",
       "      <td>1.13</td>\n",
       "      <td>2017-12-29</td>\n",
       "      <td>SEM</td>\n",
       "      <td>3507394.0</td>\n",
       "      <td>24.08</td>\n",
       "      <td>NaN</td>\n",
       "      <td>8 days</td>\n",
       "      <td>19.0</td>\n",
       "      <td>0.043278</td>\n",
       "    </tr>\n",
       "    <tr>\n",
       "      <th>34105573</th>\n",
       "      <td>340200383203</td>\n",
       "      <td>5</td>\n",
       "      <td>250580</td>\n",
       "      <td>2.0</td>\n",
       "      <td>0.000</td>\n",
       "      <td>6.80</td>\n",
       "      <td>2.18</td>\n",
       "      <td>2017-12-29</td>\n",
       "      <td>SEM</td>\n",
       "      <td>3507394.0</td>\n",
       "      <td>24.08</td>\n",
       "      <td>NaN</td>\n",
       "      <td>8 days</td>\n",
       "      <td>19.0</td>\n",
       "      <td>0.043278</td>\n",
       "    </tr>\n",
       "    <tr>\n",
       "      <th>34105574</th>\n",
       "      <td>340200383217</td>\n",
       "      <td>1</td>\n",
       "      <td>816313</td>\n",
       "      <td>20.0</td>\n",
       "      <td>1.818</td>\n",
       "      <td>1.82</td>\n",
       "      <td>1.42</td>\n",
       "      <td>2017-12-29</td>\n",
       "      <td>SEM</td>\n",
       "      <td>2304183.0</td>\n",
       "      <td>2.00</td>\n",
       "      <td>NaN</td>\n",
       "      <td>5 days</td>\n",
       "      <td>4.0</td>\n",
       "      <td>0.704811</td>\n",
       "    </tr>\n",
       "  </tbody>\n",
       "</table>\n",
       "<p>34105575 rows × 15 columns</p>\n",
       "</div>"
      ],
      "text/plain": [
       "              IDTICKET NUMLIGNETICKET IDARTICLE  QUANTITE  MONTANTREMISE  \\\n",
       "0         190400316260              2    246208       1.0          0.000   \n",
       "1         190400316262              2     33725       1.0          0.000   \n",
       "2         190400316262              3    634497       1.0          0.000   \n",
       "3         190400316262              1    257613       1.0          0.000   \n",
       "4         190400316263              1    257627       1.0          0.000   \n",
       "...                ...            ...       ...       ...            ...   \n",
       "34105570  340200383203              2    257643       1.0          0.000   \n",
       "34105571  340200383203              3     50170       1.0          0.000   \n",
       "34105572  340200383203              4    349345       1.0          0.000   \n",
       "34105573  340200383203              5    250580       2.0          0.000   \n",
       "34105574  340200383217              1    816313      20.0          1.818   \n",
       "\n",
       "          TOTAL  MARGESORTIE   TIC_DATE MAG_CODE   IDCLIENT  TIC_TOTALTTC  \\\n",
       "0          4.96         2.37 2016-05-06      HEI  2153376.0         47.35   \n",
       "1          8.25         3.63 2016-05-06      HEI  2278256.0         38.80   \n",
       "2          5.79         3.63 2016-05-06      HEI  2278256.0         38.80   \n",
       "3         18.29         6.21 2016-05-06      HEI  2278256.0         38.80   \n",
       "4         49.92        10.42 2016-05-06      HEI  2149384.0         59.90   \n",
       "...         ...          ...        ...      ...        ...           ...   \n",
       "34105570   4.69         1.83 2017-12-29      SEM  3507394.0         24.08   \n",
       "34105571   3.18         1.00 2017-12-29      SEM  3507394.0         24.08   \n",
       "34105572   3.46         1.13 2017-12-29      SEM  3507394.0         24.08   \n",
       "34105573   6.80         2.18 2017-12-29      SEM  3507394.0         24.08   \n",
       "34105574   1.82         1.42 2017-12-29      SEM  2304183.0          2.00   \n",
       "\n",
       "          FREQUENCE_MAG ANCIENNETE_CDE  VARIETE_PANIER  TAUX_REMISE  \n",
       "0                   NaN         7 days            45.0     0.069064  \n",
       "1                   NaN        47 days            32.0     0.076076  \n",
       "2                   NaN        47 days            32.0     0.076076  \n",
       "3                   NaN        47 days            32.0     0.076076  \n",
       "4                   NaN        40 days            10.0     0.110637  \n",
       "...                 ...            ...             ...          ...  \n",
       "34105570            NaN         8 days            19.0     0.043278  \n",
       "34105571            NaN         8 days            19.0     0.043278  \n",
       "34105572            NaN         8 days            19.0     0.043278  \n",
       "34105573            NaN         8 days            19.0     0.043278  \n",
       "34105574            NaN         5 days             4.0     0.704811  \n",
       "\n",
       "[34105575 rows x 15 columns]"
      ]
     },
     "execution_count": 91,
     "metadata": {},
     "output_type": "execute_result"
    }
   ],
   "source": [
    "data_merged"
   ]
  },
  {
   "cell_type": "code",
   "execution_count": 92,
   "id": "cc4c446be5a6720f",
   "metadata": {
    "ExecuteTime": {
     "end_time": "2024-05-27T08:07:59.269433Z",
     "start_time": "2024-05-27T08:07:58.479687Z"
    }
   },
   "outputs": [
    {
     "data": {
      "text/plain": [
       "TAUX_REMISE\n",
       "0.000000    531293\n",
       "0.013617      5570\n",
       "0.254576      4607\n",
       "0.020101      4199\n",
       "0.013460      4181\n",
       "             ...  \n",
       "0.143892         1\n",
       "0.176436         1\n",
       "1.000527         1\n",
       "0.228004         1\n",
       "0.496815         1\n",
       "Name: count, Length: 640414, dtype: int64"
      ]
     },
     "execution_count": 92,
     "metadata": {},
     "output_type": "execute_result"
    }
   ],
   "source": [
    "data_merged['TAUX_REMISE'].value_counts()"
   ]
  },
  {
   "cell_type": "code",
   "execution_count": 93,
   "id": "dc20f692ba67a9b4",
   "metadata": {
    "ExecuteTime": {
     "end_time": "2024-05-27T08:11:17.443291Z",
     "start_time": "2024-05-27T08:08:00.641686Z"
    }
   },
   "outputs": [
    {
     "name": "stdout",
     "output_type": "stream",
     "text": [
      "           IDCLIENT   TIC_DATE  anciennete_premiere_commande  \\\n",
      "0         2153376.0 2016-05-06                          70.0   \n",
      "1         2278256.0 2016-05-06                          74.0   \n",
      "2         2278256.0 2016-05-06                          74.0   \n",
      "3         2278256.0 2016-05-06                          74.0   \n",
      "4         2149384.0 2016-05-06                         119.0   \n",
      "...             ...        ...                           ...   \n",
      "34105570  3507394.0 2017-12-29                          18.0   \n",
      "34105571  3507394.0 2017-12-29                          18.0   \n",
      "34105572  3507394.0 2017-12-29                          18.0   \n",
      "34105573  3507394.0 2017-12-29                          18.0   \n",
      "34105574  2304183.0 2017-12-29                         720.0   \n",
      "\n",
      "          anciennete_derniere_commande  \n",
      "0                                563.0  \n",
      "1                                499.0  \n",
      "2                                499.0  \n",
      "3                                499.0  \n",
      "4                                587.0  \n",
      "...                                ...  \n",
      "34105570                           0.0  \n",
      "34105571                           0.0  \n",
      "34105572                           0.0  \n",
      "34105573                           0.0  \n",
      "34105574                           0.0  \n",
      "\n",
      "[34105575 rows x 4 columns]\n"
     ]
    }
   ],
   "source": [
    "# Convertir les colonnes de dates en type datetime en spécifiant le format\n",
    "data_merged['TIC_DATE'] = pd.to_datetime(data_merged['TIC_DATE'], format='%d/%m/%Y')\n",
    "\n",
    "# Calculer l'ancienneté par rapport à la première commande pour chaque client\n",
    "data_merged['anciennete_premiere_commande'] = data_merged.groupby('IDCLIENT')['TIC_DATE'].transform(lambda x: (x - x.min()).dt.days)\n",
    "\n",
    "# Calculer l'ancienneté par rapport à la dernière commande pour chaque client\n",
    "data_merged['anciennete_derniere_commande'] = data_merged.groupby('IDCLIENT')['TIC_DATE'].transform(lambda x: (x.max() - x).dt.days)\n",
    "\n",
    "# Afficher l'ancienneté par rapport à la première et à la dernière commande pour chaque client\n",
    "print(data_merged[['IDCLIENT', 'TIC_DATE', 'anciennete_premiere_commande', 'anciennete_derniere_commande']])"
   ]
  },
  {
   "cell_type": "code",
   "execution_count": 94,
   "id": "61c57ccebc151a85",
   "metadata": {
    "ExecuteTime": {
     "end_time": "2024-05-27T08:12:32.557237Z",
     "start_time": "2024-05-27T08:12:32.544806Z"
    }
   },
   "outputs": [
    {
     "data": {
      "text/html": [
       "<div>\n",
       "<style scoped>\n",
       "    .dataframe tbody tr th:only-of-type {\n",
       "        vertical-align: middle;\n",
       "    }\n",
       "\n",
       "    .dataframe tbody tr th {\n",
       "        vertical-align: top;\n",
       "    }\n",
       "\n",
       "    .dataframe thead th {\n",
       "        text-align: right;\n",
       "    }\n",
       "</style>\n",
       "<table border=\"1\" class=\"dataframe\">\n",
       "  <thead>\n",
       "    <tr style=\"text-align: right;\">\n",
       "      <th></th>\n",
       "      <th>IDTICKET</th>\n",
       "      <th>NUMLIGNETICKET</th>\n",
       "      <th>IDARTICLE</th>\n",
       "      <th>QUANTITE</th>\n",
       "      <th>MONTANTREMISE</th>\n",
       "      <th>TOTAL</th>\n",
       "      <th>MARGESORTIE</th>\n",
       "      <th>TIC_DATE</th>\n",
       "      <th>MAG_CODE</th>\n",
       "      <th>IDCLIENT</th>\n",
       "      <th>TIC_TOTALTTC</th>\n",
       "      <th>FREQUENCE_MAG</th>\n",
       "      <th>ANCIENNETE_CDE</th>\n",
       "      <th>VARIETE_PANIER</th>\n",
       "      <th>TAUX_REMISE</th>\n",
       "      <th>anciennete_premiere_commande</th>\n",
       "      <th>anciennete_derniere_commande</th>\n",
       "    </tr>\n",
       "  </thead>\n",
       "  <tbody>\n",
       "    <tr>\n",
       "      <th>0</th>\n",
       "      <td>190400316260</td>\n",
       "      <td>2</td>\n",
       "      <td>246208</td>\n",
       "      <td>1.0</td>\n",
       "      <td>0.000</td>\n",
       "      <td>4.96</td>\n",
       "      <td>2.37</td>\n",
       "      <td>2016-05-06</td>\n",
       "      <td>HEI</td>\n",
       "      <td>2153376.0</td>\n",
       "      <td>47.35</td>\n",
       "      <td>NaN</td>\n",
       "      <td>7 days</td>\n",
       "      <td>45.0</td>\n",
       "      <td>0.069064</td>\n",
       "      <td>70.0</td>\n",
       "      <td>563.0</td>\n",
       "    </tr>\n",
       "    <tr>\n",
       "      <th>1</th>\n",
       "      <td>190400316262</td>\n",
       "      <td>2</td>\n",
       "      <td>33725</td>\n",
       "      <td>1.0</td>\n",
       "      <td>0.000</td>\n",
       "      <td>8.25</td>\n",
       "      <td>3.63</td>\n",
       "      <td>2016-05-06</td>\n",
       "      <td>HEI</td>\n",
       "      <td>2278256.0</td>\n",
       "      <td>38.80</td>\n",
       "      <td>NaN</td>\n",
       "      <td>47 days</td>\n",
       "      <td>32.0</td>\n",
       "      <td>0.076076</td>\n",
       "      <td>74.0</td>\n",
       "      <td>499.0</td>\n",
       "    </tr>\n",
       "    <tr>\n",
       "      <th>2</th>\n",
       "      <td>190400316262</td>\n",
       "      <td>3</td>\n",
       "      <td>634497</td>\n",
       "      <td>1.0</td>\n",
       "      <td>0.000</td>\n",
       "      <td>5.79</td>\n",
       "      <td>3.63</td>\n",
       "      <td>2016-05-06</td>\n",
       "      <td>HEI</td>\n",
       "      <td>2278256.0</td>\n",
       "      <td>38.80</td>\n",
       "      <td>NaN</td>\n",
       "      <td>47 days</td>\n",
       "      <td>32.0</td>\n",
       "      <td>0.076076</td>\n",
       "      <td>74.0</td>\n",
       "      <td>499.0</td>\n",
       "    </tr>\n",
       "    <tr>\n",
       "      <th>3</th>\n",
       "      <td>190400316262</td>\n",
       "      <td>1</td>\n",
       "      <td>257613</td>\n",
       "      <td>1.0</td>\n",
       "      <td>0.000</td>\n",
       "      <td>18.29</td>\n",
       "      <td>6.21</td>\n",
       "      <td>2016-05-06</td>\n",
       "      <td>HEI</td>\n",
       "      <td>2278256.0</td>\n",
       "      <td>38.80</td>\n",
       "      <td>NaN</td>\n",
       "      <td>47 days</td>\n",
       "      <td>32.0</td>\n",
       "      <td>0.076076</td>\n",
       "      <td>74.0</td>\n",
       "      <td>499.0</td>\n",
       "    </tr>\n",
       "    <tr>\n",
       "      <th>4</th>\n",
       "      <td>190400316263</td>\n",
       "      <td>1</td>\n",
       "      <td>257627</td>\n",
       "      <td>1.0</td>\n",
       "      <td>0.000</td>\n",
       "      <td>49.92</td>\n",
       "      <td>10.42</td>\n",
       "      <td>2016-05-06</td>\n",
       "      <td>HEI</td>\n",
       "      <td>2149384.0</td>\n",
       "      <td>59.90</td>\n",
       "      <td>NaN</td>\n",
       "      <td>40 days</td>\n",
       "      <td>10.0</td>\n",
       "      <td>0.110637</td>\n",
       "      <td>119.0</td>\n",
       "      <td>587.0</td>\n",
       "    </tr>\n",
       "    <tr>\n",
       "      <th>...</th>\n",
       "      <td>...</td>\n",
       "      <td>...</td>\n",
       "      <td>...</td>\n",
       "      <td>...</td>\n",
       "      <td>...</td>\n",
       "      <td>...</td>\n",
       "      <td>...</td>\n",
       "      <td>...</td>\n",
       "      <td>...</td>\n",
       "      <td>...</td>\n",
       "      <td>...</td>\n",
       "      <td>...</td>\n",
       "      <td>...</td>\n",
       "      <td>...</td>\n",
       "      <td>...</td>\n",
       "      <td>...</td>\n",
       "      <td>...</td>\n",
       "    </tr>\n",
       "    <tr>\n",
       "      <th>34105570</th>\n",
       "      <td>340200383203</td>\n",
       "      <td>2</td>\n",
       "      <td>257643</td>\n",
       "      <td>1.0</td>\n",
       "      <td>0.000</td>\n",
       "      <td>4.69</td>\n",
       "      <td>1.83</td>\n",
       "      <td>2017-12-29</td>\n",
       "      <td>SEM</td>\n",
       "      <td>3507394.0</td>\n",
       "      <td>24.08</td>\n",
       "      <td>NaN</td>\n",
       "      <td>8 days</td>\n",
       "      <td>19.0</td>\n",
       "      <td>0.043278</td>\n",
       "      <td>18.0</td>\n",
       "      <td>0.0</td>\n",
       "    </tr>\n",
       "    <tr>\n",
       "      <th>34105571</th>\n",
       "      <td>340200383203</td>\n",
       "      <td>3</td>\n",
       "      <td>50170</td>\n",
       "      <td>1.0</td>\n",
       "      <td>0.000</td>\n",
       "      <td>3.18</td>\n",
       "      <td>1.00</td>\n",
       "      <td>2017-12-29</td>\n",
       "      <td>SEM</td>\n",
       "      <td>3507394.0</td>\n",
       "      <td>24.08</td>\n",
       "      <td>NaN</td>\n",
       "      <td>8 days</td>\n",
       "      <td>19.0</td>\n",
       "      <td>0.043278</td>\n",
       "      <td>18.0</td>\n",
       "      <td>0.0</td>\n",
       "    </tr>\n",
       "    <tr>\n",
       "      <th>34105572</th>\n",
       "      <td>340200383203</td>\n",
       "      <td>4</td>\n",
       "      <td>349345</td>\n",
       "      <td>1.0</td>\n",
       "      <td>0.000</td>\n",
       "      <td>3.46</td>\n",
       "      <td>1.13</td>\n",
       "      <td>2017-12-29</td>\n",
       "      <td>SEM</td>\n",
       "      <td>3507394.0</td>\n",
       "      <td>24.08</td>\n",
       "      <td>NaN</td>\n",
       "      <td>8 days</td>\n",
       "      <td>19.0</td>\n",
       "      <td>0.043278</td>\n",
       "      <td>18.0</td>\n",
       "      <td>0.0</td>\n",
       "    </tr>\n",
       "    <tr>\n",
       "      <th>34105573</th>\n",
       "      <td>340200383203</td>\n",
       "      <td>5</td>\n",
       "      <td>250580</td>\n",
       "      <td>2.0</td>\n",
       "      <td>0.000</td>\n",
       "      <td>6.80</td>\n",
       "      <td>2.18</td>\n",
       "      <td>2017-12-29</td>\n",
       "      <td>SEM</td>\n",
       "      <td>3507394.0</td>\n",
       "      <td>24.08</td>\n",
       "      <td>NaN</td>\n",
       "      <td>8 days</td>\n",
       "      <td>19.0</td>\n",
       "      <td>0.043278</td>\n",
       "      <td>18.0</td>\n",
       "      <td>0.0</td>\n",
       "    </tr>\n",
       "    <tr>\n",
       "      <th>34105574</th>\n",
       "      <td>340200383217</td>\n",
       "      <td>1</td>\n",
       "      <td>816313</td>\n",
       "      <td>20.0</td>\n",
       "      <td>1.818</td>\n",
       "      <td>1.82</td>\n",
       "      <td>1.42</td>\n",
       "      <td>2017-12-29</td>\n",
       "      <td>SEM</td>\n",
       "      <td>2304183.0</td>\n",
       "      <td>2.00</td>\n",
       "      <td>NaN</td>\n",
       "      <td>5 days</td>\n",
       "      <td>4.0</td>\n",
       "      <td>0.704811</td>\n",
       "      <td>720.0</td>\n",
       "      <td>0.0</td>\n",
       "    </tr>\n",
       "  </tbody>\n",
       "</table>\n",
       "<p>34105575 rows × 17 columns</p>\n",
       "</div>"
      ],
      "text/plain": [
       "              IDTICKET NUMLIGNETICKET IDARTICLE  QUANTITE  MONTANTREMISE  \\\n",
       "0         190400316260              2    246208       1.0          0.000   \n",
       "1         190400316262              2     33725       1.0          0.000   \n",
       "2         190400316262              3    634497       1.0          0.000   \n",
       "3         190400316262              1    257613       1.0          0.000   \n",
       "4         190400316263              1    257627       1.0          0.000   \n",
       "...                ...            ...       ...       ...            ...   \n",
       "34105570  340200383203              2    257643       1.0          0.000   \n",
       "34105571  340200383203              3     50170       1.0          0.000   \n",
       "34105572  340200383203              4    349345       1.0          0.000   \n",
       "34105573  340200383203              5    250580       2.0          0.000   \n",
       "34105574  340200383217              1    816313      20.0          1.818   \n",
       "\n",
       "          TOTAL  MARGESORTIE   TIC_DATE MAG_CODE   IDCLIENT  TIC_TOTALTTC  \\\n",
       "0          4.96         2.37 2016-05-06      HEI  2153376.0         47.35   \n",
       "1          8.25         3.63 2016-05-06      HEI  2278256.0         38.80   \n",
       "2          5.79         3.63 2016-05-06      HEI  2278256.0         38.80   \n",
       "3         18.29         6.21 2016-05-06      HEI  2278256.0         38.80   \n",
       "4         49.92        10.42 2016-05-06      HEI  2149384.0         59.90   \n",
       "...         ...          ...        ...      ...        ...           ...   \n",
       "34105570   4.69         1.83 2017-12-29      SEM  3507394.0         24.08   \n",
       "34105571   3.18         1.00 2017-12-29      SEM  3507394.0         24.08   \n",
       "34105572   3.46         1.13 2017-12-29      SEM  3507394.0         24.08   \n",
       "34105573   6.80         2.18 2017-12-29      SEM  3507394.0         24.08   \n",
       "34105574   1.82         1.42 2017-12-29      SEM  2304183.0          2.00   \n",
       "\n",
       "          FREQUENCE_MAG ANCIENNETE_CDE  VARIETE_PANIER  TAUX_REMISE  \\\n",
       "0                   NaN         7 days            45.0     0.069064   \n",
       "1                   NaN        47 days            32.0     0.076076   \n",
       "2                   NaN        47 days            32.0     0.076076   \n",
       "3                   NaN        47 days            32.0     0.076076   \n",
       "4                   NaN        40 days            10.0     0.110637   \n",
       "...                 ...            ...             ...          ...   \n",
       "34105570            NaN         8 days            19.0     0.043278   \n",
       "34105571            NaN         8 days            19.0     0.043278   \n",
       "34105572            NaN         8 days            19.0     0.043278   \n",
       "34105573            NaN         8 days            19.0     0.043278   \n",
       "34105574            NaN         5 days             4.0     0.704811   \n",
       "\n",
       "          anciennete_premiere_commande  anciennete_derniere_commande  \n",
       "0                                 70.0                         563.0  \n",
       "1                                 74.0                         499.0  \n",
       "2                                 74.0                         499.0  \n",
       "3                                 74.0                         499.0  \n",
       "4                                119.0                         587.0  \n",
       "...                                ...                           ...  \n",
       "34105570                          18.0                           0.0  \n",
       "34105571                          18.0                           0.0  \n",
       "34105572                          18.0                           0.0  \n",
       "34105573                          18.0                           0.0  \n",
       "34105574                         720.0                           0.0  \n",
       "\n",
       "[34105575 rows x 17 columns]"
      ]
     },
     "execution_count": 94,
     "metadata": {},
     "output_type": "execute_result"
    }
   ],
   "source": [
    "data_merged"
   ]
  },
  {
   "cell_type": "code",
   "execution_count": null,
   "id": "9717dbcdd972fb1b",
   "metadata": {},
   "outputs": [],
   "source": []
  }
 ],
 "metadata": {
  "kernelspec": {
   "display_name": "Python 3 (ipykernel)",
   "language": "python",
   "name": "python3"
  },
  "language_info": {
   "name": "python",
   "version": "3.11.5"
  }
 },
 "nbformat": 4,
 "nbformat_minor": 5
}
