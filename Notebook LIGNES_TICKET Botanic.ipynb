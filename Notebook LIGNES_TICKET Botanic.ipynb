{
 "cells": [
  {
   "cell_type": "code",
   "execution_count": null,
   "metadata": {},
   "outputs": [],
   "source": [
    "import pip\n",
    "pip.main(['install', 'pandas'])\n",
    "pip.main(['install', 'matplotlib'])\n",
    "pip.main(['install', 'seaborn'])\n",
    "pip.main(['install', 'scikit-learn'])"
   ]
  },
  {
   "cell_type": "markdown",
   "metadata": {},
   "source": [
    "# CHARGEMENT DES BIBLIOTHEQUES"
   ]
  },
  {
   "cell_type": "code",
   "execution_count": 2,
   "metadata": {},
   "outputs": [],
   "source": [
    "import pandas as pd\n",
    "import matplotlib.pyplot as plt\n",
    "import numpy as np\n",
    "import seaborn as sns\n",
    "\n",
    "from sklearn.linear_model import LogisticRegression\n",
    "from sklearn.model_selection import train_test_split\n",
    "from sklearn.datasets import make_classification\n",
    "from sklearn.metrics import roc_curve, auc\n",
    "from sklearn.metrics import accuracy_score, classification_report, confusion_matrix\n",
    "from sklearn.preprocessing import StandardScaler\n",
    "from sklearn.preprocessing import OneHotEncoder\n",
    "from sklearn.preprocessing import LabelEncoder"
   ]
  },
  {
   "cell_type": "markdown",
   "metadata": {},
   "source": [
    "Chargement du jeu de données \"LIGNES_TICKET_V4\""
   ]
  },
  {
   "cell_type": "code",
   "execution_count": 13,
   "metadata": {},
   "outputs": [
    {
     "name": "stdout",
     "output_type": "stream",
     "text": [
      "(34105705, 7)\n",
      "['IDTICKET', 'NUMLIGNETICKET', 'IDARTICLE', 'QUANTITE', 'MONTANTREMISE', 'TOTAL', 'MARGESORTIE']\n"
     ]
    }
   ],
   "source": [
    "dataset_path = \"C:\\\\Users\\\\belga\\\\OneDrive\\\\Bureau\\\\EMBA Big Data\\\\Module Datascience\\\\Projet Data Science S2 2024\\\\LIGNES_TICKET_V4.csv\"\n",
    "data3 = pd.read_csv(dataset_path, sep='|', low_memory=False)\n",
    "print(data3.shape)\n",
    "print(list(data3.columns))"
   ]
  },
  {
   "cell_type": "markdown",
   "metadata": {},
   "source": [
    "La ligne de code ci-dessous nous permet de voir le détail des colonnes de notre jeu de données ainsi que le type de données (chaîne de caractères, numérique)"
   ]
  },
  {
   "cell_type": "code",
   "execution_count": 14,
   "metadata": {},
   "outputs": [
    {
     "name": "stdout",
     "output_type": "stream",
     "text": [
      "<class 'pandas.core.frame.DataFrame'>\n",
      "RangeIndex: 34105705 entries, 0 to 34105704\n",
      "Data columns (total 7 columns):\n",
      " #   Column          Dtype \n",
      "---  ------          ----- \n",
      " 0   IDTICKET        int64 \n",
      " 1   NUMLIGNETICKET  int64 \n",
      " 2   IDARTICLE       object\n",
      " 3   QUANTITE        object\n",
      " 4   MONTANTREMISE   object\n",
      " 5   TOTAL           object\n",
      " 6   MARGESORTIE     object\n",
      "dtypes: int64(2), object(5)\n",
      "memory usage: 1.8+ GB\n"
     ]
    }
   ],
   "source": [
    "data3.info()"
   ]
  },
  {
   "cell_type": "markdown",
   "metadata": {},
   "source": [
    "Aperçu du jeu de données."
   ]
  },
  {
   "cell_type": "code",
   "execution_count": 15,
   "metadata": {},
   "outputs": [
    {
     "data": {
      "text/html": [
       "<div>\n",
       "<style scoped>\n",
       "    .dataframe tbody tr th:only-of-type {\n",
       "        vertical-align: middle;\n",
       "    }\n",
       "\n",
       "    .dataframe tbody tr th {\n",
       "        vertical-align: top;\n",
       "    }\n",
       "\n",
       "    .dataframe thead th {\n",
       "        text-align: right;\n",
       "    }\n",
       "</style>\n",
       "<table border=\"1\" class=\"dataframe\">\n",
       "  <thead>\n",
       "    <tr style=\"text-align: right;\">\n",
       "      <th></th>\n",
       "      <th>IDTICKET</th>\n",
       "      <th>NUMLIGNETICKET</th>\n",
       "      <th>IDARTICLE</th>\n",
       "      <th>QUANTITE</th>\n",
       "      <th>MONTANTREMISE</th>\n",
       "      <th>TOTAL</th>\n",
       "      <th>MARGESORTIE</th>\n",
       "    </tr>\n",
       "  </thead>\n",
       "  <tbody>\n",
       "    <tr>\n",
       "      <th>0</th>\n",
       "      <td>190400316260</td>\n",
       "      <td>2</td>\n",
       "      <td>246208</td>\n",
       "      <td>1,000</td>\n",
       "      <td>,000</td>\n",
       "      <td>4,96</td>\n",
       "      <td>2,37</td>\n",
       "    </tr>\n",
       "    <tr>\n",
       "      <th>1</th>\n",
       "      <td>190400316262</td>\n",
       "      <td>2</td>\n",
       "      <td>33725</td>\n",
       "      <td>1,000</td>\n",
       "      <td>,000</td>\n",
       "      <td>8,25</td>\n",
       "      <td>3,63</td>\n",
       "    </tr>\n",
       "    <tr>\n",
       "      <th>2</th>\n",
       "      <td>190400316262</td>\n",
       "      <td>3</td>\n",
       "      <td>634497</td>\n",
       "      <td>1,000</td>\n",
       "      <td>,000</td>\n",
       "      <td>5,79</td>\n",
       "      <td>3,63</td>\n",
       "    </tr>\n",
       "    <tr>\n",
       "      <th>3</th>\n",
       "      <td>190400316262</td>\n",
       "      <td>1</td>\n",
       "      <td>257613</td>\n",
       "      <td>1,000</td>\n",
       "      <td>,000</td>\n",
       "      <td>18,29</td>\n",
       "      <td>6,21</td>\n",
       "    </tr>\n",
       "    <tr>\n",
       "      <th>4</th>\n",
       "      <td>190400316263</td>\n",
       "      <td>1</td>\n",
       "      <td>257627</td>\n",
       "      <td>1,000</td>\n",
       "      <td>,000</td>\n",
       "      <td>49,92</td>\n",
       "      <td>10,42</td>\n",
       "    </tr>\n",
       "    <tr>\n",
       "      <th>...</th>\n",
       "      <td>...</td>\n",
       "      <td>...</td>\n",
       "      <td>...</td>\n",
       "      <td>...</td>\n",
       "      <td>...</td>\n",
       "      <td>...</td>\n",
       "      <td>...</td>\n",
       "    </tr>\n",
       "    <tr>\n",
       "      <th>34105700</th>\n",
       "      <td>340200383203</td>\n",
       "      <td>2</td>\n",
       "      <td>257643</td>\n",
       "      <td>1</td>\n",
       "      <td>0</td>\n",
       "      <td>4,69</td>\n",
       "      <td>1,83</td>\n",
       "    </tr>\n",
       "    <tr>\n",
       "      <th>34105701</th>\n",
       "      <td>340200383203</td>\n",
       "      <td>3</td>\n",
       "      <td>50170</td>\n",
       "      <td>1</td>\n",
       "      <td>0</td>\n",
       "      <td>3,18</td>\n",
       "      <td>1</td>\n",
       "    </tr>\n",
       "    <tr>\n",
       "      <th>34105702</th>\n",
       "      <td>340200383203</td>\n",
       "      <td>4</td>\n",
       "      <td>349345</td>\n",
       "      <td>1</td>\n",
       "      <td>0</td>\n",
       "      <td>3,46</td>\n",
       "      <td>1,13</td>\n",
       "    </tr>\n",
       "    <tr>\n",
       "      <th>34105703</th>\n",
       "      <td>340200383203</td>\n",
       "      <td>5</td>\n",
       "      <td>250580</td>\n",
       "      <td>2</td>\n",
       "      <td>0</td>\n",
       "      <td>6,8</td>\n",
       "      <td>2,18</td>\n",
       "    </tr>\n",
       "    <tr>\n",
       "      <th>34105704</th>\n",
       "      <td>340200383217</td>\n",
       "      <td>1</td>\n",
       "      <td>816313</td>\n",
       "      <td>20</td>\n",
       "      <td>1,818</td>\n",
       "      <td>1,82</td>\n",
       "      <td>1,42</td>\n",
       "    </tr>\n",
       "  </tbody>\n",
       "</table>\n",
       "<p>34105705 rows × 7 columns</p>\n",
       "</div>"
      ],
      "text/plain": [
       "              IDTICKET  NUMLIGNETICKET IDARTICLE QUANTITE MONTANTREMISE  \\\n",
       "0         190400316260               2    246208    1,000          ,000   \n",
       "1         190400316262               2     33725    1,000          ,000   \n",
       "2         190400316262               3    634497    1,000          ,000   \n",
       "3         190400316262               1    257613    1,000          ,000   \n",
       "4         190400316263               1    257627    1,000          ,000   \n",
       "...                ...             ...       ...      ...           ...   \n",
       "34105700  340200383203               2    257643        1             0   \n",
       "34105701  340200383203               3     50170        1             0   \n",
       "34105702  340200383203               4    349345        1             0   \n",
       "34105703  340200383203               5    250580        2             0   \n",
       "34105704  340200383217               1    816313       20         1,818   \n",
       "\n",
       "          TOTAL MARGESORTIE  \n",
       "0          4,96        2,37  \n",
       "1          8,25        3,63  \n",
       "2          5,79        3,63  \n",
       "3         18,29        6,21  \n",
       "4         49,92       10,42  \n",
       "...         ...         ...  \n",
       "34105700   4,69        1,83  \n",
       "34105701   3,18           1  \n",
       "34105702   3,46        1,13  \n",
       "34105703    6,8        2,18  \n",
       "34105704   1,82        1,42  \n",
       "\n",
       "[34105705 rows x 7 columns]"
      ]
     },
     "execution_count": 15,
     "metadata": {},
     "output_type": "execute_result"
    }
   ],
   "source": [
    "data3"
   ]
  },
  {
   "cell_type": "markdown",
   "metadata": {},
   "source": [
    "Afin d'exploiter de façon optimale les informations, nous allons convetir les l'ID TICKET et le NUM LIGNE TICKET en caractère. A l'inverse, nous devons convertir les quantités, les montants, les totaux et les marges en valeur numérique."
   ]
  },
  {
   "cell_type": "code",
   "execution_count": 16,
   "metadata": {},
   "outputs": [],
   "source": [
    "data3['IDTICKET'] = data3['IDTICKET'].astype(str)\n",
    "data3['NUMLIGNETICKET'] = data3['NUMLIGNETICKET'].astype(str)"
   ]
  },
  {
   "cell_type": "code",
   "execution_count": 17,
   "metadata": {},
   "outputs": [],
   "source": [
    "data3[\"QUANTITE\"]=data3['QUANTITE'].str.replace(',', '.').astype(float)"
   ]
  },
  {
   "cell_type": "code",
   "execution_count": 18,
   "metadata": {},
   "outputs": [],
   "source": [
    "data3[\"TOTAL\"]=data3['TOTAL'].str.replace(',', '.').astype(float)"
   ]
  },
  {
   "cell_type": "code",
   "execution_count": 19,
   "metadata": {},
   "outputs": [],
   "source": [
    "data3[\"MONTANTREMISE\"]=data3['MONTANTREMISE'].str.replace(',', '.').astype(float)"
   ]
  },
  {
   "cell_type": "code",
   "execution_count": 20,
   "metadata": {},
   "outputs": [],
   "source": [
    "data3[\"MARGESORTIE\"]=data3['MARGESORTIE'].str.replace(',', '.').astype(float)"
   ]
  },
  {
   "cell_type": "markdown",
   "metadata": {},
   "source": [
    "Vérification du traitement."
   ]
  },
  {
   "cell_type": "code",
   "execution_count": 21,
   "metadata": {},
   "outputs": [
    {
     "data": {
      "text/html": [
       "<div>\n",
       "<style scoped>\n",
       "    .dataframe tbody tr th:only-of-type {\n",
       "        vertical-align: middle;\n",
       "    }\n",
       "\n",
       "    .dataframe tbody tr th {\n",
       "        vertical-align: top;\n",
       "    }\n",
       "\n",
       "    .dataframe thead th {\n",
       "        text-align: right;\n",
       "    }\n",
       "</style>\n",
       "<table border=\"1\" class=\"dataframe\">\n",
       "  <thead>\n",
       "    <tr style=\"text-align: right;\">\n",
       "      <th></th>\n",
       "      <th>IDTICKET</th>\n",
       "      <th>NUMLIGNETICKET</th>\n",
       "      <th>IDARTICLE</th>\n",
       "      <th>QUANTITE</th>\n",
       "      <th>MONTANTREMISE</th>\n",
       "      <th>TOTAL</th>\n",
       "      <th>MARGESORTIE</th>\n",
       "    </tr>\n",
       "  </thead>\n",
       "  <tbody>\n",
       "    <tr>\n",
       "      <th>0</th>\n",
       "      <td>190400316260</td>\n",
       "      <td>2</td>\n",
       "      <td>246208</td>\n",
       "      <td>1.0</td>\n",
       "      <td>0.000</td>\n",
       "      <td>4.96</td>\n",
       "      <td>2.37</td>\n",
       "    </tr>\n",
       "    <tr>\n",
       "      <th>1</th>\n",
       "      <td>190400316262</td>\n",
       "      <td>2</td>\n",
       "      <td>33725</td>\n",
       "      <td>1.0</td>\n",
       "      <td>0.000</td>\n",
       "      <td>8.25</td>\n",
       "      <td>3.63</td>\n",
       "    </tr>\n",
       "    <tr>\n",
       "      <th>2</th>\n",
       "      <td>190400316262</td>\n",
       "      <td>3</td>\n",
       "      <td>634497</td>\n",
       "      <td>1.0</td>\n",
       "      <td>0.000</td>\n",
       "      <td>5.79</td>\n",
       "      <td>3.63</td>\n",
       "    </tr>\n",
       "    <tr>\n",
       "      <th>3</th>\n",
       "      <td>190400316262</td>\n",
       "      <td>1</td>\n",
       "      <td>257613</td>\n",
       "      <td>1.0</td>\n",
       "      <td>0.000</td>\n",
       "      <td>18.29</td>\n",
       "      <td>6.21</td>\n",
       "    </tr>\n",
       "    <tr>\n",
       "      <th>4</th>\n",
       "      <td>190400316263</td>\n",
       "      <td>1</td>\n",
       "      <td>257627</td>\n",
       "      <td>1.0</td>\n",
       "      <td>0.000</td>\n",
       "      <td>49.92</td>\n",
       "      <td>10.42</td>\n",
       "    </tr>\n",
       "    <tr>\n",
       "      <th>...</th>\n",
       "      <td>...</td>\n",
       "      <td>...</td>\n",
       "      <td>...</td>\n",
       "      <td>...</td>\n",
       "      <td>...</td>\n",
       "      <td>...</td>\n",
       "      <td>...</td>\n",
       "    </tr>\n",
       "    <tr>\n",
       "      <th>34105700</th>\n",
       "      <td>340200383203</td>\n",
       "      <td>2</td>\n",
       "      <td>257643</td>\n",
       "      <td>1.0</td>\n",
       "      <td>0.000</td>\n",
       "      <td>4.69</td>\n",
       "      <td>1.83</td>\n",
       "    </tr>\n",
       "    <tr>\n",
       "      <th>34105701</th>\n",
       "      <td>340200383203</td>\n",
       "      <td>3</td>\n",
       "      <td>50170</td>\n",
       "      <td>1.0</td>\n",
       "      <td>0.000</td>\n",
       "      <td>3.18</td>\n",
       "      <td>1.00</td>\n",
       "    </tr>\n",
       "    <tr>\n",
       "      <th>34105702</th>\n",
       "      <td>340200383203</td>\n",
       "      <td>4</td>\n",
       "      <td>349345</td>\n",
       "      <td>1.0</td>\n",
       "      <td>0.000</td>\n",
       "      <td>3.46</td>\n",
       "      <td>1.13</td>\n",
       "    </tr>\n",
       "    <tr>\n",
       "      <th>34105703</th>\n",
       "      <td>340200383203</td>\n",
       "      <td>5</td>\n",
       "      <td>250580</td>\n",
       "      <td>2.0</td>\n",
       "      <td>0.000</td>\n",
       "      <td>6.80</td>\n",
       "      <td>2.18</td>\n",
       "    </tr>\n",
       "    <tr>\n",
       "      <th>34105704</th>\n",
       "      <td>340200383217</td>\n",
       "      <td>1</td>\n",
       "      <td>816313</td>\n",
       "      <td>20.0</td>\n",
       "      <td>1.818</td>\n",
       "      <td>1.82</td>\n",
       "      <td>1.42</td>\n",
       "    </tr>\n",
       "  </tbody>\n",
       "</table>\n",
       "<p>34105705 rows × 7 columns</p>\n",
       "</div>"
      ],
      "text/plain": [
       "              IDTICKET NUMLIGNETICKET IDARTICLE  QUANTITE  MONTANTREMISE  \\\n",
       "0         190400316260              2    246208       1.0          0.000   \n",
       "1         190400316262              2     33725       1.0          0.000   \n",
       "2         190400316262              3    634497       1.0          0.000   \n",
       "3         190400316262              1    257613       1.0          0.000   \n",
       "4         190400316263              1    257627       1.0          0.000   \n",
       "...                ...            ...       ...       ...            ...   \n",
       "34105700  340200383203              2    257643       1.0          0.000   \n",
       "34105701  340200383203              3     50170       1.0          0.000   \n",
       "34105702  340200383203              4    349345       1.0          0.000   \n",
       "34105703  340200383203              5    250580       2.0          0.000   \n",
       "34105704  340200383217              1    816313      20.0          1.818   \n",
       "\n",
       "          TOTAL  MARGESORTIE  \n",
       "0          4.96         2.37  \n",
       "1          8.25         3.63  \n",
       "2          5.79         3.63  \n",
       "3         18.29         6.21  \n",
       "4         49.92        10.42  \n",
       "...         ...          ...  \n",
       "34105700   4.69         1.83  \n",
       "34105701   3.18         1.00  \n",
       "34105702   3.46         1.13  \n",
       "34105703   6.80         2.18  \n",
       "34105704   1.82         1.42  \n",
       "\n",
       "[34105705 rows x 7 columns]"
      ]
     },
     "execution_count": 21,
     "metadata": {},
     "output_type": "execute_result"
    }
   ],
   "source": [
    "data3"
   ]
  },
  {
   "cell_type": "markdown",
   "metadata": {},
   "source": [
    "#data3['TOTAL'].replace({'': '0.0'}, inplace=True)"
   ]
  },
  {
   "cell_type": "markdown",
   "metadata": {},
   "source": [
    "Vérification du traitement."
   ]
  },
  {
   "cell_type": "code",
   "execution_count": 22,
   "metadata": {},
   "outputs": [
    {
     "name": "stdout",
     "output_type": "stream",
     "text": [
      "<class 'pandas.core.frame.DataFrame'>\n",
      "RangeIndex: 34105705 entries, 0 to 34105704\n",
      "Data columns (total 7 columns):\n",
      " #   Column          Dtype  \n",
      "---  ------          -----  \n",
      " 0   IDTICKET        object \n",
      " 1   NUMLIGNETICKET  object \n",
      " 2   IDARTICLE       object \n",
      " 3   QUANTITE        float64\n",
      " 4   MONTANTREMISE   float64\n",
      " 5   TOTAL           float64\n",
      " 6   MARGESORTIE     float64\n",
      "dtypes: float64(4), object(3)\n",
      "memory usage: 1.8+ GB\n"
     ]
    }
   ],
   "source": [
    "data3.info()"
   ]
  },
  {
   "cell_type": "markdown",
   "metadata": {},
   "source": [
    "La ligne de code ci-dessous nous permet d'identifier les valeurs en doublons qui conviendra de traiter."
   ]
  },
  {
   "cell_type": "code",
   "execution_count": 23,
   "metadata": {},
   "outputs": [
    {
     "name": "stdout",
     "output_type": "stream",
     "text": [
      "130\n"
     ]
    }
   ],
   "source": [
    "print(data3.duplicated().sum())\n",
    "data = data3.drop_duplicates()"
   ]
  },
  {
   "cell_type": "markdown",
   "metadata": {},
   "source": [
    "Nous allons désormais procéder au traitement de ces doublons."
   ]
  },
  {
   "cell_type": "code",
   "execution_count": 50,
   "metadata": {},
   "outputs": [],
   "source": [
    "data3.drop_duplicates(keep='first', inplace=True)"
   ]
  },
  {
   "cell_type": "markdown",
   "metadata": {},
   "source": [
    "Code de vérification."
   ]
  },
  {
   "cell_type": "code",
   "execution_count": 51,
   "metadata": {},
   "outputs": [
    {
     "name": "stdout",
     "output_type": "stream",
     "text": [
      "0\n"
     ]
    }
   ],
   "source": [
    "print(data3.duplicated().sum())"
   ]
  },
  {
   "cell_type": "markdown",
   "metadata": {},
   "source": [
    "Nous procédons également à la vérification de présence ou non de valeurs manquantes (aucune valeur détectée)."
   ]
  },
  {
   "cell_type": "code",
   "execution_count": 24,
   "metadata": {},
   "outputs": [
    {
     "data": {
      "text/html": [
       "<div>\n",
       "<style scoped>\n",
       "    .dataframe tbody tr th:only-of-type {\n",
       "        vertical-align: middle;\n",
       "    }\n",
       "\n",
       "    .dataframe tbody tr th {\n",
       "        vertical-align: top;\n",
       "    }\n",
       "\n",
       "    .dataframe thead th {\n",
       "        text-align: right;\n",
       "    }\n",
       "</style>\n",
       "<table border=\"1\" class=\"dataframe\">\n",
       "  <thead>\n",
       "    <tr style=\"text-align: right;\">\n",
       "      <th></th>\n",
       "      <th>%_missing_values</th>\n",
       "    </tr>\n",
       "  </thead>\n",
       "  <tbody>\n",
       "    <tr>\n",
       "      <th>IDTICKET</th>\n",
       "      <td>0.0</td>\n",
       "    </tr>\n",
       "    <tr>\n",
       "      <th>NUMLIGNETICKET</th>\n",
       "      <td>0.0</td>\n",
       "    </tr>\n",
       "    <tr>\n",
       "      <th>IDARTICLE</th>\n",
       "      <td>0.0</td>\n",
       "    </tr>\n",
       "    <tr>\n",
       "      <th>QUANTITE</th>\n",
       "      <td>0.0</td>\n",
       "    </tr>\n",
       "    <tr>\n",
       "      <th>MONTANTREMISE</th>\n",
       "      <td>0.0</td>\n",
       "    </tr>\n",
       "    <tr>\n",
       "      <th>TOTAL</th>\n",
       "      <td>0.0</td>\n",
       "    </tr>\n",
       "    <tr>\n",
       "      <th>MARGESORTIE</th>\n",
       "      <td>0.0</td>\n",
       "    </tr>\n",
       "  </tbody>\n",
       "</table>\n",
       "</div>"
      ],
      "text/plain": [
       "                %_missing_values\n",
       "IDTICKET                     0.0\n",
       "NUMLIGNETICKET               0.0\n",
       "IDARTICLE                    0.0\n",
       "QUANTITE                     0.0\n",
       "MONTANTREMISE                0.0\n",
       "TOTAL                        0.0\n",
       "MARGESORTIE                  0.0"
      ]
     },
     "execution_count": 24,
     "metadata": {},
     "output_type": "execute_result"
    }
   ],
   "source": [
    "pd.DataFrame(index=data.columns, columns=['%_missing_values'], data= (data.isna().sum().values / len(data)*100))"
   ]
  },
  {
   "cell_type": "markdown",
   "metadata": {},
   "source": [
    "Il convient à présent de vérifier la présence de valeur aberrantes."
   ]
  },
  {
   "cell_type": "code",
   "execution_count": 26,
   "metadata": {},
   "outputs": [
    {
     "data": {
      "text/plain": [
       "<Axes: >"
      ]
     },
     "execution_count": 26,
     "metadata": {},
     "output_type": "execute_result"
    },
    {
     "data": {
      "image/png": "[encoded data removed]",
      "text/plain": [
       "<Figure size 640x480 with 1 Axes>"
      ]
     },
     "metadata": {},
     "output_type": "display_data"
    }
   ],
   "source": [
    "# Visualisation des boxplots des variables numériques\n",
    "sns.boxplot(data3)"
   ]
  },
  {
   "cell_type": "markdown",
   "metadata": {},
   "source": [
    "La série de code ci-dessous permet de traiter les valeurs aberrantes en présence, sur chacune des catégories concernées."
   ]
  },
  {
   "cell_type": "code",
   "execution_count": 38,
   "metadata": {},
   "outputs": [
    {
     "name": "stdout",
     "output_type": "stream",
     "text": [
      "Old Shape:  (30965162, 7)\n"
     ]
    }
   ],
   "source": [
    "''' Detection '''\n",
    "# IQR\n",
    "Q1 = np.percentile(data3['QUANTITE'], 25,\n",
    "                   interpolation = 'midpoint')\n",
    " \n",
    "Q3 = np.percentile(data3['QUANTITE'], 75,\n",
    "                   interpolation = 'midpoint')\n",
    "IQR = Q3 - Q1\n",
    " \n",
    "print(\"Old Shape: \", data3.shape)"
   ]
  },
  {
   "cell_type": "code",
   "execution_count": 39,
   "metadata": {},
   "outputs": [],
   "source": [
    "# Upper bound\n",
    "upper = np.where(data3['QUANTITE'] >= (Q3+1.5*IQR))\n",
    "# Lower bound\n",
    "lower = np.where(data3['QUANTITE'] <= (Q1-1.5*IQR))"
   ]
  },
  {
   "cell_type": "code",
   "execution_count": 40,
   "metadata": {},
   "outputs": [
    {
     "name": "stdout",
     "output_type": "stream",
     "text": [
      "Old Shape:  (30965162, 7)\n"
     ]
    }
   ],
   "source": [
    "# IQR\n",
    "Q1 = np.percentile(data3['TOTAL'], 25,\n",
    "                   interpolation = 'midpoint')\n",
    " \n",
    "Q3 = np.percentile(data3['TOTAL'], 75,\n",
    "                   interpolation = 'midpoint')\n",
    "IQR = Q3 - Q1\n",
    " \n",
    "print(\"Old Shape: \", data3.shape)"
   ]
  },
  {
   "cell_type": "code",
   "execution_count": 41,
   "metadata": {},
   "outputs": [],
   "source": [
    "# Upper bound\n",
    "upper = np.where(data3['TOTAL'] >= (Q3+1.5*IQR))\n",
    "# Lower bound\n",
    "lower = np.where(data3['TOTAL'] <= (Q1-1.5*IQR))"
   ]
  },
  {
   "cell_type": "code",
   "execution_count": 42,
   "metadata": {},
   "outputs": [
    {
     "name": "stdout",
     "output_type": "stream",
     "text": [
      "Old Shape:  (30965162, 7)\n"
     ]
    }
   ],
   "source": [
    "# IQR\n",
    "Q1 = np.percentile(data3['MONTANTREMISE'], 25,\n",
    "                   interpolation = 'midpoint')\n",
    " \n",
    "Q3 = np.percentile(data3['MONTANTREMISE'], 75,\n",
    "                   interpolation = 'midpoint')\n",
    "IQR = Q3 - Q1\n",
    " \n",
    "print(\"Old Shape: \", data3.shape)"
   ]
  },
  {
   "cell_type": "code",
   "execution_count": 43,
   "metadata": {},
   "outputs": [],
   "source": [
    "# Upper bound\n",
    "upper = np.where(data3['MONTANTREMISE'] >= (Q3+1.5*IQR))\n",
    "# Lower bound\n",
    "lower = np.where(data3['MONTANTREMISE'] <= (Q1-1.5*IQR))"
   ]
  },
  {
   "cell_type": "code",
   "execution_count": 44,
   "metadata": {},
   "outputs": [
    {
     "name": "stdout",
     "output_type": "stream",
     "text": [
      "Old Shape:  (30965162, 7)\n"
     ]
    }
   ],
   "source": [
    "# IQR\n",
    "Q1 = np.percentile(data3['MARGESORTIE'], 25,\n",
    "                   interpolation = 'midpoint')\n",
    " \n",
    "Q3 = np.percentile(data3['MARGESORTIE'], 75,\n",
    "                   interpolation = 'midpoint')\n",
    "IQR = Q3 - Q1\n",
    " \n",
    "print(\"Old Shape: \", data3.shape)"
   ]
  },
  {
   "cell_type": "code",
   "execution_count": 45,
   "metadata": {},
   "outputs": [],
   "source": [
    "# Upper bound\n",
    "upper = np.where(data3['MARGESORTIE'] >= (Q3+1.5*IQR))\n",
    "# Lower bound\n",
    "lower = np.where(data3['MARGESORTIE'] <= (Q1-1.5*IQR))"
   ]
  },
  {
   "cell_type": "code",
   "execution_count": 49,
   "metadata": {},
   "outputs": [
    {
     "name": "stdout",
     "output_type": "stream",
     "text": [
      "New Shape:  (30965162, 7)\n"
     ]
    }
   ],
   "source": [
    "print(\"New Shape: \", data3.shape)"
   ]
  }
 ],
 "metadata": {
  "kernelspec": {
   "display_name": "Python 3",
   "language": "python",
   "name": "python3"
  },
  "language_info": {
   "codemirror_mode": {
    "name": "ipython",
    "version": 3
   },
   "file_extension": ".py",
   "mimetype": "text/x-python",
   "name": "python",
   "nbconvert_exporter": "python",
   "pygments_lexer": "ipython3",
   "version": "3.11.5"
  }
 },
 "nbformat": 4,
 "nbformat_minor": 2
}
