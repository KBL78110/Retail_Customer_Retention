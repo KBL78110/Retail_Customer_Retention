{
 "cells": [
  {
   "cell_type": "code",
   "execution_count": null,
   "id": "96c3f85c",
   "metadata": {},
   "outputs": [],
   "source": [
    "import pip\n",
    "pip.main(['install', 'pandas'])\n",
    "pip.main(['install', 'matplotlib'])\n",
    "pip.main(['install', 'seaborn'])\n",
    "pip.main(['install', 'scikit-learn'])"
   ]
  },
  {
   "cell_type": "markdown",
   "id": "905e3d47",
   "metadata": {},
   "source": [
    "# CHARGEMENT DES BIBLIOTHEQUES"
   ]
  },
  {
   "cell_type": "code",
   "execution_count": 2,
   "id": "4b815cfd",
   "metadata": {},
   "outputs": [],
   "source": [
    "import pandas as pd\n",
    "import matplotlib.pyplot as plt\n",
    "import numpy as np\n",
    "import seaborn as sns\n",
    "\n",
    "from sklearn.linear_model import LogisticRegression\n",
    "from sklearn.model_selection import train_test_split\n",
    "from sklearn.datasets import make_classification\n",
    "from sklearn.metrics import roc_curve, auc\n",
    "from sklearn.metrics import accuracy_score, classification_report, confusion_matrix\n",
    "from sklearn.preprocessing import StandardScaler\n",
    "from sklearn.preprocessing import OneHotEncoder\n",
    "from sklearn.preprocessing import LabelEncoder"
   ]
  },
  {
   "cell_type": "markdown",
   "id": "eea06e23",
   "metadata": {},
   "source": [
    "Chargement du jeu de données \"LIGNES_TICKET_V4\""
   ]
  },
  {
   "cell_type": "code",
   "execution_count": 13,
   "id": "6f2897f5",
   "metadata": {},
   "outputs": [
    {
     "name": "stdout",
     "output_type": "stream",
     "text": [
      "(34105705, 7)\n",
      "['IDTICKET', 'NUMLIGNETICKET', 'IDARTICLE', 'QUANTITE', 'MONTANTREMISE', 'TOTAL', 'MARGESORTIE']\n"
     ]
    }
   ],
   "source": [
    "dataset_path = \"C:\\\\Users\\\\belga\\\\OneDrive\\\\Bureau\\\\EMBA Big Data\\\\Module Datascience\\\\Projet Data Science S2 2024\\\\LIGNES_TICKET_V4.csv\"\n",
    "data3 = pd.read_csv(dataset_path, sep='|', low_memory=False)\n",
    "print(data3.shape)\n",
    "print(list(data3.columns))"
   ]
  },
  {
   "cell_type": "markdown",
   "id": "7d649588",
   "metadata": {},
   "source": [
    "La ligne de code ci-dessous nous permet de voir le détail des colonnes de notre jeu de données ainsi que le type de données (chaîne de caractères, numérique)"
   ]
  },
  {
   "cell_type": "code",
   "execution_count": 14,
   "id": "1a52db12",
   "metadata": {},
   "outputs": [
    {
     "name": "stdout",
     "output_type": "stream",
     "text": [
      "<class 'pandas.core.frame.DataFrame'>\n",
      "RangeIndex: 34105705 entries, 0 to 34105704\n",
      "Data columns (total 7 columns):\n",
      " #   Column          Dtype \n",
      "---  ------          ----- \n",
      " 0   IDTICKET        int64 \n",
      " 1   NUMLIGNETICKET  int64 \n",
      " 2   IDARTICLE       object\n",
      " 3   QUANTITE        object\n",
      " 4   MONTANTREMISE   object\n",
      " 5   TOTAL           object\n",
      " 6   MARGESORTIE     object\n",
      "dtypes: int64(2), object(5)\n",
      "memory usage: 1.8+ GB\n"
     ]
    }
   ],
   "source": [
    "data3.info()"
   ]
  },
  {
   "cell_type": "markdown",
   "id": "b95ab93d",
   "metadata": {},
   "source": [
    "Aperçu du jeu de données."
   ]
  },
  {
   "cell_type": "code",
   "execution_count": 15,
   "id": "49467b1e",
   "metadata": {},
   "outputs": [
    {
     "data": {
      "text/html": [
       "<div>\n",
       "<style scoped>\n",
       "    .dataframe tbody tr th:only-of-type {\n",
       "        vertical-align: middle;\n",
       "    }\n",
       "\n",
       "    .dataframe tbody tr th {\n",
       "        vertical-align: top;\n",
       "    }\n",
       "\n",
       "    .dataframe thead th {\n",
       "        text-align: right;\n",
       "    }\n",
       "</style>\n",
       "<table border=\"1\" class=\"dataframe\">\n",
       "  <thead>\n",
       "    <tr style=\"text-align: right;\">\n",
       "      <th></th>\n",
       "      <th>IDTICKET</th>\n",
       "      <th>NUMLIGNETICKET</th>\n",
       "      <th>IDARTICLE</th>\n",
       "      <th>QUANTITE</th>\n",
       "      <th>MONTANTREMISE</th>\n",
       "      <th>TOTAL</th>\n",
       "      <th>MARGESORTIE</th>\n",
       "    </tr>\n",
       "  </thead>\n",
       "  <tbody>\n",
       "    <tr>\n",
       "      <th>0</th>\n",
       "      <td>190400316260</td>\n",
       "      <td>2</td>\n",
       "      <td>246208</td>\n",
       "      <td>1,000</td>\n",
       "      <td>,000</td>\n",
       "      <td>4,96</td>\n",
       "      <td>2,37</td>\n",
       "    </tr>\n",
       "    <tr>\n",
       "      <th>1</th>\n",
       "      <td>190400316262</td>\n",
       "      <td>2</td>\n",
       "      <td>33725</td>\n",
       "      <td>1,000</td>\n",
       "      <td>,000</td>\n",
       "      <td>8,25</td>\n",
       "      <td>3,63</td>\n",
       "    </tr>\n",
       "    <tr>\n",
       "      <th>2</th>\n",
       "      <td>190400316262</td>\n",
       "      <td>3</td>\n",
       "      <td>634497</td>\n",
       "      <td>1,000</td>\n",
       "      <td>,000</td>\n",
       "      <td>5,79</td>\n",
       "      <td>3,63</td>\n",
       "    </tr>\n",
       "    <tr>\n",
       "      <th>3</th>\n",
       "      <td>190400316262</td>\n",
       "      <td>1</td>\n",
       "      <td>257613</td>\n",
       "      <td>1,000</td>\n",
       "      <td>,000</td>\n",
       "      <td>18,29</td>\n",
       "      <td>6,21</td>\n",
       "    </tr>\n",
       "    <tr>\n",
       "      <th>4</th>\n",
       "      <td>190400316263</td>\n",
       "      <td>1</td>\n",
       "      <td>257627</td>\n",
       "      <td>1,000</td>\n",
       "      <td>,000</td>\n",
       "      <td>49,92</td>\n",
       "      <td>10,42</td>\n",
       "    </tr>\n",
       "    <tr>\n",
       "      <th>...</th>\n",
       "      <td>...</td>\n",
       "      <td>...</td>\n",
       "      <td>...</td>\n",
       "      <td>...</td>\n",
       "      <td>...</td>\n",
       "      <td>...</td>\n",
       "      <td>...</td>\n",
       "    </tr>\n",
       "    <tr>\n",
       "      <th>34105700</th>\n",
       "      <td>340200383203</td>\n",
       "      <td>2</td>\n",
       "      <td>257643</td>\n",
       "      <td>1</td>\n",
       "      <td>0</td>\n",
       "      <td>4,69</td>\n",
       "      <td>1,83</td>\n",
       "    </tr>\n",
       "    <tr>\n",
       "      <th>34105701</th>\n",
       "      <td>340200383203</td>\n",
       "      <td>3</td>\n",
       "      <td>50170</td>\n",
       "      <td>1</td>\n",
       "      <td>0</td>\n",
       "      <td>3,18</td>\n",
       "      <td>1</td>\n",
       "    </tr>\n",
       "    <tr>\n",
       "      <th>34105702</th>\n",
       "      <td>340200383203</td>\n",
       "      <td>4</td>\n",
       "      <td>349345</td>\n",
       "      <td>1</td>\n",
       "      <td>0</td>\n",
       "      <td>3,46</td>\n",
       "      <td>1,13</td>\n",
       "    </tr>\n",
       "    <tr>\n",
       "      <th>34105703</th>\n",
       "      <td>340200383203</td>\n",
       "      <td>5</td>\n",
       "      <td>250580</td>\n",
       "      <td>2</td>\n",
       "      <td>0</td>\n",
       "      <td>6,8</td>\n",
       "      <td>2,18</td>\n",
       "    </tr>\n",
       "    <tr>\n",
       "      <th>34105704</th>\n",
       "      <td>340200383217</td>\n",
       "      <td>1</td>\n",
       "      <td>816313</td>\n",
       "      <td>20</td>\n",
       "      <td>1,818</td>\n",
       "      <td>1,82</td>\n",
       "      <td>1,42</td>\n",
       "    </tr>\n",
       "  </tbody>\n",
       "</table>\n",
       "<p>34105705 rows × 7 columns</p>\n",
       "</div>"
      ],
      "text/plain": [
       "              IDTICKET  NUMLIGNETICKET IDARTICLE QUANTITE MONTANTREMISE  \\\n",
       "0         190400316260               2    246208    1,000          ,000   \n",
       "1         190400316262               2     33725    1,000          ,000   \n",
       "2         190400316262               3    634497    1,000          ,000   \n",
       "3         190400316262               1    257613    1,000          ,000   \n",
       "4         190400316263               1    257627    1,000          ,000   \n",
       "...                ...             ...       ...      ...           ...   \n",
       "34105700  340200383203               2    257643        1             0   \n",
       "34105701  340200383203               3     50170        1             0   \n",
       "34105702  340200383203               4    349345        1             0   \n",
       "34105703  340200383203               5    250580        2             0   \n",
       "34105704  340200383217               1    816313       20         1,818   \n",
       "\n",
       "          TOTAL MARGESORTIE  \n",
       "0          4,96        2,37  \n",
       "1          8,25        3,63  \n",
       "2          5,79        3,63  \n",
       "3         18,29        6,21  \n",
       "4         49,92       10,42  \n",
       "...         ...         ...  \n",
       "34105700   4,69        1,83  \n",
       "34105701   3,18           1  \n",
       "34105702   3,46        1,13  \n",
       "34105703    6,8        2,18  \n",
       "34105704   1,82        1,42  \n",
       "\n",
       "[34105705 rows x 7 columns]"
      ]
     },
     "execution_count": 15,
     "metadata": {},
     "output_type": "execute_result"
    }
   ],
   "source": [
    "data3"
   ]
  },
  {
   "cell_type": "markdown",
   "id": "879f15ff",
   "metadata": {},
   "source": [
    "Afin d'exploiter de façon optimale les informations, nous allons convetir les l'ID TICKET et le NUM LIGNE TICKET en caractère. A l'inverse, nous devons convertir les quantités, les montants, les totaux et les marges en valeur numérique."
   ]
  },
  {
   "cell_type": "code",
   "execution_count": 16,
   "id": "e16e2882",
   "metadata": {},
   "outputs": [],
   "source": [
    "data3['IDTICKET'] = data3['IDTICKET'].astype(str)\n",
    "data3['NUMLIGNETICKET'] = data3['NUMLIGNETICKET'].astype(str)"
   ]
  },
  {
   "cell_type": "code",
   "execution_count": 17,
   "id": "ab1241a4",
   "metadata": {},
   "outputs": [],
   "source": [
    "data3[\"QUANTITE\"]=data3['QUANTITE'].str.replace(',', '.').astype(float)"
   ]
  },
  {
   "cell_type": "code",
   "execution_count": 18,
   "id": "7ae4a9e4",
   "metadata": {},
   "outputs": [],
   "source": [
    "data3[\"TOTAL\"]=data3['TOTAL'].str.replace(',', '.').astype(float)"
   ]
  },
  {
   "cell_type": "code",
   "execution_count": 19,
   "id": "2107a3b0",
   "metadata": {},
   "outputs": [],
   "source": [
    "data3[\"MONTANTREMISE\"]=data3['MONTANTREMISE'].str.replace(',', '.').astype(float)"
   ]
  },
  {
   "cell_type": "code",
   "execution_count": 20,
   "id": "a4af99cf",
   "metadata": {},
   "outputs": [],
   "source": [
    "data3[\"MARGESORTIE\"]=data3['MARGESORTIE'].str.replace(',', '.').astype(float)"
   ]
  },
  {
   "cell_type": "markdown",
   "id": "2f9d934c",
   "metadata": {},
   "source": [
    "Vérification du traitement."
   ]
  },
  {
   "cell_type": "code",
   "execution_count": 21,
   "id": "efaf7db0",
   "metadata": {},
   "outputs": [
    {
     "data": {
      "text/html": [
       "<div>\n",
       "<style scoped>\n",
       "    .dataframe tbody tr th:only-of-type {\n",
       "        vertical-align: middle;\n",
       "    }\n",
       "\n",
       "    .dataframe tbody tr th {\n",
       "        vertical-align: top;\n",
       "    }\n",
       "\n",
       "    .dataframe thead th {\n",
       "        text-align: right;\n",
       "    }\n",
       "</style>\n",
       "<table border=\"1\" class=\"dataframe\">\n",
       "  <thead>\n",
       "    <tr style=\"text-align: right;\">\n",
       "      <th></th>\n",
       "      <th>IDTICKET</th>\n",
       "      <th>NUMLIGNETICKET</th>\n",
       "      <th>IDARTICLE</th>\n",
       "      <th>QUANTITE</th>\n",
       "      <th>MONTANTREMISE</th>\n",
       "      <th>TOTAL</th>\n",
       "      <th>MARGESORTIE</th>\n",
       "    </tr>\n",
       "  </thead>\n",
       "  <tbody>\n",
       "    <tr>\n",
       "      <th>0</th>\n",
       "      <td>190400316260</td>\n",
       "      <td>2</td>\n",
       "      <td>246208</td>\n",
       "      <td>1.0</td>\n",
       "      <td>0.000</td>\n",
       "      <td>4.96</td>\n",
       "      <td>2.37</td>\n",
       "    </tr>\n",
       "    <tr>\n",
       "      <th>1</th>\n",
       "      <td>190400316262</td>\n",
       "      <td>2</td>\n",
       "      <td>33725</td>\n",
       "      <td>1.0</td>\n",
       "      <td>0.000</td>\n",
       "      <td>8.25</td>\n",
       "      <td>3.63</td>\n",
       "    </tr>\n",
       "    <tr>\n",
       "      <th>2</th>\n",
       "      <td>190400316262</td>\n",
       "      <td>3</td>\n",
       "      <td>634497</td>\n",
       "      <td>1.0</td>\n",
       "      <td>0.000</td>\n",
       "      <td>5.79</td>\n",
       "      <td>3.63</td>\n",
       "    </tr>\n",
       "    <tr>\n",
       "      <th>3</th>\n",
       "      <td>190400316262</td>\n",
       "      <td>1</td>\n",
       "      <td>257613</td>\n",
       "      <td>1.0</td>\n",
       "      <td>0.000</td>\n",
       "      <td>18.29</td>\n",
       "      <td>6.21</td>\n",
       "    </tr>\n",
       "    <tr>\n",
       "      <th>4</th>\n",
       "      <td>190400316263</td>\n",
       "      <td>1</td>\n",
       "      <td>257627</td>\n",
       "      <td>1.0</td>\n",
       "      <td>0.000</td>\n",
       "      <td>49.92</td>\n",
       "      <td>10.42</td>\n",
       "    </tr>\n",
       "    <tr>\n",
       "      <th>...</th>\n",
       "      <td>...</td>\n",
       "      <td>...</td>\n",
       "      <td>...</td>\n",
       "      <td>...</td>\n",
       "      <td>...</td>\n",
       "      <td>...</td>\n",
       "      <td>...</td>\n",
       "    </tr>\n",
       "    <tr>\n",
       "      <th>34105700</th>\n",
       "      <td>340200383203</td>\n",
       "      <td>2</td>\n",
       "      <td>257643</td>\n",
       "      <td>1.0</td>\n",
       "      <td>0.000</td>\n",
       "      <td>4.69</td>\n",
       "      <td>1.83</td>\n",
       "    </tr>\n",
       "    <tr>\n",
       "      <th>34105701</th>\n",
       "      <td>340200383203</td>\n",
       "      <td>3</td>\n",
       "      <td>50170</td>\n",
       "      <td>1.0</td>\n",
       "      <td>0.000</td>\n",
       "      <td>3.18</td>\n",
       "      <td>1.00</td>\n",
       "    </tr>\n",
       "    <tr>\n",
       "      <th>34105702</th>\n",
       "      <td>340200383203</td>\n",
       "      <td>4</td>\n",
       "      <td>349345</td>\n",
       "      <td>1.0</td>\n",
       "      <td>0.000</td>\n",
       "      <td>3.46</td>\n",
       "      <td>1.13</td>\n",
       "    </tr>\n",
       "    <tr>\n",
       "      <th>34105703</th>\n",
       "      <td>340200383203</td>\n",
       "      <td>5</td>\n",
       "      <td>250580</td>\n",
       "      <td>2.0</td>\n",
       "      <td>0.000</td>\n",
       "      <td>6.80</td>\n",
       "      <td>2.18</td>\n",
       "    </tr>\n",
       "    <tr>\n",
       "      <th>34105704</th>\n",
       "      <td>340200383217</td>\n",
       "      <td>1</td>\n",
       "      <td>816313</td>\n",
       "      <td>20.0</td>\n",
       "      <td>1.818</td>\n",
       "      <td>1.82</td>\n",
       "      <td>1.42</td>\n",
       "    </tr>\n",
       "  </tbody>\n",
       "</table>\n",
       "<p>34105705 rows × 7 columns</p>\n",
       "</div>"
      ],
      "text/plain": [
       "              IDTICKET NUMLIGNETICKET IDARTICLE  QUANTITE  MONTANTREMISE  \\\n",
       "0         190400316260              2    246208       1.0          0.000   \n",
       "1         190400316262              2     33725       1.0          0.000   \n",
       "2         190400316262              3    634497       1.0          0.000   \n",
       "3         190400316262              1    257613       1.0          0.000   \n",
       "4         190400316263              1    257627       1.0          0.000   \n",
       "...                ...            ...       ...       ...            ...   \n",
       "34105700  340200383203              2    257643       1.0          0.000   \n",
       "34105701  340200383203              3     50170       1.0          0.000   \n",
       "34105702  340200383203              4    349345       1.0          0.000   \n",
       "34105703  340200383203              5    250580       2.0          0.000   \n",
       "34105704  340200383217              1    816313      20.0          1.818   \n",
       "\n",
       "          TOTAL  MARGESORTIE  \n",
       "0          4.96         2.37  \n",
       "1          8.25         3.63  \n",
       "2          5.79         3.63  \n",
       "3         18.29         6.21  \n",
       "4         49.92        10.42  \n",
       "...         ...          ...  \n",
       "34105700   4.69         1.83  \n",
       "34105701   3.18         1.00  \n",
       "34105702   3.46         1.13  \n",
       "34105703   6.80         2.18  \n",
       "34105704   1.82         1.42  \n",
       "\n",
       "[34105705 rows x 7 columns]"
      ]
     },
     "execution_count": 21,
     "metadata": {},
     "output_type": "execute_result"
    }
   ],
   "source": [
    "data3"
   ]
  },
  {
   "cell_type": "markdown",
   "id": "2f9dbcb0",
   "metadata": {},
   "source": [
    "#data3['TOTAL'].replace({'': '0.0'}, inplace=True)"
   ]
  },
  {
   "cell_type": "markdown",
   "id": "c68a0f7c",
   "metadata": {},
   "source": [
    "Vérification du traitement."
   ]
  },
  {
   "cell_type": "code",
   "execution_count": 22,
   "id": "60927fd1",
   "metadata": {},
   "outputs": [
    {
     "name": "stdout",
     "output_type": "stream",
     "text": [
      "<class 'pandas.core.frame.DataFrame'>\n",
      "RangeIndex: 34105705 entries, 0 to 34105704\n",
      "Data columns (total 7 columns):\n",
      " #   Column          Dtype  \n",
      "---  ------          -----  \n",
      " 0   IDTICKET        object \n",
      " 1   NUMLIGNETICKET  object \n",
      " 2   IDARTICLE       object \n",
      " 3   QUANTITE        float64\n",
      " 4   MONTANTREMISE   float64\n",
      " 5   TOTAL           float64\n",
      " 6   MARGESORTIE     float64\n",
      "dtypes: float64(4), object(3)\n",
      "memory usage: 1.8+ GB\n"
     ]
    }
   ],
   "source": [
    "data3.info()"
   ]
  },
  {
   "cell_type": "markdown",
   "id": "a32be6d0",
   "metadata": {},
   "source": [
    "La ligne de code ci-dessous nous permet d'identifier les valeurs en doublons qui conviendra de traiter."
   ]
  },
  {
   "cell_type": "code",
   "execution_count": 23,
   "id": "92b77e2f",
   "metadata": {},
   "outputs": [
    {
     "name": "stdout",
     "output_type": "stream",
     "text": [
      "130\n"
     ]
    }
   ],
   "source": [
    "print(data3.duplicated().sum())\n",
    "data = data3.drop_duplicates()"
   ]
  },
  {
   "cell_type": "markdown",
   "id": "d0ae98d7",
   "metadata": {},
   "source": [
    "Nous allons désormais procéder au traitement de ces doublons."
   ]
  },
  {
   "cell_type": "code",
   "execution_count": 50,
   "id": "fd663935",
   "metadata": {},
   "outputs": [],
   "source": [
    "data3.drop_duplicates(keep='first', inplace=True)"
   ]
  },
  {
   "cell_type": "markdown",
   "id": "65d9a122",
   "metadata": {},
   "source": [
    "Code de vérification."
   ]
  },
  {
   "cell_type": "code",
   "execution_count": 51,
   "id": "4810e6cb",
   "metadata": {},
   "outputs": [
    {
     "name": "stdout",
     "output_type": "stream",
     "text": [
      "0\n"
     ]
    }
   ],
   "source": [
    "print(data3.duplicated().sum())"
   ]
  },
  {
   "cell_type": "markdown",
   "id": "f2552092",
   "metadata": {},
   "source": [
    "Nous procédons également à la vérification de présence ou non de valeurs manquantes (aucune valeur détectée)."
   ]
  },
  {
   "cell_type": "code",
   "execution_count": 24,
   "id": "5d623f90",
   "metadata": {},
   "outputs": [
    {
     "data": {
      "text/html": [
       "<div>\n",
       "<style scoped>\n",
       "    .dataframe tbody tr th:only-of-type {\n",
       "        vertical-align: middle;\n",
       "    }\n",
       "\n",
       "    .dataframe tbody tr th {\n",
       "        vertical-align: top;\n",
       "    }\n",
       "\n",
       "    .dataframe thead th {\n",
       "        text-align: right;\n",
       "    }\n",
       "</style>\n",
       "<table border=\"1\" class=\"dataframe\">\n",
       "  <thead>\n",
       "    <tr style=\"text-align: right;\">\n",
       "      <th></th>\n",
       "      <th>%_missing_values</th>\n",
       "    </tr>\n",
       "  </thead>\n",
       "  <tbody>\n",
       "    <tr>\n",
       "      <th>IDTICKET</th>\n",
       "      <td>0.0</td>\n",
       "    </tr>\n",
       "    <tr>\n",
       "      <th>NUMLIGNETICKET</th>\n",
       "      <td>0.0</td>\n",
       "    </tr>\n",
       "    <tr>\n",
       "      <th>IDARTICLE</th>\n",
       "      <td>0.0</td>\n",
       "    </tr>\n",
       "    <tr>\n",
       "      <th>QUANTITE</th>\n",
       "      <td>0.0</td>\n",
       "    </tr>\n",
       "    <tr>\n",
       "      <th>MONTANTREMISE</th>\n",
       "      <td>0.0</td>\n",
       "    </tr>\n",
       "    <tr>\n",
       "      <th>TOTAL</th>\n",
       "      <td>0.0</td>\n",
       "    </tr>\n",
       "    <tr>\n",
       "      <th>MARGESORTIE</th>\n",
       "      <td>0.0</td>\n",
       "    </tr>\n",
       "  </tbody>\n",
       "</table>\n",
       "</div>"
      ],
      "text/plain": [
       "                %_missing_values\n",
       "IDTICKET                     0.0\n",
       "NUMLIGNETICKET               0.0\n",
       "IDARTICLE                    0.0\n",
       "QUANTITE                     0.0\n",
       "MONTANTREMISE                0.0\n",
       "TOTAL                        0.0\n",
       "MARGESORTIE                  0.0"
      ]
     },
     "execution_count": 24,
     "metadata": {},
     "output_type": "execute_result"
    }
   ],
   "source": [
    "pd.DataFrame(index=data.columns, columns=['%_missing_values'], data= (data.isna().sum().values / len(data)*100))"
   ]
  },
  {
   "cell_type": "markdown",
   "id": "8fb9ac75",
   "metadata": {},
   "source": [
    "Il convient à présent de vérifier la présence de valeur aberrantes."
   ]
  },
  {
   "cell_type": "code",
   "execution_count": 26,
   "id": "493a02bd",
   "metadata": {},
   "outputs": [
    {
     "data": {
      "text/plain": [
       "<Axes: >"
      ]
     },
     "execution_count": 26,
     "metadata": {},
     "output_type": "execute_result"
    },
    {
     "data": {
      "image/png": "[encoded data removed]",
      "text/plain": [
       "<Figure size 640x480 with 1 Axes>"
      ]
     },
     "metadata": {},
     "output_type": "display_data"
    }
   ],
   "source": [
    "# Visualisation des boxplots des variables numériques\n",
    "sns.boxplot(data3)"
   ]
  },
  {
   "cell_type": "markdown",
   "id": "7382dfce",
   "metadata": {},
   "source": [
    "La série de code ci-dessous permet de traiter les valeurs aberrantes en présence, sur chacune des catégories concernées."
   ]
  },
  {
   "cell_type": "code",
   "execution_count": 38,
   "id": "50d456c5",
   "metadata": {},
   "outputs": [
    {
     "name": "stdout",
     "output_type": "stream",
     "text": [
      "Old Shape:  (30965162, 7)\n"
     ]
    }
   ],
   "source": [
    "''' Detection '''\n",
    "# IQR\n",
    "Q1 = np.percentile(data3['QUANTITE'], 25,\n",
    "                   interpolation = 'midpoint')\n",
    " \n",
    "Q3 = np.percentile(data3['QUANTITE'], 75,\n",
    "                   interpolation = 'midpoint')\n",
    "IQR = Q3 - Q1\n",
    " \n",
    "print(\"Old Shape: \", data3.shape)"
   ]
  },
  {
   "cell_type": "code",
   "execution_count": 39,
   "id": "5c526ba4",
   "metadata": {},
   "outputs": [],
   "source": [
    "# Upper bound\n",
    "upper = np.where(data3['QUANTITE'] >= (Q3+1.5*IQR))\n",
    "# Lower bound\n",
    "lower = np.where(data3['QUANTITE'] <= (Q1-1.5*IQR))"
   ]
  },
  {
   "cell_type": "code",
   "execution_count": 40,
   "id": "385936c4",
   "metadata": {},
   "outputs": [
    {
     "name": "stdout",
     "output_type": "stream",
     "text": [
      "Old Shape:  (30965162, 7)\n"
     ]
    }
   ],
   "source": [
    "# IQR\n",
    "Q1 = np.percentile(data3['TOTAL'], 25,\n",
    "                   interpolation = 'midpoint')\n",
    " \n",
    "Q3 = np.percentile(data3['TOTAL'], 75,\n",
    "                   interpolation = 'midpoint')\n",
    "IQR = Q3 - Q1\n",
    " \n",
    "print(\"Old Shape: \", data3.shape)"
   ]
  },
  {
   "cell_type": "code",
   "execution_count": 41,
   "id": "bf1f4d7b",
   "metadata": {},
   "outputs": [],
   "source": [
    "# Upper bound\n",
    "upper = np.where(data3['TOTAL'] >= (Q3+1.5*IQR))\n",
    "# Lower bound\n",
    "lower = np.where(data3['TOTAL'] <= (Q1-1.5*IQR))"
   ]
  },
  {
   "cell_type": "code",
   "execution_count": 42,
   "id": "20b20eb3",
   "metadata": {},
   "outputs": [
    {
     "name": "stdout",
     "output_type": "stream",
     "text": [
      "Old Shape:  (30965162, 7)\n"
     ]
    }
   ],
   "source": [
    "# IQR\n",
    "Q1 = np.percentile(data3['MONTANTREMISE'], 25,\n",
    "                   interpolation = 'midpoint')\n",
    " \n",
    "Q3 = np.percentile(data3['MONTANTREMISE'], 75,\n",
    "                   interpolation = 'midpoint')\n",
    "IQR = Q3 - Q1\n",
    " \n",
    "print(\"Old Shape: \", data3.shape)"
   ]
  },
  {
   "cell_type": "code",
   "execution_count": 43,
   "id": "1852d6d0",
   "metadata": {},
   "outputs": [],
   "source": [
    "# Upper bound\n",
    "upper = np.where(data3['MONTANTREMISE'] >= (Q3+1.5*IQR))\n",
    "# Lower bound\n",
    "lower = np.where(data3['MONTANTREMISE'] <= (Q1-1.5*IQR))"
   ]
  },
  {
   "cell_type": "code",
   "execution_count": 44,
   "id": "71972dee",
   "metadata": {},
   "outputs": [
    {
     "name": "stdout",
     "output_type": "stream",
     "text": [
      "Old Shape:  (30965162, 7)\n"
     ]
    }
   ],
   "source": [
    "# IQR\n",
    "Q1 = np.percentile(data3['MARGESORTIE'], 25,\n",
    "                   interpolation = 'midpoint')\n",
    " \n",
    "Q3 = np.percentile(data3['MARGESORTIE'], 75,\n",
    "                   interpolation = 'midpoint')\n",
    "IQR = Q3 - Q1\n",
    " \n",
    "print(\"Old Shape: \", data3.shape)"
   ]
  },
  {
   "cell_type": "code",
   "execution_count": 45,
   "id": "ed77aa36",
   "metadata": {},
   "outputs": [],
   "source": [
    "# Upper bound\n",
    "upper = np.where(data3['MARGESORTIE'] >= (Q3+1.5*IQR))\n",
    "# Lower bound\n",
    "lower = np.where(data3['MARGESORTIE'] <= (Q1-1.5*IQR))"
   ]
  },
  {
   "cell_type": "code",
   "execution_count": 49,
   "id": "342a6543",
   "metadata": {},
   "outputs": [
    {
     "name": "stdout",
     "output_type": "stream",
     "text": [
      "New Shape:  (30965162, 7)\n"
     ]
    }
   ],
   "source": [
    "print(\"New Shape: \", data3.shape)"
   ]
  },
  {
   "cell_type": "code",
   "execution_count": null,
   "id": "08cd4f35",
   "metadata": {},
   "outputs": [],
   "source": [
    "import pip\n",
    "pip.main(['install', 'pandas'])\n",
    "pip.main(['install', 'matplotlib'])\n",
    "pip.main(['install', 'seaborn'])\n",
    "pip.main(['install', 'scikit-learn'])"
   ]
  },
  {
   "cell_type": "markdown",
   "id": "0c31bbe8",
   "metadata": {},
   "source": [
    "# CHARGEMENT DES BIBLIOTHEQUES"
   ]
  },
  {
   "cell_type": "code",
   "execution_count": 192,
   "id": "a82b5fda",
   "metadata": {},
   "outputs": [],
   "source": [
    "import pandas as pd\n",
    "import matplotlib.pyplot as plt\n",
    "import numpy as np\n",
    "import seaborn as sns\n",
    "\n",
    "from sklearn.linear_model import LogisticRegression\n",
    "from sklearn.model_selection import train_test_split\n",
    "from sklearn.datasets import make_classification\n",
    "from sklearn.metrics import roc_curve, auc\n",
    "from sklearn.metrics import accuracy_score, classification_report, confusion_matrix\n",
    "from sklearn.preprocessing import StandardScaler\n",
    "from sklearn.preprocessing import OneHotEncoder\n",
    "from sklearn.preprocessing import LabelEncoder"
   ]
  },
  {
   "cell_type": "markdown",
   "id": "4e7d517e",
   "metadata": {},
   "source": [
    "Chargement du jeu de données ENTETES TICKET V4."
   ]
  },
  {
   "cell_type": "code",
   "execution_count": 193,
   "id": "4498ad84",
   "metadata": {},
   "outputs": [
    {
     "name": "stdout",
     "output_type": "stream",
     "text": [
      "(6714173, 5)\n",
      "['IDTICKET', 'TIC_DATE', 'MAG_CODE', 'IDCLIENT', 'TIC_TOTALTTC']\n"
     ]
    }
   ],
   "source": [
    "dataset_path = \"C:\\\\Users\\\\belga\\\\OneDrive\\\\Bureau\\\\EMBA Big Data\\\\Module Datascience\\\\Projet Data Science S2 2024\\\\ENTETES_TICKET_V4.csv\"\n",
    "data2 = pd.read_csv(dataset_path, sep='|', low_memory=False)\n",
    "print(data2.shape)\n",
    "print(list(data2.columns))\n"
   ]
  },
  {
   "cell_type": "markdown",
   "id": "79513048",
   "metadata": {},
   "source": [
    "La ligne de code ci-dessous nous permet de connaître le détail des colonnes ainsi que le type de données constituant notre base (numérique ou caractères)."
   ]
  },
  {
   "cell_type": "code",
   "execution_count": 194,
   "id": "11f05dee",
   "metadata": {},
   "outputs": [
    {
     "name": "stdout",
     "output_type": "stream",
     "text": [
      "<class 'pandas.core.frame.DataFrame'>\n",
      "RangeIndex: 6714173 entries, 0 to 6714172\n",
      "Data columns (total 5 columns):\n",
      " #   Column        Dtype  \n",
      "---  ------        -----  \n",
      " 0   IDTICKET      int64  \n",
      " 1   TIC_DATE      object \n",
      " 2   MAG_CODE      object \n",
      " 3   IDCLIENT      float64\n",
      " 4   TIC_TOTALTTC  object \n",
      "dtypes: float64(1), int64(1), object(3)\n",
      "memory usage: 256.1+ MB\n"
     ]
    }
   ],
   "source": [
    "data2.info()"
   ]
  },
  {
   "cell_type": "markdown",
   "id": "b94846dd",
   "metadata": {},
   "source": [
    "Aperçu de notre jeu de données. "
   ]
  },
  {
   "cell_type": "code",
   "execution_count": 195,
   "id": "0892088b",
   "metadata": {},
   "outputs": [
    {
     "data": {
      "text/html": [
       "<div>\n",
       "<style scoped>\n",
       "    .dataframe tbody tr th:only-of-type {\n",
       "        vertical-align: middle;\n",
       "    }\n",
       "\n",
       "    .dataframe tbody tr th {\n",
       "        vertical-align: top;\n",
       "    }\n",
       "\n",
       "    .dataframe thead th {\n",
       "        text-align: right;\n",
       "    }\n",
       "</style>\n",
       "<table border=\"1\" class=\"dataframe\">\n",
       "  <thead>\n",
       "    <tr style=\"text-align: right;\">\n",
       "      <th></th>\n",
       "      <th>IDTICKET</th>\n",
       "      <th>TIC_DATE</th>\n",
       "      <th>MAG_CODE</th>\n",
       "      <th>IDCLIENT</th>\n",
       "      <th>TIC_TOTALTTC</th>\n",
       "    </tr>\n",
       "  </thead>\n",
       "  <tbody>\n",
       "    <tr>\n",
       "      <th>0</th>\n",
       "      <td>50100150510</td>\n",
       "      <td>2016-01-02 11:01:33</td>\n",
       "      <td>ALB</td>\n",
       "      <td>2995104.0</td>\n",
       "      <td>12,9</td>\n",
       "    </tr>\n",
       "    <tr>\n",
       "      <th>1</th>\n",
       "      <td>50100150511</td>\n",
       "      <td>2016-01-02 11:02:10</td>\n",
       "      <td>ALB</td>\n",
       "      <td>1411117.0</td>\n",
       "      <td>131,06</td>\n",
       "    </tr>\n",
       "    <tr>\n",
       "      <th>2</th>\n",
       "      <td>50100150515</td>\n",
       "      <td>2016-01-02 12:03:27</td>\n",
       "      <td>ALB</td>\n",
       "      <td>222592.0</td>\n",
       "      <td>34,69</td>\n",
       "    </tr>\n",
       "    <tr>\n",
       "      <th>3</th>\n",
       "      <td>50100150517</td>\n",
       "      <td>2016-01-02 14:23:21</td>\n",
       "      <td>ALB</td>\n",
       "      <td>2979958.0</td>\n",
       "      <td>97,58</td>\n",
       "    </tr>\n",
       "    <tr>\n",
       "      <th>4</th>\n",
       "      <td>50100150518</td>\n",
       "      <td>2016-01-02 14:26:53</td>\n",
       "      <td>ALB</td>\n",
       "      <td>2858676.0</td>\n",
       "      <td>4,7</td>\n",
       "    </tr>\n",
       "    <tr>\n",
       "      <th>...</th>\n",
       "      <td>...</td>\n",
       "      <td>...</td>\n",
       "      <td>...</td>\n",
       "      <td>...</td>\n",
       "      <td>...</td>\n",
       "    </tr>\n",
       "    <tr>\n",
       "      <th>6714168</th>\n",
       "      <td>1340300014404</td>\n",
       "      <td>2016-12-27 16:31:52</td>\n",
       "      <td>RMA</td>\n",
       "      <td>2292927.0</td>\n",
       "      <td>59,45</td>\n",
       "    </tr>\n",
       "    <tr>\n",
       "      <th>6714169</th>\n",
       "      <td>1340300014407</td>\n",
       "      <td>2016-12-27 16:35:21</td>\n",
       "      <td>RMA</td>\n",
       "      <td>3189844.0</td>\n",
       "      <td>26,9</td>\n",
       "    </tr>\n",
       "    <tr>\n",
       "      <th>6714170</th>\n",
       "      <td>1340300014409</td>\n",
       "      <td>2016-12-27 16:38:59</td>\n",
       "      <td>RMA</td>\n",
       "      <td>3125998.0</td>\n",
       "      <td>22,15</td>\n",
       "    </tr>\n",
       "    <tr>\n",
       "      <th>6714171</th>\n",
       "      <td>1340300014438</td>\n",
       "      <td>2016-12-27 17:17:30</td>\n",
       "      <td>RMA</td>\n",
       "      <td>3252348.0</td>\n",
       "      <td>118,01</td>\n",
       "    </tr>\n",
       "    <tr>\n",
       "      <th>6714172</th>\n",
       "      <td>1340300014440</td>\n",
       "      <td>2016-12-27 17:24:15</td>\n",
       "      <td>RMA</td>\n",
       "      <td>3243933.0</td>\n",
       "      <td>44,8</td>\n",
       "    </tr>\n",
       "  </tbody>\n",
       "</table>\n",
       "<p>6714173 rows × 5 columns</p>\n",
       "</div>"
      ],
      "text/plain": [
       "              IDTICKET             TIC_DATE MAG_CODE   IDCLIENT TIC_TOTALTTC\n",
       "0          50100150510  2016-01-02 11:01:33      ALB  2995104.0         12,9\n",
       "1          50100150511  2016-01-02 11:02:10      ALB  1411117.0       131,06\n",
       "2          50100150515  2016-01-02 12:03:27      ALB   222592.0        34,69\n",
       "3          50100150517  2016-01-02 14:23:21      ALB  2979958.0        97,58\n",
       "4          50100150518  2016-01-02 14:26:53      ALB  2858676.0          4,7\n",
       "...                ...                  ...      ...        ...          ...\n",
       "6714168  1340300014404  2016-12-27 16:31:52      RMA  2292927.0        59,45\n",
       "6714169  1340300014407  2016-12-27 16:35:21      RMA  3189844.0         26,9\n",
       "6714170  1340300014409  2016-12-27 16:38:59      RMA  3125998.0        22,15\n",
       "6714171  1340300014438  2016-12-27 17:17:30      RMA  3252348.0       118,01\n",
       "6714172  1340300014440  2016-12-27 17:24:15      RMA  3243933.0         44,8\n",
       "\n",
       "[6714173 rows x 5 columns]"
      ]
     },
     "execution_count": 195,
     "metadata": {},
     "output_type": "execute_result"
    }
   ],
   "source": [
    "data2"
   ]
  },
  {
   "cell_type": "markdown",
   "id": "d2c72a65",
   "metadata": {},
   "source": [
    "Afin d'exploiter de façon optimale les informations, nous allons convetir les l'ID TICKET et le NUM LIGNE TICKET en caractère. A l'inverse, nous devons convertir le total TTC en valeur numérique."
   ]
  },
  {
   "cell_type": "code",
   "execution_count": 196,
   "id": "5d7a79f6",
   "metadata": {},
   "outputs": [],
   "source": [
    "data2['IDTICKET'] = data2['IDTICKET'].astype(str)\n",
    "data2['IDCLIENT'] = data2['IDCLIENT'].astype(str)"
   ]
  },
  {
   "cell_type": "code",
   "execution_count": 197,
   "id": "8e554f01",
   "metadata": {},
   "outputs": [],
   "source": [
    "data2['TIC_TOTALTTC'] = data2['TIC_TOTALTTC'].str.replace(',', '.')"
   ]
  },
  {
   "cell_type": "code",
   "execution_count": 198,
   "id": "62ab6e1c",
   "metadata": {},
   "outputs": [],
   "source": [
    "data2['TIC_TOTALTTC'] = data2['TIC_TOTALTTC'].str.strip('\\\"')"
   ]
  },
  {
   "cell_type": "code",
   "execution_count": 199,
   "id": "6b710a98",
   "metadata": {},
   "outputs": [],
   "source": [
    "data2['TIC_TOTALTTC'] = pd.to_numeric(data2['TIC_TOTALTTC'], errors='coerce')"
   ]
  },
  {
   "cell_type": "markdown",
   "id": "df7b8fab",
   "metadata": {},
   "source": [
    "Vérification du traitement."
   ]
  },
  {
   "cell_type": "code",
   "execution_count": 200,
   "id": "04839e6d",
   "metadata": {},
   "outputs": [
    {
     "name": "stdout",
     "output_type": "stream",
     "text": [
      "<class 'pandas.core.frame.DataFrame'>\n",
      "RangeIndex: 6714173 entries, 0 to 6714172\n",
      "Data columns (total 5 columns):\n",
      " #   Column        Dtype  \n",
      "---  ------        -----  \n",
      " 0   IDTICKET      object \n",
      " 1   TIC_DATE      object \n",
      " 2   MAG_CODE      object \n",
      " 3   IDCLIENT      object \n",
      " 4   TIC_TOTALTTC  float64\n",
      "dtypes: float64(1), object(4)\n",
      "memory usage: 256.1+ MB\n"
     ]
    }
   ],
   "source": [
    "data2.info()"
   ]
  },
  {
   "cell_type": "code",
   "execution_count": 201,
   "id": "446ed3fd",
   "metadata": {},
   "outputs": [
    {
     "data": {
      "text/html": [
       "<div>\n",
       "<style scoped>\n",
       "    .dataframe tbody tr th:only-of-type {\n",
       "        vertical-align: middle;\n",
       "    }\n",
       "\n",
       "    .dataframe tbody tr th {\n",
       "        vertical-align: top;\n",
       "    }\n",
       "\n",
       "    .dataframe thead th {\n",
       "        text-align: right;\n",
       "    }\n",
       "</style>\n",
       "<table border=\"1\" class=\"dataframe\">\n",
       "  <thead>\n",
       "    <tr style=\"text-align: right;\">\n",
       "      <th></th>\n",
       "      <th>IDTICKET</th>\n",
       "      <th>TIC_DATE</th>\n",
       "      <th>MAG_CODE</th>\n",
       "      <th>IDCLIENT</th>\n",
       "      <th>TIC_TOTALTTC</th>\n",
       "    </tr>\n",
       "  </thead>\n",
       "  <tbody>\n",
       "    <tr>\n",
       "      <th>0</th>\n",
       "      <td>50100150510</td>\n",
       "      <td>2016-01-02 11:01:33</td>\n",
       "      <td>ALB</td>\n",
       "      <td>2995104.0</td>\n",
       "      <td>12.90</td>\n",
       "    </tr>\n",
       "    <tr>\n",
       "      <th>1</th>\n",
       "      <td>50100150511</td>\n",
       "      <td>2016-01-02 11:02:10</td>\n",
       "      <td>ALB</td>\n",
       "      <td>1411117.0</td>\n",
       "      <td>131.06</td>\n",
       "    </tr>\n",
       "    <tr>\n",
       "      <th>2</th>\n",
       "      <td>50100150515</td>\n",
       "      <td>2016-01-02 12:03:27</td>\n",
       "      <td>ALB</td>\n",
       "      <td>222592.0</td>\n",
       "      <td>34.69</td>\n",
       "    </tr>\n",
       "    <tr>\n",
       "      <th>3</th>\n",
       "      <td>50100150517</td>\n",
       "      <td>2016-01-02 14:23:21</td>\n",
       "      <td>ALB</td>\n",
       "      <td>2979958.0</td>\n",
       "      <td>97.58</td>\n",
       "    </tr>\n",
       "    <tr>\n",
       "      <th>4</th>\n",
       "      <td>50100150518</td>\n",
       "      <td>2016-01-02 14:26:53</td>\n",
       "      <td>ALB</td>\n",
       "      <td>2858676.0</td>\n",
       "      <td>4.70</td>\n",
       "    </tr>\n",
       "    <tr>\n",
       "      <th>...</th>\n",
       "      <td>...</td>\n",
       "      <td>...</td>\n",
       "      <td>...</td>\n",
       "      <td>...</td>\n",
       "      <td>...</td>\n",
       "    </tr>\n",
       "    <tr>\n",
       "      <th>6714168</th>\n",
       "      <td>1340300014404</td>\n",
       "      <td>2016-12-27 16:31:52</td>\n",
       "      <td>RMA</td>\n",
       "      <td>2292927.0</td>\n",
       "      <td>59.45</td>\n",
       "    </tr>\n",
       "    <tr>\n",
       "      <th>6714169</th>\n",
       "      <td>1340300014407</td>\n",
       "      <td>2016-12-27 16:35:21</td>\n",
       "      <td>RMA</td>\n",
       "      <td>3189844.0</td>\n",
       "      <td>26.90</td>\n",
       "    </tr>\n",
       "    <tr>\n",
       "      <th>6714170</th>\n",
       "      <td>1340300014409</td>\n",
       "      <td>2016-12-27 16:38:59</td>\n",
       "      <td>RMA</td>\n",
       "      <td>3125998.0</td>\n",
       "      <td>22.15</td>\n",
       "    </tr>\n",
       "    <tr>\n",
       "      <th>6714171</th>\n",
       "      <td>1340300014438</td>\n",
       "      <td>2016-12-27 17:17:30</td>\n",
       "      <td>RMA</td>\n",
       "      <td>3252348.0</td>\n",
       "      <td>118.01</td>\n",
       "    </tr>\n",
       "    <tr>\n",
       "      <th>6714172</th>\n",
       "      <td>1340300014440</td>\n",
       "      <td>2016-12-27 17:24:15</td>\n",
       "      <td>RMA</td>\n",
       "      <td>3243933.0</td>\n",
       "      <td>44.80</td>\n",
       "    </tr>\n",
       "  </tbody>\n",
       "</table>\n",
       "<p>6714173 rows × 5 columns</p>\n",
       "</div>"
      ],
      "text/plain": [
       "              IDTICKET             TIC_DATE MAG_CODE   IDCLIENT  TIC_TOTALTTC\n",
       "0          50100150510  2016-01-02 11:01:33      ALB  2995104.0         12.90\n",
       "1          50100150511  2016-01-02 11:02:10      ALB  1411117.0        131.06\n",
       "2          50100150515  2016-01-02 12:03:27      ALB   222592.0         34.69\n",
       "3          50100150517  2016-01-02 14:23:21      ALB  2979958.0         97.58\n",
       "4          50100150518  2016-01-02 14:26:53      ALB  2858676.0          4.70\n",
       "...                ...                  ...      ...        ...           ...\n",
       "6714168  1340300014404  2016-12-27 16:31:52      RMA  2292927.0         59.45\n",
       "6714169  1340300014407  2016-12-27 16:35:21      RMA  3189844.0         26.90\n",
       "6714170  1340300014409  2016-12-27 16:38:59      RMA  3125998.0         22.15\n",
       "6714171  1340300014438  2016-12-27 17:17:30      RMA  3252348.0        118.01\n",
       "6714172  1340300014440  2016-12-27 17:24:15      RMA  3243933.0         44.80\n",
       "\n",
       "[6714173 rows x 5 columns]"
      ]
     },
     "execution_count": 201,
     "metadata": {},
     "output_type": "execute_result"
    }
   ],
   "source": [
    "data2"
   ]
  },
  {
   "cell_type": "markdown",
   "id": "79c6210e",
   "metadata": {},
   "source": [
    "La ligne de code ci-dessous nous permet de formater le format de la date."
   ]
  },
  {
   "cell_type": "code",
   "execution_count": 202,
   "id": "45452193",
   "metadata": {},
   "outputs": [],
   "source": [
    "from datetime import datetime\n",
    "data2['TIC_DATE'] = pd.to_datetime(data2['TIC_DATE'], format=\"%Y-%m-%d %H:%M:%S\")\n",
    "data2['TIC_DATE'] = data2['TIC_DATE'].dt.strftime(\"%d/%m/%Y\")"
   ]
  },
  {
   "cell_type": "markdown",
   "id": "06977e1e",
   "metadata": {},
   "source": [
    "Vérification du traitement."
   ]
  },
  {
   "cell_type": "code",
   "execution_count": 203,
   "id": "366f31f3",
   "metadata": {},
   "outputs": [
    {
     "data": {
      "text/html": [
       "<div>\n",
       "<style scoped>\n",
       "    .dataframe tbody tr th:only-of-type {\n",
       "        vertical-align: middle;\n",
       "    }\n",
       "\n",
       "    .dataframe tbody tr th {\n",
       "        vertical-align: top;\n",
       "    }\n",
       "\n",
       "    .dataframe thead th {\n",
       "        text-align: right;\n",
       "    }\n",
       "</style>\n",
       "<table border=\"1\" class=\"dataframe\">\n",
       "  <thead>\n",
       "    <tr style=\"text-align: right;\">\n",
       "      <th></th>\n",
       "      <th>IDTICKET</th>\n",
       "      <th>TIC_DATE</th>\n",
       "      <th>MAG_CODE</th>\n",
       "      <th>IDCLIENT</th>\n",
       "      <th>TIC_TOTALTTC</th>\n",
       "    </tr>\n",
       "  </thead>\n",
       "  <tbody>\n",
       "    <tr>\n",
       "      <th>0</th>\n",
       "      <td>50100150510</td>\n",
       "      <td>02/01/2016</td>\n",
       "      <td>ALB</td>\n",
       "      <td>2995104.0</td>\n",
       "      <td>12.90</td>\n",
       "    </tr>\n",
       "    <tr>\n",
       "      <th>1</th>\n",
       "      <td>50100150511</td>\n",
       "      <td>02/01/2016</td>\n",
       "      <td>ALB</td>\n",
       "      <td>1411117.0</td>\n",
       "      <td>131.06</td>\n",
       "    </tr>\n",
       "    <tr>\n",
       "      <th>2</th>\n",
       "      <td>50100150515</td>\n",
       "      <td>02/01/2016</td>\n",
       "      <td>ALB</td>\n",
       "      <td>222592.0</td>\n",
       "      <td>34.69</td>\n",
       "    </tr>\n",
       "    <tr>\n",
       "      <th>3</th>\n",
       "      <td>50100150517</td>\n",
       "      <td>02/01/2016</td>\n",
       "      <td>ALB</td>\n",
       "      <td>2979958.0</td>\n",
       "      <td>97.58</td>\n",
       "    </tr>\n",
       "    <tr>\n",
       "      <th>4</th>\n",
       "      <td>50100150518</td>\n",
       "      <td>02/01/2016</td>\n",
       "      <td>ALB</td>\n",
       "      <td>2858676.0</td>\n",
       "      <td>4.70</td>\n",
       "    </tr>\n",
       "    <tr>\n",
       "      <th>...</th>\n",
       "      <td>...</td>\n",
       "      <td>...</td>\n",
       "      <td>...</td>\n",
       "      <td>...</td>\n",
       "      <td>...</td>\n",
       "    </tr>\n",
       "    <tr>\n",
       "      <th>6714168</th>\n",
       "      <td>1340300014404</td>\n",
       "      <td>27/12/2016</td>\n",
       "      <td>RMA</td>\n",
       "      <td>2292927.0</td>\n",
       "      <td>59.45</td>\n",
       "    </tr>\n",
       "    <tr>\n",
       "      <th>6714169</th>\n",
       "      <td>1340300014407</td>\n",
       "      <td>27/12/2016</td>\n",
       "      <td>RMA</td>\n",
       "      <td>3189844.0</td>\n",
       "      <td>26.90</td>\n",
       "    </tr>\n",
       "    <tr>\n",
       "      <th>6714170</th>\n",
       "      <td>1340300014409</td>\n",
       "      <td>27/12/2016</td>\n",
       "      <td>RMA</td>\n",
       "      <td>3125998.0</td>\n",
       "      <td>22.15</td>\n",
       "    </tr>\n",
       "    <tr>\n",
       "      <th>6714171</th>\n",
       "      <td>1340300014438</td>\n",
       "      <td>27/12/2016</td>\n",
       "      <td>RMA</td>\n",
       "      <td>3252348.0</td>\n",
       "      <td>118.01</td>\n",
       "    </tr>\n",
       "    <tr>\n",
       "      <th>6714172</th>\n",
       "      <td>1340300014440</td>\n",
       "      <td>27/12/2016</td>\n",
       "      <td>RMA</td>\n",
       "      <td>3243933.0</td>\n",
       "      <td>44.80</td>\n",
       "    </tr>\n",
       "  </tbody>\n",
       "</table>\n",
       "<p>6714173 rows × 5 columns</p>\n",
       "</div>"
      ],
      "text/plain": [
       "              IDTICKET    TIC_DATE MAG_CODE   IDCLIENT  TIC_TOTALTTC\n",
       "0          50100150510  02/01/2016      ALB  2995104.0         12.90\n",
       "1          50100150511  02/01/2016      ALB  1411117.0        131.06\n",
       "2          50100150515  02/01/2016      ALB   222592.0         34.69\n",
       "3          50100150517  02/01/2016      ALB  2979958.0         97.58\n",
       "4          50100150518  02/01/2016      ALB  2858676.0          4.70\n",
       "...                ...         ...      ...        ...           ...\n",
       "6714168  1340300014404  27/12/2016      RMA  2292927.0         59.45\n",
       "6714169  1340300014407  27/12/2016      RMA  3189844.0         26.90\n",
       "6714170  1340300014409  27/12/2016      RMA  3125998.0         22.15\n",
       "6714171  1340300014438  27/12/2016      RMA  3252348.0        118.01\n",
       "6714172  1340300014440  27/12/2016      RMA  3243933.0         44.80\n",
       "\n",
       "[6714173 rows x 5 columns]"
      ]
     },
     "execution_count": 203,
     "metadata": {},
     "output_type": "execute_result"
    }
   ],
   "source": [
    "data2"
   ]
  },
  {
   "cell_type": "markdown",
   "id": "6ed98f20",
   "metadata": {},
   "source": [
    "Cette ligne de code nous permet d'identifier le nombre d'occurence de chaque code magasin, pour identifier les éventuels regroupements à effectuer. "
   ]
  },
  {
   "cell_type": "code",
   "execution_count": 204,
   "id": "ff4544be",
   "metadata": {},
   "outputs": [
    {
     "data": {
      "text/plain": [
       "MAG_CODE\n",
       "SSM    246506\n",
       "MOB    221283\n",
       "HEI    219713\n",
       "BEA    205468\n",
       "GEX    196669\n",
       "        ...  \n",
       "CLI     31063\n",
       "STR     26694\n",
       "SCH     25502\n",
       "BAR     18254\n",
       "SAL     18245\n",
       "Name: count, Length: 66, dtype: int64"
      ]
     },
     "execution_count": 204,
     "metadata": {},
     "output_type": "execute_result"
    }
   ],
   "source": [
    "#modalités variables:\n",
    "data2['MAG_CODE'].value_counts(dropna = False)"
   ]
  },
  {
   "cell_type": "markdown",
   "id": "481d522f",
   "metadata": {},
   "source": [
    "La ligne de code ci-dessous nous permet d'identifier la présence ou non de valeur(s) en doublons."
   ]
  },
  {
   "cell_type": "code",
   "execution_count": 205,
   "id": "5a7ccf1b",
   "metadata": {},
   "outputs": [
    {
     "name": "stdout",
     "output_type": "stream",
     "text": [
      "0\n"
     ]
    }
   ],
   "source": [
    "print(data2.duplicated().sum())\n",
    "data = data2.drop_duplicates()"
   ]
  },
  {
   "cell_type": "markdown",
   "id": "02abdc47",
   "metadata": {},
   "source": [
    "La ligne de code ci-dessous nous permet d'identifier la présence ou non de valeur(s) manquante(s)"
   ]
  },
  {
   "cell_type": "code",
   "execution_count": 206,
   "id": "fbd5948c",
   "metadata": {},
   "outputs": [
    {
     "data": {
      "text/html": [
       "<div>\n",
       "<style scoped>\n",
       "    .dataframe tbody tr th:only-of-type {\n",
       "        vertical-align: middle;\n",
       "    }\n",
       "\n",
       "    .dataframe tbody tr th {\n",
       "        vertical-align: top;\n",
       "    }\n",
       "\n",
       "    .dataframe thead th {\n",
       "        text-align: right;\n",
       "    }\n",
       "</style>\n",
       "<table border=\"1\" class=\"dataframe\">\n",
       "  <thead>\n",
       "    <tr style=\"text-align: right;\">\n",
       "      <th></th>\n",
       "      <th>%_missing_values</th>\n",
       "    </tr>\n",
       "  </thead>\n",
       "  <tbody>\n",
       "    <tr>\n",
       "      <th>IDTICKET</th>\n",
       "      <td>0.0</td>\n",
       "    </tr>\n",
       "    <tr>\n",
       "      <th>TIC_DATE</th>\n",
       "      <td>0.0</td>\n",
       "    </tr>\n",
       "    <tr>\n",
       "      <th>MAG_CODE</th>\n",
       "      <td>0.0</td>\n",
       "    </tr>\n",
       "    <tr>\n",
       "      <th>IDCLIENT</th>\n",
       "      <td>0.0</td>\n",
       "    </tr>\n",
       "    <tr>\n",
       "      <th>TIC_TOTALTTC</th>\n",
       "      <td>0.0</td>\n",
       "    </tr>\n",
       "  </tbody>\n",
       "</table>\n",
       "</div>"
      ],
      "text/plain": [
       "              %_missing_values\n",
       "IDTICKET                   0.0\n",
       "TIC_DATE                   0.0\n",
       "MAG_CODE                   0.0\n",
       "IDCLIENT                   0.0\n",
       "TIC_TOTALTTC               0.0"
      ]
     },
     "execution_count": 206,
     "metadata": {},
     "output_type": "execute_result"
    }
   ],
   "source": [
    "pd.DataFrame(index=data.columns, columns=['%_missing_values'], data= (data.isna().sum().values / len(data)*100))"
   ]
  },
  {
   "cell_type": "markdown",
   "id": "d0bb6051",
   "metadata": {},
   "source": [
    "Il convient à présent de vérifier la présence de valeur aberrantes."
   ]
  },
  {
   "cell_type": "code",
   "execution_count": 207,
   "id": "f42924ad",
   "metadata": {},
   "outputs": [
    {
     "data": {
      "text/plain": [
       "<Axes: >"
      ]
     },
     "execution_count": 207,
     "metadata": {},
     "output_type": "execute_result"
    },
    {
     "data": {
      "image/png": "[encoded data removed]",
      "text/plain": [
       "<Figure size 640x480 with 1 Axes>"
      ]
     },
     "metadata": {},
     "output_type": "display_data"
    }
   ],
   "source": [
    "#1ère méthode boxplot\n",
    "import seaborn as sns\n",
    "import matplotlib.pyplot as plt\n",
    "\n",
    "# Visualisation des boxplots des variables numériques\n",
    "sns.boxplot(data2)"
   ]
  },
  {
   "cell_type": "markdown",
   "id": "cc64491b",
   "metadata": {},
   "source": [
    "La série de code ci-dessous permet de traiter les valeurs aberrantes en présence."
   ]
  },
  {
   "cell_type": "code",
   "execution_count": 208,
   "id": "bfc03624",
   "metadata": {},
   "outputs": [
    {
     "name": "stdout",
     "output_type": "stream",
     "text": [
      "Old Shape:  (6714173, 5)\n"
     ]
    }
   ],
   "source": [
    "''' Detection '''\n",
    "# IQR\n",
    "Q1 = np.percentile(data2['TIC_TOTALTTC'], 25,\n",
    "                   interpolation = 'midpoint')\n",
    " \n",
    "Q3 = np.percentile(data2['TIC_TOTALTTC'], 75,\n",
    "                   interpolation = 'midpoint')\n",
    "IQR = Q3 - Q1\n",
    " \n",
    "print(\"Old Shape: \", data2.shape)"
   ]
  },
  {
   "cell_type": "code",
   "execution_count": 209,
   "id": "e018beb3",
   "metadata": {},
   "outputs": [],
   "source": [
    "# Upper bound\n",
    "upper = np.where(data2['TIC_TOTALTTC'] >= (Q3+1.5*IQR))\n",
    "# Lower bound\n",
    "lower = np.where(data2['TIC_TOTALTTC'] <= (Q1-1.5*IQR))"
   ]
  },
  {
   "cell_type": "code",
   "execution_count": 210,
   "id": "a6d52c9b",
   "metadata": {},
   "outputs": [],
   "source": [
    "''' Removing the Outliers '''\n",
    "data2.drop(upper[0], inplace = True)\n",
    "data2.drop(lower[0], inplace = True)"
   ]
  },
  {
   "cell_type": "code",
   "execution_count": 211,
   "id": "8b2d4c48",
   "metadata": {},
   "outputs": [
    {
     "name": "stdout",
     "output_type": "stream",
     "text": [
      "New Shape:  (6278461, 5)\n"
     ]
    }
   ],
   "source": [
    "print(\"New Shape: \", data2.shape)"
   ]
  },
  {
   "cell_type": "markdown",
   "id": "5edd09c5",
   "metadata": {},
   "source": [
    "CALCUL DU NOMBRES DE MAGASINS (Mag Code) FREQUENTE PAR UN CLIENT (ID Client)."
   ]
  },
  {
   "cell_type": "code",
   "execution_count": 212,
   "id": "82ec4400",
   "metadata": {},
   "outputs": [],
   "source": [
    "data2['IDCLIENT'] = data2['IDCLIENT'].astype(float)"
   ]
  },
  {
   "cell_type": "code",
   "execution_count": 213,
   "id": "647517d0",
   "metadata": {},
   "outputs": [],
   "source": [
    "data2['IDCLIENT'] = data2['IDCLIENT'].astype(int)"
   ]
  },
  {
   "cell_type": "code",
   "execution_count": 214,
   "id": "e79ee648",
   "metadata": {},
   "outputs": [
    {
     "name": "stdout",
     "output_type": "stream",
     "text": [
      "<class 'pandas.core.frame.DataFrame'>\n",
      "Index: 6278461 entries, 0 to 6714172\n",
      "Data columns (total 5 columns):\n",
      " #   Column        Dtype  \n",
      "---  ------        -----  \n",
      " 0   IDTICKET      object \n",
      " 1   TIC_DATE      object \n",
      " 2   MAG_CODE      object \n",
      " 3   IDCLIENT      int32  \n",
      " 4   TIC_TOTALTTC  float64\n",
      "dtypes: float64(1), int32(1), object(3)\n",
      "memory usage: 263.5+ MB\n"
     ]
    }
   ],
   "source": [
    "data2.info()"
   ]
  },
  {
   "cell_type": "code",
   "execution_count": 215,
   "id": "ad659fee",
   "metadata": {},
   "outputs": [],
   "source": [
    "FREQUENCE_MAG = data2.groupby('IDCLIENT')['MAG_CODE'].nunique()"
   ]
  },
  {
   "cell_type": "code",
   "execution_count": 216,
   "id": "ad9b79e7",
   "metadata": {},
   "outputs": [],
   "source": [
    "data2.insert(loc=5, column='FREQUENCE_MAG', value=FREQUENCE_MAG)"
   ]
  },
  {
   "cell_type": "code",
   "execution_count": 217,
   "id": "8d9050ab",
   "metadata": {},
   "outputs": [
    {
     "data": {
      "text/plain": [
       "FREQUENCE_MAG\n",
       "1.0     551738\n",
       "2.0     107580\n",
       "3.0      14591\n",
       "4.0       2358\n",
       "5.0        412\n",
       "6.0         75\n",
       "7.0         32\n",
       "8.0          8\n",
       "9.0          3\n",
       "11.0         2\n",
       "28.0         1\n",
       "10.0         1\n",
       "15.0         1\n",
       "20.0         1\n",
       "Name: count, dtype: int64"
      ]
     },
     "execution_count": 217,
     "metadata": {},
     "output_type": "execute_result"
    }
   ],
   "source": [
    "data2['FREQUENCE_MAG'].value_counts()"
   ]
  },
  {
   "cell_type": "markdown",
   "id": "013f4144",
   "metadata": {},
   "source": [
    "CALCUL D'ANCIENNETE ENTRE LES 2 DERNIERES COMMANDES (TIC DATE) D'UN CLIENT (ID Client)."
   ]
  },
  {
   "cell_type": "code",
   "execution_count": 218,
   "id": "67d8183f",
   "metadata": {},
   "outputs": [],
   "source": [
    "data2['TIC_DATE'] = pd.to_datetime(data2['TIC_DATE'], format='%d/%m/%Y', errors='coerce')"
   ]
  },
  {
   "cell_type": "code",
   "execution_count": 219,
   "id": "94f29ebe",
   "metadata": {},
   "outputs": [],
   "source": [
    "data2.sort_values(by=['IDCLIENT', 'TIC_DATE'], inplace=True)"
   ]
  },
  {
   "cell_type": "code",
   "execution_count": 220,
   "id": "9e16d1a0",
   "metadata": {},
   "outputs": [],
   "source": [
    "ANCIENNETE_CDE = data2.groupby('IDCLIENT')['TIC_DATE'].diff()"
   ]
  },
  {
   "cell_type": "code",
   "execution_count": 223,
   "id": "ad73f71c",
   "metadata": {},
   "outputs": [],
   "source": [
    "data2.insert(loc=6, column='ANCIENNETE_CDE', value=ANCIENNETE_CDE)"
   ]
  },
  {
   "cell_type": "code",
   "execution_count": 224,
   "id": "5473798a",
   "metadata": {},
   "outputs": [
    {
     "data": {
      "text/plain": [
       "ANCIENNETE_CDE\n",
       "0 days      315372\n",
       "7 days      234386\n",
       "1 days      200314\n",
       "2 days      175479\n",
       "3 days      167880\n",
       "             ...  \n",
       "704 days         1\n",
       "708 days         1\n",
       "729 days         1\n",
       "724 days         1\n",
       "716 days         1\n",
       "Name: count, Length: 721, dtype: int64"
      ]
     },
     "execution_count": 224,
     "metadata": {},
     "output_type": "execute_result"
    }
   ],
   "source": [
    "data2['ANCIENNETE_CDE'].value_counts()"
   ]
  }
 ],
 "metadata": {
  "language_info": {
   "name": "python"
  }
 },
 "nbformat": 4,
 "nbformat_minor": 5
}
