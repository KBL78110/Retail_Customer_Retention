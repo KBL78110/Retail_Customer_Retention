{
 "cells": [
  {
   "cell_type": "code",
   "execution_count": null,
   "id": "63f44679",
   "metadata": {},
   "outputs": [],
   "source": [
    "import pip\n",
    "pip.main(['install', 'pandas'])\n",
    "pip.main(['install', 'matplotlib'])\n",
    "pip.main(['install', 'seaborn'])\n",
    "pip.main(['install', 'scikit-learn'])"
   ]
  },
  {
   "cell_type": "markdown",
   "id": "bf126ed1",
   "metadata": {},
   "source": [
    "CHARGEMENT DES BIBLIOTHEQUES"
   ]
  },
  {
   "cell_type": "code",
   "execution_count": 267,
   "id": "0b927c6c",
   "metadata": {
    "ExecuteTime": {
     "end_time": "2024-05-04T14:15:13.036620Z",
     "start_time": "2024-05-04T14:15:08.238899Z"
    },
    "pycharm": {
     "is_executing": true
    },
    "tags": []
   },
   "outputs": [],
   "source": [
    "import pandas as pd\n",
    "import matplotlib.pyplot as plt\n",
    "import numpy as np\n",
    "import seaborn as sns\n",
    "\n",
    "from sklearn.linear_model import LogisticRegression\n",
    "from sklearn.model_selection import train_test_split\n",
    "from sklearn.datasets import make_classification\n",
    "from sklearn.metrics import roc_curve, auc\n",
    "from sklearn.metrics import accuracy_score, classification_report, confusion_matrix\n",
    "from sklearn.preprocessing import StandardScaler\n",
    "from sklearn.preprocessing import OneHotEncoder\n",
    "from sklearn.preprocessing import LabelEncoder\n"
   ]
  },
  {
   "cell_type": "markdown",
   "id": "e69dac39",
   "metadata": {},
   "source": [
    "CHARGEMENT DU JEU DE DONNEES"
   ]
  },
  {
   "cell_type": "code",
   "execution_count": 268,
   "id": "a0ca9798",
   "metadata": {
    "ExecuteTime": {
     "end_time": "2024-05-04T14:15:25.183308Z",
     "start_time": "2024-05-04T14:15:20.603415Z"
    }
   },
   "outputs": [
    {
     "name": "stdout",
     "output_type": "stream",
     "text": [
      "(845876, 10)\n",
      "['IDCLIENT', 'CIVILITE', 'DATENAISSANCE', 'MAGASIN', 'DATEDEBUTADHESION', 'DATEREADHESION', 'DATEFINADHESION', 'VIP', 'CODEINSEE', 'PAYS']\n"
     ]
    }
   ],
   "source": [
    "dataset_path = \"C:\\\\Users\\\\belga\\\\OneDrive\\\\Bureau\\\\EMBA Big Data\\\\Module Datascience\\\\Projet Data Science S2 2024\\\\CLIENT.csv\"\n",
    "data1 = pd.read_csv(dataset_path, sep='|', low_memory=False)\n",
    "print(data1.shape)\n",
    "print(list(data1.columns))"
   ]
  },
  {
   "cell_type": "markdown",
   "id": "ea4a477c",
   "metadata": {},
   "source": [
    "La ligne de code ci-dessous nous permet de connaître le détail des colonnes ainsi que le type de données constituant notre base (numérique ou caractères)."
   ]
  },
  {
   "cell_type": "code",
   "execution_count": 269,
   "id": "4d1f71d2",
   "metadata": {
    "ExecuteTime": {
     "end_time": "2024-05-04T14:15:31.772493Z",
     "start_time": "2024-05-04T14:15:31.756066Z"
    }
   },
   "outputs": [
    {
     "data": {
      "text/html": [
       "<div>\n",
       "<style scoped>\n",
       "    .dataframe tbody tr th:only-of-type {\n",
       "        vertical-align: middle;\n",
       "    }\n",
       "\n",
       "    .dataframe tbody tr th {\n",
       "        vertical-align: top;\n",
       "    }\n",
       "\n",
       "    .dataframe thead th {\n",
       "        text-align: right;\n",
       "    }\n",
       "</style>\n",
       "<table border=\"1\" class=\"dataframe\">\n",
       "  <thead>\n",
       "    <tr style=\"text-align: right;\">\n",
       "      <th></th>\n",
       "      <th>IDCLIENT</th>\n",
       "      <th>CIVILITE</th>\n",
       "      <th>DATENAISSANCE</th>\n",
       "      <th>MAGASIN</th>\n",
       "      <th>DATEDEBUTADHESION</th>\n",
       "      <th>DATEREADHESION</th>\n",
       "      <th>DATEFINADHESION</th>\n",
       "      <th>VIP</th>\n",
       "      <th>CODEINSEE</th>\n",
       "      <th>PAYS</th>\n",
       "    </tr>\n",
       "  </thead>\n",
       "  <tbody>\n",
       "    <tr>\n",
       "      <th>0</th>\n",
       "      <td>155891.0</td>\n",
       "      <td>MADAME</td>\n",
       "      <td>NaN</td>\n",
       "      <td>VLG</td>\n",
       "      <td>13/05/2005 0:00:00</td>\n",
       "      <td>4/04/2017 0:00:00</td>\n",
       "      <td>30/04/2018 0:00:00</td>\n",
       "      <td>0</td>\n",
       "      <td>74224</td>\n",
       "      <td>FR</td>\n",
       "    </tr>\n",
       "    <tr>\n",
       "      <th>1</th>\n",
       "      <td>156023.0</td>\n",
       "      <td>MONSIEUR</td>\n",
       "      <td>7/08/1966 0:00:00</td>\n",
       "      <td>VLG</td>\n",
       "      <td>14/05/2005 0:00:00</td>\n",
       "      <td>21/06/2014 0:00:00</td>\n",
       "      <td>30/06/2016 0:00:00</td>\n",
       "      <td>0</td>\n",
       "      <td>74189</td>\n",
       "      <td>FR</td>\n",
       "    </tr>\n",
       "    <tr>\n",
       "      <th>2</th>\n",
       "      <td>124203.0</td>\n",
       "      <td>MADAME</td>\n",
       "      <td>NaN</td>\n",
       "      <td>BEA</td>\n",
       "      <td>16/03/2005 0:00:00</td>\n",
       "      <td>12/10/2017 0:00:00</td>\n",
       "      <td>31/10/2018 0:00:00</td>\n",
       "      <td>0</td>\n",
       "      <td>63070</td>\n",
       "      <td>FR</td>\n",
       "    </tr>\n",
       "    <tr>\n",
       "      <th>3</th>\n",
       "      <td>156190.0</td>\n",
       "      <td>MADAME</td>\n",
       "      <td>24/07/1976 0:00:00</td>\n",
       "      <td>SUR</td>\n",
       "      <td>28/08/2006 0:00:00</td>\n",
       "      <td>24/05/2015 0:00:00</td>\n",
       "      <td>31/05/2016 0:00:00</td>\n",
       "      <td>0</td>\n",
       "      <td>92026</td>\n",
       "      <td>FR</td>\n",
       "    </tr>\n",
       "    <tr>\n",
       "      <th>4</th>\n",
       "      <td>144444.0</td>\n",
       "      <td>MONSIEUR</td>\n",
       "      <td>NaN</td>\n",
       "      <td>LAB</td>\n",
       "      <td>29/04/2006 0:00:00</td>\n",
       "      <td>18/12/2016 0:00:00</td>\n",
       "      <td>31/12/2017 0:00:00</td>\n",
       "      <td>0</td>\n",
       "      <td>31555</td>\n",
       "      <td>FR</td>\n",
       "    </tr>\n",
       "    <tr>\n",
       "      <th>...</th>\n",
       "      <td>...</td>\n",
       "      <td>...</td>\n",
       "      <td>...</td>\n",
       "      <td>...</td>\n",
       "      <td>...</td>\n",
       "      <td>...</td>\n",
       "      <td>...</td>\n",
       "      <td>...</td>\n",
       "      <td>...</td>\n",
       "      <td>...</td>\n",
       "    </tr>\n",
       "    <tr>\n",
       "      <th>845871</th>\n",
       "      <td>1970111.0</td>\n",
       "      <td>MONSIEUR</td>\n",
       "      <td>NaN</td>\n",
       "      <td>IAB</td>\n",
       "      <td>14/04/2011 0:00:00</td>\n",
       "      <td>6/01/2018 0:00:00</td>\n",
       "      <td>31/01/2019 0:00:00</td>\n",
       "      <td>0</td>\n",
       "      <td>38053</td>\n",
       "      <td>FR</td>\n",
       "    </tr>\n",
       "    <tr>\n",
       "      <th>845872</th>\n",
       "      <td>2297275.0</td>\n",
       "      <td>MONSIEUR</td>\n",
       "      <td>6/02/1988 0:00:00</td>\n",
       "      <td>SEM</td>\n",
       "      <td>7/03/2013 0:00:00</td>\n",
       "      <td>6/01/2018 0:00:00</td>\n",
       "      <td>31/01/2019 0:00:00</td>\n",
       "      <td>0</td>\n",
       "      <td>57067</td>\n",
       "      <td>FR</td>\n",
       "    </tr>\n",
       "    <tr>\n",
       "      <th>845873</th>\n",
       "      <td>2305548.0</td>\n",
       "      <td>MONSIEUR</td>\n",
       "      <td>NaN</td>\n",
       "      <td>PRI</td>\n",
       "      <td>22/03/2013 0:00:00</td>\n",
       "      <td>6/01/2018 0:00:00</td>\n",
       "      <td>31/01/2019 0:00:00</td>\n",
       "      <td>0</td>\n",
       "      <td>38318</td>\n",
       "      <td>FR</td>\n",
       "    </tr>\n",
       "    <tr>\n",
       "      <th>845874</th>\n",
       "      <td>84175.0</td>\n",
       "      <td>MADAME</td>\n",
       "      <td>7/04/1950 0:00:00</td>\n",
       "      <td>GAI</td>\n",
       "      <td>29/10/2002 0:00:00</td>\n",
       "      <td>7/01/2018 0:00:00</td>\n",
       "      <td>31/01/2019 0:00:00</td>\n",
       "      <td>0</td>\n",
       "      <td>74082</td>\n",
       "      <td>FR</td>\n",
       "    </tr>\n",
       "    <tr>\n",
       "      <th>845875</th>\n",
       "      <td>1280004.0</td>\n",
       "      <td>MONSIEUR</td>\n",
       "      <td>NaN</td>\n",
       "      <td>SGL</td>\n",
       "      <td>23/06/2007 0:00:00</td>\n",
       "      <td>7/01/2018 0:00:00</td>\n",
       "      <td>31/01/2019 0:00:00</td>\n",
       "      <td>0</td>\n",
       "      <td>42218</td>\n",
       "      <td>FR</td>\n",
       "    </tr>\n",
       "  </tbody>\n",
       "</table>\n",
       "<p>845876 rows × 10 columns</p>\n",
       "</div>"
      ],
      "text/plain": [
       "         IDCLIENT  CIVILITE       DATENAISSANCE MAGASIN   DATEDEBUTADHESION  \\\n",
       "0        155891.0    MADAME                 NaN     VLG  13/05/2005 0:00:00   \n",
       "1        156023.0  MONSIEUR   7/08/1966 0:00:00     VLG  14/05/2005 0:00:00   \n",
       "2        124203.0    MADAME                 NaN     BEA  16/03/2005 0:00:00   \n",
       "3        156190.0    MADAME  24/07/1976 0:00:00     SUR  28/08/2006 0:00:00   \n",
       "4        144444.0  MONSIEUR                 NaN     LAB  29/04/2006 0:00:00   \n",
       "...           ...       ...                 ...     ...                 ...   \n",
       "845871  1970111.0  MONSIEUR                 NaN     IAB  14/04/2011 0:00:00   \n",
       "845872  2297275.0  MONSIEUR   6/02/1988 0:00:00     SEM   7/03/2013 0:00:00   \n",
       "845873  2305548.0  MONSIEUR                 NaN     PRI  22/03/2013 0:00:00   \n",
       "845874    84175.0    MADAME   7/04/1950 0:00:00     GAI  29/10/2002 0:00:00   \n",
       "845875  1280004.0  MONSIEUR                 NaN     SGL  23/06/2007 0:00:00   \n",
       "\n",
       "            DATEREADHESION     DATEFINADHESION  VIP CODEINSEE PAYS  \n",
       "0        4/04/2017 0:00:00  30/04/2018 0:00:00    0     74224   FR  \n",
       "1       21/06/2014 0:00:00  30/06/2016 0:00:00    0     74189   FR  \n",
       "2       12/10/2017 0:00:00  31/10/2018 0:00:00    0     63070   FR  \n",
       "3       24/05/2015 0:00:00  31/05/2016 0:00:00    0     92026   FR  \n",
       "4       18/12/2016 0:00:00  31/12/2017 0:00:00    0     31555   FR  \n",
       "...                    ...                 ...  ...       ...  ...  \n",
       "845871   6/01/2018 0:00:00  31/01/2019 0:00:00    0     38053   FR  \n",
       "845872   6/01/2018 0:00:00  31/01/2019 0:00:00    0     57067   FR  \n",
       "845873   6/01/2018 0:00:00  31/01/2019 0:00:00    0     38318   FR  \n",
       "845874   7/01/2018 0:00:00  31/01/2019 0:00:00    0     74082   FR  \n",
       "845875   7/01/2018 0:00:00  31/01/2019 0:00:00    0     42218   FR  \n",
       "\n",
       "[845876 rows x 10 columns]"
      ]
     },
     "execution_count": 269,
     "metadata": {},
     "output_type": "execute_result"
    }
   ],
   "source": [
    "data1"
   ]
  },
  {
   "cell_type": "code",
   "execution_count": 270,
   "id": "3ec66239",
   "metadata": {
    "ExecuteTime": {
     "end_time": "2024-05-04T14:15:45.987414Z",
     "start_time": "2024-05-04T14:15:44.634638Z"
    }
   },
   "outputs": [
    {
     "name": "stdout",
     "output_type": "stream",
     "text": [
      "<class 'pandas.core.frame.DataFrame'>\n",
      "RangeIndex: 845876 entries, 0 to 845875\n",
      "Data columns (total 10 columns):\n",
      " #   Column             Non-Null Count   Dtype  \n",
      "---  ------             --------------   -----  \n",
      " 0   IDCLIENT           845876 non-null  float64\n",
      " 1   CIVILITE           845876 non-null  object \n",
      " 2   DATENAISSANCE      507902 non-null  object \n",
      " 3   MAGASIN            845876 non-null  object \n",
      " 4   DATEDEBUTADHESION  845876 non-null  object \n",
      " 5   DATEREADHESION     507816 non-null  object \n",
      " 6   DATEFINADHESION    845876 non-null  object \n",
      " 7   VIP                845876 non-null  int64  \n",
      " 8   CODEINSEE          818455 non-null  object \n",
      " 9   PAYS               845873 non-null  object \n",
      "dtypes: float64(1), int64(1), object(8)\n",
      "memory usage: 64.5+ MB\n"
     ]
    }
   ],
   "source": [
    "data1.info()"
   ]
  },
  {
   "cell_type": "markdown",
   "id": "f8da5cc4",
   "metadata": {},
   "source": [
    "Nous allons procéder à la suppression des clients VIP, qui ont un comportement atypique qui viendra biaiser nos résultats."
   ]
  },
  {
   "cell_type": "code",
   "execution_count": 271,
   "id": "aaa5fb52",
   "metadata": {
    "ExecuteTime": {
     "end_time": "2024-05-04T14:15:49.491774Z",
     "start_time": "2024-05-04T14:15:49.244831Z"
    }
   },
   "outputs": [
    {
     "name": "stdout",
     "output_type": "stream",
     "text": [
      "(735425, 10)\n"
     ]
    }
   ],
   "source": [
    "# Supprimer les lignes où la valeur de la colonne 'VIP' est égale à 1\n",
    "data1 = data1[data1['VIP'] != 1]\n",
    "\n",
    "# Vérifier la nouvelle forme du DataFrame\n",
    "print(data1.shape)"
   ]
  },
  {
   "cell_type": "code",
   "execution_count": 272,
   "id": "a392b7d5",
   "metadata": {
    "ExecuteTime": {
     "end_time": "2024-05-04T14:15:52.753268Z",
     "start_time": "2024-05-04T14:15:52.525624Z"
    }
   },
   "outputs": [],
   "source": [
    "data1 = data1.drop(\"VIP\",axis=1)"
   ]
  },
  {
   "cell_type": "markdown",
   "id": "e6de317d",
   "metadata": {},
   "source": [
    "Vérification du traitement."
   ]
  },
  {
   "cell_type": "code",
   "execution_count": 273,
   "id": "66c1834d",
   "metadata": {
    "ExecuteTime": {
     "end_time": "2024-05-04T14:15:57.658941Z",
     "start_time": "2024-05-04T14:15:57.624432Z"
    }
   },
   "outputs": [
    {
     "data": {
      "text/html": [
       "<div>\n",
       "<style scoped>\n",
       "    .dataframe tbody tr th:only-of-type {\n",
       "        vertical-align: middle;\n",
       "    }\n",
       "\n",
       "    .dataframe tbody tr th {\n",
       "        vertical-align: top;\n",
       "    }\n",
       "\n",
       "    .dataframe thead th {\n",
       "        text-align: right;\n",
       "    }\n",
       "</style>\n",
       "<table border=\"1\" class=\"dataframe\">\n",
       "  <thead>\n",
       "    <tr style=\"text-align: right;\">\n",
       "      <th></th>\n",
       "      <th>IDCLIENT</th>\n",
       "      <th>CIVILITE</th>\n",
       "      <th>DATENAISSANCE</th>\n",
       "      <th>MAGASIN</th>\n",
       "      <th>DATEDEBUTADHESION</th>\n",
       "      <th>DATEREADHESION</th>\n",
       "      <th>DATEFINADHESION</th>\n",
       "      <th>CODEINSEE</th>\n",
       "      <th>PAYS</th>\n",
       "    </tr>\n",
       "  </thead>\n",
       "  <tbody>\n",
       "    <tr>\n",
       "      <th>0</th>\n",
       "      <td>155891.0</td>\n",
       "      <td>MADAME</td>\n",
       "      <td>NaN</td>\n",
       "      <td>VLG</td>\n",
       "      <td>13/05/2005 0:00:00</td>\n",
       "      <td>4/04/2017 0:00:00</td>\n",
       "      <td>30/04/2018 0:00:00</td>\n",
       "      <td>74224</td>\n",
       "      <td>FR</td>\n",
       "    </tr>\n",
       "    <tr>\n",
       "      <th>1</th>\n",
       "      <td>156023.0</td>\n",
       "      <td>MONSIEUR</td>\n",
       "      <td>7/08/1966 0:00:00</td>\n",
       "      <td>VLG</td>\n",
       "      <td>14/05/2005 0:00:00</td>\n",
       "      <td>21/06/2014 0:00:00</td>\n",
       "      <td>30/06/2016 0:00:00</td>\n",
       "      <td>74189</td>\n",
       "      <td>FR</td>\n",
       "    </tr>\n",
       "    <tr>\n",
       "      <th>2</th>\n",
       "      <td>124203.0</td>\n",
       "      <td>MADAME</td>\n",
       "      <td>NaN</td>\n",
       "      <td>BEA</td>\n",
       "      <td>16/03/2005 0:00:00</td>\n",
       "      <td>12/10/2017 0:00:00</td>\n",
       "      <td>31/10/2018 0:00:00</td>\n",
       "      <td>63070</td>\n",
       "      <td>FR</td>\n",
       "    </tr>\n",
       "    <tr>\n",
       "      <th>3</th>\n",
       "      <td>156190.0</td>\n",
       "      <td>MADAME</td>\n",
       "      <td>24/07/1976 0:00:00</td>\n",
       "      <td>SUR</td>\n",
       "      <td>28/08/2006 0:00:00</td>\n",
       "      <td>24/05/2015 0:00:00</td>\n",
       "      <td>31/05/2016 0:00:00</td>\n",
       "      <td>92026</td>\n",
       "      <td>FR</td>\n",
       "    </tr>\n",
       "    <tr>\n",
       "      <th>4</th>\n",
       "      <td>144444.0</td>\n",
       "      <td>MONSIEUR</td>\n",
       "      <td>NaN</td>\n",
       "      <td>LAB</td>\n",
       "      <td>29/04/2006 0:00:00</td>\n",
       "      <td>18/12/2016 0:00:00</td>\n",
       "      <td>31/12/2017 0:00:00</td>\n",
       "      <td>31555</td>\n",
       "      <td>FR</td>\n",
       "    </tr>\n",
       "    <tr>\n",
       "      <th>...</th>\n",
       "      <td>...</td>\n",
       "      <td>...</td>\n",
       "      <td>...</td>\n",
       "      <td>...</td>\n",
       "      <td>...</td>\n",
       "      <td>...</td>\n",
       "      <td>...</td>\n",
       "      <td>...</td>\n",
       "      <td>...</td>\n",
       "    </tr>\n",
       "    <tr>\n",
       "      <th>845871</th>\n",
       "      <td>1970111.0</td>\n",
       "      <td>MONSIEUR</td>\n",
       "      <td>NaN</td>\n",
       "      <td>IAB</td>\n",
       "      <td>14/04/2011 0:00:00</td>\n",
       "      <td>6/01/2018 0:00:00</td>\n",
       "      <td>31/01/2019 0:00:00</td>\n",
       "      <td>38053</td>\n",
       "      <td>FR</td>\n",
       "    </tr>\n",
       "    <tr>\n",
       "      <th>845872</th>\n",
       "      <td>2297275.0</td>\n",
       "      <td>MONSIEUR</td>\n",
       "      <td>6/02/1988 0:00:00</td>\n",
       "      <td>SEM</td>\n",
       "      <td>7/03/2013 0:00:00</td>\n",
       "      <td>6/01/2018 0:00:00</td>\n",
       "      <td>31/01/2019 0:00:00</td>\n",
       "      <td>57067</td>\n",
       "      <td>FR</td>\n",
       "    </tr>\n",
       "    <tr>\n",
       "      <th>845873</th>\n",
       "      <td>2305548.0</td>\n",
       "      <td>MONSIEUR</td>\n",
       "      <td>NaN</td>\n",
       "      <td>PRI</td>\n",
       "      <td>22/03/2013 0:00:00</td>\n",
       "      <td>6/01/2018 0:00:00</td>\n",
       "      <td>31/01/2019 0:00:00</td>\n",
       "      <td>38318</td>\n",
       "      <td>FR</td>\n",
       "    </tr>\n",
       "    <tr>\n",
       "      <th>845874</th>\n",
       "      <td>84175.0</td>\n",
       "      <td>MADAME</td>\n",
       "      <td>7/04/1950 0:00:00</td>\n",
       "      <td>GAI</td>\n",
       "      <td>29/10/2002 0:00:00</td>\n",
       "      <td>7/01/2018 0:00:00</td>\n",
       "      <td>31/01/2019 0:00:00</td>\n",
       "      <td>74082</td>\n",
       "      <td>FR</td>\n",
       "    </tr>\n",
       "    <tr>\n",
       "      <th>845875</th>\n",
       "      <td>1280004.0</td>\n",
       "      <td>MONSIEUR</td>\n",
       "      <td>NaN</td>\n",
       "      <td>SGL</td>\n",
       "      <td>23/06/2007 0:00:00</td>\n",
       "      <td>7/01/2018 0:00:00</td>\n",
       "      <td>31/01/2019 0:00:00</td>\n",
       "      <td>42218</td>\n",
       "      <td>FR</td>\n",
       "    </tr>\n",
       "  </tbody>\n",
       "</table>\n",
       "<p>735425 rows × 9 columns</p>\n",
       "</div>"
      ],
      "text/plain": [
       "         IDCLIENT  CIVILITE       DATENAISSANCE MAGASIN   DATEDEBUTADHESION  \\\n",
       "0        155891.0    MADAME                 NaN     VLG  13/05/2005 0:00:00   \n",
       "1        156023.0  MONSIEUR   7/08/1966 0:00:00     VLG  14/05/2005 0:00:00   \n",
       "2        124203.0    MADAME                 NaN     BEA  16/03/2005 0:00:00   \n",
       "3        156190.0    MADAME  24/07/1976 0:00:00     SUR  28/08/2006 0:00:00   \n",
       "4        144444.0  MONSIEUR                 NaN     LAB  29/04/2006 0:00:00   \n",
       "...           ...       ...                 ...     ...                 ...   \n",
       "845871  1970111.0  MONSIEUR                 NaN     IAB  14/04/2011 0:00:00   \n",
       "845872  2297275.0  MONSIEUR   6/02/1988 0:00:00     SEM   7/03/2013 0:00:00   \n",
       "845873  2305548.0  MONSIEUR                 NaN     PRI  22/03/2013 0:00:00   \n",
       "845874    84175.0    MADAME   7/04/1950 0:00:00     GAI  29/10/2002 0:00:00   \n",
       "845875  1280004.0  MONSIEUR                 NaN     SGL  23/06/2007 0:00:00   \n",
       "\n",
       "            DATEREADHESION     DATEFINADHESION CODEINSEE PAYS  \n",
       "0        4/04/2017 0:00:00  30/04/2018 0:00:00     74224   FR  \n",
       "1       21/06/2014 0:00:00  30/06/2016 0:00:00     74189   FR  \n",
       "2       12/10/2017 0:00:00  31/10/2018 0:00:00     63070   FR  \n",
       "3       24/05/2015 0:00:00  31/05/2016 0:00:00     92026   FR  \n",
       "4       18/12/2016 0:00:00  31/12/2017 0:00:00     31555   FR  \n",
       "...                    ...                 ...       ...  ...  \n",
       "845871   6/01/2018 0:00:00  31/01/2019 0:00:00     38053   FR  \n",
       "845872   6/01/2018 0:00:00  31/01/2019 0:00:00     57067   FR  \n",
       "845873   6/01/2018 0:00:00  31/01/2019 0:00:00     38318   FR  \n",
       "845874   7/01/2018 0:00:00  31/01/2019 0:00:00     74082   FR  \n",
       "845875   7/01/2018 0:00:00  31/01/2019 0:00:00     42218   FR  \n",
       "\n",
       "[735425 rows x 9 columns]"
      ]
     },
     "execution_count": 273,
     "metadata": {},
     "output_type": "execute_result"
    }
   ],
   "source": [
    "data1"
   ]
  },
  {
   "cell_type": "markdown",
   "id": "0884bc8c",
   "metadata": {},
   "source": [
    "La ligne de code ci-dessous nous permet de formater le format de la date."
   ]
  },
  {
   "cell_type": "code",
   "execution_count": 274,
   "id": "1e6c0ecf",
   "metadata": {
    "ExecuteTime": {
     "end_time": "2024-05-04T14:16:38.932833Z",
     "start_time": "2024-05-04T14:16:05.986073Z"
    }
   },
   "outputs": [],
   "source": [
    "# Adapter le format de date pour les colonnes spécifiées\n",
    "date_columns = ['DATENAISSANCE', 'DATEDEBUTADHESION', 'DATEREADHESION', 'DATEFINADHESION']\n",
    "for col in date_columns:\n",
    "    data1[col] = pd.to_datetime(data1[col], format='%d/%m/%Y %H:%M:%S',errors = 'coerce').dt.strftime('%d/%m/%Y')"
   ]
  },
  {
   "cell_type": "markdown",
   "id": "dc151f55",
   "metadata": {},
   "source": [
    "Vérification du traitement."
   ]
  },
  {
   "cell_type": "code",
   "execution_count": 275,
   "id": "8b3d3b8a",
   "metadata": {},
   "outputs": [
    {
     "data": {
      "text/html": [
       "<div>\n",
       "<style scoped>\n",
       "    .dataframe tbody tr th:only-of-type {\n",
       "        vertical-align: middle;\n",
       "    }\n",
       "\n",
       "    .dataframe tbody tr th {\n",
       "        vertical-align: top;\n",
       "    }\n",
       "\n",
       "    .dataframe thead th {\n",
       "        text-align: right;\n",
       "    }\n",
       "</style>\n",
       "<table border=\"1\" class=\"dataframe\">\n",
       "  <thead>\n",
       "    <tr style=\"text-align: right;\">\n",
       "      <th></th>\n",
       "      <th>IDCLIENT</th>\n",
       "      <th>CIVILITE</th>\n",
       "      <th>DATENAISSANCE</th>\n",
       "      <th>MAGASIN</th>\n",
       "      <th>DATEDEBUTADHESION</th>\n",
       "      <th>DATEREADHESION</th>\n",
       "      <th>DATEFINADHESION</th>\n",
       "      <th>CODEINSEE</th>\n",
       "      <th>PAYS</th>\n",
       "    </tr>\n",
       "  </thead>\n",
       "  <tbody>\n",
       "    <tr>\n",
       "      <th>0</th>\n",
       "      <td>155891.0</td>\n",
       "      <td>MADAME</td>\n",
       "      <td>NaN</td>\n",
       "      <td>VLG</td>\n",
       "      <td>13/05/2005</td>\n",
       "      <td>04/04/2017</td>\n",
       "      <td>30/04/2018</td>\n",
       "      <td>74224</td>\n",
       "      <td>FR</td>\n",
       "    </tr>\n",
       "    <tr>\n",
       "      <th>1</th>\n",
       "      <td>156023.0</td>\n",
       "      <td>MONSIEUR</td>\n",
       "      <td>07/08/1966</td>\n",
       "      <td>VLG</td>\n",
       "      <td>14/05/2005</td>\n",
       "      <td>21/06/2014</td>\n",
       "      <td>30/06/2016</td>\n",
       "      <td>74189</td>\n",
       "      <td>FR</td>\n",
       "    </tr>\n",
       "    <tr>\n",
       "      <th>2</th>\n",
       "      <td>124203.0</td>\n",
       "      <td>MADAME</td>\n",
       "      <td>NaN</td>\n",
       "      <td>BEA</td>\n",
       "      <td>16/03/2005</td>\n",
       "      <td>12/10/2017</td>\n",
       "      <td>31/10/2018</td>\n",
       "      <td>63070</td>\n",
       "      <td>FR</td>\n",
       "    </tr>\n",
       "    <tr>\n",
       "      <th>3</th>\n",
       "      <td>156190.0</td>\n",
       "      <td>MADAME</td>\n",
       "      <td>24/07/1976</td>\n",
       "      <td>SUR</td>\n",
       "      <td>28/08/2006</td>\n",
       "      <td>24/05/2015</td>\n",
       "      <td>31/05/2016</td>\n",
       "      <td>92026</td>\n",
       "      <td>FR</td>\n",
       "    </tr>\n",
       "    <tr>\n",
       "      <th>4</th>\n",
       "      <td>144444.0</td>\n",
       "      <td>MONSIEUR</td>\n",
       "      <td>NaN</td>\n",
       "      <td>LAB</td>\n",
       "      <td>29/04/2006</td>\n",
       "      <td>18/12/2016</td>\n",
       "      <td>31/12/2017</td>\n",
       "      <td>31555</td>\n",
       "      <td>FR</td>\n",
       "    </tr>\n",
       "    <tr>\n",
       "      <th>...</th>\n",
       "      <td>...</td>\n",
       "      <td>...</td>\n",
       "      <td>...</td>\n",
       "      <td>...</td>\n",
       "      <td>...</td>\n",
       "      <td>...</td>\n",
       "      <td>...</td>\n",
       "      <td>...</td>\n",
       "      <td>...</td>\n",
       "    </tr>\n",
       "    <tr>\n",
       "      <th>845871</th>\n",
       "      <td>1970111.0</td>\n",
       "      <td>MONSIEUR</td>\n",
       "      <td>NaN</td>\n",
       "      <td>IAB</td>\n",
       "      <td>14/04/2011</td>\n",
       "      <td>06/01/2018</td>\n",
       "      <td>31/01/2019</td>\n",
       "      <td>38053</td>\n",
       "      <td>FR</td>\n",
       "    </tr>\n",
       "    <tr>\n",
       "      <th>845872</th>\n",
       "      <td>2297275.0</td>\n",
       "      <td>MONSIEUR</td>\n",
       "      <td>06/02/1988</td>\n",
       "      <td>SEM</td>\n",
       "      <td>07/03/2013</td>\n",
       "      <td>06/01/2018</td>\n",
       "      <td>31/01/2019</td>\n",
       "      <td>57067</td>\n",
       "      <td>FR</td>\n",
       "    </tr>\n",
       "    <tr>\n",
       "      <th>845873</th>\n",
       "      <td>2305548.0</td>\n",
       "      <td>MONSIEUR</td>\n",
       "      <td>NaN</td>\n",
       "      <td>PRI</td>\n",
       "      <td>22/03/2013</td>\n",
       "      <td>06/01/2018</td>\n",
       "      <td>31/01/2019</td>\n",
       "      <td>38318</td>\n",
       "      <td>FR</td>\n",
       "    </tr>\n",
       "    <tr>\n",
       "      <th>845874</th>\n",
       "      <td>84175.0</td>\n",
       "      <td>MADAME</td>\n",
       "      <td>07/04/1950</td>\n",
       "      <td>GAI</td>\n",
       "      <td>29/10/2002</td>\n",
       "      <td>07/01/2018</td>\n",
       "      <td>31/01/2019</td>\n",
       "      <td>74082</td>\n",
       "      <td>FR</td>\n",
       "    </tr>\n",
       "    <tr>\n",
       "      <th>845875</th>\n",
       "      <td>1280004.0</td>\n",
       "      <td>MONSIEUR</td>\n",
       "      <td>NaN</td>\n",
       "      <td>SGL</td>\n",
       "      <td>23/06/2007</td>\n",
       "      <td>07/01/2018</td>\n",
       "      <td>31/01/2019</td>\n",
       "      <td>42218</td>\n",
       "      <td>FR</td>\n",
       "    </tr>\n",
       "  </tbody>\n",
       "</table>\n",
       "<p>735425 rows × 9 columns</p>\n",
       "</div>"
      ],
      "text/plain": [
       "         IDCLIENT  CIVILITE DATENAISSANCE MAGASIN DATEDEBUTADHESION  \\\n",
       "0        155891.0    MADAME           NaN     VLG        13/05/2005   \n",
       "1        156023.0  MONSIEUR    07/08/1966     VLG        14/05/2005   \n",
       "2        124203.0    MADAME           NaN     BEA        16/03/2005   \n",
       "3        156190.0    MADAME    24/07/1976     SUR        28/08/2006   \n",
       "4        144444.0  MONSIEUR           NaN     LAB        29/04/2006   \n",
       "...           ...       ...           ...     ...               ...   \n",
       "845871  1970111.0  MONSIEUR           NaN     IAB        14/04/2011   \n",
       "845872  2297275.0  MONSIEUR    06/02/1988     SEM        07/03/2013   \n",
       "845873  2305548.0  MONSIEUR           NaN     PRI        22/03/2013   \n",
       "845874    84175.0    MADAME    07/04/1950     GAI        29/10/2002   \n",
       "845875  1280004.0  MONSIEUR           NaN     SGL        23/06/2007   \n",
       "\n",
       "       DATEREADHESION DATEFINADHESION CODEINSEE PAYS  \n",
       "0          04/04/2017      30/04/2018     74224   FR  \n",
       "1          21/06/2014      30/06/2016     74189   FR  \n",
       "2          12/10/2017      31/10/2018     63070   FR  \n",
       "3          24/05/2015      31/05/2016     92026   FR  \n",
       "4          18/12/2016      31/12/2017     31555   FR  \n",
       "...               ...             ...       ...  ...  \n",
       "845871     06/01/2018      31/01/2019     38053   FR  \n",
       "845872     06/01/2018      31/01/2019     57067   FR  \n",
       "845873     06/01/2018      31/01/2019     38318   FR  \n",
       "845874     07/01/2018      31/01/2019     74082   FR  \n",
       "845875     07/01/2018      31/01/2019     42218   FR  \n",
       "\n",
       "[735425 rows x 9 columns]"
      ]
     },
     "execution_count": 275,
     "metadata": {},
     "output_type": "execute_result"
    }
   ],
   "source": [
    "data1"
   ]
  },
  {
   "cell_type": "markdown",
   "id": "ed337fdf",
   "metadata": {},
   "source": [
    "Cette ligne de code nous permet d'identifier le nombre d'occurence de chaque civilité, pour identifier les éventuels regroupements à effectuer. "
   ]
  },
  {
   "cell_type": "code",
   "execution_count": 276,
   "id": "ebc2decf",
   "metadata": {
    "ExecuteTime": {
     "end_time": "2024-05-04T14:19:23.817369Z",
     "start_time": "2024-05-04T14:19:23.647049Z"
    }
   },
   "outputs": [
    {
     "data": {
      "text/plain": [
       "CIVILITE\n",
       "MADAME      393703\n",
       "MONSIEUR    337360\n",
       "Mr            1431\n",
       "Mme           1284\n",
       "madame         976\n",
       "monsieur       671\n",
       "Name: count, dtype: int64"
      ]
     },
     "execution_count": 276,
     "metadata": {},
     "output_type": "execute_result"
    }
   ],
   "source": [
    "#modalités variables:\n",
    "data1['CIVILITE'].value_counts(dropna = False)"
   ]
  },
  {
   "cell_type": "markdown",
   "id": "2e70bf51",
   "metadata": {},
   "source": [
    "Il convient de procéder aux regroupements ci-dessous."
   ]
  },
  {
   "cell_type": "code",
   "execution_count": 277,
   "id": "a76f7dd4",
   "metadata": {
    "ExecuteTime": {
     "end_time": "2024-05-04T14:19:30.800307Z",
     "start_time": "2024-05-04T14:19:29.990787Z"
    }
   },
   "outputs": [],
   "source": [
    "#regroupement des modalités:\n",
    "data1['CIVILITE']=np.where(data1['CIVILITE'] =='MADAME', 'Madame', data1['CIVILITE']) \n",
    "data1['CIVILITE']=np.where(data1['CIVILITE'] =='Mme', 'Madame', data1['CIVILITE'])\n",
    "data1['CIVILITE']=np.where(data1['CIVILITE'] =='madame', 'Madame', data1['CIVILITE']) \n",
    "data1['CIVILITE']=np.where(data1['CIVILITE'] =='MONSIEUR', 'Monsieur', data1['CIVILITE'])\n",
    "data1['CIVILITE']=np.where(data1['CIVILITE'] =='Mr', 'Monsieur', data1['CIVILITE'])\n",
    "data1['CIVILITE']=np.where(data1['CIVILITE'] =='monsieur', 'Monsieur', data1['CIVILITE'])"
   ]
  },
  {
   "cell_type": "markdown",
   "id": "bdb6dced",
   "metadata": {},
   "source": [
    "Vérification du traitement."
   ]
  },
  {
   "cell_type": "code",
   "execution_count": 278,
   "id": "af7ade21",
   "metadata": {
    "ExecuteTime": {
     "end_time": "2024-05-04T14:19:33.826777Z",
     "start_time": "2024-05-04T14:19:33.787899Z"
    }
   },
   "outputs": [
    {
     "data": {
      "text/plain": [
       "CIVILITE\n",
       "Madame      395963\n",
       "Monsieur    339462\n",
       "Name: count, dtype: int64"
      ]
     },
     "execution_count": 278,
     "metadata": {},
     "output_type": "execute_result"
    }
   ],
   "source": [
    "data1['CIVILITE'].value_counts(dropna = False)"
   ]
  },
  {
   "cell_type": "markdown",
   "id": "2179b433",
   "metadata": {},
   "source": [
    "Cette ligne de code nous permet d'identifier le nombre d'occurence de chaque magasin, pour identifier les éventuels regroupements à effectuer."
   ]
  },
  {
   "cell_type": "code",
   "execution_count": 279,
   "id": "e3712103",
   "metadata": {
    "ExecuteTime": {
     "end_time": "2024-05-04T14:19:38.024802Z",
     "start_time": "2024-05-04T14:19:37.853440Z"
    }
   },
   "outputs": [
    {
     "data": {
      "text/plain": [
       "MAGASIN\n",
       "PRI    23963\n",
       "SEY    23572\n",
       "VIB    22223\n",
       "SUR    20923\n",
       "MOU    20887\n",
       "       ...  \n",
       "VIV     3187\n",
       "SAL     2836\n",
       "STR     2667\n",
       "EST     1145\n",
       "BAR     1039\n",
       "Name: count, Length: 67, dtype: int64"
      ]
     },
     "execution_count": 279,
     "metadata": {},
     "output_type": "execute_result"
    }
   ],
   "source": [
    "data1['MAGASIN'].value_counts(dropna = False)"
   ]
  },
  {
   "cell_type": "markdown",
   "id": "71e1d700",
   "metadata": {},
   "source": [
    "Les données à traiter concernant la France, la série de code ci-dessous nous permet de ne conserver que ce pays."
   ]
  },
  {
   "cell_type": "code",
   "execution_count": 280,
   "id": "e9566921",
   "metadata": {
    "ExecuteTime": {
     "end_time": "2024-05-04T14:30:00.639639Z",
     "start_time": "2024-05-04T14:29:54.601378Z"
    }
   },
   "outputs": [],
   "source": [
    "# Filtrer les lignes pour ne garder que celles avec \"France\" dans la colonne \"Pays\"\n",
    "data1 = data1[data1['PAYS'] == 'FR']\n",
    "\n",
    "# Réindexer le DataFrame après avoir filtré les lignes\n",
    "data1.reset_index(drop=True, inplace=True)"
   ]
  },
  {
   "cell_type": "code",
   "execution_count": 281,
   "id": "9dc621bd",
   "metadata": {
    "ExecuteTime": {
     "end_time": "2024-05-04T14:30:31.472987Z",
     "start_time": "2024-05-04T14:30:31.299877Z"
    }
   },
   "outputs": [
    {
     "data": {
      "text/plain": [
       "PAYS\n",
       "FR    720090\n",
       "Name: count, dtype: int64"
      ]
     },
     "execution_count": 281,
     "metadata": {},
     "output_type": "execute_result"
    }
   ],
   "source": [
    "data1['PAYS'].value_counts(dropna = False)"
   ]
  },
  {
   "cell_type": "markdown",
   "id": "f939bb67",
   "metadata": {},
   "source": [
    "La serie de codes ci-dessous nous permet de traiter la date de naissance des clients afin d'en déterminer l'âge puis des tranches d'âges."
   ]
  },
  {
   "cell_type": "code",
   "execution_count": null,
   "id": "188df8b7",
   "metadata": {
    "ExecuteTime": {
     "end_time": "2024-05-04T14:42:22.832110Z",
     "start_time": "2024-05-04T14:42:22.485695Z"
    }
   },
   "outputs": [],
   "source": [
    "#Convertir la colonne de date de naissance en objet datetime :\n",
    "\n",
    "data1['DATENAISSANCE'] = pd.to_datetime(data1['DATENAISSANCE'],errors = 'coerce')\n",
    "\n",
    "#En créer une nouvelle colonne pour l'âge en calculant la différence entre la date actuelle et la date de naissance :\n",
    "\n",
    "from datetime import datetime\n",
    "today = datetime.today()\n",
    "data1['AGE'] = today.year - data1['DATENAISSANCE'].dt.year\n",
    "#Discrétiser l'âge en créant des catégories d'âge. Par exemple, diviser en groupes d'âge :\n",
    "bins = [18, 30, 45, 60, 100]\n",
    "data1['age_group'] = pd.cut(data1['AGE'], bins, labels=['AGE DE 18-30', 'AGE DE 31-45', 'AGE DE 46-60', 'AGE DE 61-100'])"
   ]
  },
  {
   "cell_type": "markdown",
   "id": "155dde60",
   "metadata": {},
   "source": [
    "Vérification du traitement."
   ]
  },
  {
   "cell_type": "code",
   "execution_count": 283,
   "id": "ac32b076",
   "metadata": {
    "ExecuteTime": {
     "end_time": "2024-05-04T14:42:28.738782Z",
     "start_time": "2024-05-04T14:42:28.702680Z"
    }
   },
   "outputs": [
    {
     "data": {
      "text/plain": [
       "age_group\n",
       "NaN              548518\n",
       "AGE DE 61-100     67546\n",
       "AGE DE 46-60      57057\n",
       "AGE DE 31-45      42700\n",
       "AGE DE 18-30       4269\n",
       "Name: count, dtype: int64"
      ]
     },
     "execution_count": 283,
     "metadata": {},
     "output_type": "execute_result"
    }
   ],
   "source": [
    "data1['age_group'].value_counts(dropna = False)"
   ]
  },
  {
   "cell_type": "markdown",
   "id": "1fc97e07",
   "metadata": {},
   "source": [
    "Après ce traitement, il convient de renommer la variable concernée."
   ]
  },
  {
   "cell_type": "code",
   "execution_count": 284,
   "id": "6e50baf3",
   "metadata": {
    "ExecuteTime": {
     "end_time": "2024-05-04T14:48:28.186934Z",
     "start_time": "2024-05-04T14:48:26.085620Z"
    }
   },
   "outputs": [],
   "source": [
    "# Renommer la colonne 'DATENAISSANCE' en 'AGE'\n",
    "data1 = data1.rename(columns={'DATENAISSANCE': 'AGE'})"
   ]
  },
  {
   "cell_type": "markdown",
   "id": "1f3439d3",
   "metadata": {},
   "source": [
    "Vérification du traitement."
   ]
  },
  {
   "cell_type": "code",
   "execution_count": 285,
   "id": "e95b6a22",
   "metadata": {},
   "outputs": [
    {
     "data": {
      "text/html": [
       "<div>\n",
       "<style scoped>\n",
       "    .dataframe tbody tr th:only-of-type {\n",
       "        vertical-align: middle;\n",
       "    }\n",
       "\n",
       "    .dataframe tbody tr th {\n",
       "        vertical-align: top;\n",
       "    }\n",
       "\n",
       "    .dataframe thead th {\n",
       "        text-align: right;\n",
       "    }\n",
       "</style>\n",
       "<table border=\"1\" class=\"dataframe\">\n",
       "  <thead>\n",
       "    <tr style=\"text-align: right;\">\n",
       "      <th></th>\n",
       "      <th>IDCLIENT</th>\n",
       "      <th>CIVILITE</th>\n",
       "      <th>AGE</th>\n",
       "      <th>MAGASIN</th>\n",
       "      <th>DATEDEBUTADHESION</th>\n",
       "      <th>DATEREADHESION</th>\n",
       "      <th>DATEFINADHESION</th>\n",
       "      <th>CODEINSEE</th>\n",
       "      <th>PAYS</th>\n",
       "      <th>AGE</th>\n",
       "      <th>age_group</th>\n",
       "    </tr>\n",
       "  </thead>\n",
       "  <tbody>\n",
       "    <tr>\n",
       "      <th>0</th>\n",
       "      <td>155891.0</td>\n",
       "      <td>Madame</td>\n",
       "      <td>NaT</td>\n",
       "      <td>VLG</td>\n",
       "      <td>13/05/2005</td>\n",
       "      <td>04/04/2017</td>\n",
       "      <td>30/04/2018</td>\n",
       "      <td>74224</td>\n",
       "      <td>FR</td>\n",
       "      <td>NaN</td>\n",
       "      <td>NaN</td>\n",
       "    </tr>\n",
       "    <tr>\n",
       "      <th>1</th>\n",
       "      <td>156023.0</td>\n",
       "      <td>Monsieur</td>\n",
       "      <td>1966-07-08</td>\n",
       "      <td>VLG</td>\n",
       "      <td>14/05/2005</td>\n",
       "      <td>21/06/2014</td>\n",
       "      <td>30/06/2016</td>\n",
       "      <td>74189</td>\n",
       "      <td>FR</td>\n",
       "      <td>58.0</td>\n",
       "      <td>AGE DE 46-60</td>\n",
       "    </tr>\n",
       "    <tr>\n",
       "      <th>2</th>\n",
       "      <td>124203.0</td>\n",
       "      <td>Madame</td>\n",
       "      <td>NaT</td>\n",
       "      <td>BEA</td>\n",
       "      <td>16/03/2005</td>\n",
       "      <td>12/10/2017</td>\n",
       "      <td>31/10/2018</td>\n",
       "      <td>63070</td>\n",
       "      <td>FR</td>\n",
       "      <td>NaN</td>\n",
       "      <td>NaN</td>\n",
       "    </tr>\n",
       "    <tr>\n",
       "      <th>3</th>\n",
       "      <td>156190.0</td>\n",
       "      <td>Madame</td>\n",
       "      <td>NaT</td>\n",
       "      <td>SUR</td>\n",
       "      <td>28/08/2006</td>\n",
       "      <td>24/05/2015</td>\n",
       "      <td>31/05/2016</td>\n",
       "      <td>92026</td>\n",
       "      <td>FR</td>\n",
       "      <td>NaN</td>\n",
       "      <td>NaN</td>\n",
       "    </tr>\n",
       "    <tr>\n",
       "      <th>4</th>\n",
       "      <td>144444.0</td>\n",
       "      <td>Monsieur</td>\n",
       "      <td>NaT</td>\n",
       "      <td>LAB</td>\n",
       "      <td>29/04/2006</td>\n",
       "      <td>18/12/2016</td>\n",
       "      <td>31/12/2017</td>\n",
       "      <td>31555</td>\n",
       "      <td>FR</td>\n",
       "      <td>NaN</td>\n",
       "      <td>NaN</td>\n",
       "    </tr>\n",
       "    <tr>\n",
       "      <th>...</th>\n",
       "      <td>...</td>\n",
       "      <td>...</td>\n",
       "      <td>...</td>\n",
       "      <td>...</td>\n",
       "      <td>...</td>\n",
       "      <td>...</td>\n",
       "      <td>...</td>\n",
       "      <td>...</td>\n",
       "      <td>...</td>\n",
       "      <td>...</td>\n",
       "      <td>...</td>\n",
       "    </tr>\n",
       "    <tr>\n",
       "      <th>720085</th>\n",
       "      <td>1970111.0</td>\n",
       "      <td>Monsieur</td>\n",
       "      <td>NaT</td>\n",
       "      <td>IAB</td>\n",
       "      <td>14/04/2011</td>\n",
       "      <td>06/01/2018</td>\n",
       "      <td>31/01/2019</td>\n",
       "      <td>38053</td>\n",
       "      <td>FR</td>\n",
       "      <td>NaN</td>\n",
       "      <td>NaN</td>\n",
       "    </tr>\n",
       "    <tr>\n",
       "      <th>720086</th>\n",
       "      <td>2297275.0</td>\n",
       "      <td>Monsieur</td>\n",
       "      <td>1988-06-02</td>\n",
       "      <td>SEM</td>\n",
       "      <td>07/03/2013</td>\n",
       "      <td>06/01/2018</td>\n",
       "      <td>31/01/2019</td>\n",
       "      <td>57067</td>\n",
       "      <td>FR</td>\n",
       "      <td>36.0</td>\n",
       "      <td>AGE DE 31-45</td>\n",
       "    </tr>\n",
       "    <tr>\n",
       "      <th>720087</th>\n",
       "      <td>2305548.0</td>\n",
       "      <td>Monsieur</td>\n",
       "      <td>NaT</td>\n",
       "      <td>PRI</td>\n",
       "      <td>22/03/2013</td>\n",
       "      <td>06/01/2018</td>\n",
       "      <td>31/01/2019</td>\n",
       "      <td>38318</td>\n",
       "      <td>FR</td>\n",
       "      <td>NaN</td>\n",
       "      <td>NaN</td>\n",
       "    </tr>\n",
       "    <tr>\n",
       "      <th>720088</th>\n",
       "      <td>84175.0</td>\n",
       "      <td>Madame</td>\n",
       "      <td>1950-07-04</td>\n",
       "      <td>GAI</td>\n",
       "      <td>29/10/2002</td>\n",
       "      <td>07/01/2018</td>\n",
       "      <td>31/01/2019</td>\n",
       "      <td>74082</td>\n",
       "      <td>FR</td>\n",
       "      <td>74.0</td>\n",
       "      <td>AGE DE 61-100</td>\n",
       "    </tr>\n",
       "    <tr>\n",
       "      <th>720089</th>\n",
       "      <td>1280004.0</td>\n",
       "      <td>Monsieur</td>\n",
       "      <td>NaT</td>\n",
       "      <td>SGL</td>\n",
       "      <td>23/06/2007</td>\n",
       "      <td>07/01/2018</td>\n",
       "      <td>31/01/2019</td>\n",
       "      <td>42218</td>\n",
       "      <td>FR</td>\n",
       "      <td>NaN</td>\n",
       "      <td>NaN</td>\n",
       "    </tr>\n",
       "  </tbody>\n",
       "</table>\n",
       "<p>720090 rows × 11 columns</p>\n",
       "</div>"
      ],
      "text/plain": [
       "         IDCLIENT  CIVILITE        AGE MAGASIN DATEDEBUTADHESION  \\\n",
       "0        155891.0    Madame        NaT     VLG        13/05/2005   \n",
       "1        156023.0  Monsieur 1966-07-08     VLG        14/05/2005   \n",
       "2        124203.0    Madame        NaT     BEA        16/03/2005   \n",
       "3        156190.0    Madame        NaT     SUR        28/08/2006   \n",
       "4        144444.0  Monsieur        NaT     LAB        29/04/2006   \n",
       "...           ...       ...        ...     ...               ...   \n",
       "720085  1970111.0  Monsieur        NaT     IAB        14/04/2011   \n",
       "720086  2297275.0  Monsieur 1988-06-02     SEM        07/03/2013   \n",
       "720087  2305548.0  Monsieur        NaT     PRI        22/03/2013   \n",
       "720088    84175.0    Madame 1950-07-04     GAI        29/10/2002   \n",
       "720089  1280004.0  Monsieur        NaT     SGL        23/06/2007   \n",
       "\n",
       "       DATEREADHESION DATEFINADHESION CODEINSEE PAYS   AGE      age_group  \n",
       "0          04/04/2017      30/04/2018     74224   FR   NaN            NaN  \n",
       "1          21/06/2014      30/06/2016     74189   FR  58.0   AGE DE 46-60  \n",
       "2          12/10/2017      31/10/2018     63070   FR   NaN            NaN  \n",
       "3          24/05/2015      31/05/2016     92026   FR   NaN            NaN  \n",
       "4          18/12/2016      31/12/2017     31555   FR   NaN            NaN  \n",
       "...               ...             ...       ...  ...   ...            ...  \n",
       "720085     06/01/2018      31/01/2019     38053   FR   NaN            NaN  \n",
       "720086     06/01/2018      31/01/2019     57067   FR  36.0   AGE DE 31-45  \n",
       "720087     06/01/2018      31/01/2019     38318   FR   NaN            NaN  \n",
       "720088     07/01/2018      31/01/2019     74082   FR  74.0  AGE DE 61-100  \n",
       "720089     07/01/2018      31/01/2019     42218   FR   NaN            NaN  \n",
       "\n",
       "[720090 rows x 11 columns]"
      ]
     },
     "execution_count": 285,
     "metadata": {},
     "output_type": "execute_result"
    }
   ],
   "source": [
    "data1"
   ]
  },
  {
   "cell_type": "markdown",
   "id": "3dd34b8d",
   "metadata": {},
   "source": [
    "Afin d'exploiter de façon optimale les informations, nous allons convetir les l'ID TICKET, l'âge et les tranches d'âges en caractère. Nous n'avons pas nécessité à conserver ces valeurs en numérique."
   ]
  },
  {
   "cell_type": "code",
   "execution_count": 286,
   "id": "af7e41bd",
   "metadata": {},
   "outputs": [],
   "source": [
    "data1['IDCLIENT'] = data1['IDCLIENT'].astype(str)\n",
    "data1['AGE'] = data1['AGE'].astype(str)\n",
    "data1['age_group'] = data1['age_group'].astype(str)"
   ]
  },
  {
   "cell_type": "markdown",
   "id": "9509bc84",
   "metadata": {},
   "source": [
    "Vérification du traitement."
   ]
  },
  {
   "cell_type": "code",
   "execution_count": 287,
   "id": "f7e24835",
   "metadata": {},
   "outputs": [
    {
     "name": "stdout",
     "output_type": "stream",
     "text": [
      "<class 'pandas.core.frame.DataFrame'>\n",
      "RangeIndex: 720090 entries, 0 to 720089\n",
      "Data columns (total 11 columns):\n",
      " #   Column             Non-Null Count   Dtype \n",
      "---  ------             --------------   ----- \n",
      " 0   IDCLIENT           720090 non-null  object\n",
      " 1   CIVILITE           720090 non-null  object\n",
      " 2   AGE                720090 non-null  object\n",
      " 3   MAGASIN            720090 non-null  object\n",
      " 4   DATEDEBUTADHESION  720090 non-null  object\n",
      " 5   DATEREADHESION     410990 non-null  object\n",
      " 6   DATEFINADHESION    720090 non-null  object\n",
      " 7   CODEINSEE          709392 non-null  object\n",
      " 8   PAYS               720090 non-null  object\n",
      " 9   AGE                720090 non-null  object\n",
      " 10  age_group          720090 non-null  object\n",
      "dtypes: object(11)\n",
      "memory usage: 60.4+ MB\n"
     ]
    }
   ],
   "source": [
    "data1.info()"
   ]
  },
  {
   "cell_type": "markdown",
   "id": "3dd413cc",
   "metadata": {},
   "source": [
    "La ligne de code ci-dessous nous permet d'identifier les valeurs en doublons qui conviendra de traiter."
   ]
  },
  {
   "cell_type": "code",
   "execution_count": 288,
   "id": "cbb850cc",
   "metadata": {
    "ExecuteTime": {
     "end_time": "2024-05-04T14:42:43.271092Z",
     "start_time": "2024-05-04T14:42:39.267392Z"
    }
   },
   "outputs": [
    {
     "name": "stdout",
     "output_type": "stream",
     "text": [
      "0\n"
     ]
    }
   ],
   "source": [
    "print(data1.duplicated().sum())\n",
    "data1 = data1.drop_duplicates()"
   ]
  },
  {
   "cell_type": "markdown",
   "id": "874712f4",
   "metadata": {},
   "source": [
    "Nous procédons également à la vérification de présence ou non de valeurs manquantes."
   ]
  },
  {
   "cell_type": "code",
   "execution_count": 289,
   "id": "def025b0",
   "metadata": {
    "ExecuteTime": {
     "end_time": "2024-05-04T14:42:45.877230Z",
     "start_time": "2024-05-04T14:42:45.459993Z"
    }
   },
   "outputs": [
    {
     "data": {
      "text/html": [
       "<div>\n",
       "<style scoped>\n",
       "    .dataframe tbody tr th:only-of-type {\n",
       "        vertical-align: middle;\n",
       "    }\n",
       "\n",
       "    .dataframe tbody tr th {\n",
       "        vertical-align: top;\n",
       "    }\n",
       "\n",
       "    .dataframe thead th {\n",
       "        text-align: right;\n",
       "    }\n",
       "</style>\n",
       "<table border=\"1\" class=\"dataframe\">\n",
       "  <thead>\n",
       "    <tr style=\"text-align: right;\">\n",
       "      <th></th>\n",
       "      <th>%_missing_values</th>\n",
       "    </tr>\n",
       "  </thead>\n",
       "  <tbody>\n",
       "    <tr>\n",
       "      <th>IDCLIENT</th>\n",
       "      <td>0.000000</td>\n",
       "    </tr>\n",
       "    <tr>\n",
       "      <th>CIVILITE</th>\n",
       "      <td>0.000000</td>\n",
       "    </tr>\n",
       "    <tr>\n",
       "      <th>AGE</th>\n",
       "      <td>0.000000</td>\n",
       "    </tr>\n",
       "    <tr>\n",
       "      <th>MAGASIN</th>\n",
       "      <td>0.000000</td>\n",
       "    </tr>\n",
       "    <tr>\n",
       "      <th>DATEDEBUTADHESION</th>\n",
       "      <td>0.000000</td>\n",
       "    </tr>\n",
       "    <tr>\n",
       "      <th>DATEREADHESION</th>\n",
       "      <td>42.925190</td>\n",
       "    </tr>\n",
       "    <tr>\n",
       "      <th>DATEFINADHESION</th>\n",
       "      <td>0.000000</td>\n",
       "    </tr>\n",
       "    <tr>\n",
       "      <th>CODEINSEE</th>\n",
       "      <td>1.485648</td>\n",
       "    </tr>\n",
       "    <tr>\n",
       "      <th>PAYS</th>\n",
       "      <td>0.000000</td>\n",
       "    </tr>\n",
       "    <tr>\n",
       "      <th>AGE</th>\n",
       "      <td>0.000000</td>\n",
       "    </tr>\n",
       "    <tr>\n",
       "      <th>age_group</th>\n",
       "      <td>0.000000</td>\n",
       "    </tr>\n",
       "  </tbody>\n",
       "</table>\n",
       "</div>"
      ],
      "text/plain": [
       "                   %_missing_values\n",
       "IDCLIENT                   0.000000\n",
       "CIVILITE                   0.000000\n",
       "AGE                        0.000000\n",
       "MAGASIN                    0.000000\n",
       "DATEDEBUTADHESION          0.000000\n",
       "DATEREADHESION            42.925190\n",
       "DATEFINADHESION            0.000000\n",
       "CODEINSEE                  1.485648\n",
       "PAYS                       0.000000\n",
       "AGE                        0.000000\n",
       "age_group                  0.000000"
      ]
     },
     "execution_count": 289,
     "metadata": {},
     "output_type": "execute_result"
    }
   ],
   "source": [
    "pd.DataFrame(index=data1.columns, columns=['%_missing_values'], data= (data1.isna().sum().values / len(data1)*100))"
   ]
  },
  {
   "cell_type": "markdown",
   "id": "e7dcee25",
   "metadata": {},
   "source": [
    "La série de codes ci-dessous nous permet de traiter les valeurs manquantes détéctées, sur les variables concernées."
   ]
  },
  {
   "cell_type": "code",
   "execution_count": 290,
   "id": "84a2352b",
   "metadata": {},
   "outputs": [
    {
     "data": {
      "text/plain": [
       "0         False\n",
       "1         False\n",
       "2         False\n",
       "3         False\n",
       "4         False\n",
       "          ...  \n",
       "720085    False\n",
       "720086    False\n",
       "720087    False\n",
       "720088    False\n",
       "720089    False\n",
       "Name: CODEINSEE, Length: 720090, dtype: bool"
      ]
     },
     "execution_count": 290,
     "metadata": {},
     "output_type": "execute_result"
    }
   ],
   "source": [
    "data1['CODEINSEE'].isnull()"
   ]
  },
  {
   "cell_type": "code",
   "execution_count": 291,
   "id": "83381839",
   "metadata": {},
   "outputs": [],
   "source": [
    "data1.dropna(subset=['CODEINSEE'], inplace=True)"
   ]
  },
  {
   "cell_type": "code",
   "execution_count": 292,
   "id": "ee43b110",
   "metadata": {},
   "outputs": [
    {
     "data": {
      "text/plain": [
       "0         False\n",
       "1         False\n",
       "2         False\n",
       "3         False\n",
       "4         False\n",
       "          ...  \n",
       "720085    False\n",
       "720086    False\n",
       "720087    False\n",
       "720088    False\n",
       "720089    False\n",
       "Name: DATEREADHESION, Length: 709392, dtype: bool"
      ]
     },
     "execution_count": 292,
     "metadata": {},
     "output_type": "execute_result"
    }
   ],
   "source": [
    "data1['DATEREADHESION'].isnull()"
   ]
  },
  {
   "cell_type": "code",
   "execution_count": 293,
   "id": "4af00e01",
   "metadata": {},
   "outputs": [],
   "source": [
    "data1.dropna(subset=['DATEREADHESION'], inplace=True)"
   ]
  },
  {
   "cell_type": "code",
   "execution_count": 294,
   "id": "da31729d",
   "metadata": {},
   "outputs": [
    {
     "data": {
      "text/plain": [
       "0         False\n",
       "1         False\n",
       "2         False\n",
       "3         False\n",
       "4         False\n",
       "          ...  \n",
       "720085    False\n",
       "720086    False\n",
       "720087    False\n",
       "720088    False\n",
       "720089    False\n",
       "Name: age_group, Length: 407389, dtype: bool"
      ]
     },
     "execution_count": 294,
     "metadata": {},
     "output_type": "execute_result"
    }
   ],
   "source": [
    "data1['age_group'].isnull()"
   ]
  },
  {
   "cell_type": "code",
   "execution_count": 295,
   "id": "fdae0960",
   "metadata": {},
   "outputs": [
    {
     "data": {
      "text/plain": [
       "age_group\n",
       "nan              326057\n",
       "AGE DE 61-100     39498\n",
       "AGE DE 46-60      27990\n",
       "AGE DE 31-45      13240\n",
       "AGE DE 18-30        604\n",
       "Name: count, dtype: int64"
      ]
     },
     "execution_count": 295,
     "metadata": {},
     "output_type": "execute_result"
    }
   ],
   "source": [
    "data1['age_group'].value_counts()"
   ]
  },
  {
   "cell_type": "code",
   "execution_count": 296,
   "id": "1181e0c8",
   "metadata": {},
   "outputs": [],
   "source": [
    "data1['age_group'] = data1['age_group'].replace(np.nan, \"Inconnue\")\n"
   ]
  },
  {
   "cell_type": "code",
   "execution_count": 297,
   "id": "e9e7cc80",
   "metadata": {},
   "outputs": [
    {
     "name": "stderr",
     "output_type": "stream",
     "text": [
      "C:\\Users\\belga\\AppData\\Local\\Temp\\ipykernel_24944\\2919579232.py:1: FutureWarning: DataFrame.applymap has been deprecated. Use DataFrame.map instead.\n",
      "  data1['age_group']=data1[['age_group']].applymap(lambda x: \"Inconnue\" if x=='nan' else x)\n"
     ]
    }
   ],
   "source": [
    "data1['age_group']=data1[['age_group']].applymap(lambda x: \"Inconnue\" if x=='nan' else x)\n"
   ]
  },
  {
   "cell_type": "code",
   "execution_count": 298,
   "id": "dba12268",
   "metadata": {},
   "outputs": [
    {
     "data": {
      "text/plain": [
       "age_group\n",
       "Inconnue         326057\n",
       "AGE DE 61-100     39498\n",
       "AGE DE 46-60      27990\n",
       "AGE DE 31-45      13240\n",
       "AGE DE 18-30        604\n",
       "Name: count, dtype: int64"
      ]
     },
     "execution_count": 298,
     "metadata": {},
     "output_type": "execute_result"
    }
   ],
   "source": [
    "data1['age_group'].value_counts()"
   ]
  },
  {
   "cell_type": "code",
   "execution_count": 299,
   "id": "b1e64ede",
   "metadata": {},
   "outputs": [],
   "source": [
    "data1.dropna(subset=['age_group'], inplace=True)"
   ]
  },
  {
   "cell_type": "markdown",
   "id": "793c604e",
   "metadata": {},
   "source": [
    "Vérification du taitement."
   ]
  },
  {
   "cell_type": "code",
   "execution_count": 300,
   "id": "a43bab3c",
   "metadata": {},
   "outputs": [
    {
     "data": {
      "text/html": [
       "<div>\n",
       "<style scoped>\n",
       "    .dataframe tbody tr th:only-of-type {\n",
       "        vertical-align: middle;\n",
       "    }\n",
       "\n",
       "    .dataframe tbody tr th {\n",
       "        vertical-align: top;\n",
       "    }\n",
       "\n",
       "    .dataframe thead th {\n",
       "        text-align: right;\n",
       "    }\n",
       "</style>\n",
       "<table border=\"1\" class=\"dataframe\">\n",
       "  <thead>\n",
       "    <tr style=\"text-align: right;\">\n",
       "      <th></th>\n",
       "      <th>%_missing_values</th>\n",
       "    </tr>\n",
       "  </thead>\n",
       "  <tbody>\n",
       "    <tr>\n",
       "      <th>IDCLIENT</th>\n",
       "      <td>0.0</td>\n",
       "    </tr>\n",
       "    <tr>\n",
       "      <th>CIVILITE</th>\n",
       "      <td>0.0</td>\n",
       "    </tr>\n",
       "    <tr>\n",
       "      <th>AGE</th>\n",
       "      <td>0.0</td>\n",
       "    </tr>\n",
       "    <tr>\n",
       "      <th>MAGASIN</th>\n",
       "      <td>0.0</td>\n",
       "    </tr>\n",
       "    <tr>\n",
       "      <th>DATEDEBUTADHESION</th>\n",
       "      <td>0.0</td>\n",
       "    </tr>\n",
       "    <tr>\n",
       "      <th>DATEREADHESION</th>\n",
       "      <td>0.0</td>\n",
       "    </tr>\n",
       "    <tr>\n",
       "      <th>DATEFINADHESION</th>\n",
       "      <td>0.0</td>\n",
       "    </tr>\n",
       "    <tr>\n",
       "      <th>CODEINSEE</th>\n",
       "      <td>0.0</td>\n",
       "    </tr>\n",
       "    <tr>\n",
       "      <th>PAYS</th>\n",
       "      <td>0.0</td>\n",
       "    </tr>\n",
       "    <tr>\n",
       "      <th>AGE</th>\n",
       "      <td>0.0</td>\n",
       "    </tr>\n",
       "    <tr>\n",
       "      <th>age_group</th>\n",
       "      <td>0.0</td>\n",
       "    </tr>\n",
       "  </tbody>\n",
       "</table>\n",
       "</div>"
      ],
      "text/plain": [
       "                   %_missing_values\n",
       "IDCLIENT                        0.0\n",
       "CIVILITE                        0.0\n",
       "AGE                             0.0\n",
       "MAGASIN                         0.0\n",
       "DATEDEBUTADHESION               0.0\n",
       "DATEREADHESION                  0.0\n",
       "DATEFINADHESION                 0.0\n",
       "CODEINSEE                       0.0\n",
       "PAYS                            0.0\n",
       "AGE                             0.0\n",
       "age_group                       0.0"
      ]
     },
     "execution_count": 300,
     "metadata": {},
     "output_type": "execute_result"
    }
   ],
   "source": [
    "pd.DataFrame(index=data1.columns, columns=['%_missing_values'], data= (data1.isna().sum().values / len(data1)*100))"
   ]
  },
  {
   "cell_type": "markdown",
   "id": "5d484549",
   "metadata": {},
   "source": [
    "Le traitement des valeurs aberrantes ne concernant que les variables numériques, nous n'allons pas procéder à ce traitement car aucune de nos variables n'est concernées sur ce dataframe."
   ]
  },
  {
   "cell_type": "markdown",
   "id": "04f0589f",
   "metadata": {},
   "source": [
    "Suppression des colonnes dont les informations nous serons pas nécessairement utiles dans le cadre de notre projet."
   ]
  },
  {
   "cell_type": "code",
   "execution_count": 301,
   "id": "7b14c635",
   "metadata": {},
   "outputs": [],
   "source": [
    "data1.drop(columns=['PAYS'], inplace=True)"
   ]
  },
  {
   "cell_type": "code",
   "execution_count": 302,
   "id": "50c9f0e9",
   "metadata": {},
   "outputs": [],
   "source": [
    "data1.drop(columns=['AGE'], inplace=True)"
   ]
  },
  {
   "cell_type": "code",
   "execution_count": 303,
   "id": "357dc786",
   "metadata": {},
   "outputs": [
    {
     "data": {
      "text/html": [
       "<div>\n",
       "<style scoped>\n",
       "    .dataframe tbody tr th:only-of-type {\n",
       "        vertical-align: middle;\n",
       "    }\n",
       "\n",
       "    .dataframe tbody tr th {\n",
       "        vertical-align: top;\n",
       "    }\n",
       "\n",
       "    .dataframe thead th {\n",
       "        text-align: right;\n",
       "    }\n",
       "</style>\n",
       "<table border=\"1\" class=\"dataframe\">\n",
       "  <thead>\n",
       "    <tr style=\"text-align: right;\">\n",
       "      <th></th>\n",
       "      <th>IDCLIENT</th>\n",
       "      <th>CIVILITE</th>\n",
       "      <th>MAGASIN</th>\n",
       "      <th>DATEDEBUTADHESION</th>\n",
       "      <th>DATEREADHESION</th>\n",
       "      <th>DATEFINADHESION</th>\n",
       "      <th>CODEINSEE</th>\n",
       "      <th>age_group</th>\n",
       "    </tr>\n",
       "  </thead>\n",
       "  <tbody>\n",
       "    <tr>\n",
       "      <th>0</th>\n",
       "      <td>155891.0</td>\n",
       "      <td>Madame</td>\n",
       "      <td>VLG</td>\n",
       "      <td>13/05/2005</td>\n",
       "      <td>04/04/2017</td>\n",
       "      <td>30/04/2018</td>\n",
       "      <td>74224</td>\n",
       "      <td>Inconnue</td>\n",
       "    </tr>\n",
       "    <tr>\n",
       "      <th>1</th>\n",
       "      <td>156023.0</td>\n",
       "      <td>Monsieur</td>\n",
       "      <td>VLG</td>\n",
       "      <td>14/05/2005</td>\n",
       "      <td>21/06/2014</td>\n",
       "      <td>30/06/2016</td>\n",
       "      <td>74189</td>\n",
       "      <td>AGE DE 46-60</td>\n",
       "    </tr>\n",
       "    <tr>\n",
       "      <th>2</th>\n",
       "      <td>124203.0</td>\n",
       "      <td>Madame</td>\n",
       "      <td>BEA</td>\n",
       "      <td>16/03/2005</td>\n",
       "      <td>12/10/2017</td>\n",
       "      <td>31/10/2018</td>\n",
       "      <td>63070</td>\n",
       "      <td>Inconnue</td>\n",
       "    </tr>\n",
       "    <tr>\n",
       "      <th>3</th>\n",
       "      <td>156190.0</td>\n",
       "      <td>Madame</td>\n",
       "      <td>SUR</td>\n",
       "      <td>28/08/2006</td>\n",
       "      <td>24/05/2015</td>\n",
       "      <td>31/05/2016</td>\n",
       "      <td>92026</td>\n",
       "      <td>Inconnue</td>\n",
       "    </tr>\n",
       "    <tr>\n",
       "      <th>4</th>\n",
       "      <td>144444.0</td>\n",
       "      <td>Monsieur</td>\n",
       "      <td>LAB</td>\n",
       "      <td>29/04/2006</td>\n",
       "      <td>18/12/2016</td>\n",
       "      <td>31/12/2017</td>\n",
       "      <td>31555</td>\n",
       "      <td>Inconnue</td>\n",
       "    </tr>\n",
       "    <tr>\n",
       "      <th>...</th>\n",
       "      <td>...</td>\n",
       "      <td>...</td>\n",
       "      <td>...</td>\n",
       "      <td>...</td>\n",
       "      <td>...</td>\n",
       "      <td>...</td>\n",
       "      <td>...</td>\n",
       "      <td>...</td>\n",
       "    </tr>\n",
       "    <tr>\n",
       "      <th>720085</th>\n",
       "      <td>1970111.0</td>\n",
       "      <td>Monsieur</td>\n",
       "      <td>IAB</td>\n",
       "      <td>14/04/2011</td>\n",
       "      <td>06/01/2018</td>\n",
       "      <td>31/01/2019</td>\n",
       "      <td>38053</td>\n",
       "      <td>Inconnue</td>\n",
       "    </tr>\n",
       "    <tr>\n",
       "      <th>720086</th>\n",
       "      <td>2297275.0</td>\n",
       "      <td>Monsieur</td>\n",
       "      <td>SEM</td>\n",
       "      <td>07/03/2013</td>\n",
       "      <td>06/01/2018</td>\n",
       "      <td>31/01/2019</td>\n",
       "      <td>57067</td>\n",
       "      <td>AGE DE 31-45</td>\n",
       "    </tr>\n",
       "    <tr>\n",
       "      <th>720087</th>\n",
       "      <td>2305548.0</td>\n",
       "      <td>Monsieur</td>\n",
       "      <td>PRI</td>\n",
       "      <td>22/03/2013</td>\n",
       "      <td>06/01/2018</td>\n",
       "      <td>31/01/2019</td>\n",
       "      <td>38318</td>\n",
       "      <td>Inconnue</td>\n",
       "    </tr>\n",
       "    <tr>\n",
       "      <th>720088</th>\n",
       "      <td>84175.0</td>\n",
       "      <td>Madame</td>\n",
       "      <td>GAI</td>\n",
       "      <td>29/10/2002</td>\n",
       "      <td>07/01/2018</td>\n",
       "      <td>31/01/2019</td>\n",
       "      <td>74082</td>\n",
       "      <td>AGE DE 61-100</td>\n",
       "    </tr>\n",
       "    <tr>\n",
       "      <th>720089</th>\n",
       "      <td>1280004.0</td>\n",
       "      <td>Monsieur</td>\n",
       "      <td>SGL</td>\n",
       "      <td>23/06/2007</td>\n",
       "      <td>07/01/2018</td>\n",
       "      <td>31/01/2019</td>\n",
       "      <td>42218</td>\n",
       "      <td>Inconnue</td>\n",
       "    </tr>\n",
       "  </tbody>\n",
       "</table>\n",
       "<p>407389 rows × 8 columns</p>\n",
       "</div>"
      ],
      "text/plain": [
       "         IDCLIENT  CIVILITE MAGASIN DATEDEBUTADHESION DATEREADHESION  \\\n",
       "0        155891.0    Madame     VLG        13/05/2005     04/04/2017   \n",
       "1        156023.0  Monsieur     VLG        14/05/2005     21/06/2014   \n",
       "2        124203.0    Madame     BEA        16/03/2005     12/10/2017   \n",
       "3        156190.0    Madame     SUR        28/08/2006     24/05/2015   \n",
       "4        144444.0  Monsieur     LAB        29/04/2006     18/12/2016   \n",
       "...           ...       ...     ...               ...            ...   \n",
       "720085  1970111.0  Monsieur     IAB        14/04/2011     06/01/2018   \n",
       "720086  2297275.0  Monsieur     SEM        07/03/2013     06/01/2018   \n",
       "720087  2305548.0  Monsieur     PRI        22/03/2013     06/01/2018   \n",
       "720088    84175.0    Madame     GAI        29/10/2002     07/01/2018   \n",
       "720089  1280004.0  Monsieur     SGL        23/06/2007     07/01/2018   \n",
       "\n",
       "       DATEFINADHESION CODEINSEE      age_group  \n",
       "0           30/04/2018     74224       Inconnue  \n",
       "1           30/06/2016     74189   AGE DE 46-60  \n",
       "2           31/10/2018     63070       Inconnue  \n",
       "3           31/05/2016     92026       Inconnue  \n",
       "4           31/12/2017     31555       Inconnue  \n",
       "...                ...       ...            ...  \n",
       "720085      31/01/2019     38053       Inconnue  \n",
       "720086      31/01/2019     57067   AGE DE 31-45  \n",
       "720087      31/01/2019     38318       Inconnue  \n",
       "720088      31/01/2019     74082  AGE DE 61-100  \n",
       "720089      31/01/2019     42218       Inconnue  \n",
       "\n",
       "[407389 rows x 8 columns]"
      ]
     },
     "execution_count": 303,
     "metadata": {},
     "output_type": "execute_result"
    }
   ],
   "source": [
    "data1"
   ]
  },
  {
   "cell_type": "markdown",
   "id": "fec18493",
   "metadata": {},
   "source": [
    "La série de codes ci-dessous nous permet de modifier le format des dates de début et de fin d'adhésion afin de calculer l'ancienneté des clients."
   ]
  },
  {
   "cell_type": "code",
   "execution_count": 304,
   "id": "f1902698",
   "metadata": {},
   "outputs": [],
   "source": [
    "import datetime\n",
    "from datetime import timedelta"
   ]
  },
  {
   "cell_type": "code",
   "execution_count": 305,
   "id": "d8bbb82f",
   "metadata": {},
   "outputs": [
    {
     "name": "stderr",
     "output_type": "stream",
     "text": [
      "C:\\Users\\belga\\AppData\\Local\\Temp\\ipykernel_24944\\1125558055.py:1: UserWarning: Parsing dates in %d/%m/%Y format when dayfirst=False (the default) was specified. Pass `dayfirst=True` or specify a format to silence this warning.\n",
      "  data1['DATEDEBUTADHESION'] = pd.to_datetime(data1['DATEDEBUTADHESION'])\n"
     ]
    }
   ],
   "source": [
    "data1['DATEDEBUTADHESION'] = pd.to_datetime(data1['DATEDEBUTADHESION'])"
   ]
  },
  {
   "cell_type": "code",
   "execution_count": 306,
   "id": "08f85c0b",
   "metadata": {},
   "outputs": [],
   "source": [
    "data1['DATEDEBUTADHESION'] = data1['DATEDEBUTADHESION'].dt.year.astype(int)"
   ]
  },
  {
   "cell_type": "code",
   "execution_count": 307,
   "id": "b0ec2ce0",
   "metadata": {},
   "outputs": [
    {
     "name": "stderr",
     "output_type": "stream",
     "text": [
      "C:\\Users\\belga\\AppData\\Local\\Temp\\ipykernel_24944\\124944321.py:1: UserWarning: Parsing dates in %d/%m/%Y format when dayfirst=False (the default) was specified. Pass `dayfirst=True` or specify a format to silence this warning.\n",
      "  data1['DATEFINADHESION'] = pd.to_datetime(data1['DATEFINADHESION'])\n"
     ]
    }
   ],
   "source": [
    "data1['DATEFINADHESION'] = pd.to_datetime(data1['DATEFINADHESION'])"
   ]
  },
  {
   "cell_type": "code",
   "execution_count": 308,
   "id": "fe335271",
   "metadata": {},
   "outputs": [],
   "source": [
    "data1['DATEFINADHESION'] = data1['DATEFINADHESION'].dt.year.astype(int)"
   ]
  },
  {
   "cell_type": "code",
   "execution_count": 309,
   "id": "a5409317",
   "metadata": {},
   "outputs": [
    {
     "name": "stdout",
     "output_type": "stream",
     "text": [
      "0    2005\n",
      "1    2005\n",
      "2    2005\n",
      "3    2006\n",
      "4    2006\n",
      "Name: DATEDEBUTADHESION, dtype: int32\n"
     ]
    }
   ],
   "source": [
    "if 'DATEDEBUTADHESION' in data1.columns:\n",
    "    Date_début = data1['DATEDEBUTADHESION']\n",
    "    print(Date_début.head())\n",
    "else:\n",
    "    print(\"La colonne 'DATEDEBUTADHESION' n'existe pas dans le DataFrame.\")"
   ]
  },
  {
   "cell_type": "code",
   "execution_count": 310,
   "id": "acd0d212",
   "metadata": {},
   "outputs": [
    {
     "name": "stdout",
     "output_type": "stream",
     "text": [
      "0    2018\n",
      "1    2016\n",
      "2    2018\n",
      "3    2016\n",
      "4    2017\n",
      "Name: DATEFINADHESION, dtype: int32\n"
     ]
    }
   ],
   "source": [
    "if 'DATEFINADHESION' in data1.columns:\n",
    "    Date_fin = data1['DATEFINADHESION']\n",
    "    print(Date_fin.head())\n",
    "else:\n",
    "    print(\"La colonne 'DATEFINADHESION' n'existe pas dans le DataFrame.\")"
   ]
  },
  {
   "cell_type": "code",
   "execution_count": 311,
   "id": "bc691a34",
   "metadata": {},
   "outputs": [],
   "source": [
    "ANCIENNETE = Date_fin - Date_début"
   ]
  },
  {
   "cell_type": "code",
   "execution_count": 312,
   "id": "b6441563",
   "metadata": {},
   "outputs": [
    {
     "name": "stdout",
     "output_type": "stream",
     "text": [
      "0         13\n",
      "1         11\n",
      "2         13\n",
      "3         10\n",
      "4         11\n",
      "          ..\n",
      "720085     8\n",
      "720086     6\n",
      "720087     6\n",
      "720088    17\n",
      "720089    12\n",
      "Length: 407389, dtype: int32\n"
     ]
    }
   ],
   "source": [
    "print(ANCIENNETE)"
   ]
  },
  {
   "cell_type": "markdown",
   "id": "1bf0007f",
   "metadata": {},
   "source": [
    "Nous allons maintenant intégrer cette variables d'ancienneté à notre jeu de données."
   ]
  },
  {
   "cell_type": "code",
   "execution_count": 313,
   "id": "b1940746",
   "metadata": {},
   "outputs": [],
   "source": [
    "data1.insert(loc=6, column='ANCIENNETE', value=ANCIENNETE)"
   ]
  },
  {
   "cell_type": "code",
   "execution_count": 314,
   "id": "da8d0664",
   "metadata": {},
   "outputs": [
    {
     "data": {
      "text/html": [
       "<div>\n",
       "<style scoped>\n",
       "    .dataframe tbody tr th:only-of-type {\n",
       "        vertical-align: middle;\n",
       "    }\n",
       "\n",
       "    .dataframe tbody tr th {\n",
       "        vertical-align: top;\n",
       "    }\n",
       "\n",
       "    .dataframe thead th {\n",
       "        text-align: right;\n",
       "    }\n",
       "</style>\n",
       "<table border=\"1\" class=\"dataframe\">\n",
       "  <thead>\n",
       "    <tr style=\"text-align: right;\">\n",
       "      <th></th>\n",
       "      <th>IDCLIENT</th>\n",
       "      <th>CIVILITE</th>\n",
       "      <th>MAGASIN</th>\n",
       "      <th>DATEDEBUTADHESION</th>\n",
       "      <th>DATEREADHESION</th>\n",
       "      <th>DATEFINADHESION</th>\n",
       "      <th>ANCIENNETE</th>\n",
       "      <th>CODEINSEE</th>\n",
       "      <th>age_group</th>\n",
       "    </tr>\n",
       "  </thead>\n",
       "  <tbody>\n",
       "    <tr>\n",
       "      <th>0</th>\n",
       "      <td>155891.0</td>\n",
       "      <td>Madame</td>\n",
       "      <td>VLG</td>\n",
       "      <td>2005</td>\n",
       "      <td>04/04/2017</td>\n",
       "      <td>2018</td>\n",
       "      <td>13</td>\n",
       "      <td>74224</td>\n",
       "      <td>Inconnue</td>\n",
       "    </tr>\n",
       "    <tr>\n",
       "      <th>1</th>\n",
       "      <td>156023.0</td>\n",
       "      <td>Monsieur</td>\n",
       "      <td>VLG</td>\n",
       "      <td>2005</td>\n",
       "      <td>21/06/2014</td>\n",
       "      <td>2016</td>\n",
       "      <td>11</td>\n",
       "      <td>74189</td>\n",
       "      <td>AGE DE 46-60</td>\n",
       "    </tr>\n",
       "    <tr>\n",
       "      <th>2</th>\n",
       "      <td>124203.0</td>\n",
       "      <td>Madame</td>\n",
       "      <td>BEA</td>\n",
       "      <td>2005</td>\n",
       "      <td>12/10/2017</td>\n",
       "      <td>2018</td>\n",
       "      <td>13</td>\n",
       "      <td>63070</td>\n",
       "      <td>Inconnue</td>\n",
       "    </tr>\n",
       "    <tr>\n",
       "      <th>3</th>\n",
       "      <td>156190.0</td>\n",
       "      <td>Madame</td>\n",
       "      <td>SUR</td>\n",
       "      <td>2006</td>\n",
       "      <td>24/05/2015</td>\n",
       "      <td>2016</td>\n",
       "      <td>10</td>\n",
       "      <td>92026</td>\n",
       "      <td>Inconnue</td>\n",
       "    </tr>\n",
       "    <tr>\n",
       "      <th>4</th>\n",
       "      <td>144444.0</td>\n",
       "      <td>Monsieur</td>\n",
       "      <td>LAB</td>\n",
       "      <td>2006</td>\n",
       "      <td>18/12/2016</td>\n",
       "      <td>2017</td>\n",
       "      <td>11</td>\n",
       "      <td>31555</td>\n",
       "      <td>Inconnue</td>\n",
       "    </tr>\n",
       "    <tr>\n",
       "      <th>...</th>\n",
       "      <td>...</td>\n",
       "      <td>...</td>\n",
       "      <td>...</td>\n",
       "      <td>...</td>\n",
       "      <td>...</td>\n",
       "      <td>...</td>\n",
       "      <td>...</td>\n",
       "      <td>...</td>\n",
       "      <td>...</td>\n",
       "    </tr>\n",
       "    <tr>\n",
       "      <th>720085</th>\n",
       "      <td>1970111.0</td>\n",
       "      <td>Monsieur</td>\n",
       "      <td>IAB</td>\n",
       "      <td>2011</td>\n",
       "      <td>06/01/2018</td>\n",
       "      <td>2019</td>\n",
       "      <td>8</td>\n",
       "      <td>38053</td>\n",
       "      <td>Inconnue</td>\n",
       "    </tr>\n",
       "    <tr>\n",
       "      <th>720086</th>\n",
       "      <td>2297275.0</td>\n",
       "      <td>Monsieur</td>\n",
       "      <td>SEM</td>\n",
       "      <td>2013</td>\n",
       "      <td>06/01/2018</td>\n",
       "      <td>2019</td>\n",
       "      <td>6</td>\n",
       "      <td>57067</td>\n",
       "      <td>AGE DE 31-45</td>\n",
       "    </tr>\n",
       "    <tr>\n",
       "      <th>720087</th>\n",
       "      <td>2305548.0</td>\n",
       "      <td>Monsieur</td>\n",
       "      <td>PRI</td>\n",
       "      <td>2013</td>\n",
       "      <td>06/01/2018</td>\n",
       "      <td>2019</td>\n",
       "      <td>6</td>\n",
       "      <td>38318</td>\n",
       "      <td>Inconnue</td>\n",
       "    </tr>\n",
       "    <tr>\n",
       "      <th>720088</th>\n",
       "      <td>84175.0</td>\n",
       "      <td>Madame</td>\n",
       "      <td>GAI</td>\n",
       "      <td>2002</td>\n",
       "      <td>07/01/2018</td>\n",
       "      <td>2019</td>\n",
       "      <td>17</td>\n",
       "      <td>74082</td>\n",
       "      <td>AGE DE 61-100</td>\n",
       "    </tr>\n",
       "    <tr>\n",
       "      <th>720089</th>\n",
       "      <td>1280004.0</td>\n",
       "      <td>Monsieur</td>\n",
       "      <td>SGL</td>\n",
       "      <td>2007</td>\n",
       "      <td>07/01/2018</td>\n",
       "      <td>2019</td>\n",
       "      <td>12</td>\n",
       "      <td>42218</td>\n",
       "      <td>Inconnue</td>\n",
       "    </tr>\n",
       "  </tbody>\n",
       "</table>\n",
       "<p>407389 rows × 9 columns</p>\n",
       "</div>"
      ],
      "text/plain": [
       "         IDCLIENT  CIVILITE MAGASIN  DATEDEBUTADHESION DATEREADHESION  \\\n",
       "0        155891.0    Madame     VLG               2005     04/04/2017   \n",
       "1        156023.0  Monsieur     VLG               2005     21/06/2014   \n",
       "2        124203.0    Madame     BEA               2005     12/10/2017   \n",
       "3        156190.0    Madame     SUR               2006     24/05/2015   \n",
       "4        144444.0  Monsieur     LAB               2006     18/12/2016   \n",
       "...           ...       ...     ...                ...            ...   \n",
       "720085  1970111.0  Monsieur     IAB               2011     06/01/2018   \n",
       "720086  2297275.0  Monsieur     SEM               2013     06/01/2018   \n",
       "720087  2305548.0  Monsieur     PRI               2013     06/01/2018   \n",
       "720088    84175.0    Madame     GAI               2002     07/01/2018   \n",
       "720089  1280004.0  Monsieur     SGL               2007     07/01/2018   \n",
       "\n",
       "        DATEFINADHESION  ANCIENNETE CODEINSEE      age_group  \n",
       "0                  2018          13     74224       Inconnue  \n",
       "1                  2016          11     74189   AGE DE 46-60  \n",
       "2                  2018          13     63070       Inconnue  \n",
       "3                  2016          10     92026       Inconnue  \n",
       "4                  2017          11     31555       Inconnue  \n",
       "...                 ...         ...       ...            ...  \n",
       "720085             2019           8     38053       Inconnue  \n",
       "720086             2019           6     57067   AGE DE 31-45  \n",
       "720087             2019           6     38318       Inconnue  \n",
       "720088             2019          17     74082  AGE DE 61-100  \n",
       "720089             2019          12     42218       Inconnue  \n",
       "\n",
       "[407389 rows x 9 columns]"
      ]
     },
     "execution_count": 314,
     "metadata": {},
     "output_type": "execute_result"
    }
   ],
   "source": [
    "data1"
   ]
  },
  {
   "cell_type": "markdown",
   "id": "8e7b3798",
   "metadata": {},
   "source": [
    "Ci-dessous, nous procédons à la suppression des dates de début et de fin d'adhésion car nous n'en avons plus besoin."
   ]
  },
  {
   "cell_type": "code",
   "execution_count": 315,
   "id": "d4c17b1c",
   "metadata": {},
   "outputs": [],
   "source": [
    "data1.drop(columns=['DATEDEBUTADHESION'], inplace=True)"
   ]
  },
  {
   "cell_type": "code",
   "execution_count": 316,
   "id": "4f31d36c",
   "metadata": {},
   "outputs": [],
   "source": [
    "data1.drop(columns=['DATEFINADHESION'], inplace=True)"
   ]
  },
  {
   "cell_type": "markdown",
   "id": "d3272d10",
   "metadata": {},
   "source": [
    "Vérification des traitements."
   ]
  },
  {
   "cell_type": "code",
   "execution_count": 331,
   "id": "bdb84bc1",
   "metadata": {},
   "outputs": [
    {
     "data": {
      "text/html": [
       "<div>\n",
       "<style scoped>\n",
       "    .dataframe tbody tr th:only-of-type {\n",
       "        vertical-align: middle;\n",
       "    }\n",
       "\n",
       "    .dataframe tbody tr th {\n",
       "        vertical-align: top;\n",
       "    }\n",
       "\n",
       "    .dataframe thead th {\n",
       "        text-align: right;\n",
       "    }\n",
       "</style>\n",
       "<table border=\"1\" class=\"dataframe\">\n",
       "  <thead>\n",
       "    <tr style=\"text-align: right;\">\n",
       "      <th></th>\n",
       "      <th>IDCLIENT</th>\n",
       "      <th>CIVILITE</th>\n",
       "      <th>MAGASIN</th>\n",
       "      <th>DATEREADHESION</th>\n",
       "      <th>ANCIENNETE</th>\n",
       "      <th>CODEINSEE</th>\n",
       "      <th>age_group</th>\n",
       "      <th>ANCIENNETE_RETRA</th>\n",
       "    </tr>\n",
       "  </thead>\n",
       "  <tbody>\n",
       "    <tr>\n",
       "      <th>0</th>\n",
       "      <td>155891.0</td>\n",
       "      <td>Madame</td>\n",
       "      <td>VLG</td>\n",
       "      <td>2017-04-04</td>\n",
       "      <td>13</td>\n",
       "      <td>74224</td>\n",
       "      <td>Inconnue</td>\n",
       "      <td>13</td>\n",
       "    </tr>\n",
       "    <tr>\n",
       "      <th>1</th>\n",
       "      <td>156023.0</td>\n",
       "      <td>Monsieur</td>\n",
       "      <td>VLG</td>\n",
       "      <td>2014-06-21</td>\n",
       "      <td>11</td>\n",
       "      <td>74189</td>\n",
       "      <td>AGE DE 46-60</td>\n",
       "      <td>11</td>\n",
       "    </tr>\n",
       "    <tr>\n",
       "      <th>2</th>\n",
       "      <td>124203.0</td>\n",
       "      <td>Madame</td>\n",
       "      <td>BEA</td>\n",
       "      <td>2017-10-12</td>\n",
       "      <td>13</td>\n",
       "      <td>63070</td>\n",
       "      <td>Inconnue</td>\n",
       "      <td>13</td>\n",
       "    </tr>\n",
       "    <tr>\n",
       "      <th>3</th>\n",
       "      <td>156190.0</td>\n",
       "      <td>Madame</td>\n",
       "      <td>SUR</td>\n",
       "      <td>2015-05-24</td>\n",
       "      <td>10</td>\n",
       "      <td>92026</td>\n",
       "      <td>Inconnue</td>\n",
       "      <td>10</td>\n",
       "    </tr>\n",
       "    <tr>\n",
       "      <th>4</th>\n",
       "      <td>144444.0</td>\n",
       "      <td>Monsieur</td>\n",
       "      <td>LAB</td>\n",
       "      <td>2016-12-18</td>\n",
       "      <td>11</td>\n",
       "      <td>31555</td>\n",
       "      <td>Inconnue</td>\n",
       "      <td>11</td>\n",
       "    </tr>\n",
       "    <tr>\n",
       "      <th>...</th>\n",
       "      <td>...</td>\n",
       "      <td>...</td>\n",
       "      <td>...</td>\n",
       "      <td>...</td>\n",
       "      <td>...</td>\n",
       "      <td>...</td>\n",
       "      <td>...</td>\n",
       "      <td>...</td>\n",
       "    </tr>\n",
       "    <tr>\n",
       "      <th>720085</th>\n",
       "      <td>1970111.0</td>\n",
       "      <td>Monsieur</td>\n",
       "      <td>IAB</td>\n",
       "      <td>2018-01-06</td>\n",
       "      <td>8</td>\n",
       "      <td>38053</td>\n",
       "      <td>Inconnue</td>\n",
       "      <td>Inconnue</td>\n",
       "    </tr>\n",
       "    <tr>\n",
       "      <th>720086</th>\n",
       "      <td>2297275.0</td>\n",
       "      <td>Monsieur</td>\n",
       "      <td>SEM</td>\n",
       "      <td>2018-01-06</td>\n",
       "      <td>6</td>\n",
       "      <td>57067</td>\n",
       "      <td>AGE DE 31-45</td>\n",
       "      <td>Inconnue</td>\n",
       "    </tr>\n",
       "    <tr>\n",
       "      <th>720087</th>\n",
       "      <td>2305548.0</td>\n",
       "      <td>Monsieur</td>\n",
       "      <td>PRI</td>\n",
       "      <td>2018-01-06</td>\n",
       "      <td>6</td>\n",
       "      <td>38318</td>\n",
       "      <td>Inconnue</td>\n",
       "      <td>Inconnue</td>\n",
       "    </tr>\n",
       "    <tr>\n",
       "      <th>720088</th>\n",
       "      <td>84175.0</td>\n",
       "      <td>Madame</td>\n",
       "      <td>GAI</td>\n",
       "      <td>2018-01-07</td>\n",
       "      <td>17</td>\n",
       "      <td>74082</td>\n",
       "      <td>AGE DE 61-100</td>\n",
       "      <td>Inconnue</td>\n",
       "    </tr>\n",
       "    <tr>\n",
       "      <th>720089</th>\n",
       "      <td>1280004.0</td>\n",
       "      <td>Monsieur</td>\n",
       "      <td>SGL</td>\n",
       "      <td>2018-01-07</td>\n",
       "      <td>12</td>\n",
       "      <td>42218</td>\n",
       "      <td>Inconnue</td>\n",
       "      <td>Inconnue</td>\n",
       "    </tr>\n",
       "  </tbody>\n",
       "</table>\n",
       "<p>407389 rows × 8 columns</p>\n",
       "</div>"
      ],
      "text/plain": [
       "         IDCLIENT  CIVILITE MAGASIN DATEREADHESION  ANCIENNETE CODEINSEE  \\\n",
       "0        155891.0    Madame     VLG     2017-04-04          13     74224   \n",
       "1        156023.0  Monsieur     VLG     2014-06-21          11     74189   \n",
       "2        124203.0    Madame     BEA     2017-10-12          13     63070   \n",
       "3        156190.0    Madame     SUR     2015-05-24          10     92026   \n",
       "4        144444.0  Monsieur     LAB     2016-12-18          11     31555   \n",
       "...           ...       ...     ...            ...         ...       ...   \n",
       "720085  1970111.0  Monsieur     IAB     2018-01-06           8     38053   \n",
       "720086  2297275.0  Monsieur     SEM     2018-01-06           6     57067   \n",
       "720087  2305548.0  Monsieur     PRI     2018-01-06           6     38318   \n",
       "720088    84175.0    Madame     GAI     2018-01-07          17     74082   \n",
       "720089  1280004.0  Monsieur     SGL     2018-01-07          12     42218   \n",
       "\n",
       "            age_group ANCIENNETE_RETRA  \n",
       "0            Inconnue               13  \n",
       "1        AGE DE 46-60               11  \n",
       "2            Inconnue               13  \n",
       "3            Inconnue               10  \n",
       "4            Inconnue               11  \n",
       "...               ...              ...  \n",
       "720085       Inconnue         Inconnue  \n",
       "720086   AGE DE 31-45         Inconnue  \n",
       "720087       Inconnue         Inconnue  \n",
       "720088  AGE DE 61-100         Inconnue  \n",
       "720089       Inconnue         Inconnue  \n",
       "\n",
       "[407389 rows x 8 columns]"
      ]
     },
     "execution_count": 331,
     "metadata": {},
     "output_type": "execute_result"
    }
   ],
   "source": [
    "data1"
   ]
  },
  {
   "cell_type": "code",
   "execution_count": 329,
   "id": "77cf8a4e",
   "metadata": {},
   "outputs": [
    {
     "name": "stdout",
     "output_type": "stream",
     "text": [
      "<class 'pandas.core.frame.DataFrame'>\n",
      "Index: 407389 entries, 0 to 720089\n",
      "Data columns (total 8 columns):\n",
      " #   Column            Non-Null Count   Dtype         \n",
      "---  ------            --------------   -----         \n",
      " 0   IDCLIENT          407389 non-null  object        \n",
      " 1   CIVILITE          407389 non-null  object        \n",
      " 2   MAGASIN           407389 non-null  object        \n",
      " 3   DATEREADHESION    407389 non-null  datetime64[ns]\n",
      " 4   ANCIENNETE        407389 non-null  int32         \n",
      " 5   CODEINSEE         407389 non-null  object        \n",
      " 6   age_group         407389 non-null  object        \n",
      " 7   ANCIENNETE_RETRA  407389 non-null  object        \n",
      "dtypes: datetime64[ns](1), int32(1), object(6)\n",
      "memory usage: 42.5+ MB\n"
     ]
    }
   ],
   "source": [
    "data1.info()"
   ]
  },
  {
   "cell_type": "markdown",
   "id": "54d91860",
   "metadata": {},
   "source": [
    "Le code ci-dessous va également nous permettre de modifier le format de la date de ré-adhésion."
   ]
  },
  {
   "cell_type": "code",
   "execution_count": 328,
   "id": "edeffe7a",
   "metadata": {},
   "outputs": [],
   "source": [
    "data1[\"DATEREADHESION\"] = pd.to_datetime(data1['DATEREADHESION'].str.strip(), format='%d/%m/%Y')"
   ]
  },
  {
   "cell_type": "markdown",
   "id": "cc249839",
   "metadata": {},
   "source": [
    "Puis, nous supprimons les dates de ré-adhésion post 2017 car le périmètre temps de notre projet de dépasse pas l'année 2017."
   ]
  },
  {
   "cell_type": "code",
   "execution_count": 330,
   "id": "3d013269",
   "metadata": {},
   "outputs": [],
   "source": [
    "data1['ANCIENNETE_RETRA'] = np.where(data1['DATEREADHESION'] >= \"01/01/2018\", 'Inconnue', data1['ANCIENNETE'])\n"
   ]
  },
  {
   "cell_type": "code",
   "execution_count": null,
   "id": "0118ff10",
   "metadata": {},
   "outputs": [],
   "source": [
    "import pip\n",
    "pip.main(['install', 'pandas'])\n",
    "pip.main(['install', 'matplotlib'])\n",
    "pip.main(['install', 'seaborn'])\n",
    "pip.main(['install', 'scikit-learn'])"
   ]
  },
  {
   "cell_type": "markdown",
   "id": "3730e678",
   "metadata": {},
   "source": [
    "Chargement des bibliothèques"
   ]
  },
  {
   "cell_type": "code",
   "execution_count": 2,
   "id": "2cc29836",
   "metadata": {},
   "outputs": [],
   "source": [
    "import pandas as pd\n",
    "import matplotlib.pyplot as plt\n",
    "import numpy as np\n",
    "import seaborn as sns\n",
    "\n",
    "from sklearn.linear_model import LogisticRegression\n",
    "from sklearn.model_selection import train_test_split\n",
    "from sklearn.datasets import make_classification\n",
    "from sklearn.metrics import roc_curve, auc\n",
    "from sklearn.metrics import accuracy_score, classification_report, confusion_matrix\n",
    "from sklearn.preprocessing import StandardScaler\n",
    "from sklearn.preprocessing import OneHotEncoder\n",
    "from sklearn.preprocessing import LabelEncoder"
   ]
  },
  {
   "cell_type": "markdown",
   "id": "e4753345",
   "metadata": {},
   "source": [
    "Chargement du jeu de données."
   ]
  },
  {
   "cell_type": "code",
   "execution_count": 7,
   "id": "39fc371c",
   "metadata": {},
   "outputs": [
    {
     "name": "stdout",
     "output_type": "stream",
     "text": [
      "(34945, 26)\n",
      "['Code', 'Libellé', 'Région', 'Département', 'Emploi total', 'Administration publique', 'Agriculture', 'Bâtiment-Travaux Publics', 'Commerce inter-entreprises', 'Conception, Recherche', 'Culture, Loisirs', 'Distribution', 'Education, Formation', 'Entretien, Réparation', 'Fabrication', 'Gestion', 'Transports, Logistique', 'Prestations Intellectuelles', 'Santé, Action Sociale', 'Services de Proximité', 'Commerce \\ninter-entreprises', 'Conception, Recherche.1', 'Culture, Loisirs.1', 'Gestion.1', 'Prestations Intellectuelles.1', 'Total']\n"
     ]
    }
   ],
   "source": [
    "dataset_path = \"C:\\\\Users\\\\belga\\\\OneDrive\\\\Bureau\\\\EMBA Big Data\\\\Module Datascience\\\\Projet Data Science S2 2024\\\\Donnees_communales_2020_INSEE.csv\"\n",
    "data6 = pd.read_csv(dataset_path, sep=';', low_memory=False,encoding='latin-1')\n",
    "print(data6.shape)\n",
    "print(list(data6.columns))"
   ]
  },
  {
   "cell_type": "markdown",
   "id": "5f3fa08c",
   "metadata": {},
   "source": [
    "La ligne de code ci-dessous nous permet de connaître le détail des colonnes ainsi que le type de données constituant notre base (numérique ou caractères)."
   ]
  },
  {
   "cell_type": "code",
   "execution_count": 8,
   "id": "bcb6d4af",
   "metadata": {},
   "outputs": [
    {
     "data": {
      "text/html": [
       "<div>\n",
       "<style scoped>\n",
       "    .dataframe tbody tr th:only-of-type {\n",
       "        vertical-align: middle;\n",
       "    }\n",
       "\n",
       "    .dataframe tbody tr th {\n",
       "        vertical-align: top;\n",
       "    }\n",
       "\n",
       "    .dataframe thead th {\n",
       "        text-align: right;\n",
       "    }\n",
       "</style>\n",
       "<table border=\"1\" class=\"dataframe\">\n",
       "  <thead>\n",
       "    <tr style=\"text-align: right;\">\n",
       "      <th></th>\n",
       "      <th>Code</th>\n",
       "      <th>Libellé</th>\n",
       "      <th>Région</th>\n",
       "      <th>Département</th>\n",
       "      <th>Emploi total</th>\n",
       "      <th>Administration publique</th>\n",
       "      <th>Agriculture</th>\n",
       "      <th>Bâtiment-Travaux Publics</th>\n",
       "      <th>Commerce inter-entreprises</th>\n",
       "      <th>Conception, Recherche</th>\n",
       "      <th>...</th>\n",
       "      <th>Transports, Logistique</th>\n",
       "      <th>Prestations Intellectuelles</th>\n",
       "      <th>Santé, Action Sociale</th>\n",
       "      <th>Services de Proximité</th>\n",
       "      <th>Commerce \\ninter-entreprises</th>\n",
       "      <th>Conception, Recherche.1</th>\n",
       "      <th>Culture, Loisirs.1</th>\n",
       "      <th>Gestion.1</th>\n",
       "      <th>Prestations Intellectuelles.1</th>\n",
       "      <th>Total</th>\n",
       "    </tr>\n",
       "  </thead>\n",
       "  <tbody>\n",
       "    <tr>\n",
       "      <th>0</th>\n",
       "      <td>1001</td>\n",
       "      <td>L'Abergement-Clémenciat</td>\n",
       "      <td>84</td>\n",
       "      <td>1</td>\n",
       "      <td>72</td>\n",
       "      <td>5</td>\n",
       "      <td>5</td>\n",
       "      <td>14</td>\n",
       "      <td>5</td>\n",
       "      <td>0</td>\n",
       "      <td>...</td>\n",
       "      <td>0</td>\n",
       "      <td>0</td>\n",
       "      <td>0</td>\n",
       "      <td>14</td>\n",
       "      <td>0</td>\n",
       "      <td>0</td>\n",
       "      <td>0</td>\n",
       "      <td>0</td>\n",
       "      <td>0</td>\n",
       "      <td>0</td>\n",
       "    </tr>\n",
       "    <tr>\n",
       "      <th>1</th>\n",
       "      <td>1002</td>\n",
       "      <td>L'Abergement-de-Varey</td>\n",
       "      <td>84</td>\n",
       "      <td>1</td>\n",
       "      <td>25</td>\n",
       "      <td>0</td>\n",
       "      <td>15</td>\n",
       "      <td>0</td>\n",
       "      <td>0</td>\n",
       "      <td>0</td>\n",
       "      <td>...</td>\n",
       "      <td>0</td>\n",
       "      <td>0</td>\n",
       "      <td>0</td>\n",
       "      <td>0</td>\n",
       "      <td>0</td>\n",
       "      <td>0</td>\n",
       "      <td>4</td>\n",
       "      <td>0</td>\n",
       "      <td>0</td>\n",
       "      <td>4</td>\n",
       "    </tr>\n",
       "    <tr>\n",
       "      <th>2</th>\n",
       "      <td>1004</td>\n",
       "      <td>Ambérieu-en-Bugey</td>\n",
       "      <td>84</td>\n",
       "      <td>1</td>\n",
       "      <td>7 697</td>\n",
       "      <td>842</td>\n",
       "      <td>23</td>\n",
       "      <td>514</td>\n",
       "      <td>229</td>\n",
       "      <td>79</td>\n",
       "      <td>...</td>\n",
       "      <td>1 017</td>\n",
       "      <td>247</td>\n",
       "      <td>808</td>\n",
       "      <td>630</td>\n",
       "      <td>46</td>\n",
       "      <td>53</td>\n",
       "      <td>42</td>\n",
       "      <td>155</td>\n",
       "      <td>84</td>\n",
       "      <td>380</td>\n",
       "    </tr>\n",
       "    <tr>\n",
       "      <th>3</th>\n",
       "      <td>1005</td>\n",
       "      <td>Ambérieux-en-Dombes</td>\n",
       "      <td>84</td>\n",
       "      <td>1</td>\n",
       "      <td>332</td>\n",
       "      <td>5</td>\n",
       "      <td>4</td>\n",
       "      <td>59</td>\n",
       "      <td>10</td>\n",
       "      <td>0</td>\n",
       "      <td>...</td>\n",
       "      <td>0</td>\n",
       "      <td>5</td>\n",
       "      <td>54</td>\n",
       "      <td>35</td>\n",
       "      <td>5</td>\n",
       "      <td>0</td>\n",
       "      <td>5</td>\n",
       "      <td>5</td>\n",
       "      <td>0</td>\n",
       "      <td>15</td>\n",
       "    </tr>\n",
       "    <tr>\n",
       "      <th>4</th>\n",
       "      <td>1006</td>\n",
       "      <td>Ambléon</td>\n",
       "      <td>84</td>\n",
       "      <td>1</td>\n",
       "      <td>5</td>\n",
       "      <td>0</td>\n",
       "      <td>0</td>\n",
       "      <td>0</td>\n",
       "      <td>0</td>\n",
       "      <td>0</td>\n",
       "      <td>...</td>\n",
       "      <td>0</td>\n",
       "      <td>0</td>\n",
       "      <td>0</td>\n",
       "      <td>0</td>\n",
       "      <td>0</td>\n",
       "      <td>0</td>\n",
       "      <td>0</td>\n",
       "      <td>0</td>\n",
       "      <td>0</td>\n",
       "      <td>0</td>\n",
       "    </tr>\n",
       "    <tr>\n",
       "      <th>...</th>\n",
       "      <td>...</td>\n",
       "      <td>...</td>\n",
       "      <td>...</td>\n",
       "      <td>...</td>\n",
       "      <td>...</td>\n",
       "      <td>...</td>\n",
       "      <td>...</td>\n",
       "      <td>...</td>\n",
       "      <td>...</td>\n",
       "      <td>...</td>\n",
       "      <td>...</td>\n",
       "      <td>...</td>\n",
       "      <td>...</td>\n",
       "      <td>...</td>\n",
       "      <td>...</td>\n",
       "      <td>...</td>\n",
       "      <td>...</td>\n",
       "      <td>...</td>\n",
       "      <td>...</td>\n",
       "      <td>...</td>\n",
       "      <td>...</td>\n",
       "    </tr>\n",
       "    <tr>\n",
       "      <th>34940</th>\n",
       "      <td>97613</td>\n",
       "      <td>M'Tsangamouji</td>\n",
       "      <td>6</td>\n",
       "      <td>976</td>\n",
       "      <td>495</td>\n",
       "      <td>128</td>\n",
       "      <td>10</td>\n",
       "      <td>77</td>\n",
       "      <td>0</td>\n",
       "      <td>0</td>\n",
       "      <td>...</td>\n",
       "      <td>15</td>\n",
       "      <td>5</td>\n",
       "      <td>15</td>\n",
       "      <td>45</td>\n",
       "      <td>0</td>\n",
       "      <td>0</td>\n",
       "      <td>0</td>\n",
       "      <td>0</td>\n",
       "      <td>0</td>\n",
       "      <td>0</td>\n",
       "    </tr>\n",
       "    <tr>\n",
       "      <th>34941</th>\n",
       "      <td>97614</td>\n",
       "      <td>Ouangani</td>\n",
       "      <td>6</td>\n",
       "      <td>976</td>\n",
       "      <td>1 254</td>\n",
       "      <td>168</td>\n",
       "      <td>67</td>\n",
       "      <td>155</td>\n",
       "      <td>0</td>\n",
       "      <td>5</td>\n",
       "      <td>...</td>\n",
       "      <td>48</td>\n",
       "      <td>13</td>\n",
       "      <td>90</td>\n",
       "      <td>105</td>\n",
       "      <td>0</td>\n",
       "      <td>3</td>\n",
       "      <td>5</td>\n",
       "      <td>10</td>\n",
       "      <td>8</td>\n",
       "      <td>25</td>\n",
       "    </tr>\n",
       "    <tr>\n",
       "      <th>34942</th>\n",
       "      <td>97615</td>\n",
       "      <td>Pamandzi</td>\n",
       "      <td>6</td>\n",
       "      <td>976</td>\n",
       "      <td>1 642</td>\n",
       "      <td>460</td>\n",
       "      <td>10</td>\n",
       "      <td>55</td>\n",
       "      <td>10</td>\n",
       "      <td>10</td>\n",
       "      <td>...</td>\n",
       "      <td>125</td>\n",
       "      <td>27</td>\n",
       "      <td>72</td>\n",
       "      <td>200</td>\n",
       "      <td>3</td>\n",
       "      <td>5</td>\n",
       "      <td>35</td>\n",
       "      <td>10</td>\n",
       "      <td>10</td>\n",
       "      <td>62</td>\n",
       "    </tr>\n",
       "    <tr>\n",
       "      <th>34943</th>\n",
       "      <td>97616</td>\n",
       "      <td>Sada</td>\n",
       "      <td>6</td>\n",
       "      <td>976</td>\n",
       "      <td>1 447</td>\n",
       "      <td>175</td>\n",
       "      <td>45</td>\n",
       "      <td>210</td>\n",
       "      <td>0</td>\n",
       "      <td>0</td>\n",
       "      <td>...</td>\n",
       "      <td>117</td>\n",
       "      <td>8</td>\n",
       "      <td>35</td>\n",
       "      <td>190</td>\n",
       "      <td>0</td>\n",
       "      <td>0</td>\n",
       "      <td>5</td>\n",
       "      <td>15</td>\n",
       "      <td>3</td>\n",
       "      <td>23</td>\n",
       "    </tr>\n",
       "    <tr>\n",
       "      <th>34944</th>\n",
       "      <td>97617</td>\n",
       "      <td>Tsingoni</td>\n",
       "      <td>6</td>\n",
       "      <td>976</td>\n",
       "      <td>2 223</td>\n",
       "      <td>399</td>\n",
       "      <td>58</td>\n",
       "      <td>391</td>\n",
       "      <td>8</td>\n",
       "      <td>24</td>\n",
       "      <td>...</td>\n",
       "      <td>120</td>\n",
       "      <td>21</td>\n",
       "      <td>92</td>\n",
       "      <td>245</td>\n",
       "      <td>0</td>\n",
       "      <td>0</td>\n",
       "      <td>3</td>\n",
       "      <td>10</td>\n",
       "      <td>3</td>\n",
       "      <td>15</td>\n",
       "    </tr>\n",
       "  </tbody>\n",
       "</table>\n",
       "<p>34945 rows × 26 columns</p>\n",
       "</div>"
      ],
      "text/plain": [
       "        Code                  Libellé  Région Département Emploi total  \\\n",
       "0       1001  L'Abergement-Clémenciat      84           1           72   \n",
       "1       1002    L'Abergement-de-Varey      84           1           25   \n",
       "2       1004        Ambérieu-en-Bugey      84           1        7 697   \n",
       "3       1005      Ambérieux-en-Dombes      84           1          332   \n",
       "4       1006                  Ambléon      84           1            5   \n",
       "...      ...                      ...     ...         ...          ...   \n",
       "34940  97613            M'Tsangamouji       6         976          495   \n",
       "34941  97614                 Ouangani       6         976        1 254   \n",
       "34942  97615                 Pamandzi       6         976        1 642   \n",
       "34943  97616                     Sada       6         976        1 447   \n",
       "34944  97617                 Tsingoni       6         976        2 223   \n",
       "\n",
       "      Administration publique Agriculture Bâtiment-Travaux Publics  \\\n",
       "0                           5           5                       14   \n",
       "1                           0          15                        0   \n",
       "2                         842          23                      514   \n",
       "3                           5           4                       59   \n",
       "4                           0           0                        0   \n",
       "...                       ...         ...                      ...   \n",
       "34940                     128          10                       77   \n",
       "34941                     168          67                      155   \n",
       "34942                     460          10                       55   \n",
       "34943                     175          45                      210   \n",
       "34944                     399          58                      391   \n",
       "\n",
       "      Commerce inter-entreprises Conception, Recherche  ...  \\\n",
       "0                              5                     0  ...   \n",
       "1                              0                     0  ...   \n",
       "2                            229                    79  ...   \n",
       "3                             10                     0  ...   \n",
       "4                              0                     0  ...   \n",
       "...                          ...                   ...  ...   \n",
       "34940                          0                     0  ...   \n",
       "34941                          0                     5  ...   \n",
       "34942                         10                    10  ...   \n",
       "34943                          0                     0  ...   \n",
       "34944                          8                    24  ...   \n",
       "\n",
       "      Transports, Logistique Prestations Intellectuelles  \\\n",
       "0                          0                           0   \n",
       "1                          0                           0   \n",
       "2                      1 017                         247   \n",
       "3                          0                           5   \n",
       "4                          0                           0   \n",
       "...                      ...                         ...   \n",
       "34940                     15                           5   \n",
       "34941                     48                          13   \n",
       "34942                    125                          27   \n",
       "34943                    117                           8   \n",
       "34944                    120                          21   \n",
       "\n",
       "      Santé, Action Sociale Services de Proximité  \\\n",
       "0                         0                    14   \n",
       "1                         0                     0   \n",
       "2                       808                   630   \n",
       "3                        54                    35   \n",
       "4                         0                     0   \n",
       "...                     ...                   ...   \n",
       "34940                    15                    45   \n",
       "34941                    90                   105   \n",
       "34942                    72                   200   \n",
       "34943                    35                   190   \n",
       "34944                    92                   245   \n",
       "\n",
       "      Commerce \\ninter-entreprises Conception, Recherche.1 Culture, Loisirs.1  \\\n",
       "0                                0                       0                  0   \n",
       "1                                0                       0                  4   \n",
       "2                               46                      53                 42   \n",
       "3                                5                       0                  5   \n",
       "4                                0                       0                  0   \n",
       "...                            ...                     ...                ...   \n",
       "34940                            0                       0                  0   \n",
       "34941                            0                       3                  5   \n",
       "34942                            3                       5                 35   \n",
       "34943                            0                       0                  5   \n",
       "34944                            0                       0                  3   \n",
       "\n",
       "      Gestion.1 Prestations Intellectuelles.1 Total  \n",
       "0             0                             0     0  \n",
       "1             0                             0     4  \n",
       "2           155                            84   380  \n",
       "3             5                             0    15  \n",
       "4             0                             0     0  \n",
       "...         ...                           ...   ...  \n",
       "34940         0                             0     0  \n",
       "34941        10                             8    25  \n",
       "34942        10                            10    62  \n",
       "34943        15                             3    23  \n",
       "34944        10                             3    15  \n",
       "\n",
       "[34945 rows x 26 columns]"
      ]
     },
     "execution_count": 8,
     "metadata": {},
     "output_type": "execute_result"
    }
   ],
   "source": [
    "data6"
   ]
  },
  {
   "cell_type": "code",
   "execution_count": 9,
   "id": "f5f30887",
   "metadata": {},
   "outputs": [
    {
     "name": "stdout",
     "output_type": "stream",
     "text": [
      "<class 'pandas.core.frame.DataFrame'>\n",
      "RangeIndex: 34945 entries, 0 to 34944\n",
      "Data columns (total 26 columns):\n",
      " #   Column                         Non-Null Count  Dtype \n",
      "---  ------                         --------------  ----- \n",
      " 0   Code                           34945 non-null  object\n",
      " 1   Libellé                        34945 non-null  object\n",
      " 2   Région                         34945 non-null  int64 \n",
      " 3   Département                    34945 non-null  object\n",
      " 4   Emploi total                   34945 non-null  object\n",
      " 5   Administration publique        34945 non-null  object\n",
      " 6   Agriculture                    34945 non-null  object\n",
      " 7   Bâtiment-Travaux Publics       34945 non-null  object\n",
      " 8   Commerce inter-entreprises     34945 non-null  object\n",
      " 9   Conception, Recherche          34945 non-null  object\n",
      " 10  Culture, Loisirs               34945 non-null  object\n",
      " 11  Distribution                   34945 non-null  object\n",
      " 12  Education, Formation           34945 non-null  object\n",
      " 13  Entretien, Réparation          34945 non-null  object\n",
      " 14  Fabrication                    34945 non-null  object\n",
      " 15  Gestion                        34945 non-null  object\n",
      " 16  Transports, Logistique         34945 non-null  object\n",
      " 17  Prestations Intellectuelles    34945 non-null  object\n",
      " 18  Santé, Action Sociale          34945 non-null  object\n",
      " 19  Services de Proximité          34945 non-null  object\n",
      " 20  Commerce \n",
      "inter-entreprises    34945 non-null  object\n",
      " 21  Conception, Recherche.1        34945 non-null  object\n",
      " 22  Culture, Loisirs.1             34945 non-null  object\n",
      " 23  Gestion.1                      34945 non-null  object\n",
      " 24  Prestations Intellectuelles.1  34945 non-null  object\n",
      " 25  Total                          34945 non-null  object\n",
      "dtypes: int64(1), object(25)\n",
      "memory usage: 6.9+ MB\n"
     ]
    }
   ],
   "source": [
    "data6.info()"
   ]
  },
  {
   "cell_type": "markdown",
   "id": "9a9f877c",
   "metadata": {},
   "source": [
    "Afin d'exploiter de façon optimale les informations, nous allons convetir les codes postaux en caractère. Nous n'avons pas nécessité à conserver ces valeurs en numérique."
   ]
  },
  {
   "cell_type": "code",
   "execution_count": 10,
   "id": "f3ad39f5",
   "metadata": {},
   "outputs": [],
   "source": [
    "data6['Région'] = data6['Région'].astype(str)"
   ]
  },
  {
   "cell_type": "markdown",
   "id": "250ad3bf",
   "metadata": {},
   "source": [
    "Vérification du traitement"
   ]
  },
  {
   "cell_type": "code",
   "execution_count": 11,
   "id": "15ed6218",
   "metadata": {},
   "outputs": [
    {
     "name": "stdout",
     "output_type": "stream",
     "text": [
      "<class 'pandas.core.frame.DataFrame'>\n",
      "RangeIndex: 34945 entries, 0 to 34944\n",
      "Data columns (total 26 columns):\n",
      " #   Column                         Non-Null Count  Dtype \n",
      "---  ------                         --------------  ----- \n",
      " 0   Code                           34945 non-null  object\n",
      " 1   Libellé                        34945 non-null  object\n",
      " 2   Région                         34945 non-null  object\n",
      " 3   Département                    34945 non-null  object\n",
      " 4   Emploi total                   34945 non-null  object\n",
      " 5   Administration publique        34945 non-null  object\n",
      " 6   Agriculture                    34945 non-null  object\n",
      " 7   Bâtiment-Travaux Publics       34945 non-null  object\n",
      " 8   Commerce inter-entreprises     34945 non-null  object\n",
      " 9   Conception, Recherche          34945 non-null  object\n",
      " 10  Culture, Loisirs               34945 non-null  object\n",
      " 11  Distribution                   34945 non-null  object\n",
      " 12  Education, Formation           34945 non-null  object\n",
      " 13  Entretien, Réparation          34945 non-null  object\n",
      " 14  Fabrication                    34945 non-null  object\n",
      " 15  Gestion                        34945 non-null  object\n",
      " 16  Transports, Logistique         34945 non-null  object\n",
      " 17  Prestations Intellectuelles    34945 non-null  object\n",
      " 18  Santé, Action Sociale          34945 non-null  object\n",
      " 19  Services de Proximité          34945 non-null  object\n",
      " 20  Commerce \n",
      "inter-entreprises    34945 non-null  object\n",
      " 21  Conception, Recherche.1        34945 non-null  object\n",
      " 22  Culture, Loisirs.1             34945 non-null  object\n",
      " 23  Gestion.1                      34945 non-null  object\n",
      " 24  Prestations Intellectuelles.1  34945 non-null  object\n",
      " 25  Total                          34945 non-null  object\n",
      "dtypes: object(26)\n",
      "memory usage: 6.9+ MB\n"
     ]
    }
   ],
   "source": [
    "data6.info()"
   ]
  },
  {
   "cell_type": "markdown",
   "id": "0b2655c8",
   "metadata": {},
   "source": [
    "Suppression des colonnes dont les informations nous serons pas nécessairement utiles dans le cadre de notre projet."
   ]
  },
  {
   "cell_type": "markdown",
   "id": "2dceaac6",
   "metadata": {},
   "source": [
    "La ligne de code ci-dessous nous permet d'identifier les valeurs en doublons qui conviendra de traiter."
   ]
  },
  {
   "cell_type": "code",
   "execution_count": 12,
   "id": "a7eb30ea",
   "metadata": {},
   "outputs": [
    {
     "name": "stdout",
     "output_type": "stream",
     "text": [
      "0\n"
     ]
    }
   ],
   "source": [
    "print(data6.duplicated().sum())\n",
    "data6 = data6.drop_duplicates()"
   ]
  },
  {
   "cell_type": "markdown",
   "id": "6fe81651",
   "metadata": {},
   "source": [
    "Nous procédons également à la vérification de présence ou non de valeurs manquantes."
   ]
  },
  {
   "cell_type": "code",
   "execution_count": 13,
   "id": "5a4e0554",
   "metadata": {},
   "outputs": [
    {
     "data": {
      "text/html": [
       "<div>\n",
       "<style scoped>\n",
       "    .dataframe tbody tr th:only-of-type {\n",
       "        vertical-align: middle;\n",
       "    }\n",
       "\n",
       "    .dataframe tbody tr th {\n",
       "        vertical-align: top;\n",
       "    }\n",
       "\n",
       "    .dataframe thead th {\n",
       "        text-align: right;\n",
       "    }\n",
       "</style>\n",
       "<table border=\"1\" class=\"dataframe\">\n",
       "  <thead>\n",
       "    <tr style=\"text-align: right;\">\n",
       "      <th></th>\n",
       "      <th>%_missing_values</th>\n",
       "    </tr>\n",
       "  </thead>\n",
       "  <tbody>\n",
       "    <tr>\n",
       "      <th>Code</th>\n",
       "      <td>0.0</td>\n",
       "    </tr>\n",
       "    <tr>\n",
       "      <th>Libellé</th>\n",
       "      <td>0.0</td>\n",
       "    </tr>\n",
       "    <tr>\n",
       "      <th>Région</th>\n",
       "      <td>0.0</td>\n",
       "    </tr>\n",
       "    <tr>\n",
       "      <th>Département</th>\n",
       "      <td>0.0</td>\n",
       "    </tr>\n",
       "    <tr>\n",
       "      <th>Emploi total</th>\n",
       "      <td>0.0</td>\n",
       "    </tr>\n",
       "    <tr>\n",
       "      <th>Administration publique</th>\n",
       "      <td>0.0</td>\n",
       "    </tr>\n",
       "    <tr>\n",
       "      <th>Agriculture</th>\n",
       "      <td>0.0</td>\n",
       "    </tr>\n",
       "    <tr>\n",
       "      <th>Bâtiment-Travaux Publics</th>\n",
       "      <td>0.0</td>\n",
       "    </tr>\n",
       "    <tr>\n",
       "      <th>Commerce inter-entreprises</th>\n",
       "      <td>0.0</td>\n",
       "    </tr>\n",
       "    <tr>\n",
       "      <th>Conception, Recherche</th>\n",
       "      <td>0.0</td>\n",
       "    </tr>\n",
       "    <tr>\n",
       "      <th>Culture, Loisirs</th>\n",
       "      <td>0.0</td>\n",
       "    </tr>\n",
       "    <tr>\n",
       "      <th>Distribution</th>\n",
       "      <td>0.0</td>\n",
       "    </tr>\n",
       "    <tr>\n",
       "      <th>Education, Formation</th>\n",
       "      <td>0.0</td>\n",
       "    </tr>\n",
       "    <tr>\n",
       "      <th>Entretien, Réparation</th>\n",
       "      <td>0.0</td>\n",
       "    </tr>\n",
       "    <tr>\n",
       "      <th>Fabrication</th>\n",
       "      <td>0.0</td>\n",
       "    </tr>\n",
       "    <tr>\n",
       "      <th>Gestion</th>\n",
       "      <td>0.0</td>\n",
       "    </tr>\n",
       "    <tr>\n",
       "      <th>Transports, Logistique</th>\n",
       "      <td>0.0</td>\n",
       "    </tr>\n",
       "    <tr>\n",
       "      <th>Prestations Intellectuelles</th>\n",
       "      <td>0.0</td>\n",
       "    </tr>\n",
       "    <tr>\n",
       "      <th>Santé, Action Sociale</th>\n",
       "      <td>0.0</td>\n",
       "    </tr>\n",
       "    <tr>\n",
       "      <th>Services de Proximité</th>\n",
       "      <td>0.0</td>\n",
       "    </tr>\n",
       "    <tr>\n",
       "      <th>Commerce \\ninter-entreprises</th>\n",
       "      <td>0.0</td>\n",
       "    </tr>\n",
       "    <tr>\n",
       "      <th>Conception, Recherche.1</th>\n",
       "      <td>0.0</td>\n",
       "    </tr>\n",
       "    <tr>\n",
       "      <th>Culture, Loisirs.1</th>\n",
       "      <td>0.0</td>\n",
       "    </tr>\n",
       "    <tr>\n",
       "      <th>Gestion.1</th>\n",
       "      <td>0.0</td>\n",
       "    </tr>\n",
       "    <tr>\n",
       "      <th>Prestations Intellectuelles.1</th>\n",
       "      <td>0.0</td>\n",
       "    </tr>\n",
       "    <tr>\n",
       "      <th>Total</th>\n",
       "      <td>0.0</td>\n",
       "    </tr>\n",
       "  </tbody>\n",
       "</table>\n",
       "</div>"
      ],
      "text/plain": [
       "                               %_missing_values\n",
       "Code                                        0.0\n",
       "Libellé                                     0.0\n",
       "Région                                      0.0\n",
       "Département                                 0.0\n",
       "Emploi total                                0.0\n",
       "Administration publique                     0.0\n",
       "Agriculture                                 0.0\n",
       "Bâtiment-Travaux Publics                    0.0\n",
       "Commerce inter-entreprises                  0.0\n",
       "Conception, Recherche                       0.0\n",
       "Culture, Loisirs                            0.0\n",
       "Distribution                                0.0\n",
       "Education, Formation                        0.0\n",
       "Entretien, Réparation                       0.0\n",
       "Fabrication                                 0.0\n",
       "Gestion                                     0.0\n",
       "Transports, Logistique                      0.0\n",
       "Prestations Intellectuelles                 0.0\n",
       "Santé, Action Sociale                       0.0\n",
       "Services de Proximité                       0.0\n",
       "Commerce \\ninter-entreprises                0.0\n",
       "Conception, Recherche.1                     0.0\n",
       "Culture, Loisirs.1                          0.0\n",
       "Gestion.1                                   0.0\n",
       "Prestations Intellectuelles.1               0.0\n",
       "Total                                       0.0"
      ]
     },
     "execution_count": 13,
     "metadata": {},
     "output_type": "execute_result"
    }
   ],
   "source": [
    "pd.DataFrame(index=data6.columns, columns=['%_missing_values'], data= (data6.isna().sum().values / len(data6)*100))"
   ]
  },
  {
   "cell_type": "markdown",
   "id": "741400cc",
   "metadata": {},
   "source": [
    "Le traitement des valeurs aberrantes ne concernant que les variables numériques, nous n'allons pas procéder à ce traitement car aucune de nos variables n'est concernées sur ce dataframe."
   ]
  }
 ],
 "metadata": {
  "language_info": {
   "name": "python"
  }
 },
 "nbformat": 4,
 "nbformat_minor": 5
}
