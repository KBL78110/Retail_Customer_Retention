{
 "cells": [
  {
   "cell_type": "code",
   "id": "initial_id",
   "metadata": {
    "collapsed": true,
    "ExecuteTime": {
     "end_time": "2024-05-30T09:02:14.231237Z",
     "start_time": "2024-05-30T09:02:14.226719Z"
    }
   },
   "source": [
    "import pandas as pd\n",
    "import matplotlib.pyplot as plt\n",
    "import numpy as np\n",
    "import seaborn as sns\n",
    "import missingno as msno\n",
    "from sklearn.experimental import enable_iterative_imputer\n",
    "from sklearn.impute import MissingIndicator, KNNImputer,SimpleImputer\n",
    "from sklearn.impute import IterativeImputer\n",
    "from sklearn.linear_model import LogisticRegression\n",
    "from sklearn.model_selection import train_test_split\n",
    "from sklearn.datasets import make_classification\n",
    "from sklearn.metrics import roc_curve, auc\n",
    "from sklearn.metrics import accuracy_score, classification_report, confusion_matrix\n",
    "from sklearn.preprocessing import StandardScaler\n",
    "from sklearn.preprocessing import OneHotEncoder\n",
    "from sklearn.preprocessing import LabelEncoder"
   ],
   "outputs": [],
   "execution_count": 9
  },
  {
   "metadata": {
    "ExecuteTime": {
     "end_time": "2024-05-30T09:03:32.740181Z",
     "start_time": "2024-05-30T09:03:32.717413Z"
    }
   },
   "cell_type": "code",
   "source": [
    "import nbformat as nbf\n",
    "\n",
    "def merge_notebooks(filenames):\n",
    "    merged_notebook = nbf.v4.new_notebook()\n",
    "    for filename in filenames:\n",
    "        with open(filename, 'r', encoding='utf-8') as f:\n",
    "            notebook = nbf.read(f, as_version=4)\n",
    "            merged_notebook.cells.extend(notebook.cells)\n",
    "    return merged_notebook\n",
    "\n",
    "notebooks_to_merge = [\"merged_Notebook GLOBAL TICKET Botanic_F.ipynb\", \"Notebook REF_ARTICLE Botanic1.ipynb\"]\n",
    "merged_notebook = merge_notebooks(notebooks_to_merge)\n",
    "\n",
    "output_filename = \"Merged_NOTEBOOK_GLOBAL_ARTICLE_TICKET.ipynb\"\n",
    "\n",
    "with open(output_filename, \"w\", encoding='utf-8') as f:\n",
    "    nbf.write(merged_notebook, f)\n",
    "\n",
    "print(f\"Notebooks merged into {output_filename}\")"
   ],
   "id": "456a491c3a2a1c31",
   "outputs": [
    {
     "name": "stdout",
     "output_type": "stream",
     "text": [
      "Notebooks merged into Merged_NOTEBOOK_GLOBAL_ARTICLE_TICKET.ipynb\n"
     ]
    }
   ],
   "execution_count": 11
  },
  {
   "metadata": {},
   "cell_type": "code",
   "outputs": [],
   "execution_count": null,
   "source": "",
   "id": "e686252f85d3cf8f"
  }
 ],
 "metadata": {
  "kernelspec": {
   "display_name": "Python 3",
   "language": "python",
   "name": "python3"
  },
  "language_info": {
   "codemirror_mode": {
    "name": "ipython",
    "version": 2
   },
   "file_extension": ".py",
   "mimetype": "text/x-python",
   "name": "python",
   "nbconvert_exporter": "python",
   "pygments_lexer": "ipython2",
   "version": "2.7.6"
  }
 },
 "nbformat": 4,
 "nbformat_minor": 5
}
