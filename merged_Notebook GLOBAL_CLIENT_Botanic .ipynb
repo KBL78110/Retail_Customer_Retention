{
 "cells": [
  {
   "cell_type": "markdown",
   "id": "d5711c7e",
   "metadata": {},
   "source": [
    "CHARGEMENT DES BIBLIOTHEQUES"
   ]
  },
  {
   "cell_type": "code",
   "execution_count": 48,
   "id": "0bbf32e2",
   "metadata": {
    "ExecuteTime": {
     "end_time": "2024-05-28T08:25:03.648345Z",
     "start_time": "2024-05-28T08:25:03.645428Z"
    },
    "pycharm": {
     "is_executing": true
    },
    "tags": []
   },
   "outputs": [],
   "source": [
    "import pandas as pd\n",
    "import matplotlib.pyplot as plt\n",
    "import numpy as np\n",
    "import seaborn as sns\n",
    "import missingno as msno\n",
    "from sklearn.experimental import enable_iterative_imputer\n",
    "from sklearn.impute import MissingIndicator, KNNImputer,SimpleImputer\n",
    "from sklearn.impute import IterativeImputer\n",
    "from sklearn.linear_model import LogisticRegression\n",
    "from sklearn.model_selection import train_test_split\n",
    "from sklearn.datasets import make_classification\n",
    "from sklearn.metrics import roc_curve, auc\n",
    "from sklearn.metrics import accuracy_score, classification_report, confusion_matrix\n",
    "from sklearn.preprocessing import StandardScaler\n",
    "from sklearn.preprocessing import OneHotEncoder\n",
    "from sklearn.preprocessing import LabelEncoder\n"
   ]
  },
  {
   "cell_type": "markdown",
   "id": "5bf059b2",
   "metadata": {},
   "source": [
    "CHARGEMENT DU JEU DE DONNEES"
   ]
  },
  {
   "cell_type": "code",
   "execution_count": 49,
   "id": "93078b72",
   "metadata": {
    "ExecuteTime": {
     "end_time": "2024-05-28T08:25:06.704989Z",
     "start_time": "2024-05-28T08:25:06.223117Z"
    }
   },
   "outputs": [
    {
     "name": "stdout",
     "output_type": "stream",
     "text": [
      "(845876, 10)\n",
      "['IDCLIENT', 'CIVILITE', 'DATENAISSANCE', 'MAGASIN', 'DATEDEBUTADHESION', 'DATEREADHESION', 'DATEFINADHESION', 'VIP', 'CODEINSEE', 'PAYS']\n"
     ]
    }
   ],
   "source": [
    "data1 = pd.read_csv(\"CLIENT.csv\", sep='|', low_memory=False)\n",
    "print(data1.shape)\n",
    "print(list(data1.columns))"
   ]
  },
  {
   "cell_type": "markdown",
   "id": "51e0416c",
   "metadata": {},
   "source": [
    "La ligne de code ci-dessous nous permet de connaître le détail des colonnes ainsi que le type de données constituant notre base (numérique ou caractères)."
   ]
  },
  {
   "cell_type": "code",
   "execution_count": 50,
   "id": "ccb4ee33",
   "metadata": {
    "ExecuteTime": {
     "end_time": "2024-05-28T08:25:18.567138Z",
     "start_time": "2024-05-28T08:25:18.560863Z"
    }
   },
   "outputs": [
    {
     "data": {
      "text/html": [
       "<div>\n",
       "<style scoped>\n",
       "    .dataframe tbody tr th:only-of-type {\n",
       "        vertical-align: middle;\n",
       "    }\n",
       "\n",
       "    .dataframe tbody tr th {\n",
       "        vertical-align: top;\n",
       "    }\n",
       "\n",
       "    .dataframe thead th {\n",
       "        text-align: right;\n",
       "    }\n",
       "</style>\n",
       "<table border=\"1\" class=\"dataframe\">\n",
       "  <thead>\n",
       "    <tr style=\"text-align: right;\">\n",
       "      <th></th>\n",
       "      <th>IDCLIENT</th>\n",
       "      <th>CIVILITE</th>\n",
       "      <th>DATENAISSANCE</th>\n",
       "      <th>MAGASIN</th>\n",
       "      <th>DATEDEBUTADHESION</th>\n",
       "      <th>DATEREADHESION</th>\n",
       "      <th>DATEFINADHESION</th>\n",
       "      <th>VIP</th>\n",
       "      <th>CODEINSEE</th>\n",
       "      <th>PAYS</th>\n",
       "    </tr>\n",
       "  </thead>\n",
       "  <tbody>\n",
       "    <tr>\n",
       "      <th>0</th>\n",
       "      <td>155891.0</td>\n",
       "      <td>MADAME</td>\n",
       "      <td>NaN</td>\n",
       "      <td>VLG</td>\n",
       "      <td>13/05/2005 0:00:00</td>\n",
       "      <td>4/04/2017 0:00:00</td>\n",
       "      <td>30/04/2018 0:00:00</td>\n",
       "      <td>0</td>\n",
       "      <td>74224</td>\n",
       "      <td>FR</td>\n",
       "    </tr>\n",
       "    <tr>\n",
       "      <th>1</th>\n",
       "      <td>156023.0</td>\n",
       "      <td>MONSIEUR</td>\n",
       "      <td>7/08/1966 0:00:00</td>\n",
       "      <td>VLG</td>\n",
       "      <td>14/05/2005 0:00:00</td>\n",
       "      <td>21/06/2014 0:00:00</td>\n",
       "      <td>30/06/2016 0:00:00</td>\n",
       "      <td>0</td>\n",
       "      <td>74189</td>\n",
       "      <td>FR</td>\n",
       "    </tr>\n",
       "    <tr>\n",
       "      <th>2</th>\n",
       "      <td>124203.0</td>\n",
       "      <td>MADAME</td>\n",
       "      <td>NaN</td>\n",
       "      <td>BEA</td>\n",
       "      <td>16/03/2005 0:00:00</td>\n",
       "      <td>12/10/2017 0:00:00</td>\n",
       "      <td>31/10/2018 0:00:00</td>\n",
       "      <td>0</td>\n",
       "      <td>63070</td>\n",
       "      <td>FR</td>\n",
       "    </tr>\n",
       "    <tr>\n",
       "      <th>3</th>\n",
       "      <td>156190.0</td>\n",
       "      <td>MADAME</td>\n",
       "      <td>24/07/1976 0:00:00</td>\n",
       "      <td>SUR</td>\n",
       "      <td>28/08/2006 0:00:00</td>\n",
       "      <td>24/05/2015 0:00:00</td>\n",
       "      <td>31/05/2016 0:00:00</td>\n",
       "      <td>0</td>\n",
       "      <td>92026</td>\n",
       "      <td>FR</td>\n",
       "    </tr>\n",
       "    <tr>\n",
       "      <th>4</th>\n",
       "      <td>144444.0</td>\n",
       "      <td>MONSIEUR</td>\n",
       "      <td>NaN</td>\n",
       "      <td>LAB</td>\n",
       "      <td>29/04/2006 0:00:00</td>\n",
       "      <td>18/12/2016 0:00:00</td>\n",
       "      <td>31/12/2017 0:00:00</td>\n",
       "      <td>0</td>\n",
       "      <td>31555</td>\n",
       "      <td>FR</td>\n",
       "    </tr>\n",
       "    <tr>\n",
       "      <th>...</th>\n",
       "      <td>...</td>\n",
       "      <td>...</td>\n",
       "      <td>...</td>\n",
       "      <td>...</td>\n",
       "      <td>...</td>\n",
       "      <td>...</td>\n",
       "      <td>...</td>\n",
       "      <td>...</td>\n",
       "      <td>...</td>\n",
       "      <td>...</td>\n",
       "    </tr>\n",
       "    <tr>\n",
       "      <th>845871</th>\n",
       "      <td>1970111.0</td>\n",
       "      <td>MONSIEUR</td>\n",
       "      <td>NaN</td>\n",
       "      <td>IAB</td>\n",
       "      <td>14/04/2011 0:00:00</td>\n",
       "      <td>6/01/2018 0:00:00</td>\n",
       "      <td>31/01/2019 0:00:00</td>\n",
       "      <td>0</td>\n",
       "      <td>38053</td>\n",
       "      <td>FR</td>\n",
       "    </tr>\n",
       "    <tr>\n",
       "      <th>845872</th>\n",
       "      <td>2297275.0</td>\n",
       "      <td>MONSIEUR</td>\n",
       "      <td>6/02/1988 0:00:00</td>\n",
       "      <td>SEM</td>\n",
       "      <td>7/03/2013 0:00:00</td>\n",
       "      <td>6/01/2018 0:00:00</td>\n",
       "      <td>31/01/2019 0:00:00</td>\n",
       "      <td>0</td>\n",
       "      <td>57067</td>\n",
       "      <td>FR</td>\n",
       "    </tr>\n",
       "    <tr>\n",
       "      <th>845873</th>\n",
       "      <td>2305548.0</td>\n",
       "      <td>MONSIEUR</td>\n",
       "      <td>NaN</td>\n",
       "      <td>PRI</td>\n",
       "      <td>22/03/2013 0:00:00</td>\n",
       "      <td>6/01/2018 0:00:00</td>\n",
       "      <td>31/01/2019 0:00:00</td>\n",
       "      <td>0</td>\n",
       "      <td>38318</td>\n",
       "      <td>FR</td>\n",
       "    </tr>\n",
       "    <tr>\n",
       "      <th>845874</th>\n",
       "      <td>84175.0</td>\n",
       "      <td>MADAME</td>\n",
       "      <td>7/04/1950 0:00:00</td>\n",
       "      <td>GAI</td>\n",
       "      <td>29/10/2002 0:00:00</td>\n",
       "      <td>7/01/2018 0:00:00</td>\n",
       "      <td>31/01/2019 0:00:00</td>\n",
       "      <td>0</td>\n",
       "      <td>74082</td>\n",
       "      <td>FR</td>\n",
       "    </tr>\n",
       "    <tr>\n",
       "      <th>845875</th>\n",
       "      <td>1280004.0</td>\n",
       "      <td>MONSIEUR</td>\n",
       "      <td>NaN</td>\n",
       "      <td>SGL</td>\n",
       "      <td>23/06/2007 0:00:00</td>\n",
       "      <td>7/01/2018 0:00:00</td>\n",
       "      <td>31/01/2019 0:00:00</td>\n",
       "      <td>0</td>\n",
       "      <td>42218</td>\n",
       "      <td>FR</td>\n",
       "    </tr>\n",
       "  </tbody>\n",
       "</table>\n",
       "<p>845876 rows × 10 columns</p>\n",
       "</div>"
      ],
      "text/plain": [
       "         IDCLIENT  CIVILITE       DATENAISSANCE MAGASIN   DATEDEBUTADHESION  \\\n",
       "0        155891.0    MADAME                 NaN     VLG  13/05/2005 0:00:00   \n",
       "1        156023.0  MONSIEUR   7/08/1966 0:00:00     VLG  14/05/2005 0:00:00   \n",
       "2        124203.0    MADAME                 NaN     BEA  16/03/2005 0:00:00   \n",
       "3        156190.0    MADAME  24/07/1976 0:00:00     SUR  28/08/2006 0:00:00   \n",
       "4        144444.0  MONSIEUR                 NaN     LAB  29/04/2006 0:00:00   \n",
       "...           ...       ...                 ...     ...                 ...   \n",
       "845871  1970111.0  MONSIEUR                 NaN     IAB  14/04/2011 0:00:00   \n",
       "845872  2297275.0  MONSIEUR   6/02/1988 0:00:00     SEM   7/03/2013 0:00:00   \n",
       "845873  2305548.0  MONSIEUR                 NaN     PRI  22/03/2013 0:00:00   \n",
       "845874    84175.0    MADAME   7/04/1950 0:00:00     GAI  29/10/2002 0:00:00   \n",
       "845875  1280004.0  MONSIEUR                 NaN     SGL  23/06/2007 0:00:00   \n",
       "\n",
       "            DATEREADHESION     DATEFINADHESION  VIP CODEINSEE PAYS  \n",
       "0        4/04/2017 0:00:00  30/04/2018 0:00:00    0     74224   FR  \n",
       "1       21/06/2014 0:00:00  30/06/2016 0:00:00    0     74189   FR  \n",
       "2       12/10/2017 0:00:00  31/10/2018 0:00:00    0     63070   FR  \n",
       "3       24/05/2015 0:00:00  31/05/2016 0:00:00    0     92026   FR  \n",
       "4       18/12/2016 0:00:00  31/12/2017 0:00:00    0     31555   FR  \n",
       "...                    ...                 ...  ...       ...  ...  \n",
       "845871   6/01/2018 0:00:00  31/01/2019 0:00:00    0     38053   FR  \n",
       "845872   6/01/2018 0:00:00  31/01/2019 0:00:00    0     57067   FR  \n",
       "845873   6/01/2018 0:00:00  31/01/2019 0:00:00    0     38318   FR  \n",
       "845874   7/01/2018 0:00:00  31/01/2019 0:00:00    0     74082   FR  \n",
       "845875   7/01/2018 0:00:00  31/01/2019 0:00:00    0     42218   FR  \n",
       "\n",
       "[845876 rows x 10 columns]"
      ]
     },
     "execution_count": 50,
     "metadata": {},
     "output_type": "execute_result"
    }
   ],
   "source": [
    "data1"
   ]
  },
  {
   "cell_type": "code",
   "execution_count": 51,
   "id": "fa8125e1",
   "metadata": {
    "ExecuteTime": {
     "end_time": "2024-05-28T08:25:20.181809Z",
     "start_time": "2024-05-28T08:25:20.086165Z"
    }
   },
   "outputs": [
    {
     "name": "stdout",
     "output_type": "stream",
     "text": [
      "<class 'pandas.core.frame.DataFrame'>\n",
      "RangeIndex: 845876 entries, 0 to 845875\n",
      "Data columns (total 10 columns):\n",
      " #   Column             Non-Null Count   Dtype  \n",
      "---  ------             --------------   -----  \n",
      " 0   IDCLIENT           845876 non-null  float64\n",
      " 1   CIVILITE           845876 non-null  object \n",
      " 2   DATENAISSANCE      507902 non-null  object \n",
      " 3   MAGASIN            845876 non-null  object \n",
      " 4   DATEDEBUTADHESION  845876 non-null  object \n",
      " 5   DATEREADHESION     507816 non-null  object \n",
      " 6   DATEFINADHESION    845876 non-null  object \n",
      " 7   VIP                845876 non-null  int64  \n",
      " 8   CODEINSEE          818455 non-null  object \n",
      " 9   PAYS               845873 non-null  object \n",
      "dtypes: float64(1), int64(1), object(8)\n",
      "memory usage: 64.5+ MB\n",
      "None\n"
     ]
    }
   ],
   "source": [
    "print(data1.info())"
   ]
  },
  {
   "cell_type": "markdown",
   "id": "64bfb163",
   "metadata": {},
   "source": [
    "Nous allons procéder à la suppression des clients VIP, qui ont un comportement atypique qui viendra biaiser nos résultats."
   ]
  },
  {
   "cell_type": "code",
   "execution_count": 52,
   "id": "60d953d0",
   "metadata": {
    "ExecuteTime": {
     "end_time": "2024-05-28T08:25:21.569516Z",
     "start_time": "2024-05-28T08:25:21.538713Z"
    }
   },
   "outputs": [
    {
     "name": "stdout",
     "output_type": "stream",
     "text": [
      "(735425, 10)\n"
     ]
    }
   ],
   "source": [
    "# Supprimer les lignes où la valeur de la colonne 'VIP' est égale à 1\n",
    "data1 = data1[data1['VIP'] != 1]\n",
    "\n",
    "# Vérifier la nouvelle forme du DataFrame\n",
    "print(data1.shape)"
   ]
  },
  {
   "cell_type": "code",
   "execution_count": 53,
   "id": "b06b7386",
   "metadata": {
    "ExecuteTime": {
     "end_time": "2024-05-28T08:25:22.417537Z",
     "start_time": "2024-05-28T08:25:22.383139Z"
    }
   },
   "outputs": [],
   "source": [
    "data1 = data1.drop(\"VIP\",axis=1)"
   ]
  },
  {
   "cell_type": "markdown",
   "id": "3c0fa210",
   "metadata": {},
   "source": [
    "Vérification du traitement."
   ]
  },
  {
   "cell_type": "code",
   "execution_count": 54,
   "id": "a4807d45",
   "metadata": {
    "ExecuteTime": {
     "end_time": "2024-05-28T08:25:23.645840Z",
     "start_time": "2024-05-28T08:25:23.640691Z"
    }
   },
   "outputs": [
    {
     "data": {
      "text/html": [
       "<div>\n",
       "<style scoped>\n",
       "    .dataframe tbody tr th:only-of-type {\n",
       "        vertical-align: middle;\n",
       "    }\n",
       "\n",
       "    .dataframe tbody tr th {\n",
       "        vertical-align: top;\n",
       "    }\n",
       "\n",
       "    .dataframe thead th {\n",
       "        text-align: right;\n",
       "    }\n",
       "</style>\n",
       "<table border=\"1\" class=\"dataframe\">\n",
       "  <thead>\n",
       "    <tr style=\"text-align: right;\">\n",
       "      <th></th>\n",
       "      <th>IDCLIENT</th>\n",
       "      <th>CIVILITE</th>\n",
       "      <th>DATENAISSANCE</th>\n",
       "      <th>MAGASIN</th>\n",
       "      <th>DATEDEBUTADHESION</th>\n",
       "      <th>DATEREADHESION</th>\n",
       "      <th>DATEFINADHESION</th>\n",
       "      <th>CODEINSEE</th>\n",
       "      <th>PAYS</th>\n",
       "    </tr>\n",
       "  </thead>\n",
       "  <tbody>\n",
       "    <tr>\n",
       "      <th>0</th>\n",
       "      <td>155891.0</td>\n",
       "      <td>MADAME</td>\n",
       "      <td>NaN</td>\n",
       "      <td>VLG</td>\n",
       "      <td>13/05/2005 0:00:00</td>\n",
       "      <td>4/04/2017 0:00:00</td>\n",
       "      <td>30/04/2018 0:00:00</td>\n",
       "      <td>74224</td>\n",
       "      <td>FR</td>\n",
       "    </tr>\n",
       "    <tr>\n",
       "      <th>1</th>\n",
       "      <td>156023.0</td>\n",
       "      <td>MONSIEUR</td>\n",
       "      <td>7/08/1966 0:00:00</td>\n",
       "      <td>VLG</td>\n",
       "      <td>14/05/2005 0:00:00</td>\n",
       "      <td>21/06/2014 0:00:00</td>\n",
       "      <td>30/06/2016 0:00:00</td>\n",
       "      <td>74189</td>\n",
       "      <td>FR</td>\n",
       "    </tr>\n",
       "    <tr>\n",
       "      <th>2</th>\n",
       "      <td>124203.0</td>\n",
       "      <td>MADAME</td>\n",
       "      <td>NaN</td>\n",
       "      <td>BEA</td>\n",
       "      <td>16/03/2005 0:00:00</td>\n",
       "      <td>12/10/2017 0:00:00</td>\n",
       "      <td>31/10/2018 0:00:00</td>\n",
       "      <td>63070</td>\n",
       "      <td>FR</td>\n",
       "    </tr>\n",
       "    <tr>\n",
       "      <th>3</th>\n",
       "      <td>156190.0</td>\n",
       "      <td>MADAME</td>\n",
       "      <td>24/07/1976 0:00:00</td>\n",
       "      <td>SUR</td>\n",
       "      <td>28/08/2006 0:00:00</td>\n",
       "      <td>24/05/2015 0:00:00</td>\n",
       "      <td>31/05/2016 0:00:00</td>\n",
       "      <td>92026</td>\n",
       "      <td>FR</td>\n",
       "    </tr>\n",
       "    <tr>\n",
       "      <th>4</th>\n",
       "      <td>144444.0</td>\n",
       "      <td>MONSIEUR</td>\n",
       "      <td>NaN</td>\n",
       "      <td>LAB</td>\n",
       "      <td>29/04/2006 0:00:00</td>\n",
       "      <td>18/12/2016 0:00:00</td>\n",
       "      <td>31/12/2017 0:00:00</td>\n",
       "      <td>31555</td>\n",
       "      <td>FR</td>\n",
       "    </tr>\n",
       "    <tr>\n",
       "      <th>...</th>\n",
       "      <td>...</td>\n",
       "      <td>...</td>\n",
       "      <td>...</td>\n",
       "      <td>...</td>\n",
       "      <td>...</td>\n",
       "      <td>...</td>\n",
       "      <td>...</td>\n",
       "      <td>...</td>\n",
       "      <td>...</td>\n",
       "    </tr>\n",
       "    <tr>\n",
       "      <th>845871</th>\n",
       "      <td>1970111.0</td>\n",
       "      <td>MONSIEUR</td>\n",
       "      <td>NaN</td>\n",
       "      <td>IAB</td>\n",
       "      <td>14/04/2011 0:00:00</td>\n",
       "      <td>6/01/2018 0:00:00</td>\n",
       "      <td>31/01/2019 0:00:00</td>\n",
       "      <td>38053</td>\n",
       "      <td>FR</td>\n",
       "    </tr>\n",
       "    <tr>\n",
       "      <th>845872</th>\n",
       "      <td>2297275.0</td>\n",
       "      <td>MONSIEUR</td>\n",
       "      <td>6/02/1988 0:00:00</td>\n",
       "      <td>SEM</td>\n",
       "      <td>7/03/2013 0:00:00</td>\n",
       "      <td>6/01/2018 0:00:00</td>\n",
       "      <td>31/01/2019 0:00:00</td>\n",
       "      <td>57067</td>\n",
       "      <td>FR</td>\n",
       "    </tr>\n",
       "    <tr>\n",
       "      <th>845873</th>\n",
       "      <td>2305548.0</td>\n",
       "      <td>MONSIEUR</td>\n",
       "      <td>NaN</td>\n",
       "      <td>PRI</td>\n",
       "      <td>22/03/2013 0:00:00</td>\n",
       "      <td>6/01/2018 0:00:00</td>\n",
       "      <td>31/01/2019 0:00:00</td>\n",
       "      <td>38318</td>\n",
       "      <td>FR</td>\n",
       "    </tr>\n",
       "    <tr>\n",
       "      <th>845874</th>\n",
       "      <td>84175.0</td>\n",
       "      <td>MADAME</td>\n",
       "      <td>7/04/1950 0:00:00</td>\n",
       "      <td>GAI</td>\n",
       "      <td>29/10/2002 0:00:00</td>\n",
       "      <td>7/01/2018 0:00:00</td>\n",
       "      <td>31/01/2019 0:00:00</td>\n",
       "      <td>74082</td>\n",
       "      <td>FR</td>\n",
       "    </tr>\n",
       "    <tr>\n",
       "      <th>845875</th>\n",
       "      <td>1280004.0</td>\n",
       "      <td>MONSIEUR</td>\n",
       "      <td>NaN</td>\n",
       "      <td>SGL</td>\n",
       "      <td>23/06/2007 0:00:00</td>\n",
       "      <td>7/01/2018 0:00:00</td>\n",
       "      <td>31/01/2019 0:00:00</td>\n",
       "      <td>42218</td>\n",
       "      <td>FR</td>\n",
       "    </tr>\n",
       "  </tbody>\n",
       "</table>\n",
       "<p>735425 rows × 9 columns</p>\n",
       "</div>"
      ],
      "text/plain": [
       "         IDCLIENT  CIVILITE       DATENAISSANCE MAGASIN   DATEDEBUTADHESION  \\\n",
       "0        155891.0    MADAME                 NaN     VLG  13/05/2005 0:00:00   \n",
       "1        156023.0  MONSIEUR   7/08/1966 0:00:00     VLG  14/05/2005 0:00:00   \n",
       "2        124203.0    MADAME                 NaN     BEA  16/03/2005 0:00:00   \n",
       "3        156190.0    MADAME  24/07/1976 0:00:00     SUR  28/08/2006 0:00:00   \n",
       "4        144444.0  MONSIEUR                 NaN     LAB  29/04/2006 0:00:00   \n",
       "...           ...       ...                 ...     ...                 ...   \n",
       "845871  1970111.0  MONSIEUR                 NaN     IAB  14/04/2011 0:00:00   \n",
       "845872  2297275.0  MONSIEUR   6/02/1988 0:00:00     SEM   7/03/2013 0:00:00   \n",
       "845873  2305548.0  MONSIEUR                 NaN     PRI  22/03/2013 0:00:00   \n",
       "845874    84175.0    MADAME   7/04/1950 0:00:00     GAI  29/10/2002 0:00:00   \n",
       "845875  1280004.0  MONSIEUR                 NaN     SGL  23/06/2007 0:00:00   \n",
       "\n",
       "            DATEREADHESION     DATEFINADHESION CODEINSEE PAYS  \n",
       "0        4/04/2017 0:00:00  30/04/2018 0:00:00     74224   FR  \n",
       "1       21/06/2014 0:00:00  30/06/2016 0:00:00     74189   FR  \n",
       "2       12/10/2017 0:00:00  31/10/2018 0:00:00     63070   FR  \n",
       "3       24/05/2015 0:00:00  31/05/2016 0:00:00     92026   FR  \n",
       "4       18/12/2016 0:00:00  31/12/2017 0:00:00     31555   FR  \n",
       "...                    ...                 ...       ...  ...  \n",
       "845871   6/01/2018 0:00:00  31/01/2019 0:00:00     38053   FR  \n",
       "845872   6/01/2018 0:00:00  31/01/2019 0:00:00     57067   FR  \n",
       "845873   6/01/2018 0:00:00  31/01/2019 0:00:00     38318   FR  \n",
       "845874   7/01/2018 0:00:00  31/01/2019 0:00:00     74082   FR  \n",
       "845875   7/01/2018 0:00:00  31/01/2019 0:00:00     42218   FR  \n",
       "\n",
       "[735425 rows x 9 columns]"
      ]
     },
     "execution_count": 54,
     "metadata": {},
     "output_type": "execute_result"
    }
   ],
   "source": [
    "data1"
   ]
  },
  {
   "cell_type": "markdown",
   "id": "ce718583",
   "metadata": {},
   "source": [
    "La ligne de code ci-dessous nous permet de formater le format de la date."
   ]
  },
  {
   "cell_type": "code",
   "execution_count": 55,
   "id": "c4786387",
   "metadata": {
    "ExecuteTime": {
     "end_time": "2024-05-28T08:25:30.184714Z",
     "start_time": "2024-05-28T08:25:25.031896Z"
    }
   },
   "outputs": [],
   "source": [
    "# Adapter le format de date pour les colonnes spécifiées\n",
    "date_columns = ['DATENAISSANCE', 'DATEDEBUTADHESION', 'DATEREADHESION', 'DATEFINADHESION']\n",
    "for col in date_columns:\n",
    "    data1[col] = pd.to_datetime(data1[col], format='%d/%m/%Y %H:%M:%S',errors = 'coerce').dt.strftime('%d/%m/%Y')"
   ]
  },
  {
   "cell_type": "markdown",
   "id": "847b5efe",
   "metadata": {},
   "source": [
    "Vérification du traitement."
   ]
  },
  {
   "cell_type": "code",
   "execution_count": 56,
   "id": "b2214242",
   "metadata": {
    "ExecuteTime": {
     "end_time": "2024-05-28T08:25:31.885744Z",
     "start_time": "2024-05-28T08:25:31.880164Z"
    }
   },
   "outputs": [
    {
     "data": {
      "text/html": [
       "<div>\n",
       "<style scoped>\n",
       "    .dataframe tbody tr th:only-of-type {\n",
       "        vertical-align: middle;\n",
       "    }\n",
       "\n",
       "    .dataframe tbody tr th {\n",
       "        vertical-align: top;\n",
       "    }\n",
       "\n",
       "    .dataframe thead th {\n",
       "        text-align: right;\n",
       "    }\n",
       "</style>\n",
       "<table border=\"1\" class=\"dataframe\">\n",
       "  <thead>\n",
       "    <tr style=\"text-align: right;\">\n",
       "      <th></th>\n",
       "      <th>IDCLIENT</th>\n",
       "      <th>CIVILITE</th>\n",
       "      <th>DATENAISSANCE</th>\n",
       "      <th>MAGASIN</th>\n",
       "      <th>DATEDEBUTADHESION</th>\n",
       "      <th>DATEREADHESION</th>\n",
       "      <th>DATEFINADHESION</th>\n",
       "      <th>CODEINSEE</th>\n",
       "      <th>PAYS</th>\n",
       "    </tr>\n",
       "  </thead>\n",
       "  <tbody>\n",
       "    <tr>\n",
       "      <th>0</th>\n",
       "      <td>155891.0</td>\n",
       "      <td>MADAME</td>\n",
       "      <td>NaN</td>\n",
       "      <td>VLG</td>\n",
       "      <td>13/05/2005</td>\n",
       "      <td>04/04/2017</td>\n",
       "      <td>30/04/2018</td>\n",
       "      <td>74224</td>\n",
       "      <td>FR</td>\n",
       "    </tr>\n",
       "    <tr>\n",
       "      <th>1</th>\n",
       "      <td>156023.0</td>\n",
       "      <td>MONSIEUR</td>\n",
       "      <td>07/08/1966</td>\n",
       "      <td>VLG</td>\n",
       "      <td>14/05/2005</td>\n",
       "      <td>21/06/2014</td>\n",
       "      <td>30/06/2016</td>\n",
       "      <td>74189</td>\n",
       "      <td>FR</td>\n",
       "    </tr>\n",
       "    <tr>\n",
       "      <th>2</th>\n",
       "      <td>124203.0</td>\n",
       "      <td>MADAME</td>\n",
       "      <td>NaN</td>\n",
       "      <td>BEA</td>\n",
       "      <td>16/03/2005</td>\n",
       "      <td>12/10/2017</td>\n",
       "      <td>31/10/2018</td>\n",
       "      <td>63070</td>\n",
       "      <td>FR</td>\n",
       "    </tr>\n",
       "    <tr>\n",
       "      <th>3</th>\n",
       "      <td>156190.0</td>\n",
       "      <td>MADAME</td>\n",
       "      <td>24/07/1976</td>\n",
       "      <td>SUR</td>\n",
       "      <td>28/08/2006</td>\n",
       "      <td>24/05/2015</td>\n",
       "      <td>31/05/2016</td>\n",
       "      <td>92026</td>\n",
       "      <td>FR</td>\n",
       "    </tr>\n",
       "    <tr>\n",
       "      <th>4</th>\n",
       "      <td>144444.0</td>\n",
       "      <td>MONSIEUR</td>\n",
       "      <td>NaN</td>\n",
       "      <td>LAB</td>\n",
       "      <td>29/04/2006</td>\n",
       "      <td>18/12/2016</td>\n",
       "      <td>31/12/2017</td>\n",
       "      <td>31555</td>\n",
       "      <td>FR</td>\n",
       "    </tr>\n",
       "    <tr>\n",
       "      <th>...</th>\n",
       "      <td>...</td>\n",
       "      <td>...</td>\n",
       "      <td>...</td>\n",
       "      <td>...</td>\n",
       "      <td>...</td>\n",
       "      <td>...</td>\n",
       "      <td>...</td>\n",
       "      <td>...</td>\n",
       "      <td>...</td>\n",
       "    </tr>\n",
       "    <tr>\n",
       "      <th>845871</th>\n",
       "      <td>1970111.0</td>\n",
       "      <td>MONSIEUR</td>\n",
       "      <td>NaN</td>\n",
       "      <td>IAB</td>\n",
       "      <td>14/04/2011</td>\n",
       "      <td>06/01/2018</td>\n",
       "      <td>31/01/2019</td>\n",
       "      <td>38053</td>\n",
       "      <td>FR</td>\n",
       "    </tr>\n",
       "    <tr>\n",
       "      <th>845872</th>\n",
       "      <td>2297275.0</td>\n",
       "      <td>MONSIEUR</td>\n",
       "      <td>06/02/1988</td>\n",
       "      <td>SEM</td>\n",
       "      <td>07/03/2013</td>\n",
       "      <td>06/01/2018</td>\n",
       "      <td>31/01/2019</td>\n",
       "      <td>57067</td>\n",
       "      <td>FR</td>\n",
       "    </tr>\n",
       "    <tr>\n",
       "      <th>845873</th>\n",
       "      <td>2305548.0</td>\n",
       "      <td>MONSIEUR</td>\n",
       "      <td>NaN</td>\n",
       "      <td>PRI</td>\n",
       "      <td>22/03/2013</td>\n",
       "      <td>06/01/2018</td>\n",
       "      <td>31/01/2019</td>\n",
       "      <td>38318</td>\n",
       "      <td>FR</td>\n",
       "    </tr>\n",
       "    <tr>\n",
       "      <th>845874</th>\n",
       "      <td>84175.0</td>\n",
       "      <td>MADAME</td>\n",
       "      <td>07/04/1950</td>\n",
       "      <td>GAI</td>\n",
       "      <td>29/10/2002</td>\n",
       "      <td>07/01/2018</td>\n",
       "      <td>31/01/2019</td>\n",
       "      <td>74082</td>\n",
       "      <td>FR</td>\n",
       "    </tr>\n",
       "    <tr>\n",
       "      <th>845875</th>\n",
       "      <td>1280004.0</td>\n",
       "      <td>MONSIEUR</td>\n",
       "      <td>NaN</td>\n",
       "      <td>SGL</td>\n",
       "      <td>23/06/2007</td>\n",
       "      <td>07/01/2018</td>\n",
       "      <td>31/01/2019</td>\n",
       "      <td>42218</td>\n",
       "      <td>FR</td>\n",
       "    </tr>\n",
       "  </tbody>\n",
       "</table>\n",
       "<p>735425 rows × 9 columns</p>\n",
       "</div>"
      ],
      "text/plain": [
       "         IDCLIENT  CIVILITE DATENAISSANCE MAGASIN DATEDEBUTADHESION  \\\n",
       "0        155891.0    MADAME           NaN     VLG        13/05/2005   \n",
       "1        156023.0  MONSIEUR    07/08/1966     VLG        14/05/2005   \n",
       "2        124203.0    MADAME           NaN     BEA        16/03/2005   \n",
       "3        156190.0    MADAME    24/07/1976     SUR        28/08/2006   \n",
       "4        144444.0  MONSIEUR           NaN     LAB        29/04/2006   \n",
       "...           ...       ...           ...     ...               ...   \n",
       "845871  1970111.0  MONSIEUR           NaN     IAB        14/04/2011   \n",
       "845872  2297275.0  MONSIEUR    06/02/1988     SEM        07/03/2013   \n",
       "845873  2305548.0  MONSIEUR           NaN     PRI        22/03/2013   \n",
       "845874    84175.0    MADAME    07/04/1950     GAI        29/10/2002   \n",
       "845875  1280004.0  MONSIEUR           NaN     SGL        23/06/2007   \n",
       "\n",
       "       DATEREADHESION DATEFINADHESION CODEINSEE PAYS  \n",
       "0          04/04/2017      30/04/2018     74224   FR  \n",
       "1          21/06/2014      30/06/2016     74189   FR  \n",
       "2          12/10/2017      31/10/2018     63070   FR  \n",
       "3          24/05/2015      31/05/2016     92026   FR  \n",
       "4          18/12/2016      31/12/2017     31555   FR  \n",
       "...               ...             ...       ...  ...  \n",
       "845871     06/01/2018      31/01/2019     38053   FR  \n",
       "845872     06/01/2018      31/01/2019     57067   FR  \n",
       "845873     06/01/2018      31/01/2019     38318   FR  \n",
       "845874     07/01/2018      31/01/2019     74082   FR  \n",
       "845875     07/01/2018      31/01/2019     42218   FR  \n",
       "\n",
       "[735425 rows x 9 columns]"
      ]
     },
     "execution_count": 56,
     "metadata": {},
     "output_type": "execute_result"
    }
   ],
   "source": [
    "data1"
   ]
  },
  {
   "cell_type": "markdown",
   "id": "3c840f6e",
   "metadata": {},
   "source": [
    "Cette ligne de code nous permet d'identifier le nombre d'occurence de chaque civilité, pour identifier les éventuels regroupements à effectuer. "
   ]
  },
  {
   "cell_type": "code",
   "execution_count": 57,
   "id": "ecd3bd49",
   "metadata": {
    "ExecuteTime": {
     "end_time": "2024-05-28T08:25:36.246020Z",
     "start_time": "2024-05-28T08:25:36.235824Z"
    }
   },
   "outputs": [
    {
     "data": {
      "text/plain": [
       "CIVILITE\n",
       "MADAME      393703\n",
       "MONSIEUR    337360\n",
       "Mr            1431\n",
       "Mme           1284\n",
       "madame         976\n",
       "monsieur       671\n",
       "Name: count, dtype: int64"
      ]
     },
     "execution_count": 57,
     "metadata": {},
     "output_type": "execute_result"
    }
   ],
   "source": [
    "#modalités variables:\n",
    "data1['CIVILITE'].value_counts(dropna = False)"
   ]
  },
  {
   "cell_type": "markdown",
   "id": "53102ac2",
   "metadata": {},
   "source": [
    "Il convient de procéder aux regroupements ci-dessous."
   ]
  },
  {
   "cell_type": "code",
   "execution_count": 58,
   "id": "8c76989e",
   "metadata": {
    "ExecuteTime": {
     "end_time": "2024-05-28T08:25:38.400272Z",
     "start_time": "2024-05-28T08:25:38.242654Z"
    }
   },
   "outputs": [],
   "source": [
    "#regroupement des modalités:\n",
    "data1['CIVILITE']=np.where(data1['CIVILITE'] =='MADAME', 'Madame', data1['CIVILITE']) \n",
    "data1['CIVILITE']=np.where(data1['CIVILITE'] =='Mme', 'Madame', data1['CIVILITE'])\n",
    "data1['CIVILITE']=np.where(data1['CIVILITE'] =='madame', 'Madame', data1['CIVILITE']) \n",
    "data1['CIVILITE']=np.where(data1['CIVILITE'] =='MONSIEUR', 'Monsieur', data1['CIVILITE'])\n",
    "data1['CIVILITE']=np.where(data1['CIVILITE'] =='Mr', 'Monsieur', data1['CIVILITE'])\n",
    "data1['CIVILITE']=np.where(data1['CIVILITE'] =='monsieur', 'Monsieur', data1['CIVILITE'])"
   ]
  },
  {
   "cell_type": "markdown",
   "id": "d93dcbaa",
   "metadata": {},
   "source": [
    "Vérification du traitement."
   ]
  },
  {
   "cell_type": "code",
   "execution_count": 59,
   "id": "2dad47ad",
   "metadata": {
    "ExecuteTime": {
     "end_time": "2024-05-28T08:25:40.881915Z",
     "start_time": "2024-05-28T08:25:40.872559Z"
    }
   },
   "outputs": [
    {
     "data": {
      "text/plain": [
       "CIVILITE\n",
       "Madame      395963\n",
       "Monsieur    339462\n",
       "Name: count, dtype: int64"
      ]
     },
     "execution_count": 59,
     "metadata": {},
     "output_type": "execute_result"
    }
   ],
   "source": [
    "data1['CIVILITE'].value_counts(dropna = False)"
   ]
  },
  {
   "cell_type": "markdown",
   "id": "ed7e36d3",
   "metadata": {},
   "source": [
    "Cette ligne de code nous permet d'identifier le nombre d'occurence de chaque magasin, pour identifier les éventuels regroupements à effectuer."
   ]
  },
  {
   "cell_type": "code",
   "execution_count": 60,
   "id": "78e74a0e",
   "metadata": {
    "ExecuteTime": {
     "end_time": "2024-05-28T08:03:29.708765Z",
     "start_time": "2024-05-28T08:03:29.698981Z"
    }
   },
   "outputs": [
    {
     "data": {
      "text/plain": [
       "MAGASIN\n",
       "PRI    23963\n",
       "SEY    23572\n",
       "VIB    22223\n",
       "SUR    20923\n",
       "MOU    20887\n",
       "       ...  \n",
       "VIV     3187\n",
       "SAL     2836\n",
       "STR     2667\n",
       "EST     1145\n",
       "BAR     1039\n",
       "Name: count, Length: 67, dtype: int64"
      ]
     },
     "execution_count": 60,
     "metadata": {},
     "output_type": "execute_result"
    }
   ],
   "source": [
    "data1['MAGASIN'].value_counts(dropna = False)"
   ]
  },
  {
   "cell_type": "markdown",
   "id": "d1da1653",
   "metadata": {},
   "source": [
    "Les données à traiter concernant la France, la série de code ci-dessous nous permet de ne conserver que ce pays."
   ]
  },
  {
   "cell_type": "code",
   "execution_count": 61,
   "id": "2c661734",
   "metadata": {
    "ExecuteTime": {
     "end_time": "2024-05-28T08:03:31.304961Z",
     "start_time": "2024-05-28T08:03:31.248100Z"
    }
   },
   "outputs": [],
   "source": [
    "# Filtrer les lignes pour ne garder que celles avec \"France\" dans la colonne \"Pays\"\n",
    "data1 = data1[data1['PAYS'] == 'FR']\n",
    "\n",
    "# Réindexer le DataFrame après avoir filtré les lignes\n",
    "data1.reset_index(drop=True, inplace=True)"
   ]
  },
  {
   "cell_type": "code",
   "execution_count": 62,
   "id": "a0b39694",
   "metadata": {
    "ExecuteTime": {
     "end_time": "2024-05-28T08:03:32.496675Z",
     "start_time": "2024-05-28T08:03:32.488693Z"
    }
   },
   "outputs": [
    {
     "data": {
      "text/plain": [
       "PAYS\n",
       "FR    720090\n",
       "Name: count, dtype: int64"
      ]
     },
     "execution_count": 62,
     "metadata": {},
     "output_type": "execute_result"
    }
   ],
   "source": [
    "data1['PAYS'].value_counts(dropna = False)"
   ]
  },
  {
   "cell_type": "markdown",
   "id": "c74364a5",
   "metadata": {},
   "source": [
    "La serie de codes ci-dessous nous permet de traiter la date de naissance des clients afin d'en déterminer l'âge puis des tranches d'âges."
   ]
  },
  {
   "cell_type": "code",
   "execution_count": 63,
   "id": "5571de9f4a0c952e",
   "metadata": {
    "ExecuteTime": {
     "end_time": "2024-05-28T08:03:34.456028Z",
     "start_time": "2024-05-28T08:03:34.136065Z"
    }
   },
   "outputs": [
    {
     "name": "stderr",
     "output_type": "stream",
     "text": [
      "C:\\Users\\belga\\AppData\\Local\\Temp\\ipykernel_30612\\2152871429.py:3: SettingWithCopyWarning: \n",
      "A value is trying to be set on a copy of a slice from a DataFrame.\n",
      "Try using .loc[row_indexer,col_indexer] = value instead\n",
      "\n",
      "See the caveats in the documentation: https://pandas.pydata.org/pandas-docs/stable/user_guide/indexing.html#returning-a-view-versus-a-copy\n",
      "  data1['DATENAISSANCE'] = pd.to_datetime(data1['DATENAISSANCE'],errors = 'coerce')\n",
      "C:\\Users\\belga\\AppData\\Local\\Temp\\ipykernel_30612\\2152871429.py:9: SettingWithCopyWarning: \n",
      "A value is trying to be set on a copy of a slice from a DataFrame.\n",
      "Try using .loc[row_indexer,col_indexer] = value instead\n",
      "\n",
      "See the caveats in the documentation: https://pandas.pydata.org/pandas-docs/stable/user_guide/indexing.html#returning-a-view-versus-a-copy\n",
      "  data1['AGE'] = today.year - data1['DATENAISSANCE'].dt.year\n",
      "C:\\Users\\belga\\AppData\\Local\\Temp\\ipykernel_30612\\2152871429.py:12: SettingWithCopyWarning: \n",
      "A value is trying to be set on a copy of a slice from a DataFrame.\n",
      "Try using .loc[row_indexer,col_indexer] = value instead\n",
      "\n",
      "See the caveats in the documentation: https://pandas.pydata.org/pandas-docs/stable/user_guide/indexing.html#returning-a-view-versus-a-copy\n",
      "  data1['AGE_GROUP'] = pd.cut(data1['AGE'], bins, labels=['AGE DE 18-30', 'AGE DE 31-45', 'AGE DE 46-60', 'AGE DE 61-100'])\n"
     ]
    }
   ],
   "source": [
    "#Convertir la colonne de date de naissance en objet datetime :\n",
    "\n",
    "data1['DATENAISSANCE'] = pd.to_datetime(data1['DATENAISSANCE'],errors = 'coerce')\n",
    "\n",
    "#En créer une nouvelle colonne pour l'âge en calculant la différence entre la date actuelle et la date de naissance :\n",
    "\n",
    "from datetime import datetime\n",
    "today = datetime.today()\n",
    "data1['AGE'] = today.year - data1['DATENAISSANCE'].dt.year\n",
    "#Discrétiser l'âge en créant des catégories d'âge. Par exemple, diviser en groupes d'âge :\n",
    "bins = [18, 30, 45, 60, 100]\n",
    "data1['AGE_GROUP'] = pd.cut(data1['AGE'], bins, labels=['AGE DE 18-30', 'AGE DE 31-45', 'AGE DE 46-60', 'AGE DE 61-100'])"
   ]
  },
  {
   "cell_type": "markdown",
   "id": "245f4b4a",
   "metadata": {},
   "source": [
    "Vérification du traitement."
   ]
  },
  {
   "cell_type": "code",
   "execution_count": 64,
   "id": "23038b65",
   "metadata": {
    "ExecuteTime": {
     "end_time": "2024-05-28T08:03:55.350071Z",
     "start_time": "2024-05-28T08:03:55.342218Z"
    }
   },
   "outputs": [
    {
     "data": {
      "text/plain": [
       "AGE_GROUP\n",
       "NaN              548518\n",
       "AGE DE 61-100     67546\n",
       "AGE DE 46-60      57057\n",
       "AGE DE 31-45      42700\n",
       "AGE DE 18-30       4269\n",
       "Name: count, dtype: int64"
      ]
     },
     "execution_count": 64,
     "metadata": {},
     "output_type": "execute_result"
    }
   ],
   "source": [
    "data1['AGE_GROUP'].value_counts(dropna = False)"
   ]
  },
  {
   "cell_type": "markdown",
   "id": "f7d42d2c",
   "metadata": {},
   "source": [
    "Après ce traitement, il convient de renommer la variable concernée."
   ]
  },
  {
   "cell_type": "code",
   "execution_count": 65,
   "id": "8e17b412",
   "metadata": {
    "ExecuteTime": {
     "end_time": "2024-05-28T08:04:00.521865Z",
     "start_time": "2024-05-28T08:04:00.420391Z"
    }
   },
   "outputs": [],
   "source": [
    "# Renommer la colonne 'DATENAISSANCE' en 'AGE'\n",
    "data1 = data1.rename(columns={'DATENAISSANCE': 'AGE'})"
   ]
  },
  {
   "cell_type": "markdown",
   "id": "c4d8e887",
   "metadata": {},
   "source": [
    "Vérification du traitement."
   ]
  },
  {
   "cell_type": "code",
   "execution_count": 66,
   "id": "014bf46c",
   "metadata": {
    "ExecuteTime": {
     "end_time": "2024-05-28T08:04:02.822766Z",
     "start_time": "2024-05-28T08:04:02.814670Z"
    }
   },
   "outputs": [
    {
     "data": {
      "text/html": [
       "<div>\n",
       "<style scoped>\n",
       "    .dataframe tbody tr th:only-of-type {\n",
       "        vertical-align: middle;\n",
       "    }\n",
       "\n",
       "    .dataframe tbody tr th {\n",
       "        vertical-align: top;\n",
       "    }\n",
       "\n",
       "    .dataframe thead th {\n",
       "        text-align: right;\n",
       "    }\n",
       "</style>\n",
       "<table border=\"1\" class=\"dataframe\">\n",
       "  <thead>\n",
       "    <tr style=\"text-align: right;\">\n",
       "      <th></th>\n",
       "      <th>IDCLIENT</th>\n",
       "      <th>CIVILITE</th>\n",
       "      <th>AGE</th>\n",
       "      <th>MAGASIN</th>\n",
       "      <th>DATEDEBUTADHESION</th>\n",
       "      <th>DATEREADHESION</th>\n",
       "      <th>DATEFINADHESION</th>\n",
       "      <th>CODEINSEE</th>\n",
       "      <th>PAYS</th>\n",
       "      <th>AGE</th>\n",
       "      <th>AGE_GROUP</th>\n",
       "    </tr>\n",
       "  </thead>\n",
       "  <tbody>\n",
       "    <tr>\n",
       "      <th>0</th>\n",
       "      <td>155891.0</td>\n",
       "      <td>Madame</td>\n",
       "      <td>NaT</td>\n",
       "      <td>VLG</td>\n",
       "      <td>13/05/2005</td>\n",
       "      <td>04/04/2017</td>\n",
       "      <td>30/04/2018</td>\n",
       "      <td>74224</td>\n",
       "      <td>FR</td>\n",
       "      <td>NaN</td>\n",
       "      <td>NaN</td>\n",
       "    </tr>\n",
       "    <tr>\n",
       "      <th>1</th>\n",
       "      <td>156023.0</td>\n",
       "      <td>Monsieur</td>\n",
       "      <td>1966-07-08</td>\n",
       "      <td>VLG</td>\n",
       "      <td>14/05/2005</td>\n",
       "      <td>21/06/2014</td>\n",
       "      <td>30/06/2016</td>\n",
       "      <td>74189</td>\n",
       "      <td>FR</td>\n",
       "      <td>58.0</td>\n",
       "      <td>AGE DE 46-60</td>\n",
       "    </tr>\n",
       "    <tr>\n",
       "      <th>2</th>\n",
       "      <td>124203.0</td>\n",
       "      <td>Madame</td>\n",
       "      <td>NaT</td>\n",
       "      <td>BEA</td>\n",
       "      <td>16/03/2005</td>\n",
       "      <td>12/10/2017</td>\n",
       "      <td>31/10/2018</td>\n",
       "      <td>63070</td>\n",
       "      <td>FR</td>\n",
       "      <td>NaN</td>\n",
       "      <td>NaN</td>\n",
       "    </tr>\n",
       "    <tr>\n",
       "      <th>3</th>\n",
       "      <td>156190.0</td>\n",
       "      <td>Madame</td>\n",
       "      <td>NaT</td>\n",
       "      <td>SUR</td>\n",
       "      <td>28/08/2006</td>\n",
       "      <td>24/05/2015</td>\n",
       "      <td>31/05/2016</td>\n",
       "      <td>92026</td>\n",
       "      <td>FR</td>\n",
       "      <td>NaN</td>\n",
       "      <td>NaN</td>\n",
       "    </tr>\n",
       "    <tr>\n",
       "      <th>4</th>\n",
       "      <td>144444.0</td>\n",
       "      <td>Monsieur</td>\n",
       "      <td>NaT</td>\n",
       "      <td>LAB</td>\n",
       "      <td>29/04/2006</td>\n",
       "      <td>18/12/2016</td>\n",
       "      <td>31/12/2017</td>\n",
       "      <td>31555</td>\n",
       "      <td>FR</td>\n",
       "      <td>NaN</td>\n",
       "      <td>NaN</td>\n",
       "    </tr>\n",
       "    <tr>\n",
       "      <th>...</th>\n",
       "      <td>...</td>\n",
       "      <td>...</td>\n",
       "      <td>...</td>\n",
       "      <td>...</td>\n",
       "      <td>...</td>\n",
       "      <td>...</td>\n",
       "      <td>...</td>\n",
       "      <td>...</td>\n",
       "      <td>...</td>\n",
       "      <td>...</td>\n",
       "      <td>...</td>\n",
       "    </tr>\n",
       "    <tr>\n",
       "      <th>720085</th>\n",
       "      <td>1970111.0</td>\n",
       "      <td>Monsieur</td>\n",
       "      <td>NaT</td>\n",
       "      <td>IAB</td>\n",
       "      <td>14/04/2011</td>\n",
       "      <td>06/01/2018</td>\n",
       "      <td>31/01/2019</td>\n",
       "      <td>38053</td>\n",
       "      <td>FR</td>\n",
       "      <td>NaN</td>\n",
       "      <td>NaN</td>\n",
       "    </tr>\n",
       "    <tr>\n",
       "      <th>720086</th>\n",
       "      <td>2297275.0</td>\n",
       "      <td>Monsieur</td>\n",
       "      <td>1988-06-02</td>\n",
       "      <td>SEM</td>\n",
       "      <td>07/03/2013</td>\n",
       "      <td>06/01/2018</td>\n",
       "      <td>31/01/2019</td>\n",
       "      <td>57067</td>\n",
       "      <td>FR</td>\n",
       "      <td>36.0</td>\n",
       "      <td>AGE DE 31-45</td>\n",
       "    </tr>\n",
       "    <tr>\n",
       "      <th>720087</th>\n",
       "      <td>2305548.0</td>\n",
       "      <td>Monsieur</td>\n",
       "      <td>NaT</td>\n",
       "      <td>PRI</td>\n",
       "      <td>22/03/2013</td>\n",
       "      <td>06/01/2018</td>\n",
       "      <td>31/01/2019</td>\n",
       "      <td>38318</td>\n",
       "      <td>FR</td>\n",
       "      <td>NaN</td>\n",
       "      <td>NaN</td>\n",
       "    </tr>\n",
       "    <tr>\n",
       "      <th>720088</th>\n",
       "      <td>84175.0</td>\n",
       "      <td>Madame</td>\n",
       "      <td>1950-07-04</td>\n",
       "      <td>GAI</td>\n",
       "      <td>29/10/2002</td>\n",
       "      <td>07/01/2018</td>\n",
       "      <td>31/01/2019</td>\n",
       "      <td>74082</td>\n",
       "      <td>FR</td>\n",
       "      <td>74.0</td>\n",
       "      <td>AGE DE 61-100</td>\n",
       "    </tr>\n",
       "    <tr>\n",
       "      <th>720089</th>\n",
       "      <td>1280004.0</td>\n",
       "      <td>Monsieur</td>\n",
       "      <td>NaT</td>\n",
       "      <td>SGL</td>\n",
       "      <td>23/06/2007</td>\n",
       "      <td>07/01/2018</td>\n",
       "      <td>31/01/2019</td>\n",
       "      <td>42218</td>\n",
       "      <td>FR</td>\n",
       "      <td>NaN</td>\n",
       "      <td>NaN</td>\n",
       "    </tr>\n",
       "  </tbody>\n",
       "</table>\n",
       "<p>720090 rows × 11 columns</p>\n",
       "</div>"
      ],
      "text/plain": [
       "         IDCLIENT  CIVILITE        AGE MAGASIN DATEDEBUTADHESION  \\\n",
       "0        155891.0    Madame        NaT     VLG        13/05/2005   \n",
       "1        156023.0  Monsieur 1966-07-08     VLG        14/05/2005   \n",
       "2        124203.0    Madame        NaT     BEA        16/03/2005   \n",
       "3        156190.0    Madame        NaT     SUR        28/08/2006   \n",
       "4        144444.0  Monsieur        NaT     LAB        29/04/2006   \n",
       "...           ...       ...        ...     ...               ...   \n",
       "720085  1970111.0  Monsieur        NaT     IAB        14/04/2011   \n",
       "720086  2297275.0  Monsieur 1988-06-02     SEM        07/03/2013   \n",
       "720087  2305548.0  Monsieur        NaT     PRI        22/03/2013   \n",
       "720088    84175.0    Madame 1950-07-04     GAI        29/10/2002   \n",
       "720089  1280004.0  Monsieur        NaT     SGL        23/06/2007   \n",
       "\n",
       "       DATEREADHESION DATEFINADHESION CODEINSEE PAYS   AGE      AGE_GROUP  \n",
       "0          04/04/2017      30/04/2018     74224   FR   NaN            NaN  \n",
       "1          21/06/2014      30/06/2016     74189   FR  58.0   AGE DE 46-60  \n",
       "2          12/10/2017      31/10/2018     63070   FR   NaN            NaN  \n",
       "3          24/05/2015      31/05/2016     92026   FR   NaN            NaN  \n",
       "4          18/12/2016      31/12/2017     31555   FR   NaN            NaN  \n",
       "...               ...             ...       ...  ...   ...            ...  \n",
       "720085     06/01/2018      31/01/2019     38053   FR   NaN            NaN  \n",
       "720086     06/01/2018      31/01/2019     57067   FR  36.0   AGE DE 31-45  \n",
       "720087     06/01/2018      31/01/2019     38318   FR   NaN            NaN  \n",
       "720088     07/01/2018      31/01/2019     74082   FR  74.0  AGE DE 61-100  \n",
       "720089     07/01/2018      31/01/2019     42218   FR   NaN            NaN  \n",
       "\n",
       "[720090 rows x 11 columns]"
      ]
     },
     "execution_count": 66,
     "metadata": {},
     "output_type": "execute_result"
    }
   ],
   "source": [
    "data1"
   ]
  },
  {
   "cell_type": "markdown",
   "id": "f28ffae6",
   "metadata": {},
   "source": [
    "Afin d'exploiter de façon optimale les informations, nous allons convetir les l'ID TICKET, l'âge et les tranches d'âges en caractère. Nous n'avons pas nécessité à conserver ces valeurs en numérique."
   ]
  },
  {
   "cell_type": "code",
   "execution_count": 67,
   "id": "dd655247",
   "metadata": {
    "ExecuteTime": {
     "end_time": "2024-05-28T08:04:21.339342Z",
     "start_time": "2024-05-28T08:04:20.993282Z"
    }
   },
   "outputs": [],
   "source": [
    "data1['IDCLIENT'] = data1['IDCLIENT'].astype(str)\n",
    "data1['AGE'] = data1['AGE'].astype(str)\n",
    "data1['AGE_GROUP'] = data1['AGE_GROUP'].astype(str)"
   ]
  },
  {
   "cell_type": "markdown",
   "id": "d440de7f",
   "metadata": {},
   "source": [
    "Vérification du traitement."
   ]
  },
  {
   "cell_type": "code",
   "execution_count": 68,
   "id": "5930b85c",
   "metadata": {
    "ExecuteTime": {
     "end_time": "2024-05-28T08:04:24.564496Z",
     "start_time": "2024-05-28T08:04:24.420986Z"
    }
   },
   "outputs": [
    {
     "name": "stdout",
     "output_type": "stream",
     "text": [
      "<class 'pandas.core.frame.DataFrame'>\n",
      "RangeIndex: 720090 entries, 0 to 720089\n",
      "Data columns (total 11 columns):\n",
      " #   Column             Non-Null Count   Dtype \n",
      "---  ------             --------------   ----- \n",
      " 0   IDCLIENT           720090 non-null  object\n",
      " 1   CIVILITE           720090 non-null  object\n",
      " 2   AGE                720090 non-null  object\n",
      " 3   MAGASIN            720090 non-null  object\n",
      " 4   DATEDEBUTADHESION  720090 non-null  object\n",
      " 5   DATEREADHESION     410990 non-null  object\n",
      " 6   DATEFINADHESION    720090 non-null  object\n",
      " 7   CODEINSEE          709392 non-null  object\n",
      " 8   PAYS               720090 non-null  object\n",
      " 9   AGE                720090 non-null  object\n",
      " 10  AGE_GROUP          720090 non-null  object\n",
      "dtypes: object(11)\n",
      "memory usage: 60.4+ MB\n"
     ]
    }
   ],
   "source": [
    "data1.info()"
   ]
  },
  {
   "cell_type": "markdown",
   "id": "11576911",
   "metadata": {},
   "source": [
    "La ligne de code ci-dessous nous permet d'identifier les valeurs en doublons qui conviendra de traiter."
   ]
  },
  {
   "cell_type": "code",
   "execution_count": 69,
   "id": "a9e56f23",
   "metadata": {
    "ExecuteTime": {
     "end_time": "2024-05-28T08:04:30.643298Z",
     "start_time": "2024-05-28T08:04:30.064175Z"
    }
   },
   "outputs": [
    {
     "name": "stdout",
     "output_type": "stream",
     "text": [
      "0\n"
     ]
    }
   ],
   "source": [
    "print(data1.duplicated().sum())\n",
    "data1 = data1.drop_duplicates()"
   ]
  },
  {
   "cell_type": "markdown",
   "id": "ac93a68b",
   "metadata": {},
   "source": [
    "Nous procédons également à la vérification de présence ou non de valeurs manquantes."
   ]
  },
  {
   "cell_type": "code",
   "execution_count": 70,
   "id": "c0913c19f78e34b6",
   "metadata": {
    "ExecuteTime": {
     "end_time": "2024-05-28T08:12:37.667400Z",
     "start_time": "2024-05-28T08:12:37.489870Z"
    }
   },
   "outputs": [
    {
     "name": "stdout",
     "output_type": "stream",
     "text": [
      "                   Missing Values  Percentage\n",
      "IDCLIENT                        0    0.000000\n",
      "CIVILITE                        0    0.000000\n",
      "AGE                             0    0.000000\n",
      "MAGASIN                         0    0.000000\n",
      "DATEDEBUTADHESION               0    0.000000\n",
      "DATEREADHESION             309100   42.925190\n",
      "DATEFINADHESION                 0    0.000000\n",
      "CODEINSEE                   10698    1.485648\n",
      "PAYS                            0    0.000000\n",
      "AGE                             0    0.000000\n",
      "AGE_GROUP                       0    0.000000\n"
     ]
    }
   ],
   "source": [
    "# Tableau des valeurs manquantes par colonne\n",
    "missing_values = data1.isnull().sum()\n",
    "missing_percent = (missing_values / len(data1)) * 100\n",
    "missing_table = pd.DataFrame({'Missing Values': missing_values, 'Percentage': missing_percent})\n",
    "print(missing_table)"
   ]
  },
  {
   "cell_type": "code",
   "execution_count": 71,
   "id": "665fadbe16d9bd6d",
   "metadata": {
    "ExecuteTime": {
     "end_time": "2024-05-28T08:08:32.125778Z",
     "start_time": "2024-05-28T08:08:31.086452Z"
    }
   },
   "outputs": [
    {
     "data": {
      "image/png": "[encoded data removed]",
      "text/plain": [
       "<Figure size 2500x1000 with 2 Axes>"
      ]
     },
     "metadata": {},
     "output_type": "display_data"
    }
   ],
   "source": [
    "# Visualiser les valeurs manquantes avec missingno\n",
    "import missingno as msno\n",
    "msno.matrix(data1)\n",
    "plt.show()"
   ]
  },
  {
   "cell_type": "code",
   "execution_count": 72,
   "id": "7d9a6a4df8502741",
   "metadata": {
    "ExecuteTime": {
     "end_time": "2024-05-28T08:09:15.345348Z",
     "start_time": "2024-05-28T08:09:14.866532Z"
    }
   },
   "outputs": [
    {
     "data": {
      "image/png": "[encoded data removed]",
      "text/plain": [
       "<Figure size 2500x1000 with 3 Axes>"
      ]
     },
     "metadata": {},
     "output_type": "display_data"
    }
   ],
   "source": [
    "msno.bar(data1)\n",
    "plt.show()"
   ]
  },
  {
   "cell_type": "markdown",
   "id": "570cb19f",
   "metadata": {},
   "source": [
    "La série de codes ci-dessous nous permet de traiter les valeurs manquantes détéctées, sur les variables concernées."
   ]
  },
  {
   "cell_type": "code",
   "execution_count": 73,
   "id": "b070052769b59f55",
   "metadata": {
    "ExecuteTime": {
     "end_time": "2024-05-28T08:17:18.025124Z",
     "start_time": "2024-05-28T08:17:17.995921Z"
    }
   },
   "outputs": [
    {
     "name": "stdout",
     "output_type": "stream",
     "text": [
      "         IDCLIENT  CIVILITE         AGE MAGASIN DATEDEBUTADHESION  \\\n",
      "0        155891.0    Madame         NaT     VLG        13/05/2005   \n",
      "1        156023.0  Monsieur  1966-07-08     VLG        14/05/2005   \n",
      "2        124203.0    Madame         NaT     BEA        16/03/2005   \n",
      "3        156190.0    Madame         NaT     SUR        28/08/2006   \n",
      "4        144444.0  Monsieur         NaT     LAB        29/04/2006   \n",
      "...           ...       ...         ...     ...               ...   \n",
      "720085  1970111.0  Monsieur         NaT     IAB        14/04/2011   \n",
      "720086  2297275.0  Monsieur  1988-06-02     SEM        07/03/2013   \n",
      "720087  2305548.0  Monsieur         NaT     PRI        22/03/2013   \n",
      "720088    84175.0    Madame  1950-07-04     GAI        29/10/2002   \n",
      "720089  1280004.0  Monsieur         NaT     SGL        23/06/2007   \n",
      "\n",
      "       DATEREADHESION DATEFINADHESION CODEINSEE PAYS   AGE      AGE_GROUP  \n",
      "0          04/04/2017      30/04/2018     74224   FR   nan            nan  \n",
      "1          21/06/2014      30/06/2016     74189   FR  58.0   AGE DE 46-60  \n",
      "2          12/10/2017      31/10/2018     63070   FR   nan            nan  \n",
      "3          24/05/2015      31/05/2016     92026   FR   nan            nan  \n",
      "4          18/12/2016      31/12/2017     31555   FR   nan            nan  \n",
      "...               ...             ...       ...  ...   ...            ...  \n",
      "720085     06/01/2018      31/01/2019     38053   FR   nan            nan  \n",
      "720086     06/01/2018      31/01/2019     57067   FR  36.0   AGE DE 31-45  \n",
      "720087     06/01/2018      31/01/2019     38318   FR   nan            nan  \n",
      "720088     07/01/2018      31/01/2019     74082   FR  74.0  AGE DE 61-100  \n",
      "720089     07/01/2018      31/01/2019     42218   FR   nan            nan  \n",
      "\n",
      "[720090 rows x 11 columns]\n"
     ]
    },
    {
     "name": "stderr",
     "output_type": "stream",
     "text": [
      "C:\\Users\\belga\\AppData\\Local\\Temp\\ipykernel_30612\\1410952053.py:2: FutureWarning: Series.interpolate with object dtype is deprecated and will raise in a future version. Call obj.infer_objects(copy=False) before interpolating instead.\n",
      "  data1['DATEREADHESION'] = data1['DATEREADHESION'].interpolate(method='time')\n"
     ]
    }
   ],
   "source": [
    "# Interpolation des dates manquantes\n",
    "data1['DATEREADHESION'] = data1['DATEREADHESION'].interpolate(method='time')\n",
    "\n",
    "# Afficher le DataFrame après l'interpolation\n",
    "print(data1)"
   ]
  },
  {
   "cell_type": "code",
   "execution_count": 74,
   "id": "230a219e",
   "metadata": {
    "ExecuteTime": {
     "end_time": "2024-05-28T08:05:28.367934Z",
     "start_time": "2024-05-28T08:05:28.349380Z"
    }
   },
   "outputs": [
    {
     "data": {
      "text/plain": [
       "0         False\n",
       "1         False\n",
       "2         False\n",
       "3         False\n",
       "4         False\n",
       "          ...  \n",
       "720085    False\n",
       "720086    False\n",
       "720087    False\n",
       "720088    False\n",
       "720089    False\n",
       "Name: CODEINSEE, Length: 720090, dtype: bool"
      ]
     },
     "execution_count": 74,
     "metadata": {},
     "output_type": "execute_result"
    }
   ],
   "source": [
    "data1['CODEINSEE'].isnull()"
   ]
  },
  {
   "cell_type": "code",
   "execution_count": 75,
   "id": "88fbeb05",
   "metadata": {
    "ExecuteTime": {
     "end_time": "2024-05-28T08:05:30.656527Z",
     "start_time": "2024-05-28T08:05:30.579090Z"
    }
   },
   "outputs": [],
   "source": [
    "data1.dropna(subset=['CODEINSEE'], inplace=True)"
   ]
  },
  {
   "cell_type": "code",
   "execution_count": 76,
   "id": "9c8892e4",
   "metadata": {
    "ExecuteTime": {
     "end_time": "2024-05-28T08:19:17.578021Z",
     "start_time": "2024-05-28T08:19:17.561724Z"
    }
   },
   "outputs": [
    {
     "data": {
      "text/plain": [
       "0         False\n",
       "1         False\n",
       "2         False\n",
       "3         False\n",
       "4         False\n",
       "          ...  \n",
       "720085    False\n",
       "720086    False\n",
       "720087    False\n",
       "720088    False\n",
       "720089    False\n",
       "Name: DATEREADHESION, Length: 709392, dtype: bool"
      ]
     },
     "execution_count": 76,
     "metadata": {},
     "output_type": "execute_result"
    }
   ],
   "source": [
    "data1['DATEREADHESION'].isnull()"
   ]
  },
  {
   "cell_type": "code",
   "execution_count": 77,
   "id": "738a89f8",
   "metadata": {
    "ExecuteTime": {
     "end_time": "2024-05-28T08:20:48.223713Z",
     "start_time": "2024-05-28T08:20:48.151439Z"
    }
   },
   "outputs": [],
   "source": [
    "data1.dropna(subset=['DATEREADHESION'], inplace=True)"
   ]
  },
  {
   "cell_type": "code",
   "execution_count": 78,
   "id": "c9ba3528",
   "metadata": {
    "ExecuteTime": {
     "end_time": "2024-05-28T08:19:35.950718Z",
     "start_time": "2024-05-28T08:19:35.922392Z"
    }
   },
   "outputs": [
    {
     "data": {
      "text/plain": [
       "0         False\n",
       "1         False\n",
       "2         False\n",
       "3         False\n",
       "4         False\n",
       "          ...  \n",
       "720085    False\n",
       "720086    False\n",
       "720087    False\n",
       "720088    False\n",
       "720089    False\n",
       "Name: AGE_GROUP, Length: 407389, dtype: bool"
      ]
     },
     "execution_count": 78,
     "metadata": {},
     "output_type": "execute_result"
    }
   ],
   "source": [
    "data1['AGE_GROUP'].isnull()"
   ]
  },
  {
   "cell_type": "code",
   "execution_count": 79,
   "id": "4e2d39fa",
   "metadata": {
    "ExecuteTime": {
     "end_time": "2024-05-28T08:19:55.282428Z",
     "start_time": "2024-05-28T08:19:55.255046Z"
    }
   },
   "outputs": [
    {
     "data": {
      "text/plain": [
       "AGE_GROUP\n",
       "nan              326057\n",
       "AGE DE 61-100     39498\n",
       "AGE DE 46-60      27990\n",
       "AGE DE 31-45      13240\n",
       "AGE DE 18-30        604\n",
       "Name: count, dtype: int64"
      ]
     },
     "execution_count": 79,
     "metadata": {},
     "output_type": "execute_result"
    }
   ],
   "source": [
    "data1['AGE_GROUP'].value_counts()"
   ]
  },
  {
   "cell_type": "code",
   "execution_count": 80,
   "id": "110291d9",
   "metadata": {
    "ExecuteTime": {
     "end_time": "2024-05-28T08:20:11.689971Z",
     "start_time": "2024-05-28T08:20:11.640221Z"
    }
   },
   "outputs": [],
   "source": [
    "data1['AGE_GROUP'] = data1['AGE_GROUP'].replace(np.nan, \"Inconnue\")\n"
   ]
  },
  {
   "cell_type": "code",
   "execution_count": 81,
   "id": "405b8096",
   "metadata": {
    "ExecuteTime": {
     "end_time": "2024-05-28T08:20:12.511269Z",
     "start_time": "2024-05-28T08:20:12.443402Z"
    }
   },
   "outputs": [
    {
     "name": "stderr",
     "output_type": "stream",
     "text": [
      "C:\\Users\\belga\\AppData\\Local\\Temp\\ipykernel_30612\\4281832796.py:1: FutureWarning: DataFrame.applymap has been deprecated. Use DataFrame.map instead.\n",
      "  data1['AGE_GROUP']=data1[['AGE_GROUP']].applymap(lambda x: \"Inconnue\" if x=='nan' else x)\n"
     ]
    }
   ],
   "source": [
    "data1['AGE_GROUP']=data1[['AGE_GROUP']].applymap(lambda x: \"Inconnue\" if x=='nan' else x)\n"
   ]
  },
  {
   "cell_type": "code",
   "execution_count": 43,
   "id": "e16b807e",
   "metadata": {
    "ExecuteTime": {
     "end_time": "2024-05-28T08:20:20.457326Z",
     "start_time": "2024-05-28T08:20:20.436960Z"
    }
   },
   "outputs": [
    {
     "data": {
      "text/plain": [
       "AGE_GROUP\n",
       "Inconnue         326057\n",
       "AGE DE 61-100     39498\n",
       "AGE DE 46-60      27990\n",
       "AGE DE 31-45      13240\n",
       "AGE DE 18-30        604\n",
       "Name: count, dtype: int64"
      ]
     },
     "execution_count": 43,
     "metadata": {},
     "output_type": "execute_result"
    }
   ],
   "source": [
    "data1['AGE_GROUP'].value_counts()"
   ]
  },
  {
   "cell_type": "code",
   "execution_count": 82,
   "id": "f1082a9d",
   "metadata": {
    "ExecuteTime": {
     "end_time": "2024-05-28T08:20:28.704226Z",
     "start_time": "2024-05-28T08:20:28.463014Z"
    }
   },
   "outputs": [],
   "source": [
    "data1.dropna(subset=['AGE_GROUP'], inplace=True)"
   ]
  },
  {
   "cell_type": "markdown",
   "id": "cc91aac6",
   "metadata": {},
   "source": [
    "Vérification du taitement."
   ]
  },
  {
   "cell_type": "code",
   "execution_count": 83,
   "id": "e0c5bd27",
   "metadata": {
    "ExecuteTime": {
     "end_time": "2024-05-28T08:21:17.671739Z",
     "start_time": "2024-05-28T08:21:17.578539Z"
    }
   },
   "outputs": [
    {
     "data": {
      "text/plain": [
       "IDCLIENT             0\n",
       "CIVILITE             0\n",
       "AGE                  0\n",
       "MAGASIN              0\n",
       "DATEDEBUTADHESION    0\n",
       "DATEREADHESION       0\n",
       "DATEFINADHESION      0\n",
       "CODEINSEE            0\n",
       "PAYS                 0\n",
       "AGE                  0\n",
       "AGE_GROUP            0\n",
       "dtype: int64"
      ]
     },
     "execution_count": 83,
     "metadata": {},
     "output_type": "execute_result"
    }
   ],
   "source": [
    "data1.isnull().sum()"
   ]
  },
  {
   "cell_type": "markdown",
   "id": "43f5c3ef",
   "metadata": {},
   "source": [
    "Le traitement des valeurs aberrantes ne concernant que les variables numériques, nous n'allons pas procéder à ce traitement car aucune de nos variables n'est concernées sur ce dataframe."
   ]
  },
  {
   "cell_type": "markdown",
   "id": "26ad869a",
   "metadata": {},
   "source": [
    "Suppression des colonnes dont les informations nous serons pas nécessairement utiles dans le cadre de notre projet."
   ]
  },
  {
   "cell_type": "code",
   "execution_count": 84,
   "id": "b7a14b90",
   "metadata": {
    "ExecuteTime": {
     "end_time": "2024-05-28T08:21:27.730992Z",
     "start_time": "2024-05-28T08:21:27.700350Z"
    }
   },
   "outputs": [],
   "source": [
    "data1.drop(columns=['PAYS'], inplace=True)"
   ]
  },
  {
   "cell_type": "code",
   "execution_count": 85,
   "id": "975c44a7",
   "metadata": {
    "ExecuteTime": {
     "end_time": "2024-05-28T08:21:29.227240Z",
     "start_time": "2024-05-28T08:21:29.204607Z"
    }
   },
   "outputs": [],
   "source": [
    "data1.drop(columns=['AGE'], inplace=True)"
   ]
  },
  {
   "cell_type": "code",
   "execution_count": 86,
   "id": "636b3e0e",
   "metadata": {
    "ExecuteTime": {
     "end_time": "2024-05-28T08:21:31.021238Z",
     "start_time": "2024-05-28T08:21:31.016530Z"
    }
   },
   "outputs": [
    {
     "data": {
      "text/html": [
       "<div>\n",
       "<style scoped>\n",
       "    .dataframe tbody tr th:only-of-type {\n",
       "        vertical-align: middle;\n",
       "    }\n",
       "\n",
       "    .dataframe tbody tr th {\n",
       "        vertical-align: top;\n",
       "    }\n",
       "\n",
       "    .dataframe thead th {\n",
       "        text-align: right;\n",
       "    }\n",
       "</style>\n",
       "<table border=\"1\" class=\"dataframe\">\n",
       "  <thead>\n",
       "    <tr style=\"text-align: right;\">\n",
       "      <th></th>\n",
       "      <th>IDCLIENT</th>\n",
       "      <th>CIVILITE</th>\n",
       "      <th>MAGASIN</th>\n",
       "      <th>DATEDEBUTADHESION</th>\n",
       "      <th>DATEREADHESION</th>\n",
       "      <th>DATEFINADHESION</th>\n",
       "      <th>CODEINSEE</th>\n",
       "      <th>AGE_GROUP</th>\n",
       "    </tr>\n",
       "  </thead>\n",
       "  <tbody>\n",
       "    <tr>\n",
       "      <th>0</th>\n",
       "      <td>155891.0</td>\n",
       "      <td>Madame</td>\n",
       "      <td>VLG</td>\n",
       "      <td>13/05/2005</td>\n",
       "      <td>04/04/2017</td>\n",
       "      <td>30/04/2018</td>\n",
       "      <td>74224</td>\n",
       "      <td>Inconnue</td>\n",
       "    </tr>\n",
       "    <tr>\n",
       "      <th>1</th>\n",
       "      <td>156023.0</td>\n",
       "      <td>Monsieur</td>\n",
       "      <td>VLG</td>\n",
       "      <td>14/05/2005</td>\n",
       "      <td>21/06/2014</td>\n",
       "      <td>30/06/2016</td>\n",
       "      <td>74189</td>\n",
       "      <td>AGE DE 46-60</td>\n",
       "    </tr>\n",
       "    <tr>\n",
       "      <th>2</th>\n",
       "      <td>124203.0</td>\n",
       "      <td>Madame</td>\n",
       "      <td>BEA</td>\n",
       "      <td>16/03/2005</td>\n",
       "      <td>12/10/2017</td>\n",
       "      <td>31/10/2018</td>\n",
       "      <td>63070</td>\n",
       "      <td>Inconnue</td>\n",
       "    </tr>\n",
       "    <tr>\n",
       "      <th>3</th>\n",
       "      <td>156190.0</td>\n",
       "      <td>Madame</td>\n",
       "      <td>SUR</td>\n",
       "      <td>28/08/2006</td>\n",
       "      <td>24/05/2015</td>\n",
       "      <td>31/05/2016</td>\n",
       "      <td>92026</td>\n",
       "      <td>Inconnue</td>\n",
       "    </tr>\n",
       "    <tr>\n",
       "      <th>4</th>\n",
       "      <td>144444.0</td>\n",
       "      <td>Monsieur</td>\n",
       "      <td>LAB</td>\n",
       "      <td>29/04/2006</td>\n",
       "      <td>18/12/2016</td>\n",
       "      <td>31/12/2017</td>\n",
       "      <td>31555</td>\n",
       "      <td>Inconnue</td>\n",
       "    </tr>\n",
       "    <tr>\n",
       "      <th>...</th>\n",
       "      <td>...</td>\n",
       "      <td>...</td>\n",
       "      <td>...</td>\n",
       "      <td>...</td>\n",
       "      <td>...</td>\n",
       "      <td>...</td>\n",
       "      <td>...</td>\n",
       "      <td>...</td>\n",
       "    </tr>\n",
       "    <tr>\n",
       "      <th>720085</th>\n",
       "      <td>1970111.0</td>\n",
       "      <td>Monsieur</td>\n",
       "      <td>IAB</td>\n",
       "      <td>14/04/2011</td>\n",
       "      <td>06/01/2018</td>\n",
       "      <td>31/01/2019</td>\n",
       "      <td>38053</td>\n",
       "      <td>Inconnue</td>\n",
       "    </tr>\n",
       "    <tr>\n",
       "      <th>720086</th>\n",
       "      <td>2297275.0</td>\n",
       "      <td>Monsieur</td>\n",
       "      <td>SEM</td>\n",
       "      <td>07/03/2013</td>\n",
       "      <td>06/01/2018</td>\n",
       "      <td>31/01/2019</td>\n",
       "      <td>57067</td>\n",
       "      <td>AGE DE 31-45</td>\n",
       "    </tr>\n",
       "    <tr>\n",
       "      <th>720087</th>\n",
       "      <td>2305548.0</td>\n",
       "      <td>Monsieur</td>\n",
       "      <td>PRI</td>\n",
       "      <td>22/03/2013</td>\n",
       "      <td>06/01/2018</td>\n",
       "      <td>31/01/2019</td>\n",
       "      <td>38318</td>\n",
       "      <td>Inconnue</td>\n",
       "    </tr>\n",
       "    <tr>\n",
       "      <th>720088</th>\n",
       "      <td>84175.0</td>\n",
       "      <td>Madame</td>\n",
       "      <td>GAI</td>\n",
       "      <td>29/10/2002</td>\n",
       "      <td>07/01/2018</td>\n",
       "      <td>31/01/2019</td>\n",
       "      <td>74082</td>\n",
       "      <td>AGE DE 61-100</td>\n",
       "    </tr>\n",
       "    <tr>\n",
       "      <th>720089</th>\n",
       "      <td>1280004.0</td>\n",
       "      <td>Monsieur</td>\n",
       "      <td>SGL</td>\n",
       "      <td>23/06/2007</td>\n",
       "      <td>07/01/2018</td>\n",
       "      <td>31/01/2019</td>\n",
       "      <td>42218</td>\n",
       "      <td>Inconnue</td>\n",
       "    </tr>\n",
       "  </tbody>\n",
       "</table>\n",
       "<p>407389 rows × 8 columns</p>\n",
       "</div>"
      ],
      "text/plain": [
       "         IDCLIENT  CIVILITE MAGASIN DATEDEBUTADHESION DATEREADHESION  \\\n",
       "0        155891.0    Madame     VLG        13/05/2005     04/04/2017   \n",
       "1        156023.0  Monsieur     VLG        14/05/2005     21/06/2014   \n",
       "2        124203.0    Madame     BEA        16/03/2005     12/10/2017   \n",
       "3        156190.0    Madame     SUR        28/08/2006     24/05/2015   \n",
       "4        144444.0  Monsieur     LAB        29/04/2006     18/12/2016   \n",
       "...           ...       ...     ...               ...            ...   \n",
       "720085  1970111.0  Monsieur     IAB        14/04/2011     06/01/2018   \n",
       "720086  2297275.0  Monsieur     SEM        07/03/2013     06/01/2018   \n",
       "720087  2305548.0  Monsieur     PRI        22/03/2013     06/01/2018   \n",
       "720088    84175.0    Madame     GAI        29/10/2002     07/01/2018   \n",
       "720089  1280004.0  Monsieur     SGL        23/06/2007     07/01/2018   \n",
       "\n",
       "       DATEFINADHESION CODEINSEE      AGE_GROUP  \n",
       "0           30/04/2018     74224       Inconnue  \n",
       "1           30/06/2016     74189   AGE DE 46-60  \n",
       "2           31/10/2018     63070       Inconnue  \n",
       "3           31/05/2016     92026       Inconnue  \n",
       "4           31/12/2017     31555       Inconnue  \n",
       "...                ...       ...            ...  \n",
       "720085      31/01/2019     38053       Inconnue  \n",
       "720086      31/01/2019     57067   AGE DE 31-45  \n",
       "720087      31/01/2019     38318       Inconnue  \n",
       "720088      31/01/2019     74082  AGE DE 61-100  \n",
       "720089      31/01/2019     42218       Inconnue  \n",
       "\n",
       "[407389 rows x 8 columns]"
      ]
     },
     "execution_count": 86,
     "metadata": {},
     "output_type": "execute_result"
    }
   ],
   "source": [
    "data1"
   ]
  },
  {
   "cell_type": "markdown",
   "id": "d92a3cdc",
   "metadata": {},
   "source": [
    "La série de codes ci-dessous nous permet de modifier le format des dates de début et de fin d'adhésion afin de calculer l'ancienneté des clients."
   ]
  },
  {
   "cell_type": "code",
   "execution_count": 87,
   "id": "4943c6d0",
   "metadata": {
    "ExecuteTime": {
     "end_time": "2024-05-28T08:21:50.082900Z",
     "start_time": "2024-05-28T08:21:50.080441Z"
    }
   },
   "outputs": [],
   "source": [
    "import datetime\n",
    "from datetime import timedelta"
   ]
  },
  {
   "cell_type": "code",
   "execution_count": 88,
   "id": "ea93ec8c",
   "metadata": {
    "ExecuteTime": {
     "end_time": "2024-05-28T08:21:51.293829Z",
     "start_time": "2024-05-28T08:21:51.253763Z"
    }
   },
   "outputs": [
    {
     "name": "stderr",
     "output_type": "stream",
     "text": [
      "C:\\Users\\belga\\AppData\\Local\\Temp\\ipykernel_30612\\1125558055.py:1: UserWarning: Parsing dates in %d/%m/%Y format when dayfirst=False (the default) was specified. Pass `dayfirst=True` or specify a format to silence this warning.\n",
      "  data1['DATEDEBUTADHESION'] = pd.to_datetime(data1['DATEDEBUTADHESION'])\n"
     ]
    }
   ],
   "source": [
    "data1['DATEDEBUTADHESION'] = pd.to_datetime(data1['DATEDEBUTADHESION'])"
   ]
  },
  {
   "cell_type": "code",
   "execution_count": 89,
   "id": "2b5ab634",
   "metadata": {
    "ExecuteTime": {
     "end_time": "2024-05-28T08:22:05.221090Z",
     "start_time": "2024-05-28T08:22:05.208181Z"
    }
   },
   "outputs": [],
   "source": [
    "data1['DATEDEBUTADHESION'] = data1['DATEDEBUTADHESION'].dt.year.astype(int)"
   ]
  },
  {
   "cell_type": "code",
   "execution_count": 90,
   "id": "40118b04",
   "metadata": {
    "ExecuteTime": {
     "end_time": "2024-05-28T08:22:08.284217Z",
     "start_time": "2024-05-28T08:22:08.258040Z"
    }
   },
   "outputs": [
    {
     "name": "stderr",
     "output_type": "stream",
     "text": [
      "C:\\Users\\belga\\AppData\\Local\\Temp\\ipykernel_30612\\124944321.py:1: UserWarning: Parsing dates in %d/%m/%Y format when dayfirst=False (the default) was specified. Pass `dayfirst=True` or specify a format to silence this warning.\n",
      "  data1['DATEFINADHESION'] = pd.to_datetime(data1['DATEFINADHESION'])\n"
     ]
    }
   ],
   "source": [
    "data1['DATEFINADHESION'] = pd.to_datetime(data1['DATEFINADHESION'])"
   ]
  },
  {
   "cell_type": "code",
   "execution_count": 91,
   "id": "9beb396c",
   "metadata": {
    "ExecuteTime": {
     "end_time": "2024-05-28T08:22:10.638471Z",
     "start_time": "2024-05-28T08:22:10.623025Z"
    }
   },
   "outputs": [],
   "source": [
    "data1['DATEFINADHESION'] = data1['DATEFINADHESION'].dt.year.astype(int)"
   ]
  },
  {
   "cell_type": "code",
   "execution_count": 92,
   "id": "6bcdab96",
   "metadata": {
    "ExecuteTime": {
     "end_time": "2024-05-28T08:22:12.166014Z",
     "start_time": "2024-05-28T08:22:12.162687Z"
    }
   },
   "outputs": [
    {
     "name": "stdout",
     "output_type": "stream",
     "text": [
      "0    2005\n",
      "1    2005\n",
      "2    2005\n",
      "3    2006\n",
      "4    2006\n",
      "Name: DATEDEBUTADHESION, dtype: int32\n"
     ]
    }
   ],
   "source": [
    "if 'DATEDEBUTADHESION' in data1.columns:\n",
    "    Date_début = data1['DATEDEBUTADHESION']\n",
    "    print(Date_début.head())\n",
    "else:\n",
    "    print(\"La colonne 'DATEDEBUTADHESION' n'existe pas dans le DataFrame.\")"
   ]
  },
  {
   "cell_type": "code",
   "execution_count": 93,
   "id": "1d64a06f",
   "metadata": {
    "ExecuteTime": {
     "end_time": "2024-05-28T08:22:13.846253Z",
     "start_time": "2024-05-28T08:22:13.843958Z"
    }
   },
   "outputs": [
    {
     "name": "stdout",
     "output_type": "stream",
     "text": [
      "0    2018\n",
      "1    2016\n",
      "2    2018\n",
      "3    2016\n",
      "4    2017\n",
      "Name: DATEFINADHESION, dtype: int32\n"
     ]
    }
   ],
   "source": [
    "if 'DATEFINADHESION' in data1.columns:\n",
    "    Date_fin = data1['DATEFINADHESION']\n",
    "    print(Date_fin.head())\n",
    "else:\n",
    "    print(\"La colonne 'DATEFINADHESION' n'existe pas dans le DataFrame.\")"
   ]
  },
  {
   "cell_type": "code",
   "execution_count": 94,
   "id": "ebb7d61c",
   "metadata": {
    "ExecuteTime": {
     "end_time": "2024-05-28T08:22:17.725168Z",
     "start_time": "2024-05-28T08:22:17.723090Z"
    }
   },
   "outputs": [],
   "source": [
    "ANCIENNETE = Date_fin - Date_début"
   ]
  },
  {
   "cell_type": "code",
   "execution_count": 95,
   "id": "b6dd4e9a",
   "metadata": {
    "ExecuteTime": {
     "end_time": "2024-05-28T08:22:18.771810Z",
     "start_time": "2024-05-28T08:22:18.768972Z"
    }
   },
   "outputs": [
    {
     "name": "stdout",
     "output_type": "stream",
     "text": [
      "0         13\n",
      "1         11\n",
      "2         13\n",
      "3         10\n",
      "4         11\n",
      "          ..\n",
      "720085     8\n",
      "720086     6\n",
      "720087     6\n",
      "720088    17\n",
      "720089    12\n",
      "Length: 407389, dtype: int32\n"
     ]
    }
   ],
   "source": [
    "print(ANCIENNETE)"
   ]
  },
  {
   "cell_type": "markdown",
   "id": "189a8794",
   "metadata": {},
   "source": [
    "Nous allons maintenant intégrer cette variables d'ancienneté à notre jeu de données."
   ]
  },
  {
   "cell_type": "code",
   "execution_count": 96,
   "id": "73eb521c",
   "metadata": {
    "ExecuteTime": {
     "end_time": "2024-05-28T08:22:21.645850Z",
     "start_time": "2024-05-28T08:22:21.643019Z"
    }
   },
   "outputs": [],
   "source": [
    "data1.insert(loc=6, column='ANCIENNETE', value=ANCIENNETE)"
   ]
  },
  {
   "cell_type": "code",
   "execution_count": 97,
   "id": "23ce9a0b",
   "metadata": {
    "ExecuteTime": {
     "end_time": "2024-05-28T08:22:22.641194Z",
     "start_time": "2024-05-28T08:22:22.636267Z"
    }
   },
   "outputs": [
    {
     "data": {
      "text/html": [
       "<div>\n",
       "<style scoped>\n",
       "    .dataframe tbody tr th:only-of-type {\n",
       "        vertical-align: middle;\n",
       "    }\n",
       "\n",
       "    .dataframe tbody tr th {\n",
       "        vertical-align: top;\n",
       "    }\n",
       "\n",
       "    .dataframe thead th {\n",
       "        text-align: right;\n",
       "    }\n",
       "</style>\n",
       "<table border=\"1\" class=\"dataframe\">\n",
       "  <thead>\n",
       "    <tr style=\"text-align: right;\">\n",
       "      <th></th>\n",
       "      <th>IDCLIENT</th>\n",
       "      <th>CIVILITE</th>\n",
       "      <th>MAGASIN</th>\n",
       "      <th>DATEDEBUTADHESION</th>\n",
       "      <th>DATEREADHESION</th>\n",
       "      <th>DATEFINADHESION</th>\n",
       "      <th>ANCIENNETE</th>\n",
       "      <th>CODEINSEE</th>\n",
       "      <th>AGE_GROUP</th>\n",
       "    </tr>\n",
       "  </thead>\n",
       "  <tbody>\n",
       "    <tr>\n",
       "      <th>0</th>\n",
       "      <td>155891.0</td>\n",
       "      <td>Madame</td>\n",
       "      <td>VLG</td>\n",
       "      <td>2005</td>\n",
       "      <td>04/04/2017</td>\n",
       "      <td>2018</td>\n",
       "      <td>13</td>\n",
       "      <td>74224</td>\n",
       "      <td>Inconnue</td>\n",
       "    </tr>\n",
       "    <tr>\n",
       "      <th>1</th>\n",
       "      <td>156023.0</td>\n",
       "      <td>Monsieur</td>\n",
       "      <td>VLG</td>\n",
       "      <td>2005</td>\n",
       "      <td>21/06/2014</td>\n",
       "      <td>2016</td>\n",
       "      <td>11</td>\n",
       "      <td>74189</td>\n",
       "      <td>AGE DE 46-60</td>\n",
       "    </tr>\n",
       "    <tr>\n",
       "      <th>2</th>\n",
       "      <td>124203.0</td>\n",
       "      <td>Madame</td>\n",
       "      <td>BEA</td>\n",
       "      <td>2005</td>\n",
       "      <td>12/10/2017</td>\n",
       "      <td>2018</td>\n",
       "      <td>13</td>\n",
       "      <td>63070</td>\n",
       "      <td>Inconnue</td>\n",
       "    </tr>\n",
       "    <tr>\n",
       "      <th>3</th>\n",
       "      <td>156190.0</td>\n",
       "      <td>Madame</td>\n",
       "      <td>SUR</td>\n",
       "      <td>2006</td>\n",
       "      <td>24/05/2015</td>\n",
       "      <td>2016</td>\n",
       "      <td>10</td>\n",
       "      <td>92026</td>\n",
       "      <td>Inconnue</td>\n",
       "    </tr>\n",
       "    <tr>\n",
       "      <th>4</th>\n",
       "      <td>144444.0</td>\n",
       "      <td>Monsieur</td>\n",
       "      <td>LAB</td>\n",
       "      <td>2006</td>\n",
       "      <td>18/12/2016</td>\n",
       "      <td>2017</td>\n",
       "      <td>11</td>\n",
       "      <td>31555</td>\n",
       "      <td>Inconnue</td>\n",
       "    </tr>\n",
       "    <tr>\n",
       "      <th>...</th>\n",
       "      <td>...</td>\n",
       "      <td>...</td>\n",
       "      <td>...</td>\n",
       "      <td>...</td>\n",
       "      <td>...</td>\n",
       "      <td>...</td>\n",
       "      <td>...</td>\n",
       "      <td>...</td>\n",
       "      <td>...</td>\n",
       "    </tr>\n",
       "    <tr>\n",
       "      <th>720085</th>\n",
       "      <td>1970111.0</td>\n",
       "      <td>Monsieur</td>\n",
       "      <td>IAB</td>\n",
       "      <td>2011</td>\n",
       "      <td>06/01/2018</td>\n",
       "      <td>2019</td>\n",
       "      <td>8</td>\n",
       "      <td>38053</td>\n",
       "      <td>Inconnue</td>\n",
       "    </tr>\n",
       "    <tr>\n",
       "      <th>720086</th>\n",
       "      <td>2297275.0</td>\n",
       "      <td>Monsieur</td>\n",
       "      <td>SEM</td>\n",
       "      <td>2013</td>\n",
       "      <td>06/01/2018</td>\n",
       "      <td>2019</td>\n",
       "      <td>6</td>\n",
       "      <td>57067</td>\n",
       "      <td>AGE DE 31-45</td>\n",
       "    </tr>\n",
       "    <tr>\n",
       "      <th>720087</th>\n",
       "      <td>2305548.0</td>\n",
       "      <td>Monsieur</td>\n",
       "      <td>PRI</td>\n",
       "      <td>2013</td>\n",
       "      <td>06/01/2018</td>\n",
       "      <td>2019</td>\n",
       "      <td>6</td>\n",
       "      <td>38318</td>\n",
       "      <td>Inconnue</td>\n",
       "    </tr>\n",
       "    <tr>\n",
       "      <th>720088</th>\n",
       "      <td>84175.0</td>\n",
       "      <td>Madame</td>\n",
       "      <td>GAI</td>\n",
       "      <td>2002</td>\n",
       "      <td>07/01/2018</td>\n",
       "      <td>2019</td>\n",
       "      <td>17</td>\n",
       "      <td>74082</td>\n",
       "      <td>AGE DE 61-100</td>\n",
       "    </tr>\n",
       "    <tr>\n",
       "      <th>720089</th>\n",
       "      <td>1280004.0</td>\n",
       "      <td>Monsieur</td>\n",
       "      <td>SGL</td>\n",
       "      <td>2007</td>\n",
       "      <td>07/01/2018</td>\n",
       "      <td>2019</td>\n",
       "      <td>12</td>\n",
       "      <td>42218</td>\n",
       "      <td>Inconnue</td>\n",
       "    </tr>\n",
       "  </tbody>\n",
       "</table>\n",
       "<p>407389 rows × 9 columns</p>\n",
       "</div>"
      ],
      "text/plain": [
       "         IDCLIENT  CIVILITE MAGASIN  DATEDEBUTADHESION DATEREADHESION  \\\n",
       "0        155891.0    Madame     VLG               2005     04/04/2017   \n",
       "1        156023.0  Monsieur     VLG               2005     21/06/2014   \n",
       "2        124203.0    Madame     BEA               2005     12/10/2017   \n",
       "3        156190.0    Madame     SUR               2006     24/05/2015   \n",
       "4        144444.0  Monsieur     LAB               2006     18/12/2016   \n",
       "...           ...       ...     ...                ...            ...   \n",
       "720085  1970111.0  Monsieur     IAB               2011     06/01/2018   \n",
       "720086  2297275.0  Monsieur     SEM               2013     06/01/2018   \n",
       "720087  2305548.0  Monsieur     PRI               2013     06/01/2018   \n",
       "720088    84175.0    Madame     GAI               2002     07/01/2018   \n",
       "720089  1280004.0  Monsieur     SGL               2007     07/01/2018   \n",
       "\n",
       "        DATEFINADHESION  ANCIENNETE CODEINSEE      AGE_GROUP  \n",
       "0                  2018          13     74224       Inconnue  \n",
       "1                  2016          11     74189   AGE DE 46-60  \n",
       "2                  2018          13     63070       Inconnue  \n",
       "3                  2016          10     92026       Inconnue  \n",
       "4                  2017          11     31555       Inconnue  \n",
       "...                 ...         ...       ...            ...  \n",
       "720085             2019           8     38053       Inconnue  \n",
       "720086             2019           6     57067   AGE DE 31-45  \n",
       "720087             2019           6     38318       Inconnue  \n",
       "720088             2019          17     74082  AGE DE 61-100  \n",
       "720089             2019          12     42218       Inconnue  \n",
       "\n",
       "[407389 rows x 9 columns]"
      ]
     },
     "execution_count": 97,
     "metadata": {},
     "output_type": "execute_result"
    }
   ],
   "source": [
    "data1"
   ]
  },
  {
   "cell_type": "markdown",
   "id": "0df63ed9",
   "metadata": {},
   "source": [
    "Ci-dessous, nous procédons à la suppression des dates de début et de fin d'adhésion car nous n'en avons plus besoin."
   ]
  },
  {
   "cell_type": "code",
   "execution_count": 98,
   "id": "828252d3",
   "metadata": {
    "ExecuteTime": {
     "end_time": "2024-05-28T08:24:26.005030Z",
     "start_time": "2024-05-28T08:24:25.865790Z"
    }
   },
   "outputs": [],
   "source": [
    "data1.drop(columns=['DATEDEBUTADHESION'], inplace=True)"
   ]
  },
  {
   "cell_type": "code",
   "execution_count": 99,
   "id": "b802bd13",
   "metadata": {
    "ExecuteTime": {
     "end_time": "2024-05-28T08:22:31.380826Z",
     "start_time": "2024-05-28T08:22:31.363087Z"
    }
   },
   "outputs": [],
   "source": [
    "data1.drop(columns=['DATEFINADHESION'], inplace=True)"
   ]
  },
  {
   "cell_type": "markdown",
   "id": "baca6bf7",
   "metadata": {},
   "source": [
    "Vérification des traitements."
   ]
  },
  {
   "cell_type": "code",
   "execution_count": 100,
   "id": "106205c4",
   "metadata": {
    "ExecuteTime": {
     "end_time": "2024-05-28T08:22:34.468654Z",
     "start_time": "2024-05-28T08:22:34.462685Z"
    }
   },
   "outputs": [
    {
     "data": {
      "text/html": [
       "<div>\n",
       "<style scoped>\n",
       "    .dataframe tbody tr th:only-of-type {\n",
       "        vertical-align: middle;\n",
       "    }\n",
       "\n",
       "    .dataframe tbody tr th {\n",
       "        vertical-align: top;\n",
       "    }\n",
       "\n",
       "    .dataframe thead th {\n",
       "        text-align: right;\n",
       "    }\n",
       "</style>\n",
       "<table border=\"1\" class=\"dataframe\">\n",
       "  <thead>\n",
       "    <tr style=\"text-align: right;\">\n",
       "      <th></th>\n",
       "      <th>IDCLIENT</th>\n",
       "      <th>CIVILITE</th>\n",
       "      <th>MAGASIN</th>\n",
       "      <th>DATEREADHESION</th>\n",
       "      <th>ANCIENNETE</th>\n",
       "      <th>CODEINSEE</th>\n",
       "      <th>AGE_GROUP</th>\n",
       "    </tr>\n",
       "  </thead>\n",
       "  <tbody>\n",
       "    <tr>\n",
       "      <th>0</th>\n",
       "      <td>155891.0</td>\n",
       "      <td>Madame</td>\n",
       "      <td>VLG</td>\n",
       "      <td>04/04/2017</td>\n",
       "      <td>13</td>\n",
       "      <td>74224</td>\n",
       "      <td>Inconnue</td>\n",
       "    </tr>\n",
       "    <tr>\n",
       "      <th>1</th>\n",
       "      <td>156023.0</td>\n",
       "      <td>Monsieur</td>\n",
       "      <td>VLG</td>\n",
       "      <td>21/06/2014</td>\n",
       "      <td>11</td>\n",
       "      <td>74189</td>\n",
       "      <td>AGE DE 46-60</td>\n",
       "    </tr>\n",
       "    <tr>\n",
       "      <th>2</th>\n",
       "      <td>124203.0</td>\n",
       "      <td>Madame</td>\n",
       "      <td>BEA</td>\n",
       "      <td>12/10/2017</td>\n",
       "      <td>13</td>\n",
       "      <td>63070</td>\n",
       "      <td>Inconnue</td>\n",
       "    </tr>\n",
       "    <tr>\n",
       "      <th>3</th>\n",
       "      <td>156190.0</td>\n",
       "      <td>Madame</td>\n",
       "      <td>SUR</td>\n",
       "      <td>24/05/2015</td>\n",
       "      <td>10</td>\n",
       "      <td>92026</td>\n",
       "      <td>Inconnue</td>\n",
       "    </tr>\n",
       "    <tr>\n",
       "      <th>4</th>\n",
       "      <td>144444.0</td>\n",
       "      <td>Monsieur</td>\n",
       "      <td>LAB</td>\n",
       "      <td>18/12/2016</td>\n",
       "      <td>11</td>\n",
       "      <td>31555</td>\n",
       "      <td>Inconnue</td>\n",
       "    </tr>\n",
       "    <tr>\n",
       "      <th>...</th>\n",
       "      <td>...</td>\n",
       "      <td>...</td>\n",
       "      <td>...</td>\n",
       "      <td>...</td>\n",
       "      <td>...</td>\n",
       "      <td>...</td>\n",
       "      <td>...</td>\n",
       "    </tr>\n",
       "    <tr>\n",
       "      <th>720085</th>\n",
       "      <td>1970111.0</td>\n",
       "      <td>Monsieur</td>\n",
       "      <td>IAB</td>\n",
       "      <td>06/01/2018</td>\n",
       "      <td>8</td>\n",
       "      <td>38053</td>\n",
       "      <td>Inconnue</td>\n",
       "    </tr>\n",
       "    <tr>\n",
       "      <th>720086</th>\n",
       "      <td>2297275.0</td>\n",
       "      <td>Monsieur</td>\n",
       "      <td>SEM</td>\n",
       "      <td>06/01/2018</td>\n",
       "      <td>6</td>\n",
       "      <td>57067</td>\n",
       "      <td>AGE DE 31-45</td>\n",
       "    </tr>\n",
       "    <tr>\n",
       "      <th>720087</th>\n",
       "      <td>2305548.0</td>\n",
       "      <td>Monsieur</td>\n",
       "      <td>PRI</td>\n",
       "      <td>06/01/2018</td>\n",
       "      <td>6</td>\n",
       "      <td>38318</td>\n",
       "      <td>Inconnue</td>\n",
       "    </tr>\n",
       "    <tr>\n",
       "      <th>720088</th>\n",
       "      <td>84175.0</td>\n",
       "      <td>Madame</td>\n",
       "      <td>GAI</td>\n",
       "      <td>07/01/2018</td>\n",
       "      <td>17</td>\n",
       "      <td>74082</td>\n",
       "      <td>AGE DE 61-100</td>\n",
       "    </tr>\n",
       "    <tr>\n",
       "      <th>720089</th>\n",
       "      <td>1280004.0</td>\n",
       "      <td>Monsieur</td>\n",
       "      <td>SGL</td>\n",
       "      <td>07/01/2018</td>\n",
       "      <td>12</td>\n",
       "      <td>42218</td>\n",
       "      <td>Inconnue</td>\n",
       "    </tr>\n",
       "  </tbody>\n",
       "</table>\n",
       "<p>407389 rows × 7 columns</p>\n",
       "</div>"
      ],
      "text/plain": [
       "         IDCLIENT  CIVILITE MAGASIN DATEREADHESION  ANCIENNETE CODEINSEE  \\\n",
       "0        155891.0    Madame     VLG     04/04/2017          13     74224   \n",
       "1        156023.0  Monsieur     VLG     21/06/2014          11     74189   \n",
       "2        124203.0    Madame     BEA     12/10/2017          13     63070   \n",
       "3        156190.0    Madame     SUR     24/05/2015          10     92026   \n",
       "4        144444.0  Monsieur     LAB     18/12/2016          11     31555   \n",
       "...           ...       ...     ...            ...         ...       ...   \n",
       "720085  1970111.0  Monsieur     IAB     06/01/2018           8     38053   \n",
       "720086  2297275.0  Monsieur     SEM     06/01/2018           6     57067   \n",
       "720087  2305548.0  Monsieur     PRI     06/01/2018           6     38318   \n",
       "720088    84175.0    Madame     GAI     07/01/2018          17     74082   \n",
       "720089  1280004.0  Monsieur     SGL     07/01/2018          12     42218   \n",
       "\n",
       "            AGE_GROUP  \n",
       "0            Inconnue  \n",
       "1        AGE DE 46-60  \n",
       "2            Inconnue  \n",
       "3            Inconnue  \n",
       "4            Inconnue  \n",
       "...               ...  \n",
       "720085       Inconnue  \n",
       "720086   AGE DE 31-45  \n",
       "720087       Inconnue  \n",
       "720088  AGE DE 61-100  \n",
       "720089       Inconnue  \n",
       "\n",
       "[407389 rows x 7 columns]"
      ]
     },
     "execution_count": 100,
     "metadata": {},
     "output_type": "execute_result"
    }
   ],
   "source": [
    "data1"
   ]
  },
  {
   "cell_type": "code",
   "execution_count": 101,
   "id": "f15c0d04",
   "metadata": {
    "ExecuteTime": {
     "end_time": "2024-05-28T08:22:37.261143Z",
     "start_time": "2024-05-28T08:22:37.217070Z"
    }
   },
   "outputs": [
    {
     "name": "stdout",
     "output_type": "stream",
     "text": [
      "<class 'pandas.core.frame.DataFrame'>\n",
      "Index: 407389 entries, 0 to 720089\n",
      "Data columns (total 7 columns):\n",
      " #   Column          Non-Null Count   Dtype \n",
      "---  ------          --------------   ----- \n",
      " 0   IDCLIENT        407389 non-null  object\n",
      " 1   CIVILITE        407389 non-null  object\n",
      " 2   MAGASIN         407389 non-null  object\n",
      " 3   DATEREADHESION  407389 non-null  object\n",
      " 4   ANCIENNETE      407389 non-null  int32 \n",
      " 5   CODEINSEE       407389 non-null  object\n",
      " 6   AGE_GROUP       407389 non-null  object\n",
      "dtypes: int32(1), object(6)\n",
      "memory usage: 23.3+ MB\n"
     ]
    }
   ],
   "source": [
    "data1.info()"
   ]
  },
  {
   "cell_type": "markdown",
   "id": "792b748e",
   "metadata": {},
   "source": [
    "Le code ci-dessous va également nous permettre de modifier le format de la date de ré-adhésion."
   ]
  },
  {
   "cell_type": "code",
   "execution_count": 102,
   "id": "11a619e1",
   "metadata": {
    "ExecuteTime": {
     "end_time": "2024-05-28T08:22:43.382631Z",
     "start_time": "2024-05-28T08:22:43.040664Z"
    }
   },
   "outputs": [],
   "source": [
    "data1[\"DATEREADHESION\"] = pd.to_datetime(data1['DATEREADHESION'].str.strip(), format='%d/%m/%Y')"
   ]
  },
  {
   "cell_type": "markdown",
   "id": "6c784b43",
   "metadata": {},
   "source": [
    "Puis, nous supprimons les dates de ré-adhésion post 2017 car le périmètre temps de notre projet de dépasse pas l'année 2017."
   ]
  },
  {
   "cell_type": "code",
   "execution_count": 103,
   "id": "bbf63d5b",
   "metadata": {
    "ExecuteTime": {
     "end_time": "2024-05-28T08:23:27.580035Z",
     "start_time": "2024-05-28T08:23:27.524998Z"
    }
   },
   "outputs": [],
   "source": [
    "data1['ANCIENNETE_READ'] = np.where(data1['DATEREADHESION'] >= \"01/01/2018\", 'Inconnue', data1['ANCIENNETE'])\n"
   ]
  },
  {
   "cell_type": "code",
   "execution_count": 104,
   "id": "7919d356",
   "metadata": {
    "ExecuteTime": {
     "end_time": "2024-05-28T08:23:39.441222Z",
     "start_time": "2024-05-28T08:23:39.438207Z"
    }
   },
   "outputs": [
    {
     "data": {
      "text/plain": [
       "0               13\n",
       "1               11\n",
       "2               13\n",
       "3               10\n",
       "4               11\n",
       "            ...   \n",
       "720085    Inconnue\n",
       "720086    Inconnue\n",
       "720087    Inconnue\n",
       "720088    Inconnue\n",
       "720089    Inconnue\n",
       "Name: ANCIENNETE_READ, Length: 407389, dtype: object"
      ]
     },
     "execution_count": 104,
     "metadata": {},
     "output_type": "execute_result"
    }
   ],
   "source": [
    "data1['ANCIENNETE_READ']"
   ]
  },
  {
   "cell_type": "code",
   "execution_count": 105,
   "id": "36c18b9c69163613",
   "metadata": {
    "ExecuteTime": {
     "end_time": "2024-05-28T08:23:59.527714Z",
     "start_time": "2024-05-28T08:23:59.521507Z"
    }
   },
   "outputs": [
    {
     "data": {
      "text/html": [
       "<div>\n",
       "<style scoped>\n",
       "    .dataframe tbody tr th:only-of-type {\n",
       "        vertical-align: middle;\n",
       "    }\n",
       "\n",
       "    .dataframe tbody tr th {\n",
       "        vertical-align: top;\n",
       "    }\n",
       "\n",
       "    .dataframe thead th {\n",
       "        text-align: right;\n",
       "    }\n",
       "</style>\n",
       "<table border=\"1\" class=\"dataframe\">\n",
       "  <thead>\n",
       "    <tr style=\"text-align: right;\">\n",
       "      <th></th>\n",
       "      <th>IDCLIENT</th>\n",
       "      <th>CIVILITE</th>\n",
       "      <th>MAGASIN</th>\n",
       "      <th>DATEREADHESION</th>\n",
       "      <th>ANCIENNETE</th>\n",
       "      <th>CODEINSEE</th>\n",
       "      <th>AGE_GROUP</th>\n",
       "      <th>ANCIENNETE_READ</th>\n",
       "    </tr>\n",
       "  </thead>\n",
       "  <tbody>\n",
       "    <tr>\n",
       "      <th>0</th>\n",
       "      <td>155891.0</td>\n",
       "      <td>Madame</td>\n",
       "      <td>VLG</td>\n",
       "      <td>2017-04-04</td>\n",
       "      <td>13</td>\n",
       "      <td>74224</td>\n",
       "      <td>Inconnue</td>\n",
       "      <td>13</td>\n",
       "    </tr>\n",
       "    <tr>\n",
       "      <th>1</th>\n",
       "      <td>156023.0</td>\n",
       "      <td>Monsieur</td>\n",
       "      <td>VLG</td>\n",
       "      <td>2014-06-21</td>\n",
       "      <td>11</td>\n",
       "      <td>74189</td>\n",
       "      <td>AGE DE 46-60</td>\n",
       "      <td>11</td>\n",
       "    </tr>\n",
       "    <tr>\n",
       "      <th>2</th>\n",
       "      <td>124203.0</td>\n",
       "      <td>Madame</td>\n",
       "      <td>BEA</td>\n",
       "      <td>2017-10-12</td>\n",
       "      <td>13</td>\n",
       "      <td>63070</td>\n",
       "      <td>Inconnue</td>\n",
       "      <td>13</td>\n",
       "    </tr>\n",
       "    <tr>\n",
       "      <th>3</th>\n",
       "      <td>156190.0</td>\n",
       "      <td>Madame</td>\n",
       "      <td>SUR</td>\n",
       "      <td>2015-05-24</td>\n",
       "      <td>10</td>\n",
       "      <td>92026</td>\n",
       "      <td>Inconnue</td>\n",
       "      <td>10</td>\n",
       "    </tr>\n",
       "    <tr>\n",
       "      <th>4</th>\n",
       "      <td>144444.0</td>\n",
       "      <td>Monsieur</td>\n",
       "      <td>LAB</td>\n",
       "      <td>2016-12-18</td>\n",
       "      <td>11</td>\n",
       "      <td>31555</td>\n",
       "      <td>Inconnue</td>\n",
       "      <td>11</td>\n",
       "    </tr>\n",
       "    <tr>\n",
       "      <th>...</th>\n",
       "      <td>...</td>\n",
       "      <td>...</td>\n",
       "      <td>...</td>\n",
       "      <td>...</td>\n",
       "      <td>...</td>\n",
       "      <td>...</td>\n",
       "      <td>...</td>\n",
       "      <td>...</td>\n",
       "    </tr>\n",
       "    <tr>\n",
       "      <th>720085</th>\n",
       "      <td>1970111.0</td>\n",
       "      <td>Monsieur</td>\n",
       "      <td>IAB</td>\n",
       "      <td>2018-01-06</td>\n",
       "      <td>8</td>\n",
       "      <td>38053</td>\n",
       "      <td>Inconnue</td>\n",
       "      <td>Inconnue</td>\n",
       "    </tr>\n",
       "    <tr>\n",
       "      <th>720086</th>\n",
       "      <td>2297275.0</td>\n",
       "      <td>Monsieur</td>\n",
       "      <td>SEM</td>\n",
       "      <td>2018-01-06</td>\n",
       "      <td>6</td>\n",
       "      <td>57067</td>\n",
       "      <td>AGE DE 31-45</td>\n",
       "      <td>Inconnue</td>\n",
       "    </tr>\n",
       "    <tr>\n",
       "      <th>720087</th>\n",
       "      <td>2305548.0</td>\n",
       "      <td>Monsieur</td>\n",
       "      <td>PRI</td>\n",
       "      <td>2018-01-06</td>\n",
       "      <td>6</td>\n",
       "      <td>38318</td>\n",
       "      <td>Inconnue</td>\n",
       "      <td>Inconnue</td>\n",
       "    </tr>\n",
       "    <tr>\n",
       "      <th>720088</th>\n",
       "      <td>84175.0</td>\n",
       "      <td>Madame</td>\n",
       "      <td>GAI</td>\n",
       "      <td>2018-01-07</td>\n",
       "      <td>17</td>\n",
       "      <td>74082</td>\n",
       "      <td>AGE DE 61-100</td>\n",
       "      <td>Inconnue</td>\n",
       "    </tr>\n",
       "    <tr>\n",
       "      <th>720089</th>\n",
       "      <td>1280004.0</td>\n",
       "      <td>Monsieur</td>\n",
       "      <td>SGL</td>\n",
       "      <td>2018-01-07</td>\n",
       "      <td>12</td>\n",
       "      <td>42218</td>\n",
       "      <td>Inconnue</td>\n",
       "      <td>Inconnue</td>\n",
       "    </tr>\n",
       "  </tbody>\n",
       "</table>\n",
       "<p>407389 rows × 8 columns</p>\n",
       "</div>"
      ],
      "text/plain": [
       "         IDCLIENT  CIVILITE MAGASIN DATEREADHESION  ANCIENNETE CODEINSEE  \\\n",
       "0        155891.0    Madame     VLG     2017-04-04          13     74224   \n",
       "1        156023.0  Monsieur     VLG     2014-06-21          11     74189   \n",
       "2        124203.0    Madame     BEA     2017-10-12          13     63070   \n",
       "3        156190.0    Madame     SUR     2015-05-24          10     92026   \n",
       "4        144444.0  Monsieur     LAB     2016-12-18          11     31555   \n",
       "...           ...       ...     ...            ...         ...       ...   \n",
       "720085  1970111.0  Monsieur     IAB     2018-01-06           8     38053   \n",
       "720086  2297275.0  Monsieur     SEM     2018-01-06           6     57067   \n",
       "720087  2305548.0  Monsieur     PRI     2018-01-06           6     38318   \n",
       "720088    84175.0    Madame     GAI     2018-01-07          17     74082   \n",
       "720089  1280004.0  Monsieur     SGL     2018-01-07          12     42218   \n",
       "\n",
       "            AGE_GROUP ANCIENNETE_READ  \n",
       "0            Inconnue              13  \n",
       "1        AGE DE 46-60              11  \n",
       "2            Inconnue              13  \n",
       "3            Inconnue              10  \n",
       "4            Inconnue              11  \n",
       "...               ...             ...  \n",
       "720085       Inconnue        Inconnue  \n",
       "720086   AGE DE 31-45        Inconnue  \n",
       "720087       Inconnue        Inconnue  \n",
       "720088  AGE DE 61-100        Inconnue  \n",
       "720089       Inconnue        Inconnue  \n",
       "\n",
       "[407389 rows x 8 columns]"
      ]
     },
     "execution_count": 105,
     "metadata": {},
     "output_type": "execute_result"
    }
   ],
   "source": [
    "data1"
   ]
  },
  {
   "cell_type": "markdown",
   "id": "77fdb35e",
   "metadata": {},
   "source": [
    "Chargement du jeu de données REF_MAGASIN"
   ]
  },
  {
   "cell_type": "code",
   "execution_count": 107,
   "id": "f55b554c",
   "metadata": {
    "ExecuteTime": {
     "end_time": "2024-05-22T15:22:48.111752Z",
     "start_time": "2024-05-22T15:22:48.102700Z"
    }
   },
   "outputs": [
    {
     "name": "stdout",
     "output_type": "stream",
     "text": [
      "(67, 4)\n",
      "['CODESOCIETE', 'VILLE', 'LIBELLEDEPARTEMENT', 'LIBELLEREGIONCOMMERCIALE']\n"
     ]
    }
   ],
   "source": [
    "dataset_path = \"C:\\\\Users\\\\belga\\\\OneDrive\\\\Bureau\\\\EMBA Big Data\\\\Module Datascience\\\\Projet Data Science S2 2024\\\\REF_MAGASIN.csv\"\n",
    "data5 = pd.read_csv(dataset_path, sep='|', low_memory=False)\n",
    "print(data5.shape)\n",
    "print(list(data5.columns))"
   ]
  },
  {
   "cell_type": "markdown",
   "id": "02ebf8a7",
   "metadata": {},
   "source": [
    "La ligne de code ci-dessous nous permet de voir le détail des colonnes de notre jeu de données ainsi que le type de données (chaîne de caractères, numérique)"
   ]
  },
  {
   "cell_type": "code",
   "execution_count": 108,
   "id": "d0f2bc81",
   "metadata": {
    "ExecuteTime": {
     "end_time": "2024-05-22T15:22:51.721954Z",
     "start_time": "2024-05-22T15:22:51.712374Z"
    }
   },
   "outputs": [
    {
     "name": "stdout",
     "output_type": "stream",
     "text": [
      "<class 'pandas.core.frame.DataFrame'>\n",
      "RangeIndex: 67 entries, 0 to 66\n",
      "Data columns (total 4 columns):\n",
      " #   Column                    Non-Null Count  Dtype \n",
      "---  ------                    --------------  ----- \n",
      " 0   CODESOCIETE               67 non-null     object\n",
      " 1   VILLE                     67 non-null     object\n",
      " 2   LIBELLEDEPARTEMENT        67 non-null     int64 \n",
      " 3   LIBELLEREGIONCOMMERCIALE  67 non-null     object\n",
      "dtypes: int64(1), object(3)\n",
      "memory usage: 2.2+ KB\n"
     ]
    }
   ],
   "source": [
    "data5.info()"
   ]
  },
  {
   "cell_type": "markdown",
   "id": "d149ecf6",
   "metadata": {},
   "source": [
    "Aperçu du jeu de données."
   ]
  },
  {
   "cell_type": "code",
   "execution_count": 109,
   "id": "70f4eea4",
   "metadata": {
    "ExecuteTime": {
     "end_time": "2024-05-22T15:22:53.590650Z",
     "start_time": "2024-05-22T15:22:53.581868Z"
    }
   },
   "outputs": [
    {
     "data": {
      "text/html": [
       "<div>\n",
       "<style scoped>\n",
       "    .dataframe tbody tr th:only-of-type {\n",
       "        vertical-align: middle;\n",
       "    }\n",
       "\n",
       "    .dataframe tbody tr th {\n",
       "        vertical-align: top;\n",
       "    }\n",
       "\n",
       "    .dataframe thead th {\n",
       "        text-align: right;\n",
       "    }\n",
       "</style>\n",
       "<table border=\"1\" class=\"dataframe\">\n",
       "  <thead>\n",
       "    <tr style=\"text-align: right;\">\n",
       "      <th></th>\n",
       "      <th>CODESOCIETE</th>\n",
       "      <th>VILLE</th>\n",
       "      <th>LIBELLEDEPARTEMENT</th>\n",
       "      <th>LIBELLEREGIONCOMMERCIALE</th>\n",
       "    </tr>\n",
       "  </thead>\n",
       "  <tbody>\n",
       "    <tr>\n",
       "      <th>0</th>\n",
       "      <td>MET</td>\n",
       "      <td>METZ-TESSY</td>\n",
       "      <td>74</td>\n",
       "      <td>Rhône-Alpes</td>\n",
       "    </tr>\n",
       "    <tr>\n",
       "      <th>1</th>\n",
       "      <td>ALB</td>\n",
       "      <td>GILLY SUR ISERE</td>\n",
       "      <td>73</td>\n",
       "      <td>Rhône-Alpes</td>\n",
       "    </tr>\n",
       "    <tr>\n",
       "      <th>2</th>\n",
       "      <td>ALM</td>\n",
       "      <td>LES MILLES</td>\n",
       "      <td>13</td>\n",
       "      <td>Littoral</td>\n",
       "    </tr>\n",
       "    <tr>\n",
       "      <th>3</th>\n",
       "      <td>AVI</td>\n",
       "      <td>VILLENEUVE-LES-AVIGNON</td>\n",
       "      <td>30</td>\n",
       "      <td>Littoral</td>\n",
       "    </tr>\n",
       "    <tr>\n",
       "      <th>4</th>\n",
       "      <td>BEA</td>\n",
       "      <td>BEAUMONT</td>\n",
       "      <td>63</td>\n",
       "      <td>Centre-Paris</td>\n",
       "    </tr>\n",
       "    <tr>\n",
       "      <th>...</th>\n",
       "      <td>...</td>\n",
       "      <td>...</td>\n",
       "      <td>...</td>\n",
       "      <td>...</td>\n",
       "    </tr>\n",
       "    <tr>\n",
       "      <th>62</th>\n",
       "      <td>STR</td>\n",
       "      <td>SISTERON</td>\n",
       "      <td>4</td>\n",
       "      <td>Littoral</td>\n",
       "    </tr>\n",
       "    <tr>\n",
       "      <th>63</th>\n",
       "      <td>NEV</td>\n",
       "      <td>NEVERS CEDEX</td>\n",
       "      <td>58</td>\n",
       "      <td>Centre-Paris</td>\n",
       "    </tr>\n",
       "    <tr>\n",
       "      <th>64</th>\n",
       "      <td>BSN</td>\n",
       "      <td>CESSON</td>\n",
       "      <td>77</td>\n",
       "      <td>Centre-Paris</td>\n",
       "    </tr>\n",
       "    <tr>\n",
       "      <th>65</th>\n",
       "      <td>CAG</td>\n",
       "      <td>CAGNES SUR MER</td>\n",
       "      <td>6</td>\n",
       "      <td>Littoral</td>\n",
       "    </tr>\n",
       "    <tr>\n",
       "      <th>66</th>\n",
       "      <td>RMA</td>\n",
       "      <td>RUEIL MALMAISON</td>\n",
       "      <td>92</td>\n",
       "      <td>Centre-Paris</td>\n",
       "    </tr>\n",
       "  </tbody>\n",
       "</table>\n",
       "<p>67 rows × 4 columns</p>\n",
       "</div>"
      ],
      "text/plain": [
       "   CODESOCIETE                   VILLE  LIBELLEDEPARTEMENT  \\\n",
       "0          MET              METZ-TESSY                  74   \n",
       "1          ALB         GILLY SUR ISERE                  73   \n",
       "2          ALM              LES MILLES                  13   \n",
       "3          AVI  VILLENEUVE-LES-AVIGNON                  30   \n",
       "4          BEA                BEAUMONT                  63   \n",
       "..         ...                     ...                 ...   \n",
       "62         STR                SISTERON                   4   \n",
       "63         NEV            NEVERS CEDEX                  58   \n",
       "64         BSN                  CESSON                  77   \n",
       "65         CAG          CAGNES SUR MER                   6   \n",
       "66         RMA         RUEIL MALMAISON                  92   \n",
       "\n",
       "   LIBELLEREGIONCOMMERCIALE  \n",
       "0               Rhône-Alpes  \n",
       "1               Rhône-Alpes  \n",
       "2                  Littoral  \n",
       "3                  Littoral  \n",
       "4              Centre-Paris  \n",
       "..                      ...  \n",
       "62                 Littoral  \n",
       "63             Centre-Paris  \n",
       "64             Centre-Paris  \n",
       "65                 Littoral  \n",
       "66             Centre-Paris  \n",
       "\n",
       "[67 rows x 4 columns]"
      ]
     },
     "execution_count": 109,
     "metadata": {},
     "output_type": "execute_result"
    }
   ],
   "source": [
    "data5"
   ]
  },
  {
   "cell_type": "markdown",
   "id": "dc4b64c2",
   "metadata": {},
   "source": [
    "Afin d'exploiter de façon optimale les informations, nous allons convetir le LIBELLE DEPARTEMENT en caractère. "
   ]
  },
  {
   "cell_type": "code",
   "execution_count": 110,
   "id": "930fc551",
   "metadata": {
    "ExecuteTime": {
     "end_time": "2024-05-22T15:22:55.896992Z",
     "start_time": "2024-05-22T15:22:55.894586Z"
    }
   },
   "outputs": [],
   "source": [
    "#transformation libellé département en object\n",
    "data5['LIBELLEDEPARTEMENT'] = data5['LIBELLEDEPARTEMENT'].astype(str)"
   ]
  },
  {
   "cell_type": "markdown",
   "id": "0f454e8a",
   "metadata": {},
   "source": [
    "Vérification du traitement."
   ]
  },
  {
   "cell_type": "code",
   "execution_count": 111,
   "id": "19553594",
   "metadata": {
    "ExecuteTime": {
     "end_time": "2024-05-22T15:22:59.787879Z",
     "start_time": "2024-05-22T15:22:59.783176Z"
    }
   },
   "outputs": [
    {
     "name": "stdout",
     "output_type": "stream",
     "text": [
      "<class 'pandas.core.frame.DataFrame'>\n",
      "RangeIndex: 67 entries, 0 to 66\n",
      "Data columns (total 4 columns):\n",
      " #   Column                    Non-Null Count  Dtype \n",
      "---  ------                    --------------  ----- \n",
      " 0   CODESOCIETE               67 non-null     object\n",
      " 1   VILLE                     67 non-null     object\n",
      " 2   LIBELLEDEPARTEMENT        67 non-null     object\n",
      " 3   LIBELLEREGIONCOMMERCIALE  67 non-null     object\n",
      "dtypes: object(4)\n",
      "memory usage: 2.2+ KB\n"
     ]
    }
   ],
   "source": [
    "data5.info()"
   ]
  },
  {
   "cell_type": "markdown",
   "id": "61010d75",
   "metadata": {},
   "source": [
    "La ligne de code ci-dessous nous permet d'identifier les valeurs en doublons qui conviendra de traiter."
   ]
  },
  {
   "cell_type": "code",
   "execution_count": 112,
   "id": "da0c4101",
   "metadata": {
    "ExecuteTime": {
     "end_time": "2024-05-22T15:23:02.130303Z",
     "start_time": "2024-05-22T15:23:02.125417Z"
    }
   },
   "outputs": [
    {
     "name": "stdout",
     "output_type": "stream",
     "text": [
      "0\n"
     ]
    }
   ],
   "source": [
    "print(data5.duplicated().sum())\n",
    "data = data5.drop_duplicates()"
   ]
  },
  {
   "cell_type": "markdown",
   "id": "b119402c",
   "metadata": {},
   "source": [
    "Nous procédons également à la vérification de présence ou non de valeurs manquantes (aucune valeur détectée)."
   ]
  },
  {
   "cell_type": "code",
   "execution_count": 113,
   "id": "4d76c160",
   "metadata": {
    "ExecuteTime": {
     "end_time": "2024-05-22T15:23:03.704857Z",
     "start_time": "2024-05-22T15:23:03.698967Z"
    }
   },
   "outputs": [
    {
     "data": {
      "text/html": [
       "<div>\n",
       "<style scoped>\n",
       "    .dataframe tbody tr th:only-of-type {\n",
       "        vertical-align: middle;\n",
       "    }\n",
       "\n",
       "    .dataframe tbody tr th {\n",
       "        vertical-align: top;\n",
       "    }\n",
       "\n",
       "    .dataframe thead th {\n",
       "        text-align: right;\n",
       "    }\n",
       "</style>\n",
       "<table border=\"1\" class=\"dataframe\">\n",
       "  <thead>\n",
       "    <tr style=\"text-align: right;\">\n",
       "      <th></th>\n",
       "      <th>%_missing_values</th>\n",
       "    </tr>\n",
       "  </thead>\n",
       "  <tbody>\n",
       "    <tr>\n",
       "      <th>CODESOCIETE</th>\n",
       "      <td>0.0</td>\n",
       "    </tr>\n",
       "    <tr>\n",
       "      <th>VILLE</th>\n",
       "      <td>0.0</td>\n",
       "    </tr>\n",
       "    <tr>\n",
       "      <th>LIBELLEDEPARTEMENT</th>\n",
       "      <td>0.0</td>\n",
       "    </tr>\n",
       "    <tr>\n",
       "      <th>LIBELLEREGIONCOMMERCIALE</th>\n",
       "      <td>0.0</td>\n",
       "    </tr>\n",
       "  </tbody>\n",
       "</table>\n",
       "</div>"
      ],
      "text/plain": [
       "                          %_missing_values\n",
       "CODESOCIETE                            0.0\n",
       "VILLE                                  0.0\n",
       "LIBELLEDEPARTEMENT                     0.0\n",
       "LIBELLEREGIONCOMMERCIALE               0.0"
      ]
     },
     "execution_count": 113,
     "metadata": {},
     "output_type": "execute_result"
    }
   ],
   "source": [
    "pd.DataFrame(index=data.columns, columns=['%_missing_values'], data= (data.isna().sum().values / len(data)*100))"
   ]
  },
  {
   "cell_type": "markdown",
   "id": "2635dcb9",
   "metadata": {},
   "source": [
    "Désormais, nous n'avons aucune valeur nulle ou manquante dans nos données, ni de doublons."
   ]
  },
  {
   "cell_type": "markdown",
   "id": "9cc6507e",
   "metadata": {},
   "source": [
    "On a pu identifier le format de chaque variable ainsi que leurs modalités."
   ]
  },
  {
   "cell_type": "code",
   "execution_count": 114,
   "id": "eaad77e7",
   "metadata": {
    "ExecuteTime": {
     "end_time": "2024-05-22T15:23:06.470632Z",
     "start_time": "2024-05-22T15:23:06.465660Z"
    }
   },
   "outputs": [
    {
     "data": {
      "text/plain": [
       "CODESOCIETE\n",
       "MET    1\n",
       "VLG    1\n",
       "SEY    1\n",
       "SGL    1\n",
       "SJV    1\n",
       "      ..\n",
       "PEP    1\n",
       "PON    1\n",
       "PRI    1\n",
       "QUE    1\n",
       "RMA    1\n",
       "Name: count, Length: 67, dtype: int64"
      ]
     },
     "execution_count": 114,
     "metadata": {},
     "output_type": "execute_result"
    }
   ],
   "source": [
    "#modalités variables:\n",
    "data5['CODESOCIETE'].value_counts(dropna = False)"
   ]
  },
  {
   "cell_type": "code",
   "execution_count": 115,
   "id": "3fbda79c",
   "metadata": {
    "ExecuteTime": {
     "end_time": "2024-05-22T15:23:07.157288Z",
     "start_time": "2024-05-22T15:23:07.151705Z"
    }
   },
   "outputs": [
    {
     "data": {
      "text/plain": [
       "VILLE\n",
       "METZ-TESSY             1\n",
       "VILLE-LA-GRAND         1\n",
       "SEYSSINS               1\n",
       "SAINT-GENEST-LERPT     1\n",
       "SAINT-JEAN-DE-VEDAS    1\n",
       "                      ..\n",
       "PERPIGNAN              1\n",
       "LE PONTET              1\n",
       "SAINT-PRIEST           1\n",
       "QUETIGNY               1\n",
       "RUEIL MALMAISON        1\n",
       "Name: count, Length: 67, dtype: int64"
      ]
     },
     "execution_count": 115,
     "metadata": {},
     "output_type": "execute_result"
    }
   ],
   "source": [
    "data5['VILLE'].value_counts(dropna = False)"
   ]
  },
  {
   "cell_type": "code",
   "execution_count": 116,
   "id": "ebbfb574",
   "metadata": {
    "ExecuteTime": {
     "end_time": "2024-05-22T15:23:07.981723Z",
     "start_time": "2024-05-22T15:23:07.974517Z"
    }
   },
   "outputs": [
    {
     "data": {
      "text/plain": [
       "LIBELLEREGIONCOMMERCIALE\n",
       "Rhône-Alpes       20\n",
       "Littoral          19\n",
       "Alsace-Est        15\n",
       "Centre-Paris      12\n",
       "Vente en ligne     1\n",
       "Name: count, dtype: int64"
      ]
     },
     "execution_count": 116,
     "metadata": {},
     "output_type": "execute_result"
    }
   ],
   "source": [
    "data5['LIBELLEREGIONCOMMERCIALE'].value_counts(dropna = False)"
   ]
  },
  {
   "cell_type": "code",
   "execution_count": 117,
   "id": "fa3cf276",
   "metadata": {
    "ExecuteTime": {
     "end_time": "2024-05-22T15:23:08.848590Z",
     "start_time": "2024-05-22T15:23:08.845166Z"
    }
   },
   "outputs": [
    {
     "data": {
      "text/plain": [
       "array(['Rhône-Alpes', 'Littoral', 'Centre-Paris', 'Alsace-Est',\n",
       "       'Vente en ligne'], dtype=object)"
      ]
     },
     "execution_count": 117,
     "metadata": {},
     "output_type": "execute_result"
    }
   ],
   "source": [
    "data5['LIBELLEREGIONCOMMERCIALE'].unique()"
   ]
  },
  {
   "cell_type": "code",
   "execution_count": 118,
   "id": "16603bf0",
   "metadata": {
    "ExecuteTime": {
     "end_time": "2024-05-22T15:23:09.610427Z",
     "start_time": "2024-05-22T15:23:09.603535Z"
    }
   },
   "outputs": [
    {
     "name": "stdout",
     "output_type": "stream",
     "text": [
      "Avant la suppression :\n",
      "           Region\n",
      "0     Rhône-Alpes\n",
      "1        Littoral\n",
      "2    Centre-Paris\n",
      "3      Alsace-Est\n",
      "4  Vente en ligne\n",
      "\n",
      "Après la suppression :\n",
      "         Region\n",
      "0   Rhône-Alpes\n",
      "1      Littoral\n",
      "2  Centre-Paris\n",
      "3    Alsace-Est\n"
     ]
    }
   ],
   "source": [
    "# Importer la librairie pandas\n",
    "import pandas as pd\n",
    "\n",
    "# Créer un DataFrame de test avec la modalité 'Vente en ligne'\n",
    "data = {'Region': ['Rhône-Alpes', 'Littoral', 'Centre-Paris', 'Alsace-Est', 'Vente en ligne']}\n",
    "df = pd.DataFrame(data)\n",
    "\n",
    "# Afficher le DataFrame avant la suppression\n",
    "print(\"Avant la suppression :\")\n",
    "print(df)\n",
    "\n",
    "# Supprimer la modalité 'Vente en ligne'\n",
    "df = df[df['Region'] != 'Vente en ligne']\n",
    "\n",
    "# Réinitialiser les index après la suppression\n",
    "df.reset_index(drop=True, inplace=True)\n",
    "\n",
    "# Afficher le DataFrame après la suppression\n",
    "print(\"\\nAprès la suppression :\")\n",
    "print(df)"
   ]
  },
  {
   "cell_type": "markdown",
   "id": "8bcfef0e",
   "metadata": {},
   "source": [
    "Chargement du jeu de données."
   ]
  },
  {
   "cell_type": "code",
   "execution_count": 7,
   "id": "f87dabdd",
   "metadata": {},
   "outputs": [
    {
     "name": "stdout",
     "output_type": "stream",
     "text": [
      "(34945, 26)\n",
      "['Code', 'Libellé', 'Région', 'Département', 'Emploi total', 'Administration publique', 'Agriculture', 'Bâtiment-Travaux Publics', 'Commerce inter-entreprises', 'Conception, Recherche', 'Culture, Loisirs', 'Distribution', 'Education, Formation', 'Entretien, Réparation', 'Fabrication', 'Gestion', 'Transports, Logistique', 'Prestations Intellectuelles', 'Santé, Action Sociale', 'Services de Proximité', 'Commerce \\ninter-entreprises', 'Conception, Recherche.1', 'Culture, Loisirs.1', 'Gestion.1', 'Prestations Intellectuelles.1', 'Total']\n"
     ]
    }
   ],
   "source": [
    "data6 = pd.read_csv(\"Donnees_communales_2020_INSEE.csv\", sep=';', low_memory=False,encoding='latin-1')\n",
    "print(data6.shape)\n",
    "print(list(data6.columns))"
   ]
  },
  {
   "cell_type": "markdown",
   "id": "362e6ba9",
   "metadata": {},
   "source": [
    "La ligne de code ci-dessous nous permet de connaître le détail des colonnes ainsi que le type de données constituant notre base (numérique ou caractères)."
   ]
  },
  {
   "cell_type": "code",
   "execution_count": 8,
   "id": "72aa9c9d",
   "metadata": {},
   "outputs": [
    {
     "data": {
      "text/html": [
       "<div>\n",
       "<style scoped>\n",
       "    .dataframe tbody tr th:only-of-type {\n",
       "        vertical-align: middle;\n",
       "    }\n",
       "\n",
       "    .dataframe tbody tr th {\n",
       "        vertical-align: top;\n",
       "    }\n",
       "\n",
       "    .dataframe thead th {\n",
       "        text-align: right;\n",
       "    }\n",
       "</style>\n",
       "<table border=\"1\" class=\"dataframe\">\n",
       "  <thead>\n",
       "    <tr style=\"text-align: right;\">\n",
       "      <th></th>\n",
       "      <th>Code</th>\n",
       "      <th>Libellé</th>\n",
       "      <th>Région</th>\n",
       "      <th>Département</th>\n",
       "      <th>Emploi total</th>\n",
       "      <th>Administration publique</th>\n",
       "      <th>Agriculture</th>\n",
       "      <th>Bâtiment-Travaux Publics</th>\n",
       "      <th>Commerce inter-entreprises</th>\n",
       "      <th>Conception, Recherche</th>\n",
       "      <th>...</th>\n",
       "      <th>Transports, Logistique</th>\n",
       "      <th>Prestations Intellectuelles</th>\n",
       "      <th>Santé, Action Sociale</th>\n",
       "      <th>Services de Proximité</th>\n",
       "      <th>Commerce \\ninter-entreprises</th>\n",
       "      <th>Conception, Recherche.1</th>\n",
       "      <th>Culture, Loisirs.1</th>\n",
       "      <th>Gestion.1</th>\n",
       "      <th>Prestations Intellectuelles.1</th>\n",
       "      <th>Total</th>\n",
       "    </tr>\n",
       "  </thead>\n",
       "  <tbody>\n",
       "    <tr>\n",
       "      <th>0</th>\n",
       "      <td>1001</td>\n",
       "      <td>L'Abergement-Clémenciat</td>\n",
       "      <td>84</td>\n",
       "      <td>1</td>\n",
       "      <td>72</td>\n",
       "      <td>5</td>\n",
       "      <td>5</td>\n",
       "      <td>14</td>\n",
       "      <td>5</td>\n",
       "      <td>0</td>\n",
       "      <td>...</td>\n",
       "      <td>0</td>\n",
       "      <td>0</td>\n",
       "      <td>0</td>\n",
       "      <td>14</td>\n",
       "      <td>0</td>\n",
       "      <td>0</td>\n",
       "      <td>0</td>\n",
       "      <td>0</td>\n",
       "      <td>0</td>\n",
       "      <td>0</td>\n",
       "    </tr>\n",
       "    <tr>\n",
       "      <th>1</th>\n",
       "      <td>1002</td>\n",
       "      <td>L'Abergement-de-Varey</td>\n",
       "      <td>84</td>\n",
       "      <td>1</td>\n",
       "      <td>25</td>\n",
       "      <td>0</td>\n",
       "      <td>15</td>\n",
       "      <td>0</td>\n",
       "      <td>0</td>\n",
       "      <td>0</td>\n",
       "      <td>...</td>\n",
       "      <td>0</td>\n",
       "      <td>0</td>\n",
       "      <td>0</td>\n",
       "      <td>0</td>\n",
       "      <td>0</td>\n",
       "      <td>0</td>\n",
       "      <td>4</td>\n",
       "      <td>0</td>\n",
       "      <td>0</td>\n",
       "      <td>4</td>\n",
       "    </tr>\n",
       "    <tr>\n",
       "      <th>2</th>\n",
       "      <td>1004</td>\n",
       "      <td>Ambérieu-en-Bugey</td>\n",
       "      <td>84</td>\n",
       "      <td>1</td>\n",
       "      <td>7 697</td>\n",
       "      <td>842</td>\n",
       "      <td>23</td>\n",
       "      <td>514</td>\n",
       "      <td>229</td>\n",
       "      <td>79</td>\n",
       "      <td>...</td>\n",
       "      <td>1 017</td>\n",
       "      <td>247</td>\n",
       "      <td>808</td>\n",
       "      <td>630</td>\n",
       "      <td>46</td>\n",
       "      <td>53</td>\n",
       "      <td>42</td>\n",
       "      <td>155</td>\n",
       "      <td>84</td>\n",
       "      <td>380</td>\n",
       "    </tr>\n",
       "    <tr>\n",
       "      <th>3</th>\n",
       "      <td>1005</td>\n",
       "      <td>Ambérieux-en-Dombes</td>\n",
       "      <td>84</td>\n",
       "      <td>1</td>\n",
       "      <td>332</td>\n",
       "      <td>5</td>\n",
       "      <td>4</td>\n",
       "      <td>59</td>\n",
       "      <td>10</td>\n",
       "      <td>0</td>\n",
       "      <td>...</td>\n",
       "      <td>0</td>\n",
       "      <td>5</td>\n",
       "      <td>54</td>\n",
       "      <td>35</td>\n",
       "      <td>5</td>\n",
       "      <td>0</td>\n",
       "      <td>5</td>\n",
       "      <td>5</td>\n",
       "      <td>0</td>\n",
       "      <td>15</td>\n",
       "    </tr>\n",
       "    <tr>\n",
       "      <th>4</th>\n",
       "      <td>1006</td>\n",
       "      <td>Ambléon</td>\n",
       "      <td>84</td>\n",
       "      <td>1</td>\n",
       "      <td>5</td>\n",
       "      <td>0</td>\n",
       "      <td>0</td>\n",
       "      <td>0</td>\n",
       "      <td>0</td>\n",
       "      <td>0</td>\n",
       "      <td>...</td>\n",
       "      <td>0</td>\n",
       "      <td>0</td>\n",
       "      <td>0</td>\n",
       "      <td>0</td>\n",
       "      <td>0</td>\n",
       "      <td>0</td>\n",
       "      <td>0</td>\n",
       "      <td>0</td>\n",
       "      <td>0</td>\n",
       "      <td>0</td>\n",
       "    </tr>\n",
       "    <tr>\n",
       "      <th>...</th>\n",
       "      <td>...</td>\n",
       "      <td>...</td>\n",
       "      <td>...</td>\n",
       "      <td>...</td>\n",
       "      <td>...</td>\n",
       "      <td>...</td>\n",
       "      <td>...</td>\n",
       "      <td>...</td>\n",
       "      <td>...</td>\n",
       "      <td>...</td>\n",
       "      <td>...</td>\n",
       "      <td>...</td>\n",
       "      <td>...</td>\n",
       "      <td>...</td>\n",
       "      <td>...</td>\n",
       "      <td>...</td>\n",
       "      <td>...</td>\n",
       "      <td>...</td>\n",
       "      <td>...</td>\n",
       "      <td>...</td>\n",
       "      <td>...</td>\n",
       "    </tr>\n",
       "    <tr>\n",
       "      <th>34940</th>\n",
       "      <td>97613</td>\n",
       "      <td>M'Tsangamouji</td>\n",
       "      <td>6</td>\n",
       "      <td>976</td>\n",
       "      <td>495</td>\n",
       "      <td>128</td>\n",
       "      <td>10</td>\n",
       "      <td>77</td>\n",
       "      <td>0</td>\n",
       "      <td>0</td>\n",
       "      <td>...</td>\n",
       "      <td>15</td>\n",
       "      <td>5</td>\n",
       "      <td>15</td>\n",
       "      <td>45</td>\n",
       "      <td>0</td>\n",
       "      <td>0</td>\n",
       "      <td>0</td>\n",
       "      <td>0</td>\n",
       "      <td>0</td>\n",
       "      <td>0</td>\n",
       "    </tr>\n",
       "    <tr>\n",
       "      <th>34941</th>\n",
       "      <td>97614</td>\n",
       "      <td>Ouangani</td>\n",
       "      <td>6</td>\n",
       "      <td>976</td>\n",
       "      <td>1 254</td>\n",
       "      <td>168</td>\n",
       "      <td>67</td>\n",
       "      <td>155</td>\n",
       "      <td>0</td>\n",
       "      <td>5</td>\n",
       "      <td>...</td>\n",
       "      <td>48</td>\n",
       "      <td>13</td>\n",
       "      <td>90</td>\n",
       "      <td>105</td>\n",
       "      <td>0</td>\n",
       "      <td>3</td>\n",
       "      <td>5</td>\n",
       "      <td>10</td>\n",
       "      <td>8</td>\n",
       "      <td>25</td>\n",
       "    </tr>\n",
       "    <tr>\n",
       "      <th>34942</th>\n",
       "      <td>97615</td>\n",
       "      <td>Pamandzi</td>\n",
       "      <td>6</td>\n",
       "      <td>976</td>\n",
       "      <td>1 642</td>\n",
       "      <td>460</td>\n",
       "      <td>10</td>\n",
       "      <td>55</td>\n",
       "      <td>10</td>\n",
       "      <td>10</td>\n",
       "      <td>...</td>\n",
       "      <td>125</td>\n",
       "      <td>27</td>\n",
       "      <td>72</td>\n",
       "      <td>200</td>\n",
       "      <td>3</td>\n",
       "      <td>5</td>\n",
       "      <td>35</td>\n",
       "      <td>10</td>\n",
       "      <td>10</td>\n",
       "      <td>62</td>\n",
       "    </tr>\n",
       "    <tr>\n",
       "      <th>34943</th>\n",
       "      <td>97616</td>\n",
       "      <td>Sada</td>\n",
       "      <td>6</td>\n",
       "      <td>976</td>\n",
       "      <td>1 447</td>\n",
       "      <td>175</td>\n",
       "      <td>45</td>\n",
       "      <td>210</td>\n",
       "      <td>0</td>\n",
       "      <td>0</td>\n",
       "      <td>...</td>\n",
       "      <td>117</td>\n",
       "      <td>8</td>\n",
       "      <td>35</td>\n",
       "      <td>190</td>\n",
       "      <td>0</td>\n",
       "      <td>0</td>\n",
       "      <td>5</td>\n",
       "      <td>15</td>\n",
       "      <td>3</td>\n",
       "      <td>23</td>\n",
       "    </tr>\n",
       "    <tr>\n",
       "      <th>34944</th>\n",
       "      <td>97617</td>\n",
       "      <td>Tsingoni</td>\n",
       "      <td>6</td>\n",
       "      <td>976</td>\n",
       "      <td>2 223</td>\n",
       "      <td>399</td>\n",
       "      <td>58</td>\n",
       "      <td>391</td>\n",
       "      <td>8</td>\n",
       "      <td>24</td>\n",
       "      <td>...</td>\n",
       "      <td>120</td>\n",
       "      <td>21</td>\n",
       "      <td>92</td>\n",
       "      <td>245</td>\n",
       "      <td>0</td>\n",
       "      <td>0</td>\n",
       "      <td>3</td>\n",
       "      <td>10</td>\n",
       "      <td>3</td>\n",
       "      <td>15</td>\n",
       "    </tr>\n",
       "  </tbody>\n",
       "</table>\n",
       "<p>34945 rows × 26 columns</p>\n",
       "</div>"
      ],
      "text/plain": [
       "        Code                  Libellé  Région Département Emploi total  \\\n",
       "0       1001  L'Abergement-Clémenciat      84           1           72   \n",
       "1       1002    L'Abergement-de-Varey      84           1           25   \n",
       "2       1004        Ambérieu-en-Bugey      84           1        7 697   \n",
       "3       1005      Ambérieux-en-Dombes      84           1          332   \n",
       "4       1006                  Ambléon      84           1            5   \n",
       "...      ...                      ...     ...         ...          ...   \n",
       "34940  97613            M'Tsangamouji       6         976          495   \n",
       "34941  97614                 Ouangani       6         976        1 254   \n",
       "34942  97615                 Pamandzi       6         976        1 642   \n",
       "34943  97616                     Sada       6         976        1 447   \n",
       "34944  97617                 Tsingoni       6         976        2 223   \n",
       "\n",
       "      Administration publique Agriculture Bâtiment-Travaux Publics  \\\n",
       "0                           5           5                       14   \n",
       "1                           0          15                        0   \n",
       "2                         842          23                      514   \n",
       "3                           5           4                       59   \n",
       "4                           0           0                        0   \n",
       "...                       ...         ...                      ...   \n",
       "34940                     128          10                       77   \n",
       "34941                     168          67                      155   \n",
       "34942                     460          10                       55   \n",
       "34943                     175          45                      210   \n",
       "34944                     399          58                      391   \n",
       "\n",
       "      Commerce inter-entreprises Conception, Recherche  ...  \\\n",
       "0                              5                     0  ...   \n",
       "1                              0                     0  ...   \n",
       "2                            229                    79  ...   \n",
       "3                             10                     0  ...   \n",
       "4                              0                     0  ...   \n",
       "...                          ...                   ...  ...   \n",
       "34940                          0                     0  ...   \n",
       "34941                          0                     5  ...   \n",
       "34942                         10                    10  ...   \n",
       "34943                          0                     0  ...   \n",
       "34944                          8                    24  ...   \n",
       "\n",
       "      Transports, Logistique Prestations Intellectuelles  \\\n",
       "0                          0                           0   \n",
       "1                          0                           0   \n",
       "2                      1 017                         247   \n",
       "3                          0                           5   \n",
       "4                          0                           0   \n",
       "...                      ...                         ...   \n",
       "34940                     15                           5   \n",
       "34941                     48                          13   \n",
       "34942                    125                          27   \n",
       "34943                    117                           8   \n",
       "34944                    120                          21   \n",
       "\n",
       "      Santé, Action Sociale Services de Proximité  \\\n",
       "0                         0                    14   \n",
       "1                         0                     0   \n",
       "2                       808                   630   \n",
       "3                        54                    35   \n",
       "4                         0                     0   \n",
       "...                     ...                   ...   \n",
       "34940                    15                    45   \n",
       "34941                    90                   105   \n",
       "34942                    72                   200   \n",
       "34943                    35                   190   \n",
       "34944                    92                   245   \n",
       "\n",
       "      Commerce \\ninter-entreprises Conception, Recherche.1 Culture, Loisirs.1  \\\n",
       "0                                0                       0                  0   \n",
       "1                                0                       0                  4   \n",
       "2                               46                      53                 42   \n",
       "3                                5                       0                  5   \n",
       "4                                0                       0                  0   \n",
       "...                            ...                     ...                ...   \n",
       "34940                            0                       0                  0   \n",
       "34941                            0                       3                  5   \n",
       "34942                            3                       5                 35   \n",
       "34943                            0                       0                  5   \n",
       "34944                            0                       0                  3   \n",
       "\n",
       "      Gestion.1 Prestations Intellectuelles.1 Total  \n",
       "0             0                             0     0  \n",
       "1             0                             0     4  \n",
       "2           155                            84   380  \n",
       "3             5                             0    15  \n",
       "4             0                             0     0  \n",
       "...         ...                           ...   ...  \n",
       "34940         0                             0     0  \n",
       "34941        10                             8    25  \n",
       "34942        10                            10    62  \n",
       "34943        15                             3    23  \n",
       "34944        10                             3    15  \n",
       "\n",
       "[34945 rows x 26 columns]"
      ]
     },
     "execution_count": 8,
     "metadata": {},
     "output_type": "execute_result"
    }
   ],
   "source": [
    "data6"
   ]
  },
  {
   "cell_type": "code",
   "execution_count": 9,
   "id": "0cb83ae2",
   "metadata": {},
   "outputs": [
    {
     "name": "stdout",
     "output_type": "stream",
     "text": [
      "<class 'pandas.core.frame.DataFrame'>\n",
      "RangeIndex: 34945 entries, 0 to 34944\n",
      "Data columns (total 26 columns):\n",
      " #   Column                         Non-Null Count  Dtype \n",
      "---  ------                         --------------  ----- \n",
      " 0   Code                           34945 non-null  object\n",
      " 1   Libellé                        34945 non-null  object\n",
      " 2   Région                         34945 non-null  int64 \n",
      " 3   Département                    34945 non-null  object\n",
      " 4   Emploi total                   34945 non-null  object\n",
      " 5   Administration publique        34945 non-null  object\n",
      " 6   Agriculture                    34945 non-null  object\n",
      " 7   Bâtiment-Travaux Publics       34945 non-null  object\n",
      " 8   Commerce inter-entreprises     34945 non-null  object\n",
      " 9   Conception, Recherche          34945 non-null  object\n",
      " 10  Culture, Loisirs               34945 non-null  object\n",
      " 11  Distribution                   34945 non-null  object\n",
      " 12  Education, Formation           34945 non-null  object\n",
      " 13  Entretien, Réparation          34945 non-null  object\n",
      " 14  Fabrication                    34945 non-null  object\n",
      " 15  Gestion                        34945 non-null  object\n",
      " 16  Transports, Logistique         34945 non-null  object\n",
      " 17  Prestations Intellectuelles    34945 non-null  object\n",
      " 18  Santé, Action Sociale          34945 non-null  object\n",
      " 19  Services de Proximité          34945 non-null  object\n",
      " 20  Commerce \n",
      "inter-entreprises    34945 non-null  object\n",
      " 21  Conception, Recherche.1        34945 non-null  object\n",
      " 22  Culture, Loisirs.1             34945 non-null  object\n",
      " 23  Gestion.1                      34945 non-null  object\n",
      " 24  Prestations Intellectuelles.1  34945 non-null  object\n",
      " 25  Total                          34945 non-null  object\n",
      "dtypes: int64(1), object(25)\n",
      "memory usage: 6.9+ MB\n"
     ]
    }
   ],
   "source": [
    "data6.info()"
   ]
  },
  {
   "cell_type": "markdown",
   "id": "52d4739c",
   "metadata": {},
   "source": [
    "Afin d'exploiter de façon optimale les informations, nous allons convetir les codes postaux en caractère. Nous n'avons pas nécessité à conserver ces valeurs en numérique."
   ]
  },
  {
   "cell_type": "code",
   "execution_count": 10,
   "id": "97c4d8c0",
   "metadata": {},
   "outputs": [],
   "source": [
    "data6['Région'] = data6['Région'].astype(str)"
   ]
  },
  {
   "cell_type": "markdown",
   "id": "bd478e5e",
   "metadata": {},
   "source": [
    "Vérification du traitement"
   ]
  },
  {
   "cell_type": "code",
   "execution_count": 11,
   "id": "5b3fea48",
   "metadata": {},
   "outputs": [
    {
     "name": "stdout",
     "output_type": "stream",
     "text": [
      "<class 'pandas.core.frame.DataFrame'>\n",
      "RangeIndex: 34945 entries, 0 to 34944\n",
      "Data columns (total 26 columns):\n",
      " #   Column                         Non-Null Count  Dtype \n",
      "---  ------                         --------------  ----- \n",
      " 0   Code                           34945 non-null  object\n",
      " 1   Libellé                        34945 non-null  object\n",
      " 2   Région                         34945 non-null  object\n",
      " 3   Département                    34945 non-null  object\n",
      " 4   Emploi total                   34945 non-null  object\n",
      " 5   Administration publique        34945 non-null  object\n",
      " 6   Agriculture                    34945 non-null  object\n",
      " 7   Bâtiment-Travaux Publics       34945 non-null  object\n",
      " 8   Commerce inter-entreprises     34945 non-null  object\n",
      " 9   Conception, Recherche          34945 non-null  object\n",
      " 10  Culture, Loisirs               34945 non-null  object\n",
      " 11  Distribution                   34945 non-null  object\n",
      " 12  Education, Formation           34945 non-null  object\n",
      " 13  Entretien, Réparation          34945 non-null  object\n",
      " 14  Fabrication                    34945 non-null  object\n",
      " 15  Gestion                        34945 non-null  object\n",
      " 16  Transports, Logistique         34945 non-null  object\n",
      " 17  Prestations Intellectuelles    34945 non-null  object\n",
      " 18  Santé, Action Sociale          34945 non-null  object\n",
      " 19  Services de Proximité          34945 non-null  object\n",
      " 20  Commerce \n",
      "inter-entreprises    34945 non-null  object\n",
      " 21  Conception, Recherche.1        34945 non-null  object\n",
      " 22  Culture, Loisirs.1             34945 non-null  object\n",
      " 23  Gestion.1                      34945 non-null  object\n",
      " 24  Prestations Intellectuelles.1  34945 non-null  object\n",
      " 25  Total                          34945 non-null  object\n",
      "dtypes: object(26)\n",
      "memory usage: 6.9+ MB\n"
     ]
    }
   ],
   "source": [
    "data6.info()"
   ]
  },
  {
   "cell_type": "markdown",
   "id": "8e356fa8",
   "metadata": {},
   "source": [
    "Suppression des colonnes dont les informations nous serons pas nécessairement utiles dans le cadre de notre projet."
   ]
  },
  {
   "cell_type": "markdown",
   "id": "1c2515c6",
   "metadata": {},
   "source": [
    "La ligne de code ci-dessous nous permet d'identifier les valeurs en doublons qui conviendra de traiter."
   ]
  },
  {
   "cell_type": "code",
   "execution_count": 12,
   "id": "2b1b9198",
   "metadata": {},
   "outputs": [
    {
     "name": "stdout",
     "output_type": "stream",
     "text": [
      "0\n"
     ]
    }
   ],
   "source": [
    "print(data6.duplicated().sum())\n",
    "data6 = data6.drop_duplicates()"
   ]
  },
  {
   "cell_type": "markdown",
   "id": "a676c842",
   "metadata": {},
   "source": [
    "Nous procédons également à la vérification de présence ou non de valeurs manquantes."
   ]
  },
  {
   "cell_type": "code",
   "execution_count": 13,
   "id": "5fd41745",
   "metadata": {},
   "outputs": [
    {
     "data": {
      "text/html": [
       "<div>\n",
       "<style scoped>\n",
       "    .dataframe tbody tr th:only-of-type {\n",
       "        vertical-align: middle;\n",
       "    }\n",
       "\n",
       "    .dataframe tbody tr th {\n",
       "        vertical-align: top;\n",
       "    }\n",
       "\n",
       "    .dataframe thead th {\n",
       "        text-align: right;\n",
       "    }\n",
       "</style>\n",
       "<table border=\"1\" class=\"dataframe\">\n",
       "  <thead>\n",
       "    <tr style=\"text-align: right;\">\n",
       "      <th></th>\n",
       "      <th>%_missing_values</th>\n",
       "    </tr>\n",
       "  </thead>\n",
       "  <tbody>\n",
       "    <tr>\n",
       "      <th>Code</th>\n",
       "      <td>0.0</td>\n",
       "    </tr>\n",
       "    <tr>\n",
       "      <th>Libellé</th>\n",
       "      <td>0.0</td>\n",
       "    </tr>\n",
       "    <tr>\n",
       "      <th>Région</th>\n",
       "      <td>0.0</td>\n",
       "    </tr>\n",
       "    <tr>\n",
       "      <th>Département</th>\n",
       "      <td>0.0</td>\n",
       "    </tr>\n",
       "    <tr>\n",
       "      <th>Emploi total</th>\n",
       "      <td>0.0</td>\n",
       "    </tr>\n",
       "    <tr>\n",
       "      <th>Administration publique</th>\n",
       "      <td>0.0</td>\n",
       "    </tr>\n",
       "    <tr>\n",
       "      <th>Agriculture</th>\n",
       "      <td>0.0</td>\n",
       "    </tr>\n",
       "    <tr>\n",
       "      <th>Bâtiment-Travaux Publics</th>\n",
       "      <td>0.0</td>\n",
       "    </tr>\n",
       "    <tr>\n",
       "      <th>Commerce inter-entreprises</th>\n",
       "      <td>0.0</td>\n",
       "    </tr>\n",
       "    <tr>\n",
       "      <th>Conception, Recherche</th>\n",
       "      <td>0.0</td>\n",
       "    </tr>\n",
       "    <tr>\n",
       "      <th>Culture, Loisirs</th>\n",
       "      <td>0.0</td>\n",
       "    </tr>\n",
       "    <tr>\n",
       "      <th>Distribution</th>\n",
       "      <td>0.0</td>\n",
       "    </tr>\n",
       "    <tr>\n",
       "      <th>Education, Formation</th>\n",
       "      <td>0.0</td>\n",
       "    </tr>\n",
       "    <tr>\n",
       "      <th>Entretien, Réparation</th>\n",
       "      <td>0.0</td>\n",
       "    </tr>\n",
       "    <tr>\n",
       "      <th>Fabrication</th>\n",
       "      <td>0.0</td>\n",
       "    </tr>\n",
       "    <tr>\n",
       "      <th>Gestion</th>\n",
       "      <td>0.0</td>\n",
       "    </tr>\n",
       "    <tr>\n",
       "      <th>Transports, Logistique</th>\n",
       "      <td>0.0</td>\n",
       "    </tr>\n",
       "    <tr>\n",
       "      <th>Prestations Intellectuelles</th>\n",
       "      <td>0.0</td>\n",
       "    </tr>\n",
       "    <tr>\n",
       "      <th>Santé, Action Sociale</th>\n",
       "      <td>0.0</td>\n",
       "    </tr>\n",
       "    <tr>\n",
       "      <th>Services de Proximité</th>\n",
       "      <td>0.0</td>\n",
       "    </tr>\n",
       "    <tr>\n",
       "      <th>Commerce \\ninter-entreprises</th>\n",
       "      <td>0.0</td>\n",
       "    </tr>\n",
       "    <tr>\n",
       "      <th>Conception, Recherche.1</th>\n",
       "      <td>0.0</td>\n",
       "    </tr>\n",
       "    <tr>\n",
       "      <th>Culture, Loisirs.1</th>\n",
       "      <td>0.0</td>\n",
       "    </tr>\n",
       "    <tr>\n",
       "      <th>Gestion.1</th>\n",
       "      <td>0.0</td>\n",
       "    </tr>\n",
       "    <tr>\n",
       "      <th>Prestations Intellectuelles.1</th>\n",
       "      <td>0.0</td>\n",
       "    </tr>\n",
       "    <tr>\n",
       "      <th>Total</th>\n",
       "      <td>0.0</td>\n",
       "    </tr>\n",
       "  </tbody>\n",
       "</table>\n",
       "</div>"
      ],
      "text/plain": [
       "                               %_missing_values\n",
       "Code                                        0.0\n",
       "Libellé                                     0.0\n",
       "Région                                      0.0\n",
       "Département                                 0.0\n",
       "Emploi total                                0.0\n",
       "Administration publique                     0.0\n",
       "Agriculture                                 0.0\n",
       "Bâtiment-Travaux Publics                    0.0\n",
       "Commerce inter-entreprises                  0.0\n",
       "Conception, Recherche                       0.0\n",
       "Culture, Loisirs                            0.0\n",
       "Distribution                                0.0\n",
       "Education, Formation                        0.0\n",
       "Entretien, Réparation                       0.0\n",
       "Fabrication                                 0.0\n",
       "Gestion                                     0.0\n",
       "Transports, Logistique                      0.0\n",
       "Prestations Intellectuelles                 0.0\n",
       "Santé, Action Sociale                       0.0\n",
       "Services de Proximité                       0.0\n",
       "Commerce \\ninter-entreprises                0.0\n",
       "Conception, Recherche.1                     0.0\n",
       "Culture, Loisirs.1                          0.0\n",
       "Gestion.1                                   0.0\n",
       "Prestations Intellectuelles.1               0.0\n",
       "Total                                       0.0"
      ]
     },
     "execution_count": 13,
     "metadata": {},
     "output_type": "execute_result"
    }
   ],
   "source": [
    "pd.DataFrame(index=data6.columns, columns=['%_missing_values'], data= (data6.isna().sum().values / len(data6)*100))"
   ]
  },
  {
   "cell_type": "markdown",
   "id": "b180bc1e",
   "metadata": {},
   "source": [
    "Le traitement des valeurs aberrantes ne concernant que les variables numériques, nous n'allons pas procéder à ce traitement car aucune de nos variables n'est concernées sur ce dataframe."
   ]
  }
 ],
 "metadata": {},
 "nbformat": 4,
 "nbformat_minor": 5
}
