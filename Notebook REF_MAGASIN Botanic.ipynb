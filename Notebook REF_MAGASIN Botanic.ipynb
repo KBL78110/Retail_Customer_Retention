{
 "cells": [
  {
   "cell_type": "code",
   "execution_count": null,
   "metadata": {},
   "outputs": [],
   "source": [
    "import pip\n",
    "pip.main(['install', 'pandas'])\n",
    "pip.main(['install', 'matplotlib'])\n",
    "pip.main(['install', 'seaborn'])\n",
    "pip.main(['install', 'scikit-learn'])"
   ]
  },
  {
   "cell_type": "markdown",
   "metadata": {},
   "source": [
    "# CHARGEMENT DES BIBLIOTHEQUES"
   ]
  },
  {
   "cell_type": "code",
   "execution_count": 2,
   "metadata": {
    "ExecuteTime": {
     "end_time": "2024-05-15T16:12:00.752474Z",
     "start_time": "2024-05-15T16:12:00.746523Z"
    }
   },
   "outputs": [],
   "source": [
    "import pandas as pd\n",
    "import matplotlib.pyplot as plt\n",
    "import numpy as np\n",
    "import seaborn as sns\n",
    "\n",
    "from sklearn.linear_model import LogisticRegression\n",
    "from sklearn.model_selection import train_test_split\n",
    "from sklearn.datasets import make_classification\n",
    "from sklearn.metrics import roc_curve, auc\n",
    "from sklearn.metrics import accuracy_score, classification_report, confusion_matrix\n",
    "from sklearn.preprocessing import StandardScaler\n",
    "from sklearn.preprocessing import OneHotEncoder\n",
    "from sklearn.preprocessing import LabelEncoder"
   ]
  },
  {
   "cell_type": "markdown",
   "metadata": {},
   "source": [
    "Chargement du jeu de données REF_MAGASIN"
   ]
  },
  {
   "cell_type": "code",
   "execution_count": 5,
   "metadata": {},
   "outputs": [
    {
     "name": "stdout",
     "output_type": "stream",
     "text": [
      "(67, 4)\n",
      "['CODESOCIETE', 'VILLE', 'LIBELLEDEPARTEMENT', 'LIBELLEREGIONCOMMERCIALE']\n"
     ]
    }
   ],
   "source": [
    "dataset_path = \"C:\\\\Users\\\\belga\\\\OneDrive\\\\Bureau\\\\EMBA Big Data\\\\Module Datascience\\\\Projet Data Science S2 2024\\\\REF_MAGASIN.csv\"\n",
    "data5 = pd.read_csv(dataset_path, sep='|', low_memory=False)\n",
    "print(data5.shape)\n",
    "print(list(data5.columns))"
   ]
  },
  {
   "cell_type": "markdown",
   "metadata": {},
   "source": [
    "La ligne de code ci-dessous nous permet de voir le détail des colonnes de notre jeu de données ainsi que le type de données (chaîne de caractères, numérique)"
   ]
  },
  {
   "cell_type": "code",
   "execution_count": 6,
   "metadata": {
    "ExecuteTime": {
     "end_time": "2024-05-15T16:12:05.567800Z",
     "start_time": "2024-05-15T16:12:05.555981Z"
    }
   },
   "outputs": [
    {
     "name": "stdout",
     "output_type": "stream",
     "text": [
      "<class 'pandas.core.frame.DataFrame'>\n",
      "RangeIndex: 67 entries, 0 to 66\n",
      "Data columns (total 4 columns):\n",
      " #   Column                    Non-Null Count  Dtype \n",
      "---  ------                    --------------  ----- \n",
      " 0   CODESOCIETE               67 non-null     object\n",
      " 1   VILLE                     67 non-null     object\n",
      " 2   LIBELLEDEPARTEMENT        67 non-null     int64 \n",
      " 3   LIBELLEREGIONCOMMERCIALE  67 non-null     object\n",
      "dtypes: int64(1), object(3)\n",
      "memory usage: 2.2+ KB\n"
     ]
    }
   ],
   "source": [
    "data5.info()"
   ]
  },
  {
   "cell_type": "markdown",
   "metadata": {},
   "source": [
    "Aperçu du jeu de données."
   ]
  },
  {
   "cell_type": "code",
   "execution_count": 7,
   "metadata": {
    "ExecuteTime": {
     "end_time": "2024-05-15T16:12:07.672094Z",
     "start_time": "2024-05-15T16:12:07.656438Z"
    }
   },
   "outputs": [
    {
     "data": {
      "text/html": [
       "<div>\n",
       "<style scoped>\n",
       "    .dataframe tbody tr th:only-of-type {\n",
       "        vertical-align: middle;\n",
       "    }\n",
       "\n",
       "    .dataframe tbody tr th {\n",
       "        vertical-align: top;\n",
       "    }\n",
       "\n",
       "    .dataframe thead th {\n",
       "        text-align: right;\n",
       "    }\n",
       "</style>\n",
       "<table border=\"1\" class=\"dataframe\">\n",
       "  <thead>\n",
       "    <tr style=\"text-align: right;\">\n",
       "      <th></th>\n",
       "      <th>CODESOCIETE</th>\n",
       "      <th>VILLE</th>\n",
       "      <th>LIBELLEDEPARTEMENT</th>\n",
       "      <th>LIBELLEREGIONCOMMERCIALE</th>\n",
       "    </tr>\n",
       "  </thead>\n",
       "  <tbody>\n",
       "    <tr>\n",
       "      <th>0</th>\n",
       "      <td>MET</td>\n",
       "      <td>METZ-TESSY</td>\n",
       "      <td>74</td>\n",
       "      <td>Rhône-Alpes</td>\n",
       "    </tr>\n",
       "    <tr>\n",
       "      <th>1</th>\n",
       "      <td>ALB</td>\n",
       "      <td>GILLY SUR ISERE</td>\n",
       "      <td>73</td>\n",
       "      <td>Rhône-Alpes</td>\n",
       "    </tr>\n",
       "    <tr>\n",
       "      <th>2</th>\n",
       "      <td>ALM</td>\n",
       "      <td>LES MILLES</td>\n",
       "      <td>13</td>\n",
       "      <td>Littoral</td>\n",
       "    </tr>\n",
       "    <tr>\n",
       "      <th>3</th>\n",
       "      <td>AVI</td>\n",
       "      <td>VILLENEUVE-LES-AVIGNON</td>\n",
       "      <td>30</td>\n",
       "      <td>Littoral</td>\n",
       "    </tr>\n",
       "    <tr>\n",
       "      <th>4</th>\n",
       "      <td>BEA</td>\n",
       "      <td>BEAUMONT</td>\n",
       "      <td>63</td>\n",
       "      <td>Centre-Paris</td>\n",
       "    </tr>\n",
       "    <tr>\n",
       "      <th>...</th>\n",
       "      <td>...</td>\n",
       "      <td>...</td>\n",
       "      <td>...</td>\n",
       "      <td>...</td>\n",
       "    </tr>\n",
       "    <tr>\n",
       "      <th>62</th>\n",
       "      <td>STR</td>\n",
       "      <td>SISTERON</td>\n",
       "      <td>4</td>\n",
       "      <td>Littoral</td>\n",
       "    </tr>\n",
       "    <tr>\n",
       "      <th>63</th>\n",
       "      <td>NEV</td>\n",
       "      <td>NEVERS CEDEX</td>\n",
       "      <td>58</td>\n",
       "      <td>Centre-Paris</td>\n",
       "    </tr>\n",
       "    <tr>\n",
       "      <th>64</th>\n",
       "      <td>BSN</td>\n",
       "      <td>CESSON</td>\n",
       "      <td>77</td>\n",
       "      <td>Centre-Paris</td>\n",
       "    </tr>\n",
       "    <tr>\n",
       "      <th>65</th>\n",
       "      <td>CAG</td>\n",
       "      <td>CAGNES SUR MER</td>\n",
       "      <td>6</td>\n",
       "      <td>Littoral</td>\n",
       "    </tr>\n",
       "    <tr>\n",
       "      <th>66</th>\n",
       "      <td>RMA</td>\n",
       "      <td>RUEIL MALMAISON</td>\n",
       "      <td>92</td>\n",
       "      <td>Centre-Paris</td>\n",
       "    </tr>\n",
       "  </tbody>\n",
       "</table>\n",
       "<p>67 rows × 4 columns</p>\n",
       "</div>"
      ],
      "text/plain": [
       "   CODESOCIETE                   VILLE  LIBELLEDEPARTEMENT  \\\n",
       "0          MET              METZ-TESSY                  74   \n",
       "1          ALB         GILLY SUR ISERE                  73   \n",
       "2          ALM              LES MILLES                  13   \n",
       "3          AVI  VILLENEUVE-LES-AVIGNON                  30   \n",
       "4          BEA                BEAUMONT                  63   \n",
       "..         ...                     ...                 ...   \n",
       "62         STR                SISTERON                   4   \n",
       "63         NEV            NEVERS CEDEX                  58   \n",
       "64         BSN                  CESSON                  77   \n",
       "65         CAG          CAGNES SUR MER                   6   \n",
       "66         RMA         RUEIL MALMAISON                  92   \n",
       "\n",
       "   LIBELLEREGIONCOMMERCIALE  \n",
       "0               Rhône-Alpes  \n",
       "1               Rhône-Alpes  \n",
       "2                  Littoral  \n",
       "3                  Littoral  \n",
       "4              Centre-Paris  \n",
       "..                      ...  \n",
       "62                 Littoral  \n",
       "63             Centre-Paris  \n",
       "64             Centre-Paris  \n",
       "65                 Littoral  \n",
       "66             Centre-Paris  \n",
       "\n",
       "[67 rows x 4 columns]"
      ]
     },
     "execution_count": 7,
     "metadata": {},
     "output_type": "execute_result"
    }
   ],
   "source": [
    "data5"
   ]
  },
  {
   "cell_type": "markdown",
   "metadata": {},
   "source": [
    "Afin d'exploiter de façon optimale les informations, nous allons convetir le LIBELLE DEPARTEMENT en caractère. "
   ]
  },
  {
   "cell_type": "code",
   "execution_count": 8,
   "metadata": {
    "ExecuteTime": {
     "end_time": "2024-05-15T16:12:09.730958Z",
     "start_time": "2024-05-15T16:12:09.725236Z"
    }
   },
   "outputs": [],
   "source": [
    "#transformation libellé département en object\n",
    "data5['LIBELLEDEPARTEMENT'] = data5['LIBELLEDEPARTEMENT'].astype(str)"
   ]
  },
  {
   "cell_type": "markdown",
   "metadata": {},
   "source": [
    "Vérification du traitement."
   ]
  },
  {
   "cell_type": "code",
   "execution_count": 9,
   "metadata": {
    "ExecuteTime": {
     "end_time": "2024-05-15T16:12:11.706648Z",
     "start_time": "2024-05-15T16:12:11.693829Z"
    }
   },
   "outputs": [
    {
     "name": "stdout",
     "output_type": "stream",
     "text": [
      "<class 'pandas.core.frame.DataFrame'>\n",
      "RangeIndex: 67 entries, 0 to 66\n",
      "Data columns (total 4 columns):\n",
      " #   Column                    Non-Null Count  Dtype \n",
      "---  ------                    --------------  ----- \n",
      " 0   CODESOCIETE               67 non-null     object\n",
      " 1   VILLE                     67 non-null     object\n",
      " 2   LIBELLEDEPARTEMENT        67 non-null     object\n",
      " 3   LIBELLEREGIONCOMMERCIALE  67 non-null     object\n",
      "dtypes: object(4)\n",
      "memory usage: 2.2+ KB\n"
     ]
    }
   ],
   "source": [
    "data5.info()"
   ]
  },
  {
   "cell_type": "markdown",
   "metadata": {},
   "source": [
    "Cette ligne de code nous permet d'identifier le nombre d'occurence de chaque CODESOCIETE, pour identifier les éventuels regroupements à effectuer. Nous allons également effectuer cette opération sur les autres colonnes de notre jeu de données."
   ]
  },
  {
   "cell_type": "code",
   "execution_count": 12,
   "metadata": {
    "ExecuteTime": {
     "end_time": "2024-05-15T16:12:16.993599Z",
     "start_time": "2024-05-15T16:12:16.983430Z"
    }
   },
   "outputs": [
    {
     "data": {
      "text/plain": [
       "CODESOCIETE\n",
       "MET    1\n",
       "VLG    1\n",
       "SEY    1\n",
       "SGL    1\n",
       "SJV    1\n",
       "      ..\n",
       "PEP    1\n",
       "PON    1\n",
       "PRI    1\n",
       "QUE    1\n",
       "RMA    1\n",
       "Name: count, Length: 67, dtype: int64"
      ]
     },
     "execution_count": 12,
     "metadata": {},
     "output_type": "execute_result"
    }
   ],
   "source": [
    "#modalités variables:\n",
    "data5['CODESOCIETE'].value_counts(dropna = False)"
   ]
  },
  {
   "cell_type": "code",
   "execution_count": 13,
   "metadata": {
    "ExecuteTime": {
     "end_time": "2024-05-15T16:12:17.803464Z",
     "start_time": "2024-05-15T16:12:17.792273Z"
    }
   },
   "outputs": [
    {
     "data": {
      "text/plain": [
       "VILLE\n",
       "METZ-TESSY             1\n",
       "VILLE-LA-GRAND         1\n",
       "SEYSSINS               1\n",
       "SAINT-GENEST-LERPT     1\n",
       "SAINT-JEAN-DE-VEDAS    1\n",
       "                      ..\n",
       "PERPIGNAN              1\n",
       "LE PONTET              1\n",
       "SAINT-PRIEST           1\n",
       "QUETIGNY               1\n",
       "RUEIL MALMAISON        1\n",
       "Name: count, Length: 67, dtype: int64"
      ]
     },
     "execution_count": 13,
     "metadata": {},
     "output_type": "execute_result"
    }
   ],
   "source": [
    "data5['VILLE'].value_counts(dropna = False)"
   ]
  },
  {
   "cell_type": "code",
   "execution_count": 14,
   "metadata": {
    "ExecuteTime": {
     "end_time": "2024-05-15T16:12:18.696831Z",
     "start_time": "2024-05-15T16:12:18.684212Z"
    }
   },
   "outputs": [
    {
     "data": {
      "text/plain": [
       "LIBELLEREGIONCOMMERCIALE\n",
       "Rhône-Alpes       20\n",
       "Littoral          19\n",
       "Alsace-Est        15\n",
       "Centre-Paris      12\n",
       "Vente en ligne     1\n",
       "Name: count, dtype: int64"
      ]
     },
     "execution_count": 14,
     "metadata": {},
     "output_type": "execute_result"
    }
   ],
   "source": [
    "data5['LIBELLEREGIONCOMMERCIALE'].value_counts(dropna = False)"
   ]
  },
  {
   "cell_type": "code",
   "execution_count": 15,
   "metadata": {
    "ExecuteTime": {
     "end_time": "2024-05-15T16:12:19.554258Z",
     "start_time": "2024-05-15T16:12:19.548639Z"
    }
   },
   "outputs": [
    {
     "data": {
      "text/plain": [
       "array(['Rhône-Alpes', 'Littoral', 'Centre-Paris', 'Alsace-Est',\n",
       "       'Vente en ligne'], dtype=object)"
      ]
     },
     "execution_count": 15,
     "metadata": {},
     "output_type": "execute_result"
    }
   ],
   "source": [
    "data5['LIBELLEREGIONCOMMERCIALE'].unique()"
   ]
  },
  {
   "cell_type": "code",
   "execution_count": 22,
   "metadata": {
    "ExecuteTime": {
     "end_time": "2024-05-15T16:12:20.304255Z",
     "start_time": "2024-05-15T16:12:20.290893Z"
    }
   },
   "outputs": [
    {
     "name": "stdout",
     "output_type": "stream",
     "text": [
      "Avant la suppression :\n",
      "           Region\n",
      "0     Rhône-Alpes\n",
      "1        Littoral\n",
      "2    Centre-Paris\n",
      "3      Alsace-Est\n",
      "4  Vente en ligne\n",
      "\n",
      "Après la suppression :\n",
      "         Region\n",
      "0   Rhône-Alpes\n",
      "1      Littoral\n",
      "2  Centre-Paris\n",
      "3    Alsace-Est\n"
     ]
    }
   ],
   "source": [
    "# Créer un DataFrame de test avec la modalité 'Vente en ligne'\n",
    "data = {'Region': ['Rhône-Alpes', 'Littoral', 'Centre-Paris', 'Alsace-Est', 'Vente en ligne']}\n",
    "df = pd.DataFrame(data)\n",
    "\n",
    "# Afficher le DataFrame avant la suppression\n",
    "print(\"Avant la suppression :\")\n",
    "print(df)\n",
    "\n",
    "# Supprimer la modalité 'Vente en ligne'\n",
    "df = df[df['Region'] != 'Vente en ligne']\n",
    "\n",
    "# Réinitialiser les index après la suppression\n",
    "df.reset_index(drop=True, inplace=True)\n",
    "\n",
    "# Afficher le DataFrame après la suppression\n",
    "print(\"\\nAprès la suppression :\")\n",
    "print(df)"
   ]
  },
  {
   "cell_type": "markdown",
   "metadata": {},
   "source": [
    "La ligne de code ci-dessous nous permet d'identifier les valeurs en doublons qui conviendra de traiter."
   ]
  },
  {
   "cell_type": "code",
   "execution_count": 20,
   "metadata": {},
   "outputs": [
    {
     "name": "stdout",
     "output_type": "stream",
     "text": [
      "0\n"
     ]
    }
   ],
   "source": [
    "print(data5.duplicated().sum())\n",
    "data = data5.drop_duplicates()"
   ]
  },
  {
   "cell_type": "markdown",
   "metadata": {},
   "source": [
    "Nous procédons également à la vérification de présence ou non de valeurs manquantes (aucune valeur détectée)."
   ]
  },
  {
   "cell_type": "code",
   "execution_count": 21,
   "metadata": {},
   "outputs": [
    {
     "data": {
      "text/html": [
       "<div>\n",
       "<style scoped>\n",
       "    .dataframe tbody tr th:only-of-type {\n",
       "        vertical-align: middle;\n",
       "    }\n",
       "\n",
       "    .dataframe tbody tr th {\n",
       "        vertical-align: top;\n",
       "    }\n",
       "\n",
       "    .dataframe thead th {\n",
       "        text-align: right;\n",
       "    }\n",
       "</style>\n",
       "<table border=\"1\" class=\"dataframe\">\n",
       "  <thead>\n",
       "    <tr style=\"text-align: right;\">\n",
       "      <th></th>\n",
       "      <th>%_missing_values</th>\n",
       "    </tr>\n",
       "  </thead>\n",
       "  <tbody>\n",
       "    <tr>\n",
       "      <th>CODESOCIETE</th>\n",
       "      <td>0.0</td>\n",
       "    </tr>\n",
       "    <tr>\n",
       "      <th>VILLE</th>\n",
       "      <td>0.0</td>\n",
       "    </tr>\n",
       "    <tr>\n",
       "      <th>LIBELLEDEPARTEMENT</th>\n",
       "      <td>0.0</td>\n",
       "    </tr>\n",
       "    <tr>\n",
       "      <th>LIBELLEREGIONCOMMERCIALE</th>\n",
       "      <td>0.0</td>\n",
       "    </tr>\n",
       "  </tbody>\n",
       "</table>\n",
       "</div>"
      ],
      "text/plain": [
       "                          %_missing_values\n",
       "CODESOCIETE                            0.0\n",
       "VILLE                                  0.0\n",
       "LIBELLEDEPARTEMENT                     0.0\n",
       "LIBELLEREGIONCOMMERCIALE               0.0"
      ]
     },
     "execution_count": 21,
     "metadata": {},
     "output_type": "execute_result"
    }
   ],
   "source": [
    "pd.DataFrame(index=data.columns, columns=['%_missing_values'], data= (data.isna().sum().values / len(data)*100))"
   ]
  },
  {
   "cell_type": "markdown",
   "metadata": {},
   "source": [
    "Le traitement des valeurs aberrantes ne concernant que les variables numériques, nous n'allons pas procéder à ce traitement car aucune de nos variables n'est concernées sur ce dataframe."
   ]
  },
  {
   "cell_type": "markdown",
   "metadata": {},
   "source": [
    "La ligne de code ci-dessous nous permet d'identifier la liste des noms de colonnes de notre jeu de données. Cette liste nous sera utile pour cibler les colonnes dans nos futurs traitements."
   ]
  },
  {
   "cell_type": "code",
   "execution_count": 23,
   "metadata": {
    "ExecuteTime": {
     "end_time": "2024-05-15T16:12:21.462414Z",
     "start_time": "2024-05-15T16:12:21.448862Z"
    }
   },
   "outputs": [
    {
     "name": "stdout",
     "output_type": "stream",
     "text": [
      "[]\n"
     ]
    }
   ],
   "source": [
    "# Définition des variables catégorielles\n",
    "var_cat = data5.select_dtypes(include=['object']).columns.tolist()\n",
    "print(var_cat)"
   ]
  },
  {
   "cell_type": "markdown",
   "metadata": {},
   "source": [
    "Le traitement suivant est utilisé pour encoder les étiquettes catégorielles en valeurs numériques. Cette conversion est nécessaire pour entraîner un modèle d'apprentissage automatique."
   ]
  },
  {
   "cell_type": "code",
   "execution_count": 24,
   "metadata": {
    "ExecuteTime": {
     "end_time": "2024-05-15T16:12:22.252124Z",
     "start_time": "2024-05-15T16:12:22.245541Z"
    }
   },
   "outputs": [],
   "source": [
    "label_encoder = LabelEncoder()\n",
    "for col in var_cat:\n",
    "    data5[col] = label_encoder.fit_transform(data5[col])"
   ]
  },
  {
   "cell_type": "code",
   "execution_count": 25,
   "metadata": {
    "ExecuteTime": {
     "end_time": "2024-05-15T16:12:33.564687Z",
     "start_time": "2024-05-15T16:12:33.551692Z"
    }
   },
   "outputs": [
    {
     "data": {
      "text/html": [
       "<div>\n",
       "<style scoped>\n",
       "    .dataframe tbody tr th:only-of-type {\n",
       "        vertical-align: middle;\n",
       "    }\n",
       "\n",
       "    .dataframe tbody tr th {\n",
       "        vertical-align: top;\n",
       "    }\n",
       "\n",
       "    .dataframe thead th {\n",
       "        text-align: right;\n",
       "    }\n",
       "</style>\n",
       "<table border=\"1\" class=\"dataframe\">\n",
       "  <thead>\n",
       "    <tr style=\"text-align: right;\">\n",
       "      <th></th>\n",
       "      <th>CODESOCIETE</th>\n",
       "      <th>VILLE</th>\n",
       "      <th>LIBELLEDEPARTEMENT</th>\n",
       "      <th>LIBELLEREGIONCOMMERCIALE</th>\n",
       "    </tr>\n",
       "  </thead>\n",
       "  <tbody>\n",
       "    <tr>\n",
       "      <th>0</th>\n",
       "      <td>28</td>\n",
       "      <td>29</td>\n",
       "      <td>25</td>\n",
       "      <td>3</td>\n",
       "    </tr>\n",
       "    <tr>\n",
       "      <th>1</th>\n",
       "      <td>0</td>\n",
       "      <td>17</td>\n",
       "      <td>24</td>\n",
       "      <td>3</td>\n",
       "    </tr>\n",
       "    <tr>\n",
       "      <th>2</th>\n",
       "      <td>1</td>\n",
       "      <td>26</td>\n",
       "      <td>2</td>\n",
       "      <td>2</td>\n",
       "    </tr>\n",
       "    <tr>\n",
       "      <th>3</th>\n",
       "      <td>2</td>\n",
       "      <td>63</td>\n",
       "      <td>5</td>\n",
       "      <td>2</td>\n",
       "    </tr>\n",
       "    <tr>\n",
       "      <th>4</th>\n",
       "      <td>4</td>\n",
       "      <td>2</td>\n",
       "      <td>17</td>\n",
       "      <td>1</td>\n",
       "    </tr>\n",
       "    <tr>\n",
       "      <th>...</th>\n",
       "      <td>...</td>\n",
       "      <td>...</td>\n",
       "      <td>...</td>\n",
       "      <td>...</td>\n",
       "    </tr>\n",
       "    <tr>\n",
       "      <th>62</th>\n",
       "      <td>55</td>\n",
       "      <td>51</td>\n",
       "      <td>9</td>\n",
       "      <td>2</td>\n",
       "    </tr>\n",
       "    <tr>\n",
       "      <th>63</th>\n",
       "      <td>32</td>\n",
       "      <td>33</td>\n",
       "      <td>15</td>\n",
       "      <td>1</td>\n",
       "    </tr>\n",
       "    <tr>\n",
       "      <th>64</th>\n",
       "      <td>8</td>\n",
       "      <td>6</td>\n",
       "      <td>26</td>\n",
       "      <td>1</td>\n",
       "    </tr>\n",
       "    <tr>\n",
       "      <th>65</th>\n",
       "      <td>9</td>\n",
       "      <td>5</td>\n",
       "      <td>16</td>\n",
       "      <td>2</td>\n",
       "    </tr>\n",
       "    <tr>\n",
       "      <th>66</th>\n",
       "      <td>42</td>\n",
       "      <td>40</td>\n",
       "      <td>33</td>\n",
       "      <td>1</td>\n",
       "    </tr>\n",
       "  </tbody>\n",
       "</table>\n",
       "<p>67 rows × 4 columns</p>\n",
       "</div>"
      ],
      "text/plain": [
       "    CODESOCIETE  VILLE  LIBELLEDEPARTEMENT  LIBELLEREGIONCOMMERCIALE\n",
       "0            28     29                  25                         3\n",
       "1             0     17                  24                         3\n",
       "2             1     26                   2                         2\n",
       "3             2     63                   5                         2\n",
       "4             4      2                  17                         1\n",
       "..          ...    ...                 ...                       ...\n",
       "62           55     51                   9                         2\n",
       "63           32     33                  15                         1\n",
       "64            8      6                  26                         1\n",
       "65            9      5                  16                         2\n",
       "66           42     40                  33                         1\n",
       "\n",
       "[67 rows x 4 columns]"
      ]
     },
     "execution_count": 25,
     "metadata": {},
     "output_type": "execute_result"
    }
   ],
   "source": [
    "data5"
   ]
  }
 ],
 "metadata": {
  "kernelspec": {
   "display_name": "Python 3",
   "language": "python",
   "name": "python3"
  },
  "language_info": {
   "codemirror_mode": {
    "name": "ipython",
    "version": 3
   },
   "file_extension": ".py",
   "mimetype": "text/x-python",
   "name": "python",
   "nbconvert_exporter": "python",
   "pygments_lexer": "ipython3",
   "version": "3.11.5"
  }
 },
 "nbformat": 4,
 "nbformat_minor": 2
}
