{
 "cells": [
  {
   "cell_type": "code",
   "execution_count": null,
   "metadata": {},
   "outputs": [],
   "source": [
    "import pip\n",
    "pip.main(['install', 'pandas'])\n",
    "pip.main(['install', 'matplotlib'])\n",
    "pip.main(['install', 'seaborn'])\n",
    "pip.main(['install', 'scikit-learn'])"
   ]
  },
  {
   "cell_type": "markdown",
   "metadata": {},
   "source": [
    "# CHARGEMENT DES BIBLIOTHEQUES"
   ]
  },
  {
   "cell_type": "code",
   "execution_count": 2,
   "metadata": {
    "ExecuteTime": {
     "end_time": "2024-06-18T07:41:39.807838Z",
     "start_time": "2024-06-18T07:41:39.801273Z"
    }
   },
   "outputs": [],
   "source": [
    "import pandas as pd\n",
    "import matplotlib.pyplot as plt\n",
    "import numpy as np\n",
    "import seaborn as sns\n",
    "\n",
    "from sklearn.linear_model import LogisticRegression\n",
    "from sklearn.model_selection import train_test_split\n",
    "from sklearn.datasets import make_classification\n",
    "from sklearn.metrics import roc_curve, auc\n",
    "from sklearn.metrics import accuracy_score, classification_report, confusion_matrix\n",
    "from sklearn.preprocessing import StandardScaler\n",
    "from sklearn.preprocessing import OneHotEncoder\n",
    "from sklearn.preprocessing import LabelEncoder"
   ]
  },
  {
   "cell_type": "markdown",
   "metadata": {},
   "source": [
    "Chargement du jeu de données REF_MAGASIN"
   ]
  },
  {
   "cell_type": "code",
   "execution_count": 3,
   "metadata": {
    "ExecuteTime": {
     "end_time": "2024-06-18T07:41:41.471988Z",
     "start_time": "2024-06-18T07:41:41.463554Z"
    }
   },
   "outputs": [
    {
     "name": "stdout",
     "output_type": "stream",
     "text": [
      "(67, 4)\n",
      "['CODESOCIETE', 'VILLE', 'LIBELLEDEPARTEMENT', 'LIBELLEREGIONCOMMERCIALE']\n"
     ]
    }
   ],
   "source": [
    "dataset_path = \"C:\\\\Users\\\\belga\\\\OneDrive\\\\Bureau\\\\EMBA Big Data\\\\Module Datascience\\\\Projet Data Science S2 2024\\\\REF_MAGASIN.csv\"\n",
    "REF_MAGASIN = pd.read_csv(dataset_path, sep='|', low_memory=False)\n",
    "print(REF_MAGASIN.shape)\n",
    "print(list(REF_MAGASIN.columns))"
   ]
  },
  {
   "cell_type": "markdown",
   "metadata": {},
   "source": [
    "La ligne de code ci-dessous nous permet de voir le détail des colonnes de notre jeu de données ainsi que le type de données (chaîne de caractères, numérique)"
   ]
  },
  {
   "cell_type": "code",
   "execution_count": 4,
   "metadata": {
    "ExecuteTime": {
     "end_time": "2024-06-18T07:41:47.107605Z",
     "start_time": "2024-06-18T07:41:47.102214Z"
    }
   },
   "outputs": [
    {
     "name": "stdout",
     "output_type": "stream",
     "text": [
      "<class 'pandas.core.frame.DataFrame'>\n",
      "RangeIndex: 67 entries, 0 to 66\n",
      "Data columns (total 4 columns):\n",
      " #   Column                    Non-Null Count  Dtype \n",
      "---  ------                    --------------  ----- \n",
      " 0   CODESOCIETE               67 non-null     object\n",
      " 1   VILLE                     67 non-null     object\n",
      " 2   LIBELLEDEPARTEMENT        67 non-null     int64 \n",
      " 3   LIBELLEREGIONCOMMERCIALE  67 non-null     object\n",
      "dtypes: int64(1), object(3)\n",
      "memory usage: 2.2+ KB\n"
     ]
    }
   ],
   "source": [
    "REF_MAGASIN.info()"
   ]
  },
  {
   "cell_type": "markdown",
   "metadata": {},
   "source": [
    "Aperçu du jeu de données."
   ]
  },
  {
   "cell_type": "code",
   "execution_count": 5,
   "metadata": {
    "ExecuteTime": {
     "end_time": "2024-06-18T07:41:48.410074Z",
     "start_time": "2024-06-18T07:41:48.402141Z"
    }
   },
   "outputs": [
    {
     "data": {
      "text/html": [
       "<div>\n",
       "<style scoped>\n",
       "    .dataframe tbody tr th:only-of-type {\n",
       "        vertical-align: middle;\n",
       "    }\n",
       "\n",
       "    .dataframe tbody tr th {\n",
       "        vertical-align: top;\n",
       "    }\n",
       "\n",
       "    .dataframe thead th {\n",
       "        text-align: right;\n",
       "    }\n",
       "</style>\n",
       "<table border=\"1\" class=\"dataframe\">\n",
       "  <thead>\n",
       "    <tr style=\"text-align: right;\">\n",
       "      <th></th>\n",
       "      <th>CODESOCIETE</th>\n",
       "      <th>VILLE</th>\n",
       "      <th>LIBELLEDEPARTEMENT</th>\n",
       "      <th>LIBELLEREGIONCOMMERCIALE</th>\n",
       "    </tr>\n",
       "  </thead>\n",
       "  <tbody>\n",
       "    <tr>\n",
       "      <th>0</th>\n",
       "      <td>MET</td>\n",
       "      <td>METZ-TESSY</td>\n",
       "      <td>74</td>\n",
       "      <td>Rhône-Alpes</td>\n",
       "    </tr>\n",
       "    <tr>\n",
       "      <th>1</th>\n",
       "      <td>ALB</td>\n",
       "      <td>GILLY SUR ISERE</td>\n",
       "      <td>73</td>\n",
       "      <td>Rhône-Alpes</td>\n",
       "    </tr>\n",
       "    <tr>\n",
       "      <th>2</th>\n",
       "      <td>ALM</td>\n",
       "      <td>LES MILLES</td>\n",
       "      <td>13</td>\n",
       "      <td>Littoral</td>\n",
       "    </tr>\n",
       "    <tr>\n",
       "      <th>3</th>\n",
       "      <td>AVI</td>\n",
       "      <td>VILLENEUVE-LES-AVIGNON</td>\n",
       "      <td>30</td>\n",
       "      <td>Littoral</td>\n",
       "    </tr>\n",
       "    <tr>\n",
       "      <th>4</th>\n",
       "      <td>BEA</td>\n",
       "      <td>BEAUMONT</td>\n",
       "      <td>63</td>\n",
       "      <td>Centre-Paris</td>\n",
       "    </tr>\n",
       "    <tr>\n",
       "      <th>...</th>\n",
       "      <td>...</td>\n",
       "      <td>...</td>\n",
       "      <td>...</td>\n",
       "      <td>...</td>\n",
       "    </tr>\n",
       "    <tr>\n",
       "      <th>62</th>\n",
       "      <td>STR</td>\n",
       "      <td>SISTERON</td>\n",
       "      <td>4</td>\n",
       "      <td>Littoral</td>\n",
       "    </tr>\n",
       "    <tr>\n",
       "      <th>63</th>\n",
       "      <td>NEV</td>\n",
       "      <td>NEVERS CEDEX</td>\n",
       "      <td>58</td>\n",
       "      <td>Centre-Paris</td>\n",
       "    </tr>\n",
       "    <tr>\n",
       "      <th>64</th>\n",
       "      <td>BSN</td>\n",
       "      <td>CESSON</td>\n",
       "      <td>77</td>\n",
       "      <td>Centre-Paris</td>\n",
       "    </tr>\n",
       "    <tr>\n",
       "      <th>65</th>\n",
       "      <td>CAG</td>\n",
       "      <td>CAGNES SUR MER</td>\n",
       "      <td>6</td>\n",
       "      <td>Littoral</td>\n",
       "    </tr>\n",
       "    <tr>\n",
       "      <th>66</th>\n",
       "      <td>RMA</td>\n",
       "      <td>RUEIL MALMAISON</td>\n",
       "      <td>92</td>\n",
       "      <td>Centre-Paris</td>\n",
       "    </tr>\n",
       "  </tbody>\n",
       "</table>\n",
       "<p>67 rows × 4 columns</p>\n",
       "</div>"
      ],
      "text/plain": [
       "   CODESOCIETE                   VILLE  LIBELLEDEPARTEMENT  \\\n",
       "0          MET              METZ-TESSY                  74   \n",
       "1          ALB         GILLY SUR ISERE                  73   \n",
       "2          ALM              LES MILLES                  13   \n",
       "3          AVI  VILLENEUVE-LES-AVIGNON                  30   \n",
       "4          BEA                BEAUMONT                  63   \n",
       "..         ...                     ...                 ...   \n",
       "62         STR                SISTERON                   4   \n",
       "63         NEV            NEVERS CEDEX                  58   \n",
       "64         BSN                  CESSON                  77   \n",
       "65         CAG          CAGNES SUR MER                   6   \n",
       "66         RMA         RUEIL MALMAISON                  92   \n",
       "\n",
       "   LIBELLEREGIONCOMMERCIALE  \n",
       "0               Rhône-Alpes  \n",
       "1               Rhône-Alpes  \n",
       "2                  Littoral  \n",
       "3                  Littoral  \n",
       "4              Centre-Paris  \n",
       "..                      ...  \n",
       "62                 Littoral  \n",
       "63             Centre-Paris  \n",
       "64             Centre-Paris  \n",
       "65                 Littoral  \n",
       "66             Centre-Paris  \n",
       "\n",
       "[67 rows x 4 columns]"
      ]
     },
     "execution_count": 5,
     "metadata": {},
     "output_type": "execute_result"
    }
   ],
   "source": [
    "REF_MAGASIN"
   ]
  },
  {
   "cell_type": "markdown",
   "metadata": {},
   "source": [
    "Afin d'exploiter de façon optimale les informations, nous allons convetir le LIBELLE DEPARTEMENT en caractère. "
   ]
  },
  {
   "cell_type": "code",
   "execution_count": 6,
   "metadata": {
    "ExecuteTime": {
     "end_time": "2024-06-18T07:41:50.466406Z",
     "start_time": "2024-06-18T07:41:50.462342Z"
    }
   },
   "outputs": [],
   "source": [
    "#transformation libellé département en object\n",
    "REF_MAGASIN['LIBELLEDEPARTEMENT'] = REF_MAGASIN['LIBELLEDEPARTEMENT'].astype(str)"
   ]
  },
  {
   "cell_type": "markdown",
   "metadata": {},
   "source": [
    "Vérification du traitement."
   ]
  },
  {
   "cell_type": "code",
   "execution_count": 7,
   "metadata": {
    "ExecuteTime": {
     "end_time": "2024-06-18T07:41:52.303740Z",
     "start_time": "2024-06-18T07:41:52.297426Z"
    }
   },
   "outputs": [
    {
     "name": "stdout",
     "output_type": "stream",
     "text": [
      "<class 'pandas.core.frame.DataFrame'>\n",
      "RangeIndex: 67 entries, 0 to 66\n",
      "Data columns (total 4 columns):\n",
      " #   Column                    Non-Null Count  Dtype \n",
      "---  ------                    --------------  ----- \n",
      " 0   CODESOCIETE               67 non-null     object\n",
      " 1   VILLE                     67 non-null     object\n",
      " 2   LIBELLEDEPARTEMENT        67 non-null     object\n",
      " 3   LIBELLEREGIONCOMMERCIALE  67 non-null     object\n",
      "dtypes: object(4)\n",
      "memory usage: 2.2+ KB\n"
     ]
    }
   ],
   "source": [
    "REF_MAGASIN.info()"
   ]
  },
  {
   "cell_type": "markdown",
   "metadata": {},
   "source": [
    "Cette ligne de code nous permet d'identifier le nombre d'occurence de chaque CODESOCIETE, pour identifier les éventuels regroupements à effectuer. Nous allons également effectuer cette opération sur les autres colonnes de notre jeu de données."
   ]
  },
  {
   "cell_type": "code",
   "execution_count": 8,
   "metadata": {
    "ExecuteTime": {
     "end_time": "2024-06-18T07:41:53.770403Z",
     "start_time": "2024-06-18T07:41:53.763013Z"
    }
   },
   "outputs": [
    {
     "data": {
      "text/plain": [
       "CODESOCIETE\n",
       "MET    1\n",
       "VLG    1\n",
       "SEY    1\n",
       "SGL    1\n",
       "SJV    1\n",
       "      ..\n",
       "PEP    1\n",
       "PON    1\n",
       "PRI    1\n",
       "QUE    1\n",
       "RMA    1\n",
       "Name: count, Length: 67, dtype: int64"
      ]
     },
     "execution_count": 8,
     "metadata": {},
     "output_type": "execute_result"
    }
   ],
   "source": [
    "#modalités variables:\n",
    "REF_MAGASIN['CODESOCIETE'].value_counts(dropna = False)"
   ]
  },
  {
   "cell_type": "code",
   "execution_count": 9,
   "metadata": {
    "ExecuteTime": {
     "end_time": "2024-06-18T07:41:54.937376Z",
     "start_time": "2024-06-18T07:41:54.932371Z"
    }
   },
   "outputs": [
    {
     "data": {
      "text/plain": [
       "VILLE\n",
       "METZ-TESSY             1\n",
       "VILLE-LA-GRAND         1\n",
       "SEYSSINS               1\n",
       "SAINT-GENEST-LERPT     1\n",
       "SAINT-JEAN-DE-VEDAS    1\n",
       "                      ..\n",
       "PERPIGNAN              1\n",
       "LE PONTET              1\n",
       "SAINT-PRIEST           1\n",
       "QUETIGNY               1\n",
       "RUEIL MALMAISON        1\n",
       "Name: count, Length: 67, dtype: int64"
      ]
     },
     "execution_count": 9,
     "metadata": {},
     "output_type": "execute_result"
    }
   ],
   "source": [
    "REF_MAGASIN['VILLE'].value_counts(dropna = False)"
   ]
  },
  {
   "cell_type": "code",
   "execution_count": 10,
   "metadata": {
    "ExecuteTime": {
     "end_time": "2024-06-18T07:41:56.724102Z",
     "start_time": "2024-06-18T07:41:56.720202Z"
    }
   },
   "outputs": [
    {
     "data": {
      "text/plain": [
       "LIBELLEREGIONCOMMERCIALE\n",
       "Rhône-Alpes       20\n",
       "Littoral          19\n",
       "Alsace-Est        15\n",
       "Centre-Paris      12\n",
       "Vente en ligne     1\n",
       "Name: count, dtype: int64"
      ]
     },
     "execution_count": 10,
     "metadata": {},
     "output_type": "execute_result"
    }
   ],
   "source": [
    "REF_MAGASIN['LIBELLEREGIONCOMMERCIALE'].value_counts(dropna = False)"
   ]
  },
  {
   "cell_type": "code",
   "execution_count": 11,
   "metadata": {
    "ExecuteTime": {
     "end_time": "2024-06-18T07:41:58.847747Z",
     "start_time": "2024-06-18T07:41:58.844448Z"
    }
   },
   "outputs": [
    {
     "data": {
      "text/plain": [
       "array(['Rhône-Alpes', 'Littoral', 'Centre-Paris', 'Alsace-Est',\n",
       "       'Vente en ligne'], dtype=object)"
      ]
     },
     "execution_count": 11,
     "metadata": {},
     "output_type": "execute_result"
    }
   ],
   "source": [
    "REF_MAGASIN['LIBELLEREGIONCOMMERCIALE'].unique()"
   ]
  },
  {
   "cell_type": "markdown",
   "metadata": {},
   "source": [
    "Suppression de la modalité \"vente en ligne\", que nous n'allons pas exploiter."
   ]
  },
  {
   "cell_type": "code",
   "execution_count": 12,
   "metadata": {
    "ExecuteTime": {
     "end_time": "2024-06-18T07:42:18.693189Z",
     "start_time": "2024-06-18T07:42:18.687788Z"
    }
   },
   "outputs": [
    {
     "name": "stdout",
     "output_type": "stream",
     "text": [
      "Avant la suppression :\n",
      "           Region\n",
      "0     Rhône-Alpes\n",
      "1        Littoral\n",
      "2    Centre-Paris\n",
      "3      Alsace-Est\n",
      "4  Vente en ligne\n",
      "\n",
      "Après la suppression :\n",
      "         Region\n",
      "0   Rhône-Alpes\n",
      "1      Littoral\n",
      "2  Centre-Paris\n",
      "3    Alsace-Est\n"
     ]
    }
   ],
   "source": [
    "# Créer un DataFrame de test avec la modalité 'Vente en ligne'\n",
    "data = {'Region': ['Rhône-Alpes', 'Littoral', 'Centre-Paris', 'Alsace-Est', 'Vente en ligne']}\n",
    "df = pd.DataFrame(data)\n",
    "\n",
    "# Afficher le DataFrame avant la suppression\n",
    "print(\"Avant la suppression :\")\n",
    "print(df)\n",
    "\n",
    "# Supprimer la modalité 'Vente en ligne'\n",
    "df = df[df['Region'] != 'Vente en ligne']\n",
    "\n",
    "# Réinitialiser les index après la suppression\n",
    "df.reset_index(drop=True, inplace=True)\n",
    "\n",
    "# Afficher le DataFrame après la suppression\n",
    "print(\"\\nAprès la suppression :\")\n",
    "print(df)"
   ]
  },
  {
   "cell_type": "markdown",
   "metadata": {},
   "source": [
    "La ligne de code ci-dessous nous permet d'identifier les valeurs en doublons qui conviendra de traiter."
   ]
  },
  {
   "cell_type": "code",
   "execution_count": 13,
   "metadata": {
    "ExecuteTime": {
     "end_time": "2024-06-18T07:42:20.304852Z",
     "start_time": "2024-06-18T07:42:20.298279Z"
    }
   },
   "outputs": [
    {
     "name": "stdout",
     "output_type": "stream",
     "text": [
      "0\n"
     ]
    }
   ],
   "source": [
    "print(REF_MAGASIN.duplicated().sum())\n",
    "REF_MAGASIN = REF_MAGASIN.drop_duplicates()"
   ]
  },
  {
   "cell_type": "markdown",
   "metadata": {},
   "source": [
    "Nous procédons également à la vérification de présence ou non de valeurs manquantes (aucune valeur détectée)."
   ]
  },
  {
   "cell_type": "code",
   "execution_count": 14,
   "metadata": {
    "ExecuteTime": {
     "end_time": "2024-06-18T07:42:28.039915Z",
     "start_time": "2024-06-18T07:42:28.034095Z"
    }
   },
   "outputs": [
    {
     "data": {
      "text/html": [
       "<div>\n",
       "<style scoped>\n",
       "    .dataframe tbody tr th:only-of-type {\n",
       "        vertical-align: middle;\n",
       "    }\n",
       "\n",
       "    .dataframe tbody tr th {\n",
       "        vertical-align: top;\n",
       "    }\n",
       "\n",
       "    .dataframe thead th {\n",
       "        text-align: right;\n",
       "    }\n",
       "</style>\n",
       "<table border=\"1\" class=\"dataframe\">\n",
       "  <thead>\n",
       "    <tr style=\"text-align: right;\">\n",
       "      <th></th>\n",
       "      <th>%_missing_values</th>\n",
       "    </tr>\n",
       "  </thead>\n",
       "  <tbody>\n",
       "    <tr>\n",
       "      <th>CODESOCIETE</th>\n",
       "      <td>0.0</td>\n",
       "    </tr>\n",
       "    <tr>\n",
       "      <th>VILLE</th>\n",
       "      <td>0.0</td>\n",
       "    </tr>\n",
       "    <tr>\n",
       "      <th>LIBELLEDEPARTEMENT</th>\n",
       "      <td>0.0</td>\n",
       "    </tr>\n",
       "    <tr>\n",
       "      <th>LIBELLEREGIONCOMMERCIALE</th>\n",
       "      <td>0.0</td>\n",
       "    </tr>\n",
       "  </tbody>\n",
       "</table>\n",
       "</div>"
      ],
      "text/plain": [
       "                          %_missing_values\n",
       "CODESOCIETE                            0.0\n",
       "VILLE                                  0.0\n",
       "LIBELLEDEPARTEMENT                     0.0\n",
       "LIBELLEREGIONCOMMERCIALE               0.0"
      ]
     },
     "execution_count": 14,
     "metadata": {},
     "output_type": "execute_result"
    }
   ],
   "source": [
    "pd.DataFrame(index=REF_MAGASIN.columns, columns=['%_missing_values'], data= (REF_MAGASIN.isna().sum().values / len(REF_MAGASIN)*100))"
   ]
  },
  {
   "cell_type": "markdown",
   "metadata": {},
   "source": [
    "Le traitement des valeurs aberrantes ne concernant que les variables numériques, nous n'allons pas procéder à ce traitement car aucune de nos variables n'est concernées sur ce dataframe."
   ]
  },
  {
   "cell_type": "markdown",
   "metadata": {},
   "source": [
    "Nous renommons le \"code société\" en \"magasin\" pour faciliter la fusion de nos dataframes, par cette clé, par la suite."
   ]
  },
  {
   "cell_type": "code",
   "execution_count": 15,
   "metadata": {
    "ExecuteTime": {
     "end_time": "2024-06-18T07:42:49.001836Z",
     "start_time": "2024-06-18T07:42:48.998901Z"
    }
   },
   "outputs": [],
   "source": [
    "REF_MAGASIN.rename(columns={'CODESOCIETE': 'MAGASIN'}, inplace=True)"
   ]
  },
  {
   "cell_type": "markdown",
   "metadata": {},
   "source": [
    "Enregistrement de notre dataframe pour faciliter sa réutilisation dans un autre notebook, sans avoir à tout éxécuter. "
   ]
  },
  {
   "cell_type": "code",
   "execution_count": 16,
   "metadata": {},
   "outputs": [],
   "source": [
    "MAGASINS = \"C:\\\\Users\\\\belga\\\\OneDrive\\\\Bureau\\\\EMBA Big Data\\\\Module Datascience\\\\Projet Data Science S2 2024\\\\MAGASINS_NET.pkl\"\n",
    "REF_MAGASIN.to_pickle(MAGASINS)"
   ]
  }
 ],
 "metadata": {
  "kernelspec": {
   "display_name": "Python 3",
   "language": "python",
   "name": "python3"
  },
  "language_info": {
   "codemirror_mode": {
    "name": "ipython",
    "version": 3
   },
   "file_extension": ".py",
   "mimetype": "text/x-python",
   "name": "python",
   "nbconvert_exporter": "python",
   "pygments_lexer": "ipython3",
   "version": "3.11.5"
  }
 },
 "nbformat": 4,
 "nbformat_minor": 2
}
