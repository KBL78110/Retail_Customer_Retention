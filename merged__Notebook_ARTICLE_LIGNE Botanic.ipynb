{
 "cells": [
  {
   "cell_type": "markdown",
   "id": "c24a880f",
   "metadata": {},
   "source": [
    "# CHARGEMENT DES BIBLIOTHEQUES"
   ]
  },
  {
   "cell_type": "code",
   "id": "612332e6",
   "metadata": {
    "ExecuteTime": {
     "end_time": "2024-05-24T15:43:10.950013Z",
     "start_time": "2024-05-24T15:43:10.945578Z"
    }
   },
   "source": [
    "import pandas as pd\n",
    "import matplotlib.pyplot as plt\n",
    "import numpy as np\n",
    "import seaborn as sns\n",
    "\n",
    "from sklearn.linear_model import LogisticRegression\n",
    "from sklearn.model_selection import train_test_split\n",
    "from sklearn.datasets import make_classification\n",
    "from sklearn.metrics import roc_curve, auc\n",
    "from sklearn.metrics import accuracy_score, classification_report, confusion_matrix\n",
    "from sklearn.preprocessing import StandardScaler\n",
    "from sklearn.preprocessing import OneHotEncoder\n",
    "from sklearn.preprocessing import LabelEncoder"
   ],
   "outputs": [],
   "execution_count": 68
  },
  {
   "cell_type": "markdown",
   "id": "abc9abc3",
   "metadata": {},
   "source": [
    "Chargement du jeu de données \"LIGNES_TICKET_V4\""
   ]
  },
  {
   "cell_type": "code",
   "id": "f688a8c5",
   "metadata": {
    "ExecuteTime": {
     "end_time": "2024-05-24T15:43:24.568428Z",
     "start_time": "2024-05-24T15:43:12.889740Z"
    }
   },
   "source": [
    "data3 = pd.read_csv(\"LIGNES_TICKET_V4.csv\", sep='|', low_memory=False)\n",
    "print(data3.shape)\n",
    "print(list(data3.columns))"
   ],
   "outputs": [
    {
     "name": "stdout",
     "output_type": "stream",
     "text": [
      "(34105705, 7)\n",
      "['IDTICKET', 'NUMLIGNETICKET', 'IDARTICLE', 'QUANTITE', 'MONTANTREMISE', 'TOTAL', 'MARGESORTIE']\n"
     ]
    }
   ],
   "execution_count": 69
  },
  {
   "cell_type": "markdown",
   "id": "726ff59a",
   "metadata": {},
   "source": [
    "La ligne de code ci-dessous nous permet de voir le détail des colonnes de notre jeu de données ainsi que le type de données (chaîne de caractères, numérique)"
   ]
  },
  {
   "cell_type": "code",
   "id": "24de4d00",
   "metadata": {
    "ExecuteTime": {
     "end_time": "2024-05-24T15:43:26.977773Z",
     "start_time": "2024-05-24T15:43:26.964046Z"
    }
   },
   "source": [
    "data3.info()"
   ],
   "outputs": [
    {
     "name": "stdout",
     "output_type": "stream",
     "text": [
      "<class 'pandas.core.frame.DataFrame'>\n",
      "RangeIndex: 34105705 entries, 0 to 34105704\n",
      "Data columns (total 7 columns):\n",
      " #   Column          Dtype \n",
      "---  ------          ----- \n",
      " 0   IDTICKET        int64 \n",
      " 1   NUMLIGNETICKET  int64 \n",
      " 2   IDARTICLE       object\n",
      " 3   QUANTITE        object\n",
      " 4   MONTANTREMISE   object\n",
      " 5   TOTAL           object\n",
      " 6   MARGESORTIE     object\n",
      "dtypes: int64(2), object(5)\n",
      "memory usage: 1.8+ GB\n"
     ]
    }
   ],
   "execution_count": 70
  },
  {
   "cell_type": "markdown",
   "id": "e598f624",
   "metadata": {},
   "source": [
    "Aperçu du jeu de données."
   ]
  },
  {
   "cell_type": "code",
   "id": "aa0603ab",
   "metadata": {
    "ExecuteTime": {
     "end_time": "2024-05-24T15:43:28.519004Z",
     "start_time": "2024-05-24T15:43:28.513115Z"
    }
   },
   "source": [
    "data3"
   ],
   "outputs": [
    {
     "data": {
      "text/plain": [
       "              IDTICKET  NUMLIGNETICKET IDARTICLE QUANTITE MONTANTREMISE  \\\n",
       "0         190400316260               2    246208    1,000          ,000   \n",
       "1         190400316262               2     33725    1,000          ,000   \n",
       "2         190400316262               3    634497    1,000          ,000   \n",
       "3         190400316262               1    257613    1,000          ,000   \n",
       "4         190400316263               1    257627    1,000          ,000   \n",
       "...                ...             ...       ...      ...           ...   \n",
       "34105700  340200383203               2    257643        1             0   \n",
       "34105701  340200383203               3     50170        1             0   \n",
       "34105702  340200383203               4    349345        1             0   \n",
       "34105703  340200383203               5    250580        2             0   \n",
       "34105704  340200383217               1    816313       20         1,818   \n",
       "\n",
       "          TOTAL MARGESORTIE  \n",
       "0          4,96        2,37  \n",
       "1          8,25        3,63  \n",
       "2          5,79        3,63  \n",
       "3         18,29        6,21  \n",
       "4         49,92       10,42  \n",
       "...         ...         ...  \n",
       "34105700   4,69        1,83  \n",
       "34105701   3,18           1  \n",
       "34105702   3,46        1,13  \n",
       "34105703    6,8        2,18  \n",
       "34105704   1,82        1,42  \n",
       "\n",
       "[34105705 rows x 7 columns]"
      ],
      "text/html": [
       "<div>\n",
       "<style scoped>\n",
       "    .dataframe tbody tr th:only-of-type {\n",
       "        vertical-align: middle;\n",
       "    }\n",
       "\n",
       "    .dataframe tbody tr th {\n",
       "        vertical-align: top;\n",
       "    }\n",
       "\n",
       "    .dataframe thead th {\n",
       "        text-align: right;\n",
       "    }\n",
       "</style>\n",
       "<table border=\"1\" class=\"dataframe\">\n",
       "  <thead>\n",
       "    <tr style=\"text-align: right;\">\n",
       "      <th></th>\n",
       "      <th>IDTICKET</th>\n",
       "      <th>NUMLIGNETICKET</th>\n",
       "      <th>IDARTICLE</th>\n",
       "      <th>QUANTITE</th>\n",
       "      <th>MONTANTREMISE</th>\n",
       "      <th>TOTAL</th>\n",
       "      <th>MARGESORTIE</th>\n",
       "    </tr>\n",
       "  </thead>\n",
       "  <tbody>\n",
       "    <tr>\n",
       "      <th>0</th>\n",
       "      <td>190400316260</td>\n",
       "      <td>2</td>\n",
       "      <td>246208</td>\n",
       "      <td>1,000</td>\n",
       "      <td>,000</td>\n",
       "      <td>4,96</td>\n",
       "      <td>2,37</td>\n",
       "    </tr>\n",
       "    <tr>\n",
       "      <th>1</th>\n",
       "      <td>190400316262</td>\n",
       "      <td>2</td>\n",
       "      <td>33725</td>\n",
       "      <td>1,000</td>\n",
       "      <td>,000</td>\n",
       "      <td>8,25</td>\n",
       "      <td>3,63</td>\n",
       "    </tr>\n",
       "    <tr>\n",
       "      <th>2</th>\n",
       "      <td>190400316262</td>\n",
       "      <td>3</td>\n",
       "      <td>634497</td>\n",
       "      <td>1,000</td>\n",
       "      <td>,000</td>\n",
       "      <td>5,79</td>\n",
       "      <td>3,63</td>\n",
       "    </tr>\n",
       "    <tr>\n",
       "      <th>3</th>\n",
       "      <td>190400316262</td>\n",
       "      <td>1</td>\n",
       "      <td>257613</td>\n",
       "      <td>1,000</td>\n",
       "      <td>,000</td>\n",
       "      <td>18,29</td>\n",
       "      <td>6,21</td>\n",
       "    </tr>\n",
       "    <tr>\n",
       "      <th>4</th>\n",
       "      <td>190400316263</td>\n",
       "      <td>1</td>\n",
       "      <td>257627</td>\n",
       "      <td>1,000</td>\n",
       "      <td>,000</td>\n",
       "      <td>49,92</td>\n",
       "      <td>10,42</td>\n",
       "    </tr>\n",
       "    <tr>\n",
       "      <th>...</th>\n",
       "      <td>...</td>\n",
       "      <td>...</td>\n",
       "      <td>...</td>\n",
       "      <td>...</td>\n",
       "      <td>...</td>\n",
       "      <td>...</td>\n",
       "      <td>...</td>\n",
       "    </tr>\n",
       "    <tr>\n",
       "      <th>34105700</th>\n",
       "      <td>340200383203</td>\n",
       "      <td>2</td>\n",
       "      <td>257643</td>\n",
       "      <td>1</td>\n",
       "      <td>0</td>\n",
       "      <td>4,69</td>\n",
       "      <td>1,83</td>\n",
       "    </tr>\n",
       "    <tr>\n",
       "      <th>34105701</th>\n",
       "      <td>340200383203</td>\n",
       "      <td>3</td>\n",
       "      <td>50170</td>\n",
       "      <td>1</td>\n",
       "      <td>0</td>\n",
       "      <td>3,18</td>\n",
       "      <td>1</td>\n",
       "    </tr>\n",
       "    <tr>\n",
       "      <th>34105702</th>\n",
       "      <td>340200383203</td>\n",
       "      <td>4</td>\n",
       "      <td>349345</td>\n",
       "      <td>1</td>\n",
       "      <td>0</td>\n",
       "      <td>3,46</td>\n",
       "      <td>1,13</td>\n",
       "    </tr>\n",
       "    <tr>\n",
       "      <th>34105703</th>\n",
       "      <td>340200383203</td>\n",
       "      <td>5</td>\n",
       "      <td>250580</td>\n",
       "      <td>2</td>\n",
       "      <td>0</td>\n",
       "      <td>6,8</td>\n",
       "      <td>2,18</td>\n",
       "    </tr>\n",
       "    <tr>\n",
       "      <th>34105704</th>\n",
       "      <td>340200383217</td>\n",
       "      <td>1</td>\n",
       "      <td>816313</td>\n",
       "      <td>20</td>\n",
       "      <td>1,818</td>\n",
       "      <td>1,82</td>\n",
       "      <td>1,42</td>\n",
       "    </tr>\n",
       "  </tbody>\n",
       "</table>\n",
       "<p>34105705 rows × 7 columns</p>\n",
       "</div>"
      ]
     },
     "execution_count": 71,
     "metadata": {},
     "output_type": "execute_result"
    }
   ],
   "execution_count": 71
  },
  {
   "cell_type": "markdown",
   "id": "2c72a6ae",
   "metadata": {},
   "source": [
    "Afin d'exploiter de façon optimale les informations, nous allons convetir les l'ID TICKET et le NUM LIGNE TICKET en caractère. A l'inverse, nous devons convertir les quantités, les montants, les totaux et les marges en valeur numérique."
   ]
  },
  {
   "cell_type": "code",
   "id": "63adc44b",
   "metadata": {
    "ExecuteTime": {
     "end_time": "2024-05-24T15:43:37.189366Z",
     "start_time": "2024-05-24T15:43:30.021506Z"
    }
   },
   "source": [
    "data3['IDTICKET'] = data3['IDTICKET'].astype(str)\n",
    "data3['NUMLIGNETICKET'] = data3['NUMLIGNETICKET'].astype(str)"
   ],
   "outputs": [],
   "execution_count": 72
  },
  {
   "cell_type": "code",
   "id": "9572479a",
   "metadata": {
    "ExecuteTime": {
     "end_time": "2024-05-24T15:43:43.848272Z",
     "start_time": "2024-05-24T15:43:39.807275Z"
    }
   },
   "source": [
    "data3[\"QUANTITE\"]=data3['QUANTITE'].str.replace(',', '.').astype(float)"
   ],
   "outputs": [],
   "execution_count": 73
  },
  {
   "cell_type": "code",
   "id": "8129047e",
   "metadata": {
    "ExecuteTime": {
     "end_time": "2024-05-24T15:43:48.336776Z",
     "start_time": "2024-05-24T15:43:43.849720Z"
    }
   },
   "source": [
    "data3[\"TOTAL\"]=data3['TOTAL'].str.replace(',', '.').astype(float)"
   ],
   "outputs": [],
   "execution_count": 74
  },
  {
   "cell_type": "code",
   "id": "9e5c7474",
   "metadata": {
    "ExecuteTime": {
     "end_time": "2024-05-24T15:43:51.940102Z",
     "start_time": "2024-05-24T15:43:48.337678Z"
    }
   },
   "source": [
    "data3[\"MONTANTREMISE\"]=data3['MONTANTREMISE'].str.replace(',', '.').astype(float)"
   ],
   "outputs": [],
   "execution_count": 75
  },
  {
   "cell_type": "code",
   "id": "5283425a",
   "metadata": {
    "ExecuteTime": {
     "end_time": "2024-05-24T15:43:56.196578Z",
     "start_time": "2024-05-24T15:43:51.942Z"
    }
   },
   "source": [
    "data3[\"MARGESORTIE\"]=data3['MARGESORTIE'].str.replace(',', '.').astype(float)"
   ],
   "outputs": [],
   "execution_count": 76
  },
  {
   "cell_type": "markdown",
   "id": "bbb94a50",
   "metadata": {},
   "source": [
    "Vérification du traitement."
   ]
  },
  {
   "cell_type": "code",
   "id": "06b0b1ca",
   "metadata": {
    "ExecuteTime": {
     "end_time": "2024-05-24T15:44:01.763243Z",
     "start_time": "2024-05-24T15:44:01.757565Z"
    }
   },
   "source": [
    "data3"
   ],
   "outputs": [
    {
     "data": {
      "text/plain": [
       "              IDTICKET NUMLIGNETICKET IDARTICLE  QUANTITE  MONTANTREMISE  \\\n",
       "0         190400316260              2    246208       1.0          0.000   \n",
       "1         190400316262              2     33725       1.0          0.000   \n",
       "2         190400316262              3    634497       1.0          0.000   \n",
       "3         190400316262              1    257613       1.0          0.000   \n",
       "4         190400316263              1    257627       1.0          0.000   \n",
       "...                ...            ...       ...       ...            ...   \n",
       "34105700  340200383203              2    257643       1.0          0.000   \n",
       "34105701  340200383203              3     50170       1.0          0.000   \n",
       "34105702  340200383203              4    349345       1.0          0.000   \n",
       "34105703  340200383203              5    250580       2.0          0.000   \n",
       "34105704  340200383217              1    816313      20.0          1.818   \n",
       "\n",
       "          TOTAL  MARGESORTIE  \n",
       "0          4.96         2.37  \n",
       "1          8.25         3.63  \n",
       "2          5.79         3.63  \n",
       "3         18.29         6.21  \n",
       "4         49.92        10.42  \n",
       "...         ...          ...  \n",
       "34105700   4.69         1.83  \n",
       "34105701   3.18         1.00  \n",
       "34105702   3.46         1.13  \n",
       "34105703   6.80         2.18  \n",
       "34105704   1.82         1.42  \n",
       "\n",
       "[34105705 rows x 7 columns]"
      ],
      "text/html": [
       "<div>\n",
       "<style scoped>\n",
       "    .dataframe tbody tr th:only-of-type {\n",
       "        vertical-align: middle;\n",
       "    }\n",
       "\n",
       "    .dataframe tbody tr th {\n",
       "        vertical-align: top;\n",
       "    }\n",
       "\n",
       "    .dataframe thead th {\n",
       "        text-align: right;\n",
       "    }\n",
       "</style>\n",
       "<table border=\"1\" class=\"dataframe\">\n",
       "  <thead>\n",
       "    <tr style=\"text-align: right;\">\n",
       "      <th></th>\n",
       "      <th>IDTICKET</th>\n",
       "      <th>NUMLIGNETICKET</th>\n",
       "      <th>IDARTICLE</th>\n",
       "      <th>QUANTITE</th>\n",
       "      <th>MONTANTREMISE</th>\n",
       "      <th>TOTAL</th>\n",
       "      <th>MARGESORTIE</th>\n",
       "    </tr>\n",
       "  </thead>\n",
       "  <tbody>\n",
       "    <tr>\n",
       "      <th>0</th>\n",
       "      <td>190400316260</td>\n",
       "      <td>2</td>\n",
       "      <td>246208</td>\n",
       "      <td>1.0</td>\n",
       "      <td>0.000</td>\n",
       "      <td>4.96</td>\n",
       "      <td>2.37</td>\n",
       "    </tr>\n",
       "    <tr>\n",
       "      <th>1</th>\n",
       "      <td>190400316262</td>\n",
       "      <td>2</td>\n",
       "      <td>33725</td>\n",
       "      <td>1.0</td>\n",
       "      <td>0.000</td>\n",
       "      <td>8.25</td>\n",
       "      <td>3.63</td>\n",
       "    </tr>\n",
       "    <tr>\n",
       "      <th>2</th>\n",
       "      <td>190400316262</td>\n",
       "      <td>3</td>\n",
       "      <td>634497</td>\n",
       "      <td>1.0</td>\n",
       "      <td>0.000</td>\n",
       "      <td>5.79</td>\n",
       "      <td>3.63</td>\n",
       "    </tr>\n",
       "    <tr>\n",
       "      <th>3</th>\n",
       "      <td>190400316262</td>\n",
       "      <td>1</td>\n",
       "      <td>257613</td>\n",
       "      <td>1.0</td>\n",
       "      <td>0.000</td>\n",
       "      <td>18.29</td>\n",
       "      <td>6.21</td>\n",
       "    </tr>\n",
       "    <tr>\n",
       "      <th>4</th>\n",
       "      <td>190400316263</td>\n",
       "      <td>1</td>\n",
       "      <td>257627</td>\n",
       "      <td>1.0</td>\n",
       "      <td>0.000</td>\n",
       "      <td>49.92</td>\n",
       "      <td>10.42</td>\n",
       "    </tr>\n",
       "    <tr>\n",
       "      <th>...</th>\n",
       "      <td>...</td>\n",
       "      <td>...</td>\n",
       "      <td>...</td>\n",
       "      <td>...</td>\n",
       "      <td>...</td>\n",
       "      <td>...</td>\n",
       "      <td>...</td>\n",
       "    </tr>\n",
       "    <tr>\n",
       "      <th>34105700</th>\n",
       "      <td>340200383203</td>\n",
       "      <td>2</td>\n",
       "      <td>257643</td>\n",
       "      <td>1.0</td>\n",
       "      <td>0.000</td>\n",
       "      <td>4.69</td>\n",
       "      <td>1.83</td>\n",
       "    </tr>\n",
       "    <tr>\n",
       "      <th>34105701</th>\n",
       "      <td>340200383203</td>\n",
       "      <td>3</td>\n",
       "      <td>50170</td>\n",
       "      <td>1.0</td>\n",
       "      <td>0.000</td>\n",
       "      <td>3.18</td>\n",
       "      <td>1.00</td>\n",
       "    </tr>\n",
       "    <tr>\n",
       "      <th>34105702</th>\n",
       "      <td>340200383203</td>\n",
       "      <td>4</td>\n",
       "      <td>349345</td>\n",
       "      <td>1.0</td>\n",
       "      <td>0.000</td>\n",
       "      <td>3.46</td>\n",
       "      <td>1.13</td>\n",
       "    </tr>\n",
       "    <tr>\n",
       "      <th>34105703</th>\n",
       "      <td>340200383203</td>\n",
       "      <td>5</td>\n",
       "      <td>250580</td>\n",
       "      <td>2.0</td>\n",
       "      <td>0.000</td>\n",
       "      <td>6.80</td>\n",
       "      <td>2.18</td>\n",
       "    </tr>\n",
       "    <tr>\n",
       "      <th>34105704</th>\n",
       "      <td>340200383217</td>\n",
       "      <td>1</td>\n",
       "      <td>816313</td>\n",
       "      <td>20.0</td>\n",
       "      <td>1.818</td>\n",
       "      <td>1.82</td>\n",
       "      <td>1.42</td>\n",
       "    </tr>\n",
       "  </tbody>\n",
       "</table>\n",
       "<p>34105705 rows × 7 columns</p>\n",
       "</div>"
      ]
     },
     "execution_count": 77,
     "metadata": {},
     "output_type": "execute_result"
    }
   ],
   "execution_count": 77
  },
  {
   "cell_type": "markdown",
   "id": "0b6c137d",
   "metadata": {},
   "source": [
    "#data3['TOTAL'].replace({'': '0.0'}, inplace=True)"
   ]
  },
  {
   "cell_type": "markdown",
   "id": "da5d2f58",
   "metadata": {},
   "source": [
    "Vérification du traitement."
   ]
  },
  {
   "cell_type": "code",
   "id": "6151472b",
   "metadata": {
    "ExecuteTime": {
     "end_time": "2024-05-24T15:44:14.757750Z",
     "start_time": "2024-05-24T15:44:14.752208Z"
    }
   },
   "source": [
    "data3.info()"
   ],
   "outputs": [
    {
     "name": "stdout",
     "output_type": "stream",
     "text": [
      "<class 'pandas.core.frame.DataFrame'>\n",
      "RangeIndex: 34105705 entries, 0 to 34105704\n",
      "Data columns (total 7 columns):\n",
      " #   Column          Dtype  \n",
      "---  ------          -----  \n",
      " 0   IDTICKET        object \n",
      " 1   NUMLIGNETICKET  object \n",
      " 2   IDARTICLE       object \n",
      " 3   QUANTITE        float64\n",
      " 4   MONTANTREMISE   float64\n",
      " 5   TOTAL           float64\n",
      " 6   MARGESORTIE     float64\n",
      "dtypes: float64(4), object(3)\n",
      "memory usage: 1.8+ GB\n"
     ]
    }
   ],
   "execution_count": 78
  },
  {
   "cell_type": "markdown",
   "id": "b624e69a",
   "metadata": {},
   "source": [
    "La ligne de code ci-dessous nous permet d'identifier les valeurs en doublons qui conviendra de traiter."
   ]
  },
  {
   "cell_type": "code",
   "id": "fcfccf0d",
   "metadata": {
    "ExecuteTime": {
     "end_time": "2024-05-24T15:15:05.671952Z",
     "start_time": "2024-05-24T15:14:39.364373Z"
    }
   },
   "source": [
    "print(data3.duplicated().sum())\n",
    "data = data3.drop_duplicates()"
   ],
   "outputs": [
    {
     "name": "stdout",
     "output_type": "stream",
     "text": [
      "130\n"
     ]
    }
   ],
   "execution_count": 13
  },
  {
   "cell_type": "markdown",
   "id": "914f6af8",
   "metadata": {},
   "source": [
    "Nous allons désormais procéder au traitement de ces doublons."
   ]
  },
  {
   "cell_type": "code",
   "id": "694063ab",
   "metadata": {
    "ExecuteTime": {
     "end_time": "2024-05-24T15:15:19.748549Z",
     "start_time": "2024-05-24T15:15:05.673678Z"
    }
   },
   "source": [
    "data3.drop_duplicates(keep='first', inplace=True)"
   ],
   "outputs": [],
   "execution_count": 14
  },
  {
   "cell_type": "markdown",
   "id": "79962fd9",
   "metadata": {},
   "source": [
    "Code de vérification."
   ]
  },
  {
   "cell_type": "code",
   "id": "991932f8",
   "metadata": {
    "ExecuteTime": {
     "end_time": "2024-05-24T15:15:34.382862Z",
     "start_time": "2024-05-24T15:15:21.960741Z"
    }
   },
   "source": [
    "print(data3.duplicated().sum())"
   ],
   "outputs": [
    {
     "name": "stdout",
     "output_type": "stream",
     "text": [
      "0\n"
     ]
    }
   ],
   "execution_count": 15
  },
  {
   "cell_type": "markdown",
   "id": "6819678e",
   "metadata": {},
   "source": [
    "Nous procédons également à la vérification de présence ou non de valeurs manquantes (aucune valeur détectée)."
   ]
  },
  {
   "cell_type": "code",
   "id": "6ccabe44",
   "metadata": {
    "ExecuteTime": {
     "end_time": "2024-05-24T15:15:39.359080Z",
     "start_time": "2024-05-24T15:15:37.095503Z"
    }
   },
   "source": [
    "pd.DataFrame(index=data.columns, columns=['%_missing_values'], data= (data.isna().sum().values / len(data)*100))"
   ],
   "outputs": [
    {
     "data": {
      "text/plain": [
       "                %_missing_values\n",
       "IDTICKET                     0.0\n",
       "NUMLIGNETICKET               0.0\n",
       "IDARTICLE                    0.0\n",
       "QUANTITE                     0.0\n",
       "MONTANTREMISE                0.0\n",
       "TOTAL                        0.0\n",
       "MARGESORTIE                  0.0"
      ],
      "text/html": [
       "<div>\n",
       "<style scoped>\n",
       "    .dataframe tbody tr th:only-of-type {\n",
       "        vertical-align: middle;\n",
       "    }\n",
       "\n",
       "    .dataframe tbody tr th {\n",
       "        vertical-align: top;\n",
       "    }\n",
       "\n",
       "    .dataframe thead th {\n",
       "        text-align: right;\n",
       "    }\n",
       "</style>\n",
       "<table border=\"1\" class=\"dataframe\">\n",
       "  <thead>\n",
       "    <tr style=\"text-align: right;\">\n",
       "      <th></th>\n",
       "      <th>%_missing_values</th>\n",
       "    </tr>\n",
       "  </thead>\n",
       "  <tbody>\n",
       "    <tr>\n",
       "      <th>IDTICKET</th>\n",
       "      <td>0.0</td>\n",
       "    </tr>\n",
       "    <tr>\n",
       "      <th>NUMLIGNETICKET</th>\n",
       "      <td>0.0</td>\n",
       "    </tr>\n",
       "    <tr>\n",
       "      <th>IDARTICLE</th>\n",
       "      <td>0.0</td>\n",
       "    </tr>\n",
       "    <tr>\n",
       "      <th>QUANTITE</th>\n",
       "      <td>0.0</td>\n",
       "    </tr>\n",
       "    <tr>\n",
       "      <th>MONTANTREMISE</th>\n",
       "      <td>0.0</td>\n",
       "    </tr>\n",
       "    <tr>\n",
       "      <th>TOTAL</th>\n",
       "      <td>0.0</td>\n",
       "    </tr>\n",
       "    <tr>\n",
       "      <th>MARGESORTIE</th>\n",
       "      <td>0.0</td>\n",
       "    </tr>\n",
       "  </tbody>\n",
       "</table>\n",
       "</div>"
      ]
     },
     "execution_count": 16,
     "metadata": {},
     "output_type": "execute_result"
    }
   ],
   "execution_count": 16
  },
  {
   "cell_type": "markdown",
   "id": "2b2756a3",
   "metadata": {},
   "source": [
    "Il convient à présent de vérifier la présence de valeur aberrantes."
   ]
  },
  {
   "cell_type": "code",
   "id": "9da675dd",
   "metadata": {
    "ExecuteTime": {
     "end_time": "2024-05-24T15:19:04.784210Z",
     "start_time": "2024-05-24T15:15:41.287075Z"
    }
   },
   "source": [
    "# Visualisation des boxplots des variables numériques\n",
    "sns.boxplot(data3)"
   ],
   "outputs": [
    {
     "data": {
      "text/plain": [
       "<Axes: >"
      ]
     },
     "execution_count": 17,
     "metadata": {},
     "output_type": "execute_result"
    },
    {
     "data": {
      "text/plain": [
       "<Figure size 640x480 with 1 Axes>"
      ],
      "image/png": "[encoded data removed]"
     },
     "metadata": {},
     "output_type": "display_data"
    }
   ],
   "execution_count": 17
  },
  {
   "cell_type": "markdown",
   "id": "118225d9",
   "metadata": {},
   "source": [
    "La série de code ci-dessous permet de traiter les valeurs aberrantes en présence, sur chacune des catégories concernées."
   ]
  },
  {
   "cell_type": "code",
   "id": "5ae7dccb",
   "metadata": {
    "ExecuteTime": {
     "end_time": "2024-05-24T15:19:14.023686Z",
     "start_time": "2024-05-24T15:19:13.054834Z"
    }
   },
   "source": [
    "''' Detection '''\n",
    "# IQR\n",
    "Q1 = np.percentile(data3['QUANTITE'], 25,\n",
    "                   interpolation = 'midpoint')\n",
    " \n",
    "Q3 = np.percentile(data3['QUANTITE'], 75,\n",
    "                   interpolation = 'midpoint')\n",
    "IQR = Q3 - Q1\n",
    " \n",
    "print(\"Old Shape: \", data3.shape)"
   ],
   "outputs": [
    {
     "name": "stdout",
     "output_type": "stream",
     "text": [
      "Old Shape:  (34105575, 7)\n"
     ]
    }
   ],
   "execution_count": 18
  },
  {
   "cell_type": "code",
   "id": "f23d12f4",
   "metadata": {
    "ExecuteTime": {
     "end_time": "2024-05-24T15:19:15.578694Z",
     "start_time": "2024-05-24T15:19:15.481529Z"
    }
   },
   "source": [
    "# Upper bound\n",
    "upper = np.where(data3['QUANTITE'] >= (Q3+1.5*IQR))\n",
    "# Lower bound\n",
    "lower = np.where(data3['QUANTITE'] <= (Q1-1.5*IQR))"
   ],
   "outputs": [],
   "execution_count": 19
  },
  {
   "cell_type": "code",
   "id": "994d52f1",
   "metadata": {
    "ExecuteTime": {
     "end_time": "2024-05-24T15:19:19.754644Z",
     "start_time": "2024-05-24T15:19:18.215623Z"
    }
   },
   "source": [
    "# IQR\n",
    "Q1 = np.percentile(data3['TOTAL'], 25,\n",
    "                   interpolation = 'midpoint')\n",
    " \n",
    "Q3 = np.percentile(data3['TOTAL'], 75,\n",
    "                   interpolation = 'midpoint')\n",
    "IQR = Q3 - Q1\n",
    " \n",
    "print(\"Old Shape: \", data3.shape)"
   ],
   "outputs": [
    {
     "name": "stdout",
     "output_type": "stream",
     "text": [
      "Old Shape:  (34105575, 7)\n"
     ]
    }
   ],
   "execution_count": 20
  },
  {
   "cell_type": "code",
   "id": "88393a1a",
   "metadata": {
    "ExecuteTime": {
     "end_time": "2024-05-24T15:19:21.283998Z",
     "start_time": "2024-05-24T15:19:21.209386Z"
    }
   },
   "source": [
    "# Upper bound\n",
    "upper = np.where(data3['TOTAL'] >= (Q3+1.5*IQR))\n",
    "# Lower bound\n",
    "lower = np.where(data3['TOTAL'] <= (Q1-1.5*IQR))"
   ],
   "outputs": [],
   "execution_count": 21
  },
  {
   "cell_type": "code",
   "id": "d4a37a33",
   "metadata": {
    "ExecuteTime": {
     "end_time": "2024-05-24T15:19:23.731646Z",
     "start_time": "2024-05-24T15:19:22.785743Z"
    }
   },
   "source": [
    "# IQR\n",
    "Q1 = np.percentile(data3['MONTANTREMISE'], 25,\n",
    "                   interpolation = 'midpoint')\n",
    " \n",
    "Q3 = np.percentile(data3['MONTANTREMISE'], 75,\n",
    "                   interpolation = 'midpoint')\n",
    "IQR = Q3 - Q1\n",
    " \n",
    "print(\"Old Shape: \", data3.shape)"
   ],
   "outputs": [
    {
     "name": "stdout",
     "output_type": "stream",
     "text": [
      "Old Shape:  (34105575, 7)\n"
     ]
    }
   ],
   "execution_count": 22
  },
  {
   "cell_type": "code",
   "id": "c170b969",
   "metadata": {
    "ExecuteTime": {
     "end_time": "2024-05-24T15:19:25.998365Z",
     "start_time": "2024-05-24T15:19:25.947361Z"
    }
   },
   "source": [
    "# Upper bound\n",
    "upper = np.where(data3['MONTANTREMISE'] >= (Q3+1.5*IQR))\n",
    "# Lower bound\n",
    "lower = np.where(data3['MONTANTREMISE'] <= (Q1-1.5*IQR))"
   ],
   "outputs": [],
   "execution_count": 23
  },
  {
   "cell_type": "code",
   "id": "888fbaaa",
   "metadata": {
    "ExecuteTime": {
     "end_time": "2024-05-24T15:19:30.364881Z",
     "start_time": "2024-05-24T15:19:28.867939Z"
    }
   },
   "source": [
    "# IQR\n",
    "Q1 = np.percentile(data3['MARGESORTIE'], 25,\n",
    "                   interpolation = 'midpoint')\n",
    " \n",
    "Q3 = np.percentile(data3['MARGESORTIE'], 75,\n",
    "                   interpolation = 'midpoint')\n",
    "IQR = Q3 - Q1\n",
    " \n",
    "print(\"Old Shape: \", data3.shape)"
   ],
   "outputs": [
    {
     "name": "stdout",
     "output_type": "stream",
     "text": [
      "Old Shape:  (34105575, 7)\n"
     ]
    }
   ],
   "execution_count": 24
  },
  {
   "cell_type": "code",
   "id": "d45c2c3a",
   "metadata": {
    "ExecuteTime": {
     "end_time": "2024-05-24T15:19:31.032186Z",
     "start_time": "2024-05-24T15:19:30.968888Z"
    }
   },
   "source": [
    "# Upper bound\n",
    "upper = np.where(data3['MARGESORTIE'] >= (Q3+1.5*IQR))\n",
    "# Lower bound\n",
    "lower = np.where(data3['MARGESORTIE'] <= (Q1-1.5*IQR))"
   ],
   "outputs": [],
   "execution_count": 25
  },
  {
   "cell_type": "code",
   "id": "5445239f",
   "metadata": {
    "ExecuteTime": {
     "end_time": "2024-05-24T15:19:32.399584Z",
     "start_time": "2024-05-24T15:19:32.397847Z"
    }
   },
   "source": [
    "print(\"New Shape: \", data3.shape)"
   ],
   "outputs": [
    {
     "name": "stdout",
     "output_type": "stream",
     "text": [
      "New Shape:  (34105575, 7)\n"
     ]
    }
   ],
   "execution_count": 26
  },
  {
   "cell_type": "markdown",
   "id": "5a5c32ee",
   "metadata": {},
   "source": [
    "# CHARGEMENT DES BIBLIOTHEQUES"
   ]
  },
  {
   "cell_type": "code",
   "id": "4f40402d",
   "metadata": {
    "ExecuteTime": {
     "end_time": "2024-05-24T15:19:34.883946Z",
     "start_time": "2024-05-24T15:19:34.875949Z"
    }
   },
   "source": [
    "import pandas as pd\n",
    "import matplotlib.pyplot as plt\n",
    "import numpy as np\n",
    "import seaborn as sns\n",
    "\n",
    "from sklearn.linear_model import LogisticRegression\n",
    "from sklearn.model_selection import train_test_split\n",
    "from sklearn.datasets import make_classification\n",
    "from sklearn.metrics import roc_curve, auc\n",
    "from sklearn.metrics import accuracy_score, classification_report, confusion_matrix\n",
    "from sklearn.preprocessing import StandardScaler\n",
    "from sklearn.preprocessing import OneHotEncoder\n",
    "from sklearn.preprocessing import LabelEncoder"
   ],
   "outputs": [],
   "execution_count": 27
  },
  {
   "cell_type": "markdown",
   "id": "0f8ed97c",
   "metadata": {},
   "source": [
    "Chargement du jeu de données REF_ARTICLE."
   ]
  },
  {
   "cell_type": "code",
   "id": "fbbdb248",
   "metadata": {
    "ExecuteTime": {
     "end_time": "2024-05-24T15:19:37.644271Z",
     "start_time": "2024-05-24T15:19:37.462857Z"
    }
   },
   "source": [
    "import pandas as pd\n",
    "\n",
    "data4 = pd.read_csv('REF_ARTICLE.CSV', sep='|',low_memory=False)\n",
    "print(data4.shape)\n",
    "print(list(data4.columns))\n"
   ],
   "outputs": [
    {
     "name": "stdout",
     "output_type": "stream",
     "text": [
      "(665946, 4)\n",
      "['CODEARTICLE', 'CODEUNIVERS', 'CODEFAMILLE', 'CODESOUSFAMILLE']\n"
     ]
    }
   ],
   "execution_count": 28
  },
  {
   "cell_type": "markdown",
   "id": "bf834dee",
   "metadata": {},
   "source": [
    "La ligne de code ci-dessous nous permet de connaître le détail des colonnes ainsi que le type de données constituant notre base (numérique ou caractères)."
   ]
  },
  {
   "cell_type": "code",
   "id": "7e20c5b2",
   "metadata": {
    "ExecuteTime": {
     "end_time": "2024-05-24T15:19:40.523385Z",
     "start_time": "2024-05-24T15:19:40.472424Z"
    }
   },
   "source": [
    "data4.info()"
   ],
   "outputs": [
    {
     "name": "stdout",
     "output_type": "stream",
     "text": [
      "<class 'pandas.core.frame.DataFrame'>\n",
      "RangeIndex: 665946 entries, 0 to 665945\n",
      "Data columns (total 4 columns):\n",
      " #   Column           Non-Null Count   Dtype \n",
      "---  ------           --------------   ----- \n",
      " 0   CODEARTICLE      665946 non-null  object\n",
      " 1   CODEUNIVERS      665946 non-null  object\n",
      " 2   CODEFAMILLE      665946 non-null  object\n",
      " 3   CODESOUSFAMILLE  665946 non-null  object\n",
      "dtypes: object(4)\n",
      "memory usage: 20.3+ MB\n"
     ]
    }
   ],
   "execution_count": 29
  },
  {
   "cell_type": "markdown",
   "id": "33e1766b",
   "metadata": {},
   "source": [
    "Aperçu de notre jeu de données. "
   ]
  },
  {
   "cell_type": "code",
   "id": "00c5db1e",
   "metadata": {
    "ExecuteTime": {
     "end_time": "2024-05-24T15:19:57.509099Z",
     "start_time": "2024-05-24T15:19:57.502234Z"
    }
   },
   "source": [
    "data4"
   ],
   "outputs": [
    {
     "data": {
      "text/plain": [
       "       CODEARTICLE CODEUNIVERS CODEFAMILLE CODESOUSFAMILLE\n",
       "0           COUPON      COUPON      COUPON          COUPON\n",
       "1             1001          U2         130          130040\n",
       "2           100125          U1         010          010020\n",
       "3           100150          U1         010          010020\n",
       "4            10018          U1         100          100900\n",
       "...            ...         ...         ...             ...\n",
       "665941      407717          U3         120          120070\n",
       "665942      407719          U3         120          120070\n",
       "665943      407720          U3         120          120070\n",
       "665944      407721          U3         120          120070\n",
       "665945      407723          U3         120          120070\n",
       "\n",
       "[665946 rows x 4 columns]"
      ],
      "text/html": [
       "<div>\n",
       "<style scoped>\n",
       "    .dataframe tbody tr th:only-of-type {\n",
       "        vertical-align: middle;\n",
       "    }\n",
       "\n",
       "    .dataframe tbody tr th {\n",
       "        vertical-align: top;\n",
       "    }\n",
       "\n",
       "    .dataframe thead th {\n",
       "        text-align: right;\n",
       "    }\n",
       "</style>\n",
       "<table border=\"1\" class=\"dataframe\">\n",
       "  <thead>\n",
       "    <tr style=\"text-align: right;\">\n",
       "      <th></th>\n",
       "      <th>CODEARTICLE</th>\n",
       "      <th>CODEUNIVERS</th>\n",
       "      <th>CODEFAMILLE</th>\n",
       "      <th>CODESOUSFAMILLE</th>\n",
       "    </tr>\n",
       "  </thead>\n",
       "  <tbody>\n",
       "    <tr>\n",
       "      <th>0</th>\n",
       "      <td>COUPON</td>\n",
       "      <td>COUPON</td>\n",
       "      <td>COUPON</td>\n",
       "      <td>COUPON</td>\n",
       "    </tr>\n",
       "    <tr>\n",
       "      <th>1</th>\n",
       "      <td>1001</td>\n",
       "      <td>U2</td>\n",
       "      <td>130</td>\n",
       "      <td>130040</td>\n",
       "    </tr>\n",
       "    <tr>\n",
       "      <th>2</th>\n",
       "      <td>100125</td>\n",
       "      <td>U1</td>\n",
       "      <td>010</td>\n",
       "      <td>010020</td>\n",
       "    </tr>\n",
       "    <tr>\n",
       "      <th>3</th>\n",
       "      <td>100150</td>\n",
       "      <td>U1</td>\n",
       "      <td>010</td>\n",
       "      <td>010020</td>\n",
       "    </tr>\n",
       "    <tr>\n",
       "      <th>4</th>\n",
       "      <td>10018</td>\n",
       "      <td>U1</td>\n",
       "      <td>100</td>\n",
       "      <td>100900</td>\n",
       "    </tr>\n",
       "    <tr>\n",
       "      <th>...</th>\n",
       "      <td>...</td>\n",
       "      <td>...</td>\n",
       "      <td>...</td>\n",
       "      <td>...</td>\n",
       "    </tr>\n",
       "    <tr>\n",
       "      <th>665941</th>\n",
       "      <td>407717</td>\n",
       "      <td>U3</td>\n",
       "      <td>120</td>\n",
       "      <td>120070</td>\n",
       "    </tr>\n",
       "    <tr>\n",
       "      <th>665942</th>\n",
       "      <td>407719</td>\n",
       "      <td>U3</td>\n",
       "      <td>120</td>\n",
       "      <td>120070</td>\n",
       "    </tr>\n",
       "    <tr>\n",
       "      <th>665943</th>\n",
       "      <td>407720</td>\n",
       "      <td>U3</td>\n",
       "      <td>120</td>\n",
       "      <td>120070</td>\n",
       "    </tr>\n",
       "    <tr>\n",
       "      <th>665944</th>\n",
       "      <td>407721</td>\n",
       "      <td>U3</td>\n",
       "      <td>120</td>\n",
       "      <td>120070</td>\n",
       "    </tr>\n",
       "    <tr>\n",
       "      <th>665945</th>\n",
       "      <td>407723</td>\n",
       "      <td>U3</td>\n",
       "      <td>120</td>\n",
       "      <td>120070</td>\n",
       "    </tr>\n",
       "  </tbody>\n",
       "</table>\n",
       "<p>665946 rows × 4 columns</p>\n",
       "</div>"
      ]
     },
     "execution_count": 30,
     "metadata": {},
     "output_type": "execute_result"
    }
   ],
   "execution_count": 30
  },
  {
   "cell_type": "code",
   "id": "ca5160b5",
   "metadata": {
    "ExecuteTime": {
     "end_time": "2024-05-24T15:20:00.401243Z",
     "start_time": "2024-05-24T15:20:00.365695Z"
    }
   },
   "source": [
    "data4.drop(0, inplace=True)"
   ],
   "outputs": [],
   "execution_count": 31
  },
  {
   "cell_type": "code",
   "id": "77fd2a45",
   "metadata": {
    "ExecuteTime": {
     "end_time": "2024-05-24T15:20:02.480670Z",
     "start_time": "2024-05-24T15:20:02.475603Z"
    }
   },
   "source": [
    "data4"
   ],
   "outputs": [
    {
     "data": {
      "text/plain": [
       "       CODEARTICLE CODEUNIVERS CODEFAMILLE CODESOUSFAMILLE\n",
       "1             1001          U2         130          130040\n",
       "2           100125          U1         010          010020\n",
       "3           100150          U1         010          010020\n",
       "4            10018          U1         100          100900\n",
       "5            10019          U1         100          100900\n",
       "...            ...         ...         ...             ...\n",
       "665941      407717          U3         120          120070\n",
       "665942      407719          U3         120          120070\n",
       "665943      407720          U3         120          120070\n",
       "665944      407721          U3         120          120070\n",
       "665945      407723          U3         120          120070\n",
       "\n",
       "[665945 rows x 4 columns]"
      ],
      "text/html": [
       "<div>\n",
       "<style scoped>\n",
       "    .dataframe tbody tr th:only-of-type {\n",
       "        vertical-align: middle;\n",
       "    }\n",
       "\n",
       "    .dataframe tbody tr th {\n",
       "        vertical-align: top;\n",
       "    }\n",
       "\n",
       "    .dataframe thead th {\n",
       "        text-align: right;\n",
       "    }\n",
       "</style>\n",
       "<table border=\"1\" class=\"dataframe\">\n",
       "  <thead>\n",
       "    <tr style=\"text-align: right;\">\n",
       "      <th></th>\n",
       "      <th>CODEARTICLE</th>\n",
       "      <th>CODEUNIVERS</th>\n",
       "      <th>CODEFAMILLE</th>\n",
       "      <th>CODESOUSFAMILLE</th>\n",
       "    </tr>\n",
       "  </thead>\n",
       "  <tbody>\n",
       "    <tr>\n",
       "      <th>1</th>\n",
       "      <td>1001</td>\n",
       "      <td>U2</td>\n",
       "      <td>130</td>\n",
       "      <td>130040</td>\n",
       "    </tr>\n",
       "    <tr>\n",
       "      <th>2</th>\n",
       "      <td>100125</td>\n",
       "      <td>U1</td>\n",
       "      <td>010</td>\n",
       "      <td>010020</td>\n",
       "    </tr>\n",
       "    <tr>\n",
       "      <th>3</th>\n",
       "      <td>100150</td>\n",
       "      <td>U1</td>\n",
       "      <td>010</td>\n",
       "      <td>010020</td>\n",
       "    </tr>\n",
       "    <tr>\n",
       "      <th>4</th>\n",
       "      <td>10018</td>\n",
       "      <td>U1</td>\n",
       "      <td>100</td>\n",
       "      <td>100900</td>\n",
       "    </tr>\n",
       "    <tr>\n",
       "      <th>5</th>\n",
       "      <td>10019</td>\n",
       "      <td>U1</td>\n",
       "      <td>100</td>\n",
       "      <td>100900</td>\n",
       "    </tr>\n",
       "    <tr>\n",
       "      <th>...</th>\n",
       "      <td>...</td>\n",
       "      <td>...</td>\n",
       "      <td>...</td>\n",
       "      <td>...</td>\n",
       "    </tr>\n",
       "    <tr>\n",
       "      <th>665941</th>\n",
       "      <td>407717</td>\n",
       "      <td>U3</td>\n",
       "      <td>120</td>\n",
       "      <td>120070</td>\n",
       "    </tr>\n",
       "    <tr>\n",
       "      <th>665942</th>\n",
       "      <td>407719</td>\n",
       "      <td>U3</td>\n",
       "      <td>120</td>\n",
       "      <td>120070</td>\n",
       "    </tr>\n",
       "    <tr>\n",
       "      <th>665943</th>\n",
       "      <td>407720</td>\n",
       "      <td>U3</td>\n",
       "      <td>120</td>\n",
       "      <td>120070</td>\n",
       "    </tr>\n",
       "    <tr>\n",
       "      <th>665944</th>\n",
       "      <td>407721</td>\n",
       "      <td>U3</td>\n",
       "      <td>120</td>\n",
       "      <td>120070</td>\n",
       "    </tr>\n",
       "    <tr>\n",
       "      <th>665945</th>\n",
       "      <td>407723</td>\n",
       "      <td>U3</td>\n",
       "      <td>120</td>\n",
       "      <td>120070</td>\n",
       "    </tr>\n",
       "  </tbody>\n",
       "</table>\n",
       "<p>665945 rows × 4 columns</p>\n",
       "</div>"
      ]
     },
     "execution_count": 32,
     "metadata": {},
     "output_type": "execute_result"
    }
   ],
   "execution_count": 32
  },
  {
   "cell_type": "code",
   "id": "d72f8fda",
   "metadata": {
    "ExecuteTime": {
     "end_time": "2024-05-24T15:20:04.923149Z",
     "start_time": "2024-05-24T15:20:04.670670Z"
    }
   },
   "source": [
    "#modalités variables:\n",
    "data4['CODEARTICLE'].value_counts(dropna = False)"
   ],
   "outputs": [
    {
     "data": {
      "text/plain": [
       "CODEARTICLE\n",
       "1001      1\n",
       "278616    1\n",
       "277497    1\n",
       "277502    1\n",
       "299706    1\n",
       "         ..\n",
       "145641    1\n",
       "145642    1\n",
       "145643    1\n",
       "145644    1\n",
       "407723    1\n",
       "Name: count, Length: 665945, dtype: int64"
      ]
     },
     "execution_count": 33,
     "metadata": {},
     "output_type": "execute_result"
    }
   ],
   "execution_count": 33
  },
  {
   "cell_type": "code",
   "id": "ff4d5cf8",
   "metadata": {
    "ExecuteTime": {
     "end_time": "2024-05-24T15:20:07.461442Z",
     "start_time": "2024-05-24T15:20:07.452495Z"
    }
   },
   "source": [
    "data4['CODEUNIVERS'].value_counts(dropna = False)"
   ],
   "outputs": [
    {
     "data": {
      "text/plain": [
       "CODEUNIVERS\n",
       "U1    274652\n",
       "U2    236139\n",
       "U3     72725\n",
       "U4     66413\n",
       "U0     16016\n",
       "Name: count, dtype: int64"
      ]
     },
     "execution_count": 34,
     "metadata": {},
     "output_type": "execute_result"
    }
   ],
   "execution_count": 34
  },
  {
   "cell_type": "code",
   "id": "86ad67fd",
   "metadata": {
    "ExecuteTime": {
     "end_time": "2024-05-24T15:20:08.909201Z",
     "start_time": "2024-05-24T15:20:08.898065Z"
    }
   },
   "source": [
    "data4['CODEFAMILLE'].value_counts(dropna = False)"
   ],
   "outputs": [
    {
     "data": {
      "text/plain": [
       "CODEFAMILLE\n",
       "090    157747\n",
       "010     65324\n",
       "130     63055\n",
       "120     60886\n",
       "180     46685\n",
       "080     36253\n",
       "100     33971\n",
       "140     33907\n",
       "020     31685\n",
       "220     30893\n",
       "050     22395\n",
       "030     22165\n",
       "070     14484\n",
       "110     11839\n",
       "160      8561\n",
       "190      6449\n",
       "040      5176\n",
       "400      3884\n",
       "170      3570\n",
       "900      2196\n",
       "200      1613\n",
       "230      1092\n",
       "060       979\n",
       "210       853\n",
       "990       283\n",
       "Name: count, dtype: int64"
      ]
     },
     "execution_count": 35,
     "metadata": {},
     "output_type": "execute_result"
    }
   ],
   "execution_count": 35
  },
  {
   "cell_type": "code",
   "id": "11fe9a48",
   "metadata": {
    "ExecuteTime": {
     "end_time": "2024-05-24T15:20:10.417743Z",
     "start_time": "2024-05-24T15:20:10.407173Z"
    }
   },
   "source": [
    "data4['CODESOUSFAMILLE'].value_counts(dropna = False)"
   ],
   "outputs": [
    {
     "data": {
      "text/plain": [
       "CODESOUSFAMILLE\n",
       "180090    44779\n",
       "140010    23698\n",
       "120060    23371\n",
       "090800    23326\n",
       "090070    21254\n",
       "          ...  \n",
       "100110        1\n",
       "110110        1\n",
       "900990        1\n",
       "200060        1\n",
       "180999        1\n",
       "Name: count, Length: 343, dtype: int64"
      ]
     },
     "execution_count": 36,
     "metadata": {},
     "output_type": "execute_result"
    }
   ],
   "execution_count": 36
  },
  {
   "cell_type": "markdown",
   "id": "dfb15a14",
   "metadata": {},
   "source": [
    "La ligne de code ci-dessous nous permet d'identifier la présence ou non de valeur(s) en doublons."
   ]
  },
  {
   "cell_type": "code",
   "id": "d6f1c276",
   "metadata": {
    "ExecuteTime": {
     "end_time": "2024-05-24T15:20:13.488901Z",
     "start_time": "2024-05-24T15:20:13.287576Z"
    }
   },
   "source": [
    "print(data4.duplicated().sum())\n",
    "data4 = data4.drop_duplicates()"
   ],
   "outputs": [
    {
     "name": "stdout",
     "output_type": "stream",
     "text": [
      "0\n"
     ]
    }
   ],
   "execution_count": 37
  },
  {
   "cell_type": "markdown",
   "id": "0fc40fe8",
   "metadata": {},
   "source": [
    "La ligne de code ci-dessous nous permet d'identifier la présence ou non de valeur(s) manquante(s)"
   ]
  },
  {
   "cell_type": "code",
   "id": "86627c43",
   "metadata": {
    "ExecuteTime": {
     "end_time": "2024-05-24T15:20:16.229179Z",
     "start_time": "2024-05-24T15:20:16.182346Z"
    }
   },
   "source": [
    "pd.DataFrame(index=data4.columns, columns=['%_missing_values'], data= (data4.isna().sum().values / len(data4)*100))"
   ],
   "outputs": [
    {
     "data": {
      "text/plain": [
       "                 %_missing_values\n",
       "CODEARTICLE                   0.0\n",
       "CODEUNIVERS                   0.0\n",
       "CODEFAMILLE                   0.0\n",
       "CODESOUSFAMILLE               0.0"
      ],
      "text/html": [
       "<div>\n",
       "<style scoped>\n",
       "    .dataframe tbody tr th:only-of-type {\n",
       "        vertical-align: middle;\n",
       "    }\n",
       "\n",
       "    .dataframe tbody tr th {\n",
       "        vertical-align: top;\n",
       "    }\n",
       "\n",
       "    .dataframe thead th {\n",
       "        text-align: right;\n",
       "    }\n",
       "</style>\n",
       "<table border=\"1\" class=\"dataframe\">\n",
       "  <thead>\n",
       "    <tr style=\"text-align: right;\">\n",
       "      <th></th>\n",
       "      <th>%_missing_values</th>\n",
       "    </tr>\n",
       "  </thead>\n",
       "  <tbody>\n",
       "    <tr>\n",
       "      <th>CODEARTICLE</th>\n",
       "      <td>0.0</td>\n",
       "    </tr>\n",
       "    <tr>\n",
       "      <th>CODEUNIVERS</th>\n",
       "      <td>0.0</td>\n",
       "    </tr>\n",
       "    <tr>\n",
       "      <th>CODEFAMILLE</th>\n",
       "      <td>0.0</td>\n",
       "    </tr>\n",
       "    <tr>\n",
       "      <th>CODESOUSFAMILLE</th>\n",
       "      <td>0.0</td>\n",
       "    </tr>\n",
       "  </tbody>\n",
       "</table>\n",
       "</div>"
      ]
     },
     "execution_count": 38,
     "metadata": {},
     "output_type": "execute_result"
    }
   ],
   "execution_count": 38
  },
  {
   "metadata": {
    "ExecuteTime": {
     "end_time": "2024-05-24T15:20:17.561455Z",
     "start_time": "2024-05-24T15:20:17.539362Z"
    }
   },
   "cell_type": "code",
   "source": "data4.drop(columns=['CODESOUSFAMILLE'], inplace=True)",
   "id": "c12af332c1524716",
   "outputs": [],
   "execution_count": 39
  },
  {
   "metadata": {},
   "cell_type": "markdown",
   "source": "Vérification du traitement",
   "id": "a85a32510b77551f"
  },
  {
   "metadata": {
    "ExecuteTime": {
     "end_time": "2024-05-24T15:20:22.058583Z",
     "start_time": "2024-05-24T15:20:22.053516Z"
    }
   },
   "cell_type": "code",
   "source": "data4",
   "id": "fc0001b1ee4c2f78",
   "outputs": [
    {
     "data": {
      "text/plain": [
       "       CODEARTICLE CODEUNIVERS CODEFAMILLE\n",
       "1             1001          U2         130\n",
       "2           100125          U1         010\n",
       "3           100150          U1         010\n",
       "4            10018          U1         100\n",
       "5            10019          U1         100\n",
       "...            ...         ...         ...\n",
       "665941      407717          U3         120\n",
       "665942      407719          U3         120\n",
       "665943      407720          U3         120\n",
       "665944      407721          U3         120\n",
       "665945      407723          U3         120\n",
       "\n",
       "[665945 rows x 3 columns]"
      ],
      "text/html": [
       "<div>\n",
       "<style scoped>\n",
       "    .dataframe tbody tr th:only-of-type {\n",
       "        vertical-align: middle;\n",
       "    }\n",
       "\n",
       "    .dataframe tbody tr th {\n",
       "        vertical-align: top;\n",
       "    }\n",
       "\n",
       "    .dataframe thead th {\n",
       "        text-align: right;\n",
       "    }\n",
       "</style>\n",
       "<table border=\"1\" class=\"dataframe\">\n",
       "  <thead>\n",
       "    <tr style=\"text-align: right;\">\n",
       "      <th></th>\n",
       "      <th>CODEARTICLE</th>\n",
       "      <th>CODEUNIVERS</th>\n",
       "      <th>CODEFAMILLE</th>\n",
       "    </tr>\n",
       "  </thead>\n",
       "  <tbody>\n",
       "    <tr>\n",
       "      <th>1</th>\n",
       "      <td>1001</td>\n",
       "      <td>U2</td>\n",
       "      <td>130</td>\n",
       "    </tr>\n",
       "    <tr>\n",
       "      <th>2</th>\n",
       "      <td>100125</td>\n",
       "      <td>U1</td>\n",
       "      <td>010</td>\n",
       "    </tr>\n",
       "    <tr>\n",
       "      <th>3</th>\n",
       "      <td>100150</td>\n",
       "      <td>U1</td>\n",
       "      <td>010</td>\n",
       "    </tr>\n",
       "    <tr>\n",
       "      <th>4</th>\n",
       "      <td>10018</td>\n",
       "      <td>U1</td>\n",
       "      <td>100</td>\n",
       "    </tr>\n",
       "    <tr>\n",
       "      <th>5</th>\n",
       "      <td>10019</td>\n",
       "      <td>U1</td>\n",
       "      <td>100</td>\n",
       "    </tr>\n",
       "    <tr>\n",
       "      <th>...</th>\n",
       "      <td>...</td>\n",
       "      <td>...</td>\n",
       "      <td>...</td>\n",
       "    </tr>\n",
       "    <tr>\n",
       "      <th>665941</th>\n",
       "      <td>407717</td>\n",
       "      <td>U3</td>\n",
       "      <td>120</td>\n",
       "    </tr>\n",
       "    <tr>\n",
       "      <th>665942</th>\n",
       "      <td>407719</td>\n",
       "      <td>U3</td>\n",
       "      <td>120</td>\n",
       "    </tr>\n",
       "    <tr>\n",
       "      <th>665943</th>\n",
       "      <td>407720</td>\n",
       "      <td>U3</td>\n",
       "      <td>120</td>\n",
       "    </tr>\n",
       "    <tr>\n",
       "      <th>665944</th>\n",
       "      <td>407721</td>\n",
       "      <td>U3</td>\n",
       "      <td>120</td>\n",
       "    </tr>\n",
       "    <tr>\n",
       "      <th>665945</th>\n",
       "      <td>407723</td>\n",
       "      <td>U3</td>\n",
       "      <td>120</td>\n",
       "    </tr>\n",
       "  </tbody>\n",
       "</table>\n",
       "<p>665945 rows × 3 columns</p>\n",
       "</div>"
      ]
     },
     "execution_count": 40,
     "metadata": {},
     "output_type": "execute_result"
    }
   ],
   "execution_count": 40
  },
  {
   "metadata": {
    "ExecuteTime": {
     "end_time": "2024-05-24T15:20:26.634916Z",
     "start_time": "2024-05-24T15:20:26.632330Z"
    }
   },
   "cell_type": "code",
   "source": "data4.rename(columns={'CODEARTICLE': 'IDARTICLE'}, inplace=True)",
   "id": "c52c7fa13c2c996f",
   "outputs": [],
   "execution_count": 41
  },
  {
   "metadata": {
    "ExecuteTime": {
     "end_time": "2024-05-24T15:20:27.532382Z",
     "start_time": "2024-05-24T15:20:27.527980Z"
    }
   },
   "cell_type": "code",
   "source": "data4",
   "id": "5c5f6a98ce9b4216",
   "outputs": [
    {
     "data": {
      "text/plain": [
       "       IDARTICLE CODEUNIVERS CODEFAMILLE\n",
       "1           1001          U2         130\n",
       "2         100125          U1         010\n",
       "3         100150          U1         010\n",
       "4          10018          U1         100\n",
       "5          10019          U1         100\n",
       "...          ...         ...         ...\n",
       "665941    407717          U3         120\n",
       "665942    407719          U3         120\n",
       "665943    407720          U3         120\n",
       "665944    407721          U3         120\n",
       "665945    407723          U3         120\n",
       "\n",
       "[665945 rows x 3 columns]"
      ],
      "text/html": [
       "<div>\n",
       "<style scoped>\n",
       "    .dataframe tbody tr th:only-of-type {\n",
       "        vertical-align: middle;\n",
       "    }\n",
       "\n",
       "    .dataframe tbody tr th {\n",
       "        vertical-align: top;\n",
       "    }\n",
       "\n",
       "    .dataframe thead th {\n",
       "        text-align: right;\n",
       "    }\n",
       "</style>\n",
       "<table border=\"1\" class=\"dataframe\">\n",
       "  <thead>\n",
       "    <tr style=\"text-align: right;\">\n",
       "      <th></th>\n",
       "      <th>IDARTICLE</th>\n",
       "      <th>CODEUNIVERS</th>\n",
       "      <th>CODEFAMILLE</th>\n",
       "    </tr>\n",
       "  </thead>\n",
       "  <tbody>\n",
       "    <tr>\n",
       "      <th>1</th>\n",
       "      <td>1001</td>\n",
       "      <td>U2</td>\n",
       "      <td>130</td>\n",
       "    </tr>\n",
       "    <tr>\n",
       "      <th>2</th>\n",
       "      <td>100125</td>\n",
       "      <td>U1</td>\n",
       "      <td>010</td>\n",
       "    </tr>\n",
       "    <tr>\n",
       "      <th>3</th>\n",
       "      <td>100150</td>\n",
       "      <td>U1</td>\n",
       "      <td>010</td>\n",
       "    </tr>\n",
       "    <tr>\n",
       "      <th>4</th>\n",
       "      <td>10018</td>\n",
       "      <td>U1</td>\n",
       "      <td>100</td>\n",
       "    </tr>\n",
       "    <tr>\n",
       "      <th>5</th>\n",
       "      <td>10019</td>\n",
       "      <td>U1</td>\n",
       "      <td>100</td>\n",
       "    </tr>\n",
       "    <tr>\n",
       "      <th>...</th>\n",
       "      <td>...</td>\n",
       "      <td>...</td>\n",
       "      <td>...</td>\n",
       "    </tr>\n",
       "    <tr>\n",
       "      <th>665941</th>\n",
       "      <td>407717</td>\n",
       "      <td>U3</td>\n",
       "      <td>120</td>\n",
       "    </tr>\n",
       "    <tr>\n",
       "      <th>665942</th>\n",
       "      <td>407719</td>\n",
       "      <td>U3</td>\n",
       "      <td>120</td>\n",
       "    </tr>\n",
       "    <tr>\n",
       "      <th>665943</th>\n",
       "      <td>407720</td>\n",
       "      <td>U3</td>\n",
       "      <td>120</td>\n",
       "    </tr>\n",
       "    <tr>\n",
       "      <th>665944</th>\n",
       "      <td>407721</td>\n",
       "      <td>U3</td>\n",
       "      <td>120</td>\n",
       "    </tr>\n",
       "    <tr>\n",
       "      <th>665945</th>\n",
       "      <td>407723</td>\n",
       "      <td>U3</td>\n",
       "      <td>120</td>\n",
       "    </tr>\n",
       "  </tbody>\n",
       "</table>\n",
       "<p>665945 rows × 3 columns</p>\n",
       "</div>"
      ]
     },
     "execution_count": 42,
     "metadata": {},
     "output_type": "execute_result"
    }
   ],
   "execution_count": 42
  },
  {
   "metadata": {},
   "cell_type": "markdown",
   "source": "",
   "id": "9a01a6568faf2e03"
  },
  {
   "metadata": {
    "ExecuteTime": {
     "end_time": "2024-05-24T14:17:52.810615Z",
     "start_time": "2024-05-24T14:17:52.767528Z"
    }
   },
   "cell_type": "code",
   "source": "data4.info()",
   "id": "6f17f66851bea5ca",
   "outputs": [
    {
     "name": "stdout",
     "output_type": "stream",
     "text": [
      "<class 'pandas.core.frame.DataFrame'>\n",
      "RangeIndex: 665945 entries, 1 to 665945\n",
      "Data columns (total 3 columns):\n",
      " #   Column       Non-Null Count   Dtype \n",
      "---  ------       --------------   ----- \n",
      " 0   IDARTICLE    665945 non-null  object\n",
      " 1   CODEUNIVERS  665945 non-null  object\n",
      " 2   CODEFAMILLE  665945 non-null  object\n",
      "dtypes: object(3)\n",
      "memory usage: 15.2+ MB\n"
     ]
    }
   ],
   "execution_count": 110
  },
  {
   "cell_type": "code",
   "id": "fb40bad8",
   "metadata": {
    "ExecuteTime": {
     "end_time": "2024-05-24T15:52:38.757426Z",
     "start_time": "2024-05-24T15:52:31.021611Z"
    }
   },
   "source": "data_merge = data3.merge(data4, how='left', left_on='IDARTICLE', right_on='IDARTICLE')\n",
   "outputs": [],
   "execution_count": 80
  },
  {
   "metadata": {
    "ExecuteTime": {
     "end_time": "2024-05-24T15:52:39.828953Z",
     "start_time": "2024-05-24T15:52:39.819797Z"
    }
   },
   "cell_type": "code",
   "source": "data_merge",
   "id": "e6d9315db8ab3e26",
   "outputs": [
    {
     "data": {
      "text/plain": [
       "              IDTICKET NUMLIGNETICKET IDARTICLE  QUANTITE  MONTANTREMISE  \\\n",
       "0         190400316260              2    246208       1.0          0.000   \n",
       "1         190400316262              2     33725       1.0          0.000   \n",
       "2         190400316262              3    634497       1.0          0.000   \n",
       "3         190400316262              1    257613       1.0          0.000   \n",
       "4         190400316263              1    257627       1.0          0.000   \n",
       "...                ...            ...       ...       ...            ...   \n",
       "34105700  340200383203              2    257643       1.0          0.000   \n",
       "34105701  340200383203              3     50170       1.0          0.000   \n",
       "34105702  340200383203              4    349345       1.0          0.000   \n",
       "34105703  340200383203              5    250580       2.0          0.000   \n",
       "34105704  340200383217              1    816313      20.0          1.818   \n",
       "\n",
       "          TOTAL  MARGESORTIE CODEUNIVERS CODEFAMILLE  \n",
       "0          4.96         2.37          U3         120  \n",
       "1          8.25         3.63          U3         120  \n",
       "2          5.79         3.63          U3         120  \n",
       "3         18.29         6.21          U3         120  \n",
       "4         49.92        10.42          U3         120  \n",
       "...         ...          ...         ...         ...  \n",
       "34105700   4.69         1.83          U4         220  \n",
       "34105701   3.18         1.00          U4         220  \n",
       "34105702   3.46         1.13          U4         220  \n",
       "34105703   6.80         2.18          U4         220  \n",
       "34105704   1.82         1.42          U3         120  \n",
       "\n",
       "[34105705 rows x 9 columns]"
      ],
      "text/html": [
       "<div>\n",
       "<style scoped>\n",
       "    .dataframe tbody tr th:only-of-type {\n",
       "        vertical-align: middle;\n",
       "    }\n",
       "\n",
       "    .dataframe tbody tr th {\n",
       "        vertical-align: top;\n",
       "    }\n",
       "\n",
       "    .dataframe thead th {\n",
       "        text-align: right;\n",
       "    }\n",
       "</style>\n",
       "<table border=\"1\" class=\"dataframe\">\n",
       "  <thead>\n",
       "    <tr style=\"text-align: right;\">\n",
       "      <th></th>\n",
       "      <th>IDTICKET</th>\n",
       "      <th>NUMLIGNETICKET</th>\n",
       "      <th>IDARTICLE</th>\n",
       "      <th>QUANTITE</th>\n",
       "      <th>MONTANTREMISE</th>\n",
       "      <th>TOTAL</th>\n",
       "      <th>MARGESORTIE</th>\n",
       "      <th>CODEUNIVERS</th>\n",
       "      <th>CODEFAMILLE</th>\n",
       "    </tr>\n",
       "  </thead>\n",
       "  <tbody>\n",
       "    <tr>\n",
       "      <th>0</th>\n",
       "      <td>190400316260</td>\n",
       "      <td>2</td>\n",
       "      <td>246208</td>\n",
       "      <td>1.0</td>\n",
       "      <td>0.000</td>\n",
       "      <td>4.96</td>\n",
       "      <td>2.37</td>\n",
       "      <td>U3</td>\n",
       "      <td>120</td>\n",
       "    </tr>\n",
       "    <tr>\n",
       "      <th>1</th>\n",
       "      <td>190400316262</td>\n",
       "      <td>2</td>\n",
       "      <td>33725</td>\n",
       "      <td>1.0</td>\n",
       "      <td>0.000</td>\n",
       "      <td>8.25</td>\n",
       "      <td>3.63</td>\n",
       "      <td>U3</td>\n",
       "      <td>120</td>\n",
       "    </tr>\n",
       "    <tr>\n",
       "      <th>2</th>\n",
       "      <td>190400316262</td>\n",
       "      <td>3</td>\n",
       "      <td>634497</td>\n",
       "      <td>1.0</td>\n",
       "      <td>0.000</td>\n",
       "      <td>5.79</td>\n",
       "      <td>3.63</td>\n",
       "      <td>U3</td>\n",
       "      <td>120</td>\n",
       "    </tr>\n",
       "    <tr>\n",
       "      <th>3</th>\n",
       "      <td>190400316262</td>\n",
       "      <td>1</td>\n",
       "      <td>257613</td>\n",
       "      <td>1.0</td>\n",
       "      <td>0.000</td>\n",
       "      <td>18.29</td>\n",
       "      <td>6.21</td>\n",
       "      <td>U3</td>\n",
       "      <td>120</td>\n",
       "    </tr>\n",
       "    <tr>\n",
       "      <th>4</th>\n",
       "      <td>190400316263</td>\n",
       "      <td>1</td>\n",
       "      <td>257627</td>\n",
       "      <td>1.0</td>\n",
       "      <td>0.000</td>\n",
       "      <td>49.92</td>\n",
       "      <td>10.42</td>\n",
       "      <td>U3</td>\n",
       "      <td>120</td>\n",
       "    </tr>\n",
       "    <tr>\n",
       "      <th>...</th>\n",
       "      <td>...</td>\n",
       "      <td>...</td>\n",
       "      <td>...</td>\n",
       "      <td>...</td>\n",
       "      <td>...</td>\n",
       "      <td>...</td>\n",
       "      <td>...</td>\n",
       "      <td>...</td>\n",
       "      <td>...</td>\n",
       "    </tr>\n",
       "    <tr>\n",
       "      <th>34105700</th>\n",
       "      <td>340200383203</td>\n",
       "      <td>2</td>\n",
       "      <td>257643</td>\n",
       "      <td>1.0</td>\n",
       "      <td>0.000</td>\n",
       "      <td>4.69</td>\n",
       "      <td>1.83</td>\n",
       "      <td>U4</td>\n",
       "      <td>220</td>\n",
       "    </tr>\n",
       "    <tr>\n",
       "      <th>34105701</th>\n",
       "      <td>340200383203</td>\n",
       "      <td>3</td>\n",
       "      <td>50170</td>\n",
       "      <td>1.0</td>\n",
       "      <td>0.000</td>\n",
       "      <td>3.18</td>\n",
       "      <td>1.00</td>\n",
       "      <td>U4</td>\n",
       "      <td>220</td>\n",
       "    </tr>\n",
       "    <tr>\n",
       "      <th>34105702</th>\n",
       "      <td>340200383203</td>\n",
       "      <td>4</td>\n",
       "      <td>349345</td>\n",
       "      <td>1.0</td>\n",
       "      <td>0.000</td>\n",
       "      <td>3.46</td>\n",
       "      <td>1.13</td>\n",
       "      <td>U4</td>\n",
       "      <td>220</td>\n",
       "    </tr>\n",
       "    <tr>\n",
       "      <th>34105703</th>\n",
       "      <td>340200383203</td>\n",
       "      <td>5</td>\n",
       "      <td>250580</td>\n",
       "      <td>2.0</td>\n",
       "      <td>0.000</td>\n",
       "      <td>6.80</td>\n",
       "      <td>2.18</td>\n",
       "      <td>U4</td>\n",
       "      <td>220</td>\n",
       "    </tr>\n",
       "    <tr>\n",
       "      <th>34105704</th>\n",
       "      <td>340200383217</td>\n",
       "      <td>1</td>\n",
       "      <td>816313</td>\n",
       "      <td>20.0</td>\n",
       "      <td>1.818</td>\n",
       "      <td>1.82</td>\n",
       "      <td>1.42</td>\n",
       "      <td>U3</td>\n",
       "      <td>120</td>\n",
       "    </tr>\n",
       "  </tbody>\n",
       "</table>\n",
       "<p>34105705 rows × 9 columns</p>\n",
       "</div>"
      ]
     },
     "execution_count": 81,
     "metadata": {},
     "output_type": "execute_result"
    }
   ],
   "execution_count": 81
  },
  {
   "metadata": {
    "ExecuteTime": {
     "end_time": "2024-05-24T15:52:43.176618Z",
     "start_time": "2024-05-24T15:52:42.266703Z"
    }
   },
   "cell_type": "code",
   "source": [
    "top_univers_cde = data_merge.groupby('CODEUNIVERS')['QUANTITE'].sum().reset_index()\n",
    "top_univers_cde = top_univers_cde.sort_values(by='QUANTITE', ascending=False).head(1)"
   ],
   "id": "20c64c1e94b9a789",
   "outputs": [],
   "execution_count": 82
  },
  {
   "metadata": {},
   "cell_type": "code",
   "outputs": [],
   "execution_count": null,
   "source": "",
   "id": "1e98dd64b6d1ff85"
  }
 ],
 "metadata": {
  "kernelspec": {
   "name": "python3",
   "language": "python",
   "display_name": "Python 3 (ipykernel)"
  }
 },
 "nbformat": 4,
 "nbformat_minor": 5
}
