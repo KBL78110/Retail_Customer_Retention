{
 "cells": [
  {
   "cell_type": "code",
   "execution_count": null,
   "id": "a3835d19",
   "metadata": {},
   "outputs": [],
   "source": [
    "import pip\n",
    "pip.main(['install', 'pandas'])\n",
    "pip.main(['install', 'matplotlib'])\n",
    "pip.main(['install', 'seaborn'])\n",
    "pip.main(['install', 'scikit-learn'])\n",
    "!pip.main(['install', 'nbmerge'])\n",
    "pip.main(['install', 'nbformat'])\n",
    "!pip install nbformat ipynb-py-convert"
   ]
  },
  {
   "cell_type": "markdown",
   "id": "d5711c7e",
   "metadata": {},
   "source": [
    "CHARGEMENT DES BIBLIOTHEQUES"
   ]
  },
  {
   "cell_type": "code",
   "execution_count": 2,
   "id": "0bbf32e2",
   "metadata": {
    "ExecuteTime": {
     "end_time": "2024-05-28T08:25:03.648345Z",
     "start_time": "2024-05-28T08:25:03.645428Z"
    },
    "pycharm": {
     "is_executing": true
    },
    "tags": []
   },
   "outputs": [],
   "source": [
    "import pandas as pd\n",
    "import matplotlib.pyplot as plt\n",
    "import numpy as np\n",
    "import seaborn as sns\n",
    "import missingno as msno\n",
    "from sklearn.experimental import enable_iterative_imputer\n",
    "from sklearn.impute import MissingIndicator, KNNImputer,SimpleImputer\n",
    "from sklearn.impute import IterativeImputer\n",
    "from sklearn.linear_model import LogisticRegression\n",
    "from sklearn.model_selection import train_test_split\n",
    "from sklearn.datasets import make_classification\n",
    "from sklearn.metrics import roc_curve, auc\n",
    "from sklearn.metrics import accuracy_score, classification_report, confusion_matrix\n",
    "from sklearn.preprocessing import StandardScaler\n",
    "from sklearn.preprocessing import OneHotEncoder\n",
    "from sklearn.preprocessing import LabelEncoder\n"
   ]
  },
  {
   "cell_type": "markdown",
   "id": "5bf059b2",
   "metadata": {},
   "source": [
    "CHARGEMENT DU JEU DE DONNEES"
   ]
  },
  {
   "cell_type": "code",
   "execution_count": 13,
   "id": "7d570606",
   "metadata": {},
   "outputs": [],
   "source": [
    "CLIENTS = \"C:\\\\Users\\\\belga\\\\OneDrive\\\\Bureau\\\\EMBA Big Data\\\\Module Datascience\\\\Projet Data Science S2 2024\\\\CLIENTS_NET.pkl\"\n",
    "data1 = pd.read_pickle(CLIENTS)"
   ]
  },
  {
   "cell_type": "code",
   "execution_count": 14,
   "id": "fc209ba1",
   "metadata": {},
   "outputs": [
    {
     "data": {
      "text/html": [
       "<div>\n",
       "<style scoped>\n",
       "    .dataframe tbody tr th:only-of-type {\n",
       "        vertical-align: middle;\n",
       "    }\n",
       "\n",
       "    .dataframe tbody tr th {\n",
       "        vertical-align: top;\n",
       "    }\n",
       "\n",
       "    .dataframe thead th {\n",
       "        text-align: right;\n",
       "    }\n",
       "</style>\n",
       "<table border=\"1\" class=\"dataframe\">\n",
       "  <thead>\n",
       "    <tr style=\"text-align: right;\">\n",
       "      <th></th>\n",
       "      <th>IDCLIENT</th>\n",
       "      <th>CIVILITE</th>\n",
       "      <th>MAGASIN</th>\n",
       "      <th>DATEREADHESION</th>\n",
       "      <th>ANCIENNETE</th>\n",
       "      <th>CODEINSEE</th>\n",
       "      <th>age_group</th>\n",
       "      <th>ANCIENNETE_RETRA</th>\n",
       "    </tr>\n",
       "  </thead>\n",
       "  <tbody>\n",
       "    <tr>\n",
       "      <th>0</th>\n",
       "      <td>155891.0</td>\n",
       "      <td>Madame</td>\n",
       "      <td>VLG</td>\n",
       "      <td>2017-04-04</td>\n",
       "      <td>13</td>\n",
       "      <td>74224</td>\n",
       "      <td>Inconnue</td>\n",
       "      <td>13</td>\n",
       "    </tr>\n",
       "    <tr>\n",
       "      <th>1</th>\n",
       "      <td>156023.0</td>\n",
       "      <td>Monsieur</td>\n",
       "      <td>VLG</td>\n",
       "      <td>2014-06-21</td>\n",
       "      <td>11</td>\n",
       "      <td>74189</td>\n",
       "      <td>AGE DE 46-60</td>\n",
       "      <td>11</td>\n",
       "    </tr>\n",
       "    <tr>\n",
       "      <th>2</th>\n",
       "      <td>124203.0</td>\n",
       "      <td>Madame</td>\n",
       "      <td>BEA</td>\n",
       "      <td>2017-10-12</td>\n",
       "      <td>13</td>\n",
       "      <td>63070</td>\n",
       "      <td>Inconnue</td>\n",
       "      <td>13</td>\n",
       "    </tr>\n",
       "    <tr>\n",
       "      <th>3</th>\n",
       "      <td>156190.0</td>\n",
       "      <td>Madame</td>\n",
       "      <td>SUR</td>\n",
       "      <td>2015-05-24</td>\n",
       "      <td>10</td>\n",
       "      <td>92026</td>\n",
       "      <td>Inconnue</td>\n",
       "      <td>10</td>\n",
       "    </tr>\n",
       "    <tr>\n",
       "      <th>4</th>\n",
       "      <td>144444.0</td>\n",
       "      <td>Monsieur</td>\n",
       "      <td>LAB</td>\n",
       "      <td>2016-12-18</td>\n",
       "      <td>11</td>\n",
       "      <td>31555</td>\n",
       "      <td>Inconnue</td>\n",
       "      <td>11</td>\n",
       "    </tr>\n",
       "    <tr>\n",
       "      <th>...</th>\n",
       "      <td>...</td>\n",
       "      <td>...</td>\n",
       "      <td>...</td>\n",
       "      <td>...</td>\n",
       "      <td>...</td>\n",
       "      <td>...</td>\n",
       "      <td>...</td>\n",
       "      <td>...</td>\n",
       "    </tr>\n",
       "    <tr>\n",
       "      <th>720085</th>\n",
       "      <td>1970111.0</td>\n",
       "      <td>Monsieur</td>\n",
       "      <td>IAB</td>\n",
       "      <td>2018-01-06</td>\n",
       "      <td>8</td>\n",
       "      <td>38053</td>\n",
       "      <td>Inconnue</td>\n",
       "      <td>Inconnue</td>\n",
       "    </tr>\n",
       "    <tr>\n",
       "      <th>720086</th>\n",
       "      <td>2297275.0</td>\n",
       "      <td>Monsieur</td>\n",
       "      <td>SEM</td>\n",
       "      <td>2018-01-06</td>\n",
       "      <td>6</td>\n",
       "      <td>57067</td>\n",
       "      <td>AGE DE 31-45</td>\n",
       "      <td>Inconnue</td>\n",
       "    </tr>\n",
       "    <tr>\n",
       "      <th>720087</th>\n",
       "      <td>2305548.0</td>\n",
       "      <td>Monsieur</td>\n",
       "      <td>PRI</td>\n",
       "      <td>2018-01-06</td>\n",
       "      <td>6</td>\n",
       "      <td>38318</td>\n",
       "      <td>Inconnue</td>\n",
       "      <td>Inconnue</td>\n",
       "    </tr>\n",
       "    <tr>\n",
       "      <th>720088</th>\n",
       "      <td>84175.0</td>\n",
       "      <td>Madame</td>\n",
       "      <td>GAI</td>\n",
       "      <td>2018-01-07</td>\n",
       "      <td>17</td>\n",
       "      <td>74082</td>\n",
       "      <td>AGE DE 61-100</td>\n",
       "      <td>Inconnue</td>\n",
       "    </tr>\n",
       "    <tr>\n",
       "      <th>720089</th>\n",
       "      <td>1280004.0</td>\n",
       "      <td>Monsieur</td>\n",
       "      <td>SGL</td>\n",
       "      <td>2018-01-07</td>\n",
       "      <td>12</td>\n",
       "      <td>42218</td>\n",
       "      <td>Inconnue</td>\n",
       "      <td>Inconnue</td>\n",
       "    </tr>\n",
       "  </tbody>\n",
       "</table>\n",
       "<p>407389 rows × 8 columns</p>\n",
       "</div>"
      ],
      "text/plain": [
       "         IDCLIENT  CIVILITE MAGASIN DATEREADHESION  ANCIENNETE CODEINSEE  \\\n",
       "0        155891.0    Madame     VLG     2017-04-04          13     74224   \n",
       "1        156023.0  Monsieur     VLG     2014-06-21          11     74189   \n",
       "2        124203.0    Madame     BEA     2017-10-12          13     63070   \n",
       "3        156190.0    Madame     SUR     2015-05-24          10     92026   \n",
       "4        144444.0  Monsieur     LAB     2016-12-18          11     31555   \n",
       "...           ...       ...     ...            ...         ...       ...   \n",
       "720085  1970111.0  Monsieur     IAB     2018-01-06           8     38053   \n",
       "720086  2297275.0  Monsieur     SEM     2018-01-06           6     57067   \n",
       "720087  2305548.0  Monsieur     PRI     2018-01-06           6     38318   \n",
       "720088    84175.0    Madame     GAI     2018-01-07          17     74082   \n",
       "720089  1280004.0  Monsieur     SGL     2018-01-07          12     42218   \n",
       "\n",
       "            age_group ANCIENNETE_RETRA  \n",
       "0            Inconnue               13  \n",
       "1        AGE DE 46-60               11  \n",
       "2            Inconnue               13  \n",
       "3            Inconnue               10  \n",
       "4            Inconnue               11  \n",
       "...               ...              ...  \n",
       "720085       Inconnue         Inconnue  \n",
       "720086   AGE DE 31-45         Inconnue  \n",
       "720087       Inconnue         Inconnue  \n",
       "720088  AGE DE 61-100         Inconnue  \n",
       "720089       Inconnue         Inconnue  \n",
       "\n",
       "[407389 rows x 8 columns]"
      ]
     },
     "execution_count": 14,
     "metadata": {},
     "output_type": "execute_result"
    }
   ],
   "source": [
    "data1"
   ]
  },
  {
   "cell_type": "code",
   "execution_count": 15,
   "id": "ebb5353a",
   "metadata": {},
   "outputs": [],
   "source": [
    "CODEINSEE = \"C:\\\\Users\\\\belga\\\\OneDrive\\\\Bureau\\\\EMBA Big Data\\\\Module Datascience\\\\Projet Data Science S2 2024\\\\CODEINSEE_NET.pkl\"\n",
    "data6 = pd.read_pickle(CODEINSEE)"
   ]
  },
  {
   "cell_type": "code",
   "execution_count": 16,
   "id": "82673b44",
   "metadata": {},
   "outputs": [
    {
     "data": {
      "text/html": [
       "<div>\n",
       "<style scoped>\n",
       "    .dataframe tbody tr th:only-of-type {\n",
       "        vertical-align: middle;\n",
       "    }\n",
       "\n",
       "    .dataframe tbody tr th {\n",
       "        vertical-align: top;\n",
       "    }\n",
       "\n",
       "    .dataframe thead th {\n",
       "        text-align: right;\n",
       "    }\n",
       "</style>\n",
       "<table border=\"1\" class=\"dataframe\">\n",
       "  <thead>\n",
       "    <tr style=\"text-align: right;\">\n",
       "      <th></th>\n",
       "      <th>Code</th>\n",
       "      <th>Libellé</th>\n",
       "      <th>Région</th>\n",
       "      <th>Département</th>\n",
       "      <th>Emploi total</th>\n",
       "      <th>Administration publique</th>\n",
       "      <th>Agriculture</th>\n",
       "      <th>Bâtiment-Travaux Publics</th>\n",
       "      <th>Commerce inter-entreprises</th>\n",
       "      <th>Conception, Recherche</th>\n",
       "      <th>...</th>\n",
       "      <th>Transports, Logistique</th>\n",
       "      <th>Prestations Intellectuelles</th>\n",
       "      <th>Santé, Action Sociale</th>\n",
       "      <th>Services de Proximité</th>\n",
       "      <th>Commerce \\ninter-entreprises</th>\n",
       "      <th>Conception, Recherche.1</th>\n",
       "      <th>Culture, Loisirs.1</th>\n",
       "      <th>Gestion.1</th>\n",
       "      <th>Prestations Intellectuelles.1</th>\n",
       "      <th>Total</th>\n",
       "    </tr>\n",
       "  </thead>\n",
       "  <tbody>\n",
       "    <tr>\n",
       "      <th>0</th>\n",
       "      <td>1001</td>\n",
       "      <td>L'Abergement-Clémenciat</td>\n",
       "      <td>84</td>\n",
       "      <td>1</td>\n",
       "      <td>72</td>\n",
       "      <td>5</td>\n",
       "      <td>5</td>\n",
       "      <td>14</td>\n",
       "      <td>5</td>\n",
       "      <td>0</td>\n",
       "      <td>...</td>\n",
       "      <td>0</td>\n",
       "      <td>0</td>\n",
       "      <td>0</td>\n",
       "      <td>14</td>\n",
       "      <td>0</td>\n",
       "      <td>0</td>\n",
       "      <td>0</td>\n",
       "      <td>0</td>\n",
       "      <td>0</td>\n",
       "      <td>0</td>\n",
       "    </tr>\n",
       "    <tr>\n",
       "      <th>1</th>\n",
       "      <td>1002</td>\n",
       "      <td>L'Abergement-de-Varey</td>\n",
       "      <td>84</td>\n",
       "      <td>1</td>\n",
       "      <td>25</td>\n",
       "      <td>0</td>\n",
       "      <td>15</td>\n",
       "      <td>0</td>\n",
       "      <td>0</td>\n",
       "      <td>0</td>\n",
       "      <td>...</td>\n",
       "      <td>0</td>\n",
       "      <td>0</td>\n",
       "      <td>0</td>\n",
       "      <td>0</td>\n",
       "      <td>0</td>\n",
       "      <td>0</td>\n",
       "      <td>4</td>\n",
       "      <td>0</td>\n",
       "      <td>0</td>\n",
       "      <td>4</td>\n",
       "    </tr>\n",
       "    <tr>\n",
       "      <th>2</th>\n",
       "      <td>1004</td>\n",
       "      <td>Ambérieu-en-Bugey</td>\n",
       "      <td>84</td>\n",
       "      <td>1</td>\n",
       "      <td>7 697</td>\n",
       "      <td>842</td>\n",
       "      <td>23</td>\n",
       "      <td>514</td>\n",
       "      <td>229</td>\n",
       "      <td>79</td>\n",
       "      <td>...</td>\n",
       "      <td>1 017</td>\n",
       "      <td>247</td>\n",
       "      <td>808</td>\n",
       "      <td>630</td>\n",
       "      <td>46</td>\n",
       "      <td>53</td>\n",
       "      <td>42</td>\n",
       "      <td>155</td>\n",
       "      <td>84</td>\n",
       "      <td>380</td>\n",
       "    </tr>\n",
       "    <tr>\n",
       "      <th>3</th>\n",
       "      <td>1005</td>\n",
       "      <td>Ambérieux-en-Dombes</td>\n",
       "      <td>84</td>\n",
       "      <td>1</td>\n",
       "      <td>332</td>\n",
       "      <td>5</td>\n",
       "      <td>4</td>\n",
       "      <td>59</td>\n",
       "      <td>10</td>\n",
       "      <td>0</td>\n",
       "      <td>...</td>\n",
       "      <td>0</td>\n",
       "      <td>5</td>\n",
       "      <td>54</td>\n",
       "      <td>35</td>\n",
       "      <td>5</td>\n",
       "      <td>0</td>\n",
       "      <td>5</td>\n",
       "      <td>5</td>\n",
       "      <td>0</td>\n",
       "      <td>15</td>\n",
       "    </tr>\n",
       "    <tr>\n",
       "      <th>4</th>\n",
       "      <td>1006</td>\n",
       "      <td>Ambléon</td>\n",
       "      <td>84</td>\n",
       "      <td>1</td>\n",
       "      <td>5</td>\n",
       "      <td>0</td>\n",
       "      <td>0</td>\n",
       "      <td>0</td>\n",
       "      <td>0</td>\n",
       "      <td>0</td>\n",
       "      <td>...</td>\n",
       "      <td>0</td>\n",
       "      <td>0</td>\n",
       "      <td>0</td>\n",
       "      <td>0</td>\n",
       "      <td>0</td>\n",
       "      <td>0</td>\n",
       "      <td>0</td>\n",
       "      <td>0</td>\n",
       "      <td>0</td>\n",
       "      <td>0</td>\n",
       "    </tr>\n",
       "    <tr>\n",
       "      <th>...</th>\n",
       "      <td>...</td>\n",
       "      <td>...</td>\n",
       "      <td>...</td>\n",
       "      <td>...</td>\n",
       "      <td>...</td>\n",
       "      <td>...</td>\n",
       "      <td>...</td>\n",
       "      <td>...</td>\n",
       "      <td>...</td>\n",
       "      <td>...</td>\n",
       "      <td>...</td>\n",
       "      <td>...</td>\n",
       "      <td>...</td>\n",
       "      <td>...</td>\n",
       "      <td>...</td>\n",
       "      <td>...</td>\n",
       "      <td>...</td>\n",
       "      <td>...</td>\n",
       "      <td>...</td>\n",
       "      <td>...</td>\n",
       "      <td>...</td>\n",
       "    </tr>\n",
       "    <tr>\n",
       "      <th>34940</th>\n",
       "      <td>97613</td>\n",
       "      <td>M'Tsangamouji</td>\n",
       "      <td>6</td>\n",
       "      <td>976</td>\n",
       "      <td>495</td>\n",
       "      <td>128</td>\n",
       "      <td>10</td>\n",
       "      <td>77</td>\n",
       "      <td>0</td>\n",
       "      <td>0</td>\n",
       "      <td>...</td>\n",
       "      <td>15</td>\n",
       "      <td>5</td>\n",
       "      <td>15</td>\n",
       "      <td>45</td>\n",
       "      <td>0</td>\n",
       "      <td>0</td>\n",
       "      <td>0</td>\n",
       "      <td>0</td>\n",
       "      <td>0</td>\n",
       "      <td>0</td>\n",
       "    </tr>\n",
       "    <tr>\n",
       "      <th>34941</th>\n",
       "      <td>97614</td>\n",
       "      <td>Ouangani</td>\n",
       "      <td>6</td>\n",
       "      <td>976</td>\n",
       "      <td>1 254</td>\n",
       "      <td>168</td>\n",
       "      <td>67</td>\n",
       "      <td>155</td>\n",
       "      <td>0</td>\n",
       "      <td>5</td>\n",
       "      <td>...</td>\n",
       "      <td>48</td>\n",
       "      <td>13</td>\n",
       "      <td>90</td>\n",
       "      <td>105</td>\n",
       "      <td>0</td>\n",
       "      <td>3</td>\n",
       "      <td>5</td>\n",
       "      <td>10</td>\n",
       "      <td>8</td>\n",
       "      <td>25</td>\n",
       "    </tr>\n",
       "    <tr>\n",
       "      <th>34942</th>\n",
       "      <td>97615</td>\n",
       "      <td>Pamandzi</td>\n",
       "      <td>6</td>\n",
       "      <td>976</td>\n",
       "      <td>1 642</td>\n",
       "      <td>460</td>\n",
       "      <td>10</td>\n",
       "      <td>55</td>\n",
       "      <td>10</td>\n",
       "      <td>10</td>\n",
       "      <td>...</td>\n",
       "      <td>125</td>\n",
       "      <td>27</td>\n",
       "      <td>72</td>\n",
       "      <td>200</td>\n",
       "      <td>3</td>\n",
       "      <td>5</td>\n",
       "      <td>35</td>\n",
       "      <td>10</td>\n",
       "      <td>10</td>\n",
       "      <td>62</td>\n",
       "    </tr>\n",
       "    <tr>\n",
       "      <th>34943</th>\n",
       "      <td>97616</td>\n",
       "      <td>Sada</td>\n",
       "      <td>6</td>\n",
       "      <td>976</td>\n",
       "      <td>1 447</td>\n",
       "      <td>175</td>\n",
       "      <td>45</td>\n",
       "      <td>210</td>\n",
       "      <td>0</td>\n",
       "      <td>0</td>\n",
       "      <td>...</td>\n",
       "      <td>117</td>\n",
       "      <td>8</td>\n",
       "      <td>35</td>\n",
       "      <td>190</td>\n",
       "      <td>0</td>\n",
       "      <td>0</td>\n",
       "      <td>5</td>\n",
       "      <td>15</td>\n",
       "      <td>3</td>\n",
       "      <td>23</td>\n",
       "    </tr>\n",
       "    <tr>\n",
       "      <th>34944</th>\n",
       "      <td>97617</td>\n",
       "      <td>Tsingoni</td>\n",
       "      <td>6</td>\n",
       "      <td>976</td>\n",
       "      <td>2 223</td>\n",
       "      <td>399</td>\n",
       "      <td>58</td>\n",
       "      <td>391</td>\n",
       "      <td>8</td>\n",
       "      <td>24</td>\n",
       "      <td>...</td>\n",
       "      <td>120</td>\n",
       "      <td>21</td>\n",
       "      <td>92</td>\n",
       "      <td>245</td>\n",
       "      <td>0</td>\n",
       "      <td>0</td>\n",
       "      <td>3</td>\n",
       "      <td>10</td>\n",
       "      <td>3</td>\n",
       "      <td>15</td>\n",
       "    </tr>\n",
       "  </tbody>\n",
       "</table>\n",
       "<p>34945 rows × 26 columns</p>\n",
       "</div>"
      ],
      "text/plain": [
       "        Code                  Libellé Région Département Emploi total  \\\n",
       "0       1001  L'Abergement-Clémenciat     84           1           72   \n",
       "1       1002    L'Abergement-de-Varey     84           1           25   \n",
       "2       1004        Ambérieu-en-Bugey     84           1        7 697   \n",
       "3       1005      Ambérieux-en-Dombes     84           1          332   \n",
       "4       1006                  Ambléon     84           1            5   \n",
       "...      ...                      ...    ...         ...          ...   \n",
       "34940  97613            M'Tsangamouji      6         976          495   \n",
       "34941  97614                 Ouangani      6         976        1 254   \n",
       "34942  97615                 Pamandzi      6         976        1 642   \n",
       "34943  97616                     Sada      6         976        1 447   \n",
       "34944  97617                 Tsingoni      6         976        2 223   \n",
       "\n",
       "      Administration publique Agriculture Bâtiment-Travaux Publics  \\\n",
       "0                           5           5                       14   \n",
       "1                           0          15                        0   \n",
       "2                         842          23                      514   \n",
       "3                           5           4                       59   \n",
       "4                           0           0                        0   \n",
       "...                       ...         ...                      ...   \n",
       "34940                     128          10                       77   \n",
       "34941                     168          67                      155   \n",
       "34942                     460          10                       55   \n",
       "34943                     175          45                      210   \n",
       "34944                     399          58                      391   \n",
       "\n",
       "      Commerce inter-entreprises Conception, Recherche  ...  \\\n",
       "0                              5                     0  ...   \n",
       "1                              0                     0  ...   \n",
       "2                            229                    79  ...   \n",
       "3                             10                     0  ...   \n",
       "4                              0                     0  ...   \n",
       "...                          ...                   ...  ...   \n",
       "34940                          0                     0  ...   \n",
       "34941                          0                     5  ...   \n",
       "34942                         10                    10  ...   \n",
       "34943                          0                     0  ...   \n",
       "34944                          8                    24  ...   \n",
       "\n",
       "      Transports, Logistique Prestations Intellectuelles  \\\n",
       "0                          0                           0   \n",
       "1                          0                           0   \n",
       "2                      1 017                         247   \n",
       "3                          0                           5   \n",
       "4                          0                           0   \n",
       "...                      ...                         ...   \n",
       "34940                     15                           5   \n",
       "34941                     48                          13   \n",
       "34942                    125                          27   \n",
       "34943                    117                           8   \n",
       "34944                    120                          21   \n",
       "\n",
       "      Santé, Action Sociale Services de Proximité  \\\n",
       "0                         0                    14   \n",
       "1                         0                     0   \n",
       "2                       808                   630   \n",
       "3                        54                    35   \n",
       "4                         0                     0   \n",
       "...                     ...                   ...   \n",
       "34940                    15                    45   \n",
       "34941                    90                   105   \n",
       "34942                    72                   200   \n",
       "34943                    35                   190   \n",
       "34944                    92                   245   \n",
       "\n",
       "      Commerce \\ninter-entreprises Conception, Recherche.1 Culture, Loisirs.1  \\\n",
       "0                                0                       0                  0   \n",
       "1                                0                       0                  4   \n",
       "2                               46                      53                 42   \n",
       "3                                5                       0                  5   \n",
       "4                                0                       0                  0   \n",
       "...                            ...                     ...                ...   \n",
       "34940                            0                       0                  0   \n",
       "34941                            0                       3                  5   \n",
       "34942                            3                       5                 35   \n",
       "34943                            0                       0                  5   \n",
       "34944                            0                       0                  3   \n",
       "\n",
       "      Gestion.1 Prestations Intellectuelles.1 Total  \n",
       "0             0                             0     0  \n",
       "1             0                             0     4  \n",
       "2           155                            84   380  \n",
       "3             5                             0    15  \n",
       "4             0                             0     0  \n",
       "...         ...                           ...   ...  \n",
       "34940         0                             0     0  \n",
       "34941        10                             8    25  \n",
       "34942        10                            10    62  \n",
       "34943        15                             3    23  \n",
       "34944        10                             3    15  \n",
       "\n",
       "[34945 rows x 26 columns]"
      ]
     },
     "execution_count": 16,
     "metadata": {},
     "output_type": "execute_result"
    }
   ],
   "source": [
    "data6"
   ]
  },
  {
   "cell_type": "code",
   "execution_count": 17,
   "id": "2b1e9dc1",
   "metadata": {},
   "outputs": [],
   "source": [
    "ARTICLES = \"C:\\\\Users\\\\belga\\\\OneDrive\\\\Bureau\\\\EMBA Big Data\\\\Module Datascience\\\\Projet Data Science S2 2024\\\\ARTICLES_NET.pkl\"\n",
    "data4 = pd.read_pickle(ARTICLES)"
   ]
  },
  {
   "cell_type": "code",
   "execution_count": 18,
   "id": "526054db",
   "metadata": {},
   "outputs": [
    {
     "data": {
      "text/html": [
       "<div>\n",
       "<style scoped>\n",
       "    .dataframe tbody tr th:only-of-type {\n",
       "        vertical-align: middle;\n",
       "    }\n",
       "\n",
       "    .dataframe tbody tr th {\n",
       "        vertical-align: top;\n",
       "    }\n",
       "\n",
       "    .dataframe thead th {\n",
       "        text-align: right;\n",
       "    }\n",
       "</style>\n",
       "<table border=\"1\" class=\"dataframe\">\n",
       "  <thead>\n",
       "    <tr style=\"text-align: right;\">\n",
       "      <th></th>\n",
       "      <th>CODEARTICLE</th>\n",
       "      <th>CODEUNIVERS</th>\n",
       "      <th>CODEFAMILLE</th>\n",
       "    </tr>\n",
       "  </thead>\n",
       "  <tbody>\n",
       "    <tr>\n",
       "      <th>1</th>\n",
       "      <td>1001</td>\n",
       "      <td>U2</td>\n",
       "      <td>130</td>\n",
       "    </tr>\n",
       "    <tr>\n",
       "      <th>2</th>\n",
       "      <td>100125</td>\n",
       "      <td>U1</td>\n",
       "      <td>010</td>\n",
       "    </tr>\n",
       "    <tr>\n",
       "      <th>3</th>\n",
       "      <td>100150</td>\n",
       "      <td>U1</td>\n",
       "      <td>010</td>\n",
       "    </tr>\n",
       "    <tr>\n",
       "      <th>4</th>\n",
       "      <td>10018</td>\n",
       "      <td>U1</td>\n",
       "      <td>100</td>\n",
       "    </tr>\n",
       "    <tr>\n",
       "      <th>5</th>\n",
       "      <td>10019</td>\n",
       "      <td>U1</td>\n",
       "      <td>100</td>\n",
       "    </tr>\n",
       "    <tr>\n",
       "      <th>...</th>\n",
       "      <td>...</td>\n",
       "      <td>...</td>\n",
       "      <td>...</td>\n",
       "    </tr>\n",
       "    <tr>\n",
       "      <th>665941</th>\n",
       "      <td>407717</td>\n",
       "      <td>U3</td>\n",
       "      <td>120</td>\n",
       "    </tr>\n",
       "    <tr>\n",
       "      <th>665942</th>\n",
       "      <td>407719</td>\n",
       "      <td>U3</td>\n",
       "      <td>120</td>\n",
       "    </tr>\n",
       "    <tr>\n",
       "      <th>665943</th>\n",
       "      <td>407720</td>\n",
       "      <td>U3</td>\n",
       "      <td>120</td>\n",
       "    </tr>\n",
       "    <tr>\n",
       "      <th>665944</th>\n",
       "      <td>407721</td>\n",
       "      <td>U3</td>\n",
       "      <td>120</td>\n",
       "    </tr>\n",
       "    <tr>\n",
       "      <th>665945</th>\n",
       "      <td>407723</td>\n",
       "      <td>U3</td>\n",
       "      <td>120</td>\n",
       "    </tr>\n",
       "  </tbody>\n",
       "</table>\n",
       "<p>665945 rows × 3 columns</p>\n",
       "</div>"
      ],
      "text/plain": [
       "       CODEARTICLE CODEUNIVERS CODEFAMILLE\n",
       "1             1001          U2         130\n",
       "2           100125          U1         010\n",
       "3           100150          U1         010\n",
       "4            10018          U1         100\n",
       "5            10019          U1         100\n",
       "...            ...         ...         ...\n",
       "665941      407717          U3         120\n",
       "665942      407719          U3         120\n",
       "665943      407720          U3         120\n",
       "665944      407721          U3         120\n",
       "665945      407723          U3         120\n",
       "\n",
       "[665945 rows x 3 columns]"
      ]
     },
     "execution_count": 18,
     "metadata": {},
     "output_type": "execute_result"
    }
   ],
   "source": [
    "data4"
   ]
  },
  {
   "cell_type": "code",
   "execution_count": 19,
   "id": "2f6215c9",
   "metadata": {},
   "outputs": [],
   "source": [
    "MAGASINS = \"C:\\\\Users\\\\belga\\\\OneDrive\\\\Bureau\\\\EMBA Big Data\\\\Module Datascience\\\\Projet Data Science S2 2024\\\\MAGASINS_NET.pkl\"\n",
    "data5 = pd.read_pickle(MAGASINS)"
   ]
  },
  {
   "cell_type": "code",
   "execution_count": 20,
   "id": "3b3bd8d6",
   "metadata": {},
   "outputs": [
    {
     "data": {
      "text/html": [
       "<div>\n",
       "<style scoped>\n",
       "    .dataframe tbody tr th:only-of-type {\n",
       "        vertical-align: middle;\n",
       "    }\n",
       "\n",
       "    .dataframe tbody tr th {\n",
       "        vertical-align: top;\n",
       "    }\n",
       "\n",
       "    .dataframe thead th {\n",
       "        text-align: right;\n",
       "    }\n",
       "</style>\n",
       "<table border=\"1\" class=\"dataframe\">\n",
       "  <thead>\n",
       "    <tr style=\"text-align: right;\">\n",
       "      <th></th>\n",
       "      <th>CODESOCIETE</th>\n",
       "      <th>VILLE</th>\n",
       "      <th>LIBELLEDEPARTEMENT</th>\n",
       "      <th>LIBELLEREGIONCOMMERCIALE</th>\n",
       "    </tr>\n",
       "  </thead>\n",
       "  <tbody>\n",
       "    <tr>\n",
       "      <th>0</th>\n",
       "      <td>MET</td>\n",
       "      <td>METZ-TESSY</td>\n",
       "      <td>74</td>\n",
       "      <td>Rhône-Alpes</td>\n",
       "    </tr>\n",
       "    <tr>\n",
       "      <th>1</th>\n",
       "      <td>ALB</td>\n",
       "      <td>GILLY SUR ISERE</td>\n",
       "      <td>73</td>\n",
       "      <td>Rhône-Alpes</td>\n",
       "    </tr>\n",
       "    <tr>\n",
       "      <th>2</th>\n",
       "      <td>ALM</td>\n",
       "      <td>LES MILLES</td>\n",
       "      <td>13</td>\n",
       "      <td>Littoral</td>\n",
       "    </tr>\n",
       "    <tr>\n",
       "      <th>3</th>\n",
       "      <td>AVI</td>\n",
       "      <td>VILLENEUVE-LES-AVIGNON</td>\n",
       "      <td>30</td>\n",
       "      <td>Littoral</td>\n",
       "    </tr>\n",
       "    <tr>\n",
       "      <th>4</th>\n",
       "      <td>BEA</td>\n",
       "      <td>BEAUMONT</td>\n",
       "      <td>63</td>\n",
       "      <td>Centre-Paris</td>\n",
       "    </tr>\n",
       "    <tr>\n",
       "      <th>...</th>\n",
       "      <td>...</td>\n",
       "      <td>...</td>\n",
       "      <td>...</td>\n",
       "      <td>...</td>\n",
       "    </tr>\n",
       "    <tr>\n",
       "      <th>62</th>\n",
       "      <td>STR</td>\n",
       "      <td>SISTERON</td>\n",
       "      <td>4</td>\n",
       "      <td>Littoral</td>\n",
       "    </tr>\n",
       "    <tr>\n",
       "      <th>63</th>\n",
       "      <td>NEV</td>\n",
       "      <td>NEVERS CEDEX</td>\n",
       "      <td>58</td>\n",
       "      <td>Centre-Paris</td>\n",
       "    </tr>\n",
       "    <tr>\n",
       "      <th>64</th>\n",
       "      <td>BSN</td>\n",
       "      <td>CESSON</td>\n",
       "      <td>77</td>\n",
       "      <td>Centre-Paris</td>\n",
       "    </tr>\n",
       "    <tr>\n",
       "      <th>65</th>\n",
       "      <td>CAG</td>\n",
       "      <td>CAGNES SUR MER</td>\n",
       "      <td>6</td>\n",
       "      <td>Littoral</td>\n",
       "    </tr>\n",
       "    <tr>\n",
       "      <th>66</th>\n",
       "      <td>RMA</td>\n",
       "      <td>RUEIL MALMAISON</td>\n",
       "      <td>92</td>\n",
       "      <td>Centre-Paris</td>\n",
       "    </tr>\n",
       "  </tbody>\n",
       "</table>\n",
       "<p>67 rows × 4 columns</p>\n",
       "</div>"
      ],
      "text/plain": [
       "   CODESOCIETE                   VILLE LIBELLEDEPARTEMENT  \\\n",
       "0          MET              METZ-TESSY                 74   \n",
       "1          ALB         GILLY SUR ISERE                 73   \n",
       "2          ALM              LES MILLES                 13   \n",
       "3          AVI  VILLENEUVE-LES-AVIGNON                 30   \n",
       "4          BEA                BEAUMONT                 63   \n",
       "..         ...                     ...                ...   \n",
       "62         STR                SISTERON                  4   \n",
       "63         NEV            NEVERS CEDEX                 58   \n",
       "64         BSN                  CESSON                 77   \n",
       "65         CAG          CAGNES SUR MER                  6   \n",
       "66         RMA         RUEIL MALMAISON                 92   \n",
       "\n",
       "   LIBELLEREGIONCOMMERCIALE  \n",
       "0               Rhône-Alpes  \n",
       "1               Rhône-Alpes  \n",
       "2                  Littoral  \n",
       "3                  Littoral  \n",
       "4              Centre-Paris  \n",
       "..                      ...  \n",
       "62                 Littoral  \n",
       "63             Centre-Paris  \n",
       "64             Centre-Paris  \n",
       "65                 Littoral  \n",
       "66             Centre-Paris  \n",
       "\n",
       "[67 rows x 4 columns]"
      ]
     },
     "execution_count": 20,
     "metadata": {},
     "output_type": "execute_result"
    }
   ],
   "source": [
    "data5"
   ]
  },
  {
   "cell_type": "code",
   "execution_count": 3,
   "id": "93078b72",
   "metadata": {
    "ExecuteTime": {
     "end_time": "2024-05-28T08:25:06.704989Z",
     "start_time": "2024-05-28T08:25:06.223117Z"
    }
   },
   "outputs": [
    {
     "name": "stdout",
     "output_type": "stream",
     "text": [
      "(845876, 10)\n",
      "['IDCLIENT', 'CIVILITE', 'DATENAISSANCE', 'MAGASIN', 'DATEDEBUTADHESION', 'DATEREADHESION', 'DATEFINADHESION', 'VIP', 'CODEINSEE', 'PAYS']\n"
     ]
    }
   ],
   "source": [
    "dataset_path = \"C:\\\\Users\\\\belga\\\\OneDrive\\\\Bureau\\\\EMBA Big Data\\\\Module Datascience\\\\Projet Data Science S2 2024\\\\CLIENT.csv\"\n",
    "data1 = pd.read_csv(dataset_path, sep='|', low_memory=False)\n",
    "print(data1.shape)\n",
    "print(list(data1.columns))"
   ]
  },
  {
   "cell_type": "markdown",
   "id": "51e0416c",
   "metadata": {},
   "source": [
    "La ligne de code ci-dessous nous permet de connaître le détail des colonnes ainsi que le type de données constituant notre base (numérique ou caractères)."
   ]
  },
  {
   "cell_type": "code",
   "execution_count": 4,
   "id": "ccb4ee33",
   "metadata": {
    "ExecuteTime": {
     "end_time": "2024-05-28T08:25:18.567138Z",
     "start_time": "2024-05-28T08:25:18.560863Z"
    }
   },
   "outputs": [
    {
     "data": {
      "text/html": [
       "<div>\n",
       "<style scoped>\n",
       "    .dataframe tbody tr th:only-of-type {\n",
       "        vertical-align: middle;\n",
       "    }\n",
       "\n",
       "    .dataframe tbody tr th {\n",
       "        vertical-align: top;\n",
       "    }\n",
       "\n",
       "    .dataframe thead th {\n",
       "        text-align: right;\n",
       "    }\n",
       "</style>\n",
       "<table border=\"1\" class=\"dataframe\">\n",
       "  <thead>\n",
       "    <tr style=\"text-align: right;\">\n",
       "      <th></th>\n",
       "      <th>IDCLIENT</th>\n",
       "      <th>CIVILITE</th>\n",
       "      <th>DATENAISSANCE</th>\n",
       "      <th>MAGASIN</th>\n",
       "      <th>DATEDEBUTADHESION</th>\n",
       "      <th>DATEREADHESION</th>\n",
       "      <th>DATEFINADHESION</th>\n",
       "      <th>VIP</th>\n",
       "      <th>CODEINSEE</th>\n",
       "      <th>PAYS</th>\n",
       "    </tr>\n",
       "  </thead>\n",
       "  <tbody>\n",
       "    <tr>\n",
       "      <th>0</th>\n",
       "      <td>155891.0</td>\n",
       "      <td>MADAME</td>\n",
       "      <td>NaN</td>\n",
       "      <td>VLG</td>\n",
       "      <td>13/05/2005 0:00:00</td>\n",
       "      <td>4/04/2017 0:00:00</td>\n",
       "      <td>30/04/2018 0:00:00</td>\n",
       "      <td>0</td>\n",
       "      <td>74224</td>\n",
       "      <td>FR</td>\n",
       "    </tr>\n",
       "    <tr>\n",
       "      <th>1</th>\n",
       "      <td>156023.0</td>\n",
       "      <td>MONSIEUR</td>\n",
       "      <td>7/08/1966 0:00:00</td>\n",
       "      <td>VLG</td>\n",
       "      <td>14/05/2005 0:00:00</td>\n",
       "      <td>21/06/2014 0:00:00</td>\n",
       "      <td>30/06/2016 0:00:00</td>\n",
       "      <td>0</td>\n",
       "      <td>74189</td>\n",
       "      <td>FR</td>\n",
       "    </tr>\n",
       "    <tr>\n",
       "      <th>2</th>\n",
       "      <td>124203.0</td>\n",
       "      <td>MADAME</td>\n",
       "      <td>NaN</td>\n",
       "      <td>BEA</td>\n",
       "      <td>16/03/2005 0:00:00</td>\n",
       "      <td>12/10/2017 0:00:00</td>\n",
       "      <td>31/10/2018 0:00:00</td>\n",
       "      <td>0</td>\n",
       "      <td>63070</td>\n",
       "      <td>FR</td>\n",
       "    </tr>\n",
       "    <tr>\n",
       "      <th>3</th>\n",
       "      <td>156190.0</td>\n",
       "      <td>MADAME</td>\n",
       "      <td>24/07/1976 0:00:00</td>\n",
       "      <td>SUR</td>\n",
       "      <td>28/08/2006 0:00:00</td>\n",
       "      <td>24/05/2015 0:00:00</td>\n",
       "      <td>31/05/2016 0:00:00</td>\n",
       "      <td>0</td>\n",
       "      <td>92026</td>\n",
       "      <td>FR</td>\n",
       "    </tr>\n",
       "    <tr>\n",
       "      <th>4</th>\n",
       "      <td>144444.0</td>\n",
       "      <td>MONSIEUR</td>\n",
       "      <td>NaN</td>\n",
       "      <td>LAB</td>\n",
       "      <td>29/04/2006 0:00:00</td>\n",
       "      <td>18/12/2016 0:00:00</td>\n",
       "      <td>31/12/2017 0:00:00</td>\n",
       "      <td>0</td>\n",
       "      <td>31555</td>\n",
       "      <td>FR</td>\n",
       "    </tr>\n",
       "    <tr>\n",
       "      <th>...</th>\n",
       "      <td>...</td>\n",
       "      <td>...</td>\n",
       "      <td>...</td>\n",
       "      <td>...</td>\n",
       "      <td>...</td>\n",
       "      <td>...</td>\n",
       "      <td>...</td>\n",
       "      <td>...</td>\n",
       "      <td>...</td>\n",
       "      <td>...</td>\n",
       "    </tr>\n",
       "    <tr>\n",
       "      <th>845871</th>\n",
       "      <td>1970111.0</td>\n",
       "      <td>MONSIEUR</td>\n",
       "      <td>NaN</td>\n",
       "      <td>IAB</td>\n",
       "      <td>14/04/2011 0:00:00</td>\n",
       "      <td>6/01/2018 0:00:00</td>\n",
       "      <td>31/01/2019 0:00:00</td>\n",
       "      <td>0</td>\n",
       "      <td>38053</td>\n",
       "      <td>FR</td>\n",
       "    </tr>\n",
       "    <tr>\n",
       "      <th>845872</th>\n",
       "      <td>2297275.0</td>\n",
       "      <td>MONSIEUR</td>\n",
       "      <td>6/02/1988 0:00:00</td>\n",
       "      <td>SEM</td>\n",
       "      <td>7/03/2013 0:00:00</td>\n",
       "      <td>6/01/2018 0:00:00</td>\n",
       "      <td>31/01/2019 0:00:00</td>\n",
       "      <td>0</td>\n",
       "      <td>57067</td>\n",
       "      <td>FR</td>\n",
       "    </tr>\n",
       "    <tr>\n",
       "      <th>845873</th>\n",
       "      <td>2305548.0</td>\n",
       "      <td>MONSIEUR</td>\n",
       "      <td>NaN</td>\n",
       "      <td>PRI</td>\n",
       "      <td>22/03/2013 0:00:00</td>\n",
       "      <td>6/01/2018 0:00:00</td>\n",
       "      <td>31/01/2019 0:00:00</td>\n",
       "      <td>0</td>\n",
       "      <td>38318</td>\n",
       "      <td>FR</td>\n",
       "    </tr>\n",
       "    <tr>\n",
       "      <th>845874</th>\n",
       "      <td>84175.0</td>\n",
       "      <td>MADAME</td>\n",
       "      <td>7/04/1950 0:00:00</td>\n",
       "      <td>GAI</td>\n",
       "      <td>29/10/2002 0:00:00</td>\n",
       "      <td>7/01/2018 0:00:00</td>\n",
       "      <td>31/01/2019 0:00:00</td>\n",
       "      <td>0</td>\n",
       "      <td>74082</td>\n",
       "      <td>FR</td>\n",
       "    </tr>\n",
       "    <tr>\n",
       "      <th>845875</th>\n",
       "      <td>1280004.0</td>\n",
       "      <td>MONSIEUR</td>\n",
       "      <td>NaN</td>\n",
       "      <td>SGL</td>\n",
       "      <td>23/06/2007 0:00:00</td>\n",
       "      <td>7/01/2018 0:00:00</td>\n",
       "      <td>31/01/2019 0:00:00</td>\n",
       "      <td>0</td>\n",
       "      <td>42218</td>\n",
       "      <td>FR</td>\n",
       "    </tr>\n",
       "  </tbody>\n",
       "</table>\n",
       "<p>845876 rows × 10 columns</p>\n",
       "</div>"
      ],
      "text/plain": [
       "         IDCLIENT  CIVILITE       DATENAISSANCE MAGASIN   DATEDEBUTADHESION  \\\n",
       "0        155891.0    MADAME                 NaN     VLG  13/05/2005 0:00:00   \n",
       "1        156023.0  MONSIEUR   7/08/1966 0:00:00     VLG  14/05/2005 0:00:00   \n",
       "2        124203.0    MADAME                 NaN     BEA  16/03/2005 0:00:00   \n",
       "3        156190.0    MADAME  24/07/1976 0:00:00     SUR  28/08/2006 0:00:00   \n",
       "4        144444.0  MONSIEUR                 NaN     LAB  29/04/2006 0:00:00   \n",
       "...           ...       ...                 ...     ...                 ...   \n",
       "845871  1970111.0  MONSIEUR                 NaN     IAB  14/04/2011 0:00:00   \n",
       "845872  2297275.0  MONSIEUR   6/02/1988 0:00:00     SEM   7/03/2013 0:00:00   \n",
       "845873  2305548.0  MONSIEUR                 NaN     PRI  22/03/2013 0:00:00   \n",
       "845874    84175.0    MADAME   7/04/1950 0:00:00     GAI  29/10/2002 0:00:00   \n",
       "845875  1280004.0  MONSIEUR                 NaN     SGL  23/06/2007 0:00:00   \n",
       "\n",
       "            DATEREADHESION     DATEFINADHESION  VIP CODEINSEE PAYS  \n",
       "0        4/04/2017 0:00:00  30/04/2018 0:00:00    0     74224   FR  \n",
       "1       21/06/2014 0:00:00  30/06/2016 0:00:00    0     74189   FR  \n",
       "2       12/10/2017 0:00:00  31/10/2018 0:00:00    0     63070   FR  \n",
       "3       24/05/2015 0:00:00  31/05/2016 0:00:00    0     92026   FR  \n",
       "4       18/12/2016 0:00:00  31/12/2017 0:00:00    0     31555   FR  \n",
       "...                    ...                 ...  ...       ...  ...  \n",
       "845871   6/01/2018 0:00:00  31/01/2019 0:00:00    0     38053   FR  \n",
       "845872   6/01/2018 0:00:00  31/01/2019 0:00:00    0     57067   FR  \n",
       "845873   6/01/2018 0:00:00  31/01/2019 0:00:00    0     38318   FR  \n",
       "845874   7/01/2018 0:00:00  31/01/2019 0:00:00    0     74082   FR  \n",
       "845875   7/01/2018 0:00:00  31/01/2019 0:00:00    0     42218   FR  \n",
       "\n",
       "[845876 rows x 10 columns]"
      ]
     },
     "execution_count": 4,
     "metadata": {},
     "output_type": "execute_result"
    }
   ],
   "source": [
    "data1"
   ]
  },
  {
   "cell_type": "code",
   "execution_count": 5,
   "id": "fa8125e1",
   "metadata": {
    "ExecuteTime": {
     "end_time": "2024-05-28T08:25:20.181809Z",
     "start_time": "2024-05-28T08:25:20.086165Z"
    }
   },
   "outputs": [
    {
     "name": "stdout",
     "output_type": "stream",
     "text": [
      "<class 'pandas.core.frame.DataFrame'>\n",
      "RangeIndex: 845876 entries, 0 to 845875\n",
      "Data columns (total 10 columns):\n",
      " #   Column             Non-Null Count   Dtype  \n",
      "---  ------             --------------   -----  \n",
      " 0   IDCLIENT           845876 non-null  float64\n",
      " 1   CIVILITE           845876 non-null  object \n",
      " 2   DATENAISSANCE      507902 non-null  object \n",
      " 3   MAGASIN            845876 non-null  object \n",
      " 4   DATEDEBUTADHESION  845876 non-null  object \n",
      " 5   DATEREADHESION     507816 non-null  object \n",
      " 6   DATEFINADHESION    845876 non-null  object \n",
      " 7   VIP                845876 non-null  int64  \n",
      " 8   CODEINSEE          818455 non-null  object \n",
      " 9   PAYS               845873 non-null  object \n",
      "dtypes: float64(1), int64(1), object(8)\n",
      "memory usage: 64.5+ MB\n",
      "None\n"
     ]
    }
   ],
   "source": [
    "print(data1.info())"
   ]
  },
  {
   "cell_type": "markdown",
   "id": "64bfb163",
   "metadata": {},
   "source": [
    "Nous allons procéder à la suppression des clients VIP, qui ont un comportement atypique qui viendra biaiser nos résultats."
   ]
  },
  {
   "cell_type": "code",
   "execution_count": 6,
   "id": "60d953d0",
   "metadata": {
    "ExecuteTime": {
     "end_time": "2024-05-28T08:25:21.569516Z",
     "start_time": "2024-05-28T08:25:21.538713Z"
    }
   },
   "outputs": [
    {
     "name": "stdout",
     "output_type": "stream",
     "text": [
      "(735425, 10)\n"
     ]
    }
   ],
   "source": [
    "# Supprimer les lignes où la valeur de la colonne 'VIP' est égale à 1\n",
    "data1 = data1[data1['VIP'] != 1]\n",
    "\n",
    "# Vérifier la nouvelle forme du DataFrame\n",
    "print(data1.shape)"
   ]
  },
  {
   "cell_type": "code",
   "execution_count": 7,
   "id": "b06b7386",
   "metadata": {
    "ExecuteTime": {
     "end_time": "2024-05-28T08:25:22.417537Z",
     "start_time": "2024-05-28T08:25:22.383139Z"
    }
   },
   "outputs": [],
   "source": [
    "data1 = data1.drop(\"VIP\",axis=1)"
   ]
  },
  {
   "cell_type": "markdown",
   "id": "3c0fa210",
   "metadata": {},
   "source": [
    "Vérification du traitement."
   ]
  },
  {
   "cell_type": "code",
   "execution_count": 8,
   "id": "a4807d45",
   "metadata": {
    "ExecuteTime": {
     "end_time": "2024-05-28T08:25:23.645840Z",
     "start_time": "2024-05-28T08:25:23.640691Z"
    }
   },
   "outputs": [
    {
     "data": {
      "text/html": [
       "<div>\n",
       "<style scoped>\n",
       "    .dataframe tbody tr th:only-of-type {\n",
       "        vertical-align: middle;\n",
       "    }\n",
       "\n",
       "    .dataframe tbody tr th {\n",
       "        vertical-align: top;\n",
       "    }\n",
       "\n",
       "    .dataframe thead th {\n",
       "        text-align: right;\n",
       "    }\n",
       "</style>\n",
       "<table border=\"1\" class=\"dataframe\">\n",
       "  <thead>\n",
       "    <tr style=\"text-align: right;\">\n",
       "      <th></th>\n",
       "      <th>IDCLIENT</th>\n",
       "      <th>CIVILITE</th>\n",
       "      <th>DATENAISSANCE</th>\n",
       "      <th>MAGASIN</th>\n",
       "      <th>DATEDEBUTADHESION</th>\n",
       "      <th>DATEREADHESION</th>\n",
       "      <th>DATEFINADHESION</th>\n",
       "      <th>CODEINSEE</th>\n",
       "      <th>PAYS</th>\n",
       "    </tr>\n",
       "  </thead>\n",
       "  <tbody>\n",
       "    <tr>\n",
       "      <th>0</th>\n",
       "      <td>155891.0</td>\n",
       "      <td>MADAME</td>\n",
       "      <td>NaN</td>\n",
       "      <td>VLG</td>\n",
       "      <td>13/05/2005 0:00:00</td>\n",
       "      <td>4/04/2017 0:00:00</td>\n",
       "      <td>30/04/2018 0:00:00</td>\n",
       "      <td>74224</td>\n",
       "      <td>FR</td>\n",
       "    </tr>\n",
       "    <tr>\n",
       "      <th>1</th>\n",
       "      <td>156023.0</td>\n",
       "      <td>MONSIEUR</td>\n",
       "      <td>7/08/1966 0:00:00</td>\n",
       "      <td>VLG</td>\n",
       "      <td>14/05/2005 0:00:00</td>\n",
       "      <td>21/06/2014 0:00:00</td>\n",
       "      <td>30/06/2016 0:00:00</td>\n",
       "      <td>74189</td>\n",
       "      <td>FR</td>\n",
       "    </tr>\n",
       "    <tr>\n",
       "      <th>2</th>\n",
       "      <td>124203.0</td>\n",
       "      <td>MADAME</td>\n",
       "      <td>NaN</td>\n",
       "      <td>BEA</td>\n",
       "      <td>16/03/2005 0:00:00</td>\n",
       "      <td>12/10/2017 0:00:00</td>\n",
       "      <td>31/10/2018 0:00:00</td>\n",
       "      <td>63070</td>\n",
       "      <td>FR</td>\n",
       "    </tr>\n",
       "    <tr>\n",
       "      <th>3</th>\n",
       "      <td>156190.0</td>\n",
       "      <td>MADAME</td>\n",
       "      <td>24/07/1976 0:00:00</td>\n",
       "      <td>SUR</td>\n",
       "      <td>28/08/2006 0:00:00</td>\n",
       "      <td>24/05/2015 0:00:00</td>\n",
       "      <td>31/05/2016 0:00:00</td>\n",
       "      <td>92026</td>\n",
       "      <td>FR</td>\n",
       "    </tr>\n",
       "    <tr>\n",
       "      <th>4</th>\n",
       "      <td>144444.0</td>\n",
       "      <td>MONSIEUR</td>\n",
       "      <td>NaN</td>\n",
       "      <td>LAB</td>\n",
       "      <td>29/04/2006 0:00:00</td>\n",
       "      <td>18/12/2016 0:00:00</td>\n",
       "      <td>31/12/2017 0:00:00</td>\n",
       "      <td>31555</td>\n",
       "      <td>FR</td>\n",
       "    </tr>\n",
       "    <tr>\n",
       "      <th>...</th>\n",
       "      <td>...</td>\n",
       "      <td>...</td>\n",
       "      <td>...</td>\n",
       "      <td>...</td>\n",
       "      <td>...</td>\n",
       "      <td>...</td>\n",
       "      <td>...</td>\n",
       "      <td>...</td>\n",
       "      <td>...</td>\n",
       "    </tr>\n",
       "    <tr>\n",
       "      <th>845871</th>\n",
       "      <td>1970111.0</td>\n",
       "      <td>MONSIEUR</td>\n",
       "      <td>NaN</td>\n",
       "      <td>IAB</td>\n",
       "      <td>14/04/2011 0:00:00</td>\n",
       "      <td>6/01/2018 0:00:00</td>\n",
       "      <td>31/01/2019 0:00:00</td>\n",
       "      <td>38053</td>\n",
       "      <td>FR</td>\n",
       "    </tr>\n",
       "    <tr>\n",
       "      <th>845872</th>\n",
       "      <td>2297275.0</td>\n",
       "      <td>MONSIEUR</td>\n",
       "      <td>6/02/1988 0:00:00</td>\n",
       "      <td>SEM</td>\n",
       "      <td>7/03/2013 0:00:00</td>\n",
       "      <td>6/01/2018 0:00:00</td>\n",
       "      <td>31/01/2019 0:00:00</td>\n",
       "      <td>57067</td>\n",
       "      <td>FR</td>\n",
       "    </tr>\n",
       "    <tr>\n",
       "      <th>845873</th>\n",
       "      <td>2305548.0</td>\n",
       "      <td>MONSIEUR</td>\n",
       "      <td>NaN</td>\n",
       "      <td>PRI</td>\n",
       "      <td>22/03/2013 0:00:00</td>\n",
       "      <td>6/01/2018 0:00:00</td>\n",
       "      <td>31/01/2019 0:00:00</td>\n",
       "      <td>38318</td>\n",
       "      <td>FR</td>\n",
       "    </tr>\n",
       "    <tr>\n",
       "      <th>845874</th>\n",
       "      <td>84175.0</td>\n",
       "      <td>MADAME</td>\n",
       "      <td>7/04/1950 0:00:00</td>\n",
       "      <td>GAI</td>\n",
       "      <td>29/10/2002 0:00:00</td>\n",
       "      <td>7/01/2018 0:00:00</td>\n",
       "      <td>31/01/2019 0:00:00</td>\n",
       "      <td>74082</td>\n",
       "      <td>FR</td>\n",
       "    </tr>\n",
       "    <tr>\n",
       "      <th>845875</th>\n",
       "      <td>1280004.0</td>\n",
       "      <td>MONSIEUR</td>\n",
       "      <td>NaN</td>\n",
       "      <td>SGL</td>\n",
       "      <td>23/06/2007 0:00:00</td>\n",
       "      <td>7/01/2018 0:00:00</td>\n",
       "      <td>31/01/2019 0:00:00</td>\n",
       "      <td>42218</td>\n",
       "      <td>FR</td>\n",
       "    </tr>\n",
       "  </tbody>\n",
       "</table>\n",
       "<p>735425 rows × 9 columns</p>\n",
       "</div>"
      ],
      "text/plain": [
       "         IDCLIENT  CIVILITE       DATENAISSANCE MAGASIN   DATEDEBUTADHESION  \\\n",
       "0        155891.0    MADAME                 NaN     VLG  13/05/2005 0:00:00   \n",
       "1        156023.0  MONSIEUR   7/08/1966 0:00:00     VLG  14/05/2005 0:00:00   \n",
       "2        124203.0    MADAME                 NaN     BEA  16/03/2005 0:00:00   \n",
       "3        156190.0    MADAME  24/07/1976 0:00:00     SUR  28/08/2006 0:00:00   \n",
       "4        144444.0  MONSIEUR                 NaN     LAB  29/04/2006 0:00:00   \n",
       "...           ...       ...                 ...     ...                 ...   \n",
       "845871  1970111.0  MONSIEUR                 NaN     IAB  14/04/2011 0:00:00   \n",
       "845872  2297275.0  MONSIEUR   6/02/1988 0:00:00     SEM   7/03/2013 0:00:00   \n",
       "845873  2305548.0  MONSIEUR                 NaN     PRI  22/03/2013 0:00:00   \n",
       "845874    84175.0    MADAME   7/04/1950 0:00:00     GAI  29/10/2002 0:00:00   \n",
       "845875  1280004.0  MONSIEUR                 NaN     SGL  23/06/2007 0:00:00   \n",
       "\n",
       "            DATEREADHESION     DATEFINADHESION CODEINSEE PAYS  \n",
       "0        4/04/2017 0:00:00  30/04/2018 0:00:00     74224   FR  \n",
       "1       21/06/2014 0:00:00  30/06/2016 0:00:00     74189   FR  \n",
       "2       12/10/2017 0:00:00  31/10/2018 0:00:00     63070   FR  \n",
       "3       24/05/2015 0:00:00  31/05/2016 0:00:00     92026   FR  \n",
       "4       18/12/2016 0:00:00  31/12/2017 0:00:00     31555   FR  \n",
       "...                    ...                 ...       ...  ...  \n",
       "845871   6/01/2018 0:00:00  31/01/2019 0:00:00     38053   FR  \n",
       "845872   6/01/2018 0:00:00  31/01/2019 0:00:00     57067   FR  \n",
       "845873   6/01/2018 0:00:00  31/01/2019 0:00:00     38318   FR  \n",
       "845874   7/01/2018 0:00:00  31/01/2019 0:00:00     74082   FR  \n",
       "845875   7/01/2018 0:00:00  31/01/2019 0:00:00     42218   FR  \n",
       "\n",
       "[735425 rows x 9 columns]"
      ]
     },
     "execution_count": 8,
     "metadata": {},
     "output_type": "execute_result"
    }
   ],
   "source": [
    "data1"
   ]
  },
  {
   "cell_type": "markdown",
   "id": "ce718583",
   "metadata": {},
   "source": [
    "La ligne de code ci-dessous nous permet de formater le format de la date."
   ]
  },
  {
   "cell_type": "code",
   "execution_count": 9,
   "id": "c4786387",
   "metadata": {
    "ExecuteTime": {
     "end_time": "2024-05-28T08:25:30.184714Z",
     "start_time": "2024-05-28T08:25:25.031896Z"
    }
   },
   "outputs": [],
   "source": [
    "# Adapter le format de date pour les colonnes spécifiées\n",
    "date_columns = ['DATENAISSANCE', 'DATEDEBUTADHESION', 'DATEREADHESION', 'DATEFINADHESION']\n",
    "for col in date_columns:\n",
    "    data1[col] = pd.to_datetime(data1[col], format='%d/%m/%Y %H:%M:%S',errors = 'coerce').dt.strftime('%d/%m/%Y')"
   ]
  },
  {
   "cell_type": "markdown",
   "id": "847b5efe",
   "metadata": {},
   "source": [
    "Vérification du traitement."
   ]
  },
  {
   "cell_type": "code",
   "execution_count": 10,
   "id": "b2214242",
   "metadata": {
    "ExecuteTime": {
     "end_time": "2024-05-28T08:25:31.885744Z",
     "start_time": "2024-05-28T08:25:31.880164Z"
    }
   },
   "outputs": [
    {
     "data": {
      "text/html": [
       "<div>\n",
       "<style scoped>\n",
       "    .dataframe tbody tr th:only-of-type {\n",
       "        vertical-align: middle;\n",
       "    }\n",
       "\n",
       "    .dataframe tbody tr th {\n",
       "        vertical-align: top;\n",
       "    }\n",
       "\n",
       "    .dataframe thead th {\n",
       "        text-align: right;\n",
       "    }\n",
       "</style>\n",
       "<table border=\"1\" class=\"dataframe\">\n",
       "  <thead>\n",
       "    <tr style=\"text-align: right;\">\n",
       "      <th></th>\n",
       "      <th>IDCLIENT</th>\n",
       "      <th>CIVILITE</th>\n",
       "      <th>DATENAISSANCE</th>\n",
       "      <th>MAGASIN</th>\n",
       "      <th>DATEDEBUTADHESION</th>\n",
       "      <th>DATEREADHESION</th>\n",
       "      <th>DATEFINADHESION</th>\n",
       "      <th>CODEINSEE</th>\n",
       "      <th>PAYS</th>\n",
       "    </tr>\n",
       "  </thead>\n",
       "  <tbody>\n",
       "    <tr>\n",
       "      <th>0</th>\n",
       "      <td>155891.0</td>\n",
       "      <td>MADAME</td>\n",
       "      <td>NaN</td>\n",
       "      <td>VLG</td>\n",
       "      <td>13/05/2005</td>\n",
       "      <td>04/04/2017</td>\n",
       "      <td>30/04/2018</td>\n",
       "      <td>74224</td>\n",
       "      <td>FR</td>\n",
       "    </tr>\n",
       "    <tr>\n",
       "      <th>1</th>\n",
       "      <td>156023.0</td>\n",
       "      <td>MONSIEUR</td>\n",
       "      <td>07/08/1966</td>\n",
       "      <td>VLG</td>\n",
       "      <td>14/05/2005</td>\n",
       "      <td>21/06/2014</td>\n",
       "      <td>30/06/2016</td>\n",
       "      <td>74189</td>\n",
       "      <td>FR</td>\n",
       "    </tr>\n",
       "    <tr>\n",
       "      <th>2</th>\n",
       "      <td>124203.0</td>\n",
       "      <td>MADAME</td>\n",
       "      <td>NaN</td>\n",
       "      <td>BEA</td>\n",
       "      <td>16/03/2005</td>\n",
       "      <td>12/10/2017</td>\n",
       "      <td>31/10/2018</td>\n",
       "      <td>63070</td>\n",
       "      <td>FR</td>\n",
       "    </tr>\n",
       "    <tr>\n",
       "      <th>3</th>\n",
       "      <td>156190.0</td>\n",
       "      <td>MADAME</td>\n",
       "      <td>24/07/1976</td>\n",
       "      <td>SUR</td>\n",
       "      <td>28/08/2006</td>\n",
       "      <td>24/05/2015</td>\n",
       "      <td>31/05/2016</td>\n",
       "      <td>92026</td>\n",
       "      <td>FR</td>\n",
       "    </tr>\n",
       "    <tr>\n",
       "      <th>4</th>\n",
       "      <td>144444.0</td>\n",
       "      <td>MONSIEUR</td>\n",
       "      <td>NaN</td>\n",
       "      <td>LAB</td>\n",
       "      <td>29/04/2006</td>\n",
       "      <td>18/12/2016</td>\n",
       "      <td>31/12/2017</td>\n",
       "      <td>31555</td>\n",
       "      <td>FR</td>\n",
       "    </tr>\n",
       "    <tr>\n",
       "      <th>...</th>\n",
       "      <td>...</td>\n",
       "      <td>...</td>\n",
       "      <td>...</td>\n",
       "      <td>...</td>\n",
       "      <td>...</td>\n",
       "      <td>...</td>\n",
       "      <td>...</td>\n",
       "      <td>...</td>\n",
       "      <td>...</td>\n",
       "    </tr>\n",
       "    <tr>\n",
       "      <th>845871</th>\n",
       "      <td>1970111.0</td>\n",
       "      <td>MONSIEUR</td>\n",
       "      <td>NaN</td>\n",
       "      <td>IAB</td>\n",
       "      <td>14/04/2011</td>\n",
       "      <td>06/01/2018</td>\n",
       "      <td>31/01/2019</td>\n",
       "      <td>38053</td>\n",
       "      <td>FR</td>\n",
       "    </tr>\n",
       "    <tr>\n",
       "      <th>845872</th>\n",
       "      <td>2297275.0</td>\n",
       "      <td>MONSIEUR</td>\n",
       "      <td>06/02/1988</td>\n",
       "      <td>SEM</td>\n",
       "      <td>07/03/2013</td>\n",
       "      <td>06/01/2018</td>\n",
       "      <td>31/01/2019</td>\n",
       "      <td>57067</td>\n",
       "      <td>FR</td>\n",
       "    </tr>\n",
       "    <tr>\n",
       "      <th>845873</th>\n",
       "      <td>2305548.0</td>\n",
       "      <td>MONSIEUR</td>\n",
       "      <td>NaN</td>\n",
       "      <td>PRI</td>\n",
       "      <td>22/03/2013</td>\n",
       "      <td>06/01/2018</td>\n",
       "      <td>31/01/2019</td>\n",
       "      <td>38318</td>\n",
       "      <td>FR</td>\n",
       "    </tr>\n",
       "    <tr>\n",
       "      <th>845874</th>\n",
       "      <td>84175.0</td>\n",
       "      <td>MADAME</td>\n",
       "      <td>07/04/1950</td>\n",
       "      <td>GAI</td>\n",
       "      <td>29/10/2002</td>\n",
       "      <td>07/01/2018</td>\n",
       "      <td>31/01/2019</td>\n",
       "      <td>74082</td>\n",
       "      <td>FR</td>\n",
       "    </tr>\n",
       "    <tr>\n",
       "      <th>845875</th>\n",
       "      <td>1280004.0</td>\n",
       "      <td>MONSIEUR</td>\n",
       "      <td>NaN</td>\n",
       "      <td>SGL</td>\n",
       "      <td>23/06/2007</td>\n",
       "      <td>07/01/2018</td>\n",
       "      <td>31/01/2019</td>\n",
       "      <td>42218</td>\n",
       "      <td>FR</td>\n",
       "    </tr>\n",
       "  </tbody>\n",
       "</table>\n",
       "<p>735425 rows × 9 columns</p>\n",
       "</div>"
      ],
      "text/plain": [
       "         IDCLIENT  CIVILITE DATENAISSANCE MAGASIN DATEDEBUTADHESION  \\\n",
       "0        155891.0    MADAME           NaN     VLG        13/05/2005   \n",
       "1        156023.0  MONSIEUR    07/08/1966     VLG        14/05/2005   \n",
       "2        124203.0    MADAME           NaN     BEA        16/03/2005   \n",
       "3        156190.0    MADAME    24/07/1976     SUR        28/08/2006   \n",
       "4        144444.0  MONSIEUR           NaN     LAB        29/04/2006   \n",
       "...           ...       ...           ...     ...               ...   \n",
       "845871  1970111.0  MONSIEUR           NaN     IAB        14/04/2011   \n",
       "845872  2297275.0  MONSIEUR    06/02/1988     SEM        07/03/2013   \n",
       "845873  2305548.0  MONSIEUR           NaN     PRI        22/03/2013   \n",
       "845874    84175.0    MADAME    07/04/1950     GAI        29/10/2002   \n",
       "845875  1280004.0  MONSIEUR           NaN     SGL        23/06/2007   \n",
       "\n",
       "       DATEREADHESION DATEFINADHESION CODEINSEE PAYS  \n",
       "0          04/04/2017      30/04/2018     74224   FR  \n",
       "1          21/06/2014      30/06/2016     74189   FR  \n",
       "2          12/10/2017      31/10/2018     63070   FR  \n",
       "3          24/05/2015      31/05/2016     92026   FR  \n",
       "4          18/12/2016      31/12/2017     31555   FR  \n",
       "...               ...             ...       ...  ...  \n",
       "845871     06/01/2018      31/01/2019     38053   FR  \n",
       "845872     06/01/2018      31/01/2019     57067   FR  \n",
       "845873     06/01/2018      31/01/2019     38318   FR  \n",
       "845874     07/01/2018      31/01/2019     74082   FR  \n",
       "845875     07/01/2018      31/01/2019     42218   FR  \n",
       "\n",
       "[735425 rows x 9 columns]"
      ]
     },
     "execution_count": 10,
     "metadata": {},
     "output_type": "execute_result"
    }
   ],
   "source": [
    "data1"
   ]
  },
  {
   "cell_type": "markdown",
   "id": "3c840f6e",
   "metadata": {},
   "source": [
    "Cette ligne de code nous permet d'identifier le nombre d'occurence de chaque civilité, pour identifier les éventuels regroupements à effectuer. "
   ]
  },
  {
   "cell_type": "code",
   "execution_count": 11,
   "id": "ecd3bd49",
   "metadata": {
    "ExecuteTime": {
     "end_time": "2024-05-28T08:25:36.246020Z",
     "start_time": "2024-05-28T08:25:36.235824Z"
    }
   },
   "outputs": [
    {
     "data": {
      "text/plain": [
       "CIVILITE\n",
       "MADAME      393703\n",
       "MONSIEUR    337360\n",
       "Mr            1431\n",
       "Mme           1284\n",
       "madame         976\n",
       "monsieur       671\n",
       "Name: count, dtype: int64"
      ]
     },
     "execution_count": 11,
     "metadata": {},
     "output_type": "execute_result"
    }
   ],
   "source": [
    "#modalités variables:\n",
    "data1['CIVILITE'].value_counts(dropna = False)"
   ]
  },
  {
   "cell_type": "markdown",
   "id": "53102ac2",
   "metadata": {},
   "source": [
    "Il convient de procéder aux regroupements ci-dessous."
   ]
  },
  {
   "cell_type": "code",
   "execution_count": 12,
   "id": "8c76989e",
   "metadata": {
    "ExecuteTime": {
     "end_time": "2024-05-28T08:25:38.400272Z",
     "start_time": "2024-05-28T08:25:38.242654Z"
    }
   },
   "outputs": [],
   "source": [
    "#regroupement des modalités:\n",
    "data1['CIVILITE']=np.where(data1['CIVILITE'] =='MADAME', 'Madame', data1['CIVILITE']) \n",
    "data1['CIVILITE']=np.where(data1['CIVILITE'] =='Mme', 'Madame', data1['CIVILITE'])\n",
    "data1['CIVILITE']=np.where(data1['CIVILITE'] =='madame', 'Madame', data1['CIVILITE']) \n",
    "data1['CIVILITE']=np.where(data1['CIVILITE'] =='MONSIEUR', 'Monsieur', data1['CIVILITE'])\n",
    "data1['CIVILITE']=np.where(data1['CIVILITE'] =='Mr', 'Monsieur', data1['CIVILITE'])\n",
    "data1['CIVILITE']=np.where(data1['CIVILITE'] =='monsieur', 'Monsieur', data1['CIVILITE'])"
   ]
  },
  {
   "cell_type": "markdown",
   "id": "d93dcbaa",
   "metadata": {},
   "source": [
    "Vérification du traitement."
   ]
  },
  {
   "cell_type": "code",
   "execution_count": 13,
   "id": "2dad47ad",
   "metadata": {
    "ExecuteTime": {
     "end_time": "2024-05-28T08:25:40.881915Z",
     "start_time": "2024-05-28T08:25:40.872559Z"
    }
   },
   "outputs": [
    {
     "data": {
      "text/plain": [
       "CIVILITE\n",
       "Madame      395963\n",
       "Monsieur    339462\n",
       "Name: count, dtype: int64"
      ]
     },
     "execution_count": 13,
     "metadata": {},
     "output_type": "execute_result"
    }
   ],
   "source": [
    "data1['CIVILITE'].value_counts(dropna = False)"
   ]
  },
  {
   "cell_type": "markdown",
   "id": "ed7e36d3",
   "metadata": {},
   "source": [
    "Cette ligne de code nous permet d'identifier le nombre d'occurence de chaque magasin, pour identifier les éventuels regroupements à effectuer."
   ]
  },
  {
   "cell_type": "code",
   "execution_count": 14,
   "id": "78e74a0e",
   "metadata": {
    "ExecuteTime": {
     "end_time": "2024-05-28T08:03:29.708765Z",
     "start_time": "2024-05-28T08:03:29.698981Z"
    }
   },
   "outputs": [
    {
     "data": {
      "text/plain": [
       "MAGASIN\n",
       "PRI    23963\n",
       "SEY    23572\n",
       "VIB    22223\n",
       "SUR    20923\n",
       "MOU    20887\n",
       "       ...  \n",
       "VIV     3187\n",
       "SAL     2836\n",
       "STR     2667\n",
       "EST     1145\n",
       "BAR     1039\n",
       "Name: count, Length: 67, dtype: int64"
      ]
     },
     "execution_count": 14,
     "metadata": {},
     "output_type": "execute_result"
    }
   ],
   "source": [
    "data1['MAGASIN'].value_counts(dropna = False)"
   ]
  },
  {
   "cell_type": "markdown",
   "id": "d1da1653",
   "metadata": {},
   "source": [
    "Les données à traiter concernant la France, la série de code ci-dessous nous permet de ne conserver que ce pays."
   ]
  },
  {
   "cell_type": "code",
   "execution_count": 15,
   "id": "2c661734",
   "metadata": {
    "ExecuteTime": {
     "end_time": "2024-05-28T08:03:31.304961Z",
     "start_time": "2024-05-28T08:03:31.248100Z"
    }
   },
   "outputs": [],
   "source": [
    "# Filtrer les lignes pour ne garder que celles avec \"France\" dans la colonne \"Pays\"\n",
    "data1 = data1[data1['PAYS'] == 'FR']\n",
    "\n",
    "# Réindexer le DataFrame après avoir filtré les lignes\n",
    "data1.reset_index(drop=True, inplace=True)"
   ]
  },
  {
   "cell_type": "code",
   "execution_count": 16,
   "id": "a0b39694",
   "metadata": {
    "ExecuteTime": {
     "end_time": "2024-05-28T08:03:32.496675Z",
     "start_time": "2024-05-28T08:03:32.488693Z"
    }
   },
   "outputs": [
    {
     "data": {
      "text/plain": [
       "PAYS\n",
       "FR    720090\n",
       "Name: count, dtype: int64"
      ]
     },
     "execution_count": 16,
     "metadata": {},
     "output_type": "execute_result"
    }
   ],
   "source": [
    "data1['PAYS'].value_counts(dropna = False)"
   ]
  },
  {
   "cell_type": "markdown",
   "id": "c74364a5",
   "metadata": {},
   "source": [
    "La serie de codes ci-dessous nous permet de traiter la date de naissance des clients afin d'en déterminer l'âge puis des tranches d'âges."
   ]
  },
  {
   "cell_type": "code",
   "execution_count": null,
   "id": "5571de9f4a0c952e",
   "metadata": {
    "ExecuteTime": {
     "end_time": "2024-05-28T08:03:34.456028Z",
     "start_time": "2024-05-28T08:03:34.136065Z"
    }
   },
   "outputs": [],
   "source": [
    "#Convertir la colonne de date de naissance en objet datetime :\n",
    "\n",
    "data1['DATENAISSANCE'] = pd.to_datetime(data1['DATENAISSANCE'],errors = 'coerce')\n",
    "\n",
    "#En créer une nouvelle colonne pour l'âge en calculant la différence entre la date actuelle et la date de naissance :\n",
    "\n",
    "from datetime import datetime\n",
    "today = datetime.today()\n",
    "data1['AGE'] = today.year - data1['DATENAISSANCE'].dt.year\n",
    "#Discrétiser l'âge en créant des catégories d'âge. Par exemple, diviser en groupes d'âge :\n",
    "bins = [18, 30, 45, 60, 100]\n",
    "data1['AGE_GROUP'] = pd.cut(data1['AGE'], bins, labels=['AGE DE 18-30', 'AGE DE 31-45', 'AGE DE 46-60', 'AGE DE 61-100'])"
   ]
  },
  {
   "cell_type": "markdown",
   "id": "245f4b4a",
   "metadata": {},
   "source": [
    "Vérification du traitement."
   ]
  },
  {
   "cell_type": "code",
   "execution_count": 18,
   "id": "23038b65",
   "metadata": {
    "ExecuteTime": {
     "end_time": "2024-05-28T08:03:55.350071Z",
     "start_time": "2024-05-28T08:03:55.342218Z"
    }
   },
   "outputs": [
    {
     "data": {
      "text/plain": [
       "AGE_GROUP\n",
       "NaN              548518\n",
       "AGE DE 61-100     67546\n",
       "AGE DE 46-60      57057\n",
       "AGE DE 31-45      42700\n",
       "AGE DE 18-30       4269\n",
       "Name: count, dtype: int64"
      ]
     },
     "execution_count": 18,
     "metadata": {},
     "output_type": "execute_result"
    }
   ],
   "source": [
    "data1['AGE_GROUP'].value_counts(dropna = False)"
   ]
  },
  {
   "cell_type": "markdown",
   "id": "f7d42d2c",
   "metadata": {},
   "source": [
    "Après ce traitement, il convient de renommer la variable concernée."
   ]
  },
  {
   "cell_type": "code",
   "execution_count": 19,
   "id": "8e17b412",
   "metadata": {
    "ExecuteTime": {
     "end_time": "2024-05-28T08:04:00.521865Z",
     "start_time": "2024-05-28T08:04:00.420391Z"
    }
   },
   "outputs": [],
   "source": [
    "# Renommer la colonne 'DATENAISSANCE' en 'AGE'\n",
    "data1 = data1.rename(columns={'DATENAISSANCE': 'AGE'})"
   ]
  },
  {
   "cell_type": "markdown",
   "id": "c4d8e887",
   "metadata": {},
   "source": [
    "Vérification du traitement."
   ]
  },
  {
   "cell_type": "code",
   "execution_count": 20,
   "id": "014bf46c",
   "metadata": {
    "ExecuteTime": {
     "end_time": "2024-05-28T08:04:02.822766Z",
     "start_time": "2024-05-28T08:04:02.814670Z"
    }
   },
   "outputs": [
    {
     "data": {
      "text/html": [
       "<div>\n",
       "<style scoped>\n",
       "    .dataframe tbody tr th:only-of-type {\n",
       "        vertical-align: middle;\n",
       "    }\n",
       "\n",
       "    .dataframe tbody tr th {\n",
       "        vertical-align: top;\n",
       "    }\n",
       "\n",
       "    .dataframe thead th {\n",
       "        text-align: right;\n",
       "    }\n",
       "</style>\n",
       "<table border=\"1\" class=\"dataframe\">\n",
       "  <thead>\n",
       "    <tr style=\"text-align: right;\">\n",
       "      <th></th>\n",
       "      <th>IDCLIENT</th>\n",
       "      <th>CIVILITE</th>\n",
       "      <th>AGE</th>\n",
       "      <th>MAGASIN</th>\n",
       "      <th>DATEDEBUTADHESION</th>\n",
       "      <th>DATEREADHESION</th>\n",
       "      <th>DATEFINADHESION</th>\n",
       "      <th>CODEINSEE</th>\n",
       "      <th>PAYS</th>\n",
       "      <th>AGE</th>\n",
       "      <th>AGE_GROUP</th>\n",
       "    </tr>\n",
       "  </thead>\n",
       "  <tbody>\n",
       "    <tr>\n",
       "      <th>0</th>\n",
       "      <td>155891.0</td>\n",
       "      <td>Madame</td>\n",
       "      <td>NaT</td>\n",
       "      <td>VLG</td>\n",
       "      <td>13/05/2005</td>\n",
       "      <td>04/04/2017</td>\n",
       "      <td>30/04/2018</td>\n",
       "      <td>74224</td>\n",
       "      <td>FR</td>\n",
       "      <td>NaN</td>\n",
       "      <td>NaN</td>\n",
       "    </tr>\n",
       "    <tr>\n",
       "      <th>1</th>\n",
       "      <td>156023.0</td>\n",
       "      <td>Monsieur</td>\n",
       "      <td>1966-07-08</td>\n",
       "      <td>VLG</td>\n",
       "      <td>14/05/2005</td>\n",
       "      <td>21/06/2014</td>\n",
       "      <td>30/06/2016</td>\n",
       "      <td>74189</td>\n",
       "      <td>FR</td>\n",
       "      <td>58.0</td>\n",
       "      <td>AGE DE 46-60</td>\n",
       "    </tr>\n",
       "    <tr>\n",
       "      <th>2</th>\n",
       "      <td>124203.0</td>\n",
       "      <td>Madame</td>\n",
       "      <td>NaT</td>\n",
       "      <td>BEA</td>\n",
       "      <td>16/03/2005</td>\n",
       "      <td>12/10/2017</td>\n",
       "      <td>31/10/2018</td>\n",
       "      <td>63070</td>\n",
       "      <td>FR</td>\n",
       "      <td>NaN</td>\n",
       "      <td>NaN</td>\n",
       "    </tr>\n",
       "    <tr>\n",
       "      <th>3</th>\n",
       "      <td>156190.0</td>\n",
       "      <td>Madame</td>\n",
       "      <td>NaT</td>\n",
       "      <td>SUR</td>\n",
       "      <td>28/08/2006</td>\n",
       "      <td>24/05/2015</td>\n",
       "      <td>31/05/2016</td>\n",
       "      <td>92026</td>\n",
       "      <td>FR</td>\n",
       "      <td>NaN</td>\n",
       "      <td>NaN</td>\n",
       "    </tr>\n",
       "    <tr>\n",
       "      <th>4</th>\n",
       "      <td>144444.0</td>\n",
       "      <td>Monsieur</td>\n",
       "      <td>NaT</td>\n",
       "      <td>LAB</td>\n",
       "      <td>29/04/2006</td>\n",
       "      <td>18/12/2016</td>\n",
       "      <td>31/12/2017</td>\n",
       "      <td>31555</td>\n",
       "      <td>FR</td>\n",
       "      <td>NaN</td>\n",
       "      <td>NaN</td>\n",
       "    </tr>\n",
       "    <tr>\n",
       "      <th>...</th>\n",
       "      <td>...</td>\n",
       "      <td>...</td>\n",
       "      <td>...</td>\n",
       "      <td>...</td>\n",
       "      <td>...</td>\n",
       "      <td>...</td>\n",
       "      <td>...</td>\n",
       "      <td>...</td>\n",
       "      <td>...</td>\n",
       "      <td>...</td>\n",
       "      <td>...</td>\n",
       "    </tr>\n",
       "    <tr>\n",
       "      <th>720085</th>\n",
       "      <td>1970111.0</td>\n",
       "      <td>Monsieur</td>\n",
       "      <td>NaT</td>\n",
       "      <td>IAB</td>\n",
       "      <td>14/04/2011</td>\n",
       "      <td>06/01/2018</td>\n",
       "      <td>31/01/2019</td>\n",
       "      <td>38053</td>\n",
       "      <td>FR</td>\n",
       "      <td>NaN</td>\n",
       "      <td>NaN</td>\n",
       "    </tr>\n",
       "    <tr>\n",
       "      <th>720086</th>\n",
       "      <td>2297275.0</td>\n",
       "      <td>Monsieur</td>\n",
       "      <td>1988-06-02</td>\n",
       "      <td>SEM</td>\n",
       "      <td>07/03/2013</td>\n",
       "      <td>06/01/2018</td>\n",
       "      <td>31/01/2019</td>\n",
       "      <td>57067</td>\n",
       "      <td>FR</td>\n",
       "      <td>36.0</td>\n",
       "      <td>AGE DE 31-45</td>\n",
       "    </tr>\n",
       "    <tr>\n",
       "      <th>720087</th>\n",
       "      <td>2305548.0</td>\n",
       "      <td>Monsieur</td>\n",
       "      <td>NaT</td>\n",
       "      <td>PRI</td>\n",
       "      <td>22/03/2013</td>\n",
       "      <td>06/01/2018</td>\n",
       "      <td>31/01/2019</td>\n",
       "      <td>38318</td>\n",
       "      <td>FR</td>\n",
       "      <td>NaN</td>\n",
       "      <td>NaN</td>\n",
       "    </tr>\n",
       "    <tr>\n",
       "      <th>720088</th>\n",
       "      <td>84175.0</td>\n",
       "      <td>Madame</td>\n",
       "      <td>1950-07-04</td>\n",
       "      <td>GAI</td>\n",
       "      <td>29/10/2002</td>\n",
       "      <td>07/01/2018</td>\n",
       "      <td>31/01/2019</td>\n",
       "      <td>74082</td>\n",
       "      <td>FR</td>\n",
       "      <td>74.0</td>\n",
       "      <td>AGE DE 61-100</td>\n",
       "    </tr>\n",
       "    <tr>\n",
       "      <th>720089</th>\n",
       "      <td>1280004.0</td>\n",
       "      <td>Monsieur</td>\n",
       "      <td>NaT</td>\n",
       "      <td>SGL</td>\n",
       "      <td>23/06/2007</td>\n",
       "      <td>07/01/2018</td>\n",
       "      <td>31/01/2019</td>\n",
       "      <td>42218</td>\n",
       "      <td>FR</td>\n",
       "      <td>NaN</td>\n",
       "      <td>NaN</td>\n",
       "    </tr>\n",
       "  </tbody>\n",
       "</table>\n",
       "<p>720090 rows × 11 columns</p>\n",
       "</div>"
      ],
      "text/plain": [
       "         IDCLIENT  CIVILITE        AGE MAGASIN DATEDEBUTADHESION  \\\n",
       "0        155891.0    Madame        NaT     VLG        13/05/2005   \n",
       "1        156023.0  Monsieur 1966-07-08     VLG        14/05/2005   \n",
       "2        124203.0    Madame        NaT     BEA        16/03/2005   \n",
       "3        156190.0    Madame        NaT     SUR        28/08/2006   \n",
       "4        144444.0  Monsieur        NaT     LAB        29/04/2006   \n",
       "...           ...       ...        ...     ...               ...   \n",
       "720085  1970111.0  Monsieur        NaT     IAB        14/04/2011   \n",
       "720086  2297275.0  Monsieur 1988-06-02     SEM        07/03/2013   \n",
       "720087  2305548.0  Monsieur        NaT     PRI        22/03/2013   \n",
       "720088    84175.0    Madame 1950-07-04     GAI        29/10/2002   \n",
       "720089  1280004.0  Monsieur        NaT     SGL        23/06/2007   \n",
       "\n",
       "       DATEREADHESION DATEFINADHESION CODEINSEE PAYS   AGE      AGE_GROUP  \n",
       "0          04/04/2017      30/04/2018     74224   FR   NaN            NaN  \n",
       "1          21/06/2014      30/06/2016     74189   FR  58.0   AGE DE 46-60  \n",
       "2          12/10/2017      31/10/2018     63070   FR   NaN            NaN  \n",
       "3          24/05/2015      31/05/2016     92026   FR   NaN            NaN  \n",
       "4          18/12/2016      31/12/2017     31555   FR   NaN            NaN  \n",
       "...               ...             ...       ...  ...   ...            ...  \n",
       "720085     06/01/2018      31/01/2019     38053   FR   NaN            NaN  \n",
       "720086     06/01/2018      31/01/2019     57067   FR  36.0   AGE DE 31-45  \n",
       "720087     06/01/2018      31/01/2019     38318   FR   NaN            NaN  \n",
       "720088     07/01/2018      31/01/2019     74082   FR  74.0  AGE DE 61-100  \n",
       "720089     07/01/2018      31/01/2019     42218   FR   NaN            NaN  \n",
       "\n",
       "[720090 rows x 11 columns]"
      ]
     },
     "execution_count": 20,
     "metadata": {},
     "output_type": "execute_result"
    }
   ],
   "source": [
    "data1"
   ]
  },
  {
   "cell_type": "markdown",
   "id": "f28ffae6",
   "metadata": {},
   "source": [
    "Afin d'exploiter de façon optimale les informations, nous allons convetir les l'ID TICKET, l'âge et les tranches d'âges en caractère. Nous n'avons pas nécessité à conserver ces valeurs en numérique."
   ]
  },
  {
   "cell_type": "code",
   "execution_count": 21,
   "id": "dd655247",
   "metadata": {
    "ExecuteTime": {
     "end_time": "2024-05-28T08:04:21.339342Z",
     "start_time": "2024-05-28T08:04:20.993282Z"
    }
   },
   "outputs": [],
   "source": [
    "data1['IDCLIENT'] = data1['IDCLIENT'].astype(str)\n",
    "data1['AGE'] = data1['AGE'].astype(str)\n",
    "data1['AGE_GROUP'] = data1['AGE_GROUP'].astype(str)"
   ]
  },
  {
   "cell_type": "markdown",
   "id": "d440de7f",
   "metadata": {},
   "source": [
    "Vérification du traitement."
   ]
  },
  {
   "cell_type": "code",
   "execution_count": 22,
   "id": "5930b85c",
   "metadata": {
    "ExecuteTime": {
     "end_time": "2024-05-28T08:04:24.564496Z",
     "start_time": "2024-05-28T08:04:24.420986Z"
    }
   },
   "outputs": [
    {
     "name": "stdout",
     "output_type": "stream",
     "text": [
      "<class 'pandas.core.frame.DataFrame'>\n",
      "RangeIndex: 720090 entries, 0 to 720089\n",
      "Data columns (total 11 columns):\n",
      " #   Column             Non-Null Count   Dtype \n",
      "---  ------             --------------   ----- \n",
      " 0   IDCLIENT           720090 non-null  object\n",
      " 1   CIVILITE           720090 non-null  object\n",
      " 2   AGE                720090 non-null  object\n",
      " 3   MAGASIN            720090 non-null  object\n",
      " 4   DATEDEBUTADHESION  720090 non-null  object\n",
      " 5   DATEREADHESION     410990 non-null  object\n",
      " 6   DATEFINADHESION    720090 non-null  object\n",
      " 7   CODEINSEE          709392 non-null  object\n",
      " 8   PAYS               720090 non-null  object\n",
      " 9   AGE                720090 non-null  object\n",
      " 10  AGE_GROUP          720090 non-null  object\n",
      "dtypes: object(11)\n",
      "memory usage: 60.4+ MB\n"
     ]
    }
   ],
   "source": [
    "data1.info()"
   ]
  },
  {
   "cell_type": "markdown",
   "id": "11576911",
   "metadata": {},
   "source": [
    "La ligne de code ci-dessous nous permet d'identifier les valeurs en doublons qui conviendra de traiter."
   ]
  },
  {
   "cell_type": "code",
   "execution_count": 23,
   "id": "a9e56f23",
   "metadata": {
    "ExecuteTime": {
     "end_time": "2024-05-28T08:04:30.643298Z",
     "start_time": "2024-05-28T08:04:30.064175Z"
    }
   },
   "outputs": [
    {
     "name": "stdout",
     "output_type": "stream",
     "text": [
      "0\n"
     ]
    }
   ],
   "source": [
    "print(data1.duplicated().sum())\n",
    "data1 = data1.drop_duplicates()"
   ]
  },
  {
   "cell_type": "markdown",
   "id": "ac93a68b",
   "metadata": {},
   "source": [
    "Nous procédons également à la vérification de présence ou non de valeurs manquantes."
   ]
  },
  {
   "cell_type": "code",
   "execution_count": 24,
   "id": "c0913c19f78e34b6",
   "metadata": {
    "ExecuteTime": {
     "end_time": "2024-05-28T08:12:37.667400Z",
     "start_time": "2024-05-28T08:12:37.489870Z"
    }
   },
   "outputs": [
    {
     "name": "stdout",
     "output_type": "stream",
     "text": [
      "                   Missing Values  Percentage\n",
      "IDCLIENT                        0    0.000000\n",
      "CIVILITE                        0    0.000000\n",
      "AGE                             0    0.000000\n",
      "MAGASIN                         0    0.000000\n",
      "DATEDEBUTADHESION               0    0.000000\n",
      "DATEREADHESION             309100   42.925190\n",
      "DATEFINADHESION                 0    0.000000\n",
      "CODEINSEE                   10698    1.485648\n",
      "PAYS                            0    0.000000\n",
      "AGE                             0    0.000000\n",
      "AGE_GROUP                       0    0.000000\n"
     ]
    }
   ],
   "source": [
    "# Tableau des valeurs manquantes par colonne\n",
    "missing_values = data1.isnull().sum()\n",
    "missing_percent = (missing_values / len(data1)) * 100\n",
    "missing_table = pd.DataFrame({'Missing Values': missing_values, 'Percentage': missing_percent})\n",
    "print(missing_table)"
   ]
  },
  {
   "cell_type": "code",
   "execution_count": 25,
   "id": "665fadbe16d9bd6d",
   "metadata": {
    "ExecuteTime": {
     "end_time": "2024-05-28T08:08:32.125778Z",
     "start_time": "2024-05-28T08:08:31.086452Z"
    }
   },
   "outputs": [
    {
     "data": {
      "image/png": "[encoded data removed]",
      "text/plain": [
       "<Figure size 2500x1000 with 2 Axes>"
      ]
     },
     "metadata": {},
     "output_type": "display_data"
    }
   ],
   "source": [
    "# Visualiser les valeurs manquantes avec missingno\n",
    "import missingno as msno\n",
    "msno.matrix(data1)\n",
    "plt.show()"
   ]
  },
  {
   "cell_type": "code",
   "execution_count": 26,
   "id": "7d9a6a4df8502741",
   "metadata": {
    "ExecuteTime": {
     "end_time": "2024-05-28T08:09:15.345348Z",
     "start_time": "2024-05-28T08:09:14.866532Z"
    }
   },
   "outputs": [
    {
     "data": {
      "image/png": "[encoded data removed]",
      "text/plain": [
       "<Figure size 2500x1000 with 3 Axes>"
      ]
     },
     "metadata": {},
     "output_type": "display_data"
    }
   ],
   "source": [
    "msno.bar(data1)\n",
    "plt.show()"
   ]
  },
  {
   "cell_type": "markdown",
   "id": "570cb19f",
   "metadata": {},
   "source": [
    "La série de codes ci-dessous nous permet de traiter les valeurs manquantes détéctées, sur les variables concernées."
   ]
  },
  {
   "cell_type": "code",
   "execution_count": 27,
   "id": "b070052769b59f55",
   "metadata": {
    "ExecuteTime": {
     "end_time": "2024-05-28T08:17:18.025124Z",
     "start_time": "2024-05-28T08:17:17.995921Z"
    }
   },
   "outputs": [
    {
     "name": "stdout",
     "output_type": "stream",
     "text": [
      "         IDCLIENT  CIVILITE         AGE MAGASIN DATEDEBUTADHESION  \\\n",
      "0        155891.0    Madame         NaT     VLG        13/05/2005   \n",
      "1        156023.0  Monsieur  1966-07-08     VLG        14/05/2005   \n",
      "2        124203.0    Madame         NaT     BEA        16/03/2005   \n",
      "3        156190.0    Madame         NaT     SUR        28/08/2006   \n",
      "4        144444.0  Monsieur         NaT     LAB        29/04/2006   \n",
      "...           ...       ...         ...     ...               ...   \n",
      "720085  1970111.0  Monsieur         NaT     IAB        14/04/2011   \n",
      "720086  2297275.0  Monsieur  1988-06-02     SEM        07/03/2013   \n",
      "720087  2305548.0  Monsieur         NaT     PRI        22/03/2013   \n",
      "720088    84175.0    Madame  1950-07-04     GAI        29/10/2002   \n",
      "720089  1280004.0  Monsieur         NaT     SGL        23/06/2007   \n",
      "\n",
      "       DATEREADHESION DATEFINADHESION CODEINSEE PAYS   AGE      AGE_GROUP  \n",
      "0          04/04/2017      30/04/2018     74224   FR   nan            nan  \n",
      "1          21/06/2014      30/06/2016     74189   FR  58.0   AGE DE 46-60  \n",
      "2          12/10/2017      31/10/2018     63070   FR   nan            nan  \n",
      "3          24/05/2015      31/05/2016     92026   FR   nan            nan  \n",
      "4          18/12/2016      31/12/2017     31555   FR   nan            nan  \n",
      "...               ...             ...       ...  ...   ...            ...  \n",
      "720085     06/01/2018      31/01/2019     38053   FR   nan            nan  \n",
      "720086     06/01/2018      31/01/2019     57067   FR  36.0   AGE DE 31-45  \n",
      "720087     06/01/2018      31/01/2019     38318   FR   nan            nan  \n",
      "720088     07/01/2018      31/01/2019     74082   FR  74.0  AGE DE 61-100  \n",
      "720089     07/01/2018      31/01/2019     42218   FR   nan            nan  \n",
      "\n",
      "[720090 rows x 11 columns]\n"
     ]
    },
    {
     "name": "stderr",
     "output_type": "stream",
     "text": [
      "C:\\Users\\belga\\AppData\\Local\\Temp\\ipykernel_46856\\1410952053.py:2: FutureWarning: Series.interpolate with object dtype is deprecated and will raise in a future version. Call obj.infer_objects(copy=False) before interpolating instead.\n",
      "  data1['DATEREADHESION'] = data1['DATEREADHESION'].interpolate(method='time')\n"
     ]
    }
   ],
   "source": [
    "# Interpolation des dates manquantes\n",
    "data1['DATEREADHESION'] = data1['DATEREADHESION'].interpolate(method='time')\n",
    "\n",
    "# Afficher le DataFrame après l'interpolation\n",
    "print(data1)"
   ]
  },
  {
   "cell_type": "code",
   "execution_count": 28,
   "id": "230a219e",
   "metadata": {
    "ExecuteTime": {
     "end_time": "2024-05-28T08:05:28.367934Z",
     "start_time": "2024-05-28T08:05:28.349380Z"
    }
   },
   "outputs": [
    {
     "data": {
      "text/plain": [
       "0         False\n",
       "1         False\n",
       "2         False\n",
       "3         False\n",
       "4         False\n",
       "          ...  \n",
       "720085    False\n",
       "720086    False\n",
       "720087    False\n",
       "720088    False\n",
       "720089    False\n",
       "Name: CODEINSEE, Length: 720090, dtype: bool"
      ]
     },
     "execution_count": 28,
     "metadata": {},
     "output_type": "execute_result"
    }
   ],
   "source": [
    "data1['CODEINSEE'].isnull()"
   ]
  },
  {
   "cell_type": "code",
   "execution_count": 29,
   "id": "88fbeb05",
   "metadata": {
    "ExecuteTime": {
     "end_time": "2024-05-28T08:05:30.656527Z",
     "start_time": "2024-05-28T08:05:30.579090Z"
    }
   },
   "outputs": [],
   "source": [
    "data1.dropna(subset=['CODEINSEE'], inplace=True)"
   ]
  },
  {
   "cell_type": "code",
   "execution_count": 30,
   "id": "9c8892e4",
   "metadata": {
    "ExecuteTime": {
     "end_time": "2024-05-28T08:19:17.578021Z",
     "start_time": "2024-05-28T08:19:17.561724Z"
    }
   },
   "outputs": [
    {
     "data": {
      "text/plain": [
       "0         False\n",
       "1         False\n",
       "2         False\n",
       "3         False\n",
       "4         False\n",
       "          ...  \n",
       "720085    False\n",
       "720086    False\n",
       "720087    False\n",
       "720088    False\n",
       "720089    False\n",
       "Name: DATEREADHESION, Length: 709392, dtype: bool"
      ]
     },
     "execution_count": 30,
     "metadata": {},
     "output_type": "execute_result"
    }
   ],
   "source": [
    "data1['DATEREADHESION'].isnull()"
   ]
  },
  {
   "cell_type": "code",
   "execution_count": 31,
   "id": "738a89f8",
   "metadata": {
    "ExecuteTime": {
     "end_time": "2024-05-28T08:20:48.223713Z",
     "start_time": "2024-05-28T08:20:48.151439Z"
    }
   },
   "outputs": [],
   "source": [
    "data1.dropna(subset=['DATEREADHESION'], inplace=True)"
   ]
  },
  {
   "cell_type": "code",
   "execution_count": 32,
   "id": "c9ba3528",
   "metadata": {
    "ExecuteTime": {
     "end_time": "2024-05-28T08:19:35.950718Z",
     "start_time": "2024-05-28T08:19:35.922392Z"
    }
   },
   "outputs": [
    {
     "data": {
      "text/plain": [
       "0         False\n",
       "1         False\n",
       "2         False\n",
       "3         False\n",
       "4         False\n",
       "          ...  \n",
       "720085    False\n",
       "720086    False\n",
       "720087    False\n",
       "720088    False\n",
       "720089    False\n",
       "Name: AGE_GROUP, Length: 407389, dtype: bool"
      ]
     },
     "execution_count": 32,
     "metadata": {},
     "output_type": "execute_result"
    }
   ],
   "source": [
    "data1['AGE_GROUP'].isnull()"
   ]
  },
  {
   "cell_type": "code",
   "execution_count": 33,
   "id": "4e2d39fa",
   "metadata": {
    "ExecuteTime": {
     "end_time": "2024-05-28T08:19:55.282428Z",
     "start_time": "2024-05-28T08:19:55.255046Z"
    }
   },
   "outputs": [
    {
     "data": {
      "text/plain": [
       "AGE_GROUP\n",
       "nan              326057\n",
       "AGE DE 61-100     39498\n",
       "AGE DE 46-60      27990\n",
       "AGE DE 31-45      13240\n",
       "AGE DE 18-30        604\n",
       "Name: count, dtype: int64"
      ]
     },
     "execution_count": 33,
     "metadata": {},
     "output_type": "execute_result"
    }
   ],
   "source": [
    "data1['AGE_GROUP'].value_counts()"
   ]
  },
  {
   "cell_type": "code",
   "execution_count": 34,
   "id": "110291d9",
   "metadata": {
    "ExecuteTime": {
     "end_time": "2024-05-28T08:20:11.689971Z",
     "start_time": "2024-05-28T08:20:11.640221Z"
    }
   },
   "outputs": [],
   "source": [
    "data1['AGE_GROUP'] = data1['AGE_GROUP'].replace(np.nan, \"Inconnue\")\n"
   ]
  },
  {
   "cell_type": "code",
   "execution_count": null,
   "id": "405b8096",
   "metadata": {
    "ExecuteTime": {
     "end_time": "2024-05-28T08:20:12.511269Z",
     "start_time": "2024-05-28T08:20:12.443402Z"
    }
   },
   "outputs": [],
   "source": [
    "data1['AGE_GROUP']=data1[['AGE_GROUP']].applymap(lambda x: \"Inconnue\" if x=='nan' else x)\n"
   ]
  },
  {
   "cell_type": "code",
   "execution_count": 36,
   "id": "e16b807e",
   "metadata": {
    "ExecuteTime": {
     "end_time": "2024-05-28T08:20:20.457326Z",
     "start_time": "2024-05-28T08:20:20.436960Z"
    }
   },
   "outputs": [
    {
     "data": {
      "text/plain": [
       "AGE_GROUP\n",
       "Inconnue         326057\n",
       "AGE DE 61-100     39498\n",
       "AGE DE 46-60      27990\n",
       "AGE DE 31-45      13240\n",
       "AGE DE 18-30        604\n",
       "Name: count, dtype: int64"
      ]
     },
     "execution_count": 36,
     "metadata": {},
     "output_type": "execute_result"
    }
   ],
   "source": [
    "data1['AGE_GROUP'].value_counts()"
   ]
  },
  {
   "cell_type": "code",
   "execution_count": 37,
   "id": "f1082a9d",
   "metadata": {
    "ExecuteTime": {
     "end_time": "2024-05-28T08:20:28.704226Z",
     "start_time": "2024-05-28T08:20:28.463014Z"
    }
   },
   "outputs": [],
   "source": [
    "data1.dropna(subset=['AGE_GROUP'], inplace=True)"
   ]
  },
  {
   "cell_type": "markdown",
   "id": "cc91aac6",
   "metadata": {},
   "source": [
    "Vérification du taitement."
   ]
  },
  {
   "cell_type": "code",
   "execution_count": 38,
   "id": "e0c5bd27",
   "metadata": {
    "ExecuteTime": {
     "end_time": "2024-05-28T08:21:17.671739Z",
     "start_time": "2024-05-28T08:21:17.578539Z"
    }
   },
   "outputs": [
    {
     "data": {
      "text/plain": [
       "IDCLIENT             0\n",
       "CIVILITE             0\n",
       "AGE                  0\n",
       "MAGASIN              0\n",
       "DATEDEBUTADHESION    0\n",
       "DATEREADHESION       0\n",
       "DATEFINADHESION      0\n",
       "CODEINSEE            0\n",
       "PAYS                 0\n",
       "AGE                  0\n",
       "AGE_GROUP            0\n",
       "dtype: int64"
      ]
     },
     "execution_count": 38,
     "metadata": {},
     "output_type": "execute_result"
    }
   ],
   "source": [
    "data1.isnull().sum()"
   ]
  },
  {
   "cell_type": "markdown",
   "id": "43f5c3ef",
   "metadata": {},
   "source": [
    "Le traitement des valeurs aberrantes ne concernant que les variables numériques, nous n'allons pas procéder à ce traitement car aucune de nos variables n'est concernées sur ce dataframe."
   ]
  },
  {
   "cell_type": "markdown",
   "id": "26ad869a",
   "metadata": {},
   "source": [
    "Suppression des colonnes dont les informations nous serons pas nécessairement utiles dans le cadre de notre projet."
   ]
  },
  {
   "cell_type": "code",
   "execution_count": 39,
   "id": "b7a14b90",
   "metadata": {
    "ExecuteTime": {
     "end_time": "2024-05-28T08:21:27.730992Z",
     "start_time": "2024-05-28T08:21:27.700350Z"
    }
   },
   "outputs": [],
   "source": [
    "data1.drop(columns=['PAYS'], inplace=True)"
   ]
  },
  {
   "cell_type": "code",
   "execution_count": 40,
   "id": "975c44a7",
   "metadata": {
    "ExecuteTime": {
     "end_time": "2024-05-28T08:21:29.227240Z",
     "start_time": "2024-05-28T08:21:29.204607Z"
    }
   },
   "outputs": [],
   "source": [
    "data1.drop(columns=['AGE'], inplace=True)"
   ]
  },
  {
   "cell_type": "code",
   "execution_count": 41,
   "id": "636b3e0e",
   "metadata": {
    "ExecuteTime": {
     "end_time": "2024-05-28T08:21:31.021238Z",
     "start_time": "2024-05-28T08:21:31.016530Z"
    }
   },
   "outputs": [
    {
     "data": {
      "text/html": [
       "<div>\n",
       "<style scoped>\n",
       "    .dataframe tbody tr th:only-of-type {\n",
       "        vertical-align: middle;\n",
       "    }\n",
       "\n",
       "    .dataframe tbody tr th {\n",
       "        vertical-align: top;\n",
       "    }\n",
       "\n",
       "    .dataframe thead th {\n",
       "        text-align: right;\n",
       "    }\n",
       "</style>\n",
       "<table border=\"1\" class=\"dataframe\">\n",
       "  <thead>\n",
       "    <tr style=\"text-align: right;\">\n",
       "      <th></th>\n",
       "      <th>IDCLIENT</th>\n",
       "      <th>CIVILITE</th>\n",
       "      <th>MAGASIN</th>\n",
       "      <th>DATEDEBUTADHESION</th>\n",
       "      <th>DATEREADHESION</th>\n",
       "      <th>DATEFINADHESION</th>\n",
       "      <th>CODEINSEE</th>\n",
       "      <th>AGE_GROUP</th>\n",
       "    </tr>\n",
       "  </thead>\n",
       "  <tbody>\n",
       "    <tr>\n",
       "      <th>0</th>\n",
       "      <td>155891.0</td>\n",
       "      <td>Madame</td>\n",
       "      <td>VLG</td>\n",
       "      <td>13/05/2005</td>\n",
       "      <td>04/04/2017</td>\n",
       "      <td>30/04/2018</td>\n",
       "      <td>74224</td>\n",
       "      <td>Inconnue</td>\n",
       "    </tr>\n",
       "    <tr>\n",
       "      <th>1</th>\n",
       "      <td>156023.0</td>\n",
       "      <td>Monsieur</td>\n",
       "      <td>VLG</td>\n",
       "      <td>14/05/2005</td>\n",
       "      <td>21/06/2014</td>\n",
       "      <td>30/06/2016</td>\n",
       "      <td>74189</td>\n",
       "      <td>AGE DE 46-60</td>\n",
       "    </tr>\n",
       "    <tr>\n",
       "      <th>2</th>\n",
       "      <td>124203.0</td>\n",
       "      <td>Madame</td>\n",
       "      <td>BEA</td>\n",
       "      <td>16/03/2005</td>\n",
       "      <td>12/10/2017</td>\n",
       "      <td>31/10/2018</td>\n",
       "      <td>63070</td>\n",
       "      <td>Inconnue</td>\n",
       "    </tr>\n",
       "    <tr>\n",
       "      <th>3</th>\n",
       "      <td>156190.0</td>\n",
       "      <td>Madame</td>\n",
       "      <td>SUR</td>\n",
       "      <td>28/08/2006</td>\n",
       "      <td>24/05/2015</td>\n",
       "      <td>31/05/2016</td>\n",
       "      <td>92026</td>\n",
       "      <td>Inconnue</td>\n",
       "    </tr>\n",
       "    <tr>\n",
       "      <th>4</th>\n",
       "      <td>144444.0</td>\n",
       "      <td>Monsieur</td>\n",
       "      <td>LAB</td>\n",
       "      <td>29/04/2006</td>\n",
       "      <td>18/12/2016</td>\n",
       "      <td>31/12/2017</td>\n",
       "      <td>31555</td>\n",
       "      <td>Inconnue</td>\n",
       "    </tr>\n",
       "    <tr>\n",
       "      <th>...</th>\n",
       "      <td>...</td>\n",
       "      <td>...</td>\n",
       "      <td>...</td>\n",
       "      <td>...</td>\n",
       "      <td>...</td>\n",
       "      <td>...</td>\n",
       "      <td>...</td>\n",
       "      <td>...</td>\n",
       "    </tr>\n",
       "    <tr>\n",
       "      <th>720085</th>\n",
       "      <td>1970111.0</td>\n",
       "      <td>Monsieur</td>\n",
       "      <td>IAB</td>\n",
       "      <td>14/04/2011</td>\n",
       "      <td>06/01/2018</td>\n",
       "      <td>31/01/2019</td>\n",
       "      <td>38053</td>\n",
       "      <td>Inconnue</td>\n",
       "    </tr>\n",
       "    <tr>\n",
       "      <th>720086</th>\n",
       "      <td>2297275.0</td>\n",
       "      <td>Monsieur</td>\n",
       "      <td>SEM</td>\n",
       "      <td>07/03/2013</td>\n",
       "      <td>06/01/2018</td>\n",
       "      <td>31/01/2019</td>\n",
       "      <td>57067</td>\n",
       "      <td>AGE DE 31-45</td>\n",
       "    </tr>\n",
       "    <tr>\n",
       "      <th>720087</th>\n",
       "      <td>2305548.0</td>\n",
       "      <td>Monsieur</td>\n",
       "      <td>PRI</td>\n",
       "      <td>22/03/2013</td>\n",
       "      <td>06/01/2018</td>\n",
       "      <td>31/01/2019</td>\n",
       "      <td>38318</td>\n",
       "      <td>Inconnue</td>\n",
       "    </tr>\n",
       "    <tr>\n",
       "      <th>720088</th>\n",
       "      <td>84175.0</td>\n",
       "      <td>Madame</td>\n",
       "      <td>GAI</td>\n",
       "      <td>29/10/2002</td>\n",
       "      <td>07/01/2018</td>\n",
       "      <td>31/01/2019</td>\n",
       "      <td>74082</td>\n",
       "      <td>AGE DE 61-100</td>\n",
       "    </tr>\n",
       "    <tr>\n",
       "      <th>720089</th>\n",
       "      <td>1280004.0</td>\n",
       "      <td>Monsieur</td>\n",
       "      <td>SGL</td>\n",
       "      <td>23/06/2007</td>\n",
       "      <td>07/01/2018</td>\n",
       "      <td>31/01/2019</td>\n",
       "      <td>42218</td>\n",
       "      <td>Inconnue</td>\n",
       "    </tr>\n",
       "  </tbody>\n",
       "</table>\n",
       "<p>407389 rows × 8 columns</p>\n",
       "</div>"
      ],
      "text/plain": [
       "         IDCLIENT  CIVILITE MAGASIN DATEDEBUTADHESION DATEREADHESION  \\\n",
       "0        155891.0    Madame     VLG        13/05/2005     04/04/2017   \n",
       "1        156023.0  Monsieur     VLG        14/05/2005     21/06/2014   \n",
       "2        124203.0    Madame     BEA        16/03/2005     12/10/2017   \n",
       "3        156190.0    Madame     SUR        28/08/2006     24/05/2015   \n",
       "4        144444.0  Monsieur     LAB        29/04/2006     18/12/2016   \n",
       "...           ...       ...     ...               ...            ...   \n",
       "720085  1970111.0  Monsieur     IAB        14/04/2011     06/01/2018   \n",
       "720086  2297275.0  Monsieur     SEM        07/03/2013     06/01/2018   \n",
       "720087  2305548.0  Monsieur     PRI        22/03/2013     06/01/2018   \n",
       "720088    84175.0    Madame     GAI        29/10/2002     07/01/2018   \n",
       "720089  1280004.0  Monsieur     SGL        23/06/2007     07/01/2018   \n",
       "\n",
       "       DATEFINADHESION CODEINSEE      AGE_GROUP  \n",
       "0           30/04/2018     74224       Inconnue  \n",
       "1           30/06/2016     74189   AGE DE 46-60  \n",
       "2           31/10/2018     63070       Inconnue  \n",
       "3           31/05/2016     92026       Inconnue  \n",
       "4           31/12/2017     31555       Inconnue  \n",
       "...                ...       ...            ...  \n",
       "720085      31/01/2019     38053       Inconnue  \n",
       "720086      31/01/2019     57067   AGE DE 31-45  \n",
       "720087      31/01/2019     38318       Inconnue  \n",
       "720088      31/01/2019     74082  AGE DE 61-100  \n",
       "720089      31/01/2019     42218       Inconnue  \n",
       "\n",
       "[407389 rows x 8 columns]"
      ]
     },
     "execution_count": 41,
     "metadata": {},
     "output_type": "execute_result"
    }
   ],
   "source": [
    "data1"
   ]
  },
  {
   "cell_type": "markdown",
   "id": "d92a3cdc",
   "metadata": {},
   "source": [
    "La série de codes ci-dessous nous permet de modifier le format des dates de début et de fin d'adhésion afin de calculer l'ancienneté des clients."
   ]
  },
  {
   "cell_type": "code",
   "execution_count": 42,
   "id": "4943c6d0",
   "metadata": {
    "ExecuteTime": {
     "end_time": "2024-05-28T08:21:50.082900Z",
     "start_time": "2024-05-28T08:21:50.080441Z"
    }
   },
   "outputs": [],
   "source": [
    "import datetime\n",
    "from datetime import timedelta"
   ]
  },
  {
   "cell_type": "code",
   "execution_count": null,
   "id": "ea93ec8c",
   "metadata": {
    "ExecuteTime": {
     "end_time": "2024-05-28T08:21:51.293829Z",
     "start_time": "2024-05-28T08:21:51.253763Z"
    }
   },
   "outputs": [],
   "source": [
    "data1['DATEDEBUTADHESION'] = pd.to_datetime(data1['DATEDEBUTADHESION'])"
   ]
  },
  {
   "cell_type": "code",
   "execution_count": 44,
   "id": "2b5ab634",
   "metadata": {
    "ExecuteTime": {
     "end_time": "2024-05-28T08:22:05.221090Z",
     "start_time": "2024-05-28T08:22:05.208181Z"
    }
   },
   "outputs": [],
   "source": [
    "data1['DATEDEBUTADHESION'] = data1['DATEDEBUTADHESION'].dt.year.astype(int)"
   ]
  },
  {
   "cell_type": "code",
   "execution_count": null,
   "id": "40118b04",
   "metadata": {
    "ExecuteTime": {
     "end_time": "2024-05-28T08:22:08.284217Z",
     "start_time": "2024-05-28T08:22:08.258040Z"
    }
   },
   "outputs": [],
   "source": [
    "data1['DATEFINADHESION'] = pd.to_datetime(data1['DATEFINADHESION'])"
   ]
  },
  {
   "cell_type": "code",
   "execution_count": 46,
   "id": "9beb396c",
   "metadata": {
    "ExecuteTime": {
     "end_time": "2024-05-28T08:22:10.638471Z",
     "start_time": "2024-05-28T08:22:10.623025Z"
    }
   },
   "outputs": [],
   "source": [
    "data1['DATEFINADHESION'] = data1['DATEFINADHESION'].dt.year.astype(int)"
   ]
  },
  {
   "cell_type": "code",
   "execution_count": 47,
   "id": "6bcdab96",
   "metadata": {
    "ExecuteTime": {
     "end_time": "2024-05-28T08:22:12.166014Z",
     "start_time": "2024-05-28T08:22:12.162687Z"
    }
   },
   "outputs": [
    {
     "name": "stdout",
     "output_type": "stream",
     "text": [
      "0    2005\n",
      "1    2005\n",
      "2    2005\n",
      "3    2006\n",
      "4    2006\n",
      "Name: DATEDEBUTADHESION, dtype: int32\n"
     ]
    }
   ],
   "source": [
    "if 'DATEDEBUTADHESION' in data1.columns:\n",
    "    Date_début = data1['DATEDEBUTADHESION']\n",
    "    print(Date_début.head())\n",
    "else:\n",
    "    print(\"La colonne 'DATEDEBUTADHESION' n'existe pas dans le DataFrame.\")"
   ]
  },
  {
   "cell_type": "code",
   "execution_count": 48,
   "id": "1d64a06f",
   "metadata": {
    "ExecuteTime": {
     "end_time": "2024-05-28T08:22:13.846253Z",
     "start_time": "2024-05-28T08:22:13.843958Z"
    }
   },
   "outputs": [
    {
     "name": "stdout",
     "output_type": "stream",
     "text": [
      "0    2018\n",
      "1    2016\n",
      "2    2018\n",
      "3    2016\n",
      "4    2017\n",
      "Name: DATEFINADHESION, dtype: int32\n"
     ]
    }
   ],
   "source": [
    "if 'DATEFINADHESION' in data1.columns:\n",
    "    Date_fin = data1['DATEFINADHESION']\n",
    "    print(Date_fin.head())\n",
    "else:\n",
    "    print(\"La colonne 'DATEFINADHESION' n'existe pas dans le DataFrame.\")"
   ]
  },
  {
   "cell_type": "code",
   "execution_count": 49,
   "id": "ebb7d61c",
   "metadata": {
    "ExecuteTime": {
     "end_time": "2024-05-28T08:22:17.725168Z",
     "start_time": "2024-05-28T08:22:17.723090Z"
    }
   },
   "outputs": [],
   "source": [
    "ANCIENNETE = Date_fin - Date_début"
   ]
  },
  {
   "cell_type": "code",
   "execution_count": 50,
   "id": "b6dd4e9a",
   "metadata": {
    "ExecuteTime": {
     "end_time": "2024-05-28T08:22:18.771810Z",
     "start_time": "2024-05-28T08:22:18.768972Z"
    }
   },
   "outputs": [
    {
     "name": "stdout",
     "output_type": "stream",
     "text": [
      "0         13\n",
      "1         11\n",
      "2         13\n",
      "3         10\n",
      "4         11\n",
      "          ..\n",
      "720085     8\n",
      "720086     6\n",
      "720087     6\n",
      "720088    17\n",
      "720089    12\n",
      "Length: 407389, dtype: int32\n"
     ]
    }
   ],
   "source": [
    "print(ANCIENNETE)"
   ]
  },
  {
   "cell_type": "markdown",
   "id": "189a8794",
   "metadata": {},
   "source": [
    "Nous allons maintenant intégrer cette variables d'ancienneté à notre jeu de données."
   ]
  },
  {
   "cell_type": "code",
   "execution_count": 51,
   "id": "73eb521c",
   "metadata": {
    "ExecuteTime": {
     "end_time": "2024-05-28T08:22:21.645850Z",
     "start_time": "2024-05-28T08:22:21.643019Z"
    }
   },
   "outputs": [],
   "source": [
    "data1.insert(loc=6, column='ANCIENNETE', value=ANCIENNETE)"
   ]
  },
  {
   "cell_type": "code",
   "execution_count": 52,
   "id": "23ce9a0b",
   "metadata": {
    "ExecuteTime": {
     "end_time": "2024-05-28T08:22:22.641194Z",
     "start_time": "2024-05-28T08:22:22.636267Z"
    }
   },
   "outputs": [
    {
     "data": {
      "text/html": [
       "<div>\n",
       "<style scoped>\n",
       "    .dataframe tbody tr th:only-of-type {\n",
       "        vertical-align: middle;\n",
       "    }\n",
       "\n",
       "    .dataframe tbody tr th {\n",
       "        vertical-align: top;\n",
       "    }\n",
       "\n",
       "    .dataframe thead th {\n",
       "        text-align: right;\n",
       "    }\n",
       "</style>\n",
       "<table border=\"1\" class=\"dataframe\">\n",
       "  <thead>\n",
       "    <tr style=\"text-align: right;\">\n",
       "      <th></th>\n",
       "      <th>IDCLIENT</th>\n",
       "      <th>CIVILITE</th>\n",
       "      <th>MAGASIN</th>\n",
       "      <th>DATEDEBUTADHESION</th>\n",
       "      <th>DATEREADHESION</th>\n",
       "      <th>DATEFINADHESION</th>\n",
       "      <th>ANCIENNETE</th>\n",
       "      <th>CODEINSEE</th>\n",
       "      <th>AGE_GROUP</th>\n",
       "    </tr>\n",
       "  </thead>\n",
       "  <tbody>\n",
       "    <tr>\n",
       "      <th>0</th>\n",
       "      <td>155891.0</td>\n",
       "      <td>Madame</td>\n",
       "      <td>VLG</td>\n",
       "      <td>2005</td>\n",
       "      <td>04/04/2017</td>\n",
       "      <td>2018</td>\n",
       "      <td>13</td>\n",
       "      <td>74224</td>\n",
       "      <td>Inconnue</td>\n",
       "    </tr>\n",
       "    <tr>\n",
       "      <th>1</th>\n",
       "      <td>156023.0</td>\n",
       "      <td>Monsieur</td>\n",
       "      <td>VLG</td>\n",
       "      <td>2005</td>\n",
       "      <td>21/06/2014</td>\n",
       "      <td>2016</td>\n",
       "      <td>11</td>\n",
       "      <td>74189</td>\n",
       "      <td>AGE DE 46-60</td>\n",
       "    </tr>\n",
       "    <tr>\n",
       "      <th>2</th>\n",
       "      <td>124203.0</td>\n",
       "      <td>Madame</td>\n",
       "      <td>BEA</td>\n",
       "      <td>2005</td>\n",
       "      <td>12/10/2017</td>\n",
       "      <td>2018</td>\n",
       "      <td>13</td>\n",
       "      <td>63070</td>\n",
       "      <td>Inconnue</td>\n",
       "    </tr>\n",
       "    <tr>\n",
       "      <th>3</th>\n",
       "      <td>156190.0</td>\n",
       "      <td>Madame</td>\n",
       "      <td>SUR</td>\n",
       "      <td>2006</td>\n",
       "      <td>24/05/2015</td>\n",
       "      <td>2016</td>\n",
       "      <td>10</td>\n",
       "      <td>92026</td>\n",
       "      <td>Inconnue</td>\n",
       "    </tr>\n",
       "    <tr>\n",
       "      <th>4</th>\n",
       "      <td>144444.0</td>\n",
       "      <td>Monsieur</td>\n",
       "      <td>LAB</td>\n",
       "      <td>2006</td>\n",
       "      <td>18/12/2016</td>\n",
       "      <td>2017</td>\n",
       "      <td>11</td>\n",
       "      <td>31555</td>\n",
       "      <td>Inconnue</td>\n",
       "    </tr>\n",
       "    <tr>\n",
       "      <th>...</th>\n",
       "      <td>...</td>\n",
       "      <td>...</td>\n",
       "      <td>...</td>\n",
       "      <td>...</td>\n",
       "      <td>...</td>\n",
       "      <td>...</td>\n",
       "      <td>...</td>\n",
       "      <td>...</td>\n",
       "      <td>...</td>\n",
       "    </tr>\n",
       "    <tr>\n",
       "      <th>720085</th>\n",
       "      <td>1970111.0</td>\n",
       "      <td>Monsieur</td>\n",
       "      <td>IAB</td>\n",
       "      <td>2011</td>\n",
       "      <td>06/01/2018</td>\n",
       "      <td>2019</td>\n",
       "      <td>8</td>\n",
       "      <td>38053</td>\n",
       "      <td>Inconnue</td>\n",
       "    </tr>\n",
       "    <tr>\n",
       "      <th>720086</th>\n",
       "      <td>2297275.0</td>\n",
       "      <td>Monsieur</td>\n",
       "      <td>SEM</td>\n",
       "      <td>2013</td>\n",
       "      <td>06/01/2018</td>\n",
       "      <td>2019</td>\n",
       "      <td>6</td>\n",
       "      <td>57067</td>\n",
       "      <td>AGE DE 31-45</td>\n",
       "    </tr>\n",
       "    <tr>\n",
       "      <th>720087</th>\n",
       "      <td>2305548.0</td>\n",
       "      <td>Monsieur</td>\n",
       "      <td>PRI</td>\n",
       "      <td>2013</td>\n",
       "      <td>06/01/2018</td>\n",
       "      <td>2019</td>\n",
       "      <td>6</td>\n",
       "      <td>38318</td>\n",
       "      <td>Inconnue</td>\n",
       "    </tr>\n",
       "    <tr>\n",
       "      <th>720088</th>\n",
       "      <td>84175.0</td>\n",
       "      <td>Madame</td>\n",
       "      <td>GAI</td>\n",
       "      <td>2002</td>\n",
       "      <td>07/01/2018</td>\n",
       "      <td>2019</td>\n",
       "      <td>17</td>\n",
       "      <td>74082</td>\n",
       "      <td>AGE DE 61-100</td>\n",
       "    </tr>\n",
       "    <tr>\n",
       "      <th>720089</th>\n",
       "      <td>1280004.0</td>\n",
       "      <td>Monsieur</td>\n",
       "      <td>SGL</td>\n",
       "      <td>2007</td>\n",
       "      <td>07/01/2018</td>\n",
       "      <td>2019</td>\n",
       "      <td>12</td>\n",
       "      <td>42218</td>\n",
       "      <td>Inconnue</td>\n",
       "    </tr>\n",
       "  </tbody>\n",
       "</table>\n",
       "<p>407389 rows × 9 columns</p>\n",
       "</div>"
      ],
      "text/plain": [
       "         IDCLIENT  CIVILITE MAGASIN  DATEDEBUTADHESION DATEREADHESION  \\\n",
       "0        155891.0    Madame     VLG               2005     04/04/2017   \n",
       "1        156023.0  Monsieur     VLG               2005     21/06/2014   \n",
       "2        124203.0    Madame     BEA               2005     12/10/2017   \n",
       "3        156190.0    Madame     SUR               2006     24/05/2015   \n",
       "4        144444.0  Monsieur     LAB               2006     18/12/2016   \n",
       "...           ...       ...     ...                ...            ...   \n",
       "720085  1970111.0  Monsieur     IAB               2011     06/01/2018   \n",
       "720086  2297275.0  Monsieur     SEM               2013     06/01/2018   \n",
       "720087  2305548.0  Monsieur     PRI               2013     06/01/2018   \n",
       "720088    84175.0    Madame     GAI               2002     07/01/2018   \n",
       "720089  1280004.0  Monsieur     SGL               2007     07/01/2018   \n",
       "\n",
       "        DATEFINADHESION  ANCIENNETE CODEINSEE      AGE_GROUP  \n",
       "0                  2018          13     74224       Inconnue  \n",
       "1                  2016          11     74189   AGE DE 46-60  \n",
       "2                  2018          13     63070       Inconnue  \n",
       "3                  2016          10     92026       Inconnue  \n",
       "4                  2017          11     31555       Inconnue  \n",
       "...                 ...         ...       ...            ...  \n",
       "720085             2019           8     38053       Inconnue  \n",
       "720086             2019           6     57067   AGE DE 31-45  \n",
       "720087             2019           6     38318       Inconnue  \n",
       "720088             2019          17     74082  AGE DE 61-100  \n",
       "720089             2019          12     42218       Inconnue  \n",
       "\n",
       "[407389 rows x 9 columns]"
      ]
     },
     "execution_count": 52,
     "metadata": {},
     "output_type": "execute_result"
    }
   ],
   "source": [
    "data1"
   ]
  },
  {
   "cell_type": "markdown",
   "id": "0df63ed9",
   "metadata": {},
   "source": [
    "Ci-dessous, nous procédons à la suppression des dates de début et de fin d'adhésion car nous n'en avons plus besoin."
   ]
  },
  {
   "cell_type": "code",
   "execution_count": 53,
   "id": "828252d3",
   "metadata": {
    "ExecuteTime": {
     "end_time": "2024-05-28T08:24:26.005030Z",
     "start_time": "2024-05-28T08:24:25.865790Z"
    }
   },
   "outputs": [],
   "source": [
    "data1.drop(columns=['DATEDEBUTADHESION'], inplace=True)"
   ]
  },
  {
   "cell_type": "code",
   "execution_count": 54,
   "id": "b802bd13",
   "metadata": {
    "ExecuteTime": {
     "end_time": "2024-05-28T08:22:31.380826Z",
     "start_time": "2024-05-28T08:22:31.363087Z"
    }
   },
   "outputs": [],
   "source": [
    "data1.drop(columns=['DATEFINADHESION'], inplace=True)"
   ]
  },
  {
   "cell_type": "markdown",
   "id": "baca6bf7",
   "metadata": {},
   "source": [
    "Vérification des traitements."
   ]
  },
  {
   "cell_type": "code",
   "execution_count": 55,
   "id": "106205c4",
   "metadata": {
    "ExecuteTime": {
     "end_time": "2024-05-28T08:22:34.468654Z",
     "start_time": "2024-05-28T08:22:34.462685Z"
    }
   },
   "outputs": [
    {
     "data": {
      "text/html": [
       "<div>\n",
       "<style scoped>\n",
       "    .dataframe tbody tr th:only-of-type {\n",
       "        vertical-align: middle;\n",
       "    }\n",
       "\n",
       "    .dataframe tbody tr th {\n",
       "        vertical-align: top;\n",
       "    }\n",
       "\n",
       "    .dataframe thead th {\n",
       "        text-align: right;\n",
       "    }\n",
       "</style>\n",
       "<table border=\"1\" class=\"dataframe\">\n",
       "  <thead>\n",
       "    <tr style=\"text-align: right;\">\n",
       "      <th></th>\n",
       "      <th>IDCLIENT</th>\n",
       "      <th>CIVILITE</th>\n",
       "      <th>MAGASIN</th>\n",
       "      <th>DATEREADHESION</th>\n",
       "      <th>ANCIENNETE</th>\n",
       "      <th>CODEINSEE</th>\n",
       "      <th>AGE_GROUP</th>\n",
       "    </tr>\n",
       "  </thead>\n",
       "  <tbody>\n",
       "    <tr>\n",
       "      <th>0</th>\n",
       "      <td>155891.0</td>\n",
       "      <td>Madame</td>\n",
       "      <td>VLG</td>\n",
       "      <td>04/04/2017</td>\n",
       "      <td>13</td>\n",
       "      <td>74224</td>\n",
       "      <td>Inconnue</td>\n",
       "    </tr>\n",
       "    <tr>\n",
       "      <th>1</th>\n",
       "      <td>156023.0</td>\n",
       "      <td>Monsieur</td>\n",
       "      <td>VLG</td>\n",
       "      <td>21/06/2014</td>\n",
       "      <td>11</td>\n",
       "      <td>74189</td>\n",
       "      <td>AGE DE 46-60</td>\n",
       "    </tr>\n",
       "    <tr>\n",
       "      <th>2</th>\n",
       "      <td>124203.0</td>\n",
       "      <td>Madame</td>\n",
       "      <td>BEA</td>\n",
       "      <td>12/10/2017</td>\n",
       "      <td>13</td>\n",
       "      <td>63070</td>\n",
       "      <td>Inconnue</td>\n",
       "    </tr>\n",
       "    <tr>\n",
       "      <th>3</th>\n",
       "      <td>156190.0</td>\n",
       "      <td>Madame</td>\n",
       "      <td>SUR</td>\n",
       "      <td>24/05/2015</td>\n",
       "      <td>10</td>\n",
       "      <td>92026</td>\n",
       "      <td>Inconnue</td>\n",
       "    </tr>\n",
       "    <tr>\n",
       "      <th>4</th>\n",
       "      <td>144444.0</td>\n",
       "      <td>Monsieur</td>\n",
       "      <td>LAB</td>\n",
       "      <td>18/12/2016</td>\n",
       "      <td>11</td>\n",
       "      <td>31555</td>\n",
       "      <td>Inconnue</td>\n",
       "    </tr>\n",
       "    <tr>\n",
       "      <th>...</th>\n",
       "      <td>...</td>\n",
       "      <td>...</td>\n",
       "      <td>...</td>\n",
       "      <td>...</td>\n",
       "      <td>...</td>\n",
       "      <td>...</td>\n",
       "      <td>...</td>\n",
       "    </tr>\n",
       "    <tr>\n",
       "      <th>720085</th>\n",
       "      <td>1970111.0</td>\n",
       "      <td>Monsieur</td>\n",
       "      <td>IAB</td>\n",
       "      <td>06/01/2018</td>\n",
       "      <td>8</td>\n",
       "      <td>38053</td>\n",
       "      <td>Inconnue</td>\n",
       "    </tr>\n",
       "    <tr>\n",
       "      <th>720086</th>\n",
       "      <td>2297275.0</td>\n",
       "      <td>Monsieur</td>\n",
       "      <td>SEM</td>\n",
       "      <td>06/01/2018</td>\n",
       "      <td>6</td>\n",
       "      <td>57067</td>\n",
       "      <td>AGE DE 31-45</td>\n",
       "    </tr>\n",
       "    <tr>\n",
       "      <th>720087</th>\n",
       "      <td>2305548.0</td>\n",
       "      <td>Monsieur</td>\n",
       "      <td>PRI</td>\n",
       "      <td>06/01/2018</td>\n",
       "      <td>6</td>\n",
       "      <td>38318</td>\n",
       "      <td>Inconnue</td>\n",
       "    </tr>\n",
       "    <tr>\n",
       "      <th>720088</th>\n",
       "      <td>84175.0</td>\n",
       "      <td>Madame</td>\n",
       "      <td>GAI</td>\n",
       "      <td>07/01/2018</td>\n",
       "      <td>17</td>\n",
       "      <td>74082</td>\n",
       "      <td>AGE DE 61-100</td>\n",
       "    </tr>\n",
       "    <tr>\n",
       "      <th>720089</th>\n",
       "      <td>1280004.0</td>\n",
       "      <td>Monsieur</td>\n",
       "      <td>SGL</td>\n",
       "      <td>07/01/2018</td>\n",
       "      <td>12</td>\n",
       "      <td>42218</td>\n",
       "      <td>Inconnue</td>\n",
       "    </tr>\n",
       "  </tbody>\n",
       "</table>\n",
       "<p>407389 rows × 7 columns</p>\n",
       "</div>"
      ],
      "text/plain": [
       "         IDCLIENT  CIVILITE MAGASIN DATEREADHESION  ANCIENNETE CODEINSEE  \\\n",
       "0        155891.0    Madame     VLG     04/04/2017          13     74224   \n",
       "1        156023.0  Monsieur     VLG     21/06/2014          11     74189   \n",
       "2        124203.0    Madame     BEA     12/10/2017          13     63070   \n",
       "3        156190.0    Madame     SUR     24/05/2015          10     92026   \n",
       "4        144444.0  Monsieur     LAB     18/12/2016          11     31555   \n",
       "...           ...       ...     ...            ...         ...       ...   \n",
       "720085  1970111.0  Monsieur     IAB     06/01/2018           8     38053   \n",
       "720086  2297275.0  Monsieur     SEM     06/01/2018           6     57067   \n",
       "720087  2305548.0  Monsieur     PRI     06/01/2018           6     38318   \n",
       "720088    84175.0    Madame     GAI     07/01/2018          17     74082   \n",
       "720089  1280004.0  Monsieur     SGL     07/01/2018          12     42218   \n",
       "\n",
       "            AGE_GROUP  \n",
       "0            Inconnue  \n",
       "1        AGE DE 46-60  \n",
       "2            Inconnue  \n",
       "3            Inconnue  \n",
       "4            Inconnue  \n",
       "...               ...  \n",
       "720085       Inconnue  \n",
       "720086   AGE DE 31-45  \n",
       "720087       Inconnue  \n",
       "720088  AGE DE 61-100  \n",
       "720089       Inconnue  \n",
       "\n",
       "[407389 rows x 7 columns]"
      ]
     },
     "execution_count": 55,
     "metadata": {},
     "output_type": "execute_result"
    }
   ],
   "source": [
    "data1"
   ]
  },
  {
   "cell_type": "code",
   "execution_count": 56,
   "id": "f15c0d04",
   "metadata": {
    "ExecuteTime": {
     "end_time": "2024-05-28T08:22:37.261143Z",
     "start_time": "2024-05-28T08:22:37.217070Z"
    }
   },
   "outputs": [
    {
     "name": "stdout",
     "output_type": "stream",
     "text": [
      "<class 'pandas.core.frame.DataFrame'>\n",
      "Index: 407389 entries, 0 to 720089\n",
      "Data columns (total 7 columns):\n",
      " #   Column          Non-Null Count   Dtype \n",
      "---  ------          --------------   ----- \n",
      " 0   IDCLIENT        407389 non-null  object\n",
      " 1   CIVILITE        407389 non-null  object\n",
      " 2   MAGASIN         407389 non-null  object\n",
      " 3   DATEREADHESION  407389 non-null  object\n",
      " 4   ANCIENNETE      407389 non-null  int32 \n",
      " 5   CODEINSEE       407389 non-null  object\n",
      " 6   AGE_GROUP       407389 non-null  object\n",
      "dtypes: int32(1), object(6)\n",
      "memory usage: 23.3+ MB\n"
     ]
    }
   ],
   "source": [
    "data1.info()"
   ]
  },
  {
   "cell_type": "markdown",
   "id": "792b748e",
   "metadata": {},
   "source": [
    "Le code ci-dessous va également nous permettre de modifier le format de la date de ré-adhésion."
   ]
  },
  {
   "cell_type": "code",
   "execution_count": 57,
   "id": "11a619e1",
   "metadata": {
    "ExecuteTime": {
     "end_time": "2024-05-28T08:22:43.382631Z",
     "start_time": "2024-05-28T08:22:43.040664Z"
    }
   },
   "outputs": [],
   "source": [
    "data1[\"DATEREADHESION\"] = pd.to_datetime(data1['DATEREADHESION'].str.strip(), format='%d/%m/%Y')"
   ]
  },
  {
   "cell_type": "markdown",
   "id": "6c784b43",
   "metadata": {},
   "source": [
    "Puis, nous supprimons les dates de ré-adhésion post 2017 car le périmètre temps de notre projet de dépasse pas l'année 2017."
   ]
  },
  {
   "cell_type": "code",
   "execution_count": 58,
   "id": "bbf63d5b",
   "metadata": {
    "ExecuteTime": {
     "end_time": "2024-05-28T08:23:27.580035Z",
     "start_time": "2024-05-28T08:23:27.524998Z"
    }
   },
   "outputs": [],
   "source": [
    "data1['ANCIENNETE_READ'] = np.where(data1['DATEREADHESION'] >= \"01/01/2018\", 'Inconnue', data1['ANCIENNETE'])\n"
   ]
  },
  {
   "cell_type": "code",
   "execution_count": 59,
   "id": "7919d356",
   "metadata": {
    "ExecuteTime": {
     "end_time": "2024-05-28T08:23:39.441222Z",
     "start_time": "2024-05-28T08:23:39.438207Z"
    }
   },
   "outputs": [
    {
     "data": {
      "text/plain": [
       "0               13\n",
       "1               11\n",
       "2               13\n",
       "3               10\n",
       "4               11\n",
       "            ...   \n",
       "720085    Inconnue\n",
       "720086    Inconnue\n",
       "720087    Inconnue\n",
       "720088    Inconnue\n",
       "720089    Inconnue\n",
       "Name: ANCIENNETE_READ, Length: 407389, dtype: object"
      ]
     },
     "execution_count": 59,
     "metadata": {},
     "output_type": "execute_result"
    }
   ],
   "source": [
    "data1['ANCIENNETE_READ']"
   ]
  },
  {
   "cell_type": "code",
   "execution_count": 60,
   "id": "36c18b9c69163613",
   "metadata": {
    "ExecuteTime": {
     "end_time": "2024-05-28T08:23:59.527714Z",
     "start_time": "2024-05-28T08:23:59.521507Z"
    }
   },
   "outputs": [
    {
     "data": {
      "text/html": [
       "<div>\n",
       "<style scoped>\n",
       "    .dataframe tbody tr th:only-of-type {\n",
       "        vertical-align: middle;\n",
       "    }\n",
       "\n",
       "    .dataframe tbody tr th {\n",
       "        vertical-align: top;\n",
       "    }\n",
       "\n",
       "    .dataframe thead th {\n",
       "        text-align: right;\n",
       "    }\n",
       "</style>\n",
       "<table border=\"1\" class=\"dataframe\">\n",
       "  <thead>\n",
       "    <tr style=\"text-align: right;\">\n",
       "      <th></th>\n",
       "      <th>IDCLIENT</th>\n",
       "      <th>CIVILITE</th>\n",
       "      <th>MAGASIN</th>\n",
       "      <th>DATEREADHESION</th>\n",
       "      <th>ANCIENNETE</th>\n",
       "      <th>CODEINSEE</th>\n",
       "      <th>AGE_GROUP</th>\n",
       "      <th>ANCIENNETE_READ</th>\n",
       "    </tr>\n",
       "  </thead>\n",
       "  <tbody>\n",
       "    <tr>\n",
       "      <th>0</th>\n",
       "      <td>155891.0</td>\n",
       "      <td>Madame</td>\n",
       "      <td>VLG</td>\n",
       "      <td>2017-04-04</td>\n",
       "      <td>13</td>\n",
       "      <td>74224</td>\n",
       "      <td>Inconnue</td>\n",
       "      <td>13</td>\n",
       "    </tr>\n",
       "    <tr>\n",
       "      <th>1</th>\n",
       "      <td>156023.0</td>\n",
       "      <td>Monsieur</td>\n",
       "      <td>VLG</td>\n",
       "      <td>2014-06-21</td>\n",
       "      <td>11</td>\n",
       "      <td>74189</td>\n",
       "      <td>AGE DE 46-60</td>\n",
       "      <td>11</td>\n",
       "    </tr>\n",
       "    <tr>\n",
       "      <th>2</th>\n",
       "      <td>124203.0</td>\n",
       "      <td>Madame</td>\n",
       "      <td>BEA</td>\n",
       "      <td>2017-10-12</td>\n",
       "      <td>13</td>\n",
       "      <td>63070</td>\n",
       "      <td>Inconnue</td>\n",
       "      <td>13</td>\n",
       "    </tr>\n",
       "    <tr>\n",
       "      <th>3</th>\n",
       "      <td>156190.0</td>\n",
       "      <td>Madame</td>\n",
       "      <td>SUR</td>\n",
       "      <td>2015-05-24</td>\n",
       "      <td>10</td>\n",
       "      <td>92026</td>\n",
       "      <td>Inconnue</td>\n",
       "      <td>10</td>\n",
       "    </tr>\n",
       "    <tr>\n",
       "      <th>4</th>\n",
       "      <td>144444.0</td>\n",
       "      <td>Monsieur</td>\n",
       "      <td>LAB</td>\n",
       "      <td>2016-12-18</td>\n",
       "      <td>11</td>\n",
       "      <td>31555</td>\n",
       "      <td>Inconnue</td>\n",
       "      <td>11</td>\n",
       "    </tr>\n",
       "    <tr>\n",
       "      <th>...</th>\n",
       "      <td>...</td>\n",
       "      <td>...</td>\n",
       "      <td>...</td>\n",
       "      <td>...</td>\n",
       "      <td>...</td>\n",
       "      <td>...</td>\n",
       "      <td>...</td>\n",
       "      <td>...</td>\n",
       "    </tr>\n",
       "    <tr>\n",
       "      <th>720085</th>\n",
       "      <td>1970111.0</td>\n",
       "      <td>Monsieur</td>\n",
       "      <td>IAB</td>\n",
       "      <td>2018-01-06</td>\n",
       "      <td>8</td>\n",
       "      <td>38053</td>\n",
       "      <td>Inconnue</td>\n",
       "      <td>Inconnue</td>\n",
       "    </tr>\n",
       "    <tr>\n",
       "      <th>720086</th>\n",
       "      <td>2297275.0</td>\n",
       "      <td>Monsieur</td>\n",
       "      <td>SEM</td>\n",
       "      <td>2018-01-06</td>\n",
       "      <td>6</td>\n",
       "      <td>57067</td>\n",
       "      <td>AGE DE 31-45</td>\n",
       "      <td>Inconnue</td>\n",
       "    </tr>\n",
       "    <tr>\n",
       "      <th>720087</th>\n",
       "      <td>2305548.0</td>\n",
       "      <td>Monsieur</td>\n",
       "      <td>PRI</td>\n",
       "      <td>2018-01-06</td>\n",
       "      <td>6</td>\n",
       "      <td>38318</td>\n",
       "      <td>Inconnue</td>\n",
       "      <td>Inconnue</td>\n",
       "    </tr>\n",
       "    <tr>\n",
       "      <th>720088</th>\n",
       "      <td>84175.0</td>\n",
       "      <td>Madame</td>\n",
       "      <td>GAI</td>\n",
       "      <td>2018-01-07</td>\n",
       "      <td>17</td>\n",
       "      <td>74082</td>\n",
       "      <td>AGE DE 61-100</td>\n",
       "      <td>Inconnue</td>\n",
       "    </tr>\n",
       "    <tr>\n",
       "      <th>720089</th>\n",
       "      <td>1280004.0</td>\n",
       "      <td>Monsieur</td>\n",
       "      <td>SGL</td>\n",
       "      <td>2018-01-07</td>\n",
       "      <td>12</td>\n",
       "      <td>42218</td>\n",
       "      <td>Inconnue</td>\n",
       "      <td>Inconnue</td>\n",
       "    </tr>\n",
       "  </tbody>\n",
       "</table>\n",
       "<p>407389 rows × 8 columns</p>\n",
       "</div>"
      ],
      "text/plain": [
       "         IDCLIENT  CIVILITE MAGASIN DATEREADHESION  ANCIENNETE CODEINSEE  \\\n",
       "0        155891.0    Madame     VLG     2017-04-04          13     74224   \n",
       "1        156023.0  Monsieur     VLG     2014-06-21          11     74189   \n",
       "2        124203.0    Madame     BEA     2017-10-12          13     63070   \n",
       "3        156190.0    Madame     SUR     2015-05-24          10     92026   \n",
       "4        144444.0  Monsieur     LAB     2016-12-18          11     31555   \n",
       "...           ...       ...     ...            ...         ...       ...   \n",
       "720085  1970111.0  Monsieur     IAB     2018-01-06           8     38053   \n",
       "720086  2297275.0  Monsieur     SEM     2018-01-06           6     57067   \n",
       "720087  2305548.0  Monsieur     PRI     2018-01-06           6     38318   \n",
       "720088    84175.0    Madame     GAI     2018-01-07          17     74082   \n",
       "720089  1280004.0  Monsieur     SGL     2018-01-07          12     42218   \n",
       "\n",
       "            AGE_GROUP ANCIENNETE_READ  \n",
       "0            Inconnue              13  \n",
       "1        AGE DE 46-60              11  \n",
       "2            Inconnue              13  \n",
       "3            Inconnue              10  \n",
       "4            Inconnue              11  \n",
       "...               ...             ...  \n",
       "720085       Inconnue        Inconnue  \n",
       "720086   AGE DE 31-45        Inconnue  \n",
       "720087       Inconnue        Inconnue  \n",
       "720088  AGE DE 61-100        Inconnue  \n",
       "720089       Inconnue        Inconnue  \n",
       "\n",
       "[407389 rows x 8 columns]"
      ]
     },
     "execution_count": 60,
     "metadata": {},
     "output_type": "execute_result"
    }
   ],
   "source": [
    "data1"
   ]
  },
  {
   "cell_type": "markdown",
   "id": "77fdb35e",
   "metadata": {},
   "source": [
    "Chargement du jeu de données REF_MAGASIN"
   ]
  },
  {
   "cell_type": "code",
   "execution_count": 61,
   "id": "f55b554c",
   "metadata": {
    "ExecuteTime": {
     "end_time": "2024-05-22T15:22:48.111752Z",
     "start_time": "2024-05-22T15:22:48.102700Z"
    }
   },
   "outputs": [
    {
     "name": "stdout",
     "output_type": "stream",
     "text": [
      "(67, 4)\n",
      "['CODESOCIETE', 'VILLE', 'LIBELLEDEPARTEMENT', 'LIBELLEREGIONCOMMERCIALE']\n"
     ]
    }
   ],
   "source": [
    "dataset_path = \"C:\\\\Users\\\\belga\\\\OneDrive\\\\Bureau\\\\EMBA Big Data\\\\Module Datascience\\\\Projet Data Science S2 2024\\\\REF_MAGASIN.csv\"\n",
    "data5 = pd.read_csv(dataset_path, sep='|', low_memory=False)\n",
    "print(data5.shape)\n",
    "print(list(data5.columns))"
   ]
  },
  {
   "cell_type": "markdown",
   "id": "02ebf8a7",
   "metadata": {},
   "source": [
    "La ligne de code ci-dessous nous permet de voir le détail des colonnes de notre jeu de données ainsi que le type de données (chaîne de caractères, numérique)"
   ]
  },
  {
   "cell_type": "code",
   "execution_count": 62,
   "id": "d0f2bc81",
   "metadata": {
    "ExecuteTime": {
     "end_time": "2024-05-22T15:22:51.721954Z",
     "start_time": "2024-05-22T15:22:51.712374Z"
    }
   },
   "outputs": [
    {
     "name": "stdout",
     "output_type": "stream",
     "text": [
      "<class 'pandas.core.frame.DataFrame'>\n",
      "RangeIndex: 67 entries, 0 to 66\n",
      "Data columns (total 4 columns):\n",
      " #   Column                    Non-Null Count  Dtype \n",
      "---  ------                    --------------  ----- \n",
      " 0   CODESOCIETE               67 non-null     object\n",
      " 1   VILLE                     67 non-null     object\n",
      " 2   LIBELLEDEPARTEMENT        67 non-null     int64 \n",
      " 3   LIBELLEREGIONCOMMERCIALE  67 non-null     object\n",
      "dtypes: int64(1), object(3)\n",
      "memory usage: 2.2+ KB\n"
     ]
    }
   ],
   "source": [
    "data5.info()"
   ]
  },
  {
   "cell_type": "markdown",
   "id": "d149ecf6",
   "metadata": {},
   "source": [
    "Aperçu du jeu de données."
   ]
  },
  {
   "cell_type": "code",
   "execution_count": 63,
   "id": "70f4eea4",
   "metadata": {
    "ExecuteTime": {
     "end_time": "2024-05-22T15:22:53.590650Z",
     "start_time": "2024-05-22T15:22:53.581868Z"
    }
   },
   "outputs": [
    {
     "data": {
      "text/html": [
       "<div>\n",
       "<style scoped>\n",
       "    .dataframe tbody tr th:only-of-type {\n",
       "        vertical-align: middle;\n",
       "    }\n",
       "\n",
       "    .dataframe tbody tr th {\n",
       "        vertical-align: top;\n",
       "    }\n",
       "\n",
       "    .dataframe thead th {\n",
       "        text-align: right;\n",
       "    }\n",
       "</style>\n",
       "<table border=\"1\" class=\"dataframe\">\n",
       "  <thead>\n",
       "    <tr style=\"text-align: right;\">\n",
       "      <th></th>\n",
       "      <th>CODESOCIETE</th>\n",
       "      <th>VILLE</th>\n",
       "      <th>LIBELLEDEPARTEMENT</th>\n",
       "      <th>LIBELLEREGIONCOMMERCIALE</th>\n",
       "    </tr>\n",
       "  </thead>\n",
       "  <tbody>\n",
       "    <tr>\n",
       "      <th>0</th>\n",
       "      <td>MET</td>\n",
       "      <td>METZ-TESSY</td>\n",
       "      <td>74</td>\n",
       "      <td>Rhône-Alpes</td>\n",
       "    </tr>\n",
       "    <tr>\n",
       "      <th>1</th>\n",
       "      <td>ALB</td>\n",
       "      <td>GILLY SUR ISERE</td>\n",
       "      <td>73</td>\n",
       "      <td>Rhône-Alpes</td>\n",
       "    </tr>\n",
       "    <tr>\n",
       "      <th>2</th>\n",
       "      <td>ALM</td>\n",
       "      <td>LES MILLES</td>\n",
       "      <td>13</td>\n",
       "      <td>Littoral</td>\n",
       "    </tr>\n",
       "    <tr>\n",
       "      <th>3</th>\n",
       "      <td>AVI</td>\n",
       "      <td>VILLENEUVE-LES-AVIGNON</td>\n",
       "      <td>30</td>\n",
       "      <td>Littoral</td>\n",
       "    </tr>\n",
       "    <tr>\n",
       "      <th>4</th>\n",
       "      <td>BEA</td>\n",
       "      <td>BEAUMONT</td>\n",
       "      <td>63</td>\n",
       "      <td>Centre-Paris</td>\n",
       "    </tr>\n",
       "    <tr>\n",
       "      <th>...</th>\n",
       "      <td>...</td>\n",
       "      <td>...</td>\n",
       "      <td>...</td>\n",
       "      <td>...</td>\n",
       "    </tr>\n",
       "    <tr>\n",
       "      <th>62</th>\n",
       "      <td>STR</td>\n",
       "      <td>SISTERON</td>\n",
       "      <td>4</td>\n",
       "      <td>Littoral</td>\n",
       "    </tr>\n",
       "    <tr>\n",
       "      <th>63</th>\n",
       "      <td>NEV</td>\n",
       "      <td>NEVERS CEDEX</td>\n",
       "      <td>58</td>\n",
       "      <td>Centre-Paris</td>\n",
       "    </tr>\n",
       "    <tr>\n",
       "      <th>64</th>\n",
       "      <td>BSN</td>\n",
       "      <td>CESSON</td>\n",
       "      <td>77</td>\n",
       "      <td>Centre-Paris</td>\n",
       "    </tr>\n",
       "    <tr>\n",
       "      <th>65</th>\n",
       "      <td>CAG</td>\n",
       "      <td>CAGNES SUR MER</td>\n",
       "      <td>6</td>\n",
       "      <td>Littoral</td>\n",
       "    </tr>\n",
       "    <tr>\n",
       "      <th>66</th>\n",
       "      <td>RMA</td>\n",
       "      <td>RUEIL MALMAISON</td>\n",
       "      <td>92</td>\n",
       "      <td>Centre-Paris</td>\n",
       "    </tr>\n",
       "  </tbody>\n",
       "</table>\n",
       "<p>67 rows × 4 columns</p>\n",
       "</div>"
      ],
      "text/plain": [
       "   CODESOCIETE                   VILLE  LIBELLEDEPARTEMENT  \\\n",
       "0          MET              METZ-TESSY                  74   \n",
       "1          ALB         GILLY SUR ISERE                  73   \n",
       "2          ALM              LES MILLES                  13   \n",
       "3          AVI  VILLENEUVE-LES-AVIGNON                  30   \n",
       "4          BEA                BEAUMONT                  63   \n",
       "..         ...                     ...                 ...   \n",
       "62         STR                SISTERON                   4   \n",
       "63         NEV            NEVERS CEDEX                  58   \n",
       "64         BSN                  CESSON                  77   \n",
       "65         CAG          CAGNES SUR MER                   6   \n",
       "66         RMA         RUEIL MALMAISON                  92   \n",
       "\n",
       "   LIBELLEREGIONCOMMERCIALE  \n",
       "0               Rhône-Alpes  \n",
       "1               Rhône-Alpes  \n",
       "2                  Littoral  \n",
       "3                  Littoral  \n",
       "4              Centre-Paris  \n",
       "..                      ...  \n",
       "62                 Littoral  \n",
       "63             Centre-Paris  \n",
       "64             Centre-Paris  \n",
       "65                 Littoral  \n",
       "66             Centre-Paris  \n",
       "\n",
       "[67 rows x 4 columns]"
      ]
     },
     "execution_count": 63,
     "metadata": {},
     "output_type": "execute_result"
    }
   ],
   "source": [
    "data5"
   ]
  },
  {
   "cell_type": "markdown",
   "id": "dc4b64c2",
   "metadata": {},
   "source": [
    "Afin d'exploiter de façon optimale les informations, nous allons convetir le LIBELLE DEPARTEMENT en caractère. "
   ]
  },
  {
   "cell_type": "code",
   "execution_count": 64,
   "id": "930fc551",
   "metadata": {
    "ExecuteTime": {
     "end_time": "2024-05-22T15:22:55.896992Z",
     "start_time": "2024-05-22T15:22:55.894586Z"
    }
   },
   "outputs": [],
   "source": [
    "#transformation libellé département en object\n",
    "data5['LIBELLEDEPARTEMENT'] = data5['LIBELLEDEPARTEMENT'].astype(str)"
   ]
  },
  {
   "cell_type": "markdown",
   "id": "0f454e8a",
   "metadata": {},
   "source": [
    "Vérification du traitement."
   ]
  },
  {
   "cell_type": "code",
   "execution_count": 65,
   "id": "19553594",
   "metadata": {
    "ExecuteTime": {
     "end_time": "2024-05-22T15:22:59.787879Z",
     "start_time": "2024-05-22T15:22:59.783176Z"
    }
   },
   "outputs": [
    {
     "name": "stdout",
     "output_type": "stream",
     "text": [
      "<class 'pandas.core.frame.DataFrame'>\n",
      "RangeIndex: 67 entries, 0 to 66\n",
      "Data columns (total 4 columns):\n",
      " #   Column                    Non-Null Count  Dtype \n",
      "---  ------                    --------------  ----- \n",
      " 0   CODESOCIETE               67 non-null     object\n",
      " 1   VILLE                     67 non-null     object\n",
      " 2   LIBELLEDEPARTEMENT        67 non-null     object\n",
      " 3   LIBELLEREGIONCOMMERCIALE  67 non-null     object\n",
      "dtypes: object(4)\n",
      "memory usage: 2.2+ KB\n"
     ]
    }
   ],
   "source": [
    "data5.info()"
   ]
  },
  {
   "cell_type": "markdown",
   "id": "61010d75",
   "metadata": {},
   "source": [
    "La ligne de code ci-dessous nous permet d'identifier les valeurs en doublons qui conviendra de traiter."
   ]
  },
  {
   "cell_type": "code",
   "execution_count": 66,
   "id": "da0c4101",
   "metadata": {
    "ExecuteTime": {
     "end_time": "2024-05-22T15:23:02.130303Z",
     "start_time": "2024-05-22T15:23:02.125417Z"
    }
   },
   "outputs": [
    {
     "name": "stdout",
     "output_type": "stream",
     "text": [
      "0\n"
     ]
    }
   ],
   "source": [
    "print(data5.duplicated().sum())\n",
    "data = data5.drop_duplicates()"
   ]
  },
  {
   "cell_type": "markdown",
   "id": "b119402c",
   "metadata": {},
   "source": [
    "Nous procédons également à la vérification de présence ou non de valeurs manquantes (aucune valeur détectée)."
   ]
  },
  {
   "cell_type": "code",
   "execution_count": 67,
   "id": "4d76c160",
   "metadata": {
    "ExecuteTime": {
     "end_time": "2024-05-22T15:23:03.704857Z",
     "start_time": "2024-05-22T15:23:03.698967Z"
    }
   },
   "outputs": [
    {
     "data": {
      "text/html": [
       "<div>\n",
       "<style scoped>\n",
       "    .dataframe tbody tr th:only-of-type {\n",
       "        vertical-align: middle;\n",
       "    }\n",
       "\n",
       "    .dataframe tbody tr th {\n",
       "        vertical-align: top;\n",
       "    }\n",
       "\n",
       "    .dataframe thead th {\n",
       "        text-align: right;\n",
       "    }\n",
       "</style>\n",
       "<table border=\"1\" class=\"dataframe\">\n",
       "  <thead>\n",
       "    <tr style=\"text-align: right;\">\n",
       "      <th></th>\n",
       "      <th>%_missing_values</th>\n",
       "    </tr>\n",
       "  </thead>\n",
       "  <tbody>\n",
       "    <tr>\n",
       "      <th>CODESOCIETE</th>\n",
       "      <td>0.0</td>\n",
       "    </tr>\n",
       "    <tr>\n",
       "      <th>VILLE</th>\n",
       "      <td>0.0</td>\n",
       "    </tr>\n",
       "    <tr>\n",
       "      <th>LIBELLEDEPARTEMENT</th>\n",
       "      <td>0.0</td>\n",
       "    </tr>\n",
       "    <tr>\n",
       "      <th>LIBELLEREGIONCOMMERCIALE</th>\n",
       "      <td>0.0</td>\n",
       "    </tr>\n",
       "  </tbody>\n",
       "</table>\n",
       "</div>"
      ],
      "text/plain": [
       "                          %_missing_values\n",
       "CODESOCIETE                            0.0\n",
       "VILLE                                  0.0\n",
       "LIBELLEDEPARTEMENT                     0.0\n",
       "LIBELLEREGIONCOMMERCIALE               0.0"
      ]
     },
     "execution_count": 67,
     "metadata": {},
     "output_type": "execute_result"
    }
   ],
   "source": [
    "pd.DataFrame(index=data.columns, columns=['%_missing_values'], data= (data.isna().sum().values / len(data)*100))"
   ]
  },
  {
   "cell_type": "markdown",
   "id": "2635dcb9",
   "metadata": {},
   "source": [
    "Désormais, nous n'avons aucune valeur nulle ou manquante dans nos données, ni de doublons."
   ]
  },
  {
   "cell_type": "markdown",
   "id": "9cc6507e",
   "metadata": {},
   "source": [
    "On a pu identifier le format de chaque variable ainsi que leurs modalités."
   ]
  },
  {
   "cell_type": "code",
   "execution_count": 68,
   "id": "eaad77e7",
   "metadata": {
    "ExecuteTime": {
     "end_time": "2024-05-22T15:23:06.470632Z",
     "start_time": "2024-05-22T15:23:06.465660Z"
    }
   },
   "outputs": [
    {
     "data": {
      "text/plain": [
       "CODESOCIETE\n",
       "MET    1\n",
       "VLG    1\n",
       "SEY    1\n",
       "SGL    1\n",
       "SJV    1\n",
       "      ..\n",
       "PEP    1\n",
       "PON    1\n",
       "PRI    1\n",
       "QUE    1\n",
       "RMA    1\n",
       "Name: count, Length: 67, dtype: int64"
      ]
     },
     "execution_count": 68,
     "metadata": {},
     "output_type": "execute_result"
    }
   ],
   "source": [
    "#modalités variables:\n",
    "data5['CODESOCIETE'].value_counts(dropna = False)"
   ]
  },
  {
   "cell_type": "code",
   "execution_count": 69,
   "id": "3fbda79c",
   "metadata": {
    "ExecuteTime": {
     "end_time": "2024-05-22T15:23:07.157288Z",
     "start_time": "2024-05-22T15:23:07.151705Z"
    }
   },
   "outputs": [
    {
     "data": {
      "text/plain": [
       "VILLE\n",
       "METZ-TESSY             1\n",
       "VILLE-LA-GRAND         1\n",
       "SEYSSINS               1\n",
       "SAINT-GENEST-LERPT     1\n",
       "SAINT-JEAN-DE-VEDAS    1\n",
       "                      ..\n",
       "PERPIGNAN              1\n",
       "LE PONTET              1\n",
       "SAINT-PRIEST           1\n",
       "QUETIGNY               1\n",
       "RUEIL MALMAISON        1\n",
       "Name: count, Length: 67, dtype: int64"
      ]
     },
     "execution_count": 69,
     "metadata": {},
     "output_type": "execute_result"
    }
   ],
   "source": [
    "data5['VILLE'].value_counts(dropna = False)"
   ]
  },
  {
   "cell_type": "code",
   "execution_count": 70,
   "id": "ebbfb574",
   "metadata": {
    "ExecuteTime": {
     "end_time": "2024-05-22T15:23:07.981723Z",
     "start_time": "2024-05-22T15:23:07.974517Z"
    }
   },
   "outputs": [
    {
     "data": {
      "text/plain": [
       "LIBELLEREGIONCOMMERCIALE\n",
       "Rhône-Alpes       20\n",
       "Littoral          19\n",
       "Alsace-Est        15\n",
       "Centre-Paris      12\n",
       "Vente en ligne     1\n",
       "Name: count, dtype: int64"
      ]
     },
     "execution_count": 70,
     "metadata": {},
     "output_type": "execute_result"
    }
   ],
   "source": [
    "data5['LIBELLEREGIONCOMMERCIALE'].value_counts(dropna = False)"
   ]
  },
  {
   "cell_type": "code",
   "execution_count": 71,
   "id": "fa3cf276",
   "metadata": {
    "ExecuteTime": {
     "end_time": "2024-05-22T15:23:08.848590Z",
     "start_time": "2024-05-22T15:23:08.845166Z"
    }
   },
   "outputs": [
    {
     "data": {
      "text/plain": [
       "array(['Rhône-Alpes', 'Littoral', 'Centre-Paris', 'Alsace-Est',\n",
       "       'Vente en ligne'], dtype=object)"
      ]
     },
     "execution_count": 71,
     "metadata": {},
     "output_type": "execute_result"
    }
   ],
   "source": [
    "data5['LIBELLEREGIONCOMMERCIALE'].unique()"
   ]
  },
  {
   "cell_type": "code",
   "execution_count": 74,
   "id": "16603bf0",
   "metadata": {
    "ExecuteTime": {
     "end_time": "2024-05-22T15:23:09.610427Z",
     "start_time": "2024-05-22T15:23:09.603535Z"
    }
   },
   "outputs": [
    {
     "name": "stdout",
     "output_type": "stream",
     "text": [
      "Avant la suppression :\n",
      "           Region\n",
      "0     Rhône-Alpes\n",
      "1        Littoral\n",
      "2    Centre-Paris\n",
      "3      Alsace-Est\n",
      "4  Vente en ligne\n",
      "\n",
      "Après la suppression :\n",
      "         Region\n",
      "0   Rhône-Alpes\n",
      "1      Littoral\n",
      "2  Centre-Paris\n",
      "3    Alsace-Est\n"
     ]
    }
   ],
   "source": [
    "# Importer la librairie pandas\n",
    "import pandas as pd\n",
    "\n",
    "# Créer un DataFrame de test avec la modalité 'Vente en ligne'\n",
    "data = {'Region': ['Rhône-Alpes', 'Littoral', 'Centre-Paris', 'Alsace-Est', 'Vente en ligne']}\n",
    "df = pd.DataFrame(data)\n",
    "\n",
    "# Afficher le DataFrame avant la suppression\n",
    "print(\"Avant la suppression :\")\n",
    "print(df)\n",
    "\n",
    "# Supprimer la modalité 'Vente en ligne'\n",
    "df = df[df['Region'] != 'Vente en ligne']\n",
    "\n",
    "# Réinitialiser les index après la suppression\n",
    "df.reset_index(drop=True, inplace=True)\n",
    "\n",
    "# Afficher le DataFrame après la suppression\n",
    "print(\"\\nAprès la suppression :\")\n",
    "print(df)"
   ]
  },
  {
   "cell_type": "markdown",
   "id": "8bcfef0e",
   "metadata": {},
   "source": [
    "Chargement du jeu de données."
   ]
  },
  {
   "cell_type": "code",
   "execution_count": 75,
   "id": "f87dabdd",
   "metadata": {},
   "outputs": [
    {
     "name": "stdout",
     "output_type": "stream",
     "text": [
      "(34945, 26)\n",
      "['Code', 'Libellé', 'Région', 'Département', 'Emploi total', 'Administration publique', 'Agriculture', 'Bâtiment-Travaux Publics', 'Commerce inter-entreprises', 'Conception, Recherche', 'Culture, Loisirs', 'Distribution', 'Education, Formation', 'Entretien, Réparation', 'Fabrication', 'Gestion', 'Transports, Logistique', 'Prestations Intellectuelles', 'Santé, Action Sociale', 'Services de Proximité', 'Commerce \\ninter-entreprises', 'Conception, Recherche.1', 'Culture, Loisirs.1', 'Gestion.1', 'Prestations Intellectuelles.1', 'Total']\n"
     ]
    }
   ],
   "source": [
    "dataset_path = \"C:\\\\Users\\\\belga\\\\OneDrive\\\\Bureau\\\\EMBA Big Data\\\\Module Datascience\\\\Projet Data Science S2 2024\\\\Donnees_communales_2020_INSEE.csv\"\n",
    "data6 = pd.read_csv(dataset_path, sep=';', low_memory=False,encoding='latin-1')\n",
    "print(data6.shape)\n",
    "print(list(data6.columns))"
   ]
  },
  {
   "cell_type": "markdown",
   "id": "362e6ba9",
   "metadata": {},
   "source": [
    "La ligne de code ci-dessous nous permet de connaître le détail des colonnes ainsi que le type de données constituant notre base (numérique ou caractères)."
   ]
  },
  {
   "cell_type": "code",
   "execution_count": 76,
   "id": "72aa9c9d",
   "metadata": {},
   "outputs": [
    {
     "data": {
      "text/html": [
       "<div>\n",
       "<style scoped>\n",
       "    .dataframe tbody tr th:only-of-type {\n",
       "        vertical-align: middle;\n",
       "    }\n",
       "\n",
       "    .dataframe tbody tr th {\n",
       "        vertical-align: top;\n",
       "    }\n",
       "\n",
       "    .dataframe thead th {\n",
       "        text-align: right;\n",
       "    }\n",
       "</style>\n",
       "<table border=\"1\" class=\"dataframe\">\n",
       "  <thead>\n",
       "    <tr style=\"text-align: right;\">\n",
       "      <th></th>\n",
       "      <th>Code</th>\n",
       "      <th>Libellé</th>\n",
       "      <th>Région</th>\n",
       "      <th>Département</th>\n",
       "      <th>Emploi total</th>\n",
       "      <th>Administration publique</th>\n",
       "      <th>Agriculture</th>\n",
       "      <th>Bâtiment-Travaux Publics</th>\n",
       "      <th>Commerce inter-entreprises</th>\n",
       "      <th>Conception, Recherche</th>\n",
       "      <th>...</th>\n",
       "      <th>Transports, Logistique</th>\n",
       "      <th>Prestations Intellectuelles</th>\n",
       "      <th>Santé, Action Sociale</th>\n",
       "      <th>Services de Proximité</th>\n",
       "      <th>Commerce \\ninter-entreprises</th>\n",
       "      <th>Conception, Recherche.1</th>\n",
       "      <th>Culture, Loisirs.1</th>\n",
       "      <th>Gestion.1</th>\n",
       "      <th>Prestations Intellectuelles.1</th>\n",
       "      <th>Total</th>\n",
       "    </tr>\n",
       "  </thead>\n",
       "  <tbody>\n",
       "    <tr>\n",
       "      <th>0</th>\n",
       "      <td>1001</td>\n",
       "      <td>L'Abergement-Clémenciat</td>\n",
       "      <td>84</td>\n",
       "      <td>1</td>\n",
       "      <td>72</td>\n",
       "      <td>5</td>\n",
       "      <td>5</td>\n",
       "      <td>14</td>\n",
       "      <td>5</td>\n",
       "      <td>0</td>\n",
       "      <td>...</td>\n",
       "      <td>0</td>\n",
       "      <td>0</td>\n",
       "      <td>0</td>\n",
       "      <td>14</td>\n",
       "      <td>0</td>\n",
       "      <td>0</td>\n",
       "      <td>0</td>\n",
       "      <td>0</td>\n",
       "      <td>0</td>\n",
       "      <td>0</td>\n",
       "    </tr>\n",
       "    <tr>\n",
       "      <th>1</th>\n",
       "      <td>1002</td>\n",
       "      <td>L'Abergement-de-Varey</td>\n",
       "      <td>84</td>\n",
       "      <td>1</td>\n",
       "      <td>25</td>\n",
       "      <td>0</td>\n",
       "      <td>15</td>\n",
       "      <td>0</td>\n",
       "      <td>0</td>\n",
       "      <td>0</td>\n",
       "      <td>...</td>\n",
       "      <td>0</td>\n",
       "      <td>0</td>\n",
       "      <td>0</td>\n",
       "      <td>0</td>\n",
       "      <td>0</td>\n",
       "      <td>0</td>\n",
       "      <td>4</td>\n",
       "      <td>0</td>\n",
       "      <td>0</td>\n",
       "      <td>4</td>\n",
       "    </tr>\n",
       "    <tr>\n",
       "      <th>2</th>\n",
       "      <td>1004</td>\n",
       "      <td>Ambérieu-en-Bugey</td>\n",
       "      <td>84</td>\n",
       "      <td>1</td>\n",
       "      <td>7 697</td>\n",
       "      <td>842</td>\n",
       "      <td>23</td>\n",
       "      <td>514</td>\n",
       "      <td>229</td>\n",
       "      <td>79</td>\n",
       "      <td>...</td>\n",
       "      <td>1 017</td>\n",
       "      <td>247</td>\n",
       "      <td>808</td>\n",
       "      <td>630</td>\n",
       "      <td>46</td>\n",
       "      <td>53</td>\n",
       "      <td>42</td>\n",
       "      <td>155</td>\n",
       "      <td>84</td>\n",
       "      <td>380</td>\n",
       "    </tr>\n",
       "    <tr>\n",
       "      <th>3</th>\n",
       "      <td>1005</td>\n",
       "      <td>Ambérieux-en-Dombes</td>\n",
       "      <td>84</td>\n",
       "      <td>1</td>\n",
       "      <td>332</td>\n",
       "      <td>5</td>\n",
       "      <td>4</td>\n",
       "      <td>59</td>\n",
       "      <td>10</td>\n",
       "      <td>0</td>\n",
       "      <td>...</td>\n",
       "      <td>0</td>\n",
       "      <td>5</td>\n",
       "      <td>54</td>\n",
       "      <td>35</td>\n",
       "      <td>5</td>\n",
       "      <td>0</td>\n",
       "      <td>5</td>\n",
       "      <td>5</td>\n",
       "      <td>0</td>\n",
       "      <td>15</td>\n",
       "    </tr>\n",
       "    <tr>\n",
       "      <th>4</th>\n",
       "      <td>1006</td>\n",
       "      <td>Ambléon</td>\n",
       "      <td>84</td>\n",
       "      <td>1</td>\n",
       "      <td>5</td>\n",
       "      <td>0</td>\n",
       "      <td>0</td>\n",
       "      <td>0</td>\n",
       "      <td>0</td>\n",
       "      <td>0</td>\n",
       "      <td>...</td>\n",
       "      <td>0</td>\n",
       "      <td>0</td>\n",
       "      <td>0</td>\n",
       "      <td>0</td>\n",
       "      <td>0</td>\n",
       "      <td>0</td>\n",
       "      <td>0</td>\n",
       "      <td>0</td>\n",
       "      <td>0</td>\n",
       "      <td>0</td>\n",
       "    </tr>\n",
       "    <tr>\n",
       "      <th>...</th>\n",
       "      <td>...</td>\n",
       "      <td>...</td>\n",
       "      <td>...</td>\n",
       "      <td>...</td>\n",
       "      <td>...</td>\n",
       "      <td>...</td>\n",
       "      <td>...</td>\n",
       "      <td>...</td>\n",
       "      <td>...</td>\n",
       "      <td>...</td>\n",
       "      <td>...</td>\n",
       "      <td>...</td>\n",
       "      <td>...</td>\n",
       "      <td>...</td>\n",
       "      <td>...</td>\n",
       "      <td>...</td>\n",
       "      <td>...</td>\n",
       "      <td>...</td>\n",
       "      <td>...</td>\n",
       "      <td>...</td>\n",
       "      <td>...</td>\n",
       "    </tr>\n",
       "    <tr>\n",
       "      <th>34940</th>\n",
       "      <td>97613</td>\n",
       "      <td>M'Tsangamouji</td>\n",
       "      <td>6</td>\n",
       "      <td>976</td>\n",
       "      <td>495</td>\n",
       "      <td>128</td>\n",
       "      <td>10</td>\n",
       "      <td>77</td>\n",
       "      <td>0</td>\n",
       "      <td>0</td>\n",
       "      <td>...</td>\n",
       "      <td>15</td>\n",
       "      <td>5</td>\n",
       "      <td>15</td>\n",
       "      <td>45</td>\n",
       "      <td>0</td>\n",
       "      <td>0</td>\n",
       "      <td>0</td>\n",
       "      <td>0</td>\n",
       "      <td>0</td>\n",
       "      <td>0</td>\n",
       "    </tr>\n",
       "    <tr>\n",
       "      <th>34941</th>\n",
       "      <td>97614</td>\n",
       "      <td>Ouangani</td>\n",
       "      <td>6</td>\n",
       "      <td>976</td>\n",
       "      <td>1 254</td>\n",
       "      <td>168</td>\n",
       "      <td>67</td>\n",
       "      <td>155</td>\n",
       "      <td>0</td>\n",
       "      <td>5</td>\n",
       "      <td>...</td>\n",
       "      <td>48</td>\n",
       "      <td>13</td>\n",
       "      <td>90</td>\n",
       "      <td>105</td>\n",
       "      <td>0</td>\n",
       "      <td>3</td>\n",
       "      <td>5</td>\n",
       "      <td>10</td>\n",
       "      <td>8</td>\n",
       "      <td>25</td>\n",
       "    </tr>\n",
       "    <tr>\n",
       "      <th>34942</th>\n",
       "      <td>97615</td>\n",
       "      <td>Pamandzi</td>\n",
       "      <td>6</td>\n",
       "      <td>976</td>\n",
       "      <td>1 642</td>\n",
       "      <td>460</td>\n",
       "      <td>10</td>\n",
       "      <td>55</td>\n",
       "      <td>10</td>\n",
       "      <td>10</td>\n",
       "      <td>...</td>\n",
       "      <td>125</td>\n",
       "      <td>27</td>\n",
       "      <td>72</td>\n",
       "      <td>200</td>\n",
       "      <td>3</td>\n",
       "      <td>5</td>\n",
       "      <td>35</td>\n",
       "      <td>10</td>\n",
       "      <td>10</td>\n",
       "      <td>62</td>\n",
       "    </tr>\n",
       "    <tr>\n",
       "      <th>34943</th>\n",
       "      <td>97616</td>\n",
       "      <td>Sada</td>\n",
       "      <td>6</td>\n",
       "      <td>976</td>\n",
       "      <td>1 447</td>\n",
       "      <td>175</td>\n",
       "      <td>45</td>\n",
       "      <td>210</td>\n",
       "      <td>0</td>\n",
       "      <td>0</td>\n",
       "      <td>...</td>\n",
       "      <td>117</td>\n",
       "      <td>8</td>\n",
       "      <td>35</td>\n",
       "      <td>190</td>\n",
       "      <td>0</td>\n",
       "      <td>0</td>\n",
       "      <td>5</td>\n",
       "      <td>15</td>\n",
       "      <td>3</td>\n",
       "      <td>23</td>\n",
       "    </tr>\n",
       "    <tr>\n",
       "      <th>34944</th>\n",
       "      <td>97617</td>\n",
       "      <td>Tsingoni</td>\n",
       "      <td>6</td>\n",
       "      <td>976</td>\n",
       "      <td>2 223</td>\n",
       "      <td>399</td>\n",
       "      <td>58</td>\n",
       "      <td>391</td>\n",
       "      <td>8</td>\n",
       "      <td>24</td>\n",
       "      <td>...</td>\n",
       "      <td>120</td>\n",
       "      <td>21</td>\n",
       "      <td>92</td>\n",
       "      <td>245</td>\n",
       "      <td>0</td>\n",
       "      <td>0</td>\n",
       "      <td>3</td>\n",
       "      <td>10</td>\n",
       "      <td>3</td>\n",
       "      <td>15</td>\n",
       "    </tr>\n",
       "  </tbody>\n",
       "</table>\n",
       "<p>34945 rows × 26 columns</p>\n",
       "</div>"
      ],
      "text/plain": [
       "        Code                  Libellé  Région Département Emploi total  \\\n",
       "0       1001  L'Abergement-Clémenciat      84           1           72   \n",
       "1       1002    L'Abergement-de-Varey      84           1           25   \n",
       "2       1004        Ambérieu-en-Bugey      84           1        7 697   \n",
       "3       1005      Ambérieux-en-Dombes      84           1          332   \n",
       "4       1006                  Ambléon      84           1            5   \n",
       "...      ...                      ...     ...         ...          ...   \n",
       "34940  97613            M'Tsangamouji       6         976          495   \n",
       "34941  97614                 Ouangani       6         976        1 254   \n",
       "34942  97615                 Pamandzi       6         976        1 642   \n",
       "34943  97616                     Sada       6         976        1 447   \n",
       "34944  97617                 Tsingoni       6         976        2 223   \n",
       "\n",
       "      Administration publique Agriculture Bâtiment-Travaux Publics  \\\n",
       "0                           5           5                       14   \n",
       "1                           0          15                        0   \n",
       "2                         842          23                      514   \n",
       "3                           5           4                       59   \n",
       "4                           0           0                        0   \n",
       "...                       ...         ...                      ...   \n",
       "34940                     128          10                       77   \n",
       "34941                     168          67                      155   \n",
       "34942                     460          10                       55   \n",
       "34943                     175          45                      210   \n",
       "34944                     399          58                      391   \n",
       "\n",
       "      Commerce inter-entreprises Conception, Recherche  ...  \\\n",
       "0                              5                     0  ...   \n",
       "1                              0                     0  ...   \n",
       "2                            229                    79  ...   \n",
       "3                             10                     0  ...   \n",
       "4                              0                     0  ...   \n",
       "...                          ...                   ...  ...   \n",
       "34940                          0                     0  ...   \n",
       "34941                          0                     5  ...   \n",
       "34942                         10                    10  ...   \n",
       "34943                          0                     0  ...   \n",
       "34944                          8                    24  ...   \n",
       "\n",
       "      Transports, Logistique Prestations Intellectuelles  \\\n",
       "0                          0                           0   \n",
       "1                          0                           0   \n",
       "2                      1 017                         247   \n",
       "3                          0                           5   \n",
       "4                          0                           0   \n",
       "...                      ...                         ...   \n",
       "34940                     15                           5   \n",
       "34941                     48                          13   \n",
       "34942                    125                          27   \n",
       "34943                    117                           8   \n",
       "34944                    120                          21   \n",
       "\n",
       "      Santé, Action Sociale Services de Proximité  \\\n",
       "0                         0                    14   \n",
       "1                         0                     0   \n",
       "2                       808                   630   \n",
       "3                        54                    35   \n",
       "4                         0                     0   \n",
       "...                     ...                   ...   \n",
       "34940                    15                    45   \n",
       "34941                    90                   105   \n",
       "34942                    72                   200   \n",
       "34943                    35                   190   \n",
       "34944                    92                   245   \n",
       "\n",
       "      Commerce \\ninter-entreprises Conception, Recherche.1 Culture, Loisirs.1  \\\n",
       "0                                0                       0                  0   \n",
       "1                                0                       0                  4   \n",
       "2                               46                      53                 42   \n",
       "3                                5                       0                  5   \n",
       "4                                0                       0                  0   \n",
       "...                            ...                     ...                ...   \n",
       "34940                            0                       0                  0   \n",
       "34941                            0                       3                  5   \n",
       "34942                            3                       5                 35   \n",
       "34943                            0                       0                  5   \n",
       "34944                            0                       0                  3   \n",
       "\n",
       "      Gestion.1 Prestations Intellectuelles.1 Total  \n",
       "0             0                             0     0  \n",
       "1             0                             0     4  \n",
       "2           155                            84   380  \n",
       "3             5                             0    15  \n",
       "4             0                             0     0  \n",
       "...         ...                           ...   ...  \n",
       "34940         0                             0     0  \n",
       "34941        10                             8    25  \n",
       "34942        10                            10    62  \n",
       "34943        15                             3    23  \n",
       "34944        10                             3    15  \n",
       "\n",
       "[34945 rows x 26 columns]"
      ]
     },
     "execution_count": 76,
     "metadata": {},
     "output_type": "execute_result"
    }
   ],
   "source": [
    "data6"
   ]
  },
  {
   "cell_type": "code",
   "execution_count": 77,
   "id": "0cb83ae2",
   "metadata": {},
   "outputs": [
    {
     "name": "stdout",
     "output_type": "stream",
     "text": [
      "<class 'pandas.core.frame.DataFrame'>\n",
      "RangeIndex: 34945 entries, 0 to 34944\n",
      "Data columns (total 26 columns):\n",
      " #   Column                         Non-Null Count  Dtype \n",
      "---  ------                         --------------  ----- \n",
      " 0   Code                           34945 non-null  object\n",
      " 1   Libellé                        34945 non-null  object\n",
      " 2   Région                         34945 non-null  int64 \n",
      " 3   Département                    34945 non-null  object\n",
      " 4   Emploi total                   34945 non-null  object\n",
      " 5   Administration publique        34945 non-null  object\n",
      " 6   Agriculture                    34945 non-null  object\n",
      " 7   Bâtiment-Travaux Publics       34945 non-null  object\n",
      " 8   Commerce inter-entreprises     34945 non-null  object\n",
      " 9   Conception, Recherche          34945 non-null  object\n",
      " 10  Culture, Loisirs               34945 non-null  object\n",
      " 11  Distribution                   34945 non-null  object\n",
      " 12  Education, Formation           34945 non-null  object\n",
      " 13  Entretien, Réparation          34945 non-null  object\n",
      " 14  Fabrication                    34945 non-null  object\n",
      " 15  Gestion                        34945 non-null  object\n",
      " 16  Transports, Logistique         34945 non-null  object\n",
      " 17  Prestations Intellectuelles    34945 non-null  object\n",
      " 18  Santé, Action Sociale          34945 non-null  object\n",
      " 19  Services de Proximité          34945 non-null  object\n",
      " 20  Commerce \n",
      "inter-entreprises    34945 non-null  object\n",
      " 21  Conception, Recherche.1        34945 non-null  object\n",
      " 22  Culture, Loisirs.1             34945 non-null  object\n",
      " 23  Gestion.1                      34945 non-null  object\n",
      " 24  Prestations Intellectuelles.1  34945 non-null  object\n",
      " 25  Total                          34945 non-null  object\n",
      "dtypes: int64(1), object(25)\n",
      "memory usage: 6.9+ MB\n"
     ]
    }
   ],
   "source": [
    "data6.info()"
   ]
  },
  {
   "cell_type": "markdown",
   "id": "52d4739c",
   "metadata": {},
   "source": [
    "Afin d'exploiter de façon optimale les informations, nous allons convetir les codes postaux en caractère. Nous n'avons pas nécessité à conserver ces valeurs en numérique."
   ]
  },
  {
   "cell_type": "code",
   "execution_count": 78,
   "id": "97c4d8c0",
   "metadata": {},
   "outputs": [],
   "source": [
    "data6['Région'] = data6['Région'].astype(str)"
   ]
  },
  {
   "cell_type": "markdown",
   "id": "bd478e5e",
   "metadata": {},
   "source": [
    "Vérification du traitement"
   ]
  },
  {
   "cell_type": "code",
   "execution_count": 79,
   "id": "5b3fea48",
   "metadata": {},
   "outputs": [
    {
     "name": "stdout",
     "output_type": "stream",
     "text": [
      "<class 'pandas.core.frame.DataFrame'>\n",
      "RangeIndex: 34945 entries, 0 to 34944\n",
      "Data columns (total 26 columns):\n",
      " #   Column                         Non-Null Count  Dtype \n",
      "---  ------                         --------------  ----- \n",
      " 0   Code                           34945 non-null  object\n",
      " 1   Libellé                        34945 non-null  object\n",
      " 2   Région                         34945 non-null  object\n",
      " 3   Département                    34945 non-null  object\n",
      " 4   Emploi total                   34945 non-null  object\n",
      " 5   Administration publique        34945 non-null  object\n",
      " 6   Agriculture                    34945 non-null  object\n",
      " 7   Bâtiment-Travaux Publics       34945 non-null  object\n",
      " 8   Commerce inter-entreprises     34945 non-null  object\n",
      " 9   Conception, Recherche          34945 non-null  object\n",
      " 10  Culture, Loisirs               34945 non-null  object\n",
      " 11  Distribution                   34945 non-null  object\n",
      " 12  Education, Formation           34945 non-null  object\n",
      " 13  Entretien, Réparation          34945 non-null  object\n",
      " 14  Fabrication                    34945 non-null  object\n",
      " 15  Gestion                        34945 non-null  object\n",
      " 16  Transports, Logistique         34945 non-null  object\n",
      " 17  Prestations Intellectuelles    34945 non-null  object\n",
      " 18  Santé, Action Sociale          34945 non-null  object\n",
      " 19  Services de Proximité          34945 non-null  object\n",
      " 20  Commerce \n",
      "inter-entreprises    34945 non-null  object\n",
      " 21  Conception, Recherche.1        34945 non-null  object\n",
      " 22  Culture, Loisirs.1             34945 non-null  object\n",
      " 23  Gestion.1                      34945 non-null  object\n",
      " 24  Prestations Intellectuelles.1  34945 non-null  object\n",
      " 25  Total                          34945 non-null  object\n",
      "dtypes: object(26)\n",
      "memory usage: 6.9+ MB\n"
     ]
    }
   ],
   "source": [
    "data6.info()"
   ]
  },
  {
   "cell_type": "markdown",
   "id": "8e356fa8",
   "metadata": {},
   "source": [
    "Suppression des colonnes dont les informations nous serons pas nécessairement utiles dans le cadre de notre projet."
   ]
  },
  {
   "cell_type": "markdown",
   "id": "1c2515c6",
   "metadata": {},
   "source": [
    "La ligne de code ci-dessous nous permet d'identifier les valeurs en doublons qui conviendra de traiter."
   ]
  },
  {
   "cell_type": "code",
   "execution_count": 80,
   "id": "2b1b9198",
   "metadata": {},
   "outputs": [
    {
     "name": "stdout",
     "output_type": "stream",
     "text": [
      "0\n"
     ]
    }
   ],
   "source": [
    "print(data6.duplicated().sum())\n",
    "data6 = data6.drop_duplicates()"
   ]
  },
  {
   "cell_type": "markdown",
   "id": "a676c842",
   "metadata": {},
   "source": [
    "Nous procédons également à la vérification de présence ou non de valeurs manquantes."
   ]
  },
  {
   "cell_type": "code",
   "execution_count": 81,
   "id": "5fd41745",
   "metadata": {},
   "outputs": [
    {
     "data": {
      "text/html": [
       "<div>\n",
       "<style scoped>\n",
       "    .dataframe tbody tr th:only-of-type {\n",
       "        vertical-align: middle;\n",
       "    }\n",
       "\n",
       "    .dataframe tbody tr th {\n",
       "        vertical-align: top;\n",
       "    }\n",
       "\n",
       "    .dataframe thead th {\n",
       "        text-align: right;\n",
       "    }\n",
       "</style>\n",
       "<table border=\"1\" class=\"dataframe\">\n",
       "  <thead>\n",
       "    <tr style=\"text-align: right;\">\n",
       "      <th></th>\n",
       "      <th>%_missing_values</th>\n",
       "    </tr>\n",
       "  </thead>\n",
       "  <tbody>\n",
       "    <tr>\n",
       "      <th>Code</th>\n",
       "      <td>0.0</td>\n",
       "    </tr>\n",
       "    <tr>\n",
       "      <th>Libellé</th>\n",
       "      <td>0.0</td>\n",
       "    </tr>\n",
       "    <tr>\n",
       "      <th>Région</th>\n",
       "      <td>0.0</td>\n",
       "    </tr>\n",
       "    <tr>\n",
       "      <th>Département</th>\n",
       "      <td>0.0</td>\n",
       "    </tr>\n",
       "    <tr>\n",
       "      <th>Emploi total</th>\n",
       "      <td>0.0</td>\n",
       "    </tr>\n",
       "    <tr>\n",
       "      <th>Administration publique</th>\n",
       "      <td>0.0</td>\n",
       "    </tr>\n",
       "    <tr>\n",
       "      <th>Agriculture</th>\n",
       "      <td>0.0</td>\n",
       "    </tr>\n",
       "    <tr>\n",
       "      <th>Bâtiment-Travaux Publics</th>\n",
       "      <td>0.0</td>\n",
       "    </tr>\n",
       "    <tr>\n",
       "      <th>Commerce inter-entreprises</th>\n",
       "      <td>0.0</td>\n",
       "    </tr>\n",
       "    <tr>\n",
       "      <th>Conception, Recherche</th>\n",
       "      <td>0.0</td>\n",
       "    </tr>\n",
       "    <tr>\n",
       "      <th>Culture, Loisirs</th>\n",
       "      <td>0.0</td>\n",
       "    </tr>\n",
       "    <tr>\n",
       "      <th>Distribution</th>\n",
       "      <td>0.0</td>\n",
       "    </tr>\n",
       "    <tr>\n",
       "      <th>Education, Formation</th>\n",
       "      <td>0.0</td>\n",
       "    </tr>\n",
       "    <tr>\n",
       "      <th>Entretien, Réparation</th>\n",
       "      <td>0.0</td>\n",
       "    </tr>\n",
       "    <tr>\n",
       "      <th>Fabrication</th>\n",
       "      <td>0.0</td>\n",
       "    </tr>\n",
       "    <tr>\n",
       "      <th>Gestion</th>\n",
       "      <td>0.0</td>\n",
       "    </tr>\n",
       "    <tr>\n",
       "      <th>Transports, Logistique</th>\n",
       "      <td>0.0</td>\n",
       "    </tr>\n",
       "    <tr>\n",
       "      <th>Prestations Intellectuelles</th>\n",
       "      <td>0.0</td>\n",
       "    </tr>\n",
       "    <tr>\n",
       "      <th>Santé, Action Sociale</th>\n",
       "      <td>0.0</td>\n",
       "    </tr>\n",
       "    <tr>\n",
       "      <th>Services de Proximité</th>\n",
       "      <td>0.0</td>\n",
       "    </tr>\n",
       "    <tr>\n",
       "      <th>Commerce \\ninter-entreprises</th>\n",
       "      <td>0.0</td>\n",
       "    </tr>\n",
       "    <tr>\n",
       "      <th>Conception, Recherche.1</th>\n",
       "      <td>0.0</td>\n",
       "    </tr>\n",
       "    <tr>\n",
       "      <th>Culture, Loisirs.1</th>\n",
       "      <td>0.0</td>\n",
       "    </tr>\n",
       "    <tr>\n",
       "      <th>Gestion.1</th>\n",
       "      <td>0.0</td>\n",
       "    </tr>\n",
       "    <tr>\n",
       "      <th>Prestations Intellectuelles.1</th>\n",
       "      <td>0.0</td>\n",
       "    </tr>\n",
       "    <tr>\n",
       "      <th>Total</th>\n",
       "      <td>0.0</td>\n",
       "    </tr>\n",
       "  </tbody>\n",
       "</table>\n",
       "</div>"
      ],
      "text/plain": [
       "                               %_missing_values\n",
       "Code                                        0.0\n",
       "Libellé                                     0.0\n",
       "Région                                      0.0\n",
       "Département                                 0.0\n",
       "Emploi total                                0.0\n",
       "Administration publique                     0.0\n",
       "Agriculture                                 0.0\n",
       "Bâtiment-Travaux Publics                    0.0\n",
       "Commerce inter-entreprises                  0.0\n",
       "Conception, Recherche                       0.0\n",
       "Culture, Loisirs                            0.0\n",
       "Distribution                                0.0\n",
       "Education, Formation                        0.0\n",
       "Entretien, Réparation                       0.0\n",
       "Fabrication                                 0.0\n",
       "Gestion                                     0.0\n",
       "Transports, Logistique                      0.0\n",
       "Prestations Intellectuelles                 0.0\n",
       "Santé, Action Sociale                       0.0\n",
       "Services de Proximité                       0.0\n",
       "Commerce \\ninter-entreprises                0.0\n",
       "Conception, Recherche.1                     0.0\n",
       "Culture, Loisirs.1                          0.0\n",
       "Gestion.1                                   0.0\n",
       "Prestations Intellectuelles.1               0.0\n",
       "Total                                       0.0"
      ]
     },
     "execution_count": 81,
     "metadata": {},
     "output_type": "execute_result"
    }
   ],
   "source": [
    "pd.DataFrame(index=data6.columns, columns=['%_missing_values'], data= (data6.isna().sum().values / len(data6)*100))"
   ]
  },
  {
   "cell_type": "markdown",
   "id": "b180bc1e",
   "metadata": {},
   "source": [
    "Le traitement des valeurs aberrantes ne concernant que les variables numériques, nous n'allons pas procéder à ce traitement car aucune de nos variables n'est concernées sur ce dataframe."
   ]
  },
  {
   "cell_type": "markdown",
   "id": "eea06e23",
   "metadata": {},
   "source": [
    " Chargement du jeu de données \"LIGNES_TICKET_V4\""
   ]
  },
  {
   "cell_type": "code",
   "execution_count": 82,
   "id": "6f2897f5",
   "metadata": {
    "ExecuteTime": {
     "end_time": "2024-05-30T08:25:55.488215Z",
     "start_time": "2024-05-30T08:25:45.111584Z"
    }
   },
   "outputs": [
    {
     "name": "stdout",
     "output_type": "stream",
     "text": [
      "(34105705, 7)\n",
      "['IDTICKET', 'NUMLIGNETICKET', 'IDARTICLE', 'QUANTITE', 'MONTANTREMISE', 'TOTAL', 'MARGESORTIE']\n"
     ]
    }
   ],
   "source": [
    "dataset_path = \"C:\\\\Users\\\\belga\\\\OneDrive\\\\Bureau\\\\EMBA Big Data\\\\Module Datascience\\\\Projet Data Science S2 2024\\\\LIGNES_TICKET_V4.csv\"\n",
    "data3 = pd.read_csv(dataset_path, sep='|', low_memory=False)\n",
    "print(data3.shape)\n",
    "print(list(data3.columns))"
   ]
  },
  {
   "cell_type": "markdown",
   "id": "7d649588",
   "metadata": {},
   "source": [
    "La ligne de code ci-dessous nous permet de voir le détail des colonnes de notre jeu de données ainsi que le type de données (chaîne de caractères, numérique)"
   ]
  },
  {
   "cell_type": "code",
   "execution_count": 83,
   "id": "1a52db12",
   "metadata": {
    "ExecuteTime": {
     "end_time": "2024-05-30T08:25:58.675461Z",
     "start_time": "2024-05-30T08:25:58.668467Z"
    }
   },
   "outputs": [
    {
     "name": "stdout",
     "output_type": "stream",
     "text": [
      "<class 'pandas.core.frame.DataFrame'>\n",
      "RangeIndex: 34105705 entries, 0 to 34105704\n",
      "Data columns (total 7 columns):\n",
      " #   Column          Dtype \n",
      "---  ------          ----- \n",
      " 0   IDTICKET        int64 \n",
      " 1   NUMLIGNETICKET  int64 \n",
      " 2   IDARTICLE       object\n",
      " 3   QUANTITE        object\n",
      " 4   MONTANTREMISE   object\n",
      " 5   TOTAL           object\n",
      " 6   MARGESORTIE     object\n",
      "dtypes: int64(2), object(5)\n",
      "memory usage: 1.8+ GB\n",
      "None\n"
     ]
    }
   ],
   "source": [
    "print(data3.info())"
   ]
  },
  {
   "cell_type": "markdown",
   "id": "b95ab93d",
   "metadata": {},
   "source": [
    "Aperçu du jeu de données."
   ]
  },
  {
   "cell_type": "code",
   "execution_count": 84,
   "id": "49467b1e",
   "metadata": {
    "ExecuteTime": {
     "end_time": "2024-05-30T08:26:02.392599Z",
     "start_time": "2024-05-30T08:26:02.384157Z"
    }
   },
   "outputs": [
    {
     "data": {
      "text/html": [
       "<div>\n",
       "<style scoped>\n",
       "    .dataframe tbody tr th:only-of-type {\n",
       "        vertical-align: middle;\n",
       "    }\n",
       "\n",
       "    .dataframe tbody tr th {\n",
       "        vertical-align: top;\n",
       "    }\n",
       "\n",
       "    .dataframe thead th {\n",
       "        text-align: right;\n",
       "    }\n",
       "</style>\n",
       "<table border=\"1\" class=\"dataframe\">\n",
       "  <thead>\n",
       "    <tr style=\"text-align: right;\">\n",
       "      <th></th>\n",
       "      <th>IDTICKET</th>\n",
       "      <th>NUMLIGNETICKET</th>\n",
       "      <th>IDARTICLE</th>\n",
       "      <th>QUANTITE</th>\n",
       "      <th>MONTANTREMISE</th>\n",
       "      <th>TOTAL</th>\n",
       "      <th>MARGESORTIE</th>\n",
       "    </tr>\n",
       "  </thead>\n",
       "  <tbody>\n",
       "    <tr>\n",
       "      <th>0</th>\n",
       "      <td>190400316260</td>\n",
       "      <td>2</td>\n",
       "      <td>246208</td>\n",
       "      <td>1,000</td>\n",
       "      <td>,000</td>\n",
       "      <td>4,96</td>\n",
       "      <td>2,37</td>\n",
       "    </tr>\n",
       "    <tr>\n",
       "      <th>1</th>\n",
       "      <td>190400316262</td>\n",
       "      <td>2</td>\n",
       "      <td>33725</td>\n",
       "      <td>1,000</td>\n",
       "      <td>,000</td>\n",
       "      <td>8,25</td>\n",
       "      <td>3,63</td>\n",
       "    </tr>\n",
       "    <tr>\n",
       "      <th>2</th>\n",
       "      <td>190400316262</td>\n",
       "      <td>3</td>\n",
       "      <td>634497</td>\n",
       "      <td>1,000</td>\n",
       "      <td>,000</td>\n",
       "      <td>5,79</td>\n",
       "      <td>3,63</td>\n",
       "    </tr>\n",
       "    <tr>\n",
       "      <th>3</th>\n",
       "      <td>190400316262</td>\n",
       "      <td>1</td>\n",
       "      <td>257613</td>\n",
       "      <td>1,000</td>\n",
       "      <td>,000</td>\n",
       "      <td>18,29</td>\n",
       "      <td>6,21</td>\n",
       "    </tr>\n",
       "    <tr>\n",
       "      <th>4</th>\n",
       "      <td>190400316263</td>\n",
       "      <td>1</td>\n",
       "      <td>257627</td>\n",
       "      <td>1,000</td>\n",
       "      <td>,000</td>\n",
       "      <td>49,92</td>\n",
       "      <td>10,42</td>\n",
       "    </tr>\n",
       "    <tr>\n",
       "      <th>5</th>\n",
       "      <td>190400316265</td>\n",
       "      <td>1</td>\n",
       "      <td>320054</td>\n",
       "      <td>1,000</td>\n",
       "      <td>,000</td>\n",
       "      <td>6,42</td>\n",
       "      <td>,67</td>\n",
       "    </tr>\n",
       "    <tr>\n",
       "      <th>6</th>\n",
       "      <td>190400316265</td>\n",
       "      <td>3</td>\n",
       "      <td>835984</td>\n",
       "      <td>1,000</td>\n",
       "      <td>,000</td>\n",
       "      <td>37,42</td>\n",
       "      <td>13,78</td>\n",
       "    </tr>\n",
       "    <tr>\n",
       "      <th>7</th>\n",
       "      <td>190400316265</td>\n",
       "      <td>2</td>\n",
       "      <td>290491</td>\n",
       "      <td>1,000</td>\n",
       "      <td>,000</td>\n",
       "      <td>5,42</td>\n",
       "      <td>4,22</td>\n",
       "    </tr>\n",
       "    <tr>\n",
       "      <th>8</th>\n",
       "      <td>190400316270</td>\n",
       "      <td>6</td>\n",
       "      <td>932088</td>\n",
       "      <td>1,000</td>\n",
       "      <td>,000</td>\n",
       "      <td>6,25</td>\n",
       "      <td>6,25</td>\n",
       "    </tr>\n",
       "    <tr>\n",
       "      <th>9</th>\n",
       "      <td>190400316270</td>\n",
       "      <td>4</td>\n",
       "      <td>165207</td>\n",
       "      <td>3,000</td>\n",
       "      <td>2,250</td>\n",
       "      <td>20,22</td>\n",
       "      <td>10,29</td>\n",
       "    </tr>\n",
       "  </tbody>\n",
       "</table>\n",
       "</div>"
      ],
      "text/plain": [
       "       IDTICKET  NUMLIGNETICKET IDARTICLE QUANTITE MONTANTREMISE  TOTAL  \\\n",
       "0  190400316260               2    246208    1,000          ,000   4,96   \n",
       "1  190400316262               2     33725    1,000          ,000   8,25   \n",
       "2  190400316262               3    634497    1,000          ,000   5,79   \n",
       "3  190400316262               1    257613    1,000          ,000  18,29   \n",
       "4  190400316263               1    257627    1,000          ,000  49,92   \n",
       "5  190400316265               1    320054    1,000          ,000   6,42   \n",
       "6  190400316265               3    835984    1,000          ,000  37,42   \n",
       "7  190400316265               2    290491    1,000          ,000   5,42   \n",
       "8  190400316270               6    932088    1,000          ,000   6,25   \n",
       "9  190400316270               4    165207    3,000         2,250  20,22   \n",
       "\n",
       "  MARGESORTIE  \n",
       "0        2,37  \n",
       "1        3,63  \n",
       "2        3,63  \n",
       "3        6,21  \n",
       "4       10,42  \n",
       "5         ,67  \n",
       "6       13,78  \n",
       "7        4,22  \n",
       "8        6,25  \n",
       "9       10,29  "
      ]
     },
     "execution_count": 84,
     "metadata": {},
     "output_type": "execute_result"
    }
   ],
   "source": [
    "data3.head(10)"
   ]
  },
  {
   "cell_type": "code",
   "execution_count": 85,
   "id": "432bef13829a5be7",
   "metadata": {
    "ExecuteTime": {
     "end_time": "2024-05-30T08:07:26.506169Z",
     "start_time": "2024-05-30T08:07:26.501035Z"
    }
   },
   "outputs": [
    {
     "data": {
      "text/html": [
       "<div>\n",
       "<style scoped>\n",
       "    .dataframe tbody tr th:only-of-type {\n",
       "        vertical-align: middle;\n",
       "    }\n",
       "\n",
       "    .dataframe tbody tr th {\n",
       "        vertical-align: top;\n",
       "    }\n",
       "\n",
       "    .dataframe thead th {\n",
       "        text-align: right;\n",
       "    }\n",
       "</style>\n",
       "<table border=\"1\" class=\"dataframe\">\n",
       "  <thead>\n",
       "    <tr style=\"text-align: right;\">\n",
       "      <th></th>\n",
       "      <th>IDTICKET</th>\n",
       "      <th>NUMLIGNETICKET</th>\n",
       "      <th>IDARTICLE</th>\n",
       "      <th>QUANTITE</th>\n",
       "      <th>MONTANTREMISE</th>\n",
       "      <th>TOTAL</th>\n",
       "      <th>MARGESORTIE</th>\n",
       "    </tr>\n",
       "  </thead>\n",
       "  <tbody>\n",
       "    <tr>\n",
       "      <th>34105695</th>\n",
       "      <td>340200383182</td>\n",
       "      <td>4</td>\n",
       "      <td>36771</td>\n",
       "      <td>1</td>\n",
       "      <td>0</td>\n",
       "      <td>7,46</td>\n",
       "      <td>5,81</td>\n",
       "    </tr>\n",
       "    <tr>\n",
       "      <th>34105696</th>\n",
       "      <td>340200383182</td>\n",
       "      <td>5</td>\n",
       "      <td>179749</td>\n",
       "      <td>2</td>\n",
       "      <td>0</td>\n",
       "      <td>14,92</td>\n",
       "      <td>8,78</td>\n",
       "    </tr>\n",
       "    <tr>\n",
       "      <th>34105697</th>\n",
       "      <td>340200383182</td>\n",
       "      <td>6</td>\n",
       "      <td>699430</td>\n",
       "      <td>3</td>\n",
       "      <td>0</td>\n",
       "      <td>19,87</td>\n",
       "      <td>13,75</td>\n",
       "    </tr>\n",
       "    <tr>\n",
       "      <th>34105698</th>\n",
       "      <td>340200383182</td>\n",
       "      <td>7</td>\n",
       "      <td>784813</td>\n",
       "      <td>1</td>\n",
       "      <td>0</td>\n",
       "      <td>8,29</td>\n",
       "      <td>5,32</td>\n",
       "    </tr>\n",
       "    <tr>\n",
       "      <th>34105699</th>\n",
       "      <td>340200383203</td>\n",
       "      <td>1</td>\n",
       "      <td>257645</td>\n",
       "      <td>1</td>\n",
       "      <td>0</td>\n",
       "      <td>4,69</td>\n",
       "      <td>1,84</td>\n",
       "    </tr>\n",
       "    <tr>\n",
       "      <th>34105700</th>\n",
       "      <td>340200383203</td>\n",
       "      <td>2</td>\n",
       "      <td>257643</td>\n",
       "      <td>1</td>\n",
       "      <td>0</td>\n",
       "      <td>4,69</td>\n",
       "      <td>1,83</td>\n",
       "    </tr>\n",
       "    <tr>\n",
       "      <th>34105701</th>\n",
       "      <td>340200383203</td>\n",
       "      <td>3</td>\n",
       "      <td>50170</td>\n",
       "      <td>1</td>\n",
       "      <td>0</td>\n",
       "      <td>3,18</td>\n",
       "      <td>1</td>\n",
       "    </tr>\n",
       "    <tr>\n",
       "      <th>34105702</th>\n",
       "      <td>340200383203</td>\n",
       "      <td>4</td>\n",
       "      <td>349345</td>\n",
       "      <td>1</td>\n",
       "      <td>0</td>\n",
       "      <td>3,46</td>\n",
       "      <td>1,13</td>\n",
       "    </tr>\n",
       "    <tr>\n",
       "      <th>34105703</th>\n",
       "      <td>340200383203</td>\n",
       "      <td>5</td>\n",
       "      <td>250580</td>\n",
       "      <td>2</td>\n",
       "      <td>0</td>\n",
       "      <td>6,8</td>\n",
       "      <td>2,18</td>\n",
       "    </tr>\n",
       "    <tr>\n",
       "      <th>34105704</th>\n",
       "      <td>340200383217</td>\n",
       "      <td>1</td>\n",
       "      <td>816313</td>\n",
       "      <td>20</td>\n",
       "      <td>1,818</td>\n",
       "      <td>1,82</td>\n",
       "      <td>1,42</td>\n",
       "    </tr>\n",
       "  </tbody>\n",
       "</table>\n",
       "</div>"
      ],
      "text/plain": [
       "              IDTICKET  NUMLIGNETICKET IDARTICLE QUANTITE MONTANTREMISE  \\\n",
       "34105695  340200383182               4     36771        1             0   \n",
       "34105696  340200383182               5    179749        2             0   \n",
       "34105697  340200383182               6    699430        3             0   \n",
       "34105698  340200383182               7    784813        1             0   \n",
       "34105699  340200383203               1    257645        1             0   \n",
       "34105700  340200383203               2    257643        1             0   \n",
       "34105701  340200383203               3     50170        1             0   \n",
       "34105702  340200383203               4    349345        1             0   \n",
       "34105703  340200383203               5    250580        2             0   \n",
       "34105704  340200383217               1    816313       20         1,818   \n",
       "\n",
       "          TOTAL MARGESORTIE  \n",
       "34105695   7,46        5,81  \n",
       "34105696  14,92        8,78  \n",
       "34105697  19,87       13,75  \n",
       "34105698   8,29        5,32  \n",
       "34105699   4,69        1,84  \n",
       "34105700   4,69        1,83  \n",
       "34105701   3,18           1  \n",
       "34105702   3,46        1,13  \n",
       "34105703    6,8        2,18  \n",
       "34105704   1,82        1,42  "
      ]
     },
     "execution_count": 85,
     "metadata": {},
     "output_type": "execute_result"
    }
   ],
   "source": [
    "data3.tail(10)"
   ]
  },
  {
   "cell_type": "markdown",
   "id": "879f15ff",
   "metadata": {},
   "source": [
    "Afin d'exploiter de façon optimale les informations, nous allons convetir les l'ID TICKET et le NUM LIGNE TICKET en caractère. A l'inverse, nous devons convertir les quantités, les montants, les totaux et les marges en valeur numérique."
   ]
  },
  {
   "cell_type": "code",
   "execution_count": 86,
   "id": "e16e2882",
   "metadata": {
    "ExecuteTime": {
     "end_time": "2024-05-30T08:28:27.052080Z",
     "start_time": "2024-05-30T08:28:19.490020Z"
    }
   },
   "outputs": [],
   "source": [
    "data3['IDTICKET'] = data3['IDTICKET'].astype(str)\n",
    "data3['NUMLIGNETICKET'] = data3['NUMLIGNETICKET'].astype(str)"
   ]
  },
  {
   "cell_type": "code",
   "execution_count": 87,
   "id": "ab1241a4",
   "metadata": {
    "ExecuteTime": {
     "end_time": "2024-05-30T08:28:31.560926Z",
     "start_time": "2024-05-30T08:28:27.947810Z"
    }
   },
   "outputs": [],
   "source": [
    "data3[\"QUANTITE\"]=data3['QUANTITE'].str.replace(',', '.').astype(float)"
   ]
  },
  {
   "cell_type": "code",
   "execution_count": 88,
   "id": "7ae4a9e4",
   "metadata": {
    "ExecuteTime": {
     "end_time": "2024-05-30T08:28:38.756530Z",
     "start_time": "2024-05-30T08:28:34.123718Z"
    }
   },
   "outputs": [],
   "source": [
    "data3[\"TOTAL\"]=data3['TOTAL'].str.replace(',', '.').astype(float)"
   ]
  },
  {
   "cell_type": "code",
   "execution_count": 89,
   "id": "2107a3b0",
   "metadata": {
    "ExecuteTime": {
     "end_time": "2024-05-30T08:28:44.201177Z",
     "start_time": "2024-05-30T08:28:40.405491Z"
    }
   },
   "outputs": [],
   "source": [
    "data3[\"MONTANTREMISE\"]=data3['MONTANTREMISE'].str.replace(',', '.').astype(float)"
   ]
  },
  {
   "cell_type": "code",
   "execution_count": 90,
   "id": "a4af99cf",
   "metadata": {
    "ExecuteTime": {
     "end_time": "2024-05-30T08:28:49.400954Z",
     "start_time": "2024-05-30T08:28:44.822600Z"
    }
   },
   "outputs": [],
   "source": [
    "data3[\"MARGESORTIE\"]=data3['MARGESORTIE'].str.replace(',', '.').astype(float)"
   ]
  },
  {
   "cell_type": "markdown",
   "id": "2f9d934c",
   "metadata": {},
   "source": [
    "Vérification du traitement."
   ]
  },
  {
   "cell_type": "code",
   "execution_count": 91,
   "id": "6a613fee6515f8f4",
   "metadata": {
    "ExecuteTime": {
     "end_time": "2024-05-30T08:28:50.787663Z",
     "start_time": "2024-05-30T08:28:50.780981Z"
    }
   },
   "outputs": [
    {
     "name": "stdout",
     "output_type": "stream",
     "text": [
      "<class 'pandas.core.frame.DataFrame'>\n",
      "RangeIndex: 34105705 entries, 0 to 34105704\n",
      "Data columns (total 7 columns):\n",
      " #   Column          Dtype  \n",
      "---  ------          -----  \n",
      " 0   IDTICKET        object \n",
      " 1   NUMLIGNETICKET  object \n",
      " 2   IDARTICLE       object \n",
      " 3   QUANTITE        float64\n",
      " 4   MONTANTREMISE   float64\n",
      " 5   TOTAL           float64\n",
      " 6   MARGESORTIE     float64\n",
      "dtypes: float64(4), object(3)\n",
      "memory usage: 1.8+ GB\n",
      "None\n"
     ]
    }
   ],
   "source": [
    "print(data3.info())"
   ]
  },
  {
   "cell_type": "code",
   "execution_count": 92,
   "id": "efaf7db0",
   "metadata": {
    "ExecuteTime": {
     "end_time": "2024-05-30T08:28:51.866057Z",
     "start_time": "2024-05-30T08:28:51.857428Z"
    }
   },
   "outputs": [
    {
     "data": {
      "text/html": [
       "<div>\n",
       "<style scoped>\n",
       "    .dataframe tbody tr th:only-of-type {\n",
       "        vertical-align: middle;\n",
       "    }\n",
       "\n",
       "    .dataframe tbody tr th {\n",
       "        vertical-align: top;\n",
       "    }\n",
       "\n",
       "    .dataframe thead th {\n",
       "        text-align: right;\n",
       "    }\n",
       "</style>\n",
       "<table border=\"1\" class=\"dataframe\">\n",
       "  <thead>\n",
       "    <tr style=\"text-align: right;\">\n",
       "      <th></th>\n",
       "      <th>IDTICKET</th>\n",
       "      <th>NUMLIGNETICKET</th>\n",
       "      <th>IDARTICLE</th>\n",
       "      <th>QUANTITE</th>\n",
       "      <th>MONTANTREMISE</th>\n",
       "      <th>TOTAL</th>\n",
       "      <th>MARGESORTIE</th>\n",
       "    </tr>\n",
       "  </thead>\n",
       "  <tbody>\n",
       "    <tr>\n",
       "      <th>0</th>\n",
       "      <td>190400316260</td>\n",
       "      <td>2</td>\n",
       "      <td>246208</td>\n",
       "      <td>1.0</td>\n",
       "      <td>0.000</td>\n",
       "      <td>4.96</td>\n",
       "      <td>2.37</td>\n",
       "    </tr>\n",
       "    <tr>\n",
       "      <th>1</th>\n",
       "      <td>190400316262</td>\n",
       "      <td>2</td>\n",
       "      <td>33725</td>\n",
       "      <td>1.0</td>\n",
       "      <td>0.000</td>\n",
       "      <td>8.25</td>\n",
       "      <td>3.63</td>\n",
       "    </tr>\n",
       "    <tr>\n",
       "      <th>2</th>\n",
       "      <td>190400316262</td>\n",
       "      <td>3</td>\n",
       "      <td>634497</td>\n",
       "      <td>1.0</td>\n",
       "      <td>0.000</td>\n",
       "      <td>5.79</td>\n",
       "      <td>3.63</td>\n",
       "    </tr>\n",
       "    <tr>\n",
       "      <th>3</th>\n",
       "      <td>190400316262</td>\n",
       "      <td>1</td>\n",
       "      <td>257613</td>\n",
       "      <td>1.0</td>\n",
       "      <td>0.000</td>\n",
       "      <td>18.29</td>\n",
       "      <td>6.21</td>\n",
       "    </tr>\n",
       "    <tr>\n",
       "      <th>4</th>\n",
       "      <td>190400316263</td>\n",
       "      <td>1</td>\n",
       "      <td>257627</td>\n",
       "      <td>1.0</td>\n",
       "      <td>0.000</td>\n",
       "      <td>49.92</td>\n",
       "      <td>10.42</td>\n",
       "    </tr>\n",
       "    <tr>\n",
       "      <th>...</th>\n",
       "      <td>...</td>\n",
       "      <td>...</td>\n",
       "      <td>...</td>\n",
       "      <td>...</td>\n",
       "      <td>...</td>\n",
       "      <td>...</td>\n",
       "      <td>...</td>\n",
       "    </tr>\n",
       "    <tr>\n",
       "      <th>34105700</th>\n",
       "      <td>340200383203</td>\n",
       "      <td>2</td>\n",
       "      <td>257643</td>\n",
       "      <td>1.0</td>\n",
       "      <td>0.000</td>\n",
       "      <td>4.69</td>\n",
       "      <td>1.83</td>\n",
       "    </tr>\n",
       "    <tr>\n",
       "      <th>34105701</th>\n",
       "      <td>340200383203</td>\n",
       "      <td>3</td>\n",
       "      <td>50170</td>\n",
       "      <td>1.0</td>\n",
       "      <td>0.000</td>\n",
       "      <td>3.18</td>\n",
       "      <td>1.00</td>\n",
       "    </tr>\n",
       "    <tr>\n",
       "      <th>34105702</th>\n",
       "      <td>340200383203</td>\n",
       "      <td>4</td>\n",
       "      <td>349345</td>\n",
       "      <td>1.0</td>\n",
       "      <td>0.000</td>\n",
       "      <td>3.46</td>\n",
       "      <td>1.13</td>\n",
       "    </tr>\n",
       "    <tr>\n",
       "      <th>34105703</th>\n",
       "      <td>340200383203</td>\n",
       "      <td>5</td>\n",
       "      <td>250580</td>\n",
       "      <td>2.0</td>\n",
       "      <td>0.000</td>\n",
       "      <td>6.80</td>\n",
       "      <td>2.18</td>\n",
       "    </tr>\n",
       "    <tr>\n",
       "      <th>34105704</th>\n",
       "      <td>340200383217</td>\n",
       "      <td>1</td>\n",
       "      <td>816313</td>\n",
       "      <td>20.0</td>\n",
       "      <td>1.818</td>\n",
       "      <td>1.82</td>\n",
       "      <td>1.42</td>\n",
       "    </tr>\n",
       "  </tbody>\n",
       "</table>\n",
       "<p>34105705 rows × 7 columns</p>\n",
       "</div>"
      ],
      "text/plain": [
       "              IDTICKET NUMLIGNETICKET IDARTICLE  QUANTITE  MONTANTREMISE  \\\n",
       "0         190400316260              2    246208       1.0          0.000   \n",
       "1         190400316262              2     33725       1.0          0.000   \n",
       "2         190400316262              3    634497       1.0          0.000   \n",
       "3         190400316262              1    257613       1.0          0.000   \n",
       "4         190400316263              1    257627       1.0          0.000   \n",
       "...                ...            ...       ...       ...            ...   \n",
       "34105700  340200383203              2    257643       1.0          0.000   \n",
       "34105701  340200383203              3     50170       1.0          0.000   \n",
       "34105702  340200383203              4    349345       1.0          0.000   \n",
       "34105703  340200383203              5    250580       2.0          0.000   \n",
       "34105704  340200383217              1    816313      20.0          1.818   \n",
       "\n",
       "          TOTAL  MARGESORTIE  \n",
       "0          4.96         2.37  \n",
       "1          8.25         3.63  \n",
       "2          5.79         3.63  \n",
       "3         18.29         6.21  \n",
       "4         49.92        10.42  \n",
       "...         ...          ...  \n",
       "34105700   4.69         1.83  \n",
       "34105701   3.18         1.00  \n",
       "34105702   3.46         1.13  \n",
       "34105703   6.80         2.18  \n",
       "34105704   1.82         1.42  \n",
       "\n",
       "[34105705 rows x 7 columns]"
      ]
     },
     "execution_count": 92,
     "metadata": {},
     "output_type": "execute_result"
    }
   ],
   "source": [
    "data3"
   ]
  },
  {
   "cell_type": "code",
   "execution_count": 93,
   "id": "e8a3774d59eff393",
   "metadata": {
    "ExecuteTime": {
     "end_time": "2024-05-30T08:28:57.292273Z",
     "start_time": "2024-05-30T08:28:53.107992Z"
    }
   },
   "outputs": [
    {
     "data": {
      "text/html": [
       "<div>\n",
       "<style scoped>\n",
       "    .dataframe tbody tr th:only-of-type {\n",
       "        vertical-align: middle;\n",
       "    }\n",
       "\n",
       "    .dataframe tbody tr th {\n",
       "        vertical-align: top;\n",
       "    }\n",
       "\n",
       "    .dataframe thead th {\n",
       "        text-align: right;\n",
       "    }\n",
       "</style>\n",
       "<table border=\"1\" class=\"dataframe\">\n",
       "  <thead>\n",
       "    <tr style=\"text-align: right;\">\n",
       "      <th></th>\n",
       "      <th>QUANTITE</th>\n",
       "      <th>MONTANTREMISE</th>\n",
       "      <th>TOTAL</th>\n",
       "      <th>MARGESORTIE</th>\n",
       "    </tr>\n",
       "  </thead>\n",
       "  <tbody>\n",
       "    <tr>\n",
       "      <th>count</th>\n",
       "      <td>3.410570e+07</td>\n",
       "      <td>3.410570e+07</td>\n",
       "      <td>3.410570e+07</td>\n",
       "      <td>3.410570e+07</td>\n",
       "    </tr>\n",
       "    <tr>\n",
       "      <th>mean</th>\n",
       "      <td>1.330773e+00</td>\n",
       "      <td>9.912670e-01</td>\n",
       "      <td>9.937605e+00</td>\n",
       "      <td>4.224984e+00</td>\n",
       "    </tr>\n",
       "    <tr>\n",
       "      <th>std</th>\n",
       "      <td>2.269013e+00</td>\n",
       "      <td>6.086740e+00</td>\n",
       "      <td>2.426155e+01</td>\n",
       "      <td>1.166608e+01</td>\n",
       "    </tr>\n",
       "    <tr>\n",
       "      <th>min</th>\n",
       "      <td>-1.550000e+02</td>\n",
       "      <td>-4.269420e+02</td>\n",
       "      <td>-1.500000e+04</td>\n",
       "      <td>-1.500000e+04</td>\n",
       "    </tr>\n",
       "    <tr>\n",
       "      <th>25%</th>\n",
       "      <td>1.000000e+00</td>\n",
       "      <td>0.000000e+00</td>\n",
       "      <td>2.820000e+00</td>\n",
       "      <td>9.900000e-01</td>\n",
       "    </tr>\n",
       "    <tr>\n",
       "      <th>50%</th>\n",
       "      <td>1.000000e+00</td>\n",
       "      <td>0.000000e+00</td>\n",
       "      <td>5.210000e+00</td>\n",
       "      <td>2.260000e+00</td>\n",
       "    </tr>\n",
       "    <tr>\n",
       "      <th>75%</th>\n",
       "      <td>1.000000e+00</td>\n",
       "      <td>4.730000e-01</td>\n",
       "      <td>1.050000e+01</td>\n",
       "      <td>5.210000e+00</td>\n",
       "    </tr>\n",
       "    <tr>\n",
       "      <th>max</th>\n",
       "      <td>9.990000e+02</td>\n",
       "      <td>1.316667e+04</td>\n",
       "      <td>1.500000e+04</td>\n",
       "      <td>1.500000e+04</td>\n",
       "    </tr>\n",
       "  </tbody>\n",
       "</table>\n",
       "</div>"
      ],
      "text/plain": [
       "           QUANTITE  MONTANTREMISE         TOTAL   MARGESORTIE\n",
       "count  3.410570e+07   3.410570e+07  3.410570e+07  3.410570e+07\n",
       "mean   1.330773e+00   9.912670e-01  9.937605e+00  4.224984e+00\n",
       "std    2.269013e+00   6.086740e+00  2.426155e+01  1.166608e+01\n",
       "min   -1.550000e+02  -4.269420e+02 -1.500000e+04 -1.500000e+04\n",
       "25%    1.000000e+00   0.000000e+00  2.820000e+00  9.900000e-01\n",
       "50%    1.000000e+00   0.000000e+00  5.210000e+00  2.260000e+00\n",
       "75%    1.000000e+00   4.730000e-01  1.050000e+01  5.210000e+00\n",
       "max    9.990000e+02   1.316667e+04  1.500000e+04  1.500000e+04"
      ]
     },
     "execution_count": 93,
     "metadata": {},
     "output_type": "execute_result"
    }
   ],
   "source": [
    "data3.describe()"
   ]
  },
  {
   "cell_type": "code",
   "execution_count": 94,
   "id": "62d93cb3240c4ea7",
   "metadata": {
    "ExecuteTime": {
     "end_time": "2024-05-30T08:28:59.682694Z",
     "start_time": "2024-05-30T08:28:59.318127Z"
    }
   },
   "outputs": [
    {
     "data": {
      "text/plain": [
       "(34105705, 4)"
      ]
     },
     "execution_count": 94,
     "metadata": {},
     "output_type": "execute_result"
    }
   ],
   "source": [
    "columns=['QUANTITE', 'MONTANTREMISE', 'TOTAL', 'MARGESORTIE']\n",
    "data3[columns].shape"
   ]
  },
  {
   "cell_type": "code",
   "execution_count": 95,
   "id": "4bb8975c8faea6ca",
   "metadata": {
    "ExecuteTime": {
     "end_time": "2024-05-30T08:29:01.258872Z",
     "start_time": "2024-05-30T08:29:00.914702Z"
    }
   },
   "outputs": [
    {
     "data": {
      "text/plain": [
       "QUANTITE           999.000\n",
       "MONTANTREMISE    13166.667\n",
       "TOTAL            15000.000\n",
       "MARGESORTIE      15000.000\n",
       "dtype: float64"
      ]
     },
     "execution_count": 95,
     "metadata": {},
     "output_type": "execute_result"
    }
   ],
   "source": [
    "data3[columns].max()"
   ]
  },
  {
   "cell_type": "markdown",
   "id": "f032e5ab08adcd79",
   "metadata": {},
   "source": [
    "Il convient à présent de vérifier la présence de valeur aberrantes."
   ]
  },
  {
   "cell_type": "code",
   "execution_count": 96,
   "id": "5be956ba836ee434",
   "metadata": {
    "ExecuteTime": {
     "end_time": "2024-05-30T08:29:02.701488Z",
     "start_time": "2024-05-30T08:29:02.699184Z"
    }
   },
   "outputs": [],
   "source": [
    "def boxplot(data3):\n",
    "    plt.figure(figsize=(16, 6))\n",
    "    sns.boxplot(data=data3)\n",
    "    plt.grid()\n"
   ]
  },
  {
   "cell_type": "code",
   "execution_count": 97,
   "id": "a46e2221995e943",
   "metadata": {
    "ExecuteTime": {
     "end_time": "2024-05-30T08:12:40.480110Z",
     "start_time": "2024-05-30T08:08:54.406875Z"
    }
   },
   "outputs": [
    {
     "data": {
      "image/png": "[encoded data removed]",
      "text/plain": [
       "<Figure size 1600x600 with 1 Axes>"
      ]
     },
     "metadata": {},
     "output_type": "display_data"
    }
   ],
   "source": [
    "boxplot(data3)"
   ]
  },
  {
   "cell_type": "code",
   "execution_count": 98,
   "id": "88188d8ff1315ba7",
   "metadata": {
    "ExecuteTime": {
     "end_time": "2024-05-30T08:14:30.521494Z",
     "start_time": "2024-05-30T08:14:02.127056Z"
    }
   },
   "outputs": [
    {
     "name": "stdout",
     "output_type": "stream",
     "text": [
      "Outliers détectés dans la colonne 'QUANTITE':\n",
      "              IDTICKET NUMLIGNETICKET IDARTICLE  QUANTITE  MONTANTREMISE  \\\n",
      "9         190400316270              4    165207       3.0          2.250   \n",
      "10        190400316270              5    165291       3.0          1.483   \n",
      "18        190400316273              4    248244       2.0          0.000   \n",
      "23        190400316273              7    248214       2.0          0.000   \n",
      "37        190400316277              1    784645       3.0          0.000   \n",
      "...                ...            ...       ...       ...            ...   \n",
      "34105688  130400568238              4    155554       2.0          0.000   \n",
      "34105696  340200383182              5    179749       2.0          0.000   \n",
      "34105697  340200383182              6    699430       3.0          0.000   \n",
      "34105703  340200383203              5    250580       2.0          0.000   \n",
      "34105704  340200383217              1    816313      20.0          1.818   \n",
      "\n",
      "          TOTAL  MARGESORTIE  \n",
      "9         20.22        10.29  \n",
      "10        13.39         7.09  \n",
      "18         3.88         0.94  \n",
      "23         3.76         0.78  \n",
      "37         4.87         3.28  \n",
      "...         ...          ...  \n",
      "34105688  40.56        12.04  \n",
      "34105696  14.92         8.78  \n",
      "34105697  19.87        13.75  \n",
      "34105703   6.80         2.18  \n",
      "34105704   1.82         1.42  \n",
      "\n",
      "[8674864 rows x 7 columns]\n",
      "Outliers détectés dans la colonne 'MONTANTREMISE':\n",
      "              IDTICKET NUMLIGNETICKET IDARTICLE  QUANTITE  MONTANTREMISE  \\\n",
      "9         190400316270              4    165207       3.0          2.250   \n",
      "10        190400316270              5    165291       3.0          1.483   \n",
      "13        190400316270              3    107538       1.0          1.208   \n",
      "44        190400316292              1    259792       2.0         32.500   \n",
      "45        190400316295              4    494033       2.0         10.836   \n",
      "...                ...            ...       ...       ...            ...   \n",
      "34105666  130400568243              1    152516       5.0         12.500   \n",
      "34105672  130400568252              2    250083       1.0          2.458   \n",
      "34105682  340100604955              4    816313      72.0          6.545   \n",
      "34105684  130400568206              1    127100       1.0          4.545   \n",
      "34105704  340200383217              1    816313      20.0          1.818   \n",
      "\n",
      "           TOTAL  MARGESORTIE  \n",
      "9          20.22        10.29  \n",
      "10         13.39         7.09  \n",
      "13         10.87         5.74  \n",
      "44        132.50        38.38  \n",
      "45         18.16         3.96  \n",
      "...          ...          ...  \n",
      "34105666   57.92        28.42  \n",
      "34105672    0.83        -0.68  \n",
      "34105682    6.55         5.11  \n",
      "34105684   18.14         7.19  \n",
      "34105704    1.82         1.42  \n",
      "\n",
      "[5073982 rows x 7 columns]\n",
      "Outliers détectés dans la colonne 'TOTAL':\n",
      "              IDTICKET NUMLIGNETICKET IDARTICLE  QUANTITE  MONTANTREMISE  \\\n",
      "4         190400316263              1    257627       1.0            0.0   \n",
      "6         190400316265              3    835984       1.0            0.0   \n",
      "26        190400316276              1    887442       1.0            0.0   \n",
      "34        190400316276              3    276085       1.0            0.0   \n",
      "38        190400316289              1    916373       2.0            0.0   \n",
      "...                ...            ...       ...       ...            ...   \n",
      "34105669  130400568243              4    386116       1.0            0.0   \n",
      "34105670  130400568243              5    207472       2.0            0.0   \n",
      "34105681  340100604955              3    699385       3.0            0.0   \n",
      "34105683  130400568253             16    213492       2.0            0.0   \n",
      "34105688  130400568238              4    155554       2.0            0.0   \n",
      "\n",
      "          TOTAL  MARGESORTIE  \n",
      "4         49.92        10.42  \n",
      "6         37.42        13.78  \n",
      "26        24.58        12.39  \n",
      "34        35.45        14.50  \n",
      "38        23.54        13.68  \n",
      "...         ...          ...  \n",
      "34105669  54.08        21.19  \n",
      "34105670  59.98        25.90  \n",
      "34105681  22.37        14.12  \n",
      "34105683  35.00        14.86  \n",
      "34105688  40.56        12.04  \n",
      "\n",
      "[3139642 rows x 7 columns]\n",
      "Outliers détectés dans la colonne 'MARGESORTIE':\n",
      "              IDTICKET NUMLIGNETICKET IDARTICLE  QUANTITE  MONTANTREMISE  \\\n",
      "6         190400316265              3    835984       1.0            0.0   \n",
      "26        190400316276              1    887442       1.0            0.0   \n",
      "34        190400316276              3    276085       1.0            0.0   \n",
      "38        190400316289              1    916373       2.0            0.0   \n",
      "42        190400316290              1    345231       1.0            0.0   \n",
      "...                ...            ...       ...       ...            ...   \n",
      "34105670  130400568243              5    207472       2.0            0.0   \n",
      "34105681  340100604955              3    699385       3.0            0.0   \n",
      "34105683  130400568253             16    213492       2.0            0.0   \n",
      "34105688  130400568238              4    155554       2.0            0.0   \n",
      "34105697  340200383182              6    699430       3.0            0.0   \n",
      "\n",
      "          TOTAL  MARGESORTIE  \n",
      "6         37.42        13.78  \n",
      "26        24.58        12.39  \n",
      "34        35.45        14.50  \n",
      "38        23.54        13.68  \n",
      "42        66.62        27.09  \n",
      "...         ...          ...  \n",
      "34105670  59.98        25.90  \n",
      "34105681  22.37        14.12  \n",
      "34105683  35.00        14.86  \n",
      "34105688  40.56        12.04  \n",
      "34105697  19.87        13.75  \n",
      "\n",
      "[2636217 rows x 7 columns]\n"
     ]
    }
   ],
   "source": [
    "from pandas.api.types import is_numeric_dtype\n",
    "\n",
    "# Fonction pour détecter les outliers en utilisant l'IQR\n",
    "def detect_outliers_iqr(data3, column):\n",
    "    Q1 = data3[column].quantile(0.25)\n",
    "    Q3 = data3[column].quantile(0.75)\n",
    "    IQR = Q3 - Q1\n",
    "    lower_bound = Q1 - 1.5 * IQR\n",
    "    upper_bound = Q3 + 1.5 * IQR\n",
    "    outliers = data3[(data3[column] < lower_bound) | (data3[column] > upper_bound)]\n",
    "    return outliers\n",
    "\n",
    "# Boucler à travers les colonnes numériques pour détecter les outliers\n",
    "for col in data3.columns:\n",
    "    if is_numeric_dtype(data3[col]):\n",
    "        outliers = detect_outliers_iqr(data3, col)\n",
    "        if len(outliers) > 0:\n",
    "            print(f\"Outliers détectés dans la colonne '{col}':\")\n",
    "            print(outliers)"
   ]
  },
  {
   "cell_type": "code",
   "execution_count": 99,
   "id": "92ca750702a399b6",
   "metadata": {
    "ExecuteTime": {
     "end_time": "2024-05-30T08:17:35.933793Z",
     "start_time": "2024-05-30T08:17:32.393709Z"
    }
   },
   "outputs": [],
   "source": [
    "# Fonction pour imputer les outliers \n",
    "def impute_outliers(data3, columns):\n",
    "    Q1 = np.percentile(data3[columns],25)\n",
    "    Q3 = np.percentile(data3[columns],75)\n",
    "    IQR = Q3 - Q1\n",
    "    lower_bound = Q1 - 1.5 * IQR\n",
    "    upper_bound = Q3 + 1.5 * IQR\n",
    "    data3.loc[data3[columns] < lower_bound, columns] = lower_bound \n",
    "    data3.loc[data3[columns] > upper_bound,columns]=upper_bound\n",
    "for columns in columns:\n",
    "    impute_outliers(data3,columns)"
   ]
  },
  {
   "cell_type": "code",
   "execution_count": 100,
   "id": "b1db2ea7cdd4f7b1",
   "metadata": {
    "ExecuteTime": {
     "end_time": "2024-05-30T07:36:42.407901Z",
     "start_time": "2024-05-30T07:36:22.216234Z"
    }
   },
   "outputs": [
    {
     "data": {
      "image/png": "[encoded data removed]",
      "text/plain": [
       "<Figure size 1200x600 with 1 Axes>"
      ]
     },
     "metadata": {},
     "output_type": "display_data"
    }
   ],
   "source": [
    "# Visualiser les outliers en utilisant un boxplot avec Seaborn\n",
    "plt.figure(figsize=(12, 6))\n",
    "sns.boxplot(data=data3, x='QUANTITE')\n",
    "plt.xlabel('QUANTITE DES ARTICLES ACHETÉS')\n",
    "plt.title(\"BOXPLOT DES QUANTITES DES ARTICLES ACHETÉS\")\n",
    "plt.show()"
   ]
  },
  {
   "cell_type": "code",
   "execution_count": 101,
   "id": "9b6fcc1a1dbfc8d6",
   "metadata": {
    "ExecuteTime": {
     "end_time": "2024-05-30T07:37:02.446059Z",
     "start_time": "2024-05-30T07:36:42.409742Z"
    }
   },
   "outputs": [
    {
     "data": {
      "image/png": "[encoded data removed]",
      "text/plain": [
       "<Figure size 1200x600 with 1 Axes>"
      ]
     },
     "metadata": {},
     "output_type": "display_data"
    }
   ],
   "source": [
    "# Visualiser les outliers en utilisant un boxplot avec Seaborn\n",
    "plt.figure(figsize=(12, 6))\n",
    "sns.boxplot(data=data3, x='TOTAL')\n",
    "plt.xlabel('TOTAL DES ARTICLES ACHETÉS')\n",
    "plt.title(\"BOXPLOT DES TOTAUX DES ARTICLES ACHETÉS\")\n",
    "plt.show()"
   ]
  },
  {
   "cell_type": "code",
   "execution_count": 102,
   "id": "6646fbbc410929b7",
   "metadata": {
    "ExecuteTime": {
     "end_time": "2024-05-30T07:46:30.461297Z",
     "start_time": "2024-05-30T07:46:09.426563Z"
    }
   },
   "outputs": [
    {
     "data": {
      "image/png": "[encoded data removed]",
      "text/plain": [
       "<Figure size 1200x600 with 1 Axes>"
      ]
     },
     "metadata": {},
     "output_type": "display_data"
    }
   ],
   "source": [
    "# Visualiser les outliers en utilisant un boxplot avec Seaborn\n",
    "plt.figure(figsize=(12, 6))\n",
    "sns.boxplot(data=data3, x='MONTANTREMISE')\n",
    "plt.xlabel('MONTANT REMISE PAR CLIENT')\n",
    "plt.title(\"BOXPLOT DES MONTANTS REMISE PAR CLIENT\")\n",
    "plt.show()"
   ]
  },
  {
   "cell_type": "code",
   "execution_count": 103,
   "id": "df09e9a7b1d6b226",
   "metadata": {
    "ExecuteTime": {
     "end_time": "2024-05-29T12:40:42.689701Z",
     "start_time": "2024-05-29T12:40:24.437459Z"
    }
   },
   "outputs": [
    {
     "data": {
      "image/png": "[encoded data removed]",
      "text/plain": [
       "<Figure size 1200x600 with 1 Axes>"
      ]
     },
     "metadata": {},
     "output_type": "display_data"
    }
   ],
   "source": [
    "# Visualiser les outliers en utilisant un boxplot avec Seaborn\n",
    "plt.figure(figsize=(12, 6))\n",
    "sns.boxplot(data=data3, x='MARGESORTIE')\n",
    "plt.xlabel('MARGE RÉALISÉE PAR CLIENT')\n",
    "plt.title(\"BOXPLOT DES MARGES RÉALISÉES PAR CLIENT\")\n",
    "plt.show()"
   ]
  },
  {
   "cell_type": "code",
   "execution_count": 104,
   "id": "9a34a51805ec22ca",
   "metadata": {
    "ExecuteTime": {
     "end_time": "2024-05-30T08:18:24.467725Z",
     "start_time": "2024-05-30T08:18:13.083114Z"
    }
   },
   "outputs": [],
   "source": [
    "import numpy as np\n",
    "columns= ['QUANTITE', 'MONTANTREMISE', 'TOTAL', 'MARGESORTIE']\n",
    "# Créer un sous-dataset composé uniquement des outliers\n",
    "def subdataset_outliers(data3, columns):\n",
    "    Q1 = np.percentile(data3[columns], 25)\n",
    "    Q3 = np.percentile(data3[columns], 75)\n",
    "    IQR = Q3 - Q1\n",
    "    lower_bound = Q1 - 1.5 * IQR\n",
    "    upper_bound = Q3 + 1.5 * IQR\n",
    "    return data3[(data3[columns] < lower_bound) | (data3[columns] > upper_bound)]\n",
    "\n",
    "# Appliquer la fonction pour une colonne spécifique\n",
    "outliers_subset = subdataset_outliers(data3, columns)"
   ]
  },
  {
   "cell_type": "code",
   "execution_count": 105,
   "id": "94c590c76e3632c7",
   "metadata": {
    "ExecuteTime": {
     "end_time": "2024-05-30T08:19:05.070002Z",
     "start_time": "2024-05-30T08:18:49.570793Z"
    }
   },
   "outputs": [],
   "source": [
    "# Appel à la fonction detect_outliers_iqr() pour obtenir les bornes lower_bound et upper_bound\n",
    "outliers = detect_outliers_iqr(data3, columns)\n",
    "lower_bound = outliers[columns].min()\n",
    "upper_bound = outliers[columns].max()\n",
    "\n",
    "# Remplacement des outliers par les bornes\n",
    "data3[columns] = np.where(data3[columns] < lower_bound, lower_bound, data3[columns])\n",
    "data3[columns] = np.where(data3[columns] > upper_bound, upper_bound, data3[columns])"
   ]
  },
  {
   "cell_type": "code",
   "execution_count": 106,
   "id": "36e1f6296976fc7a",
   "metadata": {
    "ExecuteTime": {
     "end_time": "2024-05-30T08:19:13.230693Z",
     "start_time": "2024-05-30T08:19:12.961801Z"
    }
   },
   "outputs": [
    {
     "data": {
      "text/plain": [
       "(34105705, 4)"
      ]
     },
     "execution_count": 106,
     "metadata": {},
     "output_type": "execute_result"
    }
   ],
   "source": [
    "data3[columns].shape"
   ]
  },
  {
   "cell_type": "code",
   "execution_count": 107,
   "id": "d40255b45471b57f",
   "metadata": {
    "ExecuteTime": {
     "end_time": "2024-05-30T08:19:18.929824Z",
     "start_time": "2024-05-30T08:19:18.446848Z"
    }
   },
   "outputs": [
    {
     "data": {
      "text/plain": [
       "QUANTITE          1.0000\n",
       "MONTANTREMISE     1.1825\n",
       "TOTAL            22.0200\n",
       "MARGESORTIE      11.5400\n",
       "dtype: float64"
      ]
     },
     "execution_count": 107,
     "metadata": {},
     "output_type": "execute_result"
    }
   ],
   "source": [
    "data3[columns].max()"
   ]
  },
  {
   "cell_type": "code",
   "execution_count": 108,
   "id": "893e1b06501fcf40",
   "metadata": {
    "ExecuteTime": {
     "end_time": "2024-05-30T08:19:25.039480Z",
     "start_time": "2024-05-30T08:19:24.732812Z"
    }
   },
   "outputs": [
    {
     "data": {
      "text/html": [
       "<div>\n",
       "<style scoped>\n",
       "    .dataframe tbody tr th:only-of-type {\n",
       "        vertical-align: middle;\n",
       "    }\n",
       "\n",
       "    .dataframe tbody tr th {\n",
       "        vertical-align: top;\n",
       "    }\n",
       "\n",
       "    .dataframe thead th {\n",
       "        text-align: right;\n",
       "    }\n",
       "</style>\n",
       "<table border=\"1\" class=\"dataframe\">\n",
       "  <thead>\n",
       "    <tr style=\"text-align: right;\">\n",
       "      <th></th>\n",
       "      <th>QUANTITE</th>\n",
       "      <th>MONTANTREMISE</th>\n",
       "      <th>TOTAL</th>\n",
       "      <th>MARGESORTIE</th>\n",
       "    </tr>\n",
       "  </thead>\n",
       "  <tbody>\n",
       "    <tr>\n",
       "      <th>0</th>\n",
       "      <td>1.0</td>\n",
       "      <td>0.0000</td>\n",
       "      <td>4.96</td>\n",
       "      <td>2.37</td>\n",
       "    </tr>\n",
       "    <tr>\n",
       "      <th>1</th>\n",
       "      <td>1.0</td>\n",
       "      <td>0.0000</td>\n",
       "      <td>8.25</td>\n",
       "      <td>3.63</td>\n",
       "    </tr>\n",
       "    <tr>\n",
       "      <th>2</th>\n",
       "      <td>1.0</td>\n",
       "      <td>0.0000</td>\n",
       "      <td>5.79</td>\n",
       "      <td>3.63</td>\n",
       "    </tr>\n",
       "    <tr>\n",
       "      <th>3</th>\n",
       "      <td>1.0</td>\n",
       "      <td>0.0000</td>\n",
       "      <td>18.29</td>\n",
       "      <td>6.21</td>\n",
       "    </tr>\n",
       "    <tr>\n",
       "      <th>4</th>\n",
       "      <td>1.0</td>\n",
       "      <td>0.0000</td>\n",
       "      <td>22.02</td>\n",
       "      <td>10.42</td>\n",
       "    </tr>\n",
       "    <tr>\n",
       "      <th>...</th>\n",
       "      <td>...</td>\n",
       "      <td>...</td>\n",
       "      <td>...</td>\n",
       "      <td>...</td>\n",
       "    </tr>\n",
       "    <tr>\n",
       "      <th>34105700</th>\n",
       "      <td>1.0</td>\n",
       "      <td>0.0000</td>\n",
       "      <td>4.69</td>\n",
       "      <td>1.83</td>\n",
       "    </tr>\n",
       "    <tr>\n",
       "      <th>34105701</th>\n",
       "      <td>1.0</td>\n",
       "      <td>0.0000</td>\n",
       "      <td>3.18</td>\n",
       "      <td>1.00</td>\n",
       "    </tr>\n",
       "    <tr>\n",
       "      <th>34105702</th>\n",
       "      <td>1.0</td>\n",
       "      <td>0.0000</td>\n",
       "      <td>3.46</td>\n",
       "      <td>1.13</td>\n",
       "    </tr>\n",
       "    <tr>\n",
       "      <th>34105703</th>\n",
       "      <td>1.0</td>\n",
       "      <td>0.0000</td>\n",
       "      <td>6.80</td>\n",
       "      <td>2.18</td>\n",
       "    </tr>\n",
       "    <tr>\n",
       "      <th>34105704</th>\n",
       "      <td>1.0</td>\n",
       "      <td>1.1825</td>\n",
       "      <td>1.82</td>\n",
       "      <td>1.42</td>\n",
       "    </tr>\n",
       "  </tbody>\n",
       "</table>\n",
       "<p>34105705 rows × 4 columns</p>\n",
       "</div>"
      ],
      "text/plain": [
       "          QUANTITE  MONTANTREMISE  TOTAL  MARGESORTIE\n",
       "0              1.0         0.0000   4.96         2.37\n",
       "1              1.0         0.0000   8.25         3.63\n",
       "2              1.0         0.0000   5.79         3.63\n",
       "3              1.0         0.0000  18.29         6.21\n",
       "4              1.0         0.0000  22.02        10.42\n",
       "...            ...            ...    ...          ...\n",
       "34105700       1.0         0.0000   4.69         1.83\n",
       "34105701       1.0         0.0000   3.18         1.00\n",
       "34105702       1.0         0.0000   3.46         1.13\n",
       "34105703       1.0         0.0000   6.80         2.18\n",
       "34105704       1.0         1.1825   1.82         1.42\n",
       "\n",
       "[34105705 rows x 4 columns]"
      ]
     },
     "execution_count": 108,
     "metadata": {},
     "output_type": "execute_result"
    }
   ],
   "source": [
    "data3[columns]"
   ]
  },
  {
   "cell_type": "code",
   "execution_count": 109,
   "id": "d01efe930d43722f",
   "metadata": {
    "ExecuteTime": {
     "end_time": "2024-05-30T08:19:33.983032Z",
     "start_time": "2024-05-30T08:19:29.900216Z"
    }
   },
   "outputs": [
    {
     "data": {
      "text/html": [
       "<div>\n",
       "<style scoped>\n",
       "    .dataframe tbody tr th:only-of-type {\n",
       "        vertical-align: middle;\n",
       "    }\n",
       "\n",
       "    .dataframe tbody tr th {\n",
       "        vertical-align: top;\n",
       "    }\n",
       "\n",
       "    .dataframe thead th {\n",
       "        text-align: right;\n",
       "    }\n",
       "</style>\n",
       "<table border=\"1\" class=\"dataframe\">\n",
       "  <thead>\n",
       "    <tr style=\"text-align: right;\">\n",
       "      <th></th>\n",
       "      <th>QUANTITE</th>\n",
       "      <th>MONTANTREMISE</th>\n",
       "      <th>TOTAL</th>\n",
       "      <th>MARGESORTIE</th>\n",
       "    </tr>\n",
       "  </thead>\n",
       "  <tbody>\n",
       "    <tr>\n",
       "      <th>count</th>\n",
       "      <td>34105705.0</td>\n",
       "      <td>3.410570e+07</td>\n",
       "      <td>3.410570e+07</td>\n",
       "      <td>3.410570e+07</td>\n",
       "    </tr>\n",
       "    <tr>\n",
       "      <th>mean</th>\n",
       "      <td>1.0</td>\n",
       "      <td>2.790697e-01</td>\n",
       "      <td>7.553460e+00</td>\n",
       "      <td>3.461244e+00</td>\n",
       "    </tr>\n",
       "    <tr>\n",
       "      <th>std</th>\n",
       "      <td>0.0</td>\n",
       "      <td>4.499037e-01</td>\n",
       "      <td>6.522058e+00</td>\n",
       "      <td>3.454784e+00</td>\n",
       "    </tr>\n",
       "    <tr>\n",
       "      <th>min</th>\n",
       "      <td>1.0</td>\n",
       "      <td>-7.095000e-01</td>\n",
       "      <td>-8.700000e+00</td>\n",
       "      <td>-5.340000e+00</td>\n",
       "    </tr>\n",
       "    <tr>\n",
       "      <th>25%</th>\n",
       "      <td>1.0</td>\n",
       "      <td>0.000000e+00</td>\n",
       "      <td>2.820000e+00</td>\n",
       "      <td>9.900000e-01</td>\n",
       "    </tr>\n",
       "    <tr>\n",
       "      <th>50%</th>\n",
       "      <td>1.0</td>\n",
       "      <td>0.000000e+00</td>\n",
       "      <td>5.210000e+00</td>\n",
       "      <td>2.260000e+00</td>\n",
       "    </tr>\n",
       "    <tr>\n",
       "      <th>75%</th>\n",
       "      <td>1.0</td>\n",
       "      <td>4.730000e-01</td>\n",
       "      <td>1.050000e+01</td>\n",
       "      <td>5.210000e+00</td>\n",
       "    </tr>\n",
       "    <tr>\n",
       "      <th>max</th>\n",
       "      <td>1.0</td>\n",
       "      <td>1.182500e+00</td>\n",
       "      <td>2.202000e+01</td>\n",
       "      <td>1.154000e+01</td>\n",
       "    </tr>\n",
       "  </tbody>\n",
       "</table>\n",
       "</div>"
      ],
      "text/plain": [
       "         QUANTITE  MONTANTREMISE         TOTAL   MARGESORTIE\n",
       "count  34105705.0   3.410570e+07  3.410570e+07  3.410570e+07\n",
       "mean          1.0   2.790697e-01  7.553460e+00  3.461244e+00\n",
       "std           0.0   4.499037e-01  6.522058e+00  3.454784e+00\n",
       "min           1.0  -7.095000e-01 -8.700000e+00 -5.340000e+00\n",
       "25%           1.0   0.000000e+00  2.820000e+00  9.900000e-01\n",
       "50%           1.0   0.000000e+00  5.210000e+00  2.260000e+00\n",
       "75%           1.0   4.730000e-01  1.050000e+01  5.210000e+00\n",
       "max           1.0   1.182500e+00  2.202000e+01  1.154000e+01"
      ]
     },
     "execution_count": 109,
     "metadata": {},
     "output_type": "execute_result"
    }
   ],
   "source": [
    "data3.describe()"
   ]
  },
  {
   "cell_type": "markdown",
   "id": "a32be6d0",
   "metadata": {},
   "source": [
    "La ligne de code ci-dessous nous permet d'identifier les valeurs en doublons qui conviendra de traiter."
   ]
  },
  {
   "cell_type": "markdown",
   "id": "55f5ea5ce46c688c",
   "metadata": {},
   "source": []
  },
  {
   "cell_type": "code",
   "execution_count": 110,
   "id": "92b77e2f",
   "metadata": {
    "ExecuteTime": {
     "end_time": "2024-05-30T08:29:49.561489Z",
     "start_time": "2024-05-30T08:29:17.429491Z"
    }
   },
   "outputs": [
    {
     "name": "stdout",
     "output_type": "stream",
     "text": [
      "130\n"
     ]
    }
   ],
   "source": [
    "print(data3.duplicated().sum())\n",
    "data = data3.drop_duplicates()"
   ]
  },
  {
   "cell_type": "markdown",
   "id": "d0ae98d7",
   "metadata": {},
   "source": [
    "Nous allons désormais procéder au traitement de ces doublons."
   ]
  },
  {
   "cell_type": "code",
   "execution_count": 111,
   "id": "fd663935",
   "metadata": {
    "ExecuteTime": {
     "end_time": "2024-05-30T08:30:07.329344Z",
     "start_time": "2024-05-30T08:29:49.563531Z"
    }
   },
   "outputs": [],
   "source": [
    "data3.drop_duplicates(keep='first', inplace=True)"
   ]
  },
  {
   "cell_type": "markdown",
   "id": "65d9a122",
   "metadata": {},
   "source": [
    "Code de vérification."
   ]
  },
  {
   "cell_type": "code",
   "execution_count": 112,
   "id": "4810e6cb",
   "metadata": {
    "ExecuteTime": {
     "end_time": "2024-05-30T08:30:31.336226Z",
     "start_time": "2024-05-30T08:30:16.691749Z"
    }
   },
   "outputs": [
    {
     "name": "stdout",
     "output_type": "stream",
     "text": [
      "0\n"
     ]
    }
   ],
   "source": [
    "print(data3.duplicated().sum())"
   ]
  },
  {
   "cell_type": "markdown",
   "id": "f2552092",
   "metadata": {},
   "source": [
    "Nous procédons également à la vérification de présence ou non de valeurs manquantes (aucune valeur détectée)."
   ]
  },
  {
   "cell_type": "code",
   "execution_count": 113,
   "id": "8559c75ff454c123",
   "metadata": {
    "ExecuteTime": {
     "end_time": "2024-05-30T08:30:38.195906Z",
     "start_time": "2024-05-30T08:30:35.610595Z"
    }
   },
   "outputs": [
    {
     "data": {
      "text/plain": [
       "IDTICKET          0\n",
       "NUMLIGNETICKET    0\n",
       "IDARTICLE         0\n",
       "QUANTITE          0\n",
       "MONTANTREMISE     0\n",
       "TOTAL             0\n",
       "MARGESORTIE       0\n",
       "dtype: int64"
      ]
     },
     "execution_count": 113,
     "metadata": {},
     "output_type": "execute_result"
    }
   ],
   "source": [
    "data3.isnull().sum()"
   ]
  },
  {
   "cell_type": "markdown",
   "id": "4e7d517e",
   "metadata": {},
   "source": [
    "Chargement du jeu de données ENTETES TICKET V4."
   ]
  },
  {
   "cell_type": "code",
   "execution_count": 114,
   "id": "4498ad84",
   "metadata": {
    "ExecuteTime": {
     "end_time": "2024-05-30T08:30:46.527865Z",
     "start_time": "2024-05-30T08:30:42.035012Z"
    }
   },
   "outputs": [
    {
     "name": "stdout",
     "output_type": "stream",
     "text": [
      "(6714173, 5)\n",
      "['IDTICKET', 'TIC_DATE', 'MAG_CODE', 'IDCLIENT', 'TIC_TOTALTTC']\n"
     ]
    }
   ],
   "source": [
    "dataset_path = \"C:\\\\Users\\\\belga\\\\OneDrive\\\\Bureau\\\\EMBA Big Data\\\\Module Datascience\\\\Projet Data Science S2 2024\\\\ENTETES_TICKET_V4.csv\"\n",
    "data2 = pd.read_csv(dataset_path, sep='|', low_memory=False)\n",
    "print(data2.shape)\n",
    "print(list(data2.columns))\n"
   ]
  },
  {
   "cell_type": "markdown",
   "id": "79513048",
   "metadata": {},
   "source": [
    "La ligne de code ci-dessous nous permet de connaître le détail des colonnes ainsi que le type de données constituant notre base (numérique ou caractères)."
   ]
  },
  {
   "cell_type": "code",
   "execution_count": 116,
   "id": "11f05dee",
   "metadata": {
    "ExecuteTime": {
     "end_time": "2024-05-30T08:30:48.014995Z",
     "start_time": "2024-05-30T08:30:48.007234Z"
    }
   },
   "outputs": [
    {
     "name": "stdout",
     "output_type": "stream",
     "text": [
      "<class 'pandas.core.frame.DataFrame'>\n",
      "RangeIndex: 6714173 entries, 0 to 6714172\n",
      "Data columns (total 5 columns):\n",
      " #   Column        Dtype  \n",
      "---  ------        -----  \n",
      " 0   IDTICKET      int64  \n",
      " 1   TIC_DATE      object \n",
      " 2   MAG_CODE      object \n",
      " 3   IDCLIENT      float64\n",
      " 4   TIC_TOTALTTC  object \n",
      "dtypes: float64(1), int64(1), object(3)\n",
      "memory usage: 256.1+ MB\n"
     ]
    }
   ],
   "source": [
    "data2.info()"
   ]
  },
  {
   "cell_type": "markdown",
   "id": "b94846dd",
   "metadata": {},
   "source": [
    "Aperçu de notre jeu de données. "
   ]
  },
  {
   "cell_type": "code",
   "execution_count": 117,
   "id": "0892088b",
   "metadata": {
    "ExecuteTime": {
     "end_time": "2024-05-30T08:30:50.119703Z",
     "start_time": "2024-05-30T08:30:50.112426Z"
    }
   },
   "outputs": [
    {
     "data": {
      "text/html": [
       "<div>\n",
       "<style scoped>\n",
       "    .dataframe tbody tr th:only-of-type {\n",
       "        vertical-align: middle;\n",
       "    }\n",
       "\n",
       "    .dataframe tbody tr th {\n",
       "        vertical-align: top;\n",
       "    }\n",
       "\n",
       "    .dataframe thead th {\n",
       "        text-align: right;\n",
       "    }\n",
       "</style>\n",
       "<table border=\"1\" class=\"dataframe\">\n",
       "  <thead>\n",
       "    <tr style=\"text-align: right;\">\n",
       "      <th></th>\n",
       "      <th>IDTICKET</th>\n",
       "      <th>TIC_DATE</th>\n",
       "      <th>MAG_CODE</th>\n",
       "      <th>IDCLIENT</th>\n",
       "      <th>TIC_TOTALTTC</th>\n",
       "    </tr>\n",
       "  </thead>\n",
       "  <tbody>\n",
       "    <tr>\n",
       "      <th>0</th>\n",
       "      <td>50100150510</td>\n",
       "      <td>2016-01-02 11:01:33</td>\n",
       "      <td>ALB</td>\n",
       "      <td>2995104.0</td>\n",
       "      <td>12,9</td>\n",
       "    </tr>\n",
       "    <tr>\n",
       "      <th>1</th>\n",
       "      <td>50100150511</td>\n",
       "      <td>2016-01-02 11:02:10</td>\n",
       "      <td>ALB</td>\n",
       "      <td>1411117.0</td>\n",
       "      <td>131,06</td>\n",
       "    </tr>\n",
       "    <tr>\n",
       "      <th>2</th>\n",
       "      <td>50100150515</td>\n",
       "      <td>2016-01-02 12:03:27</td>\n",
       "      <td>ALB</td>\n",
       "      <td>222592.0</td>\n",
       "      <td>34,69</td>\n",
       "    </tr>\n",
       "    <tr>\n",
       "      <th>3</th>\n",
       "      <td>50100150517</td>\n",
       "      <td>2016-01-02 14:23:21</td>\n",
       "      <td>ALB</td>\n",
       "      <td>2979958.0</td>\n",
       "      <td>97,58</td>\n",
       "    </tr>\n",
       "    <tr>\n",
       "      <th>4</th>\n",
       "      <td>50100150518</td>\n",
       "      <td>2016-01-02 14:26:53</td>\n",
       "      <td>ALB</td>\n",
       "      <td>2858676.0</td>\n",
       "      <td>4,7</td>\n",
       "    </tr>\n",
       "    <tr>\n",
       "      <th>...</th>\n",
       "      <td>...</td>\n",
       "      <td>...</td>\n",
       "      <td>...</td>\n",
       "      <td>...</td>\n",
       "      <td>...</td>\n",
       "    </tr>\n",
       "    <tr>\n",
       "      <th>6714168</th>\n",
       "      <td>1340300014404</td>\n",
       "      <td>2016-12-27 16:31:52</td>\n",
       "      <td>RMA</td>\n",
       "      <td>2292927.0</td>\n",
       "      <td>59,45</td>\n",
       "    </tr>\n",
       "    <tr>\n",
       "      <th>6714169</th>\n",
       "      <td>1340300014407</td>\n",
       "      <td>2016-12-27 16:35:21</td>\n",
       "      <td>RMA</td>\n",
       "      <td>3189844.0</td>\n",
       "      <td>26,9</td>\n",
       "    </tr>\n",
       "    <tr>\n",
       "      <th>6714170</th>\n",
       "      <td>1340300014409</td>\n",
       "      <td>2016-12-27 16:38:59</td>\n",
       "      <td>RMA</td>\n",
       "      <td>3125998.0</td>\n",
       "      <td>22,15</td>\n",
       "    </tr>\n",
       "    <tr>\n",
       "      <th>6714171</th>\n",
       "      <td>1340300014438</td>\n",
       "      <td>2016-12-27 17:17:30</td>\n",
       "      <td>RMA</td>\n",
       "      <td>3252348.0</td>\n",
       "      <td>118,01</td>\n",
       "    </tr>\n",
       "    <tr>\n",
       "      <th>6714172</th>\n",
       "      <td>1340300014440</td>\n",
       "      <td>2016-12-27 17:24:15</td>\n",
       "      <td>RMA</td>\n",
       "      <td>3243933.0</td>\n",
       "      <td>44,8</td>\n",
       "    </tr>\n",
       "  </tbody>\n",
       "</table>\n",
       "<p>6714173 rows × 5 columns</p>\n",
       "</div>"
      ],
      "text/plain": [
       "              IDTICKET             TIC_DATE MAG_CODE   IDCLIENT TIC_TOTALTTC\n",
       "0          50100150510  2016-01-02 11:01:33      ALB  2995104.0         12,9\n",
       "1          50100150511  2016-01-02 11:02:10      ALB  1411117.0       131,06\n",
       "2          50100150515  2016-01-02 12:03:27      ALB   222592.0        34,69\n",
       "3          50100150517  2016-01-02 14:23:21      ALB  2979958.0        97,58\n",
       "4          50100150518  2016-01-02 14:26:53      ALB  2858676.0          4,7\n",
       "...                ...                  ...      ...        ...          ...\n",
       "6714168  1340300014404  2016-12-27 16:31:52      RMA  2292927.0        59,45\n",
       "6714169  1340300014407  2016-12-27 16:35:21      RMA  3189844.0         26,9\n",
       "6714170  1340300014409  2016-12-27 16:38:59      RMA  3125998.0        22,15\n",
       "6714171  1340300014438  2016-12-27 17:17:30      RMA  3252348.0       118,01\n",
       "6714172  1340300014440  2016-12-27 17:24:15      RMA  3243933.0         44,8\n",
       "\n",
       "[6714173 rows x 5 columns]"
      ]
     },
     "execution_count": 117,
     "metadata": {},
     "output_type": "execute_result"
    }
   ],
   "source": [
    "data2"
   ]
  },
  {
   "cell_type": "markdown",
   "id": "d2c72a65",
   "metadata": {},
   "source": [
    "Afin d'exploiter de façon optimale les informations, nous allons convetir les l'ID TICKET et le NUM LIGNE TICKET en caractère. A l'inverse, nous devons convertir le total TTC en valeur numérique."
   ]
  },
  {
   "cell_type": "code",
   "execution_count": 118,
   "id": "5d7a79f6",
   "metadata": {
    "ExecuteTime": {
     "end_time": "2024-05-30T08:30:54.499150Z",
     "start_time": "2024-05-30T08:30:52.267436Z"
    }
   },
   "outputs": [],
   "source": [
    "data2['IDTICKET'] = data2['IDTICKET'].astype(str)\n",
    "data2['IDCLIENT'] = data2['IDCLIENT'].astype(str)"
   ]
  },
  {
   "cell_type": "code",
   "execution_count": 119,
   "id": "8e554f01",
   "metadata": {
    "ExecuteTime": {
     "end_time": "2024-05-30T08:30:56.205197Z",
     "start_time": "2024-05-30T08:30:55.524163Z"
    }
   },
   "outputs": [],
   "source": [
    "data2['TIC_TOTALTTC'] = data2['TIC_TOTALTTC'].str.replace(',', '.')"
   ]
  },
  {
   "cell_type": "code",
   "execution_count": 120,
   "id": "62ab6e1c",
   "metadata": {
    "ExecuteTime": {
     "end_time": "2024-05-30T08:30:57.339903Z",
     "start_time": "2024-05-30T08:30:56.932447Z"
    }
   },
   "outputs": [],
   "source": [
    "data2['TIC_TOTALTTC'] = data2['TIC_TOTALTTC'].str.strip('\\\"')"
   ]
  },
  {
   "cell_type": "code",
   "execution_count": 121,
   "id": "6b710a98",
   "metadata": {
    "ExecuteTime": {
     "end_time": "2024-05-30T08:30:59.034469Z",
     "start_time": "2024-05-30T08:30:58.043889Z"
    }
   },
   "outputs": [],
   "source": [
    "data2['TIC_TOTALTTC'] = pd.to_numeric(data2['TIC_TOTALTTC'], errors='coerce')"
   ]
  },
  {
   "cell_type": "markdown",
   "id": "df7b8fab",
   "metadata": {},
   "source": [
    "Vérification du traitement."
   ]
  },
  {
   "cell_type": "code",
   "execution_count": 122,
   "id": "04839e6d",
   "metadata": {
    "ExecuteTime": {
     "end_time": "2024-05-30T08:31:00.952674Z",
     "start_time": "2024-05-30T08:31:00.945277Z"
    }
   },
   "outputs": [
    {
     "name": "stdout",
     "output_type": "stream",
     "text": [
      "<class 'pandas.core.frame.DataFrame'>\n",
      "RangeIndex: 6714173 entries, 0 to 6714172\n",
      "Data columns (total 5 columns):\n",
      " #   Column        Dtype  \n",
      "---  ------        -----  \n",
      " 0   IDTICKET      object \n",
      " 1   TIC_DATE      object \n",
      " 2   MAG_CODE      object \n",
      " 3   IDCLIENT      object \n",
      " 4   TIC_TOTALTTC  float64\n",
      "dtypes: float64(1), object(4)\n",
      "memory usage: 256.1+ MB\n"
     ]
    }
   ],
   "source": [
    "data2.info()"
   ]
  },
  {
   "cell_type": "code",
   "execution_count": 123,
   "id": "446ed3fd",
   "metadata": {
    "ExecuteTime": {
     "end_time": "2024-05-30T08:31:01.667203Z",
     "start_time": "2024-05-30T08:31:01.660396Z"
    }
   },
   "outputs": [
    {
     "data": {
      "text/html": [
       "<div>\n",
       "<style scoped>\n",
       "    .dataframe tbody tr th:only-of-type {\n",
       "        vertical-align: middle;\n",
       "    }\n",
       "\n",
       "    .dataframe tbody tr th {\n",
       "        vertical-align: top;\n",
       "    }\n",
       "\n",
       "    .dataframe thead th {\n",
       "        text-align: right;\n",
       "    }\n",
       "</style>\n",
       "<table border=\"1\" class=\"dataframe\">\n",
       "  <thead>\n",
       "    <tr style=\"text-align: right;\">\n",
       "      <th></th>\n",
       "      <th>IDTICKET</th>\n",
       "      <th>TIC_DATE</th>\n",
       "      <th>MAG_CODE</th>\n",
       "      <th>IDCLIENT</th>\n",
       "      <th>TIC_TOTALTTC</th>\n",
       "    </tr>\n",
       "  </thead>\n",
       "  <tbody>\n",
       "    <tr>\n",
       "      <th>0</th>\n",
       "      <td>50100150510</td>\n",
       "      <td>2016-01-02 11:01:33</td>\n",
       "      <td>ALB</td>\n",
       "      <td>2995104.0</td>\n",
       "      <td>12.90</td>\n",
       "    </tr>\n",
       "    <tr>\n",
       "      <th>1</th>\n",
       "      <td>50100150511</td>\n",
       "      <td>2016-01-02 11:02:10</td>\n",
       "      <td>ALB</td>\n",
       "      <td>1411117.0</td>\n",
       "      <td>131.06</td>\n",
       "    </tr>\n",
       "    <tr>\n",
       "      <th>2</th>\n",
       "      <td>50100150515</td>\n",
       "      <td>2016-01-02 12:03:27</td>\n",
       "      <td>ALB</td>\n",
       "      <td>222592.0</td>\n",
       "      <td>34.69</td>\n",
       "    </tr>\n",
       "    <tr>\n",
       "      <th>3</th>\n",
       "      <td>50100150517</td>\n",
       "      <td>2016-01-02 14:23:21</td>\n",
       "      <td>ALB</td>\n",
       "      <td>2979958.0</td>\n",
       "      <td>97.58</td>\n",
       "    </tr>\n",
       "    <tr>\n",
       "      <th>4</th>\n",
       "      <td>50100150518</td>\n",
       "      <td>2016-01-02 14:26:53</td>\n",
       "      <td>ALB</td>\n",
       "      <td>2858676.0</td>\n",
       "      <td>4.70</td>\n",
       "    </tr>\n",
       "    <tr>\n",
       "      <th>...</th>\n",
       "      <td>...</td>\n",
       "      <td>...</td>\n",
       "      <td>...</td>\n",
       "      <td>...</td>\n",
       "      <td>...</td>\n",
       "    </tr>\n",
       "    <tr>\n",
       "      <th>6714168</th>\n",
       "      <td>1340300014404</td>\n",
       "      <td>2016-12-27 16:31:52</td>\n",
       "      <td>RMA</td>\n",
       "      <td>2292927.0</td>\n",
       "      <td>59.45</td>\n",
       "    </tr>\n",
       "    <tr>\n",
       "      <th>6714169</th>\n",
       "      <td>1340300014407</td>\n",
       "      <td>2016-12-27 16:35:21</td>\n",
       "      <td>RMA</td>\n",
       "      <td>3189844.0</td>\n",
       "      <td>26.90</td>\n",
       "    </tr>\n",
       "    <tr>\n",
       "      <th>6714170</th>\n",
       "      <td>1340300014409</td>\n",
       "      <td>2016-12-27 16:38:59</td>\n",
       "      <td>RMA</td>\n",
       "      <td>3125998.0</td>\n",
       "      <td>22.15</td>\n",
       "    </tr>\n",
       "    <tr>\n",
       "      <th>6714171</th>\n",
       "      <td>1340300014438</td>\n",
       "      <td>2016-12-27 17:17:30</td>\n",
       "      <td>RMA</td>\n",
       "      <td>3252348.0</td>\n",
       "      <td>118.01</td>\n",
       "    </tr>\n",
       "    <tr>\n",
       "      <th>6714172</th>\n",
       "      <td>1340300014440</td>\n",
       "      <td>2016-12-27 17:24:15</td>\n",
       "      <td>RMA</td>\n",
       "      <td>3243933.0</td>\n",
       "      <td>44.80</td>\n",
       "    </tr>\n",
       "  </tbody>\n",
       "</table>\n",
       "<p>6714173 rows × 5 columns</p>\n",
       "</div>"
      ],
      "text/plain": [
       "              IDTICKET             TIC_DATE MAG_CODE   IDCLIENT  TIC_TOTALTTC\n",
       "0          50100150510  2016-01-02 11:01:33      ALB  2995104.0         12.90\n",
       "1          50100150511  2016-01-02 11:02:10      ALB  1411117.0        131.06\n",
       "2          50100150515  2016-01-02 12:03:27      ALB   222592.0         34.69\n",
       "3          50100150517  2016-01-02 14:23:21      ALB  2979958.0         97.58\n",
       "4          50100150518  2016-01-02 14:26:53      ALB  2858676.0          4.70\n",
       "...                ...                  ...      ...        ...           ...\n",
       "6714168  1340300014404  2016-12-27 16:31:52      RMA  2292927.0         59.45\n",
       "6714169  1340300014407  2016-12-27 16:35:21      RMA  3189844.0         26.90\n",
       "6714170  1340300014409  2016-12-27 16:38:59      RMA  3125998.0         22.15\n",
       "6714171  1340300014438  2016-12-27 17:17:30      RMA  3252348.0        118.01\n",
       "6714172  1340300014440  2016-12-27 17:24:15      RMA  3243933.0         44.80\n",
       "\n",
       "[6714173 rows x 5 columns]"
      ]
     },
     "execution_count": 123,
     "metadata": {},
     "output_type": "execute_result"
    }
   ],
   "source": [
    "data2"
   ]
  },
  {
   "cell_type": "markdown",
   "id": "79c6210e",
   "metadata": {},
   "source": [
    "La ligne de code ci-dessous nous permet de formater le format de la date."
   ]
  },
  {
   "cell_type": "code",
   "execution_count": 124,
   "id": "45452193",
   "metadata": {
    "ExecuteTime": {
     "end_time": "2024-05-30T08:31:17.628074Z",
     "start_time": "2024-05-30T08:31:03.345951Z"
    }
   },
   "outputs": [],
   "source": [
    "from datetime import datetime\n",
    "data2['TIC_DATE'] = pd.to_datetime(data2['TIC_DATE'], format=\"%Y-%m-%d %H:%M:%S\")\n",
    "data2['TIC_DATE'] = data2['TIC_DATE'].dt.strftime(\"%d/%m/%Y\")"
   ]
  },
  {
   "cell_type": "markdown",
   "id": "06977e1e",
   "metadata": {},
   "source": [
    "Vérification du traitement."
   ]
  },
  {
   "cell_type": "code",
   "execution_count": 125,
   "id": "366f31f3",
   "metadata": {
    "ExecuteTime": {
     "end_time": "2024-05-30T08:31:23.846102Z",
     "start_time": "2024-05-30T08:31:23.838089Z"
    }
   },
   "outputs": [
    {
     "data": {
      "text/html": [
       "<div>\n",
       "<style scoped>\n",
       "    .dataframe tbody tr th:only-of-type {\n",
       "        vertical-align: middle;\n",
       "    }\n",
       "\n",
       "    .dataframe tbody tr th {\n",
       "        vertical-align: top;\n",
       "    }\n",
       "\n",
       "    .dataframe thead th {\n",
       "        text-align: right;\n",
       "    }\n",
       "</style>\n",
       "<table border=\"1\" class=\"dataframe\">\n",
       "  <thead>\n",
       "    <tr style=\"text-align: right;\">\n",
       "      <th></th>\n",
       "      <th>IDTICKET</th>\n",
       "      <th>TIC_DATE</th>\n",
       "      <th>MAG_CODE</th>\n",
       "      <th>IDCLIENT</th>\n",
       "      <th>TIC_TOTALTTC</th>\n",
       "    </tr>\n",
       "  </thead>\n",
       "  <tbody>\n",
       "    <tr>\n",
       "      <th>0</th>\n",
       "      <td>50100150510</td>\n",
       "      <td>02/01/2016</td>\n",
       "      <td>ALB</td>\n",
       "      <td>2995104.0</td>\n",
       "      <td>12.90</td>\n",
       "    </tr>\n",
       "    <tr>\n",
       "      <th>1</th>\n",
       "      <td>50100150511</td>\n",
       "      <td>02/01/2016</td>\n",
       "      <td>ALB</td>\n",
       "      <td>1411117.0</td>\n",
       "      <td>131.06</td>\n",
       "    </tr>\n",
       "    <tr>\n",
       "      <th>2</th>\n",
       "      <td>50100150515</td>\n",
       "      <td>02/01/2016</td>\n",
       "      <td>ALB</td>\n",
       "      <td>222592.0</td>\n",
       "      <td>34.69</td>\n",
       "    </tr>\n",
       "    <tr>\n",
       "      <th>3</th>\n",
       "      <td>50100150517</td>\n",
       "      <td>02/01/2016</td>\n",
       "      <td>ALB</td>\n",
       "      <td>2979958.0</td>\n",
       "      <td>97.58</td>\n",
       "    </tr>\n",
       "    <tr>\n",
       "      <th>4</th>\n",
       "      <td>50100150518</td>\n",
       "      <td>02/01/2016</td>\n",
       "      <td>ALB</td>\n",
       "      <td>2858676.0</td>\n",
       "      <td>4.70</td>\n",
       "    </tr>\n",
       "    <tr>\n",
       "      <th>...</th>\n",
       "      <td>...</td>\n",
       "      <td>...</td>\n",
       "      <td>...</td>\n",
       "      <td>...</td>\n",
       "      <td>...</td>\n",
       "    </tr>\n",
       "    <tr>\n",
       "      <th>6714168</th>\n",
       "      <td>1340300014404</td>\n",
       "      <td>27/12/2016</td>\n",
       "      <td>RMA</td>\n",
       "      <td>2292927.0</td>\n",
       "      <td>59.45</td>\n",
       "    </tr>\n",
       "    <tr>\n",
       "      <th>6714169</th>\n",
       "      <td>1340300014407</td>\n",
       "      <td>27/12/2016</td>\n",
       "      <td>RMA</td>\n",
       "      <td>3189844.0</td>\n",
       "      <td>26.90</td>\n",
       "    </tr>\n",
       "    <tr>\n",
       "      <th>6714170</th>\n",
       "      <td>1340300014409</td>\n",
       "      <td>27/12/2016</td>\n",
       "      <td>RMA</td>\n",
       "      <td>3125998.0</td>\n",
       "      <td>22.15</td>\n",
       "    </tr>\n",
       "    <tr>\n",
       "      <th>6714171</th>\n",
       "      <td>1340300014438</td>\n",
       "      <td>27/12/2016</td>\n",
       "      <td>RMA</td>\n",
       "      <td>3252348.0</td>\n",
       "      <td>118.01</td>\n",
       "    </tr>\n",
       "    <tr>\n",
       "      <th>6714172</th>\n",
       "      <td>1340300014440</td>\n",
       "      <td>27/12/2016</td>\n",
       "      <td>RMA</td>\n",
       "      <td>3243933.0</td>\n",
       "      <td>44.80</td>\n",
       "    </tr>\n",
       "  </tbody>\n",
       "</table>\n",
       "<p>6714173 rows × 5 columns</p>\n",
       "</div>"
      ],
      "text/plain": [
       "              IDTICKET    TIC_DATE MAG_CODE   IDCLIENT  TIC_TOTALTTC\n",
       "0          50100150510  02/01/2016      ALB  2995104.0         12.90\n",
       "1          50100150511  02/01/2016      ALB  1411117.0        131.06\n",
       "2          50100150515  02/01/2016      ALB   222592.0         34.69\n",
       "3          50100150517  02/01/2016      ALB  2979958.0         97.58\n",
       "4          50100150518  02/01/2016      ALB  2858676.0          4.70\n",
       "...                ...         ...      ...        ...           ...\n",
       "6714168  1340300014404  27/12/2016      RMA  2292927.0         59.45\n",
       "6714169  1340300014407  27/12/2016      RMA  3189844.0         26.90\n",
       "6714170  1340300014409  27/12/2016      RMA  3125998.0         22.15\n",
       "6714171  1340300014438  27/12/2016      RMA  3252348.0        118.01\n",
       "6714172  1340300014440  27/12/2016      RMA  3243933.0         44.80\n",
       "\n",
       "[6714173 rows x 5 columns]"
      ]
     },
     "execution_count": 125,
     "metadata": {},
     "output_type": "execute_result"
    }
   ],
   "source": [
    "data2"
   ]
  },
  {
   "cell_type": "markdown",
   "id": "6ed98f20",
   "metadata": {},
   "source": [
    "Cette ligne de code nous permet d'identifier le nombre d'occurence de chaque code magasin, pour identifier les éventuels regroupements à effectuer. "
   ]
  },
  {
   "cell_type": "code",
   "execution_count": 126,
   "id": "ff4544be",
   "metadata": {
    "ExecuteTime": {
     "end_time": "2024-05-30T08:31:25.613064Z",
     "start_time": "2024-05-30T08:31:25.551289Z"
    }
   },
   "outputs": [
    {
     "data": {
      "text/plain": [
       "MAG_CODE\n",
       "SSM    246506\n",
       "MOB    221283\n",
       "HEI    219713\n",
       "BEA    205468\n",
       "GEX    196669\n",
       "        ...  \n",
       "CLI     31063\n",
       "STR     26694\n",
       "SCH     25502\n",
       "BAR     18254\n",
       "SAL     18245\n",
       "Name: count, Length: 66, dtype: int64"
      ]
     },
     "execution_count": 126,
     "metadata": {},
     "output_type": "execute_result"
    }
   ],
   "source": [
    "#modalités variables:\n",
    "data2['MAG_CODE'].value_counts(dropna = False)"
   ]
  },
  {
   "cell_type": "markdown",
   "id": "481d522f",
   "metadata": {},
   "source": [
    "La ligne de code ci-dessous nous permet d'identifier la présence ou non de valeur(s) en doublons."
   ]
  },
  {
   "cell_type": "code",
   "execution_count": 127,
   "id": "5a7ccf1b",
   "metadata": {
    "ExecuteTime": {
     "end_time": "2024-05-30T08:31:34.695013Z",
     "start_time": "2024-05-30T08:31:27.322473Z"
    }
   },
   "outputs": [
    {
     "name": "stdout",
     "output_type": "stream",
     "text": [
      "0\n"
     ]
    }
   ],
   "source": [
    "print(data2.duplicated().sum())\n",
    "data2 = data2.drop_duplicates()"
   ]
  },
  {
   "cell_type": "markdown",
   "id": "02abdc47",
   "metadata": {},
   "source": [
    "La ligne de code ci-dessous nous permet d'identifier la présence ou non de valeur(s) manquante(s)"
   ]
  },
  {
   "cell_type": "code",
   "execution_count": 128,
   "id": "fbd5948c",
   "metadata": {
    "ExecuteTime": {
     "end_time": "2024-05-30T08:31:35.087791Z",
     "start_time": "2024-05-30T08:31:34.696629Z"
    }
   },
   "outputs": [
    {
     "data": {
      "text/html": [
       "<div>\n",
       "<style scoped>\n",
       "    .dataframe tbody tr th:only-of-type {\n",
       "        vertical-align: middle;\n",
       "    }\n",
       "\n",
       "    .dataframe tbody tr th {\n",
       "        vertical-align: top;\n",
       "    }\n",
       "\n",
       "    .dataframe thead th {\n",
       "        text-align: right;\n",
       "    }\n",
       "</style>\n",
       "<table border=\"1\" class=\"dataframe\">\n",
       "  <thead>\n",
       "    <tr style=\"text-align: right;\">\n",
       "      <th></th>\n",
       "      <th>%_missing_values</th>\n",
       "    </tr>\n",
       "  </thead>\n",
       "  <tbody>\n",
       "    <tr>\n",
       "      <th>IDTICKET</th>\n",
       "      <td>0.0</td>\n",
       "    </tr>\n",
       "    <tr>\n",
       "      <th>TIC_DATE</th>\n",
       "      <td>0.0</td>\n",
       "    </tr>\n",
       "    <tr>\n",
       "      <th>MAG_CODE</th>\n",
       "      <td>0.0</td>\n",
       "    </tr>\n",
       "    <tr>\n",
       "      <th>IDCLIENT</th>\n",
       "      <td>0.0</td>\n",
       "    </tr>\n",
       "    <tr>\n",
       "      <th>TIC_TOTALTTC</th>\n",
       "      <td>0.0</td>\n",
       "    </tr>\n",
       "  </tbody>\n",
       "</table>\n",
       "</div>"
      ],
      "text/plain": [
       "              %_missing_values\n",
       "IDTICKET                   0.0\n",
       "TIC_DATE                   0.0\n",
       "MAG_CODE                   0.0\n",
       "IDCLIENT                   0.0\n",
       "TIC_TOTALTTC               0.0"
      ]
     },
     "execution_count": 128,
     "metadata": {},
     "output_type": "execute_result"
    }
   ],
   "source": [
    "pd.DataFrame(index=data2.columns, columns=['%_missing_values'], data= (data2.isna().sum().values / len(data2)*100))"
   ]
  },
  {
   "cell_type": "markdown",
   "id": "5edd09c5",
   "metadata": {},
   "source": [
    "CALCUL DU NOMBRES DE MAGASINS (Mag Code) FREQUENTE PAR UN CLIENT (ID Client)."
   ]
  },
  {
   "cell_type": "code",
   "execution_count": 129,
   "id": "82ec4400",
   "metadata": {
    "ExecuteTime": {
     "end_time": "2024-05-30T08:31:36.353370Z",
     "start_time": "2024-05-30T08:31:35.890070Z"
    }
   },
   "outputs": [],
   "source": [
    "data2['IDCLIENT'] = data2['IDCLIENT'].astype(float)"
   ]
  },
  {
   "cell_type": "code",
   "execution_count": 130,
   "id": "647517d0",
   "metadata": {
    "ExecuteTime": {
     "end_time": "2024-05-30T08:31:38.424776Z",
     "start_time": "2024-05-30T08:31:38.390761Z"
    }
   },
   "outputs": [],
   "source": [
    "data2['IDCLIENT'] = data2['IDCLIENT'].astype(int)"
   ]
  },
  {
   "cell_type": "code",
   "execution_count": 131,
   "id": "e79ee648",
   "metadata": {
    "ExecuteTime": {
     "end_time": "2024-05-30T08:31:39.026008Z",
     "start_time": "2024-05-30T08:31:39.010949Z"
    }
   },
   "outputs": [
    {
     "name": "stdout",
     "output_type": "stream",
     "text": [
      "<class 'pandas.core.frame.DataFrame'>\n",
      "RangeIndex: 6714173 entries, 0 to 6714172\n",
      "Data columns (total 5 columns):\n",
      " #   Column        Dtype  \n",
      "---  ------        -----  \n",
      " 0   IDTICKET      object \n",
      " 1   TIC_DATE      object \n",
      " 2   MAG_CODE      object \n",
      " 3   IDCLIENT      int32  \n",
      " 4   TIC_TOTALTTC  float64\n",
      "dtypes: float64(1), int32(1), object(3)\n",
      "memory usage: 230.5+ MB\n"
     ]
    }
   ],
   "source": [
    "data2.info()"
   ]
  },
  {
   "cell_type": "code",
   "execution_count": 132,
   "id": "1a411cb8e406fcf6",
   "metadata": {
    "ExecuteTime": {
     "end_time": "2024-05-30T08:31:40.697007Z",
     "start_time": "2024-05-30T08:31:39.775492Z"
    }
   },
   "outputs": [
    {
     "name": "stdout",
     "output_type": "stream",
     "text": [
      "      IDTICKET    TIC_DATE MAG_CODE  IDCLIENT  TIC_TOTALTTC  FREQUENCE_MAG\n",
      "0  50100150510  02/01/2016      ALB   2995104         12.90             35\n",
      "1  50100150511  02/01/2016      ALB   1411117        131.06              4\n",
      "2  50100150515  02/01/2016      ALB    222592         34.69             21\n",
      "3  50100150517  02/01/2016      ALB   2979958         97.58             28\n",
      "4  50100150518  02/01/2016      ALB   2858676          4.70             11\n"
     ]
    }
   ],
   "source": [
    "\n",
    "# Calcul de la fréquence et du total des achats par magasin et par client\n",
    "data2['FREQUENCE_MAG'] = data2.groupby(['MAG_CODE', 'IDCLIENT'])['IDTICKET'].transform('count')\n",
    "\n",
    "# Afficher le résultat\n",
    "print(data2.head())"
   ]
  },
  {
   "cell_type": "code",
   "execution_count": 133,
   "id": "1b85c6b8ca682ec1",
   "metadata": {
    "ExecuteTime": {
     "end_time": "2024-05-30T08:31:41.715392Z",
     "start_time": "2024-05-30T08:31:41.708158Z"
    }
   },
   "outputs": [
    {
     "data": {
      "text/html": [
       "<div>\n",
       "<style scoped>\n",
       "    .dataframe tbody tr th:only-of-type {\n",
       "        vertical-align: middle;\n",
       "    }\n",
       "\n",
       "    .dataframe tbody tr th {\n",
       "        vertical-align: top;\n",
       "    }\n",
       "\n",
       "    .dataframe thead th {\n",
       "        text-align: right;\n",
       "    }\n",
       "</style>\n",
       "<table border=\"1\" class=\"dataframe\">\n",
       "  <thead>\n",
       "    <tr style=\"text-align: right;\">\n",
       "      <th></th>\n",
       "      <th>IDTICKET</th>\n",
       "      <th>TIC_DATE</th>\n",
       "      <th>MAG_CODE</th>\n",
       "      <th>IDCLIENT</th>\n",
       "      <th>TIC_TOTALTTC</th>\n",
       "      <th>FREQUENCE_MAG</th>\n",
       "    </tr>\n",
       "  </thead>\n",
       "  <tbody>\n",
       "    <tr>\n",
       "      <th>0</th>\n",
       "      <td>50100150510</td>\n",
       "      <td>02/01/2016</td>\n",
       "      <td>ALB</td>\n",
       "      <td>2995104</td>\n",
       "      <td>12.90</td>\n",
       "      <td>35</td>\n",
       "    </tr>\n",
       "    <tr>\n",
       "      <th>1</th>\n",
       "      <td>50100150511</td>\n",
       "      <td>02/01/2016</td>\n",
       "      <td>ALB</td>\n",
       "      <td>1411117</td>\n",
       "      <td>131.06</td>\n",
       "      <td>4</td>\n",
       "    </tr>\n",
       "    <tr>\n",
       "      <th>2</th>\n",
       "      <td>50100150515</td>\n",
       "      <td>02/01/2016</td>\n",
       "      <td>ALB</td>\n",
       "      <td>222592</td>\n",
       "      <td>34.69</td>\n",
       "      <td>21</td>\n",
       "    </tr>\n",
       "    <tr>\n",
       "      <th>3</th>\n",
       "      <td>50100150517</td>\n",
       "      <td>02/01/2016</td>\n",
       "      <td>ALB</td>\n",
       "      <td>2979958</td>\n",
       "      <td>97.58</td>\n",
       "      <td>28</td>\n",
       "    </tr>\n",
       "    <tr>\n",
       "      <th>4</th>\n",
       "      <td>50100150518</td>\n",
       "      <td>02/01/2016</td>\n",
       "      <td>ALB</td>\n",
       "      <td>2858676</td>\n",
       "      <td>4.70</td>\n",
       "      <td>11</td>\n",
       "    </tr>\n",
       "    <tr>\n",
       "      <th>...</th>\n",
       "      <td>...</td>\n",
       "      <td>...</td>\n",
       "      <td>...</td>\n",
       "      <td>...</td>\n",
       "      <td>...</td>\n",
       "      <td>...</td>\n",
       "    </tr>\n",
       "    <tr>\n",
       "      <th>6714168</th>\n",
       "      <td>1340300014404</td>\n",
       "      <td>27/12/2016</td>\n",
       "      <td>RMA</td>\n",
       "      <td>2292927</td>\n",
       "      <td>59.45</td>\n",
       "      <td>5</td>\n",
       "    </tr>\n",
       "    <tr>\n",
       "      <th>6714169</th>\n",
       "      <td>1340300014407</td>\n",
       "      <td>27/12/2016</td>\n",
       "      <td>RMA</td>\n",
       "      <td>3189844</td>\n",
       "      <td>26.90</td>\n",
       "      <td>78</td>\n",
       "    </tr>\n",
       "    <tr>\n",
       "      <th>6714170</th>\n",
       "      <td>1340300014409</td>\n",
       "      <td>27/12/2016</td>\n",
       "      <td>RMA</td>\n",
       "      <td>3125998</td>\n",
       "      <td>22.15</td>\n",
       "      <td>31</td>\n",
       "    </tr>\n",
       "    <tr>\n",
       "      <th>6714171</th>\n",
       "      <td>1340300014438</td>\n",
       "      <td>27/12/2016</td>\n",
       "      <td>RMA</td>\n",
       "      <td>3252348</td>\n",
       "      <td>118.01</td>\n",
       "      <td>12</td>\n",
       "    </tr>\n",
       "    <tr>\n",
       "      <th>6714172</th>\n",
       "      <td>1340300014440</td>\n",
       "      <td>27/12/2016</td>\n",
       "      <td>RMA</td>\n",
       "      <td>3243933</td>\n",
       "      <td>44.80</td>\n",
       "      <td>4</td>\n",
       "    </tr>\n",
       "  </tbody>\n",
       "</table>\n",
       "<p>6714173 rows × 6 columns</p>\n",
       "</div>"
      ],
      "text/plain": [
       "              IDTICKET    TIC_DATE MAG_CODE  IDCLIENT  TIC_TOTALTTC  \\\n",
       "0          50100150510  02/01/2016      ALB   2995104         12.90   \n",
       "1          50100150511  02/01/2016      ALB   1411117        131.06   \n",
       "2          50100150515  02/01/2016      ALB    222592         34.69   \n",
       "3          50100150517  02/01/2016      ALB   2979958         97.58   \n",
       "4          50100150518  02/01/2016      ALB   2858676          4.70   \n",
       "...                ...         ...      ...       ...           ...   \n",
       "6714168  1340300014404  27/12/2016      RMA   2292927         59.45   \n",
       "6714169  1340300014407  27/12/2016      RMA   3189844         26.90   \n",
       "6714170  1340300014409  27/12/2016      RMA   3125998         22.15   \n",
       "6714171  1340300014438  27/12/2016      RMA   3252348        118.01   \n",
       "6714172  1340300014440  27/12/2016      RMA   3243933         44.80   \n",
       "\n",
       "         FREQUENCE_MAG  \n",
       "0                   35  \n",
       "1                    4  \n",
       "2                   21  \n",
       "3                   28  \n",
       "4                   11  \n",
       "...                ...  \n",
       "6714168              5  \n",
       "6714169             78  \n",
       "6714170             31  \n",
       "6714171             12  \n",
       "6714172              4  \n",
       "\n",
       "[6714173 rows x 6 columns]"
      ]
     },
     "execution_count": 133,
     "metadata": {},
     "output_type": "execute_result"
    }
   ],
   "source": [
    "data2"
   ]
  },
  {
   "cell_type": "code",
   "execution_count": 134,
   "id": "b8ced9b6af206f94",
   "metadata": {
    "ExecuteTime": {
     "end_time": "2024-05-30T08:31:42.462880Z",
     "start_time": "2024-05-30T08:31:42.438534Z"
    }
   },
   "outputs": [
    {
     "data": {
      "text/plain": [
       "FREQUENCE_MAG\n",
       "2      276456\n",
       "3      273510\n",
       "4      268312\n",
       "5      258610\n",
       "1      254447\n",
       "        ...  \n",
       "195       195\n",
       "190       190\n",
       "181       181\n",
       "180       180\n",
       "164       164\n",
       "Name: count, Length: 253, dtype: int64"
      ]
     },
     "execution_count": 134,
     "metadata": {},
     "output_type": "execute_result"
    }
   ],
   "source": [
    "data2['FREQUENCE_MAG'].value_counts()"
   ]
  },
  {
   "cell_type": "code",
   "execution_count": 135,
   "id": "3685d787d63937f3",
   "metadata": {
    "ExecuteTime": {
     "end_time": "2024-05-30T08:40:52.047536Z",
     "start_time": "2024-05-30T08:40:08.295821Z"
    }
   },
   "outputs": [],
   "source": [
    "data_merged=data3.merge(data2, how='right',left_on='IDTICKET', right_on='IDTICKET')"
   ]
  },
  {
   "cell_type": "code",
   "execution_count": 136,
   "id": "cdcc6036f2f37ef2",
   "metadata": {
    "ExecuteTime": {
     "end_time": "2024-05-30T08:32:21.860636Z",
     "start_time": "2024-05-30T08:32:21.846439Z"
    }
   },
   "outputs": [
    {
     "data": {
      "text/html": [
       "<div>\n",
       "<style scoped>\n",
       "    .dataframe tbody tr th:only-of-type {\n",
       "        vertical-align: middle;\n",
       "    }\n",
       "\n",
       "    .dataframe tbody tr th {\n",
       "        vertical-align: top;\n",
       "    }\n",
       "\n",
       "    .dataframe thead th {\n",
       "        text-align: right;\n",
       "    }\n",
       "</style>\n",
       "<table border=\"1\" class=\"dataframe\">\n",
       "  <thead>\n",
       "    <tr style=\"text-align: right;\">\n",
       "      <th></th>\n",
       "      <th>IDTICKET</th>\n",
       "      <th>NUMLIGNETICKET</th>\n",
       "      <th>IDARTICLE</th>\n",
       "      <th>QUANTITE</th>\n",
       "      <th>MONTANTREMISE</th>\n",
       "      <th>TOTAL</th>\n",
       "      <th>MARGESORTIE</th>\n",
       "      <th>TIC_DATE</th>\n",
       "      <th>MAG_CODE</th>\n",
       "      <th>IDCLIENT</th>\n",
       "      <th>TIC_TOTALTTC</th>\n",
       "      <th>FREQUENCE_MAG</th>\n",
       "    </tr>\n",
       "  </thead>\n",
       "  <tbody>\n",
       "    <tr>\n",
       "      <th>0</th>\n",
       "      <td>50100150510</td>\n",
       "      <td>1</td>\n",
       "      <td>224168</td>\n",
       "      <td>1.0</td>\n",
       "      <td>0.0000</td>\n",
       "      <td>10.75</td>\n",
       "      <td>6.46</td>\n",
       "      <td>02/01/2016</td>\n",
       "      <td>ALB</td>\n",
       "      <td>2995104</td>\n",
       "      <td>12.90</td>\n",
       "      <td>35</td>\n",
       "    </tr>\n",
       "    <tr>\n",
       "      <th>1</th>\n",
       "      <td>50100150511</td>\n",
       "      <td>6</td>\n",
       "      <td>932088</td>\n",
       "      <td>1.0</td>\n",
       "      <td>0.0000</td>\n",
       "      <td>6.25</td>\n",
       "      <td>6.25</td>\n",
       "      <td>02/01/2016</td>\n",
       "      <td>ALB</td>\n",
       "      <td>1411117</td>\n",
       "      <td>131.06</td>\n",
       "      <td>4</td>\n",
       "    </tr>\n",
       "    <tr>\n",
       "      <th>2</th>\n",
       "      <td>50100150511</td>\n",
       "      <td>2</td>\n",
       "      <td>397817</td>\n",
       "      <td>1.0</td>\n",
       "      <td>0.6250</td>\n",
       "      <td>5.62</td>\n",
       "      <td>2.54</td>\n",
       "      <td>02/01/2016</td>\n",
       "      <td>ALB</td>\n",
       "      <td>1411117</td>\n",
       "      <td>131.06</td>\n",
       "      <td>4</td>\n",
       "    </tr>\n",
       "    <tr>\n",
       "      <th>3</th>\n",
       "      <td>50100150511</td>\n",
       "      <td>5</td>\n",
       "      <td>758445</td>\n",
       "      <td>1.0</td>\n",
       "      <td>1.1825</td>\n",
       "      <td>22.02</td>\n",
       "      <td>11.54</td>\n",
       "      <td>02/01/2016</td>\n",
       "      <td>ALB</td>\n",
       "      <td>1411117</td>\n",
       "      <td>131.06</td>\n",
       "      <td>4</td>\n",
       "    </tr>\n",
       "    <tr>\n",
       "      <th>4</th>\n",
       "      <td>50100150511</td>\n",
       "      <td>3</td>\n",
       "      <td>428877</td>\n",
       "      <td>1.0</td>\n",
       "      <td>0.3330</td>\n",
       "      <td>2.96</td>\n",
       "      <td>0.94</td>\n",
       "      <td>02/01/2016</td>\n",
       "      <td>ALB</td>\n",
       "      <td>1411117</td>\n",
       "      <td>131.06</td>\n",
       "      <td>4</td>\n",
       "    </tr>\n",
       "    <tr>\n",
       "      <th>...</th>\n",
       "      <td>...</td>\n",
       "      <td>...</td>\n",
       "      <td>...</td>\n",
       "      <td>...</td>\n",
       "      <td>...</td>\n",
       "      <td>...</td>\n",
       "      <td>...</td>\n",
       "      <td>...</td>\n",
       "      <td>...</td>\n",
       "      <td>...</td>\n",
       "      <td>...</td>\n",
       "      <td>...</td>\n",
       "    </tr>\n",
       "    <tr>\n",
       "      <th>34105921</th>\n",
       "      <td>1340300014438</td>\n",
       "      <td>4</td>\n",
       "      <td>279749</td>\n",
       "      <td>1.0</td>\n",
       "      <td>0.7500</td>\n",
       "      <td>6.71</td>\n",
       "      <td>3.08</td>\n",
       "      <td>27/12/2016</td>\n",
       "      <td>RMA</td>\n",
       "      <td>3252348</td>\n",
       "      <td>118.01</td>\n",
       "      <td>12</td>\n",
       "    </tr>\n",
       "    <tr>\n",
       "      <th>34105922</th>\n",
       "      <td>1340300014438</td>\n",
       "      <td>10</td>\n",
       "      <td>287843</td>\n",
       "      <td>1.0</td>\n",
       "      <td>1.1825</td>\n",
       "      <td>22.02</td>\n",
       "      <td>10.63</td>\n",
       "      <td>27/12/2016</td>\n",
       "      <td>RMA</td>\n",
       "      <td>3252348</td>\n",
       "      <td>118.01</td>\n",
       "      <td>12</td>\n",
       "    </tr>\n",
       "    <tr>\n",
       "      <th>34105923</th>\n",
       "      <td>1340300014440</td>\n",
       "      <td>2</td>\n",
       "      <td>363834</td>\n",
       "      <td>1.0</td>\n",
       "      <td>0.0000</td>\n",
       "      <td>19.95</td>\n",
       "      <td>10.40</td>\n",
       "      <td>27/12/2016</td>\n",
       "      <td>RMA</td>\n",
       "      <td>3243933</td>\n",
       "      <td>44.80</td>\n",
       "      <td>4</td>\n",
       "    </tr>\n",
       "    <tr>\n",
       "      <th>34105924</th>\n",
       "      <td>1340300014440</td>\n",
       "      <td>3</td>\n",
       "      <td>632190</td>\n",
       "      <td>1.0</td>\n",
       "      <td>0.0000</td>\n",
       "      <td>19.95</td>\n",
       "      <td>10.49</td>\n",
       "      <td>27/12/2016</td>\n",
       "      <td>RMA</td>\n",
       "      <td>3243933</td>\n",
       "      <td>44.80</td>\n",
       "      <td>4</td>\n",
       "    </tr>\n",
       "    <tr>\n",
       "      <th>34105925</th>\n",
       "      <td>1340300014440</td>\n",
       "      <td>1</td>\n",
       "      <td>254879</td>\n",
       "      <td>1.0</td>\n",
       "      <td>0.0000</td>\n",
       "      <td>0.75</td>\n",
       "      <td>0.10</td>\n",
       "      <td>27/12/2016</td>\n",
       "      <td>RMA</td>\n",
       "      <td>3243933</td>\n",
       "      <td>44.80</td>\n",
       "      <td>4</td>\n",
       "    </tr>\n",
       "  </tbody>\n",
       "</table>\n",
       "<p>34105926 rows × 12 columns</p>\n",
       "</div>"
      ],
      "text/plain": [
       "               IDTICKET NUMLIGNETICKET IDARTICLE  QUANTITE  MONTANTREMISE  \\\n",
       "0           50100150510              1    224168       1.0         0.0000   \n",
       "1           50100150511              6    932088       1.0         0.0000   \n",
       "2           50100150511              2    397817       1.0         0.6250   \n",
       "3           50100150511              5    758445       1.0         1.1825   \n",
       "4           50100150511              3    428877       1.0         0.3330   \n",
       "...                 ...            ...       ...       ...            ...   \n",
       "34105921  1340300014438              4    279749       1.0         0.7500   \n",
       "34105922  1340300014438             10    287843       1.0         1.1825   \n",
       "34105923  1340300014440              2    363834       1.0         0.0000   \n",
       "34105924  1340300014440              3    632190       1.0         0.0000   \n",
       "34105925  1340300014440              1    254879       1.0         0.0000   \n",
       "\n",
       "          TOTAL  MARGESORTIE    TIC_DATE MAG_CODE  IDCLIENT  TIC_TOTALTTC  \\\n",
       "0         10.75         6.46  02/01/2016      ALB   2995104         12.90   \n",
       "1          6.25         6.25  02/01/2016      ALB   1411117        131.06   \n",
       "2          5.62         2.54  02/01/2016      ALB   1411117        131.06   \n",
       "3         22.02        11.54  02/01/2016      ALB   1411117        131.06   \n",
       "4          2.96         0.94  02/01/2016      ALB   1411117        131.06   \n",
       "...         ...          ...         ...      ...       ...           ...   \n",
       "34105921   6.71         3.08  27/12/2016      RMA   3252348        118.01   \n",
       "34105922  22.02        10.63  27/12/2016      RMA   3252348        118.01   \n",
       "34105923  19.95        10.40  27/12/2016      RMA   3243933         44.80   \n",
       "34105924  19.95        10.49  27/12/2016      RMA   3243933         44.80   \n",
       "34105925   0.75         0.10  27/12/2016      RMA   3243933         44.80   \n",
       "\n",
       "          FREQUENCE_MAG  \n",
       "0                    35  \n",
       "1                     4  \n",
       "2                     4  \n",
       "3                     4  \n",
       "4                     4  \n",
       "...                 ...  \n",
       "34105921             12  \n",
       "34105922             12  \n",
       "34105923              4  \n",
       "34105924              4  \n",
       "34105925              4  \n",
       "\n",
       "[34105926 rows x 12 columns]"
      ]
     },
     "execution_count": 136,
     "metadata": {},
     "output_type": "execute_result"
    }
   ],
   "source": [
    "data_merged"
   ]
  },
  {
   "cell_type": "code",
   "execution_count": 137,
   "id": "33342525debba1bc",
   "metadata": {
    "ExecuteTime": {
     "end_time": "2024-05-30T08:32:28.913697Z",
     "start_time": "2024-05-30T08:32:28.906276Z"
    }
   },
   "outputs": [
    {
     "name": "stdout",
     "output_type": "stream",
     "text": [
      "<class 'pandas.core.frame.DataFrame'>\n",
      "RangeIndex: 34105926 entries, 0 to 34105925\n",
      "Data columns (total 12 columns):\n",
      " #   Column          Dtype  \n",
      "---  ------          -----  \n",
      " 0   IDTICKET        object \n",
      " 1   NUMLIGNETICKET  object \n",
      " 2   IDARTICLE       object \n",
      " 3   QUANTITE        float64\n",
      " 4   MONTANTREMISE   float64\n",
      " 5   TOTAL           float64\n",
      " 6   MARGESORTIE     float64\n",
      " 7   TIC_DATE        object \n",
      " 8   MAG_CODE        object \n",
      " 9   IDCLIENT        int32  \n",
      " 10  TIC_TOTALTTC    float64\n",
      " 11  FREQUENCE_MAG   int64  \n",
      "dtypes: float64(5), int32(1), int64(1), object(5)\n",
      "memory usage: 2.9+ GB\n"
     ]
    }
   ],
   "source": [
    "data_merged.info()"
   ]
  },
  {
   "cell_type": "code",
   "execution_count": 138,
   "id": "aeec65230a7a0cd6",
   "metadata": {
    "ExecuteTime": {
     "end_time": "2024-05-30T08:33:00.220273Z",
     "start_time": "2024-05-30T08:32:34.103189Z"
    }
   },
   "outputs": [],
   "source": [
    "# Calcul de la variété du panier par client\n",
    "VARIETE_PANIER = data_merged.groupby('IDCLIENT')['IDARTICLE'].nunique().reset_index()\n",
    "VARIETE_PANIER.columns = ['IDCLIENT', 'VARIETE_PANIER']\n",
    "\n",
    "# Fusionner la variable de variété du panier avec le DataFrame original\n",
    "data_merged = data_merged.merge(VARIETE_PANIER, on='IDCLIENT', how='right')"
   ]
  },
  {
   "cell_type": "code",
   "execution_count": 139,
   "id": "90cad6f02a249717",
   "metadata": {
    "ExecuteTime": {
     "end_time": "2024-05-30T08:33:02.118381Z",
     "start_time": "2024-05-30T08:33:02.100061Z"
    }
   },
   "outputs": [
    {
     "data": {
      "text/html": [
       "<div>\n",
       "<style scoped>\n",
       "    .dataframe tbody tr th:only-of-type {\n",
       "        vertical-align: middle;\n",
       "    }\n",
       "\n",
       "    .dataframe tbody tr th {\n",
       "        vertical-align: top;\n",
       "    }\n",
       "\n",
       "    .dataframe thead th {\n",
       "        text-align: right;\n",
       "    }\n",
       "</style>\n",
       "<table border=\"1\" class=\"dataframe\">\n",
       "  <thead>\n",
       "    <tr style=\"text-align: right;\">\n",
       "      <th></th>\n",
       "      <th>IDTICKET</th>\n",
       "      <th>NUMLIGNETICKET</th>\n",
       "      <th>IDARTICLE</th>\n",
       "      <th>QUANTITE</th>\n",
       "      <th>MONTANTREMISE</th>\n",
       "      <th>TOTAL</th>\n",
       "      <th>MARGESORTIE</th>\n",
       "      <th>TIC_DATE</th>\n",
       "      <th>MAG_CODE</th>\n",
       "      <th>IDCLIENT</th>\n",
       "      <th>TIC_TOTALTTC</th>\n",
       "      <th>FREQUENCE_MAG</th>\n",
       "      <th>VARIETE_PANIER</th>\n",
       "    </tr>\n",
       "  </thead>\n",
       "  <tbody>\n",
       "    <tr>\n",
       "      <th>0</th>\n",
       "      <td>200200135291</td>\n",
       "      <td>3</td>\n",
       "      <td>33258</td>\n",
       "      <td>1.0</td>\n",
       "      <td>0.0000</td>\n",
       "      <td>0.91</td>\n",
       "      <td>0.54</td>\n",
       "      <td>05/02/2016</td>\n",
       "      <td>IAB</td>\n",
       "      <td>2108</td>\n",
       "      <td>7.57</td>\n",
       "      <td>2</td>\n",
       "      <td>7</td>\n",
       "    </tr>\n",
       "    <tr>\n",
       "      <th>1</th>\n",
       "      <td>200200135291</td>\n",
       "      <td>2</td>\n",
       "      <td>33247</td>\n",
       "      <td>1.0</td>\n",
       "      <td>0.0000</td>\n",
       "      <td>1.24</td>\n",
       "      <td>0.72</td>\n",
       "      <td>05/02/2016</td>\n",
       "      <td>IAB</td>\n",
       "      <td>2108</td>\n",
       "      <td>7.57</td>\n",
       "      <td>2</td>\n",
       "      <td>7</td>\n",
       "    </tr>\n",
       "    <tr>\n",
       "      <th>2</th>\n",
       "      <td>200200135291</td>\n",
       "      <td>1</td>\n",
       "      <td>227040</td>\n",
       "      <td>1.0</td>\n",
       "      <td>1.1825</td>\n",
       "      <td>4.54</td>\n",
       "      <td>1.56</td>\n",
       "      <td>05/02/2016</td>\n",
       "      <td>IAB</td>\n",
       "      <td>2108</td>\n",
       "      <td>7.57</td>\n",
       "      <td>2</td>\n",
       "      <td>7</td>\n",
       "    </tr>\n",
       "    <tr>\n",
       "      <th>3</th>\n",
       "      <td>200500180521</td>\n",
       "      <td>1</td>\n",
       "      <td>312922</td>\n",
       "      <td>1.0</td>\n",
       "      <td>0.5450</td>\n",
       "      <td>4.86</td>\n",
       "      <td>2.71</td>\n",
       "      <td>08/05/2016</td>\n",
       "      <td>IAB</td>\n",
       "      <td>2108</td>\n",
       "      <td>20.58</td>\n",
       "      <td>2</td>\n",
       "      <td>7</td>\n",
       "    </tr>\n",
       "    <tr>\n",
       "      <th>4</th>\n",
       "      <td>200500180521</td>\n",
       "      <td>4</td>\n",
       "      <td>932088</td>\n",
       "      <td>1.0</td>\n",
       "      <td>0.0000</td>\n",
       "      <td>6.25</td>\n",
       "      <td>6.25</td>\n",
       "      <td>08/05/2016</td>\n",
       "      <td>IAB</td>\n",
       "      <td>2108</td>\n",
       "      <td>20.58</td>\n",
       "      <td>2</td>\n",
       "      <td>7</td>\n",
       "    </tr>\n",
       "    <tr>\n",
       "      <th>...</th>\n",
       "      <td>...</td>\n",
       "      <td>...</td>\n",
       "      <td>...</td>\n",
       "      <td>...</td>\n",
       "      <td>...</td>\n",
       "      <td>...</td>\n",
       "      <td>...</td>\n",
       "      <td>...</td>\n",
       "      <td>...</td>\n",
       "      <td>...</td>\n",
       "      <td>...</td>\n",
       "      <td>...</td>\n",
       "      <td>...</td>\n",
       "    </tr>\n",
       "    <tr>\n",
       "      <th>34105921</th>\n",
       "      <td>770100547217</td>\n",
       "      <td>6</td>\n",
       "      <td>217360</td>\n",
       "      <td>1.0</td>\n",
       "      <td>0.2270</td>\n",
       "      <td>2.09</td>\n",
       "      <td>0.32</td>\n",
       "      <td>31/12/2017</td>\n",
       "      <td>PEG</td>\n",
       "      <td>3517102</td>\n",
       "      <td>55.67</td>\n",
       "      <td>1</td>\n",
       "      <td>10</td>\n",
       "    </tr>\n",
       "    <tr>\n",
       "      <th>34105922</th>\n",
       "      <td>770100547217</td>\n",
       "      <td>7</td>\n",
       "      <td>33257</td>\n",
       "      <td>1.0</td>\n",
       "      <td>0.0750</td>\n",
       "      <td>0.67</td>\n",
       "      <td>0.39</td>\n",
       "      <td>31/12/2017</td>\n",
       "      <td>PEG</td>\n",
       "      <td>3517102</td>\n",
       "      <td>55.67</td>\n",
       "      <td>1</td>\n",
       "      <td>10</td>\n",
       "    </tr>\n",
       "    <tr>\n",
       "      <th>34105923</th>\n",
       "      <td>770100547217</td>\n",
       "      <td>8</td>\n",
       "      <td>33247</td>\n",
       "      <td>1.0</td>\n",
       "      <td>0.1330</td>\n",
       "      <td>1.16</td>\n",
       "      <td>0.64</td>\n",
       "      <td>31/12/2017</td>\n",
       "      <td>PEG</td>\n",
       "      <td>3517102</td>\n",
       "      <td>55.67</td>\n",
       "      <td>1</td>\n",
       "      <td>10</td>\n",
       "    </tr>\n",
       "    <tr>\n",
       "      <th>34105924</th>\n",
       "      <td>770100547217</td>\n",
       "      <td>9</td>\n",
       "      <td>58830</td>\n",
       "      <td>1.0</td>\n",
       "      <td>0.2750</td>\n",
       "      <td>2.47</td>\n",
       "      <td>0.85</td>\n",
       "      <td>31/12/2017</td>\n",
       "      <td>PEG</td>\n",
       "      <td>3517102</td>\n",
       "      <td>55.67</td>\n",
       "      <td>1</td>\n",
       "      <td>10</td>\n",
       "    </tr>\n",
       "    <tr>\n",
       "      <th>34105925</th>\n",
       "      <td>770100547217</td>\n",
       "      <td>10</td>\n",
       "      <td>932088</td>\n",
       "      <td>1.0</td>\n",
       "      <td>0.0000</td>\n",
       "      <td>6.25</td>\n",
       "      <td>6.25</td>\n",
       "      <td>31/12/2017</td>\n",
       "      <td>PEG</td>\n",
       "      <td>3517102</td>\n",
       "      <td>55.67</td>\n",
       "      <td>1</td>\n",
       "      <td>10</td>\n",
       "    </tr>\n",
       "  </tbody>\n",
       "</table>\n",
       "<p>34105926 rows × 13 columns</p>\n",
       "</div>"
      ],
      "text/plain": [
       "              IDTICKET NUMLIGNETICKET IDARTICLE  QUANTITE  MONTANTREMISE  \\\n",
       "0         200200135291              3     33258       1.0         0.0000   \n",
       "1         200200135291              2     33247       1.0         0.0000   \n",
       "2         200200135291              1    227040       1.0         1.1825   \n",
       "3         200500180521              1    312922       1.0         0.5450   \n",
       "4         200500180521              4    932088       1.0         0.0000   \n",
       "...                ...            ...       ...       ...            ...   \n",
       "34105921  770100547217              6    217360       1.0         0.2270   \n",
       "34105922  770100547217              7     33257       1.0         0.0750   \n",
       "34105923  770100547217              8     33247       1.0         0.1330   \n",
       "34105924  770100547217              9     58830       1.0         0.2750   \n",
       "34105925  770100547217             10    932088       1.0         0.0000   \n",
       "\n",
       "          TOTAL  MARGESORTIE    TIC_DATE MAG_CODE  IDCLIENT  TIC_TOTALTTC  \\\n",
       "0          0.91         0.54  05/02/2016      IAB      2108          7.57   \n",
       "1          1.24         0.72  05/02/2016      IAB      2108          7.57   \n",
       "2          4.54         1.56  05/02/2016      IAB      2108          7.57   \n",
       "3          4.86         2.71  08/05/2016      IAB      2108         20.58   \n",
       "4          6.25         6.25  08/05/2016      IAB      2108         20.58   \n",
       "...         ...          ...         ...      ...       ...           ...   \n",
       "34105921   2.09         0.32  31/12/2017      PEG   3517102         55.67   \n",
       "34105922   0.67         0.39  31/12/2017      PEG   3517102         55.67   \n",
       "34105923   1.16         0.64  31/12/2017      PEG   3517102         55.67   \n",
       "34105924   2.47         0.85  31/12/2017      PEG   3517102         55.67   \n",
       "34105925   6.25         6.25  31/12/2017      PEG   3517102         55.67   \n",
       "\n",
       "          FREQUENCE_MAG  VARIETE_PANIER  \n",
       "0                     2               7  \n",
       "1                     2               7  \n",
       "2                     2               7  \n",
       "3                     2               7  \n",
       "4                     2               7  \n",
       "...                 ...             ...  \n",
       "34105921              1              10  \n",
       "34105922              1              10  \n",
       "34105923              1              10  \n",
       "34105924              1              10  \n",
       "34105925              1              10  \n",
       "\n",
       "[34105926 rows x 13 columns]"
      ]
     },
     "execution_count": 139,
     "metadata": {},
     "output_type": "execute_result"
    }
   ],
   "source": [
    "data_merged"
   ]
  },
  {
   "cell_type": "code",
   "execution_count": 140,
   "id": "e8ec95482d4a48d8",
   "metadata": {
    "ExecuteTime": {
     "end_time": "2024-05-30T08:33:07.428961Z",
     "start_time": "2024-05-30T08:33:07.320309Z"
    }
   },
   "outputs": [
    {
     "data": {
      "text/plain": [
       "VARIETE_PANIER\n",
       "27     291932\n",
       "22     291685\n",
       "20     291132\n",
       "24     290634\n",
       "23     290262\n",
       "        ...  \n",
       "588       823\n",
       "612       761\n",
       "601       688\n",
       "471       673\n",
       "537       661\n",
       "Name: count, Length: 732, dtype: int64"
      ]
     },
     "execution_count": 140,
     "metadata": {},
     "output_type": "execute_result"
    }
   ],
   "source": [
    "data_merged['VARIETE_PANIER'].value_counts()"
   ]
  },
  {
   "cell_type": "code",
   "execution_count": 141,
   "id": "73e26a7f5ca7ed46",
   "metadata": {
    "ExecuteTime": {
     "end_time": "2024-05-30T08:33:10.392701Z",
     "start_time": "2024-05-30T08:33:10.368468Z"
    }
   },
   "outputs": [],
   "source": [
    "VARIETE_PANIER = VARIETE_PANIER.astype(int)"
   ]
  },
  {
   "cell_type": "code",
   "execution_count": 142,
   "id": "429eb5ad711656a9",
   "metadata": {
    "ExecuteTime": {
     "end_time": "2024-05-30T08:34:12.103511Z",
     "start_time": "2024-05-30T08:34:04.974346Z"
    }
   },
   "outputs": [],
   "source": [
    "# Calculer le montant total de remises par client\n",
    "TOTAL_REMISE_CLIENT = data_merged.groupby('IDCLIENT')['MONTANTREMISE'].sum()\n",
    "\n",
    "# Calculer le montant total dépensé par chaque client\n",
    "TOTAL_DEPENSES = data_merged.groupby('IDCLIENT')['TOTAL'].sum()\n",
    "\n",
    "# Calculer le taux de remise pour chaque client\n",
    "TAUX_REMISE = TOTAL_REMISE_CLIENT / TOTAL_DEPENSES\n",
    "# Nommer la série de taux de remise\n",
    "TAUX_REMISE.name = 'TAUX_REMISE'\n",
    "\n",
    "# Fusionner la variable de taux de remise avec le DataFrame original\n",
    "data_merged = data_merged.merge(TAUX_REMISE, on='IDCLIENT', how='left')"
   ]
  },
  {
   "cell_type": "code",
   "execution_count": 143,
   "id": "cc4c446be5a6720f",
   "metadata": {
    "ExecuteTime": {
     "end_time": "2024-05-30T08:34:13.642126Z",
     "start_time": "2024-05-30T08:34:13.304158Z"
    }
   },
   "outputs": [
    {
     "data": {
      "text/plain": [
       "TAUX_REMISE\n",
       "0.000000    323815\n",
       "0.041829     19299\n",
       "0.047027     11690\n",
       "0.011163      5570\n",
       "0.183374      4729\n",
       "             ...  \n",
       "0.326657         1\n",
       "0.178625         1\n",
       "0.052593         1\n",
       "0.120787         1\n",
       "0.053073         1\n",
       "Name: count, Length: 646644, dtype: int64"
      ]
     },
     "execution_count": 143,
     "metadata": {},
     "output_type": "execute_result"
    }
   ],
   "source": [
    "data_merged['TAUX_REMISE'].value_counts()"
   ]
  },
  {
   "cell_type": "code",
   "execution_count": 144,
   "id": "dc20f692ba67a9b4",
   "metadata": {
    "ExecuteTime": {
     "end_time": "2024-05-30T08:40:08.294584Z",
     "start_time": "2024-05-30T08:37:10.843284Z"
    }
   },
   "outputs": [
    {
     "ename": "TypeError",
     "evalue": "unsupported operand type(s) for -: 'str' and 'str'",
     "output_type": "error",
     "traceback": [
      "\u001b[1;31m---------------------------------------------------------------------------\u001b[0m",
      "\u001b[1;31mTypeError\u001b[0m                                 Traceback (most recent call last)",
      "File \u001b[1;32mc:\\Users\\belga\\AppData\\Local\\Programs\\Python\\Python311\\Lib\\site-packages\\pandas\\core\\ops\\array_ops.py:218\u001b[0m, in \u001b[0;36m_na_arithmetic_op\u001b[1;34m(left, right, op, is_cmp)\u001b[0m\n\u001b[0;32m    217\u001b[0m \u001b[38;5;28;01mtry\u001b[39;00m:\n\u001b[1;32m--> 218\u001b[0m     result \u001b[38;5;241m=\u001b[39m \u001b[43mfunc\u001b[49m\u001b[43m(\u001b[49m\u001b[43mleft\u001b[49m\u001b[43m,\u001b[49m\u001b[43m \u001b[49m\u001b[43mright\u001b[49m\u001b[43m)\u001b[49m\n\u001b[0;32m    219\u001b[0m \u001b[38;5;28;01mexcept\u001b[39;00m \u001b[38;5;167;01mTypeError\u001b[39;00m:\n",
      "\u001b[1;31mTypeError\u001b[0m: unsupported operand type(s) for -: 'str' and 'str'",
      "\nDuring handling of the above exception, another exception occurred:\n",
      "\u001b[1;31mTypeError\u001b[0m                                 Traceback (most recent call last)",
      "Cell \u001b[1;32mIn[144], line 2\u001b[0m\n\u001b[0;32m      1\u001b[0m \u001b[38;5;66;03m# Calculer l'ancienneté par rapport à la première commande pour chaque client\u001b[39;00m\n\u001b[1;32m----> 2\u001b[0m data_merged[\u001b[38;5;124m'\u001b[39m\u001b[38;5;124mANCIENNETE_PRE_CDE\u001b[39m\u001b[38;5;124m'\u001b[39m] \u001b[38;5;241m=\u001b[39m \u001b[43mdata_merged\u001b[49m\u001b[38;5;241;43m.\u001b[39;49m\u001b[43mgroupby\u001b[49m\u001b[43m(\u001b[49m\u001b[38;5;124;43m'\u001b[39;49m\u001b[38;5;124;43mIDCLIENT\u001b[39;49m\u001b[38;5;124;43m'\u001b[39;49m\u001b[43m)\u001b[49m\u001b[43m[\u001b[49m\u001b[38;5;124;43m'\u001b[39;49m\u001b[38;5;124;43mTIC_DATE\u001b[39;49m\u001b[38;5;124;43m'\u001b[39;49m\u001b[43m]\u001b[49m\u001b[38;5;241;43m.\u001b[39;49m\u001b[43mtransform\u001b[49m\u001b[43m(\u001b[49m\u001b[38;5;28;43;01mlambda\u001b[39;49;00m\u001b[43m \u001b[49m\u001b[43mx\u001b[49m\u001b[43m:\u001b[49m\u001b[43m \u001b[49m\u001b[43m(\u001b[49m\u001b[43mx\u001b[49m\u001b[43m \u001b[49m\u001b[38;5;241;43m-\u001b[39;49m\u001b[43m \u001b[49m\u001b[43mx\u001b[49m\u001b[38;5;241;43m.\u001b[39;49m\u001b[43mmin\u001b[49m\u001b[43m(\u001b[49m\u001b[43m)\u001b[49m\u001b[43m)\u001b[49m\u001b[38;5;241;43m.\u001b[39;49m\u001b[43mdt\u001b[49m\u001b[38;5;241;43m.\u001b[39;49m\u001b[43mdays\u001b[49m\u001b[43m)\u001b[49m\n\u001b[0;32m      4\u001b[0m \u001b[38;5;66;03m# Calculer l'ancienneté par rapport à la dernière commande pour chaque client\u001b[39;00m\n\u001b[0;32m      5\u001b[0m data_merged[\u001b[38;5;124m'\u001b[39m\u001b[38;5;124mANCIENNETE_DRE_CDE\u001b[39m\u001b[38;5;124m'\u001b[39m] \u001b[38;5;241m=\u001b[39m data_merged\u001b[38;5;241m.\u001b[39mgroupby(\u001b[38;5;124m'\u001b[39m\u001b[38;5;124mIDCLIENT\u001b[39m\u001b[38;5;124m'\u001b[39m)[\u001b[38;5;124m'\u001b[39m\u001b[38;5;124mTIC_DATE\u001b[39m\u001b[38;5;124m'\u001b[39m]\u001b[38;5;241m.\u001b[39mtransform(\u001b[38;5;28;01mlambda\u001b[39;00m x: (x\u001b[38;5;241m.\u001b[39mmax() \u001b[38;5;241m-\u001b[39m x)\u001b[38;5;241m.\u001b[39mdt\u001b[38;5;241m.\u001b[39mdays)\n",
      "File \u001b[1;32mc:\\Users\\belga\\AppData\\Local\\Programs\\Python\\Python311\\Lib\\site-packages\\pandas\\core\\groupby\\generic.py:517\u001b[0m, in \u001b[0;36mSeriesGroupBy.transform\u001b[1;34m(self, func, engine, engine_kwargs, *args, **kwargs)\u001b[0m\n\u001b[0;32m    514\u001b[0m \u001b[38;5;129m@Substitution\u001b[39m(klass\u001b[38;5;241m=\u001b[39m\u001b[38;5;124m\"\u001b[39m\u001b[38;5;124mSeries\u001b[39m\u001b[38;5;124m\"\u001b[39m, example\u001b[38;5;241m=\u001b[39m__examples_series_doc)\n\u001b[0;32m    515\u001b[0m \u001b[38;5;129m@Appender\u001b[39m(_transform_template)\n\u001b[0;32m    516\u001b[0m \u001b[38;5;28;01mdef\u001b[39;00m \u001b[38;5;21mtransform\u001b[39m(\u001b[38;5;28mself\u001b[39m, func, \u001b[38;5;241m*\u001b[39margs, engine\u001b[38;5;241m=\u001b[39m\u001b[38;5;28;01mNone\u001b[39;00m, engine_kwargs\u001b[38;5;241m=\u001b[39m\u001b[38;5;28;01mNone\u001b[39;00m, \u001b[38;5;241m*\u001b[39m\u001b[38;5;241m*\u001b[39mkwargs):\n\u001b[1;32m--> 517\u001b[0m     \u001b[38;5;28;01mreturn\u001b[39;00m \u001b[38;5;28;43mself\u001b[39;49m\u001b[38;5;241;43m.\u001b[39;49m\u001b[43m_transform\u001b[49m\u001b[43m(\u001b[49m\n\u001b[0;32m    518\u001b[0m \u001b[43m        \u001b[49m\u001b[43mfunc\u001b[49m\u001b[43m,\u001b[49m\u001b[43m \u001b[49m\u001b[38;5;241;43m*\u001b[39;49m\u001b[43margs\u001b[49m\u001b[43m,\u001b[49m\u001b[43m \u001b[49m\u001b[43mengine\u001b[49m\u001b[38;5;241;43m=\u001b[39;49m\u001b[43mengine\u001b[49m\u001b[43m,\u001b[49m\u001b[43m \u001b[49m\u001b[43mengine_kwargs\u001b[49m\u001b[38;5;241;43m=\u001b[39;49m\u001b[43mengine_kwargs\u001b[49m\u001b[43m,\u001b[49m\u001b[43m \u001b[49m\u001b[38;5;241;43m*\u001b[39;49m\u001b[38;5;241;43m*\u001b[39;49m\u001b[43mkwargs\u001b[49m\n\u001b[0;32m    519\u001b[0m \u001b[43m    \u001b[49m\u001b[43m)\u001b[49m\n",
      "File \u001b[1;32mc:\\Users\\belga\\AppData\\Local\\Programs\\Python\\Python311\\Lib\\site-packages\\pandas\\core\\groupby\\groupby.py:2021\u001b[0m, in \u001b[0;36mGroupBy._transform\u001b[1;34m(self, func, engine, engine_kwargs, *args, **kwargs)\u001b[0m\n\u001b[0;32m   2018\u001b[0m     warn_alias_replacement(\u001b[38;5;28mself\u001b[39m, orig_func, func)\n\u001b[0;32m   2020\u001b[0m \u001b[38;5;28;01mif\u001b[39;00m \u001b[38;5;129;01mnot\u001b[39;00m \u001b[38;5;28misinstance\u001b[39m(func, \u001b[38;5;28mstr\u001b[39m):\n\u001b[1;32m-> 2021\u001b[0m     \u001b[38;5;28;01mreturn\u001b[39;00m \u001b[38;5;28;43mself\u001b[39;49m\u001b[38;5;241;43m.\u001b[39;49m\u001b[43m_transform_general\u001b[49m\u001b[43m(\u001b[49m\u001b[43mfunc\u001b[49m\u001b[43m,\u001b[49m\u001b[43m \u001b[49m\u001b[43mengine\u001b[49m\u001b[43m,\u001b[49m\u001b[43m \u001b[49m\u001b[43mengine_kwargs\u001b[49m\u001b[43m,\u001b[49m\u001b[43m \u001b[49m\u001b[38;5;241;43m*\u001b[39;49m\u001b[43margs\u001b[49m\u001b[43m,\u001b[49m\u001b[43m \u001b[49m\u001b[38;5;241;43m*\u001b[39;49m\u001b[38;5;241;43m*\u001b[39;49m\u001b[43mkwargs\u001b[49m\u001b[43m)\u001b[49m\n\u001b[0;32m   2023\u001b[0m \u001b[38;5;28;01melif\u001b[39;00m func \u001b[38;5;129;01mnot\u001b[39;00m \u001b[38;5;129;01min\u001b[39;00m base\u001b[38;5;241m.\u001b[39mtransform_kernel_allowlist:\n\u001b[0;32m   2024\u001b[0m     msg \u001b[38;5;241m=\u001b[39m \u001b[38;5;124mf\u001b[39m\u001b[38;5;124m\"\u001b[39m\u001b[38;5;124m'\u001b[39m\u001b[38;5;132;01m{\u001b[39;00mfunc\u001b[38;5;132;01m}\u001b[39;00m\u001b[38;5;124m'\u001b[39m\u001b[38;5;124m is not a valid function name for transform(name)\u001b[39m\u001b[38;5;124m\"\u001b[39m\n",
      "File \u001b[1;32mc:\\Users\\belga\\AppData\\Local\\Programs\\Python\\Python311\\Lib\\site-packages\\pandas\\core\\groupby\\generic.py:557\u001b[0m, in \u001b[0;36mSeriesGroupBy._transform_general\u001b[1;34m(self, func, engine, engine_kwargs, *args, **kwargs)\u001b[0m\n\u001b[0;32m    552\u001b[0m \u001b[38;5;28;01mfor\u001b[39;00m name, group \u001b[38;5;129;01min\u001b[39;00m \u001b[38;5;28mself\u001b[39m\u001b[38;5;241m.\u001b[39m_grouper\u001b[38;5;241m.\u001b[39mget_iterator(\n\u001b[0;32m    553\u001b[0m     \u001b[38;5;28mself\u001b[39m\u001b[38;5;241m.\u001b[39m_obj_with_exclusions, axis\u001b[38;5;241m=\u001b[39m\u001b[38;5;28mself\u001b[39m\u001b[38;5;241m.\u001b[39maxis\n\u001b[0;32m    554\u001b[0m ):\n\u001b[0;32m    555\u001b[0m     \u001b[38;5;66;03m# this setattr is needed for test_transform_lambda_with_datetimetz\u001b[39;00m\n\u001b[0;32m    556\u001b[0m     \u001b[38;5;28mobject\u001b[39m\u001b[38;5;241m.\u001b[39m\u001b[38;5;21m__setattr__\u001b[39m(group, \u001b[38;5;124m\"\u001b[39m\u001b[38;5;124mname\u001b[39m\u001b[38;5;124m\"\u001b[39m, name)\n\u001b[1;32m--> 557\u001b[0m     res \u001b[38;5;241m=\u001b[39m \u001b[43mfunc\u001b[49m\u001b[43m(\u001b[49m\u001b[43mgroup\u001b[49m\u001b[43m,\u001b[49m\u001b[43m \u001b[49m\u001b[38;5;241;43m*\u001b[39;49m\u001b[43margs\u001b[49m\u001b[43m,\u001b[49m\u001b[43m \u001b[49m\u001b[38;5;241;43m*\u001b[39;49m\u001b[38;5;241;43m*\u001b[39;49m\u001b[43mkwargs\u001b[49m\u001b[43m)\u001b[49m\n\u001b[0;32m    559\u001b[0m     results\u001b[38;5;241m.\u001b[39mappend(klass(res, index\u001b[38;5;241m=\u001b[39mgroup\u001b[38;5;241m.\u001b[39mindex))\n\u001b[0;32m    561\u001b[0m \u001b[38;5;66;03m# check for empty \"results\" to avoid concat ValueError\u001b[39;00m\n",
      "Cell \u001b[1;32mIn[144], line 2\u001b[0m, in \u001b[0;36m<lambda>\u001b[1;34m(x)\u001b[0m\n\u001b[0;32m      1\u001b[0m \u001b[38;5;66;03m# Calculer l'ancienneté par rapport à la première commande pour chaque client\u001b[39;00m\n\u001b[1;32m----> 2\u001b[0m data_merged[\u001b[38;5;124m'\u001b[39m\u001b[38;5;124mANCIENNETE_PRE_CDE\u001b[39m\u001b[38;5;124m'\u001b[39m] \u001b[38;5;241m=\u001b[39m data_merged\u001b[38;5;241m.\u001b[39mgroupby(\u001b[38;5;124m'\u001b[39m\u001b[38;5;124mIDCLIENT\u001b[39m\u001b[38;5;124m'\u001b[39m)[\u001b[38;5;124m'\u001b[39m\u001b[38;5;124mTIC_DATE\u001b[39m\u001b[38;5;124m'\u001b[39m]\u001b[38;5;241m.\u001b[39mtransform(\u001b[38;5;28;01mlambda\u001b[39;00m x: (\u001b[43mx\u001b[49m\u001b[43m \u001b[49m\u001b[38;5;241;43m-\u001b[39;49m\u001b[43m \u001b[49m\u001b[43mx\u001b[49m\u001b[38;5;241;43m.\u001b[39;49m\u001b[43mmin\u001b[49m\u001b[43m(\u001b[49m\u001b[43m)\u001b[49m)\u001b[38;5;241m.\u001b[39mdt\u001b[38;5;241m.\u001b[39mdays)\n\u001b[0;32m      4\u001b[0m \u001b[38;5;66;03m# Calculer l'ancienneté par rapport à la dernière commande pour chaque client\u001b[39;00m\n\u001b[0;32m      5\u001b[0m data_merged[\u001b[38;5;124m'\u001b[39m\u001b[38;5;124mANCIENNETE_DRE_CDE\u001b[39m\u001b[38;5;124m'\u001b[39m] \u001b[38;5;241m=\u001b[39m data_merged\u001b[38;5;241m.\u001b[39mgroupby(\u001b[38;5;124m'\u001b[39m\u001b[38;5;124mIDCLIENT\u001b[39m\u001b[38;5;124m'\u001b[39m)[\u001b[38;5;124m'\u001b[39m\u001b[38;5;124mTIC_DATE\u001b[39m\u001b[38;5;124m'\u001b[39m]\u001b[38;5;241m.\u001b[39mtransform(\u001b[38;5;28;01mlambda\u001b[39;00m x: (x\u001b[38;5;241m.\u001b[39mmax() \u001b[38;5;241m-\u001b[39m x)\u001b[38;5;241m.\u001b[39mdt\u001b[38;5;241m.\u001b[39mdays)\n",
      "File \u001b[1;32mc:\\Users\\belga\\AppData\\Local\\Programs\\Python\\Python311\\Lib\\site-packages\\pandas\\core\\ops\\common.py:76\u001b[0m, in \u001b[0;36m_unpack_zerodim_and_defer.<locals>.new_method\u001b[1;34m(self, other)\u001b[0m\n\u001b[0;32m     72\u001b[0m             \u001b[38;5;28;01mreturn\u001b[39;00m \u001b[38;5;28mNotImplemented\u001b[39m\n\u001b[0;32m     74\u001b[0m other \u001b[38;5;241m=\u001b[39m item_from_zerodim(other)\n\u001b[1;32m---> 76\u001b[0m \u001b[38;5;28;01mreturn\u001b[39;00m \u001b[43mmethod\u001b[49m\u001b[43m(\u001b[49m\u001b[38;5;28;43mself\u001b[39;49m\u001b[43m,\u001b[49m\u001b[43m \u001b[49m\u001b[43mother\u001b[49m\u001b[43m)\u001b[49m\n",
      "File \u001b[1;32mc:\\Users\\belga\\AppData\\Local\\Programs\\Python\\Python311\\Lib\\site-packages\\pandas\\core\\arraylike.py:194\u001b[0m, in \u001b[0;36mOpsMixin.__sub__\u001b[1;34m(self, other)\u001b[0m\n\u001b[0;32m    192\u001b[0m \u001b[38;5;129m@unpack_zerodim_and_defer\u001b[39m(\u001b[38;5;124m\"\u001b[39m\u001b[38;5;124m__sub__\u001b[39m\u001b[38;5;124m\"\u001b[39m)\n\u001b[0;32m    193\u001b[0m \u001b[38;5;28;01mdef\u001b[39;00m \u001b[38;5;21m__sub__\u001b[39m(\u001b[38;5;28mself\u001b[39m, other):\n\u001b[1;32m--> 194\u001b[0m     \u001b[38;5;28;01mreturn\u001b[39;00m \u001b[38;5;28;43mself\u001b[39;49m\u001b[38;5;241;43m.\u001b[39;49m\u001b[43m_arith_method\u001b[49m\u001b[43m(\u001b[49m\u001b[43mother\u001b[49m\u001b[43m,\u001b[49m\u001b[43m \u001b[49m\u001b[43moperator\u001b[49m\u001b[38;5;241;43m.\u001b[39;49m\u001b[43msub\u001b[49m\u001b[43m)\u001b[49m\n",
      "File \u001b[1;32mc:\\Users\\belga\\AppData\\Local\\Programs\\Python\\Python311\\Lib\\site-packages\\pandas\\core\\series.py:6126\u001b[0m, in \u001b[0;36mSeries._arith_method\u001b[1;34m(self, other, op)\u001b[0m\n\u001b[0;32m   6124\u001b[0m \u001b[38;5;28;01mdef\u001b[39;00m \u001b[38;5;21m_arith_method\u001b[39m(\u001b[38;5;28mself\u001b[39m, other, op):\n\u001b[0;32m   6125\u001b[0m     \u001b[38;5;28mself\u001b[39m, other \u001b[38;5;241m=\u001b[39m \u001b[38;5;28mself\u001b[39m\u001b[38;5;241m.\u001b[39m_align_for_op(other)\n\u001b[1;32m-> 6126\u001b[0m     \u001b[38;5;28;01mreturn\u001b[39;00m \u001b[43mbase\u001b[49m\u001b[38;5;241;43m.\u001b[39;49m\u001b[43mIndexOpsMixin\u001b[49m\u001b[38;5;241;43m.\u001b[39;49m\u001b[43m_arith_method\u001b[49m\u001b[43m(\u001b[49m\u001b[38;5;28;43mself\u001b[39;49m\u001b[43m,\u001b[49m\u001b[43m \u001b[49m\u001b[43mother\u001b[49m\u001b[43m,\u001b[49m\u001b[43m \u001b[49m\u001b[43mop\u001b[49m\u001b[43m)\u001b[49m\n",
      "File \u001b[1;32mc:\\Users\\belga\\AppData\\Local\\Programs\\Python\\Python311\\Lib\\site-packages\\pandas\\core\\base.py:1382\u001b[0m, in \u001b[0;36mIndexOpsMixin._arith_method\u001b[1;34m(self, other, op)\u001b[0m\n\u001b[0;32m   1379\u001b[0m     rvalues \u001b[38;5;241m=\u001b[39m np\u001b[38;5;241m.\u001b[39marange(rvalues\u001b[38;5;241m.\u001b[39mstart, rvalues\u001b[38;5;241m.\u001b[39mstop, rvalues\u001b[38;5;241m.\u001b[39mstep)\n\u001b[0;32m   1381\u001b[0m \u001b[38;5;28;01mwith\u001b[39;00m np\u001b[38;5;241m.\u001b[39merrstate(\u001b[38;5;28mall\u001b[39m\u001b[38;5;241m=\u001b[39m\u001b[38;5;124m\"\u001b[39m\u001b[38;5;124mignore\u001b[39m\u001b[38;5;124m\"\u001b[39m):\n\u001b[1;32m-> 1382\u001b[0m     result \u001b[38;5;241m=\u001b[39m \u001b[43mops\u001b[49m\u001b[38;5;241;43m.\u001b[39;49m\u001b[43marithmetic_op\u001b[49m\u001b[43m(\u001b[49m\u001b[43mlvalues\u001b[49m\u001b[43m,\u001b[49m\u001b[43m \u001b[49m\u001b[43mrvalues\u001b[49m\u001b[43m,\u001b[49m\u001b[43m \u001b[49m\u001b[43mop\u001b[49m\u001b[43m)\u001b[49m\n\u001b[0;32m   1384\u001b[0m \u001b[38;5;28;01mreturn\u001b[39;00m \u001b[38;5;28mself\u001b[39m\u001b[38;5;241m.\u001b[39m_construct_result(result, name\u001b[38;5;241m=\u001b[39mres_name)\n",
      "File \u001b[1;32mc:\\Users\\belga\\AppData\\Local\\Programs\\Python\\Python311\\Lib\\site-packages\\pandas\\core\\ops\\array_ops.py:283\u001b[0m, in \u001b[0;36marithmetic_op\u001b[1;34m(left, right, op)\u001b[0m\n\u001b[0;32m    279\u001b[0m     _bool_arith_check(op, left, right)  \u001b[38;5;66;03m# type: ignore[arg-type]\u001b[39;00m\n\u001b[0;32m    281\u001b[0m     \u001b[38;5;66;03m# error: Argument 1 to \"_na_arithmetic_op\" has incompatible type\u001b[39;00m\n\u001b[0;32m    282\u001b[0m     \u001b[38;5;66;03m# \"Union[ExtensionArray, ndarray[Any, Any]]\"; expected \"ndarray[Any, Any]\"\u001b[39;00m\n\u001b[1;32m--> 283\u001b[0m     res_values \u001b[38;5;241m=\u001b[39m \u001b[43m_na_arithmetic_op\u001b[49m\u001b[43m(\u001b[49m\u001b[43mleft\u001b[49m\u001b[43m,\u001b[49m\u001b[43m \u001b[49m\u001b[43mright\u001b[49m\u001b[43m,\u001b[49m\u001b[43m \u001b[49m\u001b[43mop\u001b[49m\u001b[43m)\u001b[49m  \u001b[38;5;66;03m# type: ignore[arg-type]\u001b[39;00m\n\u001b[0;32m    285\u001b[0m \u001b[38;5;28;01mreturn\u001b[39;00m res_values\n",
      "File \u001b[1;32mc:\\Users\\belga\\AppData\\Local\\Programs\\Python\\Python311\\Lib\\site-packages\\pandas\\core\\ops\\array_ops.py:227\u001b[0m, in \u001b[0;36m_na_arithmetic_op\u001b[1;34m(left, right, op, is_cmp)\u001b[0m\n\u001b[0;32m    219\u001b[0m \u001b[38;5;28;01mexcept\u001b[39;00m \u001b[38;5;167;01mTypeError\u001b[39;00m:\n\u001b[0;32m    220\u001b[0m     \u001b[38;5;28;01mif\u001b[39;00m \u001b[38;5;129;01mnot\u001b[39;00m is_cmp \u001b[38;5;129;01mand\u001b[39;00m (\n\u001b[0;32m    221\u001b[0m         left\u001b[38;5;241m.\u001b[39mdtype \u001b[38;5;241m==\u001b[39m \u001b[38;5;28mobject\u001b[39m \u001b[38;5;129;01mor\u001b[39;00m \u001b[38;5;28mgetattr\u001b[39m(right, \u001b[38;5;124m\"\u001b[39m\u001b[38;5;124mdtype\u001b[39m\u001b[38;5;124m\"\u001b[39m, \u001b[38;5;28;01mNone\u001b[39;00m) \u001b[38;5;241m==\u001b[39m \u001b[38;5;28mobject\u001b[39m\n\u001b[0;32m    222\u001b[0m     ):\n\u001b[1;32m   (...)\u001b[0m\n\u001b[0;32m    225\u001b[0m         \u001b[38;5;66;03m# Don't do this for comparisons, as that will handle complex numbers\u001b[39;00m\n\u001b[0;32m    226\u001b[0m         \u001b[38;5;66;03m#  incorrectly, see GH#32047\u001b[39;00m\n\u001b[1;32m--> 227\u001b[0m         result \u001b[38;5;241m=\u001b[39m \u001b[43m_masked_arith_op\u001b[49m\u001b[43m(\u001b[49m\u001b[43mleft\u001b[49m\u001b[43m,\u001b[49m\u001b[43m \u001b[49m\u001b[43mright\u001b[49m\u001b[43m,\u001b[49m\u001b[43m \u001b[49m\u001b[43mop\u001b[49m\u001b[43m)\u001b[49m\n\u001b[0;32m    228\u001b[0m     \u001b[38;5;28;01melse\u001b[39;00m:\n\u001b[0;32m    229\u001b[0m         \u001b[38;5;28;01mraise\u001b[39;00m\n",
      "File \u001b[1;32mc:\\Users\\belga\\AppData\\Local\\Programs\\Python\\Python311\\Lib\\site-packages\\pandas\\core\\ops\\array_ops.py:182\u001b[0m, in \u001b[0;36m_masked_arith_op\u001b[1;34m(x, y, op)\u001b[0m\n\u001b[0;32m    179\u001b[0m         mask \u001b[38;5;241m=\u001b[39m np\u001b[38;5;241m.\u001b[39mwhere(y \u001b[38;5;241m==\u001b[39m \u001b[38;5;241m1\u001b[39m, \u001b[38;5;28;01mFalse\u001b[39;00m, mask)\n\u001b[0;32m    181\u001b[0m     \u001b[38;5;28;01mif\u001b[39;00m mask\u001b[38;5;241m.\u001b[39many():\n\u001b[1;32m--> 182\u001b[0m         result[mask] \u001b[38;5;241m=\u001b[39m \u001b[43mop\u001b[49m\u001b[43m(\u001b[49m\u001b[43mxrav\u001b[49m\u001b[43m[\u001b[49m\u001b[43mmask\u001b[49m\u001b[43m]\u001b[49m\u001b[43m,\u001b[49m\u001b[43m \u001b[49m\u001b[43my\u001b[49m\u001b[43m)\u001b[49m\n\u001b[0;32m    184\u001b[0m np\u001b[38;5;241m.\u001b[39mputmask(result, \u001b[38;5;241m~\u001b[39mmask, np\u001b[38;5;241m.\u001b[39mnan)\n\u001b[0;32m    185\u001b[0m result \u001b[38;5;241m=\u001b[39m result\u001b[38;5;241m.\u001b[39mreshape(x\u001b[38;5;241m.\u001b[39mshape)  \u001b[38;5;66;03m# 2D compat\u001b[39;00m\n",
      "\u001b[1;31mTypeError\u001b[0m: unsupported operand type(s) for -: 'str' and 'str'"
     ]
    }
   ],
   "source": [
    "# Calculer l'ancienneté par rapport à la première commande pour chaque client\n",
    "data_merged['ANCIENNETE_PRE_CDE'] = data_merged.groupby('IDCLIENT')['TIC_DATE'].transform(lambda x: (x - x.min()).dt.days)\n",
    "\n",
    "# Calculer l'ancienneté par rapport à la dernière commande pour chaque client\n",
    "data_merged['ANCIENNETE_DRE_CDE'] = data_merged.groupby('IDCLIENT')['TIC_DATE'].transform(lambda x: (x.max() - x).dt.days)\n",
    "\n",
    "# Afficher l'ancienneté par rapport à la première et à la dernière commande pour chaque client\n",
    "print(data_merged[['IDCLIENT', 'TIC_DATE', 'ANCIENNETE_PRE_CDE', 'ANCIENNETE_DRE_CDE']])"
   ]
  },
  {
   "cell_type": "code",
   "execution_count": 145,
   "id": "61c57ccebc151a85",
   "metadata": {
    "ExecuteTime": {
     "end_time": "2024-05-30T08:40:52.117139Z",
     "start_time": "2024-05-30T08:40:52.075757Z"
    }
   },
   "outputs": [
    {
     "data": {
      "text/html": [
       "<div>\n",
       "<style scoped>\n",
       "    .dataframe tbody tr th:only-of-type {\n",
       "        vertical-align: middle;\n",
       "    }\n",
       "\n",
       "    .dataframe tbody tr th {\n",
       "        vertical-align: top;\n",
       "    }\n",
       "\n",
       "    .dataframe thead th {\n",
       "        text-align: right;\n",
       "    }\n",
       "</style>\n",
       "<table border=\"1\" class=\"dataframe\">\n",
       "  <thead>\n",
       "    <tr style=\"text-align: right;\">\n",
       "      <th></th>\n",
       "      <th>IDTICKET</th>\n",
       "      <th>NUMLIGNETICKET</th>\n",
       "      <th>IDARTICLE</th>\n",
       "      <th>QUANTITE</th>\n",
       "      <th>MONTANTREMISE</th>\n",
       "      <th>TOTAL</th>\n",
       "      <th>MARGESORTIE</th>\n",
       "      <th>TIC_DATE</th>\n",
       "      <th>MAG_CODE</th>\n",
       "      <th>IDCLIENT</th>\n",
       "      <th>TIC_TOTALTTC</th>\n",
       "      <th>FREQUENCE_MAG</th>\n",
       "      <th>VARIETE_PANIER</th>\n",
       "      <th>TAUX_REMISE</th>\n",
       "    </tr>\n",
       "  </thead>\n",
       "  <tbody>\n",
       "    <tr>\n",
       "      <th>0</th>\n",
       "      <td>200200135291</td>\n",
       "      <td>3</td>\n",
       "      <td>33258</td>\n",
       "      <td>1.0</td>\n",
       "      <td>0.0000</td>\n",
       "      <td>0.91</td>\n",
       "      <td>0.54</td>\n",
       "      <td>05/02/2016</td>\n",
       "      <td>IAB</td>\n",
       "      <td>2108</td>\n",
       "      <td>7.57</td>\n",
       "      <td>2</td>\n",
       "      <td>7</td>\n",
       "      <td>0.101067</td>\n",
       "    </tr>\n",
       "    <tr>\n",
       "      <th>1</th>\n",
       "      <td>200200135291</td>\n",
       "      <td>2</td>\n",
       "      <td>33247</td>\n",
       "      <td>1.0</td>\n",
       "      <td>0.0000</td>\n",
       "      <td>1.24</td>\n",
       "      <td>0.72</td>\n",
       "      <td>05/02/2016</td>\n",
       "      <td>IAB</td>\n",
       "      <td>2108</td>\n",
       "      <td>7.57</td>\n",
       "      <td>2</td>\n",
       "      <td>7</td>\n",
       "      <td>0.101067</td>\n",
       "    </tr>\n",
       "    <tr>\n",
       "      <th>2</th>\n",
       "      <td>200200135291</td>\n",
       "      <td>1</td>\n",
       "      <td>227040</td>\n",
       "      <td>1.0</td>\n",
       "      <td>1.1825</td>\n",
       "      <td>4.54</td>\n",
       "      <td>1.56</td>\n",
       "      <td>05/02/2016</td>\n",
       "      <td>IAB</td>\n",
       "      <td>2108</td>\n",
       "      <td>7.57</td>\n",
       "      <td>2</td>\n",
       "      <td>7</td>\n",
       "      <td>0.101067</td>\n",
       "    </tr>\n",
       "    <tr>\n",
       "      <th>3</th>\n",
       "      <td>200500180521</td>\n",
       "      <td>1</td>\n",
       "      <td>312922</td>\n",
       "      <td>1.0</td>\n",
       "      <td>0.5450</td>\n",
       "      <td>4.86</td>\n",
       "      <td>2.71</td>\n",
       "      <td>08/05/2016</td>\n",
       "      <td>IAB</td>\n",
       "      <td>2108</td>\n",
       "      <td>20.58</td>\n",
       "      <td>2</td>\n",
       "      <td>7</td>\n",
       "      <td>0.101067</td>\n",
       "    </tr>\n",
       "    <tr>\n",
       "      <th>4</th>\n",
       "      <td>200500180521</td>\n",
       "      <td>4</td>\n",
       "      <td>932088</td>\n",
       "      <td>1.0</td>\n",
       "      <td>0.0000</td>\n",
       "      <td>6.25</td>\n",
       "      <td>6.25</td>\n",
       "      <td>08/05/2016</td>\n",
       "      <td>IAB</td>\n",
       "      <td>2108</td>\n",
       "      <td>20.58</td>\n",
       "      <td>2</td>\n",
       "      <td>7</td>\n",
       "      <td>0.101067</td>\n",
       "    </tr>\n",
       "    <tr>\n",
       "      <th>...</th>\n",
       "      <td>...</td>\n",
       "      <td>...</td>\n",
       "      <td>...</td>\n",
       "      <td>...</td>\n",
       "      <td>...</td>\n",
       "      <td>...</td>\n",
       "      <td>...</td>\n",
       "      <td>...</td>\n",
       "      <td>...</td>\n",
       "      <td>...</td>\n",
       "      <td>...</td>\n",
       "      <td>...</td>\n",
       "      <td>...</td>\n",
       "      <td>...</td>\n",
       "    </tr>\n",
       "    <tr>\n",
       "      <th>34105921</th>\n",
       "      <td>770100547217</td>\n",
       "      <td>6</td>\n",
       "      <td>217360</td>\n",
       "      <td>1.0</td>\n",
       "      <td>0.2270</td>\n",
       "      <td>2.09</td>\n",
       "      <td>0.32</td>\n",
       "      <td>31/12/2017</td>\n",
       "      <td>PEG</td>\n",
       "      <td>3517102</td>\n",
       "      <td>55.67</td>\n",
       "      <td>1</td>\n",
       "      <td>10</td>\n",
       "      <td>0.082558</td>\n",
       "    </tr>\n",
       "    <tr>\n",
       "      <th>34105922</th>\n",
       "      <td>770100547217</td>\n",
       "      <td>7</td>\n",
       "      <td>33257</td>\n",
       "      <td>1.0</td>\n",
       "      <td>0.0750</td>\n",
       "      <td>0.67</td>\n",
       "      <td>0.39</td>\n",
       "      <td>31/12/2017</td>\n",
       "      <td>PEG</td>\n",
       "      <td>3517102</td>\n",
       "      <td>55.67</td>\n",
       "      <td>1</td>\n",
       "      <td>10</td>\n",
       "      <td>0.082558</td>\n",
       "    </tr>\n",
       "    <tr>\n",
       "      <th>34105923</th>\n",
       "      <td>770100547217</td>\n",
       "      <td>8</td>\n",
       "      <td>33247</td>\n",
       "      <td>1.0</td>\n",
       "      <td>0.1330</td>\n",
       "      <td>1.16</td>\n",
       "      <td>0.64</td>\n",
       "      <td>31/12/2017</td>\n",
       "      <td>PEG</td>\n",
       "      <td>3517102</td>\n",
       "      <td>55.67</td>\n",
       "      <td>1</td>\n",
       "      <td>10</td>\n",
       "      <td>0.082558</td>\n",
       "    </tr>\n",
       "    <tr>\n",
       "      <th>34105924</th>\n",
       "      <td>770100547217</td>\n",
       "      <td>9</td>\n",
       "      <td>58830</td>\n",
       "      <td>1.0</td>\n",
       "      <td>0.2750</td>\n",
       "      <td>2.47</td>\n",
       "      <td>0.85</td>\n",
       "      <td>31/12/2017</td>\n",
       "      <td>PEG</td>\n",
       "      <td>3517102</td>\n",
       "      <td>55.67</td>\n",
       "      <td>1</td>\n",
       "      <td>10</td>\n",
       "      <td>0.082558</td>\n",
       "    </tr>\n",
       "    <tr>\n",
       "      <th>34105925</th>\n",
       "      <td>770100547217</td>\n",
       "      <td>10</td>\n",
       "      <td>932088</td>\n",
       "      <td>1.0</td>\n",
       "      <td>0.0000</td>\n",
       "      <td>6.25</td>\n",
       "      <td>6.25</td>\n",
       "      <td>31/12/2017</td>\n",
       "      <td>PEG</td>\n",
       "      <td>3517102</td>\n",
       "      <td>55.67</td>\n",
       "      <td>1</td>\n",
       "      <td>10</td>\n",
       "      <td>0.082558</td>\n",
       "    </tr>\n",
       "  </tbody>\n",
       "</table>\n",
       "<p>34105926 rows × 14 columns</p>\n",
       "</div>"
      ],
      "text/plain": [
       "              IDTICKET NUMLIGNETICKET IDARTICLE  QUANTITE  MONTANTREMISE  \\\n",
       "0         200200135291              3     33258       1.0         0.0000   \n",
       "1         200200135291              2     33247       1.0         0.0000   \n",
       "2         200200135291              1    227040       1.0         1.1825   \n",
       "3         200500180521              1    312922       1.0         0.5450   \n",
       "4         200500180521              4    932088       1.0         0.0000   \n",
       "...                ...            ...       ...       ...            ...   \n",
       "34105921  770100547217              6    217360       1.0         0.2270   \n",
       "34105922  770100547217              7     33257       1.0         0.0750   \n",
       "34105923  770100547217              8     33247       1.0         0.1330   \n",
       "34105924  770100547217              9     58830       1.0         0.2750   \n",
       "34105925  770100547217             10    932088       1.0         0.0000   \n",
       "\n",
       "          TOTAL  MARGESORTIE    TIC_DATE MAG_CODE  IDCLIENT  TIC_TOTALTTC  \\\n",
       "0          0.91         0.54  05/02/2016      IAB      2108          7.57   \n",
       "1          1.24         0.72  05/02/2016      IAB      2108          7.57   \n",
       "2          4.54         1.56  05/02/2016      IAB      2108          7.57   \n",
       "3          4.86         2.71  08/05/2016      IAB      2108         20.58   \n",
       "4          6.25         6.25  08/05/2016      IAB      2108         20.58   \n",
       "...         ...          ...         ...      ...       ...           ...   \n",
       "34105921   2.09         0.32  31/12/2017      PEG   3517102         55.67   \n",
       "34105922   0.67         0.39  31/12/2017      PEG   3517102         55.67   \n",
       "34105923   1.16         0.64  31/12/2017      PEG   3517102         55.67   \n",
       "34105924   2.47         0.85  31/12/2017      PEG   3517102         55.67   \n",
       "34105925   6.25         6.25  31/12/2017      PEG   3517102         55.67   \n",
       "\n",
       "          FREQUENCE_MAG  VARIETE_PANIER  TAUX_REMISE  \n",
       "0                     2               7     0.101067  \n",
       "1                     2               7     0.101067  \n",
       "2                     2               7     0.101067  \n",
       "3                     2               7     0.101067  \n",
       "4                     2               7     0.101067  \n",
       "...                 ...             ...          ...  \n",
       "34105921              1              10     0.082558  \n",
       "34105922              1              10     0.082558  \n",
       "34105923              1              10     0.082558  \n",
       "34105924              1              10     0.082558  \n",
       "34105925              1              10     0.082558  \n",
       "\n",
       "[34105926 rows x 14 columns]"
      ]
     },
     "execution_count": 145,
     "metadata": {},
     "output_type": "execute_result"
    }
   ],
   "source": [
    "data_merged"
   ]
  },
  {
   "cell_type": "markdown",
   "id": "d6c3c8a8",
   "metadata": {},
   "source": [
    "Chargement du jeu de données REF_ARTICLE."
   ]
  },
  {
   "cell_type": "code",
   "execution_count": 146,
   "id": "3c89ab73",
   "metadata": {
    "ExecuteTime": {
     "end_time": "2024-05-16T11:52:27.732183Z",
     "start_time": "2024-05-16T11:52:27.164108Z"
    }
   },
   "outputs": [
    {
     "name": "stdout",
     "output_type": "stream",
     "text": [
      "(665946, 4)\n",
      "['CODEARTICLE', 'CODEUNIVERS', 'CODEFAMILLE', 'CODESOUSFAMILLE']\n"
     ]
    }
   ],
   "source": [
    "dataset_path = \"C:\\\\Users\\\\belga\\\\OneDrive\\\\Bureau\\\\EMBA Big Data\\\\Module Datascience\\\\Projet Data Science S2 2024\\\\REF_ARTICLE.csv\"\n",
    "data4 = pd.read_csv(dataset_path, sep='|', low_memory=False)\n",
    "print(data4.shape)\n",
    "print(list(data4.columns))\n"
   ]
  },
  {
   "cell_type": "markdown",
   "id": "6a1b58b0",
   "metadata": {},
   "source": [
    "La ligne de code ci-dessous nous permet de connaître le détail des colonnes ainsi que le type de données constituant notre base (numérique ou caractères)."
   ]
  },
  {
   "cell_type": "code",
   "execution_count": 147,
   "id": "c6c8edb4",
   "metadata": {
    "ExecuteTime": {
     "end_time": "2024-05-16T11:52:30.276292Z",
     "start_time": "2024-05-16T11:52:30.167098Z"
    }
   },
   "outputs": [
    {
     "name": "stdout",
     "output_type": "stream",
     "text": [
      "<class 'pandas.core.frame.DataFrame'>\n",
      "RangeIndex: 665946 entries, 0 to 665945\n",
      "Data columns (total 4 columns):\n",
      " #   Column           Non-Null Count   Dtype \n",
      "---  ------           --------------   ----- \n",
      " 0   CODEARTICLE      665946 non-null  object\n",
      " 1   CODEUNIVERS      665946 non-null  object\n",
      " 2   CODEFAMILLE      665946 non-null  object\n",
      " 3   CODESOUSFAMILLE  665946 non-null  object\n",
      "dtypes: object(4)\n",
      "memory usage: 20.3+ MB\n"
     ]
    }
   ],
   "source": [
    "data4.info()"
   ]
  },
  {
   "cell_type": "markdown",
   "id": "96c65aaf",
   "metadata": {},
   "source": [
    "Aperçu de notre jeu de données. "
   ]
  },
  {
   "cell_type": "code",
   "execution_count": 148,
   "id": "acc312b6",
   "metadata": {
    "ExecuteTime": {
     "end_time": "2024-05-16T11:52:32.284414Z",
     "start_time": "2024-05-16T11:52:32.265006Z"
    }
   },
   "outputs": [
    {
     "data": {
      "text/html": [
       "<div>\n",
       "<style scoped>\n",
       "    .dataframe tbody tr th:only-of-type {\n",
       "        vertical-align: middle;\n",
       "    }\n",
       "\n",
       "    .dataframe tbody tr th {\n",
       "        vertical-align: top;\n",
       "    }\n",
       "\n",
       "    .dataframe thead th {\n",
       "        text-align: right;\n",
       "    }\n",
       "</style>\n",
       "<table border=\"1\" class=\"dataframe\">\n",
       "  <thead>\n",
       "    <tr style=\"text-align: right;\">\n",
       "      <th></th>\n",
       "      <th>CODEARTICLE</th>\n",
       "      <th>CODEUNIVERS</th>\n",
       "      <th>CODEFAMILLE</th>\n",
       "      <th>CODESOUSFAMILLE</th>\n",
       "    </tr>\n",
       "  </thead>\n",
       "  <tbody>\n",
       "    <tr>\n",
       "      <th>0</th>\n",
       "      <td>COUPON</td>\n",
       "      <td>COUPON</td>\n",
       "      <td>COUPON</td>\n",
       "      <td>COUPON</td>\n",
       "    </tr>\n",
       "    <tr>\n",
       "      <th>1</th>\n",
       "      <td>1001</td>\n",
       "      <td>U2</td>\n",
       "      <td>130</td>\n",
       "      <td>130040</td>\n",
       "    </tr>\n",
       "    <tr>\n",
       "      <th>2</th>\n",
       "      <td>100125</td>\n",
       "      <td>U1</td>\n",
       "      <td>010</td>\n",
       "      <td>010020</td>\n",
       "    </tr>\n",
       "    <tr>\n",
       "      <th>3</th>\n",
       "      <td>100150</td>\n",
       "      <td>U1</td>\n",
       "      <td>010</td>\n",
       "      <td>010020</td>\n",
       "    </tr>\n",
       "    <tr>\n",
       "      <th>4</th>\n",
       "      <td>10018</td>\n",
       "      <td>U1</td>\n",
       "      <td>100</td>\n",
       "      <td>100900</td>\n",
       "    </tr>\n",
       "    <tr>\n",
       "      <th>...</th>\n",
       "      <td>...</td>\n",
       "      <td>...</td>\n",
       "      <td>...</td>\n",
       "      <td>...</td>\n",
       "    </tr>\n",
       "    <tr>\n",
       "      <th>665941</th>\n",
       "      <td>407717</td>\n",
       "      <td>U3</td>\n",
       "      <td>120</td>\n",
       "      <td>120070</td>\n",
       "    </tr>\n",
       "    <tr>\n",
       "      <th>665942</th>\n",
       "      <td>407719</td>\n",
       "      <td>U3</td>\n",
       "      <td>120</td>\n",
       "      <td>120070</td>\n",
       "    </tr>\n",
       "    <tr>\n",
       "      <th>665943</th>\n",
       "      <td>407720</td>\n",
       "      <td>U3</td>\n",
       "      <td>120</td>\n",
       "      <td>120070</td>\n",
       "    </tr>\n",
       "    <tr>\n",
       "      <th>665944</th>\n",
       "      <td>407721</td>\n",
       "      <td>U3</td>\n",
       "      <td>120</td>\n",
       "      <td>120070</td>\n",
       "    </tr>\n",
       "    <tr>\n",
       "      <th>665945</th>\n",
       "      <td>407723</td>\n",
       "      <td>U3</td>\n",
       "      <td>120</td>\n",
       "      <td>120070</td>\n",
       "    </tr>\n",
       "  </tbody>\n",
       "</table>\n",
       "<p>665946 rows × 4 columns</p>\n",
       "</div>"
      ],
      "text/plain": [
       "       CODEARTICLE CODEUNIVERS CODEFAMILLE CODESOUSFAMILLE\n",
       "0           COUPON      COUPON      COUPON          COUPON\n",
       "1             1001          U2         130          130040\n",
       "2           100125          U1         010          010020\n",
       "3           100150          U1         010          010020\n",
       "4            10018          U1         100          100900\n",
       "...            ...         ...         ...             ...\n",
       "665941      407717          U3         120          120070\n",
       "665942      407719          U3         120          120070\n",
       "665943      407720          U3         120          120070\n",
       "665944      407721          U3         120          120070\n",
       "665945      407723          U3         120          120070\n",
       "\n",
       "[665946 rows x 4 columns]"
      ]
     },
     "execution_count": 148,
     "metadata": {},
     "output_type": "execute_result"
    }
   ],
   "source": [
    "data4"
   ]
  },
  {
   "cell_type": "code",
   "execution_count": 149,
   "id": "488ae5e6",
   "metadata": {
    "ExecuteTime": {
     "end_time": "2024-05-16T11:52:35.650589Z",
     "start_time": "2024-05-16T11:52:35.580738Z"
    }
   },
   "outputs": [],
   "source": [
    "data4.drop(0, inplace=True)"
   ]
  },
  {
   "cell_type": "code",
   "execution_count": 150,
   "id": "5283da06",
   "metadata": {
    "ExecuteTime": {
     "end_time": "2024-05-16T11:52:39.288669Z",
     "start_time": "2024-05-16T11:52:39.273283Z"
    }
   },
   "outputs": [
    {
     "data": {
      "text/html": [
       "<div>\n",
       "<style scoped>\n",
       "    .dataframe tbody tr th:only-of-type {\n",
       "        vertical-align: middle;\n",
       "    }\n",
       "\n",
       "    .dataframe tbody tr th {\n",
       "        vertical-align: top;\n",
       "    }\n",
       "\n",
       "    .dataframe thead th {\n",
       "        text-align: right;\n",
       "    }\n",
       "</style>\n",
       "<table border=\"1\" class=\"dataframe\">\n",
       "  <thead>\n",
       "    <tr style=\"text-align: right;\">\n",
       "      <th></th>\n",
       "      <th>CODEARTICLE</th>\n",
       "      <th>CODEUNIVERS</th>\n",
       "      <th>CODEFAMILLE</th>\n",
       "      <th>CODESOUSFAMILLE</th>\n",
       "    </tr>\n",
       "  </thead>\n",
       "  <tbody>\n",
       "    <tr>\n",
       "      <th>1</th>\n",
       "      <td>1001</td>\n",
       "      <td>U2</td>\n",
       "      <td>130</td>\n",
       "      <td>130040</td>\n",
       "    </tr>\n",
       "    <tr>\n",
       "      <th>2</th>\n",
       "      <td>100125</td>\n",
       "      <td>U1</td>\n",
       "      <td>010</td>\n",
       "      <td>010020</td>\n",
       "    </tr>\n",
       "    <tr>\n",
       "      <th>3</th>\n",
       "      <td>100150</td>\n",
       "      <td>U1</td>\n",
       "      <td>010</td>\n",
       "      <td>010020</td>\n",
       "    </tr>\n",
       "    <tr>\n",
       "      <th>4</th>\n",
       "      <td>10018</td>\n",
       "      <td>U1</td>\n",
       "      <td>100</td>\n",
       "      <td>100900</td>\n",
       "    </tr>\n",
       "    <tr>\n",
       "      <th>5</th>\n",
       "      <td>10019</td>\n",
       "      <td>U1</td>\n",
       "      <td>100</td>\n",
       "      <td>100900</td>\n",
       "    </tr>\n",
       "    <tr>\n",
       "      <th>...</th>\n",
       "      <td>...</td>\n",
       "      <td>...</td>\n",
       "      <td>...</td>\n",
       "      <td>...</td>\n",
       "    </tr>\n",
       "    <tr>\n",
       "      <th>665941</th>\n",
       "      <td>407717</td>\n",
       "      <td>U3</td>\n",
       "      <td>120</td>\n",
       "      <td>120070</td>\n",
       "    </tr>\n",
       "    <tr>\n",
       "      <th>665942</th>\n",
       "      <td>407719</td>\n",
       "      <td>U3</td>\n",
       "      <td>120</td>\n",
       "      <td>120070</td>\n",
       "    </tr>\n",
       "    <tr>\n",
       "      <th>665943</th>\n",
       "      <td>407720</td>\n",
       "      <td>U3</td>\n",
       "      <td>120</td>\n",
       "      <td>120070</td>\n",
       "    </tr>\n",
       "    <tr>\n",
       "      <th>665944</th>\n",
       "      <td>407721</td>\n",
       "      <td>U3</td>\n",
       "      <td>120</td>\n",
       "      <td>120070</td>\n",
       "    </tr>\n",
       "    <tr>\n",
       "      <th>665945</th>\n",
       "      <td>407723</td>\n",
       "      <td>U3</td>\n",
       "      <td>120</td>\n",
       "      <td>120070</td>\n",
       "    </tr>\n",
       "  </tbody>\n",
       "</table>\n",
       "<p>665945 rows × 4 columns</p>\n",
       "</div>"
      ],
      "text/plain": [
       "       CODEARTICLE CODEUNIVERS CODEFAMILLE CODESOUSFAMILLE\n",
       "1             1001          U2         130          130040\n",
       "2           100125          U1         010          010020\n",
       "3           100150          U1         010          010020\n",
       "4            10018          U1         100          100900\n",
       "5            10019          U1         100          100900\n",
       "...            ...         ...         ...             ...\n",
       "665941      407717          U3         120          120070\n",
       "665942      407719          U3         120          120070\n",
       "665943      407720          U3         120          120070\n",
       "665944      407721          U3         120          120070\n",
       "665945      407723          U3         120          120070\n",
       "\n",
       "[665945 rows x 4 columns]"
      ]
     },
     "execution_count": 150,
     "metadata": {},
     "output_type": "execute_result"
    }
   ],
   "source": [
    "data4"
   ]
  },
  {
   "cell_type": "code",
   "execution_count": 151,
   "id": "961e970f",
   "metadata": {
    "ExecuteTime": {
     "end_time": "2024-05-16T11:52:42.039297Z",
     "start_time": "2024-05-16T11:52:41.507277Z"
    }
   },
   "outputs": [
    {
     "data": {
      "text/plain": [
       "CODEARTICLE\n",
       "1001      1\n",
       "278616    1\n",
       "277497    1\n",
       "277502    1\n",
       "299706    1\n",
       "         ..\n",
       "145641    1\n",
       "145642    1\n",
       "145643    1\n",
       "145644    1\n",
       "407723    1\n",
       "Name: count, Length: 665945, dtype: int64"
      ]
     },
     "execution_count": 151,
     "metadata": {},
     "output_type": "execute_result"
    }
   ],
   "source": [
    "#modalités variables:\n",
    "data4['CODEARTICLE'].value_counts(dropna = False)"
   ]
  },
  {
   "cell_type": "code",
   "execution_count": 152,
   "id": "d7034590",
   "metadata": {
    "ExecuteTime": {
     "end_time": "2024-05-16T11:52:43.548647Z",
     "start_time": "2024-05-16T11:52:43.521875Z"
    }
   },
   "outputs": [
    {
     "data": {
      "text/plain": [
       "CODEUNIVERS\n",
       "U1    274652\n",
       "U2    236139\n",
       "U3     72725\n",
       "U4     66413\n",
       "U0     16016\n",
       "Name: count, dtype: int64"
      ]
     },
     "execution_count": 152,
     "metadata": {},
     "output_type": "execute_result"
    }
   ],
   "source": [
    "data4['CODEUNIVERS'].value_counts(dropna = False)"
   ]
  },
  {
   "cell_type": "code",
   "execution_count": 153,
   "id": "f734be82",
   "metadata": {
    "ExecuteTime": {
     "end_time": "2024-05-16T11:52:44.653138Z",
     "start_time": "2024-05-16T11:52:44.635890Z"
    }
   },
   "outputs": [
    {
     "data": {
      "text/plain": [
       "CODEFAMILLE\n",
       "090    157747\n",
       "010     65324\n",
       "130     63055\n",
       "120     60886\n",
       "180     46685\n",
       "080     36253\n",
       "100     33971\n",
       "140     33907\n",
       "020     31685\n",
       "220     30893\n",
       "050     22395\n",
       "030     22165\n",
       "070     14484\n",
       "110     11839\n",
       "160      8561\n",
       "190      6449\n",
       "040      5176\n",
       "400      3884\n",
       "170      3570\n",
       "900      2196\n",
       "200      1613\n",
       "230      1092\n",
       "060       979\n",
       "210       853\n",
       "990       283\n",
       "Name: count, dtype: int64"
      ]
     },
     "execution_count": 153,
     "metadata": {},
     "output_type": "execute_result"
    }
   ],
   "source": [
    "data4['CODEFAMILLE'].value_counts(dropna = False)"
   ]
  },
  {
   "cell_type": "code",
   "execution_count": 154,
   "id": "4fbf1c0b",
   "metadata": {
    "ExecuteTime": {
     "end_time": "2024-05-16T11:53:09.072332Z",
     "start_time": "2024-05-16T11:53:09.041239Z"
    }
   },
   "outputs": [
    {
     "data": {
      "text/plain": [
       "CODESOUSFAMILLE\n",
       "180090    44779\n",
       "140010    23698\n",
       "120060    23371\n",
       "090800    23326\n",
       "090070    21254\n",
       "          ...  \n",
       "100110        1\n",
       "110110        1\n",
       "900990        1\n",
       "200060        1\n",
       "180999        1\n",
       "Name: count, Length: 343, dtype: int64"
      ]
     },
     "execution_count": 154,
     "metadata": {},
     "output_type": "execute_result"
    }
   ],
   "source": [
    "data4['CODESOUSFAMILLE'].value_counts(dropna = False)"
   ]
  },
  {
   "cell_type": "markdown",
   "id": "74dff901",
   "metadata": {},
   "source": [
    "La ligne de code ci-dessous nous permet d'identifier la présence ou non de valeur(s) en doublons."
   ]
  },
  {
   "cell_type": "code",
   "execution_count": 155,
   "id": "6a1534fd",
   "metadata": {
    "ExecuteTime": {
     "end_time": "2024-05-16T11:53:12.319604Z",
     "start_time": "2024-05-16T11:53:11.654777Z"
    }
   },
   "outputs": [
    {
     "name": "stdout",
     "output_type": "stream",
     "text": [
      "0\n"
     ]
    }
   ],
   "source": [
    "print(data4.duplicated().sum())\n",
    "data1 = data4.drop_duplicates()"
   ]
  },
  {
   "cell_type": "markdown",
   "id": "04120a26",
   "metadata": {},
   "source": [
    "La ligne de code ci-dessous nous permet d'identifier la présence ou non de valeur(s) manquante(s)"
   ]
  },
  {
   "cell_type": "code",
   "execution_count": 156,
   "id": "5c6d49f9",
   "metadata": {
    "ExecuteTime": {
     "end_time": "2024-05-16T11:53:14.075487Z",
     "start_time": "2024-05-16T11:53:13.968149Z"
    }
   },
   "outputs": [
    {
     "data": {
      "text/html": [
       "<div>\n",
       "<style scoped>\n",
       "    .dataframe tbody tr th:only-of-type {\n",
       "        vertical-align: middle;\n",
       "    }\n",
       "\n",
       "    .dataframe tbody tr th {\n",
       "        vertical-align: top;\n",
       "    }\n",
       "\n",
       "    .dataframe thead th {\n",
       "        text-align: right;\n",
       "    }\n",
       "</style>\n",
       "<table border=\"1\" class=\"dataframe\">\n",
       "  <thead>\n",
       "    <tr style=\"text-align: right;\">\n",
       "      <th></th>\n",
       "      <th>%_missing_values</th>\n",
       "    </tr>\n",
       "  </thead>\n",
       "  <tbody>\n",
       "    <tr>\n",
       "      <th>CODEARTICLE</th>\n",
       "      <td>0.0</td>\n",
       "    </tr>\n",
       "    <tr>\n",
       "      <th>CODEUNIVERS</th>\n",
       "      <td>0.0</td>\n",
       "    </tr>\n",
       "    <tr>\n",
       "      <th>CODEFAMILLE</th>\n",
       "      <td>0.0</td>\n",
       "    </tr>\n",
       "    <tr>\n",
       "      <th>CODESOUSFAMILLE</th>\n",
       "      <td>0.0</td>\n",
       "    </tr>\n",
       "  </tbody>\n",
       "</table>\n",
       "</div>"
      ],
      "text/plain": [
       "                 %_missing_values\n",
       "CODEARTICLE                   0.0\n",
       "CODEUNIVERS                   0.0\n",
       "CODEFAMILLE                   0.0\n",
       "CODESOUSFAMILLE               0.0"
      ]
     },
     "execution_count": 156,
     "metadata": {},
     "output_type": "execute_result"
    }
   ],
   "source": [
    "pd.DataFrame(index=data4.columns, columns=['%_missing_values'], data= (data4.isna().sum().values / len(data4)*100))"
   ]
  }
 ],
 "metadata": {
  "kernelspec": {
   "display_name": "Python 3",
   "language": "python",
   "name": "python3"
  },
  "language_info": {
   "codemirror_mode": {
    "name": "ipython",
    "version": 3
   },
   "file_extension": ".py",
   "mimetype": "text/x-python",
   "name": "python",
   "nbconvert_exporter": "python",
   "pygments_lexer": "ipython3",
   "version": "3.11.5"
  }
 },
 "nbformat": 4,
 "nbformat_minor": 5
}
