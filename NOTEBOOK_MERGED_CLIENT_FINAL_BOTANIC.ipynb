{
 "cells": [
  {
   "cell_type": "code",
   "id": "initial_id",
   "metadata": {
    "collapsed": true,
    "ExecuteTime": {
     "end_time": "2024-05-30T09:16:58.117153Z",
     "start_time": "2024-05-30T09:16:57.891557Z"
    }
   },
   "source": [
    "import pandas as pd\n",
    "import matplotlib.pyplot as plt\n",
    "import numpy as np\n",
    "import seaborn as sns\n",
    "import nbformat\n",
    "import nbmerge\n",
    "import json\n",
    "from nbformat import read, write\n",
    "\n",
    "from sklearn.linear_model import LogisticRegression\n",
    "from sklearn.model_selection import train_test_split\n",
    "from sklearn.datasets import make_classification\n",
    "from sklearn.metrics import roc_curve, auc\n",
    "from sklearn.metrics import accuracy_score, classification_report, confusion_matrix\n",
    "from sklearn.preprocessing import StandardScaler\n",
    "from sklearn.preprocessing import OneHotEncoder\n",
    "from sklearn.preprocessing import LabelEncoder"
   ],
   "outputs": [],
   "execution_count": 2
  },
  {
   "metadata": {
    "ExecuteTime": {
     "end_time": "2024-05-30T09:16:59.987826Z",
     "start_time": "2024-05-30T09:16:59.868476Z"
    }
   },
   "cell_type": "code",
   "source": [
    "def merge_notebooks(filenames):\n",
    "    merged_notebook = nbformat.v4.new_notebook()\n",
    "    for filename in filenames:\n",
    "        with open(filename, 'r', encoding='utf-8') as f:\n",
    "            notebook = nbformat.read(f, as_version=4)\n",
    "            merged_notebook.cells.extend(notebook.cells)\n",
    "    return merged_notebook\n",
    "\n",
    "notebooks_to_merge = [\n",
    "    \"merged_Notebook GLOBAL_CLIENT_Botanic .ipynb\",\n",
    "    \"Merged_NOTEBOOK_GLOBAL_ARTICLE_TICKET.ipynb\"\n",
    "]\n",
    "\n",
    "merged_notebook = merge_notebooks(notebooks_to_merge)\n",
    "\n",
    "output_filename = \"NOTEBOOK_MERGED_CLIENT_FINAL_BOTANIC.ipynb\"\n",
    "with open(output_filename, 'w', encoding='utf-8') as f:\n",
    "    nbformat.write(merged_notebook, f)\n",
    "\n",
    "print(f\"Notebooks merged into {output_filename}\")"
   ],
   "id": "cb37ac7c989281e8",
   "outputs": [
    {
     "name": "stdout",
     "output_type": "stream",
     "text": [
      "Notebooks merged into NOTEBOOK_MERGED_CLIENT_FINAL_BOTANIC.ipynb\n"
     ]
    }
   ],
   "execution_count": 3
  },
  {
   "metadata": {},
   "cell_type": "code",
   "outputs": [],
   "execution_count": null,
   "source": "",
   "id": "71038e53418d2867"
  }
 ],
 "metadata": {
  "kernelspec": {
   "display_name": "Python 3",
   "language": "python",
   "name": "python3"
  },
  "language_info": {
   "codemirror_mode": {
    "name": "ipython",
    "version": 2
   },
   "file_extension": ".py",
   "mimetype": "text/x-python",
   "name": "python",
   "nbconvert_exporter": "python",
   "pygments_lexer": "ipython2",
   "version": "2.7.6"
  }
 },
 "nbformat": 4,
 "nbformat_minor": 5
}
