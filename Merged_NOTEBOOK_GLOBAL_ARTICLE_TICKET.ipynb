{
 "cells": [
  {
   "cell_type": "markdown",
   "id": "905e3d47",
   "metadata": {},
   "source": [
    "# CHARGEMENT DES BIBLIOTHEQUES"
   ]
  },
  {
   "cell_type": "code",
   "execution_count": 3,
   "id": "4b815cfd",
   "metadata": {
    "ExecuteTime": {
     "end_time": "2024-05-30T08:25:43.137909Z",
     "start_time": "2024-05-30T08:25:41.689435Z"
    }
   },
   "outputs": [],
   "source": [
    "import pandas as pd\n",
    "import matplotlib.pyplot as plt\n",
    "import numpy as np\n",
    "import seaborn as sns\n",
    "\n",
    "from sklearn.linear_model import LogisticRegression\n",
    "from sklearn.model_selection import train_test_split\n",
    "from sklearn.datasets import make_classification\n",
    "from sklearn.metrics import roc_curve, auc\n",
    "from sklearn.metrics import accuracy_score, classification_report, confusion_matrix\n",
    "from sklearn.preprocessing import StandardScaler\n",
    "from sklearn.preprocessing import OneHotEncoder\n",
    "from sklearn.preprocessing import LabelEncoder"
   ]
  },
  {
   "cell_type": "markdown",
   "id": "eea06e23",
   "metadata": {},
   "source": [
    " Chargement du jeu de données \"LIGNES_TICKET_V4\""
   ]
  },
  {
   "cell_type": "code",
   "execution_count": 4,
   "id": "6f2897f5",
   "metadata": {
    "ExecuteTime": {
     "end_time": "2024-05-30T08:25:55.488215Z",
     "start_time": "2024-05-30T08:25:45.111584Z"
    }
   },
   "outputs": [
    {
     "name": "stdout",
     "output_type": "stream",
     "text": [
      "(34105705, 7)\n",
      "['IDTICKET', 'NUMLIGNETICKET', 'IDARTICLE', 'QUANTITE', 'MONTANTREMISE', 'TOTAL', 'MARGESORTIE']\n"
     ]
    }
   ],
   "source": [
    "data3 = pd.read_csv(\"LIGNES_TICKET_V4.csv\", sep='|', low_memory=False)\n",
    "print(data3.shape)\n",
    "print(list(data3.columns))"
   ]
  },
  {
   "cell_type": "markdown",
   "id": "7d649588",
   "metadata": {},
   "source": [
    "La ligne de code ci-dessous nous permet de voir le détail des colonnes de notre jeu de données ainsi que le type de données (chaîne de caractères, numérique)"
   ]
  },
  {
   "cell_type": "code",
   "execution_count": 5,
   "id": "1a52db12",
   "metadata": {
    "ExecuteTime": {
     "end_time": "2024-05-30T08:25:58.675461Z",
     "start_time": "2024-05-30T08:25:58.668467Z"
    }
   },
   "outputs": [
    {
     "name": "stdout",
     "output_type": "stream",
     "text": [
      "<class 'pandas.core.frame.DataFrame'>\n",
      "RangeIndex: 34105705 entries, 0 to 34105704\n",
      "Data columns (total 7 columns):\n",
      " #   Column          Dtype \n",
      "---  ------          ----- \n",
      " 0   IDTICKET        int64 \n",
      " 1   NUMLIGNETICKET  int64 \n",
      " 2   IDARTICLE       object\n",
      " 3   QUANTITE        object\n",
      " 4   MONTANTREMISE   object\n",
      " 5   TOTAL           object\n",
      " 6   MARGESORTIE     object\n",
      "dtypes: int64(2), object(5)\n",
      "memory usage: 1.8+ GB\n",
      "None\n"
     ]
    }
   ],
   "source": [
    "print(data3.info())"
   ]
  },
  {
   "cell_type": "markdown",
   "id": "b95ab93d",
   "metadata": {},
   "source": [
    "Aperçu du jeu de données."
   ]
  },
  {
   "cell_type": "code",
   "execution_count": 6,
   "id": "49467b1e",
   "metadata": {
    "ExecuteTime": {
     "end_time": "2024-05-30T08:26:02.392599Z",
     "start_time": "2024-05-30T08:26:02.384157Z"
    }
   },
   "outputs": [
    {
     "data": {
      "text/html": [
       "<div>\n",
       "<style scoped>\n",
       "    .dataframe tbody tr th:only-of-type {\n",
       "        vertical-align: middle;\n",
       "    }\n",
       "\n",
       "    .dataframe tbody tr th {\n",
       "        vertical-align: top;\n",
       "    }\n",
       "\n",
       "    .dataframe thead th {\n",
       "        text-align: right;\n",
       "    }\n",
       "</style>\n",
       "<table border=\"1\" class=\"dataframe\">\n",
       "  <thead>\n",
       "    <tr style=\"text-align: right;\">\n",
       "      <th></th>\n",
       "      <th>IDTICKET</th>\n",
       "      <th>NUMLIGNETICKET</th>\n",
       "      <th>IDARTICLE</th>\n",
       "      <th>QUANTITE</th>\n",
       "      <th>MONTANTREMISE</th>\n",
       "      <th>TOTAL</th>\n",
       "      <th>MARGESORTIE</th>\n",
       "    </tr>\n",
       "  </thead>\n",
       "  <tbody>\n",
       "    <tr>\n",
       "      <th>0</th>\n",
       "      <td>190400316260</td>\n",
       "      <td>2</td>\n",
       "      <td>246208</td>\n",
       "      <td>1,000</td>\n",
       "      <td>,000</td>\n",
       "      <td>4,96</td>\n",
       "      <td>2,37</td>\n",
       "    </tr>\n",
       "    <tr>\n",
       "      <th>1</th>\n",
       "      <td>190400316262</td>\n",
       "      <td>2</td>\n",
       "      <td>33725</td>\n",
       "      <td>1,000</td>\n",
       "      <td>,000</td>\n",
       "      <td>8,25</td>\n",
       "      <td>3,63</td>\n",
       "    </tr>\n",
       "    <tr>\n",
       "      <th>2</th>\n",
       "      <td>190400316262</td>\n",
       "      <td>3</td>\n",
       "      <td>634497</td>\n",
       "      <td>1,000</td>\n",
       "      <td>,000</td>\n",
       "      <td>5,79</td>\n",
       "      <td>3,63</td>\n",
       "    </tr>\n",
       "    <tr>\n",
       "      <th>3</th>\n",
       "      <td>190400316262</td>\n",
       "      <td>1</td>\n",
       "      <td>257613</td>\n",
       "      <td>1,000</td>\n",
       "      <td>,000</td>\n",
       "      <td>18,29</td>\n",
       "      <td>6,21</td>\n",
       "    </tr>\n",
       "    <tr>\n",
       "      <th>4</th>\n",
       "      <td>190400316263</td>\n",
       "      <td>1</td>\n",
       "      <td>257627</td>\n",
       "      <td>1,000</td>\n",
       "      <td>,000</td>\n",
       "      <td>49,92</td>\n",
       "      <td>10,42</td>\n",
       "    </tr>\n",
       "    <tr>\n",
       "      <th>5</th>\n",
       "      <td>190400316265</td>\n",
       "      <td>1</td>\n",
       "      <td>320054</td>\n",
       "      <td>1,000</td>\n",
       "      <td>,000</td>\n",
       "      <td>6,42</td>\n",
       "      <td>,67</td>\n",
       "    </tr>\n",
       "    <tr>\n",
       "      <th>6</th>\n",
       "      <td>190400316265</td>\n",
       "      <td>3</td>\n",
       "      <td>835984</td>\n",
       "      <td>1,000</td>\n",
       "      <td>,000</td>\n",
       "      <td>37,42</td>\n",
       "      <td>13,78</td>\n",
       "    </tr>\n",
       "    <tr>\n",
       "      <th>7</th>\n",
       "      <td>190400316265</td>\n",
       "      <td>2</td>\n",
       "      <td>290491</td>\n",
       "      <td>1,000</td>\n",
       "      <td>,000</td>\n",
       "      <td>5,42</td>\n",
       "      <td>4,22</td>\n",
       "    </tr>\n",
       "    <tr>\n",
       "      <th>8</th>\n",
       "      <td>190400316270</td>\n",
       "      <td>6</td>\n",
       "      <td>932088</td>\n",
       "      <td>1,000</td>\n",
       "      <td>,000</td>\n",
       "      <td>6,25</td>\n",
       "      <td>6,25</td>\n",
       "    </tr>\n",
       "    <tr>\n",
       "      <th>9</th>\n",
       "      <td>190400316270</td>\n",
       "      <td>4</td>\n",
       "      <td>165207</td>\n",
       "      <td>3,000</td>\n",
       "      <td>2,250</td>\n",
       "      <td>20,22</td>\n",
       "      <td>10,29</td>\n",
       "    </tr>\n",
       "  </tbody>\n",
       "</table>\n",
       "</div>"
      ],
      "text/plain": [
       "       IDTICKET  NUMLIGNETICKET IDARTICLE QUANTITE MONTANTREMISE  TOTAL  \\\n",
       "0  190400316260               2    246208    1,000          ,000   4,96   \n",
       "1  190400316262               2     33725    1,000          ,000   8,25   \n",
       "2  190400316262               3    634497    1,000          ,000   5,79   \n",
       "3  190400316262               1    257613    1,000          ,000  18,29   \n",
       "4  190400316263               1    257627    1,000          ,000  49,92   \n",
       "5  190400316265               1    320054    1,000          ,000   6,42   \n",
       "6  190400316265               3    835984    1,000          ,000  37,42   \n",
       "7  190400316265               2    290491    1,000          ,000   5,42   \n",
       "8  190400316270               6    932088    1,000          ,000   6,25   \n",
       "9  190400316270               4    165207    3,000         2,250  20,22   \n",
       "\n",
       "  MARGESORTIE  \n",
       "0        2,37  \n",
       "1        3,63  \n",
       "2        3,63  \n",
       "3        6,21  \n",
       "4       10,42  \n",
       "5         ,67  \n",
       "6       13,78  \n",
       "7        4,22  \n",
       "8        6,25  \n",
       "9       10,29  "
      ]
     },
     "execution_count": 6,
     "metadata": {},
     "output_type": "execute_result"
    }
   ],
   "source": [
    "data3.head(10)"
   ]
  },
  {
   "cell_type": "code",
   "execution_count": 191,
   "id": "432bef13829a5be7",
   "metadata": {
    "ExecuteTime": {
     "end_time": "2024-05-30T08:07:26.506169Z",
     "start_time": "2024-05-30T08:07:26.501035Z"
    }
   },
   "outputs": [
    {
     "data": {
      "text/html": [
       "<div>\n",
       "<style scoped>\n",
       "    .dataframe tbody tr th:only-of-type {\n",
       "        vertical-align: middle;\n",
       "    }\n",
       "\n",
       "    .dataframe tbody tr th {\n",
       "        vertical-align: top;\n",
       "    }\n",
       "\n",
       "    .dataframe thead th {\n",
       "        text-align: right;\n",
       "    }\n",
       "</style>\n",
       "<table border=\"1\" class=\"dataframe\">\n",
       "  <thead>\n",
       "    <tr style=\"text-align: right;\">\n",
       "      <th></th>\n",
       "      <th>IDTICKET</th>\n",
       "      <th>NUMLIGNETICKET</th>\n",
       "      <th>IDARTICLE</th>\n",
       "      <th>QUANTITE</th>\n",
       "      <th>MONTANTREMISE</th>\n",
       "      <th>TOTAL</th>\n",
       "      <th>MARGESORTIE</th>\n",
       "    </tr>\n",
       "  </thead>\n",
       "  <tbody>\n",
       "    <tr>\n",
       "      <th>34105695</th>\n",
       "      <td>340200383182</td>\n",
       "      <td>4</td>\n",
       "      <td>36771</td>\n",
       "      <td>1</td>\n",
       "      <td>0</td>\n",
       "      <td>7,46</td>\n",
       "      <td>5,81</td>\n",
       "    </tr>\n",
       "    <tr>\n",
       "      <th>34105696</th>\n",
       "      <td>340200383182</td>\n",
       "      <td>5</td>\n",
       "      <td>179749</td>\n",
       "      <td>2</td>\n",
       "      <td>0</td>\n",
       "      <td>14,92</td>\n",
       "      <td>8,78</td>\n",
       "    </tr>\n",
       "    <tr>\n",
       "      <th>34105697</th>\n",
       "      <td>340200383182</td>\n",
       "      <td>6</td>\n",
       "      <td>699430</td>\n",
       "      <td>3</td>\n",
       "      <td>0</td>\n",
       "      <td>19,87</td>\n",
       "      <td>13,75</td>\n",
       "    </tr>\n",
       "    <tr>\n",
       "      <th>34105698</th>\n",
       "      <td>340200383182</td>\n",
       "      <td>7</td>\n",
       "      <td>784813</td>\n",
       "      <td>1</td>\n",
       "      <td>0</td>\n",
       "      <td>8,29</td>\n",
       "      <td>5,32</td>\n",
       "    </tr>\n",
       "    <tr>\n",
       "      <th>34105699</th>\n",
       "      <td>340200383203</td>\n",
       "      <td>1</td>\n",
       "      <td>257645</td>\n",
       "      <td>1</td>\n",
       "      <td>0</td>\n",
       "      <td>4,69</td>\n",
       "      <td>1,84</td>\n",
       "    </tr>\n",
       "    <tr>\n",
       "      <th>34105700</th>\n",
       "      <td>340200383203</td>\n",
       "      <td>2</td>\n",
       "      <td>257643</td>\n",
       "      <td>1</td>\n",
       "      <td>0</td>\n",
       "      <td>4,69</td>\n",
       "      <td>1,83</td>\n",
       "    </tr>\n",
       "    <tr>\n",
       "      <th>34105701</th>\n",
       "      <td>340200383203</td>\n",
       "      <td>3</td>\n",
       "      <td>50170</td>\n",
       "      <td>1</td>\n",
       "      <td>0</td>\n",
       "      <td>3,18</td>\n",
       "      <td>1</td>\n",
       "    </tr>\n",
       "    <tr>\n",
       "      <th>34105702</th>\n",
       "      <td>340200383203</td>\n",
       "      <td>4</td>\n",
       "      <td>349345</td>\n",
       "      <td>1</td>\n",
       "      <td>0</td>\n",
       "      <td>3,46</td>\n",
       "      <td>1,13</td>\n",
       "    </tr>\n",
       "    <tr>\n",
       "      <th>34105703</th>\n",
       "      <td>340200383203</td>\n",
       "      <td>5</td>\n",
       "      <td>250580</td>\n",
       "      <td>2</td>\n",
       "      <td>0</td>\n",
       "      <td>6,8</td>\n",
       "      <td>2,18</td>\n",
       "    </tr>\n",
       "    <tr>\n",
       "      <th>34105704</th>\n",
       "      <td>340200383217</td>\n",
       "      <td>1</td>\n",
       "      <td>816313</td>\n",
       "      <td>20</td>\n",
       "      <td>1,818</td>\n",
       "      <td>1,82</td>\n",
       "      <td>1,42</td>\n",
       "    </tr>\n",
       "  </tbody>\n",
       "</table>\n",
       "</div>"
      ],
      "text/plain": [
       "              IDTICKET  NUMLIGNETICKET IDARTICLE QUANTITE MONTANTREMISE  \\\n",
       "34105695  340200383182               4     36771        1             0   \n",
       "34105696  340200383182               5    179749        2             0   \n",
       "34105697  340200383182               6    699430        3             0   \n",
       "34105698  340200383182               7    784813        1             0   \n",
       "34105699  340200383203               1    257645        1             0   \n",
       "34105700  340200383203               2    257643        1             0   \n",
       "34105701  340200383203               3     50170        1             0   \n",
       "34105702  340200383203               4    349345        1             0   \n",
       "34105703  340200383203               5    250580        2             0   \n",
       "34105704  340200383217               1    816313       20         1,818   \n",
       "\n",
       "          TOTAL MARGESORTIE  \n",
       "34105695   7,46        5,81  \n",
       "34105696  14,92        8,78  \n",
       "34105697  19,87       13,75  \n",
       "34105698   8,29        5,32  \n",
       "34105699   4,69        1,84  \n",
       "34105700   4,69        1,83  \n",
       "34105701   3,18           1  \n",
       "34105702   3,46        1,13  \n",
       "34105703    6,8        2,18  \n",
       "34105704   1,82        1,42  "
      ]
     },
     "execution_count": 191,
     "metadata": {},
     "output_type": "execute_result"
    }
   ],
   "source": [
    "data3.tail(10)"
   ]
  },
  {
   "cell_type": "markdown",
   "id": "879f15ff",
   "metadata": {},
   "source": [
    "Afin d'exploiter de façon optimale les informations, nous allons convetir les l'ID TICKET et le NUM LIGNE TICKET en caractère. A l'inverse, nous devons convertir les quantités, les montants, les totaux et les marges en valeur numérique."
   ]
  },
  {
   "cell_type": "code",
   "execution_count": 39,
   "id": "e16e2882",
   "metadata": {
    "ExecuteTime": {
     "end_time": "2024-05-30T08:28:27.052080Z",
     "start_time": "2024-05-30T08:28:19.490020Z"
    }
   },
   "outputs": [],
   "source": [
    "data3['IDTICKET'] = data3['IDTICKET'].astype(str)\n",
    "data3['NUMLIGNETICKET'] = data3['NUMLIGNETICKET'].astype(str)"
   ]
  },
  {
   "cell_type": "code",
   "execution_count": 40,
   "id": "ab1241a4",
   "metadata": {
    "ExecuteTime": {
     "end_time": "2024-05-30T08:28:31.560926Z",
     "start_time": "2024-05-30T08:28:27.947810Z"
    }
   },
   "outputs": [],
   "source": [
    "data3[\"QUANTITE\"]=data3['QUANTITE'].str.replace(',', '.').astype(float)"
   ]
  },
  {
   "cell_type": "code",
   "execution_count": 41,
   "id": "7ae4a9e4",
   "metadata": {
    "ExecuteTime": {
     "end_time": "2024-05-30T08:28:38.756530Z",
     "start_time": "2024-05-30T08:28:34.123718Z"
    }
   },
   "outputs": [],
   "source": [
    "data3[\"TOTAL\"]=data3['TOTAL'].str.replace(',', '.').astype(float)"
   ]
  },
  {
   "cell_type": "code",
   "execution_count": 42,
   "id": "2107a3b0",
   "metadata": {
    "ExecuteTime": {
     "end_time": "2024-05-30T08:28:44.201177Z",
     "start_time": "2024-05-30T08:28:40.405491Z"
    }
   },
   "outputs": [],
   "source": [
    "data3[\"MONTANTREMISE\"]=data3['MONTANTREMISE'].str.replace(',', '.').astype(float)"
   ]
  },
  {
   "cell_type": "code",
   "execution_count": 43,
   "id": "a4af99cf",
   "metadata": {
    "ExecuteTime": {
     "end_time": "2024-05-30T08:28:49.400954Z",
     "start_time": "2024-05-30T08:28:44.822600Z"
    }
   },
   "outputs": [],
   "source": [
    "data3[\"MARGESORTIE\"]=data3['MARGESORTIE'].str.replace(',', '.').astype(float)"
   ]
  },
  {
   "cell_type": "markdown",
   "id": "2f9d934c",
   "metadata": {},
   "source": [
    "Vérification du traitement."
   ]
  },
  {
   "cell_type": "code",
   "execution_count": 44,
   "id": "6a613fee6515f8f4",
   "metadata": {
    "ExecuteTime": {
     "end_time": "2024-05-30T08:28:50.787663Z",
     "start_time": "2024-05-30T08:28:50.780981Z"
    }
   },
   "outputs": [
    {
     "name": "stdout",
     "output_type": "stream",
     "text": [
      "<class 'pandas.core.frame.DataFrame'>\n",
      "RangeIndex: 34105705 entries, 0 to 34105704\n",
      "Data columns (total 7 columns):\n",
      " #   Column          Dtype  \n",
      "---  ------          -----  \n",
      " 0   IDTICKET        object \n",
      " 1   NUMLIGNETICKET  object \n",
      " 2   IDARTICLE       object \n",
      " 3   QUANTITE        float64\n",
      " 4   MONTANTREMISE   float64\n",
      " 5   TOTAL           float64\n",
      " 6   MARGESORTIE     float64\n",
      "dtypes: float64(4), object(3)\n",
      "memory usage: 1.8+ GB\n",
      "None\n"
     ]
    }
   ],
   "source": [
    "print(data3.info())"
   ]
  },
  {
   "cell_type": "code",
   "execution_count": 45,
   "id": "efaf7db0",
   "metadata": {
    "ExecuteTime": {
     "end_time": "2024-05-30T08:28:51.866057Z",
     "start_time": "2024-05-30T08:28:51.857428Z"
    }
   },
   "outputs": [
    {
     "data": {
      "text/html": [
       "<div>\n",
       "<style scoped>\n",
       "    .dataframe tbody tr th:only-of-type {\n",
       "        vertical-align: middle;\n",
       "    }\n",
       "\n",
       "    .dataframe tbody tr th {\n",
       "        vertical-align: top;\n",
       "    }\n",
       "\n",
       "    .dataframe thead th {\n",
       "        text-align: right;\n",
       "    }\n",
       "</style>\n",
       "<table border=\"1\" class=\"dataframe\">\n",
       "  <thead>\n",
       "    <tr style=\"text-align: right;\">\n",
       "      <th></th>\n",
       "      <th>IDTICKET</th>\n",
       "      <th>NUMLIGNETICKET</th>\n",
       "      <th>IDARTICLE</th>\n",
       "      <th>QUANTITE</th>\n",
       "      <th>MONTANTREMISE</th>\n",
       "      <th>TOTAL</th>\n",
       "      <th>MARGESORTIE</th>\n",
       "    </tr>\n",
       "  </thead>\n",
       "  <tbody>\n",
       "    <tr>\n",
       "      <th>0</th>\n",
       "      <td>190400316260</td>\n",
       "      <td>2</td>\n",
       "      <td>246208</td>\n",
       "      <td>1.0</td>\n",
       "      <td>0.000</td>\n",
       "      <td>4.96</td>\n",
       "      <td>2.37</td>\n",
       "    </tr>\n",
       "    <tr>\n",
       "      <th>1</th>\n",
       "      <td>190400316262</td>\n",
       "      <td>2</td>\n",
       "      <td>33725</td>\n",
       "      <td>1.0</td>\n",
       "      <td>0.000</td>\n",
       "      <td>8.25</td>\n",
       "      <td>3.63</td>\n",
       "    </tr>\n",
       "    <tr>\n",
       "      <th>2</th>\n",
       "      <td>190400316262</td>\n",
       "      <td>3</td>\n",
       "      <td>634497</td>\n",
       "      <td>1.0</td>\n",
       "      <td>0.000</td>\n",
       "      <td>5.79</td>\n",
       "      <td>3.63</td>\n",
       "    </tr>\n",
       "    <tr>\n",
       "      <th>3</th>\n",
       "      <td>190400316262</td>\n",
       "      <td>1</td>\n",
       "      <td>257613</td>\n",
       "      <td>1.0</td>\n",
       "      <td>0.000</td>\n",
       "      <td>18.29</td>\n",
       "      <td>6.21</td>\n",
       "    </tr>\n",
       "    <tr>\n",
       "      <th>4</th>\n",
       "      <td>190400316263</td>\n",
       "      <td>1</td>\n",
       "      <td>257627</td>\n",
       "      <td>1.0</td>\n",
       "      <td>0.000</td>\n",
       "      <td>49.92</td>\n",
       "      <td>10.42</td>\n",
       "    </tr>\n",
       "    <tr>\n",
       "      <th>...</th>\n",
       "      <td>...</td>\n",
       "      <td>...</td>\n",
       "      <td>...</td>\n",
       "      <td>...</td>\n",
       "      <td>...</td>\n",
       "      <td>...</td>\n",
       "      <td>...</td>\n",
       "    </tr>\n",
       "    <tr>\n",
       "      <th>34105700</th>\n",
       "      <td>340200383203</td>\n",
       "      <td>2</td>\n",
       "      <td>257643</td>\n",
       "      <td>1.0</td>\n",
       "      <td>0.000</td>\n",
       "      <td>4.69</td>\n",
       "      <td>1.83</td>\n",
       "    </tr>\n",
       "    <tr>\n",
       "      <th>34105701</th>\n",
       "      <td>340200383203</td>\n",
       "      <td>3</td>\n",
       "      <td>50170</td>\n",
       "      <td>1.0</td>\n",
       "      <td>0.000</td>\n",
       "      <td>3.18</td>\n",
       "      <td>1.00</td>\n",
       "    </tr>\n",
       "    <tr>\n",
       "      <th>34105702</th>\n",
       "      <td>340200383203</td>\n",
       "      <td>4</td>\n",
       "      <td>349345</td>\n",
       "      <td>1.0</td>\n",
       "      <td>0.000</td>\n",
       "      <td>3.46</td>\n",
       "      <td>1.13</td>\n",
       "    </tr>\n",
       "    <tr>\n",
       "      <th>34105703</th>\n",
       "      <td>340200383203</td>\n",
       "      <td>5</td>\n",
       "      <td>250580</td>\n",
       "      <td>2.0</td>\n",
       "      <td>0.000</td>\n",
       "      <td>6.80</td>\n",
       "      <td>2.18</td>\n",
       "    </tr>\n",
       "    <tr>\n",
       "      <th>34105704</th>\n",
       "      <td>340200383217</td>\n",
       "      <td>1</td>\n",
       "      <td>816313</td>\n",
       "      <td>20.0</td>\n",
       "      <td>1.818</td>\n",
       "      <td>1.82</td>\n",
       "      <td>1.42</td>\n",
       "    </tr>\n",
       "  </tbody>\n",
       "</table>\n",
       "<p>34105705 rows × 7 columns</p>\n",
       "</div>"
      ],
      "text/plain": [
       "              IDTICKET NUMLIGNETICKET IDARTICLE  QUANTITE  MONTANTREMISE  \\\n",
       "0         190400316260              2    246208       1.0          0.000   \n",
       "1         190400316262              2     33725       1.0          0.000   \n",
       "2         190400316262              3    634497       1.0          0.000   \n",
       "3         190400316262              1    257613       1.0          0.000   \n",
       "4         190400316263              1    257627       1.0          0.000   \n",
       "...                ...            ...       ...       ...            ...   \n",
       "34105700  340200383203              2    257643       1.0          0.000   \n",
       "34105701  340200383203              3     50170       1.0          0.000   \n",
       "34105702  340200383203              4    349345       1.0          0.000   \n",
       "34105703  340200383203              5    250580       2.0          0.000   \n",
       "34105704  340200383217              1    816313      20.0          1.818   \n",
       "\n",
       "          TOTAL  MARGESORTIE  \n",
       "0          4.96         2.37  \n",
       "1          8.25         3.63  \n",
       "2          5.79         3.63  \n",
       "3         18.29         6.21  \n",
       "4         49.92        10.42  \n",
       "...         ...          ...  \n",
       "34105700   4.69         1.83  \n",
       "34105701   3.18         1.00  \n",
       "34105702   3.46         1.13  \n",
       "34105703   6.80         2.18  \n",
       "34105704   1.82         1.42  \n",
       "\n",
       "[34105705 rows x 7 columns]"
      ]
     },
     "execution_count": 45,
     "metadata": {},
     "output_type": "execute_result"
    }
   ],
   "source": [
    "data3"
   ]
  },
  {
   "cell_type": "code",
   "execution_count": 46,
   "id": "e8a3774d59eff393",
   "metadata": {
    "ExecuteTime": {
     "end_time": "2024-05-30T08:28:57.292273Z",
     "start_time": "2024-05-30T08:28:53.107992Z"
    }
   },
   "outputs": [
    {
     "data": {
      "text/html": [
       "<div>\n",
       "<style scoped>\n",
       "    .dataframe tbody tr th:only-of-type {\n",
       "        vertical-align: middle;\n",
       "    }\n",
       "\n",
       "    .dataframe tbody tr th {\n",
       "        vertical-align: top;\n",
       "    }\n",
       "\n",
       "    .dataframe thead th {\n",
       "        text-align: right;\n",
       "    }\n",
       "</style>\n",
       "<table border=\"1\" class=\"dataframe\">\n",
       "  <thead>\n",
       "    <tr style=\"text-align: right;\">\n",
       "      <th></th>\n",
       "      <th>QUANTITE</th>\n",
       "      <th>MONTANTREMISE</th>\n",
       "      <th>TOTAL</th>\n",
       "      <th>MARGESORTIE</th>\n",
       "    </tr>\n",
       "  </thead>\n",
       "  <tbody>\n",
       "    <tr>\n",
       "      <th>count</th>\n",
       "      <td>3.410570e+07</td>\n",
       "      <td>3.410570e+07</td>\n",
       "      <td>3.410570e+07</td>\n",
       "      <td>3.410570e+07</td>\n",
       "    </tr>\n",
       "    <tr>\n",
       "      <th>mean</th>\n",
       "      <td>1.330773e+00</td>\n",
       "      <td>9.912670e-01</td>\n",
       "      <td>9.937605e+00</td>\n",
       "      <td>4.224984e+00</td>\n",
       "    </tr>\n",
       "    <tr>\n",
       "      <th>std</th>\n",
       "      <td>2.269013e+00</td>\n",
       "      <td>6.086740e+00</td>\n",
       "      <td>2.426155e+01</td>\n",
       "      <td>1.166608e+01</td>\n",
       "    </tr>\n",
       "    <tr>\n",
       "      <th>min</th>\n",
       "      <td>-1.550000e+02</td>\n",
       "      <td>-4.269420e+02</td>\n",
       "      <td>-1.500000e+04</td>\n",
       "      <td>-1.500000e+04</td>\n",
       "    </tr>\n",
       "    <tr>\n",
       "      <th>25%</th>\n",
       "      <td>1.000000e+00</td>\n",
       "      <td>0.000000e+00</td>\n",
       "      <td>2.820000e+00</td>\n",
       "      <td>9.900000e-01</td>\n",
       "    </tr>\n",
       "    <tr>\n",
       "      <th>50%</th>\n",
       "      <td>1.000000e+00</td>\n",
       "      <td>0.000000e+00</td>\n",
       "      <td>5.210000e+00</td>\n",
       "      <td>2.260000e+00</td>\n",
       "    </tr>\n",
       "    <tr>\n",
       "      <th>75%</th>\n",
       "      <td>1.000000e+00</td>\n",
       "      <td>4.730000e-01</td>\n",
       "      <td>1.050000e+01</td>\n",
       "      <td>5.210000e+00</td>\n",
       "    </tr>\n",
       "    <tr>\n",
       "      <th>max</th>\n",
       "      <td>9.990000e+02</td>\n",
       "      <td>1.316667e+04</td>\n",
       "      <td>1.500000e+04</td>\n",
       "      <td>1.500000e+04</td>\n",
       "    </tr>\n",
       "  </tbody>\n",
       "</table>\n",
       "</div>"
      ],
      "text/plain": [
       "           QUANTITE  MONTANTREMISE         TOTAL   MARGESORTIE\n",
       "count  3.410570e+07   3.410570e+07  3.410570e+07  3.410570e+07\n",
       "mean   1.330773e+00   9.912670e-01  9.937605e+00  4.224984e+00\n",
       "std    2.269013e+00   6.086740e+00  2.426155e+01  1.166608e+01\n",
       "min   -1.550000e+02  -4.269420e+02 -1.500000e+04 -1.500000e+04\n",
       "25%    1.000000e+00   0.000000e+00  2.820000e+00  9.900000e-01\n",
       "50%    1.000000e+00   0.000000e+00  5.210000e+00  2.260000e+00\n",
       "75%    1.000000e+00   4.730000e-01  1.050000e+01  5.210000e+00\n",
       "max    9.990000e+02   1.316667e+04  1.500000e+04  1.500000e+04"
      ]
     },
     "execution_count": 46,
     "metadata": {},
     "output_type": "execute_result"
    }
   ],
   "source": [
    "data3.describe()"
   ]
  },
  {
   "cell_type": "code",
   "execution_count": 47,
   "id": "62d93cb3240c4ea7",
   "metadata": {
    "ExecuteTime": {
     "end_time": "2024-05-30T08:28:59.682694Z",
     "start_time": "2024-05-30T08:28:59.318127Z"
    }
   },
   "outputs": [
    {
     "data": {
      "text/plain": [
       "(34105705, 4)"
      ]
     },
     "execution_count": 47,
     "metadata": {},
     "output_type": "execute_result"
    }
   ],
   "source": [
    "columns=['QUANTITE', 'MONTANTREMISE', 'TOTAL', 'MARGESORTIE']\n",
    "data3[columns].shape"
   ]
  },
  {
   "cell_type": "code",
   "execution_count": 48,
   "id": "4bb8975c8faea6ca",
   "metadata": {
    "ExecuteTime": {
     "end_time": "2024-05-30T08:29:01.258872Z",
     "start_time": "2024-05-30T08:29:00.914702Z"
    }
   },
   "outputs": [
    {
     "data": {
      "text/plain": [
       "QUANTITE           999.000\n",
       "MONTANTREMISE    13166.667\n",
       "TOTAL            15000.000\n",
       "MARGESORTIE      15000.000\n",
       "dtype: float64"
      ]
     },
     "execution_count": 48,
     "metadata": {},
     "output_type": "execute_result"
    }
   ],
   "source": [
    "data3[columns].max()"
   ]
  },
  {
   "cell_type": "markdown",
   "id": "f032e5ab08adcd79",
   "metadata": {},
   "source": [
    "Il convient à présent de vérifier la présence de valeur aberrantes."
   ]
  },
  {
   "cell_type": "code",
   "execution_count": 49,
   "id": "5be956ba836ee434",
   "metadata": {
    "ExecuteTime": {
     "end_time": "2024-05-30T08:29:02.701488Z",
     "start_time": "2024-05-30T08:29:02.699184Z"
    }
   },
   "outputs": [],
   "source": [
    "def boxplot(data3):\n",
    "    plt.figure(figsize=(16, 6))\n",
    "    sns.boxplot(data=data3)\n",
    "    plt.grid()\n"
   ]
  },
  {
   "cell_type": "code",
   "execution_count": 210,
   "id": "a46e2221995e943",
   "metadata": {
    "ExecuteTime": {
     "end_time": "2024-05-30T08:12:40.480110Z",
     "start_time": "2024-05-30T08:08:54.406875Z"
    }
   },
   "outputs": [
    {
     "data": {
      "image/png": "[encoded data removed]",
      "text/plain": [
       "<Figure size 1600x600 with 1 Axes>"
      ]
     },
     "metadata": {},
     "output_type": "display_data"
    }
   ],
   "source": [
    "boxplot(data3)"
   ]
  },
  {
   "cell_type": "code",
   "execution_count": 214,
   "id": "88188d8ff1315ba7",
   "metadata": {
    "ExecuteTime": {
     "end_time": "2024-05-30T08:14:30.521494Z",
     "start_time": "2024-05-30T08:14:02.127056Z"
    }
   },
   "outputs": [
    {
     "name": "stdout",
     "output_type": "stream",
     "text": [
      "Outliers détectés dans la colonne 'QUANTITE':\n",
      "              IDTICKET NUMLIGNETICKET IDARTICLE  QUANTITE  MONTANTREMISE  \\\n",
      "9         190400316270              4    165207       3.0          2.250   \n",
      "10        190400316270              5    165291       3.0          1.483   \n",
      "18        190400316273              4    248244       2.0          0.000   \n",
      "23        190400316273              7    248214       2.0          0.000   \n",
      "37        190400316277              1    784645       3.0          0.000   \n",
      "...                ...            ...       ...       ...            ...   \n",
      "34105688  130400568238              4    155554       2.0          0.000   \n",
      "34105696  340200383182              5    179749       2.0          0.000   \n",
      "34105697  340200383182              6    699430       3.0          0.000   \n",
      "34105703  340200383203              5    250580       2.0          0.000   \n",
      "34105704  340200383217              1    816313      20.0          1.818   \n",
      "\n",
      "          TOTAL  MARGESORTIE  \n",
      "9         20.22        10.29  \n",
      "10        13.39         7.09  \n",
      "18         3.88         0.94  \n",
      "23         3.76         0.78  \n",
      "37         4.87         3.28  \n",
      "...         ...          ...  \n",
      "34105688  40.56        12.04  \n",
      "34105696  14.92         8.78  \n",
      "34105697  19.87        13.75  \n",
      "34105703   6.80         2.18  \n",
      "34105704   1.82         1.42  \n",
      "\n",
      "[8674864 rows x 7 columns]\n",
      "Outliers détectés dans la colonne 'MONTANTREMISE':\n",
      "              IDTICKET NUMLIGNETICKET IDARTICLE  QUANTITE  MONTANTREMISE  \\\n",
      "9         190400316270              4    165207       3.0          2.250   \n",
      "10        190400316270              5    165291       3.0          1.483   \n",
      "13        190400316270              3    107538       1.0          1.208   \n",
      "44        190400316292              1    259792       2.0         32.500   \n",
      "45        190400316295              4    494033       2.0         10.836   \n",
      "...                ...            ...       ...       ...            ...   \n",
      "34105666  130400568243              1    152516       5.0         12.500   \n",
      "34105672  130400568252              2    250083       1.0          2.458   \n",
      "34105682  340100604955              4    816313      72.0          6.545   \n",
      "34105684  130400568206              1    127100       1.0          4.545   \n",
      "34105704  340200383217              1    816313      20.0          1.818   \n",
      "\n",
      "           TOTAL  MARGESORTIE  \n",
      "9          20.22        10.29  \n",
      "10         13.39         7.09  \n",
      "13         10.87         5.74  \n",
      "44        132.50        38.38  \n",
      "45         18.16         3.96  \n",
      "...          ...          ...  \n",
      "34105666   57.92        28.42  \n",
      "34105672    0.83        -0.68  \n",
      "34105682    6.55         5.11  \n",
      "34105684   18.14         7.19  \n",
      "34105704    1.82         1.42  \n",
      "\n",
      "[5073982 rows x 7 columns]\n",
      "Outliers détectés dans la colonne 'TOTAL':\n",
      "              IDTICKET NUMLIGNETICKET IDARTICLE  QUANTITE  MONTANTREMISE  \\\n",
      "4         190400316263              1    257627       1.0            0.0   \n",
      "6         190400316265              3    835984       1.0            0.0   \n",
      "26        190400316276              1    887442       1.0            0.0   \n",
      "34        190400316276              3    276085       1.0            0.0   \n",
      "38        190400316289              1    916373       2.0            0.0   \n",
      "...                ...            ...       ...       ...            ...   \n",
      "34105669  130400568243              4    386116       1.0            0.0   \n",
      "34105670  130400568243              5    207472       2.0            0.0   \n",
      "34105681  340100604955              3    699385       3.0            0.0   \n",
      "34105683  130400568253             16    213492       2.0            0.0   \n",
      "34105688  130400568238              4    155554       2.0            0.0   \n",
      "\n",
      "          TOTAL  MARGESORTIE  \n",
      "4         49.92        10.42  \n",
      "6         37.42        13.78  \n",
      "26        24.58        12.39  \n",
      "34        35.45        14.50  \n",
      "38        23.54        13.68  \n",
      "...         ...          ...  \n",
      "34105669  54.08        21.19  \n",
      "34105670  59.98        25.90  \n",
      "34105681  22.37        14.12  \n",
      "34105683  35.00        14.86  \n",
      "34105688  40.56        12.04  \n",
      "\n",
      "[3139642 rows x 7 columns]\n",
      "Outliers détectés dans la colonne 'MARGESORTIE':\n",
      "              IDTICKET NUMLIGNETICKET IDARTICLE  QUANTITE  MONTANTREMISE  \\\n",
      "6         190400316265              3    835984       1.0            0.0   \n",
      "26        190400316276              1    887442       1.0            0.0   \n",
      "34        190400316276              3    276085       1.0            0.0   \n",
      "38        190400316289              1    916373       2.0            0.0   \n",
      "42        190400316290              1    345231       1.0            0.0   \n",
      "...                ...            ...       ...       ...            ...   \n",
      "34105670  130400568243              5    207472       2.0            0.0   \n",
      "34105681  340100604955              3    699385       3.0            0.0   \n",
      "34105683  130400568253             16    213492       2.0            0.0   \n",
      "34105688  130400568238              4    155554       2.0            0.0   \n",
      "34105697  340200383182              6    699430       3.0            0.0   \n",
      "\n",
      "          TOTAL  MARGESORTIE  \n",
      "6         37.42        13.78  \n",
      "26        24.58        12.39  \n",
      "34        35.45        14.50  \n",
      "38        23.54        13.68  \n",
      "42        66.62        27.09  \n",
      "...         ...          ...  \n",
      "34105670  59.98        25.90  \n",
      "34105681  22.37        14.12  \n",
      "34105683  35.00        14.86  \n",
      "34105688  40.56        12.04  \n",
      "34105697  19.87        13.75  \n",
      "\n",
      "[2636217 rows x 7 columns]\n"
     ]
    }
   ],
   "source": [
    "from pandas.api.types import is_numeric_dtype\n",
    "\n",
    "# Fonction pour détecter les outliers en utilisant l'IQR\n",
    "def detect_outliers_iqr(data3, column):\n",
    "    Q1 = data3[column].quantile(0.25)\n",
    "    Q3 = data3[column].quantile(0.75)\n",
    "    IQR = Q3 - Q1\n",
    "    lower_bound = Q1 - 1.5 * IQR\n",
    "    upper_bound = Q3 + 1.5 * IQR\n",
    "    outliers = data3[(data3[column] < lower_bound) | (data3[column] > upper_bound)]\n",
    "    return outliers\n",
    "\n",
    "# Boucler à travers les colonnes numériques pour détecter les outliers\n",
    "for col in data3.columns:\n",
    "    if is_numeric_dtype(data3[col]):\n",
    "        outliers = detect_outliers_iqr(data3, col)\n",
    "        if len(outliers) > 0:\n",
    "            print(f\"Outliers détectés dans la colonne '{col}':\")\n",
    "            print(outliers)"
   ]
  },
  {
   "cell_type": "code",
   "execution_count": 221,
   "id": "92ca750702a399b6",
   "metadata": {
    "ExecuteTime": {
     "end_time": "2024-05-30T08:17:35.933793Z",
     "start_time": "2024-05-30T08:17:32.393709Z"
    }
   },
   "outputs": [],
   "source": [
    "# Fonction pour imputer les outliers \n",
    "def impute_outliers(data3, columns):\n",
    "    Q1 = np.percentile(data3[columns],25)\n",
    "    Q3 = np.percentile(data3[columns],75)\n",
    "    IQR = Q3 - Q1\n",
    "    lower_bound = Q1 - 1.5 * IQR\n",
    "    upper_bound = Q3 + 1.5 * IQR\n",
    "    data3.loc[data3[columns] < lower_bound, columns] = lower_bound \n",
    "    data3.loc[data3[columns] > upper_bound,columns]=upper_bound\n",
    "for columns in columns:\n",
    "    impute_outliers(data3,columns)"
   ]
  },
  {
   "cell_type": "code",
   "execution_count": 182,
   "id": "b1db2ea7cdd4f7b1",
   "metadata": {
    "ExecuteTime": {
     "end_time": "2024-05-30T07:36:42.407901Z",
     "start_time": "2024-05-30T07:36:22.216234Z"
    }
   },
   "outputs": [
    {
     "data": {
      "image/png": "[encoded data removed]",
      "text/plain": [
       "<Figure size 1200x600 with 1 Axes>"
      ]
     },
     "metadata": {},
     "output_type": "display_data"
    }
   ],
   "source": [
    "# Visualiser les outliers en utilisant un boxplot avec Seaborn\n",
    "plt.figure(figsize=(12, 6))\n",
    "sns.boxplot(data=data3, x='QUANTITE')\n",
    "plt.xlabel('QUANTITE DES ARTICLES ACHETÉS')\n",
    "plt.title(\"BOXPLOT DES QUANTITES DES ARTICLES ACHETÉS\")\n",
    "plt.show()"
   ]
  },
  {
   "cell_type": "code",
   "execution_count": 183,
   "id": "9b6fcc1a1dbfc8d6",
   "metadata": {
    "ExecuteTime": {
     "end_time": "2024-05-30T07:37:02.446059Z",
     "start_time": "2024-05-30T07:36:42.409742Z"
    }
   },
   "outputs": [
    {
     "data": {
      "image/png": "[encoded data removed]",
      "text/plain": [
       "<Figure size 1200x600 with 1 Axes>"
      ]
     },
     "metadata": {},
     "output_type": "display_data"
    }
   ],
   "source": [
    "# Visualiser les outliers en utilisant un boxplot avec Seaborn\n",
    "plt.figure(figsize=(12, 6))\n",
    "sns.boxplot(data=data3, x='TOTAL')\n",
    "plt.xlabel('TOTAL DES ARTICLES ACHETÉS')\n",
    "plt.title(\"BOXPLOT DES TOTAUX DES ARTICLES ACHETÉS\")\n",
    "plt.show()"
   ]
  },
  {
   "cell_type": "code",
   "execution_count": 184,
   "id": "6646fbbc410929b7",
   "metadata": {
    "ExecuteTime": {
     "end_time": "2024-05-30T07:46:30.461297Z",
     "start_time": "2024-05-30T07:46:09.426563Z"
    }
   },
   "outputs": [
    {
     "data": {
      "image/png": "[encoded data removed]",
      "text/plain": [
       "<Figure size 1200x600 with 1 Axes>"
      ]
     },
     "metadata": {},
     "output_type": "display_data"
    }
   ],
   "source": [
    "# Visualiser les outliers en utilisant un boxplot avec Seaborn\n",
    "plt.figure(figsize=(12, 6))\n",
    "sns.boxplot(data=data3, x='MONTANTREMISE')\n",
    "plt.xlabel('MONTANT REMISE PAR CLIENT')\n",
    "plt.title(\"BOXPLOT DES MONTANTS REMISE PAR CLIENT\")\n",
    "plt.show()"
   ]
  },
  {
   "cell_type": "code",
   "execution_count": 108,
   "id": "df09e9a7b1d6b226",
   "metadata": {
    "ExecuteTime": {
     "end_time": "2024-05-29T12:40:42.689701Z",
     "start_time": "2024-05-29T12:40:24.437459Z"
    }
   },
   "outputs": [
    {
     "data": {
      "image/png": "[encoded data removed]",
      "text/plain": [
       "<Figure size 1200x600 with 1 Axes>"
      ]
     },
     "metadata": {},
     "output_type": "display_data"
    }
   ],
   "source": [
    "# Visualiser les outliers en utilisant un boxplot avec Seaborn\n",
    "plt.figure(figsize=(12, 6))\n",
    "sns.boxplot(data=data3, x='MARGESORTIE')\n",
    "plt.xlabel('MARGE RÉALISÉE PAR CLIENT')\n",
    "plt.title(\"BOXPLOT DES MARGES RÉALISÉES PAR CLIENT\")\n",
    "plt.show()"
   ]
  },
  {
   "cell_type": "code",
   "execution_count": 222,
   "id": "9a34a51805ec22ca",
   "metadata": {
    "ExecuteTime": {
     "end_time": "2024-05-30T08:18:24.467725Z",
     "start_time": "2024-05-30T08:18:13.083114Z"
    }
   },
   "outputs": [],
   "source": [
    "import numpy as np\n",
    "columns= ['QUANTITE', 'MONTANTREMISE', 'TOTAL', 'MARGESORTIE']\n",
    "# Créer un sous-dataset composé uniquement des outliers\n",
    "def subdataset_outliers(data3, columns):\n",
    "    Q1 = np.percentile(data3[columns], 25)\n",
    "    Q3 = np.percentile(data3[columns], 75)\n",
    "    IQR = Q3 - Q1\n",
    "    lower_bound = Q1 - 1.5 * IQR\n",
    "    upper_bound = Q3 + 1.5 * IQR\n",
    "    return data3[(data3[columns] < lower_bound) | (data3[columns] > upper_bound)]\n",
    "\n",
    "# Appliquer la fonction pour une colonne spécifique\n",
    "outliers_subset = subdataset_outliers(data3, columns)"
   ]
  },
  {
   "cell_type": "code",
   "execution_count": 223,
   "id": "94c590c76e3632c7",
   "metadata": {
    "ExecuteTime": {
     "end_time": "2024-05-30T08:19:05.070002Z",
     "start_time": "2024-05-30T08:18:49.570793Z"
    }
   },
   "outputs": [],
   "source": [
    "# Appel à la fonction detect_outliers_iqr() pour obtenir les bornes lower_bound et upper_bound\n",
    "outliers = detect_outliers_iqr(data3, columns)\n",
    "lower_bound = outliers[columns].min()\n",
    "upper_bound = outliers[columns].max()\n",
    "\n",
    "# Remplacement des outliers par les bornes\n",
    "data3[columns] = np.where(data3[columns] < lower_bound, lower_bound, data3[columns])\n",
    "data3[columns] = np.where(data3[columns] > upper_bound, upper_bound, data3[columns])"
   ]
  },
  {
   "cell_type": "code",
   "execution_count": 224,
   "id": "36e1f6296976fc7a",
   "metadata": {
    "ExecuteTime": {
     "end_time": "2024-05-30T08:19:13.230693Z",
     "start_time": "2024-05-30T08:19:12.961801Z"
    }
   },
   "outputs": [
    {
     "data": {
      "text/plain": [
       "(34105705, 4)"
      ]
     },
     "execution_count": 224,
     "metadata": {},
     "output_type": "execute_result"
    }
   ],
   "source": [
    "data3[columns].shape"
   ]
  },
  {
   "cell_type": "code",
   "execution_count": 225,
   "id": "d40255b45471b57f",
   "metadata": {
    "ExecuteTime": {
     "end_time": "2024-05-30T08:19:18.929824Z",
     "start_time": "2024-05-30T08:19:18.446848Z"
    }
   },
   "outputs": [
    {
     "data": {
      "text/plain": [
       "QUANTITE          1.0000\n",
       "MONTANTREMISE     1.1825\n",
       "TOTAL            22.0200\n",
       "MARGESORTIE      11.5400\n",
       "dtype: float64"
      ]
     },
     "execution_count": 225,
     "metadata": {},
     "output_type": "execute_result"
    }
   ],
   "source": [
    "data3[columns].max()"
   ]
  },
  {
   "cell_type": "code",
   "execution_count": 226,
   "id": "893e1b06501fcf40",
   "metadata": {
    "ExecuteTime": {
     "end_time": "2024-05-30T08:19:25.039480Z",
     "start_time": "2024-05-30T08:19:24.732812Z"
    }
   },
   "outputs": [
    {
     "data": {
      "text/html": [
       "<div>\n",
       "<style scoped>\n",
       "    .dataframe tbody tr th:only-of-type {\n",
       "        vertical-align: middle;\n",
       "    }\n",
       "\n",
       "    .dataframe tbody tr th {\n",
       "        vertical-align: top;\n",
       "    }\n",
       "\n",
       "    .dataframe thead th {\n",
       "        text-align: right;\n",
       "    }\n",
       "</style>\n",
       "<table border=\"1\" class=\"dataframe\">\n",
       "  <thead>\n",
       "    <tr style=\"text-align: right;\">\n",
       "      <th></th>\n",
       "      <th>QUANTITE</th>\n",
       "      <th>MONTANTREMISE</th>\n",
       "      <th>TOTAL</th>\n",
       "      <th>MARGESORTIE</th>\n",
       "    </tr>\n",
       "  </thead>\n",
       "  <tbody>\n",
       "    <tr>\n",
       "      <th>0</th>\n",
       "      <td>1.0</td>\n",
       "      <td>0.0000</td>\n",
       "      <td>4.96</td>\n",
       "      <td>2.37</td>\n",
       "    </tr>\n",
       "    <tr>\n",
       "      <th>1</th>\n",
       "      <td>1.0</td>\n",
       "      <td>0.0000</td>\n",
       "      <td>8.25</td>\n",
       "      <td>3.63</td>\n",
       "    </tr>\n",
       "    <tr>\n",
       "      <th>2</th>\n",
       "      <td>1.0</td>\n",
       "      <td>0.0000</td>\n",
       "      <td>5.79</td>\n",
       "      <td>3.63</td>\n",
       "    </tr>\n",
       "    <tr>\n",
       "      <th>3</th>\n",
       "      <td>1.0</td>\n",
       "      <td>0.0000</td>\n",
       "      <td>18.29</td>\n",
       "      <td>6.21</td>\n",
       "    </tr>\n",
       "    <tr>\n",
       "      <th>4</th>\n",
       "      <td>1.0</td>\n",
       "      <td>0.0000</td>\n",
       "      <td>22.02</td>\n",
       "      <td>10.42</td>\n",
       "    </tr>\n",
       "    <tr>\n",
       "      <th>...</th>\n",
       "      <td>...</td>\n",
       "      <td>...</td>\n",
       "      <td>...</td>\n",
       "      <td>...</td>\n",
       "    </tr>\n",
       "    <tr>\n",
       "      <th>34105700</th>\n",
       "      <td>1.0</td>\n",
       "      <td>0.0000</td>\n",
       "      <td>4.69</td>\n",
       "      <td>1.83</td>\n",
       "    </tr>\n",
       "    <tr>\n",
       "      <th>34105701</th>\n",
       "      <td>1.0</td>\n",
       "      <td>0.0000</td>\n",
       "      <td>3.18</td>\n",
       "      <td>1.00</td>\n",
       "    </tr>\n",
       "    <tr>\n",
       "      <th>34105702</th>\n",
       "      <td>1.0</td>\n",
       "      <td>0.0000</td>\n",
       "      <td>3.46</td>\n",
       "      <td>1.13</td>\n",
       "    </tr>\n",
       "    <tr>\n",
       "      <th>34105703</th>\n",
       "      <td>1.0</td>\n",
       "      <td>0.0000</td>\n",
       "      <td>6.80</td>\n",
       "      <td>2.18</td>\n",
       "    </tr>\n",
       "    <tr>\n",
       "      <th>34105704</th>\n",
       "      <td>1.0</td>\n",
       "      <td>1.1825</td>\n",
       "      <td>1.82</td>\n",
       "      <td>1.42</td>\n",
       "    </tr>\n",
       "  </tbody>\n",
       "</table>\n",
       "<p>34105705 rows × 4 columns</p>\n",
       "</div>"
      ],
      "text/plain": [
       "          QUANTITE  MONTANTREMISE  TOTAL  MARGESORTIE\n",
       "0              1.0         0.0000   4.96         2.37\n",
       "1              1.0         0.0000   8.25         3.63\n",
       "2              1.0         0.0000   5.79         3.63\n",
       "3              1.0         0.0000  18.29         6.21\n",
       "4              1.0         0.0000  22.02        10.42\n",
       "...            ...            ...    ...          ...\n",
       "34105700       1.0         0.0000   4.69         1.83\n",
       "34105701       1.0         0.0000   3.18         1.00\n",
       "34105702       1.0         0.0000   3.46         1.13\n",
       "34105703       1.0         0.0000   6.80         2.18\n",
       "34105704       1.0         1.1825   1.82         1.42\n",
       "\n",
       "[34105705 rows x 4 columns]"
      ]
     },
     "execution_count": 226,
     "metadata": {},
     "output_type": "execute_result"
    }
   ],
   "source": [
    "data3[columns]"
   ]
  },
  {
   "cell_type": "code",
   "execution_count": 227,
   "id": "d01efe930d43722f",
   "metadata": {
    "ExecuteTime": {
     "end_time": "2024-05-30T08:19:33.983032Z",
     "start_time": "2024-05-30T08:19:29.900216Z"
    }
   },
   "outputs": [
    {
     "data": {
      "text/html": [
       "<div>\n",
       "<style scoped>\n",
       "    .dataframe tbody tr th:only-of-type {\n",
       "        vertical-align: middle;\n",
       "    }\n",
       "\n",
       "    .dataframe tbody tr th {\n",
       "        vertical-align: top;\n",
       "    }\n",
       "\n",
       "    .dataframe thead th {\n",
       "        text-align: right;\n",
       "    }\n",
       "</style>\n",
       "<table border=\"1\" class=\"dataframe\">\n",
       "  <thead>\n",
       "    <tr style=\"text-align: right;\">\n",
       "      <th></th>\n",
       "      <th>QUANTITE</th>\n",
       "      <th>MONTANTREMISE</th>\n",
       "      <th>TOTAL</th>\n",
       "      <th>MARGESORTIE</th>\n",
       "    </tr>\n",
       "  </thead>\n",
       "  <tbody>\n",
       "    <tr>\n",
       "      <th>count</th>\n",
       "      <td>34105705.0</td>\n",
       "      <td>3.410570e+07</td>\n",
       "      <td>3.410570e+07</td>\n",
       "      <td>3.410570e+07</td>\n",
       "    </tr>\n",
       "    <tr>\n",
       "      <th>mean</th>\n",
       "      <td>1.0</td>\n",
       "      <td>2.790697e-01</td>\n",
       "      <td>7.553460e+00</td>\n",
       "      <td>3.461244e+00</td>\n",
       "    </tr>\n",
       "    <tr>\n",
       "      <th>std</th>\n",
       "      <td>0.0</td>\n",
       "      <td>4.499037e-01</td>\n",
       "      <td>6.522058e+00</td>\n",
       "      <td>3.454784e+00</td>\n",
       "    </tr>\n",
       "    <tr>\n",
       "      <th>min</th>\n",
       "      <td>1.0</td>\n",
       "      <td>-7.095000e-01</td>\n",
       "      <td>-8.700000e+00</td>\n",
       "      <td>-5.340000e+00</td>\n",
       "    </tr>\n",
       "    <tr>\n",
       "      <th>25%</th>\n",
       "      <td>1.0</td>\n",
       "      <td>0.000000e+00</td>\n",
       "      <td>2.820000e+00</td>\n",
       "      <td>9.900000e-01</td>\n",
       "    </tr>\n",
       "    <tr>\n",
       "      <th>50%</th>\n",
       "      <td>1.0</td>\n",
       "      <td>0.000000e+00</td>\n",
       "      <td>5.210000e+00</td>\n",
       "      <td>2.260000e+00</td>\n",
       "    </tr>\n",
       "    <tr>\n",
       "      <th>75%</th>\n",
       "      <td>1.0</td>\n",
       "      <td>4.730000e-01</td>\n",
       "      <td>1.050000e+01</td>\n",
       "      <td>5.210000e+00</td>\n",
       "    </tr>\n",
       "    <tr>\n",
       "      <th>max</th>\n",
       "      <td>1.0</td>\n",
       "      <td>1.182500e+00</td>\n",
       "      <td>2.202000e+01</td>\n",
       "      <td>1.154000e+01</td>\n",
       "    </tr>\n",
       "  </tbody>\n",
       "</table>\n",
       "</div>"
      ],
      "text/plain": [
       "         QUANTITE  MONTANTREMISE         TOTAL   MARGESORTIE\n",
       "count  34105705.0   3.410570e+07  3.410570e+07  3.410570e+07\n",
       "mean          1.0   2.790697e-01  7.553460e+00  3.461244e+00\n",
       "std           0.0   4.499037e-01  6.522058e+00  3.454784e+00\n",
       "min           1.0  -7.095000e-01 -8.700000e+00 -5.340000e+00\n",
       "25%           1.0   0.000000e+00  2.820000e+00  9.900000e-01\n",
       "50%           1.0   0.000000e+00  5.210000e+00  2.260000e+00\n",
       "75%           1.0   4.730000e-01  1.050000e+01  5.210000e+00\n",
       "max           1.0   1.182500e+00  2.202000e+01  1.154000e+01"
      ]
     },
     "execution_count": 227,
     "metadata": {},
     "output_type": "execute_result"
    }
   ],
   "source": [
    "data3.describe()"
   ]
  },
  {
   "cell_type": "markdown",
   "id": "a32be6d0",
   "metadata": {},
   "source": [
    "La ligne de code ci-dessous nous permet d'identifier les valeurs en doublons qui conviendra de traiter."
   ]
  },
  {
   "cell_type": "markdown",
   "id": "55f5ea5ce46c688c",
   "metadata": {},
   "source": []
  },
  {
   "cell_type": "code",
   "execution_count": 50,
   "id": "92b77e2f",
   "metadata": {
    "ExecuteTime": {
     "end_time": "2024-05-30T08:29:49.561489Z",
     "start_time": "2024-05-30T08:29:17.429491Z"
    }
   },
   "outputs": [
    {
     "name": "stdout",
     "output_type": "stream",
     "text": [
      "130\n"
     ]
    }
   ],
   "source": [
    "print(data3.duplicated().sum())\n",
    "data = data3.drop_duplicates()"
   ]
  },
  {
   "cell_type": "markdown",
   "id": "d0ae98d7",
   "metadata": {},
   "source": [
    "Nous allons désormais procéder au traitement de ces doublons."
   ]
  },
  {
   "cell_type": "code",
   "execution_count": 51,
   "id": "fd663935",
   "metadata": {
    "ExecuteTime": {
     "end_time": "2024-05-30T08:30:07.329344Z",
     "start_time": "2024-05-30T08:29:49.563531Z"
    }
   },
   "outputs": [],
   "source": [
    "data3.drop_duplicates(keep='first', inplace=True)"
   ]
  },
  {
   "cell_type": "markdown",
   "id": "65d9a122",
   "metadata": {},
   "source": [
    "Code de vérification."
   ]
  },
  {
   "cell_type": "code",
   "execution_count": 52,
   "id": "4810e6cb",
   "metadata": {
    "ExecuteTime": {
     "end_time": "2024-05-30T08:30:31.336226Z",
     "start_time": "2024-05-30T08:30:16.691749Z"
    }
   },
   "outputs": [
    {
     "name": "stdout",
     "output_type": "stream",
     "text": [
      "0\n"
     ]
    }
   ],
   "source": [
    "print(data3.duplicated().sum())"
   ]
  },
  {
   "cell_type": "markdown",
   "id": "f2552092",
   "metadata": {},
   "source": [
    "Nous procédons également à la vérification de présence ou non de valeurs manquantes (aucune valeur détectée)."
   ]
  },
  {
   "cell_type": "code",
   "execution_count": 53,
   "id": "8559c75ff454c123",
   "metadata": {
    "ExecuteTime": {
     "end_time": "2024-05-30T08:30:38.195906Z",
     "start_time": "2024-05-30T08:30:35.610595Z"
    }
   },
   "outputs": [
    {
     "data": {
      "text/plain": [
       "IDTICKET          0\n",
       "NUMLIGNETICKET    0\n",
       "IDARTICLE         0\n",
       "QUANTITE          0\n",
       "MONTANTREMISE     0\n",
       "TOTAL             0\n",
       "MARGESORTIE       0\n",
       "dtype: int64"
      ]
     },
     "execution_count": 53,
     "metadata": {},
     "output_type": "execute_result"
    }
   ],
   "source": [
    "data3.isnull().sum()"
   ]
  },
  {
   "cell_type": "markdown",
   "id": "4e7d517e",
   "metadata": {},
   "source": [
    "Chargement du jeu de données ENTETES TICKET V4."
   ]
  },
  {
   "cell_type": "code",
   "execution_count": 54,
   "id": "4498ad84",
   "metadata": {
    "ExecuteTime": {
     "end_time": "2024-05-30T08:30:46.527865Z",
     "start_time": "2024-05-30T08:30:42.035012Z"
    }
   },
   "outputs": [
    {
     "name": "stdout",
     "output_type": "stream",
     "text": [
      "(6714173, 5)\n",
      "['IDTICKET', 'TIC_DATE', 'MAG_CODE', 'IDCLIENT', 'TIC_TOTALTTC']\n"
     ]
    }
   ],
   "source": [
    "data2 = pd.read_csv(\"ENTETES_TICKET_V4.csv\", sep='|', low_memory=False)\n",
    "print(data2.shape)\n",
    "print(list(data2.columns))\n"
   ]
  },
  {
   "cell_type": "markdown",
   "id": "79513048",
   "metadata": {},
   "source": [
    "La ligne de code ci-dessous nous permet de connaître le détail des colonnes ainsi que le type de données constituant notre base (numérique ou caractères)."
   ]
  },
  {
   "cell_type": "code",
   "execution_count": 55,
   "id": "11f05dee",
   "metadata": {
    "ExecuteTime": {
     "end_time": "2024-05-30T08:30:48.014995Z",
     "start_time": "2024-05-30T08:30:48.007234Z"
    }
   },
   "outputs": [
    {
     "name": "stdout",
     "output_type": "stream",
     "text": [
      "<class 'pandas.core.frame.DataFrame'>\n",
      "RangeIndex: 6714173 entries, 0 to 6714172\n",
      "Data columns (total 5 columns):\n",
      " #   Column        Dtype  \n",
      "---  ------        -----  \n",
      " 0   IDTICKET      int64  \n",
      " 1   TIC_DATE      object \n",
      " 2   MAG_CODE      object \n",
      " 3   IDCLIENT      float64\n",
      " 4   TIC_TOTALTTC  object \n",
      "dtypes: float64(1), int64(1), object(3)\n",
      "memory usage: 256.1+ MB\n"
     ]
    }
   ],
   "source": [
    "data2.info()"
   ]
  },
  {
   "cell_type": "markdown",
   "id": "b94846dd",
   "metadata": {},
   "source": [
    "Aperçu de notre jeu de données. "
   ]
  },
  {
   "cell_type": "code",
   "execution_count": 56,
   "id": "0892088b",
   "metadata": {
    "ExecuteTime": {
     "end_time": "2024-05-30T08:30:50.119703Z",
     "start_time": "2024-05-30T08:30:50.112426Z"
    }
   },
   "outputs": [
    {
     "data": {
      "text/html": [
       "<div>\n",
       "<style scoped>\n",
       "    .dataframe tbody tr th:only-of-type {\n",
       "        vertical-align: middle;\n",
       "    }\n",
       "\n",
       "    .dataframe tbody tr th {\n",
       "        vertical-align: top;\n",
       "    }\n",
       "\n",
       "    .dataframe thead th {\n",
       "        text-align: right;\n",
       "    }\n",
       "</style>\n",
       "<table border=\"1\" class=\"dataframe\">\n",
       "  <thead>\n",
       "    <tr style=\"text-align: right;\">\n",
       "      <th></th>\n",
       "      <th>IDTICKET</th>\n",
       "      <th>TIC_DATE</th>\n",
       "      <th>MAG_CODE</th>\n",
       "      <th>IDCLIENT</th>\n",
       "      <th>TIC_TOTALTTC</th>\n",
       "    </tr>\n",
       "  </thead>\n",
       "  <tbody>\n",
       "    <tr>\n",
       "      <th>0</th>\n",
       "      <td>50100150510</td>\n",
       "      <td>2016-01-02 11:01:33</td>\n",
       "      <td>ALB</td>\n",
       "      <td>2995104.0</td>\n",
       "      <td>12,9</td>\n",
       "    </tr>\n",
       "    <tr>\n",
       "      <th>1</th>\n",
       "      <td>50100150511</td>\n",
       "      <td>2016-01-02 11:02:10</td>\n",
       "      <td>ALB</td>\n",
       "      <td>1411117.0</td>\n",
       "      <td>131,06</td>\n",
       "    </tr>\n",
       "    <tr>\n",
       "      <th>2</th>\n",
       "      <td>50100150515</td>\n",
       "      <td>2016-01-02 12:03:27</td>\n",
       "      <td>ALB</td>\n",
       "      <td>222592.0</td>\n",
       "      <td>34,69</td>\n",
       "    </tr>\n",
       "    <tr>\n",
       "      <th>3</th>\n",
       "      <td>50100150517</td>\n",
       "      <td>2016-01-02 14:23:21</td>\n",
       "      <td>ALB</td>\n",
       "      <td>2979958.0</td>\n",
       "      <td>97,58</td>\n",
       "    </tr>\n",
       "    <tr>\n",
       "      <th>4</th>\n",
       "      <td>50100150518</td>\n",
       "      <td>2016-01-02 14:26:53</td>\n",
       "      <td>ALB</td>\n",
       "      <td>2858676.0</td>\n",
       "      <td>4,7</td>\n",
       "    </tr>\n",
       "    <tr>\n",
       "      <th>...</th>\n",
       "      <td>...</td>\n",
       "      <td>...</td>\n",
       "      <td>...</td>\n",
       "      <td>...</td>\n",
       "      <td>...</td>\n",
       "    </tr>\n",
       "    <tr>\n",
       "      <th>6714168</th>\n",
       "      <td>1340300014404</td>\n",
       "      <td>2016-12-27 16:31:52</td>\n",
       "      <td>RMA</td>\n",
       "      <td>2292927.0</td>\n",
       "      <td>59,45</td>\n",
       "    </tr>\n",
       "    <tr>\n",
       "      <th>6714169</th>\n",
       "      <td>1340300014407</td>\n",
       "      <td>2016-12-27 16:35:21</td>\n",
       "      <td>RMA</td>\n",
       "      <td>3189844.0</td>\n",
       "      <td>26,9</td>\n",
       "    </tr>\n",
       "    <tr>\n",
       "      <th>6714170</th>\n",
       "      <td>1340300014409</td>\n",
       "      <td>2016-12-27 16:38:59</td>\n",
       "      <td>RMA</td>\n",
       "      <td>3125998.0</td>\n",
       "      <td>22,15</td>\n",
       "    </tr>\n",
       "    <tr>\n",
       "      <th>6714171</th>\n",
       "      <td>1340300014438</td>\n",
       "      <td>2016-12-27 17:17:30</td>\n",
       "      <td>RMA</td>\n",
       "      <td>3252348.0</td>\n",
       "      <td>118,01</td>\n",
       "    </tr>\n",
       "    <tr>\n",
       "      <th>6714172</th>\n",
       "      <td>1340300014440</td>\n",
       "      <td>2016-12-27 17:24:15</td>\n",
       "      <td>RMA</td>\n",
       "      <td>3243933.0</td>\n",
       "      <td>44,8</td>\n",
       "    </tr>\n",
       "  </tbody>\n",
       "</table>\n",
       "<p>6714173 rows × 5 columns</p>\n",
       "</div>"
      ],
      "text/plain": [
       "              IDTICKET             TIC_DATE MAG_CODE   IDCLIENT TIC_TOTALTTC\n",
       "0          50100150510  2016-01-02 11:01:33      ALB  2995104.0         12,9\n",
       "1          50100150511  2016-01-02 11:02:10      ALB  1411117.0       131,06\n",
       "2          50100150515  2016-01-02 12:03:27      ALB   222592.0        34,69\n",
       "3          50100150517  2016-01-02 14:23:21      ALB  2979958.0        97,58\n",
       "4          50100150518  2016-01-02 14:26:53      ALB  2858676.0          4,7\n",
       "...                ...                  ...      ...        ...          ...\n",
       "6714168  1340300014404  2016-12-27 16:31:52      RMA  2292927.0        59,45\n",
       "6714169  1340300014407  2016-12-27 16:35:21      RMA  3189844.0         26,9\n",
       "6714170  1340300014409  2016-12-27 16:38:59      RMA  3125998.0        22,15\n",
       "6714171  1340300014438  2016-12-27 17:17:30      RMA  3252348.0       118,01\n",
       "6714172  1340300014440  2016-12-27 17:24:15      RMA  3243933.0         44,8\n",
       "\n",
       "[6714173 rows x 5 columns]"
      ]
     },
     "execution_count": 56,
     "metadata": {},
     "output_type": "execute_result"
    }
   ],
   "source": [
    "data2"
   ]
  },
  {
   "cell_type": "markdown",
   "id": "d2c72a65",
   "metadata": {},
   "source": [
    "Afin d'exploiter de façon optimale les informations, nous allons convetir les l'ID TICKET et le NUM LIGNE TICKET en caractère. A l'inverse, nous devons convertir le total TTC en valeur numérique."
   ]
  },
  {
   "cell_type": "code",
   "execution_count": 57,
   "id": "5d7a79f6",
   "metadata": {
    "ExecuteTime": {
     "end_time": "2024-05-30T08:30:54.499150Z",
     "start_time": "2024-05-30T08:30:52.267436Z"
    }
   },
   "outputs": [],
   "source": [
    "data2['IDTICKET'] = data2['IDTICKET'].astype(str)\n",
    "data2['IDCLIENT'] = data2['IDCLIENT'].astype(str)"
   ]
  },
  {
   "cell_type": "code",
   "execution_count": 58,
   "id": "8e554f01",
   "metadata": {
    "ExecuteTime": {
     "end_time": "2024-05-30T08:30:56.205197Z",
     "start_time": "2024-05-30T08:30:55.524163Z"
    }
   },
   "outputs": [],
   "source": [
    "data2['TIC_TOTALTTC'] = data2['TIC_TOTALTTC'].str.replace(',', '.')"
   ]
  },
  {
   "cell_type": "code",
   "execution_count": 59,
   "id": "62ab6e1c",
   "metadata": {
    "ExecuteTime": {
     "end_time": "2024-05-30T08:30:57.339903Z",
     "start_time": "2024-05-30T08:30:56.932447Z"
    }
   },
   "outputs": [],
   "source": [
    "data2['TIC_TOTALTTC'] = data2['TIC_TOTALTTC'].str.strip('\\\"')"
   ]
  },
  {
   "cell_type": "code",
   "execution_count": 60,
   "id": "6b710a98",
   "metadata": {
    "ExecuteTime": {
     "end_time": "2024-05-30T08:30:59.034469Z",
     "start_time": "2024-05-30T08:30:58.043889Z"
    }
   },
   "outputs": [],
   "source": [
    "data2['TIC_TOTALTTC'] = pd.to_numeric(data2['TIC_TOTALTTC'], errors='coerce')"
   ]
  },
  {
   "cell_type": "markdown",
   "id": "df7b8fab",
   "metadata": {},
   "source": [
    "Vérification du traitement."
   ]
  },
  {
   "cell_type": "code",
   "execution_count": 61,
   "id": "04839e6d",
   "metadata": {
    "ExecuteTime": {
     "end_time": "2024-05-30T08:31:00.952674Z",
     "start_time": "2024-05-30T08:31:00.945277Z"
    }
   },
   "outputs": [
    {
     "name": "stdout",
     "output_type": "stream",
     "text": [
      "<class 'pandas.core.frame.DataFrame'>\n",
      "RangeIndex: 6714173 entries, 0 to 6714172\n",
      "Data columns (total 5 columns):\n",
      " #   Column        Dtype  \n",
      "---  ------        -----  \n",
      " 0   IDTICKET      object \n",
      " 1   TIC_DATE      object \n",
      " 2   MAG_CODE      object \n",
      " 3   IDCLIENT      object \n",
      " 4   TIC_TOTALTTC  float64\n",
      "dtypes: float64(1), object(4)\n",
      "memory usage: 256.1+ MB\n"
     ]
    }
   ],
   "source": [
    "data2.info()"
   ]
  },
  {
   "cell_type": "code",
   "execution_count": 62,
   "id": "446ed3fd",
   "metadata": {
    "ExecuteTime": {
     "end_time": "2024-05-30T08:31:01.667203Z",
     "start_time": "2024-05-30T08:31:01.660396Z"
    }
   },
   "outputs": [
    {
     "data": {
      "text/html": [
       "<div>\n",
       "<style scoped>\n",
       "    .dataframe tbody tr th:only-of-type {\n",
       "        vertical-align: middle;\n",
       "    }\n",
       "\n",
       "    .dataframe tbody tr th {\n",
       "        vertical-align: top;\n",
       "    }\n",
       "\n",
       "    .dataframe thead th {\n",
       "        text-align: right;\n",
       "    }\n",
       "</style>\n",
       "<table border=\"1\" class=\"dataframe\">\n",
       "  <thead>\n",
       "    <tr style=\"text-align: right;\">\n",
       "      <th></th>\n",
       "      <th>IDTICKET</th>\n",
       "      <th>TIC_DATE</th>\n",
       "      <th>MAG_CODE</th>\n",
       "      <th>IDCLIENT</th>\n",
       "      <th>TIC_TOTALTTC</th>\n",
       "    </tr>\n",
       "  </thead>\n",
       "  <tbody>\n",
       "    <tr>\n",
       "      <th>0</th>\n",
       "      <td>50100150510</td>\n",
       "      <td>2016-01-02 11:01:33</td>\n",
       "      <td>ALB</td>\n",
       "      <td>2995104.0</td>\n",
       "      <td>12.90</td>\n",
       "    </tr>\n",
       "    <tr>\n",
       "      <th>1</th>\n",
       "      <td>50100150511</td>\n",
       "      <td>2016-01-02 11:02:10</td>\n",
       "      <td>ALB</td>\n",
       "      <td>1411117.0</td>\n",
       "      <td>131.06</td>\n",
       "    </tr>\n",
       "    <tr>\n",
       "      <th>2</th>\n",
       "      <td>50100150515</td>\n",
       "      <td>2016-01-02 12:03:27</td>\n",
       "      <td>ALB</td>\n",
       "      <td>222592.0</td>\n",
       "      <td>34.69</td>\n",
       "    </tr>\n",
       "    <tr>\n",
       "      <th>3</th>\n",
       "      <td>50100150517</td>\n",
       "      <td>2016-01-02 14:23:21</td>\n",
       "      <td>ALB</td>\n",
       "      <td>2979958.0</td>\n",
       "      <td>97.58</td>\n",
       "    </tr>\n",
       "    <tr>\n",
       "      <th>4</th>\n",
       "      <td>50100150518</td>\n",
       "      <td>2016-01-02 14:26:53</td>\n",
       "      <td>ALB</td>\n",
       "      <td>2858676.0</td>\n",
       "      <td>4.70</td>\n",
       "    </tr>\n",
       "    <tr>\n",
       "      <th>...</th>\n",
       "      <td>...</td>\n",
       "      <td>...</td>\n",
       "      <td>...</td>\n",
       "      <td>...</td>\n",
       "      <td>...</td>\n",
       "    </tr>\n",
       "    <tr>\n",
       "      <th>6714168</th>\n",
       "      <td>1340300014404</td>\n",
       "      <td>2016-12-27 16:31:52</td>\n",
       "      <td>RMA</td>\n",
       "      <td>2292927.0</td>\n",
       "      <td>59.45</td>\n",
       "    </tr>\n",
       "    <tr>\n",
       "      <th>6714169</th>\n",
       "      <td>1340300014407</td>\n",
       "      <td>2016-12-27 16:35:21</td>\n",
       "      <td>RMA</td>\n",
       "      <td>3189844.0</td>\n",
       "      <td>26.90</td>\n",
       "    </tr>\n",
       "    <tr>\n",
       "      <th>6714170</th>\n",
       "      <td>1340300014409</td>\n",
       "      <td>2016-12-27 16:38:59</td>\n",
       "      <td>RMA</td>\n",
       "      <td>3125998.0</td>\n",
       "      <td>22.15</td>\n",
       "    </tr>\n",
       "    <tr>\n",
       "      <th>6714171</th>\n",
       "      <td>1340300014438</td>\n",
       "      <td>2016-12-27 17:17:30</td>\n",
       "      <td>RMA</td>\n",
       "      <td>3252348.0</td>\n",
       "      <td>118.01</td>\n",
       "    </tr>\n",
       "    <tr>\n",
       "      <th>6714172</th>\n",
       "      <td>1340300014440</td>\n",
       "      <td>2016-12-27 17:24:15</td>\n",
       "      <td>RMA</td>\n",
       "      <td>3243933.0</td>\n",
       "      <td>44.80</td>\n",
       "    </tr>\n",
       "  </tbody>\n",
       "</table>\n",
       "<p>6714173 rows × 5 columns</p>\n",
       "</div>"
      ],
      "text/plain": [
       "              IDTICKET             TIC_DATE MAG_CODE   IDCLIENT  TIC_TOTALTTC\n",
       "0          50100150510  2016-01-02 11:01:33      ALB  2995104.0         12.90\n",
       "1          50100150511  2016-01-02 11:02:10      ALB  1411117.0        131.06\n",
       "2          50100150515  2016-01-02 12:03:27      ALB   222592.0         34.69\n",
       "3          50100150517  2016-01-02 14:23:21      ALB  2979958.0         97.58\n",
       "4          50100150518  2016-01-02 14:26:53      ALB  2858676.0          4.70\n",
       "...                ...                  ...      ...        ...           ...\n",
       "6714168  1340300014404  2016-12-27 16:31:52      RMA  2292927.0         59.45\n",
       "6714169  1340300014407  2016-12-27 16:35:21      RMA  3189844.0         26.90\n",
       "6714170  1340300014409  2016-12-27 16:38:59      RMA  3125998.0         22.15\n",
       "6714171  1340300014438  2016-12-27 17:17:30      RMA  3252348.0        118.01\n",
       "6714172  1340300014440  2016-12-27 17:24:15      RMA  3243933.0         44.80\n",
       "\n",
       "[6714173 rows x 5 columns]"
      ]
     },
     "execution_count": 62,
     "metadata": {},
     "output_type": "execute_result"
    }
   ],
   "source": [
    "data2"
   ]
  },
  {
   "cell_type": "markdown",
   "id": "79c6210e",
   "metadata": {},
   "source": [
    "La ligne de code ci-dessous nous permet de formater le format de la date."
   ]
  },
  {
   "cell_type": "code",
   "execution_count": 63,
   "id": "45452193",
   "metadata": {
    "ExecuteTime": {
     "end_time": "2024-05-30T08:31:17.628074Z",
     "start_time": "2024-05-30T08:31:03.345951Z"
    }
   },
   "outputs": [],
   "source": [
    "from datetime import datetime\n",
    "data2['TIC_DATE'] = pd.to_datetime(data2['TIC_DATE'], format=\"%Y-%m-%d %H:%M:%S\")\n",
    "data2['TIC_DATE'] = data2['TIC_DATE'].dt.strftime(\"%d/%m/%Y\")"
   ]
  },
  {
   "cell_type": "markdown",
   "id": "06977e1e",
   "metadata": {},
   "source": [
    "Vérification du traitement."
   ]
  },
  {
   "cell_type": "code",
   "execution_count": 64,
   "id": "366f31f3",
   "metadata": {
    "ExecuteTime": {
     "end_time": "2024-05-30T08:31:23.846102Z",
     "start_time": "2024-05-30T08:31:23.838089Z"
    }
   },
   "outputs": [
    {
     "data": {
      "text/html": [
       "<div>\n",
       "<style scoped>\n",
       "    .dataframe tbody tr th:only-of-type {\n",
       "        vertical-align: middle;\n",
       "    }\n",
       "\n",
       "    .dataframe tbody tr th {\n",
       "        vertical-align: top;\n",
       "    }\n",
       "\n",
       "    .dataframe thead th {\n",
       "        text-align: right;\n",
       "    }\n",
       "</style>\n",
       "<table border=\"1\" class=\"dataframe\">\n",
       "  <thead>\n",
       "    <tr style=\"text-align: right;\">\n",
       "      <th></th>\n",
       "      <th>IDTICKET</th>\n",
       "      <th>TIC_DATE</th>\n",
       "      <th>MAG_CODE</th>\n",
       "      <th>IDCLIENT</th>\n",
       "      <th>TIC_TOTALTTC</th>\n",
       "    </tr>\n",
       "  </thead>\n",
       "  <tbody>\n",
       "    <tr>\n",
       "      <th>0</th>\n",
       "      <td>50100150510</td>\n",
       "      <td>02/01/2016</td>\n",
       "      <td>ALB</td>\n",
       "      <td>2995104.0</td>\n",
       "      <td>12.90</td>\n",
       "    </tr>\n",
       "    <tr>\n",
       "      <th>1</th>\n",
       "      <td>50100150511</td>\n",
       "      <td>02/01/2016</td>\n",
       "      <td>ALB</td>\n",
       "      <td>1411117.0</td>\n",
       "      <td>131.06</td>\n",
       "    </tr>\n",
       "    <tr>\n",
       "      <th>2</th>\n",
       "      <td>50100150515</td>\n",
       "      <td>02/01/2016</td>\n",
       "      <td>ALB</td>\n",
       "      <td>222592.0</td>\n",
       "      <td>34.69</td>\n",
       "    </tr>\n",
       "    <tr>\n",
       "      <th>3</th>\n",
       "      <td>50100150517</td>\n",
       "      <td>02/01/2016</td>\n",
       "      <td>ALB</td>\n",
       "      <td>2979958.0</td>\n",
       "      <td>97.58</td>\n",
       "    </tr>\n",
       "    <tr>\n",
       "      <th>4</th>\n",
       "      <td>50100150518</td>\n",
       "      <td>02/01/2016</td>\n",
       "      <td>ALB</td>\n",
       "      <td>2858676.0</td>\n",
       "      <td>4.70</td>\n",
       "    </tr>\n",
       "    <tr>\n",
       "      <th>...</th>\n",
       "      <td>...</td>\n",
       "      <td>...</td>\n",
       "      <td>...</td>\n",
       "      <td>...</td>\n",
       "      <td>...</td>\n",
       "    </tr>\n",
       "    <tr>\n",
       "      <th>6714168</th>\n",
       "      <td>1340300014404</td>\n",
       "      <td>27/12/2016</td>\n",
       "      <td>RMA</td>\n",
       "      <td>2292927.0</td>\n",
       "      <td>59.45</td>\n",
       "    </tr>\n",
       "    <tr>\n",
       "      <th>6714169</th>\n",
       "      <td>1340300014407</td>\n",
       "      <td>27/12/2016</td>\n",
       "      <td>RMA</td>\n",
       "      <td>3189844.0</td>\n",
       "      <td>26.90</td>\n",
       "    </tr>\n",
       "    <tr>\n",
       "      <th>6714170</th>\n",
       "      <td>1340300014409</td>\n",
       "      <td>27/12/2016</td>\n",
       "      <td>RMA</td>\n",
       "      <td>3125998.0</td>\n",
       "      <td>22.15</td>\n",
       "    </tr>\n",
       "    <tr>\n",
       "      <th>6714171</th>\n",
       "      <td>1340300014438</td>\n",
       "      <td>27/12/2016</td>\n",
       "      <td>RMA</td>\n",
       "      <td>3252348.0</td>\n",
       "      <td>118.01</td>\n",
       "    </tr>\n",
       "    <tr>\n",
       "      <th>6714172</th>\n",
       "      <td>1340300014440</td>\n",
       "      <td>27/12/2016</td>\n",
       "      <td>RMA</td>\n",
       "      <td>3243933.0</td>\n",
       "      <td>44.80</td>\n",
       "    </tr>\n",
       "  </tbody>\n",
       "</table>\n",
       "<p>6714173 rows × 5 columns</p>\n",
       "</div>"
      ],
      "text/plain": [
       "              IDTICKET    TIC_DATE MAG_CODE   IDCLIENT  TIC_TOTALTTC\n",
       "0          50100150510  02/01/2016      ALB  2995104.0         12.90\n",
       "1          50100150511  02/01/2016      ALB  1411117.0        131.06\n",
       "2          50100150515  02/01/2016      ALB   222592.0         34.69\n",
       "3          50100150517  02/01/2016      ALB  2979958.0         97.58\n",
       "4          50100150518  02/01/2016      ALB  2858676.0          4.70\n",
       "...                ...         ...      ...        ...           ...\n",
       "6714168  1340300014404  27/12/2016      RMA  2292927.0         59.45\n",
       "6714169  1340300014407  27/12/2016      RMA  3189844.0         26.90\n",
       "6714170  1340300014409  27/12/2016      RMA  3125998.0         22.15\n",
       "6714171  1340300014438  27/12/2016      RMA  3252348.0        118.01\n",
       "6714172  1340300014440  27/12/2016      RMA  3243933.0         44.80\n",
       "\n",
       "[6714173 rows x 5 columns]"
      ]
     },
     "execution_count": 64,
     "metadata": {},
     "output_type": "execute_result"
    }
   ],
   "source": [
    "data2"
   ]
  },
  {
   "cell_type": "markdown",
   "id": "6ed98f20",
   "metadata": {},
   "source": [
    "Cette ligne de code nous permet d'identifier le nombre d'occurence de chaque code magasin, pour identifier les éventuels regroupements à effectuer. "
   ]
  },
  {
   "cell_type": "code",
   "execution_count": 65,
   "id": "ff4544be",
   "metadata": {
    "ExecuteTime": {
     "end_time": "2024-05-30T08:31:25.613064Z",
     "start_time": "2024-05-30T08:31:25.551289Z"
    }
   },
   "outputs": [
    {
     "data": {
      "text/plain": [
       "MAG_CODE\n",
       "SSM    246506\n",
       "MOB    221283\n",
       "HEI    219713\n",
       "BEA    205468\n",
       "GEX    196669\n",
       "        ...  \n",
       "CLI     31063\n",
       "STR     26694\n",
       "SCH     25502\n",
       "BAR     18254\n",
       "SAL     18245\n",
       "Name: count, Length: 66, dtype: int64"
      ]
     },
     "execution_count": 65,
     "metadata": {},
     "output_type": "execute_result"
    }
   ],
   "source": [
    "#modalités variables:\n",
    "data2['MAG_CODE'].value_counts(dropna = False)"
   ]
  },
  {
   "cell_type": "markdown",
   "id": "481d522f",
   "metadata": {},
   "source": [
    "La ligne de code ci-dessous nous permet d'identifier la présence ou non de valeur(s) en doublons."
   ]
  },
  {
   "cell_type": "code",
   "execution_count": 66,
   "id": "5a7ccf1b",
   "metadata": {
    "ExecuteTime": {
     "end_time": "2024-05-30T08:31:34.695013Z",
     "start_time": "2024-05-30T08:31:27.322473Z"
    }
   },
   "outputs": [
    {
     "name": "stdout",
     "output_type": "stream",
     "text": [
      "0\n"
     ]
    }
   ],
   "source": [
    "print(data2.duplicated().sum())\n",
    "data2 = data2.drop_duplicates()"
   ]
  },
  {
   "cell_type": "markdown",
   "id": "02abdc47",
   "metadata": {},
   "source": [
    "La ligne de code ci-dessous nous permet d'identifier la présence ou non de valeur(s) manquante(s)"
   ]
  },
  {
   "cell_type": "code",
   "execution_count": 67,
   "id": "fbd5948c",
   "metadata": {
    "ExecuteTime": {
     "end_time": "2024-05-30T08:31:35.087791Z",
     "start_time": "2024-05-30T08:31:34.696629Z"
    }
   },
   "outputs": [
    {
     "data": {
      "text/html": [
       "<div>\n",
       "<style scoped>\n",
       "    .dataframe tbody tr th:only-of-type {\n",
       "        vertical-align: middle;\n",
       "    }\n",
       "\n",
       "    .dataframe tbody tr th {\n",
       "        vertical-align: top;\n",
       "    }\n",
       "\n",
       "    .dataframe thead th {\n",
       "        text-align: right;\n",
       "    }\n",
       "</style>\n",
       "<table border=\"1\" class=\"dataframe\">\n",
       "  <thead>\n",
       "    <tr style=\"text-align: right;\">\n",
       "      <th></th>\n",
       "      <th>%_missing_values</th>\n",
       "    </tr>\n",
       "  </thead>\n",
       "  <tbody>\n",
       "    <tr>\n",
       "      <th>IDTICKET</th>\n",
       "      <td>0.0</td>\n",
       "    </tr>\n",
       "    <tr>\n",
       "      <th>TIC_DATE</th>\n",
       "      <td>0.0</td>\n",
       "    </tr>\n",
       "    <tr>\n",
       "      <th>MAG_CODE</th>\n",
       "      <td>0.0</td>\n",
       "    </tr>\n",
       "    <tr>\n",
       "      <th>IDCLIENT</th>\n",
       "      <td>0.0</td>\n",
       "    </tr>\n",
       "    <tr>\n",
       "      <th>TIC_TOTALTTC</th>\n",
       "      <td>0.0</td>\n",
       "    </tr>\n",
       "  </tbody>\n",
       "</table>\n",
       "</div>"
      ],
      "text/plain": [
       "              %_missing_values\n",
       "IDTICKET                   0.0\n",
       "TIC_DATE                   0.0\n",
       "MAG_CODE                   0.0\n",
       "IDCLIENT                   0.0\n",
       "TIC_TOTALTTC               0.0"
      ]
     },
     "execution_count": 67,
     "metadata": {},
     "output_type": "execute_result"
    }
   ],
   "source": [
    "pd.DataFrame(index=data2.columns, columns=['%_missing_values'], data= (data2.isna().sum().values / len(data2)*100))"
   ]
  },
  {
   "cell_type": "markdown",
   "id": "5edd09c5",
   "metadata": {},
   "source": [
    "CALCUL DU NOMBRES DE MAGASINS (Mag Code) FREQUENTE PAR UN CLIENT (ID Client)."
   ]
  },
  {
   "cell_type": "code",
   "execution_count": 68,
   "id": "82ec4400",
   "metadata": {
    "ExecuteTime": {
     "end_time": "2024-05-30T08:31:36.353370Z",
     "start_time": "2024-05-30T08:31:35.890070Z"
    }
   },
   "outputs": [],
   "source": [
    "data2['IDCLIENT'] = data2['IDCLIENT'].astype(float)"
   ]
  },
  {
   "cell_type": "code",
   "execution_count": 69,
   "id": "647517d0",
   "metadata": {
    "ExecuteTime": {
     "end_time": "2024-05-30T08:31:38.424776Z",
     "start_time": "2024-05-30T08:31:38.390761Z"
    }
   },
   "outputs": [],
   "source": [
    "data2['IDCLIENT'] = data2['IDCLIENT'].astype(int)"
   ]
  },
  {
   "cell_type": "code",
   "execution_count": 70,
   "id": "e79ee648",
   "metadata": {
    "ExecuteTime": {
     "end_time": "2024-05-30T08:31:39.026008Z",
     "start_time": "2024-05-30T08:31:39.010949Z"
    }
   },
   "outputs": [
    {
     "name": "stdout",
     "output_type": "stream",
     "text": [
      "<class 'pandas.core.frame.DataFrame'>\n",
      "RangeIndex: 6714173 entries, 0 to 6714172\n",
      "Data columns (total 5 columns):\n",
      " #   Column        Dtype  \n",
      "---  ------        -----  \n",
      " 0   IDTICKET      object \n",
      " 1   TIC_DATE      object \n",
      " 2   MAG_CODE      object \n",
      " 3   IDCLIENT      int64  \n",
      " 4   TIC_TOTALTTC  float64\n",
      "dtypes: float64(1), int64(1), object(3)\n",
      "memory usage: 256.1+ MB\n"
     ]
    }
   ],
   "source": [
    "data2.info()"
   ]
  },
  {
   "cell_type": "code",
   "execution_count": 71,
   "id": "1a411cb8e406fcf6",
   "metadata": {
    "ExecuteTime": {
     "end_time": "2024-05-30T08:31:40.697007Z",
     "start_time": "2024-05-30T08:31:39.775492Z"
    }
   },
   "outputs": [
    {
     "name": "stdout",
     "output_type": "stream",
     "text": [
      "      IDTICKET    TIC_DATE MAG_CODE  IDCLIENT  TIC_TOTALTTC  FREQUENCE_MAG\n",
      "0  50100150510  02/01/2016      ALB   2995104         12.90             35\n",
      "1  50100150511  02/01/2016      ALB   1411117        131.06              4\n",
      "2  50100150515  02/01/2016      ALB    222592         34.69             21\n",
      "3  50100150517  02/01/2016      ALB   2979958         97.58             28\n",
      "4  50100150518  02/01/2016      ALB   2858676          4.70             11\n"
     ]
    }
   ],
   "source": [
    "\n",
    "# Calcul de la fréquence et du total des achats par magasin et par client\n",
    "data2['FREQUENCE_MAG'] = data2.groupby(['MAG_CODE', 'IDCLIENT'])['IDTICKET'].transform('count')\n",
    "\n",
    "# Afficher le résultat\n",
    "print(data2.head())"
   ]
  },
  {
   "cell_type": "code",
   "execution_count": 72,
   "id": "1b85c6b8ca682ec1",
   "metadata": {
    "ExecuteTime": {
     "end_time": "2024-05-30T08:31:41.715392Z",
     "start_time": "2024-05-30T08:31:41.708158Z"
    }
   },
   "outputs": [
    {
     "data": {
      "text/html": [
       "<div>\n",
       "<style scoped>\n",
       "    .dataframe tbody tr th:only-of-type {\n",
       "        vertical-align: middle;\n",
       "    }\n",
       "\n",
       "    .dataframe tbody tr th {\n",
       "        vertical-align: top;\n",
       "    }\n",
       "\n",
       "    .dataframe thead th {\n",
       "        text-align: right;\n",
       "    }\n",
       "</style>\n",
       "<table border=\"1\" class=\"dataframe\">\n",
       "  <thead>\n",
       "    <tr style=\"text-align: right;\">\n",
       "      <th></th>\n",
       "      <th>IDTICKET</th>\n",
       "      <th>TIC_DATE</th>\n",
       "      <th>MAG_CODE</th>\n",
       "      <th>IDCLIENT</th>\n",
       "      <th>TIC_TOTALTTC</th>\n",
       "      <th>FREQUENCE_MAG</th>\n",
       "    </tr>\n",
       "  </thead>\n",
       "  <tbody>\n",
       "    <tr>\n",
       "      <th>0</th>\n",
       "      <td>50100150510</td>\n",
       "      <td>02/01/2016</td>\n",
       "      <td>ALB</td>\n",
       "      <td>2995104</td>\n",
       "      <td>12.90</td>\n",
       "      <td>35</td>\n",
       "    </tr>\n",
       "    <tr>\n",
       "      <th>1</th>\n",
       "      <td>50100150511</td>\n",
       "      <td>02/01/2016</td>\n",
       "      <td>ALB</td>\n",
       "      <td>1411117</td>\n",
       "      <td>131.06</td>\n",
       "      <td>4</td>\n",
       "    </tr>\n",
       "    <tr>\n",
       "      <th>2</th>\n",
       "      <td>50100150515</td>\n",
       "      <td>02/01/2016</td>\n",
       "      <td>ALB</td>\n",
       "      <td>222592</td>\n",
       "      <td>34.69</td>\n",
       "      <td>21</td>\n",
       "    </tr>\n",
       "    <tr>\n",
       "      <th>3</th>\n",
       "      <td>50100150517</td>\n",
       "      <td>02/01/2016</td>\n",
       "      <td>ALB</td>\n",
       "      <td>2979958</td>\n",
       "      <td>97.58</td>\n",
       "      <td>28</td>\n",
       "    </tr>\n",
       "    <tr>\n",
       "      <th>4</th>\n",
       "      <td>50100150518</td>\n",
       "      <td>02/01/2016</td>\n",
       "      <td>ALB</td>\n",
       "      <td>2858676</td>\n",
       "      <td>4.70</td>\n",
       "      <td>11</td>\n",
       "    </tr>\n",
       "    <tr>\n",
       "      <th>...</th>\n",
       "      <td>...</td>\n",
       "      <td>...</td>\n",
       "      <td>...</td>\n",
       "      <td>...</td>\n",
       "      <td>...</td>\n",
       "      <td>...</td>\n",
       "    </tr>\n",
       "    <tr>\n",
       "      <th>6714168</th>\n",
       "      <td>1340300014404</td>\n",
       "      <td>27/12/2016</td>\n",
       "      <td>RMA</td>\n",
       "      <td>2292927</td>\n",
       "      <td>59.45</td>\n",
       "      <td>5</td>\n",
       "    </tr>\n",
       "    <tr>\n",
       "      <th>6714169</th>\n",
       "      <td>1340300014407</td>\n",
       "      <td>27/12/2016</td>\n",
       "      <td>RMA</td>\n",
       "      <td>3189844</td>\n",
       "      <td>26.90</td>\n",
       "      <td>78</td>\n",
       "    </tr>\n",
       "    <tr>\n",
       "      <th>6714170</th>\n",
       "      <td>1340300014409</td>\n",
       "      <td>27/12/2016</td>\n",
       "      <td>RMA</td>\n",
       "      <td>3125998</td>\n",
       "      <td>22.15</td>\n",
       "      <td>31</td>\n",
       "    </tr>\n",
       "    <tr>\n",
       "      <th>6714171</th>\n",
       "      <td>1340300014438</td>\n",
       "      <td>27/12/2016</td>\n",
       "      <td>RMA</td>\n",
       "      <td>3252348</td>\n",
       "      <td>118.01</td>\n",
       "      <td>12</td>\n",
       "    </tr>\n",
       "    <tr>\n",
       "      <th>6714172</th>\n",
       "      <td>1340300014440</td>\n",
       "      <td>27/12/2016</td>\n",
       "      <td>RMA</td>\n",
       "      <td>3243933</td>\n",
       "      <td>44.80</td>\n",
       "      <td>4</td>\n",
       "    </tr>\n",
       "  </tbody>\n",
       "</table>\n",
       "<p>6714173 rows × 6 columns</p>\n",
       "</div>"
      ],
      "text/plain": [
       "              IDTICKET    TIC_DATE MAG_CODE  IDCLIENT  TIC_TOTALTTC  \\\n",
       "0          50100150510  02/01/2016      ALB   2995104         12.90   \n",
       "1          50100150511  02/01/2016      ALB   1411117        131.06   \n",
       "2          50100150515  02/01/2016      ALB    222592         34.69   \n",
       "3          50100150517  02/01/2016      ALB   2979958         97.58   \n",
       "4          50100150518  02/01/2016      ALB   2858676          4.70   \n",
       "...                ...         ...      ...       ...           ...   \n",
       "6714168  1340300014404  27/12/2016      RMA   2292927         59.45   \n",
       "6714169  1340300014407  27/12/2016      RMA   3189844         26.90   \n",
       "6714170  1340300014409  27/12/2016      RMA   3125998         22.15   \n",
       "6714171  1340300014438  27/12/2016      RMA   3252348        118.01   \n",
       "6714172  1340300014440  27/12/2016      RMA   3243933         44.80   \n",
       "\n",
       "         FREQUENCE_MAG  \n",
       "0                   35  \n",
       "1                    4  \n",
       "2                   21  \n",
       "3                   28  \n",
       "4                   11  \n",
       "...                ...  \n",
       "6714168              5  \n",
       "6714169             78  \n",
       "6714170             31  \n",
       "6714171             12  \n",
       "6714172              4  \n",
       "\n",
       "[6714173 rows x 6 columns]"
      ]
     },
     "execution_count": 72,
     "metadata": {},
     "output_type": "execute_result"
    }
   ],
   "source": [
    "data2"
   ]
  },
  {
   "cell_type": "code",
   "execution_count": 73,
   "id": "b8ced9b6af206f94",
   "metadata": {
    "ExecuteTime": {
     "end_time": "2024-05-30T08:31:42.462880Z",
     "start_time": "2024-05-30T08:31:42.438534Z"
    }
   },
   "outputs": [
    {
     "data": {
      "text/plain": [
       "FREQUENCE_MAG\n",
       "2      276456\n",
       "3      273510\n",
       "4      268312\n",
       "5      258610\n",
       "1      254447\n",
       "        ...  \n",
       "195       195\n",
       "190       190\n",
       "181       181\n",
       "180       180\n",
       "164       164\n",
       "Name: count, Length: 253, dtype: int64"
      ]
     },
     "execution_count": 73,
     "metadata": {},
     "output_type": "execute_result"
    }
   ],
   "source": [
    "data2['FREQUENCE_MAG'].value_counts()"
   ]
  },
  {
   "cell_type": "code",
   "execution_count": 88,
   "id": "3685d787d63937f3",
   "metadata": {
    "ExecuteTime": {
     "end_time": "2024-05-30T08:40:52.047536Z",
     "start_time": "2024-05-30T08:40:08.295821Z"
    }
   },
   "outputs": [],
   "source": [
    "data_merged=data3.merge(data2, how='right',left_on='IDTICKET', right_on='IDTICKET')"
   ]
  },
  {
   "cell_type": "code",
   "execution_count": 75,
   "id": "cdcc6036f2f37ef2",
   "metadata": {
    "ExecuteTime": {
     "end_time": "2024-05-30T08:32:21.860636Z",
     "start_time": "2024-05-30T08:32:21.846439Z"
    }
   },
   "outputs": [
    {
     "data": {
      "text/html": [
       "<div>\n",
       "<style scoped>\n",
       "    .dataframe tbody tr th:only-of-type {\n",
       "        vertical-align: middle;\n",
       "    }\n",
       "\n",
       "    .dataframe tbody tr th {\n",
       "        vertical-align: top;\n",
       "    }\n",
       "\n",
       "    .dataframe thead th {\n",
       "        text-align: right;\n",
       "    }\n",
       "</style>\n",
       "<table border=\"1\" class=\"dataframe\">\n",
       "  <thead>\n",
       "    <tr style=\"text-align: right;\">\n",
       "      <th></th>\n",
       "      <th>IDTICKET</th>\n",
       "      <th>NUMLIGNETICKET</th>\n",
       "      <th>IDARTICLE</th>\n",
       "      <th>QUANTITE</th>\n",
       "      <th>MONTANTREMISE</th>\n",
       "      <th>TOTAL</th>\n",
       "      <th>MARGESORTIE</th>\n",
       "      <th>TIC_DATE</th>\n",
       "      <th>MAG_CODE</th>\n",
       "      <th>IDCLIENT</th>\n",
       "      <th>TIC_TOTALTTC</th>\n",
       "      <th>FREQUENCE_MAG</th>\n",
       "    </tr>\n",
       "  </thead>\n",
       "  <tbody>\n",
       "    <tr>\n",
       "      <th>0</th>\n",
       "      <td>50100150510</td>\n",
       "      <td>1</td>\n",
       "      <td>224168</td>\n",
       "      <td>1.0</td>\n",
       "      <td>0.000</td>\n",
       "      <td>10.75</td>\n",
       "      <td>6.46</td>\n",
       "      <td>02/01/2016</td>\n",
       "      <td>ALB</td>\n",
       "      <td>2995104</td>\n",
       "      <td>12.90</td>\n",
       "      <td>35</td>\n",
       "    </tr>\n",
       "    <tr>\n",
       "      <th>1</th>\n",
       "      <td>50100150511</td>\n",
       "      <td>6</td>\n",
       "      <td>932088</td>\n",
       "      <td>1.0</td>\n",
       "      <td>0.000</td>\n",
       "      <td>6.25</td>\n",
       "      <td>6.25</td>\n",
       "      <td>02/01/2016</td>\n",
       "      <td>ALB</td>\n",
       "      <td>1411117</td>\n",
       "      <td>131.06</td>\n",
       "      <td>4</td>\n",
       "    </tr>\n",
       "    <tr>\n",
       "      <th>2</th>\n",
       "      <td>50100150511</td>\n",
       "      <td>2</td>\n",
       "      <td>397817</td>\n",
       "      <td>1.0</td>\n",
       "      <td>0.625</td>\n",
       "      <td>5.62</td>\n",
       "      <td>2.54</td>\n",
       "      <td>02/01/2016</td>\n",
       "      <td>ALB</td>\n",
       "      <td>1411117</td>\n",
       "      <td>131.06</td>\n",
       "      <td>4</td>\n",
       "    </tr>\n",
       "    <tr>\n",
       "      <th>3</th>\n",
       "      <td>50100150511</td>\n",
       "      <td>5</td>\n",
       "      <td>758445</td>\n",
       "      <td>1.0</td>\n",
       "      <td>3.158</td>\n",
       "      <td>28.42</td>\n",
       "      <td>14.28</td>\n",
       "      <td>02/01/2016</td>\n",
       "      <td>ALB</td>\n",
       "      <td>1411117</td>\n",
       "      <td>131.06</td>\n",
       "      <td>4</td>\n",
       "    </tr>\n",
       "    <tr>\n",
       "      <th>4</th>\n",
       "      <td>50100150511</td>\n",
       "      <td>3</td>\n",
       "      <td>428877</td>\n",
       "      <td>1.0</td>\n",
       "      <td>0.333</td>\n",
       "      <td>2.96</td>\n",
       "      <td>0.94</td>\n",
       "      <td>02/01/2016</td>\n",
       "      <td>ALB</td>\n",
       "      <td>1411117</td>\n",
       "      <td>131.06</td>\n",
       "      <td>4</td>\n",
       "    </tr>\n",
       "    <tr>\n",
       "      <th>...</th>\n",
       "      <td>...</td>\n",
       "      <td>...</td>\n",
       "      <td>...</td>\n",
       "      <td>...</td>\n",
       "      <td>...</td>\n",
       "      <td>...</td>\n",
       "      <td>...</td>\n",
       "      <td>...</td>\n",
       "      <td>...</td>\n",
       "      <td>...</td>\n",
       "      <td>...</td>\n",
       "      <td>...</td>\n",
       "    </tr>\n",
       "    <tr>\n",
       "      <th>34105921</th>\n",
       "      <td>1340300014438</td>\n",
       "      <td>4</td>\n",
       "      <td>279749</td>\n",
       "      <td>1.0</td>\n",
       "      <td>0.750</td>\n",
       "      <td>6.71</td>\n",
       "      <td>3.08</td>\n",
       "      <td>27/12/2016</td>\n",
       "      <td>RMA</td>\n",
       "      <td>3252348</td>\n",
       "      <td>118.01</td>\n",
       "      <td>12</td>\n",
       "    </tr>\n",
       "    <tr>\n",
       "      <th>34105922</th>\n",
       "      <td>1340300014438</td>\n",
       "      <td>10</td>\n",
       "      <td>287843</td>\n",
       "      <td>4.0</td>\n",
       "      <td>10.950</td>\n",
       "      <td>25.55</td>\n",
       "      <td>10.63</td>\n",
       "      <td>27/12/2016</td>\n",
       "      <td>RMA</td>\n",
       "      <td>3252348</td>\n",
       "      <td>118.01</td>\n",
       "      <td>12</td>\n",
       "    </tr>\n",
       "    <tr>\n",
       "      <th>34105923</th>\n",
       "      <td>1340300014440</td>\n",
       "      <td>2</td>\n",
       "      <td>363834</td>\n",
       "      <td>1.0</td>\n",
       "      <td>0.000</td>\n",
       "      <td>19.95</td>\n",
       "      <td>10.40</td>\n",
       "      <td>27/12/2016</td>\n",
       "      <td>RMA</td>\n",
       "      <td>3243933</td>\n",
       "      <td>44.80</td>\n",
       "      <td>4</td>\n",
       "    </tr>\n",
       "    <tr>\n",
       "      <th>34105924</th>\n",
       "      <td>1340300014440</td>\n",
       "      <td>3</td>\n",
       "      <td>632190</td>\n",
       "      <td>1.0</td>\n",
       "      <td>0.000</td>\n",
       "      <td>19.95</td>\n",
       "      <td>10.49</td>\n",
       "      <td>27/12/2016</td>\n",
       "      <td>RMA</td>\n",
       "      <td>3243933</td>\n",
       "      <td>44.80</td>\n",
       "      <td>4</td>\n",
       "    </tr>\n",
       "    <tr>\n",
       "      <th>34105925</th>\n",
       "      <td>1340300014440</td>\n",
       "      <td>1</td>\n",
       "      <td>254879</td>\n",
       "      <td>1.0</td>\n",
       "      <td>0.000</td>\n",
       "      <td>0.75</td>\n",
       "      <td>0.10</td>\n",
       "      <td>27/12/2016</td>\n",
       "      <td>RMA</td>\n",
       "      <td>3243933</td>\n",
       "      <td>44.80</td>\n",
       "      <td>4</td>\n",
       "    </tr>\n",
       "  </tbody>\n",
       "</table>\n",
       "<p>34105926 rows × 12 columns</p>\n",
       "</div>"
      ],
      "text/plain": [
       "               IDTICKET NUMLIGNETICKET IDARTICLE  QUANTITE  MONTANTREMISE  \\\n",
       "0           50100150510              1    224168       1.0          0.000   \n",
       "1           50100150511              6    932088       1.0          0.000   \n",
       "2           50100150511              2    397817       1.0          0.625   \n",
       "3           50100150511              5    758445       1.0          3.158   \n",
       "4           50100150511              3    428877       1.0          0.333   \n",
       "...                 ...            ...       ...       ...            ...   \n",
       "34105921  1340300014438              4    279749       1.0          0.750   \n",
       "34105922  1340300014438             10    287843       4.0         10.950   \n",
       "34105923  1340300014440              2    363834       1.0          0.000   \n",
       "34105924  1340300014440              3    632190       1.0          0.000   \n",
       "34105925  1340300014440              1    254879       1.0          0.000   \n",
       "\n",
       "          TOTAL  MARGESORTIE    TIC_DATE MAG_CODE  IDCLIENT  TIC_TOTALTTC  \\\n",
       "0         10.75         6.46  02/01/2016      ALB   2995104         12.90   \n",
       "1          6.25         6.25  02/01/2016      ALB   1411117        131.06   \n",
       "2          5.62         2.54  02/01/2016      ALB   1411117        131.06   \n",
       "3         28.42        14.28  02/01/2016      ALB   1411117        131.06   \n",
       "4          2.96         0.94  02/01/2016      ALB   1411117        131.06   \n",
       "...         ...          ...         ...      ...       ...           ...   \n",
       "34105921   6.71         3.08  27/12/2016      RMA   3252348        118.01   \n",
       "34105922  25.55        10.63  27/12/2016      RMA   3252348        118.01   \n",
       "34105923  19.95        10.40  27/12/2016      RMA   3243933         44.80   \n",
       "34105924  19.95        10.49  27/12/2016      RMA   3243933         44.80   \n",
       "34105925   0.75         0.10  27/12/2016      RMA   3243933         44.80   \n",
       "\n",
       "          FREQUENCE_MAG  \n",
       "0                    35  \n",
       "1                     4  \n",
       "2                     4  \n",
       "3                     4  \n",
       "4                     4  \n",
       "...                 ...  \n",
       "34105921             12  \n",
       "34105922             12  \n",
       "34105923              4  \n",
       "34105924              4  \n",
       "34105925              4  \n",
       "\n",
       "[34105926 rows x 12 columns]"
      ]
     },
     "execution_count": 75,
     "metadata": {},
     "output_type": "execute_result"
    }
   ],
   "source": [
    "data_merged"
   ]
  },
  {
   "cell_type": "code",
   "execution_count": 76,
   "id": "33342525debba1bc",
   "metadata": {
    "ExecuteTime": {
     "end_time": "2024-05-30T08:32:28.913697Z",
     "start_time": "2024-05-30T08:32:28.906276Z"
    }
   },
   "outputs": [
    {
     "name": "stdout",
     "output_type": "stream",
     "text": [
      "<class 'pandas.core.frame.DataFrame'>\n",
      "RangeIndex: 34105926 entries, 0 to 34105925\n",
      "Data columns (total 12 columns):\n",
      " #   Column          Dtype  \n",
      "---  ------          -----  \n",
      " 0   IDTICKET        object \n",
      " 1   NUMLIGNETICKET  object \n",
      " 2   IDARTICLE       object \n",
      " 3   QUANTITE        float64\n",
      " 4   MONTANTREMISE   float64\n",
      " 5   TOTAL           float64\n",
      " 6   MARGESORTIE     float64\n",
      " 7   TIC_DATE        object \n",
      " 8   MAG_CODE        object \n",
      " 9   IDCLIENT        int64  \n",
      " 10  TIC_TOTALTTC    float64\n",
      " 11  FREQUENCE_MAG   int64  \n",
      "dtypes: float64(5), int64(2), object(5)\n",
      "memory usage: 3.0+ GB\n"
     ]
    }
   ],
   "source": [
    "data_merged.info()"
   ]
  },
  {
   "cell_type": "code",
   "execution_count": 77,
   "id": "aeec65230a7a0cd6",
   "metadata": {
    "ExecuteTime": {
     "end_time": "2024-05-30T08:33:00.220273Z",
     "start_time": "2024-05-30T08:32:34.103189Z"
    }
   },
   "outputs": [],
   "source": [
    "# Calcul de la variété du panier par client\n",
    "VARIETE_PANIER = data_merged.groupby('IDCLIENT')['IDARTICLE'].nunique().reset_index()\n",
    "VARIETE_PANIER.columns = ['IDCLIENT', 'VARIETE_PANIER']\n",
    "\n",
    "# Fusionner la variable de variété du panier avec le DataFrame original\n",
    "data_merged = data_merged.merge(VARIETE_PANIER, on='IDCLIENT', how='right')"
   ]
  },
  {
   "cell_type": "code",
   "execution_count": 78,
   "id": "90cad6f02a249717",
   "metadata": {
    "ExecuteTime": {
     "end_time": "2024-05-30T08:33:02.118381Z",
     "start_time": "2024-05-30T08:33:02.100061Z"
    }
   },
   "outputs": [
    {
     "data": {
      "text/html": [
       "<div>\n",
       "<style scoped>\n",
       "    .dataframe tbody tr th:only-of-type {\n",
       "        vertical-align: middle;\n",
       "    }\n",
       "\n",
       "    .dataframe tbody tr th {\n",
       "        vertical-align: top;\n",
       "    }\n",
       "\n",
       "    .dataframe thead th {\n",
       "        text-align: right;\n",
       "    }\n",
       "</style>\n",
       "<table border=\"1\" class=\"dataframe\">\n",
       "  <thead>\n",
       "    <tr style=\"text-align: right;\">\n",
       "      <th></th>\n",
       "      <th>IDTICKET</th>\n",
       "      <th>NUMLIGNETICKET</th>\n",
       "      <th>IDARTICLE</th>\n",
       "      <th>QUANTITE</th>\n",
       "      <th>MONTANTREMISE</th>\n",
       "      <th>TOTAL</th>\n",
       "      <th>MARGESORTIE</th>\n",
       "      <th>TIC_DATE</th>\n",
       "      <th>MAG_CODE</th>\n",
       "      <th>IDCLIENT</th>\n",
       "      <th>TIC_TOTALTTC</th>\n",
       "      <th>FREQUENCE_MAG</th>\n",
       "      <th>VARIETE_PANIER</th>\n",
       "    </tr>\n",
       "  </thead>\n",
       "  <tbody>\n",
       "    <tr>\n",
       "      <th>0</th>\n",
       "      <td>200200135291</td>\n",
       "      <td>3</td>\n",
       "      <td>33258</td>\n",
       "      <td>1.0</td>\n",
       "      <td>0.000</td>\n",
       "      <td>0.91</td>\n",
       "      <td>0.54</td>\n",
       "      <td>05/02/2016</td>\n",
       "      <td>IAB</td>\n",
       "      <td>2108</td>\n",
       "      <td>7.57</td>\n",
       "      <td>2</td>\n",
       "      <td>7</td>\n",
       "    </tr>\n",
       "    <tr>\n",
       "      <th>1</th>\n",
       "      <td>200200135291</td>\n",
       "      <td>2</td>\n",
       "      <td>33247</td>\n",
       "      <td>1.0</td>\n",
       "      <td>0.000</td>\n",
       "      <td>1.24</td>\n",
       "      <td>0.72</td>\n",
       "      <td>05/02/2016</td>\n",
       "      <td>IAB</td>\n",
       "      <td>2108</td>\n",
       "      <td>7.57</td>\n",
       "      <td>2</td>\n",
       "      <td>7</td>\n",
       "    </tr>\n",
       "    <tr>\n",
       "      <th>2</th>\n",
       "      <td>200200135291</td>\n",
       "      <td>1</td>\n",
       "      <td>227040</td>\n",
       "      <td>1.0</td>\n",
       "      <td>1.782</td>\n",
       "      <td>4.54</td>\n",
       "      <td>1.56</td>\n",
       "      <td>05/02/2016</td>\n",
       "      <td>IAB</td>\n",
       "      <td>2108</td>\n",
       "      <td>7.57</td>\n",
       "      <td>2</td>\n",
       "      <td>7</td>\n",
       "    </tr>\n",
       "    <tr>\n",
       "      <th>3</th>\n",
       "      <td>200500180521</td>\n",
       "      <td>1</td>\n",
       "      <td>312922</td>\n",
       "      <td>1.0</td>\n",
       "      <td>0.545</td>\n",
       "      <td>4.86</td>\n",
       "      <td>2.71</td>\n",
       "      <td>08/05/2016</td>\n",
       "      <td>IAB</td>\n",
       "      <td>2108</td>\n",
       "      <td>20.58</td>\n",
       "      <td>2</td>\n",
       "      <td>7</td>\n",
       "    </tr>\n",
       "    <tr>\n",
       "      <th>4</th>\n",
       "      <td>200500180521</td>\n",
       "      <td>4</td>\n",
       "      <td>932088</td>\n",
       "      <td>1.0</td>\n",
       "      <td>0.000</td>\n",
       "      <td>6.25</td>\n",
       "      <td>6.25</td>\n",
       "      <td>08/05/2016</td>\n",
       "      <td>IAB</td>\n",
       "      <td>2108</td>\n",
       "      <td>20.58</td>\n",
       "      <td>2</td>\n",
       "      <td>7</td>\n",
       "    </tr>\n",
       "    <tr>\n",
       "      <th>...</th>\n",
       "      <td>...</td>\n",
       "      <td>...</td>\n",
       "      <td>...</td>\n",
       "      <td>...</td>\n",
       "      <td>...</td>\n",
       "      <td>...</td>\n",
       "      <td>...</td>\n",
       "      <td>...</td>\n",
       "      <td>...</td>\n",
       "      <td>...</td>\n",
       "      <td>...</td>\n",
       "      <td>...</td>\n",
       "      <td>...</td>\n",
       "    </tr>\n",
       "    <tr>\n",
       "      <th>34105921</th>\n",
       "      <td>770100547217</td>\n",
       "      <td>6</td>\n",
       "      <td>217360</td>\n",
       "      <td>1.0</td>\n",
       "      <td>0.227</td>\n",
       "      <td>2.09</td>\n",
       "      <td>0.32</td>\n",
       "      <td>31/12/2017</td>\n",
       "      <td>PEG</td>\n",
       "      <td>3517102</td>\n",
       "      <td>55.67</td>\n",
       "      <td>1</td>\n",
       "      <td>10</td>\n",
       "    </tr>\n",
       "    <tr>\n",
       "      <th>34105922</th>\n",
       "      <td>770100547217</td>\n",
       "      <td>7</td>\n",
       "      <td>33257</td>\n",
       "      <td>1.0</td>\n",
       "      <td>0.075</td>\n",
       "      <td>0.67</td>\n",
       "      <td>0.39</td>\n",
       "      <td>31/12/2017</td>\n",
       "      <td>PEG</td>\n",
       "      <td>3517102</td>\n",
       "      <td>55.67</td>\n",
       "      <td>1</td>\n",
       "      <td>10</td>\n",
       "    </tr>\n",
       "    <tr>\n",
       "      <th>34105923</th>\n",
       "      <td>770100547217</td>\n",
       "      <td>8</td>\n",
       "      <td>33247</td>\n",
       "      <td>1.0</td>\n",
       "      <td>0.133</td>\n",
       "      <td>1.16</td>\n",
       "      <td>0.64</td>\n",
       "      <td>31/12/2017</td>\n",
       "      <td>PEG</td>\n",
       "      <td>3517102</td>\n",
       "      <td>55.67</td>\n",
       "      <td>1</td>\n",
       "      <td>10</td>\n",
       "    </tr>\n",
       "    <tr>\n",
       "      <th>34105924</th>\n",
       "      <td>770100547217</td>\n",
       "      <td>9</td>\n",
       "      <td>58830</td>\n",
       "      <td>1.0</td>\n",
       "      <td>0.275</td>\n",
       "      <td>2.47</td>\n",
       "      <td>0.85</td>\n",
       "      <td>31/12/2017</td>\n",
       "      <td>PEG</td>\n",
       "      <td>3517102</td>\n",
       "      <td>55.67</td>\n",
       "      <td>1</td>\n",
       "      <td>10</td>\n",
       "    </tr>\n",
       "    <tr>\n",
       "      <th>34105925</th>\n",
       "      <td>770100547217</td>\n",
       "      <td>10</td>\n",
       "      <td>932088</td>\n",
       "      <td>1.0</td>\n",
       "      <td>0.000</td>\n",
       "      <td>6.25</td>\n",
       "      <td>6.25</td>\n",
       "      <td>31/12/2017</td>\n",
       "      <td>PEG</td>\n",
       "      <td>3517102</td>\n",
       "      <td>55.67</td>\n",
       "      <td>1</td>\n",
       "      <td>10</td>\n",
       "    </tr>\n",
       "  </tbody>\n",
       "</table>\n",
       "<p>34105926 rows × 13 columns</p>\n",
       "</div>"
      ],
      "text/plain": [
       "              IDTICKET NUMLIGNETICKET IDARTICLE  QUANTITE  MONTANTREMISE  \\\n",
       "0         200200135291              3     33258       1.0          0.000   \n",
       "1         200200135291              2     33247       1.0          0.000   \n",
       "2         200200135291              1    227040       1.0          1.782   \n",
       "3         200500180521              1    312922       1.0          0.545   \n",
       "4         200500180521              4    932088       1.0          0.000   \n",
       "...                ...            ...       ...       ...            ...   \n",
       "34105921  770100547217              6    217360       1.0          0.227   \n",
       "34105922  770100547217              7     33257       1.0          0.075   \n",
       "34105923  770100547217              8     33247       1.0          0.133   \n",
       "34105924  770100547217              9     58830       1.0          0.275   \n",
       "34105925  770100547217             10    932088       1.0          0.000   \n",
       "\n",
       "          TOTAL  MARGESORTIE    TIC_DATE MAG_CODE  IDCLIENT  TIC_TOTALTTC  \\\n",
       "0          0.91         0.54  05/02/2016      IAB      2108          7.57   \n",
       "1          1.24         0.72  05/02/2016      IAB      2108          7.57   \n",
       "2          4.54         1.56  05/02/2016      IAB      2108          7.57   \n",
       "3          4.86         2.71  08/05/2016      IAB      2108         20.58   \n",
       "4          6.25         6.25  08/05/2016      IAB      2108         20.58   \n",
       "...         ...          ...         ...      ...       ...           ...   \n",
       "34105921   2.09         0.32  31/12/2017      PEG   3517102         55.67   \n",
       "34105922   0.67         0.39  31/12/2017      PEG   3517102         55.67   \n",
       "34105923   1.16         0.64  31/12/2017      PEG   3517102         55.67   \n",
       "34105924   2.47         0.85  31/12/2017      PEG   3517102         55.67   \n",
       "34105925   6.25         6.25  31/12/2017      PEG   3517102         55.67   \n",
       "\n",
       "          FREQUENCE_MAG  VARIETE_PANIER  \n",
       "0                     2               7  \n",
       "1                     2               7  \n",
       "2                     2               7  \n",
       "3                     2               7  \n",
       "4                     2               7  \n",
       "...                 ...             ...  \n",
       "34105921              1              10  \n",
       "34105922              1              10  \n",
       "34105923              1              10  \n",
       "34105924              1              10  \n",
       "34105925              1              10  \n",
       "\n",
       "[34105926 rows x 13 columns]"
      ]
     },
     "execution_count": 78,
     "metadata": {},
     "output_type": "execute_result"
    }
   ],
   "source": [
    "data_merged"
   ]
  },
  {
   "cell_type": "code",
   "execution_count": 79,
   "id": "e8ec95482d4a48d8",
   "metadata": {
    "ExecuteTime": {
     "end_time": "2024-05-30T08:33:07.428961Z",
     "start_time": "2024-05-30T08:33:07.320309Z"
    }
   },
   "outputs": [
    {
     "data": {
      "text/plain": [
       "VARIETE_PANIER\n",
       "27     291932\n",
       "22     291685\n",
       "20     291132\n",
       "24     290634\n",
       "23     290262\n",
       "        ...  \n",
       "588       823\n",
       "612       761\n",
       "601       688\n",
       "471       673\n",
       "537       661\n",
       "Name: count, Length: 732, dtype: int64"
      ]
     },
     "execution_count": 79,
     "metadata": {},
     "output_type": "execute_result"
    }
   ],
   "source": [
    "data_merged['VARIETE_PANIER'].value_counts()"
   ]
  },
  {
   "cell_type": "code",
   "execution_count": 80,
   "id": "73e26a7f5ca7ed46",
   "metadata": {
    "ExecuteTime": {
     "end_time": "2024-05-30T08:33:10.392701Z",
     "start_time": "2024-05-30T08:33:10.368468Z"
    }
   },
   "outputs": [],
   "source": [
    "VARIETE_PANIER = VARIETE_PANIER.astype(int)"
   ]
  },
  {
   "cell_type": "code",
   "execution_count": 84,
   "id": "429eb5ad711656a9",
   "metadata": {
    "ExecuteTime": {
     "end_time": "2024-05-30T08:34:12.103511Z",
     "start_time": "2024-05-30T08:34:04.974346Z"
    }
   },
   "outputs": [],
   "source": [
    "# Calculer le montant total de remises par client\n",
    "TOTAL_REMISE_CLIENT = data_merged.groupby('IDCLIENT')['MONTANTREMISE'].sum()\n",
    "\n",
    "# Calculer le montant total dépensé par chaque client\n",
    "TOTAL_DEPENSES = data_merged.groupby('IDCLIENT')['TOTAL'].sum()\n",
    "\n",
    "# Calculer le taux de remise pour chaque client\n",
    "TAUX_REMISE = TOTAL_REMISE_CLIENT / TOTAL_DEPENSES\n",
    "# Nommer la série de taux de remise\n",
    "TAUX_REMISE.name = 'TAUX_REMISE'\n",
    "\n",
    "# Fusionner la variable de taux de remise avec le DataFrame original\n",
    "data_merged = data_merged.merge(TAUX_REMISE, on='IDCLIENT', how='left')"
   ]
  },
  {
   "cell_type": "code",
   "execution_count": 85,
   "id": "cc4c446be5a6720f",
   "metadata": {
    "ExecuteTime": {
     "end_time": "2024-05-30T08:34:13.642126Z",
     "start_time": "2024-05-30T08:34:13.304158Z"
    }
   },
   "outputs": [
    {
     "data": {
      "text/plain": [
       "TAUX_REMISE\n",
       "0.000000    323683\n",
       "0.013617      5570\n",
       "0.255264      4729\n",
       "0.023054      4229\n",
       "0.013317      4209\n",
       "             ...  \n",
       "0.250304         1\n",
       "0.176282         1\n",
       "0.333811         1\n",
       "0.530626         1\n",
       "0.250030         1\n",
       "Name: count, Length: 706980, dtype: int64"
      ]
     },
     "execution_count": 85,
     "metadata": {},
     "output_type": "execute_result"
    }
   ],
   "source": [
    "data_merged['TAUX_REMISE'].value_counts()"
   ]
  },
  {
   "cell_type": "code",
   "execution_count": 87,
   "id": "dc20f692ba67a9b4",
   "metadata": {
    "ExecuteTime": {
     "end_time": "2024-05-30T08:40:08.294584Z",
     "start_time": "2024-05-30T08:37:10.843284Z"
    }
   },
   "outputs": [
    {
     "name": "stdout",
     "output_type": "stream",
     "text": [
      "          IDCLIENT   TIC_DATE  ANCIENNETE_PRE_CDE  ANCIENNETE_DRE_CDE\n",
      "0             2108 2016-02-05                   0                  93\n",
      "1             2108 2016-02-05                   0                  93\n",
      "2             2108 2016-02-05                   0                  93\n",
      "3             2108 2016-05-08                  93                   0\n",
      "4             2108 2016-05-08                  93                   0\n",
      "...            ...        ...                 ...                 ...\n",
      "34105921   3517102 2017-12-31                   0                   0\n",
      "34105922   3517102 2017-12-31                   0                   0\n",
      "34105923   3517102 2017-12-31                   0                   0\n",
      "34105924   3517102 2017-12-31                   0                   0\n",
      "34105925   3517102 2017-12-31                   0                   0\n",
      "\n",
      "[34105926 rows x 4 columns]\n"
     ]
    }
   ],
   "source": [
    "# Calculer l'ancienneté par rapport à la première commande pour chaque client\n",
    "data_merged['ANCIENNETE_PRE_CDE'] = data_merged.groupby('IDCLIENT')['TIC_DATE'].transform(lambda x: (x - x.min()).dt.days)\n",
    "\n",
    "# Calculer l'ancienneté par rapport à la dernière commande pour chaque client\n",
    "data_merged['ANCIENNETE_DRE_CDE'] = data_merged.groupby('IDCLIENT')['TIC_DATE'].transform(lambda x: (x.max() - x).dt.days)\n",
    "\n",
    "# Afficher l'ancienneté par rapport à la première et à la dernière commande pour chaque client\n",
    "print(data_merged[['IDCLIENT', 'TIC_DATE', 'ANCIENNETE_PRE_CDE', 'ANCIENNETE_DRE_CDE']])"
   ]
  },
  {
   "cell_type": "code",
   "execution_count": 89,
   "id": "61c57ccebc151a85",
   "metadata": {
    "ExecuteTime": {
     "end_time": "2024-05-30T08:40:52.117139Z",
     "start_time": "2024-05-30T08:40:52.075757Z"
    }
   },
   "outputs": [
    {
     "data": {
      "text/html": [
       "<div>\n",
       "<style scoped>\n",
       "    .dataframe tbody tr th:only-of-type {\n",
       "        vertical-align: middle;\n",
       "    }\n",
       "\n",
       "    .dataframe tbody tr th {\n",
       "        vertical-align: top;\n",
       "    }\n",
       "\n",
       "    .dataframe thead th {\n",
       "        text-align: right;\n",
       "    }\n",
       "</style>\n",
       "<table border=\"1\" class=\"dataframe\">\n",
       "  <thead>\n",
       "    <tr style=\"text-align: right;\">\n",
       "      <th></th>\n",
       "      <th>IDTICKET</th>\n",
       "      <th>NUMLIGNETICKET</th>\n",
       "      <th>IDARTICLE</th>\n",
       "      <th>QUANTITE</th>\n",
       "      <th>MONTANTREMISE</th>\n",
       "      <th>TOTAL</th>\n",
       "      <th>MARGESORTIE</th>\n",
       "      <th>TIC_DATE</th>\n",
       "      <th>MAG_CODE</th>\n",
       "      <th>IDCLIENT</th>\n",
       "      <th>TIC_TOTALTTC</th>\n",
       "      <th>FREQUENCE_MAG</th>\n",
       "    </tr>\n",
       "  </thead>\n",
       "  <tbody>\n",
       "    <tr>\n",
       "      <th>0</th>\n",
       "      <td>50100150510</td>\n",
       "      <td>1</td>\n",
       "      <td>224168</td>\n",
       "      <td>1.0</td>\n",
       "      <td>0.000</td>\n",
       "      <td>10.75</td>\n",
       "      <td>6.46</td>\n",
       "      <td>02/01/2016</td>\n",
       "      <td>ALB</td>\n",
       "      <td>2995104</td>\n",
       "      <td>12.90</td>\n",
       "      <td>35</td>\n",
       "    </tr>\n",
       "    <tr>\n",
       "      <th>1</th>\n",
       "      <td>50100150511</td>\n",
       "      <td>6</td>\n",
       "      <td>932088</td>\n",
       "      <td>1.0</td>\n",
       "      <td>0.000</td>\n",
       "      <td>6.25</td>\n",
       "      <td>6.25</td>\n",
       "      <td>02/01/2016</td>\n",
       "      <td>ALB</td>\n",
       "      <td>1411117</td>\n",
       "      <td>131.06</td>\n",
       "      <td>4</td>\n",
       "    </tr>\n",
       "    <tr>\n",
       "      <th>2</th>\n",
       "      <td>50100150511</td>\n",
       "      <td>2</td>\n",
       "      <td>397817</td>\n",
       "      <td>1.0</td>\n",
       "      <td>0.625</td>\n",
       "      <td>5.62</td>\n",
       "      <td>2.54</td>\n",
       "      <td>02/01/2016</td>\n",
       "      <td>ALB</td>\n",
       "      <td>1411117</td>\n",
       "      <td>131.06</td>\n",
       "      <td>4</td>\n",
       "    </tr>\n",
       "    <tr>\n",
       "      <th>3</th>\n",
       "      <td>50100150511</td>\n",
       "      <td>5</td>\n",
       "      <td>758445</td>\n",
       "      <td>1.0</td>\n",
       "      <td>3.158</td>\n",
       "      <td>28.42</td>\n",
       "      <td>14.28</td>\n",
       "      <td>02/01/2016</td>\n",
       "      <td>ALB</td>\n",
       "      <td>1411117</td>\n",
       "      <td>131.06</td>\n",
       "      <td>4</td>\n",
       "    </tr>\n",
       "    <tr>\n",
       "      <th>4</th>\n",
       "      <td>50100150511</td>\n",
       "      <td>3</td>\n",
       "      <td>428877</td>\n",
       "      <td>1.0</td>\n",
       "      <td>0.333</td>\n",
       "      <td>2.96</td>\n",
       "      <td>0.94</td>\n",
       "      <td>02/01/2016</td>\n",
       "      <td>ALB</td>\n",
       "      <td>1411117</td>\n",
       "      <td>131.06</td>\n",
       "      <td>4</td>\n",
       "    </tr>\n",
       "    <tr>\n",
       "      <th>...</th>\n",
       "      <td>...</td>\n",
       "      <td>...</td>\n",
       "      <td>...</td>\n",
       "      <td>...</td>\n",
       "      <td>...</td>\n",
       "      <td>...</td>\n",
       "      <td>...</td>\n",
       "      <td>...</td>\n",
       "      <td>...</td>\n",
       "      <td>...</td>\n",
       "      <td>...</td>\n",
       "      <td>...</td>\n",
       "    </tr>\n",
       "    <tr>\n",
       "      <th>34105921</th>\n",
       "      <td>1340300014438</td>\n",
       "      <td>4</td>\n",
       "      <td>279749</td>\n",
       "      <td>1.0</td>\n",
       "      <td>0.750</td>\n",
       "      <td>6.71</td>\n",
       "      <td>3.08</td>\n",
       "      <td>27/12/2016</td>\n",
       "      <td>RMA</td>\n",
       "      <td>3252348</td>\n",
       "      <td>118.01</td>\n",
       "      <td>12</td>\n",
       "    </tr>\n",
       "    <tr>\n",
       "      <th>34105922</th>\n",
       "      <td>1340300014438</td>\n",
       "      <td>10</td>\n",
       "      <td>287843</td>\n",
       "      <td>4.0</td>\n",
       "      <td>10.950</td>\n",
       "      <td>25.55</td>\n",
       "      <td>10.63</td>\n",
       "      <td>27/12/2016</td>\n",
       "      <td>RMA</td>\n",
       "      <td>3252348</td>\n",
       "      <td>118.01</td>\n",
       "      <td>12</td>\n",
       "    </tr>\n",
       "    <tr>\n",
       "      <th>34105923</th>\n",
       "      <td>1340300014440</td>\n",
       "      <td>2</td>\n",
       "      <td>363834</td>\n",
       "      <td>1.0</td>\n",
       "      <td>0.000</td>\n",
       "      <td>19.95</td>\n",
       "      <td>10.40</td>\n",
       "      <td>27/12/2016</td>\n",
       "      <td>RMA</td>\n",
       "      <td>3243933</td>\n",
       "      <td>44.80</td>\n",
       "      <td>4</td>\n",
       "    </tr>\n",
       "    <tr>\n",
       "      <th>34105924</th>\n",
       "      <td>1340300014440</td>\n",
       "      <td>3</td>\n",
       "      <td>632190</td>\n",
       "      <td>1.0</td>\n",
       "      <td>0.000</td>\n",
       "      <td>19.95</td>\n",
       "      <td>10.49</td>\n",
       "      <td>27/12/2016</td>\n",
       "      <td>RMA</td>\n",
       "      <td>3243933</td>\n",
       "      <td>44.80</td>\n",
       "      <td>4</td>\n",
       "    </tr>\n",
       "    <tr>\n",
       "      <th>34105925</th>\n",
       "      <td>1340300014440</td>\n",
       "      <td>1</td>\n",
       "      <td>254879</td>\n",
       "      <td>1.0</td>\n",
       "      <td>0.000</td>\n",
       "      <td>0.75</td>\n",
       "      <td>0.10</td>\n",
       "      <td>27/12/2016</td>\n",
       "      <td>RMA</td>\n",
       "      <td>3243933</td>\n",
       "      <td>44.80</td>\n",
       "      <td>4</td>\n",
       "    </tr>\n",
       "  </tbody>\n",
       "</table>\n",
       "<p>34105926 rows × 12 columns</p>\n",
       "</div>"
      ],
      "text/plain": [
       "               IDTICKET NUMLIGNETICKET IDARTICLE  QUANTITE  MONTANTREMISE  \\\n",
       "0           50100150510              1    224168       1.0          0.000   \n",
       "1           50100150511              6    932088       1.0          0.000   \n",
       "2           50100150511              2    397817       1.0          0.625   \n",
       "3           50100150511              5    758445       1.0          3.158   \n",
       "4           50100150511              3    428877       1.0          0.333   \n",
       "...                 ...            ...       ...       ...            ...   \n",
       "34105921  1340300014438              4    279749       1.0          0.750   \n",
       "34105922  1340300014438             10    287843       4.0         10.950   \n",
       "34105923  1340300014440              2    363834       1.0          0.000   \n",
       "34105924  1340300014440              3    632190       1.0          0.000   \n",
       "34105925  1340300014440              1    254879       1.0          0.000   \n",
       "\n",
       "          TOTAL  MARGESORTIE    TIC_DATE MAG_CODE  IDCLIENT  TIC_TOTALTTC  \\\n",
       "0         10.75         6.46  02/01/2016      ALB   2995104         12.90   \n",
       "1          6.25         6.25  02/01/2016      ALB   1411117        131.06   \n",
       "2          5.62         2.54  02/01/2016      ALB   1411117        131.06   \n",
       "3         28.42        14.28  02/01/2016      ALB   1411117        131.06   \n",
       "4          2.96         0.94  02/01/2016      ALB   1411117        131.06   \n",
       "...         ...          ...         ...      ...       ...           ...   \n",
       "34105921   6.71         3.08  27/12/2016      RMA   3252348        118.01   \n",
       "34105922  25.55        10.63  27/12/2016      RMA   3252348        118.01   \n",
       "34105923  19.95        10.40  27/12/2016      RMA   3243933         44.80   \n",
       "34105924  19.95        10.49  27/12/2016      RMA   3243933         44.80   \n",
       "34105925   0.75         0.10  27/12/2016      RMA   3243933         44.80   \n",
       "\n",
       "          FREQUENCE_MAG  \n",
       "0                    35  \n",
       "1                     4  \n",
       "2                     4  \n",
       "3                     4  \n",
       "4                     4  \n",
       "...                 ...  \n",
       "34105921             12  \n",
       "34105922             12  \n",
       "34105923              4  \n",
       "34105924              4  \n",
       "34105925              4  \n",
       "\n",
       "[34105926 rows x 12 columns]"
      ]
     },
     "execution_count": 89,
     "metadata": {},
     "output_type": "execute_result"
    }
   ],
   "source": [
    "data_merged"
   ]
  },
  {
   "cell_type": "code",
   "execution_count": null,
   "id": "9717dbcdd972fb1b",
   "metadata": {},
   "outputs": [],
   "source": []
  },
  {
   "cell_type": "markdown",
   "id": "7bb74af7",
   "metadata": {},
   "source": [
    "# CHARGEMENT DES BIBLIOTHEQUES"
   ]
  },
  {
   "cell_type": "markdown",
   "id": "d6c3c8a8",
   "metadata": {},
   "source": [
    "Chargement du jeu de données REF_ARTICLE."
   ]
  },
  {
   "cell_type": "code",
   "execution_count": 56,
   "id": "3c89ab73",
   "metadata": {
    "ExecuteTime": {
     "end_time": "2024-05-16T11:52:27.732183Z",
     "start_time": "2024-05-16T11:52:27.164108Z"
    }
   },
   "outputs": [
    {
     "name": "stdout",
     "output_type": "stream",
     "text": [
      "(665946, 4)\n",
      "['CODEARTICLE', 'CODEUNIVERS', 'CODEFAMILLE', 'CODESOUSFAMILLE']\n"
     ]
    }
   ],
   "source": [
    "import pandas as pd\n",
    "\n",
    "data4 = pd.read_csv('REF_ARTICLE.CSV', sep='|',low_memory=False)\n",
    "print(data4.shape)\n",
    "print(list(data4.columns))\n"
   ]
  },
  {
   "cell_type": "markdown",
   "id": "6a1b58b0",
   "metadata": {},
   "source": [
    "La ligne de code ci-dessous nous permet de connaître le détail des colonnes ainsi que le type de données constituant notre base (numérique ou caractères)."
   ]
  },
  {
   "cell_type": "code",
   "execution_count": 57,
   "id": "c6c8edb4",
   "metadata": {
    "ExecuteTime": {
     "end_time": "2024-05-16T11:52:30.276292Z",
     "start_time": "2024-05-16T11:52:30.167098Z"
    }
   },
   "outputs": [
    {
     "name": "stdout",
     "output_type": "stream",
     "text": [
      "<class 'pandas.core.frame.DataFrame'>\n",
      "RangeIndex: 665946 entries, 0 to 665945\n",
      "Data columns (total 4 columns):\n",
      " #   Column           Non-Null Count   Dtype \n",
      "---  ------           --------------   ----- \n",
      " 0   CODEARTICLE      665946 non-null  object\n",
      " 1   CODEUNIVERS      665946 non-null  object\n",
      " 2   CODEFAMILLE      665946 non-null  object\n",
      " 3   CODESOUSFAMILLE  665946 non-null  object\n",
      "dtypes: object(4)\n",
      "memory usage: 20.3+ MB\n"
     ]
    }
   ],
   "source": [
    "data4.info()"
   ]
  },
  {
   "cell_type": "markdown",
   "id": "96c65aaf",
   "metadata": {},
   "source": [
    "Aperçu de notre jeu de données. "
   ]
  },
  {
   "cell_type": "code",
   "execution_count": 58,
   "id": "acc312b6",
   "metadata": {
    "ExecuteTime": {
     "end_time": "2024-05-16T11:52:32.284414Z",
     "start_time": "2024-05-16T11:52:32.265006Z"
    }
   },
   "outputs": [
    {
     "data": {
      "text/html": [
       "<div>\n",
       "<style scoped>\n",
       "    .dataframe tbody tr th:only-of-type {\n",
       "        vertical-align: middle;\n",
       "    }\n",
       "\n",
       "    .dataframe tbody tr th {\n",
       "        vertical-align: top;\n",
       "    }\n",
       "\n",
       "    .dataframe thead th {\n",
       "        text-align: right;\n",
       "    }\n",
       "</style>\n",
       "<table border=\"1\" class=\"dataframe\">\n",
       "  <thead>\n",
       "    <tr style=\"text-align: right;\">\n",
       "      <th></th>\n",
       "      <th>CODEARTICLE</th>\n",
       "      <th>CODEUNIVERS</th>\n",
       "      <th>CODEFAMILLE</th>\n",
       "      <th>CODESOUSFAMILLE</th>\n",
       "    </tr>\n",
       "  </thead>\n",
       "  <tbody>\n",
       "    <tr>\n",
       "      <th>0</th>\n",
       "      <td>COUPON</td>\n",
       "      <td>COUPON</td>\n",
       "      <td>COUPON</td>\n",
       "      <td>COUPON</td>\n",
       "    </tr>\n",
       "    <tr>\n",
       "      <th>1</th>\n",
       "      <td>1001</td>\n",
       "      <td>U2</td>\n",
       "      <td>130</td>\n",
       "      <td>130040</td>\n",
       "    </tr>\n",
       "    <tr>\n",
       "      <th>2</th>\n",
       "      <td>100125</td>\n",
       "      <td>U1</td>\n",
       "      <td>010</td>\n",
       "      <td>010020</td>\n",
       "    </tr>\n",
       "    <tr>\n",
       "      <th>3</th>\n",
       "      <td>100150</td>\n",
       "      <td>U1</td>\n",
       "      <td>010</td>\n",
       "      <td>010020</td>\n",
       "    </tr>\n",
       "    <tr>\n",
       "      <th>4</th>\n",
       "      <td>10018</td>\n",
       "      <td>U1</td>\n",
       "      <td>100</td>\n",
       "      <td>100900</td>\n",
       "    </tr>\n",
       "    <tr>\n",
       "      <th>...</th>\n",
       "      <td>...</td>\n",
       "      <td>...</td>\n",
       "      <td>...</td>\n",
       "      <td>...</td>\n",
       "    </tr>\n",
       "    <tr>\n",
       "      <th>665941</th>\n",
       "      <td>407717</td>\n",
       "      <td>U3</td>\n",
       "      <td>120</td>\n",
       "      <td>120070</td>\n",
       "    </tr>\n",
       "    <tr>\n",
       "      <th>665942</th>\n",
       "      <td>407719</td>\n",
       "      <td>U3</td>\n",
       "      <td>120</td>\n",
       "      <td>120070</td>\n",
       "    </tr>\n",
       "    <tr>\n",
       "      <th>665943</th>\n",
       "      <td>407720</td>\n",
       "      <td>U3</td>\n",
       "      <td>120</td>\n",
       "      <td>120070</td>\n",
       "    </tr>\n",
       "    <tr>\n",
       "      <th>665944</th>\n",
       "      <td>407721</td>\n",
       "      <td>U3</td>\n",
       "      <td>120</td>\n",
       "      <td>120070</td>\n",
       "    </tr>\n",
       "    <tr>\n",
       "      <th>665945</th>\n",
       "      <td>407723</td>\n",
       "      <td>U3</td>\n",
       "      <td>120</td>\n",
       "      <td>120070</td>\n",
       "    </tr>\n",
       "  </tbody>\n",
       "</table>\n",
       "<p>665946 rows × 4 columns</p>\n",
       "</div>"
      ],
      "text/plain": [
       "       CODEARTICLE CODEUNIVERS CODEFAMILLE CODESOUSFAMILLE\n",
       "0           COUPON      COUPON      COUPON          COUPON\n",
       "1             1001          U2         130          130040\n",
       "2           100125          U1         010          010020\n",
       "3           100150          U1         010          010020\n",
       "4            10018          U1         100          100900\n",
       "...            ...         ...         ...             ...\n",
       "665941      407717          U3         120          120070\n",
       "665942      407719          U3         120          120070\n",
       "665943      407720          U3         120          120070\n",
       "665944      407721          U3         120          120070\n",
       "665945      407723          U3         120          120070\n",
       "\n",
       "[665946 rows x 4 columns]"
      ]
     },
     "execution_count": 58,
     "metadata": {},
     "output_type": "execute_result"
    }
   ],
   "source": [
    "data4"
   ]
  },
  {
   "cell_type": "code",
   "execution_count": 59,
   "id": "488ae5e6",
   "metadata": {
    "ExecuteTime": {
     "end_time": "2024-05-16T11:52:35.650589Z",
     "start_time": "2024-05-16T11:52:35.580738Z"
    }
   },
   "outputs": [],
   "source": [
    "data4.drop(0, inplace=True)"
   ]
  },
  {
   "cell_type": "code",
   "execution_count": 60,
   "id": "5283da06",
   "metadata": {
    "ExecuteTime": {
     "end_time": "2024-05-16T11:52:39.288669Z",
     "start_time": "2024-05-16T11:52:39.273283Z"
    }
   },
   "outputs": [
    {
     "data": {
      "text/html": [
       "<div>\n",
       "<style scoped>\n",
       "    .dataframe tbody tr th:only-of-type {\n",
       "        vertical-align: middle;\n",
       "    }\n",
       "\n",
       "    .dataframe tbody tr th {\n",
       "        vertical-align: top;\n",
       "    }\n",
       "\n",
       "    .dataframe thead th {\n",
       "        text-align: right;\n",
       "    }\n",
       "</style>\n",
       "<table border=\"1\" class=\"dataframe\">\n",
       "  <thead>\n",
       "    <tr style=\"text-align: right;\">\n",
       "      <th></th>\n",
       "      <th>CODEARTICLE</th>\n",
       "      <th>CODEUNIVERS</th>\n",
       "      <th>CODEFAMILLE</th>\n",
       "      <th>CODESOUSFAMILLE</th>\n",
       "    </tr>\n",
       "  </thead>\n",
       "  <tbody>\n",
       "    <tr>\n",
       "      <th>1</th>\n",
       "      <td>1001</td>\n",
       "      <td>U2</td>\n",
       "      <td>130</td>\n",
       "      <td>130040</td>\n",
       "    </tr>\n",
       "    <tr>\n",
       "      <th>2</th>\n",
       "      <td>100125</td>\n",
       "      <td>U1</td>\n",
       "      <td>010</td>\n",
       "      <td>010020</td>\n",
       "    </tr>\n",
       "    <tr>\n",
       "      <th>3</th>\n",
       "      <td>100150</td>\n",
       "      <td>U1</td>\n",
       "      <td>010</td>\n",
       "      <td>010020</td>\n",
       "    </tr>\n",
       "    <tr>\n",
       "      <th>4</th>\n",
       "      <td>10018</td>\n",
       "      <td>U1</td>\n",
       "      <td>100</td>\n",
       "      <td>100900</td>\n",
       "    </tr>\n",
       "    <tr>\n",
       "      <th>5</th>\n",
       "      <td>10019</td>\n",
       "      <td>U1</td>\n",
       "      <td>100</td>\n",
       "      <td>100900</td>\n",
       "    </tr>\n",
       "    <tr>\n",
       "      <th>...</th>\n",
       "      <td>...</td>\n",
       "      <td>...</td>\n",
       "      <td>...</td>\n",
       "      <td>...</td>\n",
       "    </tr>\n",
       "    <tr>\n",
       "      <th>665941</th>\n",
       "      <td>407717</td>\n",
       "      <td>U3</td>\n",
       "      <td>120</td>\n",
       "      <td>120070</td>\n",
       "    </tr>\n",
       "    <tr>\n",
       "      <th>665942</th>\n",
       "      <td>407719</td>\n",
       "      <td>U3</td>\n",
       "      <td>120</td>\n",
       "      <td>120070</td>\n",
       "    </tr>\n",
       "    <tr>\n",
       "      <th>665943</th>\n",
       "      <td>407720</td>\n",
       "      <td>U3</td>\n",
       "      <td>120</td>\n",
       "      <td>120070</td>\n",
       "    </tr>\n",
       "    <tr>\n",
       "      <th>665944</th>\n",
       "      <td>407721</td>\n",
       "      <td>U3</td>\n",
       "      <td>120</td>\n",
       "      <td>120070</td>\n",
       "    </tr>\n",
       "    <tr>\n",
       "      <th>665945</th>\n",
       "      <td>407723</td>\n",
       "      <td>U3</td>\n",
       "      <td>120</td>\n",
       "      <td>120070</td>\n",
       "    </tr>\n",
       "  </tbody>\n",
       "</table>\n",
       "<p>665945 rows × 4 columns</p>\n",
       "</div>"
      ],
      "text/plain": [
       "       CODEARTICLE CODEUNIVERS CODEFAMILLE CODESOUSFAMILLE\n",
       "1             1001          U2         130          130040\n",
       "2           100125          U1         010          010020\n",
       "3           100150          U1         010          010020\n",
       "4            10018          U1         100          100900\n",
       "5            10019          U1         100          100900\n",
       "...            ...         ...         ...             ...\n",
       "665941      407717          U3         120          120070\n",
       "665942      407719          U3         120          120070\n",
       "665943      407720          U3         120          120070\n",
       "665944      407721          U3         120          120070\n",
       "665945      407723          U3         120          120070\n",
       "\n",
       "[665945 rows x 4 columns]"
      ]
     },
     "execution_count": 60,
     "metadata": {},
     "output_type": "execute_result"
    }
   ],
   "source": [
    "data4"
   ]
  },
  {
   "cell_type": "code",
   "execution_count": 61,
   "id": "961e970f",
   "metadata": {
    "ExecuteTime": {
     "end_time": "2024-05-16T11:52:42.039297Z",
     "start_time": "2024-05-16T11:52:41.507277Z"
    }
   },
   "outputs": [
    {
     "data": {
      "text/plain": [
       "CODEARTICLE\n",
       "407723    1\n",
       "1001      1\n",
       "100125    1\n",
       "100150    1\n",
       "10018     1\n",
       "         ..\n",
       "100889    1\n",
       "1010      1\n",
       "1012      1\n",
       "101240    1\n",
       "101253    1\n",
       "Name: count, Length: 665945, dtype: int64"
      ]
     },
     "execution_count": 61,
     "metadata": {},
     "output_type": "execute_result"
    }
   ],
   "source": [
    "#modalités variables:\n",
    "data4['CODEARTICLE'].value_counts(dropna = False)"
   ]
  },
  {
   "cell_type": "code",
   "execution_count": 62,
   "id": "d7034590",
   "metadata": {
    "ExecuteTime": {
     "end_time": "2024-05-16T11:52:43.548647Z",
     "start_time": "2024-05-16T11:52:43.521875Z"
    }
   },
   "outputs": [
    {
     "data": {
      "text/plain": [
       "CODEUNIVERS\n",
       "U1    274652\n",
       "U2    236139\n",
       "U3     72725\n",
       "U4     66413\n",
       "U0     16016\n",
       "Name: count, dtype: int64"
      ]
     },
     "execution_count": 62,
     "metadata": {},
     "output_type": "execute_result"
    }
   ],
   "source": [
    "data4['CODEUNIVERS'].value_counts(dropna = False)"
   ]
  },
  {
   "cell_type": "code",
   "execution_count": 63,
   "id": "f734be82",
   "metadata": {
    "ExecuteTime": {
     "end_time": "2024-05-16T11:52:44.653138Z",
     "start_time": "2024-05-16T11:52:44.635890Z"
    }
   },
   "outputs": [
    {
     "data": {
      "text/plain": [
       "CODEFAMILLE\n",
       "090    157747\n",
       "010     65324\n",
       "130     63055\n",
       "120     60886\n",
       "180     46685\n",
       "080     36253\n",
       "100     33971\n",
       "140     33907\n",
       "020     31685\n",
       "220     30893\n",
       "050     22395\n",
       "030     22165\n",
       "070     14484\n",
       "110     11839\n",
       "160      8561\n",
       "190      6449\n",
       "040      5176\n",
       "400      3884\n",
       "170      3570\n",
       "900      2196\n",
       "200      1613\n",
       "230      1092\n",
       "060       979\n",
       "210       853\n",
       "990       283\n",
       "Name: count, dtype: int64"
      ]
     },
     "execution_count": 63,
     "metadata": {},
     "output_type": "execute_result"
    }
   ],
   "source": [
    "data4['CODEFAMILLE'].value_counts(dropna = False)"
   ]
  },
  {
   "cell_type": "code",
   "execution_count": 64,
   "id": "4fbf1c0b",
   "metadata": {
    "ExecuteTime": {
     "end_time": "2024-05-16T11:53:09.072332Z",
     "start_time": "2024-05-16T11:53:09.041239Z"
    }
   },
   "outputs": [
    {
     "data": {
      "text/plain": [
       "CODESOUSFAMILLE\n",
       "180090    44779\n",
       "140010    23698\n",
       "120060    23371\n",
       "090800    23326\n",
       "090070    21254\n",
       "          ...  \n",
       "900990        1\n",
       "180999        1\n",
       "160999        1\n",
       "110999        1\n",
       "200999        1\n",
       "Name: count, Length: 343, dtype: int64"
      ]
     },
     "execution_count": 64,
     "metadata": {},
     "output_type": "execute_result"
    }
   ],
   "source": [
    "data4['CODESOUSFAMILLE'].value_counts(dropna = False)"
   ]
  },
  {
   "cell_type": "markdown",
   "id": "74dff901",
   "metadata": {},
   "source": [
    "La ligne de code ci-dessous nous permet d'identifier la présence ou non de valeur(s) en doublons."
   ]
  },
  {
   "cell_type": "code",
   "execution_count": 65,
   "id": "6a1534fd",
   "metadata": {
    "ExecuteTime": {
     "end_time": "2024-05-16T11:53:12.319604Z",
     "start_time": "2024-05-16T11:53:11.654777Z"
    }
   },
   "outputs": [
    {
     "name": "stdout",
     "output_type": "stream",
     "text": [
      "0\n"
     ]
    }
   ],
   "source": [
    "print(data4.duplicated().sum())\n",
    "data1 = data4.drop_duplicates()"
   ]
  },
  {
   "cell_type": "markdown",
   "id": "04120a26",
   "metadata": {},
   "source": [
    "La ligne de code ci-dessous nous permet d'identifier la présence ou non de valeur(s) manquante(s)"
   ]
  },
  {
   "cell_type": "code",
   "execution_count": 66,
   "id": "5c6d49f9",
   "metadata": {
    "ExecuteTime": {
     "end_time": "2024-05-16T11:53:14.075487Z",
     "start_time": "2024-05-16T11:53:13.968149Z"
    }
   },
   "outputs": [
    {
     "data": {
      "text/html": [
       "<div>\n",
       "<style scoped>\n",
       "    .dataframe tbody tr th:only-of-type {\n",
       "        vertical-align: middle;\n",
       "    }\n",
       "\n",
       "    .dataframe tbody tr th {\n",
       "        vertical-align: top;\n",
       "    }\n",
       "\n",
       "    .dataframe thead th {\n",
       "        text-align: right;\n",
       "    }\n",
       "</style>\n",
       "<table border=\"1\" class=\"dataframe\">\n",
       "  <thead>\n",
       "    <tr style=\"text-align: right;\">\n",
       "      <th></th>\n",
       "      <th>%_missing_values</th>\n",
       "    </tr>\n",
       "  </thead>\n",
       "  <tbody>\n",
       "    <tr>\n",
       "      <th>CODEARTICLE</th>\n",
       "      <td>0.0</td>\n",
       "    </tr>\n",
       "    <tr>\n",
       "      <th>CODEUNIVERS</th>\n",
       "      <td>0.0</td>\n",
       "    </tr>\n",
       "    <tr>\n",
       "      <th>CODEFAMILLE</th>\n",
       "      <td>0.0</td>\n",
       "    </tr>\n",
       "    <tr>\n",
       "      <th>CODESOUSFAMILLE</th>\n",
       "      <td>0.0</td>\n",
       "    </tr>\n",
       "  </tbody>\n",
       "</table>\n",
       "</div>"
      ],
      "text/plain": [
       "                 %_missing_values\n",
       "CODEARTICLE                   0.0\n",
       "CODEUNIVERS                   0.0\n",
       "CODEFAMILLE                   0.0\n",
       "CODESOUSFAMILLE               0.0"
      ]
     },
     "execution_count": 66,
     "metadata": {},
     "output_type": "execute_result"
    }
   ],
   "source": [
    "pd.DataFrame(index=data4.columns, columns=['%_missing_values'], data= (data4.isna().sum().values / len(data4)*100))"
   ]
  },
  {
   "cell_type": "code",
   "execution_count": null,
   "id": "910926ab",
   "metadata": {},
   "outputs": [],
   "source": []
  }
 ],
 "metadata": {},
 "nbformat": 4,
 "nbformat_minor": 5
}
