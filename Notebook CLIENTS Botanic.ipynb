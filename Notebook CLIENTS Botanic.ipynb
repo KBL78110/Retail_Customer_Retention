{
 "cells": [
  {
   "cell_type": "code",
   "execution_count": null,
   "metadata": {},
   "outputs": [],
   "source": [
    "import pip\n",
    "pip.main(['install', 'pandas'])\n",
    "pip.main(['install', 'matplotlib'])\n",
    "pip.main(['install', 'seaborn'])\n",
    "pip.main(['install', 'scikit-learn'])"
   ]
  },
  {
   "cell_type": "markdown",
   "metadata": {},
   "source": [
    "CHARGEMENT DES BIBLIOTHEQUES"
   ]
  },
  {
   "cell_type": "code",
   "execution_count": 2,
   "metadata": {
    "ExecuteTime": {
     "end_time": "2024-07-09T09:21:13.962371Z",
     "start_time": "2024-07-09T09:21:13.960043Z"
    },
    "pycharm": {
     "is_executing": true
    },
    "tags": []
   },
   "outputs": [],
   "source": [
    "import pandas as pd\n",
    "import matplotlib.pyplot as plt\n",
    "import numpy as np\n",
    "import seaborn as sns\n",
    "\n",
    "from sklearn.linear_model import LogisticRegression\n",
    "from sklearn.model_selection import train_test_split\n",
    "from sklearn.datasets import make_classification\n",
    "from sklearn.metrics import roc_curve, auc\n",
    "from sklearn.metrics import accuracy_score, classification_report, confusion_matrix\n",
    "from sklearn.preprocessing import StandardScaler\n",
    "from sklearn.preprocessing import OneHotEncoder\n",
    "from sklearn.preprocessing import LabelEncoder\n"
   ]
  },
  {
   "cell_type": "markdown",
   "metadata": {},
   "source": [
    "CHARGEMENT DU JEU DE DONNEES"
   ]
  },
  {
   "cell_type": "code",
   "execution_count": 3,
   "metadata": {
    "ExecuteTime": {
     "end_time": "2024-07-09T09:21:16.395017Z",
     "start_time": "2024-07-09T09:21:15.878647Z"
    }
   },
   "outputs": [
    {
     "name": "stdout",
     "output_type": "stream",
     "text": [
      "(845876, 10)\n",
      "['IDCLIENT', 'CIVILITE', 'DATENAISSANCE', 'MAGASIN', 'DATEDEBUTADHESION', 'DATEREADHESION', 'DATEFINADHESION', 'VIP', 'CODEINSEE', 'PAYS']\n"
     ]
    }
   ],
   "source": [
    "dataset_path = \"C:\\\\Users\\\\belga\\\\OneDrive\\\\Bureau\\\\EMBA Big Data\\\\Module Datascience\\\\Projet Data Science S2 2024\\\\CLIENT.csv\"\n",
    "CLIENT = pd.read_csv(dataset_path, sep='|', low_memory=False)\n",
    "print(CLIENT.shape)\n",
    "print(list(CLIENT.columns))"
   ]
  },
  {
   "cell_type": "markdown",
   "metadata": {},
   "source": [
    "La ligne de code ci-dessous nous permet de connaître le détail des colonnes ainsi que le type de données constituant notre base (numérique ou caractères)."
   ]
  },
  {
   "cell_type": "code",
   "execution_count": 4,
   "metadata": {
    "ExecuteTime": {
     "end_time": "2024-07-09T09:21:18.222027Z",
     "start_time": "2024-07-09T09:21:18.214202Z"
    }
   },
   "outputs": [
    {
     "data": {
      "text/html": [
       "<div>\n",
       "<style scoped>\n",
       "    .dataframe tbody tr th:only-of-type {\n",
       "        vertical-align: middle;\n",
       "    }\n",
       "\n",
       "    .dataframe tbody tr th {\n",
       "        vertical-align: top;\n",
       "    }\n",
       "\n",
       "    .dataframe thead th {\n",
       "        text-align: right;\n",
       "    }\n",
       "</style>\n",
       "<table border=\"1\" class=\"dataframe\">\n",
       "  <thead>\n",
       "    <tr style=\"text-align: right;\">\n",
       "      <th></th>\n",
       "      <th>IDCLIENT</th>\n",
       "      <th>CIVILITE</th>\n",
       "      <th>DATENAISSANCE</th>\n",
       "      <th>MAGASIN</th>\n",
       "      <th>DATEDEBUTADHESION</th>\n",
       "      <th>DATEREADHESION</th>\n",
       "      <th>DATEFINADHESION</th>\n",
       "      <th>VIP</th>\n",
       "      <th>CODEINSEE</th>\n",
       "      <th>PAYS</th>\n",
       "    </tr>\n",
       "  </thead>\n",
       "  <tbody>\n",
       "    <tr>\n",
       "      <th>0</th>\n",
       "      <td>155891.0</td>\n",
       "      <td>MADAME</td>\n",
       "      <td>NaN</td>\n",
       "      <td>VLG</td>\n",
       "      <td>13/05/2005 0:00:00</td>\n",
       "      <td>4/04/2017 0:00:00</td>\n",
       "      <td>30/04/2018 0:00:00</td>\n",
       "      <td>0</td>\n",
       "      <td>74224</td>\n",
       "      <td>FR</td>\n",
       "    </tr>\n",
       "    <tr>\n",
       "      <th>1</th>\n",
       "      <td>156023.0</td>\n",
       "      <td>MONSIEUR</td>\n",
       "      <td>7/08/1966 0:00:00</td>\n",
       "      <td>VLG</td>\n",
       "      <td>14/05/2005 0:00:00</td>\n",
       "      <td>21/06/2014 0:00:00</td>\n",
       "      <td>30/06/2016 0:00:00</td>\n",
       "      <td>0</td>\n",
       "      <td>74189</td>\n",
       "      <td>FR</td>\n",
       "    </tr>\n",
       "    <tr>\n",
       "      <th>2</th>\n",
       "      <td>124203.0</td>\n",
       "      <td>MADAME</td>\n",
       "      <td>NaN</td>\n",
       "      <td>BEA</td>\n",
       "      <td>16/03/2005 0:00:00</td>\n",
       "      <td>12/10/2017 0:00:00</td>\n",
       "      <td>31/10/2018 0:00:00</td>\n",
       "      <td>0</td>\n",
       "      <td>63070</td>\n",
       "      <td>FR</td>\n",
       "    </tr>\n",
       "    <tr>\n",
       "      <th>3</th>\n",
       "      <td>156190.0</td>\n",
       "      <td>MADAME</td>\n",
       "      <td>24/07/1976 0:00:00</td>\n",
       "      <td>SUR</td>\n",
       "      <td>28/08/2006 0:00:00</td>\n",
       "      <td>24/05/2015 0:00:00</td>\n",
       "      <td>31/05/2016 0:00:00</td>\n",
       "      <td>0</td>\n",
       "      <td>92026</td>\n",
       "      <td>FR</td>\n",
       "    </tr>\n",
       "    <tr>\n",
       "      <th>4</th>\n",
       "      <td>144444.0</td>\n",
       "      <td>MONSIEUR</td>\n",
       "      <td>NaN</td>\n",
       "      <td>LAB</td>\n",
       "      <td>29/04/2006 0:00:00</td>\n",
       "      <td>18/12/2016 0:00:00</td>\n",
       "      <td>31/12/2017 0:00:00</td>\n",
       "      <td>0</td>\n",
       "      <td>31555</td>\n",
       "      <td>FR</td>\n",
       "    </tr>\n",
       "    <tr>\n",
       "      <th>...</th>\n",
       "      <td>...</td>\n",
       "      <td>...</td>\n",
       "      <td>...</td>\n",
       "      <td>...</td>\n",
       "      <td>...</td>\n",
       "      <td>...</td>\n",
       "      <td>...</td>\n",
       "      <td>...</td>\n",
       "      <td>...</td>\n",
       "      <td>...</td>\n",
       "    </tr>\n",
       "    <tr>\n",
       "      <th>845871</th>\n",
       "      <td>1970111.0</td>\n",
       "      <td>MONSIEUR</td>\n",
       "      <td>NaN</td>\n",
       "      <td>IAB</td>\n",
       "      <td>14/04/2011 0:00:00</td>\n",
       "      <td>6/01/2018 0:00:00</td>\n",
       "      <td>31/01/2019 0:00:00</td>\n",
       "      <td>0</td>\n",
       "      <td>38053</td>\n",
       "      <td>FR</td>\n",
       "    </tr>\n",
       "    <tr>\n",
       "      <th>845872</th>\n",
       "      <td>2297275.0</td>\n",
       "      <td>MONSIEUR</td>\n",
       "      <td>6/02/1988 0:00:00</td>\n",
       "      <td>SEM</td>\n",
       "      <td>7/03/2013 0:00:00</td>\n",
       "      <td>6/01/2018 0:00:00</td>\n",
       "      <td>31/01/2019 0:00:00</td>\n",
       "      <td>0</td>\n",
       "      <td>57067</td>\n",
       "      <td>FR</td>\n",
       "    </tr>\n",
       "    <tr>\n",
       "      <th>845873</th>\n",
       "      <td>2305548.0</td>\n",
       "      <td>MONSIEUR</td>\n",
       "      <td>NaN</td>\n",
       "      <td>PRI</td>\n",
       "      <td>22/03/2013 0:00:00</td>\n",
       "      <td>6/01/2018 0:00:00</td>\n",
       "      <td>31/01/2019 0:00:00</td>\n",
       "      <td>0</td>\n",
       "      <td>38318</td>\n",
       "      <td>FR</td>\n",
       "    </tr>\n",
       "    <tr>\n",
       "      <th>845874</th>\n",
       "      <td>84175.0</td>\n",
       "      <td>MADAME</td>\n",
       "      <td>7/04/1950 0:00:00</td>\n",
       "      <td>GAI</td>\n",
       "      <td>29/10/2002 0:00:00</td>\n",
       "      <td>7/01/2018 0:00:00</td>\n",
       "      <td>31/01/2019 0:00:00</td>\n",
       "      <td>0</td>\n",
       "      <td>74082</td>\n",
       "      <td>FR</td>\n",
       "    </tr>\n",
       "    <tr>\n",
       "      <th>845875</th>\n",
       "      <td>1280004.0</td>\n",
       "      <td>MONSIEUR</td>\n",
       "      <td>NaN</td>\n",
       "      <td>SGL</td>\n",
       "      <td>23/06/2007 0:00:00</td>\n",
       "      <td>7/01/2018 0:00:00</td>\n",
       "      <td>31/01/2019 0:00:00</td>\n",
       "      <td>0</td>\n",
       "      <td>42218</td>\n",
       "      <td>FR</td>\n",
       "    </tr>\n",
       "  </tbody>\n",
       "</table>\n",
       "<p>845876 rows × 10 columns</p>\n",
       "</div>"
      ],
      "text/plain": [
       "         IDCLIENT  CIVILITE       DATENAISSANCE MAGASIN   DATEDEBUTADHESION  \\\n",
       "0        155891.0    MADAME                 NaN     VLG  13/05/2005 0:00:00   \n",
       "1        156023.0  MONSIEUR   7/08/1966 0:00:00     VLG  14/05/2005 0:00:00   \n",
       "2        124203.0    MADAME                 NaN     BEA  16/03/2005 0:00:00   \n",
       "3        156190.0    MADAME  24/07/1976 0:00:00     SUR  28/08/2006 0:00:00   \n",
       "4        144444.0  MONSIEUR                 NaN     LAB  29/04/2006 0:00:00   \n",
       "...           ...       ...                 ...     ...                 ...   \n",
       "845871  1970111.0  MONSIEUR                 NaN     IAB  14/04/2011 0:00:00   \n",
       "845872  2297275.0  MONSIEUR   6/02/1988 0:00:00     SEM   7/03/2013 0:00:00   \n",
       "845873  2305548.0  MONSIEUR                 NaN     PRI  22/03/2013 0:00:00   \n",
       "845874    84175.0    MADAME   7/04/1950 0:00:00     GAI  29/10/2002 0:00:00   \n",
       "845875  1280004.0  MONSIEUR                 NaN     SGL  23/06/2007 0:00:00   \n",
       "\n",
       "            DATEREADHESION     DATEFINADHESION  VIP CODEINSEE PAYS  \n",
       "0        4/04/2017 0:00:00  30/04/2018 0:00:00    0     74224   FR  \n",
       "1       21/06/2014 0:00:00  30/06/2016 0:00:00    0     74189   FR  \n",
       "2       12/10/2017 0:00:00  31/10/2018 0:00:00    0     63070   FR  \n",
       "3       24/05/2015 0:00:00  31/05/2016 0:00:00    0     92026   FR  \n",
       "4       18/12/2016 0:00:00  31/12/2017 0:00:00    0     31555   FR  \n",
       "...                    ...                 ...  ...       ...  ...  \n",
       "845871   6/01/2018 0:00:00  31/01/2019 0:00:00    0     38053   FR  \n",
       "845872   6/01/2018 0:00:00  31/01/2019 0:00:00    0     57067   FR  \n",
       "845873   6/01/2018 0:00:00  31/01/2019 0:00:00    0     38318   FR  \n",
       "845874   7/01/2018 0:00:00  31/01/2019 0:00:00    0     74082   FR  \n",
       "845875   7/01/2018 0:00:00  31/01/2019 0:00:00    0     42218   FR  \n",
       "\n",
       "[845876 rows x 10 columns]"
      ]
     },
     "execution_count": 4,
     "metadata": {},
     "output_type": "execute_result"
    }
   ],
   "source": [
    "CLIENT"
   ]
  },
  {
   "cell_type": "code",
   "execution_count": 5,
   "metadata": {
    "ExecuteTime": {
     "end_time": "2024-07-09T09:21:19.010699Z",
     "start_time": "2024-07-09T09:21:18.909434Z"
    }
   },
   "outputs": [
    {
     "name": "stdout",
     "output_type": "stream",
     "text": [
      "<class 'pandas.core.frame.DataFrame'>\n",
      "RangeIndex: 845876 entries, 0 to 845875\n",
      "Data columns (total 10 columns):\n",
      " #   Column             Non-Null Count   Dtype  \n",
      "---  ------             --------------   -----  \n",
      " 0   IDCLIENT           845876 non-null  float64\n",
      " 1   CIVILITE           845876 non-null  object \n",
      " 2   DATENAISSANCE      507902 non-null  object \n",
      " 3   MAGASIN            845876 non-null  object \n",
      " 4   DATEDEBUTADHESION  845876 non-null  object \n",
      " 5   DATEREADHESION     507816 non-null  object \n",
      " 6   DATEFINADHESION    845876 non-null  object \n",
      " 7   VIP                845876 non-null  int64  \n",
      " 8   CODEINSEE          818455 non-null  object \n",
      " 9   PAYS               845873 non-null  object \n",
      "dtypes: float64(1), int64(1), object(8)\n",
      "memory usage: 64.5+ MB\n"
     ]
    }
   ],
   "source": [
    "CLIENT.info()"
   ]
  },
  {
   "cell_type": "markdown",
   "metadata": {},
   "source": [
    "Nous allons procéder à la suppression des clients VIP, qui ont un comportement atypique qui viendra biaiser nos résultats."
   ]
  },
  {
   "cell_type": "code",
   "execution_count": 6,
   "metadata": {
    "ExecuteTime": {
     "end_time": "2024-07-09T09:21:20.381177Z",
     "start_time": "2024-07-09T09:21:20.375116Z"
    }
   },
   "outputs": [
    {
     "data": {
      "text/html": [
       "<div>\n",
       "<style scoped>\n",
       "    .dataframe tbody tr th:only-of-type {\n",
       "        vertical-align: middle;\n",
       "    }\n",
       "\n",
       "    .dataframe tbody tr th {\n",
       "        vertical-align: top;\n",
       "    }\n",
       "\n",
       "    .dataframe thead th {\n",
       "        text-align: right;\n",
       "    }\n",
       "</style>\n",
       "<table border=\"1\" class=\"dataframe\">\n",
       "  <thead>\n",
       "    <tr style=\"text-align: right;\">\n",
       "      <th></th>\n",
       "      <th>IDCLIENT</th>\n",
       "      <th>CIVILITE</th>\n",
       "      <th>DATENAISSANCE</th>\n",
       "      <th>MAGASIN</th>\n",
       "      <th>DATEDEBUTADHESION</th>\n",
       "      <th>DATEREADHESION</th>\n",
       "      <th>DATEFINADHESION</th>\n",
       "      <th>VIP</th>\n",
       "      <th>CODEINSEE</th>\n",
       "      <th>PAYS</th>\n",
       "    </tr>\n",
       "  </thead>\n",
       "  <tbody>\n",
       "    <tr>\n",
       "      <th>0</th>\n",
       "      <td>155891.0</td>\n",
       "      <td>MADAME</td>\n",
       "      <td>NaN</td>\n",
       "      <td>VLG</td>\n",
       "      <td>13/05/2005 0:00:00</td>\n",
       "      <td>4/04/2017 0:00:00</td>\n",
       "      <td>30/04/2018 0:00:00</td>\n",
       "      <td>0</td>\n",
       "      <td>74224</td>\n",
       "      <td>FR</td>\n",
       "    </tr>\n",
       "    <tr>\n",
       "      <th>1</th>\n",
       "      <td>156023.0</td>\n",
       "      <td>MONSIEUR</td>\n",
       "      <td>7/08/1966 0:00:00</td>\n",
       "      <td>VLG</td>\n",
       "      <td>14/05/2005 0:00:00</td>\n",
       "      <td>21/06/2014 0:00:00</td>\n",
       "      <td>30/06/2016 0:00:00</td>\n",
       "      <td>0</td>\n",
       "      <td>74189</td>\n",
       "      <td>FR</td>\n",
       "    </tr>\n",
       "    <tr>\n",
       "      <th>2</th>\n",
       "      <td>124203.0</td>\n",
       "      <td>MADAME</td>\n",
       "      <td>NaN</td>\n",
       "      <td>BEA</td>\n",
       "      <td>16/03/2005 0:00:00</td>\n",
       "      <td>12/10/2017 0:00:00</td>\n",
       "      <td>31/10/2018 0:00:00</td>\n",
       "      <td>0</td>\n",
       "      <td>63070</td>\n",
       "      <td>FR</td>\n",
       "    </tr>\n",
       "    <tr>\n",
       "      <th>3</th>\n",
       "      <td>156190.0</td>\n",
       "      <td>MADAME</td>\n",
       "      <td>24/07/1976 0:00:00</td>\n",
       "      <td>SUR</td>\n",
       "      <td>28/08/2006 0:00:00</td>\n",
       "      <td>24/05/2015 0:00:00</td>\n",
       "      <td>31/05/2016 0:00:00</td>\n",
       "      <td>0</td>\n",
       "      <td>92026</td>\n",
       "      <td>FR</td>\n",
       "    </tr>\n",
       "    <tr>\n",
       "      <th>4</th>\n",
       "      <td>144444.0</td>\n",
       "      <td>MONSIEUR</td>\n",
       "      <td>NaN</td>\n",
       "      <td>LAB</td>\n",
       "      <td>29/04/2006 0:00:00</td>\n",
       "      <td>18/12/2016 0:00:00</td>\n",
       "      <td>31/12/2017 0:00:00</td>\n",
       "      <td>0</td>\n",
       "      <td>31555</td>\n",
       "      <td>FR</td>\n",
       "    </tr>\n",
       "  </tbody>\n",
       "</table>\n",
       "</div>"
      ],
      "text/plain": [
       "   IDCLIENT  CIVILITE       DATENAISSANCE MAGASIN   DATEDEBUTADHESION  \\\n",
       "0  155891.0    MADAME                 NaN     VLG  13/05/2005 0:00:00   \n",
       "1  156023.0  MONSIEUR   7/08/1966 0:00:00     VLG  14/05/2005 0:00:00   \n",
       "2  124203.0    MADAME                 NaN     BEA  16/03/2005 0:00:00   \n",
       "3  156190.0    MADAME  24/07/1976 0:00:00     SUR  28/08/2006 0:00:00   \n",
       "4  144444.0  MONSIEUR                 NaN     LAB  29/04/2006 0:00:00   \n",
       "\n",
       "       DATEREADHESION     DATEFINADHESION  VIP CODEINSEE PAYS  \n",
       "0   4/04/2017 0:00:00  30/04/2018 0:00:00    0     74224   FR  \n",
       "1  21/06/2014 0:00:00  30/06/2016 0:00:00    0     74189   FR  \n",
       "2  12/10/2017 0:00:00  31/10/2018 0:00:00    0     63070   FR  \n",
       "3  24/05/2015 0:00:00  31/05/2016 0:00:00    0     92026   FR  \n",
       "4  18/12/2016 0:00:00  31/12/2017 0:00:00    0     31555   FR  "
      ]
     },
     "execution_count": 6,
     "metadata": {},
     "output_type": "execute_result"
    }
   ],
   "source": [
    "CLIENT.head()"
   ]
  },
  {
   "cell_type": "code",
   "execution_count": 7,
   "metadata": {
    "ExecuteTime": {
     "end_time": "2024-07-09T09:21:21.138852Z",
     "start_time": "2024-07-09T09:21:21.107375Z"
    }
   },
   "outputs": [
    {
     "name": "stdout",
     "output_type": "stream",
     "text": [
      "(735425, 10)\n"
     ]
    }
   ],
   "source": [
    "# Supprimer les lignes où la valeur de la colonne 'VIP' est égale à 1\n",
    "CLIENT = CLIENT[CLIENT['VIP'] != 1]\n",
    "\n",
    "# Vérifier la nouvelle forme du DataFrame\n",
    "print(CLIENT.shape)"
   ]
  },
  {
   "cell_type": "code",
   "execution_count": 8,
   "metadata": {
    "ExecuteTime": {
     "end_time": "2024-07-09T09:21:21.796899Z",
     "start_time": "2024-07-09T09:21:21.763695Z"
    }
   },
   "outputs": [],
   "source": [
    "CLIENT = CLIENT.drop(\"VIP\",axis=1)"
   ]
  },
  {
   "cell_type": "markdown",
   "metadata": {},
   "source": [
    "Vérification du traitement."
   ]
  },
  {
   "cell_type": "code",
   "execution_count": 9,
   "metadata": {
    "ExecuteTime": {
     "end_time": "2024-07-09T09:21:22.862961Z",
     "start_time": "2024-07-09T09:21:22.858372Z"
    }
   },
   "outputs": [
    {
     "data": {
      "text/html": [
       "<div>\n",
       "<style scoped>\n",
       "    .dataframe tbody tr th:only-of-type {\n",
       "        vertical-align: middle;\n",
       "    }\n",
       "\n",
       "    .dataframe tbody tr th {\n",
       "        vertical-align: top;\n",
       "    }\n",
       "\n",
       "    .dataframe thead th {\n",
       "        text-align: right;\n",
       "    }\n",
       "</style>\n",
       "<table border=\"1\" class=\"dataframe\">\n",
       "  <thead>\n",
       "    <tr style=\"text-align: right;\">\n",
       "      <th></th>\n",
       "      <th>IDCLIENT</th>\n",
       "      <th>CIVILITE</th>\n",
       "      <th>DATENAISSANCE</th>\n",
       "      <th>MAGASIN</th>\n",
       "      <th>DATEDEBUTADHESION</th>\n",
       "      <th>DATEREADHESION</th>\n",
       "      <th>DATEFINADHESION</th>\n",
       "      <th>CODEINSEE</th>\n",
       "      <th>PAYS</th>\n",
       "    </tr>\n",
       "  </thead>\n",
       "  <tbody>\n",
       "    <tr>\n",
       "      <th>0</th>\n",
       "      <td>155891.0</td>\n",
       "      <td>MADAME</td>\n",
       "      <td>NaN</td>\n",
       "      <td>VLG</td>\n",
       "      <td>13/05/2005 0:00:00</td>\n",
       "      <td>4/04/2017 0:00:00</td>\n",
       "      <td>30/04/2018 0:00:00</td>\n",
       "      <td>74224</td>\n",
       "      <td>FR</td>\n",
       "    </tr>\n",
       "    <tr>\n",
       "      <th>1</th>\n",
       "      <td>156023.0</td>\n",
       "      <td>MONSIEUR</td>\n",
       "      <td>7/08/1966 0:00:00</td>\n",
       "      <td>VLG</td>\n",
       "      <td>14/05/2005 0:00:00</td>\n",
       "      <td>21/06/2014 0:00:00</td>\n",
       "      <td>30/06/2016 0:00:00</td>\n",
       "      <td>74189</td>\n",
       "      <td>FR</td>\n",
       "    </tr>\n",
       "    <tr>\n",
       "      <th>2</th>\n",
       "      <td>124203.0</td>\n",
       "      <td>MADAME</td>\n",
       "      <td>NaN</td>\n",
       "      <td>BEA</td>\n",
       "      <td>16/03/2005 0:00:00</td>\n",
       "      <td>12/10/2017 0:00:00</td>\n",
       "      <td>31/10/2018 0:00:00</td>\n",
       "      <td>63070</td>\n",
       "      <td>FR</td>\n",
       "    </tr>\n",
       "    <tr>\n",
       "      <th>3</th>\n",
       "      <td>156190.0</td>\n",
       "      <td>MADAME</td>\n",
       "      <td>24/07/1976 0:00:00</td>\n",
       "      <td>SUR</td>\n",
       "      <td>28/08/2006 0:00:00</td>\n",
       "      <td>24/05/2015 0:00:00</td>\n",
       "      <td>31/05/2016 0:00:00</td>\n",
       "      <td>92026</td>\n",
       "      <td>FR</td>\n",
       "    </tr>\n",
       "    <tr>\n",
       "      <th>4</th>\n",
       "      <td>144444.0</td>\n",
       "      <td>MONSIEUR</td>\n",
       "      <td>NaN</td>\n",
       "      <td>LAB</td>\n",
       "      <td>29/04/2006 0:00:00</td>\n",
       "      <td>18/12/2016 0:00:00</td>\n",
       "      <td>31/12/2017 0:00:00</td>\n",
       "      <td>31555</td>\n",
       "      <td>FR</td>\n",
       "    </tr>\n",
       "    <tr>\n",
       "      <th>...</th>\n",
       "      <td>...</td>\n",
       "      <td>...</td>\n",
       "      <td>...</td>\n",
       "      <td>...</td>\n",
       "      <td>...</td>\n",
       "      <td>...</td>\n",
       "      <td>...</td>\n",
       "      <td>...</td>\n",
       "      <td>...</td>\n",
       "    </tr>\n",
       "    <tr>\n",
       "      <th>845871</th>\n",
       "      <td>1970111.0</td>\n",
       "      <td>MONSIEUR</td>\n",
       "      <td>NaN</td>\n",
       "      <td>IAB</td>\n",
       "      <td>14/04/2011 0:00:00</td>\n",
       "      <td>6/01/2018 0:00:00</td>\n",
       "      <td>31/01/2019 0:00:00</td>\n",
       "      <td>38053</td>\n",
       "      <td>FR</td>\n",
       "    </tr>\n",
       "    <tr>\n",
       "      <th>845872</th>\n",
       "      <td>2297275.0</td>\n",
       "      <td>MONSIEUR</td>\n",
       "      <td>6/02/1988 0:00:00</td>\n",
       "      <td>SEM</td>\n",
       "      <td>7/03/2013 0:00:00</td>\n",
       "      <td>6/01/2018 0:00:00</td>\n",
       "      <td>31/01/2019 0:00:00</td>\n",
       "      <td>57067</td>\n",
       "      <td>FR</td>\n",
       "    </tr>\n",
       "    <tr>\n",
       "      <th>845873</th>\n",
       "      <td>2305548.0</td>\n",
       "      <td>MONSIEUR</td>\n",
       "      <td>NaN</td>\n",
       "      <td>PRI</td>\n",
       "      <td>22/03/2013 0:00:00</td>\n",
       "      <td>6/01/2018 0:00:00</td>\n",
       "      <td>31/01/2019 0:00:00</td>\n",
       "      <td>38318</td>\n",
       "      <td>FR</td>\n",
       "    </tr>\n",
       "    <tr>\n",
       "      <th>845874</th>\n",
       "      <td>84175.0</td>\n",
       "      <td>MADAME</td>\n",
       "      <td>7/04/1950 0:00:00</td>\n",
       "      <td>GAI</td>\n",
       "      <td>29/10/2002 0:00:00</td>\n",
       "      <td>7/01/2018 0:00:00</td>\n",
       "      <td>31/01/2019 0:00:00</td>\n",
       "      <td>74082</td>\n",
       "      <td>FR</td>\n",
       "    </tr>\n",
       "    <tr>\n",
       "      <th>845875</th>\n",
       "      <td>1280004.0</td>\n",
       "      <td>MONSIEUR</td>\n",
       "      <td>NaN</td>\n",
       "      <td>SGL</td>\n",
       "      <td>23/06/2007 0:00:00</td>\n",
       "      <td>7/01/2018 0:00:00</td>\n",
       "      <td>31/01/2019 0:00:00</td>\n",
       "      <td>42218</td>\n",
       "      <td>FR</td>\n",
       "    </tr>\n",
       "  </tbody>\n",
       "</table>\n",
       "<p>735425 rows × 9 columns</p>\n",
       "</div>"
      ],
      "text/plain": [
       "         IDCLIENT  CIVILITE       DATENAISSANCE MAGASIN   DATEDEBUTADHESION  \\\n",
       "0        155891.0    MADAME                 NaN     VLG  13/05/2005 0:00:00   \n",
       "1        156023.0  MONSIEUR   7/08/1966 0:00:00     VLG  14/05/2005 0:00:00   \n",
       "2        124203.0    MADAME                 NaN     BEA  16/03/2005 0:00:00   \n",
       "3        156190.0    MADAME  24/07/1976 0:00:00     SUR  28/08/2006 0:00:00   \n",
       "4        144444.0  MONSIEUR                 NaN     LAB  29/04/2006 0:00:00   \n",
       "...           ...       ...                 ...     ...                 ...   \n",
       "845871  1970111.0  MONSIEUR                 NaN     IAB  14/04/2011 0:00:00   \n",
       "845872  2297275.0  MONSIEUR   6/02/1988 0:00:00     SEM   7/03/2013 0:00:00   \n",
       "845873  2305548.0  MONSIEUR                 NaN     PRI  22/03/2013 0:00:00   \n",
       "845874    84175.0    MADAME   7/04/1950 0:00:00     GAI  29/10/2002 0:00:00   \n",
       "845875  1280004.0  MONSIEUR                 NaN     SGL  23/06/2007 0:00:00   \n",
       "\n",
       "            DATEREADHESION     DATEFINADHESION CODEINSEE PAYS  \n",
       "0        4/04/2017 0:00:00  30/04/2018 0:00:00     74224   FR  \n",
       "1       21/06/2014 0:00:00  30/06/2016 0:00:00     74189   FR  \n",
       "2       12/10/2017 0:00:00  31/10/2018 0:00:00     63070   FR  \n",
       "3       24/05/2015 0:00:00  31/05/2016 0:00:00     92026   FR  \n",
       "4       18/12/2016 0:00:00  31/12/2017 0:00:00     31555   FR  \n",
       "...                    ...                 ...       ...  ...  \n",
       "845871   6/01/2018 0:00:00  31/01/2019 0:00:00     38053   FR  \n",
       "845872   6/01/2018 0:00:00  31/01/2019 0:00:00     57067   FR  \n",
       "845873   6/01/2018 0:00:00  31/01/2019 0:00:00     38318   FR  \n",
       "845874   7/01/2018 0:00:00  31/01/2019 0:00:00     74082   FR  \n",
       "845875   7/01/2018 0:00:00  31/01/2019 0:00:00     42218   FR  \n",
       "\n",
       "[735425 rows x 9 columns]"
      ]
     },
     "execution_count": 9,
     "metadata": {},
     "output_type": "execute_result"
    }
   ],
   "source": [
    "CLIENT"
   ]
  },
  {
   "cell_type": "markdown",
   "metadata": {},
   "source": [
    "La ligne de code ci-dessous nous permet de formater le format de la date."
   ]
  },
  {
   "cell_type": "code",
   "execution_count": 10,
   "metadata": {
    "ExecuteTime": {
     "end_time": "2024-07-09T09:21:28.901433Z",
     "start_time": "2024-07-09T09:21:23.451615Z"
    }
   },
   "outputs": [],
   "source": [
    "# Adapter le format de date pour les colonnes spécifiées\n",
    "date_columns = ['DATENAISSANCE', 'DATEDEBUTADHESION', 'DATEREADHESION', 'DATEFINADHESION']\n",
    "for col in date_columns:\n",
    "    CLIENT[col] = pd.to_datetime(CLIENT[col], format='%d/%m/%Y %H:%M:%S',errors = 'coerce').dt.strftime('%d/%m/%Y')"
   ]
  },
  {
   "cell_type": "markdown",
   "metadata": {},
   "source": [
    "Vérification du traitement."
   ]
  },
  {
   "cell_type": "code",
   "execution_count": 11,
   "metadata": {
    "ExecuteTime": {
     "end_time": "2024-07-09T09:21:28.906444Z",
     "start_time": "2024-07-09T09:21:28.902408Z"
    }
   },
   "outputs": [
    {
     "data": {
      "text/html": [
       "<div>\n",
       "<style scoped>\n",
       "    .dataframe tbody tr th:only-of-type {\n",
       "        vertical-align: middle;\n",
       "    }\n",
       "\n",
       "    .dataframe tbody tr th {\n",
       "        vertical-align: top;\n",
       "    }\n",
       "\n",
       "    .dataframe thead th {\n",
       "        text-align: right;\n",
       "    }\n",
       "</style>\n",
       "<table border=\"1\" class=\"dataframe\">\n",
       "  <thead>\n",
       "    <tr style=\"text-align: right;\">\n",
       "      <th></th>\n",
       "      <th>IDCLIENT</th>\n",
       "      <th>CIVILITE</th>\n",
       "      <th>DATENAISSANCE</th>\n",
       "      <th>MAGASIN</th>\n",
       "      <th>DATEDEBUTADHESION</th>\n",
       "      <th>DATEREADHESION</th>\n",
       "      <th>DATEFINADHESION</th>\n",
       "      <th>CODEINSEE</th>\n",
       "      <th>PAYS</th>\n",
       "    </tr>\n",
       "  </thead>\n",
       "  <tbody>\n",
       "    <tr>\n",
       "      <th>0</th>\n",
       "      <td>155891.0</td>\n",
       "      <td>MADAME</td>\n",
       "      <td>NaN</td>\n",
       "      <td>VLG</td>\n",
       "      <td>13/05/2005</td>\n",
       "      <td>04/04/2017</td>\n",
       "      <td>30/04/2018</td>\n",
       "      <td>74224</td>\n",
       "      <td>FR</td>\n",
       "    </tr>\n",
       "    <tr>\n",
       "      <th>1</th>\n",
       "      <td>156023.0</td>\n",
       "      <td>MONSIEUR</td>\n",
       "      <td>07/08/1966</td>\n",
       "      <td>VLG</td>\n",
       "      <td>14/05/2005</td>\n",
       "      <td>21/06/2014</td>\n",
       "      <td>30/06/2016</td>\n",
       "      <td>74189</td>\n",
       "      <td>FR</td>\n",
       "    </tr>\n",
       "    <tr>\n",
       "      <th>2</th>\n",
       "      <td>124203.0</td>\n",
       "      <td>MADAME</td>\n",
       "      <td>NaN</td>\n",
       "      <td>BEA</td>\n",
       "      <td>16/03/2005</td>\n",
       "      <td>12/10/2017</td>\n",
       "      <td>31/10/2018</td>\n",
       "      <td>63070</td>\n",
       "      <td>FR</td>\n",
       "    </tr>\n",
       "    <tr>\n",
       "      <th>3</th>\n",
       "      <td>156190.0</td>\n",
       "      <td>MADAME</td>\n",
       "      <td>24/07/1976</td>\n",
       "      <td>SUR</td>\n",
       "      <td>28/08/2006</td>\n",
       "      <td>24/05/2015</td>\n",
       "      <td>31/05/2016</td>\n",
       "      <td>92026</td>\n",
       "      <td>FR</td>\n",
       "    </tr>\n",
       "    <tr>\n",
       "      <th>4</th>\n",
       "      <td>144444.0</td>\n",
       "      <td>MONSIEUR</td>\n",
       "      <td>NaN</td>\n",
       "      <td>LAB</td>\n",
       "      <td>29/04/2006</td>\n",
       "      <td>18/12/2016</td>\n",
       "      <td>31/12/2017</td>\n",
       "      <td>31555</td>\n",
       "      <td>FR</td>\n",
       "    </tr>\n",
       "    <tr>\n",
       "      <th>...</th>\n",
       "      <td>...</td>\n",
       "      <td>...</td>\n",
       "      <td>...</td>\n",
       "      <td>...</td>\n",
       "      <td>...</td>\n",
       "      <td>...</td>\n",
       "      <td>...</td>\n",
       "      <td>...</td>\n",
       "      <td>...</td>\n",
       "    </tr>\n",
       "    <tr>\n",
       "      <th>845871</th>\n",
       "      <td>1970111.0</td>\n",
       "      <td>MONSIEUR</td>\n",
       "      <td>NaN</td>\n",
       "      <td>IAB</td>\n",
       "      <td>14/04/2011</td>\n",
       "      <td>06/01/2018</td>\n",
       "      <td>31/01/2019</td>\n",
       "      <td>38053</td>\n",
       "      <td>FR</td>\n",
       "    </tr>\n",
       "    <tr>\n",
       "      <th>845872</th>\n",
       "      <td>2297275.0</td>\n",
       "      <td>MONSIEUR</td>\n",
       "      <td>06/02/1988</td>\n",
       "      <td>SEM</td>\n",
       "      <td>07/03/2013</td>\n",
       "      <td>06/01/2018</td>\n",
       "      <td>31/01/2019</td>\n",
       "      <td>57067</td>\n",
       "      <td>FR</td>\n",
       "    </tr>\n",
       "    <tr>\n",
       "      <th>845873</th>\n",
       "      <td>2305548.0</td>\n",
       "      <td>MONSIEUR</td>\n",
       "      <td>NaN</td>\n",
       "      <td>PRI</td>\n",
       "      <td>22/03/2013</td>\n",
       "      <td>06/01/2018</td>\n",
       "      <td>31/01/2019</td>\n",
       "      <td>38318</td>\n",
       "      <td>FR</td>\n",
       "    </tr>\n",
       "    <tr>\n",
       "      <th>845874</th>\n",
       "      <td>84175.0</td>\n",
       "      <td>MADAME</td>\n",
       "      <td>07/04/1950</td>\n",
       "      <td>GAI</td>\n",
       "      <td>29/10/2002</td>\n",
       "      <td>07/01/2018</td>\n",
       "      <td>31/01/2019</td>\n",
       "      <td>74082</td>\n",
       "      <td>FR</td>\n",
       "    </tr>\n",
       "    <tr>\n",
       "      <th>845875</th>\n",
       "      <td>1280004.0</td>\n",
       "      <td>MONSIEUR</td>\n",
       "      <td>NaN</td>\n",
       "      <td>SGL</td>\n",
       "      <td>23/06/2007</td>\n",
       "      <td>07/01/2018</td>\n",
       "      <td>31/01/2019</td>\n",
       "      <td>42218</td>\n",
       "      <td>FR</td>\n",
       "    </tr>\n",
       "  </tbody>\n",
       "</table>\n",
       "<p>735425 rows × 9 columns</p>\n",
       "</div>"
      ],
      "text/plain": [
       "         IDCLIENT  CIVILITE DATENAISSANCE MAGASIN DATEDEBUTADHESION  \\\n",
       "0        155891.0    MADAME           NaN     VLG        13/05/2005   \n",
       "1        156023.0  MONSIEUR    07/08/1966     VLG        14/05/2005   \n",
       "2        124203.0    MADAME           NaN     BEA        16/03/2005   \n",
       "3        156190.0    MADAME    24/07/1976     SUR        28/08/2006   \n",
       "4        144444.0  MONSIEUR           NaN     LAB        29/04/2006   \n",
       "...           ...       ...           ...     ...               ...   \n",
       "845871  1970111.0  MONSIEUR           NaN     IAB        14/04/2011   \n",
       "845872  2297275.0  MONSIEUR    06/02/1988     SEM        07/03/2013   \n",
       "845873  2305548.0  MONSIEUR           NaN     PRI        22/03/2013   \n",
       "845874    84175.0    MADAME    07/04/1950     GAI        29/10/2002   \n",
       "845875  1280004.0  MONSIEUR           NaN     SGL        23/06/2007   \n",
       "\n",
       "       DATEREADHESION DATEFINADHESION CODEINSEE PAYS  \n",
       "0          04/04/2017      30/04/2018     74224   FR  \n",
       "1          21/06/2014      30/06/2016     74189   FR  \n",
       "2          12/10/2017      31/10/2018     63070   FR  \n",
       "3          24/05/2015      31/05/2016     92026   FR  \n",
       "4          18/12/2016      31/12/2017     31555   FR  \n",
       "...               ...             ...       ...  ...  \n",
       "845871     06/01/2018      31/01/2019     38053   FR  \n",
       "845872     06/01/2018      31/01/2019     57067   FR  \n",
       "845873     06/01/2018      31/01/2019     38318   FR  \n",
       "845874     07/01/2018      31/01/2019     74082   FR  \n",
       "845875     07/01/2018      31/01/2019     42218   FR  \n",
       "\n",
       "[735425 rows x 9 columns]"
      ]
     },
     "execution_count": 11,
     "metadata": {},
     "output_type": "execute_result"
    }
   ],
   "source": [
    "CLIENT"
   ]
  },
  {
   "cell_type": "markdown",
   "metadata": {},
   "source": [
    "Cette ligne de code nous permet d'identifier le nombre d'occurence de chaque civilité, pour identifier les éventuels regroupements à effectuer. "
   ]
  },
  {
   "cell_type": "code",
   "execution_count": 12,
   "metadata": {
    "ExecuteTime": {
     "end_time": "2024-07-09T09:21:30.519052Z",
     "start_time": "2024-07-09T09:21:30.508096Z"
    }
   },
   "outputs": [
    {
     "data": {
      "text/plain": [
       "CIVILITE\n",
       "MADAME      393703\n",
       "MONSIEUR    337360\n",
       "Mr            1431\n",
       "Mme           1284\n",
       "madame         976\n",
       "monsieur       671\n",
       "Name: count, dtype: int64"
      ]
     },
     "execution_count": 12,
     "metadata": {},
     "output_type": "execute_result"
    }
   ],
   "source": [
    "#modalités variables:\n",
    "CLIENT['CIVILITE'].value_counts(dropna = False)"
   ]
  },
  {
   "cell_type": "markdown",
   "metadata": {},
   "source": [
    "Il convient de procéder aux regroupements ci-dessous."
   ]
  },
  {
   "cell_type": "code",
   "execution_count": 13,
   "metadata": {
    "ExecuteTime": {
     "end_time": "2024-07-09T09:21:31.950740Z",
     "start_time": "2024-07-09T09:21:31.789267Z"
    }
   },
   "outputs": [],
   "source": [
    "#regroupement des modalités:\n",
    "CLIENT['CIVILITE']=np.where(CLIENT['CIVILITE'] =='MADAME', 'Madame', CLIENT['CIVILITE']) \n",
    "CLIENT['CIVILITE']=np.where(CLIENT['CIVILITE'] =='Mme', 'Madame', CLIENT['CIVILITE'])\n",
    "CLIENT['CIVILITE']=np.where(CLIENT['CIVILITE'] =='madame', 'Madame', CLIENT['CIVILITE']) \n",
    "CLIENT['CIVILITE']=np.where(CLIENT['CIVILITE'] =='MONSIEUR', 'Monsieur', CLIENT['CIVILITE'])\n",
    "CLIENT['CIVILITE']=np.where(CLIENT['CIVILITE'] =='Mr', 'Monsieur', CLIENT['CIVILITE'])\n",
    "CLIENT['CIVILITE']=np.where(CLIENT['CIVILITE'] =='monsieur', 'Monsieur', CLIENT['CIVILITE'])"
   ]
  },
  {
   "cell_type": "markdown",
   "metadata": {},
   "source": [
    "Vérification du traitement."
   ]
  },
  {
   "cell_type": "code",
   "execution_count": 14,
   "metadata": {
    "ExecuteTime": {
     "end_time": "2024-07-09T09:21:33.447882Z",
     "start_time": "2024-07-09T09:21:33.437281Z"
    }
   },
   "outputs": [
    {
     "data": {
      "text/plain": [
       "CIVILITE\n",
       "Madame      395963\n",
       "Monsieur    339462\n",
       "Name: count, dtype: int64"
      ]
     },
     "execution_count": 14,
     "metadata": {},
     "output_type": "execute_result"
    }
   ],
   "source": [
    "CLIENT['CIVILITE'].value_counts(dropna = False)"
   ]
  },
  {
   "cell_type": "code",
   "execution_count": 15,
   "metadata": {
    "ExecuteTime": {
     "end_time": "2024-07-09T09:21:33.925417Z",
     "start_time": "2024-07-09T09:21:33.901742Z"
    }
   },
   "outputs": [
    {
     "name": "stdout",
     "output_type": "stream",
     "text": [
      "         IDCLIENT  CIVILITE DATENAISSANCE MAGASIN DATEDEBUTADHESION  \\\n",
      "0        155891.0    Madame           NaN     VLG        13/05/2005   \n",
      "1        156023.0  Monsieur    07/08/1966     VLG        14/05/2005   \n",
      "2        124203.0    Madame           NaN     BEA        16/03/2005   \n",
      "3        156190.0    Madame    24/07/1976     SUR        28/08/2006   \n",
      "4        144444.0  Monsieur           NaN     LAB        29/04/2006   \n",
      "...           ...       ...           ...     ...               ...   \n",
      "845871  1970111.0  Monsieur           NaN     IAB        14/04/2011   \n",
      "845872  2297275.0  Monsieur    06/02/1988     SEM        07/03/2013   \n",
      "845873  2305548.0  Monsieur           NaN     PRI        22/03/2013   \n",
      "845874    84175.0    Madame    07/04/1950     GAI        29/10/2002   \n",
      "845875  1280004.0  Monsieur           NaN     SGL        23/06/2007   \n",
      "\n",
      "       DATEREADHESION DATEFINADHESION CODEINSEE PAYS   SEXE  \n",
      "0          04/04/2017      30/04/2018     74224   FR  FEMME  \n",
      "1          21/06/2014      30/06/2016     74189   FR  HOMME  \n",
      "2          12/10/2017      31/10/2018     63070   FR  FEMME  \n",
      "3          24/05/2015      31/05/2016     92026   FR  FEMME  \n",
      "4          18/12/2016      31/12/2017     31555   FR  HOMME  \n",
      "...               ...             ...       ...  ...    ...  \n",
      "845871     06/01/2018      31/01/2019     38053   FR  HOMME  \n",
      "845872     06/01/2018      31/01/2019     57067   FR  HOMME  \n",
      "845873     06/01/2018      31/01/2019     38318   FR  HOMME  \n",
      "845874     07/01/2018      31/01/2019     74082   FR  FEMME  \n",
      "845875     07/01/2018      31/01/2019     42218   FR  HOMME  \n",
      "\n",
      "[735425 rows x 10 columns]\n"
     ]
    }
   ],
   "source": [
    "# Mapping de la colonne CIVILITE pour créer la nouvelle colonne SEXE\n",
    "CLIENT['SEXE'] = CLIENT['CIVILITE'].map({'Monsieur': 'HOMME', 'Madame': 'FEMME'})\n",
    "\n",
    "print(CLIENT)\n"
   ]
  },
  {
   "cell_type": "code",
   "execution_count": 16,
   "metadata": {
    "ExecuteTime": {
     "end_time": "2024-07-09T09:21:34.465718Z",
     "start_time": "2024-07-09T09:21:34.412726Z"
    }
   },
   "outputs": [
    {
     "name": "stdout",
     "output_type": "stream",
     "text": [
      "    SEXE  NbClients\n",
      "0  FEMME     395963\n",
      "1  HOMME     339462\n"
     ]
    }
   ],
   "source": [
    "#Grouper les Clients par Sexe\n",
    "clients_par_sexe = CLIENT.groupby('SEXE')['IDCLIENT'].nunique().reset_index(name='NbClients')\n",
    "\n",
    "print(clients_par_sexe)"
   ]
  },
  {
   "cell_type": "code",
   "execution_count": 17,
   "metadata": {
    "ExecuteTime": {
     "end_time": "2024-07-09T09:21:34.909754Z",
     "start_time": "2024-07-09T09:21:34.871974Z"
    }
   },
   "outputs": [],
   "source": [
    "# Supprimer l'ancienne colonne CIVILITE\n",
    "CLIENT.drop(columns=['CIVILITE'], inplace=True)"
   ]
  },
  {
   "cell_type": "code",
   "execution_count": 18,
   "metadata": {
    "ExecuteTime": {
     "end_time": "2024-07-09T09:21:35.140134Z",
     "start_time": "2024-07-09T09:21:35.134256Z"
    }
   },
   "outputs": [
    {
     "data": {
      "text/html": [
       "<div>\n",
       "<style scoped>\n",
       "    .dataframe tbody tr th:only-of-type {\n",
       "        vertical-align: middle;\n",
       "    }\n",
       "\n",
       "    .dataframe tbody tr th {\n",
       "        vertical-align: top;\n",
       "    }\n",
       "\n",
       "    .dataframe thead th {\n",
       "        text-align: right;\n",
       "    }\n",
       "</style>\n",
       "<table border=\"1\" class=\"dataframe\">\n",
       "  <thead>\n",
       "    <tr style=\"text-align: right;\">\n",
       "      <th></th>\n",
       "      <th>IDCLIENT</th>\n",
       "      <th>DATENAISSANCE</th>\n",
       "      <th>MAGASIN</th>\n",
       "      <th>DATEDEBUTADHESION</th>\n",
       "      <th>DATEREADHESION</th>\n",
       "      <th>DATEFINADHESION</th>\n",
       "      <th>CODEINSEE</th>\n",
       "      <th>PAYS</th>\n",
       "      <th>SEXE</th>\n",
       "    </tr>\n",
       "  </thead>\n",
       "  <tbody>\n",
       "    <tr>\n",
       "      <th>0</th>\n",
       "      <td>155891.0</td>\n",
       "      <td>NaN</td>\n",
       "      <td>VLG</td>\n",
       "      <td>13/05/2005</td>\n",
       "      <td>04/04/2017</td>\n",
       "      <td>30/04/2018</td>\n",
       "      <td>74224</td>\n",
       "      <td>FR</td>\n",
       "      <td>FEMME</td>\n",
       "    </tr>\n",
       "    <tr>\n",
       "      <th>1</th>\n",
       "      <td>156023.0</td>\n",
       "      <td>07/08/1966</td>\n",
       "      <td>VLG</td>\n",
       "      <td>14/05/2005</td>\n",
       "      <td>21/06/2014</td>\n",
       "      <td>30/06/2016</td>\n",
       "      <td>74189</td>\n",
       "      <td>FR</td>\n",
       "      <td>HOMME</td>\n",
       "    </tr>\n",
       "    <tr>\n",
       "      <th>2</th>\n",
       "      <td>124203.0</td>\n",
       "      <td>NaN</td>\n",
       "      <td>BEA</td>\n",
       "      <td>16/03/2005</td>\n",
       "      <td>12/10/2017</td>\n",
       "      <td>31/10/2018</td>\n",
       "      <td>63070</td>\n",
       "      <td>FR</td>\n",
       "      <td>FEMME</td>\n",
       "    </tr>\n",
       "    <tr>\n",
       "      <th>3</th>\n",
       "      <td>156190.0</td>\n",
       "      <td>24/07/1976</td>\n",
       "      <td>SUR</td>\n",
       "      <td>28/08/2006</td>\n",
       "      <td>24/05/2015</td>\n",
       "      <td>31/05/2016</td>\n",
       "      <td>92026</td>\n",
       "      <td>FR</td>\n",
       "      <td>FEMME</td>\n",
       "    </tr>\n",
       "    <tr>\n",
       "      <th>4</th>\n",
       "      <td>144444.0</td>\n",
       "      <td>NaN</td>\n",
       "      <td>LAB</td>\n",
       "      <td>29/04/2006</td>\n",
       "      <td>18/12/2016</td>\n",
       "      <td>31/12/2017</td>\n",
       "      <td>31555</td>\n",
       "      <td>FR</td>\n",
       "      <td>HOMME</td>\n",
       "    </tr>\n",
       "    <tr>\n",
       "      <th>...</th>\n",
       "      <td>...</td>\n",
       "      <td>...</td>\n",
       "      <td>...</td>\n",
       "      <td>...</td>\n",
       "      <td>...</td>\n",
       "      <td>...</td>\n",
       "      <td>...</td>\n",
       "      <td>...</td>\n",
       "      <td>...</td>\n",
       "    </tr>\n",
       "    <tr>\n",
       "      <th>845871</th>\n",
       "      <td>1970111.0</td>\n",
       "      <td>NaN</td>\n",
       "      <td>IAB</td>\n",
       "      <td>14/04/2011</td>\n",
       "      <td>06/01/2018</td>\n",
       "      <td>31/01/2019</td>\n",
       "      <td>38053</td>\n",
       "      <td>FR</td>\n",
       "      <td>HOMME</td>\n",
       "    </tr>\n",
       "    <tr>\n",
       "      <th>845872</th>\n",
       "      <td>2297275.0</td>\n",
       "      <td>06/02/1988</td>\n",
       "      <td>SEM</td>\n",
       "      <td>07/03/2013</td>\n",
       "      <td>06/01/2018</td>\n",
       "      <td>31/01/2019</td>\n",
       "      <td>57067</td>\n",
       "      <td>FR</td>\n",
       "      <td>HOMME</td>\n",
       "    </tr>\n",
       "    <tr>\n",
       "      <th>845873</th>\n",
       "      <td>2305548.0</td>\n",
       "      <td>NaN</td>\n",
       "      <td>PRI</td>\n",
       "      <td>22/03/2013</td>\n",
       "      <td>06/01/2018</td>\n",
       "      <td>31/01/2019</td>\n",
       "      <td>38318</td>\n",
       "      <td>FR</td>\n",
       "      <td>HOMME</td>\n",
       "    </tr>\n",
       "    <tr>\n",
       "      <th>845874</th>\n",
       "      <td>84175.0</td>\n",
       "      <td>07/04/1950</td>\n",
       "      <td>GAI</td>\n",
       "      <td>29/10/2002</td>\n",
       "      <td>07/01/2018</td>\n",
       "      <td>31/01/2019</td>\n",
       "      <td>74082</td>\n",
       "      <td>FR</td>\n",
       "      <td>FEMME</td>\n",
       "    </tr>\n",
       "    <tr>\n",
       "      <th>845875</th>\n",
       "      <td>1280004.0</td>\n",
       "      <td>NaN</td>\n",
       "      <td>SGL</td>\n",
       "      <td>23/06/2007</td>\n",
       "      <td>07/01/2018</td>\n",
       "      <td>31/01/2019</td>\n",
       "      <td>42218</td>\n",
       "      <td>FR</td>\n",
       "      <td>HOMME</td>\n",
       "    </tr>\n",
       "  </tbody>\n",
       "</table>\n",
       "<p>735425 rows × 9 columns</p>\n",
       "</div>"
      ],
      "text/plain": [
       "         IDCLIENT DATENAISSANCE MAGASIN DATEDEBUTADHESION DATEREADHESION  \\\n",
       "0        155891.0           NaN     VLG        13/05/2005     04/04/2017   \n",
       "1        156023.0    07/08/1966     VLG        14/05/2005     21/06/2014   \n",
       "2        124203.0           NaN     BEA        16/03/2005     12/10/2017   \n",
       "3        156190.0    24/07/1976     SUR        28/08/2006     24/05/2015   \n",
       "4        144444.0           NaN     LAB        29/04/2006     18/12/2016   \n",
       "...           ...           ...     ...               ...            ...   \n",
       "845871  1970111.0           NaN     IAB        14/04/2011     06/01/2018   \n",
       "845872  2297275.0    06/02/1988     SEM        07/03/2013     06/01/2018   \n",
       "845873  2305548.0           NaN     PRI        22/03/2013     06/01/2018   \n",
       "845874    84175.0    07/04/1950     GAI        29/10/2002     07/01/2018   \n",
       "845875  1280004.0           NaN     SGL        23/06/2007     07/01/2018   \n",
       "\n",
       "       DATEFINADHESION CODEINSEE PAYS   SEXE  \n",
       "0           30/04/2018     74224   FR  FEMME  \n",
       "1           30/06/2016     74189   FR  HOMME  \n",
       "2           31/10/2018     63070   FR  FEMME  \n",
       "3           31/05/2016     92026   FR  FEMME  \n",
       "4           31/12/2017     31555   FR  HOMME  \n",
       "...                ...       ...  ...    ...  \n",
       "845871      31/01/2019     38053   FR  HOMME  \n",
       "845872      31/01/2019     57067   FR  HOMME  \n",
       "845873      31/01/2019     38318   FR  HOMME  \n",
       "845874      31/01/2019     74082   FR  FEMME  \n",
       "845875      31/01/2019     42218   FR  HOMME  \n",
       "\n",
       "[735425 rows x 9 columns]"
      ]
     },
     "execution_count": 18,
     "metadata": {},
     "output_type": "execute_result"
    }
   ],
   "source": [
    "CLIENT"
   ]
  },
  {
   "cell_type": "markdown",
   "metadata": {},
   "source": [
    "Cette ligne de code nous permet d'identifier le nombre d'occurence de chaque magasin, pour identifier les éventuels regroupements à effectuer."
   ]
  },
  {
   "cell_type": "code",
   "execution_count": 19,
   "metadata": {
    "ExecuteTime": {
     "end_time": "2024-07-09T09:21:36.097845Z",
     "start_time": "2024-07-09T09:21:36.090363Z"
    }
   },
   "outputs": [
    {
     "data": {
      "text/plain": [
       "MAGASIN\n",
       "PRI    23963\n",
       "SEY    23572\n",
       "VIB    22223\n",
       "SUR    20923\n",
       "MOU    20887\n",
       "       ...  \n",
       "VIV     3187\n",
       "SAL     2836\n",
       "STR     2667\n",
       "EST     1145\n",
       "BAR     1039\n",
       "Name: count, Length: 67, dtype: int64"
      ]
     },
     "execution_count": 19,
     "metadata": {},
     "output_type": "execute_result"
    }
   ],
   "source": [
    "CLIENT['MAGASIN'].value_counts(dropna = False)"
   ]
  },
  {
   "cell_type": "markdown",
   "metadata": {},
   "source": [
    "Les données à traiter concernant la France, la série de code ci-dessous nous permet de ne conserver que ce pays."
   ]
  },
  {
   "cell_type": "code",
   "execution_count": 20,
   "metadata": {
    "ExecuteTime": {
     "end_time": "2024-07-09T09:21:37.003685Z",
     "start_time": "2024-07-09T09:21:36.956734Z"
    }
   },
   "outputs": [],
   "source": [
    "# Filtrer les lignes pour ne garder que celles avec \"France\" dans la colonne \"Pays\"\n",
    "CLIENT = CLIENT[CLIENT['PAYS'] == 'FR']\n",
    "\n",
    "# Réindexer le DataFrame après avoir filtré les lignes\n",
    "CLIENT.reset_index(drop=True, inplace=True)"
   ]
  },
  {
   "cell_type": "code",
   "execution_count": 21,
   "metadata": {
    "ExecuteTime": {
     "end_time": "2024-07-09T09:21:37.196501Z",
     "start_time": "2024-07-09T09:21:37.189503Z"
    }
   },
   "outputs": [
    {
     "data": {
      "text/plain": [
       "PAYS\n",
       "FR    720090\n",
       "Name: count, dtype: int64"
      ]
     },
     "execution_count": 21,
     "metadata": {},
     "output_type": "execute_result"
    }
   ],
   "source": [
    "CLIENT['PAYS'].value_counts(dropna = False)"
   ]
  },
  {
   "cell_type": "code",
   "execution_count": 22,
   "metadata": {
    "ExecuteTime": {
     "end_time": "2024-07-09T09:21:37.590472Z",
     "start_time": "2024-07-09T09:21:37.588238Z"
    }
   },
   "outputs": [
    {
     "data": {
      "text/plain": [
       "(720090, 9)"
      ]
     },
     "execution_count": 22,
     "metadata": {},
     "output_type": "execute_result"
    }
   ],
   "source": [
    "CLIENT.shape"
   ]
  },
  {
   "cell_type": "markdown",
   "metadata": {},
   "source": [
    "La serie de codes ci-dessous nous permet de traiter la date de naissance des clients afin d'en déterminer l'âge puis des tranches d'âges."
   ]
  },
  {
   "cell_type": "code",
   "execution_count": 23,
   "metadata": {
    "ExecuteTime": {
     "end_time": "2024-07-09T09:21:38.655225Z",
     "start_time": "2024-07-09T09:21:38.207202Z"
    }
   },
   "outputs": [
    {
     "name": "stdout",
     "output_type": "stream",
     "text": [
      "         IDCLIENT DATENAISSANCE MAGASIN DATEDEBUTADHESION DATEREADHESION  \\\n",
      "0        155891.0           NaT     VLG        13/05/2005     04/04/2017   \n",
      "1        156023.0    1966-08-07     VLG        14/05/2005     21/06/2014   \n",
      "2        124203.0           NaT     BEA        16/03/2005     12/10/2017   \n",
      "3        156190.0    1976-07-24     SUR        28/08/2006     24/05/2015   \n",
      "4        144444.0           NaT     LAB        29/04/2006     18/12/2016   \n",
      "...           ...           ...     ...               ...            ...   \n",
      "720085  1970111.0           NaT     IAB        14/04/2011     06/01/2018   \n",
      "720086  2297275.0    1988-02-06     SEM        07/03/2013     06/01/2018   \n",
      "720087  2305548.0           NaT     PRI        22/03/2013     06/01/2018   \n",
      "720088    84175.0    1950-04-07     GAI        29/10/2002     07/01/2018   \n",
      "720089  1280004.0           NaT     SGL        23/06/2007     07/01/2018   \n",
      "\n",
      "       DATEFINADHESION CODEINSEE PAYS   SEXE   AGE      AGE_GROUP  \n",
      "0           30/04/2018     74224   FR  FEMME   NaN            NaN  \n",
      "1           30/06/2016     74189   FR  HOMME  51.0   AGE DE 46-60  \n",
      "2           31/10/2018     63070   FR  FEMME   NaN            NaN  \n",
      "3           31/05/2016     92026   FR  FEMME  41.0   AGE DE 31-45  \n",
      "4           31/12/2017     31555   FR  HOMME   NaN            NaN  \n",
      "...                ...       ...  ...    ...   ...            ...  \n",
      "720085      31/01/2019     38053   FR  HOMME   NaN            NaN  \n",
      "720086      31/01/2019     57067   FR  HOMME  29.0   AGE DE 18-30  \n",
      "720087      31/01/2019     38318   FR  HOMME   NaN            NaN  \n",
      "720088      31/01/2019     74082   FR  FEMME  67.0  AGE DE 61-100  \n",
      "720089      31/01/2019     42218   FR  HOMME   NaN            NaN  \n",
      "\n",
      "[720090 rows x 11 columns]\n"
     ]
    },
    {
     "name": "stderr",
     "output_type": "stream",
     "text": [
      "C:\\Users\\belga\\AppData\\Local\\Temp\\ipykernel_7028\\3627133065.py:4: SettingWithCopyWarning: \n",
      "A value is trying to be set on a copy of a slice from a DataFrame.\n",
      "Try using .loc[row_indexer,col_indexer] = value instead\n",
      "\n",
      "See the caveats in the documentation: https://pandas.pydata.org/pandas-docs/stable/user_guide/indexing.html#returning-a-view-versus-a-copy\n",
      "  CLIENT['DATENAISSANCE'] = pd.to_datetime(CLIENT['DATENAISSANCE'], dayfirst=True, errors='coerce')\n",
      "C:\\Users\\belga\\AppData\\Local\\Temp\\ipykernel_7028\\3627133065.py:10: SettingWithCopyWarning: \n",
      "A value is trying to be set on a copy of a slice from a DataFrame.\n",
      "Try using .loc[row_indexer,col_indexer] = value instead\n",
      "\n",
      "See the caveats in the documentation: https://pandas.pydata.org/pandas-docs/stable/user_guide/indexing.html#returning-a-view-versus-a-copy\n",
      "  CLIENT['AGE'] = reference_date.year - CLIENT['DATENAISSANCE'].dt.year\n",
      "C:\\Users\\belga\\AppData\\Local\\Temp\\ipykernel_7028\\3627133065.py:24: SettingWithCopyWarning: \n",
      "A value is trying to be set on a copy of a slice from a DataFrame.\n",
      "Try using .loc[row_indexer,col_indexer] = value instead\n",
      "\n",
      "See the caveats in the documentation: https://pandas.pydata.org/pandas-docs/stable/user_guide/indexing.html#returning-a-view-versus-a-copy\n",
      "  CLIENT['AGE_GROUP'] = pd.cut(CLIENT['AGE'], bins=age_bins, labels=age_labels, include_lowest=True)\n"
     ]
    }
   ],
   "source": [
    "import pandas as pd\n",
    "from datetime import datetime# Create the DataFrame\n",
    "# Convertir la colonne 'DATENAISSANCE' au format datetime\n",
    "CLIENT['DATENAISSANCE'] = pd.to_datetime(CLIENT['DATENAISSANCE'], dayfirst=True, errors='coerce')\n",
    "\n",
    "# Définir la date de référence pour le calcul de l'âge\n",
    "reference_date = datetime(2018, 1, 1)\n",
    "\n",
    "# Calculer l'âge des clients basé sur la date de référence\n",
    "CLIENT['AGE'] = reference_date.year - CLIENT['DATENAISSANCE'].dt.year\n",
    "\n",
    "# Ajuster l'âge si l'anniversaire n'est pas encore passé cette année-là\n",
    "past_birthdays = (reference_date.month > CLIENT['DATENAISSANCE'].dt.month) | \\\n",
    "                 ((reference_date.month == CLIENT['DATENAISSANCE'].dt.month) & (reference_date.day >= CLIENT['DATENAISSANCE'].dt.day))\n",
    "\n",
    "# Appliquer l'ajustement pertinent\n",
    "CLIENT.loc[~past_birthdays, 'AGE'] -= 1\n",
    "\n",
    "# Définir les intervalles d'âge et les étiquettes correspondantes\n",
    "age_bins = [18, 30, 45, 60, 100]\n",
    "age_labels = ['AGE DE 18-30', 'AGE DE 31-45', 'AGE DE 46-60', 'AGE DE 61-100']\n",
    "\n",
    "# Catégoriser les âges dans les intervalles définis\n",
    "CLIENT['AGE_GROUP'] = pd.cut(CLIENT['AGE'], bins=age_bins, labels=age_labels, include_lowest=True)\n",
    "\n",
    "# Afficher le DataFrame avec les nouvelles colonnes\n",
    "print(CLIENT)"
   ]
  },
  {
   "cell_type": "markdown",
   "metadata": {},
   "source": [
    "Vérification du traitement."
   ]
  },
  {
   "cell_type": "code",
   "execution_count": 24,
   "metadata": {
    "ExecuteTime": {
     "end_time": "2024-07-09T09:21:39.140928Z",
     "start_time": "2024-07-09T09:21:39.135683Z"
    }
   },
   "outputs": [
    {
     "data": {
      "text/plain": [
       "AGE_GROUP\n",
       "NaN              288110\n",
       "AGE DE 46-60     137070\n",
       "AGE DE 31-45     132554\n",
       "AGE DE 61-100    111017\n",
       "AGE DE 18-30      51339\n",
       "Name: count, dtype: int64"
      ]
     },
     "execution_count": 24,
     "metadata": {},
     "output_type": "execute_result"
    }
   ],
   "source": [
    "CLIENT['AGE_GROUP'].value_counts(dropna = False)"
   ]
  },
  {
   "cell_type": "code",
   "execution_count": 25,
   "metadata": {
    "ExecuteTime": {
     "end_time": "2024-07-09T09:21:39.644445Z",
     "start_time": "2024-07-09T09:21:39.642277Z"
    }
   },
   "outputs": [
    {
     "data": {
      "text/plain": [
       "(720090, 11)"
      ]
     },
     "execution_count": 25,
     "metadata": {},
     "output_type": "execute_result"
    }
   ],
   "source": [
    "CLIENT.shape"
   ]
  },
  {
   "cell_type": "markdown",
   "metadata": {},
   "source": [
    "Après ce traitement, il convient de renommer la variable concernée."
   ]
  },
  {
   "cell_type": "code",
   "execution_count": 26,
   "metadata": {
    "ExecuteTime": {
     "end_time": "2024-07-09T09:21:40.659043Z",
     "start_time": "2024-07-09T09:21:40.589941Z"
    }
   },
   "outputs": [],
   "source": [
    "# Renommer la colonne 'DATENAISSANCE' en 'AGE'\n",
    "CLIENT = CLIENT.rename(columns={'DATENAISSANCE': 'AGE'})"
   ]
  },
  {
   "cell_type": "markdown",
   "metadata": {},
   "source": [
    "Vérification du traitement."
   ]
  },
  {
   "cell_type": "code",
   "execution_count": 27,
   "metadata": {
    "ExecuteTime": {
     "end_time": "2024-07-09T09:21:41.431955Z",
     "start_time": "2024-07-09T09:21:41.425950Z"
    }
   },
   "outputs": [
    {
     "data": {
      "text/html": [
       "<div>\n",
       "<style scoped>\n",
       "    .dataframe tbody tr th:only-of-type {\n",
       "        vertical-align: middle;\n",
       "    }\n",
       "\n",
       "    .dataframe tbody tr th {\n",
       "        vertical-align: top;\n",
       "    }\n",
       "\n",
       "    .dataframe thead th {\n",
       "        text-align: right;\n",
       "    }\n",
       "</style>\n",
       "<table border=\"1\" class=\"dataframe\">\n",
       "  <thead>\n",
       "    <tr style=\"text-align: right;\">\n",
       "      <th></th>\n",
       "      <th>IDCLIENT</th>\n",
       "      <th>AGE</th>\n",
       "      <th>MAGASIN</th>\n",
       "      <th>DATEDEBUTADHESION</th>\n",
       "      <th>DATEREADHESION</th>\n",
       "      <th>DATEFINADHESION</th>\n",
       "      <th>CODEINSEE</th>\n",
       "      <th>PAYS</th>\n",
       "      <th>SEXE</th>\n",
       "      <th>AGE</th>\n",
       "      <th>AGE_GROUP</th>\n",
       "    </tr>\n",
       "  </thead>\n",
       "  <tbody>\n",
       "    <tr>\n",
       "      <th>0</th>\n",
       "      <td>155891.0</td>\n",
       "      <td>NaT</td>\n",
       "      <td>VLG</td>\n",
       "      <td>13/05/2005</td>\n",
       "      <td>04/04/2017</td>\n",
       "      <td>30/04/2018</td>\n",
       "      <td>74224</td>\n",
       "      <td>FR</td>\n",
       "      <td>FEMME</td>\n",
       "      <td>NaN</td>\n",
       "      <td>NaN</td>\n",
       "    </tr>\n",
       "    <tr>\n",
       "      <th>1</th>\n",
       "      <td>156023.0</td>\n",
       "      <td>1966-08-07</td>\n",
       "      <td>VLG</td>\n",
       "      <td>14/05/2005</td>\n",
       "      <td>21/06/2014</td>\n",
       "      <td>30/06/2016</td>\n",
       "      <td>74189</td>\n",
       "      <td>FR</td>\n",
       "      <td>HOMME</td>\n",
       "      <td>51.0</td>\n",
       "      <td>AGE DE 46-60</td>\n",
       "    </tr>\n",
       "    <tr>\n",
       "      <th>2</th>\n",
       "      <td>124203.0</td>\n",
       "      <td>NaT</td>\n",
       "      <td>BEA</td>\n",
       "      <td>16/03/2005</td>\n",
       "      <td>12/10/2017</td>\n",
       "      <td>31/10/2018</td>\n",
       "      <td>63070</td>\n",
       "      <td>FR</td>\n",
       "      <td>FEMME</td>\n",
       "      <td>NaN</td>\n",
       "      <td>NaN</td>\n",
       "    </tr>\n",
       "    <tr>\n",
       "      <th>3</th>\n",
       "      <td>156190.0</td>\n",
       "      <td>1976-07-24</td>\n",
       "      <td>SUR</td>\n",
       "      <td>28/08/2006</td>\n",
       "      <td>24/05/2015</td>\n",
       "      <td>31/05/2016</td>\n",
       "      <td>92026</td>\n",
       "      <td>FR</td>\n",
       "      <td>FEMME</td>\n",
       "      <td>41.0</td>\n",
       "      <td>AGE DE 31-45</td>\n",
       "    </tr>\n",
       "    <tr>\n",
       "      <th>4</th>\n",
       "      <td>144444.0</td>\n",
       "      <td>NaT</td>\n",
       "      <td>LAB</td>\n",
       "      <td>29/04/2006</td>\n",
       "      <td>18/12/2016</td>\n",
       "      <td>31/12/2017</td>\n",
       "      <td>31555</td>\n",
       "      <td>FR</td>\n",
       "      <td>HOMME</td>\n",
       "      <td>NaN</td>\n",
       "      <td>NaN</td>\n",
       "    </tr>\n",
       "    <tr>\n",
       "      <th>...</th>\n",
       "      <td>...</td>\n",
       "      <td>...</td>\n",
       "      <td>...</td>\n",
       "      <td>...</td>\n",
       "      <td>...</td>\n",
       "      <td>...</td>\n",
       "      <td>...</td>\n",
       "      <td>...</td>\n",
       "      <td>...</td>\n",
       "      <td>...</td>\n",
       "      <td>...</td>\n",
       "    </tr>\n",
       "    <tr>\n",
       "      <th>720085</th>\n",
       "      <td>1970111.0</td>\n",
       "      <td>NaT</td>\n",
       "      <td>IAB</td>\n",
       "      <td>14/04/2011</td>\n",
       "      <td>06/01/2018</td>\n",
       "      <td>31/01/2019</td>\n",
       "      <td>38053</td>\n",
       "      <td>FR</td>\n",
       "      <td>HOMME</td>\n",
       "      <td>NaN</td>\n",
       "      <td>NaN</td>\n",
       "    </tr>\n",
       "    <tr>\n",
       "      <th>720086</th>\n",
       "      <td>2297275.0</td>\n",
       "      <td>1988-02-06</td>\n",
       "      <td>SEM</td>\n",
       "      <td>07/03/2013</td>\n",
       "      <td>06/01/2018</td>\n",
       "      <td>31/01/2019</td>\n",
       "      <td>57067</td>\n",
       "      <td>FR</td>\n",
       "      <td>HOMME</td>\n",
       "      <td>29.0</td>\n",
       "      <td>AGE DE 18-30</td>\n",
       "    </tr>\n",
       "    <tr>\n",
       "      <th>720087</th>\n",
       "      <td>2305548.0</td>\n",
       "      <td>NaT</td>\n",
       "      <td>PRI</td>\n",
       "      <td>22/03/2013</td>\n",
       "      <td>06/01/2018</td>\n",
       "      <td>31/01/2019</td>\n",
       "      <td>38318</td>\n",
       "      <td>FR</td>\n",
       "      <td>HOMME</td>\n",
       "      <td>NaN</td>\n",
       "      <td>NaN</td>\n",
       "    </tr>\n",
       "    <tr>\n",
       "      <th>720088</th>\n",
       "      <td>84175.0</td>\n",
       "      <td>1950-04-07</td>\n",
       "      <td>GAI</td>\n",
       "      <td>29/10/2002</td>\n",
       "      <td>07/01/2018</td>\n",
       "      <td>31/01/2019</td>\n",
       "      <td>74082</td>\n",
       "      <td>FR</td>\n",
       "      <td>FEMME</td>\n",
       "      <td>67.0</td>\n",
       "      <td>AGE DE 61-100</td>\n",
       "    </tr>\n",
       "    <tr>\n",
       "      <th>720089</th>\n",
       "      <td>1280004.0</td>\n",
       "      <td>NaT</td>\n",
       "      <td>SGL</td>\n",
       "      <td>23/06/2007</td>\n",
       "      <td>07/01/2018</td>\n",
       "      <td>31/01/2019</td>\n",
       "      <td>42218</td>\n",
       "      <td>FR</td>\n",
       "      <td>HOMME</td>\n",
       "      <td>NaN</td>\n",
       "      <td>NaN</td>\n",
       "    </tr>\n",
       "  </tbody>\n",
       "</table>\n",
       "<p>720090 rows × 11 columns</p>\n",
       "</div>"
      ],
      "text/plain": [
       "         IDCLIENT        AGE MAGASIN DATEDEBUTADHESION DATEREADHESION  \\\n",
       "0        155891.0        NaT     VLG        13/05/2005     04/04/2017   \n",
       "1        156023.0 1966-08-07     VLG        14/05/2005     21/06/2014   \n",
       "2        124203.0        NaT     BEA        16/03/2005     12/10/2017   \n",
       "3        156190.0 1976-07-24     SUR        28/08/2006     24/05/2015   \n",
       "4        144444.0        NaT     LAB        29/04/2006     18/12/2016   \n",
       "...           ...        ...     ...               ...            ...   \n",
       "720085  1970111.0        NaT     IAB        14/04/2011     06/01/2018   \n",
       "720086  2297275.0 1988-02-06     SEM        07/03/2013     06/01/2018   \n",
       "720087  2305548.0        NaT     PRI        22/03/2013     06/01/2018   \n",
       "720088    84175.0 1950-04-07     GAI        29/10/2002     07/01/2018   \n",
       "720089  1280004.0        NaT     SGL        23/06/2007     07/01/2018   \n",
       "\n",
       "       DATEFINADHESION CODEINSEE PAYS   SEXE   AGE      AGE_GROUP  \n",
       "0           30/04/2018     74224   FR  FEMME   NaN            NaN  \n",
       "1           30/06/2016     74189   FR  HOMME  51.0   AGE DE 46-60  \n",
       "2           31/10/2018     63070   FR  FEMME   NaN            NaN  \n",
       "3           31/05/2016     92026   FR  FEMME  41.0   AGE DE 31-45  \n",
       "4           31/12/2017     31555   FR  HOMME   NaN            NaN  \n",
       "...                ...       ...  ...    ...   ...            ...  \n",
       "720085      31/01/2019     38053   FR  HOMME   NaN            NaN  \n",
       "720086      31/01/2019     57067   FR  HOMME  29.0   AGE DE 18-30  \n",
       "720087      31/01/2019     38318   FR  HOMME   NaN            NaN  \n",
       "720088      31/01/2019     74082   FR  FEMME  67.0  AGE DE 61-100  \n",
       "720089      31/01/2019     42218   FR  HOMME   NaN            NaN  \n",
       "\n",
       "[720090 rows x 11 columns]"
      ]
     },
     "execution_count": 27,
     "metadata": {},
     "output_type": "execute_result"
    }
   ],
   "source": [
    "CLIENT"
   ]
  },
  {
   "cell_type": "markdown",
   "metadata": {},
   "source": [
    "Afin d'exploiter de façon optimale les informations, nous allons convetir les l'ID TICKET, l'âge et les tranches d'âges en caractère. Nous n'avons pas nécessité à conserver ces valeurs en numérique."
   ]
  },
  {
   "cell_type": "code",
   "execution_count": 28,
   "metadata": {
    "ExecuteTime": {
     "end_time": "2024-07-09T09:21:42.617124Z",
     "start_time": "2024-07-09T09:21:42.202567Z"
    }
   },
   "outputs": [],
   "source": [
    "CLIENT['IDCLIENT'] = CLIENT['IDCLIENT'].astype(str)\n",
    "CLIENT['AGE'] = CLIENT['AGE'].astype(str)\n",
    "CLIENT['AGE_GROUP'] = CLIENT['AGE_GROUP'].astype(str)"
   ]
  },
  {
   "cell_type": "markdown",
   "metadata": {},
   "source": [
    "Vérification du traitement."
   ]
  },
  {
   "cell_type": "code",
   "execution_count": 29,
   "metadata": {
    "ExecuteTime": {
     "end_time": "2024-07-09T09:21:43.580557Z",
     "start_time": "2024-07-09T09:21:43.457926Z"
    }
   },
   "outputs": [
    {
     "name": "stdout",
     "output_type": "stream",
     "text": [
      "<class 'pandas.core.frame.DataFrame'>\n",
      "RangeIndex: 720090 entries, 0 to 720089\n",
      "Data columns (total 11 columns):\n",
      " #   Column             Non-Null Count   Dtype \n",
      "---  ------             --------------   ----- \n",
      " 0   IDCLIENT           720090 non-null  object\n",
      " 1   AGE                720090 non-null  object\n",
      " 2   MAGASIN            720090 non-null  object\n",
      " 3   DATEDEBUTADHESION  720090 non-null  object\n",
      " 4   DATEREADHESION     410990 non-null  object\n",
      " 5   DATEFINADHESION    720090 non-null  object\n",
      " 6   CODEINSEE          709392 non-null  object\n",
      " 7   PAYS               720090 non-null  object\n",
      " 8   SEXE               720090 non-null  object\n",
      " 9   AGE                720090 non-null  object\n",
      " 10  AGE_GROUP          720090 non-null  object\n",
      "dtypes: object(11)\n",
      "memory usage: 60.4+ MB\n"
     ]
    }
   ],
   "source": [
    "CLIENT.info()"
   ]
  },
  {
   "cell_type": "markdown",
   "metadata": {},
   "source": [
    "La ligne de code ci-dessous nous permet d'identifier les valeurs en doublons qui conviendra de traiter."
   ]
  },
  {
   "cell_type": "code",
   "execution_count": 30,
   "metadata": {
    "ExecuteTime": {
     "end_time": "2024-07-09T09:21:44.926239Z",
     "start_time": "2024-07-09T09:21:44.343437Z"
    }
   },
   "outputs": [
    {
     "name": "stdout",
     "output_type": "stream",
     "text": [
      "0\n"
     ]
    }
   ],
   "source": [
    "print(CLIENT.duplicated().sum())\n",
    "CLIENT = CLIENT.drop_duplicates()"
   ]
  },
  {
   "cell_type": "markdown",
   "metadata": {},
   "source": [
    "Nous procédons également à la vérification de présence ou non de valeurs manquantes."
   ]
  },
  {
   "cell_type": "code",
   "execution_count": 31,
   "metadata": {
    "ExecuteTime": {
     "end_time": "2024-07-09T09:21:45.448616Z",
     "start_time": "2024-07-09T09:21:45.328844Z"
    }
   },
   "outputs": [
    {
     "data": {
      "text/html": [
       "<div>\n",
       "<style scoped>\n",
       "    .dataframe tbody tr th:only-of-type {\n",
       "        vertical-align: middle;\n",
       "    }\n",
       "\n",
       "    .dataframe tbody tr th {\n",
       "        vertical-align: top;\n",
       "    }\n",
       "\n",
       "    .dataframe thead th {\n",
       "        text-align: right;\n",
       "    }\n",
       "</style>\n",
       "<table border=\"1\" class=\"dataframe\">\n",
       "  <thead>\n",
       "    <tr style=\"text-align: right;\">\n",
       "      <th></th>\n",
       "      <th>%_missing_values</th>\n",
       "    </tr>\n",
       "  </thead>\n",
       "  <tbody>\n",
       "    <tr>\n",
       "      <th>IDCLIENT</th>\n",
       "      <td>0.000000</td>\n",
       "    </tr>\n",
       "    <tr>\n",
       "      <th>AGE</th>\n",
       "      <td>0.000000</td>\n",
       "    </tr>\n",
       "    <tr>\n",
       "      <th>MAGASIN</th>\n",
       "      <td>0.000000</td>\n",
       "    </tr>\n",
       "    <tr>\n",
       "      <th>DATEDEBUTADHESION</th>\n",
       "      <td>0.000000</td>\n",
       "    </tr>\n",
       "    <tr>\n",
       "      <th>DATEREADHESION</th>\n",
       "      <td>42.925190</td>\n",
       "    </tr>\n",
       "    <tr>\n",
       "      <th>DATEFINADHESION</th>\n",
       "      <td>0.000000</td>\n",
       "    </tr>\n",
       "    <tr>\n",
       "      <th>CODEINSEE</th>\n",
       "      <td>1.485648</td>\n",
       "    </tr>\n",
       "    <tr>\n",
       "      <th>PAYS</th>\n",
       "      <td>0.000000</td>\n",
       "    </tr>\n",
       "    <tr>\n",
       "      <th>SEXE</th>\n",
       "      <td>0.000000</td>\n",
       "    </tr>\n",
       "    <tr>\n",
       "      <th>AGE</th>\n",
       "      <td>0.000000</td>\n",
       "    </tr>\n",
       "    <tr>\n",
       "      <th>AGE_GROUP</th>\n",
       "      <td>0.000000</td>\n",
       "    </tr>\n",
       "  </tbody>\n",
       "</table>\n",
       "</div>"
      ],
      "text/plain": [
       "                   %_missing_values\n",
       "IDCLIENT                   0.000000\n",
       "AGE                        0.000000\n",
       "MAGASIN                    0.000000\n",
       "DATEDEBUTADHESION          0.000000\n",
       "DATEREADHESION            42.925190\n",
       "DATEFINADHESION            0.000000\n",
       "CODEINSEE                  1.485648\n",
       "PAYS                       0.000000\n",
       "SEXE                       0.000000\n",
       "AGE                        0.000000\n",
       "AGE_GROUP                  0.000000"
      ]
     },
     "execution_count": 31,
     "metadata": {},
     "output_type": "execute_result"
    }
   ],
   "source": [
    "pd.DataFrame(index=CLIENT.columns, columns=['%_missing_values'], data= (CLIENT.isna().sum().values / len(CLIENT)*100))"
   ]
  },
  {
   "cell_type": "markdown",
   "metadata": {},
   "source": [
    "La série de codes ci-dessous nous permet de traiter les valeurs manquantes détéctées, sur les variables concernées."
   ]
  },
  {
   "cell_type": "code",
   "execution_count": 32,
   "metadata": {
    "ExecuteTime": {
     "end_time": "2024-07-09T09:21:46.446933Z",
     "start_time": "2024-07-09T09:21:46.433791Z"
    }
   },
   "outputs": [
    {
     "data": {
      "text/plain": [
       "0         False\n",
       "1         False\n",
       "2         False\n",
       "3         False\n",
       "4         False\n",
       "          ...  \n",
       "720085    False\n",
       "720086    False\n",
       "720087    False\n",
       "720088    False\n",
       "720089    False\n",
       "Name: CODEINSEE, Length: 720090, dtype: bool"
      ]
     },
     "execution_count": 32,
     "metadata": {},
     "output_type": "execute_result"
    }
   ],
   "source": [
    "CLIENT['CODEINSEE'].isnull()"
   ]
  },
  {
   "cell_type": "code",
   "execution_count": 33,
   "metadata": {
    "ExecuteTime": {
     "end_time": "2024-07-09T09:21:46.686225Z",
     "start_time": "2024-07-09T09:21:46.633716Z"
    }
   },
   "outputs": [],
   "source": [
    "CLIENT.dropna(subset=['CODEINSEE'], inplace=True)"
   ]
  },
  {
   "cell_type": "code",
   "execution_count": 34,
   "metadata": {
    "ExecuteTime": {
     "end_time": "2024-07-09T09:21:47.245713Z",
     "start_time": "2024-07-09T09:21:47.233630Z"
    }
   },
   "outputs": [
    {
     "data": {
      "text/plain": [
       "0         False\n",
       "1         False\n",
       "2         False\n",
       "3         False\n",
       "4         False\n",
       "          ...  \n",
       "720085    False\n",
       "720086    False\n",
       "720087    False\n",
       "720088    False\n",
       "720089    False\n",
       "Name: DATEREADHESION, Length: 709392, dtype: bool"
      ]
     },
     "execution_count": 34,
     "metadata": {},
     "output_type": "execute_result"
    }
   ],
   "source": [
    "CLIENT['DATEREADHESION'].isnull()"
   ]
  },
  {
   "cell_type": "code",
   "execution_count": 35,
   "metadata": {
    "ExecuteTime": {
     "end_time": "2024-07-09T09:21:48.131602Z",
     "start_time": "2024-07-09T09:21:48.080652Z"
    }
   },
   "outputs": [],
   "source": [
    "CLIENT.dropna(subset=['DATEREADHESION'], inplace=True)"
   ]
  },
  {
   "cell_type": "code",
   "execution_count": 36,
   "metadata": {
    "ExecuteTime": {
     "end_time": "2024-07-09T09:21:48.637200Z",
     "start_time": "2024-07-09T09:21:48.619827Z"
    }
   },
   "outputs": [
    {
     "data": {
      "text/plain": [
       "0         False\n",
       "1         False\n",
       "2         False\n",
       "3         False\n",
       "4         False\n",
       "          ...  \n",
       "720085    False\n",
       "720086    False\n",
       "720087    False\n",
       "720088    False\n",
       "720089    False\n",
       "Name: AGE_GROUP, Length: 407389, dtype: bool"
      ]
     },
     "execution_count": 36,
     "metadata": {},
     "output_type": "execute_result"
    }
   ],
   "source": [
    "CLIENT['AGE_GROUP'].isnull()"
   ]
  },
  {
   "cell_type": "code",
   "execution_count": 37,
   "metadata": {
    "ExecuteTime": {
     "end_time": "2024-07-09T09:21:48.852619Z",
     "start_time": "2024-07-09T09:21:48.837503Z"
    }
   },
   "outputs": [
    {
     "data": {
      "text/plain": [
       "AGE_GROUP\n",
       "nan              202154\n",
       "AGE DE 46-60      73722\n",
       "AGE DE 61-100     66788\n",
       "AGE DE 31-45      53674\n",
       "AGE DE 18-30      11051\n",
       "Name: count, dtype: int64"
      ]
     },
     "execution_count": 37,
     "metadata": {},
     "output_type": "execute_result"
    }
   ],
   "source": [
    "CLIENT['AGE_GROUP'].value_counts()"
   ]
  },
  {
   "cell_type": "code",
   "execution_count": 38,
   "metadata": {
    "ExecuteTime": {
     "end_time": "2024-07-09T09:21:49.423539Z",
     "start_time": "2024-07-09T09:21:49.398838Z"
    }
   },
   "outputs": [],
   "source": [
    "CLIENT['AGE_GROUP'] = CLIENT['AGE_GROUP'].replace(np.nan, \"Inconnue\")\n"
   ]
  },
  {
   "cell_type": "code",
   "execution_count": 39,
   "metadata": {
    "ExecuteTime": {
     "end_time": "2024-07-09T09:21:50.056711Z",
     "start_time": "2024-07-09T09:21:50.019134Z"
    }
   },
   "outputs": [
    {
     "name": "stdout",
     "output_type": "stream",
     "text": [
      "         IDCLIENT         AGE MAGASIN DATEDEBUTADHESION DATEREADHESION  \\\n",
      "0        155891.0         NaT     VLG        13/05/2005     04/04/2017   \n",
      "1        156023.0  1966-08-07     VLG        14/05/2005     21/06/2014   \n",
      "2        124203.0         NaT     BEA        16/03/2005     12/10/2017   \n",
      "3        156190.0  1976-07-24     SUR        28/08/2006     24/05/2015   \n",
      "4        144444.0         NaT     LAB        29/04/2006     18/12/2016   \n",
      "...           ...         ...     ...               ...            ...   \n",
      "720085  1970111.0         NaT     IAB        14/04/2011     06/01/2018   \n",
      "720086  2297275.0  1988-02-06     SEM        07/03/2013     06/01/2018   \n",
      "720087  2305548.0         NaT     PRI        22/03/2013     06/01/2018   \n",
      "720088    84175.0  1950-04-07     GAI        29/10/2002     07/01/2018   \n",
      "720089  1280004.0         NaT     SGL        23/06/2007     07/01/2018   \n",
      "\n",
      "       DATEFINADHESION CODEINSEE PAYS   SEXE   AGE      AGE_GROUP  \n",
      "0           30/04/2018     74224   FR  FEMME   nan       Inconnue  \n",
      "1           30/06/2016     74189   FR  HOMME  51.0   AGE DE 46-60  \n",
      "2           31/10/2018     63070   FR  FEMME   nan       Inconnue  \n",
      "3           31/05/2016     92026   FR  FEMME  41.0   AGE DE 31-45  \n",
      "4           31/12/2017     31555   FR  HOMME   nan       Inconnue  \n",
      "...                ...       ...  ...    ...   ...            ...  \n",
      "720085      31/01/2019     38053   FR  HOMME   nan       Inconnue  \n",
      "720086      31/01/2019     57067   FR  HOMME  29.0   AGE DE 18-30  \n",
      "720087      31/01/2019     38318   FR  HOMME   nan       Inconnue  \n",
      "720088      31/01/2019     74082   FR  FEMME  67.0  AGE DE 61-100  \n",
      "720089      31/01/2019     42218   FR  HOMME   nan       Inconnue  \n",
      "\n",
      "[407389 rows x 11 columns]\n"
     ]
    }
   ],
   "source": [
    "# Utilisation de `map` pour remplacer 'nan' par 'Inconnue'\n",
    "CLIENT['AGE_GROUP'] = CLIENT['AGE_GROUP'].map(lambda x: 'Inconnue' if x == 'nan' else x)\n",
    "\n",
    "# Affichage du résultat\n",
    "print(CLIENT)"
   ]
  },
  {
   "cell_type": "code",
   "execution_count": 40,
   "metadata": {
    "ExecuteTime": {
     "end_time": "2024-07-09T09:21:50.607178Z",
     "start_time": "2024-07-09T09:21:50.594024Z"
    }
   },
   "outputs": [
    {
     "data": {
      "text/plain": [
       "AGE_GROUP\n",
       "Inconnue         202154\n",
       "AGE DE 46-60      73722\n",
       "AGE DE 61-100     66788\n",
       "AGE DE 31-45      53674\n",
       "AGE DE 18-30      11051\n",
       "Name: count, dtype: int64"
      ]
     },
     "execution_count": 40,
     "metadata": {},
     "output_type": "execute_result"
    }
   ],
   "source": [
    "CLIENT['AGE_GROUP'].value_counts()"
   ]
  },
  {
   "cell_type": "code",
   "execution_count": 41,
   "metadata": {
    "ExecuteTime": {
     "end_time": "2024-07-09T09:23:13.009725Z",
     "start_time": "2024-07-09T09:23:12.918397Z"
    }
   },
   "outputs": [],
   "source": [
    "CLIENT.dropna(subset=['AGE_GROUP'], inplace=True)"
   ]
  },
  {
   "cell_type": "markdown",
   "metadata": {},
   "source": [
    "Vérification du taitement."
   ]
  },
  {
   "cell_type": "code",
   "execution_count": 42,
   "metadata": {
    "ExecuteTime": {
     "end_time": "2024-07-09T09:23:13.926688Z",
     "start_time": "2024-07-09T09:23:13.921676Z"
    }
   },
   "outputs": [
    {
     "data": {
      "text/html": [
       "<div>\n",
       "<style scoped>\n",
       "    .dataframe tbody tr th:only-of-type {\n",
       "        vertical-align: middle;\n",
       "    }\n",
       "\n",
       "    .dataframe tbody tr th {\n",
       "        vertical-align: top;\n",
       "    }\n",
       "\n",
       "    .dataframe thead th {\n",
       "        text-align: right;\n",
       "    }\n",
       "</style>\n",
       "<table border=\"1\" class=\"dataframe\">\n",
       "  <thead>\n",
       "    <tr style=\"text-align: right;\">\n",
       "      <th></th>\n",
       "      <th>IDCLIENT</th>\n",
       "      <th>AGE</th>\n",
       "      <th>MAGASIN</th>\n",
       "      <th>DATEDEBUTADHESION</th>\n",
       "      <th>DATEREADHESION</th>\n",
       "      <th>DATEFINADHESION</th>\n",
       "      <th>CODEINSEE</th>\n",
       "      <th>PAYS</th>\n",
       "      <th>SEXE</th>\n",
       "      <th>AGE</th>\n",
       "      <th>AGE_GROUP</th>\n",
       "    </tr>\n",
       "  </thead>\n",
       "  <tbody>\n",
       "    <tr>\n",
       "      <th>0</th>\n",
       "      <td>155891.0</td>\n",
       "      <td>NaT</td>\n",
       "      <td>VLG</td>\n",
       "      <td>13/05/2005</td>\n",
       "      <td>04/04/2017</td>\n",
       "      <td>30/04/2018</td>\n",
       "      <td>74224</td>\n",
       "      <td>FR</td>\n",
       "      <td>FEMME</td>\n",
       "      <td>nan</td>\n",
       "      <td>Inconnue</td>\n",
       "    </tr>\n",
       "    <tr>\n",
       "      <th>1</th>\n",
       "      <td>156023.0</td>\n",
       "      <td>1966-08-07</td>\n",
       "      <td>VLG</td>\n",
       "      <td>14/05/2005</td>\n",
       "      <td>21/06/2014</td>\n",
       "      <td>30/06/2016</td>\n",
       "      <td>74189</td>\n",
       "      <td>FR</td>\n",
       "      <td>HOMME</td>\n",
       "      <td>51.0</td>\n",
       "      <td>AGE DE 46-60</td>\n",
       "    </tr>\n",
       "    <tr>\n",
       "      <th>2</th>\n",
       "      <td>124203.0</td>\n",
       "      <td>NaT</td>\n",
       "      <td>BEA</td>\n",
       "      <td>16/03/2005</td>\n",
       "      <td>12/10/2017</td>\n",
       "      <td>31/10/2018</td>\n",
       "      <td>63070</td>\n",
       "      <td>FR</td>\n",
       "      <td>FEMME</td>\n",
       "      <td>nan</td>\n",
       "      <td>Inconnue</td>\n",
       "    </tr>\n",
       "    <tr>\n",
       "      <th>3</th>\n",
       "      <td>156190.0</td>\n",
       "      <td>1976-07-24</td>\n",
       "      <td>SUR</td>\n",
       "      <td>28/08/2006</td>\n",
       "      <td>24/05/2015</td>\n",
       "      <td>31/05/2016</td>\n",
       "      <td>92026</td>\n",
       "      <td>FR</td>\n",
       "      <td>FEMME</td>\n",
       "      <td>41.0</td>\n",
       "      <td>AGE DE 31-45</td>\n",
       "    </tr>\n",
       "    <tr>\n",
       "      <th>4</th>\n",
       "      <td>144444.0</td>\n",
       "      <td>NaT</td>\n",
       "      <td>LAB</td>\n",
       "      <td>29/04/2006</td>\n",
       "      <td>18/12/2016</td>\n",
       "      <td>31/12/2017</td>\n",
       "      <td>31555</td>\n",
       "      <td>FR</td>\n",
       "      <td>HOMME</td>\n",
       "      <td>nan</td>\n",
       "      <td>Inconnue</td>\n",
       "    </tr>\n",
       "    <tr>\n",
       "      <th>...</th>\n",
       "      <td>...</td>\n",
       "      <td>...</td>\n",
       "      <td>...</td>\n",
       "      <td>...</td>\n",
       "      <td>...</td>\n",
       "      <td>...</td>\n",
       "      <td>...</td>\n",
       "      <td>...</td>\n",
       "      <td>...</td>\n",
       "      <td>...</td>\n",
       "      <td>...</td>\n",
       "    </tr>\n",
       "    <tr>\n",
       "      <th>720085</th>\n",
       "      <td>1970111.0</td>\n",
       "      <td>NaT</td>\n",
       "      <td>IAB</td>\n",
       "      <td>14/04/2011</td>\n",
       "      <td>06/01/2018</td>\n",
       "      <td>31/01/2019</td>\n",
       "      <td>38053</td>\n",
       "      <td>FR</td>\n",
       "      <td>HOMME</td>\n",
       "      <td>nan</td>\n",
       "      <td>Inconnue</td>\n",
       "    </tr>\n",
       "    <tr>\n",
       "      <th>720086</th>\n",
       "      <td>2297275.0</td>\n",
       "      <td>1988-02-06</td>\n",
       "      <td>SEM</td>\n",
       "      <td>07/03/2013</td>\n",
       "      <td>06/01/2018</td>\n",
       "      <td>31/01/2019</td>\n",
       "      <td>57067</td>\n",
       "      <td>FR</td>\n",
       "      <td>HOMME</td>\n",
       "      <td>29.0</td>\n",
       "      <td>AGE DE 18-30</td>\n",
       "    </tr>\n",
       "    <tr>\n",
       "      <th>720087</th>\n",
       "      <td>2305548.0</td>\n",
       "      <td>NaT</td>\n",
       "      <td>PRI</td>\n",
       "      <td>22/03/2013</td>\n",
       "      <td>06/01/2018</td>\n",
       "      <td>31/01/2019</td>\n",
       "      <td>38318</td>\n",
       "      <td>FR</td>\n",
       "      <td>HOMME</td>\n",
       "      <td>nan</td>\n",
       "      <td>Inconnue</td>\n",
       "    </tr>\n",
       "    <tr>\n",
       "      <th>720088</th>\n",
       "      <td>84175.0</td>\n",
       "      <td>1950-04-07</td>\n",
       "      <td>GAI</td>\n",
       "      <td>29/10/2002</td>\n",
       "      <td>07/01/2018</td>\n",
       "      <td>31/01/2019</td>\n",
       "      <td>74082</td>\n",
       "      <td>FR</td>\n",
       "      <td>FEMME</td>\n",
       "      <td>67.0</td>\n",
       "      <td>AGE DE 61-100</td>\n",
       "    </tr>\n",
       "    <tr>\n",
       "      <th>720089</th>\n",
       "      <td>1280004.0</td>\n",
       "      <td>NaT</td>\n",
       "      <td>SGL</td>\n",
       "      <td>23/06/2007</td>\n",
       "      <td>07/01/2018</td>\n",
       "      <td>31/01/2019</td>\n",
       "      <td>42218</td>\n",
       "      <td>FR</td>\n",
       "      <td>HOMME</td>\n",
       "      <td>nan</td>\n",
       "      <td>Inconnue</td>\n",
       "    </tr>\n",
       "  </tbody>\n",
       "</table>\n",
       "<p>407389 rows × 11 columns</p>\n",
       "</div>"
      ],
      "text/plain": [
       "         IDCLIENT         AGE MAGASIN DATEDEBUTADHESION DATEREADHESION  \\\n",
       "0        155891.0         NaT     VLG        13/05/2005     04/04/2017   \n",
       "1        156023.0  1966-08-07     VLG        14/05/2005     21/06/2014   \n",
       "2        124203.0         NaT     BEA        16/03/2005     12/10/2017   \n",
       "3        156190.0  1976-07-24     SUR        28/08/2006     24/05/2015   \n",
       "4        144444.0         NaT     LAB        29/04/2006     18/12/2016   \n",
       "...           ...         ...     ...               ...            ...   \n",
       "720085  1970111.0         NaT     IAB        14/04/2011     06/01/2018   \n",
       "720086  2297275.0  1988-02-06     SEM        07/03/2013     06/01/2018   \n",
       "720087  2305548.0         NaT     PRI        22/03/2013     06/01/2018   \n",
       "720088    84175.0  1950-04-07     GAI        29/10/2002     07/01/2018   \n",
       "720089  1280004.0         NaT     SGL        23/06/2007     07/01/2018   \n",
       "\n",
       "       DATEFINADHESION CODEINSEE PAYS   SEXE   AGE      AGE_GROUP  \n",
       "0           30/04/2018     74224   FR  FEMME   nan       Inconnue  \n",
       "1           30/06/2016     74189   FR  HOMME  51.0   AGE DE 46-60  \n",
       "2           31/10/2018     63070   FR  FEMME   nan       Inconnue  \n",
       "3           31/05/2016     92026   FR  FEMME  41.0   AGE DE 31-45  \n",
       "4           31/12/2017     31555   FR  HOMME   nan       Inconnue  \n",
       "...                ...       ...  ...    ...   ...            ...  \n",
       "720085      31/01/2019     38053   FR  HOMME   nan       Inconnue  \n",
       "720086      31/01/2019     57067   FR  HOMME  29.0   AGE DE 18-30  \n",
       "720087      31/01/2019     38318   FR  HOMME   nan       Inconnue  \n",
       "720088      31/01/2019     74082   FR  FEMME  67.0  AGE DE 61-100  \n",
       "720089      31/01/2019     42218   FR  HOMME   nan       Inconnue  \n",
       "\n",
       "[407389 rows x 11 columns]"
      ]
     },
     "execution_count": 42,
     "metadata": {},
     "output_type": "execute_result"
    }
   ],
   "source": [
    "CLIENT"
   ]
  },
  {
   "cell_type": "code",
   "execution_count": 43,
   "metadata": {
    "ExecuteTime": {
     "end_time": "2024-07-09T09:23:14.748205Z",
     "start_time": "2024-07-09T09:23:14.679201Z"
    }
   },
   "outputs": [
    {
     "data": {
      "text/html": [
       "<div>\n",
       "<style scoped>\n",
       "    .dataframe tbody tr th:only-of-type {\n",
       "        vertical-align: middle;\n",
       "    }\n",
       "\n",
       "    .dataframe tbody tr th {\n",
       "        vertical-align: top;\n",
       "    }\n",
       "\n",
       "    .dataframe thead th {\n",
       "        text-align: right;\n",
       "    }\n",
       "</style>\n",
       "<table border=\"1\" class=\"dataframe\">\n",
       "  <thead>\n",
       "    <tr style=\"text-align: right;\">\n",
       "      <th></th>\n",
       "      <th>%_missing_values</th>\n",
       "    </tr>\n",
       "  </thead>\n",
       "  <tbody>\n",
       "    <tr>\n",
       "      <th>IDCLIENT</th>\n",
       "      <td>0.0</td>\n",
       "    </tr>\n",
       "    <tr>\n",
       "      <th>AGE</th>\n",
       "      <td>0.0</td>\n",
       "    </tr>\n",
       "    <tr>\n",
       "      <th>MAGASIN</th>\n",
       "      <td>0.0</td>\n",
       "    </tr>\n",
       "    <tr>\n",
       "      <th>DATEDEBUTADHESION</th>\n",
       "      <td>0.0</td>\n",
       "    </tr>\n",
       "    <tr>\n",
       "      <th>DATEREADHESION</th>\n",
       "      <td>0.0</td>\n",
       "    </tr>\n",
       "    <tr>\n",
       "      <th>DATEFINADHESION</th>\n",
       "      <td>0.0</td>\n",
       "    </tr>\n",
       "    <tr>\n",
       "      <th>CODEINSEE</th>\n",
       "      <td>0.0</td>\n",
       "    </tr>\n",
       "    <tr>\n",
       "      <th>PAYS</th>\n",
       "      <td>0.0</td>\n",
       "    </tr>\n",
       "    <tr>\n",
       "      <th>SEXE</th>\n",
       "      <td>0.0</td>\n",
       "    </tr>\n",
       "    <tr>\n",
       "      <th>AGE</th>\n",
       "      <td>0.0</td>\n",
       "    </tr>\n",
       "    <tr>\n",
       "      <th>AGE_GROUP</th>\n",
       "      <td>0.0</td>\n",
       "    </tr>\n",
       "  </tbody>\n",
       "</table>\n",
       "</div>"
      ],
      "text/plain": [
       "                   %_missing_values\n",
       "IDCLIENT                        0.0\n",
       "AGE                             0.0\n",
       "MAGASIN                         0.0\n",
       "DATEDEBUTADHESION               0.0\n",
       "DATEREADHESION                  0.0\n",
       "DATEFINADHESION                 0.0\n",
       "CODEINSEE                       0.0\n",
       "PAYS                            0.0\n",
       "SEXE                            0.0\n",
       "AGE                             0.0\n",
       "AGE_GROUP                       0.0"
      ]
     },
     "execution_count": 43,
     "metadata": {},
     "output_type": "execute_result"
    }
   ],
   "source": [
    "pd.DataFrame(index=CLIENT.columns, columns=['%_missing_values'], data= (CLIENT.isna().sum().values / len(CLIENT)*100))"
   ]
  },
  {
   "cell_type": "markdown",
   "metadata": {},
   "source": [
    "Le traitement des valeurs aberrantes ne concernant que les variables numériques, nous n'allons pas procéder à ce traitement car aucune de nos variables n'est concernées sur ce dataframe."
   ]
  },
  {
   "cell_type": "markdown",
   "metadata": {},
   "source": [
    "Suppression des colonnes dont les informations nous serons pas nécessairement utiles dans le cadre de notre projet."
   ]
  },
  {
   "cell_type": "code",
   "execution_count": 44,
   "metadata": {
    "ExecuteTime": {
     "end_time": "2024-07-09T09:23:15.717234Z",
     "start_time": "2024-07-09T09:23:15.689684Z"
    }
   },
   "outputs": [],
   "source": [
    "CLIENT.drop(columns=['PAYS'], inplace=True)"
   ]
  },
  {
   "cell_type": "code",
   "execution_count": 45,
   "metadata": {
    "ExecuteTime": {
     "end_time": "2024-07-09T09:23:15.926761Z",
     "start_time": "2024-07-09T09:23:15.905160Z"
    }
   },
   "outputs": [],
   "source": [
    "CLIENT.drop(columns=['AGE'], inplace=True)"
   ]
  },
  {
   "cell_type": "code",
   "execution_count": 46,
   "metadata": {
    "ExecuteTime": {
     "end_time": "2024-07-09T09:23:16.137319Z",
     "start_time": "2024-07-09T09:23:16.115977Z"
    }
   },
   "outputs": [],
   "source": [
    "CLIENT.drop(columns=['CODEINSEE'], inplace=True)"
   ]
  },
  {
   "cell_type": "code",
   "execution_count": 47,
   "metadata": {
    "ExecuteTime": {
     "end_time": "2024-07-09T09:23:16.310230Z",
     "start_time": "2024-07-09T09:23:16.306426Z"
    }
   },
   "outputs": [
    {
     "data": {
      "text/html": [
       "<div>\n",
       "<style scoped>\n",
       "    .dataframe tbody tr th:only-of-type {\n",
       "        vertical-align: middle;\n",
       "    }\n",
       "\n",
       "    .dataframe tbody tr th {\n",
       "        vertical-align: top;\n",
       "    }\n",
       "\n",
       "    .dataframe thead th {\n",
       "        text-align: right;\n",
       "    }\n",
       "</style>\n",
       "<table border=\"1\" class=\"dataframe\">\n",
       "  <thead>\n",
       "    <tr style=\"text-align: right;\">\n",
       "      <th></th>\n",
       "      <th>IDCLIENT</th>\n",
       "      <th>MAGASIN</th>\n",
       "      <th>DATEDEBUTADHESION</th>\n",
       "      <th>DATEREADHESION</th>\n",
       "      <th>DATEFINADHESION</th>\n",
       "      <th>SEXE</th>\n",
       "      <th>AGE_GROUP</th>\n",
       "    </tr>\n",
       "  </thead>\n",
       "  <tbody>\n",
       "    <tr>\n",
       "      <th>0</th>\n",
       "      <td>155891.0</td>\n",
       "      <td>VLG</td>\n",
       "      <td>13/05/2005</td>\n",
       "      <td>04/04/2017</td>\n",
       "      <td>30/04/2018</td>\n",
       "      <td>FEMME</td>\n",
       "      <td>Inconnue</td>\n",
       "    </tr>\n",
       "    <tr>\n",
       "      <th>1</th>\n",
       "      <td>156023.0</td>\n",
       "      <td>VLG</td>\n",
       "      <td>14/05/2005</td>\n",
       "      <td>21/06/2014</td>\n",
       "      <td>30/06/2016</td>\n",
       "      <td>HOMME</td>\n",
       "      <td>AGE DE 46-60</td>\n",
       "    </tr>\n",
       "    <tr>\n",
       "      <th>2</th>\n",
       "      <td>124203.0</td>\n",
       "      <td>BEA</td>\n",
       "      <td>16/03/2005</td>\n",
       "      <td>12/10/2017</td>\n",
       "      <td>31/10/2018</td>\n",
       "      <td>FEMME</td>\n",
       "      <td>Inconnue</td>\n",
       "    </tr>\n",
       "    <tr>\n",
       "      <th>3</th>\n",
       "      <td>156190.0</td>\n",
       "      <td>SUR</td>\n",
       "      <td>28/08/2006</td>\n",
       "      <td>24/05/2015</td>\n",
       "      <td>31/05/2016</td>\n",
       "      <td>FEMME</td>\n",
       "      <td>AGE DE 31-45</td>\n",
       "    </tr>\n",
       "    <tr>\n",
       "      <th>4</th>\n",
       "      <td>144444.0</td>\n",
       "      <td>LAB</td>\n",
       "      <td>29/04/2006</td>\n",
       "      <td>18/12/2016</td>\n",
       "      <td>31/12/2017</td>\n",
       "      <td>HOMME</td>\n",
       "      <td>Inconnue</td>\n",
       "    </tr>\n",
       "    <tr>\n",
       "      <th>...</th>\n",
       "      <td>...</td>\n",
       "      <td>...</td>\n",
       "      <td>...</td>\n",
       "      <td>...</td>\n",
       "      <td>...</td>\n",
       "      <td>...</td>\n",
       "      <td>...</td>\n",
       "    </tr>\n",
       "    <tr>\n",
       "      <th>720085</th>\n",
       "      <td>1970111.0</td>\n",
       "      <td>IAB</td>\n",
       "      <td>14/04/2011</td>\n",
       "      <td>06/01/2018</td>\n",
       "      <td>31/01/2019</td>\n",
       "      <td>HOMME</td>\n",
       "      <td>Inconnue</td>\n",
       "    </tr>\n",
       "    <tr>\n",
       "      <th>720086</th>\n",
       "      <td>2297275.0</td>\n",
       "      <td>SEM</td>\n",
       "      <td>07/03/2013</td>\n",
       "      <td>06/01/2018</td>\n",
       "      <td>31/01/2019</td>\n",
       "      <td>HOMME</td>\n",
       "      <td>AGE DE 18-30</td>\n",
       "    </tr>\n",
       "    <tr>\n",
       "      <th>720087</th>\n",
       "      <td>2305548.0</td>\n",
       "      <td>PRI</td>\n",
       "      <td>22/03/2013</td>\n",
       "      <td>06/01/2018</td>\n",
       "      <td>31/01/2019</td>\n",
       "      <td>HOMME</td>\n",
       "      <td>Inconnue</td>\n",
       "    </tr>\n",
       "    <tr>\n",
       "      <th>720088</th>\n",
       "      <td>84175.0</td>\n",
       "      <td>GAI</td>\n",
       "      <td>29/10/2002</td>\n",
       "      <td>07/01/2018</td>\n",
       "      <td>31/01/2019</td>\n",
       "      <td>FEMME</td>\n",
       "      <td>AGE DE 61-100</td>\n",
       "    </tr>\n",
       "    <tr>\n",
       "      <th>720089</th>\n",
       "      <td>1280004.0</td>\n",
       "      <td>SGL</td>\n",
       "      <td>23/06/2007</td>\n",
       "      <td>07/01/2018</td>\n",
       "      <td>31/01/2019</td>\n",
       "      <td>HOMME</td>\n",
       "      <td>Inconnue</td>\n",
       "    </tr>\n",
       "  </tbody>\n",
       "</table>\n",
       "<p>407389 rows × 7 columns</p>\n",
       "</div>"
      ],
      "text/plain": [
       "         IDCLIENT MAGASIN DATEDEBUTADHESION DATEREADHESION DATEFINADHESION  \\\n",
       "0        155891.0     VLG        13/05/2005     04/04/2017      30/04/2018   \n",
       "1        156023.0     VLG        14/05/2005     21/06/2014      30/06/2016   \n",
       "2        124203.0     BEA        16/03/2005     12/10/2017      31/10/2018   \n",
       "3        156190.0     SUR        28/08/2006     24/05/2015      31/05/2016   \n",
       "4        144444.0     LAB        29/04/2006     18/12/2016      31/12/2017   \n",
       "...           ...     ...               ...            ...             ...   \n",
       "720085  1970111.0     IAB        14/04/2011     06/01/2018      31/01/2019   \n",
       "720086  2297275.0     SEM        07/03/2013     06/01/2018      31/01/2019   \n",
       "720087  2305548.0     PRI        22/03/2013     06/01/2018      31/01/2019   \n",
       "720088    84175.0     GAI        29/10/2002     07/01/2018      31/01/2019   \n",
       "720089  1280004.0     SGL        23/06/2007     07/01/2018      31/01/2019   \n",
       "\n",
       "         SEXE      AGE_GROUP  \n",
       "0       FEMME       Inconnue  \n",
       "1       HOMME   AGE DE 46-60  \n",
       "2       FEMME       Inconnue  \n",
       "3       FEMME   AGE DE 31-45  \n",
       "4       HOMME       Inconnue  \n",
       "...       ...            ...  \n",
       "720085  HOMME       Inconnue  \n",
       "720086  HOMME   AGE DE 18-30  \n",
       "720087  HOMME       Inconnue  \n",
       "720088  FEMME  AGE DE 61-100  \n",
       "720089  HOMME       Inconnue  \n",
       "\n",
       "[407389 rows x 7 columns]"
      ]
     },
     "execution_count": 47,
     "metadata": {},
     "output_type": "execute_result"
    }
   ],
   "source": [
    "CLIENT"
   ]
  },
  {
   "cell_type": "markdown",
   "metadata": {},
   "source": [
    "La série de codes ci-dessous nous permet de modifier le format des dates de début et de fin d'adhésion afin de calculer l'ancienneté des clients."
   ]
  },
  {
   "cell_type": "code",
   "execution_count": 48,
   "metadata": {
    "ExecuteTime": {
     "end_time": "2024-07-09T09:23:17.372103Z",
     "start_time": "2024-07-09T09:23:17.300028Z"
    }
   },
   "outputs": [
    {
     "name": "stdout",
     "output_type": "stream",
     "text": [
      "         IDCLIENT MAGASIN DATEDEBUTADHESION DATEREADHESION DATEFINADHESION  \\\n",
      "0        155891.0     VLG        2005-05-13     04/04/2017      2018-04-30   \n",
      "1        156023.0     VLG        2005-05-14     21/06/2014      2016-06-30   \n",
      "2        124203.0     BEA        2005-03-16     12/10/2017      2018-10-31   \n",
      "3        156190.0     SUR        2006-08-28     24/05/2015      2016-05-31   \n",
      "4        144444.0     LAB        2006-04-29     18/12/2016      2017-12-31   \n",
      "...           ...     ...               ...            ...             ...   \n",
      "720085  1970111.0     IAB        2011-04-14     06/01/2018      2019-01-31   \n",
      "720086  2297275.0     SEM        2013-03-07     06/01/2018      2019-01-31   \n",
      "720087  2305548.0     PRI        2013-03-22     06/01/2018      2019-01-31   \n",
      "720088    84175.0     GAI        2002-10-29     07/01/2018      2019-01-31   \n",
      "720089  1280004.0     SGL        2007-06-23     07/01/2018      2019-01-31   \n",
      "\n",
      "         SEXE      AGE_GROUP  ANCIENNETE_ADHESION ANCIENNETE_ADHESION_CAT  \n",
      "0       FEMME       Inconnue            12.963723                  8 ans+  \n",
      "1       HOMME   AGE DE 46-60            11.129363                  8 ans+  \n",
      "2       FEMME       Inconnue            13.626283                  8 ans+  \n",
      "3       FEMME   AGE DE 31-45             9.757700                  8 ans+  \n",
      "4       HOMME       Inconnue            11.674196                  8 ans+  \n",
      "...       ...            ...                  ...                     ...  \n",
      "720085  HOMME       Inconnue             7.800137                 5-8 ans  \n",
      "720086  HOMME   AGE DE 18-30             5.902806                 5-8 ans  \n",
      "720087  HOMME       Inconnue             5.861739                 5-8 ans  \n",
      "720088  FEMME  AGE DE 61-100            16.257358                  8 ans+  \n",
      "720089  HOMME       Inconnue            11.608487                  8 ans+  \n",
      "\n",
      "[407389 rows x 9 columns]\n",
      "ANCIENNETE_ADHESION_CAT\n",
      "8 ans+     166323\n",
      "5-8 ans     98553\n",
      "3-5 ans     83094\n",
      "2-3 ans     58886\n",
      "1-2 ans       507\n",
      "0-1 an         26\n",
      "Name: count, dtype: int64\n"
     ]
    }
   ],
   "source": [
    "import datetime\n",
    "from datetime import timedelta\n",
    "# Convertir les colonnes en type datetime\n",
    "CLIENT['DATEDEBUTADHESION'] = pd.to_datetime(CLIENT['DATEDEBUTADHESION'], dayfirst=True)\n",
    "CLIENT['DATEFINADHESION'] = pd.to_datetime(CLIENT['DATEFINADHESION'], dayfirst=True)\n",
    "\n",
    "# Calculer l'ancienneté en années\n",
    "CLIENT['ANCIENNETE_ADHESION'] = (CLIENT['DATEFINADHESION'] - CLIENT['DATEDEBUTADHESION']) / timedelta(days=365.25)\n",
    "\n",
    "# Définir les bins en années\n",
    "bins = [0, 1, 2, 3, 5, 8, float('inf')]\n",
    "labels = ['0-1 an', '1-2 ans', '2-3 ans', '3-5 ans', '5-8 ans','8 ans+']\n",
    "\n",
    "# Créer une nouvelle colonne 'ANCIENNETE_ADHESION_CAT' pour les catégories basées sur les bins d'années\n",
    "CLIENT['ANCIENNETE_ADHESION_CAT'] = pd.cut(CLIENT['ANCIENNETE_ADHESION'], bins=bins, labels=labels, right=False)\n",
    "\n",
    "# Afficher le DataFrame mis à jour\n",
    "print(CLIENT)\n",
    "\n",
    "# Voir la description des bins\n",
    "print(CLIENT['ANCIENNETE_ADHESION_CAT'].value_counts())"
   ]
  },
  {
   "cell_type": "code",
   "execution_count": 49,
   "metadata": {
    "ExecuteTime": {
     "end_time": "2024-07-09T09:23:18.211086Z",
     "start_time": "2024-07-09T09:23:18.204322Z"
    }
   },
   "outputs": [
    {
     "data": {
      "text/html": [
       "<div>\n",
       "<style scoped>\n",
       "    .dataframe tbody tr th:only-of-type {\n",
       "        vertical-align: middle;\n",
       "    }\n",
       "\n",
       "    .dataframe tbody tr th {\n",
       "        vertical-align: top;\n",
       "    }\n",
       "\n",
       "    .dataframe thead th {\n",
       "        text-align: right;\n",
       "    }\n",
       "</style>\n",
       "<table border=\"1\" class=\"dataframe\">\n",
       "  <thead>\n",
       "    <tr style=\"text-align: right;\">\n",
       "      <th></th>\n",
       "      <th>IDCLIENT</th>\n",
       "      <th>MAGASIN</th>\n",
       "      <th>DATEDEBUTADHESION</th>\n",
       "      <th>DATEREADHESION</th>\n",
       "      <th>DATEFINADHESION</th>\n",
       "      <th>SEXE</th>\n",
       "      <th>AGE_GROUP</th>\n",
       "      <th>ANCIENNETE_ADHESION</th>\n",
       "      <th>ANCIENNETE_ADHESION_CAT</th>\n",
       "    </tr>\n",
       "  </thead>\n",
       "  <tbody>\n",
       "    <tr>\n",
       "      <th>0</th>\n",
       "      <td>155891.0</td>\n",
       "      <td>VLG</td>\n",
       "      <td>2005-05-13</td>\n",
       "      <td>04/04/2017</td>\n",
       "      <td>2018-04-30</td>\n",
       "      <td>FEMME</td>\n",
       "      <td>Inconnue</td>\n",
       "      <td>12.963723</td>\n",
       "      <td>8 ans+</td>\n",
       "    </tr>\n",
       "    <tr>\n",
       "      <th>1</th>\n",
       "      <td>156023.0</td>\n",
       "      <td>VLG</td>\n",
       "      <td>2005-05-14</td>\n",
       "      <td>21/06/2014</td>\n",
       "      <td>2016-06-30</td>\n",
       "      <td>HOMME</td>\n",
       "      <td>AGE DE 46-60</td>\n",
       "      <td>11.129363</td>\n",
       "      <td>8 ans+</td>\n",
       "    </tr>\n",
       "    <tr>\n",
       "      <th>2</th>\n",
       "      <td>124203.0</td>\n",
       "      <td>BEA</td>\n",
       "      <td>2005-03-16</td>\n",
       "      <td>12/10/2017</td>\n",
       "      <td>2018-10-31</td>\n",
       "      <td>FEMME</td>\n",
       "      <td>Inconnue</td>\n",
       "      <td>13.626283</td>\n",
       "      <td>8 ans+</td>\n",
       "    </tr>\n",
       "    <tr>\n",
       "      <th>3</th>\n",
       "      <td>156190.0</td>\n",
       "      <td>SUR</td>\n",
       "      <td>2006-08-28</td>\n",
       "      <td>24/05/2015</td>\n",
       "      <td>2016-05-31</td>\n",
       "      <td>FEMME</td>\n",
       "      <td>AGE DE 31-45</td>\n",
       "      <td>9.757700</td>\n",
       "      <td>8 ans+</td>\n",
       "    </tr>\n",
       "    <tr>\n",
       "      <th>4</th>\n",
       "      <td>144444.0</td>\n",
       "      <td>LAB</td>\n",
       "      <td>2006-04-29</td>\n",
       "      <td>18/12/2016</td>\n",
       "      <td>2017-12-31</td>\n",
       "      <td>HOMME</td>\n",
       "      <td>Inconnue</td>\n",
       "      <td>11.674196</td>\n",
       "      <td>8 ans+</td>\n",
       "    </tr>\n",
       "    <tr>\n",
       "      <th>...</th>\n",
       "      <td>...</td>\n",
       "      <td>...</td>\n",
       "      <td>...</td>\n",
       "      <td>...</td>\n",
       "      <td>...</td>\n",
       "      <td>...</td>\n",
       "      <td>...</td>\n",
       "      <td>...</td>\n",
       "      <td>...</td>\n",
       "    </tr>\n",
       "    <tr>\n",
       "      <th>720085</th>\n",
       "      <td>1970111.0</td>\n",
       "      <td>IAB</td>\n",
       "      <td>2011-04-14</td>\n",
       "      <td>06/01/2018</td>\n",
       "      <td>2019-01-31</td>\n",
       "      <td>HOMME</td>\n",
       "      <td>Inconnue</td>\n",
       "      <td>7.800137</td>\n",
       "      <td>5-8 ans</td>\n",
       "    </tr>\n",
       "    <tr>\n",
       "      <th>720086</th>\n",
       "      <td>2297275.0</td>\n",
       "      <td>SEM</td>\n",
       "      <td>2013-03-07</td>\n",
       "      <td>06/01/2018</td>\n",
       "      <td>2019-01-31</td>\n",
       "      <td>HOMME</td>\n",
       "      <td>AGE DE 18-30</td>\n",
       "      <td>5.902806</td>\n",
       "      <td>5-8 ans</td>\n",
       "    </tr>\n",
       "    <tr>\n",
       "      <th>720087</th>\n",
       "      <td>2305548.0</td>\n",
       "      <td>PRI</td>\n",
       "      <td>2013-03-22</td>\n",
       "      <td>06/01/2018</td>\n",
       "      <td>2019-01-31</td>\n",
       "      <td>HOMME</td>\n",
       "      <td>Inconnue</td>\n",
       "      <td>5.861739</td>\n",
       "      <td>5-8 ans</td>\n",
       "    </tr>\n",
       "    <tr>\n",
       "      <th>720088</th>\n",
       "      <td>84175.0</td>\n",
       "      <td>GAI</td>\n",
       "      <td>2002-10-29</td>\n",
       "      <td>07/01/2018</td>\n",
       "      <td>2019-01-31</td>\n",
       "      <td>FEMME</td>\n",
       "      <td>AGE DE 61-100</td>\n",
       "      <td>16.257358</td>\n",
       "      <td>8 ans+</td>\n",
       "    </tr>\n",
       "    <tr>\n",
       "      <th>720089</th>\n",
       "      <td>1280004.0</td>\n",
       "      <td>SGL</td>\n",
       "      <td>2007-06-23</td>\n",
       "      <td>07/01/2018</td>\n",
       "      <td>2019-01-31</td>\n",
       "      <td>HOMME</td>\n",
       "      <td>Inconnue</td>\n",
       "      <td>11.608487</td>\n",
       "      <td>8 ans+</td>\n",
       "    </tr>\n",
       "  </tbody>\n",
       "</table>\n",
       "<p>407389 rows × 9 columns</p>\n",
       "</div>"
      ],
      "text/plain": [
       "         IDCLIENT MAGASIN DATEDEBUTADHESION DATEREADHESION DATEFINADHESION  \\\n",
       "0        155891.0     VLG        2005-05-13     04/04/2017      2018-04-30   \n",
       "1        156023.0     VLG        2005-05-14     21/06/2014      2016-06-30   \n",
       "2        124203.0     BEA        2005-03-16     12/10/2017      2018-10-31   \n",
       "3        156190.0     SUR        2006-08-28     24/05/2015      2016-05-31   \n",
       "4        144444.0     LAB        2006-04-29     18/12/2016      2017-12-31   \n",
       "...           ...     ...               ...            ...             ...   \n",
       "720085  1970111.0     IAB        2011-04-14     06/01/2018      2019-01-31   \n",
       "720086  2297275.0     SEM        2013-03-07     06/01/2018      2019-01-31   \n",
       "720087  2305548.0     PRI        2013-03-22     06/01/2018      2019-01-31   \n",
       "720088    84175.0     GAI        2002-10-29     07/01/2018      2019-01-31   \n",
       "720089  1280004.0     SGL        2007-06-23     07/01/2018      2019-01-31   \n",
       "\n",
       "         SEXE      AGE_GROUP  ANCIENNETE_ADHESION ANCIENNETE_ADHESION_CAT  \n",
       "0       FEMME       Inconnue            12.963723                  8 ans+  \n",
       "1       HOMME   AGE DE 46-60            11.129363                  8 ans+  \n",
       "2       FEMME       Inconnue            13.626283                  8 ans+  \n",
       "3       FEMME   AGE DE 31-45             9.757700                  8 ans+  \n",
       "4       HOMME       Inconnue            11.674196                  8 ans+  \n",
       "...       ...            ...                  ...                     ...  \n",
       "720085  HOMME       Inconnue             7.800137                 5-8 ans  \n",
       "720086  HOMME   AGE DE 18-30             5.902806                 5-8 ans  \n",
       "720087  HOMME       Inconnue             5.861739                 5-8 ans  \n",
       "720088  FEMME  AGE DE 61-100            16.257358                  8 ans+  \n",
       "720089  HOMME       Inconnue            11.608487                  8 ans+  \n",
       "\n",
       "[407389 rows x 9 columns]"
      ]
     },
     "execution_count": 49,
     "metadata": {},
     "output_type": "execute_result"
    }
   ],
   "source": [
    "CLIENT"
   ]
  },
  {
   "cell_type": "markdown",
   "metadata": {},
   "source": [
    "Ci-dessous, nous procédons à la suppression des dates de début et de fin d'adhésion car nous n'en avons plus besoin."
   ]
  },
  {
   "cell_type": "code",
   "execution_count": 50,
   "metadata": {
    "ExecuteTime": {
     "end_time": "2024-07-09T09:23:20.005992Z",
     "start_time": "2024-07-09T09:23:19.986529Z"
    }
   },
   "outputs": [],
   "source": [
    "CLIENT.drop(columns=['DATEDEBUTADHESION'], inplace=True)"
   ]
  },
  {
   "cell_type": "code",
   "execution_count": 51,
   "metadata": {
    "ExecuteTime": {
     "end_time": "2024-07-09T09:23:20.206910Z",
     "start_time": "2024-07-09T09:23:20.191755Z"
    }
   },
   "outputs": [],
   "source": [
    "CLIENT.drop(columns=['DATEFINADHESION'], inplace=True)"
   ]
  },
  {
   "cell_type": "markdown",
   "metadata": {},
   "source": [
    "Vérification des traitements."
   ]
  },
  {
   "cell_type": "code",
   "execution_count": 52,
   "metadata": {
    "ExecuteTime": {
     "end_time": "2024-07-09T09:23:21.098267Z",
     "start_time": "2024-07-09T09:23:21.093201Z"
    }
   },
   "outputs": [
    {
     "data": {
      "text/html": [
       "<div>\n",
       "<style scoped>\n",
       "    .dataframe tbody tr th:only-of-type {\n",
       "        vertical-align: middle;\n",
       "    }\n",
       "\n",
       "    .dataframe tbody tr th {\n",
       "        vertical-align: top;\n",
       "    }\n",
       "\n",
       "    .dataframe thead th {\n",
       "        text-align: right;\n",
       "    }\n",
       "</style>\n",
       "<table border=\"1\" class=\"dataframe\">\n",
       "  <thead>\n",
       "    <tr style=\"text-align: right;\">\n",
       "      <th></th>\n",
       "      <th>IDCLIENT</th>\n",
       "      <th>MAGASIN</th>\n",
       "      <th>DATEREADHESION</th>\n",
       "      <th>SEXE</th>\n",
       "      <th>AGE_GROUP</th>\n",
       "      <th>ANCIENNETE_ADHESION</th>\n",
       "      <th>ANCIENNETE_ADHESION_CAT</th>\n",
       "    </tr>\n",
       "  </thead>\n",
       "  <tbody>\n",
       "    <tr>\n",
       "      <th>0</th>\n",
       "      <td>155891.0</td>\n",
       "      <td>VLG</td>\n",
       "      <td>04/04/2017</td>\n",
       "      <td>FEMME</td>\n",
       "      <td>Inconnue</td>\n",
       "      <td>12.963723</td>\n",
       "      <td>8 ans+</td>\n",
       "    </tr>\n",
       "    <tr>\n",
       "      <th>1</th>\n",
       "      <td>156023.0</td>\n",
       "      <td>VLG</td>\n",
       "      <td>21/06/2014</td>\n",
       "      <td>HOMME</td>\n",
       "      <td>AGE DE 46-60</td>\n",
       "      <td>11.129363</td>\n",
       "      <td>8 ans+</td>\n",
       "    </tr>\n",
       "    <tr>\n",
       "      <th>2</th>\n",
       "      <td>124203.0</td>\n",
       "      <td>BEA</td>\n",
       "      <td>12/10/2017</td>\n",
       "      <td>FEMME</td>\n",
       "      <td>Inconnue</td>\n",
       "      <td>13.626283</td>\n",
       "      <td>8 ans+</td>\n",
       "    </tr>\n",
       "    <tr>\n",
       "      <th>3</th>\n",
       "      <td>156190.0</td>\n",
       "      <td>SUR</td>\n",
       "      <td>24/05/2015</td>\n",
       "      <td>FEMME</td>\n",
       "      <td>AGE DE 31-45</td>\n",
       "      <td>9.757700</td>\n",
       "      <td>8 ans+</td>\n",
       "    </tr>\n",
       "    <tr>\n",
       "      <th>4</th>\n",
       "      <td>144444.0</td>\n",
       "      <td>LAB</td>\n",
       "      <td>18/12/2016</td>\n",
       "      <td>HOMME</td>\n",
       "      <td>Inconnue</td>\n",
       "      <td>11.674196</td>\n",
       "      <td>8 ans+</td>\n",
       "    </tr>\n",
       "    <tr>\n",
       "      <th>...</th>\n",
       "      <td>...</td>\n",
       "      <td>...</td>\n",
       "      <td>...</td>\n",
       "      <td>...</td>\n",
       "      <td>...</td>\n",
       "      <td>...</td>\n",
       "      <td>...</td>\n",
       "    </tr>\n",
       "    <tr>\n",
       "      <th>720085</th>\n",
       "      <td>1970111.0</td>\n",
       "      <td>IAB</td>\n",
       "      <td>06/01/2018</td>\n",
       "      <td>HOMME</td>\n",
       "      <td>Inconnue</td>\n",
       "      <td>7.800137</td>\n",
       "      <td>5-8 ans</td>\n",
       "    </tr>\n",
       "    <tr>\n",
       "      <th>720086</th>\n",
       "      <td>2297275.0</td>\n",
       "      <td>SEM</td>\n",
       "      <td>06/01/2018</td>\n",
       "      <td>HOMME</td>\n",
       "      <td>AGE DE 18-30</td>\n",
       "      <td>5.902806</td>\n",
       "      <td>5-8 ans</td>\n",
       "    </tr>\n",
       "    <tr>\n",
       "      <th>720087</th>\n",
       "      <td>2305548.0</td>\n",
       "      <td>PRI</td>\n",
       "      <td>06/01/2018</td>\n",
       "      <td>HOMME</td>\n",
       "      <td>Inconnue</td>\n",
       "      <td>5.861739</td>\n",
       "      <td>5-8 ans</td>\n",
       "    </tr>\n",
       "    <tr>\n",
       "      <th>720088</th>\n",
       "      <td>84175.0</td>\n",
       "      <td>GAI</td>\n",
       "      <td>07/01/2018</td>\n",
       "      <td>FEMME</td>\n",
       "      <td>AGE DE 61-100</td>\n",
       "      <td>16.257358</td>\n",
       "      <td>8 ans+</td>\n",
       "    </tr>\n",
       "    <tr>\n",
       "      <th>720089</th>\n",
       "      <td>1280004.0</td>\n",
       "      <td>SGL</td>\n",
       "      <td>07/01/2018</td>\n",
       "      <td>HOMME</td>\n",
       "      <td>Inconnue</td>\n",
       "      <td>11.608487</td>\n",
       "      <td>8 ans+</td>\n",
       "    </tr>\n",
       "  </tbody>\n",
       "</table>\n",
       "<p>407389 rows × 7 columns</p>\n",
       "</div>"
      ],
      "text/plain": [
       "         IDCLIENT MAGASIN DATEREADHESION   SEXE      AGE_GROUP  \\\n",
       "0        155891.0     VLG     04/04/2017  FEMME       Inconnue   \n",
       "1        156023.0     VLG     21/06/2014  HOMME   AGE DE 46-60   \n",
       "2        124203.0     BEA     12/10/2017  FEMME       Inconnue   \n",
       "3        156190.0     SUR     24/05/2015  FEMME   AGE DE 31-45   \n",
       "4        144444.0     LAB     18/12/2016  HOMME       Inconnue   \n",
       "...           ...     ...            ...    ...            ...   \n",
       "720085  1970111.0     IAB     06/01/2018  HOMME       Inconnue   \n",
       "720086  2297275.0     SEM     06/01/2018  HOMME   AGE DE 18-30   \n",
       "720087  2305548.0     PRI     06/01/2018  HOMME       Inconnue   \n",
       "720088    84175.0     GAI     07/01/2018  FEMME  AGE DE 61-100   \n",
       "720089  1280004.0     SGL     07/01/2018  HOMME       Inconnue   \n",
       "\n",
       "        ANCIENNETE_ADHESION ANCIENNETE_ADHESION_CAT  \n",
       "0                 12.963723                  8 ans+  \n",
       "1                 11.129363                  8 ans+  \n",
       "2                 13.626283                  8 ans+  \n",
       "3                  9.757700                  8 ans+  \n",
       "4                 11.674196                  8 ans+  \n",
       "...                     ...                     ...  \n",
       "720085             7.800137                 5-8 ans  \n",
       "720086             5.902806                 5-8 ans  \n",
       "720087             5.861739                 5-8 ans  \n",
       "720088            16.257358                  8 ans+  \n",
       "720089            11.608487                  8 ans+  \n",
       "\n",
       "[407389 rows x 7 columns]"
      ]
     },
     "execution_count": 52,
     "metadata": {},
     "output_type": "execute_result"
    }
   ],
   "source": [
    "CLIENT"
   ]
  },
  {
   "cell_type": "code",
   "execution_count": 53,
   "metadata": {
    "ExecuteTime": {
     "end_time": "2024-07-09T09:23:21.999894Z",
     "start_time": "2024-07-09T09:23:21.952610Z"
    }
   },
   "outputs": [
    {
     "name": "stdout",
     "output_type": "stream",
     "text": [
      "<class 'pandas.core.frame.DataFrame'>\n",
      "Index: 407389 entries, 0 to 720089\n",
      "Data columns (total 7 columns):\n",
      " #   Column                   Non-Null Count   Dtype   \n",
      "---  ------                   --------------   -----   \n",
      " 0   IDCLIENT                 407389 non-null  object  \n",
      " 1   MAGASIN                  407389 non-null  object  \n",
      " 2   DATEREADHESION           407389 non-null  object  \n",
      " 3   SEXE                     407389 non-null  object  \n",
      " 4   AGE_GROUP                407389 non-null  object  \n",
      " 5   ANCIENNETE_ADHESION      407389 non-null  float64 \n",
      " 6   ANCIENNETE_ADHESION_CAT  407389 non-null  category\n",
      "dtypes: category(1), float64(1), object(5)\n",
      "memory usage: 22.1+ MB\n"
     ]
    }
   ],
   "source": [
    "CLIENT.info()"
   ]
  },
  {
   "cell_type": "markdown",
   "metadata": {},
   "source": [
    "Le code ci-dessous va également nous permettre de modifier le format de la date de ré-adhésion."
   ]
  },
  {
   "cell_type": "code",
   "execution_count": 54,
   "metadata": {
    "ExecuteTime": {
     "end_time": "2024-07-09T09:23:25.513853Z",
     "start_time": "2024-07-09T09:23:25.163695Z"
    }
   },
   "outputs": [
    {
     "name": "stdout",
     "output_type": "stream",
     "text": [
      "(203760, 7)\n",
      "         IDCLIENT MAGASIN DATEREADHESION   SEXE      AGE_GROUP  \\\n",
      "0        155891.0     VLG     2017-04-04  FEMME       Inconnue   \n",
      "2        124203.0     BEA     2017-10-12  FEMME       Inconnue   \n",
      "5        104768.0     SMR     2017-11-05  FEMME       Inconnue   \n",
      "8        104550.0     OBE     2017-10-19  FEMME  AGE DE 61-100   \n",
      "9        104601.0     OBE     2017-09-01  FEMME   AGE DE 31-45   \n",
      "...           ...     ...            ...    ...            ...   \n",
      "719975   336771.0     BEA     2017-12-30  FEMME       Inconnue   \n",
      "719976  1709516.0     VIB     2017-12-30  HOMME       Inconnue   \n",
      "719977  1866695.0     MAN     2017-12-30  FEMME  AGE DE 61-100   \n",
      "719978  2098666.0     CLI     2017-12-30  HOMME       Inconnue   \n",
      "720049   402282.0     VIB     2017-12-31  HOMME   AGE DE 46-60   \n",
      "\n",
      "        ANCIENNETE_ADHESION ANCIENNETE_ADHESION_CAT  \n",
      "0                 12.963723                  8 ans+  \n",
      "2                 13.626283                  8 ans+  \n",
      "5                 13.719370                  8 ans+  \n",
      "8                 13.544148                  8 ans+  \n",
      "9                 13.456537                  8 ans+  \n",
      "...                     ...                     ...  \n",
      "719975            12.654346                  8 ans+  \n",
      "719976             9.204654                  8 ans+  \n",
      "719977             8.254620                  8 ans+  \n",
      "719978             6.976044                 5-8 ans  \n",
      "720049            12.632444                  8 ans+  \n",
      "\n",
      "[203760 rows x 7 columns]\n"
     ]
    }
   ],
   "source": [
    "# Convertir la colonne 'DATEREADHESION' en type datetime en spécifiant dayfirst=True\n",
    "CLIENT['DATEREADHESION'] = pd.to_datetime(CLIENT['DATEREADHESION'], dayfirst=True)\n",
    "\n",
    "# Filtrer pour ne garder que les adhésions de l'année 2017\n",
    "CLIENT = CLIENT[CLIENT['DATEREADHESION'].dt.year == 2017]\n",
    "\n",
    "# Vérifier la nouvelle forme du DataFrame\n",
    "print(CLIENT.shape)\n",
    "\n",
    "# Afficher le DataFrame pour vérifier les résultats\n",
    "print(CLIENT)"
   ]
  },
  {
   "cell_type": "code",
   "execution_count": 55,
   "metadata": {
    "ExecuteTime": {
     "end_time": "2024-07-09T09:23:38.629052Z",
     "start_time": "2024-07-09T09:23:38.604227Z"
    }
   },
   "outputs": [
    {
     "name": "stdout",
     "output_type": "stream",
     "text": [
      "(203760, 8)\n",
      "         IDCLIENT MAGASIN DATEREADHESION   SEXE      AGE_GROUP  \\\n",
      "0        155891.0     VLG     2017-04-04  FEMME       Inconnue   \n",
      "2        124203.0     BEA     2017-10-12  FEMME       Inconnue   \n",
      "5        104768.0     SMR     2017-11-05  FEMME       Inconnue   \n",
      "8        104550.0     OBE     2017-10-19  FEMME  AGE DE 61-100   \n",
      "9        104601.0     OBE     2017-09-01  FEMME   AGE DE 31-45   \n",
      "...           ...     ...            ...    ...            ...   \n",
      "719975   336771.0     BEA     2017-12-30  FEMME       Inconnue   \n",
      "719976  1709516.0     VIB     2017-12-30  HOMME       Inconnue   \n",
      "719977  1866695.0     MAN     2017-12-30  FEMME  AGE DE 61-100   \n",
      "719978  2098666.0     CLI     2017-12-30  HOMME       Inconnue   \n",
      "720049   402282.0     VIB     2017-12-31  HOMME   AGE DE 46-60   \n",
      "\n",
      "        ANCIENNETE_ADHESION ANCIENNETE_ADHESION_CAT  Anciennete  \n",
      "0                 12.963723                  8 ans+         271  \n",
      "2                 13.626283                  8 ans+          80  \n",
      "5                 13.719370                  8 ans+          56  \n",
      "8                 13.544148                  8 ans+          73  \n",
      "9                 13.456537                  8 ans+         121  \n",
      "...                     ...                     ...         ...  \n",
      "719975            12.654346                  8 ans+           1  \n",
      "719976             9.204654                  8 ans+           1  \n",
      "719977             8.254620                  8 ans+           1  \n",
      "719978             6.976044                 5-8 ans           1  \n",
      "720049            12.632444                  8 ans+           0  \n",
      "\n",
      "[203760 rows x 8 columns]\n"
     ]
    }
   ],
   "source": [
    "# Supposons que 'date_max' est initialisé quelque part avant\n",
    "date_ref = pd.to_datetime('31/12/2017', dayfirst=True)\n",
    "# Si CLIENT est déjà filtré, assurez-vous de travailler sur une copie propre de ce DataFrame\n",
    "CLIENT = CLIENT.copy()\n",
    "\n",
    "# Calculer l'ancienneté en jours\n",
    "CLIENT.loc[:, 'Anciennete'] = (date_ref - CLIENT['DATEREADHESION']).dt.days\n",
    "\n",
    "# Remplace les valeurs NaN par 0 jours, et mettre cette colonne à un type entier.\n",
    "CLIENT.loc[:, 'Anciennete'] = CLIENT['Anciennete'].fillna(0).astype(int)\n",
    "\n",
    "# Vérifier la nouvelle forme du DataFrame\n",
    "print(CLIENT.shape)\n",
    "\n",
    "# Afficher le DataFrame\n",
    "print(CLIENT)"
   ]
  },
  {
   "cell_type": "code",
   "execution_count": 56,
   "metadata": {
    "ExecuteTime": {
     "end_time": "2024-07-09T09:24:54.214701Z",
     "start_time": "2024-07-09T09:24:54.202666Z"
    }
   },
   "outputs": [
    {
     "name": "stdout",
     "output_type": "stream",
     "text": [
      "         IDCLIENT MAGASIN DATEREADHESION   SEXE      AGE_GROUP  \\\n",
      "0        155891.0     VLG     2017-04-04  FEMME       Inconnue   \n",
      "2        124203.0     BEA     2017-10-12  FEMME       Inconnue   \n",
      "5        104768.0     SMR     2017-11-05  FEMME       Inconnue   \n",
      "8        104550.0     OBE     2017-10-19  FEMME  AGE DE 61-100   \n",
      "9        104601.0     OBE     2017-09-01  FEMME   AGE DE 31-45   \n",
      "...           ...     ...            ...    ...            ...   \n",
      "719975   336771.0     BEA     2017-12-30  FEMME       Inconnue   \n",
      "719976  1709516.0     VIB     2017-12-30  HOMME       Inconnue   \n",
      "719977  1866695.0     MAN     2017-12-30  FEMME  AGE DE 61-100   \n",
      "719978  2098666.0     CLI     2017-12-30  HOMME       Inconnue   \n",
      "720049   402282.0     VIB     2017-12-31  HOMME   AGE DE 46-60   \n",
      "\n",
      "        ANCIENNETE_ADHESION ANCIENNETE_ADHESION_CAT  Anciennete  \\\n",
      "0                 12.963723                  8 ans+         271   \n",
      "2                 13.626283                  8 ans+          80   \n",
      "5                 13.719370                  8 ans+          56   \n",
      "8                 13.544148                  8 ans+          73   \n",
      "9                 13.456537                  8 ans+         121   \n",
      "...                     ...                     ...         ...   \n",
      "719975            12.654346                  8 ans+           1   \n",
      "719976             9.204654                  8 ans+           1   \n",
      "719977             8.254620                  8 ans+           1   \n",
      "719978             6.976044                 5-8 ans           1   \n",
      "720049            12.632444                  8 ans+           0   \n",
      "\n",
      "        Anciennete_months ANCIENNETE_READ  \n",
      "0                8.902760       8-10 mois  \n",
      "2                2.628121        0-4 mois  \n",
      "5                1.839685        0-4 mois  \n",
      "8                2.398160        0-4 mois  \n",
      "9                3.975033        0-4 mois  \n",
      "...                   ...             ...  \n",
      "719975           0.032852        0-4 mois  \n",
      "719976           0.032852        0-4 mois  \n",
      "719977           0.032852        0-4 mois  \n",
      "719978           0.032852        0-4 mois  \n",
      "720049           0.000000        0-4 mois  \n",
      "\n",
      "[203760 rows x 10 columns]\n"
     ]
    }
   ],
   "source": [
    "# Convertir l'ancienneté en mois (approximativement, en utilisant 30.44 jours par mois)\n",
    "CLIENT['Anciennete_months'] = CLIENT['Anciennete'] / 30.44\n",
    "\n",
    "# Définir les bins en mois (0-6 mois, 6-12 mois, 12-24 mois, 24-36 mois, 36+ mois)\n",
    "bins = [0, 4, 6, 8, 10, np.inf]\n",
    "labels = ['0-4 mois', '4-6 mois', '6-8 mois', '8-10 mois', '10+ mois']\n",
    "\n",
    "# Discrétiser en utilisant les bins\n",
    "CLIENT['ANCIENNETE_READ'] = pd.cut(CLIENT['Anciennete_months'], bins=bins, labels=labels, right=False)\n",
    "\n",
    "# Afficher le DataFrame filtré et avec l'ancienneté\n",
    "print(CLIENT)"
   ]
  },
  {
   "cell_type": "code",
   "execution_count": 57,
   "metadata": {
    "ExecuteTime": {
     "end_time": "2024-07-09T09:24:59.961436Z",
     "start_time": "2024-07-09T09:24:59.957162Z"
    }
   },
   "outputs": [
    {
     "data": {
      "text/plain": [
       "ANCIENNETE_READ\n",
       "0-4 mois     68169\n",
       "6-8 mois     48333\n",
       "8-10 mois    48197\n",
       "4-6 mois     23001\n",
       "10+ mois     16060\n",
       "Name: count, dtype: int64"
      ]
     },
     "execution_count": 57,
     "metadata": {},
     "output_type": "execute_result"
    }
   ],
   "source": [
    "CLIENT['ANCIENNETE_READ'].value_counts()"
   ]
  },
  {
   "cell_type": "code",
   "execution_count": 58,
   "metadata": {
    "ExecuteTime": {
     "end_time": "2024-07-09T09:25:01.357622Z",
     "start_time": "2024-07-09T09:25:01.350501Z"
    }
   },
   "outputs": [
    {
     "data": {
      "text/html": [
       "<div>\n",
       "<style scoped>\n",
       "    .dataframe tbody tr th:only-of-type {\n",
       "        vertical-align: middle;\n",
       "    }\n",
       "\n",
       "    .dataframe tbody tr th {\n",
       "        vertical-align: top;\n",
       "    }\n",
       "\n",
       "    .dataframe thead th {\n",
       "        text-align: right;\n",
       "    }\n",
       "</style>\n",
       "<table border=\"1\" class=\"dataframe\">\n",
       "  <thead>\n",
       "    <tr style=\"text-align: right;\">\n",
       "      <th></th>\n",
       "      <th>IDCLIENT</th>\n",
       "      <th>MAGASIN</th>\n",
       "      <th>DATEREADHESION</th>\n",
       "      <th>SEXE</th>\n",
       "      <th>AGE_GROUP</th>\n",
       "      <th>ANCIENNETE_ADHESION</th>\n",
       "      <th>ANCIENNETE_ADHESION_CAT</th>\n",
       "      <th>Anciennete</th>\n",
       "      <th>Anciennete_months</th>\n",
       "      <th>ANCIENNETE_READ</th>\n",
       "    </tr>\n",
       "  </thead>\n",
       "  <tbody>\n",
       "    <tr>\n",
       "      <th>0</th>\n",
       "      <td>155891.0</td>\n",
       "      <td>VLG</td>\n",
       "      <td>2017-04-04</td>\n",
       "      <td>FEMME</td>\n",
       "      <td>Inconnue</td>\n",
       "      <td>12.963723</td>\n",
       "      <td>8 ans+</td>\n",
       "      <td>271</td>\n",
       "      <td>8.902760</td>\n",
       "      <td>8-10 mois</td>\n",
       "    </tr>\n",
       "    <tr>\n",
       "      <th>2</th>\n",
       "      <td>124203.0</td>\n",
       "      <td>BEA</td>\n",
       "      <td>2017-10-12</td>\n",
       "      <td>FEMME</td>\n",
       "      <td>Inconnue</td>\n",
       "      <td>13.626283</td>\n",
       "      <td>8 ans+</td>\n",
       "      <td>80</td>\n",
       "      <td>2.628121</td>\n",
       "      <td>0-4 mois</td>\n",
       "    </tr>\n",
       "    <tr>\n",
       "      <th>5</th>\n",
       "      <td>104768.0</td>\n",
       "      <td>SMR</td>\n",
       "      <td>2017-11-05</td>\n",
       "      <td>FEMME</td>\n",
       "      <td>Inconnue</td>\n",
       "      <td>13.719370</td>\n",
       "      <td>8 ans+</td>\n",
       "      <td>56</td>\n",
       "      <td>1.839685</td>\n",
       "      <td>0-4 mois</td>\n",
       "    </tr>\n",
       "    <tr>\n",
       "      <th>8</th>\n",
       "      <td>104550.0</td>\n",
       "      <td>OBE</td>\n",
       "      <td>2017-10-19</td>\n",
       "      <td>FEMME</td>\n",
       "      <td>AGE DE 61-100</td>\n",
       "      <td>13.544148</td>\n",
       "      <td>8 ans+</td>\n",
       "      <td>73</td>\n",
       "      <td>2.398160</td>\n",
       "      <td>0-4 mois</td>\n",
       "    </tr>\n",
       "    <tr>\n",
       "      <th>9</th>\n",
       "      <td>104601.0</td>\n",
       "      <td>OBE</td>\n",
       "      <td>2017-09-01</td>\n",
       "      <td>FEMME</td>\n",
       "      <td>AGE DE 31-45</td>\n",
       "      <td>13.456537</td>\n",
       "      <td>8 ans+</td>\n",
       "      <td>121</td>\n",
       "      <td>3.975033</td>\n",
       "      <td>0-4 mois</td>\n",
       "    </tr>\n",
       "    <tr>\n",
       "      <th>...</th>\n",
       "      <td>...</td>\n",
       "      <td>...</td>\n",
       "      <td>...</td>\n",
       "      <td>...</td>\n",
       "      <td>...</td>\n",
       "      <td>...</td>\n",
       "      <td>...</td>\n",
       "      <td>...</td>\n",
       "      <td>...</td>\n",
       "      <td>...</td>\n",
       "    </tr>\n",
       "    <tr>\n",
       "      <th>719975</th>\n",
       "      <td>336771.0</td>\n",
       "      <td>BEA</td>\n",
       "      <td>2017-12-30</td>\n",
       "      <td>FEMME</td>\n",
       "      <td>Inconnue</td>\n",
       "      <td>12.654346</td>\n",
       "      <td>8 ans+</td>\n",
       "      <td>1</td>\n",
       "      <td>0.032852</td>\n",
       "      <td>0-4 mois</td>\n",
       "    </tr>\n",
       "    <tr>\n",
       "      <th>719976</th>\n",
       "      <td>1709516.0</td>\n",
       "      <td>VIB</td>\n",
       "      <td>2017-12-30</td>\n",
       "      <td>HOMME</td>\n",
       "      <td>Inconnue</td>\n",
       "      <td>9.204654</td>\n",
       "      <td>8 ans+</td>\n",
       "      <td>1</td>\n",
       "      <td>0.032852</td>\n",
       "      <td>0-4 mois</td>\n",
       "    </tr>\n",
       "    <tr>\n",
       "      <th>719977</th>\n",
       "      <td>1866695.0</td>\n",
       "      <td>MAN</td>\n",
       "      <td>2017-12-30</td>\n",
       "      <td>FEMME</td>\n",
       "      <td>AGE DE 61-100</td>\n",
       "      <td>8.254620</td>\n",
       "      <td>8 ans+</td>\n",
       "      <td>1</td>\n",
       "      <td>0.032852</td>\n",
       "      <td>0-4 mois</td>\n",
       "    </tr>\n",
       "    <tr>\n",
       "      <th>719978</th>\n",
       "      <td>2098666.0</td>\n",
       "      <td>CLI</td>\n",
       "      <td>2017-12-30</td>\n",
       "      <td>HOMME</td>\n",
       "      <td>Inconnue</td>\n",
       "      <td>6.976044</td>\n",
       "      <td>5-8 ans</td>\n",
       "      <td>1</td>\n",
       "      <td>0.032852</td>\n",
       "      <td>0-4 mois</td>\n",
       "    </tr>\n",
       "    <tr>\n",
       "      <th>720049</th>\n",
       "      <td>402282.0</td>\n",
       "      <td>VIB</td>\n",
       "      <td>2017-12-31</td>\n",
       "      <td>HOMME</td>\n",
       "      <td>AGE DE 46-60</td>\n",
       "      <td>12.632444</td>\n",
       "      <td>8 ans+</td>\n",
       "      <td>0</td>\n",
       "      <td>0.000000</td>\n",
       "      <td>0-4 mois</td>\n",
       "    </tr>\n",
       "  </tbody>\n",
       "</table>\n",
       "<p>203760 rows × 10 columns</p>\n",
       "</div>"
      ],
      "text/plain": [
       "         IDCLIENT MAGASIN DATEREADHESION   SEXE      AGE_GROUP  \\\n",
       "0        155891.0     VLG     2017-04-04  FEMME       Inconnue   \n",
       "2        124203.0     BEA     2017-10-12  FEMME       Inconnue   \n",
       "5        104768.0     SMR     2017-11-05  FEMME       Inconnue   \n",
       "8        104550.0     OBE     2017-10-19  FEMME  AGE DE 61-100   \n",
       "9        104601.0     OBE     2017-09-01  FEMME   AGE DE 31-45   \n",
       "...           ...     ...            ...    ...            ...   \n",
       "719975   336771.0     BEA     2017-12-30  FEMME       Inconnue   \n",
       "719976  1709516.0     VIB     2017-12-30  HOMME       Inconnue   \n",
       "719977  1866695.0     MAN     2017-12-30  FEMME  AGE DE 61-100   \n",
       "719978  2098666.0     CLI     2017-12-30  HOMME       Inconnue   \n",
       "720049   402282.0     VIB     2017-12-31  HOMME   AGE DE 46-60   \n",
       "\n",
       "        ANCIENNETE_ADHESION ANCIENNETE_ADHESION_CAT  Anciennete  \\\n",
       "0                 12.963723                  8 ans+         271   \n",
       "2                 13.626283                  8 ans+          80   \n",
       "5                 13.719370                  8 ans+          56   \n",
       "8                 13.544148                  8 ans+          73   \n",
       "9                 13.456537                  8 ans+         121   \n",
       "...                     ...                     ...         ...   \n",
       "719975            12.654346                  8 ans+           1   \n",
       "719976             9.204654                  8 ans+           1   \n",
       "719977             8.254620                  8 ans+           1   \n",
       "719978             6.976044                 5-8 ans           1   \n",
       "720049            12.632444                  8 ans+           0   \n",
       "\n",
       "        Anciennete_months ANCIENNETE_READ  \n",
       "0                8.902760       8-10 mois  \n",
       "2                2.628121        0-4 mois  \n",
       "5                1.839685        0-4 mois  \n",
       "8                2.398160        0-4 mois  \n",
       "9                3.975033        0-4 mois  \n",
       "...                   ...             ...  \n",
       "719975           0.032852        0-4 mois  \n",
       "719976           0.032852        0-4 mois  \n",
       "719977           0.032852        0-4 mois  \n",
       "719978           0.032852        0-4 mois  \n",
       "720049           0.000000        0-4 mois  \n",
       "\n",
       "[203760 rows x 10 columns]"
      ]
     },
     "execution_count": 58,
     "metadata": {},
     "output_type": "execute_result"
    }
   ],
   "source": [
    "CLIENT"
   ]
  },
  {
   "cell_type": "code",
   "execution_count": 59,
   "metadata": {
    "ExecuteTime": {
     "end_time": "2024-07-09T09:25:14.488012Z",
     "start_time": "2024-07-09T09:25:14.478664Z"
    }
   },
   "outputs": [],
   "source": [
    "CLIENT.drop(columns=['Anciennete'], inplace=True)"
   ]
  },
  {
   "cell_type": "code",
   "execution_count": 60,
   "metadata": {
    "ExecuteTime": {
     "end_time": "2024-07-09T09:25:46.841050Z",
     "start_time": "2024-07-09T09:25:46.832386Z"
    }
   },
   "outputs": [],
   "source": [
    "CLIENT.drop(columns=['ANCIENNETE_ADHESION'], inplace=True)"
   ]
  },
  {
   "cell_type": "code",
   "execution_count": 61,
   "metadata": {
    "ExecuteTime": {
     "end_time": "2024-07-09T09:25:47.601806Z",
     "start_time": "2024-07-09T09:25:47.592841Z"
    }
   },
   "outputs": [],
   "source": [
    "CLIENT.drop(columns=['Anciennete_months'], inplace=True)"
   ]
  },
  {
   "cell_type": "code",
   "execution_count": 62,
   "metadata": {
    "ExecuteTime": {
     "end_time": "2024-07-09T09:25:48.777256Z",
     "start_time": "2024-07-09T09:25:48.773368Z"
    }
   },
   "outputs": [
    {
     "data": {
      "text/html": [
       "<div>\n",
       "<style scoped>\n",
       "    .dataframe tbody tr th:only-of-type {\n",
       "        vertical-align: middle;\n",
       "    }\n",
       "\n",
       "    .dataframe tbody tr th {\n",
       "        vertical-align: top;\n",
       "    }\n",
       "\n",
       "    .dataframe thead th {\n",
       "        text-align: right;\n",
       "    }\n",
       "</style>\n",
       "<table border=\"1\" class=\"dataframe\">\n",
       "  <thead>\n",
       "    <tr style=\"text-align: right;\">\n",
       "      <th></th>\n",
       "      <th>IDCLIENT</th>\n",
       "      <th>MAGASIN</th>\n",
       "      <th>DATEREADHESION</th>\n",
       "      <th>SEXE</th>\n",
       "      <th>AGE_GROUP</th>\n",
       "      <th>ANCIENNETE_ADHESION_CAT</th>\n",
       "      <th>ANCIENNETE_READ</th>\n",
       "    </tr>\n",
       "  </thead>\n",
       "  <tbody>\n",
       "    <tr>\n",
       "      <th>0</th>\n",
       "      <td>155891.0</td>\n",
       "      <td>VLG</td>\n",
       "      <td>2017-04-04</td>\n",
       "      <td>FEMME</td>\n",
       "      <td>Inconnue</td>\n",
       "      <td>8 ans+</td>\n",
       "      <td>8-10 mois</td>\n",
       "    </tr>\n",
       "    <tr>\n",
       "      <th>2</th>\n",
       "      <td>124203.0</td>\n",
       "      <td>BEA</td>\n",
       "      <td>2017-10-12</td>\n",
       "      <td>FEMME</td>\n",
       "      <td>Inconnue</td>\n",
       "      <td>8 ans+</td>\n",
       "      <td>0-4 mois</td>\n",
       "    </tr>\n",
       "    <tr>\n",
       "      <th>5</th>\n",
       "      <td>104768.0</td>\n",
       "      <td>SMR</td>\n",
       "      <td>2017-11-05</td>\n",
       "      <td>FEMME</td>\n",
       "      <td>Inconnue</td>\n",
       "      <td>8 ans+</td>\n",
       "      <td>0-4 mois</td>\n",
       "    </tr>\n",
       "    <tr>\n",
       "      <th>8</th>\n",
       "      <td>104550.0</td>\n",
       "      <td>OBE</td>\n",
       "      <td>2017-10-19</td>\n",
       "      <td>FEMME</td>\n",
       "      <td>AGE DE 61-100</td>\n",
       "      <td>8 ans+</td>\n",
       "      <td>0-4 mois</td>\n",
       "    </tr>\n",
       "    <tr>\n",
       "      <th>9</th>\n",
       "      <td>104601.0</td>\n",
       "      <td>OBE</td>\n",
       "      <td>2017-09-01</td>\n",
       "      <td>FEMME</td>\n",
       "      <td>AGE DE 31-45</td>\n",
       "      <td>8 ans+</td>\n",
       "      <td>0-4 mois</td>\n",
       "    </tr>\n",
       "  </tbody>\n",
       "</table>\n",
       "</div>"
      ],
      "text/plain": [
       "   IDCLIENT MAGASIN DATEREADHESION   SEXE      AGE_GROUP  \\\n",
       "0  155891.0     VLG     2017-04-04  FEMME       Inconnue   \n",
       "2  124203.0     BEA     2017-10-12  FEMME       Inconnue   \n",
       "5  104768.0     SMR     2017-11-05  FEMME       Inconnue   \n",
       "8  104550.0     OBE     2017-10-19  FEMME  AGE DE 61-100   \n",
       "9  104601.0     OBE     2017-09-01  FEMME   AGE DE 31-45   \n",
       "\n",
       "  ANCIENNETE_ADHESION_CAT ANCIENNETE_READ  \n",
       "0                  8 ans+       8-10 mois  \n",
       "2                  8 ans+        0-4 mois  \n",
       "5                  8 ans+        0-4 mois  \n",
       "8                  8 ans+        0-4 mois  \n",
       "9                  8 ans+        0-4 mois  "
      ]
     },
     "execution_count": 62,
     "metadata": {},
     "output_type": "execute_result"
    }
   ],
   "source": [
    "CLIENT.head()"
   ]
  },
  {
   "cell_type": "code",
   "execution_count": 63,
   "metadata": {
    "ExecuteTime": {
     "end_time": "2024-07-09T09:25:54.508994Z",
     "start_time": "2024-07-09T09:25:54.487405Z"
    }
   },
   "outputs": [
    {
     "data": {
      "text/plain": [
       "0"
      ]
     },
     "execution_count": 63,
     "metadata": {},
     "output_type": "execute_result"
    }
   ],
   "source": [
    "CLIENT.isnull().sum().sum()"
   ]
  },
  {
   "cell_type": "code",
   "execution_count": 64,
   "metadata": {
    "ExecuteTime": {
     "end_time": "2024-07-09T09:25:55.504802Z",
     "start_time": "2024-07-09T09:25:55.502535Z"
    }
   },
   "outputs": [
    {
     "data": {
      "text/plain": [
       "(203760, 7)"
      ]
     },
     "execution_count": 64,
     "metadata": {},
     "output_type": "execute_result"
    }
   ],
   "source": [
    "CLIENT.shape"
   ]
  },
  {
   "cell_type": "code",
   "execution_count": 65,
   "metadata": {
    "ExecuteTime": {
     "end_time": "2024-07-02T07:40:53.083373Z",
     "start_time": "2024-07-02T07:40:53.081888Z"
    }
   },
   "outputs": [],
   "source": [
    "CLIENTS = \"C:\\\\Users\\\\belga\\\\OneDrive\\\\Bureau\\\\EMBA Big Data\\\\Module Datascience\\\\Projet Data Science S2 2024\\\\CLIENTS_NET.pkl\"\n",
    "CLIENT.to_pickle(CLIENTS)"
   ]
  }
 ],
 "metadata": {
  "kernelspec": {
   "display_name": "Python 3 (ipykernel)",
   "language": "python",
   "name": "python3"
  },
  "language_info": {
   "codemirror_mode": {
    "name": "ipython",
    "version": 3
   },
   "file_extension": ".py",
   "mimetype": "text/x-python",
   "name": "python",
   "nbconvert_exporter": "python",
   "pygments_lexer": "ipython3",
   "version": "3.11.5"
  }
 },
 "nbformat": 4,
 "nbformat_minor": 4
}
