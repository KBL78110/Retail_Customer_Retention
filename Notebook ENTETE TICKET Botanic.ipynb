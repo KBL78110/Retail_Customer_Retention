{
 "cells": [
  {
   "cell_type": "code",
   "execution_count": null,
   "metadata": {},
   "outputs": [],
   "source": [
    "import pip\n",
    "pip.main(['install', 'pandas'])\n",
    "pip.main(['install', 'matplotlib'])\n",
    "pip.main(['install', 'seaborn'])\n",
    "pip.main(['install', 'scikit-learn'])"
   ]
  },
  {
   "cell_type": "markdown",
   "metadata": {},
   "source": [
    "# CHARGEMENT DES BIBLIOTHEQUES"
   ]
  },
  {
   "cell_type": "code",
   "execution_count": 2,
   "metadata": {
    "ExecuteTime": {
     "end_time": "2024-06-19T12:56:59.516801Z",
     "start_time": "2024-06-19T12:56:59.389712Z"
    }
   },
   "outputs": [],
   "source": [
    "import pandas as pd\n",
    "import matplotlib.pyplot as plt\n",
    "import numpy as np\n",
    "import seaborn as sns\n",
    "\n",
    "from sklearn.linear_model import LogisticRegression\n",
    "from sklearn.model_selection import train_test_split\n",
    "from sklearn.datasets import make_classification\n",
    "from sklearn.metrics import roc_curve, auc\n",
    "from sklearn.metrics import accuracy_score, classification_report, confusion_matrix\n",
    "from sklearn.preprocessing import StandardScaler\n",
    "from sklearn.preprocessing import OneHotEncoder\n",
    "from sklearn.preprocessing import LabelEncoder"
   ]
  },
  {
   "cell_type": "markdown",
   "metadata": {},
   "source": [
    "Chargement du jeu de données ENTETES TICKET V4."
   ]
  },
  {
   "cell_type": "code",
   "execution_count": 3,
   "metadata": {
    "ExecuteTime": {
     "end_time": "2024-06-19T12:57:04.912524Z",
     "start_time": "2024-06-19T12:57:01.134791Z"
    }
   },
   "outputs": [
    {
     "name": "stdout",
     "output_type": "stream",
     "text": [
      "(6714173, 5)\n",
      "['IDTICKET', 'TIC_DATE', 'MAG_CODE', 'IDCLIENT', 'TIC_TOTALTTC']\n"
     ]
    }
   ],
   "source": [
    "dataset_path = \"C:\\\\Users\\\\belga\\\\OneDrive\\\\Bureau\\\\EMBA Big Data\\\\Module Datascience\\\\Projet Data Science S2 2024\\\\ENTETES_TICKET_V4.csv\"\n",
    "ENTETES_TICKET = pd.read_csv(dataset_path, sep='|', low_memory=False)\n",
    "print(ENTETES_TICKET.shape)\n",
    "print(list(ENTETES_TICKET.columns))\n"
   ]
  },
  {
   "cell_type": "markdown",
   "metadata": {},
   "source": [
    "La ligne de code ci-dessous nous permet de connaître le détail des colonnes ainsi que le type de données constituant notre base (numérique ou caractères)."
   ]
  },
  {
   "cell_type": "code",
   "execution_count": 4,
   "metadata": {
    "ExecuteTime": {
     "end_time": "2024-06-19T12:57:05.954283Z",
     "start_time": "2024-06-19T12:57:05.947172Z"
    }
   },
   "outputs": [
    {
     "name": "stdout",
     "output_type": "stream",
     "text": [
      "<class 'pandas.core.frame.DataFrame'>\n",
      "RangeIndex: 6714173 entries, 0 to 6714172\n",
      "Data columns (total 5 columns):\n",
      " #   Column        Dtype  \n",
      "---  ------        -----  \n",
      " 0   IDTICKET      int64  \n",
      " 1   TIC_DATE      object \n",
      " 2   MAG_CODE      object \n",
      " 3   IDCLIENT      float64\n",
      " 4   TIC_TOTALTTC  object \n",
      "dtypes: float64(1), int64(1), object(3)\n",
      "memory usage: 256.1+ MB\n"
     ]
    }
   ],
   "source": [
    "ENTETES_TICKET.info()"
   ]
  },
  {
   "cell_type": "markdown",
   "metadata": {},
   "source": [
    "Aperçu de notre jeu de données. "
   ]
  },
  {
   "cell_type": "code",
   "execution_count": 5,
   "metadata": {
    "ExecuteTime": {
     "end_time": "2024-06-19T12:57:11.647761Z",
     "start_time": "2024-06-19T12:57:11.637623Z"
    }
   },
   "outputs": [
    {
     "data": {
      "text/html": [
       "<div>\n",
       "<style scoped>\n",
       "    .dataframe tbody tr th:only-of-type {\n",
       "        vertical-align: middle;\n",
       "    }\n",
       "\n",
       "    .dataframe tbody tr th {\n",
       "        vertical-align: top;\n",
       "    }\n",
       "\n",
       "    .dataframe thead th {\n",
       "        text-align: right;\n",
       "    }\n",
       "</style>\n",
       "<table border=\"1\" class=\"dataframe\">\n",
       "  <thead>\n",
       "    <tr style=\"text-align: right;\">\n",
       "      <th></th>\n",
       "      <th>IDTICKET</th>\n",
       "      <th>TIC_DATE</th>\n",
       "      <th>MAG_CODE</th>\n",
       "      <th>IDCLIENT</th>\n",
       "      <th>TIC_TOTALTTC</th>\n",
       "    </tr>\n",
       "  </thead>\n",
       "  <tbody>\n",
       "    <tr>\n",
       "      <th>0</th>\n",
       "      <td>50100150510</td>\n",
       "      <td>2016-01-02 11:01:33</td>\n",
       "      <td>ALB</td>\n",
       "      <td>2995104.0</td>\n",
       "      <td>12,9</td>\n",
       "    </tr>\n",
       "    <tr>\n",
       "      <th>1</th>\n",
       "      <td>50100150511</td>\n",
       "      <td>2016-01-02 11:02:10</td>\n",
       "      <td>ALB</td>\n",
       "      <td>1411117.0</td>\n",
       "      <td>131,06</td>\n",
       "    </tr>\n",
       "    <tr>\n",
       "      <th>2</th>\n",
       "      <td>50100150515</td>\n",
       "      <td>2016-01-02 12:03:27</td>\n",
       "      <td>ALB</td>\n",
       "      <td>222592.0</td>\n",
       "      <td>34,69</td>\n",
       "    </tr>\n",
       "    <tr>\n",
       "      <th>3</th>\n",
       "      <td>50100150517</td>\n",
       "      <td>2016-01-02 14:23:21</td>\n",
       "      <td>ALB</td>\n",
       "      <td>2979958.0</td>\n",
       "      <td>97,58</td>\n",
       "    </tr>\n",
       "    <tr>\n",
       "      <th>4</th>\n",
       "      <td>50100150518</td>\n",
       "      <td>2016-01-02 14:26:53</td>\n",
       "      <td>ALB</td>\n",
       "      <td>2858676.0</td>\n",
       "      <td>4,7</td>\n",
       "    </tr>\n",
       "    <tr>\n",
       "      <th>...</th>\n",
       "      <td>...</td>\n",
       "      <td>...</td>\n",
       "      <td>...</td>\n",
       "      <td>...</td>\n",
       "      <td>...</td>\n",
       "    </tr>\n",
       "    <tr>\n",
       "      <th>6714168</th>\n",
       "      <td>1340300014404</td>\n",
       "      <td>2016-12-27 16:31:52</td>\n",
       "      <td>RMA</td>\n",
       "      <td>2292927.0</td>\n",
       "      <td>59,45</td>\n",
       "    </tr>\n",
       "    <tr>\n",
       "      <th>6714169</th>\n",
       "      <td>1340300014407</td>\n",
       "      <td>2016-12-27 16:35:21</td>\n",
       "      <td>RMA</td>\n",
       "      <td>3189844.0</td>\n",
       "      <td>26,9</td>\n",
       "    </tr>\n",
       "    <tr>\n",
       "      <th>6714170</th>\n",
       "      <td>1340300014409</td>\n",
       "      <td>2016-12-27 16:38:59</td>\n",
       "      <td>RMA</td>\n",
       "      <td>3125998.0</td>\n",
       "      <td>22,15</td>\n",
       "    </tr>\n",
       "    <tr>\n",
       "      <th>6714171</th>\n",
       "      <td>1340300014438</td>\n",
       "      <td>2016-12-27 17:17:30</td>\n",
       "      <td>RMA</td>\n",
       "      <td>3252348.0</td>\n",
       "      <td>118,01</td>\n",
       "    </tr>\n",
       "    <tr>\n",
       "      <th>6714172</th>\n",
       "      <td>1340300014440</td>\n",
       "      <td>2016-12-27 17:24:15</td>\n",
       "      <td>RMA</td>\n",
       "      <td>3243933.0</td>\n",
       "      <td>44,8</td>\n",
       "    </tr>\n",
       "  </tbody>\n",
       "</table>\n",
       "<p>6714173 rows × 5 columns</p>\n",
       "</div>"
      ],
      "text/plain": [
       "              IDTICKET             TIC_DATE MAG_CODE   IDCLIENT TIC_TOTALTTC\n",
       "0          50100150510  2016-01-02 11:01:33      ALB  2995104.0         12,9\n",
       "1          50100150511  2016-01-02 11:02:10      ALB  1411117.0       131,06\n",
       "2          50100150515  2016-01-02 12:03:27      ALB   222592.0        34,69\n",
       "3          50100150517  2016-01-02 14:23:21      ALB  2979958.0        97,58\n",
       "4          50100150518  2016-01-02 14:26:53      ALB  2858676.0          4,7\n",
       "...                ...                  ...      ...        ...          ...\n",
       "6714168  1340300014404  2016-12-27 16:31:52      RMA  2292927.0        59,45\n",
       "6714169  1340300014407  2016-12-27 16:35:21      RMA  3189844.0         26,9\n",
       "6714170  1340300014409  2016-12-27 16:38:59      RMA  3125998.0        22,15\n",
       "6714171  1340300014438  2016-12-27 17:17:30      RMA  3252348.0       118,01\n",
       "6714172  1340300014440  2016-12-27 17:24:15      RMA  3243933.0         44,8\n",
       "\n",
       "[6714173 rows x 5 columns]"
      ]
     },
     "execution_count": 5,
     "metadata": {},
     "output_type": "execute_result"
    }
   ],
   "source": [
    "ENTETES_TICKET"
   ]
  },
  {
   "cell_type": "markdown",
   "metadata": {},
   "source": [
    "Afin d'exploiter de façon optimale les informations, nous allons convetir les l'ID TICKET et le NUM LIGNE TICKET en caractère. A l'inverse, nous devons convertir le total TTC en valeur numérique."
   ]
  },
  {
   "cell_type": "code",
   "execution_count": 6,
   "metadata": {
    "ExecuteTime": {
     "end_time": "2024-06-19T12:57:27.415264Z",
     "start_time": "2024-06-19T12:57:25.313461Z"
    }
   },
   "outputs": [],
   "source": [
    "ENTETES_TICKET['IDTICKET'] = ENTETES_TICKET['IDTICKET'].astype(str)\n",
    "ENTETES_TICKET['IDCLIENT'] = ENTETES_TICKET['IDCLIENT'].astype(str)"
   ]
  },
  {
   "cell_type": "code",
   "execution_count": 7,
   "metadata": {
    "ExecuteTime": {
     "end_time": "2024-06-19T12:57:28.615587Z",
     "start_time": "2024-06-19T12:57:28.038333Z"
    }
   },
   "outputs": [],
   "source": [
    "ENTETES_TICKET['TIC_TOTALTTC'] = ENTETES_TICKET['TIC_TOTALTTC'].str.replace(',', '.')"
   ]
  },
  {
   "cell_type": "code",
   "execution_count": 8,
   "metadata": {
    "ExecuteTime": {
     "end_time": "2024-06-19T12:57:29.620977Z",
     "start_time": "2024-06-19T12:57:29.265901Z"
    }
   },
   "outputs": [],
   "source": [
    "ENTETES_TICKET['TIC_TOTALTTC'] = ENTETES_TICKET['TIC_TOTALTTC'].str.strip('\\\"')"
   ]
  },
  {
   "cell_type": "code",
   "execution_count": 9,
   "metadata": {
    "ExecuteTime": {
     "end_time": "2024-06-19T12:57:31.206326Z",
     "start_time": "2024-06-19T12:57:30.287514Z"
    }
   },
   "outputs": [],
   "source": [
    "ENTETES_TICKET['TIC_TOTALTTC'] = pd.to_numeric(ENTETES_TICKET['TIC_TOTALTTC'], errors='coerce')"
   ]
  },
  {
   "cell_type": "markdown",
   "metadata": {},
   "source": [
    "Vérification du traitement."
   ]
  },
  {
   "cell_type": "code",
   "execution_count": 10,
   "metadata": {
    "ExecuteTime": {
     "end_time": "2024-06-19T12:57:35.163532Z",
     "start_time": "2024-06-19T12:57:35.157460Z"
    }
   },
   "outputs": [
    {
     "name": "stdout",
     "output_type": "stream",
     "text": [
      "<class 'pandas.core.frame.DataFrame'>\n",
      "RangeIndex: 6714173 entries, 0 to 6714172\n",
      "Data columns (total 5 columns):\n",
      " #   Column        Dtype  \n",
      "---  ------        -----  \n",
      " 0   IDTICKET      object \n",
      " 1   TIC_DATE      object \n",
      " 2   MAG_CODE      object \n",
      " 3   IDCLIENT      object \n",
      " 4   TIC_TOTALTTC  float64\n",
      "dtypes: float64(1), object(4)\n",
      "memory usage: 256.1+ MB\n"
     ]
    }
   ],
   "source": [
    "ENTETES_TICKET.info()"
   ]
  },
  {
   "cell_type": "code",
   "execution_count": 11,
   "metadata": {
    "ExecuteTime": {
     "end_time": "2024-06-19T12:57:42.170428Z",
     "start_time": "2024-06-19T12:57:42.162247Z"
    }
   },
   "outputs": [
    {
     "data": {
      "text/html": [
       "<div>\n",
       "<style scoped>\n",
       "    .dataframe tbody tr th:only-of-type {\n",
       "        vertical-align: middle;\n",
       "    }\n",
       "\n",
       "    .dataframe tbody tr th {\n",
       "        vertical-align: top;\n",
       "    }\n",
       "\n",
       "    .dataframe thead th {\n",
       "        text-align: right;\n",
       "    }\n",
       "</style>\n",
       "<table border=\"1\" class=\"dataframe\">\n",
       "  <thead>\n",
       "    <tr style=\"text-align: right;\">\n",
       "      <th></th>\n",
       "      <th>IDTICKET</th>\n",
       "      <th>TIC_DATE</th>\n",
       "      <th>MAG_CODE</th>\n",
       "      <th>IDCLIENT</th>\n",
       "      <th>TIC_TOTALTTC</th>\n",
       "    </tr>\n",
       "  </thead>\n",
       "  <tbody>\n",
       "    <tr>\n",
       "      <th>0</th>\n",
       "      <td>50100150510</td>\n",
       "      <td>2016-01-02 11:01:33</td>\n",
       "      <td>ALB</td>\n",
       "      <td>2995104.0</td>\n",
       "      <td>12.90</td>\n",
       "    </tr>\n",
       "    <tr>\n",
       "      <th>1</th>\n",
       "      <td>50100150511</td>\n",
       "      <td>2016-01-02 11:02:10</td>\n",
       "      <td>ALB</td>\n",
       "      <td>1411117.0</td>\n",
       "      <td>131.06</td>\n",
       "    </tr>\n",
       "    <tr>\n",
       "      <th>2</th>\n",
       "      <td>50100150515</td>\n",
       "      <td>2016-01-02 12:03:27</td>\n",
       "      <td>ALB</td>\n",
       "      <td>222592.0</td>\n",
       "      <td>34.69</td>\n",
       "    </tr>\n",
       "    <tr>\n",
       "      <th>3</th>\n",
       "      <td>50100150517</td>\n",
       "      <td>2016-01-02 14:23:21</td>\n",
       "      <td>ALB</td>\n",
       "      <td>2979958.0</td>\n",
       "      <td>97.58</td>\n",
       "    </tr>\n",
       "    <tr>\n",
       "      <th>4</th>\n",
       "      <td>50100150518</td>\n",
       "      <td>2016-01-02 14:26:53</td>\n",
       "      <td>ALB</td>\n",
       "      <td>2858676.0</td>\n",
       "      <td>4.70</td>\n",
       "    </tr>\n",
       "    <tr>\n",
       "      <th>...</th>\n",
       "      <td>...</td>\n",
       "      <td>...</td>\n",
       "      <td>...</td>\n",
       "      <td>...</td>\n",
       "      <td>...</td>\n",
       "    </tr>\n",
       "    <tr>\n",
       "      <th>6714168</th>\n",
       "      <td>1340300014404</td>\n",
       "      <td>2016-12-27 16:31:52</td>\n",
       "      <td>RMA</td>\n",
       "      <td>2292927.0</td>\n",
       "      <td>59.45</td>\n",
       "    </tr>\n",
       "    <tr>\n",
       "      <th>6714169</th>\n",
       "      <td>1340300014407</td>\n",
       "      <td>2016-12-27 16:35:21</td>\n",
       "      <td>RMA</td>\n",
       "      <td>3189844.0</td>\n",
       "      <td>26.90</td>\n",
       "    </tr>\n",
       "    <tr>\n",
       "      <th>6714170</th>\n",
       "      <td>1340300014409</td>\n",
       "      <td>2016-12-27 16:38:59</td>\n",
       "      <td>RMA</td>\n",
       "      <td>3125998.0</td>\n",
       "      <td>22.15</td>\n",
       "    </tr>\n",
       "    <tr>\n",
       "      <th>6714171</th>\n",
       "      <td>1340300014438</td>\n",
       "      <td>2016-12-27 17:17:30</td>\n",
       "      <td>RMA</td>\n",
       "      <td>3252348.0</td>\n",
       "      <td>118.01</td>\n",
       "    </tr>\n",
       "    <tr>\n",
       "      <th>6714172</th>\n",
       "      <td>1340300014440</td>\n",
       "      <td>2016-12-27 17:24:15</td>\n",
       "      <td>RMA</td>\n",
       "      <td>3243933.0</td>\n",
       "      <td>44.80</td>\n",
       "    </tr>\n",
       "  </tbody>\n",
       "</table>\n",
       "<p>6714173 rows × 5 columns</p>\n",
       "</div>"
      ],
      "text/plain": [
       "              IDTICKET             TIC_DATE MAG_CODE   IDCLIENT  TIC_TOTALTTC\n",
       "0          50100150510  2016-01-02 11:01:33      ALB  2995104.0         12.90\n",
       "1          50100150511  2016-01-02 11:02:10      ALB  1411117.0        131.06\n",
       "2          50100150515  2016-01-02 12:03:27      ALB   222592.0         34.69\n",
       "3          50100150517  2016-01-02 14:23:21      ALB  2979958.0         97.58\n",
       "4          50100150518  2016-01-02 14:26:53      ALB  2858676.0          4.70\n",
       "...                ...                  ...      ...        ...           ...\n",
       "6714168  1340300014404  2016-12-27 16:31:52      RMA  2292927.0         59.45\n",
       "6714169  1340300014407  2016-12-27 16:35:21      RMA  3189844.0         26.90\n",
       "6714170  1340300014409  2016-12-27 16:38:59      RMA  3125998.0         22.15\n",
       "6714171  1340300014438  2016-12-27 17:17:30      RMA  3252348.0        118.01\n",
       "6714172  1340300014440  2016-12-27 17:24:15      RMA  3243933.0         44.80\n",
       "\n",
       "[6714173 rows x 5 columns]"
      ]
     },
     "execution_count": 11,
     "metadata": {},
     "output_type": "execute_result"
    }
   ],
   "source": [
    "ENTETES_TICKET"
   ]
  },
  {
   "cell_type": "markdown",
   "metadata": {},
   "source": [
    "La ligne de code ci-dessous nous permet de formater le format de la date."
   ]
  },
  {
   "cell_type": "code",
   "execution_count": 12,
   "metadata": {
    "ExecuteTime": {
     "end_time": "2024-06-17T17:59:48.789714Z",
     "start_time": "2024-06-17T17:59:36.375027Z"
    }
   },
   "outputs": [],
   "source": [
    "from datetime import datetime\n",
    "ENTETES_TICKET['TIC_DATE'] = pd.to_datetime(ENTETES_TICKET['TIC_DATE'], format=\"%Y-%m-%d %H:%M:%S\")\n",
    "ENTETES_TICKET['TIC_DATE'] = ENTETES_TICKET['TIC_DATE'].dt.strftime(\"%d/%m/%Y\")"
   ]
  },
  {
   "cell_type": "markdown",
   "metadata": {},
   "source": [
    "Vérification du traitement."
   ]
  },
  {
   "cell_type": "code",
   "execution_count": 13,
   "metadata": {
    "ExecuteTime": {
     "end_time": "2024-06-17T17:59:52.598675Z",
     "start_time": "2024-06-17T17:59:52.592325Z"
    }
   },
   "outputs": [
    {
     "data": {
      "text/html": [
       "<div>\n",
       "<style scoped>\n",
       "    .dataframe tbody tr th:only-of-type {\n",
       "        vertical-align: middle;\n",
       "    }\n",
       "\n",
       "    .dataframe tbody tr th {\n",
       "        vertical-align: top;\n",
       "    }\n",
       "\n",
       "    .dataframe thead th {\n",
       "        text-align: right;\n",
       "    }\n",
       "</style>\n",
       "<table border=\"1\" class=\"dataframe\">\n",
       "  <thead>\n",
       "    <tr style=\"text-align: right;\">\n",
       "      <th></th>\n",
       "      <th>IDTICKET</th>\n",
       "      <th>TIC_DATE</th>\n",
       "      <th>MAG_CODE</th>\n",
       "      <th>IDCLIENT</th>\n",
       "      <th>TIC_TOTALTTC</th>\n",
       "    </tr>\n",
       "  </thead>\n",
       "  <tbody>\n",
       "    <tr>\n",
       "      <th>0</th>\n",
       "      <td>50100150510</td>\n",
       "      <td>02/01/2016</td>\n",
       "      <td>ALB</td>\n",
       "      <td>2995104.0</td>\n",
       "      <td>12.90</td>\n",
       "    </tr>\n",
       "    <tr>\n",
       "      <th>1</th>\n",
       "      <td>50100150511</td>\n",
       "      <td>02/01/2016</td>\n",
       "      <td>ALB</td>\n",
       "      <td>1411117.0</td>\n",
       "      <td>131.06</td>\n",
       "    </tr>\n",
       "    <tr>\n",
       "      <th>2</th>\n",
       "      <td>50100150515</td>\n",
       "      <td>02/01/2016</td>\n",
       "      <td>ALB</td>\n",
       "      <td>222592.0</td>\n",
       "      <td>34.69</td>\n",
       "    </tr>\n",
       "    <tr>\n",
       "      <th>3</th>\n",
       "      <td>50100150517</td>\n",
       "      <td>02/01/2016</td>\n",
       "      <td>ALB</td>\n",
       "      <td>2979958.0</td>\n",
       "      <td>97.58</td>\n",
       "    </tr>\n",
       "    <tr>\n",
       "      <th>4</th>\n",
       "      <td>50100150518</td>\n",
       "      <td>02/01/2016</td>\n",
       "      <td>ALB</td>\n",
       "      <td>2858676.0</td>\n",
       "      <td>4.70</td>\n",
       "    </tr>\n",
       "    <tr>\n",
       "      <th>...</th>\n",
       "      <td>...</td>\n",
       "      <td>...</td>\n",
       "      <td>...</td>\n",
       "      <td>...</td>\n",
       "      <td>...</td>\n",
       "    </tr>\n",
       "    <tr>\n",
       "      <th>6714168</th>\n",
       "      <td>1340300014404</td>\n",
       "      <td>27/12/2016</td>\n",
       "      <td>RMA</td>\n",
       "      <td>2292927.0</td>\n",
       "      <td>59.45</td>\n",
       "    </tr>\n",
       "    <tr>\n",
       "      <th>6714169</th>\n",
       "      <td>1340300014407</td>\n",
       "      <td>27/12/2016</td>\n",
       "      <td>RMA</td>\n",
       "      <td>3189844.0</td>\n",
       "      <td>26.90</td>\n",
       "    </tr>\n",
       "    <tr>\n",
       "      <th>6714170</th>\n",
       "      <td>1340300014409</td>\n",
       "      <td>27/12/2016</td>\n",
       "      <td>RMA</td>\n",
       "      <td>3125998.0</td>\n",
       "      <td>22.15</td>\n",
       "    </tr>\n",
       "    <tr>\n",
       "      <th>6714171</th>\n",
       "      <td>1340300014438</td>\n",
       "      <td>27/12/2016</td>\n",
       "      <td>RMA</td>\n",
       "      <td>3252348.0</td>\n",
       "      <td>118.01</td>\n",
       "    </tr>\n",
       "    <tr>\n",
       "      <th>6714172</th>\n",
       "      <td>1340300014440</td>\n",
       "      <td>27/12/2016</td>\n",
       "      <td>RMA</td>\n",
       "      <td>3243933.0</td>\n",
       "      <td>44.80</td>\n",
       "    </tr>\n",
       "  </tbody>\n",
       "</table>\n",
       "<p>6714173 rows × 5 columns</p>\n",
       "</div>"
      ],
      "text/plain": [
       "              IDTICKET    TIC_DATE MAG_CODE   IDCLIENT  TIC_TOTALTTC\n",
       "0          50100150510  02/01/2016      ALB  2995104.0         12.90\n",
       "1          50100150511  02/01/2016      ALB  1411117.0        131.06\n",
       "2          50100150515  02/01/2016      ALB   222592.0         34.69\n",
       "3          50100150517  02/01/2016      ALB  2979958.0         97.58\n",
       "4          50100150518  02/01/2016      ALB  2858676.0          4.70\n",
       "...                ...         ...      ...        ...           ...\n",
       "6714168  1340300014404  27/12/2016      RMA  2292927.0         59.45\n",
       "6714169  1340300014407  27/12/2016      RMA  3189844.0         26.90\n",
       "6714170  1340300014409  27/12/2016      RMA  3125998.0         22.15\n",
       "6714171  1340300014438  27/12/2016      RMA  3252348.0        118.01\n",
       "6714172  1340300014440  27/12/2016      RMA  3243933.0         44.80\n",
       "\n",
       "[6714173 rows x 5 columns]"
      ]
     },
     "execution_count": 13,
     "metadata": {},
     "output_type": "execute_result"
    }
   ],
   "source": [
    "ENTETES_TICKET"
   ]
  },
  {
   "cell_type": "markdown",
   "metadata": {},
   "source": [
    "Cette ligne de code nous permet d'identifier le nombre d'occurence de chaque code magasin, pour identifier les éventuels regroupements à effectuer. "
   ]
  },
  {
   "cell_type": "code",
   "execution_count": 14,
   "metadata": {
    "ExecuteTime": {
     "end_time": "2024-06-17T18:00:01.996824Z",
     "start_time": "2024-06-17T18:00:01.960481Z"
    }
   },
   "outputs": [
    {
     "data": {
      "text/plain": [
       "MAG_CODE\n",
       "SSM    246506\n",
       "MOB    221283\n",
       "HEI    219713\n",
       "BEA    205468\n",
       "GEX    196669\n",
       "        ...  \n",
       "CLI     31063\n",
       "STR     26694\n",
       "SCH     25502\n",
       "BAR     18254\n",
       "SAL     18245\n",
       "Name: count, Length: 66, dtype: int64"
      ]
     },
     "execution_count": 14,
     "metadata": {},
     "output_type": "execute_result"
    }
   ],
   "source": [
    "#modalités variables:\n",
    "ENTETES_TICKET['MAG_CODE'].value_counts(dropna = False)"
   ]
  },
  {
   "cell_type": "markdown",
   "metadata": {},
   "source": [
    "La ligne de code ci-dessous nous permet d'identifier la présence ou non de valeur(s) en doublons."
   ]
  },
  {
   "cell_type": "code",
   "execution_count": 15,
   "metadata": {
    "ExecuteTime": {
     "end_time": "2024-06-17T18:00:11.121763Z",
     "start_time": "2024-06-17T18:00:05.741125Z"
    }
   },
   "outputs": [
    {
     "name": "stdout",
     "output_type": "stream",
     "text": [
      "0\n"
     ]
    }
   ],
   "source": [
    "print(ENTETES_TICKET.duplicated().sum())\n",
    "ENTETES_TICKET = ENTETES_TICKET.drop_duplicates()"
   ]
  },
  {
   "cell_type": "markdown",
   "metadata": {},
   "source": [
    "La ligne de code ci-dessous nous permet d'identifier la présence ou non de valeur(s) manquante(s)"
   ]
  },
  {
   "cell_type": "code",
   "execution_count": 16,
   "metadata": {
    "ExecuteTime": {
     "end_time": "2024-06-17T18:00:14.262728Z",
     "start_time": "2024-06-17T18:00:13.883458Z"
    }
   },
   "outputs": [
    {
     "data": {
      "text/html": [
       "<div>\n",
       "<style scoped>\n",
       "    .dataframe tbody tr th:only-of-type {\n",
       "        vertical-align: middle;\n",
       "    }\n",
       "\n",
       "    .dataframe tbody tr th {\n",
       "        vertical-align: top;\n",
       "    }\n",
       "\n",
       "    .dataframe thead th {\n",
       "        text-align: right;\n",
       "    }\n",
       "</style>\n",
       "<table border=\"1\" class=\"dataframe\">\n",
       "  <thead>\n",
       "    <tr style=\"text-align: right;\">\n",
       "      <th></th>\n",
       "      <th>%_missing_values</th>\n",
       "    </tr>\n",
       "  </thead>\n",
       "  <tbody>\n",
       "    <tr>\n",
       "      <th>IDTICKET</th>\n",
       "      <td>0.0</td>\n",
       "    </tr>\n",
       "    <tr>\n",
       "      <th>TIC_DATE</th>\n",
       "      <td>0.0</td>\n",
       "    </tr>\n",
       "    <tr>\n",
       "      <th>MAG_CODE</th>\n",
       "      <td>0.0</td>\n",
       "    </tr>\n",
       "    <tr>\n",
       "      <th>IDCLIENT</th>\n",
       "      <td>0.0</td>\n",
       "    </tr>\n",
       "    <tr>\n",
       "      <th>TIC_TOTALTTC</th>\n",
       "      <td>0.0</td>\n",
       "    </tr>\n",
       "  </tbody>\n",
       "</table>\n",
       "</div>"
      ],
      "text/plain": [
       "              %_missing_values\n",
       "IDTICKET                   0.0\n",
       "TIC_DATE                   0.0\n",
       "MAG_CODE                   0.0\n",
       "IDCLIENT                   0.0\n",
       "TIC_TOTALTTC               0.0"
      ]
     },
     "execution_count": 16,
     "metadata": {},
     "output_type": "execute_result"
    }
   ],
   "source": [
    "pd.DataFrame(index=ENTETES_TICKET.columns, columns=['%_missing_values'], data= (ENTETES_TICKET.isna().sum().values / len(ENTETES_TICKET)*100))"
   ]
  },
  {
   "cell_type": "code",
   "execution_count": 17,
   "metadata": {
    "ExecuteTime": {
     "end_time": "2024-06-17T18:00:15.563858Z",
     "start_time": "2024-06-17T18:00:15.558252Z"
    }
   },
   "outputs": [
    {
     "data": {
      "text/html": [
       "<div>\n",
       "<style scoped>\n",
       "    .dataframe tbody tr th:only-of-type {\n",
       "        vertical-align: middle;\n",
       "    }\n",
       "\n",
       "    .dataframe tbody tr th {\n",
       "        vertical-align: top;\n",
       "    }\n",
       "\n",
       "    .dataframe thead th {\n",
       "        text-align: right;\n",
       "    }\n",
       "</style>\n",
       "<table border=\"1\" class=\"dataframe\">\n",
       "  <thead>\n",
       "    <tr style=\"text-align: right;\">\n",
       "      <th></th>\n",
       "      <th>IDTICKET</th>\n",
       "      <th>TIC_DATE</th>\n",
       "      <th>MAG_CODE</th>\n",
       "      <th>IDCLIENT</th>\n",
       "      <th>TIC_TOTALTTC</th>\n",
       "    </tr>\n",
       "  </thead>\n",
       "  <tbody>\n",
       "    <tr>\n",
       "      <th>0</th>\n",
       "      <td>50100150510</td>\n",
       "      <td>02/01/2016</td>\n",
       "      <td>ALB</td>\n",
       "      <td>2995104.0</td>\n",
       "      <td>12.90</td>\n",
       "    </tr>\n",
       "    <tr>\n",
       "      <th>1</th>\n",
       "      <td>50100150511</td>\n",
       "      <td>02/01/2016</td>\n",
       "      <td>ALB</td>\n",
       "      <td>1411117.0</td>\n",
       "      <td>131.06</td>\n",
       "    </tr>\n",
       "    <tr>\n",
       "      <th>2</th>\n",
       "      <td>50100150515</td>\n",
       "      <td>02/01/2016</td>\n",
       "      <td>ALB</td>\n",
       "      <td>222592.0</td>\n",
       "      <td>34.69</td>\n",
       "    </tr>\n",
       "    <tr>\n",
       "      <th>3</th>\n",
       "      <td>50100150517</td>\n",
       "      <td>02/01/2016</td>\n",
       "      <td>ALB</td>\n",
       "      <td>2979958.0</td>\n",
       "      <td>97.58</td>\n",
       "    </tr>\n",
       "    <tr>\n",
       "      <th>4</th>\n",
       "      <td>50100150518</td>\n",
       "      <td>02/01/2016</td>\n",
       "      <td>ALB</td>\n",
       "      <td>2858676.0</td>\n",
       "      <td>4.70</td>\n",
       "    </tr>\n",
       "    <tr>\n",
       "      <th>...</th>\n",
       "      <td>...</td>\n",
       "      <td>...</td>\n",
       "      <td>...</td>\n",
       "      <td>...</td>\n",
       "      <td>...</td>\n",
       "    </tr>\n",
       "    <tr>\n",
       "      <th>6714168</th>\n",
       "      <td>1340300014404</td>\n",
       "      <td>27/12/2016</td>\n",
       "      <td>RMA</td>\n",
       "      <td>2292927.0</td>\n",
       "      <td>59.45</td>\n",
       "    </tr>\n",
       "    <tr>\n",
       "      <th>6714169</th>\n",
       "      <td>1340300014407</td>\n",
       "      <td>27/12/2016</td>\n",
       "      <td>RMA</td>\n",
       "      <td>3189844.0</td>\n",
       "      <td>26.90</td>\n",
       "    </tr>\n",
       "    <tr>\n",
       "      <th>6714170</th>\n",
       "      <td>1340300014409</td>\n",
       "      <td>27/12/2016</td>\n",
       "      <td>RMA</td>\n",
       "      <td>3125998.0</td>\n",
       "      <td>22.15</td>\n",
       "    </tr>\n",
       "    <tr>\n",
       "      <th>6714171</th>\n",
       "      <td>1340300014438</td>\n",
       "      <td>27/12/2016</td>\n",
       "      <td>RMA</td>\n",
       "      <td>3252348.0</td>\n",
       "      <td>118.01</td>\n",
       "    </tr>\n",
       "    <tr>\n",
       "      <th>6714172</th>\n",
       "      <td>1340300014440</td>\n",
       "      <td>27/12/2016</td>\n",
       "      <td>RMA</td>\n",
       "      <td>3243933.0</td>\n",
       "      <td>44.80</td>\n",
       "    </tr>\n",
       "  </tbody>\n",
       "</table>\n",
       "<p>6714173 rows × 5 columns</p>\n",
       "</div>"
      ],
      "text/plain": [
       "              IDTICKET    TIC_DATE MAG_CODE   IDCLIENT  TIC_TOTALTTC\n",
       "0          50100150510  02/01/2016      ALB  2995104.0         12.90\n",
       "1          50100150511  02/01/2016      ALB  1411117.0        131.06\n",
       "2          50100150515  02/01/2016      ALB   222592.0         34.69\n",
       "3          50100150517  02/01/2016      ALB  2979958.0         97.58\n",
       "4          50100150518  02/01/2016      ALB  2858676.0          4.70\n",
       "...                ...         ...      ...        ...           ...\n",
       "6714168  1340300014404  27/12/2016      RMA  2292927.0         59.45\n",
       "6714169  1340300014407  27/12/2016      RMA  3189844.0         26.90\n",
       "6714170  1340300014409  27/12/2016      RMA  3125998.0         22.15\n",
       "6714171  1340300014438  27/12/2016      RMA  3252348.0        118.01\n",
       "6714172  1340300014440  27/12/2016      RMA  3243933.0         44.80\n",
       "\n",
       "[6714173 rows x 5 columns]"
      ]
     },
     "execution_count": 17,
     "metadata": {},
     "output_type": "execute_result"
    }
   ],
   "source": [
    "ENTETES_TICKET"
   ]
  },
  {
   "cell_type": "code",
   "execution_count": 18,
   "metadata": {
    "ExecuteTime": {
     "end_time": "2024-06-17T18:00:24.583359Z",
     "start_time": "2024-06-17T18:00:24.579416Z"
    }
   },
   "outputs": [
    {
     "name": "stdout",
     "output_type": "stream",
     "text": [
      "<class 'pandas.core.frame.DataFrame'>\n",
      "RangeIndex: 6714173 entries, 0 to 6714172\n",
      "Data columns (total 5 columns):\n",
      " #   Column        Dtype  \n",
      "---  ------        -----  \n",
      " 0   IDTICKET      object \n",
      " 1   TIC_DATE      object \n",
      " 2   MAG_CODE      object \n",
      " 3   IDCLIENT      object \n",
      " 4   TIC_TOTALTTC  float64\n",
      "dtypes: float64(1), object(4)\n",
      "memory usage: 256.1+ MB\n"
     ]
    }
   ],
   "source": [
    "ENTETES_TICKET.info()"
   ]
  },
  {
   "cell_type": "code",
   "execution_count": 19,
   "metadata": {},
   "outputs": [],
   "source": [
    "ENTETES = \"C:\\\\Users\\\\belga\\\\OneDrive\\\\Bureau\\\\EMBA Big Data\\\\Module Datascience\\\\Projet Data Science S2 2024\\\\ENTETES_TICKET_V4.pkl\"\n",
    "ENTETES_TICKET.to_pickle(ENTETES)"
   ]
  }
 ],
 "metadata": {
  "kernelspec": {
   "display_name": "Python 3",
   "language": "python",
   "name": "python3"
  },
  "language_info": {
   "codemirror_mode": {
    "name": "ipython",
    "version": 3
   },
   "file_extension": ".py",
   "mimetype": "text/x-python",
   "name": "python",
   "nbconvert_exporter": "python",
   "pygments_lexer": "ipython3",
   "version": "3.11.5"
  }
 },
 "nbformat": 4,
 "nbformat_minor": 2
}
