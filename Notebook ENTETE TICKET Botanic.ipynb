{
 "cells": [
  {
   "cell_type": "code",
   "execution_count": null,
   "metadata": {},
   "outputs": [],
   "source": [
    "import pip\n",
    "pip.main(['install', 'pandas'])\n",
    "pip.main(['install', 'matplotlib'])\n",
    "pip.main(['install', 'seaborn'])\n",
    "pip.main(['install', 'scikit-learn'])"
   ]
  },
  {
   "cell_type": "markdown",
   "metadata": {},
   "source": [
    "# CHARGEMENT DES BIBLIOTHEQUES"
   ]
  },
  {
   "cell_type": "code",
   "execution_count": 160,
   "metadata": {},
   "outputs": [],
   "source": [
    "import pandas as pd\n",
    "import matplotlib.pyplot as plt\n",
    "import numpy as np\n",
    "import seaborn as sns\n",
    "\n",
    "from sklearn.linear_model import LogisticRegression\n",
    "from sklearn.model_selection import train_test_split\n",
    "from sklearn.datasets import make_classification\n",
    "from sklearn.metrics import roc_curve, auc\n",
    "from sklearn.metrics import accuracy_score, classification_report, confusion_matrix\n",
    "from sklearn.preprocessing import StandardScaler\n",
    "from sklearn.preprocessing import OneHotEncoder\n",
    "from sklearn.preprocessing import LabelEncoder"
   ]
  },
  {
   "cell_type": "markdown",
   "metadata": {},
   "source": [
    "Chargement du jeu de données ENTETES TICKET V4."
   ]
  },
  {
   "cell_type": "code",
   "execution_count": 161,
   "metadata": {},
   "outputs": [
    {
     "name": "stdout",
     "output_type": "stream",
     "text": [
      "(6714173, 5)\n",
      "['IDTICKET', 'TIC_DATE', 'MAG_CODE', 'IDCLIENT', 'TIC_TOTALTTC']\n"
     ]
    }
   ],
   "source": [
    "dataset_path = \"C:\\\\Users\\\\belga\\\\OneDrive\\\\Bureau\\\\EMBA Big Data\\\\Module Datascience\\\\Projet Data Science S2 2024\\\\ENTETES_TICKET_V4.csv\"\n",
    "data2 = pd.read_csv(dataset_path, sep='|', low_memory=False)\n",
    "print(data2.shape)\n",
    "print(list(data2.columns))\n"
   ]
  },
  {
   "cell_type": "markdown",
   "metadata": {},
   "source": [
    "La ligne de code ci-dessous nous permet de connaître le détail des colonnes ainsi que le type de données constituant notre base (numérique ou caractères)."
   ]
  },
  {
   "cell_type": "code",
   "execution_count": 162,
   "metadata": {},
   "outputs": [
    {
     "name": "stdout",
     "output_type": "stream",
     "text": [
      "<class 'pandas.core.frame.DataFrame'>\n",
      "RangeIndex: 6714173 entries, 0 to 6714172\n",
      "Data columns (total 5 columns):\n",
      " #   Column        Dtype  \n",
      "---  ------        -----  \n",
      " 0   IDTICKET      int64  \n",
      " 1   TIC_DATE      object \n",
      " 2   MAG_CODE      object \n",
      " 3   IDCLIENT      float64\n",
      " 4   TIC_TOTALTTC  object \n",
      "dtypes: float64(1), int64(1), object(3)\n",
      "memory usage: 256.1+ MB\n"
     ]
    }
   ],
   "source": [
    "data2.info()"
   ]
  },
  {
   "cell_type": "markdown",
   "metadata": {},
   "source": [
    "Aperçu de notre jeu de données. "
   ]
  },
  {
   "cell_type": "code",
   "execution_count": 163,
   "metadata": {},
   "outputs": [
    {
     "data": {
      "text/html": [
       "<div>\n",
       "<style scoped>\n",
       "    .dataframe tbody tr th:only-of-type {\n",
       "        vertical-align: middle;\n",
       "    }\n",
       "\n",
       "    .dataframe tbody tr th {\n",
       "        vertical-align: top;\n",
       "    }\n",
       "\n",
       "    .dataframe thead th {\n",
       "        text-align: right;\n",
       "    }\n",
       "</style>\n",
       "<table border=\"1\" class=\"dataframe\">\n",
       "  <thead>\n",
       "    <tr style=\"text-align: right;\">\n",
       "      <th></th>\n",
       "      <th>IDTICKET</th>\n",
       "      <th>TIC_DATE</th>\n",
       "      <th>MAG_CODE</th>\n",
       "      <th>IDCLIENT</th>\n",
       "      <th>TIC_TOTALTTC</th>\n",
       "    </tr>\n",
       "  </thead>\n",
       "  <tbody>\n",
       "    <tr>\n",
       "      <th>0</th>\n",
       "      <td>50100150510</td>\n",
       "      <td>2016-01-02 11:01:33</td>\n",
       "      <td>ALB</td>\n",
       "      <td>2995104.0</td>\n",
       "      <td>12,9</td>\n",
       "    </tr>\n",
       "    <tr>\n",
       "      <th>1</th>\n",
       "      <td>50100150511</td>\n",
       "      <td>2016-01-02 11:02:10</td>\n",
       "      <td>ALB</td>\n",
       "      <td>1411117.0</td>\n",
       "      <td>131,06</td>\n",
       "    </tr>\n",
       "    <tr>\n",
       "      <th>2</th>\n",
       "      <td>50100150515</td>\n",
       "      <td>2016-01-02 12:03:27</td>\n",
       "      <td>ALB</td>\n",
       "      <td>222592.0</td>\n",
       "      <td>34,69</td>\n",
       "    </tr>\n",
       "    <tr>\n",
       "      <th>3</th>\n",
       "      <td>50100150517</td>\n",
       "      <td>2016-01-02 14:23:21</td>\n",
       "      <td>ALB</td>\n",
       "      <td>2979958.0</td>\n",
       "      <td>97,58</td>\n",
       "    </tr>\n",
       "    <tr>\n",
       "      <th>4</th>\n",
       "      <td>50100150518</td>\n",
       "      <td>2016-01-02 14:26:53</td>\n",
       "      <td>ALB</td>\n",
       "      <td>2858676.0</td>\n",
       "      <td>4,7</td>\n",
       "    </tr>\n",
       "    <tr>\n",
       "      <th>...</th>\n",
       "      <td>...</td>\n",
       "      <td>...</td>\n",
       "      <td>...</td>\n",
       "      <td>...</td>\n",
       "      <td>...</td>\n",
       "    </tr>\n",
       "    <tr>\n",
       "      <th>6714168</th>\n",
       "      <td>1340300014404</td>\n",
       "      <td>2016-12-27 16:31:52</td>\n",
       "      <td>RMA</td>\n",
       "      <td>2292927.0</td>\n",
       "      <td>59,45</td>\n",
       "    </tr>\n",
       "    <tr>\n",
       "      <th>6714169</th>\n",
       "      <td>1340300014407</td>\n",
       "      <td>2016-12-27 16:35:21</td>\n",
       "      <td>RMA</td>\n",
       "      <td>3189844.0</td>\n",
       "      <td>26,9</td>\n",
       "    </tr>\n",
       "    <tr>\n",
       "      <th>6714170</th>\n",
       "      <td>1340300014409</td>\n",
       "      <td>2016-12-27 16:38:59</td>\n",
       "      <td>RMA</td>\n",
       "      <td>3125998.0</td>\n",
       "      <td>22,15</td>\n",
       "    </tr>\n",
       "    <tr>\n",
       "      <th>6714171</th>\n",
       "      <td>1340300014438</td>\n",
       "      <td>2016-12-27 17:17:30</td>\n",
       "      <td>RMA</td>\n",
       "      <td>3252348.0</td>\n",
       "      <td>118,01</td>\n",
       "    </tr>\n",
       "    <tr>\n",
       "      <th>6714172</th>\n",
       "      <td>1340300014440</td>\n",
       "      <td>2016-12-27 17:24:15</td>\n",
       "      <td>RMA</td>\n",
       "      <td>3243933.0</td>\n",
       "      <td>44,8</td>\n",
       "    </tr>\n",
       "  </tbody>\n",
       "</table>\n",
       "<p>6714173 rows × 5 columns</p>\n",
       "</div>"
      ],
      "text/plain": [
       "              IDTICKET             TIC_DATE MAG_CODE   IDCLIENT TIC_TOTALTTC\n",
       "0          50100150510  2016-01-02 11:01:33      ALB  2995104.0         12,9\n",
       "1          50100150511  2016-01-02 11:02:10      ALB  1411117.0       131,06\n",
       "2          50100150515  2016-01-02 12:03:27      ALB   222592.0        34,69\n",
       "3          50100150517  2016-01-02 14:23:21      ALB  2979958.0        97,58\n",
       "4          50100150518  2016-01-02 14:26:53      ALB  2858676.0          4,7\n",
       "...                ...                  ...      ...        ...          ...\n",
       "6714168  1340300014404  2016-12-27 16:31:52      RMA  2292927.0        59,45\n",
       "6714169  1340300014407  2016-12-27 16:35:21      RMA  3189844.0         26,9\n",
       "6714170  1340300014409  2016-12-27 16:38:59      RMA  3125998.0        22,15\n",
       "6714171  1340300014438  2016-12-27 17:17:30      RMA  3252348.0       118,01\n",
       "6714172  1340300014440  2016-12-27 17:24:15      RMA  3243933.0         44,8\n",
       "\n",
       "[6714173 rows x 5 columns]"
      ]
     },
     "execution_count": 163,
     "metadata": {},
     "output_type": "execute_result"
    }
   ],
   "source": [
    "data2"
   ]
  },
  {
   "cell_type": "markdown",
   "metadata": {},
   "source": [
    "Afin d'exploiter de façon optimale les informations, nous allons convetir les l'ID TICKET et le NUM LIGNE TICKET en caractère. A l'inverse, nous devons convertir le total TTC en valeur numérique."
   ]
  },
  {
   "cell_type": "code",
   "execution_count": 164,
   "metadata": {},
   "outputs": [],
   "source": [
    "data2['IDTICKET'] = data2['IDTICKET'].astype(str)\n",
    "data2['IDCLIENT'] = data2['IDCLIENT'].astype(str)"
   ]
  },
  {
   "cell_type": "code",
   "execution_count": 165,
   "metadata": {},
   "outputs": [],
   "source": [
    "data2['TIC_TOTALTTC'] = data2['TIC_TOTALTTC'].str.replace(',', '.')"
   ]
  },
  {
   "cell_type": "code",
   "execution_count": 166,
   "metadata": {},
   "outputs": [],
   "source": [
    "data2['TIC_TOTALTTC'] = data2['TIC_TOTALTTC'].str.strip('\\\"')"
   ]
  },
  {
   "cell_type": "code",
   "execution_count": 167,
   "metadata": {},
   "outputs": [],
   "source": [
    "data2['TIC_TOTALTTC'] = pd.to_numeric(data2['TIC_TOTALTTC'], errors='coerce')"
   ]
  },
  {
   "cell_type": "markdown",
   "metadata": {},
   "source": [
    "Vérification du traitement."
   ]
  },
  {
   "cell_type": "code",
   "execution_count": 168,
   "metadata": {},
   "outputs": [
    {
     "name": "stdout",
     "output_type": "stream",
     "text": [
      "<class 'pandas.core.frame.DataFrame'>\n",
      "RangeIndex: 6714173 entries, 0 to 6714172\n",
      "Data columns (total 5 columns):\n",
      " #   Column        Dtype  \n",
      "---  ------        -----  \n",
      " 0   IDTICKET      object \n",
      " 1   TIC_DATE      object \n",
      " 2   MAG_CODE      object \n",
      " 3   IDCLIENT      object \n",
      " 4   TIC_TOTALTTC  float64\n",
      "dtypes: float64(1), object(4)\n",
      "memory usage: 256.1+ MB\n"
     ]
    }
   ],
   "source": [
    "data2.info()"
   ]
  },
  {
   "cell_type": "code",
   "execution_count": 169,
   "metadata": {},
   "outputs": [
    {
     "data": {
      "text/html": [
       "<div>\n",
       "<style scoped>\n",
       "    .dataframe tbody tr th:only-of-type {\n",
       "        vertical-align: middle;\n",
       "    }\n",
       "\n",
       "    .dataframe tbody tr th {\n",
       "        vertical-align: top;\n",
       "    }\n",
       "\n",
       "    .dataframe thead th {\n",
       "        text-align: right;\n",
       "    }\n",
       "</style>\n",
       "<table border=\"1\" class=\"dataframe\">\n",
       "  <thead>\n",
       "    <tr style=\"text-align: right;\">\n",
       "      <th></th>\n",
       "      <th>IDTICKET</th>\n",
       "      <th>TIC_DATE</th>\n",
       "      <th>MAG_CODE</th>\n",
       "      <th>IDCLIENT</th>\n",
       "      <th>TIC_TOTALTTC</th>\n",
       "    </tr>\n",
       "  </thead>\n",
       "  <tbody>\n",
       "    <tr>\n",
       "      <th>0</th>\n",
       "      <td>50100150510</td>\n",
       "      <td>2016-01-02 11:01:33</td>\n",
       "      <td>ALB</td>\n",
       "      <td>2995104.0</td>\n",
       "      <td>12.90</td>\n",
       "    </tr>\n",
       "    <tr>\n",
       "      <th>1</th>\n",
       "      <td>50100150511</td>\n",
       "      <td>2016-01-02 11:02:10</td>\n",
       "      <td>ALB</td>\n",
       "      <td>1411117.0</td>\n",
       "      <td>131.06</td>\n",
       "    </tr>\n",
       "    <tr>\n",
       "      <th>2</th>\n",
       "      <td>50100150515</td>\n",
       "      <td>2016-01-02 12:03:27</td>\n",
       "      <td>ALB</td>\n",
       "      <td>222592.0</td>\n",
       "      <td>34.69</td>\n",
       "    </tr>\n",
       "    <tr>\n",
       "      <th>3</th>\n",
       "      <td>50100150517</td>\n",
       "      <td>2016-01-02 14:23:21</td>\n",
       "      <td>ALB</td>\n",
       "      <td>2979958.0</td>\n",
       "      <td>97.58</td>\n",
       "    </tr>\n",
       "    <tr>\n",
       "      <th>4</th>\n",
       "      <td>50100150518</td>\n",
       "      <td>2016-01-02 14:26:53</td>\n",
       "      <td>ALB</td>\n",
       "      <td>2858676.0</td>\n",
       "      <td>4.70</td>\n",
       "    </tr>\n",
       "    <tr>\n",
       "      <th>...</th>\n",
       "      <td>...</td>\n",
       "      <td>...</td>\n",
       "      <td>...</td>\n",
       "      <td>...</td>\n",
       "      <td>...</td>\n",
       "    </tr>\n",
       "    <tr>\n",
       "      <th>6714168</th>\n",
       "      <td>1340300014404</td>\n",
       "      <td>2016-12-27 16:31:52</td>\n",
       "      <td>RMA</td>\n",
       "      <td>2292927.0</td>\n",
       "      <td>59.45</td>\n",
       "    </tr>\n",
       "    <tr>\n",
       "      <th>6714169</th>\n",
       "      <td>1340300014407</td>\n",
       "      <td>2016-12-27 16:35:21</td>\n",
       "      <td>RMA</td>\n",
       "      <td>3189844.0</td>\n",
       "      <td>26.90</td>\n",
       "    </tr>\n",
       "    <tr>\n",
       "      <th>6714170</th>\n",
       "      <td>1340300014409</td>\n",
       "      <td>2016-12-27 16:38:59</td>\n",
       "      <td>RMA</td>\n",
       "      <td>3125998.0</td>\n",
       "      <td>22.15</td>\n",
       "    </tr>\n",
       "    <tr>\n",
       "      <th>6714171</th>\n",
       "      <td>1340300014438</td>\n",
       "      <td>2016-12-27 17:17:30</td>\n",
       "      <td>RMA</td>\n",
       "      <td>3252348.0</td>\n",
       "      <td>118.01</td>\n",
       "    </tr>\n",
       "    <tr>\n",
       "      <th>6714172</th>\n",
       "      <td>1340300014440</td>\n",
       "      <td>2016-12-27 17:24:15</td>\n",
       "      <td>RMA</td>\n",
       "      <td>3243933.0</td>\n",
       "      <td>44.80</td>\n",
       "    </tr>\n",
       "  </tbody>\n",
       "</table>\n",
       "<p>6714173 rows × 5 columns</p>\n",
       "</div>"
      ],
      "text/plain": [
       "              IDTICKET             TIC_DATE MAG_CODE   IDCLIENT  TIC_TOTALTTC\n",
       "0          50100150510  2016-01-02 11:01:33      ALB  2995104.0         12.90\n",
       "1          50100150511  2016-01-02 11:02:10      ALB  1411117.0        131.06\n",
       "2          50100150515  2016-01-02 12:03:27      ALB   222592.0         34.69\n",
       "3          50100150517  2016-01-02 14:23:21      ALB  2979958.0         97.58\n",
       "4          50100150518  2016-01-02 14:26:53      ALB  2858676.0          4.70\n",
       "...                ...                  ...      ...        ...           ...\n",
       "6714168  1340300014404  2016-12-27 16:31:52      RMA  2292927.0         59.45\n",
       "6714169  1340300014407  2016-12-27 16:35:21      RMA  3189844.0         26.90\n",
       "6714170  1340300014409  2016-12-27 16:38:59      RMA  3125998.0         22.15\n",
       "6714171  1340300014438  2016-12-27 17:17:30      RMA  3252348.0        118.01\n",
       "6714172  1340300014440  2016-12-27 17:24:15      RMA  3243933.0         44.80\n",
       "\n",
       "[6714173 rows x 5 columns]"
      ]
     },
     "execution_count": 169,
     "metadata": {},
     "output_type": "execute_result"
    }
   ],
   "source": [
    "data2"
   ]
  },
  {
   "cell_type": "markdown",
   "metadata": {},
   "source": [
    "La ligne de code ci-dessous nous permet de formater le format de la date."
   ]
  },
  {
   "cell_type": "code",
   "execution_count": 170,
   "metadata": {},
   "outputs": [],
   "source": [
    "from datetime import datetime\n",
    "data2['TIC_DATE'] = pd.to_datetime(data2['TIC_DATE'], format=\"%Y-%m-%d %H:%M:%S\")\n",
    "data2['TIC_DATE'] = data2['TIC_DATE'].dt.strftime(\"%d/%m/%Y\")"
   ]
  },
  {
   "cell_type": "markdown",
   "metadata": {},
   "source": [
    "Vérification du traitement."
   ]
  },
  {
   "cell_type": "code",
   "execution_count": 171,
   "metadata": {},
   "outputs": [
    {
     "data": {
      "text/html": [
       "<div>\n",
       "<style scoped>\n",
       "    .dataframe tbody tr th:only-of-type {\n",
       "        vertical-align: middle;\n",
       "    }\n",
       "\n",
       "    .dataframe tbody tr th {\n",
       "        vertical-align: top;\n",
       "    }\n",
       "\n",
       "    .dataframe thead th {\n",
       "        text-align: right;\n",
       "    }\n",
       "</style>\n",
       "<table border=\"1\" class=\"dataframe\">\n",
       "  <thead>\n",
       "    <tr style=\"text-align: right;\">\n",
       "      <th></th>\n",
       "      <th>IDTICKET</th>\n",
       "      <th>TIC_DATE</th>\n",
       "      <th>MAG_CODE</th>\n",
       "      <th>IDCLIENT</th>\n",
       "      <th>TIC_TOTALTTC</th>\n",
       "    </tr>\n",
       "  </thead>\n",
       "  <tbody>\n",
       "    <tr>\n",
       "      <th>0</th>\n",
       "      <td>50100150510</td>\n",
       "      <td>02/01/2016</td>\n",
       "      <td>ALB</td>\n",
       "      <td>2995104.0</td>\n",
       "      <td>12.90</td>\n",
       "    </tr>\n",
       "    <tr>\n",
       "      <th>1</th>\n",
       "      <td>50100150511</td>\n",
       "      <td>02/01/2016</td>\n",
       "      <td>ALB</td>\n",
       "      <td>1411117.0</td>\n",
       "      <td>131.06</td>\n",
       "    </tr>\n",
       "    <tr>\n",
       "      <th>2</th>\n",
       "      <td>50100150515</td>\n",
       "      <td>02/01/2016</td>\n",
       "      <td>ALB</td>\n",
       "      <td>222592.0</td>\n",
       "      <td>34.69</td>\n",
       "    </tr>\n",
       "    <tr>\n",
       "      <th>3</th>\n",
       "      <td>50100150517</td>\n",
       "      <td>02/01/2016</td>\n",
       "      <td>ALB</td>\n",
       "      <td>2979958.0</td>\n",
       "      <td>97.58</td>\n",
       "    </tr>\n",
       "    <tr>\n",
       "      <th>4</th>\n",
       "      <td>50100150518</td>\n",
       "      <td>02/01/2016</td>\n",
       "      <td>ALB</td>\n",
       "      <td>2858676.0</td>\n",
       "      <td>4.70</td>\n",
       "    </tr>\n",
       "    <tr>\n",
       "      <th>...</th>\n",
       "      <td>...</td>\n",
       "      <td>...</td>\n",
       "      <td>...</td>\n",
       "      <td>...</td>\n",
       "      <td>...</td>\n",
       "    </tr>\n",
       "    <tr>\n",
       "      <th>6714168</th>\n",
       "      <td>1340300014404</td>\n",
       "      <td>27/12/2016</td>\n",
       "      <td>RMA</td>\n",
       "      <td>2292927.0</td>\n",
       "      <td>59.45</td>\n",
       "    </tr>\n",
       "    <tr>\n",
       "      <th>6714169</th>\n",
       "      <td>1340300014407</td>\n",
       "      <td>27/12/2016</td>\n",
       "      <td>RMA</td>\n",
       "      <td>3189844.0</td>\n",
       "      <td>26.90</td>\n",
       "    </tr>\n",
       "    <tr>\n",
       "      <th>6714170</th>\n",
       "      <td>1340300014409</td>\n",
       "      <td>27/12/2016</td>\n",
       "      <td>RMA</td>\n",
       "      <td>3125998.0</td>\n",
       "      <td>22.15</td>\n",
       "    </tr>\n",
       "    <tr>\n",
       "      <th>6714171</th>\n",
       "      <td>1340300014438</td>\n",
       "      <td>27/12/2016</td>\n",
       "      <td>RMA</td>\n",
       "      <td>3252348.0</td>\n",
       "      <td>118.01</td>\n",
       "    </tr>\n",
       "    <tr>\n",
       "      <th>6714172</th>\n",
       "      <td>1340300014440</td>\n",
       "      <td>27/12/2016</td>\n",
       "      <td>RMA</td>\n",
       "      <td>3243933.0</td>\n",
       "      <td>44.80</td>\n",
       "    </tr>\n",
       "  </tbody>\n",
       "</table>\n",
       "<p>6714173 rows × 5 columns</p>\n",
       "</div>"
      ],
      "text/plain": [
       "              IDTICKET    TIC_DATE MAG_CODE   IDCLIENT  TIC_TOTALTTC\n",
       "0          50100150510  02/01/2016      ALB  2995104.0         12.90\n",
       "1          50100150511  02/01/2016      ALB  1411117.0        131.06\n",
       "2          50100150515  02/01/2016      ALB   222592.0         34.69\n",
       "3          50100150517  02/01/2016      ALB  2979958.0         97.58\n",
       "4          50100150518  02/01/2016      ALB  2858676.0          4.70\n",
       "...                ...         ...      ...        ...           ...\n",
       "6714168  1340300014404  27/12/2016      RMA  2292927.0         59.45\n",
       "6714169  1340300014407  27/12/2016      RMA  3189844.0         26.90\n",
       "6714170  1340300014409  27/12/2016      RMA  3125998.0         22.15\n",
       "6714171  1340300014438  27/12/2016      RMA  3252348.0        118.01\n",
       "6714172  1340300014440  27/12/2016      RMA  3243933.0         44.80\n",
       "\n",
       "[6714173 rows x 5 columns]"
      ]
     },
     "execution_count": 171,
     "metadata": {},
     "output_type": "execute_result"
    }
   ],
   "source": [
    "data2"
   ]
  },
  {
   "cell_type": "markdown",
   "metadata": {},
   "source": [
    "Cette ligne de code nous permet d'identifier le nombre d'occurence de chaque code magasin, pour identifier les éventuels regroupements à effectuer. "
   ]
  },
  {
   "cell_type": "code",
   "execution_count": 172,
   "metadata": {},
   "outputs": [
    {
     "data": {
      "text/plain": [
       "MAG_CODE\n",
       "SSM    246506\n",
       "MOB    221283\n",
       "HEI    219713\n",
       "BEA    205468\n",
       "GEX    196669\n",
       "        ...  \n",
       "CLI     31063\n",
       "STR     26694\n",
       "SCH     25502\n",
       "BAR     18254\n",
       "SAL     18245\n",
       "Name: count, Length: 66, dtype: int64"
      ]
     },
     "execution_count": 172,
     "metadata": {},
     "output_type": "execute_result"
    }
   ],
   "source": [
    "#modalités variables:\n",
    "data2['MAG_CODE'].value_counts(dropna = False)"
   ]
  },
  {
   "cell_type": "markdown",
   "metadata": {},
   "source": [
    "La ligne de code ci-dessous nous permet d'identifier la présence ou non de valeur(s) en doublons."
   ]
  },
  {
   "cell_type": "code",
   "execution_count": 173,
   "metadata": {},
   "outputs": [
    {
     "name": "stdout",
     "output_type": "stream",
     "text": [
      "0\n"
     ]
    }
   ],
   "source": [
    "print(data2.duplicated().sum())\n",
    "data = data2.drop_duplicates()"
   ]
  },
  {
   "cell_type": "markdown",
   "metadata": {},
   "source": [
    "La ligne de code ci-dessous nous permet d'identifier la présence ou non de valeur(s) manquante(s)"
   ]
  },
  {
   "cell_type": "code",
   "execution_count": 174,
   "metadata": {},
   "outputs": [
    {
     "data": {
      "text/html": [
       "<div>\n",
       "<style scoped>\n",
       "    .dataframe tbody tr th:only-of-type {\n",
       "        vertical-align: middle;\n",
       "    }\n",
       "\n",
       "    .dataframe tbody tr th {\n",
       "        vertical-align: top;\n",
       "    }\n",
       "\n",
       "    .dataframe thead th {\n",
       "        text-align: right;\n",
       "    }\n",
       "</style>\n",
       "<table border=\"1\" class=\"dataframe\">\n",
       "  <thead>\n",
       "    <tr style=\"text-align: right;\">\n",
       "      <th></th>\n",
       "      <th>%_missing_values</th>\n",
       "    </tr>\n",
       "  </thead>\n",
       "  <tbody>\n",
       "    <tr>\n",
       "      <th>IDTICKET</th>\n",
       "      <td>0.0</td>\n",
       "    </tr>\n",
       "    <tr>\n",
       "      <th>TIC_DATE</th>\n",
       "      <td>0.0</td>\n",
       "    </tr>\n",
       "    <tr>\n",
       "      <th>MAG_CODE</th>\n",
       "      <td>0.0</td>\n",
       "    </tr>\n",
       "    <tr>\n",
       "      <th>IDCLIENT</th>\n",
       "      <td>0.0</td>\n",
       "    </tr>\n",
       "    <tr>\n",
       "      <th>TIC_TOTALTTC</th>\n",
       "      <td>0.0</td>\n",
       "    </tr>\n",
       "  </tbody>\n",
       "</table>\n",
       "</div>"
      ],
      "text/plain": [
       "              %_missing_values\n",
       "IDTICKET                   0.0\n",
       "TIC_DATE                   0.0\n",
       "MAG_CODE                   0.0\n",
       "IDCLIENT                   0.0\n",
       "TIC_TOTALTTC               0.0"
      ]
     },
     "execution_count": 174,
     "metadata": {},
     "output_type": "execute_result"
    }
   ],
   "source": [
    "pd.DataFrame(index=data.columns, columns=['%_missing_values'], data= (data.isna().sum().values / len(data)*100))"
   ]
  },
  {
   "cell_type": "markdown",
   "metadata": {},
   "source": [
    "Il convient à présent de vérifier la présence de valeur aberrantes."
   ]
  },
  {
   "cell_type": "code",
   "execution_count": 175,
   "metadata": {},
   "outputs": [
    {
     "data": {
      "text/plain": [
       "<Axes: >"
      ]
     },
     "execution_count": 175,
     "metadata": {},
     "output_type": "execute_result"
    },
    {
     "data": {
      "image/png": "[encoded data removed]",
      "text/plain": [
       "<Figure size 640x480 with 1 Axes>"
      ]
     },
     "metadata": {},
     "output_type": "display_data"
    }
   ],
   "source": [
    "#1ère méthode boxplot\n",
    "import seaborn as sns\n",
    "import matplotlib.pyplot as plt\n",
    "\n",
    "# Visualisation des boxplots des variables numériques\n",
    "sns.boxplot(data2)"
   ]
  },
  {
   "cell_type": "markdown",
   "metadata": {},
   "source": [
    "La série de code ci-dessous permet de traiter les valeurs aberrantes en présence."
   ]
  },
  {
   "cell_type": "code",
   "execution_count": 176,
   "metadata": {},
   "outputs": [
    {
     "name": "stdout",
     "output_type": "stream",
     "text": [
      "Old Shape:  (6714173, 5)\n"
     ]
    }
   ],
   "source": [
    "''' Detection '''\n",
    "# IQR\n",
    "Q1 = np.percentile(data2['TIC_TOTALTTC'], 25,\n",
    "                   interpolation = 'midpoint')\n",
    " \n",
    "Q3 = np.percentile(data2['TIC_TOTALTTC'], 75,\n",
    "                   interpolation = 'midpoint')\n",
    "IQR = Q3 - Q1\n",
    " \n",
    "print(\"Old Shape: \", data2.shape)"
   ]
  },
  {
   "cell_type": "code",
   "execution_count": 177,
   "metadata": {},
   "outputs": [],
   "source": [
    "# Upper bound\n",
    "upper = np.where(data2['TIC_TOTALTTC'] >= (Q3+1.5*IQR))\n",
    "# Lower bound\n",
    "lower = np.where(data2['TIC_TOTALTTC'] <= (Q1-1.5*IQR))"
   ]
  },
  {
   "cell_type": "code",
   "execution_count": 178,
   "metadata": {},
   "outputs": [],
   "source": [
    "''' Removing the Outliers '''\n",
    "data2.drop(upper[0], inplace = True)\n",
    "data2.drop(lower[0], inplace = True)"
   ]
  },
  {
   "cell_type": "code",
   "execution_count": 179,
   "metadata": {},
   "outputs": [
    {
     "name": "stdout",
     "output_type": "stream",
     "text": [
      "New Shape:  (6278461, 5)\n"
     ]
    }
   ],
   "source": [
    "print(\"New Shape: \", data2.shape)"
   ]
  },
  {
   "cell_type": "markdown",
   "metadata": {},
   "source": [
    "CALCUL DU NOMBRES DE MAGASINS (Mag Code) FREQUENTE PAR UN CLIENT (ID Client)."
   ]
  },
  {
   "cell_type": "code",
   "execution_count": 180,
   "metadata": {},
   "outputs": [],
   "source": [
    "data2['IDCLIENT'] = data2['IDCLIENT'].astype(float)"
   ]
  },
  {
   "cell_type": "code",
   "execution_count": 181,
   "metadata": {},
   "outputs": [],
   "source": [
    "data2['IDCLIENT'] = data2['IDCLIENT'].astype(int)"
   ]
  },
  {
   "cell_type": "code",
   "execution_count": 182,
   "metadata": {},
   "outputs": [
    {
     "name": "stdout",
     "output_type": "stream",
     "text": [
      "<class 'pandas.core.frame.DataFrame'>\n",
      "Index: 6278461 entries, 0 to 6714172\n",
      "Data columns (total 5 columns):\n",
      " #   Column        Dtype  \n",
      "---  ------        -----  \n",
      " 0   IDTICKET      object \n",
      " 1   TIC_DATE      object \n",
      " 2   MAG_CODE      object \n",
      " 3   IDCLIENT      int32  \n",
      " 4   TIC_TOTALTTC  float64\n",
      "dtypes: float64(1), int32(1), object(3)\n",
      "memory usage: 263.5+ MB\n"
     ]
    }
   ],
   "source": [
    "data2.info()"
   ]
  },
  {
   "cell_type": "code",
   "execution_count": 183,
   "metadata": {},
   "outputs": [],
   "source": [
    "FREQUENCE_MAG = data2.groupby('IDCLIENT')['MAG_CODE'].nunique()"
   ]
  },
  {
   "cell_type": "code",
   "execution_count": 184,
   "metadata": {},
   "outputs": [],
   "source": [
    "data2.insert(loc=5, column='FREQUENCE_MAG', value=FREQUENCE_MAG)"
   ]
  },
  {
   "cell_type": "code",
   "execution_count": 185,
   "metadata": {},
   "outputs": [
    {
     "data": {
      "text/plain": [
       "FREQUENCE_MAG\n",
       "1.0     551738\n",
       "2.0     107580\n",
       "3.0      14591\n",
       "4.0       2358\n",
       "5.0        412\n",
       "6.0         75\n",
       "7.0         32\n",
       "8.0          8\n",
       "9.0          3\n",
       "11.0         2\n",
       "28.0         1\n",
       "10.0         1\n",
       "15.0         1\n",
       "20.0         1\n",
       "Name: count, dtype: int64"
      ]
     },
     "execution_count": 185,
     "metadata": {},
     "output_type": "execute_result"
    }
   ],
   "source": [
    "data2['FREQUENCE_MAG'].value_counts()"
   ]
  },
  {
   "cell_type": "markdown",
   "metadata": {},
   "source": [
    "CALCUL D'ANCIENNETE ENTRE LES 2 DERNIERES COMMANDES (TIC DATE) D'UN CLIENT (ID Client)."
   ]
  },
  {
   "cell_type": "code",
   "execution_count": 36,
   "metadata": {},
   "outputs": [],
   "source": [
    "data2['TIC_DATE'] = pd.to_datetime(data2['TIC_DATE'], format='%d/%m/%Y', errors='coerce')"
   ]
  },
  {
   "cell_type": "code",
   "execution_count": 37,
   "metadata": {},
   "outputs": [
    {
     "data": {
      "text/html": [
       "<div>\n",
       "<style scoped>\n",
       "    .dataframe tbody tr th:only-of-type {\n",
       "        vertical-align: middle;\n",
       "    }\n",
       "\n",
       "    .dataframe tbody tr th {\n",
       "        vertical-align: top;\n",
       "    }\n",
       "\n",
       "    .dataframe thead th {\n",
       "        text-align: right;\n",
       "    }\n",
       "</style>\n",
       "<table border=\"1\" class=\"dataframe\">\n",
       "  <thead>\n",
       "    <tr style=\"text-align: right;\">\n",
       "      <th></th>\n",
       "      <th>IDTICKET</th>\n",
       "      <th>TIC_DATE</th>\n",
       "      <th>MAG_CODE</th>\n",
       "      <th>IDCLIENT</th>\n",
       "      <th>TIC_TOTALTTC</th>\n",
       "      <th>ANCIENNETE_CDE</th>\n",
       "      <th>FREQUENCE_MAG</th>\n",
       "    </tr>\n",
       "  </thead>\n",
       "  <tbody>\n",
       "    <tr>\n",
       "      <th>1030801</th>\n",
       "      <td>290200148293</td>\n",
       "      <td>2016-01-20</td>\n",
       "      <td>PRI</td>\n",
       "      <td>10000.0</td>\n",
       "      <td>31.98</td>\n",
       "      <td>NaT</td>\n",
       "      <td>NaN</td>\n",
       "    </tr>\n",
       "    <tr>\n",
       "      <th>1043255</th>\n",
       "      <td>290400188646</td>\n",
       "      <td>2016-02-02</td>\n",
       "      <td>PRI</td>\n",
       "      <td>10000.0</td>\n",
       "      <td>7.80</td>\n",
       "      <td>13 days</td>\n",
       "      <td>NaN</td>\n",
       "    </tr>\n",
       "    <tr>\n",
       "      <th>1009491</th>\n",
       "      <td>290100590130</td>\n",
       "      <td>2016-02-04</td>\n",
       "      <td>PRI</td>\n",
       "      <td>10000.0</td>\n",
       "      <td>19.60</td>\n",
       "      <td>2 days</td>\n",
       "      <td>NaN</td>\n",
       "    </tr>\n",
       "    <tr>\n",
       "      <th>992585</th>\n",
       "      <td>290100593170</td>\n",
       "      <td>2016-02-26</td>\n",
       "      <td>PRI</td>\n",
       "      <td>10000.0</td>\n",
       "      <td>11.21</td>\n",
       "      <td>22 days</td>\n",
       "      <td>NaN</td>\n",
       "    </tr>\n",
       "    <tr>\n",
       "      <th>1302906</th>\n",
       "      <td>380100650588</td>\n",
       "      <td>2016-03-03</td>\n",
       "      <td>STE</td>\n",
       "      <td>10000.0</td>\n",
       "      <td>4.50</td>\n",
       "      <td>6 days</td>\n",
       "      <td>NaN</td>\n",
       "    </tr>\n",
       "    <tr>\n",
       "      <th>...</th>\n",
       "      <td>...</td>\n",
       "      <td>...</td>\n",
       "      <td>...</td>\n",
       "      <td>...</td>\n",
       "      <td>...</td>\n",
       "      <td>...</td>\n",
       "      <td>...</td>\n",
       "    </tr>\n",
       "    <tr>\n",
       "      <th>1684500</th>\n",
       "      <td>470500212485</td>\n",
       "      <td>2016-05-16</td>\n",
       "      <td>FRV</td>\n",
       "      <td>99999.0</td>\n",
       "      <td>48.19</td>\n",
       "      <td>NaT</td>\n",
       "      <td>NaN</td>\n",
       "    </tr>\n",
       "    <tr>\n",
       "      <th>1688571</th>\n",
       "      <td>470200146503</td>\n",
       "      <td>2016-05-28</td>\n",
       "      <td>FRV</td>\n",
       "      <td>99999.0</td>\n",
       "      <td>29.75</td>\n",
       "      <td>12 days</td>\n",
       "      <td>NaN</td>\n",
       "    </tr>\n",
       "    <tr>\n",
       "      <th>1650489</th>\n",
       "      <td>470100318222</td>\n",
       "      <td>2016-07-02</td>\n",
       "      <td>FRV</td>\n",
       "      <td>99999.0</td>\n",
       "      <td>16.60</td>\n",
       "      <td>35 days</td>\n",
       "      <td>NaN</td>\n",
       "    </tr>\n",
       "    <tr>\n",
       "      <th>1650614</th>\n",
       "      <td>470100318375</td>\n",
       "      <td>2016-07-02</td>\n",
       "      <td>FRV</td>\n",
       "      <td>99999.0</td>\n",
       "      <td>19.92</td>\n",
       "      <td>0 days</td>\n",
       "      <td>NaN</td>\n",
       "    </tr>\n",
       "    <tr>\n",
       "      <th>1653301</th>\n",
       "      <td>470100321801</td>\n",
       "      <td>2016-08-11</td>\n",
       "      <td>FRV</td>\n",
       "      <td>99999.0</td>\n",
       "      <td>47.65</td>\n",
       "      <td>40 days</td>\n",
       "      <td>NaN</td>\n",
       "    </tr>\n",
       "  </tbody>\n",
       "</table>\n",
       "<p>6278461 rows × 7 columns</p>\n",
       "</div>"
      ],
      "text/plain": [
       "             IDTICKET   TIC_DATE MAG_CODE IDCLIENT  TIC_TOTALTTC  \\\n",
       "1030801  290200148293 2016-01-20      PRI  10000.0         31.98   \n",
       "1043255  290400188646 2016-02-02      PRI  10000.0          7.80   \n",
       "1009491  290100590130 2016-02-04      PRI  10000.0         19.60   \n",
       "992585   290100593170 2016-02-26      PRI  10000.0         11.21   \n",
       "1302906  380100650588 2016-03-03      STE  10000.0          4.50   \n",
       "...               ...        ...      ...      ...           ...   \n",
       "1684500  470500212485 2016-05-16      FRV  99999.0         48.19   \n",
       "1688571  470200146503 2016-05-28      FRV  99999.0         29.75   \n",
       "1650489  470100318222 2016-07-02      FRV  99999.0         16.60   \n",
       "1650614  470100318375 2016-07-02      FRV  99999.0         19.92   \n",
       "1653301  470100321801 2016-08-11      FRV  99999.0         47.65   \n",
       "\n",
       "        ANCIENNETE_CDE  FREQUENCE_MAG  \n",
       "1030801            NaT            NaN  \n",
       "1043255        13 days            NaN  \n",
       "1009491         2 days            NaN  \n",
       "992585         22 days            NaN  \n",
       "1302906         6 days            NaN  \n",
       "...                ...            ...  \n",
       "1684500            NaT            NaN  \n",
       "1688571        12 days            NaN  \n",
       "1650489        35 days            NaN  \n",
       "1650614         0 days            NaN  \n",
       "1653301        40 days            NaN  \n",
       "\n",
       "[6278461 rows x 7 columns]"
      ]
     },
     "execution_count": 37,
     "metadata": {},
     "output_type": "execute_result"
    }
   ],
   "source": [
    "data2"
   ]
  },
  {
   "cell_type": "code",
   "execution_count": 26,
   "metadata": {},
   "outputs": [
    {
     "name": "stdout",
     "output_type": "stream",
     "text": [
      "<class 'pandas.core.frame.DataFrame'>\n",
      "Index: 6278461 entries, 0 to 6714172\n",
      "Data columns (total 5 columns):\n",
      " #   Column        Dtype         \n",
      "---  ------        -----         \n",
      " 0   IDTICKET      object        \n",
      " 1   TIC_DATE      datetime64[ns]\n",
      " 2   MAG_CODE      object        \n",
      " 3   IDCLIENT      object        \n",
      " 4   TIC_TOTALTTC  float64       \n",
      "dtypes: datetime64[ns](1), float64(1), object(3)\n",
      "memory usage: 287.4+ MB\n"
     ]
    }
   ],
   "source": [
    "data2.info()"
   ]
  },
  {
   "cell_type": "code",
   "execution_count": 27,
   "metadata": {},
   "outputs": [],
   "source": [
    "data2.sort_values(by=['IDCLIENT', 'TIC_DATE'], inplace=True)"
   ]
  },
  {
   "cell_type": "code",
   "execution_count": 30,
   "metadata": {},
   "outputs": [],
   "source": [
    "ANCIENNETE_CDE = data2.groupby('IDCLIENT')['TIC_DATE'].diff()"
   ]
  },
  {
   "cell_type": "code",
   "execution_count": 31,
   "metadata": {},
   "outputs": [
    {
     "name": "stdout",
     "output_type": "stream",
     "text": [
      "1030801       NaT\n",
      "1043255   13 days\n",
      "1009491    2 days\n",
      "992585    22 days\n",
      "1302906    6 days\n",
      "            ...  \n",
      "1684500       NaT\n",
      "1688571   12 days\n",
      "1650489   35 days\n",
      "1650614    0 days\n",
      "1653301   40 days\n",
      "Name: TIC_DATE, Length: 6278461, dtype: timedelta64[ns]\n"
     ]
    }
   ],
   "source": [
    "print(ANCIENNETE_CDE)"
   ]
  },
  {
   "cell_type": "markdown",
   "metadata": {},
   "source": [
    "Traitement des valeurs NaT"
   ]
  },
  {
   "cell_type": "markdown",
   "metadata": {},
   "source": [
    "data2['ANCIENNETE_CDE'] = data2['ANCIENNETE_CDE'].fillna(pd.Timestamp('today').normalize())\n",
    "data2 = data2.dropna(subset=['ANCIENNETE_CDE'])"
   ]
  },
  {
   "cell_type": "markdown",
   "metadata": {},
   "source": [
    "data2['ANCIENNETE_CDE']=data2[['ANCIENNETE_CDE']].applymap(lambda x: \"Inconnue\" if x=='NaT' else x)"
   ]
  }
 ],
 "metadata": {
  "kernelspec": {
   "display_name": "Python 3",
   "language": "python",
   "name": "python3"
  },
  "language_info": {
   "codemirror_mode": {
    "name": "ipython",
    "version": 3
   },
   "file_extension": ".py",
   "mimetype": "text/x-python",
   "name": "python",
   "nbconvert_exporter": "python",
   "pygments_lexer": "ipython3",
   "version": "3.11.5"
  }
 },
 "nbformat": 4,
 "nbformat_minor": 2
}
